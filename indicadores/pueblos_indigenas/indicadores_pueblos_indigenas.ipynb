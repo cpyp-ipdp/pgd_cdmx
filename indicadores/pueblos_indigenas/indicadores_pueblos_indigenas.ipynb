{
  "cells": [
    {
      "cell_type": "markdown",
      "metadata": {
        "colab_type": "text",
        "id": "view-in-github"
      },
      "source": [
        "<a href=\"https://colab.research.google.com/github/cpyp-ipdp/pgd_cdmx/blob/main/indicadores/pueblos_indigenas/indicadores_pueblos_indigenas.ipynb\" target=\"_parent\"><img src=\"https://colab.research.google.com/assets/colab-badge.svg\" alt=\"Open In Colab\"/></a>"
      ]
    },
    {
      "cell_type": "code",
      "execution_count": 2,
      "id": "initial_id",
      "metadata": {
        "ExecuteTime": {
          "end_time": "2025-02-19T20:16:48.221438Z",
          "start_time": "2025-02-19T20:16:46.918677Z"
        },
        "colab": {
          "base_uri": "https://localhost:8080/"
        },
        "collapsed": true,
        "id": "initial_id",
        "outputId": "5eab9763-7157-457c-f3a9-b5df52ac0721",
        "vscode": {
          "languageId": "r"
        }
      },
      "outputs": [
        {
          "name": "stderr",
          "output_type": "stream",
          "text": [
            "Loading required package: pacman\n",
            "\n",
            "Downloading GitHub repo cpyp-ipdp/funcionespgd@HEAD\n",
            "\n"
          ]
        },
        {
          "name": "stdout",
          "output_type": "stream",
          "text": [
            "\n",
            "\u001b[36m──\u001b[39m \u001b[36mR CMD build\u001b[39m \u001b[36m─────────────────────────────────────────────────────────────────\u001b[39m\n",
            "* checking for file ‘/tmp/RtmpBNU7NZ/remotes13d2e35df8f/cpyp-ipdp-funcionespgd-8b2a39e/DESCRIPTION’ ... OK\n",
            "* preparing ‘funcionespgd’:\n",
            "* checking DESCRIPTION meta-information ... OK\n",
            "* checking for LF line-endings in source and make files and shell scripts\n",
            "* checking for empty or unneeded directories\n",
            "Omitted ‘LazyData’ from DESCRIPTION\n",
            "* building ‘funcionespgd_0.1.0.tar.gz’\n",
            "\n"
          ]
        },
        {
          "name": "stderr",
          "output_type": "stream",
          "text": [
            "Installing package into ‘/usr/local/lib/R/site-library’\n",
            "(as ‘lib’ is unspecified)\n",
            "\n"
          ]
        }
      ],
      "source": [
        "##Estimación de indicadores de población indígena en la Ciudad de México\n",
        "#Se borra todo lo que se encuentra en el entorno\n",
        "\n",
        "rm(list=ls())\n",
        "\n",
        "# Librerías ====\n",
        "if(!require('pacman')) install.packages('pacman')\n",
        "pacman::p_load(tidyverse, showtext, srvyr, haven, googledrive)\n",
        "remotes::install_github(\"cpyp-ipdp/funcionespgd\", force = TRUE)\n",
        "library(funcionespgd)"
      ]
    },
    {
      "cell_type": "code",
      "execution_count": 3,
      "id": "lL1aCwgrgyDQ",
      "metadata": {
        "ExecuteTime": {
          "end_time": "2025-02-19T20:16:51.008572Z",
          "start_time": "2025-02-19T20:16:48.226809Z"
        },
        "id": "lL1aCwgrgyDQ",
        "vscode": {
          "languageId": "r"
        }
      },
      "outputs": [],
      "source": [
        "#Fuente para los gráficos\n",
        "font_add_google(\"Poppins\", \"pop\")\n",
        "showtext_auto()"
      ]
    },
    {
      "cell_type": "code",
      "execution_count": 4,
      "id": "2c1e57f58d2e1b46",
      "metadata": {
        "ExecuteTime": {
          "end_time": "2025-02-19T20:16:51.033871Z",
          "start_time": "2025-02-19T20:16:51.022367Z"
        },
        "id": "2c1e57f58d2e1b46",
        "vscode": {
          "languageId": "r"
        }
      },
      "outputs": [],
      "source": [
        "#Crear directorio para guardar los archivos\n",
        "dir.create(\"data\", showWarnings = FALSE)"
      ]
    },
    {
      "cell_type": "code",
      "execution_count": 5,
      "id": "99a663be0841e1d",
      "metadata": {
        "ExecuteTime": {
          "end_time": "2025-02-19T20:16:51.061218Z",
          "start_time": "2025-02-19T20:16:51.047314Z"
        },
        "id": "99a663be0841e1d",
        "vscode": {
          "languageId": "r"
        }
      },
      "outputs": [],
      "source": [
        "url_basica<-\"https://www.inegi.org.mx/contenidos/programas/enigh/nc/\"\n",
        "segunda_parte<-\"microdatos/enigh\"\n",
        "fin1<-\"_ns_\"\n",
        "fin2<-\"_csv.zip\""
      ]
    },
    {
      "cell_type": "code",
      "execution_count": 6,
      "id": "321dc0cb33aa35e0",
      "metadata": {
        "ExecuteTime": {
          "end_time": "2025-02-19T20:16:51.087090Z",
          "start_time": "2025-02-19T20:16:51.077361Z"
        },
        "id": "321dc0cb33aa35e0",
        "vscode": {
          "languageId": "r"
        }
      },
      "outputs": [],
      "source": [
        "years<-c(\"2016\", \"2018\", \"2020\", \"2022\")"
      ]
    },
    {
      "cell_type": "code",
      "execution_count": 7,
      "id": "963b6b0b33057fa9",
      "metadata": {
        "ExecuteTime": {
          "end_time": "2025-02-19T20:16:51.115592Z",
          "start_time": "2025-02-19T20:16:51.101573Z"
        },
        "id": "963b6b0b33057fa9",
        "vscode": {
          "languageId": "r"
        }
      },
      "outputs": [],
      "source": [
        "# Función genérica para descargar, descomprimir, renombrar y eliminar\n",
        "procesar_archivo <- function(year, tipo, url_base, segunda_parte, fin1, fin2, carpeta_destino) {\n",
        "  # Construir URL y ruta de destino\n",
        "  url <- paste0(url_base, year, \"/\", segunda_parte, year, fin1, tipo, fin2)\n",
        "  destfile <- paste0(carpeta_destino, \"/\", year, fin1, tipo, fin2)\n",
        "\n",
        "  # Descargar el archivo\n",
        "  download.file(url, destfile = destfile)\n",
        "\n",
        "  # Descomprimir el archivo\n",
        "  unzip(destfile, exdir = carpeta_destino)\n",
        "\n",
        "  # Renombrar el archivo descomprimido\n",
        "  file.rename(\n",
        "    from = paste0(carpeta_destino, \"/\", tipo, \".csv\"),\n",
        "    to = paste0(carpeta_destino, \"/\", tipo, \"_\", year, \".csv\")\n",
        "  )\n",
        "\n",
        "  # Eliminar el archivo descargado\n",
        "  file.remove(destfile)\n",
        "}"
      ]
    },
    {
      "cell_type": "code",
      "execution_count": 8,
      "id": "476ea29fda94ff90",
      "metadata": {
        "ExecuteTime": {
          "end_time": "2025-02-19T20:21:04.832659Z",
          "start_time": "2025-02-19T20:16:51.129730Z"
        },
        "id": "476ea29fda94ff90",
        "vscode": {
          "languageId": "r"
        }
      },
      "outputs": [],
      "source": [
        "# Iterar sobre los años y procesar cada tipo de archivo\n",
        "\n",
        "for (i in 1:length(years)) {\n",
        "  procesar_archivo(years[i], \"poblacion\", url_basica, segunda_parte, fin1, fin2, \"data\")\n",
        "  procesar_archivo(years[i], \"viviendas\", url_basica, segunda_parte, fin1, fin2, \"data\")\n",
        "  procesar_archivo(years[i], \"trabajos\", url_basica, segunda_parte, fin1, fin2, \"data\")\n",
        "}"
      ]
    },
    {
      "cell_type": "markdown",
      "id": "7c484c24f002a9ee",
      "metadata": {
        "id": "7c484c24f002a9ee"
      },
      "source": [
        "### Función de estimación"
      ]
    },
    {
      "cell_type": "code",
      "execution_count": 9,
      "id": "503e9ffc1c7a1475",
      "metadata": {
        "ExecuteTime": {
          "end_time": "2025-02-19T20:21:04.872090Z",
          "start_time": "2025-02-19T20:21:04.858628Z"
        },
        "id": "503e9ffc1c7a1475",
        "vscode": {
          "languageId": "r"
        }
      },
      "outputs": [],
      "source": [
        "estimacion <- function(path, variable) {\n",
        "  # Cargar los datos de población\n",
        "  datos <- read_csv(path, show_col_types = FALSE)\n",
        "\n",
        "  # Si son datos de 2016 a 2020, unir con la tabla de viviendas\n",
        "  if (substr(path, 16, 19) %in% c(\"2016\", \"2018\", \"2020\")) {\n",
        "    # Cargar tabla viviendas\n",
        "    vivienda <- read_csv(str_replace(path, \"poblacion\", \"viviendas\"), show_col_types = FALSE)\n",
        "\n",
        "    # Pegar factor, upm y est_dis de la tabla vivienda\n",
        "    datos <- datos %>%\n",
        "      left_join(vivienda %>% select(folioviv, factor, upm, est_dis), by = \"folioviv\")\n",
        "  }\n",
        "\n",
        "  # Unir con la tabla trabajos si es \"ocupacion\" o si la persona debe ser identificada como indígena\n",
        "  if (variable %in% c(\"ocupacion\", \"ocupacion_mujer\")) {\n",
        "    # Cargar tabla trabajos\n",
        "    trabajos <- read_csv(str_replace(path, \"poblacion\", \"trabajos\"), show_col_types = FALSE)\n",
        "\n",
        "    # Pegar datos relevantes de la tabla trabajos\n",
        "    datos <- datos %>%\n",
        "      left_join(trabajos %>% select(folioviv, foliohog, numren, id_trabajo, trapais),\n",
        "                by = c(\"folioviv\", \"foliohog\", \"numren\"))\n",
        "  }\n",
        "\n",
        "  # Crear variable cve_ent\n",
        "  datos <- datos %>%\n",
        "    mutate(cve_ent = case_when(\n",
        "      nchar(folioviv) == 9  ~ paste0(\"0\", substr(folioviv, 1, 1)),\n",
        "      nchar(folioviv) == 10 ~ substr(folioviv, 1, 2)\n",
        "    )) %>%\n",
        "    # Filtrar si entidad es CDMX (09)\n",
        "    filter(cve_ent == \"09\")\n",
        "\n",
        "  # Definir diseño muestral\n",
        "  mydesign <- datos %>%\n",
        "    as_survey_design(ids = upm,\n",
        "                     strata = est_dis,\n",
        "                     weights = factor)\n",
        "\n",
        "  # Estimar población hablante indígena en CDMX\n",
        "  if (variable == \"hablante\") {\n",
        "    hablante <- mydesign %>%\n",
        "      group_by(hablaind) %>%\n",
        "      summarise(\n",
        "        poblacion = survey_total(vartype = \"cv\"),\n",
        "        porcentaje = survey_prop(vartype = \"cv\")\n",
        "      ) %>%\n",
        "      mutate(porcentaje = round(porcentaje * 100, 2)) %>%\n",
        "      # Añadir año\n",
        "      mutate(year = substr(path, 16, 19)) %>%\n",
        "      filter(hablaind == 1)\n",
        "\n",
        "    return(hablante)\n",
        "  }\n",
        "\n",
        "    # Estimar población hablante indígena en CDMX\n",
        "  if (variable == \"indigena\") {\n",
        "    indigena <- mydesign %>%\n",
        "      group_by(etnia) %>%\n",
        "      summarise(\n",
        "        poblacion = survey_total(vartype = \"cv\"),\n",
        "        porcentaje = survey_prop(vartype = \"cv\")\n",
        "      ) %>%\n",
        "      mutate(porcentaje = round(porcentaje * 100, 2)) %>%\n",
        "      # Añadir año\n",
        "      mutate(year = substr(path, 16, 19)) %>%\n",
        "      filter(etnia == 1)\n",
        "\n",
        "    return(indigena)\n",
        "  }\n",
        "\n",
        "\n",
        "  # Estimar población ocupada, considerando si la persona es indígena\n",
        "  if (variable == \"ocupacion\") {\n",
        "    ocupacion <- mydesign %>%\n",
        "      group_by(trapais,etnia) %>%\n",
        "      summarise(\n",
        "        ocupados = survey_total(vartype = \"cv\"),\n",
        "        porcentaje = survey_prop(vartype = \"cv\")\n",
        "      ) %>%\n",
        "      mutate(porcentaje = round(porcentaje * 100, 2)) %>%\n",
        "      # Añadir año\n",
        "      mutate(year = substr(path, 16, 19)) %>%\n",
        "      filter(trapais == 1)%>%\n",
        "filter(etnia == 1)\n",
        "    return(ocupacion)\n",
        "  }\n",
        "\n",
        "\n",
        "\n",
        "  # Estimar población ocupada, considerando si la persona es indígena\n",
        "  if (variable == \"ocupacion_mujer\") {\n",
        "    ocupacion_muj <- mydesign %>%\n",
        "      filter(trapais==1)%>%\n",
        "      group_by(etnia,sexo) %>%\n",
        "      summarise(\n",
        "        ocupados = survey_total(vartype = \"cv\"),\n",
        "        porcentaje = survey_prop(vartype = \"cv\")\n",
        "      ) %>%\n",
        "      mutate(porcentaje = round(porcentaje * 100, 2)) %>%\n",
        "      # Añadir año\n",
        "      mutate(year = substr(path, 16, 19)) %>%\n",
        "        #Filtro población indígena\n",
        "filter(etnia == 1) %>%\n",
        "  #Filtro mujer\n",
        "filter(sexo==2)\n",
        "    return(ocupacion_muj)\n",
        "  }\n",
        "\n",
        "\n",
        "\n",
        "\n",
        "\n",
        "  # Estimar población analfabeta\n",
        "  if (variable == \"analfabetismo\") {\n",
        "    analfa <- mydesign %>%\n",
        "      group_by(etnia,alfabetism) %>%\n",
        "      summarise(\n",
        "        analfabetas = survey_total(vartype = \"cv\"),\n",
        "        porcentaje = survey_prop(vartype = \"cv\")\n",
        "      ) %>%\n",
        "      mutate(porcentaje = round(porcentaje * 100, 2)) %>%\n",
        "      # Añadir año\n",
        "      mutate(year = substr(path, 16, 19)) %>%\n",
        "filter(etnia == 1)%>%\n",
        "filter(alfabetism == 2)\n",
        "    return(analfa)\n",
        "  }\n",
        "\n",
        "}\n"
      ]
    },
    {
      "cell_type": "markdown",
      "id": "c8d3ddfd2b1149a0",
      "metadata": {
        "id": "c8d3ddfd2b1149a0"
      },
      "source": [
        "#### Población hablante indígena en CDMX"
      ]
    },
    {
      "cell_type": "code",
      "execution_count": 10,
      "id": "1e7e54449a787b80",
      "metadata": {
        "ExecuteTime": {
          "end_time": "2025-02-19T20:21:20.452382Z",
          "start_time": "2025-02-19T20:21:04.882230Z"
        },
        "colab": {
          "base_uri": "https://localhost:8080/",
          "height": 848
        },
        "id": "1e7e54449a787b80",
        "outputId": "fc5b50fe-0c81-47c5-c210-e22ee7c46592",
        "vscode": {
          "languageId": "r"
        }
      },
      "outputs": [
        {
          "name": "stderr",
          "output_type": "stream",
          "text": [
            "Warning message:\n",
            "“\u001b[1m\u001b[22mOne or more parsing issues, call `problems()` on your data frame for details,\n",
            "e.g.:\n",
            "  dat <- vroom(...)\n",
            "  problems(dat)”\n",
            "Warning message:\n",
            "“\u001b[1m\u001b[22mOne or more parsing issues, call `problems()` on your data frame for details,\n",
            "e.g.:\n",
            "  dat <- vroom(...)\n",
            "  problems(dat)”\n",
            "Warning message:\n",
            "“\u001b[1m\u001b[22mOne or more parsing issues, call `problems()` on your data frame for details,\n",
            "e.g.:\n",
            "  dat <- vroom(...)\n",
            "  problems(dat)”\n",
            "Warning message:\n",
            "“\u001b[1m\u001b[22mOne or more parsing issues, call `problems()` on your data frame for details,\n",
            "e.g.:\n",
            "  dat <- vroom(...)\n",
            "  problems(dat)”\n",
            "Warning message:\n",
            "“\u001b[1m\u001b[22mOne or more parsing issues, call `problems()` on your data frame for details,\n",
            "e.g.:\n",
            "  dat <- vroom(...)\n",
            "  problems(dat)”\n",
            "Warning message:\n",
            "“\u001b[1m\u001b[22mOne or more parsing issues, call `problems()` on your data frame for details,\n",
            "e.g.:\n",
            "  dat <- vroom(...)\n",
            "  problems(dat)”\n",
            "Warning message:\n",
            "“\u001b[1m\u001b[22mOne or more parsing issues, call `problems()` on your data frame for details,\n",
            "e.g.:\n",
            "  dat <- vroom(...)\n",
            "  problems(dat)”\n"
          ]
        },
        {
          "name": "stdout",
          "output_type": "stream",
          "text": [
            "[1] \"Población hablante de lengua indígena en la CDMX\"\n"
          ]
        },
        {
          "data": {
            "text/html": [
              "<table class=\"dataframe\">\n",
              "<caption>A tibble: 4 × 6</caption>\n",
              "<thead>\n",
              "\t<tr><th scope=col>hablaind</th><th scope=col>poblacion</th><th scope=col>poblacion_cv</th><th scope=col>porcentaje</th><th scope=col>porcentaje_cv</th><th scope=col>year</th></tr>\n",
              "\t<tr><th scope=col>&lt;dbl&gt;</th><th scope=col>&lt;dbl&gt;</th><th scope=col>&lt;dbl&gt;</th><th scope=col>&lt;dbl&gt;</th><th scope=col>&lt;dbl&gt;</th><th scope=col>&lt;chr&gt;</th></tr>\n",
              "</thead>\n",
              "<tbody>\n",
              "\t<tr><td>1</td><td>129097</td><td>0.1508605</td><td>1.41</td><td>0.1505873</td><td>2016</td></tr>\n",
              "\t<tr><td>1</td><td>127656</td><td>0.2158292</td><td>1.38</td><td>0.2139413</td><td>2018</td></tr>\n",
              "\t<tr><td>1</td><td>154656</td><td>0.1536397</td><td>1.67</td><td>0.1530732</td><td>2020</td></tr>\n",
              "\t<tr><td>1</td><td>134098</td><td>0.1518493</td><td>1.43</td><td>0.1521503</td><td>2022</td></tr>\n",
              "</tbody>\n",
              "</table>\n"
            ],
            "text/latex": [
              "A tibble: 4 × 6\n",
              "\\begin{tabular}{llllll}\n",
              " hablaind & poblacion & poblacion\\_cv & porcentaje & porcentaje\\_cv & year\\\\\n",
              " <dbl> & <dbl> & <dbl> & <dbl> & <dbl> & <chr>\\\\\n",
              "\\hline\n",
              "\t 1 & 129097 & 0.1508605 & 1.41 & 0.1505873 & 2016\\\\\n",
              "\t 1 & 127656 & 0.2158292 & 1.38 & 0.2139413 & 2018\\\\\n",
              "\t 1 & 154656 & 0.1536397 & 1.67 & 0.1530732 & 2020\\\\\n",
              "\t 1 & 134098 & 0.1518493 & 1.43 & 0.1521503 & 2022\\\\\n",
              "\\end{tabular}\n"
            ],
            "text/markdown": [
              "\n",
              "A tibble: 4 × 6\n",
              "\n",
              "| hablaind &lt;dbl&gt; | poblacion &lt;dbl&gt; | poblacion_cv &lt;dbl&gt; | porcentaje &lt;dbl&gt; | porcentaje_cv &lt;dbl&gt; | year &lt;chr&gt; |\n",
              "|---|---|---|---|---|---|\n",
              "| 1 | 129097 | 0.1508605 | 1.41 | 0.1505873 | 2016 |\n",
              "| 1 | 127656 | 0.2158292 | 1.38 | 0.2139413 | 2018 |\n",
              "| 1 | 154656 | 0.1536397 | 1.67 | 0.1530732 | 2020 |\n",
              "| 1 | 134098 | 0.1518493 | 1.43 | 0.1521503 | 2022 |\n",
              "\n"
            ],
            "text/plain": [
              "  hablaind poblacion poblacion_cv porcentaje porcentaje_cv year\n",
              "1 1        129097    0.1508605    1.41       0.1505873     2016\n",
              "2 1        127656    0.2158292    1.38       0.2139413     2018\n",
              "3 1        154656    0.1536397    1.67       0.1530732     2020\n",
              "4 1        134098    0.1518493    1.43       0.1521503     2022"
            ]
          },
          "metadata": {},
          "output_type": "display_data"
        }
      ],
      "source": [
        "tabla_hablante<-map_dfr(\n",
        "  list.files(\"data\", full.names = TRUE, pattern = \"poblacion_.*.csv\"),\n",
        "  estimacion,\n",
        "  variable = \"hablante\"\n",
        ")\n",
        "print(\"Población hablante de lengua indígena en la CDMX\")\n",
        "tabla_hablante"
      ]
    },
    {
      "cell_type": "markdown",
      "id": "88b5d6243106f43",
      "metadata": {
        "id": "88b5d6243106f43"
      },
      "source": [
        "#### Población autodescripción indígena en CDMX"
      ]
    },
    {
      "cell_type": "code",
      "execution_count": 11,
      "id": "42a59aa815f44e75",
      "metadata": {
        "ExecuteTime": {
          "end_time": "2025-02-19T20:21:32.303354Z",
          "start_time": "2025-02-19T20:21:20.486187Z"
        },
        "colab": {
          "base_uri": "https://localhost:8080/",
          "height": 848
        },
        "id": "42a59aa815f44e75",
        "outputId": "f92a928d-766b-4356-ecfd-f119e0505ae5",
        "vscode": {
          "languageId": "r"
        }
      },
      "outputs": [
        {
          "name": "stderr",
          "output_type": "stream",
          "text": [
            "Warning message:\n",
            "“\u001b[1m\u001b[22mOne or more parsing issues, call `problems()` on your data frame for details,\n",
            "e.g.:\n",
            "  dat <- vroom(...)\n",
            "  problems(dat)”\n",
            "Warning message:\n",
            "“\u001b[1m\u001b[22mOne or more parsing issues, call `problems()` on your data frame for details,\n",
            "e.g.:\n",
            "  dat <- vroom(...)\n",
            "  problems(dat)”\n",
            "Warning message:\n",
            "“\u001b[1m\u001b[22mOne or more parsing issues, call `problems()` on your data frame for details,\n",
            "e.g.:\n",
            "  dat <- vroom(...)\n",
            "  problems(dat)”\n",
            "Warning message:\n",
            "“\u001b[1m\u001b[22mOne or more parsing issues, call `problems()` on your data frame for details,\n",
            "e.g.:\n",
            "  dat <- vroom(...)\n",
            "  problems(dat)”\n",
            "Warning message:\n",
            "“\u001b[1m\u001b[22mOne or more parsing issues, call `problems()` on your data frame for details,\n",
            "e.g.:\n",
            "  dat <- vroom(...)\n",
            "  problems(dat)”\n",
            "Warning message:\n",
            "“\u001b[1m\u001b[22mOne or more parsing issues, call `problems()` on your data frame for details,\n",
            "e.g.:\n",
            "  dat <- vroom(...)\n",
            "  problems(dat)”\n",
            "Warning message:\n",
            "“\u001b[1m\u001b[22mOne or more parsing issues, call `problems()` on your data frame for details,\n",
            "e.g.:\n",
            "  dat <- vroom(...)\n",
            "  problems(dat)”\n"
          ]
        },
        {
          "name": "stdout",
          "output_type": "stream",
          "text": [
            "[1] \"Porcentaje de población que se autodescribe como indígena en la CDMX\"\n"
          ]
        },
        {
          "data": {
            "text/html": [
              "<table class=\"dataframe\">\n",
              "<caption>A tibble: 4 × 6</caption>\n",
              "<thead>\n",
              "\t<tr><th scope=col>etnia</th><th scope=col>poblacion</th><th scope=col>poblacion_cv</th><th scope=col>porcentaje</th><th scope=col>porcentaje_cv</th><th scope=col>year</th></tr>\n",
              "\t<tr><th scope=col>&lt;dbl&gt;</th><th scope=col>&lt;dbl&gt;</th><th scope=col>&lt;dbl&gt;</th><th scope=col>&lt;dbl&gt;</th><th scope=col>&lt;dbl&gt;</th><th scope=col>&lt;chr&gt;</th></tr>\n",
              "</thead>\n",
              "<tbody>\n",
              "\t<tr><td>1</td><td>1250855</td><td>0.08416010</td><td>13.65</td><td>0.08129632</td><td>2016</td></tr>\n",
              "\t<tr><td>1</td><td>1368626</td><td>0.08241738</td><td>14.85</td><td>0.07840943</td><td>2018</td></tr>\n",
              "\t<tr><td>1</td><td>1392732</td><td>0.06554796</td><td>15.04</td><td>0.06381047</td><td>2020</td></tr>\n",
              "\t<tr><td>1</td><td>1103900</td><td>0.07699844</td><td>11.81</td><td>0.07609140</td><td>2022</td></tr>\n",
              "</tbody>\n",
              "</table>\n"
            ],
            "text/latex": [
              "A tibble: 4 × 6\n",
              "\\begin{tabular}{llllll}\n",
              " etnia & poblacion & poblacion\\_cv & porcentaje & porcentaje\\_cv & year\\\\\n",
              " <dbl> & <dbl> & <dbl> & <dbl> & <dbl> & <chr>\\\\\n",
              "\\hline\n",
              "\t 1 & 1250855 & 0.08416010 & 13.65 & 0.08129632 & 2016\\\\\n",
              "\t 1 & 1368626 & 0.08241738 & 14.85 & 0.07840943 & 2018\\\\\n",
              "\t 1 & 1392732 & 0.06554796 & 15.04 & 0.06381047 & 2020\\\\\n",
              "\t 1 & 1103900 & 0.07699844 & 11.81 & 0.07609140 & 2022\\\\\n",
              "\\end{tabular}\n"
            ],
            "text/markdown": [
              "\n",
              "A tibble: 4 × 6\n",
              "\n",
              "| etnia &lt;dbl&gt; | poblacion &lt;dbl&gt; | poblacion_cv &lt;dbl&gt; | porcentaje &lt;dbl&gt; | porcentaje_cv &lt;dbl&gt; | year &lt;chr&gt; |\n",
              "|---|---|---|---|---|---|\n",
              "| 1 | 1250855 | 0.08416010 | 13.65 | 0.08129632 | 2016 |\n",
              "| 1 | 1368626 | 0.08241738 | 14.85 | 0.07840943 | 2018 |\n",
              "| 1 | 1392732 | 0.06554796 | 15.04 | 0.06381047 | 2020 |\n",
              "| 1 | 1103900 | 0.07699844 | 11.81 | 0.07609140 | 2022 |\n",
              "\n"
            ],
            "text/plain": [
              "  etnia poblacion poblacion_cv porcentaje porcentaje_cv year\n",
              "1 1     1250855   0.08416010   13.65      0.08129632    2016\n",
              "2 1     1368626   0.08241738   14.85      0.07840943    2018\n",
              "3 1     1392732   0.06554796   15.04      0.06381047    2020\n",
              "4 1     1103900   0.07699844   11.81      0.07609140    2022"
            ]
          },
          "metadata": {},
          "output_type": "display_data"
        }
      ],
      "source": [
        "tabla_indigena<-map_dfr(\n",
        "  list.files(\"data\", full.names = TRUE, pattern = \"poblacion_.*.csv\"),\n",
        "  estimacion,\n",
        "  variable = \"indigena\"\n",
        ")\n",
        "print(\"Porcentaje de población que se autodescribe como indígena en la CDMX\")\n",
        "tabla_indigena"
      ]
    },
    {
      "cell_type": "markdown",
      "id": "e18cb4236c1ac276",
      "metadata": {
        "id": "e18cb4236c1ac276"
      },
      "source": [
        "#### Población ocupada indígena en CDMX"
      ]
    },
    {
      "cell_type": "code",
      "execution_count": 12,
      "id": "a3799d1b1ba09b09",
      "metadata": {
        "ExecuteTime": {
          "end_time": "2025-02-19T20:21:48.222210Z",
          "start_time": "2025-02-19T20:21:32.325033Z"
        },
        "colab": {
          "base_uri": "https://localhost:8080/",
          "height": 1000
        },
        "id": "a3799d1b1ba09b09",
        "outputId": "3bc42f91-357a-4bc4-f9bb-79d2d974944d",
        "vscode": {
          "languageId": "r"
        }
      },
      "outputs": [
        {
          "name": "stderr",
          "output_type": "stream",
          "text": [
            "Warning message:\n",
            "“\u001b[1m\u001b[22mOne or more parsing issues, call `problems()` on your data frame for details,\n",
            "e.g.:\n",
            "  dat <- vroom(...)\n",
            "  problems(dat)”\n",
            "Warning message:\n",
            "“\u001b[1m\u001b[22mOne or more parsing issues, call `problems()` on your data frame for details,\n",
            "e.g.:\n",
            "  dat <- vroom(...)\n",
            "  problems(dat)”\n",
            "Warning message:\n",
            "“\u001b[1m\u001b[22mOne or more parsing issues, call `problems()` on your data frame for details,\n",
            "e.g.:\n",
            "  dat <- vroom(...)\n",
            "  problems(dat)”\n",
            "Warning message:\n",
            "“\u001b[1m\u001b[22mOne or more parsing issues, call `problems()` on your data frame for details,\n",
            "e.g.:\n",
            "  dat <- vroom(...)\n",
            "  problems(dat)”\n",
            "Warning message:\n",
            "“\u001b[1m\u001b[22mOne or more parsing issues, call `problems()` on your data frame for details,\n",
            "e.g.:\n",
            "  dat <- vroom(...)\n",
            "  problems(dat)”\n",
            "Warning message:\n",
            "“\u001b[1m\u001b[22mOne or more parsing issues, call `problems()` on your data frame for details,\n",
            "e.g.:\n",
            "  dat <- vroom(...)\n",
            "  problems(dat)”\n",
            "Warning message:\n",
            "“\u001b[1m\u001b[22mOne or more parsing issues, call `problems()` on your data frame for details,\n",
            "e.g.:\n",
            "  dat <- vroom(...)\n",
            "  problems(dat)”\n",
            "Warning message:\n",
            "“\u001b[1m\u001b[22mOne or more parsing issues, call `problems()` on your data frame for details,\n",
            "e.g.:\n",
            "  dat <- vroom(...)\n",
            "  problems(dat)”\n",
            "Warning message:\n",
            "“\u001b[1m\u001b[22mOne or more parsing issues, call `problems()` on your data frame for details,\n",
            "e.g.:\n",
            "  dat <- vroom(...)\n",
            "  problems(dat)”\n",
            "Warning message:\n",
            "“\u001b[1m\u001b[22mOne or more parsing issues, call `problems()` on your data frame for details,\n",
            "e.g.:\n",
            "  dat <- vroom(...)\n",
            "  problems(dat)”\n",
            "Warning message:\n",
            "“\u001b[1m\u001b[22mOne or more parsing issues, call `problems()` on your data frame for details,\n",
            "e.g.:\n",
            "  dat <- vroom(...)\n",
            "  problems(dat)”\n"
          ]
        },
        {
          "name": "stdout",
          "output_type": "stream",
          "text": [
            "[1] \"Población que se autodescribe como indígena y que se encuentra ocupada en la CDMX\"\n"
          ]
        },
        {
          "data": {
            "text/html": [
              "<table class=\"dataframe\">\n",
              "<caption>A grouped_df: 4 × 7</caption>\n",
              "<thead>\n",
              "\t<tr><th scope=col>trapais</th><th scope=col>etnia</th><th scope=col>ocupados</th><th scope=col>ocupados_cv</th><th scope=col>porcentaje</th><th scope=col>porcentaje_cv</th><th scope=col>year</th></tr>\n",
              "\t<tr><th scope=col>&lt;dbl&gt;</th><th scope=col>&lt;dbl&gt;</th><th scope=col>&lt;dbl&gt;</th><th scope=col>&lt;dbl&gt;</th><th scope=col>&lt;dbl&gt;</th><th scope=col>&lt;dbl&gt;</th><th scope=col>&lt;chr&gt;</th></tr>\n",
              "</thead>\n",
              "<tbody>\n",
              "\t<tr><td>1</td><td>1</td><td>701096</td><td>0.08687768</td><td>15.24</td><td>0.08163274</td><td>2016</td></tr>\n",
              "\t<tr><td>1</td><td>1</td><td>716466</td><td>0.08822712</td><td>15.83</td><td>0.08266348</td><td>2018</td></tr>\n",
              "\t<tr><td>1</td><td>1</td><td>684724</td><td>0.06773705</td><td>16.27</td><td>0.06419507</td><td>2020</td></tr>\n",
              "\t<tr><td>1</td><td>1</td><td>550736</td><td>0.08300888</td><td>11.86</td><td>0.08205935</td><td>2022</td></tr>\n",
              "</tbody>\n",
              "</table>\n"
            ],
            "text/latex": [
              "A grouped\\_df: 4 × 7\n",
              "\\begin{tabular}{lllllll}\n",
              " trapais & etnia & ocupados & ocupados\\_cv & porcentaje & porcentaje\\_cv & year\\\\\n",
              " <dbl> & <dbl> & <dbl> & <dbl> & <dbl> & <dbl> & <chr>\\\\\n",
              "\\hline\n",
              "\t 1 & 1 & 701096 & 0.08687768 & 15.24 & 0.08163274 & 2016\\\\\n",
              "\t 1 & 1 & 716466 & 0.08822712 & 15.83 & 0.08266348 & 2018\\\\\n",
              "\t 1 & 1 & 684724 & 0.06773705 & 16.27 & 0.06419507 & 2020\\\\\n",
              "\t 1 & 1 & 550736 & 0.08300888 & 11.86 & 0.08205935 & 2022\\\\\n",
              "\\end{tabular}\n"
            ],
            "text/markdown": [
              "\n",
              "A grouped_df: 4 × 7\n",
              "\n",
              "| trapais &lt;dbl&gt; | etnia &lt;dbl&gt; | ocupados &lt;dbl&gt; | ocupados_cv &lt;dbl&gt; | porcentaje &lt;dbl&gt; | porcentaje_cv &lt;dbl&gt; | year &lt;chr&gt; |\n",
              "|---|---|---|---|---|---|---|\n",
              "| 1 | 1 | 701096 | 0.08687768 | 15.24 | 0.08163274 | 2016 |\n",
              "| 1 | 1 | 716466 | 0.08822712 | 15.83 | 0.08266348 | 2018 |\n",
              "| 1 | 1 | 684724 | 0.06773705 | 16.27 | 0.06419507 | 2020 |\n",
              "| 1 | 1 | 550736 | 0.08300888 | 11.86 | 0.08205935 | 2022 |\n",
              "\n"
            ],
            "text/plain": [
              "  trapais etnia ocupados ocupados_cv porcentaje porcentaje_cv year\n",
              "1 1       1     701096   0.08687768  15.24      0.08163274    2016\n",
              "2 1       1     716466   0.08822712  15.83      0.08266348    2018\n",
              "3 1       1     684724   0.06773705  16.27      0.06419507    2020\n",
              "4 1       1     550736   0.08300888  11.86      0.08205935    2022"
            ]
          },
          "metadata": {},
          "output_type": "display_data"
        }
      ],
      "source": [
        "tabla_ocupacion<-map_dfr(\n",
        "  list.files(\"data\", full.names = TRUE, pattern = \"poblacion_.*.csv\"),\n",
        "  estimacion,\n",
        "  variable = \"ocupacion\"\n",
        ")\n",
        "print(\"Población que se autodescribe como indígena y que se encuentra ocupada en la CDMX\")\n",
        "tabla_ocupacion"
      ]
    },
    {
      "cell_type": "markdown",
      "id": "imG56Nfj6kg5",
      "metadata": {
        "id": "imG56Nfj6kg5"
      },
      "source": [
        "####   Población ocupada indígena mujer en CDMX"
      ]
    },
    {
      "cell_type": "code",
      "execution_count": 13,
      "id": "6OX_cKIc6pIj",
      "metadata": {
        "ExecuteTime": {
          "end_time": "2025-02-19T20:22:04.302118Z",
          "start_time": "2025-02-19T20:21:48.247873Z"
        },
        "colab": {
          "base_uri": "https://localhost:8080/",
          "height": 1000
        },
        "id": "6OX_cKIc6pIj",
        "outputId": "3757a57b-2619-4b3b-d317-a937018d8808",
        "vscode": {
          "languageId": "r"
        }
      },
      "outputs": [
        {
          "name": "stderr",
          "output_type": "stream",
          "text": [
            "Warning message:\n",
            "“\u001b[1m\u001b[22mOne or more parsing issues, call `problems()` on your data frame for details,\n",
            "e.g.:\n",
            "  dat <- vroom(...)\n",
            "  problems(dat)”\n",
            "Warning message:\n",
            "“\u001b[1m\u001b[22mOne or more parsing issues, call `problems()` on your data frame for details,\n",
            "e.g.:\n",
            "  dat <- vroom(...)\n",
            "  problems(dat)”\n",
            "Warning message:\n",
            "“\u001b[1m\u001b[22mOne or more parsing issues, call `problems()` on your data frame for details,\n",
            "e.g.:\n",
            "  dat <- vroom(...)\n",
            "  problems(dat)”\n",
            "Warning message:\n",
            "“\u001b[1m\u001b[22mOne or more parsing issues, call `problems()` on your data frame for details,\n",
            "e.g.:\n",
            "  dat <- vroom(...)\n",
            "  problems(dat)”\n",
            "Warning message:\n",
            "“\u001b[1m\u001b[22mOne or more parsing issues, call `problems()` on your data frame for details,\n",
            "e.g.:\n",
            "  dat <- vroom(...)\n",
            "  problems(dat)”\n",
            "Warning message:\n",
            "“\u001b[1m\u001b[22mOne or more parsing issues, call `problems()` on your data frame for details,\n",
            "e.g.:\n",
            "  dat <- vroom(...)\n",
            "  problems(dat)”\n",
            "Warning message:\n",
            "“\u001b[1m\u001b[22mOne or more parsing issues, call `problems()` on your data frame for details,\n",
            "e.g.:\n",
            "  dat <- vroom(...)\n",
            "  problems(dat)”\n",
            "Warning message:\n",
            "“\u001b[1m\u001b[22mOne or more parsing issues, call `problems()` on your data frame for details,\n",
            "e.g.:\n",
            "  dat <- vroom(...)\n",
            "  problems(dat)”\n",
            "Warning message:\n",
            "“\u001b[1m\u001b[22mOne or more parsing issues, call `problems()` on your data frame for details,\n",
            "e.g.:\n",
            "  dat <- vroom(...)\n",
            "  problems(dat)”\n",
            "Warning message:\n",
            "“\u001b[1m\u001b[22mOne or more parsing issues, call `problems()` on your data frame for details,\n",
            "e.g.:\n",
            "  dat <- vroom(...)\n",
            "  problems(dat)”\n",
            "Warning message:\n",
            "“\u001b[1m\u001b[22mOne or more parsing issues, call `problems()` on your data frame for details,\n",
            "e.g.:\n",
            "  dat <- vroom(...)\n",
            "  problems(dat)”\n"
          ]
        },
        {
          "name": "stdout",
          "output_type": "stream",
          "text": [
            "[1] \"Población que se autodescribe como indígena que es mujer y que se encuentra ocupada en la CDMX\"\n"
          ]
        },
        {
          "data": {
            "text/html": [
              "<table class=\"dataframe\">\n",
              "<caption>A grouped_df: 4 × 7</caption>\n",
              "<thead>\n",
              "\t<tr><th scope=col>etnia</th><th scope=col>sexo</th><th scope=col>ocupados</th><th scope=col>ocupados_cv</th><th scope=col>porcentaje</th><th scope=col>porcentaje_cv</th><th scope=col>year</th></tr>\n",
              "\t<tr><th scope=col>&lt;dbl&gt;</th><th scope=col>&lt;dbl&gt;</th><th scope=col>&lt;dbl&gt;</th><th scope=col>&lt;dbl&gt;</th><th scope=col>&lt;dbl&gt;</th><th scope=col>&lt;dbl&gt;</th><th scope=col>&lt;chr&gt;</th></tr>\n",
              "</thead>\n",
              "<tbody>\n",
              "\t<tr><td>1</td><td>2</td><td>308308</td><td>0.10074117</td><td>43.98</td><td>0.04794138</td><td>2016</td></tr>\n",
              "\t<tr><td>1</td><td>2</td><td>321598</td><td>0.10590241</td><td>44.89</td><td>0.04630140</td><td>2018</td></tr>\n",
              "\t<tr><td>1</td><td>2</td><td>311122</td><td>0.07667507</td><td>45.44</td><td>0.04340553</td><td>2020</td></tr>\n",
              "\t<tr><td>1</td><td>2</td><td>229755</td><td>0.09928867</td><td>41.72</td><td>0.05397506</td><td>2022</td></tr>\n",
              "</tbody>\n",
              "</table>\n"
            ],
            "text/latex": [
              "A grouped\\_df: 4 × 7\n",
              "\\begin{tabular}{lllllll}\n",
              " etnia & sexo & ocupados & ocupados\\_cv & porcentaje & porcentaje\\_cv & year\\\\\n",
              " <dbl> & <dbl> & <dbl> & <dbl> & <dbl> & <dbl> & <chr>\\\\\n",
              "\\hline\n",
              "\t 1 & 2 & 308308 & 0.10074117 & 43.98 & 0.04794138 & 2016\\\\\n",
              "\t 1 & 2 & 321598 & 0.10590241 & 44.89 & 0.04630140 & 2018\\\\\n",
              "\t 1 & 2 & 311122 & 0.07667507 & 45.44 & 0.04340553 & 2020\\\\\n",
              "\t 1 & 2 & 229755 & 0.09928867 & 41.72 & 0.05397506 & 2022\\\\\n",
              "\\end{tabular}\n"
            ],
            "text/markdown": [
              "\n",
              "A grouped_df: 4 × 7\n",
              "\n",
              "| etnia &lt;dbl&gt; | sexo &lt;dbl&gt; | ocupados &lt;dbl&gt; | ocupados_cv &lt;dbl&gt; | porcentaje &lt;dbl&gt; | porcentaje_cv &lt;dbl&gt; | year &lt;chr&gt; |\n",
              "|---|---|---|---|---|---|---|\n",
              "| 1 | 2 | 308308 | 0.10074117 | 43.98 | 0.04794138 | 2016 |\n",
              "| 1 | 2 | 321598 | 0.10590241 | 44.89 | 0.04630140 | 2018 |\n",
              "| 1 | 2 | 311122 | 0.07667507 | 45.44 | 0.04340553 | 2020 |\n",
              "| 1 | 2 | 229755 | 0.09928867 | 41.72 | 0.05397506 | 2022 |\n",
              "\n"
            ],
            "text/plain": [
              "  etnia sexo ocupados ocupados_cv porcentaje porcentaje_cv year\n",
              "1 1     2    308308   0.10074117  43.98      0.04794138    2016\n",
              "2 1     2    321598   0.10590241  44.89      0.04630140    2018\n",
              "3 1     2    311122   0.07667507  45.44      0.04340553    2020\n",
              "4 1     2    229755   0.09928867  41.72      0.05397506    2022"
            ]
          },
          "metadata": {},
          "output_type": "display_data"
        }
      ],
      "source": [
        "tabla_ocupacion_mujer<-map_dfr(\n",
        "  list.files(\"data\", full.names = TRUE, pattern = \"poblacion_.*.csv\"),\n",
        "  estimacion,\n",
        "  variable = \"ocupacion_mujer\"\n",
        ")\n",
        "print(\"Población que se autodescribe como indígena que es mujer y que se encuentra ocupada en la CDMX\")\n",
        "tabla_ocupacion_mujer"
      ]
    },
    {
      "cell_type": "markdown",
      "id": "5a068385b6560222",
      "metadata": {
        "id": "5a068385b6560222"
      },
      "source": [
        "####   Población analfabeta indígena en CDMX"
      ]
    },
    {
      "cell_type": "code",
      "execution_count": 14,
      "id": "dd183848dfbe302f",
      "metadata": {
        "ExecuteTime": {
          "end_time": "2025-02-19T20:22:17.754946Z",
          "start_time": "2025-02-19T20:22:04.340931Z"
        },
        "colab": {
          "base_uri": "https://localhost:8080/",
          "height": 1000
        },
        "id": "dd183848dfbe302f",
        "outputId": "122ec40a-9424-4c61-c2a4-28ff7efa3e8a",
        "vscode": {
          "languageId": "r"
        }
      },
      "outputs": [
        {
          "name": "stderr",
          "output_type": "stream",
          "text": [
            "Warning message:\n",
            "“\u001b[1m\u001b[22mOne or more parsing issues, call `problems()` on your data frame for details,\n",
            "e.g.:\n",
            "  dat <- vroom(...)\n",
            "  problems(dat)”\n",
            "Warning message:\n",
            "“\u001b[1m\u001b[22mOne or more parsing issues, call `problems()` on your data frame for details,\n",
            "e.g.:\n",
            "  dat <- vroom(...)\n",
            "  problems(dat)”\n",
            "Warning message:\n",
            "“\u001b[1m\u001b[22mThere was 1 warning in `dplyr::summarise()`.\n",
            "\u001b[1m\u001b[22m\u001b[36mℹ\u001b[39m In argument: `porcentaje = survey_prop(vartype = \"cv\")`.\n",
            "\u001b[36mℹ\u001b[39m In group 5: `etnia = \u001b[31mNA\u001b[39m` `alfabetism = \u001b[31mNA\u001b[39m`.\n",
            "Caused by warning:\n",
            "\u001b[33m!\u001b[39m glm.fit: algorithm did not converge”\n",
            "Warning message:\n",
            "“\u001b[1m\u001b[22mOne or more parsing issues, call `problems()` on your data frame for details,\n",
            "e.g.:\n",
            "  dat <- vroom(...)\n",
            "  problems(dat)”\n",
            "Warning message:\n",
            "“\u001b[1m\u001b[22mOne or more parsing issues, call `problems()` on your data frame for details,\n",
            "e.g.:\n",
            "  dat <- vroom(...)\n",
            "  problems(dat)”\n",
            "Warning message:\n",
            "“\u001b[1m\u001b[22mThere was 1 warning in `dplyr::summarise()`.\n",
            "\u001b[1m\u001b[22m\u001b[36mℹ\u001b[39m In argument: `porcentaje = survey_prop(vartype = \"cv\")`.\n",
            "\u001b[36mℹ\u001b[39m In group 5: `etnia = \u001b[31mNA\u001b[39m` `alfabetism = \u001b[31mNA\u001b[39m`.\n",
            "Caused by warning:\n",
            "\u001b[33m!\u001b[39m glm.fit: algorithm did not converge”\n",
            "Warning message:\n",
            "“\u001b[1m\u001b[22mOne or more parsing issues, call `problems()` on your data frame for details,\n",
            "e.g.:\n",
            "  dat <- vroom(...)\n",
            "  problems(dat)”\n",
            "Warning message:\n",
            "“\u001b[1m\u001b[22mOne or more parsing issues, call `problems()` on your data frame for details,\n",
            "e.g.:\n",
            "  dat <- vroom(...)\n",
            "  problems(dat)”\n",
            "Warning message:\n",
            "“\u001b[1m\u001b[22mThere was 1 warning in `dplyr::summarise()`.\n",
            "\u001b[1m\u001b[22m\u001b[36mℹ\u001b[39m In argument: `porcentaje = survey_prop(vartype = \"cv\")`.\n",
            "\u001b[36mℹ\u001b[39m In group 5: `etnia = \u001b[31mNA\u001b[39m` `alfabetism = \u001b[31mNA\u001b[39m`.\n",
            "Caused by warning:\n",
            "\u001b[33m!\u001b[39m glm.fit: algorithm did not converge”\n",
            "Warning message:\n",
            "“\u001b[1m\u001b[22mOne or more parsing issues, call `problems()` on your data frame for details,\n",
            "e.g.:\n",
            "  dat <- vroom(...)\n",
            "  problems(dat)”\n",
            "Warning message:\n",
            "“\u001b[1m\u001b[22mThere was 1 warning in `dplyr::summarise()`.\n",
            "\u001b[1m\u001b[22m\u001b[36mℹ\u001b[39m In argument: `porcentaje = survey_prop(vartype = \"cv\")`.\n",
            "\u001b[36mℹ\u001b[39m In group 5: `etnia = \u001b[31mNA\u001b[39m` `alfabetism = \u001b[31mNA\u001b[39m`.\n",
            "Caused by warning:\n",
            "\u001b[33m!\u001b[39m glm.fit: algorithm did not converge”\n"
          ]
        },
        {
          "name": "stdout",
          "output_type": "stream",
          "text": [
            "[1] \"Población que se autodescribe como indígena y que es analfabeta en la CDMX\"\n"
          ]
        },
        {
          "data": {
            "text/html": [
              "<table class=\"dataframe\">\n",
              "<caption>A grouped_df: 4 × 7</caption>\n",
              "<thead>\n",
              "\t<tr><th scope=col>etnia</th><th scope=col>alfabetism</th><th scope=col>analfabetas</th><th scope=col>analfabetas_cv</th><th scope=col>porcentaje</th><th scope=col>porcentaje_cv</th><th scope=col>year</th></tr>\n",
              "\t<tr><th scope=col>&lt;dbl&gt;</th><th scope=col>&lt;dbl&gt;</th><th scope=col>&lt;dbl&gt;</th><th scope=col>&lt;dbl&gt;</th><th scope=col>&lt;dbl&gt;</th><th scope=col>&lt;dbl&gt;</th><th scope=col>&lt;chr&gt;</th></tr>\n",
              "</thead>\n",
              "<tbody>\n",
              "\t<tr><td>1</td><td>2</td><td> 76848</td><td>0.2047636</td><td>6.14</td><td>0.1804278</td><td>2016</td></tr>\n",
              "\t<tr><td>1</td><td>2</td><td>100372</td><td>0.1583444</td><td>7.33</td><td>0.1251706</td><td>2018</td></tr>\n",
              "\t<tr><td>1</td><td>2</td><td> 91929</td><td>0.1348095</td><td>6.60</td><td>0.1153417</td><td>2020</td></tr>\n",
              "\t<tr><td>1</td><td>2</td><td> 63920</td><td>0.2065419</td><td>5.79</td><td>0.1828260</td><td>2022</td></tr>\n",
              "</tbody>\n",
              "</table>\n"
            ],
            "text/latex": [
              "A grouped\\_df: 4 × 7\n",
              "\\begin{tabular}{lllllll}\n",
              " etnia & alfabetism & analfabetas & analfabetas\\_cv & porcentaje & porcentaje\\_cv & year\\\\\n",
              " <dbl> & <dbl> & <dbl> & <dbl> & <dbl> & <dbl> & <chr>\\\\\n",
              "\\hline\n",
              "\t 1 & 2 &  76848 & 0.2047636 & 6.14 & 0.1804278 & 2016\\\\\n",
              "\t 1 & 2 & 100372 & 0.1583444 & 7.33 & 0.1251706 & 2018\\\\\n",
              "\t 1 & 2 &  91929 & 0.1348095 & 6.60 & 0.1153417 & 2020\\\\\n",
              "\t 1 & 2 &  63920 & 0.2065419 & 5.79 & 0.1828260 & 2022\\\\\n",
              "\\end{tabular}\n"
            ],
            "text/markdown": [
              "\n",
              "A grouped_df: 4 × 7\n",
              "\n",
              "| etnia &lt;dbl&gt; | alfabetism &lt;dbl&gt; | analfabetas &lt;dbl&gt; | analfabetas_cv &lt;dbl&gt; | porcentaje &lt;dbl&gt; | porcentaje_cv &lt;dbl&gt; | year &lt;chr&gt; |\n",
              "|---|---|---|---|---|---|---|\n",
              "| 1 | 2 |  76848 | 0.2047636 | 6.14 | 0.1804278 | 2016 |\n",
              "| 1 | 2 | 100372 | 0.1583444 | 7.33 | 0.1251706 | 2018 |\n",
              "| 1 | 2 |  91929 | 0.1348095 | 6.60 | 0.1153417 | 2020 |\n",
              "| 1 | 2 |  63920 | 0.2065419 | 5.79 | 0.1828260 | 2022 |\n",
              "\n"
            ],
            "text/plain": [
              "  etnia alfabetism analfabetas analfabetas_cv porcentaje porcentaje_cv year\n",
              "1 1     2           76848      0.2047636      6.14       0.1804278     2016\n",
              "2 1     2          100372      0.1583444      7.33       0.1251706     2018\n",
              "3 1     2           91929      0.1348095      6.60       0.1153417     2020\n",
              "4 1     2           63920      0.2065419      5.79       0.1828260     2022"
            ]
          },
          "metadata": {},
          "output_type": "display_data"
        }
      ],
      "source": [
        "tabla_analfabetismo<-map_dfr(\n",
        "  list.files(\"data\", full.names = TRUE, pattern = \"poblacion_.*.csv\"),\n",
        "  estimacion,\n",
        "  variable = \"analfabetismo\"\n",
        ")\n",
        "print(\"Población que se autodescribe como indígena y que es analfabeta en la CDMX\")\n",
        "\n",
        "tabla_analfabetismo"
      ]
    },
    {
      "cell_type": "markdown",
      "id": "NdsVF-xkq7EQ",
      "metadata": {
        "id": "NdsVF-xkq7EQ"
      },
      "source": [
        "### Calcular porcentaje de población indígena que se encuentra en situación de pobreza\n",
        "\n",
        "\n",
        "Para esto, se utilizan las bases generadas por Evalúa CDMX. Es importante señalar que, por practicidad, se trabaja con el producto terminado, no obstante, se buscará en próximas fechas replicar dicha metodología utilizando R ya que actualmente, el programa de cálculo se encuentra en STATA."
      ]
    },
    {
      "cell_type": "code",
      "execution_count": 15,
      "id": "3dWJ6IYjrV62",
      "metadata": {
        "ExecuteTime": {
          "end_time": "2025-02-19T20:22:18.033180Z",
          "start_time": "2025-02-19T20:22:17.781801Z"
        },
        "colab": {
          "base_uri": "https://localhost:8080/"
        },
        "id": "3dWJ6IYjrV62",
        "outputId": "42de7bcc-d0e5-4784-8281-a6fafe6faa71",
        "vscode": {
          "languageId": "r"
        }
      },
      "outputs": [
        {
          "name": "stderr",
          "output_type": "stream",
          "text": [
            "Please point your browser to the following url: \n",
            "\n",
            "https://accounts.google.com/o/oauth2/v2/auth?client_id=603366585132-frjlouoa3s2ono25d2l9ukvhlsrlnr7k.apps.googleusercontent.com&scope=https%3A%2F%2Fwww.googleapis.com%2Fauth%2Fdrive%20https%3A%2F%2Fwww.googleapis.com%2Fauth%2Fuserinfo.email&redirect_uri=https%3A%2F%2Fwww.tidyverse.org%2Fgoogle-callback%2F&response_type=code&state=9f22bdca62a080937e1b65e797e95c12&login_hint=cpyp.ipdp%40gmail.com&access_type=offline&prompt=consent\n",
            "\n"
          ]
        },
        {
          "name": "stdout",
          "output_type": "stream",
          "text": [
            "Enter authorization code: eyJjb2RlIjoiNC8wQVVKUi14NDd5SUkyX3FodDJPUnN5eE5ZbHliTWRCemo0VFJCSEJqSkZZOGtObTNpSWE4TnVQVjJ4dkpERjROaFlpd3F1USIsInN0YXRlIjoiOWYyMmJkY2E2MmEwODA5MzdlMWI2NWU3OTdlOTVjMTIifQ==\n"
          ]
        }
      ],
      "source": [
        "  #Conectar a google drive\n",
        "drive_auth(email = \"cpyp.ipdp@gmail.com\",cache = FALSE)"
      ]
    },
    {
      "cell_type": "code",
      "execution_count": 16,
      "id": "3I6nozkErvWO",
      "metadata": {
        "colab": {
          "base_uri": "https://localhost:8080/"
        },
        "id": "3I6nozkErvWO",
        "outputId": "d36ab303-7d5b-4210-bccb-df512818443e",
        "vscode": {
          "languageId": "r"
        }
      },
      "outputs": [
        {
          "name": "stdout",
          "output_type": "stream",
          "text": [
            "\u001b[90m# A dribble: 3 × 3\u001b[39m\n",
            "  name             id                                drive_resource   \n",
            "  \u001b[3m\u001b[90m<chr>\u001b[39m\u001b[23m            \u001b[3m\u001b[90m<drv_id>\u001b[39m\u001b[23m                          \u001b[3m\u001b[90m<list>\u001b[39m\u001b[23m           \n",
            "\u001b[90m1\u001b[39m pobreza_2022.dta 1T_WfYanYMOoWWbhj_CeiqxYRNrpXmDan \u001b[90m<named list [41]>\u001b[39m\n",
            "\u001b[90m2\u001b[39m pobreza_2018.dta 1TTRfiRDGWgQwHylvduHx1IRdm5vQ3VeL \u001b[90m<named list [41]>\u001b[39m\n",
            "\u001b[90m3\u001b[39m pobreza_2020.dta 1TXJLNA_itWfjsGIdoj1bJQ4erNjc1wIx \u001b[90m<named list [41]>\u001b[39m\n"
          ]
        }
      ],
      "source": [
        "carpeta<-as_id(drive_get(\"https://drive.google.com/drive/folders/1TBfoik4w4DWhwFqWeZFgkZvrBdDbqzku\"))\n",
        "\n",
        "\n",
        "archivos<-drive_ls(carpeta)\n",
        "print(archivos)"
      ]
    },
    {
      "cell_type": "code",
      "execution_count": 17,
      "id": "OG-4iMTgsF8S",
      "metadata": {
        "colab": {
          "base_uri": "https://localhost:8080/",
          "height": 192
        },
        "id": "OG-4iMTgsF8S",
        "outputId": "5d34e8d0-8468-4190-9c84-d0b8a55bf3fb",
        "vscode": {
          "languageId": "r"
        }
      },
      "outputs": [
        {
          "data": {
            "text/html": [
              "<table class=\"dataframe\">\n",
              "<caption>A tibble: 3 × 1</caption>\n",
              "<thead>\n",
              "\t<tr><th scope=col>name</th></tr>\n",
              "\t<tr><th scope=col>&lt;chr&gt;</th></tr>\n",
              "</thead>\n",
              "<tbody>\n",
              "\t<tr><td>pobreza_2022.dta</td></tr>\n",
              "\t<tr><td>pobreza_2018.dta</td></tr>\n",
              "\t<tr><td>pobreza_2020.dta</td></tr>\n",
              "</tbody>\n",
              "</table>\n"
            ],
            "text/latex": [
              "A tibble: 3 × 1\n",
              "\\begin{tabular}{l}\n",
              " name\\\\\n",
              " <chr>\\\\\n",
              "\\hline\n",
              "\t pobreza\\_2022.dta\\\\\n",
              "\t pobreza\\_2018.dta\\\\\n",
              "\t pobreza\\_2020.dta\\\\\n",
              "\\end{tabular}\n"
            ],
            "text/markdown": [
              "\n",
              "A tibble: 3 × 1\n",
              "\n",
              "| name &lt;chr&gt; |\n",
              "|---|\n",
              "| pobreza_2022.dta |\n",
              "| pobreza_2018.dta |\n",
              "| pobreza_2020.dta |\n",
              "\n"
            ],
            "text/plain": [
              "  name            \n",
              "1 pobreza_2022.dta\n",
              "2 pobreza_2018.dta\n",
              "3 pobreza_2020.dta"
            ]
          },
          "metadata": {},
          "output_type": "display_data"
        }
      ],
      "source": [
        "archivos[1]"
      ]
    },
    {
      "cell_type": "code",
      "execution_count": 18,
      "id": "sFs1TwLFxKyz",
      "metadata": {
        "id": "sFs1TwLFxKyz",
        "vscode": {
          "languageId": "r"
        }
      },
      "outputs": [],
      "source": [
        "estimacion_pobreza <- function(file_id, file_name) {\n",
        "  # Descarga de datos\n",
        "  local_path <- file.path(\"data\", file_name)\n",
        "  drive_download(as_id(file_id), path = local_path, overwrite = TRUE)\n",
        "\n",
        "  # Leer datos\n",
        "  datos <- read_dta(local_path)\n",
        "\n",
        "  # Añadir año\n",
        "  year <- str_extract(file_name, \"\\\\d{4}\")\n",
        "\n",
        "\n",
        "  # Diseño muestral\n",
        "  mydesign <- datos %>%\n",
        "    as_survey_design(ids = upm,\n",
        "                     strata = est_dis,\n",
        "                     weights = factor)\n",
        "\n",
        "  # Estima pobreza\n",
        "  pobreza <- mydesign %>%\n",
        "    #Filtrar datos para CDMX\n",
        "  filter(entidad==9)%>%\n",
        "    #Filtar grupo de población en pobreza\n",
        "    #filter(pobreza_mmip == 1) %>%\n",
        "    group_by(etnia,pobreza_mmip)%>%\n",
        "    summarise(\n",
        "      poblacion = survey_total(vartype = \"cv\"),\n",
        "      porcentaje = survey_prop(vartype = \"cv\")\n",
        "    ) %>%\n",
        "    mutate(porcentaje = round(porcentaje * 100, 2),\n",
        "           year = as.numeric(year))%>%\n",
        "             #Filtro de población indígena\n",
        "             filter(etnia==1)\n",
        "\n",
        "  return(pobreza)\n",
        "}\n"
      ]
    },
    {
      "cell_type": "code",
      "execution_count": 19,
      "id": "txs7yjjVLDo4",
      "metadata": {
        "id": "txs7yjjVLDo4",
        "vscode": {
          "languageId": "r"
        }
      },
      "outputs": [],
      "source": [
        "estimacion_pobreza_simple <- function(file_id, file_name) {\n",
        "  # Descarga de datos\n",
        "  local_path <- file.path(\"data\", file_name)\n",
        "  drive_download(as_id(file_id), path = local_path, overwrite = TRUE)\n",
        "\n",
        "  # Leer datos\n",
        "  datos <- read_dta(local_path)\n",
        "\n",
        "  # Añadir año\n",
        "  year <- str_extract(file_name, \"\\\\d{4}\") %>% as.numeric()\n",
        "\n",
        "  # Filtrar datos para CDMX y población en pobreza\n",
        "  pobreza <- datos %>%\n",
        "    filter(entidad == 9) %>%\n",
        "    group_by(etnia,pobreza_mmip) %>%\n",
        "    summarise(\n",
        "      observaciones = n(),  # Contar el número de observaciones\n",
        "      porcentaje = (n() / nrow(datos)) * 100  # Calcular porcentaje sobre el total de la tabla\n",
        "    ) %>%\n",
        "    mutate(\n",
        "      porcentaje = round(porcentaje, 2),\n",
        "      year = year\n",
        "    ) %>%\n",
        "    # Filtro de población indígena\n",
        "    filter(etnia == 1)%>%\n",
        "      select(pobreza_mmip,observaciones,year)\n",
        "\n",
        "  return(pobreza)\n",
        "}\n"
      ]
    },
    {
      "cell_type": "code",
      "execution_count": 20,
      "id": "PYgGuYNRxNjA",
      "metadata": {
        "colab": {
          "base_uri": "https://localhost:8080/",
          "height": 626
        },
        "id": "PYgGuYNRxNjA",
        "outputId": "62b71b86-6aac-42e6-9cde-7f81d44c05bd",
        "vscode": {
          "languageId": "r"
        }
      },
      "outputs": [
        {
          "name": "stderr",
          "output_type": "stream",
          "text": [
            "File downloaded:\n",
            "\n",
            "• \u001b[36mpobreza_2022.dta\u001b[39m \u001b[90m<id: 1T_WfYanYMOoWWbhj_CeiqxYRNrpXmDan>\u001b[39m\n",
            "\n",
            "Saved locally as:\n",
            "\n",
            "• \u001b[34mdata/pobreza_2022.dta\u001b[39m\n",
            "\n",
            "File downloaded:\n",
            "\n",
            "• \u001b[36mpobreza_2018.dta\u001b[39m \u001b[90m<id: 1TTRfiRDGWgQwHylvduHx1IRdm5vQ3VeL>\u001b[39m\n",
            "\n",
            "Saved locally as:\n",
            "\n",
            "• \u001b[34mdata/pobreza_2018.dta\u001b[39m\n",
            "\n",
            "File downloaded:\n",
            "\n",
            "• \u001b[36mpobreza_2020.dta\u001b[39m \u001b[90m<id: 1TXJLNA_itWfjsGIdoj1bJQ4erNjc1wIx>\u001b[39m\n",
            "\n",
            "Saved locally as:\n",
            "\n",
            "• \u001b[34mdata/pobreza_2020.dta\u001b[39m\n",
            "\n"
          ]
        },
        {
          "name": "stdout",
          "output_type": "stream",
          "text": [
            "[1] \"Estimación de población indígena en situación de pobreza en la CDMX\"\n"
          ]
        },
        {
          "data": {
            "text/html": [
              "<table class=\"dataframe\">\n",
              "<caption>A grouped_df: 3 × 7</caption>\n",
              "<thead>\n",
              "\t<tr><th scope=col>etnia</th><th scope=col>pobreza_mmip</th><th scope=col>poblacion</th><th scope=col>poblacion_cv</th><th scope=col>porcentaje</th><th scope=col>porcentaje_cv</th><th scope=col>year</th></tr>\n",
              "\t<tr><th scope=col>&lt;chr&gt;</th><th scope=col>&lt;dbl&gt;</th><th scope=col>&lt;dbl&gt;</th><th scope=col>&lt;dbl&gt;</th><th scope=col>&lt;dbl&gt;</th><th scope=col>&lt;dbl&gt;</th><th scope=col>&lt;dbl&gt;</th></tr>\n",
              "</thead>\n",
              "<tbody>\n",
              "\t<tr><td>1</td><td>1</td><td>1011897</td><td>0.09435402</td><td>74.41</td><td>0.03664584</td><td>2018</td></tr>\n",
              "\t<tr><td>1</td><td>1</td><td> 921413</td><td>0.07989246</td><td>66.35</td><td>0.03980687</td><td>2020</td></tr>\n",
              "\t<tr><td>1</td><td>1</td><td> 816899</td><td>0.08744365</td><td>75.13</td><td>0.03089138</td><td>2022</td></tr>\n",
              "</tbody>\n",
              "</table>\n"
            ],
            "text/latex": [
              "A grouped\\_df: 3 × 7\n",
              "\\begin{tabular}{lllllll}\n",
              " etnia & pobreza\\_mmip & poblacion & poblacion\\_cv & porcentaje & porcentaje\\_cv & year\\\\\n",
              " <chr> & <dbl> & <dbl> & <dbl> & <dbl> & <dbl> & <dbl>\\\\\n",
              "\\hline\n",
              "\t 1 & 1 & 1011897 & 0.09435402 & 74.41 & 0.03664584 & 2018\\\\\n",
              "\t 1 & 1 &  921413 & 0.07989246 & 66.35 & 0.03980687 & 2020\\\\\n",
              "\t 1 & 1 &  816899 & 0.08744365 & 75.13 & 0.03089138 & 2022\\\\\n",
              "\\end{tabular}\n"
            ],
            "text/markdown": [
              "\n",
              "A grouped_df: 3 × 7\n",
              "\n",
              "| etnia &lt;chr&gt; | pobreza_mmip &lt;dbl&gt; | poblacion &lt;dbl&gt; | poblacion_cv &lt;dbl&gt; | porcentaje &lt;dbl&gt; | porcentaje_cv &lt;dbl&gt; | year &lt;dbl&gt; |\n",
              "|---|---|---|---|---|---|---|\n",
              "| 1 | 1 | 1011897 | 0.09435402 | 74.41 | 0.03664584 | 2018 |\n",
              "| 1 | 1 |  921413 | 0.07989246 | 66.35 | 0.03980687 | 2020 |\n",
              "| 1 | 1 |  816899 | 0.08744365 | 75.13 | 0.03089138 | 2022 |\n",
              "\n"
            ],
            "text/plain": [
              "  etnia pobreza_mmip poblacion poblacion_cv porcentaje porcentaje_cv year\n",
              "1 1     1            1011897   0.09435402   74.41      0.03664584    2018\n",
              "2 1     1             921413   0.07989246   66.35      0.03980687    2020\n",
              "3 1     1             816899   0.08744365   75.13      0.03089138    2022"
            ]
          },
          "metadata": {},
          "output_type": "display_data"
        }
      ],
      "source": [
        "tabla_pobreza <- map_dfr(\n",
        "  seq_len(nrow(archivos)),\n",
        "  ~ estimacion_pobreza(archivos$id[.x], archivos$name[.x])\n",
        ")%>%\n",
        "  arrange(year)%>%\n",
        "  filter(pobreza_mmip==1)\n",
        "\n",
        "print(\"Estimación de población indígena en situación de pobreza en la CDMX\")\n",
        "tabla_pobreza"
      ]
    },
    {
      "cell_type": "code",
      "execution_count": 21,
      "id": "NcTCPaiOLFMV",
      "metadata": {
        "colab": {
          "base_uri": "https://localhost:8080/",
          "height": 893
        },
        "id": "NcTCPaiOLFMV",
        "outputId": "ccac5ab6-f360-4fd9-e34a-7c548d6fc534",
        "vscode": {
          "languageId": "r"
        }
      },
      "outputs": [
        {
          "name": "stderr",
          "output_type": "stream",
          "text": [
            "File downloaded:\n",
            "\n",
            "• \u001b[36mpobreza_2022.dta\u001b[39m \u001b[90m<id: 1T_WfYanYMOoWWbhj_CeiqxYRNrpXmDan>\u001b[39m\n",
            "\n",
            "Saved locally as:\n",
            "\n",
            "• \u001b[34mdata/pobreza_2022.dta\u001b[39m\n",
            "\n",
            "\u001b[1m\u001b[22m`summarise()` has grouped output by 'etnia'. You can override using the\n",
            "`.groups` argument.\n",
            "\u001b[1m\u001b[22mAdding missing grouping variables: `etnia`\n",
            "File downloaded:\n",
            "\n",
            "• \u001b[36mpobreza_2018.dta\u001b[39m \u001b[90m<id: 1TTRfiRDGWgQwHylvduHx1IRdm5vQ3VeL>\u001b[39m\n",
            "\n",
            "Saved locally as:\n",
            "\n",
            "• \u001b[34mdata/pobreza_2018.dta\u001b[39m\n",
            "\n",
            "\u001b[1m\u001b[22m`summarise()` has grouped output by 'etnia'. You can override using the\n",
            "`.groups` argument.\n",
            "\u001b[1m\u001b[22mAdding missing grouping variables: `etnia`\n",
            "File downloaded:\n",
            "\n",
            "• \u001b[36mpobreza_2020.dta\u001b[39m \u001b[90m<id: 1TXJLNA_itWfjsGIdoj1bJQ4erNjc1wIx>\u001b[39m\n",
            "\n",
            "Saved locally as:\n",
            "\n",
            "• \u001b[34mdata/pobreza_2020.dta\u001b[39m\n",
            "\n",
            "\u001b[1m\u001b[22m`summarise()` has grouped output by 'etnia'. You can override using the\n",
            "`.groups` argument.\n",
            "\u001b[1m\u001b[22mAdding missing grouping variables: `etnia`\n",
            "\u001b[1m\u001b[22mAdding missing grouping variables: `etnia`\n"
          ]
        },
        {
          "name": "stdout",
          "output_type": "stream",
          "text": [
            "[1] \"Observaciones muestrales de población indígena y condición de pobreza en la CDMX\"\n"
          ]
        },
        {
          "data": {
            "text/html": [
              "<table class=\"dataframe\">\n",
              "<caption>A grouped_df: 6 × 4</caption>\n",
              "<thead>\n",
              "\t<tr><th scope=col>etnia</th><th scope=col>pobreza_mmip</th><th scope=col>observaciones</th><th scope=col>year</th></tr>\n",
              "\t<tr><th scope=col>&lt;chr&gt;</th><th scope=col>&lt;dbl&gt;</th><th scope=col>&lt;int&gt;</th><th scope=col>&lt;dbl&gt;</th></tr>\n",
              "</thead>\n",
              "<tbody>\n",
              "\t<tr><td>1</td><td>0</td><td> 253</td><td>2018</td></tr>\n",
              "\t<tr><td>1</td><td>1</td><td>1064</td><td>2018</td></tr>\n",
              "\t<tr><td>1</td><td>0</td><td> 388</td><td>2020</td></tr>\n",
              "\t<tr><td>1</td><td>1</td><td>1359</td><td>2020</td></tr>\n",
              "\t<tr><td>1</td><td>0</td><td> 235</td><td>2022</td></tr>\n",
              "\t<tr><td>1</td><td>1</td><td>1019</td><td>2022</td></tr>\n",
              "</tbody>\n",
              "</table>\n"
            ],
            "text/latex": [
              "A grouped\\_df: 6 × 4\n",
              "\\begin{tabular}{llll}\n",
              " etnia & pobreza\\_mmip & observaciones & year\\\\\n",
              " <chr> & <dbl> & <int> & <dbl>\\\\\n",
              "\\hline\n",
              "\t 1 & 0 &  253 & 2018\\\\\n",
              "\t 1 & 1 & 1064 & 2018\\\\\n",
              "\t 1 & 0 &  388 & 2020\\\\\n",
              "\t 1 & 1 & 1359 & 2020\\\\\n",
              "\t 1 & 0 &  235 & 2022\\\\\n",
              "\t 1 & 1 & 1019 & 2022\\\\\n",
              "\\end{tabular}\n"
            ],
            "text/markdown": [
              "\n",
              "A grouped_df: 6 × 4\n",
              "\n",
              "| etnia &lt;chr&gt; | pobreza_mmip &lt;dbl&gt; | observaciones &lt;int&gt; | year &lt;dbl&gt; |\n",
              "|---|---|---|---|\n",
              "| 1 | 0 |  253 | 2018 |\n",
              "| 1 | 1 | 1064 | 2018 |\n",
              "| 1 | 0 |  388 | 2020 |\n",
              "| 1 | 1 | 1359 | 2020 |\n",
              "| 1 | 0 |  235 | 2022 |\n",
              "| 1 | 1 | 1019 | 2022 |\n",
              "\n"
            ],
            "text/plain": [
              "  etnia pobreza_mmip observaciones year\n",
              "1 1     0             253          2018\n",
              "2 1     1            1064          2018\n",
              "3 1     0             388          2020\n",
              "4 1     1            1359          2020\n",
              "5 1     0             235          2022\n",
              "6 1     1            1019          2022"
            ]
          },
          "metadata": {},
          "output_type": "display_data"
        }
      ],
      "source": [
        "tabla_pobreza_simple <- map_dfr(\n",
        "  seq_len(nrow(archivos)),\n",
        "  ~ estimacion_pobreza_simple(archivos$id[.x], archivos$name[.x])\n",
        ")%>%\n",
        "  arrange(year)%>%\n",
        "  select(pobreza_mmip,observaciones,year)\n",
        "\n",
        "print(\"Observaciones muestrales de población indígena y condición de pobreza en la CDMX\")\n",
        "tabla_pobreza_simple"
      ]
    },
    {
      "cell_type": "markdown",
      "id": "c2e1da5cb1bd01b1",
      "metadata": {
        "id": "c2e1da5cb1bd01b1"
      },
      "source": [
        "### Estimación de metas de indicadores propuestos\n",
        "\n",
        "*Porcentaje de población analfabeta indígena en la CDMX*"
      ]
    },
    {
      "cell_type": "code",
      "execution_count": 22,
      "id": "c23925bfdc8c7441",
      "metadata": {
        "ExecuteTime": {
          "end_time": "2025-02-19T20:23:22.978807Z",
          "start_time": "2025-02-19T20:23:22.957309Z"
        },
        "colab": {
          "base_uri": "https://localhost:8080/",
          "height": 223
        },
        "id": "c23925bfdc8c7441",
        "outputId": "e853954d-be23-4752-aeb1-6dbd42600bba",
        "vscode": {
          "languageId": "r"
        }
      },
      "outputs": [
        {
          "data": {
            "text/html": [
              "<table class=\"dataframe\">\n",
              "<caption>A data.frame: 4 × 2</caption>\n",
              "<thead>\n",
              "\t<tr><th scope=col>year</th><th scope=col>porcentaje</th></tr>\n",
              "\t<tr><th scope=col>&lt;dbl&gt;</th><th scope=col>&lt;dbl&gt;</th></tr>\n",
              "</thead>\n",
              "<tbody>\n",
              "\t<tr><td>2016</td><td>6.14</td></tr>\n",
              "\t<tr><td>2018</td><td>7.33</td></tr>\n",
              "\t<tr><td>2020</td><td>6.60</td></tr>\n",
              "\t<tr><td>2022</td><td>5.79</td></tr>\n",
              "</tbody>\n",
              "</table>\n"
            ],
            "text/latex": [
              "A data.frame: 4 × 2\n",
              "\\begin{tabular}{ll}\n",
              " year & porcentaje\\\\\n",
              " <dbl> & <dbl>\\\\\n",
              "\\hline\n",
              "\t 2016 & 6.14\\\\\n",
              "\t 2018 & 7.33\\\\\n",
              "\t 2020 & 6.60\\\\\n",
              "\t 2022 & 5.79\\\\\n",
              "\\end{tabular}\n"
            ],
            "text/markdown": [
              "\n",
              "A data.frame: 4 × 2\n",
              "\n",
              "| year &lt;dbl&gt; | porcentaje &lt;dbl&gt; |\n",
              "|---|---|\n",
              "| 2016 | 6.14 |\n",
              "| 2018 | 7.33 |\n",
              "| 2020 | 6.60 |\n",
              "| 2022 | 5.79 |\n",
              "\n"
            ],
            "text/plain": [
              "  year porcentaje\n",
              "1 2016 6.14      \n",
              "2 2018 7.33      \n",
              "3 2020 6.60      \n",
              "4 2022 5.79      "
            ]
          },
          "metadata": {},
          "output_type": "display_data"
        }
      ],
      "source": [
        "#Tabla de analfabetismo\n",
        "datos<-data.frame(tabla_analfabetismo$year,tabla_analfabetismo$porcentaje)%>%\n",
        "    rename(year=tabla_analfabetismo.year,\n",
        "             porcentaje=tabla_analfabetismo.porcentaje)%>%\n",
        "mutate(year=as.numeric(year))\n",
        "datos"
      ]
    },
    {
      "cell_type": "code",
      "execution_count": 23,
      "id": "66d7ad7e54b6304c",
      "metadata": {
        "ExecuteTime": {
          "end_time": "2025-02-19T20:23:25.269249Z",
          "start_time": "2025-02-19T20:23:25.235692Z"
        },
        "colab": {
          "base_uri": "https://localhost:8080/",
          "height": 52
        },
        "id": "66d7ad7e54b6304c",
        "outputId": "a177067a-f538-4406-b17c-21fdb6d289cd",
        "vscode": {
          "languageId": "r"
        }
      },
      "outputs": [
        {
          "name": "stdout",
          "output_type": "stream",
          "text": [
            "[1] \"Se estima una tasa de crecimiento promedio anual para utilizarse como base en la proyección de metas a 2025\"\n"
          ]
        },
        {
          "data": {
            "text/html": [
              "-0.00973438622448441"
            ],
            "text/latex": [
              "-0.00973438622448441"
            ],
            "text/markdown": [
              "-0.00973438622448441"
            ],
            "text/plain": [
              "[1] -0.009734386"
            ]
          },
          "metadata": {},
          "output_type": "display_data"
        }
      ],
      "source": [
        "##Calcular tasa de crecimiento promedio anual de 2016 a 2022\n",
        "\n",
        "valor_inicial<-datos$porcentaje[1]\n",
        "valor_final <- datos$porcentaje[length(datos$porcentaje)]\n",
        "n <- datos$year[length(datos$year)] - datos$year[1]\n",
        "\n",
        "tasa_crecimiento <- (valor_final / valor_inicial)^(1 / n) - 1\n",
        "print(\"Se estima una tasa de crecimiento promedio anual para utilizarse como base en la proyección de metas a 2025\")\n",
        "tasa_crecimiento"
      ]
    },
    {
      "cell_type": "code",
      "execution_count": 24,
      "id": "ba1e1dd0c7dd2b1b",
      "metadata": {
        "ExecuteTime": {
          "end_time": "2025-02-19T20:23:28.409707Z",
          "start_time": "2025-02-19T20:23:28.386895Z"
        },
        "colab": {
          "base_uri": "https://localhost:8080/",
          "height": 819
        },
        "id": "ba1e1dd0c7dd2b1b",
        "outputId": "e9f917e8-a69b-40e2-c162-e50f3445b70a",
        "vscode": {
          "languageId": "r"
        }
      },
      "outputs": [
        {
          "data": {
            "text/html": [
              "<table class=\"dataframe\">\n",
              "<caption>A data.frame: 23 × 2</caption>\n",
              "<thead>\n",
              "\t<tr><th scope=col>year</th><th scope=col>porcentaje</th></tr>\n",
              "\t<tr><th scope=col>&lt;dbl&gt;</th><th scope=col>&lt;dbl&gt;</th></tr>\n",
              "</thead>\n",
              "<tbody>\n",
              "\t<tr><td>2023</td><td>5.733638</td></tr>\n",
              "\t<tr><td>2024</td><td>5.677824</td></tr>\n",
              "\t<tr><td>2025</td><td>5.622554</td></tr>\n",
              "\t<tr><td>2026</td><td>5.567822</td></tr>\n",
              "\t<tr><td>2027</td><td>5.513623</td></tr>\n",
              "\t<tr><td>2028</td><td>5.459951</td></tr>\n",
              "\t<tr><td>2029</td><td>5.406802</td></tr>\n",
              "\t<tr><td>2030</td><td>5.354170</td></tr>\n",
              "\t<tr><td>2031</td><td>5.302050</td></tr>\n",
              "\t<tr><td>2032</td><td>5.250438</td></tr>\n",
              "\t<tr><td>2033</td><td>5.199328</td></tr>\n",
              "\t<tr><td>2034</td><td>5.148716</td></tr>\n",
              "\t<tr><td>2035</td><td>5.098597</td></tr>\n",
              "\t<tr><td>2036</td><td>5.048965</td></tr>\n",
              "\t<tr><td>2037</td><td>4.999816</td></tr>\n",
              "\t<tr><td>2038</td><td>4.951146</td></tr>\n",
              "\t<tr><td>2039</td><td>4.902950</td></tr>\n",
              "\t<tr><td>2040</td><td>4.855223</td></tr>\n",
              "\t<tr><td>2041</td><td>4.807960</td></tr>\n",
              "\t<tr><td>2042</td><td>4.761157</td></tr>\n",
              "\t<tr><td>2043</td><td>4.714810</td></tr>\n",
              "\t<tr><td>2044</td><td>4.668915</td></tr>\n",
              "\t<tr><td>2045</td><td>4.623466</td></tr>\n",
              "</tbody>\n",
              "</table>\n"
            ],
            "text/latex": [
              "A data.frame: 23 × 2\n",
              "\\begin{tabular}{ll}\n",
              " year & porcentaje\\\\\n",
              " <dbl> & <dbl>\\\\\n",
              "\\hline\n",
              "\t 2023 & 5.733638\\\\\n",
              "\t 2024 & 5.677824\\\\\n",
              "\t 2025 & 5.622554\\\\\n",
              "\t 2026 & 5.567822\\\\\n",
              "\t 2027 & 5.513623\\\\\n",
              "\t 2028 & 5.459951\\\\\n",
              "\t 2029 & 5.406802\\\\\n",
              "\t 2030 & 5.354170\\\\\n",
              "\t 2031 & 5.302050\\\\\n",
              "\t 2032 & 5.250438\\\\\n",
              "\t 2033 & 5.199328\\\\\n",
              "\t 2034 & 5.148716\\\\\n",
              "\t 2035 & 5.098597\\\\\n",
              "\t 2036 & 5.048965\\\\\n",
              "\t 2037 & 4.999816\\\\\n",
              "\t 2038 & 4.951146\\\\\n",
              "\t 2039 & 4.902950\\\\\n",
              "\t 2040 & 4.855223\\\\\n",
              "\t 2041 & 4.807960\\\\\n",
              "\t 2042 & 4.761157\\\\\n",
              "\t 2043 & 4.714810\\\\\n",
              "\t 2044 & 4.668915\\\\\n",
              "\t 2045 & 4.623466\\\\\n",
              "\\end{tabular}\n"
            ],
            "text/markdown": [
              "\n",
              "A data.frame: 23 × 2\n",
              "\n",
              "| year &lt;dbl&gt; | porcentaje &lt;dbl&gt; |\n",
              "|---|---|\n",
              "| 2023 | 5.733638 |\n",
              "| 2024 | 5.677824 |\n",
              "| 2025 | 5.622554 |\n",
              "| 2026 | 5.567822 |\n",
              "| 2027 | 5.513623 |\n",
              "| 2028 | 5.459951 |\n",
              "| 2029 | 5.406802 |\n",
              "| 2030 | 5.354170 |\n",
              "| 2031 | 5.302050 |\n",
              "| 2032 | 5.250438 |\n",
              "| 2033 | 5.199328 |\n",
              "| 2034 | 5.148716 |\n",
              "| 2035 | 5.098597 |\n",
              "| 2036 | 5.048965 |\n",
              "| 2037 | 4.999816 |\n",
              "| 2038 | 4.951146 |\n",
              "| 2039 | 4.902950 |\n",
              "| 2040 | 4.855223 |\n",
              "| 2041 | 4.807960 |\n",
              "| 2042 | 4.761157 |\n",
              "| 2043 | 4.714810 |\n",
              "| 2044 | 4.668915 |\n",
              "| 2045 | 4.623466 |\n",
              "\n"
            ],
            "text/plain": [
              "   year porcentaje\n",
              "1  2023 5.733638  \n",
              "2  2024 5.677824  \n",
              "3  2025 5.622554  \n",
              "4  2026 5.567822  \n",
              "5  2027 5.513623  \n",
              "6  2028 5.459951  \n",
              "7  2029 5.406802  \n",
              "8  2030 5.354170  \n",
              "9  2031 5.302050  \n",
              "10 2032 5.250438  \n",
              "11 2033 5.199328  \n",
              "12 2034 5.148716  \n",
              "13 2035 5.098597  \n",
              "14 2036 5.048965  \n",
              "15 2037 4.999816  \n",
              "16 2038 4.951146  \n",
              "17 2039 4.902950  \n",
              "18 2040 4.855223  \n",
              "19 2041 4.807960  \n",
              "20 2042 4.761157  \n",
              "21 2043 4.714810  \n",
              "22 2044 4.668915  \n",
              "23 2045 4.623466  "
            ]
          },
          "metadata": {},
          "output_type": "display_data"
        }
      ],
      "source": [
        "proyecciones <- data.frame(year = seq(2023, 2045, by = 1))\n",
        "proyecciones$porcentaje <- valor_final * (1 + tasa_crecimiento)^(proyecciones$year - 2022)\n",
        "proyecciones"
      ]
    },
    {
      "cell_type": "code",
      "execution_count": 25,
      "id": "19333df53ce1469b",
      "metadata": {
        "ExecuteTime": {
          "end_time": "2025-02-19T20:23:32.583414Z",
          "start_time": "2025-02-19T20:23:32.571458Z"
        },
        "id": "19333df53ce1469b",
        "vscode": {
          "languageId": "r"
        }
      },
      "outputs": [],
      "source": [
        "datos_proyectados <- rbind(datos, proyecciones)"
      ]
    },
    {
      "cell_type": "code",
      "execution_count": 26,
      "id": "55a300fd6aa52e24",
      "metadata": {
        "ExecuteTime": {
          "end_time": "2025-02-19T20:23:34.735385Z",
          "start_time": "2025-02-19T20:23:34.023050Z"
        },
        "colab": {
          "base_uri": "https://localhost:8080/",
          "height": 489
        },
        "id": "55a300fd6aa52e24",
        "outputId": "a260fdfc-08ec-4428-b9c1-c5a5aec596f7",
        "vscode": {
          "languageId": "r"
        }
      },
      "outputs": [
        {
          "name": "stderr",
          "output_type": "stream",
          "text": [
            "Warning message:\n",
            "“\u001b[1m\u001b[22mUsing `size` aesthetic for lines was deprecated in ggplot2 3.4.0.\n",
            "\u001b[36mℹ\u001b[39m Please use `linewidth` instead.”\n"
          ]
        },
        {
          "data": {
            "image/png": "[encoded data removed]",
            "text/plain": [
              "plot without title"
            ]
          },
          "metadata": {
            "image/png": {
              "height": 420,
              "width": 420
            }
          },
          "output_type": "display_data"
        }
      ],
      "source": [
        "#Gráfica\n",
        "ggplot(datos_proyectados, aes(x = year, y = porcentaje)) +\n",
        "  geom_line(color=\"#235B4E\", size=2)+\n",
        "  geom_point() +\n",
        "  geom_vline(xintercept = 2022, linetype = \"dashed\", color = \"red\", size = 1)+\n",
        "  labs(title = \"Porcentaje de población analfabeta indígena en la CDMX, 2016-2045\",\n",
        "       x = \"Año\",\n",
        "       y = \"Porcentaje\",\n",
        "\n",
        "       caption=\"Fuente: Elaborado por IPDP CDMX con información de INEGI. Encuesta Nacional de Ingresos y Gastos de los Hogares (ENIGH).\"\n",
        "       ) +\n",
        "\n",
        "  theme_minimal()+\n",
        "  theme(\n",
        "    plot.title = element_text(hjust = 0, size=30,face=\"bold\"),\n",
        "    plot.subtitle = element_text(hjust = 0, size=20, face=\"italic\"),\n",
        "    plot.caption = element_text(hjust = 0,size=15),\n",
        "    axis.text.x = element_text(angle = 90, vjust = 0.5,size=15),\n",
        "    text=element_text(\"pop\",size=20))\n",
        "\n",
        "ggsave(\"pob_analf_ind.png\",width=15,height=8, dpi=100, bg=\"white\")"
      ]
    },
    {
      "cell_type": "code",
      "execution_count": 27,
      "id": "95bc140005a8d6b2",
      "metadata": {
        "ExecuteTime": {
          "end_time": "2025-02-19T20:23:39.029881Z",
          "start_time": "2025-02-19T20:23:39.008980Z"
        },
        "colab": {
          "base_uri": "https://localhost:8080/",
          "height": 192
        },
        "id": "95bc140005a8d6b2",
        "outputId": "249db9df-9c30-4715-d85e-0a478d4ae534",
        "vscode": {
          "languageId": "r"
        }
      },
      "outputs": [
        {
          "data": {
            "text/html": [
              "<table class=\"dataframe\">\n",
              "<caption>A data.frame: 3 × 2</caption>\n",
              "<thead>\n",
              "\t<tr><th scope=col>year</th><th scope=col>porcentaje</th></tr>\n",
              "\t<tr><th scope=col>&lt;dbl&gt;</th><th scope=col>&lt;dbl&gt;</th></tr>\n",
              "</thead>\n",
              "<tbody>\n",
              "\t<tr><td>2030</td><td>5.354170</td></tr>\n",
              "\t<tr><td>2035</td><td>5.098597</td></tr>\n",
              "\t<tr><td>2045</td><td>4.623466</td></tr>\n",
              "</tbody>\n",
              "</table>\n"
            ],
            "text/latex": [
              "A data.frame: 3 × 2\n",
              "\\begin{tabular}{ll}\n",
              " year & porcentaje\\\\\n",
              " <dbl> & <dbl>\\\\\n",
              "\\hline\n",
              "\t 2030 & 5.354170\\\\\n",
              "\t 2035 & 5.098597\\\\\n",
              "\t 2045 & 4.623466\\\\\n",
              "\\end{tabular}\n"
            ],
            "text/markdown": [
              "\n",
              "A data.frame: 3 × 2\n",
              "\n",
              "| year &lt;dbl&gt; | porcentaje &lt;dbl&gt; |\n",
              "|---|---|\n",
              "| 2030 | 5.354170 |\n",
              "| 2035 | 5.098597 |\n",
              "| 2045 | 4.623466 |\n",
              "\n"
            ],
            "text/plain": [
              "  year porcentaje\n",
              "1 2030 5.354170  \n",
              "2 2035 5.098597  \n",
              "3 2045 4.623466  "
            ]
          },
          "metadata": {},
          "output_type": "display_data"
        }
      ],
      "source": [
        "#Datos 2030, 2035 y 2045\n",
        "datos_proyectados %>% filter(year %in% c(2030, 2035, 2045))"
      ]
    },
    {
      "cell_type": "markdown",
      "id": "oZ83G4MV6ezz",
      "metadata": {
        "id": "oZ83G4MV6ezz"
      },
      "source": [
        "*Porcentaje de población indígena en situación de pobreza*"
      ]
    },
    {
      "cell_type": "code",
      "execution_count": 28,
      "id": "OSH57jXY6d_x",
      "metadata": {
        "ExecuteTime": {
          "end_time": "2025-02-19T20:23:41.524852Z",
          "start_time": "2025-02-19T20:23:41.465218Z"
        },
        "colab": {
          "base_uri": "https://localhost:8080/",
          "height": 1000
        },
        "id": "OSH57jXY6d_x",
        "outputId": "9a7155a0-5d2a-44d2-aa80-ae8ead3dfe75",
        "vscode": {
          "languageId": "r"
        }
      },
      "outputs": [
        {
          "name": "stdout",
          "output_type": "stream",
          "text": [
            "[1] \"Se estima una tasa de crecimiento promedio anual para utilizarse como base en la proyección de metas a 2025\"\n"
          ]
        },
        {
          "data": {
            "text/html": [
              "-0.0282547964566973"
            ],
            "text/latex": [
              "-0.0282547964566973"
            ],
            "text/markdown": [
              "-0.0282547964566973"
            ],
            "text/plain": [
              "[1] -0.0282548"
            ]
          },
          "metadata": {},
          "output_type": "display_data"
        },
        {
          "data": {
            "text/html": [
              "<table class=\"dataframe\">\n",
              "<caption>A data.frame: 23 × 2</caption>\n",
              "<thead>\n",
              "\t<tr><th scope=col>year</th><th scope=col>porcentaje</th></tr>\n",
              "\t<tr><th scope=col>&lt;dbl&gt;</th><th scope=col>&lt;dbl&gt;</th></tr>\n",
              "</thead>\n",
              "<tbody>\n",
              "\t<tr><td>2023</td><td>64.47529</td></tr>\n",
              "\t<tr><td>2024</td><td>62.65356</td></tr>\n",
              "\t<tr><td>2025</td><td>60.88329</td></tr>\n",
              "\t<tr><td>2026</td><td>59.16305</td></tr>\n",
              "\t<tr><td>2027</td><td>57.49141</td></tr>\n",
              "\t<tr><td>2028</td><td>55.86700</td></tr>\n",
              "\t<tr><td>2029</td><td>54.28849</td></tr>\n",
              "\t<tr><td>2030</td><td>52.75458</td></tr>\n",
              "\t<tr><td>2031</td><td>51.26401</td></tr>\n",
              "\t<tr><td>2032</td><td>49.81556</td></tr>\n",
              "\t<tr><td>2033</td><td>48.40803</td></tr>\n",
              "\t<tr><td>2034</td><td>47.04027</td></tr>\n",
              "\t<tr><td>2035</td><td>45.71116</td></tr>\n",
              "\t<tr><td>2036</td><td>44.41960</td></tr>\n",
              "\t<tr><td>2037</td><td>43.16453</td></tr>\n",
              "\t<tr><td>2038</td><td>41.94492</td></tr>\n",
              "\t<tr><td>2039</td><td>40.75978</td></tr>\n",
              "\t<tr><td>2040</td><td>39.60812</td></tr>\n",
              "\t<tr><td>2041</td><td>38.48900</td></tr>\n",
              "\t<tr><td>2042</td><td>37.40150</td></tr>\n",
              "\t<tr><td>2043</td><td>36.34473</td></tr>\n",
              "\t<tr><td>2044</td><td>35.31782</td></tr>\n",
              "\t<tr><td>2045</td><td>34.31992</td></tr>\n",
              "</tbody>\n",
              "</table>\n"
            ],
            "text/latex": [
              "A data.frame: 23 × 2\n",
              "\\begin{tabular}{ll}\n",
              " year & porcentaje\\\\\n",
              " <dbl> & <dbl>\\\\\n",
              "\\hline\n",
              "\t 2023 & 64.47529\\\\\n",
              "\t 2024 & 62.65356\\\\\n",
              "\t 2025 & 60.88329\\\\\n",
              "\t 2026 & 59.16305\\\\\n",
              "\t 2027 & 57.49141\\\\\n",
              "\t 2028 & 55.86700\\\\\n",
              "\t 2029 & 54.28849\\\\\n",
              "\t 2030 & 52.75458\\\\\n",
              "\t 2031 & 51.26401\\\\\n",
              "\t 2032 & 49.81556\\\\\n",
              "\t 2033 & 48.40803\\\\\n",
              "\t 2034 & 47.04027\\\\\n",
              "\t 2035 & 45.71116\\\\\n",
              "\t 2036 & 44.41960\\\\\n",
              "\t 2037 & 43.16453\\\\\n",
              "\t 2038 & 41.94492\\\\\n",
              "\t 2039 & 40.75978\\\\\n",
              "\t 2040 & 39.60812\\\\\n",
              "\t 2041 & 38.48900\\\\\n",
              "\t 2042 & 37.40150\\\\\n",
              "\t 2043 & 36.34473\\\\\n",
              "\t 2044 & 35.31782\\\\\n",
              "\t 2045 & 34.31992\\\\\n",
              "\\end{tabular}\n"
            ],
            "text/markdown": [
              "\n",
              "A data.frame: 23 × 2\n",
              "\n",
              "| year &lt;dbl&gt; | porcentaje &lt;dbl&gt; |\n",
              "|---|---|\n",
              "| 2023 | 64.47529 |\n",
              "| 2024 | 62.65356 |\n",
              "| 2025 | 60.88329 |\n",
              "| 2026 | 59.16305 |\n",
              "| 2027 | 57.49141 |\n",
              "| 2028 | 55.86700 |\n",
              "| 2029 | 54.28849 |\n",
              "| 2030 | 52.75458 |\n",
              "| 2031 | 51.26401 |\n",
              "| 2032 | 49.81556 |\n",
              "| 2033 | 48.40803 |\n",
              "| 2034 | 47.04027 |\n",
              "| 2035 | 45.71116 |\n",
              "| 2036 | 44.41960 |\n",
              "| 2037 | 43.16453 |\n",
              "| 2038 | 41.94492 |\n",
              "| 2039 | 40.75978 |\n",
              "| 2040 | 39.60812 |\n",
              "| 2041 | 38.48900 |\n",
              "| 2042 | 37.40150 |\n",
              "| 2043 | 36.34473 |\n",
              "| 2044 | 35.31782 |\n",
              "| 2045 | 34.31992 |\n",
              "\n"
            ],
            "text/plain": [
              "   year porcentaje\n",
              "1  2023 64.47529  \n",
              "2  2024 62.65356  \n",
              "3  2025 60.88329  \n",
              "4  2026 59.16305  \n",
              "5  2027 57.49141  \n",
              "6  2028 55.86700  \n",
              "7  2029 54.28849  \n",
              "8  2030 52.75458  \n",
              "9  2031 51.26401  \n",
              "10 2032 49.81556  \n",
              "11 2033 48.40803  \n",
              "12 2034 47.04027  \n",
              "13 2035 45.71116  \n",
              "14 2036 44.41960  \n",
              "15 2037 43.16453  \n",
              "16 2038 41.94492  \n",
              "17 2039 40.75978  \n",
              "18 2040 39.60812  \n",
              "19 2041 38.48900  \n",
              "20 2042 37.40150  \n",
              "21 2043 36.34473  \n",
              "22 2044 35.31782  \n",
              "23 2045 34.31992  "
            ]
          },
          "metadata": {},
          "output_type": "display_data"
        },
        {
          "name": "stderr",
          "output_type": "stream",
          "text": [
            "\u001b[1m\u001b[22mAdding missing grouping variables: `etnia`\n"
          ]
        },
        {
          "data": {
            "text/html": [
              "<table class=\"dataframe\">\n",
              "<caption>A grouped_df: 3 × 3</caption>\n",
              "<thead>\n",
              "\t<tr><th scope=col>etnia</th><th scope=col>year</th><th scope=col>porcentaje</th></tr>\n",
              "\t<tr><th scope=col>&lt;chr&gt;</th><th scope=col>&lt;dbl&gt;</th><th scope=col>&lt;dbl&gt;</th></tr>\n",
              "</thead>\n",
              "<tbody>\n",
              "\t<tr><td>NA</td><td>2030</td><td>52.75458</td></tr>\n",
              "\t<tr><td>NA</td><td>2035</td><td>45.71116</td></tr>\n",
              "\t<tr><td>NA</td><td>2045</td><td>34.31992</td></tr>\n",
              "</tbody>\n",
              "</table>\n"
            ],
            "text/latex": [
              "A grouped\\_df: 3 × 3\n",
              "\\begin{tabular}{lll}\n",
              " etnia & year & porcentaje\\\\\n",
              " <chr> & <dbl> & <dbl>\\\\\n",
              "\\hline\n",
              "\t NA & 2030 & 52.75458\\\\\n",
              "\t NA & 2035 & 45.71116\\\\\n",
              "\t NA & 2045 & 34.31992\\\\\n",
              "\\end{tabular}\n"
            ],
            "text/markdown": [
              "\n",
              "A grouped_df: 3 × 3\n",
              "\n",
              "| etnia &lt;chr&gt; | year &lt;dbl&gt; | porcentaje &lt;dbl&gt; |\n",
              "|---|---|---|\n",
              "| NA | 2030 | 52.75458 |\n",
              "| NA | 2035 | 45.71116 |\n",
              "| NA | 2045 | 34.31992 |\n",
              "\n"
            ],
            "text/plain": [
              "  etnia year porcentaje\n",
              "1 NA    2030 52.75458  \n",
              "2 NA    2035 45.71116  \n",
              "3 NA    2045 34.31992  "
            ]
          },
          "metadata": {},
          "output_type": "display_data"
        },
        {
          "data": {
            "image/png": "[encoded data removed]",
            "text/plain": [
              "plot without title"
            ]
          },
          "metadata": {
            "image/png": {
              "height": 420,
              "width": 420
            }
          },
          "output_type": "display_data"
        }
      ],
      "source": [
        "##Calcular tasa de crecimiento promedio anual de 2016 a 2022\n",
        "valor_inicial<-tabla_pobreza$porcentaje[1]\n",
        "valor_final <- tabla_pobreza$porcentaje[2]\n",
        "n <- tabla_pobreza$year[length(tabla_pobreza$year)] - tabla_pobreza$year[1]\n",
        "\n",
        "tasa_crecimiento_pobreza<- (valor_final / valor_inicial)^(1 / n) - 1\n",
        "print(\"Se estima una tasa de crecimiento promedio anual para utilizarse como base en la proyección de metas a 2025\")\n",
        "tasa_crecimiento_pobreza\n",
        "\n",
        "proyecciones_pobreza <- data.frame(year = seq(2023, 2045, by = 1))\n",
        "proyecciones_pobreza$porcentaje <- valor_final * (1 + tasa_crecimiento_pobreza)^(proyecciones_pobreza$year - 2022)\n",
        "proyecciones_pobreza\n",
        "\n",
        "datos_proyectados_pobreza <- rbind(tabla_pobreza, proyecciones_pobreza)%>%\n",
        "  select(year,porcentaje)\n",
        "\n",
        "#Gráfica\n",
        "ggplot(datos_proyectados_pobreza, aes(x = year, y = porcentaje)) +\n",
        "  geom_line(color=\"#235B4E\", size=2)+\n",
        "  geom_point() +\n",
        "  geom_vline(xintercept = 2022, linetype = \"dashed\", color = \"red\", size = 1)+\n",
        "  labs(title = \"Porcentaje de población indígena en situación en pobreza en la CDMX,\n",
        "2018-2045\",\n",
        "       x = \"Año\",\n",
        "       y = \"Porcentaje\",\n",
        "\n",
        "       caption=\"Fuente: Elaborado por IPDP CDMX con información de INEGI. Encuesta Nacional de Ingresos y Gastos de los Hogares (ENIGH).\"\n",
        "       ) +\n",
        "\n",
        "  theme_minimal()+\n",
        "  theme(\n",
        "    plot.title = element_text(hjust = 0, size=30,face=\"bold\"),\n",
        "    plot.subtitle = element_text(hjust = 0, size=20, face=\"italic\"),\n",
        "    plot.caption = element_text(hjust = 0,size=15),\n",
        "    axis.text.x = element_text(angle = 90, vjust = 0.5,size=15),\n",
        "    text=element_text(\"pop\",size=20))\n",
        "\n",
        "ggsave(\"pob_pobreza_ind.png\",width=16,height=8, dpi=100, bg=\"white\")\n",
        "\n",
        "\n",
        "\n",
        "#Datos 2030, 2035 y 2045\n",
        "datos_proyectados_pobreza %>% filter(year %in% c(2030, 2035, 2045))"
      ]
    },
    {
      "cell_type": "markdown",
      "id": "XG-Ng3yJY9yw",
      "metadata": {
        "id": "XG-Ng3yJY9yw"
      },
      "source": [
        "*Porcentaje de población que habla alguna  lengua indígena en la CDMX*"
      ]
    },
    {
      "cell_type": "code",
      "execution_count": 29,
      "id": "hjDQLmMdZNzW",
      "metadata": {
        "ExecuteTime": {
          "end_time": "2025-02-19T20:23:46.966766Z",
          "start_time": "2025-02-19T20:23:46.946439Z"
        },
        "colab": {
          "base_uri": "https://localhost:8080/",
          "height": 223
        },
        "id": "hjDQLmMdZNzW",
        "outputId": "f4b2532e-4f3e-4447-b218-8c0638cad743",
        "vscode": {
          "languageId": "r"
        }
      },
      "outputs": [
        {
          "data": {
            "text/html": [
              "<table class=\"dataframe\">\n",
              "<caption>A data.frame: 4 × 2</caption>\n",
              "<thead>\n",
              "\t<tr><th scope=col>year</th><th scope=col>porcentaje</th></tr>\n",
              "\t<tr><th scope=col>&lt;dbl&gt;</th><th scope=col>&lt;dbl&gt;</th></tr>\n",
              "</thead>\n",
              "<tbody>\n",
              "\t<tr><td>2016</td><td>1.41</td></tr>\n",
              "\t<tr><td>2018</td><td>1.38</td></tr>\n",
              "\t<tr><td>2020</td><td>1.67</td></tr>\n",
              "\t<tr><td>2022</td><td>1.43</td></tr>\n",
              "</tbody>\n",
              "</table>\n"
            ],
            "text/latex": [
              "A data.frame: 4 × 2\n",
              "\\begin{tabular}{ll}\n",
              " year & porcentaje\\\\\n",
              " <dbl> & <dbl>\\\\\n",
              "\\hline\n",
              "\t 2016 & 1.41\\\\\n",
              "\t 2018 & 1.38\\\\\n",
              "\t 2020 & 1.67\\\\\n",
              "\t 2022 & 1.43\\\\\n",
              "\\end{tabular}\n"
            ],
            "text/markdown": [
              "\n",
              "A data.frame: 4 × 2\n",
              "\n",
              "| year &lt;dbl&gt; | porcentaje &lt;dbl&gt; |\n",
              "|---|---|\n",
              "| 2016 | 1.41 |\n",
              "| 2018 | 1.38 |\n",
              "| 2020 | 1.67 |\n",
              "| 2022 | 1.43 |\n",
              "\n"
            ],
            "text/plain": [
              "  year porcentaje\n",
              "1 2016 1.41      \n",
              "2 2018 1.38      \n",
              "3 2020 1.67      \n",
              "4 2022 1.43      "
            ]
          },
          "metadata": {},
          "output_type": "display_data"
        }
      ],
      "source": [
        "#Tabla de Población hablante de lengua indígena en la CDMX\n",
        "hablante<-data.frame(tabla_hablante$year,tabla_hablante$porcentaje)%>%\n",
        "  rename(year=tabla_hablante.year,\n",
        "         porcentaje=tabla_hablante.porcentaje)%>%\n",
        "  mutate(year=as.numeric(year))\n",
        "hablante"
      ]
    },
    {
      "cell_type": "code",
      "execution_count": 30,
      "id": "MqZP1ILjdGl2",
      "metadata": {
        "ExecuteTime": {
          "end_time": "2025-02-19T20:23:49.593693Z",
          "start_time": "2025-02-19T20:23:49.572345Z"
        },
        "colab": {
          "base_uri": "https://localhost:8080/",
          "height": 52
        },
        "id": "MqZP1ILjdGl2",
        "outputId": "3273c432-ffd3-43ae-dfbf-6a7eb257aa4f",
        "vscode": {
          "languageId": "r"
        }
      },
      "outputs": [
        {
          "name": "stdout",
          "output_type": "stream",
          "text": [
            "[1] \"Se estima una tasa de crecimiento promedio anual para utilizarse como base en la proyección de metas a 2025\"\n"
          ]
        },
        {
          "data": {
            "text/html": [
              "0.00235021408054092"
            ],
            "text/latex": [
              "0.00235021408054092"
            ],
            "text/markdown": [
              "0.00235021408054092"
            ],
            "text/plain": [
              "[1] 0.002350214"
            ]
          },
          "metadata": {},
          "output_type": "display_data"
        }
      ],
      "source": [
        "valor_inicial_hablante<-hablante$porcentaje[1]\n",
        "valor_final_hablante <- hablante$porcentaje[length(hablante$porcentaje)]\n",
        "n <- hablante$year[length(hablante$year)] - hablante$year[1]\n",
        "\n",
        "tasa_crecimiento_hablante <- (valor_final_hablante / valor_inicial_hablante)^(1 / n) - 1\n",
        "print(\"Se estima una tasa de crecimiento promedio anual para utilizarse como base en la proyección de metas a 2025\")\n",
        "tasa_crecimiento_hablante"
      ]
    },
    {
      "cell_type": "code",
      "execution_count": 31,
      "id": "WWXGra-7dJCO",
      "metadata": {
        "ExecuteTime": {
          "end_time": "2025-02-19T20:23:53.579859Z",
          "start_time": "2025-02-19T20:23:53.553584Z"
        },
        "colab": {
          "base_uri": "https://localhost:8080/",
          "height": 819
        },
        "id": "WWXGra-7dJCO",
        "outputId": "682b9f33-99ea-4956-a065-52b2d6fce2e9",
        "vscode": {
          "languageId": "r"
        }
      },
      "outputs": [
        {
          "data": {
            "text/html": [
              "<table class=\"dataframe\">\n",
              "<caption>A data.frame: 23 × 2</caption>\n",
              "<thead>\n",
              "\t<tr><th scope=col>year</th><th scope=col>porcentaje</th></tr>\n",
              "\t<tr><th scope=col>&lt;dbl&gt;</th><th scope=col>&lt;dbl&gt;</th></tr>\n",
              "</thead>\n",
              "<tbody>\n",
              "\t<tr><td>2023</td><td>1.433361</td></tr>\n",
              "\t<tr><td>2024</td><td>1.436730</td></tr>\n",
              "\t<tr><td>2025</td><td>1.440106</td></tr>\n",
              "\t<tr><td>2026</td><td>1.443491</td></tr>\n",
              "\t<tr><td>2027</td><td>1.446883</td></tr>\n",
              "\t<tr><td>2028</td><td>1.450284</td></tr>\n",
              "\t<tr><td>2029</td><td>1.453692</td></tr>\n",
              "\t<tr><td>2030</td><td>1.457109</td></tr>\n",
              "\t<tr><td>2031</td><td>1.460533</td></tr>\n",
              "\t<tr><td>2032</td><td>1.463966</td></tr>\n",
              "\t<tr><td>2033</td><td>1.467406</td></tr>\n",
              "\t<tr><td>2034</td><td>1.470855</td></tr>\n",
              "\t<tr><td>2035</td><td>1.474312</td></tr>\n",
              "\t<tr><td>2036</td><td>1.477777</td></tr>\n",
              "\t<tr><td>2037</td><td>1.481250</td></tr>\n",
              "\t<tr><td>2038</td><td>1.484731</td></tr>\n",
              "\t<tr><td>2039</td><td>1.488221</td></tr>\n",
              "\t<tr><td>2040</td><td>1.491718</td></tr>\n",
              "\t<tr><td>2041</td><td>1.495224</td></tr>\n",
              "\t<tr><td>2042</td><td>1.498738</td></tr>\n",
              "\t<tr><td>2043</td><td>1.502261</td></tr>\n",
              "\t<tr><td>2044</td><td>1.505791</td></tr>\n",
              "\t<tr><td>2045</td><td>1.509330</td></tr>\n",
              "</tbody>\n",
              "</table>\n"
            ],
            "text/latex": [
              "A data.frame: 23 × 2\n",
              "\\begin{tabular}{ll}\n",
              " year & porcentaje\\\\\n",
              " <dbl> & <dbl>\\\\\n",
              "\\hline\n",
              "\t 2023 & 1.433361\\\\\n",
              "\t 2024 & 1.436730\\\\\n",
              "\t 2025 & 1.440106\\\\\n",
              "\t 2026 & 1.443491\\\\\n",
              "\t 2027 & 1.446883\\\\\n",
              "\t 2028 & 1.450284\\\\\n",
              "\t 2029 & 1.453692\\\\\n",
              "\t 2030 & 1.457109\\\\\n",
              "\t 2031 & 1.460533\\\\\n",
              "\t 2032 & 1.463966\\\\\n",
              "\t 2033 & 1.467406\\\\\n",
              "\t 2034 & 1.470855\\\\\n",
              "\t 2035 & 1.474312\\\\\n",
              "\t 2036 & 1.477777\\\\\n",
              "\t 2037 & 1.481250\\\\\n",
              "\t 2038 & 1.484731\\\\\n",
              "\t 2039 & 1.488221\\\\\n",
              "\t 2040 & 1.491718\\\\\n",
              "\t 2041 & 1.495224\\\\\n",
              "\t 2042 & 1.498738\\\\\n",
              "\t 2043 & 1.502261\\\\\n",
              "\t 2044 & 1.505791\\\\\n",
              "\t 2045 & 1.509330\\\\\n",
              "\\end{tabular}\n"
            ],
            "text/markdown": [
              "\n",
              "A data.frame: 23 × 2\n",
              "\n",
              "| year &lt;dbl&gt; | porcentaje &lt;dbl&gt; |\n",
              "|---|---|\n",
              "| 2023 | 1.433361 |\n",
              "| 2024 | 1.436730 |\n",
              "| 2025 | 1.440106 |\n",
              "| 2026 | 1.443491 |\n",
              "| 2027 | 1.446883 |\n",
              "| 2028 | 1.450284 |\n",
              "| 2029 | 1.453692 |\n",
              "| 2030 | 1.457109 |\n",
              "| 2031 | 1.460533 |\n",
              "| 2032 | 1.463966 |\n",
              "| 2033 | 1.467406 |\n",
              "| 2034 | 1.470855 |\n",
              "| 2035 | 1.474312 |\n",
              "| 2036 | 1.477777 |\n",
              "| 2037 | 1.481250 |\n",
              "| 2038 | 1.484731 |\n",
              "| 2039 | 1.488221 |\n",
              "| 2040 | 1.491718 |\n",
              "| 2041 | 1.495224 |\n",
              "| 2042 | 1.498738 |\n",
              "| 2043 | 1.502261 |\n",
              "| 2044 | 1.505791 |\n",
              "| 2045 | 1.509330 |\n",
              "\n"
            ],
            "text/plain": [
              "   year porcentaje\n",
              "1  2023 1.433361  \n",
              "2  2024 1.436730  \n",
              "3  2025 1.440106  \n",
              "4  2026 1.443491  \n",
              "5  2027 1.446883  \n",
              "6  2028 1.450284  \n",
              "7  2029 1.453692  \n",
              "8  2030 1.457109  \n",
              "9  2031 1.460533  \n",
              "10 2032 1.463966  \n",
              "11 2033 1.467406  \n",
              "12 2034 1.470855  \n",
              "13 2035 1.474312  \n",
              "14 2036 1.477777  \n",
              "15 2037 1.481250  \n",
              "16 2038 1.484731  \n",
              "17 2039 1.488221  \n",
              "18 2040 1.491718  \n",
              "19 2041 1.495224  \n",
              "20 2042 1.498738  \n",
              "21 2043 1.502261  \n",
              "22 2044 1.505791  \n",
              "23 2045 1.509330  "
            ]
          },
          "metadata": {},
          "output_type": "display_data"
        }
      ],
      "source": [
        "proyecciones_hablante <- data.frame(year = seq(2023, 2045, by = 1))\n",
        "proyecciones_hablante$porcentaje <- valor_final_hablante * (1 + tasa_crecimiento_hablante)^(proyecciones_hablante$year - 2022)\n",
        "proyecciones_hablante\n",
        "\n",
        "datos_proyectados_hablante <- rbind(hablante, proyecciones_hablante)"
      ]
    },
    {
      "cell_type": "code",
      "execution_count": 32,
      "id": "bF5sJZdAjFi_",
      "metadata": {
        "ExecuteTime": {
          "end_time": "2025-02-19T20:23:58.800987Z",
          "start_time": "2025-02-19T20:23:58.541800Z"
        },
        "colab": {
          "base_uri": "https://localhost:8080/",
          "height": 437
        },
        "id": "bF5sJZdAjFi_",
        "outputId": "65d8479f-9535-4682-8f33-3ab2b6fe3a2e",
        "vscode": {
          "languageId": "r"
        }
      },
      "outputs": [
        {
          "data": {
            "image/png": "[encoded data removed]",
            "text/plain": [
              "plot without title"
            ]
          },
          "metadata": {
            "image/png": {
              "height": 420,
              "width": 420
            }
          },
          "output_type": "display_data"
        }
      ],
      "source": [
        "#Gráfica\n",
        "ggplot(datos_proyectados_hablante, aes(x = year, y = porcentaje)) +\n",
        "  geom_line(color=\"#235B4E\", size=2)+\n",
        "  geom_point() +\n",
        "  geom_vline(xintercept = 2022, linetype = \"dashed\", color = \"red\", size = 1)+\n",
        "  labs(title = \"Porcentaje de población que habla alguna  lengua indígena en la CDMX,\n",
        "2016-2045\",\n",
        "       x = \"Año\",\n",
        "       y = \"Porcentaje\",\n",
        "\n",
        "       caption=\"Fuente: Elaborado por IPDP CDMX con información de INEGI. Encuesta Nacional de Ingresos y Gastos de los Hogares (ENIGH).\"\n",
        "       ) +\n",
        "\n",
        "  theme_minimal()+\n",
        "  theme(\n",
        "    plot.title = element_text(hjust = 0, size=30,face=\"bold\"),\n",
        "    plot.subtitle = element_text(hjust = 0, size=20, face=\"italic\"),\n",
        "    plot.caption = element_text(hjust = 0,size=15),\n",
        "    axis.text.x = element_text(angle = 90, vjust = 0.5,size=15),\n",
        "    text=element_text(\"pop\",size=20))\n",
        "\n",
        "ggsave(\"pob_hablante_ind.png\",width=16,height=8, dpi=100, bg=\"white\")"
      ]
    },
    {
      "cell_type": "markdown",
      "id": "Gjo65d-teZ5o",
      "metadata": {
        "id": "Gjo65d-teZ5o"
      },
      "source": [
        "*Porcentaje de población que se auto adscribe indígena en la CDMX*"
      ]
    },
    {
      "cell_type": "code",
      "execution_count": 33,
      "id": "WovLITl4ed-_",
      "metadata": {
        "ExecuteTime": {
          "end_time": "2025-02-19T20:24:03.150615Z",
          "start_time": "2025-02-19T20:24:03.124067Z"
        },
        "colab": {
          "base_uri": "https://localhost:8080/",
          "height": 52
        },
        "id": "WovLITl4ed-_",
        "outputId": "5218c9bd-9177-4a67-d2b4-6ffe93e5b3ca",
        "vscode": {
          "languageId": "r"
        }
      },
      "outputs": [
        {
          "name": "stdout",
          "output_type": "stream",
          "text": [
            "[1] \"Se estima una tasa de crecimiento promedio anual para utilizarse como base en la proyección de metas a 2025\"\n"
          ]
        },
        {
          "data": {
            "text/html": [
              "0.0245397109283507"
            ],
            "text/latex": [
              "0.0245397109283507"
            ],
            "text/markdown": [
              "0.0245397109283507"
            ],
            "text/plain": [
              "[1] 0.02453971"
            ]
          },
          "metadata": {},
          "output_type": "display_data"
        }
      ],
      "source": [
        "adscribe <- data.frame(tabla_indigena$year, tabla_indigena$porcentaje) %>%\n",
        "  rename(year = tabla_indigena.year,\n",
        "         porcentaje = tabla_indigena.porcentaje) %>%\n",
        "  mutate(year = as.numeric(year))\n",
        "\n",
        "# Excluir el año 2022 para el cálculo de la tasa de crecimiento\n",
        "adscribe_sin_2022 <- adscribe %>% filter(year != 2022)\n",
        "\n",
        "## Calcular tasa de crecimiento promedio anual de 2016 a 2021 (sin incluir 2022)\n",
        "valor_inicial_adscribe <- adscribe_sin_2022$porcentaje[1]\n",
        "valor_final_adscribe <- adscribe_sin_2022$porcentaje[length(adscribe_sin_2022$porcentaje)]\n",
        "n <- adscribe_sin_2022$year[length(adscribe_sin_2022$year)] - adscribe_sin_2022$year[1]\n",
        "\n",
        "tasa_crecimiento_adscribe <- (valor_final_adscribe / valor_inicial_adscribe)^(1 / n) - 1\n",
        "print(\"Se estima una tasa de crecimiento promedio anual para utilizarse como base en la proyección de metas a 2025\")\n",
        "tasa_crecimiento_adscribe"
      ]
    },
    {
      "cell_type": "code",
      "execution_count": 34,
      "id": "Jtj21rZmejMd",
      "metadata": {
        "ExecuteTime": {
          "end_time": "2025-02-19T20:24:06.887906Z",
          "start_time": "2025-02-19T20:24:06.585982Z"
        },
        "colab": {
          "base_uri": "https://localhost:8080/",
          "height": 1000
        },
        "id": "Jtj21rZmejMd",
        "outputId": "0a737a43-9c27-420e-a123-7d5115f05d3f",
        "vscode": {
          "languageId": "r"
        }
      },
      "outputs": [
        {
          "data": {
            "text/html": [
              "<table class=\"dataframe\">\n",
              "<caption>A data.frame: 23 × 2</caption>\n",
              "<thead>\n",
              "\t<tr><th scope=col>year</th><th scope=col>porcentaje</th></tr>\n",
              "\t<tr><th scope=col>&lt;dbl&gt;</th><th scope=col>&lt;dbl&gt;</th></tr>\n",
              "</thead>\n",
              "<tbody>\n",
              "\t<tr><td>2023</td><td>16.17463</td></tr>\n",
              "\t<tr><td>2024</td><td>16.57155</td></tr>\n",
              "\t<tr><td>2025</td><td>16.97821</td></tr>\n",
              "\t<tr><td>2026</td><td>17.39485</td></tr>\n",
              "\t<tr><td>2027</td><td>17.82171</td></tr>\n",
              "\t<tr><td>2028</td><td>18.25905</td></tr>\n",
              "\t<tr><td>2029</td><td>18.70712</td></tr>\n",
              "\t<tr><td>2030</td><td>19.16619</td></tr>\n",
              "\t<tr><td>2031</td><td>19.63652</td></tr>\n",
              "\t<tr><td>2032</td><td>20.11840</td></tr>\n",
              "\t<tr><td>2033</td><td>20.61210</td></tr>\n",
              "\t<tr><td>2034</td><td>21.11791</td></tr>\n",
              "\t<tr><td>2035</td><td>21.63614</td></tr>\n",
              "\t<tr><td>2036</td><td>22.16708</td></tr>\n",
              "\t<tr><td>2037</td><td>22.71106</td></tr>\n",
              "\t<tr><td>2038</td><td>23.26838</td></tr>\n",
              "\t<tr><td>2039</td><td>23.83938</td></tr>\n",
              "\t<tr><td>2040</td><td>24.42439</td></tr>\n",
              "\t<tr><td>2041</td><td>25.02376</td></tr>\n",
              "\t<tr><td>2042</td><td>25.63784</td></tr>\n",
              "\t<tr><td>2043</td><td>26.26698</td></tr>\n",
              "\t<tr><td>2044</td><td>26.91156</td></tr>\n",
              "\t<tr><td>2045</td><td>27.57197</td></tr>\n",
              "</tbody>\n",
              "</table>\n"
            ],
            "text/latex": [
              "A data.frame: 23 × 2\n",
              "\\begin{tabular}{ll}\n",
              " year & porcentaje\\\\\n",
              " <dbl> & <dbl>\\\\\n",
              "\\hline\n",
              "\t 2023 & 16.17463\\\\\n",
              "\t 2024 & 16.57155\\\\\n",
              "\t 2025 & 16.97821\\\\\n",
              "\t 2026 & 17.39485\\\\\n",
              "\t 2027 & 17.82171\\\\\n",
              "\t 2028 & 18.25905\\\\\n",
              "\t 2029 & 18.70712\\\\\n",
              "\t 2030 & 19.16619\\\\\n",
              "\t 2031 & 19.63652\\\\\n",
              "\t 2032 & 20.11840\\\\\n",
              "\t 2033 & 20.61210\\\\\n",
              "\t 2034 & 21.11791\\\\\n",
              "\t 2035 & 21.63614\\\\\n",
              "\t 2036 & 22.16708\\\\\n",
              "\t 2037 & 22.71106\\\\\n",
              "\t 2038 & 23.26838\\\\\n",
              "\t 2039 & 23.83938\\\\\n",
              "\t 2040 & 24.42439\\\\\n",
              "\t 2041 & 25.02376\\\\\n",
              "\t 2042 & 25.63784\\\\\n",
              "\t 2043 & 26.26698\\\\\n",
              "\t 2044 & 26.91156\\\\\n",
              "\t 2045 & 27.57197\\\\\n",
              "\\end{tabular}\n"
            ],
            "text/markdown": [
              "\n",
              "A data.frame: 23 × 2\n",
              "\n",
              "| year &lt;dbl&gt; | porcentaje &lt;dbl&gt; |\n",
              "|---|---|\n",
              "| 2023 | 16.17463 |\n",
              "| 2024 | 16.57155 |\n",
              "| 2025 | 16.97821 |\n",
              "| 2026 | 17.39485 |\n",
              "| 2027 | 17.82171 |\n",
              "| 2028 | 18.25905 |\n",
              "| 2029 | 18.70712 |\n",
              "| 2030 | 19.16619 |\n",
              "| 2031 | 19.63652 |\n",
              "| 2032 | 20.11840 |\n",
              "| 2033 | 20.61210 |\n",
              "| 2034 | 21.11791 |\n",
              "| 2035 | 21.63614 |\n",
              "| 2036 | 22.16708 |\n",
              "| 2037 | 22.71106 |\n",
              "| 2038 | 23.26838 |\n",
              "| 2039 | 23.83938 |\n",
              "| 2040 | 24.42439 |\n",
              "| 2041 | 25.02376 |\n",
              "| 2042 | 25.63784 |\n",
              "| 2043 | 26.26698 |\n",
              "| 2044 | 26.91156 |\n",
              "| 2045 | 27.57197 |\n",
              "\n"
            ],
            "text/plain": [
              "   year porcentaje\n",
              "1  2023 16.17463  \n",
              "2  2024 16.57155  \n",
              "3  2025 16.97821  \n",
              "4  2026 17.39485  \n",
              "5  2027 17.82171  \n",
              "6  2028 18.25905  \n",
              "7  2029 18.70712  \n",
              "8  2030 19.16619  \n",
              "9  2031 19.63652  \n",
              "10 2032 20.11840  \n",
              "11 2033 20.61210  \n",
              "12 2034 21.11791  \n",
              "13 2035 21.63614  \n",
              "14 2036 22.16708  \n",
              "15 2037 22.71106  \n",
              "16 2038 23.26838  \n",
              "17 2039 23.83938  \n",
              "18 2040 24.42439  \n",
              "19 2041 25.02376  \n",
              "20 2042 25.63784  \n",
              "21 2043 26.26698  \n",
              "22 2044 26.91156  \n",
              "23 2045 27.57197  "
            ]
          },
          "metadata": {},
          "output_type": "display_data"
        },
        {
          "data": {
            "text/html": [
              "<table class=\"dataframe\">\n",
              "<caption>A data.frame: 3 × 2</caption>\n",
              "<thead>\n",
              "\t<tr><th scope=col>year</th><th scope=col>porcentaje</th></tr>\n",
              "\t<tr><th scope=col>&lt;dbl&gt;</th><th scope=col>&lt;dbl&gt;</th></tr>\n",
              "</thead>\n",
              "<tbody>\n",
              "\t<tr><td>2030</td><td>19.16619</td></tr>\n",
              "\t<tr><td>2035</td><td>21.63614</td></tr>\n",
              "\t<tr><td>2045</td><td>27.57197</td></tr>\n",
              "</tbody>\n",
              "</table>\n"
            ],
            "text/latex": [
              "A data.frame: 3 × 2\n",
              "\\begin{tabular}{ll}\n",
              " year & porcentaje\\\\\n",
              " <dbl> & <dbl>\\\\\n",
              "\\hline\n",
              "\t 2030 & 19.16619\\\\\n",
              "\t 2035 & 21.63614\\\\\n",
              "\t 2045 & 27.57197\\\\\n",
              "\\end{tabular}\n"
            ],
            "text/markdown": [
              "\n",
              "A data.frame: 3 × 2\n",
              "\n",
              "| year &lt;dbl&gt; | porcentaje &lt;dbl&gt; |\n",
              "|---|---|\n",
              "| 2030 | 19.16619 |\n",
              "| 2035 | 21.63614 |\n",
              "| 2045 | 27.57197 |\n",
              "\n"
            ],
            "text/plain": [
              "  year porcentaje\n",
              "1 2030 19.16619  \n",
              "2 2035 21.63614  \n",
              "3 2045 27.57197  "
            ]
          },
          "metadata": {},
          "output_type": "display_data"
        },
        {
          "data": {
            "image/png": "[encoded data removed]",
            "text/plain": [
              "plot without title"
            ]
          },
          "metadata": {
            "image/png": {
              "height": 420,
              "width": 420
            }
          },
          "output_type": "display_data"
        }
      ],
      "source": [
        "proyecciones_adscribe <- data.frame(year = seq(2023, 2045, by = 1))\n",
        "proyecciones_adscribe$porcentaje <- valor_final_adscribe * (1 + tasa_crecimiento_adscribe)^(proyecciones_adscribe$year - 2020)\n",
        "proyecciones_adscribe\n",
        "\n",
        "datos_proyectados_adscribe <- rbind(adscribe, proyecciones_adscribe)\n",
        "\n",
        "#Gráfica\n",
        "ggplot(datos_proyectados_adscribe, aes(x = year, y = porcentaje)) +\n",
        "  geom_line(color=\"#235B4E\", size=2)+\n",
        "  geom_point() +\n",
        "  geom_vline(xintercept = 2022, linetype = \"dashed\", color = \"red\", size = 1)+\n",
        "  labs(title = \"Porcentaje de población que se auto adscribe indígena en la CDMX,\n",
        "2016-2045\",\n",
        "       x = \"Año\",\n",
        "       y = \"Porcentaje\",\n",
        "\n",
        "       caption=\"Fuente: Elaborado por IPDP CDMX con información de INEGI. Encuesta Nacional de Ingresos y Gastos de los Hogares (ENIGH).\"\n",
        "       ) +\n",
        "\n",
        "  theme_minimal()+\n",
        "  theme(\n",
        "    plot.title = element_text(hjust = 0, size=30,face=\"bold\"),\n",
        "    plot.subtitle = element_text(hjust = 0, size=20, face=\"italic\"),\n",
        "    plot.caption = element_text(hjust = 0,size=15),\n",
        "    axis.text.x = element_text(angle = 90, vjust = 0.5,size=15),\n",
        "    text=element_text(\"pop\",size=20))\n",
        "\n",
        "ggsave(\"pob_adscribe_ind.png\",width=16,height=8, dpi=100, bg=\"white\")\n",
        "\n",
        "\n",
        "\n",
        "#Datos 2030, 2035 y 2045\n",
        "datos_proyectados_adscribe %>% filter(year %in% c(2030, 2035, 2045))"
      ]
    },
    {
      "cell_type": "markdown",
      "id": "0mgr2Kh9e8N3",
      "metadata": {
        "id": "0mgr2Kh9e8N3"
      },
      "source": [
        "*Porcentaje de población ocupada que pertenece a  pueblos indígenas en la CDMX*"
      ]
    },
    {
      "cell_type": "code",
      "execution_count": 35,
      "id": "wMJQ6Pk0e_HU",
      "metadata": {
        "ExecuteTime": {
          "end_time": "2025-02-19T20:24:14.089896Z",
          "start_time": "2025-02-19T20:24:14.057790Z"
        },
        "colab": {
          "base_uri": "https://localhost:8080/",
          "height": 52
        },
        "id": "wMJQ6Pk0e_HU",
        "outputId": "a37fdc57-843e-4fb3-e014-6e930347aac1",
        "vscode": {
          "languageId": "r"
        }
      },
      "outputs": [
        {
          "name": "stdout",
          "output_type": "stream",
          "text": [
            "[1] \"Se estima una tasa de crecimiento promedio anual para utilizarse como base en la proyección de metas a 2025\"\n"
          ]
        },
        {
          "data": {
            "text/html": [
              "0.0164842328419705"
            ],
            "text/latex": [
              "0.0164842328419705"
            ],
            "text/markdown": [
              "0.0164842328419705"
            ],
            "text/plain": [
              "[1] 0.01648423"
            ]
          },
          "metadata": {},
          "output_type": "display_data"
        }
      ],
      "source": [
        "ocupada <- data.frame(tabla_ocupacion$year, tabla_ocupacion$porcentaje) %>%\n",
        "  rename(year = tabla_ocupacion.year,\n",
        "         porcentaje = tabla_ocupacion.porcentaje) %>%\n",
        "  mutate(year = as.numeric(year))\n",
        "\n",
        "# Excluir el año 2022 para el cálculo de la tasa de crecimiento\n",
        "ocupada_sin_2022 <- ocupada %>% filter(year != 2022)\n",
        "\n",
        "## Calcular tasa de crecimiento promedio anual de 2016 a 2021 (sin incluir 2022)\n",
        "valor_inicial_ocupada <- ocupada_sin_2022$porcentaje[1]\n",
        "valor_final_ocupada <- ocupada_sin_2022$porcentaje[length(ocupada_sin_2022$porcentaje)]\n",
        "n <- ocupada_sin_2022$year[length(ocupada_sin_2022$year)] - ocupada_sin_2022$year[1]\n",
        "\n",
        "tasa_crecimiento_ocupada <- (valor_final_ocupada / valor_inicial_ocupada)^(1 / n) - 1\n",
        "print(\"Se estima una tasa de crecimiento promedio anual para utilizarse como base en la proyección de metas a 2025\")\n",
        "tasa_crecimiento_ocupada"
      ]
    },
    {
      "cell_type": "code",
      "execution_count": 36,
      "id": "aQ3R5orDfEql",
      "metadata": {
        "ExecuteTime": {
          "end_time": "2025-02-19T20:24:17.531239Z",
          "start_time": "2025-02-19T20:24:17.201900Z"
        },
        "colab": {
          "base_uri": "https://localhost:8080/",
          "height": 1000
        },
        "id": "aQ3R5orDfEql",
        "outputId": "f24520a1-9995-4b1e-b93a-77d4429aa8a4",
        "vscode": {
          "languageId": "r"
        }
      },
      "outputs": [
        {
          "data": {
            "text/html": [
              "<table class=\"dataframe\">\n",
              "<caption>A data.frame: 23 × 2</caption>\n",
              "<thead>\n",
              "\t<tr><th scope=col>year</th><th scope=col>porcentaje</th></tr>\n",
              "\t<tr><th scope=col>&lt;dbl&gt;</th><th scope=col>&lt;dbl&gt;</th></tr>\n",
              "</thead>\n",
              "<tbody>\n",
              "\t<tr><td>2023</td><td>16.81082</td></tr>\n",
              "\t<tr><td>2024</td><td>17.08793</td></tr>\n",
              "\t<tr><td>2025</td><td>17.36961</td></tr>\n",
              "\t<tr><td>2026</td><td>17.65594</td></tr>\n",
              "\t<tr><td>2027</td><td>17.94698</td></tr>\n",
              "\t<tr><td>2028</td><td>18.24282</td></tr>\n",
              "\t<tr><td>2029</td><td>18.54354</td></tr>\n",
              "\t<tr><td>2030</td><td>18.84922</td></tr>\n",
              "\t<tr><td>2031</td><td>19.15993</td></tr>\n",
              "\t<tr><td>2032</td><td>19.47577</td></tr>\n",
              "\t<tr><td>2033</td><td>19.79681</td></tr>\n",
              "\t<tr><td>2034</td><td>20.12315</td></tr>\n",
              "\t<tr><td>2035</td><td>20.45486</td></tr>\n",
              "\t<tr><td>2036</td><td>20.79205</td></tr>\n",
              "\t<tr><td>2037</td><td>21.13479</td></tr>\n",
              "\t<tr><td>2038</td><td>21.48318</td></tr>\n",
              "\t<tr><td>2039</td><td>21.83731</td></tr>\n",
              "\t<tr><td>2040</td><td>22.19728</td></tr>\n",
              "\t<tr><td>2041</td><td>22.56319</td></tr>\n",
              "\t<tr><td>2042</td><td>22.93513</td></tr>\n",
              "\t<tr><td>2043</td><td>23.31319</td></tr>\n",
              "\t<tr><td>2044</td><td>23.69749</td></tr>\n",
              "\t<tr><td>2045</td><td>24.08813</td></tr>\n",
              "</tbody>\n",
              "</table>\n"
            ],
            "text/latex": [
              "A data.frame: 23 × 2\n",
              "\\begin{tabular}{ll}\n",
              " year & porcentaje\\\\\n",
              " <dbl> & <dbl>\\\\\n",
              "\\hline\n",
              "\t 2023 & 16.81082\\\\\n",
              "\t 2024 & 17.08793\\\\\n",
              "\t 2025 & 17.36961\\\\\n",
              "\t 2026 & 17.65594\\\\\n",
              "\t 2027 & 17.94698\\\\\n",
              "\t 2028 & 18.24282\\\\\n",
              "\t 2029 & 18.54354\\\\\n",
              "\t 2030 & 18.84922\\\\\n",
              "\t 2031 & 19.15993\\\\\n",
              "\t 2032 & 19.47577\\\\\n",
              "\t 2033 & 19.79681\\\\\n",
              "\t 2034 & 20.12315\\\\\n",
              "\t 2035 & 20.45486\\\\\n",
              "\t 2036 & 20.79205\\\\\n",
              "\t 2037 & 21.13479\\\\\n",
              "\t 2038 & 21.48318\\\\\n",
              "\t 2039 & 21.83731\\\\\n",
              "\t 2040 & 22.19728\\\\\n",
              "\t 2041 & 22.56319\\\\\n",
              "\t 2042 & 22.93513\\\\\n",
              "\t 2043 & 23.31319\\\\\n",
              "\t 2044 & 23.69749\\\\\n",
              "\t 2045 & 24.08813\\\\\n",
              "\\end{tabular}\n"
            ],
            "text/markdown": [
              "\n",
              "A data.frame: 23 × 2\n",
              "\n",
              "| year &lt;dbl&gt; | porcentaje &lt;dbl&gt; |\n",
              "|---|---|\n",
              "| 2023 | 16.81082 |\n",
              "| 2024 | 17.08793 |\n",
              "| 2025 | 17.36961 |\n",
              "| 2026 | 17.65594 |\n",
              "| 2027 | 17.94698 |\n",
              "| 2028 | 18.24282 |\n",
              "| 2029 | 18.54354 |\n",
              "| 2030 | 18.84922 |\n",
              "| 2031 | 19.15993 |\n",
              "| 2032 | 19.47577 |\n",
              "| 2033 | 19.79681 |\n",
              "| 2034 | 20.12315 |\n",
              "| 2035 | 20.45486 |\n",
              "| 2036 | 20.79205 |\n",
              "| 2037 | 21.13479 |\n",
              "| 2038 | 21.48318 |\n",
              "| 2039 | 21.83731 |\n",
              "| 2040 | 22.19728 |\n",
              "| 2041 | 22.56319 |\n",
              "| 2042 | 22.93513 |\n",
              "| 2043 | 23.31319 |\n",
              "| 2044 | 23.69749 |\n",
              "| 2045 | 24.08813 |\n",
              "\n"
            ],
            "text/plain": [
              "   year porcentaje\n",
              "1  2023 16.81082  \n",
              "2  2024 17.08793  \n",
              "3  2025 17.36961  \n",
              "4  2026 17.65594  \n",
              "5  2027 17.94698  \n",
              "6  2028 18.24282  \n",
              "7  2029 18.54354  \n",
              "8  2030 18.84922  \n",
              "9  2031 19.15993  \n",
              "10 2032 19.47577  \n",
              "11 2033 19.79681  \n",
              "12 2034 20.12315  \n",
              "13 2035 20.45486  \n",
              "14 2036 20.79205  \n",
              "15 2037 21.13479  \n",
              "16 2038 21.48318  \n",
              "17 2039 21.83731  \n",
              "18 2040 22.19728  \n",
              "19 2041 22.56319  \n",
              "20 2042 22.93513  \n",
              "21 2043 23.31319  \n",
              "22 2044 23.69749  \n",
              "23 2045 24.08813  "
            ]
          },
          "metadata": {},
          "output_type": "display_data"
        },
        {
          "data": {
            "text/html": [
              "<table class=\"dataframe\">\n",
              "<caption>A data.frame: 3 × 2</caption>\n",
              "<thead>\n",
              "\t<tr><th scope=col>year</th><th scope=col>porcentaje</th></tr>\n",
              "\t<tr><th scope=col>&lt;dbl&gt;</th><th scope=col>&lt;dbl&gt;</th></tr>\n",
              "</thead>\n",
              "<tbody>\n",
              "\t<tr><td>2030</td><td>18.84922</td></tr>\n",
              "\t<tr><td>2035</td><td>20.45486</td></tr>\n",
              "\t<tr><td>2045</td><td>24.08813</td></tr>\n",
              "</tbody>\n",
              "</table>\n"
            ],
            "text/latex": [
              "A data.frame: 3 × 2\n",
              "\\begin{tabular}{ll}\n",
              " year & porcentaje\\\\\n",
              " <dbl> & <dbl>\\\\\n",
              "\\hline\n",
              "\t 2030 & 18.84922\\\\\n",
              "\t 2035 & 20.45486\\\\\n",
              "\t 2045 & 24.08813\\\\\n",
              "\\end{tabular}\n"
            ],
            "text/markdown": [
              "\n",
              "A data.frame: 3 × 2\n",
              "\n",
              "| year &lt;dbl&gt; | porcentaje &lt;dbl&gt; |\n",
              "|---|---|\n",
              "| 2030 | 18.84922 |\n",
              "| 2035 | 20.45486 |\n",
              "| 2045 | 24.08813 |\n",
              "\n"
            ],
            "text/plain": [
              "  year porcentaje\n",
              "1 2030 18.84922  \n",
              "2 2035 20.45486  \n",
              "3 2045 24.08813  "
            ]
          },
          "metadata": {},
          "output_type": "display_data"
        },
        {
          "data": {
            "image/png": "[encoded data removed]",
            "text/plain": [
              "plot without title"
            ]
          },
          "metadata": {
            "image/png": {
              "height": 420,
              "width": 420
            }
          },
          "output_type": "display_data"
        }
      ],
      "source": [
        "proyecciones_ocupada <- data.frame(year = seq(2023, 2045, by = 1))\n",
        "proyecciones_ocupada$porcentaje <- valor_final_ocupada * (1 + tasa_crecimiento_ocupada)^(proyecciones_ocupada$year - 2021)\n",
        "proyecciones_ocupada\n",
        "\n",
        "datos_proyectados_ocupada <- rbind(ocupada, proyecciones_ocupada)\n",
        "\n",
        "ggplot(datos_proyectados_ocupada, aes(x = year, y = porcentaje)) +\n",
        "  geom_line(color=\"#235B4E\", size=2)+\n",
        "  geom_point() +\n",
        "  geom_vline(xintercept = 2022, linetype = \"dashed\", color = \"red\", size = 1)+\n",
        "  labs(title = \"Porcentaje de población ocupada que pertenece a\n",
        "pueblos indígenas en la CDMX, 2016-2045\",\n",
        "       x = \"Año\",\n",
        "       y = \"Porcentaje\",\n",
        "\n",
        "       caption=\"Fuente: Elaborado por IPDP CDMX con información de INEGI. Encuesta Nacional de Ingresos y Gastos de los Hogares (ENIGH).\"\n",
        "       ) +\n",
        "\n",
        "  theme_minimal()+\n",
        "  theme(\n",
        "    plot.title = element_text(hjust = 0, size=30,face=\"bold\"),\n",
        "    plot.subtitle = element_text(hjust = 0, size=20, face=\"italic\"),\n",
        "    plot.caption = element_text(hjust = 0,size=15),\n",
        "    axis.text.x = element_text(angle = 90, vjust = 0.5,size=15),\n",
        "    text=element_text(\"pop\",size=20))\n",
        "\n",
        "ggsave(\"pob_ocupada_ind.png\",width=16,height=8, dpi=100, bg=\"white\")\n",
        "\n",
        "\n",
        "\n",
        "\n",
        "\n",
        "#Datos 2030, 2035 y 2045\n",
        "datos_proyectados_ocupada %>% filter(year %in% c(2030, 2035, 2045))"
      ]
    },
    {
      "cell_type": "markdown",
      "id": "cHt0nAMNfXEK",
      "metadata": {
        "id": "cHt0nAMNfXEK"
      },
      "source": [
        "*Porcentaje de población ocupada mujer que pertenece a pueblos indígenas en la Ciudad*"
      ]
    },
    {
      "cell_type": "code",
      "execution_count": 37,
      "id": "ca12a6a669973224",
      "metadata": {
        "ExecuteTime": {
          "end_time": "2025-02-19T20:25:59.051466Z",
          "start_time": "2025-02-19T20:25:59.030713Z"
        },
        "colab": {
          "base_uri": "https://localhost:8080/",
          "height": 192
        },
        "id": "ca12a6a669973224",
        "outputId": "19dcbf2e-f933-46dc-9e8b-5edb12a66ece",
        "vscode": {
          "languageId": "r"
        }
      },
      "outputs": [
        {
          "data": {
            "text/html": [
              "<table class=\"dataframe\">\n",
              "<caption>A data.frame: 3 × 2</caption>\n",
              "<thead>\n",
              "\t<tr><th scope=col>year</th><th scope=col>porcentaje</th></tr>\n",
              "\t<tr><th scope=col>&lt;dbl&gt;</th><th scope=col>&lt;dbl&gt;</th></tr>\n",
              "</thead>\n",
              "<tbody>\n",
              "\t<tr><td>2016</td><td>43.98</td></tr>\n",
              "\t<tr><td>2018</td><td>44.89</td></tr>\n",
              "\t<tr><td>2020</td><td>45.44</td></tr>\n",
              "</tbody>\n",
              "</table>\n"
            ],
            "text/latex": [
              "A data.frame: 3 × 2\n",
              "\\begin{tabular}{ll}\n",
              " year & porcentaje\\\\\n",
              " <dbl> & <dbl>\\\\\n",
              "\\hline\n",
              "\t 2016 & 43.98\\\\\n",
              "\t 2018 & 44.89\\\\\n",
              "\t 2020 & 45.44\\\\\n",
              "\\end{tabular}\n"
            ],
            "text/markdown": [
              "\n",
              "A data.frame: 3 × 2\n",
              "\n",
              "| year &lt;dbl&gt; | porcentaje &lt;dbl&gt; |\n",
              "|---|---|\n",
              "| 2016 | 43.98 |\n",
              "| 2018 | 44.89 |\n",
              "| 2020 | 45.44 |\n",
              "\n"
            ],
            "text/plain": [
              "  year porcentaje\n",
              "1 2016 43.98     \n",
              "2 2018 44.89     \n",
              "3 2020 45.44     "
            ]
          },
          "metadata": {},
          "output_type": "display_data"
        }
      ],
      "source": [
        "ocupadam <- data.frame(tabla_ocupacion_mujer$year, tabla_ocupacion_mujer$porcentaje) %>%\n",
        "  rename(year = tabla_ocupacion_mujer.year,\n",
        "         porcentaje = tabla_ocupacion_mujer.porcentaje) %>%\n",
        "  mutate(year = as.numeric(year))\n",
        "# Excluir el año 2022 para el cálculo de la tasa de crecimiento\n",
        "ocupadam_sin_2022 <- ocupadam %>% filter(year != 2022)\n",
        "ocupadam_sin_2022"
      ]
    },
    {
      "cell_type": "code",
      "execution_count": 38,
      "id": "226fd702dd1720d2",
      "metadata": {
        "ExecuteTime": {
          "end_time": "2025-02-19T20:26:13.056205Z",
          "start_time": "2025-02-19T20:26:13.040512Z"
        },
        "colab": {
          "base_uri": "https://localhost:8080/",
          "height": 34
        },
        "id": "226fd702dd1720d2",
        "outputId": "1383a64f-39cc-475c-ae26-8e8ad590797e",
        "vscode": {
          "languageId": "r"
        }
      },
      "outputs": [
        {
          "data": {
            "text/html": [
              "43.98"
            ],
            "text/latex": [
              "43.98"
            ],
            "text/markdown": [
              "43.98"
            ],
            "text/plain": [
              "[1] 43.98"
            ]
          },
          "metadata": {},
          "output_type": "display_data"
        }
      ],
      "source": [
        "valor_inicial_ocupadam <- ocupadam_sin_2022$porcentaje[1]\n",
        "valor_inicial_ocupadam"
      ]
    },
    {
      "cell_type": "code",
      "execution_count": 39,
      "id": "658192f92acebd88",
      "metadata": {
        "ExecuteTime": {
          "end_time": "2025-02-19T20:29:23.934981Z",
          "start_time": "2025-02-19T20:29:23.919033Z"
        },
        "colab": {
          "base_uri": "https://localhost:8080/",
          "height": 34
        },
        "id": "658192f92acebd88",
        "outputId": "c48583bb-a61e-4c56-ea99-4c9ddaff0cc5",
        "vscode": {
          "languageId": "r"
        }
      },
      "outputs": [
        {
          "data": {
            "text/html": [
              "44.89"
            ],
            "text/latex": [
              "44.89"
            ],
            "text/markdown": [
              "44.89"
            ],
            "text/plain": [
              "[1] 44.89"
            ]
          },
          "metadata": {},
          "output_type": "display_data"
        }
      ],
      "source": [
        "valor_final_ocupadam <- ocupadam_sin_2022$porcentaje[2]\n",
        "valor_final_ocupadam"
      ]
    },
    {
      "cell_type": "code",
      "execution_count": 40,
      "id": "GnBU5D9gfm4V",
      "metadata": {
        "ExecuteTime": {
          "end_time": "2025-02-19T20:44:56.232573Z",
          "start_time": "2025-02-19T20:44:56.209516Z"
        },
        "colab": {
          "base_uri": "https://localhost:8080/",
          "height": 52
        },
        "id": "GnBU5D9gfm4V",
        "outputId": "45e7544c-4f25-462b-9ae3-deedde5c7847",
        "vscode": {
          "languageId": "r"
        }
      },
      "outputs": [
        {
          "name": "stdout",
          "output_type": "stream",
          "text": [
            "[1] \"Se estima una tasa de crecimiento promedio anual para utilizarse como base en la proyección de metas a 2025\"\n"
          ]
        },
        {
          "data": {
            "text/html": [
              "0.00327111739446795"
            ],
            "text/latex": [
              "0.00327111739446795"
            ],
            "text/markdown": [
              "0.00327111739446795"
            ],
            "text/plain": [
              "[1] 0.003271117"
            ]
          },
          "metadata": {},
          "output_type": "display_data"
        }
      ],
      "source": [
        "#Metas población ocupada mujeres\n",
        "#Tabla de Población ocupada indígena mujeres en la CDMX\n",
        "## Calcular tasa de crecimiento promedio anual de 2016 a 2021 (sin incluir 2022)\n",
        "valor_inicial_ocupadam <- ocupadam_sin_2022$porcentaje[1]\n",
        "valor_final_ocupadam <- ocupadam_sin_2022$porcentaje[length(ocupadam_sin_2022$porcentaje)]\n",
        "#valor_final_ocupadam <- ocupadam_sin_2022$porcentaje[3]\n",
        "n <- 10\n",
        "#n <- ocupadam_sin_2022$year[length(ocupadam_sin_2022$year)] - ocupadam_sin_2022$year[1]\n",
        "\n",
        "tasa_crecimiento_ocupadam <- (valor_final_ocupadam / valor_inicial_ocupadam)^(1 / n) - 1\n",
        "print(\"Se estima una tasa de crecimiento promedio anual para utilizarse como base en la proyección de metas a 2025\")\n",
        "tasa_crecimiento_ocupadam"
      ]
    },
    {
      "cell_type": "code",
      "execution_count": 41,
      "id": "ozdPR9s-fqr7",
      "metadata": {
        "ExecuteTime": {
          "end_time": "2025-02-19T20:45:00.376781Z",
          "start_time": "2025-02-19T20:45:00.051434Z"
        },
        "colab": {
          "base_uri": "https://localhost:8080/",
          "height": 1000
        },
        "id": "ozdPR9s-fqr7",
        "outputId": "5d54e8a3-b7d5-4cab-9bd4-6c1a7b28b3a8",
        "vscode": {
          "languageId": "r"
        }
      },
      "outputs": [
        {
          "data": {
            "text/html": [
              "<table class=\"dataframe\">\n",
              "<caption>A data.frame: 23 × 2</caption>\n",
              "<thead>\n",
              "\t<tr><th scope=col>year</th><th scope=col>porcentaje</th></tr>\n",
              "\t<tr><th scope=col>&lt;dbl&gt;</th><th scope=col>&lt;dbl&gt;</th></tr>\n",
              "</thead>\n",
              "<tbody>\n",
              "\t<tr><td>2023</td><td>45.73777</td></tr>\n",
              "\t<tr><td>2024</td><td>45.88738</td></tr>\n",
              "\t<tr><td>2025</td><td>46.03748</td></tr>\n",
              "\t<tr><td>2026</td><td>46.18808</td></tr>\n",
              "\t<tr><td>2027</td><td>46.33916</td></tr>\n",
              "\t<tr><td>2028</td><td>46.49074</td></tr>\n",
              "\t<tr><td>2029</td><td>46.64282</td></tr>\n",
              "\t<tr><td>2030</td><td>46.79539</td></tr>\n",
              "\t<tr><td>2031</td><td>46.94847</td></tr>\n",
              "\t<tr><td>2032</td><td>47.10204</td></tr>\n",
              "\t<tr><td>2033</td><td>47.25612</td></tr>\n",
              "\t<tr><td>2034</td><td>47.41070</td></tr>\n",
              "\t<tr><td>2035</td><td>47.56578</td></tr>\n",
              "\t<tr><td>2036</td><td>47.72138</td></tr>\n",
              "\t<tr><td>2037</td><td>47.87748</td></tr>\n",
              "\t<tr><td>2038</td><td>48.03409</td></tr>\n",
              "\t<tr><td>2039</td><td>48.19122</td></tr>\n",
              "\t<tr><td>2040</td><td>48.34886</td></tr>\n",
              "\t<tr><td>2041</td><td>48.50701</td></tr>\n",
              "\t<tr><td>2042</td><td>48.66568</td></tr>\n",
              "\t<tr><td>2043</td><td>48.82487</td></tr>\n",
              "\t<tr><td>2044</td><td>48.98459</td></tr>\n",
              "\t<tr><td>2045</td><td>49.14482</td></tr>\n",
              "</tbody>\n",
              "</table>\n"
            ],
            "text/latex": [
              "A data.frame: 23 × 2\n",
              "\\begin{tabular}{ll}\n",
              " year & porcentaje\\\\\n",
              " <dbl> & <dbl>\\\\\n",
              "\\hline\n",
              "\t 2023 & 45.73777\\\\\n",
              "\t 2024 & 45.88738\\\\\n",
              "\t 2025 & 46.03748\\\\\n",
              "\t 2026 & 46.18808\\\\\n",
              "\t 2027 & 46.33916\\\\\n",
              "\t 2028 & 46.49074\\\\\n",
              "\t 2029 & 46.64282\\\\\n",
              "\t 2030 & 46.79539\\\\\n",
              "\t 2031 & 46.94847\\\\\n",
              "\t 2032 & 47.10204\\\\\n",
              "\t 2033 & 47.25612\\\\\n",
              "\t 2034 & 47.41070\\\\\n",
              "\t 2035 & 47.56578\\\\\n",
              "\t 2036 & 47.72138\\\\\n",
              "\t 2037 & 47.87748\\\\\n",
              "\t 2038 & 48.03409\\\\\n",
              "\t 2039 & 48.19122\\\\\n",
              "\t 2040 & 48.34886\\\\\n",
              "\t 2041 & 48.50701\\\\\n",
              "\t 2042 & 48.66568\\\\\n",
              "\t 2043 & 48.82487\\\\\n",
              "\t 2044 & 48.98459\\\\\n",
              "\t 2045 & 49.14482\\\\\n",
              "\\end{tabular}\n"
            ],
            "text/markdown": [
              "\n",
              "A data.frame: 23 × 2\n",
              "\n",
              "| year &lt;dbl&gt; | porcentaje &lt;dbl&gt; |\n",
              "|---|---|\n",
              "| 2023 | 45.73777 |\n",
              "| 2024 | 45.88738 |\n",
              "| 2025 | 46.03748 |\n",
              "| 2026 | 46.18808 |\n",
              "| 2027 | 46.33916 |\n",
              "| 2028 | 46.49074 |\n",
              "| 2029 | 46.64282 |\n",
              "| 2030 | 46.79539 |\n",
              "| 2031 | 46.94847 |\n",
              "| 2032 | 47.10204 |\n",
              "| 2033 | 47.25612 |\n",
              "| 2034 | 47.41070 |\n",
              "| 2035 | 47.56578 |\n",
              "| 2036 | 47.72138 |\n",
              "| 2037 | 47.87748 |\n",
              "| 2038 | 48.03409 |\n",
              "| 2039 | 48.19122 |\n",
              "| 2040 | 48.34886 |\n",
              "| 2041 | 48.50701 |\n",
              "| 2042 | 48.66568 |\n",
              "| 2043 | 48.82487 |\n",
              "| 2044 | 48.98459 |\n",
              "| 2045 | 49.14482 |\n",
              "\n"
            ],
            "text/plain": [
              "   year porcentaje\n",
              "1  2023 45.73777  \n",
              "2  2024 45.88738  \n",
              "3  2025 46.03748  \n",
              "4  2026 46.18808  \n",
              "5  2027 46.33916  \n",
              "6  2028 46.49074  \n",
              "7  2029 46.64282  \n",
              "8  2030 46.79539  \n",
              "9  2031 46.94847  \n",
              "10 2032 47.10204  \n",
              "11 2033 47.25612  \n",
              "12 2034 47.41070  \n",
              "13 2035 47.56578  \n",
              "14 2036 47.72138  \n",
              "15 2037 47.87748  \n",
              "16 2038 48.03409  \n",
              "17 2039 48.19122  \n",
              "18 2040 48.34886  \n",
              "19 2041 48.50701  \n",
              "20 2042 48.66568  \n",
              "21 2043 48.82487  \n",
              "22 2044 48.98459  \n",
              "23 2045 49.14482  "
            ]
          },
          "metadata": {},
          "output_type": "display_data"
        },
        {
          "data": {
            "text/html": [
              "<table class=\"dataframe\">\n",
              "<caption>A data.frame: 3 × 2</caption>\n",
              "<thead>\n",
              "\t<tr><th scope=col>year</th><th scope=col>porcentaje</th></tr>\n",
              "\t<tr><th scope=col>&lt;dbl&gt;</th><th scope=col>&lt;dbl&gt;</th></tr>\n",
              "</thead>\n",
              "<tbody>\n",
              "\t<tr><td>2030</td><td>46.79539</td></tr>\n",
              "\t<tr><td>2035</td><td>47.56578</td></tr>\n",
              "\t<tr><td>2045</td><td>49.14482</td></tr>\n",
              "</tbody>\n",
              "</table>\n"
            ],
            "text/latex": [
              "A data.frame: 3 × 2\n",
              "\\begin{tabular}{ll}\n",
              " year & porcentaje\\\\\n",
              " <dbl> & <dbl>\\\\\n",
              "\\hline\n",
              "\t 2030 & 46.79539\\\\\n",
              "\t 2035 & 47.56578\\\\\n",
              "\t 2045 & 49.14482\\\\\n",
              "\\end{tabular}\n"
            ],
            "text/markdown": [
              "\n",
              "A data.frame: 3 × 2\n",
              "\n",
              "| year &lt;dbl&gt; | porcentaje &lt;dbl&gt; |\n",
              "|---|---|\n",
              "| 2030 | 46.79539 |\n",
              "| 2035 | 47.56578 |\n",
              "| 2045 | 49.14482 |\n",
              "\n"
            ],
            "text/plain": [
              "  year porcentaje\n",
              "1 2030 46.79539  \n",
              "2 2035 47.56578  \n",
              "3 2045 49.14482  "
            ]
          },
          "metadata": {},
          "output_type": "display_data"
        },
        {
          "data": {
            "image/png": "[encoded data removed]",
            "text/plain": [
              "plot without title"
            ]
          },
          "metadata": {
            "image/png": {
              "height": 420,
              "width": 420
            }
          },
          "output_type": "display_data"
        }
      ],
      "source": [
        "proyecciones_ocupadam <- data.frame(year = seq(2023, 2045, by = 1))\n",
        "proyecciones_ocupadam$porcentaje <- valor_final_ocupadam * (1 + tasa_crecimiento_ocupadam)^(proyecciones_ocupadam$year - 2021)\n",
        "proyecciones_ocupadam\n",
        "\n",
        "datos_proyectados_ocupadam <- rbind(ocupadam, proyecciones_ocupadam)\n",
        "\n",
        "\n",
        "ggplot(datos_proyectados_ocupadam, aes(x = year, y = porcentaje)) +\n",
        "  geom_line(color=\"#235B4E\", size=2)+\n",
        "  geom_point() +\n",
        "  geom_vline(xintercept = 2022, linetype = \"dashed\", color = \"red\", size = 1)+\n",
        "  labs(title = \"Porcentaje de población ocupada mujer que pertenece a\n",
        "pueblos indígenas en la Ciudad, 2016-2045\",\n",
        "       x = \"Año\",\n",
        "       y = \"Porcentaje\",\n",
        "\n",
        "       caption=\"Fuente: Elaborado por IPDP CDMX con información de INEGI. Encuesta Nacional de Ingresos y Gastos de los Hogares (ENIGH).\"\n",
        "       ) +\n",
        "\n",
        "  theme_minimal()+\n",
        "  theme(\n",
        "    plot.title = element_text(hjust = 0, size=30,face=\"bold\"),\n",
        "    plot.subtitle = element_text(hjust = 0, size=20, face=\"italic\"),\n",
        "    plot.caption = element_text(hjust = 0,size=15),\n",
        "    axis.text.x = element_text(angle = 90, vjust = 0.5,size=15),\n",
        "    text=element_text(\"pop\",size=20))\n",
        "\n",
        "ggsave(\"pob_ocupada_mujer_ind.png\",width=16,height=8, dpi=100, bg=\"white\")\n",
        "\n",
        "\n",
        "\n",
        "#Datos 2030, 2035 y 2045\n",
        "datos_proyectados_ocupadam %>% filter(year %in% c(2030, 2035, 2045))"
      ]
    },
    {
      "cell_type": "markdown",
      "id": "984afef2",
      "metadata": {
        "id": "984afef2"
      },
      "source": [
        "### Escenarios"
      ]
    },
    {
      "cell_type": "code",
      "execution_count": null,
      "id": "5e20aed5",
      "metadata": {
        "id": "5e20aed5",
        "vscode": {
          "languageId": "r"
        }
      },
      "outputs": [],
      "source": [
        "generar_grafica <- function(tabla_obs, tabla_est, margen, titulo,\n",
        "                            nombre_archivo, nombre_estimado_futuro,\n",
        "                            linea_vertical,\n",
        "                            ano_base= 2022,\n",
        "                            nombre_intervalo_superior, nombre_intervalo_inferior,\n",
        "                            limite_inferior_y, variable_intervals = \"porcentaje\") {\n",
        "\n",
        "  serie_completa <- dplyr::bind_rows(\n",
        "    tabla_obs %>%\n",
        "      dplyr::mutate(year = as.numeric(year)) %>%\n",
        "      intervals(variable_intervals, margen = 0, año_base = ano_base),\n",
        "\n",
        "    tabla_est %>%\n",
        "      dplyr::mutate(year = as.numeric(year)) %>%\n",
        "      intervals(variable_intervals, margen = margen, año_base = ano_base)\n",
        "  )\n",
        "\n",
        "  grafica <- grafica_bonita(\n",
        "    data = serie_completa,\n",
        "    x = \"year\",\n",
        "    y = \"estimado\",\n",
        "    titulo = titulo,\n",
        "    linea_vertical = linea_vertical,\n",
        "    mostrar_intervalo = \"ambos\",\n",
        "    nombre_observado = \"Observado\",\n",
        "    nombre_estimado_futuro = nombre_estimado_futuro,\n",
        "    nombre_intervalo_superior = nombre_intervalo_superior,\n",
        "    nombre_intervalo_inferior = nombre_intervalo_inferior,\n",
        "    mostrar_leyenda = TRUE,\n",
        "    fuente = \"pop\",\n",
        "    etiqueta_x = \"Año\",\n",
        "    etiqueta_y = \"Porcentaje\",\n",
        "    titulo_leyenda = \"Escenarios\",\n",
        "    limite_inferior_y = limite_inferior_y\n",
        "  )\n",
        "\n",
        "  ggplot2::ggsave(paste0(\"H:/Mi unidad/pgd/graficas/\",nombre_archivo), grafica, width = 12, height = 10, dpi = 100, bg = \"white\")}"
      ]
    },
    {
      "cell_type": "code",
      "execution_count": 47,
      "id": "6393fcc1",
      "metadata": {
        "id": "6393fcc1",
        "vscode": {
          "languageId": "r"
        }
      },
      "outputs": [],
      "source": [
        "configuraciones <- tibble::tibble(\n",
        "  tabla_obs = list(tabla_hablante,tabla_indigena,tabla_ocupacion,tabla_ocupacion_mujer,tabla_analfabetismo,tabla_pobreza),\n",
        "  tabla_est = list(proyecciones_hablante,proyecciones_adscribe,proyecciones_ocupada,proyecciones_ocupadam,proyecciones,proyecciones_pobreza),\n",
        "  margen = c(0.004,0.004,0.004,0.004,0.004,0.004),\n",
        "  ano_base = c(2019,2020,2020,2020,2020,2020),\n",
        "  nombre_archivo = c(\"habla_indigena_estimada.png\",\n",
        "  \"autoadscribe_indigena_estimada.png\",\n",
        "  \"ocupada_indigena_estimada.png\",\n",
        "  \"mujeres_ocup_indigena_estimada.png\",\n",
        "  \"analfabeta_indigena_estimada.png\",\n",
        "  \"indigena_pobreza_estimada.png\"),\n",
        "  linea_vertical = c(2022, 2022, 2022,2022,2022,2022),\n",
        "  titulo = c(\"Porcentaje de población\n",
        "  que habla alguna lengua indígena en la CDMX\",\n",
        "  \"Porcentaje de población\n",
        "  que se auto adscribe indígena en la CDMX\",\n",
        "  \"Porcentaje de población ocupada\n",
        "  que pertenece a  pueblos indígenas en la CDMX\",\n",
        "  \"Porcentaje de mujeres indígenas ocupadas\n",
        "  en la Ciudad de México\",\n",
        "  \"Porcentaje de población analfabeta indígena\n",
        "  en la CDMX\",\n",
        "  \"Porcentaje de población indígena\n",
        "  en situación de pobreza en la CDMX\"\n",
        "  ),\n",
        "  nombre_estimado_futuro = c(\"Deseable\", \"Deseable\", \"Deseable\",\"Deseable\",\"Deseable\",\"Deseable\"),\n",
        "  nombre_intervalo_superior = c(\"Transformador\", \"Transformador\", \"Transformador\",\"Transformador\",\"Transformador\",\"Inercial\"),\n",
        "  nombre_intervalo_inferior = c(\"Inercial\",\"Inercial\",\"Inercial\",\"Inercial\",\"Inercial\",\"Transformador\"),\n",
        "  limite_inferior_y = c(0,0,0,0,0,0),\n",
        "  variable_intervals = c(\"porcentaje\",\"porcentaje\",\"porcentaje\",\"porcentaje\",\"porcentaje\",\"porcentaje\")\n",
        ")"
      ]
    },
    {
      "cell_type": "code",
      "execution_count": 48,
      "id": "d0975959",
      "metadata": {
        "colab": {
          "base_uri": "https://localhost:8080/",
          "height": 218
        },
        "id": "d0975959",
        "outputId": "ffde9862-8b50-4196-e230-ea9ccf9df0c9",
        "vscode": {
          "languageId": "r"
        }
      },
      "outputs": [
        {
          "name": "stderr",
          "output_type": "stream",
          "text": [
            "\u001b[1m\u001b[22mAdding missing grouping variables: `trapais`\n",
            "\u001b[1m\u001b[22mAdding missing grouping variables: `etnia`\n",
            "\u001b[1m\u001b[22mAdding missing grouping variables: `etnia`\n",
            "\u001b[1m\u001b[22mAdding missing grouping variables: `etnia`\n"
          ]
        },
        {
          "data": {
            "text/html": [
              "<ol>\n",
              "\t<li>'habla_indigena_estimada.png'</li>\n",
              "\t<li>'autoadscribe_indigena_estimada.png'</li>\n",
              "\t<li>'ocupada_indigena_estimada.png'</li>\n",
              "\t<li>'mujeres_ocup_indigena_estimada.png'</li>\n",
              "\t<li>'analfabeta_indigena_estimada.png'</li>\n",
              "\t<li>'indigena_pobreza.png'</li>\n",
              "</ol>\n"
            ],
            "text/latex": [
              "\\begin{enumerate}\n",
              "\\item 'habla\\_indigena\\_estimada.png'\n",
              "\\item 'autoadscribe\\_indigena\\_estimada.png'\n",
              "\\item 'ocupada\\_indigena\\_estimada.png'\n",
              "\\item 'mujeres\\_ocup\\_indigena\\_estimada.png'\n",
              "\\item 'analfabeta\\_indigena\\_estimada.png'\n",
              "\\item 'indigena\\_pobreza.png'\n",
              "\\end{enumerate}\n"
            ],
            "text/markdown": [
              "1. 'habla_indigena_estimada.png'\n",
              "2. 'autoadscribe_indigena_estimada.png'\n",
              "3. 'ocupada_indigena_estimada.png'\n",
              "4. 'mujeres_ocup_indigena_estimada.png'\n",
              "5. 'analfabeta_indigena_estimada.png'\n",
              "6. 'indigena_pobreza.png'\n",
              "\n",
              "\n"
            ],
            "text/plain": [
              "[[1]]\n",
              "[1] \"habla_indigena_estimada.png\"\n",
              "\n",
              "[[2]]\n",
              "[1] \"autoadscribe_indigena_estimada.png\"\n",
              "\n",
              "[[3]]\n",
              "[1] \"ocupada_indigena_estimada.png\"\n",
              "\n",
              "[[4]]\n",
              "[1] \"mujeres_ocup_indigena_estimada.png\"\n",
              "\n",
              "[[5]]\n",
              "[1] \"analfabeta_indigena_estimada.png\"\n",
              "\n",
              "[[6]]\n",
              "[1] \"indigena_pobreza.png\"\n"
            ]
          },
          "metadata": {},
          "output_type": "display_data"
        }
      ],
      "source": [
        "pmap(\n",
        "  configuraciones,\n",
        "  function(tabla_obs, tabla_est, margen,\n",
        "  nombre_archivo,linea_vertical,ano_base,\n",
        "           titulo, nombre_estimado_futuro,\n",
        "           nombre_intervalo_superior, nombre_intervalo_inferior,\n",
        "           limite_inferior_y, variable_intervals) {\n",
        "    generar_grafica(\n",
        "      tabla_obs = tabla_obs,\n",
        "      tabla_est = tabla_est,\n",
        "      ano_base = ano_base,\n",
        "      linea_vertical = linea_vertical,\n",
        "      margen = margen,\n",
        "      titulo = titulo,\n",
        "      nombre_archivo = nombre_archivo,\n",
        "      nombre_estimado_futuro = nombre_estimado_futuro,\n",
        "      nombre_intervalo_superior = nombre_intervalo_superior,\n",
        "      nombre_intervalo_inferior = nombre_intervalo_inferior,\n",
        "      limite_inferior_y = limite_inferior_y,\n",
        "      variable_intervals = variable_intervals\n",
        "    )\n",
        "  }\n",
        ")"
      ]
    }
  ],
  "metadata": {
    "colab": {
      "include_colab_link": true,
      "provenance": []
    },
    "kernelspec": {
      "display_name": "R",
      "language": "R",
      "name": "ir"
    },
    "language_info": {
      "codemirror_mode": {
        "name": "ipython",
        "version": 2
      },
      "file_extension": ".py",
      "mimetype": "text/x-python",
      "name": "R",
      "nbconvert_exporter": "python",
      "pygments_lexer": "ipython2",
      "version": "2.7.6"
    }
  },
  "nbformat": 4,
  "nbformat_minor": 5
}
