{
 "cells": [
  {
   "cell_type": "markdown",
   "id": "0c1b273d",
   "metadata": {},
   "source": [
    "### Propuesta indicadores habitabilidad"
   ]
  },
  {
   "cell_type": "code",
   "execution_count": 1,
   "id": "596411a5",
   "metadata": {
    "vscode": {
     "languageId": "r"
    }
   },
   "outputs": [
    {
     "name": "stderr",
     "output_type": "stream",
     "text": [
      "Cargando paquete requerido: pacman\n",
      "\n",
      "Using GitHub PAT from the git credential store.\n",
      "\n",
      "Downloading GitHub repo cpyp-ipdp/funcionespgd@HEAD\n",
      "\n"
     ]
    },
    {
     "name": "stdout",
     "output_type": "stream",
     "text": [
      "rlang  (1.1.4 -> 1.1.6) [CRAN]\n",
      "glue   (1.7.0 -> 1.8.0) [CRAN]\n",
      "cli    (3.6.3 -> 3.6.5) [CRAN]\n",
      "tibble (3.2.1 -> 3.3.0) [CRAN]\n"
     ]
    },
    {
     "name": "stderr",
     "output_type": "stream",
     "text": [
      "Installing 4 packages: rlang, glue, cli, tibble\n",
      "\n",
      "Warning message:\n",
      "\"package 'tibble' is in use and will not be installed\"\n",
      "Installing packages into 'C:/Users/claud/AppData/Local/R/win-library/4.4'\n",
      "(as 'lib' is unspecified)\n",
      "\n"
     ]
    },
    {
     "name": "stdout",
     "output_type": "stream",
     "text": [
      "package 'rlang' successfully unpacked and MD5 sums checked\n"
     ]
    },
    {
     "name": "stderr",
     "output_type": "stream",
     "text": [
      "Warning message:\n",
      "\"cannot remove prior installation of package 'rlang'\"\n",
      "Warning message in file.copy(savedcopy, lib, recursive = TRUE):\n",
      "\"problema al copiar C:\\Users\\claud\\AppData\\Local\\R\\win-library\\4.4\\00LOCK\\rlang\\libs\\x64\\rlang.dll  a C:\\Users\\claud\\AppData\\Local\\R\\win-library\\4.4\\rlang\\libs\\x64\\rlang.dll: Permission denied\"\n",
      "Warning message:\n",
      "\"restored 'rlang'\"\n"
     ]
    },
    {
     "name": "stdout",
     "output_type": "stream",
     "text": [
      "package 'glue' successfully unpacked and MD5 sums checked\n"
     ]
    },
    {
     "name": "stderr",
     "output_type": "stream",
     "text": [
      "Warning message:\n",
      "\"cannot remove prior installation of package 'glue'\"\n",
      "Warning message in file.copy(savedcopy, lib, recursive = TRUE):\n",
      "\"problema al copiar C:\\Users\\claud\\AppData\\Local\\R\\win-library\\4.4\\00LOCK\\glue\\libs\\x64\\glue.dll  a C:\\Users\\claud\\AppData\\Local\\R\\win-library\\4.4\\glue\\libs\\x64\\glue.dll: Permission denied\"\n",
      "Warning message:\n",
      "\"restored 'glue'\"\n"
     ]
    },
    {
     "name": "stdout",
     "output_type": "stream",
     "text": [
      "package 'cli' successfully unpacked and MD5 sums checked\n"
     ]
    },
    {
     "name": "stderr",
     "output_type": "stream",
     "text": [
      "Warning message:\n",
      "\"cannot remove prior installation of package 'cli'\"\n",
      "Warning message in file.copy(savedcopy, lib, recursive = TRUE):\n",
      "\"problema al copiar C:\\Users\\claud\\AppData\\Local\\R\\win-library\\4.4\\00LOCK\\cli\\libs\\x64\\cli.dll  a C:\\Users\\claud\\AppData\\Local\\R\\win-library\\4.4\\cli\\libs\\x64\\cli.dll: Permission denied\"\n",
      "Warning message:\n",
      "\"restored 'cli'\"\n"
     ]
    },
    {
     "name": "stdout",
     "output_type": "stream",
     "text": [
      "\n",
      "The downloaded binary packages are in\n",
      "\tC:\\Users\\claud\\AppData\\Local\\Temp\\RtmpkP6QEw\\downloaded_packages\n",
      "\u001b[36m──\u001b[39m \u001b[36mR CMD build\u001b[39m \u001b[36m─────────────────────────────────────────────────────────────────\u001b[39m\n",
      "* checking for file 'C:\\Users\\claud\\AppData\\Local\\Temp\\RtmpkP6QEw\\remotes82b02fd94413\\cpyp-ipdp-funcionespgd-3fffa52/DESCRIPTION' ... OK\n",
      "* preparing 'funcionespgd':\n",
      "* checking DESCRIPTION meta-information ... OK\n",
      "* checking for LF line-endings in source and make files and shell scripts\n",
      "* checking for empty or unneeded directories\n",
      "Omitted 'LazyData' from DESCRIPTION\n",
      "* building 'funcionespgd_0.1.0.tar.gz'\n",
      "\n"
     ]
    },
    {
     "name": "stderr",
     "output_type": "stream",
     "text": [
      "Installing package into 'C:/Users/claud/AppData/Local/R/win-library/4.4'\n",
      "(as 'lib' is unspecified)\n",
      "\n"
     ]
    }
   ],
   "source": [
    "rm(list=ls())\n",
    "\n",
    "# Librerías ====\n",
    "if(!require('pacman')) install.packages('pacman')\n",
    "pacman::p_load(tidyverse, srvyr,showtext,gt)\n",
    "remotes::install_github(\"cpyp-ipdp/funcionespgd\", force = TRUE)\n",
    "library(funcionespgd)\n",
    "\n",
    "#Fuente para los gráficos\n",
    "font_add_google(\"Poppins\", \"pop\")\n",
    "showtext_auto()"
   ]
  },
  {
   "cell_type": "markdown",
   "id": "42b0dd32",
   "metadata": {},
   "source": [
    "### Pobreza de adecuación sanitaria"
   ]
  },
  {
   "cell_type": "code",
   "execution_count": 2,
   "id": "dd2d8084",
   "metadata": {
    "vscode": {
     "languageId": "r"
    }
   },
   "outputs": [
    {
     "name": "stderr",
     "output_type": "stream",
     "text": [
      "Archivo renombrado y movido: data/ns_viviendas_2018.csv\n",
      "\n",
      "Archivo renombrado y movido: data/ns_poblacion_2018.csv\n",
      "\n",
      "Archivo renombrado y movido: data/ns_viviendas_2020.csv\n",
      "\n",
      "Archivo renombrado y movido: data/ns_poblacion_2020.csv\n",
      "\n",
      "Archivo renombrado y movido: data/ns_viviendas_2022.csv\n",
      "\n",
      "Archivo renombrado y movido: data/ns_poblacion_2022.csv\n",
      "\n",
      "Archivo renombrado y movido: data/ns_viviendas_2024.csv\n",
      "\n",
      "Archivo renombrado y movido: data/ns_poblacion_2024.csv\n",
      "\n"
     ]
    }
   ],
   "source": [
    "# Definir URL base y parte intermedia\n",
    "url_basica <- \"https://www.inegi.org.mx/contenidos/programas/enigh/nc/\"\n",
    "segunda_parte <- \"microdatos/enigh\"\n",
    "\n",
    "# Definir los años y los tipos de archivos a descargar\n",
    "years <- c(\"2018\", \"2020\", \"2022\", \"2024\")\n",
    "tipos <- c(\"ns_viviendas\", \"ns_poblacion\")  # Tipos de archivos\n",
    "\n",
    "# Crear la carpeta de destino si no existe\n",
    "if (!dir.exists(\"data\")) {\n",
    "  dir.create(\"data\")\n",
    "}\n",
    "\n",
    "# Descargar, descomprimir y renombrar los archivos\n",
    "for (year in years) {\n",
    "  for (tipo in tipos) {\n",
    "    # Construir URL y nombres de archivo\n",
    "    url <- paste0(url_basica, year, \"/\", segunda_parte, year, \"_\", tipo, \"_csv.zip\")\n",
    "    zip_destfile <- paste0(\"data/\", year, \"_\", tipo, \".zip\")\n",
    "\n",
    "    # Descargar solo si el archivo no existe\n",
    "    if (!file.exists(zip_destfile)) {\n",
    "      download.file(url, destfile = zip_destfile, mode = \"wb\")\n",
    "    } else {\n",
    "      message(\"Archivo ya descargado: \", zip_destfile)\n",
    "    }\n",
    "\n",
    "    # Extraer archivos en una subcarpeta específica\n",
    "    extract_dir <- paste0(\"data/\", year, \"_\", tipo)\n",
    "    if (!dir.exists(extract_dir)) {\n",
    "      dir.create(extract_dir)\n",
    "    }\n",
    "\n",
    "    unzip(zip_destfile, exdir = extract_dir)\n",
    "\n",
    "    # Buscar el archivo CSV dentro de la carpeta extraída\n",
    "    extracted_files <- list.files(extract_dir, pattern = \"\\\\.csv$\", full.names = TRUE)\n",
    "\n",
    "    if (length(extracted_files) == 1) {\n",
    "      # Determinar el nuevo nombre con formato adecuado\n",
    "      new_name <- paste0(\"data/\", tipo, \"_\", year, \".csv\")\n",
    "\n",
    "      # Mover el archivo al directorio principal y renombrarlo\n",
    "      file.rename(extracted_files, new_name)\n",
    "\n",
    "      message(\"Archivo renombrado y movido: \", new_name)\n",
    "    } else {\n",
    "      message(\"Error: No se encontró un archivo CSV único en \", extract_dir)\n",
    "    }\n",
    "  }\n",
    "}\n"
   ]
  },
  {
   "cell_type": "code",
   "execution_count": 3,
   "id": "a5927861",
   "metadata": {
    "vscode": {
     "languageId": "r"
    }
   },
   "outputs": [],
   "source": [
    "estima_pobreza_sanitaria <- function(year, variable) {\n",
    "\n",
    "#Procesar vivienda\n",
    "  vivienda <- read_csv(paste0(\"data/ns_viviendas_\", year, \".csv\"), show_col_types = FALSE) %>%\n",
    "  #Abasto de agua\n",
    "   mutate(\n",
    "      # --- HOMOLOGACIÓN 2024+ PARA DISP_AGUA ---\n",
    "      Aj = if (year >= 2024) {\n",
    "        case_when(\n",
    "          # Agua entubada dentro -> disp_agua = 1 -> Aj = 3\n",
    "          agua_ent == 1 ~ 3,\n",
    "          # Agua entubada fuera (patio/terreno) -> disp_agua = 2 -> Aj = 2\n",
    "          agua_ent == 2 ~ 2,\n",
    "\n",
    "          # No entubada (agua_ent == 3): mapear por ab_agua / agua_noe\n",
    "          (agua_ent == 3) & (ab_agua == 1 | agua_noe == 2) ~ 1,                # llave pública / comunitaria\n",
    "          (agua_ent == 3) & (ab_agua == 4)                 ~ 1,                # pipa\n",
    "          (agua_ent == 3) & (ab_agua == 5 | agua_noe == 3) ~ 0,                # de otra vivienda\n",
    "          (agua_ent == 3) & (ab_agua == 6 | agua_noe == 5) ~ 0,                # de la lluvia\n",
    "          (agua_ent == 3) & (ab_agua %in% c(2,3,7) | agua_noe %in% c(1,4,6)) ~ 0,  # pozo / río-lago / otro\n",
    "\n",
    "          TRUE ~ NA_real_\n",
    "        )\n",
    "      } else {\n",
    "        case_when(\n",
    "          disp_agua %in% c(7, 5, 4) ~ 0,\n",
    "          disp_agua %in% c(3, 6)    ~ 1,\n",
    "          disp_agua == 2            ~ 2,\n",
    "          disp_agua == 1            ~ 3,\n",
    "          TRUE ~ NA_real_\n",
    "        )\n",
    "      },\n",
    "      AAj = Aj / 3,\n",
    "\n",
    "###Frecuencia de agua\n",
    "Frec_Aguaj = case_when(\n",
    "        dotac_agua == 1 ~ 4.0,\n",
    "        dotac_agua == 2 ~ 2.0,\n",
    "        dotac_agua == 3 ~ 1.2,\n",
    "        dotac_agua == 4 ~ 0.6,\n",
    "        dotac_agua == 5 ~ 0.4,\n",
    "        TRUE ~ NA_real_\n",
    "      ),\n",
    "AFAj = Frec_Aguaj / 4,\n",
    "\n",
    "###índice de adecuación y frecuencia de agua\n",
    "      AAHj = case_when(\n",
    "        Aj %in% c(0, 1) ~ AAj,\n",
    "        Aj %in% c(2, 3) ~ AAj * AFAj,\n",
    "        TRUE ~ NA_real_\n",
    "      ),\n",
    "\n",
    "####Índice de adecuación de drenaje\n",
    "      Drj  = case_when(\n",
    "        drenaje %in% c(1, 2) ~ 1,\n",
    "        drenaje %in% c(3, 4, 5) ~ 0,\n",
    "        TRUE ~ NA_real_\n",
    "      ),\n",
    "      ADrj = Drj/1,\n",
    "\n",
    "###Índice de adecuación de excusado\n",
    "      EXj = if (year >= 2024) {\n",
    "        # 2024+: 1=Taza de baño, 2=Letrina, 3=No tienen\n",
    "        case_when(\n",
    "          as.numeric(excusado) %in% c(2, 3) ~ 0,                                      # letrina o no tienen -> no cumple\n",
    "          as.numeric(excusado) == 1 & sanit_agua == \"3\" ~ 0,                          # taza pero sin descarga\n",
    "          as.numeric(excusado) == 1 & uso_compar == \"1\" & sanit_agua == \"2\" ~ 2,      # compartido + sin descarga directa\n",
    "          as.numeric(excusado) == 1 & uso_compar == \"1\" & sanit_agua == \"1\" ~ 3,      # compartido + descarga directa\n",
    "          as.numeric(excusado) == 1 & uso_compar == \"2\" & sanit_agua == \"2\" ~ 3,      # exclusivo + sin descarga directa\n",
    "          as.numeric(excusado) == 1 & uso_compar == \"2\" & sanit_agua == \"1\" ~ 4,      # exclusivo + descarga directa (norma)\n",
    "          TRUE ~ NA_real_\n",
    "        )\n",
    "      } else {\n",
    "        # Hasta 2022: 1=Sí, 2=No\n",
    "        case_when(\n",
    "          excusado == \"2\" ~ 0,\n",
    "          sanit_agua == \"3\" ~ 0,\n",
    "          uso_compar == \"1\" & sanit_agua == \"2\" ~ 2,\n",
    "          uso_compar == \"1\" & sanit_agua == \"1\" ~ 3,\n",
    "          uso_compar == \"2\" & sanit_agua == \"2\" ~ 3,\n",
    "          uso_compar == \"2\" & sanit_agua == \"1\" ~ 4,\n",
    "          TRUE ~ NA_real_\n",
    "        )\n",
    "      },\n",
    "      AEXj = EXj / 4) %>%\n",
    "\n",
    "   #Seleccionar las variables requeridas\n",
    "    {\n",
    "      if(year < 2022) select(., folioviv,Aj, AAj, Frec_Aguaj, AFAj, AAHj, Drj, ADrj, EXj, AEXj,upm, est_dis, factor) else\n",
    "        select(., folioviv, Aj, AAj, Frec_Aguaj, AFAj, AAHj, Drj, ADrj, EXj, AEXj)\n",
    "    }\n",
    "\n",
    " pob <- read_csv(paste0(\"data/ns_poblacion_\", year, \".csv\"), show_col_types = FALSE) %>%\n",
    "    janitor::clean_names() %>%\n",
    "    # Filtrar parentescos que no pertenecen al nucleo familiar\n",
    "    filter(!(parentesco >= 400 & parentesco < 500) & !(parentesco >= 700 & parentesco < 800)) %>%\n",
    "    #Crear clave de entidad\n",
    "    mutate(\n",
    "      cve_ent = case_when(\n",
    "        nchar(folioviv) == 9 ~ paste0(\"0\", substr(folioviv, 1, 1)),\n",
    "        nchar(folioviv) == 10 ~ substr(folioviv, 1, 2)\n",
    "      )\n",
    "    ) %>%\n",
    "    #Pegar vivienda\n",
    "    left_join(vivienda, by = \"folioviv\") %>%\n",
    "    mutate(\n",
    "      ASj = AAHj * ADrj * AEXj,     # Adecuación sanitaria consolidada\n",
    "      CSj = 1 - ASj,                # Carencia sanitaria\n",
    "      year = year,\n",
    "###Crear estratos de Adecuación sanitaria\n",
    "E_CSj=case_when(\n",
    "    CSj<=-0.5 ~ 6,\n",
    "    CSj>-0.5 & CSj<=-0.1 ~ 5,\n",
    "    CSj>-0.1 & CSj<=0 ~ 4,\n",
    "    CSj>0 & CSj<=(1/3) ~ 3,\n",
    "    CSj>(1/3) & CSj<=0.5 ~ 2,\n",
    "    CSj>0.5 & CSj<=1 ~ 1,\n",
    "    TRUE ~ NA_real_),\n",
    "\n",
    "    ###Crear pobreza de adecuación sanitaria\n",
    "pobreza_csj = case_when(\n",
    "  E_CSj >= 4 ~ 0,\n",
    "  E_CSj <= 3 ~ 1,\n",
    "  TRUE ~ NA_real_\n",
    "))\n",
    "\n",
    "  \n",
    "#Diseño muestral\n",
    "  diseno <- pob %>%\n",
    "    as_survey_design(\n",
    "      ids = upm,\n",
    "      strata = est_dis,\n",
    "      weights = factor,\n",
    "      nest = TRUE\n",
    "    )\n",
    "\n",
    "\n",
    "\n",
    "#Estimaciones de acuerdo a variable solicitada\n",
    "resultado<-if (variable == \"pobreza_sanitaria\"){\n",
    "  diseno %>%\n",
    "    filter(cve_ent == \"09\") %>%\n",
    "    group_by(pobreza_csj) %>%\n",
    "    summarise(\n",
    "      pob = survey_total(vartype = \"cv\"),\n",
    "      porcentaje = survey_prop(vartype = \"cv\")\n",
    "    ) %>%\n",
    "    mutate(porcentaje = porcentaje * 100, year = year) %>%\n",
    "    filter(pobreza_csj == 1)\n",
    "}\n",
    "else {stop(\"Variable no reconocida\")\n",
    "\n",
    "}\n",
    "return(resultado\n",
    "  )\n",
    "}"
   ]
  },
  {
   "cell_type": "code",
   "execution_count": 4,
   "id": "cff124ae",
   "metadata": {
    "vscode": {
     "languageId": "r"
    }
   },
   "outputs": [
    {
     "name": "stderr",
     "output_type": "stream",
     "text": [
      "Warning message:\n",
      "\"\u001b[1m\u001b[22mOne or more parsing issues, call `problems()` on your data frame for details,\n",
      "e.g.:\n",
      "  dat <- vroom(...)\n",
      "  problems(dat)\"\n",
      "Warning message:\n",
      "\"\u001b[1m\u001b[22mOne or more parsing issues, call `problems()` on your data frame for details,\n",
      "e.g.:\n",
      "  dat <- vroom(...)\n",
      "  problems(dat)\"\n",
      "Warning message:\n",
      "\"\u001b[1m\u001b[22mOne or more parsing issues, call `problems()` on your data frame for details,\n",
      "e.g.:\n",
      "  dat <- vroom(...)\n",
      "  problems(dat)\"\n",
      "Warning message:\n",
      "\"\u001b[1m\u001b[22mOne or more parsing issues, call `problems()` on your data frame for details,\n",
      "e.g.:\n",
      "  dat <- vroom(...)\n",
      "  problems(dat)\"\n",
      "Warning message:\n",
      "\"\u001b[1m\u001b[22mOne or more parsing issues, call `problems()` on your data frame for details,\n",
      "e.g.:\n",
      "  dat <- vroom(...)\n",
      "  problems(dat)\"\n",
      "Warning message:\n",
      "\"\u001b[1m\u001b[22mOne or more parsing issues, call `problems()` on your data frame for details,\n",
      "e.g.:\n",
      "  dat <- vroom(...)\n",
      "  problems(dat)\"\n",
      "Warning message:\n",
      "\"\u001b[1m\u001b[22mOne or more parsing issues, call `problems()` on your data frame for details,\n",
      "e.g.:\n",
      "  dat <- vroom(...)\n",
      "  problems(dat)\"\n",
      "Warning message:\n",
      "\"\u001b[1m\u001b[22mOne or more parsing issues, call `problems()` on your data frame for details,\n",
      "e.g.:\n",
      "  dat <- vroom(...)\n",
      "  problems(dat)\"\n"
     ]
    },
    {
     "data": {
      "text/html": [
       "<table class=\"dataframe\">\n",
       "<caption>A tibble: 4 × 6</caption>\n",
       "<thead>\n",
       "\t<tr><th scope=col>pobreza_csj</th><th scope=col>pob</th><th scope=col>pob_cv</th><th scope=col>porcentaje</th><th scope=col>porcentaje_cv</th><th scope=col>year</th></tr>\n",
       "\t<tr><th scope=col>&lt;dbl&gt;</th><th scope=col>&lt;dbl&gt;</th><th scope=col>&lt;dbl&gt;</th><th scope=col>&lt;dbl&gt;</th><th scope=col>&lt;dbl&gt;</th><th scope=col>&lt;chr&gt;</th></tr>\n",
       "</thead>\n",
       "<tbody>\n",
       "\t<tr><td>1</td><td>3725292</td><td>0.05549573</td><td>40.50876</td><td>0.04689366</td><td>2018</td></tr>\n",
       "\t<tr><td>1</td><td>3226613</td><td>0.05296163</td><td>34.91762</td><td>0.04830021</td><td>2020</td></tr>\n",
       "\t<tr><td>1</td><td>3254901</td><td>0.05759466</td><td>34.98197</td><td>0.05351024</td><td>2022</td></tr>\n",
       "\t<tr><td>1</td><td>3467413</td><td>0.05502042</td><td>37.10223</td><td>0.04919279</td><td>2024</td></tr>\n",
       "</tbody>\n",
       "</table>\n"
      ],
      "text/latex": [
       "A tibble: 4 × 6\n",
       "\\begin{tabular}{llllll}\n",
       " pobreza\\_csj & pob & pob\\_cv & porcentaje & porcentaje\\_cv & year\\\\\n",
       " <dbl> & <dbl> & <dbl> & <dbl> & <dbl> & <chr>\\\\\n",
       "\\hline\n",
       "\t 1 & 3725292 & 0.05549573 & 40.50876 & 0.04689366 & 2018\\\\\n",
       "\t 1 & 3226613 & 0.05296163 & 34.91762 & 0.04830021 & 2020\\\\\n",
       "\t 1 & 3254901 & 0.05759466 & 34.98197 & 0.05351024 & 2022\\\\\n",
       "\t 1 & 3467413 & 0.05502042 & 37.10223 & 0.04919279 & 2024\\\\\n",
       "\\end{tabular}\n"
      ],
      "text/markdown": [
       "\n",
       "A tibble: 4 × 6\n",
       "\n",
       "| pobreza_csj &lt;dbl&gt; | pob &lt;dbl&gt; | pob_cv &lt;dbl&gt; | porcentaje &lt;dbl&gt; | porcentaje_cv &lt;dbl&gt; | year &lt;chr&gt; |\n",
       "|---|---|---|---|---|---|\n",
       "| 1 | 3725292 | 0.05549573 | 40.50876 | 0.04689366 | 2018 |\n",
       "| 1 | 3226613 | 0.05296163 | 34.91762 | 0.04830021 | 2020 |\n",
       "| 1 | 3254901 | 0.05759466 | 34.98197 | 0.05351024 | 2022 |\n",
       "| 1 | 3467413 | 0.05502042 | 37.10223 | 0.04919279 | 2024 |\n",
       "\n"
      ],
      "text/plain": [
       "  pobreza_csj pob     pob_cv     porcentaje porcentaje_cv year\n",
       "1 1           3725292 0.05549573 40.50876   0.04689366    2018\n",
       "2 1           3226613 0.05296163 34.91762   0.04830021    2020\n",
       "3 1           3254901 0.05759466 34.98197   0.05351024    2022\n",
       "4 1           3467413 0.05502042 37.10223   0.04919279    2024"
      ]
     },
     "metadata": {},
     "output_type": "display_data"
    }
   ],
   "source": [
    "tabla_pobreza_as <- map_dfr(years, estima_pobreza_sanitaria, variable = \"pobreza_sanitaria\")\n",
    "tabla_pobreza_as"
   ]
  },
  {
   "cell_type": "markdown",
   "id": "d05aad75",
   "metadata": {},
   "source": [
    "##### Satisfacción con parques y jardines"
   ]
  },
  {
   "cell_type": "code",
   "execution_count": 5,
   "id": "2ae82eb8",
   "metadata": {
    "vscode": {
     "languageId": "r"
    }
   },
   "outputs": [],
   "source": [
    "url_encig_basica<-\"https://www.inegi.org.mx/contenidos/programas/encig/\"\n",
    "segunda_parte<-\"microdatos/encig\""
   ]
  },
  {
   "cell_type": "code",
   "execution_count": 6,
   "id": "1e2bf3e0",
   "metadata": {
    "vscode": {
     "languageId": "r"
    }
   },
   "outputs": [],
   "source": [
    "\n",
    "years_encig<-c(\"2017\",\"2019\",\"2021\", \"2023\")"
   ]
  },
  {
   "cell_type": "code",
   "execution_count": 7,
   "id": "a89c28ef",
   "metadata": {
    "vscode": {
     "languageId": "r"
    }
   },
   "outputs": [
    {
     "name": "stdout",
     "output_type": "stream",
     "text": [
      "[1] \"https://www.inegi.org.mx/contenidos/programas/encig/2017/microdatos/encig17_base_datos_dbf.zip\"\n",
      "[1] \"https://www.inegi.org.mx/contenidos/programas/encig/2019/microdatos/encig19_base_datos_dbf.zip\"\n",
      "[1] \"https://www.inegi.org.mx/contenidos/programas/encig/2021/microdatos/encig21_base_datos_csv.zip\"\n",
      "[1] \"https://www.inegi.org.mx/contenidos/programas/encig/2023/microdatos/encig23_base_datos_csv.zip\"\n"
     ]
    }
   ],
   "source": [
    "# Descargar los archivos, descomprimirlos y renombrarlos\n",
    "#timeout de 300\n",
    "\n",
    "options(timeout = 600)\n",
    "for (i in 1:length(years_encig)) {\n",
    "  # Ajustar el sufijo de la URL y archivo según el año\n",
    "  if (years_encig[i] %in% c(\"2017\", \"2019\")) {\n",
    "    fin <- \"_base_datos_dbf.zip\"\n",
    "  } else {\n",
    "    fin <- \"_base_datos_csv.zip\"\n",
    "  }\n",
    "\n",
    "  # Construir la URL y el nombre del archivo destino\n",
    "  url <- paste0(url_encig_basica, years_encig[i], \"/\", segunda_parte, str_sub(years_encig[i], 3, 4), fin)\n",
    "  print(url)\n",
    "  destfile <- paste0(\"data/encig\", str_sub(years_encig[i], 3, 4), fin)\n",
    "  \n",
    "  # Descargar el archivo\n",
    "  download.file(url, destfile = destfile)\n",
    "  \n",
    "  # Descomprimir el archivo\n",
    "  unzip(destfile, exdir = \"data\")\n",
    "}"
   ]
  },
  {
   "cell_type": "code",
   "execution_count": 8,
   "id": "218ea766",
   "metadata": {
    "vscode": {
     "languageId": "r"
    }
   },
   "outputs": [],
   "source": [
    "# Funcion de estimación\n",
    "process_files <- function(years, variable) {\n",
    "  # Función anidada para estimar el indicador`\n",
    "  estima_indicador <- function(path, variable) {\n",
    "    # Extraer el año del archivo\n",
    "    year <- substr(path, 11, 14)\n",
    "\n",
    "    # Leer los datos y hacer las transformaciones necesarias de las variables\n",
    "    if (year %in% c(\"2017\", \"2019\")) {\n",
    "      datos <- foreign::read.dbf(path) %>%\n",
    "        janitor::clean_names() %>%\n",
    "mutate(p4_4a= as.numeric(p4_4a),\n",
    "      p4_4_2= as.numeric(p4_4_2),\n",
    "      fac_p18 = as.numeric(fac_p18),\n",
    "        upm = as.numeric(upm),\n",
    "        est_dis = as.numeric(est_dis)) %>%\n",
    "#Filtrar Ciudad de México\n",
    "        filter(ent == \"09\")\n",
    "    } else if (year %in% c(\"2021\", \"2023\")) {\n",
    "      datos <- read_csv(path,show_col_types=FALSE) %>%\n",
    "        janitor::clean_names() %>%\n",
    "#Filtrar Ciudad de México\n",
    "        filter(nom_ent == \"CIUDAD DE MEXICO\")\n",
    "    } else {\n",
    "      stop(\"Año no soportado.\")\n",
    "    }\n",
    "\n",
    "    # Diseño muestral\n",
    "    dm <- datos %>%\n",
    "      as_survey_design(ids = upm, strata = est_dis, weights = fac_p18)\n",
    "\n",
    "    # Satisfacción con parques y jardines\n",
    "    if (variable == \"satisf_parques\") {\n",
    "      satisf_pyj <- dm %>%\n",
    "mutate(satisf=case_when((p4_4a==1 | p4_4a==2) ~ \"Satisfecho\",\n",
    "    TRUE ~ \"No satisfecho\"))%>%\n",
    "        group_by(satisf) %>%\n",
    "        summarise(\n",
    "          personas = survey_total(vartype = \"cv\"),\n",
    "          porcentaje = survey_prop(vartype = \"cv\")\n",
    "        ) %>%\n",
    "ungroup()%>%\n",
    "        mutate(porcentaje = round(porcentaje * 100, 2),\n",
    "              year = year)%>%\n",
    "filter(satisf==\"Satisfecho\")\n",
    "      return(satisf_pyj)\n",
    "\n",
    "    }\n",
    " else if( variable==\"cercania_parques\"){\n",
    "\n",
    "  cercania_pyj<-dm%>%\n",
    "  mutate(cercania=case_when(p4_4_2==1 ~ \"Sí\",\n",
    "    TRUE ~ \"No\"))%>%\n",
    "  group_by(cercania)%>%\n",
    "  summarise(\n",
    "    personas = survey_total(vartype = \"cv\"),\n",
    "    porcentaje = survey_prop(vartype = \"cv\")\n",
    "  ) %>%\n",
    "  ungroup()%>%\n",
    "  mutate(porcentaje = round(porcentaje * 100, 2),\n",
    "         year = year)%>%\n",
    "  filter(cercania==\"Sí\")\n",
    "  return(cercania_pyj)\n",
    "\n",
    " }   \n",
    "      else {\n",
    "      stop(\"Variable no reconocida.\")\n",
    "    }\n",
    "  }\n",
    "\n",
    "  map_dfr(years, function(year) {\n",
    "    # File path de los archivos\n",
    "    file_path <- if (year %in% c(2017, 2019)) {\n",
    "      paste0(\"data/encig\", year, \"_01_sec1_3_4_5_8_9_10.dbf\")\n",
    "    } else if (year %in% c(2021, 2023)) {\n",
    "      paste0(\"data/encig\", year, \"_01_sec1_A_3_4_5_8_9_10.csv\")\n",
    "    } else {\n",
    "      stop(\"Año no soportado.\")\n",
    "    }\n",
    "\n",
    "    # Print del archivo que se está procesando\n",
    "    print(paste(\"Procesando archivo:\", file_path))\n",
    "\n",
    "    # Invocar la función de estimación\n",
    "    estima_indicador(file_path, variable)\n",
    "  })\n",
    "}"
   ]
  },
  {
   "cell_type": "code",
   "execution_count": 9,
   "id": "c9209b49",
   "metadata": {
    "vscode": {
     "languageId": "r"
    }
   },
   "outputs": [
    {
     "name": "stdout",
     "output_type": "stream",
     "text": [
      "[1] \"Procesando archivo: data/encig2017_01_sec1_3_4_5_8_9_10.dbf\"\n",
      "[1] \"Procesando archivo: data/encig2019_01_sec1_3_4_5_8_9_10.dbf\"\n",
      "[1] \"Procesando archivo: data/encig2021_01_sec1_A_3_4_5_8_9_10.csv\"\n"
     ]
    },
    {
     "name": "stderr",
     "output_type": "stream",
     "text": [
      "\u001b[1m\u001b[22mNew names:\n",
      "\u001b[36m•\u001b[39m `` -> `...1`\n"
     ]
    },
    {
     "name": "stdout",
     "output_type": "stream",
     "text": [
      "[1] \"Procesando archivo: data/encig2023_01_sec1_A_3_4_5_8_9_10.csv\"\n"
     ]
    },
    {
     "name": "stderr",
     "output_type": "stream",
     "text": [
      "\u001b[1m\u001b[22mNew names:\n",
      "\u001b[36m•\u001b[39m `` -> `...1`\n"
     ]
    },
    {
     "name": "stdout",
     "output_type": "stream",
     "text": [
      "[1] \"Porcentaje de personas de 18 años y más que están satisfechas con parques y jardines\"\n"
     ]
    },
    {
     "data": {
      "text/html": [
       "<table class=\"dataframe\">\n",
       "<caption>A tibble: 4 × 6</caption>\n",
       "<thead>\n",
       "\t<tr><th scope=col>satisf</th><th scope=col>personas</th><th scope=col>personas_cv</th><th scope=col>porcentaje</th><th scope=col>porcentaje_cv</th><th scope=col>year</th></tr>\n",
       "\t<tr><th scope=col>&lt;chr&gt;</th><th scope=col>&lt;dbl&gt;</th><th scope=col>&lt;dbl&gt;</th><th scope=col>&lt;dbl&gt;</th><th scope=col>&lt;dbl&gt;</th><th scope=col>&lt;chr&gt;</th></tr>\n",
       "</thead>\n",
       "<tbody>\n",
       "\t<tr><td>Satisfecho</td><td>2234247</td><td>0.03719761</td><td>25.48</td><td>0.03420882</td><td>2017</td></tr>\n",
       "\t<tr><td>Satisfecho</td><td>2282410</td><td>0.02793191</td><td>32.89</td><td>0.02568254</td><td>2019</td></tr>\n",
       "\t<tr><td>Satisfecho</td><td>2630879</td><td>0.02514460</td><td>37.81</td><td>0.02334756</td><td>2021</td></tr>\n",
       "\t<tr><td>Satisfecho</td><td>3389676</td><td>0.02415645</td><td>44.74</td><td>0.02025601</td><td>2023</td></tr>\n",
       "</tbody>\n",
       "</table>\n"
      ],
      "text/latex": [
       "A tibble: 4 × 6\n",
       "\\begin{tabular}{llllll}\n",
       " satisf & personas & personas\\_cv & porcentaje & porcentaje\\_cv & year\\\\\n",
       " <chr> & <dbl> & <dbl> & <dbl> & <dbl> & <chr>\\\\\n",
       "\\hline\n",
       "\t Satisfecho & 2234247 & 0.03719761 & 25.48 & 0.03420882 & 2017\\\\\n",
       "\t Satisfecho & 2282410 & 0.02793191 & 32.89 & 0.02568254 & 2019\\\\\n",
       "\t Satisfecho & 2630879 & 0.02514460 & 37.81 & 0.02334756 & 2021\\\\\n",
       "\t Satisfecho & 3389676 & 0.02415645 & 44.74 & 0.02025601 & 2023\\\\\n",
       "\\end{tabular}\n"
      ],
      "text/markdown": [
       "\n",
       "A tibble: 4 × 6\n",
       "\n",
       "| satisf &lt;chr&gt; | personas &lt;dbl&gt; | personas_cv &lt;dbl&gt; | porcentaje &lt;dbl&gt; | porcentaje_cv &lt;dbl&gt; | year &lt;chr&gt; |\n",
       "|---|---|---|---|---|---|\n",
       "| Satisfecho | 2234247 | 0.03719761 | 25.48 | 0.03420882 | 2017 |\n",
       "| Satisfecho | 2282410 | 0.02793191 | 32.89 | 0.02568254 | 2019 |\n",
       "| Satisfecho | 2630879 | 0.02514460 | 37.81 | 0.02334756 | 2021 |\n",
       "| Satisfecho | 3389676 | 0.02415645 | 44.74 | 0.02025601 | 2023 |\n",
       "\n"
      ],
      "text/plain": [
       "  satisf     personas personas_cv porcentaje porcentaje_cv year\n",
       "1 Satisfecho 2234247  0.03719761  25.48      0.03420882    2017\n",
       "2 Satisfecho 2282410  0.02793191  32.89      0.02568254    2019\n",
       "3 Satisfecho 2630879  0.02514460  37.81      0.02334756    2021\n",
       "4 Satisfecho 3389676  0.02415645  44.74      0.02025601    2023"
      ]
     },
     "metadata": {},
     "output_type": "display_data"
    }
   ],
   "source": [
    "\n",
    "tabla_confianza<-process_files(c(2017,2019,2021,2023), variable = \"satisf_parques\")\n",
    "print(\"Porcentaje de personas de 18 años y más que están satisfechas con parques y jardines\")\n",
    "tabla_confianza"
   ]
  },
  {
   "cell_type": "code",
   "execution_count": 10,
   "id": "fdee24d6",
   "metadata": {
    "vscode": {
     "languageId": "r"
    }
   },
   "outputs": [
    {
     "name": "stdout",
     "output_type": "stream",
     "text": [
      "[1] \"Procesando archivo: data/encig2017_01_sec1_3_4_5_8_9_10.dbf\"\n",
      "[1] \"Procesando archivo: data/encig2019_01_sec1_3_4_5_8_9_10.dbf\"\n",
      "[1] \"Procesando archivo: data/encig2021_01_sec1_A_3_4_5_8_9_10.csv\"\n"
     ]
    },
    {
     "name": "stderr",
     "output_type": "stream",
     "text": [
      "\u001b[1m\u001b[22mNew names:\n",
      "\u001b[36m•\u001b[39m `` -> `...1`\n"
     ]
    },
    {
     "name": "stdout",
     "output_type": "stream",
     "text": [
      "[1] \"Procesando archivo: data/encig2023_01_sec1_A_3_4_5_8_9_10.csv\"\n"
     ]
    },
    {
     "name": "stderr",
     "output_type": "stream",
     "text": [
      "\u001b[1m\u001b[22mNew names:\n",
      "\u001b[36m•\u001b[39m `` -> `...1`\n"
     ]
    },
    {
     "name": "stdout",
     "output_type": "stream",
     "text": [
      "[1] \"Porcentaje de personas de 18 años y más que consideran que los parques y jardines se encuentran a máximo 15 minutos caminando\"\n"
     ]
    },
    {
     "data": {
      "text/html": [
       "<table class=\"dataframe\">\n",
       "<caption>A tibble: 4 × 6</caption>\n",
       "<thead>\n",
       "\t<tr><th scope=col>cercania</th><th scope=col>personas</th><th scope=col>personas_cv</th><th scope=col>porcentaje</th><th scope=col>porcentaje_cv</th><th scope=col>year</th></tr>\n",
       "\t<tr><th scope=col>&lt;chr&gt;</th><th scope=col>&lt;dbl&gt;</th><th scope=col>&lt;dbl&gt;</th><th scope=col>&lt;dbl&gt;</th><th scope=col>&lt;dbl&gt;</th><th scope=col>&lt;chr&gt;</th></tr>\n",
       "</thead>\n",
       "<tbody>\n",
       "\t<tr><td>Sí</td><td>6416542</td><td>0.02104928</td><td>73.19</td><td>0.01434940</td><td>2017</td></tr>\n",
       "\t<tr><td>Sí</td><td>5281683</td><td>0.01547035</td><td>76.10</td><td>0.01197867</td><td>2019</td></tr>\n",
       "\t<tr><td>Sí</td><td>5270153</td><td>0.01723314</td><td>75.75</td><td>0.01254012</td><td>2021</td></tr>\n",
       "\t<tr><td>Sí</td><td>5943902</td><td>0.01697234</td><td>78.46</td><td>0.01148652</td><td>2023</td></tr>\n",
       "</tbody>\n",
       "</table>\n"
      ],
      "text/latex": [
       "A tibble: 4 × 6\n",
       "\\begin{tabular}{llllll}\n",
       " cercania & personas & personas\\_cv & porcentaje & porcentaje\\_cv & year\\\\\n",
       " <chr> & <dbl> & <dbl> & <dbl> & <dbl> & <chr>\\\\\n",
       "\\hline\n",
       "\t Sí & 6416542 & 0.02104928 & 73.19 & 0.01434940 & 2017\\\\\n",
       "\t Sí & 5281683 & 0.01547035 & 76.10 & 0.01197867 & 2019\\\\\n",
       "\t Sí & 5270153 & 0.01723314 & 75.75 & 0.01254012 & 2021\\\\\n",
       "\t Sí & 5943902 & 0.01697234 & 78.46 & 0.01148652 & 2023\\\\\n",
       "\\end{tabular}\n"
      ],
      "text/markdown": [
       "\n",
       "A tibble: 4 × 6\n",
       "\n",
       "| cercania &lt;chr&gt; | personas &lt;dbl&gt; | personas_cv &lt;dbl&gt; | porcentaje &lt;dbl&gt; | porcentaje_cv &lt;dbl&gt; | year &lt;chr&gt; |\n",
       "|---|---|---|---|---|---|\n",
       "| Sí | 6416542 | 0.02104928 | 73.19 | 0.01434940 | 2017 |\n",
       "| Sí | 5281683 | 0.01547035 | 76.10 | 0.01197867 | 2019 |\n",
       "| Sí | 5270153 | 0.01723314 | 75.75 | 0.01254012 | 2021 |\n",
       "| Sí | 5943902 | 0.01697234 | 78.46 | 0.01148652 | 2023 |\n",
       "\n"
      ],
      "text/plain": [
       "  cercania personas personas_cv porcentaje porcentaje_cv year\n",
       "1 Sí       6416542  0.02104928  73.19      0.01434940    2017\n",
       "2 Sí       5281683  0.01547035  76.10      0.01197867    2019\n",
       "3 Sí       5270153  0.01723314  75.75      0.01254012    2021\n",
       "4 Sí       5943902  0.01697234  78.46      0.01148652    2023"
      ]
     },
     "metadata": {},
     "output_type": "display_data"
    }
   ],
   "source": [
    "tabla_cercania<-process_files(c(2017,2019,2021,2023), variable = \"cercania_parques\")\n",
    "print(\"Porcentaje de personas de 18 años y más que consideran que los parques y jardines se encuentran a máximo 15 minutos caminando\")\n",
    "tabla_cercania"
   ]
  },
  {
   "cell_type": "markdown",
   "id": "f1a0bb26",
   "metadata": {},
   "source": [
    "#### Parques y jardines por 100000 habitantes"
   ]
  },
  {
   "cell_type": "code",
   "execution_count": 11,
   "id": "11a37cac",
   "metadata": {
    "vscode": {
     "languageId": "r"
    }
   },
   "outputs": [
    {
     "data": {
      "text/html": [
       "<style>\n",
       ".list-inline {list-style: none; margin:0; padding: 0}\n",
       ".list-inline>li {display: inline-block}\n",
       ".list-inline>li:not(:last-child)::after {content: \"\\00b7\"; padding: 0 .5ex}\n",
       "</style>\n",
       "<ol class=list-inline><li>'2018_ns_poblacion'</li><li>'2018_ns_poblacion.zip'</li><li>'2018_ns_viviendas'</li><li>'2018_ns_viviendas.zip'</li><li>'2020_ns_poblacion'</li><li>'2020_ns_poblacion.zip'</li><li>'2020_ns_viviendas'</li><li>'2020_ns_viviendas.zip'</li><li>'2022_ns_poblacion'</li><li>'2022_ns_poblacion.zip'</li><li>'2022_ns_viviendas'</li><li>'2022_ns_viviendas.zip'</li><li>'2024_ns_poblacion'</li><li>'2024_ns_poblacion.zip'</li><li>'2024_ns_viviendas'</li><li>'2024_ns_viviendas.zip'</li><li>'encig17_base_datos_dbf.zip'</li><li>'encig19_base_datos_dbf.zip'</li><li>'encig2017_01_sec_11.dbf'</li><li>'encig2017_01_sec1_3_4_5_8_9_10.dbf'</li><li>'encig2017_02_residentes_sec_2.dbf'</li><li>'encig2017_03_sec_6.dbf'</li><li>'encig2017_04_sec_7.dbf'</li><li>'encig2017_05_sec_8.dbf'</li><li>'encig2019_01_sec_11.dbf'</li><li>'encig2019_01_sec1_3_4_5_8_9_10.dbf'</li><li>'encig2019_02_residentes_sec_2.dbf'</li><li>'encig2019_03_sec_6.dbf'</li><li>'encig2019_04_sec_7.dbf'</li><li>'encig2019_05_sec_8.dbf'</li><li>'encig2021_01_sec_11.csv'</li><li>'encig2021_01_sec1_A_3_4_5_8_9_10.csv'</li><li>'encig2021_02_residentes_sec_2.csv'</li><li>'encig2021_03_sec_6.csv'</li><li>'encig2021_04_sec_7.csv'</li><li>'encig2021_05_sec_8.csv'</li><li>'encig2023_01_sec_11.csv'</li><li>'encig2023_01_sec1_A_3_4_5_8_9_10.csv'</li><li>'encig2023_02_residentes_sec_2.csv'</li><li>'encig2023_03_sec_6.csv'</li><li>'encig2023_04_sec_7.csv'</li><li>'encig2023_05_sec_8.csv'</li><li>'encig21_base_datos_csv.zip'</li><li>'encig23_base_datos_csv.zip'</li><li>'ns_poblacion_2018.csv'</li><li>'ns_poblacion_2020.csv'</li><li>'ns_poblacion_2022.csv'</li><li>'ns_poblacion_2024.csv'</li><li>'ns_viviendas_2018.csv'</li><li>'ns_viviendas_2020.csv'</li><li>'ns_viviendas_2022.csv'</li><li>'ns_viviendas_2024.csv'</li></ol>\n"
      ],
      "text/latex": [
       "\\begin{enumerate*}\n",
       "\\item '2018\\_ns\\_poblacion'\n",
       "\\item '2018\\_ns\\_poblacion.zip'\n",
       "\\item '2018\\_ns\\_viviendas'\n",
       "\\item '2018\\_ns\\_viviendas.zip'\n",
       "\\item '2020\\_ns\\_poblacion'\n",
       "\\item '2020\\_ns\\_poblacion.zip'\n",
       "\\item '2020\\_ns\\_viviendas'\n",
       "\\item '2020\\_ns\\_viviendas.zip'\n",
       "\\item '2022\\_ns\\_poblacion'\n",
       "\\item '2022\\_ns\\_poblacion.zip'\n",
       "\\item '2022\\_ns\\_viviendas'\n",
       "\\item '2022\\_ns\\_viviendas.zip'\n",
       "\\item '2024\\_ns\\_poblacion'\n",
       "\\item '2024\\_ns\\_poblacion.zip'\n",
       "\\item '2024\\_ns\\_viviendas'\n",
       "\\item '2024\\_ns\\_viviendas.zip'\n",
       "\\item 'encig17\\_base\\_datos\\_dbf.zip'\n",
       "\\item 'encig19\\_base\\_datos\\_dbf.zip'\n",
       "\\item 'encig2017\\_01\\_sec\\_11.dbf'\n",
       "\\item 'encig2017\\_01\\_sec1\\_3\\_4\\_5\\_8\\_9\\_10.dbf'\n",
       "\\item 'encig2017\\_02\\_residentes\\_sec\\_2.dbf'\n",
       "\\item 'encig2017\\_03\\_sec\\_6.dbf'\n",
       "\\item 'encig2017\\_04\\_sec\\_7.dbf'\n",
       "\\item 'encig2017\\_05\\_sec\\_8.dbf'\n",
       "\\item 'encig2019\\_01\\_sec\\_11.dbf'\n",
       "\\item 'encig2019\\_01\\_sec1\\_3\\_4\\_5\\_8\\_9\\_10.dbf'\n",
       "\\item 'encig2019\\_02\\_residentes\\_sec\\_2.dbf'\n",
       "\\item 'encig2019\\_03\\_sec\\_6.dbf'\n",
       "\\item 'encig2019\\_04\\_sec\\_7.dbf'\n",
       "\\item 'encig2019\\_05\\_sec\\_8.dbf'\n",
       "\\item 'encig2021\\_01\\_sec\\_11.csv'\n",
       "\\item 'encig2021\\_01\\_sec1\\_A\\_3\\_4\\_5\\_8\\_9\\_10.csv'\n",
       "\\item 'encig2021\\_02\\_residentes\\_sec\\_2.csv'\n",
       "\\item 'encig2021\\_03\\_sec\\_6.csv'\n",
       "\\item 'encig2021\\_04\\_sec\\_7.csv'\n",
       "\\item 'encig2021\\_05\\_sec\\_8.csv'\n",
       "\\item 'encig2023\\_01\\_sec\\_11.csv'\n",
       "\\item 'encig2023\\_01\\_sec1\\_A\\_3\\_4\\_5\\_8\\_9\\_10.csv'\n",
       "\\item 'encig2023\\_02\\_residentes\\_sec\\_2.csv'\n",
       "\\item 'encig2023\\_03\\_sec\\_6.csv'\n",
       "\\item 'encig2023\\_04\\_sec\\_7.csv'\n",
       "\\item 'encig2023\\_05\\_sec\\_8.csv'\n",
       "\\item 'encig21\\_base\\_datos\\_csv.zip'\n",
       "\\item 'encig23\\_base\\_datos\\_csv.zip'\n",
       "\\item 'ns\\_poblacion\\_2018.csv'\n",
       "\\item 'ns\\_poblacion\\_2020.csv'\n",
       "\\item 'ns\\_poblacion\\_2022.csv'\n",
       "\\item 'ns\\_poblacion\\_2024.csv'\n",
       "\\item 'ns\\_viviendas\\_2018.csv'\n",
       "\\item 'ns\\_viviendas\\_2020.csv'\n",
       "\\item 'ns\\_viviendas\\_2022.csv'\n",
       "\\item 'ns\\_viviendas\\_2024.csv'\n",
       "\\end{enumerate*}\n"
      ],
      "text/markdown": [
       "1. '2018_ns_poblacion'\n",
       "2. '2018_ns_poblacion.zip'\n",
       "3. '2018_ns_viviendas'\n",
       "4. '2018_ns_viviendas.zip'\n",
       "5. '2020_ns_poblacion'\n",
       "6. '2020_ns_poblacion.zip'\n",
       "7. '2020_ns_viviendas'\n",
       "8. '2020_ns_viviendas.zip'\n",
       "9. '2022_ns_poblacion'\n",
       "10. '2022_ns_poblacion.zip'\n",
       "11. '2022_ns_viviendas'\n",
       "12. '2022_ns_viviendas.zip'\n",
       "13. '2024_ns_poblacion'\n",
       "14. '2024_ns_poblacion.zip'\n",
       "15. '2024_ns_viviendas'\n",
       "16. '2024_ns_viviendas.zip'\n",
       "17. 'encig17_base_datos_dbf.zip'\n",
       "18. 'encig19_base_datos_dbf.zip'\n",
       "19. 'encig2017_01_sec_11.dbf'\n",
       "20. 'encig2017_01_sec1_3_4_5_8_9_10.dbf'\n",
       "21. 'encig2017_02_residentes_sec_2.dbf'\n",
       "22. 'encig2017_03_sec_6.dbf'\n",
       "23. 'encig2017_04_sec_7.dbf'\n",
       "24. 'encig2017_05_sec_8.dbf'\n",
       "25. 'encig2019_01_sec_11.dbf'\n",
       "26. 'encig2019_01_sec1_3_4_5_8_9_10.dbf'\n",
       "27. 'encig2019_02_residentes_sec_2.dbf'\n",
       "28. 'encig2019_03_sec_6.dbf'\n",
       "29. 'encig2019_04_sec_7.dbf'\n",
       "30. 'encig2019_05_sec_8.dbf'\n",
       "31. 'encig2021_01_sec_11.csv'\n",
       "32. 'encig2021_01_sec1_A_3_4_5_8_9_10.csv'\n",
       "33. 'encig2021_02_residentes_sec_2.csv'\n",
       "34. 'encig2021_03_sec_6.csv'\n",
       "35. 'encig2021_04_sec_7.csv'\n",
       "36. 'encig2021_05_sec_8.csv'\n",
       "37. 'encig2023_01_sec_11.csv'\n",
       "38. 'encig2023_01_sec1_A_3_4_5_8_9_10.csv'\n",
       "39. 'encig2023_02_residentes_sec_2.csv'\n",
       "40. 'encig2023_03_sec_6.csv'\n",
       "41. 'encig2023_04_sec_7.csv'\n",
       "42. 'encig2023_05_sec_8.csv'\n",
       "43. 'encig21_base_datos_csv.zip'\n",
       "44. 'encig23_base_datos_csv.zip'\n",
       "45. 'ns_poblacion_2018.csv'\n",
       "46. 'ns_poblacion_2020.csv'\n",
       "47. 'ns_poblacion_2022.csv'\n",
       "48. 'ns_poblacion_2024.csv'\n",
       "49. 'ns_viviendas_2018.csv'\n",
       "50. 'ns_viviendas_2020.csv'\n",
       "51. 'ns_viviendas_2022.csv'\n",
       "52. 'ns_viviendas_2024.csv'\n",
       "\n",
       "\n"
      ],
      "text/plain": [
       " [1] \"2018_ns_poblacion\"                   \n",
       " [2] \"2018_ns_poblacion.zip\"               \n",
       " [3] \"2018_ns_viviendas\"                   \n",
       " [4] \"2018_ns_viviendas.zip\"               \n",
       " [5] \"2020_ns_poblacion\"                   \n",
       " [6] \"2020_ns_poblacion.zip\"               \n",
       " [7] \"2020_ns_viviendas\"                   \n",
       " [8] \"2020_ns_viviendas.zip\"               \n",
       " [9] \"2022_ns_poblacion\"                   \n",
       "[10] \"2022_ns_poblacion.zip\"               \n",
       "[11] \"2022_ns_viviendas\"                   \n",
       "[12] \"2022_ns_viviendas.zip\"               \n",
       "[13] \"2024_ns_poblacion\"                   \n",
       "[14] \"2024_ns_poblacion.zip\"               \n",
       "[15] \"2024_ns_viviendas\"                   \n",
       "[16] \"2024_ns_viviendas.zip\"               \n",
       "[17] \"encig17_base_datos_dbf.zip\"          \n",
       "[18] \"encig19_base_datos_dbf.zip\"          \n",
       "[19] \"encig2017_01_sec_11.dbf\"             \n",
       "[20] \"encig2017_01_sec1_3_4_5_8_9_10.dbf\"  \n",
       "[21] \"encig2017_02_residentes_sec_2.dbf\"   \n",
       "[22] \"encig2017_03_sec_6.dbf\"              \n",
       "[23] \"encig2017_04_sec_7.dbf\"              \n",
       "[24] \"encig2017_05_sec_8.dbf\"              \n",
       "[25] \"encig2019_01_sec_11.dbf\"             \n",
       "[26] \"encig2019_01_sec1_3_4_5_8_9_10.dbf\"  \n",
       "[27] \"encig2019_02_residentes_sec_2.dbf\"   \n",
       "[28] \"encig2019_03_sec_6.dbf\"              \n",
       "[29] \"encig2019_04_sec_7.dbf\"              \n",
       "[30] \"encig2019_05_sec_8.dbf\"              \n",
       "[31] \"encig2021_01_sec_11.csv\"             \n",
       "[32] \"encig2021_01_sec1_A_3_4_5_8_9_10.csv\"\n",
       "[33] \"encig2021_02_residentes_sec_2.csv\"   \n",
       "[34] \"encig2021_03_sec_6.csv\"              \n",
       "[35] \"encig2021_04_sec_7.csv\"              \n",
       "[36] \"encig2021_05_sec_8.csv\"              \n",
       "[37] \"encig2023_01_sec_11.csv\"             \n",
       "[38] \"encig2023_01_sec1_A_3_4_5_8_9_10.csv\"\n",
       "[39] \"encig2023_02_residentes_sec_2.csv\"   \n",
       "[40] \"encig2023_03_sec_6.csv\"              \n",
       "[41] \"encig2023_04_sec_7.csv\"              \n",
       "[42] \"encig2023_05_sec_8.csv\"              \n",
       "[43] \"encig21_base_datos_csv.zip\"          \n",
       "[44] \"encig23_base_datos_csv.zip\"          \n",
       "[45] \"ns_poblacion_2018.csv\"               \n",
       "[46] \"ns_poblacion_2020.csv\"               \n",
       "[47] \"ns_poblacion_2022.csv\"               \n",
       "[48] \"ns_poblacion_2024.csv\"               \n",
       "[49] \"ns_viviendas_2018.csv\"               \n",
       "[50] \"ns_viviendas_2020.csv\"               \n",
       "[51] \"ns_viviendas_2022.csv\"               \n",
       "[52] \"ns_viviendas_2024.csv\"               "
      ]
     },
     "metadata": {},
     "output_type": "display_data"
    }
   ],
   "source": [
    "#Enlistar archivos de la carpeta data\n",
    "list.files(\"data\")"
   ]
  },
  {
   "cell_type": "code",
   "execution_count": 20,
   "id": "7f77175a",
   "metadata": {
    "vscode": {
     "languageId": "r"
    }
   },
   "outputs": [],
   "source": [
    "##Utilizar población de la ENIGH\n",
    "\n",
    "estima_pob <- function(path, variable) {\n",
    "  # Cargar los datos\n",
    "  print(path)\n",
    "  datos <- read_csv(path) %>%\n",
    "    mutate(cve_ent = case_when(\n",
    "      nchar(folioviv) == 9  ~ paste0(\"0\", substr(folioviv, 1, 1)),\n",
    "      nchar(folioviv) == 10 ~ substr(folioviv, 1, 2)\n",
    "    )) %>%\n",
    "    # Filtrar si entidad es 9\n",
    "  filter(cve_ent == \"09\")\n",
    "\n",
    "\n",
    "  # Definir diseño muestral\n",
    "  mydesign <- datos %>%\n",
    "    as_survey_design(ids = upm,\n",
    "                     strata = est_dis,\n",
    "                     weights = factor)\n",
    "\n",
    "  # Estimar rezago habitacional\n",
    "  pob <- mydesign %>%\n",
    "    summarise(\n",
    "      poblacion = survey_total(tot_resid,vartype = \"cv\")\n",
    "        #Viviendas totales\n",
    "    )%>% \n",
    "     mutate(year = substr(path, 19, 22))\n",
    "\n",
    "\n",
    "\n",
    "\n",
    "\n",
    "  # Devolver el resultado basado en la variable\n",
    "  if (variable == \"poblacion\") {\n",
    "    return(pob)\n",
    "  }\n",
    "else {\n",
    "    stop(\"Variable no reconocida. Use 'poblacion'.\")\n",
    "  }}"
   ]
  },
  {
   "cell_type": "code",
   "execution_count": 22,
   "id": "6b4a9711",
   "metadata": {
    "vscode": {
     "languageId": "r"
    }
   },
   "outputs": [
    {
     "name": "stdout",
     "output_type": "stream",
     "text": [
      "[1] \"data/ns_viviendas_2018.csv\"\n"
     ]
    },
    {
     "name": "stderr",
     "output_type": "stream",
     "text": [
      "Warning message:\n",
      "\"\u001b[1m\u001b[22mOne or more parsing issues, call `problems()` on your data frame for details,\n",
      "e.g.:\n",
      "  dat <- vroom(...)\n",
      "  problems(dat)\"\n",
      "\u001b[1mRows: \u001b[22m\u001b[34m73405\u001b[39m \u001b[1mColumns: \u001b[22m\u001b[34m64\u001b[39m\n",
      "\u001b[36m──\u001b[39m \u001b[1mColumn specification\u001b[22m \u001b[36m────────────────────────────────────────────────────────\u001b[39m\n",
      "\u001b[1mDelimiter:\u001b[22m \",\"\n",
      "\u001b[31mchr\u001b[39m  (9): folioviv, tipo_viv, mat_techos, tipo_finan, num_dueno1, num_dueno2...\n",
      "\u001b[32mdbl\u001b[39m (55): mat_pared, mat_pisos, antiguedad, antigua_ne, cocina, cocina_dor, ...\n",
      "\n",
      "\u001b[36mℹ\u001b[39m Use `spec()` to retrieve the full column specification for this data.\n",
      "\u001b[36mℹ\u001b[39m Specify the column types or set `show_col_types = FALSE` to quiet this message.\n"
     ]
    },
    {
     "name": "stdout",
     "output_type": "stream",
     "text": [
      "[1] \"data/ns_viviendas_2020.csv\"\n"
     ]
    },
    {
     "name": "stderr",
     "output_type": "stream",
     "text": [
      "Warning message:\n",
      "\"\u001b[1m\u001b[22mOne or more parsing issues, call `problems()` on your data frame for details,\n",
      "e.g.:\n",
      "  dat <- vroom(...)\n",
      "  problems(dat)\"\n",
      "\u001b[1mRows: \u001b[22m\u001b[34m87754\u001b[39m \u001b[1mColumns: \u001b[22m\u001b[34m64\u001b[39m\n",
      "\u001b[36m──\u001b[39m \u001b[1mColumn specification\u001b[22m \u001b[36m────────────────────────────────────────────────────────\u001b[39m\n",
      "\u001b[1mDelimiter:\u001b[22m \",\"\n",
      "\u001b[31mchr\u001b[39m  (9): folioviv, tipo_viv, mat_techos, tipo_finan, num_dueno1, num_dueno2...\n",
      "\u001b[32mdbl\u001b[39m (55): mat_pared, mat_pisos, antiguedad, antigua_ne, cocina, cocina_dor, ...\n",
      "\n",
      "\u001b[36mℹ\u001b[39m Use `spec()` to retrieve the full column specification for this data.\n",
      "\u001b[36mℹ\u001b[39m Specify the column types or set `show_col_types = FALSE` to quiet this message.\n"
     ]
    },
    {
     "name": "stdout",
     "output_type": "stream",
     "text": [
      "[1] \"data/ns_viviendas_2022.csv\"\n"
     ]
    },
    {
     "name": "stderr",
     "output_type": "stream",
     "text": [
      "Warning message:\n",
      "\"\u001b[1m\u001b[22mOne or more parsing issues, call `problems()` on your data frame for details,\n",
      "e.g.:\n",
      "  dat <- vroom(...)\n",
      "  problems(dat)\"\n",
      "\u001b[1mRows: \u001b[22m\u001b[34m88823\u001b[39m \u001b[1mColumns: \u001b[22m\u001b[34m64\u001b[39m\n",
      "\u001b[36m──\u001b[39m \u001b[1mColumn specification\u001b[22m \u001b[36m────────────────────────────────────────────────────────\u001b[39m\n",
      "\u001b[1mDelimiter:\u001b[22m \",\"\n",
      "\u001b[31mchr\u001b[39m  (9): folioviv, tipo_viv, mat_techos, tipo_finan, num_dueno1, num_dueno2...\n",
      "\u001b[32mdbl\u001b[39m (55): mat_pared, mat_pisos, antiguedad, antigua_ne, cocina, cocina_dor, ...\n",
      "\n",
      "\u001b[36mℹ\u001b[39m Use `spec()` to retrieve the full column specification for this data.\n",
      "\u001b[36mℹ\u001b[39m Specify the column types or set `show_col_types = FALSE` to quiet this message.\n"
     ]
    },
    {
     "name": "stdout",
     "output_type": "stream",
     "text": [
      "[1] \"data/ns_viviendas_2024.csv\"\n"
     ]
    },
    {
     "name": "stderr",
     "output_type": "stream",
     "text": [
      "Warning message:\n",
      "\"\u001b[1m\u001b[22mOne or more parsing issues, call `problems()` on your data frame for details,\n",
      "e.g.:\n",
      "  dat <- vroom(...)\n",
      "  problems(dat)\"\n",
      "\u001b[1mRows: \u001b[22m\u001b[34m90324\u001b[39m \u001b[1mColumns: \u001b[22m\u001b[34m82\u001b[39m\n",
      "\u001b[36m──\u001b[39m \u001b[1mColumn specification\u001b[22m \u001b[36m────────────────────────────────────────────────────────\u001b[39m\n",
      "\u001b[1mDelimiter:\u001b[22m \",\"\n",
      "\u001b[31mchr\u001b[39m  (8): folioviv, mat_techos, finan_8, num_dueno1, num_dueno2, ubica_geo, ...\n",
      "\u001b[32mdbl\u001b[39m (74): tipo_viv, mat_pared, mat_pisos, antiguedad, antigua_ne, cocina, co...\n",
      "\n",
      "\u001b[36mℹ\u001b[39m Use `spec()` to retrieve the full column specification for this data.\n",
      "\u001b[36mℹ\u001b[39m Specify the column types or set `show_col_types = FALSE` to quiet this message.\n"
     ]
    },
    {
     "name": "stdout",
     "output_type": "stream",
     "text": [
      "[1] \"Población de la Ciudad de México\"\n"
     ]
    },
    {
     "data": {
      "text/html": [
       "<table class=\"dataframe\">\n",
       "<caption>A tibble: 4 × 3</caption>\n",
       "<thead>\n",
       "\t<tr><th scope=col>poblacion</th><th scope=col>poblacion_cv</th><th scope=col>year</th></tr>\n",
       "\t<tr><th scope=col>&lt;dbl&gt;</th><th scope=col>&lt;dbl&gt;</th><th scope=col>&lt;int&gt;</th></tr>\n",
       "</thead>\n",
       "<tbody>\n",
       "\t<tr><td>9219295</td><td>0.02025111</td><td>2018</td></tr>\n",
       "\t<tr><td>9260329</td><td>0.01814321</td><td>2020</td></tr>\n",
       "\t<tr><td>9346899</td><td>0.01933340</td><td>2022</td></tr>\n",
       "\t<tr><td>9381255</td><td>0.01799828</td><td>2024</td></tr>\n",
       "</tbody>\n",
       "</table>\n"
      ],
      "text/latex": [
       "A tibble: 4 × 3\n",
       "\\begin{tabular}{lll}\n",
       " poblacion & poblacion\\_cv & year\\\\\n",
       " <dbl> & <dbl> & <int>\\\\\n",
       "\\hline\n",
       "\t 9219295 & 0.02025111 & 2018\\\\\n",
       "\t 9260329 & 0.01814321 & 2020\\\\\n",
       "\t 9346899 & 0.01933340 & 2022\\\\\n",
       "\t 9381255 & 0.01799828 & 2024\\\\\n",
       "\\end{tabular}\n"
      ],
      "text/markdown": [
       "\n",
       "A tibble: 4 × 3\n",
       "\n",
       "| poblacion &lt;dbl&gt; | poblacion_cv &lt;dbl&gt; | year &lt;int&gt; |\n",
       "|---|---|---|\n",
       "| 9219295 | 0.02025111 | 2018 |\n",
       "| 9260329 | 0.01814321 | 2020 |\n",
       "| 9346899 | 0.01933340 | 2022 |\n",
       "| 9381255 | 0.01799828 | 2024 |\n",
       "\n"
      ],
      "text/plain": [
       "  poblacion poblacion_cv year\n",
       "1 9219295   0.02025111   2018\n",
       "2 9260329   0.01814321   2020\n",
       "3 9346899   0.01933340   2022\n",
       "4 9381255   0.01799828   2024"
      ]
     },
     "metadata": {},
     "output_type": "display_data"
    }
   ],
   "source": [
    "tabla_pob<-map_dfr(\n",
    "  list.files(\"data\", full.names = TRUE, pattern = \"viviendas_.*.csv\"),\n",
    "  \n",
    "  estima_pob,\n",
    "  variable = \"poblacion\"\n",
    ")%>%\n",
    "mutate(year = as.integer(year))\n",
    "print(\"Población de la Ciudad de México\")\n",
    "tabla_pob"
   ]
  },
  {
   "cell_type": "code",
   "execution_count": 26,
   "id": "4e315798",
   "metadata": {
    "vscode": {
     "languageId": "r"
    }
   },
   "outputs": [
    {
     "data": {
      "text/html": [
       "<table class=\"dataframe\">\n",
       "<caption>A data.frame: 3 × 5</caption>\n",
       "<thead>\n",
       "\t<tr><th scope=col>year</th><th scope=col>parques_jardines</th><th scope=col>poblacion</th><th scope=col>poblacion_cv</th><th scope=col>parqhab</th></tr>\n",
       "\t<tr><th scope=col>&lt;dbl&gt;</th><th scope=col>&lt;dbl&gt;</th><th scope=col>&lt;dbl&gt;</th><th scope=col>&lt;dbl&gt;</th><th scope=col>&lt;dbl&gt;</th></tr>\n",
       "</thead>\n",
       "<tbody>\n",
       "\t<tr><td>2018</td><td>1019</td><td>9219295</td><td>0.02025111</td><td>11.05291</td></tr>\n",
       "\t<tr><td>2020</td><td>1197</td><td>9260329</td><td>0.01814321</td><td>12.92611</td></tr>\n",
       "\t<tr><td>2022</td><td>1169</td><td>9346899</td><td>0.01933340</td><td>12.50682</td></tr>\n",
       "</tbody>\n",
       "</table>\n"
      ],
      "text/latex": [
       "A data.frame: 3 × 5\n",
       "\\begin{tabular}{lllll}\n",
       " year & parques\\_jardines & poblacion & poblacion\\_cv & parqhab\\\\\n",
       " <dbl> & <dbl> & <dbl> & <dbl> & <dbl>\\\\\n",
       "\\hline\n",
       "\t 2018 & 1019 & 9219295 & 0.02025111 & 11.05291\\\\\n",
       "\t 2020 & 1197 & 9260329 & 0.01814321 & 12.92611\\\\\n",
       "\t 2022 & 1169 & 9346899 & 0.01933340 & 12.50682\\\\\n",
       "\\end{tabular}\n"
      ],
      "text/markdown": [
       "\n",
       "A data.frame: 3 × 5\n",
       "\n",
       "| year &lt;dbl&gt; | parques_jardines &lt;dbl&gt; | poblacion &lt;dbl&gt; | poblacion_cv &lt;dbl&gt; | parqhab &lt;dbl&gt; |\n",
       "|---|---|---|---|---|\n",
       "| 2018 | 1019 | 9219295 | 0.02025111 | 11.05291 |\n",
       "| 2020 | 1197 | 9260329 | 0.01814321 | 12.92611 |\n",
       "| 2022 | 1169 | 9346899 | 0.01933340 | 12.50682 |\n",
       "\n"
      ],
      "text/plain": [
       "  year parques_jardines poblacion poblacion_cv parqhab \n",
       "1 2018 1019             9219295   0.02025111   11.05291\n",
       "2 2020 1197             9260329   0.01814321   12.92611\n",
       "3 2022 1169             9346899   0.01933340   12.50682"
      ]
     },
     "metadata": {},
     "output_type": "display_data"
    }
   ],
   "source": [
    "##Construir tabla de parques y jardines\n",
    "\n",
    "tabla_parque <- data.frame(\n",
    "  year = c(2016, 2018, 2020, 2022),\n",
    "  parques_jardines = c(1506, 1019, 1197, 1169)\n",
    ")%>%\n",
    "left_join(tabla_pob, by = \"year\")%>%\n",
    "#Eliminar si hay NA en parques_jardines o poblacion\n",
    "filter(!is.na(parques_jardines) & !is.na(poblacion))%>%\n",
    "mutate(parqhab=parques_jardines/poblacion*100000)\n",
    "\n",
    "tabla_parque"
   ]
  }
 ],
 "metadata": {
  "kernelspec": {
   "display_name": "R",
   "language": "R",
   "name": "ir"
  },
  "language_info": {
   "codemirror_mode": "r",
   "file_extension": ".r",
   "mimetype": "text/x-r-source",
   "name": "R",
   "pygments_lexer": "r",
   "version": "4.4.1"
  }
 },
 "nbformat": 4,
 "nbformat_minor": 5
}
