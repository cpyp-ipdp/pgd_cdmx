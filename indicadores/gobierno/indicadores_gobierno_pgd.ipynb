{
 "cells": [
  {
   "cell_type": "code",
   "execution_count": 1,
   "id": "c5057aaf564ae655",
   "metadata": {
    "ExecuteTime": {
     "end_time": "2025-03-19T17:08:34.424186Z",
     "start_time": "2025-03-19T17:08:30.364099Z"
    },
    "vscode": {
     "languageId": "r"
    }
   },
   "outputs": [
    {
     "name": "stderr",
     "output_type": "stream",
     "text": [
      "Cargando paquete requerido: pacman\n",
      "\n",
      "Using GitHub PAT from the git credential store.\n",
      "\n",
      "Downloading GitHub repo cpyp-ipdp/funcionespgd@HEAD\n",
      "\n"
     ]
    },
    {
     "name": "stdout",
     "output_type": "stream",
     "text": [
      "rlang  (1.1.4 -> 1.1.6) [CRAN]\n",
      "glue   (1.7.0 -> 1.8.0) [CRAN]\n",
      "cli    (3.6.3 -> 3.6.5) [CRAN]\n",
      "tibble (3.2.1 -> 3.3.0) [CRAN]\n"
     ]
    },
    {
     "name": "stderr",
     "output_type": "stream",
     "text": [
      "Installing 4 packages: rlang, glue, cli, tibble\n",
      "\n",
      "Warning message:\n",
      "\"package 'tibble' is in use and will not be installed\"\n",
      "Installing packages into 'C:/Users/claud/AppData/Local/R/win-library/4.4'\n",
      "(as 'lib' is unspecified)\n",
      "\n"
     ]
    },
    {
     "name": "stdout",
     "output_type": "stream",
     "text": [
      "package 'rlang' successfully unpacked and MD5 sums checked\n"
     ]
    },
    {
     "name": "stderr",
     "output_type": "stream",
     "text": [
      "Warning message:\n",
      "\"cannot remove prior installation of package 'rlang'\"\n",
      "Warning message in file.copy(savedcopy, lib, recursive = TRUE):\n",
      "\"problema al copiar C:\\Users\\claud\\AppData\\Local\\R\\win-library\\4.4\\00LOCK\\rlang\\libs\\x64\\rlang.dll  a C:\\Users\\claud\\AppData\\Local\\R\\win-library\\4.4\\rlang\\libs\\x64\\rlang.dll: Permission denied\"\n",
      "Warning message:\n",
      "\"restored 'rlang'\"\n"
     ]
    },
    {
     "name": "stdout",
     "output_type": "stream",
     "text": [
      "package 'glue' successfully unpacked and MD5 sums checked\n"
     ]
    },
    {
     "name": "stderr",
     "output_type": "stream",
     "text": [
      "Warning message:\n",
      "\"cannot remove prior installation of package 'glue'\"\n",
      "Warning message in file.copy(savedcopy, lib, recursive = TRUE):\n",
      "\"problema al copiar C:\\Users\\claud\\AppData\\Local\\R\\win-library\\4.4\\00LOCK\\glue\\libs\\x64\\glue.dll  a C:\\Users\\claud\\AppData\\Local\\R\\win-library\\4.4\\glue\\libs\\x64\\glue.dll: Permission denied\"\n",
      "Warning message:\n",
      "\"restored 'glue'\"\n"
     ]
    },
    {
     "name": "stdout",
     "output_type": "stream",
     "text": [
      "package 'cli' successfully unpacked and MD5 sums checked\n"
     ]
    },
    {
     "name": "stderr",
     "output_type": "stream",
     "text": [
      "Warning message:\n",
      "\"cannot remove prior installation of package 'cli'\"\n",
      "Warning message in file.copy(savedcopy, lib, recursive = TRUE):\n",
      "\"problema al copiar C:\\Users\\claud\\AppData\\Local\\R\\win-library\\4.4\\00LOCK\\cli\\libs\\x64\\cli.dll  a C:\\Users\\claud\\AppData\\Local\\R\\win-library\\4.4\\cli\\libs\\x64\\cli.dll: Permission denied\"\n",
      "Warning message:\n",
      "\"restored 'cli'\"\n"
     ]
    },
    {
     "name": "stdout",
     "output_type": "stream",
     "text": [
      "\n",
      "The downloaded binary packages are in\n",
      "\tC:\\Users\\claud\\AppData\\Local\\Temp\\Rtmp8WsQMW\\downloaded_packages\n",
      "\u001b[36m──\u001b[39m \u001b[36mR CMD build\u001b[39m \u001b[36m─────────────────────────────────────────────────────────────────\u001b[39m\n",
      "* checking for file 'C:\\Users\\claud\\AppData\\Local\\Temp\\Rtmp8WsQMW\\remotes57346970f20\\cpyp-ipdp-funcionespgd-3fffa52/DESCRIPTION' ... OK\n",
      "* preparing 'funcionespgd':\n",
      "* checking DESCRIPTION meta-information ... OK\n",
      "* checking for LF line-endings in source and make files and shell scripts\n",
      "* checking for empty or unneeded directories\n",
      "Omitted 'LazyData' from DESCRIPTION\n",
      "* building 'funcionespgd_0.1.0.tar.gz'\n",
      "\n"
     ]
    },
    {
     "name": "stderr",
     "output_type": "stream",
     "text": [
      "Installing package into 'C:/Users/claud/AppData/Local/R/win-library/4.4'\n",
      "(as 'lib' is unspecified)\n",
      "\n"
     ]
    }
   ],
   "source": [
    "##Estimación de indicadores de gobierno\n",
    "#Se borra todo lo que se encuentra en el entorno\n",
    "\n",
    "#rm(list=ls())\n",
    "\n",
    "# Librerías ====\n",
    "if(!require('pacman')) install.packages('pacman')\n",
    "pacman::p_load(tidyverse, srvyr,showtext)\n",
    "remotes::install_github(\"cpyp-ipdp/funcionespgd\", force = TRUE)\n",
    "library(funcionespgd)"
   ]
  },
  {
   "cell_type": "code",
   "execution_count": 2,
   "id": "c5d066ae486f28c1",
   "metadata": {
    "ExecuteTime": {
     "end_time": "2025-03-19T17:08:36.669075Z",
     "start_time": "2025-03-19T17:08:34.437675Z"
    },
    "vscode": {
     "languageId": "r"
    }
   },
   "outputs": [],
   "source": [
    "font_add_google(\"Poppins\", \"pop\")\n",
    "showtext_auto()"
   ]
  },
  {
   "cell_type": "code",
   "execution_count": 3,
   "id": "e3493cde6b1a633b",
   "metadata": {
    "ExecuteTime": {
     "end_time": "2025-03-19T17:08:36.682703Z",
     "start_time": "2025-03-19T17:08:36.673652Z"
    },
    "vscode": {
     "languageId": "r"
    }
   },
   "outputs": [],
   "source": [
    "dir.create(\"data\", showWarnings = FALSE)"
   ]
  },
  {
   "cell_type": "code",
   "execution_count": 4,
   "id": "dfb6754907acbf26",
   "metadata": {
    "ExecuteTime": {
     "end_time": "2025-03-19T17:08:36.700582Z",
     "start_time": "2025-03-19T17:08:36.686968Z"
    },
    "vscode": {
     "languageId": "r"
    }
   },
   "outputs": [],
   "source": [
    "url_encig_basica<-\"https://www.inegi.org.mx/contenidos/programas/encig/\"\n",
    "segunda_parte<-\"microdatos/encig\"\n",
    "years_encig<-c(\"2017\",\"2019\",\"2021\", \"2023\")"
   ]
  },
  {
   "cell_type": "code",
   "execution_count": 5,
   "id": "4c584178974306f7",
   "metadata": {
    "ExecuteTime": {
     "end_time": "2025-03-19T17:13:36.767847Z",
     "start_time": "2025-03-19T17:08:36.712316Z"
    },
    "vscode": {
     "languageId": "r"
    }
   },
   "outputs": [
    {
     "name": "stdout",
     "output_type": "stream",
     "text": [
      "[1] \"https://www.inegi.org.mx/contenidos/programas/encig/2017/microdatos/encig17_base_datos_dbf.zip\"\n",
      "[1] \"https://www.inegi.org.mx/contenidos/programas/encig/2019/microdatos/encig19_base_datos_dbf.zip\"\n",
      "[1] \"https://www.inegi.org.mx/contenidos/programas/encig/2021/microdatos/encig21_base_datos_csv.zip\"\n",
      "[1] \"https://www.inegi.org.mx/contenidos/programas/encig/2023/microdatos/encig23_base_datos_csv.zip\"\n"
     ]
    }
   ],
   "source": [
    "# Descargar los archivos, descomprimirlos y renombrarlos\n",
    "options(timeout=10000)\n",
    "for (i in 1:length(years_encig)) {\n",
    "  # Ajustar el sufijo de la URL y archivo según el año\n",
    "  if (years_encig[i] %in% c(\"2017\", \"2019\")) {\n",
    "    fin <- \"_base_datos_dbf.zip\"\n",
    "  } else {\n",
    "    fin <- \"_base_datos_csv.zip\"\n",
    "  }\n",
    "\n",
    "  # Construir la URL y el nombre del archivo destino\n",
    "  url <- paste0(url_encig_basica, years_encig[i], \"/\", segunda_parte, str_sub(years_encig[i], 3, 4), fin)\n",
    "  print(url)\n",
    "  destfile <- paste0(\"data/encig\", str_sub(years_encig[i], 3, 4), fin)\n",
    "\n",
    "  # Descargar el archivo\n",
    "  download.file(url, destfile = destfile)\n",
    "\n",
    "  # Descomprimir el archivo\n",
    "  unzip(destfile, exdir = \"data\")\n",
    "}"
   ]
  },
  {
   "cell_type": "code",
   "execution_count": 6,
   "id": "ab2ab24da73d359e",
   "metadata": {
    "ExecuteTime": {
     "end_time": "2025-03-19T17:13:45.070882Z",
     "start_time": "2025-03-19T17:13:45.051439Z"
    },
    "vscode": {
     "languageId": "r"
    }
   },
   "outputs": [],
   "source": [
    "# Función de estimación\n",
    "process_files <- function(years, variable) {\n",
    "  # Función anidada para estimar el indicador\n",
    "  estima_indicador <- function(path, variable) {\n",
    "    # Extraer el año del archivo\n",
    "    year <- substr(path, 11, 14)\n",
    "\n",
    "    # Leer los datos y hacer las transformaciones necesarias de las variables\n",
    "    if (year %in% c(\"2017\", \"2019\")) {\n",
    "      datos <- foreign::read.dbf(path) %>%\n",
    "        janitor::clean_names() %>%\n",
    "        mutate(p11_1_6 = if (\"p11_1_6\" %in% names(.)) as.numeric(p11_1_6) else as.numeric(p3_2),\n",
    "               fac_p18 = as.numeric(fac_p18),\n",
    "               upm = as.numeric(upm),\n",
    "               est_dis = as.numeric(est_dis)) %>%\n",
    "        # Filtrar Ciudad de México\n",
    "        filter(ent == \"09\")\n",
    "    } else if (year %in% c(\"2021\", \"2023\")) {\n",
    "      datos <- read_csv(path, show_col_types = FALSE) %>%\n",
    "        janitor::clean_names() %>%\n",
    "        rename_with(~ ifelse(. == \"p11_1_06\", \"p11_1_6\", .)) %>%\n",
    "        # Filtrar Ciudad de México\n",
    "        filter(nom_ent == \"CIUDAD DE MEXICO\")\n",
    "    } else {\n",
    "      stop(\"Año no soportado.\")\n",
    "    }\n",
    "\n",
    "    # Diseño muestral\n",
    "    dm <- datos %>%\n",
    "      as_survey_design(ids = upm, strata = est_dis, weights = fac_p18)\n",
    "\n",
    "    # Confianza\n",
    "    if (variable == \"confianza\") {\n",
    "      confianza_gob <- dm %>%\n",
    "        mutate(confianza = case_when(\n",
    "          p11_1_6 == 1 | p11_1_6 == 2 ~ \"Confía\",\n",
    "          TRUE ~ \"No confía\"\n",
    "        )) %>%\n",
    "        group_by(confianza) %>%\n",
    "        summarise(\n",
    "          personas = survey_total(vartype = \"cv\"),\n",
    "          porcentaje = survey_mean(vartype = \"cv\")\n",
    "        ) %>%\n",
    "        # Filtrar confianza\n",
    "        filter(confianza == \"Confía\") %>%\n",
    "        mutate(porcentaje = round(porcentaje * 100, 2),\n",
    "               year = year)\n",
    "      return(confianza_gob)\n",
    "\n",
    "      # Actos de corrupción\n",
    "    } else if (variable == \"actos_corrupcion\") {\n",
    "      actos_corrup <- dm %>%\n",
    "        mutate(actos_corrupcion = case_when(\n",
    "          p3_2 == 1 | p3_2 == 2 ~ \"Frecuentes\",\n",
    "          TRUE ~ \"No frecuentes\"\n",
    "        )) %>%\n",
    "        group_by(actos_corrupcion) %>%\n",
    "        summarise(\n",
    "          personas = survey_total(vartype = \"cv\"),\n",
    "          porcentaje = survey_mean(vartype = \"cv\")\n",
    "        ) %>%\n",
    "        filter(actos_corrupcion == \"Frecuentes\") %>%\n",
    "        mutate(porcentaje = round(porcentaje * 100, 2),\n",
    "               year = year)\n",
    "      return(actos_corrup)\n",
    "\n",
    "    } else {\n",
    "      stop(\"Variable no reconocida.\")\n",
    "    }\n",
    "  }\n",
    "\n",
    "  map_dfr(years, function(year) {\n",
    "    # Seleccionar el archivo correcto según la variable y el año\n",
    "    file_path <- if (variable == \"actos_corrupcion\") {\n",
    "      if (year %in% c(2017, 2019)) {\n",
    "        paste0(\"data/encig\", year, \"_01_sec1_3_4_5_8_9_10.dbf\")\n",
    "      } else if (year %in% c(2021, 2023)) {\n",
    "        paste0(\"data/encig\", year, \"_01_sec1_A_3_4_5_8_9_10.csv\")\n",
    "      } else {\n",
    "        stop(\"Año no soportado para actos de corrupción.\")\n",
    "      }\n",
    "    } else if (variable == \"confianza\") {\n",
    "      if (year %in% c(2017, 2019)) {\n",
    "        paste0(\"data/encig\", year, \"_01_sec_11.dbf\")\n",
    "      } else if (year %in% c(2021, 2023)) {\n",
    "        paste0(\"data/encig\", year, \"_01_sec_11.csv\")\n",
    "      } else {\n",
    "        stop(\"Año no soportado para confianza.\")\n",
    "      }\n",
    "    } else {\n",
    "      stop(\"Variable no reconocida.\")\n",
    "    }\n",
    "\n",
    "    # Print del archivo que se está procesando\n",
    "    print(paste(\"Procesando archivo:\", file_path))\n",
    "\n",
    "    # Invocar la función de estimación\n",
    "    estima_indicador(file_path, variable)\n",
    "  })\n",
    "}\n"
   ]
  },
  {
   "cell_type": "code",
   "execution_count": 7,
   "id": "c5672cbc9f132201",
   "metadata": {
    "ExecuteTime": {
     "end_time": "2025-03-19T17:13:51.758122Z",
     "start_time": "2025-03-19T17:13:48.144398Z"
    },
    "vscode": {
     "languageId": "r"
    }
   },
   "outputs": [
    {
     "name": "stdout",
     "output_type": "stream",
     "text": [
      "[1] \"Procesando archivo: data/encig2017_01_sec_11.dbf\"\n",
      "[1] \"Procesando archivo: data/encig2019_01_sec_11.dbf\"\n",
      "[1] \"Procesando archivo: data/encig2021_01_sec_11.csv\"\n"
     ]
    },
    {
     "name": "stderr",
     "output_type": "stream",
     "text": [
      "\u001b[1m\u001b[22mNew names:\n",
      "\u001b[36m•\u001b[39m `` -> `...1`\n"
     ]
    },
    {
     "name": "stdout",
     "output_type": "stream",
     "text": [
      "[1] \"Procesando archivo: data/encig2023_01_sec_11.csv\"\n"
     ]
    },
    {
     "name": "stderr",
     "output_type": "stream",
     "text": [
      "\u001b[1m\u001b[22mNew names:\n",
      "\u001b[36m•\u001b[39m `` -> `...1`\n"
     ]
    },
    {
     "name": "stdout",
     "output_type": "stream",
     "text": [
      "[1] \"Porcentaje de personas que confían en el gobierno de la Ciudad de México\"\n"
     ]
    },
    {
     "data": {
      "text/html": [
       "<table class=\"dataframe\">\n",
       "<caption>A tibble: 4 × 6</caption>\n",
       "<thead>\n",
       "\t<tr><th scope=col>confianza</th><th scope=col>personas</th><th scope=col>personas_cv</th><th scope=col>porcentaje</th><th scope=col>porcentaje_cv</th><th scope=col>year</th></tr>\n",
       "\t<tr><th scope=col>&lt;chr&gt;</th><th scope=col>&lt;dbl&gt;</th><th scope=col>&lt;dbl&gt;</th><th scope=col>&lt;dbl&gt;</th><th scope=col>&lt;dbl&gt;</th><th scope=col>&lt;chr&gt;</th></tr>\n",
       "</thead>\n",
       "<tbody>\n",
       "\t<tr><td>Confía</td><td>1241859</td><td>0.05099752</td><td>14.16</td><td>0.04852940</td><td>2017</td></tr>\n",
       "\t<tr><td>Confía</td><td>2836364</td><td>0.02448298</td><td>40.87</td><td>0.02166087</td><td>2019</td></tr>\n",
       "\t<tr><td>Confía</td><td>3351823</td><td>0.02201146</td><td>48.17</td><td>0.01892866</td><td>2021</td></tr>\n",
       "\t<tr><td>Confía</td><td>3446410</td><td>0.02412965</td><td>45.49</td><td>0.01937280</td><td>2023</td></tr>\n",
       "</tbody>\n",
       "</table>\n"
      ],
      "text/latex": [
       "A tibble: 4 × 6\n",
       "\\begin{tabular}{llllll}\n",
       " confianza & personas & personas\\_cv & porcentaje & porcentaje\\_cv & year\\\\\n",
       " <chr> & <dbl> & <dbl> & <dbl> & <dbl> & <chr>\\\\\n",
       "\\hline\n",
       "\t Confía & 1241859 & 0.05099752 & 14.16 & 0.04852940 & 2017\\\\\n",
       "\t Confía & 2836364 & 0.02448298 & 40.87 & 0.02166087 & 2019\\\\\n",
       "\t Confía & 3351823 & 0.02201146 & 48.17 & 0.01892866 & 2021\\\\\n",
       "\t Confía & 3446410 & 0.02412965 & 45.49 & 0.01937280 & 2023\\\\\n",
       "\\end{tabular}\n"
      ],
      "text/markdown": [
       "\n",
       "A tibble: 4 × 6\n",
       "\n",
       "| confianza &lt;chr&gt; | personas &lt;dbl&gt; | personas_cv &lt;dbl&gt; | porcentaje &lt;dbl&gt; | porcentaje_cv &lt;dbl&gt; | year &lt;chr&gt; |\n",
       "|---|---|---|---|---|---|\n",
       "| Confía | 1241859 | 0.05099752 | 14.16 | 0.04852940 | 2017 |\n",
       "| Confía | 2836364 | 0.02448298 | 40.87 | 0.02166087 | 2019 |\n",
       "| Confía | 3351823 | 0.02201146 | 48.17 | 0.01892866 | 2021 |\n",
       "| Confía | 3446410 | 0.02412965 | 45.49 | 0.01937280 | 2023 |\n",
       "\n"
      ],
      "text/plain": [
       "  confianza personas personas_cv porcentaje porcentaje_cv year\n",
       "1 Confía    1241859  0.05099752  14.16      0.04852940    2017\n",
       "2 Confía    2836364  0.02448298  40.87      0.02166087    2019\n",
       "3 Confía    3351823  0.02201146  48.17      0.01892866    2021\n",
       "4 Confía    3446410  0.02412965  45.49      0.01937280    2023"
      ]
     },
     "metadata": {},
     "output_type": "display_data"
    }
   ],
   "source": [
    "# Estimar indicadores de gobierno\n",
    "tabla_confianza<-process_files(years_encig, variable = \"confianza\")\n",
    "print(\"Porcentaje de personas que confían en el gobierno de la Ciudad de México\")\n",
    "tabla_confianza"
   ]
  },
  {
   "cell_type": "code",
   "execution_count": 8,
   "id": "b0e06e091cfeb4eb",
   "metadata": {
    "ExecuteTime": {
     "end_time": "2025-03-19T17:13:56.954307Z",
     "start_time": "2025-03-19T17:13:51.771719Z"
    },
    "vscode": {
     "languageId": "r"
    }
   },
   "outputs": [
    {
     "name": "stdout",
     "output_type": "stream",
     "text": [
      "[1] \"Procesando archivo: data/encig2017_01_sec1_3_4_5_8_9_10.dbf\"\n",
      "[1] \"Procesando archivo: data/encig2019_01_sec1_3_4_5_8_9_10.dbf\"\n",
      "[1] \"Procesando archivo: data/encig2021_01_sec1_A_3_4_5_8_9_10.csv\"\n"
     ]
    },
    {
     "name": "stderr",
     "output_type": "stream",
     "text": [
      "\u001b[1m\u001b[22mNew names:\n",
      "\u001b[36m•\u001b[39m `` -> `...1`\n"
     ]
    },
    {
     "name": "stdout",
     "output_type": "stream",
     "text": [
      "[1] \"Procesando archivo: data/encig2023_01_sec1_A_3_4_5_8_9_10.csv\"\n"
     ]
    },
    {
     "name": "stderr",
     "output_type": "stream",
     "text": [
      "\u001b[1m\u001b[22mNew names:\n",
      "\u001b[36m•\u001b[39m `` -> `...1`\n"
     ]
    },
    {
     "name": "stdout",
     "output_type": "stream",
     "text": [
      "[1] \"Porcentaje de personas que perciben actos de corrupción en la Ciudad de México\"\n"
     ]
    },
    {
     "data": {
      "text/html": [
       "<table class=\"dataframe\">\n",
       "<caption>A tibble: 4 × 6</caption>\n",
       "<thead>\n",
       "\t<tr><th scope=col>actos_corrupcion</th><th scope=col>personas</th><th scope=col>personas_cv</th><th scope=col>porcentaje</th><th scope=col>porcentaje_cv</th><th scope=col>year</th></tr>\n",
       "\t<tr><th scope=col>&lt;chr&gt;</th><th scope=col>&lt;dbl&gt;</th><th scope=col>&lt;dbl&gt;</th><th scope=col>&lt;dbl&gt;</th><th scope=col>&lt;dbl&gt;</th><th scope=col>&lt;chr&gt;</th></tr>\n",
       "</thead>\n",
       "<tbody>\n",
       "\t<tr><td>Frecuentes</td><td>8410975</td><td>0.01634467</td><td>95.94</td><td>0.003774120</td><td>2017</td></tr>\n",
       "\t<tr><td>Frecuentes</td><td>6247296</td><td>0.01193104</td><td>90.02</td><td>0.005535388</td><td>2019</td></tr>\n",
       "\t<tr><td>Frecuentes</td><td>6248752</td><td>0.01368776</td><td>89.81</td><td>0.005471011</td><td>2021</td></tr>\n",
       "\t<tr><td>Frecuentes</td><td>6648218</td><td>0.01374265</td><td>87.76</td><td>0.006548517</td><td>2023</td></tr>\n",
       "</tbody>\n",
       "</table>\n"
      ],
      "text/latex": [
       "A tibble: 4 × 6\n",
       "\\begin{tabular}{llllll}\n",
       " actos\\_corrupcion & personas & personas\\_cv & porcentaje & porcentaje\\_cv & year\\\\\n",
       " <chr> & <dbl> & <dbl> & <dbl> & <dbl> & <chr>\\\\\n",
       "\\hline\n",
       "\t Frecuentes & 8410975 & 0.01634467 & 95.94 & 0.003774120 & 2017\\\\\n",
       "\t Frecuentes & 6247296 & 0.01193104 & 90.02 & 0.005535388 & 2019\\\\\n",
       "\t Frecuentes & 6248752 & 0.01368776 & 89.81 & 0.005471011 & 2021\\\\\n",
       "\t Frecuentes & 6648218 & 0.01374265 & 87.76 & 0.006548517 & 2023\\\\\n",
       "\\end{tabular}\n"
      ],
      "text/markdown": [
       "\n",
       "A tibble: 4 × 6\n",
       "\n",
       "| actos_corrupcion &lt;chr&gt; | personas &lt;dbl&gt; | personas_cv &lt;dbl&gt; | porcentaje &lt;dbl&gt; | porcentaje_cv &lt;dbl&gt; | year &lt;chr&gt; |\n",
       "|---|---|---|---|---|---|\n",
       "| Frecuentes | 8410975 | 0.01634467 | 95.94 | 0.003774120 | 2017 |\n",
       "| Frecuentes | 6247296 | 0.01193104 | 90.02 | 0.005535388 | 2019 |\n",
       "| Frecuentes | 6248752 | 0.01368776 | 89.81 | 0.005471011 | 2021 |\n",
       "| Frecuentes | 6648218 | 0.01374265 | 87.76 | 0.006548517 | 2023 |\n",
       "\n"
      ],
      "text/plain": [
       "  actos_corrupcion personas personas_cv porcentaje porcentaje_cv year\n",
       "1 Frecuentes       8410975  0.01634467  95.94      0.003774120   2017\n",
       "2 Frecuentes       6247296  0.01193104  90.02      0.005535388   2019\n",
       "3 Frecuentes       6248752  0.01368776  89.81      0.005471011   2021\n",
       "4 Frecuentes       6648218  0.01374265  87.76      0.006548517   2023"
      ]
     },
     "metadata": {},
     "output_type": "display_data"
    }
   ],
   "source": [
    "tabla_actos_corrupcion<-process_files(years_encig, variable = \"actos_corrupcion\")\n",
    "print(\"Porcentaje de personas que perciben actos de corrupción en la Ciudad de México\")\n",
    "tabla_actos_corrupcion"
   ]
  },
  {
   "cell_type": "markdown",
   "id": "4d7c08c24a9d0ff6",
   "metadata": {},
   "source": [
    "### Proyecciones"
   ]
  },
  {
   "cell_type": "code",
   "execution_count": 9,
   "id": "5c34471db9396583",
   "metadata": {
    "ExecuteTime": {
     "end_time": "2025-03-19T17:13:57.247011Z",
     "start_time": "2025-03-19T17:13:57.201896Z"
    },
    "vscode": {
     "languageId": "r"
    }
   },
   "outputs": [
    {
     "data": {
      "text/html": [
       "<table class=\"dataframe\">\n",
       "<caption>A tibble: 3 × 6</caption>\n",
       "<thead>\n",
       "\t<tr><th scope=col>confianza</th><th scope=col>personas</th><th scope=col>personas_cv</th><th scope=col>porcentaje</th><th scope=col>porcentaje_cv</th><th scope=col>year</th></tr>\n",
       "\t<tr><th scope=col>&lt;chr&gt;</th><th scope=col>&lt;dbl&gt;</th><th scope=col>&lt;dbl&gt;</th><th scope=col>&lt;dbl&gt;</th><th scope=col>&lt;dbl&gt;</th><th scope=col>&lt;chr&gt;</th></tr>\n",
       "</thead>\n",
       "<tbody>\n",
       "\t<tr><td>Confía</td><td>2836364</td><td>0.02448298</td><td>40.87</td><td>0.02166087</td><td>2019</td></tr>\n",
       "\t<tr><td>Confía</td><td>3351823</td><td>0.02201146</td><td>48.17</td><td>0.01892866</td><td>2021</td></tr>\n",
       "\t<tr><td>Confía</td><td>3446410</td><td>0.02412965</td><td>45.49</td><td>0.01937280</td><td>2023</td></tr>\n",
       "</tbody>\n",
       "</table>\n"
      ],
      "text/latex": [
       "A tibble: 3 × 6\n",
       "\\begin{tabular}{llllll}\n",
       " confianza & personas & personas\\_cv & porcentaje & porcentaje\\_cv & year\\\\\n",
       " <chr> & <dbl> & <dbl> & <dbl> & <dbl> & <chr>\\\\\n",
       "\\hline\n",
       "\t Confía & 2836364 & 0.02448298 & 40.87 & 0.02166087 & 2019\\\\\n",
       "\t Confía & 3351823 & 0.02201146 & 48.17 & 0.01892866 & 2021\\\\\n",
       "\t Confía & 3446410 & 0.02412965 & 45.49 & 0.01937280 & 2023\\\\\n",
       "\\end{tabular}\n"
      ],
      "text/markdown": [
       "\n",
       "A tibble: 3 × 6\n",
       "\n",
       "| confianza &lt;chr&gt; | personas &lt;dbl&gt; | personas_cv &lt;dbl&gt; | porcentaje &lt;dbl&gt; | porcentaje_cv &lt;dbl&gt; | year &lt;chr&gt; |\n",
       "|---|---|---|---|---|---|\n",
       "| Confía | 2836364 | 0.02448298 | 40.87 | 0.02166087 | 2019 |\n",
       "| Confía | 3351823 | 0.02201146 | 48.17 | 0.01892866 | 2021 |\n",
       "| Confía | 3446410 | 0.02412965 | 45.49 | 0.01937280 | 2023 |\n",
       "\n"
      ],
      "text/plain": [
       "  confianza personas personas_cv porcentaje porcentaje_cv year\n",
       "1 Confía    2836364  0.02448298  40.87      0.02166087    2019\n",
       "2 Confía    3351823  0.02201146  48.17      0.01892866    2021\n",
       "3 Confía    3446410  0.02412965  45.49      0.01937280    2023"
      ]
     },
     "metadata": {},
     "output_type": "display_data"
    }
   ],
   "source": [
    "tabla_confianza%>%\n",
    "filter(year>2017)"
   ]
  },
  {
   "cell_type": "code",
   "execution_count": 10,
   "id": "5fb42a809477db1a",
   "metadata": {
    "ExecuteTime": {
     "end_time": "2025-03-19T17:13:59.831434Z",
     "start_time": "2025-03-19T17:13:59.818015Z"
    },
    "vscode": {
     "languageId": "r"
    }
   },
   "outputs": [
    {
     "data": {
      "text/html": [
       "0.0856404198056246"
      ],
      "text/latex": [
       "0.0856404198056246"
      ],
      "text/markdown": [
       "0.0856404198056246"
      ],
      "text/plain": [
       "[1] 0.08564042"
      ]
     },
     "metadata": {},
     "output_type": "display_data"
    }
   ],
   "source": [
    "tcma_confianza<-((tabla_confianza$porcentaje[tabla_confianza$year==2021]/tabla_confianza$porcentaje[tabla_confianza$year==2019])^(1/(2021-2019))-1)\n",
    "tcma_confianza"
   ]
  },
  {
   "cell_type": "code",
   "execution_count": 11,
   "id": "4cc7d25d31eba215",
   "metadata": {
    "ExecuteTime": {
     "end_time": "2025-03-19T17:14:03.164239Z",
     "start_time": "2025-03-19T17:14:03.147577Z"
    },
    "vscode": {
     "languageId": "r"
    }
   },
   "outputs": [
    {
     "data": {
      "text/html": [
       "0.00815623045767854"
      ],
      "text/latex": [
       "0.00815623045767854"
      ],
      "text/markdown": [
       "0.00815623045767854"
      ],
      "text/plain": [
       "[1] 0.00815623"
      ]
     },
     "metadata": {},
     "output_type": "display_data"
    }
   ],
   "source": [
    "# Número de años en cada periodo\n",
    "años_original <- 2021 - 2019\n",
    "años_nuevo <- 2045 - 2024\n",
    "\n",
    "# Factor de ajuste\n",
    "factor_ajuste <- (años_nuevo / años_original)\n",
    "tasa_crecimiento_ajustada <- tcma_confianza / factor_ajuste\n",
    "tasa_crecimiento_ajustada"
   ]
  },
  {
   "cell_type": "code",
   "execution_count": 12,
   "id": "ddd8e637577289eb",
   "metadata": {
    "ExecuteTime": {
     "end_time": "2025-03-19T17:14:04.999897Z",
     "start_time": "2025-03-19T17:14:04.975048Z"
    },
    "vscode": {
     "languageId": "r"
    }
   },
   "outputs": [
    {
     "data": {
      "text/html": [
       "<table class=\"dataframe\">\n",
       "<caption>A data.frame: 22 × 2</caption>\n",
       "<thead>\n",
       "\t<tr><th scope=col>year</th><th scope=col>porcentaje</th></tr>\n",
       "\t<tr><th scope=col>&lt;int&gt;</th><th scope=col>&lt;dbl&gt;</th></tr>\n",
       "</thead>\n",
       "<tbody>\n",
       "\t<tr><td>2024</td><td>45.86</td></tr>\n",
       "\t<tr><td>2025</td><td>46.24</td></tr>\n",
       "\t<tr><td>2026</td><td>46.61</td></tr>\n",
       "\t<tr><td>2027</td><td>46.99</td></tr>\n",
       "\t<tr><td>2028</td><td>47.38</td></tr>\n",
       "\t<tr><td>2029</td><td>47.76</td></tr>\n",
       "\t<tr><td>2030</td><td>48.15</td></tr>\n",
       "\t<tr><td>2031</td><td>48.54</td></tr>\n",
       "\t<tr><td>2032</td><td>48.94</td></tr>\n",
       "\t<tr><td>2033</td><td>49.34</td></tr>\n",
       "\t<tr><td>2034</td><td>49.74</td></tr>\n",
       "\t<tr><td>2035</td><td>50.15</td></tr>\n",
       "\t<tr><td>2036</td><td>50.56</td></tr>\n",
       "\t<tr><td>2037</td><td>50.97</td></tr>\n",
       "\t<tr><td>2038</td><td>51.38</td></tr>\n",
       "\t<tr><td>2039</td><td>51.80</td></tr>\n",
       "\t<tr><td>2040</td><td>52.23</td></tr>\n",
       "\t<tr><td>2041</td><td>52.65</td></tr>\n",
       "\t<tr><td>2042</td><td>53.08</td></tr>\n",
       "\t<tr><td>2043</td><td>53.51</td></tr>\n",
       "\t<tr><td>2044</td><td>53.95</td></tr>\n",
       "\t<tr><td>2045</td><td>54.39</td></tr>\n",
       "</tbody>\n",
       "</table>\n"
      ],
      "text/latex": [
       "A data.frame: 22 × 2\n",
       "\\begin{tabular}{ll}\n",
       " year & porcentaje\\\\\n",
       " <int> & <dbl>\\\\\n",
       "\\hline\n",
       "\t 2024 & 45.86\\\\\n",
       "\t 2025 & 46.24\\\\\n",
       "\t 2026 & 46.61\\\\\n",
       "\t 2027 & 46.99\\\\\n",
       "\t 2028 & 47.38\\\\\n",
       "\t 2029 & 47.76\\\\\n",
       "\t 2030 & 48.15\\\\\n",
       "\t 2031 & 48.54\\\\\n",
       "\t 2032 & 48.94\\\\\n",
       "\t 2033 & 49.34\\\\\n",
       "\t 2034 & 49.74\\\\\n",
       "\t 2035 & 50.15\\\\\n",
       "\t 2036 & 50.56\\\\\n",
       "\t 2037 & 50.97\\\\\n",
       "\t 2038 & 51.38\\\\\n",
       "\t 2039 & 51.80\\\\\n",
       "\t 2040 & 52.23\\\\\n",
       "\t 2041 & 52.65\\\\\n",
       "\t 2042 & 53.08\\\\\n",
       "\t 2043 & 53.51\\\\\n",
       "\t 2044 & 53.95\\\\\n",
       "\t 2045 & 54.39\\\\\n",
       "\\end{tabular}\n"
      ],
      "text/markdown": [
       "\n",
       "A data.frame: 22 × 2\n",
       "\n",
       "| year &lt;int&gt; | porcentaje &lt;dbl&gt; |\n",
       "|---|---|\n",
       "| 2024 | 45.86 |\n",
       "| 2025 | 46.24 |\n",
       "| 2026 | 46.61 |\n",
       "| 2027 | 46.99 |\n",
       "| 2028 | 47.38 |\n",
       "| 2029 | 47.76 |\n",
       "| 2030 | 48.15 |\n",
       "| 2031 | 48.54 |\n",
       "| 2032 | 48.94 |\n",
       "| 2033 | 49.34 |\n",
       "| 2034 | 49.74 |\n",
       "| 2035 | 50.15 |\n",
       "| 2036 | 50.56 |\n",
       "| 2037 | 50.97 |\n",
       "| 2038 | 51.38 |\n",
       "| 2039 | 51.80 |\n",
       "| 2040 | 52.23 |\n",
       "| 2041 | 52.65 |\n",
       "| 2042 | 53.08 |\n",
       "| 2043 | 53.51 |\n",
       "| 2044 | 53.95 |\n",
       "| 2045 | 54.39 |\n",
       "\n"
      ],
      "text/plain": [
       "   year porcentaje\n",
       "1  2024 45.86     \n",
       "2  2025 46.24     \n",
       "3  2026 46.61     \n",
       "4  2027 46.99     \n",
       "5  2028 47.38     \n",
       "6  2029 47.76     \n",
       "7  2030 48.15     \n",
       "8  2031 48.54     \n",
       "9  2032 48.94     \n",
       "10 2033 49.34     \n",
       "11 2034 49.74     \n",
       "12 2035 50.15     \n",
       "13 2036 50.56     \n",
       "14 2037 50.97     \n",
       "15 2038 51.38     \n",
       "16 2039 51.80     \n",
       "17 2040 52.23     \n",
       "18 2041 52.65     \n",
       "19 2042 53.08     \n",
       "20 2043 53.51     \n",
       "21 2044 53.95     \n",
       "22 2045 54.39     "
      ]
     },
     "metadata": {},
     "output_type": "display_data"
    }
   ],
   "source": [
    "extendido_confianza<-data.frame(year=2024:2045)\n",
    "\n",
    "extendido_confianza$porcentaje<-tabla_confianza$porcentaje[tabla_confianza$year==2023]*cumprod(rep(1+tasa_crecimiento_ajustada,length(2024:2045)))\n",
    "extendido_confianza%>%\n",
    "mutate(porcentaje=round(porcentaje,2))"
   ]
  },
  {
   "cell_type": "code",
   "execution_count": 13,
   "id": "1203b5b21610c2f4",
   "metadata": {
    "ExecuteTime": {
     "end_time": "2025-03-19T17:14:07.346451Z",
     "start_time": "2025-03-19T17:14:07.326088Z"
    },
    "vscode": {
     "languageId": "r"
    }
   },
   "outputs": [],
   "source": [
    "tab_graph_confianza<-tabla_confianza%>%\n",
    "mutate(year=as.integer(year))%>%\n",
    "select(year,porcentaje)%>%\n",
    "#Pegar con la tabla extendida\n",
    "bind_rows(extendido_confianza)%>%\n",
    "filter(year>2017)\n",
    "#tab_graph_confianza"
   ]
  },
  {
   "cell_type": "code",
   "execution_count": 14,
   "id": "947031d8f6ebce6a",
   "metadata": {
    "ExecuteTime": {
     "end_time": "2025-03-19T17:16:44.633212Z",
     "start_time": "2025-03-19T17:16:44.427095Z"
    },
    "vscode": {
     "languageId": "r"
    }
   },
   "outputs": [
    {
     "name": "stderr",
     "output_type": "stream",
     "text": [
      "Warning message in grid.Call(C_stringMetric, as.graphicsAnnot(x$label)):\n",
      "\"font family 'rob' not found, will use 'sans' instead\"\n",
      "Warning message in grid.Call(C_stringMetric, as.graphicsAnnot(x$label)):\n",
      "\"font family 'rob' not found, will use 'sans' instead\"\n",
      "Warning message in grid.Call(C_stringMetric, as.graphicsAnnot(x$label)):\n",
      "\"font family 'rob' not found, will use 'sans' instead\"\n",
      "Warning message in grid.Call(C_stringMetric, as.graphicsAnnot(x$label)):\n",
      "\"font family 'rob' not found, will use 'sans' instead\"\n",
      "Warning message in grid.Call(C_stringMetric, as.graphicsAnnot(x$label)):\n",
      "\"font family 'rob' not found, will use 'sans' instead\"\n",
      "Warning message in grid.Call(C_stringMetric, as.graphicsAnnot(x$label)):\n",
      "\"font family 'rob' not found, will use 'sans' instead\"\n",
      "Warning message in grid.Call(C_stringMetric, as.graphicsAnnot(x$label)):\n",
      "\"font family 'rob' not found, will use 'sans' instead\"\n",
      "Warning message in grid.Call(C_stringMetric, as.graphicsAnnot(x$label)):\n",
      "\"font family 'rob' not found, will use 'sans' instead\"\n",
      "Warning message in grid.Call(C_stringMetric, as.graphicsAnnot(x$label)):\n",
      "\"font family 'rob' not found, will use 'sans' instead\"\n",
      "Warning message in grid.Call(C_stringMetric, as.graphicsAnnot(x$label)):\n",
      "\"font family 'rob' not found, will use 'sans' instead\"\n",
      "Warning message in grid.Call(C_stringMetric, as.graphicsAnnot(x$label)):\n",
      "\"font family 'rob' not found, will use 'sans' instead\"\n",
      "Warning message in grid.Call(C_stringMetric, as.graphicsAnnot(x$label)):\n",
      "\"font family 'rob' not found, will use 'sans' instead\"\n",
      "Warning message in grid.Call(C_stringMetric, as.graphicsAnnot(x$label)):\n",
      "\"font family 'rob' not found, will use 'sans' instead\"\n",
      "Warning message in grid.Call(C_stringMetric, as.graphicsAnnot(x$label)):\n",
      "\"font family 'rob' not found, will use 'sans' instead\"\n",
      "Warning message in grid.Call(C_textBounds, as.graphicsAnnot(x$label), x$x, x$y, :\n",
      "\"font family 'rob' not found, will use 'sans' instead\"\n",
      "Warning message in grid.Call(C_textBounds, as.graphicsAnnot(x$label), x$x, x$y, :\n",
      "\"font family 'rob' not found, will use 'sans' instead\"\n",
      "Warning message in grid.Call(C_textBounds, as.graphicsAnnot(x$label), x$x, x$y, :\n",
      "\"font family 'rob' not found, will use 'sans' instead\"\n",
      "Warning message in grid.Call(C_textBounds, as.graphicsAnnot(x$label), x$x, x$y, :\n",
      "\"font family 'rob' not found, will use 'sans' instead\"\n",
      "Warning message in grid.Call(C_textBounds, as.graphicsAnnot(x$label), x$x, x$y, :\n",
      "\"font family 'rob' not found, will use 'sans' instead\"\n",
      "Warning message in grid.Call(C_textBounds, as.graphicsAnnot(x$label), x$x, x$y, :\n",
      "\"font family 'rob' not found, will use 'sans' instead\"\n",
      "Warning message in grid.Call(C_stringMetric, as.graphicsAnnot(x$label)):\n",
      "\"font family 'rob' not found, will use 'sans' instead\"\n",
      "Warning message in grid.Call(C_stringMetric, as.graphicsAnnot(x$label)):\n",
      "\"font family 'rob' not found, will use 'sans' instead\"\n",
      "Warning message in grid.Call(C_stringMetric, as.graphicsAnnot(x$label)):\n",
      "\"font family 'rob' not found, will use 'sans' instead\"\n",
      "Warning message in grid.Call(C_stringMetric, as.graphicsAnnot(x$label)):\n",
      "\"font family 'rob' not found, will use 'sans' instead\"\n",
      "Warning message in grid.Call(C_stringMetric, as.graphicsAnnot(x$label)):\n",
      "\"font family 'rob' not found, will use 'sans' instead\"\n",
      "Warning message in grid.Call(C_stringMetric, as.graphicsAnnot(x$label)):\n",
      "\"font family 'rob' not found, will use 'sans' instead\"\n",
      "Warning message in grid.Call(C_stringMetric, as.graphicsAnnot(x$label)):\n",
      "\"font family 'rob' not found, will use 'sans' instead\"\n",
      "Warning message in grid.Call(C_stringMetric, as.graphicsAnnot(x$label)):\n",
      "\"font family 'rob' not found, will use 'sans' instead\"\n",
      "Warning message in grid.Call(C_stringMetric, as.graphicsAnnot(x$label)):\n",
      "\"font family 'rob' not found, will use 'sans' instead\"\n",
      "Warning message in grid.Call(C_stringMetric, as.graphicsAnnot(x$label)):\n",
      "\"font family 'rob' not found, will use 'sans' instead\"\n",
      "Warning message in grid.Call(C_stringMetric, as.graphicsAnnot(x$label)):\n",
      "\"font family 'rob' not found, will use 'sans' instead\"\n",
      "Warning message in grid.Call(C_stringMetric, as.graphicsAnnot(x$label)):\n",
      "\"font family 'rob' not found, will use 'sans' instead\"\n",
      "Warning message in grid.Call(C_stringMetric, as.graphicsAnnot(x$label)):\n",
      "\"font family 'rob' not found, will use 'sans' instead\"\n",
      "Warning message in grid.Call(C_stringMetric, as.graphicsAnnot(x$label)):\n",
      "\"font family 'rob' not found, will use 'sans' instead\"\n",
      "Warning message in grid.Call(C_textBounds, as.graphicsAnnot(x$label), x$x, x$y, :\n",
      "\"font family 'rob' not found, will use 'sans' instead\"\n",
      "Warning message in grid.Call(C_textBounds, as.graphicsAnnot(x$label), x$x, x$y, :\n",
      "\"font family 'rob' not found, will use 'sans' instead\"\n",
      "Warning message in grid.Call(C_textBounds, as.graphicsAnnot(x$label), x$x, x$y, :\n",
      "\"font family 'rob' not found, will use 'sans' instead\"\n",
      "Warning message in grid.Call(C_stringMetric, as.graphicsAnnot(x$label)):\n",
      "\"font family 'rob' not found, will use 'sans' instead\"\n",
      "Warning message in grid.Call(C_stringMetric, as.graphicsAnnot(x$label)):\n",
      "\"font family 'rob' not found, will use 'sans' instead\"\n",
      "Warning message in grid.Call(C_stringMetric, as.graphicsAnnot(x$label)):\n",
      "\"font family 'rob' not found, will use 'sans' instead\"\n",
      "Warning message in grid.Call(C_stringMetric, as.graphicsAnnot(x$label)):\n",
      "\"font family 'rob' not found, will use 'sans' instead\"\n",
      "Warning message in grid.Call(C_stringMetric, as.graphicsAnnot(x$label)):\n",
      "\"font family 'rob' not found, will use 'sans' instead\"\n",
      "Warning message in grid.Call(C_stringMetric, as.graphicsAnnot(x$label)):\n",
      "\"font family 'rob' not found, will use 'sans' instead\"\n",
      "Warning message in grid.Call(C_stringMetric, as.graphicsAnnot(x$label)):\n",
      "\"font family 'rob' not found, will use 'sans' instead\"\n",
      "Warning message in grid.Call(C_stringMetric, as.graphicsAnnot(x$label)):\n",
      "\"font family 'rob' not found, will use 'sans' instead\"\n",
      "Warning message in grid.Call(C_stringMetric, as.graphicsAnnot(x$label)):\n",
      "\"font family 'rob' not found, will use 'sans' instead\"\n",
      "Warning message in grid.Call(C_stringMetric, as.graphicsAnnot(x$label)):\n",
      "\"font family 'rob' not found, will use 'sans' instead\"\n",
      "Warning message in grid.Call(C_stringMetric, as.graphicsAnnot(x$label)):\n",
      "\"font family 'rob' not found, will use 'sans' instead\"\n",
      "Warning message in grid.Call(C_stringMetric, as.graphicsAnnot(x$label)):\n",
      "\"font family 'rob' not found, will use 'sans' instead\"\n",
      "Warning message in grid.Call(C_stringMetric, as.graphicsAnnot(x$label)):\n",
      "\"font family 'rob' not found, will use 'sans' instead\"\n",
      "Warning message in grid.Call(C_stringMetric, as.graphicsAnnot(x$label)):\n",
      "\"font family 'rob' not found, will use 'sans' instead\"\n",
      "Warning message in grid.Call(C_stringMetric, as.graphicsAnnot(x$label)):\n",
      "\"font family 'rob' not found, will use 'sans' instead\"\n",
      "Warning message in grid.Call(C_stringMetric, as.graphicsAnnot(x$label)):\n",
      "\"font family 'rob' not found, will use 'sans' instead\"\n",
      "Warning message in grid.Call(C_stringMetric, as.graphicsAnnot(x$label)):\n",
      "\"font family 'rob' not found, will use 'sans' instead\"\n",
      "Warning message in grid.Call(C_stringMetric, as.graphicsAnnot(x$label)):\n",
      "\"font family 'rob' not found, will use 'sans' instead\"\n",
      "Warning message in grid.Call(C_stringMetric, as.graphicsAnnot(x$label)):\n",
      "\"font family 'rob' not found, will use 'sans' instead\"\n",
      "Warning message in grid.Call(C_stringMetric, as.graphicsAnnot(x$label)):\n",
      "\"font family 'rob' not found, will use 'sans' instead\"\n",
      "Warning message in grid.Call(C_stringMetric, as.graphicsAnnot(x$label)):\n",
      "\"font family 'rob' not found, will use 'sans' instead\"\n",
      "Warning message in grid.Call(C_stringMetric, as.graphicsAnnot(x$label)):\n",
      "\"font family 'rob' not found, will use 'sans' instead\"\n",
      "Warning message in grid.Call(C_stringMetric, as.graphicsAnnot(x$label)):\n",
      "\"font family 'rob' not found, will use 'sans' instead\"\n",
      "Warning message in grid.Call(C_stringMetric, as.graphicsAnnot(x$label)):\n",
      "\"font family 'rob' not found, will use 'sans' instead\"\n",
      "Warning message in grid.Call(C_stringMetric, as.graphicsAnnot(x$label)):\n",
      "\"font family 'rob' not found, will use 'sans' instead\"\n",
      "Warning message in grid.Call(C_stringMetric, as.graphicsAnnot(x$label)):\n",
      "\"font family 'rob' not found, will use 'sans' instead\"\n",
      "Warning message in grid.Call(C_stringMetric, as.graphicsAnnot(x$label)):\n",
      "\"font family 'rob' not found, will use 'sans' instead\"\n",
      "Warning message in grid.Call(C_stringMetric, as.graphicsAnnot(x$label)):\n",
      "\"font family 'rob' not found, will use 'sans' instead\"\n",
      "Warning message in grid.Call(C_textBounds, as.graphicsAnnot(x$label), x$x, x$y, :\n",
      "\"font family 'rob' not found, will use 'sans' instead\"\n",
      "Warning message in grid.Call(C_textBounds, as.graphicsAnnot(x$label), x$x, x$y, :\n",
      "\"font family 'rob' not found, will use 'sans' instead\"\n",
      "Warning message in grid.Call(C_textBounds, as.graphicsAnnot(x$label), x$x, x$y, :\n",
      "\"font family 'rob' not found, will use 'sans' instead\"\n",
      "Warning message in grid.Call(C_textBounds, as.graphicsAnnot(x$label), x$x, x$y, :\n",
      "\"font family 'rob' not found, will use 'sans' instead\"\n",
      "Warning message in grid.Call(C_textBounds, as.graphicsAnnot(x$label), x$x, x$y, :\n",
      "\"font family 'rob' not found, will use 'sans' instead\"\n",
      "Warning message in grid.Call(C_textBounds, as.graphicsAnnot(x$label), x$x, x$y, :\n",
      "\"font family 'rob' not found, will use 'sans' instead\"\n",
      "Warning message in grid.Call(C_textBounds, as.graphicsAnnot(x$label), x$x, x$y, :\n",
      "\"font family 'rob' not found, will use 'sans' instead\"\n",
      "Warning message in grid.Call(C_textBounds, as.graphicsAnnot(x$label), x$x, x$y, :\n",
      "\"font family 'rob' not found, will use 'sans' instead\"\n",
      "Warning message in grid.Call.graphics(C_text, as.graphicsAnnot(x$label), x$x, x$y, :\n",
      "\"font family 'rob' not found, will use 'sans' instead\"\n",
      "Warning message in grid.Call.graphics(C_text, as.graphicsAnnot(x$label), x$x, x$y, :\n",
      "\"font family 'rob' not found, will use 'sans' instead\"\n",
      "Warning message in grid.Call.graphics(C_text, as.graphicsAnnot(x$label), x$x, x$y, :\n",
      "\"font family 'rob' not found, will use 'sans' instead\"\n",
      "Warning message in grid.Call.graphics(C_text, as.graphicsAnnot(x$label), x$x, x$y, :\n",
      "\"font family 'rob' not found, will use 'sans' instead\"\n",
      "Warning message in grid.Call.graphics(C_text, as.graphicsAnnot(x$label), x$x, x$y, :\n",
      "\"font family 'rob' not found, will use 'sans' instead\"\n",
      "Warning message in grid.Call.graphics(C_text, as.graphicsAnnot(x$label), x$x, x$y, :\n",
      "\"font family 'rob' not found, will use 'sans' instead\"\n",
      "Warning message in grid.Call.graphics(C_text, as.graphicsAnnot(x$label), x$x, x$y, :\n",
      "\"font family 'rob' not found, will use 'sans' instead\"\n",
      "Warning message in grid.Call.graphics(C_text, as.graphicsAnnot(x$label), x$x, x$y, :\n",
      "\"font family 'rob' not found, will use 'sans' instead\"\n",
      "Warning message in grid.Call.graphics(C_text, as.graphicsAnnot(x$label), x$x, x$y, :\n",
      "\"font family 'rob' not found, will use 'sans' instead\"\n",
      "Warning message in grid.Call.graphics(C_text, as.graphicsAnnot(x$label), x$x, x$y, :\n",
      "\"font family 'rob' not found, will use 'sans' instead\"\n",
      "Warning message in grid.Call.graphics(C_text, as.graphicsAnnot(x$label), x$x, x$y, :\n",
      "\"font family 'rob' not found, will use 'sans' instead\"\n",
      "Warning message in grid.Call.graphics(C_text, as.graphicsAnnot(x$label), x$x, x$y, :\n",
      "\"font family 'rob' not found, will use 'sans' instead\"\n",
      "Warning message in grid.Call.graphics(C_text, as.graphicsAnnot(x$label), x$x, x$y, :\n",
      "\"font family 'rob' not found, will use 'sans' instead\"\n",
      "Warning message in grid.Call.graphics(C_text, as.graphicsAnnot(x$label), x$x, x$y, :\n",
      "\"font family 'rob' not found, will use 'sans' instead\"\n",
      "Warning message in grid.Call.graphics(C_text, as.graphicsAnnot(x$label), x$x, x$y, :\n",
      "\"font family 'rob' not found, will use 'sans' instead\"\n",
      "Warning message in grid.Call.graphics(C_text, as.graphicsAnnot(x$label), x$x, x$y, :\n",
      "\"font family 'rob' not found, will use 'sans' instead\"\n",
      "Warning message in grid.Call.graphics(C_text, as.graphicsAnnot(x$label), x$x, x$y, :\n",
      "\"font family 'rob' not found, will use 'sans' instead\"\n",
      "Warning message in grid.Call.graphics(C_text, as.graphicsAnnot(x$label), x$x, x$y, :\n",
      "\"font family 'rob' not found, will use 'sans' instead\"\n",
      "Warning message in grid.Call.graphics(C_text, as.graphicsAnnot(x$label), x$x, x$y, :\n",
      "\"font family 'rob' not found, will use 'sans' instead\"\n",
      "Warning message in grid.Call.graphics(C_text, as.graphicsAnnot(x$label), x$x, x$y, :\n",
      "\"font family 'rob' not found, will use 'sans' instead\"\n",
      "Warning message in grid.Call.graphics(C_text, as.graphicsAnnot(x$label), x$x, x$y, :\n",
      "\"font family 'rob' not found, will use 'sans' instead\"\n",
      "Warning message in grid.Call.graphics(C_text, as.graphicsAnnot(x$label), x$x, x$y, :\n",
      "\"font family 'rob' not found, will use 'sans' instead\"\n",
      "Warning message in grid.Call.graphics(C_text, as.graphicsAnnot(x$label), x$x, x$y, :\n",
      "\"font family 'rob' not found, will use 'sans' instead\"\n",
      "Warning message in grid.Call.graphics(C_text, as.graphicsAnnot(x$label), x$x, x$y, :\n",
      "\"font family 'rob' not found, will use 'sans' instead\"\n",
      "Warning message in grid.Call.graphics(C_text, as.graphicsAnnot(x$label), x$x, x$y, :\n",
      "\"font family 'rob' not found, will use 'sans' instead\"\n",
      "Warning message in grid.Call.graphics(C_text, as.graphicsAnnot(x$label), x$x, x$y, :\n",
      "\"font family 'rob' not found, will use 'sans' instead\"\n",
      "Warning message in grid.Call.graphics(C_text, as.graphicsAnnot(x$label), x$x, x$y, :\n",
      "\"font family 'rob' not found, will use 'sans' instead\"\n",
      "Warning message in grid.Call.graphics(C_text, as.graphicsAnnot(x$label), x$x, x$y, :\n",
      "\"font family 'rob' not found, will use 'sans' instead\"\n",
      "Warning message in grid.Call.graphics(C_text, as.graphicsAnnot(x$label), x$x, x$y, :\n",
      "\"font family 'rob' not found, will use 'sans' instead\"\n",
      "Warning message in grid.Call.graphics(C_text, as.graphicsAnnot(x$label), x$x, x$y, :\n",
      "\"font family 'rob' not found, will use 'sans' instead\"\n",
      "Warning message in grid.Call.graphics(C_text, as.graphicsAnnot(x$label), x$x, x$y, :\n",
      "\"font family 'rob' not found, will use 'sans' instead\"\n",
      "Warning message in grid.Call.graphics(C_text, as.graphicsAnnot(x$label), x$x, x$y, :\n",
      "\"font family 'rob' not found, will use 'sans' instead\"\n",
      "Warning message in grid.Call.graphics(C_text, as.graphicsAnnot(x$label), x$x, x$y, :\n",
      "\"font family 'rob' not found, will use 'sans' instead\"\n",
      "Warning message in grid.Call.graphics(C_text, as.graphicsAnnot(x$label), x$x, x$y, :\n",
      "\"font family 'rob' not found, will use 'sans' instead\"\n",
      "Warning message in grid.Call.graphics(C_text, as.graphicsAnnot(x$label), x$x, x$y, :\n",
      "\"font family 'rob' not found, will use 'sans' instead\"\n",
      "Warning message in grid.Call.graphics(C_text, as.graphicsAnnot(x$label), x$x, x$y, :\n",
      "\"font family 'rob' not found, will use 'sans' instead\"\n",
      "Warning message in grid.Call.graphics(C_text, as.graphicsAnnot(x$label), x$x, x$y, :\n",
      "\"font family 'rob' not found, will use 'sans' instead\"\n",
      "Warning message in grid.Call.graphics(C_text, as.graphicsAnnot(x$label), x$x, x$y, :\n",
      "\"font family 'rob' not found, will use 'sans' instead\"\n",
      "Warning message in grid.Call.graphics(C_text, as.graphicsAnnot(x$label), x$x, x$y, :\n",
      "\"font family 'rob' not found, will use 'sans' instead\"\n",
      "Warning message in grid.Call.graphics(C_text, as.graphicsAnnot(x$label), x$x, x$y, :\n",
      "\"font family 'rob' not found, will use 'sans' instead\"\n",
      "Warning message in grid.Call.graphics(C_text, as.graphicsAnnot(x$label), x$x, x$y, :\n",
      "\"font family 'rob' not found, will use 'sans' instead\"\n",
      "Warning message in grid.Call.graphics(C_text, as.graphicsAnnot(x$label), x$x, x$y, :\n",
      "\"font family 'rob' not found, will use 'sans' instead\"\n",
      "Warning message in grid.Call.graphics(C_text, as.graphicsAnnot(x$label), x$x, x$y, :\n",
      "\"font family 'rob' not found, will use 'sans' instead\"\n",
      "Warning message in grid.Call(C_stringMetric, as.graphicsAnnot(x$label)):\n",
      "\"font family 'rob' not found, will use 'sans' instead\"\n",
      "Warning message in grid.Call(C_stringMetric, as.graphicsAnnot(x$label)):\n",
      "\"font family 'rob' not found, will use 'sans' instead\"\n",
      "Warning message in grid.Call(C_stringMetric, as.graphicsAnnot(x$label)):\n",
      "\"font family 'rob' not found, will use 'sans' instead\"\n",
      "Warning message in grid.Call(C_stringMetric, as.graphicsAnnot(x$label)):\n",
      "\"font family 'rob' not found, will use 'sans' instead\"\n",
      "Warning message in grid.Call(C_stringMetric, as.graphicsAnnot(x$label)):\n",
      "\"font family 'rob' not found, will use 'sans' instead\"\n",
      "Warning message in grid.Call(C_stringMetric, as.graphicsAnnot(x$label)):\n",
      "\"font family 'rob' not found, will use 'sans' instead\"\n",
      "Warning message in grid.Call(C_stringMetric, as.graphicsAnnot(x$label)):\n",
      "\"font family 'rob' not found, will use 'sans' instead\"\n",
      "Warning message in grid.Call(C_stringMetric, as.graphicsAnnot(x$label)):\n",
      "\"font family 'rob' not found, will use 'sans' instead\"\n",
      "Warning message in grid.Call(C_stringMetric, as.graphicsAnnot(x$label)):\n",
      "\"font family 'rob' not found, will use 'sans' instead\"\n",
      "Warning message in grid.Call(C_stringMetric, as.graphicsAnnot(x$label)):\n",
      "\"font family 'rob' not found, will use 'sans' instead\"\n",
      "Warning message in grid.Call(C_stringMetric, as.graphicsAnnot(x$label)):\n",
      "\"font family 'rob' not found, will use 'sans' instead\"\n",
      "Warning message in grid.Call(C_stringMetric, as.graphicsAnnot(x$label)):\n",
      "\"font family 'rob' not found, will use 'sans' instead\"\n",
      "Warning message in grid.Call(C_stringMetric, as.graphicsAnnot(x$label)):\n",
      "\"font family 'rob' not found, will use 'sans' instead\"\n",
      "Warning message in grid.Call(C_stringMetric, as.graphicsAnnot(x$label)):\n",
      "\"font family 'rob' not found, will use 'sans' instead\"\n",
      "Warning message in grid.Call(C_textBounds, as.graphicsAnnot(x$label), x$x, x$y, :\n",
      "\"font family 'rob' not found, will use 'sans' instead\"\n",
      "Warning message in grid.Call(C_textBounds, as.graphicsAnnot(x$label), x$x, x$y, :\n",
      "\"font family 'rob' not found, will use 'sans' instead\"\n",
      "Warning message in grid.Call(C_textBounds, as.graphicsAnnot(x$label), x$x, x$y, :\n",
      "\"font family 'rob' not found, will use 'sans' instead\"\n",
      "Warning message in grid.Call(C_textBounds, as.graphicsAnnot(x$label), x$x, x$y, :\n",
      "\"font family 'rob' not found, will use 'sans' instead\"\n",
      "Warning message in grid.Call(C_textBounds, as.graphicsAnnot(x$label), x$x, x$y, :\n",
      "\"font family 'rob' not found, will use 'sans' instead\"\n",
      "Warning message in grid.Call(C_textBounds, as.graphicsAnnot(x$label), x$x, x$y, :\n",
      "\"font family 'rob' not found, will use 'sans' instead\"\n",
      "Warning message in grid.Call(C_stringMetric, as.graphicsAnnot(x$label)):\n",
      "\"font family 'rob' not found, will use 'sans' instead\"\n",
      "Warning message in grid.Call(C_stringMetric, as.graphicsAnnot(x$label)):\n",
      "\"font family 'rob' not found, will use 'sans' instead\"\n",
      "Warning message in grid.Call(C_stringMetric, as.graphicsAnnot(x$label)):\n",
      "\"font family 'rob' not found, will use 'sans' instead\"\n",
      "Warning message in grid.Call(C_stringMetric, as.graphicsAnnot(x$label)):\n",
      "\"font family 'rob' not found, will use 'sans' instead\"\n",
      "Warning message in grid.Call(C_stringMetric, as.graphicsAnnot(x$label)):\n",
      "\"font family 'rob' not found, will use 'sans' instead\"\n",
      "Warning message in grid.Call(C_stringMetric, as.graphicsAnnot(x$label)):\n",
      "\"font family 'rob' not found, will use 'sans' instead\"\n",
      "Warning message in grid.Call(C_stringMetric, as.graphicsAnnot(x$label)):\n",
      "\"font family 'rob' not found, will use 'sans' instead\"\n",
      "Warning message in grid.Call(C_stringMetric, as.graphicsAnnot(x$label)):\n",
      "\"font family 'rob' not found, will use 'sans' instead\"\n",
      "Warning message in grid.Call(C_stringMetric, as.graphicsAnnot(x$label)):\n",
      "\"font family 'rob' not found, will use 'sans' instead\"\n",
      "Warning message in grid.Call(C_stringMetric, as.graphicsAnnot(x$label)):\n",
      "\"font family 'rob' not found, will use 'sans' instead\"\n",
      "Warning message in grid.Call(C_stringMetric, as.graphicsAnnot(x$label)):\n",
      "\"font family 'rob' not found, will use 'sans' instead\"\n",
      "Warning message in grid.Call(C_stringMetric, as.graphicsAnnot(x$label)):\n",
      "\"font family 'rob' not found, will use 'sans' instead\"\n",
      "Warning message in grid.Call(C_stringMetric, as.graphicsAnnot(x$label)):\n",
      "\"font family 'rob' not found, will use 'sans' instead\"\n",
      "Warning message in grid.Call(C_stringMetric, as.graphicsAnnot(x$label)):\n",
      "\"font family 'rob' not found, will use 'sans' instead\"\n",
      "Warning message in grid.Call(C_textBounds, as.graphicsAnnot(x$label), x$x, x$y, :\n",
      "\"font family 'rob' not found, will use 'sans' instead\"\n",
      "Warning message in grid.Call(C_textBounds, as.graphicsAnnot(x$label), x$x, x$y, :\n",
      "\"font family 'rob' not found, will use 'sans' instead\"\n",
      "Warning message in grid.Call(C_textBounds, as.graphicsAnnot(x$label), x$x, x$y, :\n",
      "\"font family 'rob' not found, will use 'sans' instead\"\n",
      "Warning message in grid.Call(C_stringMetric, as.graphicsAnnot(x$label)):\n",
      "\"font family 'rob' not found, will use 'sans' instead\"\n",
      "Warning message in grid.Call(C_stringMetric, as.graphicsAnnot(x$label)):\n",
      "\"font family 'rob' not found, will use 'sans' instead\"\n",
      "Warning message in grid.Call(C_stringMetric, as.graphicsAnnot(x$label)):\n",
      "\"font family 'rob' not found, will use 'sans' instead\"\n",
      "Warning message in grid.Call(C_stringMetric, as.graphicsAnnot(x$label)):\n",
      "\"font family 'rob' not found, will use 'sans' instead\"\n",
      "Warning message in grid.Call(C_stringMetric, as.graphicsAnnot(x$label)):\n",
      "\"font family 'rob' not found, will use 'sans' instead\"\n",
      "Warning message in grid.Call(C_stringMetric, as.graphicsAnnot(x$label)):\n",
      "\"font family 'rob' not found, will use 'sans' instead\"\n",
      "Warning message in grid.Call(C_stringMetric, as.graphicsAnnot(x$label)):\n",
      "\"font family 'rob' not found, will use 'sans' instead\"\n",
      "Warning message in grid.Call(C_stringMetric, as.graphicsAnnot(x$label)):\n",
      "\"font family 'rob' not found, will use 'sans' instead\"\n",
      "Warning message in grid.Call(C_stringMetric, as.graphicsAnnot(x$label)):\n",
      "\"font family 'rob' not found, will use 'sans' instead\"\n",
      "Warning message in grid.Call(C_stringMetric, as.graphicsAnnot(x$label)):\n",
      "\"font family 'rob' not found, will use 'sans' instead\"\n",
      "Warning message in grid.Call(C_stringMetric, as.graphicsAnnot(x$label)):\n",
      "\"font family 'rob' not found, will use 'sans' instead\"\n",
      "Warning message in grid.Call(C_stringMetric, as.graphicsAnnot(x$label)):\n",
      "\"font family 'rob' not found, will use 'sans' instead\"\n",
      "Warning message in grid.Call(C_stringMetric, as.graphicsAnnot(x$label)):\n",
      "\"font family 'rob' not found, will use 'sans' instead\"\n",
      "Warning message in grid.Call(C_stringMetric, as.graphicsAnnot(x$label)):\n",
      "\"font family 'rob' not found, will use 'sans' instead\"\n",
      "Warning message in grid.Call(C_stringMetric, as.graphicsAnnot(x$label)):\n",
      "\"font family 'rob' not found, will use 'sans' instead\"\n",
      "Warning message in grid.Call(C_stringMetric, as.graphicsAnnot(x$label)):\n",
      "\"font family 'rob' not found, will use 'sans' instead\"\n",
      "Warning message in grid.Call(C_stringMetric, as.graphicsAnnot(x$label)):\n",
      "\"font family 'rob' not found, will use 'sans' instead\"\n",
      "Warning message in grid.Call(C_stringMetric, as.graphicsAnnot(x$label)):\n",
      "\"font family 'rob' not found, will use 'sans' instead\"\n",
      "Warning message in grid.Call(C_stringMetric, as.graphicsAnnot(x$label)):\n",
      "\"font family 'rob' not found, will use 'sans' instead\"\n",
      "Warning message in grid.Call(C_stringMetric, as.graphicsAnnot(x$label)):\n",
      "\"font family 'rob' not found, will use 'sans' instead\"\n",
      "Warning message in grid.Call(C_stringMetric, as.graphicsAnnot(x$label)):\n",
      "\"font family 'rob' not found, will use 'sans' instead\"\n",
      "Warning message in grid.Call(C_stringMetric, as.graphicsAnnot(x$label)):\n",
      "\"font family 'rob' not found, will use 'sans' instead\"\n",
      "Warning message in grid.Call(C_stringMetric, as.graphicsAnnot(x$label)):\n",
      "\"font family 'rob' not found, will use 'sans' instead\"\n",
      "Warning message in grid.Call(C_stringMetric, as.graphicsAnnot(x$label)):\n",
      "\"font family 'rob' not found, will use 'sans' instead\"\n",
      "Warning message in grid.Call(C_stringMetric, as.graphicsAnnot(x$label)):\n",
      "\"font family 'rob' not found, will use 'sans' instead\"\n",
      "Warning message in grid.Call(C_stringMetric, as.graphicsAnnot(x$label)):\n",
      "\"font family 'rob' not found, will use 'sans' instead\"\n",
      "Warning message in grid.Call(C_stringMetric, as.graphicsAnnot(x$label)):\n",
      "\"font family 'rob' not found, will use 'sans' instead\"\n",
      "Warning message in grid.Call(C_stringMetric, as.graphicsAnnot(x$label)):\n",
      "\"font family 'rob' not found, will use 'sans' instead\"\n",
      "Warning message in grid.Call(C_textBounds, as.graphicsAnnot(x$label), x$x, x$y, :\n",
      "\"font family 'rob' not found, will use 'sans' instead\"\n",
      "Warning message in grid.Call(C_textBounds, as.graphicsAnnot(x$label), x$x, x$y, :\n",
      "\"font family 'rob' not found, will use 'sans' instead\"\n",
      "Warning message in grid.Call(C_textBounds, as.graphicsAnnot(x$label), x$x, x$y, :\n",
      "\"font family 'rob' not found, will use 'sans' instead\"\n",
      "Warning message in grid.Call(C_textBounds, as.graphicsAnnot(x$label), x$x, x$y, :\n",
      "\"font family 'rob' not found, will use 'sans' instead\"\n",
      "Warning message in grid.Call(C_textBounds, as.graphicsAnnot(x$label), x$x, x$y, :\n",
      "\"font family 'rob' not found, will use 'sans' instead\"\n",
      "Warning message in grid.Call(C_textBounds, as.graphicsAnnot(x$label), x$x, x$y, :\n",
      "\"font family 'rob' not found, will use 'sans' instead\"\n",
      "Warning message in grid.Call(C_textBounds, as.graphicsAnnot(x$label), x$x, x$y, :\n",
      "\"font family 'rob' not found, will use 'sans' instead\"\n",
      "Warning message in grid.Call(C_textBounds, as.graphicsAnnot(x$label), x$x, x$y, :\n",
      "\"font family 'rob' not found, will use 'sans' instead\"\n",
      "Warning message in grid.Call.graphics(C_text, as.graphicsAnnot(x$label), x$x, x$y, :\n",
      "\"font family 'rob' not found, will use 'sans' instead\"\n",
      "Warning message in grid.Call.graphics(C_text, as.graphicsAnnot(x$label), x$x, x$y, :\n",
      "\"font family 'rob' not found, will use 'sans' instead\"\n",
      "Warning message in grid.Call.graphics(C_text, as.graphicsAnnot(x$label), x$x, x$y, :\n",
      "\"font family 'rob' not found, will use 'sans' instead\"\n",
      "Warning message in grid.Call.graphics(C_text, as.graphicsAnnot(x$label), x$x, x$y, :\n",
      "\"font family 'rob' not found, will use 'sans' instead\"\n",
      "Warning message in grid.Call.graphics(C_text, as.graphicsAnnot(x$label), x$x, x$y, :\n",
      "\"font family 'rob' not found, will use 'sans' instead\"\n",
      "Warning message in grid.Call.graphics(C_text, as.graphicsAnnot(x$label), x$x, x$y, :\n",
      "\"font family 'rob' not found, will use 'sans' instead\"\n",
      "Warning message in grid.Call.graphics(C_text, as.graphicsAnnot(x$label), x$x, x$y, :\n",
      "\"font family 'rob' not found, will use 'sans' instead\"\n",
      "Warning message in grid.Call.graphics(C_text, as.graphicsAnnot(x$label), x$x, x$y, :\n",
      "\"font family 'rob' not found, will use 'sans' instead\"\n",
      "Warning message in grid.Call.graphics(C_text, as.graphicsAnnot(x$label), x$x, x$y, :\n",
      "\"font family 'rob' not found, will use 'sans' instead\"\n",
      "Warning message in grid.Call.graphics(C_text, as.graphicsAnnot(x$label), x$x, x$y, :\n",
      "\"font family 'rob' not found, will use 'sans' instead\"\n",
      "Warning message in grid.Call.graphics(C_text, as.graphicsAnnot(x$label), x$x, x$y, :\n",
      "\"font family 'rob' not found, will use 'sans' instead\"\n",
      "Warning message in grid.Call.graphics(C_text, as.graphicsAnnot(x$label), x$x, x$y, :\n",
      "\"font family 'rob' not found, will use 'sans' instead\"\n",
      "Warning message in grid.Call.graphics(C_text, as.graphicsAnnot(x$label), x$x, x$y, :\n",
      "\"font family 'rob' not found, will use 'sans' instead\"\n",
      "Warning message in grid.Call.graphics(C_text, as.graphicsAnnot(x$label), x$x, x$y, :\n",
      "\"font family 'rob' not found, will use 'sans' instead\"\n",
      "Warning message in grid.Call.graphics(C_text, as.graphicsAnnot(x$label), x$x, x$y, :\n",
      "\"font family 'rob' not found, will use 'sans' instead\"\n",
      "Warning message in grid.Call.graphics(C_text, as.graphicsAnnot(x$label), x$x, x$y, :\n",
      "\"font family 'rob' not found, will use 'sans' instead\"\n",
      "Warning message in grid.Call.graphics(C_text, as.graphicsAnnot(x$label), x$x, x$y, :\n",
      "\"font family 'rob' not found, will use 'sans' instead\"\n",
      "Warning message in grid.Call.graphics(C_text, as.graphicsAnnot(x$label), x$x, x$y, :\n",
      "\"font family 'rob' not found, will use 'sans' instead\"\n",
      "Warning message in grid.Call.graphics(C_text, as.graphicsAnnot(x$label), x$x, x$y, :\n",
      "\"font family 'rob' not found, will use 'sans' instead\"\n",
      "Warning message in grid.Call.graphics(C_text, as.graphicsAnnot(x$label), x$x, x$y, :\n",
      "\"font family 'rob' not found, will use 'sans' instead\"\n",
      "Warning message in grid.Call.graphics(C_text, as.graphicsAnnot(x$label), x$x, x$y, :\n",
      "\"font family 'rob' not found, will use 'sans' instead\"\n",
      "Warning message in grid.Call.graphics(C_text, as.graphicsAnnot(x$label), x$x, x$y, :\n",
      "\"font family 'rob' not found, will use 'sans' instead\"\n",
      "Warning message in grid.Call.graphics(C_text, as.graphicsAnnot(x$label), x$x, x$y, :\n",
      "\"font family 'rob' not found, will use 'sans' instead\"\n",
      "Warning message in grid.Call.graphics(C_text, as.graphicsAnnot(x$label), x$x, x$y, :\n",
      "\"font family 'rob' not found, will use 'sans' instead\"\n",
      "Warning message in grid.Call.graphics(C_text, as.graphicsAnnot(x$label), x$x, x$y, :\n",
      "\"font family 'rob' not found, will use 'sans' instead\"\n",
      "Warning message in grid.Call.graphics(C_text, as.graphicsAnnot(x$label), x$x, x$y, :\n",
      "\"font family 'rob' not found, will use 'sans' instead\"\n",
      "Warning message in grid.Call.graphics(C_text, as.graphicsAnnot(x$label), x$x, x$y, :\n",
      "\"font family 'rob' not found, will use 'sans' instead\"\n",
      "Warning message in grid.Call.graphics(C_text, as.graphicsAnnot(x$label), x$x, x$y, :\n",
      "\"font family 'rob' not found, will use 'sans' instead\"\n",
      "Warning message in grid.Call.graphics(C_text, as.graphicsAnnot(x$label), x$x, x$y, :\n",
      "\"font family 'rob' not found, will use 'sans' instead\"\n",
      "Warning message in grid.Call.graphics(C_text, as.graphicsAnnot(x$label), x$x, x$y, :\n",
      "\"font family 'rob' not found, will use 'sans' instead\"\n"
     ]
    },
    {
     "data": {
      "image/png": "[encoded data removed]",
      "text/plain": [
       "plot without title"
      ]
     },
     "metadata": {
      "image/png": {
       "height": 420,
       "width": 420
      }
     },
     "output_type": "display_data"
    }
   ],
   "source": [
    "tab_graph_confianza%>%\n",
    "ggplot(aes(x=year,y=porcentaje))+geom_line(color=\"#9f2241\",linewidth=1.5)+geom_point()+\n",
    "geom_vline(xintercept = c(2023), linetype = \"dashed\", color = \"red\")+\n",
    "\n",
    "theme_minimal()+\n",
    "labs(title=\"Porcentaje de población de 18 años y más que confía\n",
    "en el Gobierno de la Ciudad de México\n",
    "\",\n",
    "x=\"Año\",y=\"Porcentaje\")+\n",
    "    theme(\n",
    "      plot.title = element_text(hjust = 0, size=20, face=\"bold\"),\n",
    "      plot.subtitle = element_text(hjust = 0, size=15, face=\"italic\"),\n",
    "      plot.caption = element_text(hjust = 0, size=10),\n",
    "      legend.position = \"None\",\n",
    "      legend.text = element_text(size=18),\n",
    "      axis.text.x = element_text(angle = 90, hjust = 1, size=18),\n",
    "      legend.title = element_text(size=18),\n",
    "      text = element_text(family=\"rob\")\n",
    "    )\n",
    "\n",
    " ggsave(\"confianza_gob.png\", width = 10, height = 6, dpi = 100,bg=\"white\")"
   ]
  },
  {
   "cell_type": "markdown",
   "id": "2118d93c3ab0a2ce",
   "metadata": {},
   "source": []
  },
  {
   "cell_type": "code",
   "execution_count": 15,
   "id": "c2e27f0ca278c3f7",
   "metadata": {
    "ExecuteTime": {
     "end_time": "2025-03-19T17:18:29.018986Z",
     "start_time": "2025-03-19T17:18:28.999758Z"
    },
    "vscode": {
     "languageId": "r"
    }
   },
   "outputs": [
    {
     "data": {
      "text/html": [
       "<table class=\"dataframe\">\n",
       "<caption>A tibble: 3 × 6</caption>\n",
       "<thead>\n",
       "\t<tr><th scope=col>actos_corrupcion</th><th scope=col>personas</th><th scope=col>personas_cv</th><th scope=col>porcentaje</th><th scope=col>porcentaje_cv</th><th scope=col>year</th></tr>\n",
       "\t<tr><th scope=col>&lt;chr&gt;</th><th scope=col>&lt;dbl&gt;</th><th scope=col>&lt;dbl&gt;</th><th scope=col>&lt;dbl&gt;</th><th scope=col>&lt;dbl&gt;</th><th scope=col>&lt;chr&gt;</th></tr>\n",
       "</thead>\n",
       "<tbody>\n",
       "\t<tr><td>Frecuentes</td><td>6247296</td><td>0.01193104</td><td>90.02</td><td>0.005535388</td><td>2019</td></tr>\n",
       "\t<tr><td>Frecuentes</td><td>6248752</td><td>0.01368776</td><td>89.81</td><td>0.005471011</td><td>2021</td></tr>\n",
       "\t<tr><td>Frecuentes</td><td>6648218</td><td>0.01374265</td><td>87.76</td><td>0.006548517</td><td>2023</td></tr>\n",
       "</tbody>\n",
       "</table>\n"
      ],
      "text/latex": [
       "A tibble: 3 × 6\n",
       "\\begin{tabular}{llllll}\n",
       " actos\\_corrupcion & personas & personas\\_cv & porcentaje & porcentaje\\_cv & year\\\\\n",
       " <chr> & <dbl> & <dbl> & <dbl> & <dbl> & <chr>\\\\\n",
       "\\hline\n",
       "\t Frecuentes & 6247296 & 0.01193104 & 90.02 & 0.005535388 & 2019\\\\\n",
       "\t Frecuentes & 6248752 & 0.01368776 & 89.81 & 0.005471011 & 2021\\\\\n",
       "\t Frecuentes & 6648218 & 0.01374265 & 87.76 & 0.006548517 & 2023\\\\\n",
       "\\end{tabular}\n"
      ],
      "text/markdown": [
       "\n",
       "A tibble: 3 × 6\n",
       "\n",
       "| actos_corrupcion &lt;chr&gt; | personas &lt;dbl&gt; | personas_cv &lt;dbl&gt; | porcentaje &lt;dbl&gt; | porcentaje_cv &lt;dbl&gt; | year &lt;chr&gt; |\n",
       "|---|---|---|---|---|---|\n",
       "| Frecuentes | 6247296 | 0.01193104 | 90.02 | 0.005535388 | 2019 |\n",
       "| Frecuentes | 6248752 | 0.01368776 | 89.81 | 0.005471011 | 2021 |\n",
       "| Frecuentes | 6648218 | 0.01374265 | 87.76 | 0.006548517 | 2023 |\n",
       "\n"
      ],
      "text/plain": [
       "  actos_corrupcion personas personas_cv porcentaje porcentaje_cv year\n",
       "1 Frecuentes       6247296  0.01193104  90.02      0.005535388   2019\n",
       "2 Frecuentes       6248752  0.01368776  89.81      0.005471011   2021\n",
       "3 Frecuentes       6648218  0.01374265  87.76      0.006548517   2023"
      ]
     },
     "metadata": {},
     "output_type": "display_data"
    }
   ],
   "source": [
    "tabla_actos_corrupcion%>%\n",
    "filter(year>2017)"
   ]
  },
  {
   "cell_type": "code",
   "execution_count": 16,
   "id": "8a423570455fb75",
   "metadata": {
    "ExecuteTime": {
     "end_time": "2025-03-19T17:18:35.831296Z",
     "start_time": "2025-03-19T17:18:35.814632Z"
    },
    "vscode": {
     "languageId": "r"
    }
   },
   "outputs": [
    {
     "name": "stdout",
     "output_type": "stream",
     "text": [
      "tibble [4 × 6] (S3: tbl_df/tbl/data.frame)\n",
      " $ actos_corrupcion: chr [1:4] \"Frecuentes\" \"Frecuentes\" \"Frecuentes\" \"Frecuentes\"\n",
      " $ personas        : num [1:4] 8410975 6247296 6248752 6648218\n",
      " $ personas_cv     : num [1:4] 0.0163 0.0119 0.0137 0.0137\n",
      " $ porcentaje      : num [1:4] 95.9 90 89.8 87.8\n",
      " $ porcentaje_cv   : num [1:4] 0.00377 0.00554 0.00547 0.00655\n",
      " $ year            : chr [1:4] \"2017\" \"2019\" \"2021\" \"2023\"\n"
     ]
    }
   ],
   "source": [
    "str(tabla_actos_corrupcion)"
   ]
  },
  {
   "cell_type": "code",
   "execution_count": 17,
   "id": "a9a831b833fd4eba",
   "metadata": {
    "ExecuteTime": {
     "end_time": "2025-03-19T17:18:37.297003Z",
     "start_time": "2025-03-19T17:18:37.280910Z"
    },
    "vscode": {
     "languageId": "r"
    }
   },
   "outputs": [
    {
     "data": {
      "text/html": [
       "-0.00633635308400804"
      ],
      "text/latex": [
       "-0.00633635308400804"
      ],
      "text/markdown": [
       "-0.00633635308400804"
      ],
      "text/plain": [
       "[1] -0.006336353"
      ]
     },
     "metadata": {},
     "output_type": "display_data"
    }
   ],
   "source": [
    "tcma_actos_corrupcion<-((tabla_actos_corrupcion$porcentaje[tabla_actos_corrupcion$year==2023]/tabla_actos_corrupcion$porcentaje[tabla_actos_corrupcion$year==2019])^(1/(2023-2019))-1)\n",
    "tcma_actos_corrupcion"
   ]
  },
  {
   "cell_type": "code",
   "execution_count": 18,
   "id": "a042a37a13dd0d0b",
   "metadata": {
    "ExecuteTime": {
     "end_time": "2025-03-19T17:18:38.734143Z",
     "start_time": "2025-03-19T17:18:38.713488Z"
    },
    "vscode": {
     "languageId": "r"
    }
   },
   "outputs": [
    {
     "data": {
      "text/html": [
       "-0.00120692439695391"
      ],
      "text/latex": [
       "-0.00120692439695391"
      ],
      "text/markdown": [
       "-0.00120692439695391"
      ],
      "text/plain": [
       "[1] -0.001206924"
      ]
     },
     "metadata": {},
     "output_type": "display_data"
    }
   ],
   "source": [
    "# Número de años en cada periodo\n",
    "años_original <- 2023 - 2019\n",
    "años_nuevo <- 2045 - 2024\n",
    "\n",
    "# Factor de ajuste\n",
    "factor_ajuste_corrup <- (años_nuevo / años_original)\n",
    "tasa_crecimiento_ajustada_c <- tcma_actos_corrupcion/ factor_ajuste_corrup\n",
    "tasa_crecimiento_ajustada_c"
   ]
  },
  {
   "cell_type": "code",
   "execution_count": 19,
   "id": "acb9ff03007318fc",
   "metadata": {
    "ExecuteTime": {
     "end_time": "2025-03-19T17:18:40.181242Z",
     "start_time": "2025-03-19T17:18:40.149233Z"
    },
    "vscode": {
     "languageId": "r"
    }
   },
   "outputs": [
    {
     "data": {
      "text/html": [
       "<table class=\"dataframe\">\n",
       "<caption>A data.frame: 22 × 2</caption>\n",
       "<thead>\n",
       "\t<tr><th scope=col>year</th><th scope=col>porcentaje</th></tr>\n",
       "\t<tr><th scope=col>&lt;int&gt;</th><th scope=col>&lt;dbl&gt;</th></tr>\n",
       "</thead>\n",
       "<tbody>\n",
       "\t<tr><td>2024</td><td>87.20</td></tr>\n",
       "\t<tr><td>2025</td><td>86.65</td></tr>\n",
       "\t<tr><td>2026</td><td>86.10</td></tr>\n",
       "\t<tr><td>2027</td><td>85.56</td></tr>\n",
       "\t<tr><td>2028</td><td>85.01</td></tr>\n",
       "\t<tr><td>2029</td><td>84.48</td></tr>\n",
       "\t<tr><td>2030</td><td>83.94</td></tr>\n",
       "\t<tr><td>2031</td><td>83.41</td></tr>\n",
       "\t<tr><td>2032</td><td>82.88</td></tr>\n",
       "\t<tr><td>2033</td><td>82.36</td></tr>\n",
       "\t<tr><td>2034</td><td>81.83</td></tr>\n",
       "\t<tr><td>2035</td><td>81.31</td></tr>\n",
       "\t<tr><td>2036</td><td>80.80</td></tr>\n",
       "\t<tr><td>2037</td><td>80.29</td></tr>\n",
       "\t<tr><td>2038</td><td>79.78</td></tr>\n",
       "\t<tr><td>2039</td><td>79.27</td></tr>\n",
       "\t<tr><td>2040</td><td>78.77</td></tr>\n",
       "\t<tr><td>2041</td><td>78.27</td></tr>\n",
       "\t<tr><td>2042</td><td>77.78</td></tr>\n",
       "\t<tr><td>2043</td><td>77.28</td></tr>\n",
       "\t<tr><td>2044</td><td>76.79</td></tr>\n",
       "\t<tr><td>2045</td><td>76.31</td></tr>\n",
       "</tbody>\n",
       "</table>\n"
      ],
      "text/latex": [
       "A data.frame: 22 × 2\n",
       "\\begin{tabular}{ll}\n",
       " year & porcentaje\\\\\n",
       " <int> & <dbl>\\\\\n",
       "\\hline\n",
       "\t 2024 & 87.20\\\\\n",
       "\t 2025 & 86.65\\\\\n",
       "\t 2026 & 86.10\\\\\n",
       "\t 2027 & 85.56\\\\\n",
       "\t 2028 & 85.01\\\\\n",
       "\t 2029 & 84.48\\\\\n",
       "\t 2030 & 83.94\\\\\n",
       "\t 2031 & 83.41\\\\\n",
       "\t 2032 & 82.88\\\\\n",
       "\t 2033 & 82.36\\\\\n",
       "\t 2034 & 81.83\\\\\n",
       "\t 2035 & 81.31\\\\\n",
       "\t 2036 & 80.80\\\\\n",
       "\t 2037 & 80.29\\\\\n",
       "\t 2038 & 79.78\\\\\n",
       "\t 2039 & 79.27\\\\\n",
       "\t 2040 & 78.77\\\\\n",
       "\t 2041 & 78.27\\\\\n",
       "\t 2042 & 77.78\\\\\n",
       "\t 2043 & 77.28\\\\\n",
       "\t 2044 & 76.79\\\\\n",
       "\t 2045 & 76.31\\\\\n",
       "\\end{tabular}\n"
      ],
      "text/markdown": [
       "\n",
       "A data.frame: 22 × 2\n",
       "\n",
       "| year &lt;int&gt; | porcentaje &lt;dbl&gt; |\n",
       "|---|---|\n",
       "| 2024 | 87.20 |\n",
       "| 2025 | 86.65 |\n",
       "| 2026 | 86.10 |\n",
       "| 2027 | 85.56 |\n",
       "| 2028 | 85.01 |\n",
       "| 2029 | 84.48 |\n",
       "| 2030 | 83.94 |\n",
       "| 2031 | 83.41 |\n",
       "| 2032 | 82.88 |\n",
       "| 2033 | 82.36 |\n",
       "| 2034 | 81.83 |\n",
       "| 2035 | 81.31 |\n",
       "| 2036 | 80.80 |\n",
       "| 2037 | 80.29 |\n",
       "| 2038 | 79.78 |\n",
       "| 2039 | 79.27 |\n",
       "| 2040 | 78.77 |\n",
       "| 2041 | 78.27 |\n",
       "| 2042 | 77.78 |\n",
       "| 2043 | 77.28 |\n",
       "| 2044 | 76.79 |\n",
       "| 2045 | 76.31 |\n",
       "\n"
      ],
      "text/plain": [
       "   year porcentaje\n",
       "1  2024 87.20     \n",
       "2  2025 86.65     \n",
       "3  2026 86.10     \n",
       "4  2027 85.56     \n",
       "5  2028 85.01     \n",
       "6  2029 84.48     \n",
       "7  2030 83.94     \n",
       "8  2031 83.41     \n",
       "9  2032 82.88     \n",
       "10 2033 82.36     \n",
       "11 2034 81.83     \n",
       "12 2035 81.31     \n",
       "13 2036 80.80     \n",
       "14 2037 80.29     \n",
       "15 2038 79.78     \n",
       "16 2039 79.27     \n",
       "17 2040 78.77     \n",
       "18 2041 78.27     \n",
       "19 2042 77.78     \n",
       "20 2043 77.28     \n",
       "21 2044 76.79     \n",
       "22 2045 76.31     "
      ]
     },
     "metadata": {},
     "output_type": "display_data"
    }
   ],
   "source": [
    "extendido_corrupcion<-data.frame(year=2024:2045)\n",
    "\n",
    "extendido_corrupcion$porcentaje<-tabla_actos_corrupcion$porcentaje[tabla_actos_corrupcion$year==2023]*cumprod(rep(1+tcma_actos_corrupcion,length(2024:2045)))\n",
    "extendido_corrupcion%>%\n",
    "mutate(porcentaje=round(porcentaje,2),\n",
    "         year=as.integer(year))\n"
   ]
  },
  {
   "cell_type": "code",
   "execution_count": 20,
   "id": "4289d4073a96e7cb",
   "metadata": {
    "ExecuteTime": {
     "end_time": "2025-03-19T17:18:42.515944Z",
     "start_time": "2025-03-19T17:18:42.501296Z"
    },
    "vscode": {
     "languageId": "r"
    }
   },
   "outputs": [],
   "source": [
    "tab_graph_corrup<-tabla_actos_corrupcion%>%\n",
    "mutate(year=as.integer(year))%>%\n",
    "select(year,porcentaje)%>%\n",
    "#Pegar con la tabla extendida\n",
    "bind_rows(extendido_corrupcion)\n",
    "#tab_graph_corrup"
   ]
  },
  {
   "cell_type": "code",
   "execution_count": 21,
   "id": "a1aaec08ff198f00",
   "metadata": {
    "ExecuteTime": {
     "end_time": "2025-03-19T17:18:58.761238Z",
     "start_time": "2025-03-19T17:18:58.557729Z"
    },
    "vscode": {
     "languageId": "r"
    }
   },
   "outputs": [
    {
     "name": "stderr",
     "output_type": "stream",
     "text": [
      "Warning message in grid.Call(C_textBounds, as.graphicsAnnot(x$label), x$x, x$y, :\n",
      "\"font family 'rob' not found, will use 'sans' instead\"\n",
      "Warning message in grid.Call(C_textBounds, as.graphicsAnnot(x$label), x$x, x$y, :\n",
      "\"font family 'rob' not found, will use 'sans' instead\"\n",
      "Warning message in grid.Call(C_textBounds, as.graphicsAnnot(x$label), x$x, x$y, :\n",
      "\"font family 'rob' not found, will use 'sans' instead\"\n",
      "Warning message in grid.Call(C_textBounds, as.graphicsAnnot(x$label), x$x, x$y, :\n",
      "\"font family 'rob' not found, will use 'sans' instead\"\n",
      "Warning message in grid.Call(C_textBounds, as.graphicsAnnot(x$label), x$x, x$y, :\n",
      "\"font family 'rob' not found, will use 'sans' instead\"\n",
      "Warning message in grid.Call(C_textBounds, as.graphicsAnnot(x$label), x$x, x$y, :\n",
      "\"font family 'rob' not found, will use 'sans' instead\"\n",
      "Warning message in grid.Call(C_textBounds, as.graphicsAnnot(x$label), x$x, x$y, :\n",
      "\"font family 'rob' not found, will use 'sans' instead\"\n",
      "Warning message in grid.Call(C_textBounds, as.graphicsAnnot(x$label), x$x, x$y, :\n",
      "\"font family 'rob' not found, will use 'sans' instead\"\n",
      "Warning message in grid.Call(C_textBounds, as.graphicsAnnot(x$label), x$x, x$y, :\n",
      "\"font family 'rob' not found, will use 'sans' instead\"\n",
      "Warning message in grid.Call(C_textBounds, as.graphicsAnnot(x$label), x$x, x$y, :\n",
      "\"font family 'rob' not found, will use 'sans' instead\"\n",
      "Warning message in grid.Call(C_textBounds, as.graphicsAnnot(x$label), x$x, x$y, :\n",
      "\"font family 'rob' not found, will use 'sans' instead\"\n",
      "Warning message in grid.Call(C_textBounds, as.graphicsAnnot(x$label), x$x, x$y, :\n",
      "\"font family 'rob' not found, will use 'sans' instead\"\n",
      "Warning message in grid.Call(C_textBounds, as.graphicsAnnot(x$label), x$x, x$y, :\n",
      "\"font family 'rob' not found, will use 'sans' instead\"\n",
      "Warning message in grid.Call(C_textBounds, as.graphicsAnnot(x$label), x$x, x$y, :\n",
      "\"font family 'rob' not found, will use 'sans' instead\"\n",
      "Warning message in grid.Call(C_textBounds, as.graphicsAnnot(x$label), x$x, x$y, :\n",
      "\"font family 'rob' not found, will use 'sans' instead\"\n",
      "Warning message in grid.Call(C_textBounds, as.graphicsAnnot(x$label), x$x, x$y, :\n",
      "\"font family 'rob' not found, will use 'sans' instead\"\n",
      "Warning message in grid.Call(C_textBounds, as.graphicsAnnot(x$label), x$x, x$y, :\n",
      "\"font family 'rob' not found, will use 'sans' instead\"\n",
      "Warning message in grid.Call(C_textBounds, as.graphicsAnnot(x$label), x$x, x$y, :\n",
      "\"font family 'rob' not found, will use 'sans' instead\"\n",
      "Warning message in grid.Call(C_textBounds, as.graphicsAnnot(x$label), x$x, x$y, :\n",
      "\"font family 'rob' not found, will use 'sans' instead\"\n",
      "Warning message in grid.Call(C_textBounds, as.graphicsAnnot(x$label), x$x, x$y, :\n",
      "\"font family 'rob' not found, will use 'sans' instead\"\n",
      "Warning message in grid.Call.graphics(C_text, as.graphicsAnnot(x$label), x$x, x$y, :\n",
      "\"font family 'rob' not found, will use 'sans' instead\"\n",
      "Warning message in grid.Call.graphics(C_text, as.graphicsAnnot(x$label), x$x, x$y, :\n",
      "\"font family 'rob' not found, will use 'sans' instead\"\n",
      "Warning message in grid.Call.graphics(C_text, as.graphicsAnnot(x$label), x$x, x$y, :\n",
      "\"font family 'rob' not found, will use 'sans' instead\"\n",
      "Warning message in grid.Call.graphics(C_text, as.graphicsAnnot(x$label), x$x, x$y, :\n",
      "\"font family 'rob' not found, will use 'sans' instead\"\n",
      "Warning message in grid.Call.graphics(C_text, as.graphicsAnnot(x$label), x$x, x$y, :\n",
      "\"font family 'rob' not found, will use 'sans' instead\"\n",
      "Warning message in grid.Call.graphics(C_text, as.graphicsAnnot(x$label), x$x, x$y, :\n",
      "\"font family 'rob' not found, will use 'sans' instead\"\n",
      "Warning message in grid.Call.graphics(C_text, as.graphicsAnnot(x$label), x$x, x$y, :\n",
      "\"font family 'rob' not found, will use 'sans' instead\"\n",
      "Warning message in grid.Call.graphics(C_text, as.graphicsAnnot(x$label), x$x, x$y, :\n",
      "\"font family 'rob' not found, will use 'sans' instead\"\n",
      "Warning message in grid.Call.graphics(C_text, as.graphicsAnnot(x$label), x$x, x$y, :\n",
      "\"font family 'rob' not found, will use 'sans' instead\"\n",
      "Warning message in grid.Call.graphics(C_text, as.graphicsAnnot(x$label), x$x, x$y, :\n",
      "\"font family 'rob' not found, will use 'sans' instead\"\n",
      "Warning message in grid.Call.graphics(C_text, as.graphicsAnnot(x$label), x$x, x$y, :\n",
      "\"font family 'rob' not found, will use 'sans' instead\"\n",
      "Warning message in grid.Call.graphics(C_text, as.graphicsAnnot(x$label), x$x, x$y, :\n",
      "\"font family 'rob' not found, will use 'sans' instead\"\n",
      "Warning message in grid.Call.graphics(C_text, as.graphicsAnnot(x$label), x$x, x$y, :\n",
      "\"font family 'rob' not found, will use 'sans' instead\"\n",
      "Warning message in grid.Call.graphics(C_text, as.graphicsAnnot(x$label), x$x, x$y, :\n",
      "\"font family 'rob' not found, will use 'sans' instead\"\n",
      "Warning message in grid.Call.graphics(C_text, as.graphicsAnnot(x$label), x$x, x$y, :\n",
      "\"font family 'rob' not found, will use 'sans' instead\"\n",
      "Warning message in grid.Call.graphics(C_text, as.graphicsAnnot(x$label), x$x, x$y, :\n",
      "\"font family 'rob' not found, will use 'sans' instead\"\n",
      "Warning message in grid.Call.graphics(C_text, as.graphicsAnnot(x$label), x$x, x$y, :\n",
      "\"font family 'rob' not found, will use 'sans' instead\"\n",
      "Warning message in grid.Call.graphics(C_text, as.graphicsAnnot(x$label), x$x, x$y, :\n",
      "\"font family 'rob' not found, will use 'sans' instead\"\n",
      "Warning message in grid.Call.graphics(C_text, as.graphicsAnnot(x$label), x$x, x$y, :\n",
      "\"font family 'rob' not found, will use 'sans' instead\"\n",
      "Warning message in grid.Call.graphics(C_text, as.graphicsAnnot(x$label), x$x, x$y, :\n",
      "\"font family 'rob' not found, will use 'sans' instead\"\n",
      "Warning message in grid.Call.graphics(C_text, as.graphicsAnnot(x$label), x$x, x$y, :\n",
      "\"font family 'rob' not found, will use 'sans' instead\"\n",
      "Warning message in grid.Call.graphics(C_text, as.graphicsAnnot(x$label), x$x, x$y, :\n",
      "\"font family 'rob' not found, will use 'sans' instead\"\n",
      "Warning message in grid.Call.graphics(C_text, as.graphicsAnnot(x$label), x$x, x$y, :\n",
      "\"font family 'rob' not found, will use 'sans' instead\"\n",
      "Warning message in grid.Call.graphics(C_text, as.graphicsAnnot(x$label), x$x, x$y, :\n",
      "\"font family 'rob' not found, will use 'sans' instead\"\n",
      "Warning message in grid.Call.graphics(C_text, as.graphicsAnnot(x$label), x$x, x$y, :\n",
      "\"font family 'rob' not found, will use 'sans' instead\"\n",
      "Warning message in grid.Call.graphics(C_text, as.graphicsAnnot(x$label), x$x, x$y, :\n",
      "\"font family 'rob' not found, will use 'sans' instead\"\n",
      "Warning message in grid.Call.graphics(C_text, as.graphicsAnnot(x$label), x$x, x$y, :\n",
      "\"font family 'rob' not found, will use 'sans' instead\"\n",
      "Warning message in grid.Call.graphics(C_text, as.graphicsAnnot(x$label), x$x, x$y, :\n",
      "\"font family 'rob' not found, will use 'sans' instead\"\n",
      "Warning message in grid.Call.graphics(C_text, as.graphicsAnnot(x$label), x$x, x$y, :\n",
      "\"font family 'rob' not found, will use 'sans' instead\"\n",
      "Warning message in grid.Call.graphics(C_text, as.graphicsAnnot(x$label), x$x, x$y, :\n",
      "\"font family 'rob' not found, will use 'sans' instead\"\n",
      "Warning message in grid.Call.graphics(C_text, as.graphicsAnnot(x$label), x$x, x$y, :\n",
      "\"font family 'rob' not found, will use 'sans' instead\"\n",
      "Warning message in grid.Call.graphics(C_text, as.graphicsAnnot(x$label), x$x, x$y, :\n",
      "\"font family 'rob' not found, will use 'sans' instead\"\n",
      "Warning message in grid.Call.graphics(C_text, as.graphicsAnnot(x$label), x$x, x$y, :\n",
      "\"font family 'rob' not found, will use 'sans' instead\"\n",
      "Warning message in grid.Call.graphics(C_text, as.graphicsAnnot(x$label), x$x, x$y, :\n",
      "\"font family 'rob' not found, will use 'sans' instead\"\n",
      "Warning message in grid.Call.graphics(C_text, as.graphicsAnnot(x$label), x$x, x$y, :\n",
      "\"font family 'rob' not found, will use 'sans' instead\"\n",
      "Warning message in grid.Call.graphics(C_text, as.graphicsAnnot(x$label), x$x, x$y, :\n",
      "\"font family 'rob' not found, will use 'sans' instead\"\n",
      "Warning message in grid.Call.graphics(C_text, as.graphicsAnnot(x$label), x$x, x$y, :\n",
      "\"font family 'rob' not found, will use 'sans' instead\"\n",
      "Warning message in grid.Call.graphics(C_text, as.graphicsAnnot(x$label), x$x, x$y, :\n",
      "\"font family 'rob' not found, will use 'sans' instead\"\n",
      "Warning message in grid.Call.graphics(C_text, as.graphicsAnnot(x$label), x$x, x$y, :\n",
      "\"font family 'rob' not found, will use 'sans' instead\"\n",
      "Warning message in grid.Call.graphics(C_text, as.graphicsAnnot(x$label), x$x, x$y, :\n",
      "\"font family 'rob' not found, will use 'sans' instead\"\n",
      "Warning message in grid.Call.graphics(C_text, as.graphicsAnnot(x$label), x$x, x$y, :\n",
      "\"font family 'rob' not found, will use 'sans' instead\"\n",
      "Warning message in grid.Call.graphics(C_text, as.graphicsAnnot(x$label), x$x, x$y, :\n",
      "\"font family 'rob' not found, will use 'sans' instead\"\n",
      "Warning message in grid.Call.graphics(C_text, as.graphicsAnnot(x$label), x$x, x$y, :\n",
      "\"font family 'rob' not found, will use 'sans' instead\"\n",
      "Warning message in grid.Call.graphics(C_text, as.graphicsAnnot(x$label), x$x, x$y, :\n",
      "\"font family 'rob' not found, will use 'sans' instead\"\n",
      "Warning message in grid.Call.graphics(C_text, as.graphicsAnnot(x$label), x$x, x$y, :\n",
      "\"font family 'rob' not found, will use 'sans' instead\"\n",
      "Warning message in grid.Call.graphics(C_text, as.graphicsAnnot(x$label), x$x, x$y, :\n",
      "\"font family 'rob' not found, will use 'sans' instead\"\n",
      "Warning message in grid.Call(C_textBounds, as.graphicsAnnot(x$label), x$x, x$y, :\n",
      "\"font family 'rob' not found, will use 'sans' instead\"\n",
      "Warning message in grid.Call(C_textBounds, as.graphicsAnnot(x$label), x$x, x$y, :\n",
      "\"font family 'rob' not found, will use 'sans' instead\"\n",
      "Warning message in grid.Call(C_textBounds, as.graphicsAnnot(x$label), x$x, x$y, :\n",
      "\"font family 'rob' not found, will use 'sans' instead\"\n",
      "Warning message in grid.Call(C_textBounds, as.graphicsAnnot(x$label), x$x, x$y, :\n",
      "\"font family 'rob' not found, will use 'sans' instead\"\n",
      "Warning message in grid.Call(C_textBounds, as.graphicsAnnot(x$label), x$x, x$y, :\n",
      "\"font family 'rob' not found, will use 'sans' instead\"\n",
      "Warning message in grid.Call(C_textBounds, as.graphicsAnnot(x$label), x$x, x$y, :\n",
      "\"font family 'rob' not found, will use 'sans' instead\"\n",
      "Warning message in grid.Call(C_textBounds, as.graphicsAnnot(x$label), x$x, x$y, :\n",
      "\"font family 'rob' not found, will use 'sans' instead\"\n",
      "Warning message in grid.Call(C_textBounds, as.graphicsAnnot(x$label), x$x, x$y, :\n",
      "\"font family 'rob' not found, will use 'sans' instead\"\n",
      "Warning message in grid.Call(C_textBounds, as.graphicsAnnot(x$label), x$x, x$y, :\n",
      "\"font family 'rob' not found, will use 'sans' instead\"\n",
      "Warning message in grid.Call(C_textBounds, as.graphicsAnnot(x$label), x$x, x$y, :\n",
      "\"font family 'rob' not found, will use 'sans' instead\"\n",
      "Warning message in grid.Call(C_textBounds, as.graphicsAnnot(x$label), x$x, x$y, :\n",
      "\"font family 'rob' not found, will use 'sans' instead\"\n",
      "Warning message in grid.Call(C_textBounds, as.graphicsAnnot(x$label), x$x, x$y, :\n",
      "\"font family 'rob' not found, will use 'sans' instead\"\n",
      "Warning message in grid.Call(C_textBounds, as.graphicsAnnot(x$label), x$x, x$y, :\n",
      "\"font family 'rob' not found, will use 'sans' instead\"\n",
      "Warning message in grid.Call(C_textBounds, as.graphicsAnnot(x$label), x$x, x$y, :\n",
      "\"font family 'rob' not found, will use 'sans' instead\"\n",
      "Warning message in grid.Call(C_textBounds, as.graphicsAnnot(x$label), x$x, x$y, :\n",
      "\"font family 'rob' not found, will use 'sans' instead\"\n",
      "Warning message in grid.Call(C_textBounds, as.graphicsAnnot(x$label), x$x, x$y, :\n",
      "\"font family 'rob' not found, will use 'sans' instead\"\n",
      "Warning message in grid.Call(C_textBounds, as.graphicsAnnot(x$label), x$x, x$y, :\n",
      "\"font family 'rob' not found, will use 'sans' instead\"\n",
      "Warning message in grid.Call(C_textBounds, as.graphicsAnnot(x$label), x$x, x$y, :\n",
      "\"font family 'rob' not found, will use 'sans' instead\"\n",
      "Warning message in grid.Call(C_textBounds, as.graphicsAnnot(x$label), x$x, x$y, :\n",
      "\"font family 'rob' not found, will use 'sans' instead\"\n",
      "Warning message in grid.Call(C_textBounds, as.graphicsAnnot(x$label), x$x, x$y, :\n",
      "\"font family 'rob' not found, will use 'sans' instead\"\n",
      "Warning message in grid.Call.graphics(C_text, as.graphicsAnnot(x$label), x$x, x$y, :\n",
      "\"font family 'rob' not found, will use 'sans' instead\"\n",
      "Warning message in grid.Call.graphics(C_text, as.graphicsAnnot(x$label), x$x, x$y, :\n",
      "\"font family 'rob' not found, will use 'sans' instead\"\n",
      "Warning message in grid.Call.graphics(C_text, as.graphicsAnnot(x$label), x$x, x$y, :\n",
      "\"font family 'rob' not found, will use 'sans' instead\"\n",
      "Warning message in grid.Call.graphics(C_text, as.graphicsAnnot(x$label), x$x, x$y, :\n",
      "\"font family 'rob' not found, will use 'sans' instead\"\n",
      "Warning message in grid.Call.graphics(C_text, as.graphicsAnnot(x$label), x$x, x$y, :\n",
      "\"font family 'rob' not found, will use 'sans' instead\"\n",
      "Warning message in grid.Call.graphics(C_text, as.graphicsAnnot(x$label), x$x, x$y, :\n",
      "\"font family 'rob' not found, will use 'sans' instead\"\n",
      "Warning message in grid.Call.graphics(C_text, as.graphicsAnnot(x$label), x$x, x$y, :\n",
      "\"font family 'rob' not found, will use 'sans' instead\"\n",
      "Warning message in grid.Call.graphics(C_text, as.graphicsAnnot(x$label), x$x, x$y, :\n",
      "\"font family 'rob' not found, will use 'sans' instead\"\n",
      "Warning message in grid.Call.graphics(C_text, as.graphicsAnnot(x$label), x$x, x$y, :\n",
      "\"font family 'rob' not found, will use 'sans' instead\"\n",
      "Warning message in grid.Call.graphics(C_text, as.graphicsAnnot(x$label), x$x, x$y, :\n",
      "\"font family 'rob' not found, will use 'sans' instead\"\n",
      "Warning message in grid.Call.graphics(C_text, as.graphicsAnnot(x$label), x$x, x$y, :\n",
      "\"font family 'rob' not found, will use 'sans' instead\"\n",
      "Warning message in grid.Call.graphics(C_text, as.graphicsAnnot(x$label), x$x, x$y, :\n",
      "\"font family 'rob' not found, will use 'sans' instead\"\n",
      "Warning message in grid.Call.graphics(C_text, as.graphicsAnnot(x$label), x$x, x$y, :\n",
      "\"font family 'rob' not found, will use 'sans' instead\"\n",
      "Warning message in grid.Call.graphics(C_text, as.graphicsAnnot(x$label), x$x, x$y, :\n",
      "\"font family 'rob' not found, will use 'sans' instead\"\n",
      "Warning message in grid.Call.graphics(C_text, as.graphicsAnnot(x$label), x$x, x$y, :\n",
      "\"font family 'rob' not found, will use 'sans' instead\"\n",
      "Warning message in grid.Call.graphics(C_text, as.graphicsAnnot(x$label), x$x, x$y, :\n",
      "\"font family 'rob' not found, will use 'sans' instead\"\n",
      "Warning message in grid.Call.graphics(C_text, as.graphicsAnnot(x$label), x$x, x$y, :\n",
      "\"font family 'rob' not found, will use 'sans' instead\"\n",
      "Warning message in grid.Call.graphics(C_text, as.graphicsAnnot(x$label), x$x, x$y, :\n",
      "\"font family 'rob' not found, will use 'sans' instead\"\n",
      "Warning message in grid.Call.graphics(C_text, as.graphicsAnnot(x$label), x$x, x$y, :\n",
      "\"font family 'rob' not found, will use 'sans' instead\"\n",
      "Warning message in grid.Call.graphics(C_text, as.graphicsAnnot(x$label), x$x, x$y, :\n",
      "\"font family 'rob' not found, will use 'sans' instead\"\n",
      "Warning message in grid.Call.graphics(C_text, as.graphicsAnnot(x$label), x$x, x$y, :\n",
      "\"font family 'rob' not found, will use 'sans' instead\"\n",
      "Warning message in grid.Call.graphics(C_text, as.graphicsAnnot(x$label), x$x, x$y, :\n",
      "\"font family 'rob' not found, will use 'sans' instead\"\n",
      "Warning message in grid.Call.graphics(C_text, as.graphicsAnnot(x$label), x$x, x$y, :\n",
      "\"font family 'rob' not found, will use 'sans' instead\"\n",
      "Warning message in grid.Call.graphics(C_text, as.graphicsAnnot(x$label), x$x, x$y, :\n",
      "\"font family 'rob' not found, will use 'sans' instead\"\n",
      "Warning message in grid.Call.graphics(C_text, as.graphicsAnnot(x$label), x$x, x$y, :\n",
      "\"font family 'rob' not found, will use 'sans' instead\"\n",
      "Warning message in grid.Call.graphics(C_text, as.graphicsAnnot(x$label), x$x, x$y, :\n",
      "\"font family 'rob' not found, will use 'sans' instead\"\n",
      "Warning message in grid.Call.graphics(C_text, as.graphicsAnnot(x$label), x$x, x$y, :\n",
      "\"font family 'rob' not found, will use 'sans' instead\"\n",
      "Warning message in grid.Call.graphics(C_text, as.graphicsAnnot(x$label), x$x, x$y, :\n",
      "\"font family 'rob' not found, will use 'sans' instead\"\n",
      "Warning message in grid.Call.graphics(C_text, as.graphicsAnnot(x$label), x$x, x$y, :\n",
      "\"font family 'rob' not found, will use 'sans' instead\"\n",
      "Warning message in grid.Call.graphics(C_text, as.graphicsAnnot(x$label), x$x, x$y, :\n",
      "\"font family 'rob' not found, will use 'sans' instead\"\n",
      "Warning message in grid.Call.graphics(C_text, as.graphicsAnnot(x$label), x$x, x$y, :\n",
      "\"font family 'rob' not found, will use 'sans' instead\"\n",
      "Warning message in grid.Call.graphics(C_text, as.graphicsAnnot(x$label), x$x, x$y, :\n",
      "\"font family 'rob' not found, will use 'sans' instead\"\n"
     ]
    },
    {
     "data": {
      "image/png": "[encoded data removed]",
      "text/plain": [
       "plot without title"
      ]
     },
     "metadata": {
      "image/png": {
       "height": 420,
       "width": 420
      }
     },
     "output_type": "display_data"
    }
   ],
   "source": [
    "tab_graph_corrup%>%\n",
    "ggplot(aes(x=year,y=porcentaje))+geom_line(color=\"#9f2241\",linewidth=1.5)+geom_point()+\n",
    "geom_vline(xintercept = c(2023), linetype = \"dashed\", color = \"red\")+\n",
    "\n",
    "theme_minimal()+\n",
    "labs(title=\"Porcentaje de población de 18 años y más que percibe actos de corrupción\n",
    "con frecuencia en la Ciudad de México\n",
    "\",\n",
    "x=\"Año\",y=\"Porcentaje\")+\n",
    "    theme(\n",
    "      plot.title = element_text(hjust = 0, size=20, face=\"bold\"),\n",
    "      plot.subtitle = element_text(hjust = 0, size=15, face=\"italic\"),\n",
    "      plot.caption = element_text(hjust = 0, size=10),\n",
    "      legend.position = \"None\",\n",
    "      legend.text = element_text(size=18),\n",
    "      axis.text.x = element_text(angle = 90, hjust = 1, size=18),\n",
    "      legend.title = element_text(size=18),\n",
    "      text = element_text(family=\"rob\")\n",
    "    )\n",
    "\n",
    " ggsave(\"corrupcion_gob.png\", width = 10, height = 6, dpi = 100,bg=\"white\")"
   ]
  },
  {
   "cell_type": "markdown",
   "id": "b321f882",
   "metadata": {},
   "source": [
    "### Escenarios"
   ]
  },
  {
   "cell_type": "code",
   "execution_count": 22,
   "id": "6be33212",
   "metadata": {
    "vscode": {
     "languageId": "r"
    }
   },
   "outputs": [],
   "source": [
    "generar_grafica <- function(tabla_obs, tabla_est, margen, titulo,base, linea_base,\n",
    "                            nombre_archivo, nombre_estimado_futuro,despegue,\n",
    "                            nombre_intervalo_superior, nombre_intervalo_inferior,\n",
    "                            limite_inferior_y, variable_intervals = \"porcentaje\") {\n",
    "\n",
    "  serie_completa <- dplyr::bind_rows(\n",
    "    tabla_obs %>%\n",
    "      dplyr::mutate(year = as.numeric(year)) %>%\n",
    "      intervals(variable_intervals, margen = 0, año_base = base),\n",
    "\n",
    "    tabla_est %>%\n",
    "      dplyr::mutate(year = as.numeric(year)) %>%\n",
    "      intervals(variable_intervals, margen = margen, año_base = base)\n",
    "  )\n",
    "\n",
    "  grafica <- grafica_bonita(\n",
    "    data = serie_completa,\n",
    "    x = \"year\",\n",
    "    y = \"estimado\",\n",
    "    titulo = titulo,\n",
    "   ano_base=base,\n",
    "     mostrar_etiqueta_ano_base = TRUE,\n",
    "     desplazamiento_ano_base = despegue,\n",
    "    linea_vertical = linea_base,\n",
    "    anios_etiquetas=c(2045),\n",
    "    mostrar_intervalo = \"ambos\",\n",
    "    nombre_observado = \"Observado\",\n",
    "    nombre_estimado_futuro = nombre_estimado_futuro,\n",
    "    nombre_intervalo_superior = nombre_intervalo_superior,\n",
    "    nombre_intervalo_inferior = nombre_intervalo_inferior,\n",
    "    mostrar_leyenda = TRUE,\n",
    "    fuente = \"pop\",\n",
    "    etiqueta_x = \"Año\",\n",
    "    etiqueta_y = \"Porcentaje\",\n",
    "    titulo_leyenda = \"Escenarios\",\n",
    "    limite_inferior_y = limite_inferior_y\n",
    "  )\n",
    "\n",
    "  ggplot2::ggsave(paste0(\"H:/Mi unidad/pgd/graficas/\",nombre_archivo), grafica, \n",
    "  width = 10, height = 6, dpi = 185, bg = \"white\")\n",
    "}"
   ]
  },
  {
   "cell_type": "code",
   "execution_count": 23,
   "id": "6a2a1c74",
   "metadata": {
    "vscode": {
     "languageId": "r"
    }
   },
   "outputs": [],
   "source": [
    "configuraciones <- tibble::tibble(\n",
    "  tabla_obs = list(tabla_actos_corrupcion,tabla_confianza),\n",
    "  tabla_est = list(extendido_corrupcion, extendido_confianza),\n",
    "  margen = c(0.001, 0.001),\n",
    "  base = c(2023, 2023),\n",
    "  nombre_archivo = c(\"corrupcion_gob_estimada.png\",\n",
    "                     \"confianza_gob_estimada.png\"),\n",
    "  linea_base = c(2023, 2023),\n",
    "   despegue = list(\n",
    "    c(0.7, 1),  \n",
    "    c(1, 1) \n",
    "  ),\n",
    "  titulo = c(\n",
    "             \"Porcentaje de población de 18 años y más \n",
    "que percibe actos de corrupción con frecuencia \n",
    "en la Ciudad de México\",\n",
    "             \"Porcentaje de población de 18 años y más \n",
    "que confía en el Gobierno de la Ciudad de México\"),\n",
    "  nombre_estimado_futuro = c(\"Deseable\", \"Deseable\"),\n",
    "  nombre_intervalo_superior = c(\"Inercial\", \"Transformador\"),\n",
    "  nombre_intervalo_inferior = c(\"Transformador\", \"Inercial\"),\n",
    "  limite_inferior_y = c(65,40),\n",
    "  variable_intervals = c(\"porcentaje\", \"porcentaje\")\n",
    ")"
   ]
  },
  {
   "cell_type": "code",
   "execution_count": 24,
   "id": "6d81adcf",
   "metadata": {
    "vscode": {
     "languageId": "r"
    }
   },
   "outputs": [
    {
     "name": "stderr",
     "output_type": "stream",
     "text": [
      "Warning message:\n",
      "\"\u001b[1m\u001b[22mRemoved 1 row containing missing values or values outside the scale range\n",
      "(`geom_line()`).\"\n"
     ]
    },
    {
     "data": {
      "text/html": [
       "<ol>\n",
       "\t<li>'H:/Mi unidad/pgd/graficas/corrupcion_gob_estimada.png'</li>\n",
       "\t<li>'H:/Mi unidad/pgd/graficas/confianza_gob_estimada.png'</li>\n",
       "</ol>\n"
      ],
      "text/latex": [
       "\\begin{enumerate}\n",
       "\\item 'H:/Mi unidad/pgd/graficas/corrupcion\\_gob\\_estimada.png'\n",
       "\\item 'H:/Mi unidad/pgd/graficas/confianza\\_gob\\_estimada.png'\n",
       "\\end{enumerate}\n"
      ],
      "text/markdown": [
       "1. 'H:/Mi unidad/pgd/graficas/corrupcion_gob_estimada.png'\n",
       "2. 'H:/Mi unidad/pgd/graficas/confianza_gob_estimada.png'\n",
       "\n",
       "\n"
      ],
      "text/plain": [
       "[[1]]\n",
       "[1] \"H:/Mi unidad/pgd/graficas/corrupcion_gob_estimada.png\"\n",
       "\n",
       "[[2]]\n",
       "[1] \"H:/Mi unidad/pgd/graficas/confianza_gob_estimada.png\"\n"
      ]
     },
     "metadata": {},
     "output_type": "display_data"
    }
   ],
   "source": [
    "pmap(\n",
    "  configuraciones,\n",
    "  function(tabla_obs, tabla_est, margen,\n",
    "  nombre_archivo,base,linea_base,\n",
    "           titulo, nombre_estimado_futuro,despegue,\n",
    "           nombre_intervalo_superior, nombre_intervalo_inferior,\n",
    "           limite_inferior_y, variable_intervals) {\n",
    "    generar_grafica(\n",
    "      tabla_obs = tabla_obs,\n",
    "      tabla_est = tabla_est,\n",
    "      base=base,\n",
    "      linea_base=linea_base,\n",
    "      despegue=despegue,\n",
    "      margen = margen,\n",
    "      titulo = titulo,\n",
    "      nombre_archivo = nombre_archivo,\n",
    "      nombre_estimado_futuro = nombre_estimado_futuro,\n",
    "      nombre_intervalo_superior = nombre_intervalo_superior,\n",
    "      nombre_intervalo_inferior = nombre_intervalo_inferior,\n",
    "      limite_inferior_y = limite_inferior_y,\n",
    "      variable_intervals = variable_intervals\n",
    "    )\n",
    "  }\n",
    ")"
   ]
  }
 ],
 "metadata": {
  "kernelspec": {
   "display_name": "R",
   "language": "R",
   "name": "ir"
  },
  "language_info": {
   "codemirror_mode": "r",
   "file_extension": ".r",
   "mimetype": "text/x-r-source",
   "name": "R",
   "pygments_lexer": "r",
   "version": "4.4.1"
  }
 },
 "nbformat": 4,
 "nbformat_minor": 5
}
