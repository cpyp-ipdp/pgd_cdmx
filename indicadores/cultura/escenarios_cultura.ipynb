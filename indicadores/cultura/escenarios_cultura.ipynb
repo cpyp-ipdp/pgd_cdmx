{
 "cells": [
  {
   "cell_type": "code",
   "execution_count": 1,
   "id": "6ab19163",
   "metadata": {
    "vscode": {
     "languageId": "r"
    }
   },
   "outputs": [
    {
     "name": "stderr",
     "output_type": "stream",
     "text": [
      "Cargando paquete requerido: pacman\n",
      "\n",
      "Using GitHub PAT from the git credential store.\n",
      "\n",
      "Downloading GitHub repo cpyp-ipdp/funcionespgd@HEAD\n",
      "\n"
     ]
    },
    {
     "name": "stdout",
     "output_type": "stream",
     "text": [
      "rlang  (1.1.4 -> 1.1.6) [CRAN]\n",
      "glue   (1.7.0 -> 1.8.0) [CRAN]\n",
      "cli    (3.6.3 -> 3.6.5) [CRAN]\n",
      "tibble (3.2.1 -> 3.3.0) [CRAN]\n"
     ]
    },
    {
     "name": "stderr",
     "output_type": "stream",
     "text": [
      "Installing 4 packages: rlang, glue, cli, tibble\n",
      "\n",
      "Warning message:\n",
      "\"package 'tibble' is in use and will not be installed\"\n",
      "Installing packages into 'C:/Users/claud/AppData/Local/R/win-library/4.4'\n",
      "(as 'lib' is unspecified)\n",
      "\n"
     ]
    },
    {
     "name": "stdout",
     "output_type": "stream",
     "text": [
      "package 'rlang' successfully unpacked and MD5 sums checked\n"
     ]
    },
    {
     "name": "stderr",
     "output_type": "stream",
     "text": [
      "Warning message:\n",
      "\"cannot remove prior installation of package 'rlang'\"\n",
      "Warning message in file.copy(savedcopy, lib, recursive = TRUE):\n",
      "\"problema al copiar C:\\Users\\claud\\AppData\\Local\\R\\win-library\\4.4\\00LOCK\\rlang\\libs\\x64\\rlang.dll  a C:\\Users\\claud\\AppData\\Local\\R\\win-library\\4.4\\rlang\\libs\\x64\\rlang.dll: Permission denied\"\n",
      "Warning message:\n",
      "\"restored 'rlang'\"\n"
     ]
    },
    {
     "name": "stdout",
     "output_type": "stream",
     "text": [
      "package 'glue' successfully unpacked and MD5 sums checked\n"
     ]
    },
    {
     "name": "stderr",
     "output_type": "stream",
     "text": [
      "Warning message:\n",
      "\"cannot remove prior installation of package 'glue'\"\n",
      "Warning message in file.copy(savedcopy, lib, recursive = TRUE):\n",
      "\"problema al copiar C:\\Users\\claud\\AppData\\Local\\R\\win-library\\4.4\\00LOCK\\glue\\libs\\x64\\glue.dll  a C:\\Users\\claud\\AppData\\Local\\R\\win-library\\4.4\\glue\\libs\\x64\\glue.dll: Permission denied\"\n",
      "Warning message:\n",
      "\"restored 'glue'\"\n"
     ]
    },
    {
     "name": "stdout",
     "output_type": "stream",
     "text": [
      "package 'cli' successfully unpacked and MD5 sums checked\n"
     ]
    },
    {
     "name": "stderr",
     "output_type": "stream",
     "text": [
      "Warning message:\n",
      "\"cannot remove prior installation of package 'cli'\"\n",
      "Warning message in file.copy(savedcopy, lib, recursive = TRUE):\n",
      "\"problema al copiar C:\\Users\\claud\\AppData\\Local\\R\\win-library\\4.4\\00LOCK\\cli\\libs\\x64\\cli.dll  a C:\\Users\\claud\\AppData\\Local\\R\\win-library\\4.4\\cli\\libs\\x64\\cli.dll: Permission denied\"\n",
      "Warning message:\n",
      "\"restored 'cli'\"\n"
     ]
    },
    {
     "name": "stdout",
     "output_type": "stream",
     "text": [
      "\n",
      "The downloaded binary packages are in\n",
      "\tC:\\Users\\claud\\AppData\\Local\\Temp\\RtmpQlwfI5\\downloaded_packages\n",
      "\u001b[36m──\u001b[39m \u001b[36mR CMD build\u001b[39m \u001b[36m─────────────────────────────────────────────────────────────────\u001b[39m\n",
      "* checking for file 'C:\\Users\\claud\\AppData\\Local\\Temp\\RtmpQlwfI5\\remotes4f4454497c98\\cpyp-ipdp-funcionespgd-3fffa52/DESCRIPTION' ... OK\n",
      "* preparing 'funcionespgd':\n",
      "* checking DESCRIPTION meta-information ... OK\n",
      "* checking for LF line-endings in source and make files and shell scripts\n",
      "* checking for empty or unneeded directories\n",
      "Omitted 'LazyData' from DESCRIPTION\n",
      "* building 'funcionespgd_0.1.0.tar.gz'\n",
      "\n"
     ]
    },
    {
     "name": "stderr",
     "output_type": "stream",
     "text": [
      "Installing package into 'C:/Users/claud/AppData/Local/R/win-library/4.4'\n",
      "(as 'lib' is unspecified)\n",
      "\n"
     ]
    }
   ],
   "source": [
    "##Estimación de indicadores de población ocupada en cultura\n",
    "#Se borra todo lo que se encuentra en el entorno\n",
    "\n",
    "rm(list=ls())\n",
    "\n",
    "# Librerías ====\n",
    "if(!require('pacman')) install.packages('pacman')\n",
    "pacman::p_load(tidyverse,lubridate, showtext,srvyr,foreign)\n",
    "font_add_google(\"Poppins\", \"pop\")\n",
    "showtext_auto()\n",
    "remotes::install_github(\"cpyp-ipdp/funcionespgd\", force = TRUE)\n",
    "library(funcionespgd)"
   ]
  },
  {
   "cell_type": "code",
   "execution_count": 2,
   "id": "21597217",
   "metadata": {
    "vscode": {
     "languageId": "r"
    }
   },
   "outputs": [
    {
     "data": {
      "text/html": [
       "'c:/Users/claud/Documents/GitHub/pgd_cdmx/indicadores/cultura'"
      ],
      "text/latex": [
       "'c:/Users/claud/Documents/GitHub/pgd\\_cdmx/indicadores/cultura'"
      ],
      "text/markdown": [
       "'c:/Users/claud/Documents/GitHub/pgd_cdmx/indicadores/cultura'"
      ],
      "text/plain": [
       "[1] \"c:/Users/claud/Documents/GitHub/pgd_cdmx/indicadores/cultura\""
      ]
     },
     "metadata": {},
     "output_type": "display_data"
    }
   ],
   "source": [
    "getwd()"
   ]
  },
  {
   "cell_type": "markdown",
   "id": "bf1f4f1c",
   "metadata": {},
   "source": [
    "### Presupuesto"
   ]
  },
  {
   "cell_type": "code",
   "execution_count": 3,
   "id": "463a8eea",
   "metadata": {
    "vscode": {
     "languageId": "r"
    }
   },
   "outputs": [
    {
     "name": "stderr",
     "output_type": "stream",
     "text": [
      "\u001b[1mRows: \u001b[22m\u001b[34m5\u001b[39m \u001b[1mColumns: \u001b[22m\u001b[34m4\u001b[39m\n",
      "\u001b[36m──\u001b[39m \u001b[1mColumn specification\u001b[22m \u001b[36m────────────────────────────────────────────────────────\u001b[39m\n",
      "\u001b[1mDelimiter:\u001b[22m \",\"\n",
      "\u001b[32mdbl\u001b[39m (4): ciclo, gasto_cultural, presupuesto_total_cdmx, porcentaje_cultural\n",
      "\n",
      "\u001b[36mℹ\u001b[39m Use `spec()` to retrieve the full column specification for this data.\n",
      "\u001b[36mℹ\u001b[39m Specify the column types or set `show_col_types = FALSE` to quiet this message.\n",
      "\u001b[1mRows: \u001b[22m\u001b[34m21\u001b[39m \u001b[1mColumns: \u001b[22m\u001b[34m2\u001b[39m\n",
      "\u001b[36m──\u001b[39m \u001b[1mColumn specification\u001b[22m \u001b[36m────────────────────────────────────────────────────────\u001b[39m\n",
      "\u001b[1mDelimiter:\u001b[22m \",\"\n",
      "\u001b[32mdbl\u001b[39m (2): ciclo, porcentaje_cultural\n",
      "\n",
      "\u001b[36mℹ\u001b[39m Use `spec()` to retrieve the full column specification for this data.\n",
      "\u001b[36mℹ\u001b[39m Specify the column types or set `show_col_types = FALSE` to quiet this message.\n"
     ]
    },
    {
     "data": {
      "text/html": [
       "<table class=\"dataframe\">\n",
       "<caption>A tibble: 26 × 4</caption>\n",
       "<thead>\n",
       "\t<tr><th scope=col>year</th><th scope=col>estimado</th><th scope=col>superior</th><th scope=col>inferior</th></tr>\n",
       "\t<tr><th scope=col>&lt;dbl&gt;</th><th scope=col>&lt;dbl&gt;</th><th scope=col>&lt;dbl&gt;</th><th scope=col>&lt;dbl&gt;</th></tr>\n",
       "</thead>\n",
       "<tbody>\n",
       "\t<tr><td>2020</td><td>0.13441080</td><td>0.13441080</td><td>0.13441080</td></tr>\n",
       "\t<tr><td>2021</td><td>0.10123425</td><td>0.10123425</td><td>0.10123425</td></tr>\n",
       "\t<tr><td>2022</td><td>0.09631327</td><td>0.09631327</td><td>0.09631327</td></tr>\n",
       "\t<tr><td>2023</td><td>0.27720364</td><td>0.27720364</td><td>0.27720364</td></tr>\n",
       "\t<tr><td>2024</td><td>0.35607523</td><td>0.35607523</td><td>0.35607523</td></tr>\n",
       "\t<tr><td>2025</td><td>0.37883691</td><td>0.38035226</td><td>0.37732760</td></tr>\n",
       "\t<tr><td>2026</td><td>0.44076674</td><td>0.44429992</td><td>0.43726165</td></tr>\n",
       "\t<tr><td>2027</td><td>0.50269656</td><td>0.50875308</td><td>0.49671214</td></tr>\n",
       "\t<tr><td>2028</td><td>0.56462638</td><td>0.57371475</td><td>0.55568198</td></tr>\n",
       "\t<tr><td>2029</td><td>0.62655621</td><td>0.63918798</td><td>0.61417406</td></tr>\n",
       "\t<tr><td>2030</td><td>0.68848603</td><td>0.70517582</td><td>0.67219125</td></tr>\n",
       "\t<tr><td>2031</td><td>0.75041586</td><td>0.77168133</td><td>0.72973640</td></tr>\n",
       "\t<tr><td>2032</td><td>0.81234568</td><td>0.83870760</td><td>0.78681236</td></tr>\n",
       "\t<tr><td>2033</td><td>0.87427550</td><td>0.90625773</td><td>0.84342194</td></tr>\n",
       "\t<tr><td>2034</td><td>0.93620533</td><td>0.97433485</td><td>0.89956796</td></tr>\n",
       "\t<tr><td>2035</td><td>0.99813515</td><td>1.04294208</td><td>0.95525322</td></tr>\n",
       "\t<tr><td>2036</td><td>1.06006498</td><td>1.11208258</td><td>1.01048049</td></tr>\n",
       "\t<tr><td>2037</td><td>1.12199480</td><td>1.18175952</td><td>1.06525254</td></tr>\n",
       "\t<tr><td>2038</td><td>1.18392462</td><td>1.25197608</td><td>1.11957212</td></tr>\n",
       "\t<tr><td>2039</td><td>1.24585445</td><td>1.32273547</td><td>1.17344196</td></tr>\n",
       "\t<tr><td>2040</td><td>1.30778427</td><td>1.39404090</td><td>1.22686480</td></tr>\n",
       "\t<tr><td>2041</td><td>1.36971410</td><td>1.46589561</td><td>1.27984332</td></tr>\n",
       "\t<tr><td>2042</td><td>1.43164392</td><td>1.53830285</td><td>1.33238024</td></tr>\n",
       "\t<tr><td>2043</td><td>1.49357374</td><td>1.61126589</td><td>1.38447822</td></tr>\n",
       "\t<tr><td>2044</td><td>1.55550357</td><td>1.68478803</td><td>1.43613992</td></tr>\n",
       "\t<tr><td>2045</td><td>1.61743339</td><td>1.75887256</td><td>1.48736801</td></tr>\n",
       "</tbody>\n",
       "</table>\n"
      ],
      "text/latex": [
       "A tibble: 26 × 4\n",
       "\\begin{tabular}{llll}\n",
       " year & estimado & superior & inferior\\\\\n",
       " <dbl> & <dbl> & <dbl> & <dbl>\\\\\n",
       "\\hline\n",
       "\t 2020 & 0.13441080 & 0.13441080 & 0.13441080\\\\\n",
       "\t 2021 & 0.10123425 & 0.10123425 & 0.10123425\\\\\n",
       "\t 2022 & 0.09631327 & 0.09631327 & 0.09631327\\\\\n",
       "\t 2023 & 0.27720364 & 0.27720364 & 0.27720364\\\\\n",
       "\t 2024 & 0.35607523 & 0.35607523 & 0.35607523\\\\\n",
       "\t 2025 & 0.37883691 & 0.38035226 & 0.37732760\\\\\n",
       "\t 2026 & 0.44076674 & 0.44429992 & 0.43726165\\\\\n",
       "\t 2027 & 0.50269656 & 0.50875308 & 0.49671214\\\\\n",
       "\t 2028 & 0.56462638 & 0.57371475 & 0.55568198\\\\\n",
       "\t 2029 & 0.62655621 & 0.63918798 & 0.61417406\\\\\n",
       "\t 2030 & 0.68848603 & 0.70517582 & 0.67219125\\\\\n",
       "\t 2031 & 0.75041586 & 0.77168133 & 0.72973640\\\\\n",
       "\t 2032 & 0.81234568 & 0.83870760 & 0.78681236\\\\\n",
       "\t 2033 & 0.87427550 & 0.90625773 & 0.84342194\\\\\n",
       "\t 2034 & 0.93620533 & 0.97433485 & 0.89956796\\\\\n",
       "\t 2035 & 0.99813515 & 1.04294208 & 0.95525322\\\\\n",
       "\t 2036 & 1.06006498 & 1.11208258 & 1.01048049\\\\\n",
       "\t 2037 & 1.12199480 & 1.18175952 & 1.06525254\\\\\n",
       "\t 2038 & 1.18392462 & 1.25197608 & 1.11957212\\\\\n",
       "\t 2039 & 1.24585445 & 1.32273547 & 1.17344196\\\\\n",
       "\t 2040 & 1.30778427 & 1.39404090 & 1.22686480\\\\\n",
       "\t 2041 & 1.36971410 & 1.46589561 & 1.27984332\\\\\n",
       "\t 2042 & 1.43164392 & 1.53830285 & 1.33238024\\\\\n",
       "\t 2043 & 1.49357374 & 1.61126589 & 1.38447822\\\\\n",
       "\t 2044 & 1.55550357 & 1.68478803 & 1.43613992\\\\\n",
       "\t 2045 & 1.61743339 & 1.75887256 & 1.48736801\\\\\n",
       "\\end{tabular}\n"
      ],
      "text/markdown": [
       "\n",
       "A tibble: 26 × 4\n",
       "\n",
       "| year &lt;dbl&gt; | estimado &lt;dbl&gt; | superior &lt;dbl&gt; | inferior &lt;dbl&gt; |\n",
       "|---|---|---|---|\n",
       "| 2020 | 0.13441080 | 0.13441080 | 0.13441080 |\n",
       "| 2021 | 0.10123425 | 0.10123425 | 0.10123425 |\n",
       "| 2022 | 0.09631327 | 0.09631327 | 0.09631327 |\n",
       "| 2023 | 0.27720364 | 0.27720364 | 0.27720364 |\n",
       "| 2024 | 0.35607523 | 0.35607523 | 0.35607523 |\n",
       "| 2025 | 0.37883691 | 0.38035226 | 0.37732760 |\n",
       "| 2026 | 0.44076674 | 0.44429992 | 0.43726165 |\n",
       "| 2027 | 0.50269656 | 0.50875308 | 0.49671214 |\n",
       "| 2028 | 0.56462638 | 0.57371475 | 0.55568198 |\n",
       "| 2029 | 0.62655621 | 0.63918798 | 0.61417406 |\n",
       "| 2030 | 0.68848603 | 0.70517582 | 0.67219125 |\n",
       "| 2031 | 0.75041586 | 0.77168133 | 0.72973640 |\n",
       "| 2032 | 0.81234568 | 0.83870760 | 0.78681236 |\n",
       "| 2033 | 0.87427550 | 0.90625773 | 0.84342194 |\n",
       "| 2034 | 0.93620533 | 0.97433485 | 0.89956796 |\n",
       "| 2035 | 0.99813515 | 1.04294208 | 0.95525322 |\n",
       "| 2036 | 1.06006498 | 1.11208258 | 1.01048049 |\n",
       "| 2037 | 1.12199480 | 1.18175952 | 1.06525254 |\n",
       "| 2038 | 1.18392462 | 1.25197608 | 1.11957212 |\n",
       "| 2039 | 1.24585445 | 1.32273547 | 1.17344196 |\n",
       "| 2040 | 1.30778427 | 1.39404090 | 1.22686480 |\n",
       "| 2041 | 1.36971410 | 1.46589561 | 1.27984332 |\n",
       "| 2042 | 1.43164392 | 1.53830285 | 1.33238024 |\n",
       "| 2043 | 1.49357374 | 1.61126589 | 1.38447822 |\n",
       "| 2044 | 1.55550357 | 1.68478803 | 1.43613992 |\n",
       "| 2045 | 1.61743339 | 1.75887256 | 1.48736801 |\n",
       "\n"
      ],
      "text/plain": [
       "   year estimado   superior   inferior  \n",
       "1  2020 0.13441080 0.13441080 0.13441080\n",
       "2  2021 0.10123425 0.10123425 0.10123425\n",
       "3  2022 0.09631327 0.09631327 0.09631327\n",
       "4  2023 0.27720364 0.27720364 0.27720364\n",
       "5  2024 0.35607523 0.35607523 0.35607523\n",
       "6  2025 0.37883691 0.38035226 0.37732760\n",
       "7  2026 0.44076674 0.44429992 0.43726165\n",
       "8  2027 0.50269656 0.50875308 0.49671214\n",
       "9  2028 0.56462638 0.57371475 0.55568198\n",
       "10 2029 0.62655621 0.63918798 0.61417406\n",
       "11 2030 0.68848603 0.70517582 0.67219125\n",
       "12 2031 0.75041586 0.77168133 0.72973640\n",
       "13 2032 0.81234568 0.83870760 0.78681236\n",
       "14 2033 0.87427550 0.90625773 0.84342194\n",
       "15 2034 0.93620533 0.97433485 0.89956796\n",
       "16 2035 0.99813515 1.04294208 0.95525322\n",
       "17 2036 1.06006498 1.11208258 1.01048049\n",
       "18 2037 1.12199480 1.18175952 1.06525254\n",
       "19 2038 1.18392462 1.25197608 1.11957212\n",
       "20 2039 1.24585445 1.32273547 1.17344196\n",
       "21 2040 1.30778427 1.39404090 1.22686480\n",
       "22 2041 1.36971410 1.46589561 1.27984332\n",
       "23 2042 1.43164392 1.53830285 1.33238024\n",
       "24 2043 1.49357374 1.61126589 1.38447822\n",
       "25 2044 1.55550357 1.68478803 1.43613992\n",
       "26 2045 1.61743339 1.75887256 1.48736801"
      ]
     },
     "metadata": {},
     "output_type": "display_data"
    }
   ],
   "source": [
    "observado_presup<- read_csv(\"presup_cultural_cdmx.csv\")%>%\n",
    "rename(year=ciclo)%>%\n",
    "mutate(year=as.numeric(year))\n",
    "\n",
    "#predicciones de presupuestos\n",
    "prediccion_presup <- read_csv(\"pred_presup_cultural_cdmx.csv\")%>%\n",
    "rename(year=ciclo)%>%\n",
    "mutate(year=as.numeric(year))\n",
    "#Pegar los datos de presupuestos observados con los predichos\n",
    "presupuesto<-bind_rows(observado_presup,prediccion_presup)%>%\n",
    "select(year,porcentaje_cultural)%>%\n",
    "intervals(\"porcentaje_cultural\", margen = 0.004 , año_base = 2024)\n",
    "presupuesto"
   ]
  },
  {
   "cell_type": "code",
   "execution_count": 4,
   "id": "9f5cb08f",
   "metadata": {
    "vscode": {
     "languageId": "r"
    }
   },
   "outputs": [
    {
     "data": {
      "image/png": "[encoded data removed]",
      "text/plain": [
       "plot without title"
      ]
     },
     "metadata": {
      "image/png": {
       "height": 420,
       "width": 420
      }
     },
     "output_type": "display_data"
    }
   ],
   "source": [
    "grafica_bonita(\n",
    "  data = presupuesto,\n",
    "  x = \"year\",\n",
    "  y = \"estimado\",\n",
    "  titulo = \"Porcentaje de presupuesto destinado para cultura\n",
    "  respecto del total del presupuesto aprobado\",\n",
    "      ano_base = 2024,\n",
    "  mostrar_etiqueta_ano_base = TRUE,\n",
    "  linea_vertical = 2024,\n",
    "  desplazamiento_ano_base = c(0.5, 0.1),\n",
    "  anios_etiquetas = c(2045),\n",
    "  mostrar_intervalo = \"ambos\",\n",
    "  nombre_observado = \"Observado\",\n",
    "  nombre_estimado_futuro = \"Deseable\",\n",
    "  nombre_intervalo_superior = \"Transformador\",\n",
    "  nombre_intervalo_inferior = \"Inercial\",\n",
    "  mostrar_leyenda = TRUE,\n",
    "  fuente = \"pop\",\n",
    "  etiqueta_x = \"Año\",\n",
    "  etiqueta_y = \"Porcentaje\",\n",
    "  titulo_leyenda = \"Escenarios\",\n",
    "  limite_inferior_y = 0\n",
    ")\n",
    "\n",
    "ggsave(\"H:/Mi unidad/pgd/graficas/presup_cultura_estimada.png\",\n",
    " width = 10, height = 6, dpi =  185, bg = \"white\")"
   ]
  },
  {
   "cell_type": "markdown",
   "id": "e6e26c51",
   "metadata": {},
   "source": [
    "### Valor agregado"
   ]
  },
  {
   "cell_type": "code",
   "execution_count": 5,
   "id": "8e4fe4ad",
   "metadata": {
    "vscode": {
     "languageId": "r"
    }
   },
   "outputs": [
    {
     "name": "stderr",
     "output_type": "stream",
     "text": [
      "\u001b[1mRows: \u001b[22m\u001b[34m38\u001b[39m \u001b[1mColumns: \u001b[22m\u001b[34m3\u001b[39m\n",
      "\u001b[36m──\u001b[39m \u001b[1mColumn specification\u001b[22m \u001b[36m────────────────────────────────────────────────────────\u001b[39m\n",
      "\u001b[1mDelimiter:\u001b[22m \",\"\n",
      "\u001b[31mchr\u001b[39m (1): concepto\n",
      "\u001b[32mdbl\u001b[39m (2): año, valor\n",
      "\n",
      "\u001b[36mℹ\u001b[39m Use `spec()` to retrieve the full column specification for this data.\n",
      "\u001b[36mℹ\u001b[39m Specify the column types or set `show_col_types = FALSE` to quiet this message.\n"
     ]
    },
    {
     "data": {
      "text/html": [
       "<table class=\"dataframe\">\n",
       "<caption>A tibble: 38 × 4</caption>\n",
       "<thead>\n",
       "\t<tr><th scope=col>year</th><th scope=col>estimado</th><th scope=col>superior</th><th scope=col>inferior</th></tr>\n",
       "\t<tr><th scope=col>&lt;dbl&gt;</th><th scope=col>&lt;dbl&gt;</th><th scope=col>&lt;dbl&gt;</th><th scope=col>&lt;dbl&gt;</th></tr>\n",
       "</thead>\n",
       "<tbody>\n",
       "\t<tr><td>2008</td><td>8.419000</td><td>8.419000</td><td>8.419000</td></tr>\n",
       "\t<tr><td>2009</td><td>8.704000</td><td>8.704000</td><td>8.704000</td></tr>\n",
       "\t<tr><td>2010</td><td>8.272000</td><td>8.272000</td><td>8.272000</td></tr>\n",
       "\t<tr><td>2011</td><td>7.967000</td><td>7.967000</td><td>7.967000</td></tr>\n",
       "\t<tr><td>2012</td><td>7.681000</td><td>7.681000</td><td>7.681000</td></tr>\n",
       "\t<tr><td>2013</td><td>7.566000</td><td>7.566000</td><td>7.566000</td></tr>\n",
       "\t<tr><td>2014</td><td>7.792000</td><td>7.792000</td><td>7.792000</td></tr>\n",
       "\t<tr><td>2015</td><td>7.763000</td><td>7.763000</td><td>7.763000</td></tr>\n",
       "\t<tr><td>2016</td><td>7.296000</td><td>7.296000</td><td>7.296000</td></tr>\n",
       "\t<tr><td>2017</td><td>7.261000</td><td>7.261000</td><td>7.261000</td></tr>\n",
       "\t<tr><td>2018</td><td>7.174000</td><td>7.174000</td><td>7.174000</td></tr>\n",
       "\t<tr><td>2019</td><td>7.031000</td><td>7.031000</td><td>7.031000</td></tr>\n",
       "\t<tr><td>2020</td><td>6.648000</td><td>6.648000</td><td>6.648000</td></tr>\n",
       "\t<tr><td>2021</td><td>6.726000</td><td>6.726000</td><td>6.726000</td></tr>\n",
       "\t<tr><td>2022</td><td>7.053000</td><td>7.053000</td><td>7.053000</td></tr>\n",
       "\t<tr><td>2023</td><td>6.902000</td><td>6.902000</td><td>6.902000</td></tr>\n",
       "\t<tr><td>2024</td><td>6.988805</td><td>6.988805</td><td>6.988805</td></tr>\n",
       "\t<tr><td>2025</td><td>7.076702</td><td>7.105009</td><td>7.048508</td></tr>\n",
       "\t<tr><td>2026</td><td>7.165705</td><td>7.223145</td><td>7.108721</td></tr>\n",
       "\t<tr><td>2027</td><td>7.255826</td><td>7.343245</td><td>7.169448</td></tr>\n",
       "\t<tr><td>2028</td><td>7.347082</td><td>7.465342</td><td>7.230694</td></tr>\n",
       "\t<tr><td>2029</td><td>7.439485</td><td>7.589469</td><td>7.292464</td></tr>\n",
       "\t<tr><td>2030</td><td>7.533050</td><td>7.715660</td><td>7.354761</td></tr>\n",
       "\t<tr><td>2031</td><td>7.627791</td><td>7.843950</td><td>7.417590</td></tr>\n",
       "\t<tr><td>2032</td><td>7.723725</td><td>7.974372</td><td>7.480956</td></tr>\n",
       "\t<tr><td>2033</td><td>7.820865</td><td>8.106963</td><td>7.544863</td></tr>\n",
       "\t<tr><td>2034</td><td>7.919226</td><td>8.241758</td><td>7.609316</td></tr>\n",
       "\t<tr><td>2035</td><td>8.018825</td><td>8.378795</td><td>7.674320</td></tr>\n",
       "\t<tr><td>2036</td><td>8.119676</td><td>8.518110</td><td>7.739879</td></tr>\n",
       "\t<tr><td>2037</td><td>8.221796</td><td>8.659742</td><td>7.805998</td></tr>\n",
       "\t<tr><td>2038</td><td>8.325200</td><td>8.803729</td><td>7.872682</td></tr>\n",
       "\t<tr><td>2039</td><td>8.429905</td><td>8.950110</td><td>7.939935</td></tr>\n",
       "\t<tr><td>2040</td><td>8.535926</td><td>9.098924</td><td>8.007763</td></tr>\n",
       "\t<tr><td>2041</td><td>8.643281</td><td>9.250213</td><td>8.076171</td></tr>\n",
       "\t<tr><td>2042</td><td>8.751986</td><td>9.404018</td><td>8.145163</td></tr>\n",
       "\t<tr><td>2043</td><td>8.862058</td><td>9.560379</td><td>8.214744</td></tr>\n",
       "\t<tr><td>2044</td><td>8.973514</td><td>9.719341</td><td>8.284920</td></tr>\n",
       "\t<tr><td>2045</td><td>9.086373</td><td>9.880946</td><td>8.355695</td></tr>\n",
       "</tbody>\n",
       "</table>\n"
      ],
      "text/latex": [
       "A tibble: 38 × 4\n",
       "\\begin{tabular}{llll}\n",
       " year & estimado & superior & inferior\\\\\n",
       " <dbl> & <dbl> & <dbl> & <dbl>\\\\\n",
       "\\hline\n",
       "\t 2008 & 8.419000 & 8.419000 & 8.419000\\\\\n",
       "\t 2009 & 8.704000 & 8.704000 & 8.704000\\\\\n",
       "\t 2010 & 8.272000 & 8.272000 & 8.272000\\\\\n",
       "\t 2011 & 7.967000 & 7.967000 & 7.967000\\\\\n",
       "\t 2012 & 7.681000 & 7.681000 & 7.681000\\\\\n",
       "\t 2013 & 7.566000 & 7.566000 & 7.566000\\\\\n",
       "\t 2014 & 7.792000 & 7.792000 & 7.792000\\\\\n",
       "\t 2015 & 7.763000 & 7.763000 & 7.763000\\\\\n",
       "\t 2016 & 7.296000 & 7.296000 & 7.296000\\\\\n",
       "\t 2017 & 7.261000 & 7.261000 & 7.261000\\\\\n",
       "\t 2018 & 7.174000 & 7.174000 & 7.174000\\\\\n",
       "\t 2019 & 7.031000 & 7.031000 & 7.031000\\\\\n",
       "\t 2020 & 6.648000 & 6.648000 & 6.648000\\\\\n",
       "\t 2021 & 6.726000 & 6.726000 & 6.726000\\\\\n",
       "\t 2022 & 7.053000 & 7.053000 & 7.053000\\\\\n",
       "\t 2023 & 6.902000 & 6.902000 & 6.902000\\\\\n",
       "\t 2024 & 6.988805 & 6.988805 & 6.988805\\\\\n",
       "\t 2025 & 7.076702 & 7.105009 & 7.048508\\\\\n",
       "\t 2026 & 7.165705 & 7.223145 & 7.108721\\\\\n",
       "\t 2027 & 7.255826 & 7.343245 & 7.169448\\\\\n",
       "\t 2028 & 7.347082 & 7.465342 & 7.230694\\\\\n",
       "\t 2029 & 7.439485 & 7.589469 & 7.292464\\\\\n",
       "\t 2030 & 7.533050 & 7.715660 & 7.354761\\\\\n",
       "\t 2031 & 7.627791 & 7.843950 & 7.417590\\\\\n",
       "\t 2032 & 7.723725 & 7.974372 & 7.480956\\\\\n",
       "\t 2033 & 7.820865 & 8.106963 & 7.544863\\\\\n",
       "\t 2034 & 7.919226 & 8.241758 & 7.609316\\\\\n",
       "\t 2035 & 8.018825 & 8.378795 & 7.674320\\\\\n",
       "\t 2036 & 8.119676 & 8.518110 & 7.739879\\\\\n",
       "\t 2037 & 8.221796 & 8.659742 & 7.805998\\\\\n",
       "\t 2038 & 8.325200 & 8.803729 & 7.872682\\\\\n",
       "\t 2039 & 8.429905 & 8.950110 & 7.939935\\\\\n",
       "\t 2040 & 8.535926 & 9.098924 & 8.007763\\\\\n",
       "\t 2041 & 8.643281 & 9.250213 & 8.076171\\\\\n",
       "\t 2042 & 8.751986 & 9.404018 & 8.145163\\\\\n",
       "\t 2043 & 8.862058 & 9.560379 & 8.214744\\\\\n",
       "\t 2044 & 8.973514 & 9.719341 & 8.284920\\\\\n",
       "\t 2045 & 9.086373 & 9.880946 & 8.355695\\\\\n",
       "\\end{tabular}\n"
      ],
      "text/markdown": [
       "\n",
       "A tibble: 38 × 4\n",
       "\n",
       "| year &lt;dbl&gt; | estimado &lt;dbl&gt; | superior &lt;dbl&gt; | inferior &lt;dbl&gt; |\n",
       "|---|---|---|---|\n",
       "| 2008 | 8.419000 | 8.419000 | 8.419000 |\n",
       "| 2009 | 8.704000 | 8.704000 | 8.704000 |\n",
       "| 2010 | 8.272000 | 8.272000 | 8.272000 |\n",
       "| 2011 | 7.967000 | 7.967000 | 7.967000 |\n",
       "| 2012 | 7.681000 | 7.681000 | 7.681000 |\n",
       "| 2013 | 7.566000 | 7.566000 | 7.566000 |\n",
       "| 2014 | 7.792000 | 7.792000 | 7.792000 |\n",
       "| 2015 | 7.763000 | 7.763000 | 7.763000 |\n",
       "| 2016 | 7.296000 | 7.296000 | 7.296000 |\n",
       "| 2017 | 7.261000 | 7.261000 | 7.261000 |\n",
       "| 2018 | 7.174000 | 7.174000 | 7.174000 |\n",
       "| 2019 | 7.031000 | 7.031000 | 7.031000 |\n",
       "| 2020 | 6.648000 | 6.648000 | 6.648000 |\n",
       "| 2021 | 6.726000 | 6.726000 | 6.726000 |\n",
       "| 2022 | 7.053000 | 7.053000 | 7.053000 |\n",
       "| 2023 | 6.902000 | 6.902000 | 6.902000 |\n",
       "| 2024 | 6.988805 | 6.988805 | 6.988805 |\n",
       "| 2025 | 7.076702 | 7.105009 | 7.048508 |\n",
       "| 2026 | 7.165705 | 7.223145 | 7.108721 |\n",
       "| 2027 | 7.255826 | 7.343245 | 7.169448 |\n",
       "| 2028 | 7.347082 | 7.465342 | 7.230694 |\n",
       "| 2029 | 7.439485 | 7.589469 | 7.292464 |\n",
       "| 2030 | 7.533050 | 7.715660 | 7.354761 |\n",
       "| 2031 | 7.627791 | 7.843950 | 7.417590 |\n",
       "| 2032 | 7.723725 | 7.974372 | 7.480956 |\n",
       "| 2033 | 7.820865 | 8.106963 | 7.544863 |\n",
       "| 2034 | 7.919226 | 8.241758 | 7.609316 |\n",
       "| 2035 | 8.018825 | 8.378795 | 7.674320 |\n",
       "| 2036 | 8.119676 | 8.518110 | 7.739879 |\n",
       "| 2037 | 8.221796 | 8.659742 | 7.805998 |\n",
       "| 2038 | 8.325200 | 8.803729 | 7.872682 |\n",
       "| 2039 | 8.429905 | 8.950110 | 7.939935 |\n",
       "| 2040 | 8.535926 | 9.098924 | 8.007763 |\n",
       "| 2041 | 8.643281 | 9.250213 | 8.076171 |\n",
       "| 2042 | 8.751986 | 9.404018 | 8.145163 |\n",
       "| 2043 | 8.862058 | 9.560379 | 8.214744 |\n",
       "| 2044 | 8.973514 | 9.719341 | 8.284920 |\n",
       "| 2045 | 9.086373 | 9.880946 | 8.355695 |\n",
       "\n"
      ],
      "text/plain": [
       "   year estimado superior inferior\n",
       "1  2008 8.419000 8.419000 8.419000\n",
       "2  2009 8.704000 8.704000 8.704000\n",
       "3  2010 8.272000 8.272000 8.272000\n",
       "4  2011 7.967000 7.967000 7.967000\n",
       "5  2012 7.681000 7.681000 7.681000\n",
       "6  2013 7.566000 7.566000 7.566000\n",
       "7  2014 7.792000 7.792000 7.792000\n",
       "8  2015 7.763000 7.763000 7.763000\n",
       "9  2016 7.296000 7.296000 7.296000\n",
       "10 2017 7.261000 7.261000 7.261000\n",
       "11 2018 7.174000 7.174000 7.174000\n",
       "12 2019 7.031000 7.031000 7.031000\n",
       "13 2020 6.648000 6.648000 6.648000\n",
       "14 2021 6.726000 6.726000 6.726000\n",
       "15 2022 7.053000 7.053000 7.053000\n",
       "16 2023 6.902000 6.902000 6.902000\n",
       "17 2024 6.988805 6.988805 6.988805\n",
       "18 2025 7.076702 7.105009 7.048508\n",
       "19 2026 7.165705 7.223145 7.108721\n",
       "20 2027 7.255826 7.343245 7.169448\n",
       "21 2028 7.347082 7.465342 7.230694\n",
       "22 2029 7.439485 7.589469 7.292464\n",
       "23 2030 7.533050 7.715660 7.354761\n",
       "24 2031 7.627791 7.843950 7.417590\n",
       "25 2032 7.723725 7.974372 7.480956\n",
       "26 2033 7.820865 8.106963 7.544863\n",
       "27 2034 7.919226 8.241758 7.609316\n",
       "28 2035 8.018825 8.378795 7.674320\n",
       "29 2036 8.119676 8.518110 7.739879\n",
       "30 2037 8.221796 8.659742 7.805998\n",
       "31 2038 8.325200 8.803729 7.872682\n",
       "32 2039 8.429905 8.950110 7.939935\n",
       "33 2040 8.535926 9.098924 8.007763\n",
       "34 2041 8.643281 9.250213 8.076171\n",
       "35 2042 8.751986 9.404018 8.145163\n",
       "36 2043 8.862058 9.560379 8.214744\n",
       "37 2044 8.973514 9.719341 8.284920\n",
       "38 2045 9.086373 9.880946 8.355695"
      ]
     },
     "metadata": {},
     "output_type": "display_data"
    }
   ],
   "source": [
    "va<- read_csv(\"valor_agregado_bruto_cdmx_proyecciones.csv\")%>%\n",
    "janitor::clean_names()%>%\n",
    "rename(year=ano)%>%\n",
    "mutate(year=as.numeric(year))%>%\n",
    "select(year,valor)%>%\n",
    "intervals(\"valor\", margen = 0.004, año_base = 2024)\n",
    "va"
   ]
  },
  {
   "cell_type": "code",
   "execution_count": 6,
   "id": "aa48089a",
   "metadata": {
    "vscode": {
     "languageId": "r"
    }
   },
   "outputs": [
    {
     "data": {
      "image/png": "[encoded data removed]",
      "text/plain": [
       "plot without title"
      ]
     },
     "metadata": {
      "image/png": {
       "height": 420,
       "width": 420
      }
     },
     "output_type": "display_data"
    }
   ],
   "source": [
    "grafica_bonita(\n",
    "  data = va,\n",
    "  x = \"year\",\n",
    "  y = \"estimado\",\n",
    "  titulo = \"Porcentaje de valor agregado bruto de cultura de la CDMX \n",
    " respecto del total del valor agregado de cultura nacional\",\n",
    "      ano_base = 2023,\n",
    "  mostrar_etiqueta_ano_base = TRUE,\n",
    "  linea_vertical = 2023,\n",
    "  desplazamiento_ano_base =c(0.5,0.5),\n",
    "  anios_etiquetas = c(2045),\n",
    "  mostrar_intervalo = \"ambos\",\n",
    "  nombre_observado = \"Observado\",\n",
    "  nombre_estimado_futuro = \"Deseable\",\n",
    "  nombre_intervalo_superior = \"Transformador\",\n",
    "  nombre_intervalo_inferior = \"Inercial\",\n",
    "  mostrar_leyenda = TRUE,\n",
    "  fuente = \"pop\",\n",
    "  etiqueta_x = \"Año\",\n",
    "  etiqueta_y = \"Porcentaje\",\n",
    "  titulo_leyenda = \"Escenarios\",\n",
    "  limite_inferior_y = 0\n",
    ")\n",
    "\n",
    "ggsave(\"H:/Mi unidad/pgd/graficas/va_cultura_estimada.png\",\n",
    " width = 10, height = 6, dpi = 185, bg = \"white\")"
   ]
  }
 ],
 "metadata": {
  "kernelspec": {
   "display_name": "R",
   "language": "R",
   "name": "ir"
  },
  "language_info": {
   "codemirror_mode": "r",
   "file_extension": ".r",
   "mimetype": "text/x-r-source",
   "name": "R",
   "pygments_lexer": "r",
   "version": "4.4.1"
  }
 },
 "nbformat": 4,
 "nbformat_minor": 5
}
