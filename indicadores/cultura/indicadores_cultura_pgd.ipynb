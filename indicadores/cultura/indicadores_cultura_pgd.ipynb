{
 "cells": [
  {
   "cell_type": "markdown",
   "id": "913b80a751ac3ec6",
   "metadata": {},
   "source": [
    "### Propuesta indicadores cultura\n",
    "#### Indicador del presupuesto de cultura respecto al presupuesto total de la Ciudad de México"
   ]
  },
  {
   "cell_type": "code",
   "execution_count": 1,
   "id": "initial_id",
   "metadata": {
    "ExecuteTime": {
     "end_time": "2025-02-17T03:05:24.588344Z",
     "start_time": "2025-02-17T03:05:22.176510Z"
    },
    "collapsed": true
   },
   "outputs": [],
   "source": [
    "import pandas as pd\n",
    "from selenium import webdriver\n",
    "from selenium.webdriver.common.by import By\n",
    "from selenium.webdriver.chrome.service import Service\n",
    "import os\n",
    "import time\n",
    "from matplotlib import pyplot as plt\n",
    "import requests\n",
    "import zipfile\n",
    "from sklearn.linear_model import LinearRegression\n",
    "import statsmodels.api as sm\n",
    "import numpy as np"
   ]
  },
  {
   "cell_type": "code",
   "execution_count": 2,
   "id": "ae91240ffafadc59",
   "metadata": {
    "ExecuteTime": {
     "end_time": "2025-02-17T03:05:24.599498Z",
     "start_time": "2025-02-17T03:05:24.596463Z"
    }
   },
   "outputs": [],
   "source": [
    "##Descarga de presupuestos aprobados\n",
    "\n",
    "presupuestos={\n",
    "    '2024': 'https://datos.cdmx.gob.mx/dataset/3a6cba97-adb1-4f35-9df1-984cc3657aca/resource/7fa1da81-531c-477c-93db-7580bc1c7ad0/download/egresos_2024_aprobado.csv',\n",
    "    '2023': 'https://datos.cdmx.gob.mx/dataset/ea119a03-4f5a-46fa-afbe-bc32bcf79ec3/resource/5137e3db-227e-462d-8d59-1942afbc0c6a/download/egresos_2023_aprobado.csv',\n",
    "    '2022': 'https://datos.cdmx.gob.mx/dataset/755f47f1-b937-4131-8a7b-fbe306e747c8/resource/fc93c940-ad75-4e7f-afe6-c624726623a9/download/egresos_2022_aprobado.csv',\n",
    "    '2021': 'https://datos.cdmx.gob.mx/dataset/246be014-62ba-46e0-a7ce-9f37c8f01886/resource/682c37bd-96a2-4f78-94bf-3c77c3870f04/download/egresos_2021_aprobado.csv',\n",
    "    '2020':'https://datos.cdmx.gob.mx/dataset/2bb4de63-8212-4d2a-a377-98b10f8384c6/resource/def0fc56-4e26-4cd2-9ec6-200cb86b418e/download/egresos_2020_aprobado.csv',\n",
    "    '2019': 'https://datos.cdmx.gob.mx/dataset/8dc52617-63f6-4bfd-9fae-54239675c6d0/resource/9a6f53d7-1751-4ae4-8bd8-d31807be7789/download/egresos_2019_aprobado.csv',\n",
    "    '2018': 'https://datos.cdmx.gob.mx/dataset/7a8820f2-3bea-4c69-8b20-1d01b1a99a6a/resource/5b20655c-072f-4347-baee-ab93d930b27b/download/egresos_2018_aprobado.csv',\n",
    "}"
   ]
  },
  {
   "cell_type": "code",
   "execution_count": 3,
   "id": "3b0311b161948a61",
   "metadata": {
    "ExecuteTime": {
     "end_time": "2025-02-17T03:05:24.607049Z",
     "start_time": "2025-02-17T03:05:24.603429Z"
    }
   },
   "outputs": [],
   "source": [
    "#Evitar notación científica\n",
    "pd.options.display.float_format = '{:,.2f}'.format"
   ]
  },
  {
   "cell_type": "code",
   "execution_count": 4,
   "id": "a6401bfe93bdcd1c",
   "metadata": {
    "ExecuteTime": {
     "end_time": "2025-02-17T03:05:42.571048Z",
     "start_time": "2025-02-17T03:05:24.610449Z"
    }
   },
   "outputs": [],
   "source": [
    "#Tabla en blanco\n",
    "presupuestos_aprobados=pd.DataFrame()\n",
    "\n",
    "for key in presupuestos:\n",
    "    presupuestos_aprobados=pd.concat([presupuestos_aprobados,pd.read_csv(presupuestos[key], encoding=\"latin-1\", low_memory=False)])"
   ]
  },
  {
   "cell_type": "code",
   "execution_count": 5,
   "id": "d3cc8413e4676753",
   "metadata": {
    "ExecuteTime": {
     "end_time": "2025-02-17T03:05:42.818405Z",
     "start_time": "2025-02-17T03:05:42.796234Z"
    }
   },
   "outputs": [
    {
     "data": {
      "text/html": [
       "<div>\n",
       "<style scoped>\n",
       "    .dataframe tbody tr th:only-of-type {\n",
       "        vertical-align: middle;\n",
       "    }\n",
       "\n",
       "    .dataframe tbody tr th {\n",
       "        vertical-align: top;\n",
       "    }\n",
       "\n",
       "    .dataframe thead th {\n",
       "        text-align: right;\n",
       "    }\n",
       "</style>\n",
       "<table border=\"1\" class=\"dataframe\">\n",
       "  <thead>\n",
       "    <tr style=\"text-align: right;\">\n",
       "      <th></th>\n",
       "      <th>clave_presupuestaria</th>\n",
       "      <th>ciclo</th>\n",
       "      <th>periodo</th>\n",
       "      <th>gobierno_general</th>\n",
       "      <th>desc_gobierno_general</th>\n",
       "      <th>sector</th>\n",
       "      <th>desc_sector</th>\n",
       "      <th>subsector</th>\n",
       "      <th>desc_subsector</th>\n",
       "      <th>unidad_responsable</th>\n",
       "      <th>...</th>\n",
       "      <th>desc_consolidado</th>\n",
       "      <th>detalle_consolidado</th>\n",
       "      <th>desc_detalle_consolidado</th>\n",
       "      <th>proyecto_inv</th>\n",
       "      <th>desc_proy_inv</th>\n",
       "      <th>tipo_proyecto</th>\n",
       "      <th>desc_tipo_proyecto</th>\n",
       "      <th>monto_aprobado</th>\n",
       "      <th>monto_modificado</th>\n",
       "      <th>monto_ejercido</th>\n",
       "    </tr>\n",
       "  </thead>\n",
       "  <tbody>\n",
       "    <tr>\n",
       "      <th>0</th>\n",
       "      <td>401C001131177P02011114011311100</td>\n",
       "      <td>2024</td>\n",
       "      <td>Aprobado</td>\n",
       "      <td>1</td>\n",
       "      <td>Poder Ejecutivo</td>\n",
       "      <td>1</td>\n",
       "      <td>Jefatura de Gobierno</td>\n",
       "      <td>C0</td>\n",
       "      <td>Central</td>\n",
       "      <td>01C001</td>\n",
       "      <td>...</td>\n",
       "      <td>No</td>\n",
       "      <td>0.00</td>\n",
       "      <td>Gasto normal</td>\n",
       "      <td>NaN</td>\n",
       "      <td>NaN</td>\n",
       "      <td>NaN</td>\n",
       "      <td>NaN</td>\n",
       "      <td>25,201,851.00</td>\n",
       "      <td>0.00</td>\n",
       "      <td>0.00</td>\n",
       "    </tr>\n",
       "    <tr>\n",
       "      <th>1</th>\n",
       "      <td>401C001131177P02011114011321100</td>\n",
       "      <td>2024</td>\n",
       "      <td>Aprobado</td>\n",
       "      <td>1</td>\n",
       "      <td>Poder Ejecutivo</td>\n",
       "      <td>1</td>\n",
       "      <td>Jefatura de Gobierno</td>\n",
       "      <td>C0</td>\n",
       "      <td>Central</td>\n",
       "      <td>01C001</td>\n",
       "      <td>...</td>\n",
       "      <td>No</td>\n",
       "      <td>0.00</td>\n",
       "      <td>Gasto normal</td>\n",
       "      <td>NaN</td>\n",
       "      <td>NaN</td>\n",
       "      <td>NaN</td>\n",
       "      <td>NaN</td>\n",
       "      <td>2,200,197.00</td>\n",
       "      <td>0.00</td>\n",
       "      <td>0.00</td>\n",
       "    </tr>\n",
       "    <tr>\n",
       "      <th>2</th>\n",
       "      <td>401C001131177P02011114012111100</td>\n",
       "      <td>2024</td>\n",
       "      <td>Aprobado</td>\n",
       "      <td>1</td>\n",
       "      <td>Poder Ejecutivo</td>\n",
       "      <td>1</td>\n",
       "      <td>Jefatura de Gobierno</td>\n",
       "      <td>C0</td>\n",
       "      <td>Central</td>\n",
       "      <td>01C001</td>\n",
       "      <td>...</td>\n",
       "      <td>No</td>\n",
       "      <td>0.00</td>\n",
       "      <td>Gasto normal</td>\n",
       "      <td>NaN</td>\n",
       "      <td>NaN</td>\n",
       "      <td>NaN</td>\n",
       "      <td>NaN</td>\n",
       "      <td>35,574,335.00</td>\n",
       "      <td>0.00</td>\n",
       "      <td>0.00</td>\n",
       "    </tr>\n",
       "    <tr>\n",
       "      <th>3</th>\n",
       "      <td>401C001131177P02011114012211108</td>\n",
       "      <td>2024</td>\n",
       "      <td>Aprobado</td>\n",
       "      <td>1</td>\n",
       "      <td>Poder Ejecutivo</td>\n",
       "      <td>1</td>\n",
       "      <td>Jefatura de Gobierno</td>\n",
       "      <td>C0</td>\n",
       "      <td>Central</td>\n",
       "      <td>01C001</td>\n",
       "      <td>...</td>\n",
       "      <td>No</td>\n",
       "      <td>8.00</td>\n",
       "      <td>Personal con nombramiento de carÃ¡cter provisi...</td>\n",
       "      <td>NaN</td>\n",
       "      <td>NaN</td>\n",
       "      <td>NaN</td>\n",
       "      <td>NaN</td>\n",
       "      <td>252,548.00</td>\n",
       "      <td>0.00</td>\n",
       "      <td>0.00</td>\n",
       "    </tr>\n",
       "    <tr>\n",
       "      <th>4</th>\n",
       "      <td>401C001131177P02011114012311106</td>\n",
       "      <td>2024</td>\n",
       "      <td>Aprobado</td>\n",
       "      <td>1</td>\n",
       "      <td>Poder Ejecutivo</td>\n",
       "      <td>1</td>\n",
       "      <td>Jefatura de Gobierno</td>\n",
       "      <td>C0</td>\n",
       "      <td>Central</td>\n",
       "      <td>01C001</td>\n",
       "      <td>...</td>\n",
       "      <td>No</td>\n",
       "      <td>6.00</td>\n",
       "      <td>Pagos del capÃ­tulo 1000 diferentes a nÃ³mina ...</td>\n",
       "      <td>NaN</td>\n",
       "      <td>NaN</td>\n",
       "      <td>NaN</td>\n",
       "      <td>NaN</td>\n",
       "      <td>60,000.00</td>\n",
       "      <td>0.00</td>\n",
       "      <td>0.00</td>\n",
       "    </tr>\n",
       "  </tbody>\n",
       "</table>\n",
       "<p>5 rows × 63 columns</p>\n",
       "</div>"
      ],
      "text/plain": [
       "              clave_presupuestaria  ciclo   periodo  gobierno_general  \\\n",
       "0  401C001131177P02011114011311100   2024  Aprobado                 1   \n",
       "1  401C001131177P02011114011321100   2024  Aprobado                 1   \n",
       "2  401C001131177P02011114012111100   2024  Aprobado                 1   \n",
       "3  401C001131177P02011114012211108   2024  Aprobado                 1   \n",
       "4  401C001131177P02011114012311106   2024  Aprobado                 1   \n",
       "\n",
       "  desc_gobierno_general  sector           desc_sector subsector  \\\n",
       "0       Poder Ejecutivo       1  Jefatura de Gobierno        C0   \n",
       "1       Poder Ejecutivo       1  Jefatura de Gobierno        C0   \n",
       "2       Poder Ejecutivo       1  Jefatura de Gobierno        C0   \n",
       "3       Poder Ejecutivo       1  Jefatura de Gobierno        C0   \n",
       "4       Poder Ejecutivo       1  Jefatura de Gobierno        C0   \n",
       "\n",
       "  desc_subsector unidad_responsable  ... desc_consolidado  \\\n",
       "0        Central             01C001  ...               No   \n",
       "1        Central             01C001  ...               No   \n",
       "2        Central             01C001  ...               No   \n",
       "3        Central             01C001  ...               No   \n",
       "4        Central             01C001  ...               No   \n",
       "\n",
       "   detalle_consolidado                           desc_detalle_consolidado  \\\n",
       "0                 0.00                                       Gasto normal   \n",
       "1                 0.00                                       Gasto normal   \n",
       "2                 0.00                                       Gasto normal   \n",
       "3                 8.00  Personal con nombramiento de carÃ¡cter provisi...   \n",
       "4                 6.00  Pagos del capÃ­tulo 1000 diferentes a nÃ³mina ...   \n",
       "\n",
       "   proyecto_inv desc_proy_inv  tipo_proyecto desc_tipo_proyecto  \\\n",
       "0           NaN           NaN            NaN                NaN   \n",
       "1           NaN           NaN            NaN                NaN   \n",
       "2           NaN           NaN            NaN                NaN   \n",
       "3           NaN           NaN            NaN                NaN   \n",
       "4           NaN           NaN            NaN                NaN   \n",
       "\n",
       "   monto_aprobado monto_modificado monto_ejercido  \n",
       "0   25,201,851.00             0.00           0.00  \n",
       "1    2,200,197.00             0.00           0.00  \n",
       "2   35,574,335.00             0.00           0.00  \n",
       "3      252,548.00             0.00           0.00  \n",
       "4       60,000.00             0.00           0.00  \n",
       "\n",
       "[5 rows x 63 columns]"
      ]
     },
     "execution_count": 5,
     "metadata": {},
     "output_type": "execute_result"
    }
   ],
   "source": [
    "presupuestos_aprobados.head()"
   ]
  },
  {
   "cell_type": "code",
   "execution_count": 6,
   "id": "c51e4916fa5bc792",
   "metadata": {
    "ExecuteTime": {
     "end_time": "2025-02-17T03:05:43.099094Z",
     "start_time": "2025-02-17T03:05:43.090564Z"
    }
   },
   "outputs": [
    {
     "data": {
      "text/plain": [
       "array([2024, 2023, 2022, 2021, 2020, 2019, 2018])"
      ]
     },
     "execution_count": 6,
     "metadata": {},
     "output_type": "execute_result"
    }
   ],
   "source": [
    "presupuestos_aprobados[\"ciclo\"].unique()"
   ]
  },
  {
   "cell_type": "code",
   "execution_count": 7,
   "id": "d97fd8cd0772375",
   "metadata": {
    "ExecuteTime": {
     "end_time": "2025-02-17T03:05:43.208014Z",
     "start_time": "2025-02-17T03:05:43.188717Z"
    }
   },
   "outputs": [],
   "source": [
    "presupuestos_aprobados[\"cultural\"] = (\n",
    "    ((presupuestos_aprobados[\"desc_sector\"] == \"Cultura\") & \n",
    "     (presupuestos_aprobados[\"area_funcional\"].isin([242077, 242218, 242220, 183061, 242044])))\n",
    ").astype(int)"
   ]
  },
  {
   "cell_type": "code",
   "execution_count": 8,
   "id": "96238988cfe8b630",
   "metadata": {
    "ExecuteTime": {
     "end_time": "2025-02-17T03:05:43.262916Z",
     "start_time": "2025-02-17T03:05:43.237208Z"
    }
   },
   "outputs": [],
   "source": [
    "# Calcular el presupuesto total por año\n",
    "presupuesto_total_por_ano = presupuestos_aprobados.groupby(\"ciclo\")[\"monto_aprobado\"].sum()\n",
    "\n",
    "gasto_cultural_por_ano = (\n",
    "    presupuestos_aprobados[presupuestos_aprobados[\"cultural\"] == 1]  \n",
    "    .groupby(\"ciclo\")[\"monto_aprobado\"]  \n",
    "    .sum()  \n",
    ")\n",
    "\n",
    "\n",
    "# Calcular el porcentaje del gasto cultural sobre el total\n",
    "porcentaje_cultural = (\n",
    "    gasto_cultural_por_ano / presupuesto_total_por_ano * 100\n",
    ").reset_index(name=\"porcentaje_cultural\")\n",
    "\n",
    "# Crear un DataFrame combinado con los resultados\n",
    "resultado = gasto_cultural_por_ano.reset_index(name=\"gasto_cultural\").merge(\n",
    "    presupuesto_total_por_ano.reset_index(name=\"presupuesto_total_cdmx\"), on=\"ciclo\"\n",
    ")\n",
    "resultado[\"porcentaje_cultural\"] = (\n",
    "    resultado[\"gasto_cultural\"] / resultado[\"presupuesto_total_cdmx\"] * 100\n",
    ")\n",
    "resultado\n",
    "\n",
    "#Salvar el resultado a un archivo CSV\n",
    "resultado.to_csv(\"presup_cultural_cdmx.csv\", index=False)"
   ]
  },
  {
   "cell_type": "code",
   "execution_count": 9,
   "id": "50ea86100f061bed",
   "metadata": {
    "ExecuteTime": {
     "end_time": "2025-02-17T03:05:43.569358Z",
     "start_time": "2025-02-17T03:05:43.388291Z"
    }
   },
   "outputs": [
    {
     "data": {
      "image/png": "[encoded data removed]",
      "text/plain": [
       "<Figure size 640x480 with 1 Axes>"
      ]
     },
     "metadata": {},
     "output_type": "display_data"
    }
   ],
   "source": [
    "fig, ax = plt.subplots()\n",
    "\n",
    "bars = ax.bar(resultado[\"ciclo\"], resultado[\"porcentaje_cultural\"], color=\"skyblue\")\n",
    "\n",
    "\n",
    "ax.set_title(\"Porcentaje del gasto cultural respecto al total\")\n",
    "ax.set_xlabel(\"Año\")\n",
    "ax.set_ylabel(\"Porcentaje\")\n",
    "\n",
    "\n",
    "for bar in bars:\n",
    "    height = bar.get_height()\n",
    "    ax.text(\n",
    "        bar.get_x() + bar.get_width() / 2,  \n",
    "        height + 0.01,  \n",
    "        f'{round(height, 2)}%',  \n",
    "        ha='center', \n",
    "        va='bottom',  \n",
    "        fontsize=10,\n",
    "        color=\"black\"\n",
    "    )\n",
    "\n",
    "plt.tight_layout()\n",
    "\n",
    "\n",
    "ax.spines['top'].set_visible(False)\n",
    "ax.spines['right'].set_visible(False)\n"
   ]
  },
  {
   "cell_type": "markdown",
   "id": "5ed4ed959600d4aa",
   "metadata": {},
   "source": [
    "#### Indicador de valor agregado bruto de Cultura respecto al total de la Ciudad de México"
   ]
  },
  {
   "cell_type": "code",
   "execution_count": 10,
   "id": "ac1dc9775433d9f1",
   "metadata": {
    "ExecuteTime": {
     "end_time": "2025-02-17T03:05:44.691074Z",
     "start_time": "2025-02-17T03:05:43.602401Z"
    }
   },
   "outputs": [],
   "source": [
    "#Webdriver\n",
    "driver = webdriver.Chrome(service=Service('C:/chromedriver.exe'))\n",
    "driver.maximize_window()"
   ]
  },
  {
   "cell_type": "code",
   "execution_count": 11,
   "id": "51e3e88065dc329e",
   "metadata": {
    "ExecuteTime": {
     "end_time": "2025-02-17T03:05:44.701092Z",
     "start_time": "2025-02-17T03:05:44.697584Z"
    }
   },
   "outputs": [],
   "source": [
    "#Establecer directorio de descarga\n",
    "os.chdir(\"C:/Users/claud/Downloads\")"
   ]
  },
  {
   "cell_type": "code",
   "execution_count": 12,
   "id": "a8f64577998cf63f",
   "metadata": {
    "ExecuteTime": {
     "end_time": "2025-02-17T03:05:44.726369Z",
     "start_time": "2025-02-17T03:05:44.721865Z"
    }
   },
   "outputs": [],
   "source": [
    "url=\"https://inegi.org.mx/app/tabulados/default.aspx?pr=22&vr=4&in=90&tp=20&wr=1&cno=1&idrt=3270&opc=p\""
   ]
  },
  {
   "cell_type": "code",
   "execution_count": 13,
   "id": "e7b9e40dd8096cfa",
   "metadata": {
    "ExecuteTime": {
     "end_time": "2025-02-17T03:05:47.106937Z",
     "start_time": "2025-02-17T03:05:44.748172Z"
    }
   },
   "outputs": [],
   "source": [
    "driver.get(url)"
   ]
  },
  {
   "cell_type": "code",
   "execution_count": 14,
   "id": "fd8873598a2c7a08",
   "metadata": {
    "ExecuteTime": {
     "end_time": "2025-02-17T03:05:48.389376Z",
     "start_time": "2025-02-17T03:05:47.122599Z"
    }
   },
   "outputs": [],
   "source": [
    "#Descargar archivo csv\n",
    "driver.find_element(By.ID, 'aCsv').click()\n",
    "time.sleep(1)"
   ]
  },
  {
   "cell_type": "code",
   "execution_count": 15,
   "id": "2359f6187c389033",
   "metadata": {
    "ExecuteTime": {
     "end_time": "2025-02-17T03:05:48.433876Z",
     "start_time": "2025-02-17T03:05:48.406537Z"
    }
   },
   "outputs": [
    {
     "name": "stderr",
     "output_type": "stream",
     "text": [
      "<>:17: SyntaxWarning: invalid escape sequence '\\d'\n",
      "<>:17: SyntaxWarning: invalid escape sequence '\\d'\n",
      "C:\\Users\\claud\\AppData\\Local\\Temp\\ipykernel_23472\\2433605768.py:17: SyntaxWarning: invalid escape sequence '\\d'\n",
      "  df[\"año\"]=df[\"año\"].str.extract(\"(\\d+)\")\n"
     ]
    }
   ],
   "source": [
    "#Leer archivo csv\n",
    "df = pd.read_csv('CSCM_90.csv', encoding='utf-8')\n",
    "#Drop primera fila\n",
    "df=df.drop(0)\n",
    "#Dejar de 36 a 69\n",
    "df=df.iloc[35:67]\n",
    "df.columns=df.columns.str.lower()\n",
    "#Filtrar si concepto es \"Ciudad de México\"\n",
    "df=df[df[\"concepto\"]==\"Ciudad de México\"]\n",
    "#Dejar columnas que contengan \"valor agregado bruto\"\n",
    "df = df[[\"concepto\"] + df.columns[df.columns.str.contains(\"valor agregado bruto\")].tolist()]\n",
    "#Dejar el nombre de \"|\" hacia la izquierda\n",
    "df.columns=df.columns.str.split(\"|\").str[0]\n",
    "#pasar a long\n",
    "df=pd.melt(df, id_vars=[\"concepto\"], var_name=\"año\", value_name=\"valor\")\n",
    "#Eliminar  caracteres especiales en la columna \"año\" para que sean solo números\n",
    "df[\"año\"]=df[\"año\"].str.extract(\"(\\d+)\")\n",
    "df[\"año\"]=df[\"año\"].astype(int)\n",
    "df\n",
    "#Guardar el dataframe en un archivo csv\n",
    "df.to_csv(\"valor_agregado_bruto_cdmx.csv\", index=False)"
   ]
  },
  {
   "cell_type": "code",
   "execution_count": 16,
   "id": "ae2e68412b3fe1ab",
   "metadata": {
    "ExecuteTime": {
     "end_time": "2025-02-17T03:05:48.630475Z",
     "start_time": "2025-02-17T03:05:48.481861Z"
    }
   },
   "outputs": [
    {
     "data": {
      "text/plain": [
       "([<matplotlib.axis.YTick at 0x1c83f3f7890>,\n",
       "  <matplotlib.axis.YTick at 0x1c83f47d450>,\n",
       "  <matplotlib.axis.YTick at 0x1c83f47dbd0>,\n",
       "  <matplotlib.axis.YTick at 0x1c83f47e350>,\n",
       "  <matplotlib.axis.YTick at 0x1c83f47ead0>,\n",
       "  <matplotlib.axis.YTick at 0x1c83f47f250>],\n",
       " [Text(0, 5, '5'),\n",
       "  Text(0, 6, '6'),\n",
       "  Text(0, 7, '7'),\n",
       "  Text(0, 8, '8'),\n",
       "  Text(0, 9, '9'),\n",
       "  Text(0, 10, '10')])"
      ]
     },
     "execution_count": 16,
     "metadata": {},
     "output_type": "execute_result"
    },
    {
     "data": {
      "image/png": "[encoded data removed]",
      "text/plain": [
       "<Figure size 640x480 with 1 Axes>"
      ]
     },
     "metadata": {},
     "output_type": "display_data"
    }
   ],
   "source": [
    "#Gráfica de línea\n",
    "fig, ax = plt.subplots()\n",
    "\n",
    "for concepto, datos in df.groupby(\"concepto\"):\n",
    "    ax.plot(datos[\"año\"], datos[\"valor\"], label=concepto)\n",
    "    \n",
    "ax.set_title(\"Porcentaje de valor agregado bruto de Cultura respecto al total\")\n",
    "ax.set_xlabel(\"Año\")\n",
    "ax.set_ylabel(\"Porcentaje\")\n",
    "\n",
    "\n",
    "\n",
    "ax.spines['top'].set_visible(False)\n",
    "ax.spines['right'].set_visible(False)\n",
    "\n",
    "#90 grados de rotación\n",
    "plt.xticks(rotation=90)\n",
    "#y de 0 a 10\n",
    "plt.yticks(range(5, 11))"
   ]
  },
  {
   "cell_type": "markdown",
   "id": "fcf953616fbc5f79",
   "metadata": {},
   "source": [
    "#### Indicador de población ocupada en actividades culturales en la Ciudad de México"
   ]
  },
  {
   "cell_type": "code",
   "execution_count": 17,
   "id": "a7989c66dffa797d",
   "metadata": {
    "ExecuteTime": {
     "end_time": "2025-02-17T03:05:48.666803Z",
     "start_time": "2025-02-17T03:05:48.662785Z"
    }
   },
   "outputs": [],
   "source": [
    "url=\"https://www.inegi.org.mx/contenidos/programas/ce/2019/Datosabiertos/ce2019_cdmx_csv.zip\""
   ]
  },
  {
   "cell_type": "code",
   "execution_count": 18,
   "id": "8ed2fa6187e42c5c",
   "metadata": {
    "ExecuteTime": {
     "end_time": "2025-02-17T03:05:48.724859Z",
     "start_time": "2025-02-17T03:05:48.719430Z"
    }
   },
   "outputs": [],
   "source": [
    "#Descarga y unzip\n",
    "\n",
    "def download_unzip(url, path):\n",
    "    r = requests.get(url, headers={'User-Agent': 'Mozilla/5.0 (Windows NT 10.0; Win64; x64) AppleWebKit/537.36 (KHTML, like Gecko) Chrome/130.0.0.0 Safari/537.36'})\n",
    "    with open(path, 'wb') as f:\n",
    "        f.write(r.content)\n",
    "    with zipfile.ZipFile(path, 'r') as z:\n",
    "        z.extractall(path.replace('.zip', ''))\n",
    "        #Eliminar el archivo zip\n",
    "    os.remove(path)"
   ]
  },
  {
   "cell_type": "code",
   "execution_count": 19,
   "id": "b8b8c776a37ecff4",
   "metadata": {
    "ExecuteTime": {
     "end_time": "2025-02-17T03:05:48.774053Z",
     "start_time": "2025-02-17T03:05:48.769927Z"
    }
   },
   "outputs": [],
   "source": [
    "#Generar carpeta data\n",
    "os.makedirs(\"data\", exist_ok=True)"
   ]
  },
  {
   "cell_type": "code",
   "execution_count": 20,
   "id": "cd697a9b4a6cf679",
   "metadata": {
    "ExecuteTime": {
     "end_time": "2025-02-17T03:05:55.326640Z",
     "start_time": "2025-02-17T03:05:48.794652Z"
    }
   },
   "outputs": [],
   "source": [
    "#Descarga y unzip en data\n",
    "download_unzip(url, \"data/ce2019_cdmx_csv.zip\")"
   ]
  },
  {
   "cell_type": "code",
   "execution_count": 21,
   "id": "e24e9e14b2eff038",
   "metadata": {
    "ExecuteTime": {
     "end_time": "2025-02-17T03:05:56.261362Z",
     "start_time": "2025-02-17T03:05:55.345173Z"
    }
   },
   "outputs": [],
   "source": [
    "## Leer datos\n",
    "censoeco = (\n",
    "    pd.read_csv(\n",
    "        \"data/ce2019_cdmx_csv/conjunto_de_datos/ce2019_cdmx.csv\",\n",
    "        sep=\",\",\n",
    "        low_memory=False,\n",
    "        index_col=False\n",
    "    )\n",
    "#Limpieza\n",
    "    .rename(columns=lambda x: x.strip().lower())  #Renombrar\n",
    "    #Filtros y selección de variables de interés\n",
    "    .query(\"id_estrato.isnull()\")\n",
    "    .query(\"codigo == ' ' or codigo == '71'\")\n",
    "    .query(\"municipio == ' '\")\n",
    "    .loc[:, [\"codigo\", \"h001a\"]]\n",
    "    .T\n",
    ")\n",
    "\n",
    "# Renombrar columnas\n",
    "censoeco.columns = censoeco.iloc[0]\n",
    "censoeco = (\n",
    "    censoeco.iloc[1:]  # Eliminar primera fila\n",
    "    .rename(columns={\" \": \"total\", \"71\": \"culturales\"})\n",
    "    .assign(porcentaje=lambda df: df[\"culturales\"].astype(float) / df[\"total\"].astype(float) * 100)  # Calcular porcentaje\n",
    ")\n",
    "\n",
    "censoeco\n",
    "# Guardar el DataFrame en un archivo CSV\n",
    "censoeco.to_csv(\"censo_eco_cdmx.csv\", index=False)"
   ]
  },
  {
   "cell_type": "markdown",
   "id": "aa4f9dc700180485",
   "metadata": {},
   "source": [
    "### Estimación de metas\n",
    "Indicador de presupuesto\n",
    "\n",
    "\n",
    "\n",
    "\n",
    "\n",
    "\n",
    "\n",
    "\n",
    "\n",
    "\n",
    "\n",
    "\n",
    "\n",
    "\n",
    "\n",
    "\n",
    "\n",
    "\n",
    "\n",
    "\n",
    "\n",
    "\n",
    "\n",
    "\n",
    "\n",
    "\n",
    "\n",
    "\n",
    "\n",
    "\n",
    "\n",
    "\n",
    "\n",
    "\n",
    "\n",
    "\n",
    "\n",
    "\n",
    "\n",
    "\n",
    "\n",
    "\n",
    "\n",
    "\n",
    "\n",
    "\n",
    "\n",
    "\n",
    "\n",
    "\n",
    "\n",
    "\n",
    "\n",
    "\n",
    "\n",
    "\n",
    "\n",
    "\n",
    "\n",
    "\n",
    "\n",
    "\n",
    "\n",
    "\n",
    "\n",
    "\n",
    "\n",
    "\n",
    "\n",
    "\n",
    "\n",
    "\n",
    "\n",
    "\n",
    "\n",
    "\n",
    "\n",
    "\n",
    "\n",
    "\n",
    "\n",
    "\n",
    "\n",
    "\n",
    "\n",
    "\n",
    "\n",
    "\n",
    "\n",
    "\n",
    "\n",
    "\n",
    "\n",
    "\n",
    "\n",
    "\n",
    "\n",
    "\n",
    "\n",
    "\n",
    "\n",
    "\n",
    "\n",
    "\n",
    "\n",
    "\n",
    "\n",
    "\n",
    "\n",
    "\n",
    "\n",
    "\n",
    "\n",
    "\n",
    "\n",
    "\n",
    "\n",
    "\n",
    "\n",
    "\n",
    "\n",
    "\n",
    "\n",
    "\n",
    "\n",
    "\n",
    "\n",
    "\n",
    "\n",
    "\n",
    "\n",
    "\n",
    "\n",
    "\n",
    "\n",
    "\n",
    "\n",
    "\n",
    "\n",
    "\n",
    "\n",
    "\n",
    "\n",
    "\n",
    "\n",
    "\n",
    "\n",
    "\n",
    "\n",
    "\n",
    "\n",
    "\n",
    "\n",
    "\n",
    "\n",
    "\n",
    "\n",
    "\n",
    "\n",
    "\n",
    "\n",
    "\n",
    "\n",
    "\n",
    "\n",
    "\n",
    "\n",
    "\n",
    "\n",
    "\n",
    "\n",
    "\n",
    "\n",
    "\n",
    "\n",
    "\n",
    "\n",
    "\n",
    "\n",
    "\n",
    "\n",
    "\n",
    "\n",
    "\n",
    "\n",
    "\n",
    "\n",
    "\n",
    "\n",
    "\n",
    "\n",
    "\n",
    "\n",
    "\n",
    "\n",
    "\n",
    "\n",
    "\n",
    "\n",
    "\n",
    "\n",
    "\n",
    "\n",
    "\n",
    "\n",
    "\n",
    "\n",
    "\n",
    "\n",
    "\n",
    "\n",
    "\n",
    "\n",
    "\n",
    "\n",
    "\n",
    "\n",
    "\n",
    "\n",
    "\n",
    "\n",
    "\n",
    "\n",
    "\n",
    "\n",
    "\n",
    "\n",
    "\n",
    "\n",
    "\n",
    "\n",
    "\n",
    "\n",
    "\n",
    "\n",
    "\n",
    "\n",
    "\n",
    "\n",
    "\n",
    "\n",
    "\n",
    "\n",
    "\n",
    "\n",
    "\n",
    "\n",
    "\n",
    "\n",
    "\n",
    "\n",
    "\n",
    "\n",
    "\n",
    "\n",
    "\n",
    "\n",
    "\n",
    "\n",
    "\n",
    "\n",
    "\n",
    "\n",
    "\n",
    "\n",
    "\n",
    "\n",
    "\n",
    "\n",
    "\n",
    "\n",
    "\n",
    "\n",
    "\n",
    "\n",
    "\n",
    "\n",
    "\n",
    "\n",
    "\n",
    "\n",
    "\n",
    "\n",
    "\n",
    "\n",
    "\n",
    "\n",
    "\n",
    "\n",
    "\n",
    "\n",
    "\n",
    "\n",
    "\n",
    "\n",
    "\n",
    "\n",
    "\n",
    "\n",
    "\n",
    "\n",
    "\n",
    "\n",
    "\n",
    "\n",
    "\n",
    "\n",
    "\n",
    "\n",
    "\n",
    "\n",
    "\n",
    "\n",
    "\n",
    "\n",
    "\n",
    "\n",
    "\n",
    "\n",
    "\n",
    "\n",
    "\n",
    "\n",
    "\n",
    "\n",
    "\n",
    "\n",
    "\n",
    "\n",
    "\n",
    "\n",
    "\n",
    "\n",
    "\n",
    "\n",
    "\n",
    "\n",
    "\n",
    "\n",
    "\n",
    "\n",
    "\n",
    "\n",
    "\n",
    "\n",
    "\n",
    "\n",
    "\n",
    "\n",
    "\n",
    "\n",
    "\n",
    "\n",
    "\n",
    "\n",
    "\n",
    "\n",
    "\n",
    "\n",
    "\n",
    "\n",
    "\n",
    "\n",
    "\n",
    "\n",
    "\n",
    "\n",
    "\n",
    "\n",
    "\n",
    "\n",
    "\n",
    "\n",
    "\n",
    "\n",
    "\n",
    "\n",
    "\n",
    "\n",
    "\n",
    "\n",
    "\n",
    "\n",
    "\n",
    "\n",
    "\n",
    "\n",
    "\n",
    "\n",
    "\n",
    "\n",
    "\n",
    "\n",
    "\n",
    "\n",
    "\n",
    "\n",
    "\n",
    "\n",
    "\n",
    "\n",
    "\n",
    "\n",
    "\n",
    "\n",
    "\n",
    "\n",
    "\n",
    "\n",
    "\n",
    "\n",
    "\n",
    "\n",
    "\n",
    "\n",
    "\n",
    "\n",
    "\n",
    "\n",
    "\n",
    "\n",
    "\n",
    "\n",
    "\n",
    "\n",
    "\n",
    "\n",
    "\n",
    "\n",
    "\n",
    "\n",
    "\n",
    "\n",
    "\n",
    "\n",
    "\n",
    "\n",
    "\n",
    "\n",
    "\n",
    "\n",
    "\n",
    "\n",
    "\n",
    "\n",
    "\n",
    "\n",
    "\n",
    "\n",
    "\n",
    "\n",
    "\n",
    "\n",
    "\n",
    "\n",
    "\n",
    "\n",
    "\n",
    "\n",
    "\n",
    "\n",
    "\n",
    "\n",
    "\n",
    "\n",
    "\n",
    "\n",
    "\n",
    "\n",
    "\n",
    "\n",
    "\n",
    "\n",
    "\n",
    "\n",
    "\n",
    "\n",
    "\n",
    "\n",
    "\n",
    "\n",
    "\n",
    "\n",
    "\n",
    "\n",
    "\n",
    "\n",
    "\n",
    "\n",
    "\n",
    "\n",
    "\n",
    "\n",
    "\n",
    "\n",
    "\n",
    "\n",
    "\n",
    "\n",
    "\n",
    "\n",
    "\n",
    "\n",
    "\n",
    "\n",
    "\n",
    "\n",
    "\n",
    "\n",
    "\n",
    "\n",
    "\n",
    "\n",
    "\n",
    "\n",
    "\n",
    "\n",
    "\n",
    "\n",
    "\n",
    "\n",
    "\n",
    "\n",
    "\n",
    "\n",
    "\n",
    "\n",
    "\n",
    "\n",
    "\n",
    "\n",
    "\n",
    "\n",
    "\n",
    "\n",
    "\n",
    "\n",
    "\n",
    "\n",
    "\n",
    "\n",
    "\n",
    "\n",
    "\n",
    "\n",
    "\n",
    "\n",
    "\n",
    "\n",
    "\n",
    "\n",
    "\n",
    "\n",
    "\n",
    "\n",
    "\n",
    "\n",
    "\n",
    "\n",
    "\n",
    "\n",
    "\n",
    "\n",
    "\n",
    "\n",
    "\n",
    "\n",
    "\n",
    "\n",
    "\n",
    "\n",
    "\n",
    "\n",
    "\n",
    "\n",
    "\n",
    "\n",
    "\n",
    "\n",
    "\n",
    "\n",
    "\n",
    "\n",
    "\n",
    "\n",
    "\n",
    "\n",
    "\n",
    "\n",
    "\n",
    "\n",
    "\n",
    "\n",
    "\n",
    "\n",
    "\n",
    "\n",
    "\n",
    "\n",
    "\n",
    "\n",
    "\n",
    "\n",
    "\n",
    "\n",
    "\n",
    "\n",
    "\n",
    "\n",
    "\n",
    "\n",
    "\n",
    "\n",
    "\n",
    "\n",
    "\n",
    "\n"
   ]
  },
  {
   "cell_type": "code",
   "execution_count": 22,
   "id": "f5a3081a83e9c479",
   "metadata": {
    "ExecuteTime": {
     "end_time": "2025-02-17T03:05:56.315074Z",
     "start_time": "2025-02-17T03:05:56.311898Z"
    }
   },
   "outputs": [],
   "source": [
    "os.chdir(\"C:/Users/claud/Documents/GitHub/pgd_cdmx/indicadores/cultura\")"
   ]
  },
  {
   "cell_type": "code",
   "execution_count": 23,
   "id": "8f74bcf627f92354",
   "metadata": {
    "ExecuteTime": {
     "end_time": "2025-02-17T03:20:13.305445Z",
     "start_time": "2025-02-17T03:20:13.300816Z"
    }
   },
   "outputs": [
    {
     "data": {
      "text/html": [
       "<div>\n",
       "<style scoped>\n",
       "    .dataframe tbody tr th:only-of-type {\n",
       "        vertical-align: middle;\n",
       "    }\n",
       "\n",
       "    .dataframe tbody tr th {\n",
       "        vertical-align: top;\n",
       "    }\n",
       "\n",
       "    .dataframe thead th {\n",
       "        text-align: right;\n",
       "    }\n",
       "</style>\n",
       "<table border=\"1\" class=\"dataframe\">\n",
       "  <thead>\n",
       "    <tr style=\"text-align: right;\">\n",
       "      <th></th>\n",
       "      <th>ciclo</th>\n",
       "      <th>gasto_cultural</th>\n",
       "      <th>presupuesto_total_cdmx</th>\n",
       "      <th>porcentaje_cultural</th>\n",
       "    </tr>\n",
       "  </thead>\n",
       "  <tbody>\n",
       "    <tr>\n",
       "      <th>0</th>\n",
       "      <td>2020</td>\n",
       "      <td>321,207,940.00</td>\n",
       "      <td>238,974,793,216.00</td>\n",
       "      <td>0.13</td>\n",
       "    </tr>\n",
       "    <tr>\n",
       "      <th>1</th>\n",
       "      <td>2021</td>\n",
       "      <td>220,652,365.00</td>\n",
       "      <td>217,962,157,170.00</td>\n",
       "      <td>0.10</td>\n",
       "    </tr>\n",
       "    <tr>\n",
       "      <th>2</th>\n",
       "      <td>2022</td>\n",
       "      <td>225,378,707.00</td>\n",
       "      <td>234,005,875,723.00</td>\n",
       "      <td>0.10</td>\n",
       "    </tr>\n",
       "    <tr>\n",
       "      <th>3</th>\n",
       "      <td>2023</td>\n",
       "      <td>688,615,665.00</td>\n",
       "      <td>248,415,083,383.00</td>\n",
       "      <td>0.28</td>\n",
       "    </tr>\n",
       "    <tr>\n",
       "      <th>4</th>\n",
       "      <td>2024</td>\n",
       "      <td>954,158,234.00</td>\n",
       "      <td>267,965,350,437.00</td>\n",
       "      <td>0.36</td>\n",
       "    </tr>\n",
       "  </tbody>\n",
       "</table>\n",
       "</div>"
      ],
      "text/plain": [
       "   ciclo  gasto_cultural  presupuesto_total_cdmx  porcentaje_cultural\n",
       "0   2020  321,207,940.00      238,974,793,216.00                 0.13\n",
       "1   2021  220,652,365.00      217,962,157,170.00                 0.10\n",
       "2   2022  225,378,707.00      234,005,875,723.00                 0.10\n",
       "3   2023  688,615,665.00      248,415,083,383.00                 0.28\n",
       "4   2024  954,158,234.00      267,965,350,437.00                 0.36"
      ]
     },
     "execution_count": 23,
     "metadata": {},
     "output_type": "execute_result"
    }
   ],
   "source": [
    "resultado"
   ]
  },
  {
   "cell_type": "code",
   "execution_count": 24,
   "id": "5cde75f53364cb69",
   "metadata": {
    "ExecuteTime": {
     "end_time": "2025-02-17T03:20:16.597859Z",
     "start_time": "2025-02-17T03:20:16.589090Z"
    }
   },
   "outputs": [
    {
     "name": "stdout",
     "output_type": "stream",
     "text": [
      "                            OLS Regression Results                            \n",
      "==============================================================================\n",
      "Dep. Variable:                      y   R-squared:                       0.699\n",
      "Model:                            OLS   Adj. R-squared:                  0.598\n",
      "Method:                 Least Squares   F-statistic:                     6.959\n",
      "Date:                Sun, 03 Aug 2025   Prob (F-statistic):             0.0778\n",
      "Time:                        20:26:00   Log-Likelihood:                 7.1849\n",
      "No. Observations:                   5   AIC:                            -10.37\n",
      "Df Residuals:                       3   BIC:                            -11.15\n",
      "Df Model:                           1                                         \n",
      "Covariance Type:            nonrobust                                         \n",
      "==============================================================================\n",
      "                 coef    std err          t      P>|t|      [0.025      0.975]\n",
      "------------------------------------------------------------------------------\n",
      "const       -125.0291     47.467     -2.634      0.078    -276.091      26.032\n",
      "x1             0.0619      0.023      2.638      0.078      -0.013       0.137\n",
      "==============================================================================\n",
      "Omnibus:                          nan   Durbin-Watson:                   1.691\n",
      "Prob(Omnibus):                    nan   Jarque-Bera (JB):                0.524\n",
      "Skew:                          -0.614   Prob(JB):                        0.769\n",
      "Kurtosis:                       1.995   Cond. No.                     2.89e+06\n",
      "==============================================================================\n",
      "\n",
      "Notes:\n",
      "[1] Standard Errors assume that the covariance matrix of the errors is correctly specified.\n",
      "[2] The condition number is large, 2.89e+06. This might indicate that there are\n",
      "strong multicollinearity or other numerical problems.\n"
     ]
    },
    {
     "name": "stderr",
     "output_type": "stream",
     "text": [
      "c:\\Users\\claud\\miniconda3\\Lib\\site-packages\\statsmodels\\stats\\stattools.py:74: ValueWarning: omni_normtest is not valid with less than 8 observations; 5 samples were given.\n",
      "  warn(\"omni_normtest is not valid with less than 8 observations; %i \"\n"
     ]
    }
   ],
   "source": [
    "X = resultado[\"ciclo\"].values.reshape(-1, 1)  # Variable independiente (año)\n",
    "y = resultado[\"porcentaje_cultural\"].values   # Variable dependiente\n",
    "\n",
    "# Agregar una constante para usar Statsmodels\n",
    "X_sm = sm.add_constant(X)\n",
    "\n",
    "# Entrenar el modelo con Statsmodels\n",
    "model_sm = sm.OLS(y, X_sm).fit()\n",
    "\n",
    "# Mostrar el resumen del modelo\n",
    "print(model_sm.summary())\n",
    "\n",
    "\n",
    "# Entrenar el modelo de regresión lineal\n",
    "model = LinearRegression()\n",
    "fit=model.fit(X, y)"
   ]
  },
  {
   "cell_type": "code",
   "execution_count": 25,
   "id": "966eb68e6dba0cb",
   "metadata": {
    "ExecuteTime": {
     "end_time": "2025-02-17T03:20:20.786446Z",
     "start_time": "2025-02-17T03:20:20.783175Z"
    }
   },
   "outputs": [],
   "source": [
    "# Predecir para los años 2025 a 2045\n",
    "future_years = np.arange(2025, 2046).reshape(-1, 1)\n",
    "future_predictions = model.predict(future_years)\n",
    "\n",
    "# Crear un DataFrame con las predicciones\n",
    "predictions_df = pd.DataFrame({\n",
    "    \"ciclo\": future_years.flatten(),\n",
    "    \"porcentaje_cultural\": future_predictions\n",
    "})\n",
    "#Guardar las predicciones en un archivo CSV\n",
    "predictions_df.to_csv(\"pred_presup_cultural_cdmx.csv\", index=False)"
   ]
  },
  {
   "cell_type": "code",
   "execution_count": 26,
   "id": "f04be837cda934d8",
   "metadata": {
    "ExecuteTime": {
     "end_time": "2025-02-17T03:20:22.670286Z",
     "start_time": "2025-02-17T03:20:22.664429Z"
    }
   },
   "outputs": [
    {
     "data": {
      "text/html": [
       "<div>\n",
       "<style scoped>\n",
       "    .dataframe tbody tr th:only-of-type {\n",
       "        vertical-align: middle;\n",
       "    }\n",
       "\n",
       "    .dataframe tbody tr th {\n",
       "        vertical-align: top;\n",
       "    }\n",
       "\n",
       "    .dataframe thead th {\n",
       "        text-align: right;\n",
       "    }\n",
       "</style>\n",
       "<table border=\"1\" class=\"dataframe\">\n",
       "  <thead>\n",
       "    <tr style=\"text-align: right;\">\n",
       "      <th></th>\n",
       "      <th>ciclo</th>\n",
       "      <th>porcentaje_cultural</th>\n",
       "    </tr>\n",
       "  </thead>\n",
       "  <tbody>\n",
       "    <tr>\n",
       "      <th>5</th>\n",
       "      <td>2030</td>\n",
       "      <td>0.69</td>\n",
       "    </tr>\n",
       "    <tr>\n",
       "      <th>10</th>\n",
       "      <td>2035</td>\n",
       "      <td>1.00</td>\n",
       "    </tr>\n",
       "    <tr>\n",
       "      <th>20</th>\n",
       "      <td>2045</td>\n",
       "      <td>1.62</td>\n",
       "    </tr>\n",
       "  </tbody>\n",
       "</table>\n",
       "</div>"
      ],
      "text/plain": [
       "    ciclo  porcentaje_cultural\n",
       "5    2030                 0.69\n",
       "10   2035                 1.00\n",
       "20   2045                 1.62"
      ]
     },
     "execution_count": 26,
     "metadata": {},
     "output_type": "execute_result"
    }
   ],
   "source": [
    "#Mostrar 2030, 2035 y 2045\n",
    "predictions_df.query(\"ciclo in [2030, 2035, 2045]\")"
   ]
  },
  {
   "cell_type": "code",
   "execution_count": 27,
   "id": "84600ba6ce740d8d",
   "metadata": {
    "ExecuteTime": {
     "end_time": "2025-02-17T03:21:04.016532Z",
     "start_time": "2025-02-17T03:21:03.809659Z"
    }
   },
   "outputs": [
    {
     "data": {
      "image/png": "[encoded data removed]",
      "text/plain": [
       "<Figure size 1000x500 with 1 Axes>"
      ]
     },
     "metadata": {},
     "output_type": "display_data"
    }
   ],
   "source": [
    "plt.figure(figsize=(10, 5))\n",
    "plt.scatter(resultado[\"ciclo\"], resultado[\"porcentaje_cultural\"], color='blue', label=\"Datos reales\")\n",
    "plt.plot(future_years, future_predictions, color='red', linestyle='dashed', label=\"Predicción\")\n",
    "plt.xlabel(\"Año\")\n",
    "plt.ylabel(\"Porcentaje Cultural\")\n",
    "plt.title(\"Proyección de porcentaje de gasto cultural respecto al total presupuestado, 2025-2045\",fontweight=\"bold\")\n",
    "plt.legend()\n",
    "#Línea horizontal en 2024\n",
    "plt.axvline(2025, linestyle=\"--\", color=\"black\")\n",
    "plt.grid(True)\n",
    "plt.gca().spines['top'].set_visible(False)\n",
    "plt.gca().spines['right'].set_visible(False)\n",
    "\n",
    "\n",
    "#Salvar gráfica\n",
    "plt.savefig(\"gasto_cultural.png\", dpi=200, bbox_inches=\"tight\")"
   ]
  },
  {
   "cell_type": "markdown",
   "id": "b8e9e25ab4fbc02d",
   "metadata": {},
   "source": [
    "Indicador de valor agregado bruto\n"
   ]
  },
  {
   "cell_type": "code",
   "execution_count": 28,
   "id": "6a01b5f4171a40ee",
   "metadata": {
    "ExecuteTime": {
     "end_time": "2025-02-17T03:05:56.912800Z",
     "start_time": "2025-02-17T03:05:56.906232Z"
    }
   },
   "outputs": [
    {
     "data": {
      "text/html": [
       "<div>\n",
       "<style scoped>\n",
       "    .dataframe tbody tr th:only-of-type {\n",
       "        vertical-align: middle;\n",
       "    }\n",
       "\n",
       "    .dataframe tbody tr th {\n",
       "        vertical-align: top;\n",
       "    }\n",
       "\n",
       "    .dataframe thead th {\n",
       "        text-align: right;\n",
       "    }\n",
       "</style>\n",
       "<table border=\"1\" class=\"dataframe\">\n",
       "  <thead>\n",
       "    <tr style=\"text-align: right;\">\n",
       "      <th></th>\n",
       "      <th>concepto</th>\n",
       "      <th>año</th>\n",
       "      <th>valor</th>\n",
       "    </tr>\n",
       "  </thead>\n",
       "  <tbody>\n",
       "    <tr>\n",
       "      <th>0</th>\n",
       "      <td>Ciudad de México</td>\n",
       "      <td>2008</td>\n",
       "      <td>8.42</td>\n",
       "    </tr>\n",
       "    <tr>\n",
       "      <th>1</th>\n",
       "      <td>Ciudad de México</td>\n",
       "      <td>2009</td>\n",
       "      <td>8.70</td>\n",
       "    </tr>\n",
       "    <tr>\n",
       "      <th>2</th>\n",
       "      <td>Ciudad de México</td>\n",
       "      <td>2010</td>\n",
       "      <td>8.27</td>\n",
       "    </tr>\n",
       "  </tbody>\n",
       "</table>\n",
       "</div>"
      ],
      "text/plain": [
       "           concepto   año  valor\n",
       "0  Ciudad de México  2008   8.42\n",
       "1  Ciudad de México  2009   8.70\n",
       "2  Ciudad de México  2010   8.27"
      ]
     },
     "execution_count": 28,
     "metadata": {},
     "output_type": "execute_result"
    }
   ],
   "source": [
    "df_predict=df.copy()\n",
    "\n",
    "df_predict.head(3)"
   ]
  },
  {
   "cell_type": "code",
   "execution_count": 29,
   "id": "d80150049f8fecda",
   "metadata": {
    "ExecuteTime": {
     "end_time": "2025-02-17T03:05:56.982084Z",
     "start_time": "2025-02-17T03:05:56.974910Z"
    }
   },
   "outputs": [
    {
     "data": {
      "text/plain": [
       "np.float64(0.012576820319465387)"
      ]
     },
     "execution_count": 29,
     "metadata": {},
     "output_type": "execute_result"
    }
   ],
   "source": [
    "#Tasa de crecimiento promedio anual de 2020 a 2023\n",
    "#Se establece este supuesto para establecer metas positivas hacia el futuro\n",
    "tcma_valor = ((df_predict.query(\"año == 2023\")[\"valor\"].values[0] / df_predict.query(\"año == 2020\")[\"valor\"].values[0]) ** (1 / 3) - 1)\n",
    "tcma_valor"
   ]
  },
  {
   "cell_type": "code",
   "execution_count": 30,
   "id": "c98b3bf667ae6a4c",
   "metadata": {
    "ExecuteTime": {
     "end_time": "2025-02-17T03:05:57.091316Z",
     "start_time": "2025-02-17T03:05:57.045528Z"
    }
   },
   "outputs": [],
   "source": [
    "# Estimar valores de 2025 a 2045\n",
    "for year in range(2024, 2046):\n",
    "    if year not in df_predict[\"año\"].values:\n",
    "        df_predict = pd.concat([df_predict, pd.DataFrame({\n",
    "            \"concepto\": [\"Ciudad de México\"],\n",
    "            \"año\": [year],\n",
    "            \"valor\": [np.nan]  # Usa np.nan en lugar de None\n",
    "        })], ignore_index=True)\n",
    "        \n",
    "    # Verificar que el año anterior tenga un valor válido antes de calcular\n",
    "    if not df_predict.loc[df_predict[\"año\"] == year - 1, \"valor\"].isna().any():\n",
    "        df_predict.loc[df_predict[\"año\"] == year, \"valor\"] = (\n",
    "            df_predict.loc[df_predict[\"año\"] == year - 1, \"valor\"].values[0] * (1 + tcma_valor)\n",
    "        )\n",
    "\n",
    "df_predict\n",
    "\n",
    "#Guardar el DataFrame con las proyecciones en un archivo CSV\n",
    "df_predict.to_csv(\"valor_agregado_bruto_cdmx_proyecciones.csv\", index=False)"
   ]
  },
  {
   "cell_type": "code",
   "execution_count": 31,
   "id": "85b11f4f6f6c424c",
   "metadata": {
    "ExecuteTime": {
     "end_time": "2025-02-17T03:09:24.989741Z",
     "start_time": "2025-02-17T03:09:24.764863Z"
    }
   },
   "outputs": [
    {
     "data": {
      "image/png": "[encoded data removed]",
      "text/plain": [
       "<Figure size 640x480 with 1 Axes>"
      ]
     },
     "metadata": {},
     "output_type": "display_data"
    }
   ],
   "source": [
    "#Gráfica de año y valor\n",
    "\n",
    "fig, ax = plt.subplots()\n",
    "\n",
    "plt.scatter(df[\"año\"], df[\"valor\"], color='blue', label=\"Datos reales\")\n",
    "#filtrar df_predict para dejar solo los años 2025 a 2045 y hacer la gráfica\n",
    "plt.plot(df_predict.query(\"año >= 2025\")[\"año\"], df_predict.query(\"año >= 2025\")[\"valor\"], color='red', linestyle='dashed', label=\"Predicción\")\n",
    "plt.xlabel(\"Año\")\n",
    "plt.ylabel(\"Porcentaje\")\n",
    "plt.title(\"Proyección de Porcentaje de valor agregado bruto de cultura CDMX sobre total utilizando tasa de crecimiento 2020-2023, 2024-2045\",fontweight=\"bold\")\n",
    "plt.legend()\n",
    "#Línea horizontal en 2024\n",
    "plt.axvline(2024, linestyle=\"--\", color=\"black\")\n",
    "plt.grid(True)\n",
    "#Sin borde superior y derecho\n",
    "plt.gca().spines['top'].set_visible(False)\n",
    "plt.gca().spines['right'].set_visible(False)\n",
    "\n",
    "\n",
    "#Salvar gráfica\n",
    "plt.savefig(\"valor_agregado_bruto_cultura_tcma.png\", dpi=200, bbox_inches=\"tight\")"
   ]
  },
  {
   "cell_type": "code",
   "execution_count": 32,
   "id": "1d8c32df70528c1",
   "metadata": {
    "ExecuteTime": {
     "end_time": "2025-02-17T03:05:57.434012Z",
     "start_time": "2025-02-17T03:05:57.418837Z"
    }
   },
   "outputs": [
    {
     "name": "stdout",
     "output_type": "stream",
     "text": [
      "                            OLS Regression Results                            \n",
      "==============================================================================\n",
      "Dep. Variable:                      y   R-squared:                       0.875\n",
      "Model:                            OLS   Adj. R-squared:                  0.866\n",
      "Method:                 Least Squares   F-statistic:                     98.17\n",
      "Date:                Sun, 03 Aug 2025   Prob (F-statistic):           1.05e-07\n",
      "Time:                        20:26:01   Log-Likelihood:                 2.3391\n",
      "No. Observations:                  16   AIC:                           -0.6782\n",
      "Df Residuals:                      14   BIC:                            0.8670\n",
      "Df Model:                           1                                         \n",
      "Covariance Type:            nonrobust                                         \n",
      "==============================================================================\n",
      "                 coef    std err          t      P>|t|      [0.025      0.975]\n",
      "------------------------------------------------------------------------------\n",
      "const        249.5686     24.429     10.216      0.000     197.173     301.964\n",
      "x1            -0.1201      0.012     -9.908      0.000      -0.146      -0.094\n",
      "==============================================================================\n",
      "Omnibus:                        0.917   Durbin-Watson:                   1.272\n",
      "Prob(Omnibus):                  0.632   Jarque-Bera (JB):                0.846\n",
      "Skew:                           0.386   Prob(JB):                        0.655\n",
      "Kurtosis:                       2.180   Cond. No.                     8.81e+05\n",
      "==============================================================================\n",
      "\n",
      "Notes:\n",
      "[1] Standard Errors assume that the covariance matrix of the errors is correctly specified.\n",
      "[2] The condition number is large, 8.81e+05. This might indicate that there are\n",
      "strong multicollinearity or other numerical problems.\n"
     ]
    },
    {
     "name": "stderr",
     "output_type": "stream",
     "text": [
      "c:\\Users\\claud\\miniconda3\\Lib\\site-packages\\scipy\\stats\\_axis_nan_policy.py:430: UserWarning: `kurtosistest` p-value may be inaccurate with fewer than 20 observations; only n=16 observations were given.\n",
      "  return hypotest_fun_in(*args, **kwds)\n"
     ]
    }
   ],
   "source": [
    "#Hacer modelo de regresión lineal para contrastar\n",
    "X = df[\"año\"].values.reshape(-1, 1)\n",
    "y = df[\"valor\"].values\n",
    "\n",
    "#Usar statsmodels\n",
    "X_sm = sm.add_constant(X)\n",
    "model_sm = sm.OLS(y, X_sm).fit()\n",
    "\n",
    "#Mostrar resumen\n",
    "print(model_sm.summary())"
   ]
  },
  {
   "cell_type": "code",
   "execution_count": 33,
   "id": "afa5fe0f41bde667",
   "metadata": {
    "ExecuteTime": {
     "end_time": "2025-02-17T03:05:57.450570Z",
     "start_time": "2025-02-17T03:05:57.446400Z"
    }
   },
   "outputs": [],
   "source": [
    "#Entrenar modelo de regresión lineal\n",
    "model = LinearRegression()\n",
    "fit=model.fit(X, y)\n"
   ]
  },
  {
   "cell_type": "code",
   "execution_count": 34,
   "id": "d133556a2ab4de47",
   "metadata": {
    "ExecuteTime": {
     "end_time": "2025-02-17T03:05:57.487228Z",
     "start_time": "2025-02-17T03:05:57.482370Z"
    }
   },
   "outputs": [],
   "source": [
    "# Predecir para los años 2024 a 2045\n",
    "future_years = np.arange(2024, 2046).reshape(-1, 1)\n",
    "future_predictions = model.predict(future_years)\n",
    "\n",
    "# Crear un DataFrame con las predicciones\n",
    "predictions_df = pd.DataFrame({\n",
    "    \"año\": future_years.flatten(),\n",
    "    \"valor\": future_predictions\n",
    "})\n"
   ]
  },
  {
   "cell_type": "code",
   "execution_count": 35,
   "id": "963d4df291d4ca2c",
   "metadata": {
    "ExecuteTime": {
     "end_time": "2025-02-17T03:05:57.544529Z",
     "start_time": "2025-02-17T03:05:57.534923Z"
    }
   },
   "outputs": [
    {
     "data": {
      "text/html": [
       "<div>\n",
       "<style scoped>\n",
       "    .dataframe tbody tr th:only-of-type {\n",
       "        vertical-align: middle;\n",
       "    }\n",
       "\n",
       "    .dataframe tbody tr th {\n",
       "        vertical-align: top;\n",
       "    }\n",
       "\n",
       "    .dataframe thead th {\n",
       "        text-align: right;\n",
       "    }\n",
       "</style>\n",
       "<table border=\"1\" class=\"dataframe\">\n",
       "  <thead>\n",
       "    <tr style=\"text-align: right;\">\n",
       "      <th></th>\n",
       "      <th>año</th>\n",
       "      <th>valor</th>\n",
       "    </tr>\n",
       "  </thead>\n",
       "  <tbody>\n",
       "    <tr>\n",
       "      <th>6</th>\n",
       "      <td>2030</td>\n",
       "      <td>5.77</td>\n",
       "    </tr>\n",
       "    <tr>\n",
       "      <th>11</th>\n",
       "      <td>2035</td>\n",
       "      <td>5.17</td>\n",
       "    </tr>\n",
       "    <tr>\n",
       "      <th>21</th>\n",
       "      <td>2045</td>\n",
       "      <td>3.97</td>\n",
       "    </tr>\n",
       "  </tbody>\n",
       "</table>\n",
       "</div>"
      ],
      "text/plain": [
       "     año  valor\n",
       "6   2030   5.77\n",
       "11  2035   5.17\n",
       "21  2045   3.97"
      ]
     },
     "execution_count": 35,
     "metadata": {},
     "output_type": "execute_result"
    }
   ],
   "source": [
    "#Mostrar 2030, 2035 y 2045\n",
    "predictions_df.query(\"año in [2030, 2035, 2045]\")"
   ]
  },
  {
   "cell_type": "code",
   "execution_count": 36,
   "id": "af8168cdf0beb8aa",
   "metadata": {
    "ExecuteTime": {
     "end_time": "2025-02-17T03:10:07.270828Z",
     "start_time": "2025-02-17T03:10:07.039602Z"
    }
   },
   "outputs": [
    {
     "data": {
      "image/png": "[encoded data removed]",
      "text/plain": [
       "<Figure size 1000x500 with 1 Axes>"
      ]
     },
     "metadata": {},
     "output_type": "display_data"
    }
   ],
   "source": [
    "plt.figure(figsize=(10, 5))\n",
    "plt.scatter(df[\"año\"], df[\"valor\"], color='blue', label=\"Datos reales\")\n",
    "plt.plot(future_years, future_predictions, color='red', linestyle='dashed', label=\"Predicción\")\n",
    "plt.xlabel(\"Año\")\n",
    "plt.ylabel(\"Porcentaje\")\n",
    "plt.title(\"Proyección de porcentaje de valor agregado bruto de cultura CDMX sobre total utilizando regresión lineal, 2024-2045\",fontweight=\"bold\")\n",
    "plt.legend()\n",
    "plt.grid(True)\n",
    "plt.axvline(2024, linestyle=\"--\", color=\"black\")\n",
    "\n",
    "#Sin borde superior y derecho\n",
    "plt.gca().spines['top'].set_visible(False)\n",
    "plt.gca().spines['right'].set_visible(False)\n",
    "\n",
    "#Salvar gráfica\n",
    "plt.savefig(\"valor_agregado_bruto_cultura_regresion.png\", dpi=200, bbox_inches=\"tight\")"
   ]
  }
 ],
 "metadata": {
  "kernelspec": {
   "display_name": "base",
   "language": "python",
   "name": "python3"
  },
  "language_info": {
   "codemirror_mode": {
    "name": "ipython",
    "version": 3
   },
   "file_extension": ".py",
   "mimetype": "text/x-python",
   "name": "python",
   "nbconvert_exporter": "python",
   "pygments_lexer": "ipython3",
   "version": "3.13.2"
  }
 },
 "nbformat": 4,
 "nbformat_minor": 5
}
