{
 "cells": [
  {
   "cell_type": "code",
   "execution_count": 1,
   "id": "a7acbb7a3ebb34d3",
   "metadata": {
    "jupyter": {
     "is_executing": true
    },
    "vscode": {
     "languageId": "r"
    }
   },
   "outputs": [
    {
     "name": "stderr",
     "output_type": "stream",
     "text": [
      "Cargando paquete requerido: pacman\n",
      "\n",
      "Using GitHub PAT from the git credential store.\n",
      "\n",
      "Downloading GitHub repo cpyp-ipdp/funcionespgd@HEAD\n",
      "\n"
     ]
    },
    {
     "name": "stdout",
     "output_type": "stream",
     "text": [
      "rlang  (1.1.4 -> 1.1.6) [CRAN]\n",
      "glue   (1.7.0 -> 1.8.0) [CRAN]\n",
      "cli    (3.6.3 -> 3.6.5) [CRAN]\n",
      "tibble (3.2.1 -> 3.3.0) [CRAN]\n"
     ]
    },
    {
     "name": "stderr",
     "output_type": "stream",
     "text": [
      "Installing 4 packages: rlang, glue, cli, tibble\n",
      "\n",
      "Warning message:\n",
      "\"package 'tibble' is in use and will not be installed\"\n",
      "Installing packages into 'C:/Users/claud/AppData/Local/R/win-library/4.4'\n",
      "(as 'lib' is unspecified)\n",
      "\n"
     ]
    },
    {
     "name": "stdout",
     "output_type": "stream",
     "text": [
      "package 'rlang' successfully unpacked and MD5 sums checked\n"
     ]
    },
    {
     "name": "stderr",
     "output_type": "stream",
     "text": [
      "Warning message:\n",
      "\"cannot remove prior installation of package 'rlang'\"\n",
      "Warning message in file.copy(savedcopy, lib, recursive = TRUE):\n",
      "\"problema al copiar C:\\Users\\claud\\AppData\\Local\\R\\win-library\\4.4\\00LOCK\\rlang\\libs\\x64\\rlang.dll  a C:\\Users\\claud\\AppData\\Local\\R\\win-library\\4.4\\rlang\\libs\\x64\\rlang.dll: Permission denied\"\n",
      "Warning message:\n",
      "\"restored 'rlang'\"\n"
     ]
    },
    {
     "name": "stdout",
     "output_type": "stream",
     "text": [
      "package 'glue' successfully unpacked and MD5 sums checked\n"
     ]
    },
    {
     "name": "stderr",
     "output_type": "stream",
     "text": [
      "Warning message:\n",
      "\"cannot remove prior installation of package 'glue'\"\n",
      "Warning message in file.copy(savedcopy, lib, recursive = TRUE):\n",
      "\"problema al copiar C:\\Users\\claud\\AppData\\Local\\R\\win-library\\4.4\\00LOCK\\glue\\libs\\x64\\glue.dll  a C:\\Users\\claud\\AppData\\Local\\R\\win-library\\4.4\\glue\\libs\\x64\\glue.dll: Permission denied\"\n",
      "Warning message:\n",
      "\"restored 'glue'\"\n"
     ]
    },
    {
     "name": "stdout",
     "output_type": "stream",
     "text": [
      "package 'cli' successfully unpacked and MD5 sums checked\n"
     ]
    },
    {
     "name": "stderr",
     "output_type": "stream",
     "text": [
      "Warning message:\n",
      "\"cannot remove prior installation of package 'cli'\"\n",
      "Warning message in file.copy(savedcopy, lib, recursive = TRUE):\n",
      "\"problema al copiar C:\\Users\\claud\\AppData\\Local\\R\\win-library\\4.4\\00LOCK\\cli\\libs\\x64\\cli.dll  a C:\\Users\\claud\\AppData\\Local\\R\\win-library\\4.4\\cli\\libs\\x64\\cli.dll: Permission denied\"\n",
      "Warning message:\n",
      "\"restored 'cli'\"\n"
     ]
    },
    {
     "name": "stdout",
     "output_type": "stream",
     "text": [
      "\n",
      "The downloaded binary packages are in\n",
      "\tC:\\Users\\claud\\AppData\\Local\\Temp\\RtmpEn5FXg\\downloaded_packages\n",
      "\u001b[36m──\u001b[39m \u001b[36mR CMD build\u001b[39m \u001b[36m─────────────────────────────────────────────────────────────────\u001b[39m\n",
      "* checking for file 'C:\\Users\\claud\\AppData\\Local\\Temp\\RtmpEn5FXg\\remotesb600516226b6\\cpyp-ipdp-funcionespgd-6fd64b9/DESCRIPTION' ... OK\n",
      "* preparing 'funcionespgd':\n",
      "* checking DESCRIPTION meta-information ... OK\n",
      "* checking for LF line-endings in source and make files and shell scripts\n",
      "* checking for empty or unneeded directories\n",
      "Omitted 'LazyData' from DESCRIPTION\n",
      "* building 'funcionespgd_0.1.0.tar.gz'\n",
      "\n"
     ]
    },
    {
     "name": "stderr",
     "output_type": "stream",
     "text": [
      "Installing package into 'C:/Users/claud/AppData/Local/R/win-library/4.4'\n",
      "(as 'lib' is unspecified)\n",
      "\n"
     ]
    }
   ],
   "source": [
    "##Estimación de indicadores de mujeres\n",
    "#Se borra todo lo que se encuentra en el entorno\n",
    "\n",
    "rm(list=ls())\n",
    "\n",
    "# Librerías ====\n",
    "if(!require('pacman')) install.packages('pacman')\n",
    "pacman::p_load(tidyverse,lubridate, showtext,srvyr,foreign)\n",
    "font_add_google(\"Poppins\", \"pop\")\n",
    "showtext_auto()\n",
    "remotes::install_github(\"cpyp-ipdp/funcionespgd\", force = TRUE)\n",
    "library(funcionespgd)"
   ]
  },
  {
   "cell_type": "code",
   "execution_count": 2,
   "id": "e87b856b3e2fd57e",
   "metadata": {
    "ExecuteTime": {
     "end_time": "2025-03-04T17:18:12.624742Z",
     "start_time": "2025-03-04T17:16:07.651549Z"
    },
    "vscode": {
     "languageId": "r"
    }
   },
   "outputs": [
    {
     "name": "stderr",
     "output_type": "stream",
     "text": [
      "\u001b[1mRows: \u001b[22m\u001b[34m1415763\u001b[39m \u001b[1mColumns: \u001b[22m\u001b[34m22\u001b[39m\n",
      "\u001b[36m──\u001b[39m \u001b[1mColumn specification\u001b[22m \u001b[36m────────────────────────────────────────────────────────\u001b[39m\n",
      "\u001b[1mDelimiter:\u001b[22m \",\"\n",
      "\u001b[31mchr\u001b[39m  (13): mes_inicio, mes_hecho, delito, categoria_delito, sexo, tipo_perso...\n",
      "\u001b[32mdbl\u001b[39m   (5): anio_inicio, anio_hecho, edad, latitud, longitud\n",
      "\u001b[34mdate\u001b[39m  (2): fecha_inicio, fecha_hecho\n",
      "\u001b[34mtime\u001b[39m  (2): hora_inicio, hora_hecho\n",
      "\n",
      "\u001b[36mℹ\u001b[39m Use `spec()` to retrieve the full column specification for this data.\n",
      "\u001b[36mℹ\u001b[39m Specify the column types or set `show_col_types = FALSE` to quiet this message.\n"
     ]
    }
   ],
   "source": [
    "##Víctimas en carpetas de investigación\n",
    "victimas<-read_csv('https://archivo.datos.cdmx.gob.mx/FGJ/victimas/victimasFGJ_acumulado_2024_09.csv')%>%\n",
    "janitor::clean_names()%>%\n",
    "#Filtrar mujeres\n",
    "filter(sexo == 'Femenino',\n",
    "       tipo_persona=='FISICA',\n",
    "       alcaldia_hecho != 'FUERA DE CDMX')%>%\n",
    "#Clasificar delitos con perspectiva de género\n",
    "mutate(\n",
    "    perspectiva_genero = case_when(delito %in% c('ABUSO SEXUAL',\n",
    "                                                 'ACOSO SEXUAL',\n",
    "                                                 'ACOSO SEXUAL AGRAVADO EN CONTRA DE MENORES',\n",
    "                                                 'CONTRA LA INTIMIDAD SEXUAL',\n",
    "                                                 'FEMINICIDIO',\n",
    "                                                 'FEMINICIDIO POR ARMA BLANCA',\n",
    "                                                 'FEMINICIDIO POR DISPARO DE ARMA DE FUEGO',\n",
    "                                                 'FEMINICIDIO POR GOLPES',\n",
    "                                                 'HOMICIDIO POR ARMA BLANCA',\n",
    "                                                 'HOMICIDIO POR ARMA DE FUEGO',\n",
    "                                                 'HOMICIDIO POR GOLPES',\n",
    "                                                 'HOMICIDIOS INTENCIONALES (OTROS)',\n",
    "                                                 'LESIONES INTENCIONALES',\n",
    "                                                 'LESIONES INTENCIONALES POR ARMA BLANCA',\n",
    "                                                 'LESIONES INTENCIONALES POR ARMA DE FUEGO',\n",
    "                                                  'LESIONES INTENCIONALES POR GOLPES',\n",
    "                                                 'PLAGIO O SECUESTRO',\n",
    "                                                 'TRATA DE PERSONAS',\n",
    "                                                 'VIOLACION',\n",
    "                                                 'VIOLACION EQUIPARADA',\n",
    "                                                 'VIOLACION EQUIPARADA POR CONOCIDO',\n",
    "                                                 'VIOLACION TUMULTUARIA',\n",
    "                                                 'VIOLENCIA FAMILIAR') ~ 1,\n",
    "                            TRUE ~ 0))%>%\n",
    "#Dejar solo aquellos que han sido víctimas\n",
    "  filter(calidad_juridica %in% c(\n",
    "    'OFENDIDO',\n",
    "    'VICTIMA Y DENUNCIANTE',\n",
    "    'VICTIMA',\n",
    "    'OFENDIDO Y DENUNCIANTE',\n",
    "    'CADAVER',\n",
    "    'AGRAVIADO',\n",
    "    'LESIONADO',\n",
    "    'DENUNCIANTE Y VICTIMA'\n",
    "  ))%>%\n",
    "#Clasificar por delito general\n",
    "mutate(\n",
    "    delito_general = case_when(delito %in% c('ABUSO SEXUAL') ~ \"ABUSO SEXUAL\",\n",
    "                                delito %in% c('ACOSO SEXUAL', 'ACOSO SEXUAL AGRAVADO EN CONTRA DE MENORES') ~ \"ACOSO SEXUAL\",\n",
    "                                delito %in% c('CONTRA LA INTIMIDAD SEXUAL') ~ \"CONTRA LA INTIMIDAD SEXUAL\",\n",
    "                                delito %in% c('FEMINICIDIO', 'FEMINICIDIO POR ARMA BLANCA', 'FEMINICIDIO POR DISPARO DE ARMA DE FUEGO', 'FEMINICIDIO POR GOLPES') ~ \"FEMINICIDIO\",\n",
    "                                delito %in% c('HOMICIDIO POR ARMA BLANCA', 'HOMICIDIO POR ARMA DE FUEGO', 'HOMICIDIO POR GOLPES', 'HOMICIDIOS INTENCIONALES (OTROS)') ~ \"HOMICIDIO DOLOSO\",\n",
    "                                delito %in% c('LESIONES INTENCIONALES', 'LESIONES INTENCIONALES POR ARMA BLANCA', 'LESIONES INTENCIONALES POR ARMA DE FUEGO', 'LESIONES INTENCIONALES POR GOLPES') ~ \"LESIONES DOLOSAS\",\n",
    "                                delito %in% c('PLAGIO O SECUESTRO') ~ \"SECUESTRO\",\n",
    "                                delito %in% c('TRATA DE PERSONAS') ~ \"TRATA DE PERSONAS\",\n",
    "                                delito %in% c('VIOLACION', 'VIOLACION EQUIPARADA', 'VIOLACION EQUIPARADA POR CONOCIDO', 'VIOLACION TUMULTUARIA') ~ \"VIOLACION\",\n",
    "                                delito %in% c('VIOLENCIA FAMILIAR') ~ \"VIOLENCIA FAMILIAR\",\n",
    "                                TRUE ~ \"OTROS\"\n",
    "    ))\n",
    "\n"
   ]
  },
  {
   "cell_type": "code",
   "execution_count": 3,
   "id": "8191517e466d01c6",
   "metadata": {
    "ExecuteTime": {
     "end_time": "2025-03-04T17:18:12.747548Z",
     "start_time": "2025-03-04T17:18:12.682563Z"
    },
    "vscode": {
     "languageId": "r"
    }
   },
   "outputs": [
    {
     "data": {
      "text/html": [
       "<table class=\"dataframe\">\n",
       "<caption>A tibble: 6 × 3</caption>\n",
       "<thead>\n",
       "\t<tr><th scope=col>year</th><th scope=col>vict</th><th scope=col>promedio_diario</th></tr>\n",
       "\t<tr><th scope=col>&lt;dbl&gt;</th><th scope=col>&lt;int&gt;</th><th scope=col>&lt;dbl&gt;</th></tr>\n",
       "</thead>\n",
       "<tbody>\n",
       "\t<tr><td>2019</td><td>28658</td><td> 78.51507</td></tr>\n",
       "\t<tr><td>2020</td><td>26082</td><td> 71.45753</td></tr>\n",
       "\t<tr><td>2021</td><td>37095</td><td>101.63014</td></tr>\n",
       "\t<tr><td>2022</td><td>40431</td><td>110.76986</td></tr>\n",
       "\t<tr><td>2023</td><td>40775</td><td>111.71233</td></tr>\n",
       "\t<tr><td>2024</td><td>29962</td><td> 82.08767</td></tr>\n",
       "</tbody>\n",
       "</table>\n"
      ],
      "text/latex": [
       "A tibble: 6 × 3\n",
       "\\begin{tabular}{lll}\n",
       " year & vict & promedio\\_diario\\\\\n",
       " <dbl> & <int> & <dbl>\\\\\n",
       "\\hline\n",
       "\t 2019 & 28658 &  78.51507\\\\\n",
       "\t 2020 & 26082 &  71.45753\\\\\n",
       "\t 2021 & 37095 & 101.63014\\\\\n",
       "\t 2022 & 40431 & 110.76986\\\\\n",
       "\t 2023 & 40775 & 111.71233\\\\\n",
       "\t 2024 & 29962 &  82.08767\\\\\n",
       "\\end{tabular}\n"
      ],
      "text/markdown": [
       "\n",
       "A tibble: 6 × 3\n",
       "\n",
       "| year &lt;dbl&gt; | vict &lt;int&gt; | promedio_diario &lt;dbl&gt; |\n",
       "|---|---|---|\n",
       "| 2019 | 28658 |  78.51507 |\n",
       "| 2020 | 26082 |  71.45753 |\n",
       "| 2021 | 37095 | 101.63014 |\n",
       "| 2022 | 40431 | 110.76986 |\n",
       "| 2023 | 40775 | 111.71233 |\n",
       "| 2024 | 29962 |  82.08767 |\n",
       "\n"
      ],
      "text/plain": [
       "  year vict  promedio_diario\n",
       "1 2019 28658  78.51507      \n",
       "2 2020 26082  71.45753      \n",
       "3 2021 37095 101.63014      \n",
       "4 2022 40431 110.76986      \n",
       "5 2023 40775 111.71233      \n",
       "6 2024 29962  82.08767      "
      ]
     },
     "metadata": {},
     "output_type": "display_data"
    }
   ],
   "source": [
    "#Víctimas anual\n",
    "\n",
    "vict_pg<-victimas%>%\n",
    "filter(perspectiva_genero==1, anio_inicio>2018)%>%\n",
    "group_by(anio_inicio)%>%\n",
    "summarise(vict=n())%>%\n",
    "#Calcular promedio diario de acuerdo al año\n",
    "mutate(promedio_diario=vict/365)%>%\n",
    "rename(year=anio_inicio)\n",
    "vict_pg"
   ]
  },
  {
   "cell_type": "code",
   "execution_count": 4,
   "id": "2fbb372acc0bfc32",
   "metadata": {
    "ExecuteTime": {
     "end_time": "2025-03-04T17:18:12.795428Z",
     "start_time": "2025-03-04T17:18:12.764879Z"
    },
    "vscode": {
     "languageId": "r"
    }
   },
   "outputs": [
    {
     "data": {
      "text/html": [
       "<table class=\"dataframe\">\n",
       "<caption>A tibble: 6 × 3</caption>\n",
       "<thead>\n",
       "\t<tr><th scope=col>year</th><th scope=col>vict</th><th scope=col>promedio_diario</th></tr>\n",
       "\t<tr><th scope=col>&lt;dbl&gt;</th><th scope=col>&lt;int&gt;</th><th scope=col>&lt;dbl&gt;</th></tr>\n",
       "</thead>\n",
       "<tbody>\n",
       "\t<tr><td>2019</td><td>70</td><td>0.1917808</td></tr>\n",
       "\t<tr><td>2020</td><td>70</td><td>0.1917808</td></tr>\n",
       "\t<tr><td>2021</td><td>61</td><td>0.1671233</td></tr>\n",
       "\t<tr><td>2022</td><td>78</td><td>0.2136986</td></tr>\n",
       "\t<tr><td>2023</td><td>63</td><td>0.1726027</td></tr>\n",
       "\t<tr><td>2024</td><td>43</td><td>0.1178082</td></tr>\n",
       "</tbody>\n",
       "</table>\n"
      ],
      "text/latex": [
       "A tibble: 6 × 3\n",
       "\\begin{tabular}{lll}\n",
       " year & vict & promedio\\_diario\\\\\n",
       " <dbl> & <int> & <dbl>\\\\\n",
       "\\hline\n",
       "\t 2019 & 70 & 0.1917808\\\\\n",
       "\t 2020 & 70 & 0.1917808\\\\\n",
       "\t 2021 & 61 & 0.1671233\\\\\n",
       "\t 2022 & 78 & 0.2136986\\\\\n",
       "\t 2023 & 63 & 0.1726027\\\\\n",
       "\t 2024 & 43 & 0.1178082\\\\\n",
       "\\end{tabular}\n"
      ],
      "text/markdown": [
       "\n",
       "A tibble: 6 × 3\n",
       "\n",
       "| year &lt;dbl&gt; | vict &lt;int&gt; | promedio_diario &lt;dbl&gt; |\n",
       "|---|---|---|\n",
       "| 2019 | 70 | 0.1917808 |\n",
       "| 2020 | 70 | 0.1917808 |\n",
       "| 2021 | 61 | 0.1671233 |\n",
       "| 2022 | 78 | 0.2136986 |\n",
       "| 2023 | 63 | 0.1726027 |\n",
       "| 2024 | 43 | 0.1178082 |\n",
       "\n"
      ],
      "text/plain": [
       "  year vict promedio_diario\n",
       "1 2019 70   0.1917808      \n",
       "2 2020 70   0.1917808      \n",
       "3 2021 61   0.1671233      \n",
       "4 2022 78   0.2136986      \n",
       "5 2023 63   0.1726027      \n",
       "6 2024 43   0.1178082      "
      ]
     },
     "metadata": {},
     "output_type": "display_data"
    }
   ],
   "source": [
    "#Víctimas de feminicidio\n",
    "vict_fem<-victimas%>%\n",
    "filter(delito_general=='FEMINICIDIO', anio_inicio>2018)%>%\n",
    "group_by(anio_inicio)%>%\n",
    "summarise(vict=n())%>%\n",
    "#Calcular promedio diario de acuerdo al año\n",
    "mutate(promedio_diario=vict/365)%>%\n",
    "rename(year=anio_inicio)\n",
    "vict_fem"
   ]
  },
  {
   "cell_type": "markdown",
   "id": "6b76a313dbf48ca7",
   "metadata": {},
   "source": [
    "### Seguridad y violencia"
   ]
  },
  {
   "cell_type": "markdown",
   "id": "b05e2efe02abe9ac",
   "metadata": {},
   "source": [
    "### Episodios de violencia contra las mujeres"
   ]
  },
  {
   "cell_type": "code",
   "execution_count": 5,
   "id": "c9eb9edeb94ac9ad",
   "metadata": {
    "ExecuteTime": {
     "end_time": "2025-03-04T17:18:12.883618Z",
     "start_time": "2025-03-04T17:18:12.872319Z"
    },
    "vscode": {
     "languageId": "r"
    }
   },
   "outputs": [],
   "source": [
    "urls<-c(\"https://www.inegi.org.mx/contenidos/programas/endireh/2021/microdatos/bd_endireh_2021_csv.zip\",\n",
    "        \"https://www.inegi.org.mx/contenidos/programas/endireh/2016/microdatos/bd_mujeres_endireh2016_sitioinegi_csv.zip\")"
   ]
  },
  {
   "cell_type": "code",
   "execution_count": 6,
   "id": "3374b037602cdcd2",
   "metadata": {
    "ExecuteTime": {
     "end_time": "2025-03-04T17:24:39.754235Z",
     "start_time": "2025-03-04T17:24:39.736134Z"
    },
    "vscode": {
     "languageId": "r"
    }
   },
   "outputs": [
    {
     "data": {
      "text/html": [
       "'c:/Users/claud/Documents/GitHub/pgd_cdmx/indicadores/mujeres'"
      ],
      "text/latex": [
       "'c:/Users/claud/Documents/GitHub/pgd\\_cdmx/indicadores/mujeres'"
      ],
      "text/markdown": [
       "'c:/Users/claud/Documents/GitHub/pgd_cdmx/indicadores/mujeres'"
      ],
      "text/plain": [
       "[1] \"c:/Users/claud/Documents/GitHub/pgd_cdmx/indicadores/mujeres\""
      ]
     },
     "metadata": {},
     "output_type": "display_data"
    }
   ],
   "source": [
    "getwd()"
   ]
  },
  {
   "cell_type": "code",
   "execution_count": 7,
   "id": "ba26f0acd16cd68b",
   "metadata": {
    "ExecuteTime": {
     "end_time": "2025-03-04T17:22:34.246622Z",
     "start_time": "2025-03-04T17:22:34.227233Z"
    },
    "vscode": {
     "languageId": "r"
    }
   },
   "outputs": [],
   "source": [
    "#Crear carpeta \"endireh\" en \"datos\"\n",
    "if (!dir.exists(\"datos/endireh\")) {\n",
    "  dir.create(\"datos/endireh\")\n",
    "}"
   ]
  },
  {
   "cell_type": "code",
   "execution_count": 8,
   "id": "c529311e78ff84f8",
   "metadata": {
    "ExecuteTime": {
     "end_time": "2025-03-04T17:20:29.091222Z",
     "start_time": "2025-03-04T17:18:13.129059Z"
    },
    "vscode": {
     "languageId": "r"
    }
   },
   "outputs": [],
   "source": [
    "#Descargar, descomprimir y borrar zip en la carpeta \"datos\"\n",
    "options(timeout = 900)\n",
    "for (i in 1:length(urls)){\n",
    "  temp <- tempfile()\n",
    "  download.file(urls[i], temp, mode = \"wb\")\n",
    "  unzip(temp, exdir = \"datos/endireh\")\n",
    "  unlink(temp)\n",
    "}\n"
   ]
  },
  {
   "cell_type": "code",
   "execution_count": 9,
   "id": "8ea9c905677124dd",
   "metadata": {
    "ExecuteTime": {
     "end_time": "2025-03-04T17:20:29.124454600Z",
     "start_time": "2025-02-23T21:17:22.888175Z"
    },
    "vscode": {
     "languageId": "r"
    }
   },
   "outputs": [],
   "source": [
    "estima_violencia <- function(year) {\n",
    "  # Seleccionar archivo base según el año\n",
    "  archivo <- switch(as.character(year),\n",
    "                    \"2021\" = \"bd_endireh_2021.csv\",\n",
    "                    \"2016\" = \"bd_mujeres_endireh2016_sitioinegi.csv\",\n",
    "                    stop(\"Año no válido. Prueba con 2021 o 2016.\")\n",
    "  )\n",
    "\n",
    "  # Definir ruta base según el año\n",
    "  ruta_base <- ifelse(year == 2021,\n",
    "                      \"datos/endireh/bd_endireh_2021_csv/\",\n",
    "                      \"datos/endireh/bd_mujeres_endireh2016_sitioinegi_csv/\")\n",
    "\n",
    "  # Cargar tabla principal\n",
    "  tabla_violencia <- read_csv(paste0(ruta_base, \"TB_SEC_IV.csv\")) %>%\n",
    "    janitor::clean_names()\n",
    "\n",
    "  # Definir secciones a unir\n",
    "  romanos <- c(\"V\", \"VI\", \"VII\", \"VIII\", \"IX\", \"X\", \"XI\", \"XII\",\n",
    "               \"XIII\", \"XIV\", \"XV\", \"XVI\")\n",
    "\n",
    "  # Incluir XIV_2 solo si el año es 2021\n",
    "  if (year == 2021) {\n",
    "    romanos <- c(romanos, \"XIV_2\")\n",
    "  }\n",
    "\n",
    "  # Unir todas las secciones\n",
    "  for (i in romanos) {\n",
    "    tabla <- read_csv(paste0(ruta_base, \"TB_SEC_\", i, \".csv\")) %>%\n",
    "      janitor::clean_names()\n",
    "\n",
    "    tabla_violencia <- left_join(tabla_violencia, tabla,\n",
    "                                 c(\"upm\",\"estrato\",\"upm_dis\",\"est_dis\",\"fac_muj\", \"viv_sel\", \"hogar\",\"fac_viv\",\"id_viv\",\"cve_ent\",\"nom_ent\"))\n",
    "  }\n",
    "\n",
    "\n",
    "  #Clasificar violencia en los últimos 12 meses\n",
    "tabla_violencia <- tabla_violencia %>%\n",
    "  mutate(\n",
    "    violencia_muj = case_when(\n",
    "      p7_8_1 %in% c('1', '2', '3') | p7_8_2 %in% c('1', '2', '3') |\n",
    "      p7_8_3 %in% c('1', '2', '3') | p7_8_4 %in% c('1', '2', '3') |\n",
    "      p7_8_5 %in% c('1', '2', '3') | p7_8_6 %in% c('1', '2', '3') |\n",
    "      p7_8_7 %in% c('1', '2', '3') | p7_8_8 %in% c('1', '2', '3') |\n",
    "      p7_8_9 %in% c('1', '2', '3') | p7_8_10 %in% c('1', '2', '3') |\n",
    "      p7_8_11 %in% c('1', '2', '3') | p7_8_12 %in% c('1', '2', '3') |\n",
    "      p7_8_13 %in% c('1', '2', '3') | p7_8_14 %in% c('1', '2', '3') |\n",
    "      p7_8_15 %in% c('1', '2', '3') | p7_8_16 %in% c('1', '2', '3') |\n",
    "      p7_8_17 %in% c('1', '2', '3') | p7_8_18 %in% c('1', '2', '3') |\n",
    "      p8_8_1 %in% c('1') | p8_8_2 %in% c('1') |\n",
    "        p8_8_3 %in% c('1') | p8_8_4 %in% c('1') |\n",
    "        p8_8_5 %in% c('1') | p8_8_6 %in% c('1') |\n",
    "        p8_8_7 %in% c('1') | p8_8_8 %in% c('1') |\n",
    "        p8_8_9 %in% c('1') |\n",
    "        p8_11_1 %in% c('1', '2', '3') | p8_11_2 %in% c('1', '2', '3') |\n",
    "        p8_11_3 %in% c('1', '2', '3') | p8_11_4 %in% c('1', '2', '3') |\n",
    "        p8_11_5 %in% c('1', '2', '3') | p8_11_6 %in% c('1', '2', '3') |\n",
    "        p8_11_7 %in% c('1', '2', '3') | p8_11_8 %in% c('1', '2', '3') |\n",
    "      p8_11_9 %in% c('1', '2', '3') | p8_11_10 %in% c('1', '2', '3') |\n",
    "      p8_11_11 %in% c('1', '2', '3') | p8_11_12 %in% c('1', '2', '3') |\n",
    "      p8_11_13 %in% c('1', '2', '3') | p8_11_14 %in% c('1', '2', '3') |\n",
    "      p8_11_15 %in% c('1', '2', '3') | p8_11_16 %in% c('1', '2', '3') |\n",
    "      p8_11_17 %in% c('1', '2', '3') | p8_11_18 %in% c('1', '2', '3') |\n",
    "      p8_11_19 %in% c('1', '2', '3') | p9_3_1 %in% c('1', '2', '3') |\n",
    "      p9_3_2 %in% c('1', '2', '3') | p9_3_3 %in% c('1', '2', '3') |\n",
    "      p9_3_4 %in% c('1', '2', '3') | p9_3_5 %in% c('1', '2', '3') |\n",
    "      p9_3_6 %in% c('1', '2', '3') | p9_3_7 %in% c('1', '2', '3') |\n",
    "      p9_3_8 %in% c('1', '2', '3') | p9_3_9 %in% c('1', '2', '3') |\n",
    "      p9_3_10 %in% c('1', '2', '3') | p9_3_11 %in% c('1', '2', '3') |\n",
    "      p9_3_12 %in% c('1', '2', '3') | p9_3_13 %in% c('1', '2', '3') |\n",
    "      p9_3_14 %in% c('1', '2', '3') | p9_3_15 %in% c('1', '2', '3') |\n",
    "      p9_3_16 %in% c('1', '2', '3') | p11_1_1 %in% c('1', '2', '3') |\n",
    "      p11_1_2 %in% c('1', '2', '3') | p11_1_3 %in% c('1', '2', '3') |\n",
    "      p11_1_4 %in% c('1', '2', '3') | p11_1_5 %in% c('1', '2', '3') |\n",
    "      p11_1_6 %in% c('1', '2', '3') | p11_1_7 %in% c('1', '2', '3') |\n",
    "      p11_1_8 %in% c('1', '2', '3') | p11_1_9 %in% c('1', '2', '3') |\n",
    "      p11_1_10 %in% c('1', '2', '3') | p11_1_11 %in% c('1', '2', '3') |\n",
    "      p11_1_12 %in% c('1', '2', '3') | p11_1_13 %in% c('1', '2', '3') |\n",
    "      p11_1_14 %in% c('1', '2', '3') | p11_1_15 %in% c('1', '2', '3') |\n",
    "      p11_1_16 %in% c('1', '2', '3') | p11_1_17 %in% c('1', '2', '3') |\n",
    "      p11_1_18 %in% c('1', '2', '3') | p11_1_19 %in% c('1', '2', '3') |\n",
    "      p11_1_20 %in% c('1', '2', '3') | p14_3_1 %in% c('1', '2', '3') |\n",
    "      p14_3_2 %in% c('1', '2', '3') | p14_3_3 %in% c('1', '2', '3') |\n",
    "      p14_3_4 %in% c('1', '2', '3') | p14_3_5 %in% c('1', '2', '3') |\n",
    "      p14_3_6 %in% c('1', '2', '3') | p14_3_7 %in% c('1', '2', '3') |\n",
    "      p14_3_8 %in% c('1', '2', '3') | p14_3_9 %in% c('1', '2', '3') |\n",
    "      p14_3_10 %in% c('1', '2', '3') | p14_3_11 %in% c('1', '2', '3') |\n",
    "      p14_3_12 %in% c('1', '2', '3') | p14_3_13 %in% c('1', '2', '3') |\n",
    "      p14_3_14 %in% c('1', '2', '3') | p14_3_15 %in% c('1', '2', '3') |\n",
    "      p14_3_16 %in% c('1', '2', '3') | p14_3_17 %in% c('1', '2', '3') |\n",
    "      p14_3_18 %in% c('1', '2', '3') | p14_3_19 %in% c('1', '2', '3') |\n",
    "      p14_3_20 %in% c('1', '2', '3') | p14_3_21 %in% c('1', '2', '3') |\n",
    "      p14_3_22 %in% c('1', '2', '3') | p14_3_23ab %in% c('1', '2', '3') |\n",
    "      p14_3_24ab %in% c('1', '2', '3') | p14_3_25 %in% c('1', '2', '3') |\n",
    "      p14_3_26 %in% c('1', '2', '3') | p14_3_27 %in% c('1', '2', '3') |\n",
    "        p14_3_28 %in% c('1', '2', '3') | p14_3_29 %in% c('1', '2', '3') |\n",
    "        p14_3_30 %in% c('1', '2', '3') | p14_3_31 %in% c('1', '2', '3') |\n",
    "        p14_3_32 %in% c('1', '2', '3') | p14_3_33 %in% c('1', '2', '3') |\n",
    "        p14_3_34 %in% c('1', '2', '3') | p14_3_35ab %in% c('1', '2', '3') |\n",
    "        p14_3_36ab %in% c('1', '2', '3') | p14_3_37ab %in% c('1', '2', '3') |\n",
    "        p14_3_38ab %in% c('1', '2', '3') ~ 1,\n",
    "      TRUE ~ 0\n",
    "    )\n",
    "  )\n",
    "\n",
    "dm<-tabla_violencia%>%\n",
    "  as_survey_design(\n",
    "  weights = fac_muj,\n",
    "    ids = upm_dis,\n",
    "    strata = est_dis,\n",
    "    nest = TRUE\n",
    "  )\n",
    "dm %>%\n",
    "  filter(cve_ent == \"09\") %>%\n",
    "group_by(violencia_muj) %>%\n",
    "summarise(\n",
    "  pob = survey_total(vartype = \"cv\"),\n",
    "  porcentaje = survey_prop(vartype = \"cv\")\n",
    ") %>% mutate(porcentaje = porcentaje * 100)%>%\n",
    "filter(violencia_muj == 1)\n",
    "\n",
    "}"
   ]
  },
  {
   "cell_type": "code",
   "execution_count": 10,
   "id": "5af21bcadddc9177",
   "metadata": {
    "ExecuteTime": {
     "end_time": "2025-03-04T17:20:29.133035500Z",
     "start_time": "2025-02-23T21:17:22.916079Z"
    },
    "vscode": {
     "languageId": "r"
    }
   },
   "outputs": [
    {
     "name": "stderr",
     "output_type": "stream",
     "text": [
      "Warning message:\n",
      "\"\u001b[1m\u001b[22mOne or more parsing issues, call `problems()` on your data frame for details,\n",
      "e.g.:\n",
      "  dat <- vroom(...)\n",
      "  problems(dat)\"\n",
      "\u001b[1mRows: \u001b[22m\u001b[34m110127\u001b[39m \u001b[1mColumns: \u001b[22m\u001b[34m75\u001b[39m\n",
      "\u001b[36m──\u001b[39m \u001b[1mColumn specification\u001b[22m \u001b[36m────────────────────────────────────────────────────────\u001b[39m\n",
      "\u001b[1mDelimiter:\u001b[22m \",\"\n",
      "\u001b[31mchr\u001b[39m (34): ID_VIV, ID_PER, UPM, VIV_SEL, N_REN, DOMINIO, CVE_ENT, NOM_ENT, CV...\n",
      "\u001b[32mdbl\u001b[39m (39): HOGAR, P4AB_1, P4A_1, P4A_2, P4B_1, P4B_2, P4BC_1, P4C_1, P4BC_3, ...\n",
      "\u001b[33mlgl\u001b[39m  (2): P4_10_2_3, P4_10_3_3\n",
      "\n",
      "\u001b[36mℹ\u001b[39m Use `spec()` to retrieve the full column specification for this data.\n",
      "\u001b[36mℹ\u001b[39m Specify the column types or set `show_col_types = FALSE` to quiet this message.\n",
      "Warning message:\n",
      "\"\u001b[1m\u001b[22mOne or more parsing issues, call `problems()` on your data frame for details,\n",
      "e.g.:\n",
      "  dat <- vroom(...)\n",
      "  problems(dat)\"\n",
      "\u001b[1mRows: \u001b[22m\u001b[34m110127\u001b[39m \u001b[1mColumns: \u001b[22m\u001b[34m39\u001b[39m\n",
      "\u001b[36m──\u001b[39m \u001b[1mColumn specification\u001b[22m \u001b[36m────────────────────────────────────────────────────────\u001b[39m\n",
      "\u001b[1mDelimiter:\u001b[22m \",\"\n",
      "\u001b[31mchr\u001b[39m (15): ID_VIV, ID_PER, UPM, VIV_SEL, N_REN, DOMINIO, CVE_ENT, NOM_ENT, CV...\n",
      "\u001b[32mdbl\u001b[39m (20): HOGAR, P5_1, P5_3_1, P5_3_2, P5_3_3, P5_3_4, P5_3_5, P5_3_6, P5_3_...\n",
      "\u001b[33mlgl\u001b[39m  (4): P5_2, P5_4_4E, P5_4_5E, P5_E4\n",
      "\n",
      "\u001b[36mℹ\u001b[39m Use `spec()` to retrieve the full column specification for this data.\n",
      "\u001b[36mℹ\u001b[39m Specify the column types or set `show_col_types = FALSE` to quiet this message.\n",
      "\u001b[1mRows: \u001b[22m\u001b[34m110127\u001b[39m \u001b[1mColumns: \u001b[22m\u001b[34m26\u001b[39m\n",
      "\u001b[36m──\u001b[39m \u001b[1mColumn specification\u001b[22m \u001b[36m────────────────────────────────────────────────────────\u001b[39m\n",
      "\u001b[1mDelimiter:\u001b[22m \",\"\n",
      "\u001b[31mchr\u001b[39m (13): ID_VIV, ID_PER, UPM, VIV_SEL, N_REN, DOMINIO, CVE_ENT, NOM_ENT, CV...\n",
      "\u001b[32mdbl\u001b[39m (13): HOGAR, P6_1_1, P6_1_2, P6_1_3, P6_1_4, P6_1_5, P6_2_1, P6_2_2, P6_...\n",
      "\n",
      "\u001b[36mℹ\u001b[39m Use `spec()` to retrieve the full column specification for this data.\n",
      "\u001b[36mℹ\u001b[39m Specify the column types or set `show_col_types = FALSE` to quiet this message.\n",
      "Warning message:\n",
      "\"\u001b[1m\u001b[22mOne or more parsing issues, call `problems()` on your data frame for details,\n",
      "e.g.:\n",
      "  dat <- vroom(...)\n",
      "  problems(dat)\"\n",
      "\u001b[1mRows: \u001b[22m\u001b[34m110127\u001b[39m \u001b[1mColumns: \u001b[22m\u001b[34m227\u001b[39m\n",
      "\u001b[36m──\u001b[39m \u001b[1mColumn specification\u001b[22m \u001b[36m────────────────────────────────────────────────────────\u001b[39m\n",
      "\u001b[1mDelimiter:\u001b[22m \",\"\n",
      "\u001b[31mchr\u001b[39m  (14): ID_VIV, ID_PER, UPM, VIV_SEL, N_REN, DOMINIO, CVE_ENT, NOM_ENT, C...\n",
      "\u001b[32mdbl\u001b[39m (144): HOGAR, P7_1, P7_2, P7_3, P7_4, P7_5, P7_6_1, P7_6_2, P7_6_3, P7_6...\n",
      "\u001b[33mlgl\u001b[39m  (69): P7_9_1_2, P7_9_1_3, P7_10_1_2, P7_10_1_3, P7_7_2_3, P7_9_2_2, P7_...\n",
      "\n",
      "\u001b[36mℹ\u001b[39m Use `spec()` to retrieve the full column specification for this data.\n",
      "\u001b[36mℹ\u001b[39m Specify the column types or set `show_col_types = FALSE` to quiet this message.\n",
      "Warning message:\n",
      "\"\u001b[1m\u001b[22mOne or more parsing issues, call `problems()` on your data frame for details,\n",
      "e.g.:\n",
      "  dat <- vroom(...)\n",
      "  problems(dat)\"\n",
      "\u001b[1mRows: \u001b[22m\u001b[34m110127\u001b[39m \u001b[1mColumns: \u001b[22m\u001b[34m241\u001b[39m\n",
      "\u001b[36m──\u001b[39m \u001b[1mColumn specification\u001b[22m \u001b[36m────────────────────────────────────────────────────────\u001b[39m\n",
      "\u001b[1mDelimiter:\u001b[22m \",\"\n",
      "\u001b[31mchr\u001b[39m  (15): ID_VIV, ID_PER, UPM, VIV_SEL, N_REN, DOMINIO, CVE_ENT, NOM_ENT, C...\n",
      "\u001b[32mdbl\u001b[39m (144): HOGAR, P8_1, P8_2, P8_3_1_1, P8_3_1_2, P8_3_2_1, P8_3_2_2, P8_3_2...\n",
      "\u001b[33mlgl\u001b[39m  (82): P8_12_1_3, P8_10_2_2, P8_10_2_3, P8_12_2_1, P8_12_2_2, P8_12_2_3,...\n",
      "\n",
      "\u001b[36mℹ\u001b[39m Use `spec()` to retrieve the full column specification for this data.\n",
      "\u001b[36mℹ\u001b[39m Specify the column types or set `show_col_types = FALSE` to quiet this message.\n",
      "Warning message:\n",
      "\"\u001b[1m\u001b[22mOne or more parsing issues, call `problems()` on your data frame for details,\n",
      "e.g.:\n",
      "  dat <- vroom(...)\n",
      "  problems(dat)\"\n",
      "\u001b[1mRows: \u001b[22m\u001b[34m110127\u001b[39m \u001b[1mColumns: \u001b[22m\u001b[34m227\u001b[39m\n",
      "\u001b[36m──\u001b[39m \u001b[1mColumn specification\u001b[22m \u001b[36m────────────────────────────────────────────────────────\u001b[39m\n",
      "\u001b[1mDelimiter:\u001b[22m \",\"\n",
      "\u001b[31mchr\u001b[39m  (69): ID_VIV, ID_PER, UPM, VIV_SEL, N_REN, DOMINIO, CVE_ENT, NOM_ENT, C...\n",
      "\u001b[32mdbl\u001b[39m (121): HOGAR, P9_1_1, P9_1_2, P9_1_3, P9_1_4, P9_1_5, P9_1_6, P9_1_7, P9...\n",
      "\u001b[33mlgl\u001b[39m  (37): P9_2_1E, P9_4_1E, P9_4_2_3, P9_2_4_3, P9_4_4_3, P9_5_4_3, P9_2_5_...\n",
      "\n",
      "\u001b[36mℹ\u001b[39m Use `spec()` to retrieve the full column specification for this data.\n",
      "\u001b[36mℹ\u001b[39m Specify the column types or set `show_col_types = FALSE` to quiet this message.\n",
      "\u001b[1mRows: \u001b[22m\u001b[34m110127\u001b[39m \u001b[1mColumns: \u001b[22m\u001b[34m60\u001b[39m\n",
      "\u001b[36m──\u001b[39m \u001b[1mColumn specification\u001b[22m \u001b[36m────────────────────────────────────────────────────────\u001b[39m\n",
      "\u001b[1mDelimiter:\u001b[22m \",\"\n",
      "\u001b[31mchr\u001b[39m (19): ID_VIV, ID_PER, UPM, VIV_SEL, N_REN, DOMINIO, CVE_ENT, NOM_ENT, CV...\n",
      "\u001b[32mdbl\u001b[39m (41): HOGAR, P10_1_1, P10_1_2, P10_1_3, P10_1_4, P10_1_5, P10_1_6, P10_1...\n",
      "\n",
      "\u001b[36mℹ\u001b[39m Use `spec()` to retrieve the full column specification for this data.\n",
      "\u001b[36mℹ\u001b[39m Specify the column types or set `show_col_types = FALSE` to quiet this message.\n",
      "Warning message:\n",
      "\"\u001b[1m\u001b[22mOne or more parsing issues, call `problems()` on your data frame for details,\n",
      "e.g.:\n",
      "  dat <- vroom(...)\n",
      "  problems(dat)\"\n",
      "\u001b[1mRows: \u001b[22m\u001b[34m110127\u001b[39m \u001b[1mColumns: \u001b[22m\u001b[34m159\u001b[39m\n",
      "\u001b[36m──\u001b[39m \u001b[1mColumn specification\u001b[22m \u001b[36m────────────────────────────────────────────────────────\u001b[39m\n",
      "\u001b[1mDelimiter:\u001b[22m \",\"\n",
      "\u001b[31mchr\u001b[39m (52): ID_VIV, ID_PER, UPM, VIV_SEL, N_REN, DOMINIO, CVE_ENT, NOM_ENT, CV...\n",
      "\u001b[32mdbl\u001b[39m (63): HOGAR, P11_1_1, P11_1_2, P11_1_3, P11_1_4, P11_1_5, P11_1_6, P11_1...\n",
      "\u001b[33mlgl\u001b[39m (44): P11_2_2_3, P11_3_2_3, P11_2_3_3, P11_3_3_2, P11_3_3_3, P11_2_4_3, ...\n",
      "\n",
      "\u001b[36mℹ\u001b[39m Use `spec()` to retrieve the full column specification for this data.\n",
      "\u001b[36mℹ\u001b[39m Specify the column types or set `show_col_types = FALSE` to quiet this message.\n",
      "Warning message:\n",
      "\"\u001b[1m\u001b[22mOne or more parsing issues, call `problems()` on your data frame for details,\n",
      "e.g.:\n",
      "  dat <- vroom(...)\n",
      "  problems(dat)\"\n",
      "\u001b[1mRows: \u001b[22m\u001b[34m110127\u001b[39m \u001b[1mColumns: \u001b[22m\u001b[34m54\u001b[39m\n",
      "\u001b[36m──\u001b[39m \u001b[1mColumn specification\u001b[22m \u001b[36m────────────────────────────────────────────────────────\u001b[39m\n",
      "\u001b[1mDelimiter:\u001b[22m \",\"\n",
      "\u001b[31mchr\u001b[39m (24): ID_VIV, ID_PER, UPM, VIV_SEL, N_REN, DOMINIO, CVE_ENT, NOM_ENT, CV...\n",
      "\u001b[32mdbl\u001b[39m (24): HOGAR, P12_1, P12_2, P12_3, P12_4, P12_5, P12_6, P12_7, P12_8, P12...\n",
      "\u001b[33mlgl\u001b[39m  (6): P12_15_2_3, P12_15_3_2, P12_15_3_3, P12_15_4_3, P12_15_6_2, P12_15...\n",
      "\n",
      "\u001b[36mℹ\u001b[39m Use `spec()` to retrieve the full column specification for this data.\n",
      "\u001b[36mℹ\u001b[39m Specify the column types or set `show_col_types = FALSE` to quiet this message.\n",
      "\u001b[1mRows: \u001b[22m\u001b[34m110127\u001b[39m \u001b[1mColumns: \u001b[22m\u001b[34m76\u001b[39m\n",
      "\u001b[36m──\u001b[39m \u001b[1mColumn specification\u001b[22m \u001b[36m────────────────────────────────────────────────────────\u001b[39m\n",
      "\u001b[1mDelimiter:\u001b[22m \",\"\n",
      "\u001b[31mchr\u001b[39m (21): ID_VIV, ID_PER, UPM, VIV_SEL, N_REN, DOMINIO, CVE_ENT, NOM_ENT, CV...\n",
      "\u001b[32mdbl\u001b[39m (55): HOGAR, P13_B, P13_B_1_1, P13_B_1_2, P13_B_1_3, P13_B_1_4, P13_B_1_...\n",
      "\n",
      "\u001b[36mℹ\u001b[39m Use `spec()` to retrieve the full column specification for this data.\n",
      "\u001b[36mℹ\u001b[39m Specify the column types or set `show_col_types = FALSE` to quiet this message.\n",
      "Warning message:\n",
      "\"\u001b[1m\u001b[22mOne or more parsing issues, call `problems()` on your data frame for details,\n",
      "e.g.:\n",
      "  dat <- vroom(...)\n",
      "  problems(dat)\"\n",
      "\u001b[1mRows: \u001b[22m\u001b[34m110127\u001b[39m \u001b[1mColumns: \u001b[22m\u001b[34m224\u001b[39m\n",
      "\u001b[36m──\u001b[39m \u001b[1mColumn specification\u001b[22m \u001b[36m────────────────────────────────────────────────────────\u001b[39m\n",
      "\u001b[1mDelimiter:\u001b[22m \",\"\n",
      "\u001b[31mchr\u001b[39m  (23): ID_VIV, ID_PER, UPM, VIV_SEL, N_REN, DOMINIO, CVE_ENT, NOM_ENT, C...\n",
      "\u001b[32mdbl\u001b[39m (193): HOGAR, P14_1_1, P14_1_2, P14_1_3, P14_1_4, P14_1_5, P14_1_6, P14_...\n",
      "\u001b[33mlgl\u001b[39m   (8): P14_9_2_2, P14_9_2_3, P14_9_3_3, P14_9_6_2, P14_9_6_3, P14_9_7_3,...\n",
      "\n",
      "\u001b[36mℹ\u001b[39m Use `spec()` to retrieve the full column specification for this data.\n",
      "\u001b[36mℹ\u001b[39m Specify the column types or set `show_col_types = FALSE` to quiet this message.\n",
      "\u001b[1mRows: \u001b[22m\u001b[34m110127\u001b[39m \u001b[1mColumns: \u001b[22m\u001b[34m88\u001b[39m\n",
      "\u001b[36m──\u001b[39m \u001b[1mColumn specification\u001b[22m \u001b[36m────────────────────────────────────────────────────────\u001b[39m\n",
      "\u001b[1mDelimiter:\u001b[22m \",\"\n",
      "\u001b[31mchr\u001b[39m (13): ID_VIV, ID_PER, UPM, VIV_SEL, N_REN, DOMINIO, CVE_ENT, NOM_ENT, CV...\n",
      "\u001b[32mdbl\u001b[39m (75): HOGAR, P15_1AB_1, P15_1AB_2, P15_1AB_3, P15_1AB_4, P15_1AB_5, P15_...\n",
      "\n",
      "\u001b[36mℹ\u001b[39m Use `spec()` to retrieve the full column specification for this data.\n",
      "\u001b[36mℹ\u001b[39m Specify the column types or set `show_col_types = FALSE` to quiet this message.\n",
      "Warning message:\n",
      "\"\u001b[1m\u001b[22mOne or more parsing issues, call `problems()` on your data frame for details,\n",
      "e.g.:\n",
      "  dat <- vroom(...)\n",
      "  problems(dat)\"\n",
      "\u001b[1mRows: \u001b[22m\u001b[34m110127\u001b[39m \u001b[1mColumns: \u001b[22m\u001b[34m47\u001b[39m\n",
      "\u001b[36m──\u001b[39m \u001b[1mColumn specification\u001b[22m \u001b[36m────────────────────────────────────────────────────────\u001b[39m\n",
      "\u001b[1mDelimiter:\u001b[22m \",\"\n",
      "\u001b[31mchr\u001b[39m (13): ID_VIV, ID_PER, UPM, VIV_SEL, N_REN, DOMINIO, CVE_ENT, NOM_ENT, CV...\n",
      "\u001b[32mdbl\u001b[39m (32): HOGAR, P16_1_1, P16_1_2, P16_1_3, P16_1_4, P16_1_5, P16_1_6, P16_2...\n",
      "\u001b[33mlgl\u001b[39m  (2): P16_3_1_3, P16_3_3_3\n",
      "\n",
      "\u001b[36mℹ\u001b[39m Use `spec()` to retrieve the full column specification for this data.\n",
      "\u001b[36mℹ\u001b[39m Specify the column types or set `show_col_types = FALSE` to quiet this message.\n",
      "Warning message:\n",
      "\"\u001b[1m\u001b[22mOne or more parsing issues, call `problems()` on your data frame for details,\n",
      "e.g.:\n",
      "  dat <- vroom(...)\n",
      "  problems(dat)\"\n",
      "\u001b[1mRows: \u001b[22m\u001b[34m110127\u001b[39m \u001b[1mColumns: \u001b[22m\u001b[34m178\u001b[39m\n",
      "\u001b[36m──\u001b[39m \u001b[1mColumn specification\u001b[22m \u001b[36m────────────────────────────────────────────────────────\u001b[39m\n",
      "\u001b[1mDelimiter:\u001b[22m \",\"\n",
      "\u001b[31mchr\u001b[39m  (32): ID_VIV, ID_PER, UPM, VIV_SEL, N_REN, DOMINIO, CVE_ENT, NOM_ENT, C...\n",
      "\u001b[32mdbl\u001b[39m (130): HOGAR, P14_14_1, P14_14_2, P14_14_3, P14_14_4, P14_15_1, P14_18_1...\n",
      "\u001b[33mlgl\u001b[39m  (16): P14_17_1_2, P14_17_1_3, P14_18_1_2, P14_18_1_3, P14_19_1E, P14_18...\n",
      "\n",
      "\u001b[36mℹ\u001b[39m Use `spec()` to retrieve the full column specification for this data.\n",
      "\u001b[36mℹ\u001b[39m Specify the column types or set `show_col_types = FALSE` to quiet this message.\n"
     ]
    },
    {
     "data": {
      "text/html": [
       "<table class=\"dataframe\">\n",
       "<caption>A tibble: 1 × 5</caption>\n",
       "<thead>\n",
       "\t<tr><th scope=col>violencia_muj</th><th scope=col>pob</th><th scope=col>pob_cv</th><th scope=col>porcentaje</th><th scope=col>porcentaje_cv</th></tr>\n",
       "\t<tr><th scope=col>&lt;dbl&gt;</th><th scope=col>&lt;dbl&gt;</th><th scope=col>&lt;dbl&gt;</th><th scope=col>&lt;dbl&gt;</th><th scope=col>&lt;dbl&gt;</th></tr>\n",
       "</thead>\n",
       "<tbody>\n",
       "\t<tr><td>1</td><td>1880387</td><td>0.0284019</td><td>46.13754</td><td>0.02465223</td></tr>\n",
       "</tbody>\n",
       "</table>\n"
      ],
      "text/latex": [
       "A tibble: 1 × 5\n",
       "\\begin{tabular}{lllll}\n",
       " violencia\\_muj & pob & pob\\_cv & porcentaje & porcentaje\\_cv\\\\\n",
       " <dbl> & <dbl> & <dbl> & <dbl> & <dbl>\\\\\n",
       "\\hline\n",
       "\t 1 & 1880387 & 0.0284019 & 46.13754 & 0.02465223\\\\\n",
       "\\end{tabular}\n"
      ],
      "text/markdown": [
       "\n",
       "A tibble: 1 × 5\n",
       "\n",
       "| violencia_muj &lt;dbl&gt; | pob &lt;dbl&gt; | pob_cv &lt;dbl&gt; | porcentaje &lt;dbl&gt; | porcentaje_cv &lt;dbl&gt; |\n",
       "|---|---|---|---|---|\n",
       "| 1 | 1880387 | 0.0284019 | 46.13754 | 0.02465223 |\n",
       "\n"
      ],
      "text/plain": [
       "  violencia_muj pob     pob_cv    porcentaje porcentaje_cv\n",
       "1 1             1880387 0.0284019 46.13754   0.02465223   "
      ]
     },
     "metadata": {},
     "output_type": "display_data"
    }
   ],
   "source": [
    "estima_violencia(2021)"
   ]
  },
  {
   "cell_type": "code",
   "execution_count": 12,
   "id": "84c2cb89f3c4c251",
   "metadata": {
    "ExecuteTime": {
     "end_time": "2025-03-04T17:20:29.147111600Z",
     "start_time": "2025-02-23T21:17:40.114808Z"
    },
    "vscode": {
     "languageId": "r"
    }
   },
   "outputs": [],
   "source": [
    "##Leer archivo de excel para obtener resultados rápidos\n",
    "url_excel<-\"https://www.inegi.org.mx/contenidos/programas/endireh/2021/tabulados/xxi_prevalencia_de_la_violencia_estimaciones_endireh2021.xlsx\"\n",
    "violencia<-openxlsx::read.xlsx(url_excel,sheet=3,\n",
    "rows=62:64,cols=1:10)"
   ]
  },
  {
   "cell_type": "code",
   "execution_count": 13,
   "id": "d06c6f7970492cbb",
   "metadata": {
    "ExecuteTime": {
     "end_time": "2025-03-04T17:20:29.148884400Z",
     "start_time": "2025-02-23T21:17:41.850620Z"
    },
    "vscode": {
     "languageId": "r"
    }
   },
   "outputs": [
    {
     "data": {
      "text/html": [
       "<table class=\"dataframe\">\n",
       "<caption>A data.frame: 1 × 2</caption>\n",
       "<thead>\n",
       "\t<tr><th></th><th scope=col>violencia_2021</th><th scope=col>violencia_2016</th></tr>\n",
       "\t<tr><th></th><th scope=col>&lt;dbl&gt;</th><th scope=col>&lt;dbl&gt;</th></tr>\n",
       "</thead>\n",
       "<tbody>\n",
       "\t<tr><th scope=row>1</th><td>46.13754</td><td>55.06094</td></tr>\n",
       "</tbody>\n",
       "</table>\n"
      ],
      "text/latex": [
       "A data.frame: 1 × 2\n",
       "\\begin{tabular}{r|ll}\n",
       "  & violencia\\_2021 & violencia\\_2016\\\\\n",
       "  & <dbl> & <dbl>\\\\\n",
       "\\hline\n",
       "\t1 & 46.13754 & 55.06094\\\\\n",
       "\\end{tabular}\n"
      ],
      "text/markdown": [
       "\n",
       "A data.frame: 1 × 2\n",
       "\n",
       "| <!--/--> | violencia_2021 &lt;dbl&gt; | violencia_2016 &lt;dbl&gt; |\n",
       "|---|---|---|\n",
       "| 1 | 46.13754 | 55.06094 |\n",
       "\n"
      ],
      "text/plain": [
       "  violencia_2021 violencia_2016\n",
       "1 46.13754       55.06094      "
      ]
     },
     "metadata": {},
     "output_type": "display_data"
    }
   ],
   "source": [
    "violencia_final<-violencia%>%\n",
    "#seleccionar columnas 2 y 7\n",
    "select(c(2,7))%>%rename(violencia_2021=1,\n",
    "                        violencia_2016=2)\n",
    "violencia_final"
   ]
  },
  {
   "cell_type": "markdown",
   "id": "35c713eabc140219",
   "metadata": {},
   "source": [
    "### Percepción de inseguridad"
   ]
  },
  {
   "cell_type": "code",
   "execution_count": 14,
   "id": "fa2392ddca37c845",
   "metadata": {
    "ExecuteTime": {
     "end_time": "2025-03-04T17:20:29.148884400Z",
     "start_time": "2025-02-23T21:17:41.897859Z"
    },
    "vscode": {
     "languageId": "r"
    }
   },
   "outputs": [],
   "source": [
    "dir.create('datos/envipe', showWarnings = FALSE)\n",
    "url_1 <- 'https://www.inegi.org.mx/contenidos/programas/envipe/'\n",
    "url_2 <- '/microdatos/bd_envipe_'\n",
    "years <- c(2020:2024)\n",
    "data_list <- list()"
   ]
  },
  {
   "cell_type": "code",
   "execution_count": 15,
   "id": "2400abdd9e92561c",
   "metadata": {
    "ExecuteTime": {
     "end_time": "2025-03-04T17:20:29.158719300Z",
     "start_time": "2025-02-23T21:17:41.992733Z"
    },
    "vscode": {
     "languageId": "r"
    }
   },
   "outputs": [
    {
     "name": "stdout",
     "output_type": "stream",
     "text": [
      "[1] \"Archivos descomprimidos para el año 2020\"\n",
      "[1] \"Archivo eliminado: datos/envipe/2020_dbf.zip\"\n",
      "[1] \"Archivos descomprimidos para el año 2021\"\n",
      "[1] \"Archivo eliminado: datos/envipe/2021_dbf.zip\"\n",
      "[1] \"Archivos descomprimidos para el año 2022\"\n",
      "[1] \"Archivo eliminado: datos/envipe/2022_dbf.zip\"\n",
      "[1] \"Archivos descomprimidos para el año 2023\"\n",
      "[1] \"Archivo eliminado: datos/envipe/2023_dbf.zip\"\n",
      "[1] \"Archivos descomprimidos para el año 2024\"\n",
      "[1] \"Archivo eliminado: datos/envipe/2024_csv.zip\"\n"
     ]
    }
   ],
   "source": [
    "# Ciclo 1: Descarga y descompresión\n",
    "for (i in 1:length(years)) {\n",
    "    if (years[i] %in% c(2024)) {\n",
    "        fin <- '_csv.zip'\n",
    "    } else {\n",
    "        fin <- '_dbf.zip'\n",
    "    }\n",
    "\n",
    "    url <- paste0(url_1, years[i], url_2, years[i], fin)\n",
    "    destfile <- paste0('datos/envipe/', years[i], fin)\n",
    "    folder <- paste0('datos/envipe/', years[i])\n",
    "\n",
    "    dir.create(folder, showWarnings = FALSE)\n",
    "\n",
    "    tryCatch(\n",
    "        {\n",
    "            options(timeout = 9999999)\n",
    "            download.file(url, destfile, mode = 'wb')\n",
    "        },\n",
    "        error = function(e) {\n",
    "            message('Error en la descarga: ', e)\n",
    "        }\n",
    "    )\n",
    "\n",
    "    unzip_result <- tryCatch(\n",
    "        {\n",
    "            unzip(destfile, exdir = folder)\n",
    "            TRUE\n",
    "        },\n",
    "        error = function(e) {\n",
    "            message('Error en la descompresión: ', e)\n",
    "            FALSE\n",
    "        }\n",
    "    )\n",
    "\n",
    "    if (unzip_result) {\n",
    "        print(paste('Archivos descomprimidos para el año', years[i]))\n",
    "\n",
    "        # Eliminar el archivo ZIP después de la descompresión\n",
    "        tryCatch(\n",
    "            {\n",
    "                file.remove(destfile)\n",
    "                print(paste('Archivo eliminado:', destfile))\n",
    "            },\n",
    "            error = function(e) {\n",
    "                message('Error al eliminar el archivo:', e)\n",
    "            }\n",
    "        )\n",
    "    }\n",
    "}\n"
   ]
  },
  {
   "cell_type": "code",
   "execution_count": 16,
   "id": "48b2bd4a0454d41e",
   "metadata": {
    "ExecuteTime": {
     "end_time": "2025-03-04T17:20:29.158719300Z",
     "start_time": "2025-02-23T23:04:57.396795Z"
    },
    "vscode": {
     "languageId": "r"
    }
   },
   "outputs": [],
   "source": [
    "estima_inseguridad <- function(year) {\n",
    "\n",
    "# Definir rutas\n",
    "if  (year %in% c(2020:2021)) {\n",
    "    ruta_base <- paste0('datos/envipe/',year,'/bd_envipe_', year, '_dbf/')\n",
    "}else {\n",
    "    ruta_base <- paste0('datos/envipe/', year, '/')\n",
    "}\n",
    "\n",
    "\n",
    "#Leer datos\n",
    "if (year %in% c(2020:2023)) {\n",
    "    seguridad <- read.dbf(paste0(ruta_base, 'TPer_Vic1.dbf'))\n",
    "\n",
    "} else {\n",
    "    seguridad <- read_csv(paste0(ruta_base, 'TPer_Vic1.csv'))\n",
    "}\n",
    "\n",
    "seguridad<-seguridad%>%\n",
    "    janitor::clean_names()%>%\n",
    "    mutate(fac_ele=as.numeric(fac_ele), sexo=as.numeric(sexo))\n",
    "\n",
    "#Crear diseño muestral\n",
    "dm<-seguridad%>%\n",
    "    as_survey_design(\n",
    "    weights = fac_ele,\n",
    "    ids = upm_dis,\n",
    "    strata = est_dis,\n",
    "    nest = TRUE\n",
    "    )\n",
    "\n",
    "\n",
    "  #Estimar percepción de inseguridad de mujeres en la Ciudad de México\n",
    "    resultado<-dm %>%\n",
    "    filter(cve_ent == \"09\") %>%\n",
    "    filter(ap4_3_3!=3)%>%\n",
    "  mutate(tipo_seg=case_when(\n",
    "    ap4_3_3 %in% c(1) ~ \"Seguro\",\n",
    "    ap4_3_3 %in% c(2) ~ \"Inseguro\",\n",
    "    ap4_3_3 %in% c(5) ~ \"No aplica\",\n",
    "    ap4_3_3 %in% c(9) ~ \"No sabe\"))%>%\n",
    "  group_by(sexo,tipo_seg) %>%\n",
    "  summarise(\n",
    "    pob = survey_total(vartype = \"cv\"),\n",
    "    porcentaje = survey_prop(vartype = \"cv\")\n",
    "  ) %>% mutate(porcentaje = porcentaje * 100)%>%\n",
    "  filter(tipo_seg == \"Inseguro\", sexo==2)%>%\n",
    "    mutate(year = year)\n",
    "\n",
    "    return(resultado)\n",
    "}"
   ]
  },
  {
   "cell_type": "code",
   "execution_count": 17,
   "id": "e8e82254e1a455a",
   "metadata": {
    "ExecuteTime": {
     "end_time": "2025-03-04T17:20:29.158719300Z",
     "start_time": "2025-02-23T23:04:58.912075Z"
    },
    "vscode": {
     "languageId": "r"
    }
   },
   "outputs": [
    {
     "name": "stderr",
     "output_type": "stream",
     "text": [
      "\u001b[1m\u001b[22mNew names:\n",
      "\u001b[36m•\u001b[39m `` -> `...1`\n",
      "\u001b[1mRows: \u001b[22m\u001b[34m89630\u001b[39m \u001b[1mColumns: \u001b[22m\u001b[34m232\u001b[39m\n",
      "\u001b[36m──\u001b[39m \u001b[1mColumn specification\u001b[22m \u001b[36m────────────────────────────────────────────────────────\u001b[39m\n",
      "\u001b[1mDelimiter:\u001b[22m \",\"\n",
      "\u001b[31mchr\u001b[39m  (21): ID_VIV, ID_HOG, ID_PER, UPM, VIV_SEL, HOGAR, RESUL_H, R_SEL, AREA...\n",
      "\u001b[32mdbl\u001b[39m (211): ...1, SEXO, EDAD, AP4_1, AP4_2_01, AP4_2_02, AP4_2_03, AP4_2_04, ...\n",
      "\n",
      "\u001b[36mℹ\u001b[39m Use `spec()` to retrieve the full column specification for this data.\n",
      "\u001b[36mℹ\u001b[39m Specify the column types or set `show_col_types = FALSE` to quiet this message.\n"
     ]
    },
    {
     "data": {
      "text/html": [
       "<table class=\"dataframe\">\n",
       "<caption>A grouped_df: 5 × 7</caption>\n",
       "<thead>\n",
       "\t<tr><th scope=col>sexo</th><th scope=col>tipo_seg</th><th scope=col>pob</th><th scope=col>pob_cv</th><th scope=col>porcentaje</th><th scope=col>porcentaje_cv</th><th scope=col>year</th></tr>\n",
       "\t<tr><th scope=col>&lt;dbl&gt;</th><th scope=col>&lt;chr&gt;</th><th scope=col>&lt;dbl&gt;</th><th scope=col>&lt;dbl&gt;</th><th scope=col>&lt;dbl&gt;</th><th scope=col>&lt;dbl&gt;</th><th scope=col>&lt;int&gt;</th></tr>\n",
       "</thead>\n",
       "<tbody>\n",
       "\t<tr><td>2</td><td>Inseguro</td><td>3041434</td><td>0.01920830</td><td>86.74312</td><td>0.008427824</td><td>2020</td></tr>\n",
       "\t<tr><td>2</td><td>Inseguro</td><td>3410235</td><td>0.01885379</td><td>86.63874</td><td>0.008147315</td><td>2021</td></tr>\n",
       "\t<tr><td>2</td><td>Inseguro</td><td>3408583</td><td>0.02010401</td><td>85.74512</td><td>0.008338216</td><td>2022</td></tr>\n",
       "\t<tr><td>2</td><td>Inseguro</td><td>3361871</td><td>0.01978396</td><td>83.76595</td><td>0.009211954</td><td>2023</td></tr>\n",
       "\t<tr><td>2</td><td>Inseguro</td><td>3243254</td><td>0.02239651</td><td>78.70570</td><td>0.011078152</td><td>2024</td></tr>\n",
       "</tbody>\n",
       "</table>\n"
      ],
      "text/latex": [
       "A grouped\\_df: 5 × 7\n",
       "\\begin{tabular}{lllllll}\n",
       " sexo & tipo\\_seg & pob & pob\\_cv & porcentaje & porcentaje\\_cv & year\\\\\n",
       " <dbl> & <chr> & <dbl> & <dbl> & <dbl> & <dbl> & <int>\\\\\n",
       "\\hline\n",
       "\t 2 & Inseguro & 3041434 & 0.01920830 & 86.74312 & 0.008427824 & 2020\\\\\n",
       "\t 2 & Inseguro & 3410235 & 0.01885379 & 86.63874 & 0.008147315 & 2021\\\\\n",
       "\t 2 & Inseguro & 3408583 & 0.02010401 & 85.74512 & 0.008338216 & 2022\\\\\n",
       "\t 2 & Inseguro & 3361871 & 0.01978396 & 83.76595 & 0.009211954 & 2023\\\\\n",
       "\t 2 & Inseguro & 3243254 & 0.02239651 & 78.70570 & 0.011078152 & 2024\\\\\n",
       "\\end{tabular}\n"
      ],
      "text/markdown": [
       "\n",
       "A grouped_df: 5 × 7\n",
       "\n",
       "| sexo &lt;dbl&gt; | tipo_seg &lt;chr&gt; | pob &lt;dbl&gt; | pob_cv &lt;dbl&gt; | porcentaje &lt;dbl&gt; | porcentaje_cv &lt;dbl&gt; | year &lt;int&gt; |\n",
       "|---|---|---|---|---|---|---|\n",
       "| 2 | Inseguro | 3041434 | 0.01920830 | 86.74312 | 0.008427824 | 2020 |\n",
       "| 2 | Inseguro | 3410235 | 0.01885379 | 86.63874 | 0.008147315 | 2021 |\n",
       "| 2 | Inseguro | 3408583 | 0.02010401 | 85.74512 | 0.008338216 | 2022 |\n",
       "| 2 | Inseguro | 3361871 | 0.01978396 | 83.76595 | 0.009211954 | 2023 |\n",
       "| 2 | Inseguro | 3243254 | 0.02239651 | 78.70570 | 0.011078152 | 2024 |\n",
       "\n"
      ],
      "text/plain": [
       "  sexo tipo_seg pob     pob_cv     porcentaje porcentaje_cv year\n",
       "1 2    Inseguro 3041434 0.01920830 86.74312   0.008427824   2020\n",
       "2 2    Inseguro 3410235 0.01885379 86.63874   0.008147315   2021\n",
       "3 2    Inseguro 3408583 0.02010401 85.74512   0.008338216   2022\n",
       "4 2    Inseguro 3361871 0.01978396 83.76595   0.009211954   2023\n",
       "5 2    Inseguro 3243254 0.02239651 78.70570   0.011078152   2024"
      ]
     },
     "metadata": {},
     "output_type": "display_data"
    }
   ],
   "source": [
    "tabla_inseg<-map_dfr(2020:2024,estima_inseguridad)\n",
    "tabla_inseg"
   ]
  },
  {
   "cell_type": "markdown",
   "id": "9e91adeb4e4db12e",
   "metadata": {},
   "source": [
    "### Empleo"
   ]
  },
  {
   "cell_type": "code",
   "execution_count": 18,
   "id": "d4a2c17780c8e79",
   "metadata": {
    "ExecuteTime": {
     "end_time": "2025-03-04T17:20:29.164823200Z",
     "start_time": "2025-02-23T21:19:53.322751Z"
    },
    "vscode": {
     "languageId": "r"
    }
   },
   "outputs": [],
   "source": [
    "# Función para descargar los datos de la ENOE en formato CSV\n",
    "descargar_enoe_csv <- function() {\n",
    "  # Crear directorio de trabajo si no existe\n",
    "  if (!dir.exists(\"datos\")) {\n",
    "    dir.create(\"datos\")\n",
    "  }\n",
    "  if (!dir.exists(\"datos/enoe\")) {\n",
    "    dir.create(\"datos/enoe\")\n",
    "  }\n",
    "\n",
    "  # Cambiar al directorio de trabajo\n",
    "  setwd(\"datos/enoe\")\n",
    "\n",
    "  # Función para descargar y extraer archivos\n",
    "  descargar_extraer <- function(url) {\n",
    "    temp <- tempfile()\n",
    "    download.file(url, temp, mode = \"wb\")\n",
    "    unzip(temp)\n",
    "    unlink(temp)\n",
    "  }\n",
    "\n",
    "  # Descargar datos de 2005 a 2009\n",
    "  for (i in 7:9) {\n",
    "    url <- paste0(\"https://www.inegi.org.mx/contenidos/programas/enoe/15ymas/microdatos/200\", i, \"trim4_csv.zip\")\n",
    "    descargar_extraer(url)\n",
    "  }\n",
    "\n",
    "  # Descargar datos de 2010 a 2019\n",
    "  for (i in 10:19) {\n",
    "    url <- paste0(\"https://www.inegi.org.mx/contenidos/programas/enoe/15ymas/microdatos/20\", i, \"trim4_csv.zip\")\n",
    "    print(url)\n",
    "    descargar_extraer(url)\n",
    "  }\n",
    "\n",
    "  # Descargar datos de 2020\n",
    "  for (i in 20:20) {\n",
    "    url <- paste0(\"https://www.inegi.org.mx/contenidos/programas/enoe/15ymas/microdatos/enoe_n_20\", i, \"_trim4_csv.zip\")\n",
    "    descargar_extraer(url)\n",
    "  }\n",
    "\n",
    "  # Descargar datos de 2021 a 2022\n",
    "  for (i in 21:22) {\n",
    "    url <- paste0(\"https://www.inegi.org.mx/contenidos/programas/enoe/15ymas/microdatos/enoe_n_20\", i, \"_trim4_csv.zip\")\n",
    "    descargar_extraer(url)\n",
    "  }\n",
    "\n",
    "  # Descargar datos de 2023\n",
    "  for (i in 23:23) {\n",
    "    url <- paste0(\"https://www.inegi.org.mx/contenidos/programas/enoe/15ymas/microdatos/enoe_20\", i, \"_trim4_csv.zip\")\n",
    "    descargar_extraer(url)\n",
    "  }\n",
    "\n",
    "  # Eliminar archivos innecesarios (conservar solo SDEMT y COE1T)\n",
    "  # Listar archivos con extensión .csv, sin importar mayúsculas/minúsculas\n",
    "  archivos <- list.files(pattern = \"\\\\.csv$\", ignore.case = TRUE)\n",
    "\n",
    "  # Lista de archivos a eliminar (que NO contienen \"SDEMT\" o \"COE1T\", sin importar mayúsculas/minúsculas)\n",
    "  archivos_a_eliminar <- archivos[!grepl(\"sdemt|coe1t\", archivos, ignore.case = TRUE)]\n",
    "  file.remove(archivos_a_eliminar)\n",
    "\n",
    "  # Eliminar archivo zip (si existe)\n",
    "  if (file.exists(\"archivos.zip\")) {\n",
    "    file.remove(\"archivos.zip\")\n",
    "  }\n",
    "\n",
    "  # Regresar al directorio original\n",
    "  setwd(\"../..\")\n",
    "}"
   ]
  },
  {
   "cell_type": "code",
   "execution_count": 19,
   "id": "278039c7191966c6",
   "metadata": {
    "ExecuteTime": {
     "end_time": "2025-03-04T17:20:29.166835200Z",
     "start_time": "2025-02-23T21:19:53.474298Z"
    },
    "vscode": {
     "languageId": "r"
    }
   },
   "outputs": [
    {
     "name": "stdout",
     "output_type": "stream",
     "text": [
      "[1] \"https://www.inegi.org.mx/contenidos/programas/enoe/15ymas/microdatos/2010trim4_csv.zip\"\n",
      "[1] \"https://www.inegi.org.mx/contenidos/programas/enoe/15ymas/microdatos/2011trim4_csv.zip\"\n",
      "[1] \"https://www.inegi.org.mx/contenidos/programas/enoe/15ymas/microdatos/2012trim4_csv.zip\"\n",
      "[1] \"https://www.inegi.org.mx/contenidos/programas/enoe/15ymas/microdatos/2013trim4_csv.zip\"\n",
      "[1] \"https://www.inegi.org.mx/contenidos/programas/enoe/15ymas/microdatos/2014trim4_csv.zip\"\n",
      "[1] \"https://www.inegi.org.mx/contenidos/programas/enoe/15ymas/microdatos/2015trim4_csv.zip\"\n",
      "[1] \"https://www.inegi.org.mx/contenidos/programas/enoe/15ymas/microdatos/2016trim4_csv.zip\"\n",
      "[1] \"https://www.inegi.org.mx/contenidos/programas/enoe/15ymas/microdatos/2017trim4_csv.zip\"\n",
      "[1] \"https://www.inegi.org.mx/contenidos/programas/enoe/15ymas/microdatos/2018trim4_csv.zip\"\n",
      "[1] \"https://www.inegi.org.mx/contenidos/programas/enoe/15ymas/microdatos/2019trim4_csv.zip\"\n"
     ]
    }
   ],
   "source": [
    "descargar_enoe_csv()"
   ]
  },
  {
   "cell_type": "code",
   "execution_count": 20,
   "id": "96cdc6cf2dad6539",
   "metadata": {
    "ExecuteTime": {
     "end_time": "2025-03-04T17:20:29.166835200Z",
     "start_time": "2025-02-23T21:26:37.251676Z"
    },
    "vscode": {
     "languageId": "r"
    }
   },
   "outputs": [],
   "source": [
    "# Función para extraer el año desde el nombre del archivo\n",
    "extraer_anio <- function(path) {\n",
    "  anio_str <- str_extract(path, \"\\\\d{2}(?=\\\\D*$)\") # Extrae los últimos dos dígitos del año\n",
    "  anio <- as.numeric(paste0(\"20\", anio_str)) # Convierte a formato 20XX\n",
    "  return(anio)\n",
    "}"
   ]
  },
  {
   "cell_type": "code",
   "execution_count": 21,
   "id": "d91394884c862ae0",
   "metadata": {
    "ExecuteTime": {
     "end_time": "2025-03-04T17:20:29.166835200Z",
     "start_time": "2025-02-23T21:26:37.281275Z"
    },
    "vscode": {
     "languageId": "r"
    }
   },
   "outputs": [],
   "source": [
    "# Función para procesar la ENOE y estimar el empleo cultural\n",
    "estima_empleo_cultura <- function(sdemt_path, coe1t_path) {\n",
    "  year <- extraer_anio(sdemt_path)\n",
    "\n",
    "  # Leer y filtrar ocupados\n",
    "  ocupados <- read_csv(sdemt_path, show_col_types = FALSE) %>%\n",
    "    janitor::clean_names() %>%\n",
    "    filter(\n",
    "      clase2 == 1,\n",
    "      (eda >= 15 & eda <= 98 & !is.na(eda)) & (c_res == 1 | c_res == 3)\n",
    "    ) %>%\n",
    "    mutate(year = year) # Agregar el año\n",
    "\n",
    "  # Leer COE1T y seleccionar columnas según el año\n",
    "  sinco <- read_csv(coe1t_path, show_col_types = FALSE) %>%\n",
    "    janitor::clean_names() %>%\n",
    "    { if (year <= 2019) select(., cd_a, ent, con, v_sel, n_hog, h_mud, n_ren, p3) else\n",
    "        select(., tipo, mes_cal, cd_a, ent, con, v_sel, n_hog, h_mud, n_ren, p3) } %>%\n",
    "    rename(sinco = p3)\n",
    "\n",
    "  # Hacer el `left_join()` sin `tipo` si el año está entre 2005 y 2019\n",
    "  if (year <= 2019) {\n",
    "    ocupados <- left_join(ocupados, sinco, by = c(\"cd_a\", \"ent\", \"con\", \"v_sel\", \"n_hog\", \"h_mud\", \"n_ren\"))\n",
    "  } else {\n",
    "    ocupados <- left_join(ocupados, sinco, by = c(\"tipo\", \"mes_cal\", \"cd_a\", \"ent\", \"con\", \"v_sel\", \"n_hog\", \"h_mud\", \"n_ren\"))\n",
    "  }\n",
    "\n",
    "  # Clasificación de empleo cultural\n",
    "  ocupados <- ocupados %>%\n",
    "    mutate(\n",
    "             cultura_cdmx_st = ifelse(sinco %in% c(\n",
    "        2175, 7611, 2552, 2131, 7313, 7342, 7321, 2174, 7343, 2173, 2171, 1721, 1722,\n",
    "        2544, 2271, 2625, 2162, 1422, 1322, 1421, 2541, 2543, 2542, 2164, 2151, 2163, 2144, 2425, 2655, 3222, 7322, 2712,\n",
    "        7223, 2551, 5212, 2636, 4233, 2172, 8155, 8144, 7999, 7344, 2553, 7352, 2152, 2161, 7323, 7201, 7601, 7401, 7301,\n",
    "        2652, 7332, 9713, 4312, 7614, 7353, 2514, 5212, 2653, 2654, 7299, 7999, 7311, 7331, 7341, 7411, 7412, 9234, 9235,\n",
    "        9237, 4233, 2141, 2153, 2339, 2334, 2715\n",
    "      ), 1, 0)\n",
    "\n",
    "    )\n",
    "\n",
    "  # Crear diseño de encuesta\n",
    "  options(survey.lonely.psu = \"certainty\")\n",
    "  if (year <= 2019) {\n",
    "    dm <- ocupados %>%\n",
    "      as_survey_design(\n",
    "        ids = upm,\n",
    "        strata = est_d,\n",
    "        weights = fac,\n",
    "        nest = TRUE\n",
    "      )\n",
    "  } else {\n",
    "    dm <- ocupados %>%\n",
    "      as_survey_design(\n",
    "        ids = upm,\n",
    "        strata = est_d_tri,\n",
    "        weights = fac_tri,\n",
    "        nest = TRUE\n",
    "      )\n",
    "  }\n",
    "\n",
    "\n",
    "\n",
    "  resultado<-dm %>%\n",
    "      filter(ent == 9) %>%\n",
    "      group_by(cultura_cdmx_st,sex) %>%\n",
    "      summarise(\n",
    "        ocupados = survey_total(vartype = \"cv\"),\n",
    "        porcentaje = survey_prop(vartype = \"cv\")\n",
    "      ) %>%\n",
    "      mutate(porcentaje = porcentaje * 100) %>%\n",
    "      filter(cultura_cdmx_st == 1,sex==2)%>%\n",
    "              mutate(year = year)%>%\n",
    "      filter(year>=2012)\n",
    "\n",
    "\n",
    "\n",
    "  return(resultado)\n",
    "}"
   ]
  },
  {
   "cell_type": "code",
   "execution_count": 22,
   "id": "267b4f323e891491",
   "metadata": {
    "ExecuteTime": {
     "end_time": "2025-03-04T17:20:29.166835200Z",
     "start_time": "2025-02-23T21:26:37.298698Z"
    },
    "vscode": {
     "languageId": "r"
    }
   },
   "outputs": [],
   "source": [
    "lista_archivos <- list.files(path = \"datos/enoe\", full.names = TRUE)\n",
    "archivos_sdemt <- lista_archivos[str_detect(lista_archivos, regex(\"sdemt\", ignore_case = TRUE))]\n",
    "archivos_coe1t <- lista_archivos[str_detect(lista_archivos, regex(\"coe1t\", ignore_case = TRUE))]"
   ]
  },
  {
   "cell_type": "code",
   "execution_count": 23,
   "id": "6942ee342191f8c",
   "metadata": {
    "ExecuteTime": {
     "end_time": "2025-03-04T17:20:29.166835200Z",
     "start_time": "2025-02-23T21:26:37.320924Z"
    },
    "vscode": {
     "languageId": "r"
    }
   },
   "outputs": [
    {
     "data": {
      "text/html": [
       "<table class=\"dataframe\">\n",
       "<caption>A tibble: 17 × 3</caption>\n",
       "<thead>\n",
       "\t<tr><th scope=col>sdemt</th><th scope=col>year</th><th scope=col>coe1t</th></tr>\n",
       "\t<tr><th scope=col>&lt;chr&gt;</th><th scope=col>&lt;int&gt;</th><th scope=col>&lt;chr&gt;</th></tr>\n",
       "</thead>\n",
       "<tbody>\n",
       "\t<tr><td>datos/enoe/SDEMT407.csv      </td><td>2007</td><td>datos/enoe/COE1T407.csv      </td></tr>\n",
       "\t<tr><td>datos/enoe/SDEMT408.csv      </td><td>2008</td><td>datos/enoe/COE1T408.csv      </td></tr>\n",
       "\t<tr><td>datos/enoe/SDEMT409.csv      </td><td>2009</td><td>datos/enoe/COE1T409.csv      </td></tr>\n",
       "\t<tr><td>datos/enoe/SDEMT410.csv      </td><td>2010</td><td>datos/enoe/COE1T410.csv      </td></tr>\n",
       "\t<tr><td>datos/enoe/SDEMT411.csv      </td><td>2011</td><td>datos/enoe/COE1T411.csv      </td></tr>\n",
       "\t<tr><td>datos/enoe/sdemt412.csv      </td><td>2012</td><td>datos/enoe/coe1t412.csv      </td></tr>\n",
       "\t<tr><td>datos/enoe/sdemt413.csv      </td><td>2013</td><td>datos/enoe/coe1t413.csv      </td></tr>\n",
       "\t<tr><td>datos/enoe/SDEMT414.csv      </td><td>2014</td><td>datos/enoe/COE1T414.csv      </td></tr>\n",
       "\t<tr><td>datos/enoe/SDEMT415.csv      </td><td>2015</td><td>datos/enoe/COE1T415.csv      </td></tr>\n",
       "\t<tr><td>datos/enoe/SDEMT416.csv      </td><td>2016</td><td>datos/enoe/COE1T416.csv      </td></tr>\n",
       "\t<tr><td>datos/enoe/SDEMT417.csv      </td><td>2017</td><td>datos/enoe/COE1T417.csv      </td></tr>\n",
       "\t<tr><td>datos/enoe/SDEMT418.csv      </td><td>2018</td><td>datos/enoe/COE1T418.csv      </td></tr>\n",
       "\t<tr><td>datos/enoe/sdemt419.csv      </td><td>2019</td><td>datos/enoe/coe1t419.csv      </td></tr>\n",
       "\t<tr><td>datos/enoe/ENOEN_SDEMT420.csv</td><td>2020</td><td>datos/enoe/ENOEN_COE1T420.csv</td></tr>\n",
       "\t<tr><td>datos/enoe/ENOEN_SDEMT421.csv</td><td>2021</td><td>datos/enoe/ENOEN_COE1T421.csv</td></tr>\n",
       "\t<tr><td>datos/enoe/ENOEN_SDEMT422.csv</td><td>2022</td><td>datos/enoe/ENOEN_COE1T422.csv</td></tr>\n",
       "\t<tr><td>datos/enoe/ENOE_SDEMT423.csv </td><td>2023</td><td>datos/enoe/ENOE_COE1T423.csv </td></tr>\n",
       "</tbody>\n",
       "</table>\n"
      ],
      "text/latex": [
       "A tibble: 17 × 3\n",
       "\\begin{tabular}{lll}\n",
       " sdemt & year & coe1t\\\\\n",
       " <chr> & <int> & <chr>\\\\\n",
       "\\hline\n",
       "\t datos/enoe/SDEMT407.csv       & 2007 & datos/enoe/COE1T407.csv      \\\\\n",
       "\t datos/enoe/SDEMT408.csv       & 2008 & datos/enoe/COE1T408.csv      \\\\\n",
       "\t datos/enoe/SDEMT409.csv       & 2009 & datos/enoe/COE1T409.csv      \\\\\n",
       "\t datos/enoe/SDEMT410.csv       & 2010 & datos/enoe/COE1T410.csv      \\\\\n",
       "\t datos/enoe/SDEMT411.csv       & 2011 & datos/enoe/COE1T411.csv      \\\\\n",
       "\t datos/enoe/sdemt412.csv       & 2012 & datos/enoe/coe1t412.csv      \\\\\n",
       "\t datos/enoe/sdemt413.csv       & 2013 & datos/enoe/coe1t413.csv      \\\\\n",
       "\t datos/enoe/SDEMT414.csv       & 2014 & datos/enoe/COE1T414.csv      \\\\\n",
       "\t datos/enoe/SDEMT415.csv       & 2015 & datos/enoe/COE1T415.csv      \\\\\n",
       "\t datos/enoe/SDEMT416.csv       & 2016 & datos/enoe/COE1T416.csv      \\\\\n",
       "\t datos/enoe/SDEMT417.csv       & 2017 & datos/enoe/COE1T417.csv      \\\\\n",
       "\t datos/enoe/SDEMT418.csv       & 2018 & datos/enoe/COE1T418.csv      \\\\\n",
       "\t datos/enoe/sdemt419.csv       & 2019 & datos/enoe/coe1t419.csv      \\\\\n",
       "\t datos/enoe/ENOEN\\_SDEMT420.csv & 2020 & datos/enoe/ENOEN\\_COE1T420.csv\\\\\n",
       "\t datos/enoe/ENOEN\\_SDEMT421.csv & 2021 & datos/enoe/ENOEN\\_COE1T421.csv\\\\\n",
       "\t datos/enoe/ENOEN\\_SDEMT422.csv & 2022 & datos/enoe/ENOEN\\_COE1T422.csv\\\\\n",
       "\t datos/enoe/ENOE\\_SDEMT423.csv  & 2023 & datos/enoe/ENOE\\_COE1T423.csv \\\\\n",
       "\\end{tabular}\n"
      ],
      "text/markdown": [
       "\n",
       "A tibble: 17 × 3\n",
       "\n",
       "| sdemt &lt;chr&gt; | year &lt;int&gt; | coe1t &lt;chr&gt; |\n",
       "|---|---|---|\n",
       "| datos/enoe/SDEMT407.csv       | 2007 | datos/enoe/COE1T407.csv       |\n",
       "| datos/enoe/SDEMT408.csv       | 2008 | datos/enoe/COE1T408.csv       |\n",
       "| datos/enoe/SDEMT409.csv       | 2009 | datos/enoe/COE1T409.csv       |\n",
       "| datos/enoe/SDEMT410.csv       | 2010 | datos/enoe/COE1T410.csv       |\n",
       "| datos/enoe/SDEMT411.csv       | 2011 | datos/enoe/COE1T411.csv       |\n",
       "| datos/enoe/sdemt412.csv       | 2012 | datos/enoe/coe1t412.csv       |\n",
       "| datos/enoe/sdemt413.csv       | 2013 | datos/enoe/coe1t413.csv       |\n",
       "| datos/enoe/SDEMT414.csv       | 2014 | datos/enoe/COE1T414.csv       |\n",
       "| datos/enoe/SDEMT415.csv       | 2015 | datos/enoe/COE1T415.csv       |\n",
       "| datos/enoe/SDEMT416.csv       | 2016 | datos/enoe/COE1T416.csv       |\n",
       "| datos/enoe/SDEMT417.csv       | 2017 | datos/enoe/COE1T417.csv       |\n",
       "| datos/enoe/SDEMT418.csv       | 2018 | datos/enoe/COE1T418.csv       |\n",
       "| datos/enoe/sdemt419.csv       | 2019 | datos/enoe/coe1t419.csv       |\n",
       "| datos/enoe/ENOEN_SDEMT420.csv | 2020 | datos/enoe/ENOEN_COE1T420.csv |\n",
       "| datos/enoe/ENOEN_SDEMT421.csv | 2021 | datos/enoe/ENOEN_COE1T421.csv |\n",
       "| datos/enoe/ENOEN_SDEMT422.csv | 2022 | datos/enoe/ENOEN_COE1T422.csv |\n",
       "| datos/enoe/ENOE_SDEMT423.csv  | 2023 | datos/enoe/ENOE_COE1T423.csv  |\n",
       "\n"
      ],
      "text/plain": [
       "   sdemt                         year coe1t                        \n",
       "1  datos/enoe/SDEMT407.csv       2007 datos/enoe/COE1T407.csv      \n",
       "2  datos/enoe/SDEMT408.csv       2008 datos/enoe/COE1T408.csv      \n",
       "3  datos/enoe/SDEMT409.csv       2009 datos/enoe/COE1T409.csv      \n",
       "4  datos/enoe/SDEMT410.csv       2010 datos/enoe/COE1T410.csv      \n",
       "5  datos/enoe/SDEMT411.csv       2011 datos/enoe/COE1T411.csv      \n",
       "6  datos/enoe/sdemt412.csv       2012 datos/enoe/coe1t412.csv      \n",
       "7  datos/enoe/sdemt413.csv       2013 datos/enoe/coe1t413.csv      \n",
       "8  datos/enoe/SDEMT414.csv       2014 datos/enoe/COE1T414.csv      \n",
       "9  datos/enoe/SDEMT415.csv       2015 datos/enoe/COE1T415.csv      \n",
       "10 datos/enoe/SDEMT416.csv       2016 datos/enoe/COE1T416.csv      \n",
       "11 datos/enoe/SDEMT417.csv       2017 datos/enoe/COE1T417.csv      \n",
       "12 datos/enoe/SDEMT418.csv       2018 datos/enoe/COE1T418.csv      \n",
       "13 datos/enoe/sdemt419.csv       2019 datos/enoe/coe1t419.csv      \n",
       "14 datos/enoe/ENOEN_SDEMT420.csv 2020 datos/enoe/ENOEN_COE1T420.csv\n",
       "15 datos/enoe/ENOEN_SDEMT421.csv 2021 datos/enoe/ENOEN_COE1T421.csv\n",
       "16 datos/enoe/ENOEN_SDEMT422.csv 2022 datos/enoe/ENOEN_COE1T422.csv\n",
       "17 datos/enoe/ENOE_SDEMT423.csv  2023 datos/enoe/ENOE_COE1T423.csv "
      ]
     },
     "metadata": {},
     "output_type": "display_data"
    }
   ],
   "source": [
    "# Crear un data frame con los nombres de archivos y sus años\n",
    "df_archivos <- tibble(\n",
    "  sdemt = archivos_sdemt,\n",
    "  year = map_int(archivos_sdemt, extraer_anio)\n",
    ") %>%\n",
    "  left_join(\n",
    "    tibble(\n",
    "      coe1t = archivos_coe1t,\n",
    "      year = map_int(archivos_coe1t, extraer_anio)\n",
    "    ),\n",
    "    by = \"year\"\n",
    "  ) %>%\n",
    "  filter(!is.na(sdemt) & !is.na(coe1t))%>%\n",
    "        arrange(year)\n",
    "df_archivos"
   ]
  },
  {
   "cell_type": "code",
   "execution_count": 24,
   "id": "f2d7fc87d7970893",
   "metadata": {
    "ExecuteTime": {
     "end_time": "2025-03-04T17:20:29.166835200Z",
     "start_time": "2025-02-23T21:26:37.363467Z"
    },
    "vscode": {
     "languageId": "r"
    }
   },
   "outputs": [
    {
     "name": "stdout",
     "output_type": "stream",
     "text": [
      "[1] \"Población ocupada en cultura en la Ciudad de México de acuerdo a metodología de cultura cdmx\"\n"
     ]
    },
    {
     "name": "stderr",
     "output_type": "stream",
     "text": [
      "Warning message:\n",
      "\"\u001b[1m\u001b[22mThere were 23 warnings in `mutate()`.\n",
      "The first warning was:\n",
      "\u001b[1m\u001b[22m\u001b[36mℹ\u001b[39m In argument: `data = map2(sdemt, coe1t, ~estima_empleo_cultura(.x, .y))`.\n",
      "Caused by warning:\n",
      "\u001b[33m!\u001b[39m \u001b[1m\u001b[22mOne or more parsing issues, call `problems()` on your data frame for details,\n",
      "e.g.:\n",
      "  dat <- vroom(...)\n",
      "  problems(dat)\n",
      "\u001b[1m\u001b[22m\u001b[36mℹ\u001b[39m Run `dplyr::last_dplyr_warnings()` to see the 22 remaining warnings.\"\n"
     ]
    },
    {
     "data": {
      "text/html": [
       "<table class=\"dataframe\">\n",
       "<caption>A tibble: 12 × 5</caption>\n",
       "<thead>\n",
       "\t<tr><th scope=col>year</th><th scope=col>ocupados</th><th scope=col>ocupados_cv</th><th scope=col>porcentaje</th><th scope=col>porcentaje_cv</th></tr>\n",
       "\t<tr><th scope=col>&lt;dbl&gt;</th><th scope=col>&lt;dbl&gt;</th><th scope=col>&lt;dbl&gt;</th><th scope=col>&lt;dbl&gt;</th><th scope=col>&lt;dbl&gt;</th></tr>\n",
       "</thead>\n",
       "<tbody>\n",
       "\t<tr><td>2012</td><td>138025</td><td>0.10084548</td><td>40.37</td><td>0.07194972</td></tr>\n",
       "\t<tr><td>2013</td><td>121670</td><td>0.09421975</td><td>36.21</td><td>0.07388593</td></tr>\n",
       "\t<tr><td>2014</td><td>100637</td><td>0.11085896</td><td>36.76</td><td>0.08324116</td></tr>\n",
       "\t<tr><td>2015</td><td>102168</td><td>0.10818801</td><td>33.76</td><td>0.08506522</td></tr>\n",
       "\t<tr><td>2016</td><td>116814</td><td>0.09992646</td><td>36.25</td><td>0.07802852</td></tr>\n",
       "\t<tr><td>2017</td><td>138220</td><td>0.09385297</td><td>41.96</td><td>0.07122918</td></tr>\n",
       "\t<tr><td>2018</td><td>136739</td><td>0.10213035</td><td>39.13</td><td>0.07603847</td></tr>\n",
       "\t<tr><td>2019</td><td>135904</td><td>0.09715456</td><td>36.29</td><td>0.07528678</td></tr>\n",
       "\t<tr><td>2020</td><td>109962</td><td>0.15542353</td><td>38.25</td><td>0.11466316</td></tr>\n",
       "\t<tr><td>2021</td><td>158501</td><td>0.09955016</td><td>41.19</td><td>0.06793952</td></tr>\n",
       "\t<tr><td>2022</td><td>145358</td><td>0.10083973</td><td>36.57</td><td>0.08169807</td></tr>\n",
       "\t<tr><td>2023</td><td>137527</td><td>0.09759453</td><td>37.06</td><td>0.07794241</td></tr>\n",
       "</tbody>\n",
       "</table>\n"
      ],
      "text/latex": [
       "A tibble: 12 × 5\n",
       "\\begin{tabular}{lllll}\n",
       " year & ocupados & ocupados\\_cv & porcentaje & porcentaje\\_cv\\\\\n",
       " <dbl> & <dbl> & <dbl> & <dbl> & <dbl>\\\\\n",
       "\\hline\n",
       "\t 2012 & 138025 & 0.10084548 & 40.37 & 0.07194972\\\\\n",
       "\t 2013 & 121670 & 0.09421975 & 36.21 & 0.07388593\\\\\n",
       "\t 2014 & 100637 & 0.11085896 & 36.76 & 0.08324116\\\\\n",
       "\t 2015 & 102168 & 0.10818801 & 33.76 & 0.08506522\\\\\n",
       "\t 2016 & 116814 & 0.09992646 & 36.25 & 0.07802852\\\\\n",
       "\t 2017 & 138220 & 0.09385297 & 41.96 & 0.07122918\\\\\n",
       "\t 2018 & 136739 & 0.10213035 & 39.13 & 0.07603847\\\\\n",
       "\t 2019 & 135904 & 0.09715456 & 36.29 & 0.07528678\\\\\n",
       "\t 2020 & 109962 & 0.15542353 & 38.25 & 0.11466316\\\\\n",
       "\t 2021 & 158501 & 0.09955016 & 41.19 & 0.06793952\\\\\n",
       "\t 2022 & 145358 & 0.10083973 & 36.57 & 0.08169807\\\\\n",
       "\t 2023 & 137527 & 0.09759453 & 37.06 & 0.07794241\\\\\n",
       "\\end{tabular}\n"
      ],
      "text/markdown": [
       "\n",
       "A tibble: 12 × 5\n",
       "\n",
       "| year &lt;dbl&gt; | ocupados &lt;dbl&gt; | ocupados_cv &lt;dbl&gt; | porcentaje &lt;dbl&gt; | porcentaje_cv &lt;dbl&gt; |\n",
       "|---|---|---|---|---|\n",
       "| 2012 | 138025 | 0.10084548 | 40.37 | 0.07194972 |\n",
       "| 2013 | 121670 | 0.09421975 | 36.21 | 0.07388593 |\n",
       "| 2014 | 100637 | 0.11085896 | 36.76 | 0.08324116 |\n",
       "| 2015 | 102168 | 0.10818801 | 33.76 | 0.08506522 |\n",
       "| 2016 | 116814 | 0.09992646 | 36.25 | 0.07802852 |\n",
       "| 2017 | 138220 | 0.09385297 | 41.96 | 0.07122918 |\n",
       "| 2018 | 136739 | 0.10213035 | 39.13 | 0.07603847 |\n",
       "| 2019 | 135904 | 0.09715456 | 36.29 | 0.07528678 |\n",
       "| 2020 | 109962 | 0.15542353 | 38.25 | 0.11466316 |\n",
       "| 2021 | 158501 | 0.09955016 | 41.19 | 0.06793952 |\n",
       "| 2022 | 145358 | 0.10083973 | 36.57 | 0.08169807 |\n",
       "| 2023 | 137527 | 0.09759453 | 37.06 | 0.07794241 |\n",
       "\n"
      ],
      "text/plain": [
       "   year ocupados ocupados_cv porcentaje porcentaje_cv\n",
       "1  2012 138025   0.10084548  40.37      0.07194972   \n",
       "2  2013 121670   0.09421975  36.21      0.07388593   \n",
       "3  2014 100637   0.11085896  36.76      0.08324116   \n",
       "4  2015 102168   0.10818801  33.76      0.08506522   \n",
       "5  2016 116814   0.09992646  36.25      0.07802852   \n",
       "6  2017 138220   0.09385297  41.96      0.07122918   \n",
       "7  2018 136739   0.10213035  39.13      0.07603847   \n",
       "8  2019 135904   0.09715456  36.29      0.07528678   \n",
       "9  2020 109962   0.15542353  38.25      0.11466316   \n",
       "10 2021 158501   0.09955016  41.19      0.06793952   \n",
       "11 2022 145358   0.10083973  36.57      0.08169807   \n",
       "12 2023 137527   0.09759453  37.06      0.07794241   "
      ]
     },
     "metadata": {},
     "output_type": "display_data"
    }
   ],
   "source": [
    "#Estima empleo cultural de la Ciudad de México con metodología de cultura de la Ciudad de México\n",
    "print(\"Población ocupada en cultura en la Ciudad de México de acuerdo a metodología de cultura cdmx\")\n",
    "empleo_cultural_cdmx <- df_archivos %>%\n",
    "        select(-year) %>%\n",
    "  mutate(data = map2(sdemt, coe1t, ~ estima_empleo_cultura(.x, .y))) %>%\n",
    "  unnest(data)%>%\n",
    "        select(year,ocupados,ocupados_cv,porcentaje,porcentaje_cv)%>%\n",
    "        mutate(porcentaje=round(porcentaje,2))\n",
    "empleo_cultural_cdmx"
   ]
  },
  {
   "cell_type": "code",
   "execution_count": 25,
   "id": "c1adc175738a8d28",
   "metadata": {
    "ExecuteTime": {
     "end_time": "2025-03-04T17:20:29.180532100Z",
     "start_time": "2025-02-23T21:27:41.552383Z"
    },
    "vscode": {
     "languageId": "r"
    }
   },
   "outputs": [],
   "source": [
    "## Personas titulares en la Administración pública de la Ciudad de México"
   ]
  },
  {
   "cell_type": "code",
   "execution_count": 26,
   "id": "31be10554099335e",
   "metadata": {
    "ExecuteTime": {
     "end_time": "2025-03-04T17:20:29.180532100Z",
     "start_time": "2025-02-23T21:27:41.683271Z"
    },
    "vscode": {
     "languageId": "r"
    }
   },
   "outputs": [],
   "source": [
    "url<-\"https://www.inegi.org.mx/contenidos/programas/cnge/\"\n",
    "segunda<-\"/datosabiertos/m1/rec_huma_cnge\"\n",
    "fin<-\"_csv.zip\"\n",
    "\n",
    "years<-c(2021:2024)"
   ]
  },
  {
   "cell_type": "code",
   "execution_count": 27,
   "id": "1a08486214dabba",
   "metadata": {
    "ExecuteTime": {
     "end_time": "2025-03-04T17:20:29.180532100Z",
     "start_time": "2025-02-23T21:27:41.704813Z"
    },
    "vscode": {
     "languageId": "r"
    }
   },
   "outputs": [],
   "source": [
    "#Crea urls, descarga en carpeta \"datos\", descomprime y elimina archivos zip\n",
    "for (i in years){\n",
    "  url_descarga<-paste0(url,i,segunda,i,fin)\n",
    "  temp <- tempfile()\n",
    "  download.file(url_descarga, temp, mode = \"wb\")\n",
    "  unzip(temp, exdir = \"datos\")\n",
    "  unlink(temp)\n",
    "}"
   ]
  },
  {
   "cell_type": "code",
   "execution_count": 28,
   "id": "ba45d9997c78425",
   "metadata": {
    "ExecuteTime": {
     "end_time": "2025-03-04T17:20:29.180532100Z",
     "start_time": "2025-02-23T21:27:59.958520Z"
    },
    "vscode": {
     "languageId": "r"
    }
   },
   "outputs": [],
   "source": [
    "##Función de titulares mujeres\n",
    "\n",
    "titulares_mujeres <- function(year) {\n",
    "  # Seleccionar archivo según el año\n",
    "  archivo <- switch(as.character(year),\n",
    "                    \"2024\" = \"m1s1p3_cnge2024.csv\",\n",
    "                    \"2021\" = \"m1s1p3_cnge2021.csv\",\n",
    "                    \"2023\" = \"m1s1p2_cnge2023.csv\",\n",
    "                    \"2022\" = \"m1s1p7_cnge2022.csv\",\n",
    "                    stop(\"Año no válido. Prueba con 2021, 2022, 2023 o 2024.\")\n",
    "  )\n",
    "\n",
    "  # Leer y procesar los datos\n",
    "df<-read_csv(paste0(\"datos/conjunto_de_datos/\", archivo)) %>%\n",
    "janitor::clean_names()\n",
    "#Renomnbrar columnas si existen\n",
    "   if (\"sexo_e\" %in% names(df)) {\n",
    "    df <- df %>% rename(sexo_i = sexo_e)\n",
    "  } else if (\"sexo_f\" %in% names(df)) {\n",
    "    df <- df %>% rename(sexo_i = sexo_f)\n",
    "  }\n",
    "\n",
    "df%>%\n",
    "    janitor::clean_names() %>%\n",
    "    filter(entidad_a == 9) %>%\n",
    "    group_by(sexo_i) %>%\n",
    "    summarise(personas = n(), .groups = \"drop\") %>%\n",
    "    mutate(porcentaje = personas / sum(personas) * 100) %>%\n",
    "    filter(sexo_i == 2)%>%\n",
    "mutate(year = year)\n",
    "\n",
    "}\n"
   ]
  },
  {
   "cell_type": "code",
   "execution_count": 29,
   "id": "5e5a816d085f57a6",
   "metadata": {
    "ExecuteTime": {
     "end_time": "2025-03-04T17:20:29.180532100Z",
     "start_time": "2025-02-23T21:27:59.979773Z"
    },
    "vscode": {
     "languageId": "r"
    }
   },
   "outputs": [
    {
     "name": "stderr",
     "output_type": "stream",
     "text": [
      "\u001b[1mRows: \u001b[22m\u001b[34m2271\u001b[39m \u001b[1mColumns: \u001b[22m\u001b[34m16\u001b[39m\n",
      "\u001b[36m──\u001b[39m \u001b[1mColumn specification\u001b[22m \u001b[36m────────────────────────────────────────────────────────\u001b[39m\n",
      "\u001b[1mDelimiter:\u001b[22m \",\"\n",
      "\u001b[31mchr\u001b[39m  (5): nombre1, edades, totalca1, antigu_a, antigu_b\n",
      "\u001b[32mdbl\u001b[39m (11): entidad_a, numeral, sexo_e, gdoestud_d, estagrad_b, emplante_a, pu...\n",
      "\n",
      "\u001b[36mℹ\u001b[39m Use `spec()` to retrieve the full column specification for this data.\n",
      "\u001b[36mℹ\u001b[39m Specify the column types or set `show_col_types = FALSE` to quiet this message.\n",
      "\u001b[1mRows: \u001b[22m\u001b[34m2239\u001b[39m \u001b[1mColumns: \u001b[22m\u001b[34m17\u001b[39m\n",
      "\u001b[36m──\u001b[39m \u001b[1mColumn specification\u001b[22m \u001b[36m────────────────────────────────────────────────────────\u001b[39m\n",
      "\u001b[1mDelimiter:\u001b[22m \",\"\n",
      "\u001b[31mchr\u001b[39m  (6): enticve1, nombre1, edades, totalca1, antigu_a, antigu_b\n",
      "\u001b[32mdbl\u001b[39m (11): entidad_a, numeral, sexo_f, gdoestud_h, estagrad_c, emplante_e, pu...\n",
      "\n",
      "\u001b[36mℹ\u001b[39m Use `spec()` to retrieve the full column specification for this data.\n",
      "\u001b[36mℹ\u001b[39m Specify the column types or set `show_col_types = FALSE` to quiet this message.\n",
      "\u001b[1mRows: \u001b[22m\u001b[34m2270\u001b[39m \u001b[1mColumns: \u001b[22m\u001b[34m17\u001b[39m\n",
      "\u001b[36m──\u001b[39m \u001b[1mColumn specification\u001b[22m \u001b[36m────────────────────────────────────────────────────────\u001b[39m\n",
      "\u001b[1mDelimiter:\u001b[22m \",\"\n",
      "\u001b[31mchr\u001b[39m  (7): enticve1, nombre1, edades, totalca1, antigu_a, antigu_b, integra1\n",
      "\u001b[32mdbl\u001b[39m (10): entidad_a, numeral, sexo_i, gdoestud_k, estagrad_e, emplante_g, pu...\n",
      "\n",
      "\u001b[36mℹ\u001b[39m Use `spec()` to retrieve the full column specification for this data.\n",
      "\u001b[36mℹ\u001b[39m Specify the column types or set `show_col_types = FALSE` to quiet this message.\n",
      "\u001b[1mRows: \u001b[22m\u001b[34m2279\u001b[39m \u001b[1mColumns: \u001b[22m\u001b[34m18\u001b[39m\n",
      "\u001b[36m──\u001b[39m \u001b[1mColumn specification\u001b[22m \u001b[36m────────────────────────────────────────────────────────\u001b[39m\n",
      "\u001b[1mDelimiter:\u001b[22m \",\"\n",
      "\u001b[31mchr\u001b[39m  (6): enticve1, nombre1, edades, totalca1, antigu_a, antigu_b\n",
      "\u001b[32mdbl\u001b[39m (12): entidad_a, numeral, sexo_i, gdoestud_k, estagrad_e, emplante_g, pu...\n",
      "\n",
      "\u001b[36mℹ\u001b[39m Use `spec()` to retrieve the full column specification for this data.\n",
      "\u001b[36mℹ\u001b[39m Specify the column types or set `show_col_types = FALSE` to quiet this message.\n"
     ]
    },
    {
     "data": {
      "text/html": [
       "<table class=\"dataframe\">\n",
       "<caption>A tibble: 4 × 4</caption>\n",
       "<thead>\n",
       "\t<tr><th scope=col>sexo_i</th><th scope=col>personas</th><th scope=col>porcentaje</th><th scope=col>year</th></tr>\n",
       "\t<tr><th scope=col>&lt;dbl&gt;</th><th scope=col>&lt;int&gt;</th><th scope=col>&lt;dbl&gt;</th><th scope=col>&lt;int&gt;</th></tr>\n",
       "</thead>\n",
       "<tbody>\n",
       "\t<tr><td>2</td><td>36</td><td>46.15385</td><td>2021</td></tr>\n",
       "\t<tr><td>2</td><td>28</td><td>37.33333</td><td>2022</td></tr>\n",
       "\t<tr><td>2</td><td>32</td><td>42.10526</td><td>2023</td></tr>\n",
       "\t<tr><td>2</td><td>29</td><td>37.66234</td><td>2024</td></tr>\n",
       "</tbody>\n",
       "</table>\n"
      ],
      "text/latex": [
       "A tibble: 4 × 4\n",
       "\\begin{tabular}{llll}\n",
       " sexo\\_i & personas & porcentaje & year\\\\\n",
       " <dbl> & <int> & <dbl> & <int>\\\\\n",
       "\\hline\n",
       "\t 2 & 36 & 46.15385 & 2021\\\\\n",
       "\t 2 & 28 & 37.33333 & 2022\\\\\n",
       "\t 2 & 32 & 42.10526 & 2023\\\\\n",
       "\t 2 & 29 & 37.66234 & 2024\\\\\n",
       "\\end{tabular}\n"
      ],
      "text/markdown": [
       "\n",
       "A tibble: 4 × 4\n",
       "\n",
       "| sexo_i &lt;dbl&gt; | personas &lt;int&gt; | porcentaje &lt;dbl&gt; | year &lt;int&gt; |\n",
       "|---|---|---|---|\n",
       "| 2 | 36 | 46.15385 | 2021 |\n",
       "| 2 | 28 | 37.33333 | 2022 |\n",
       "| 2 | 32 | 42.10526 | 2023 |\n",
       "| 2 | 29 | 37.66234 | 2024 |\n",
       "\n"
      ],
      "text/plain": [
       "  sexo_i personas porcentaje year\n",
       "1 2      36       46.15385   2021\n",
       "2 2      28       37.33333   2022\n",
       "3 2      32       42.10526   2023\n",
       "4 2      29       37.66234   2024"
      ]
     },
     "metadata": {},
     "output_type": "display_data"
    }
   ],
   "source": [
    "#Titulares mujeres\n",
    "\n",
    "titulares_mujeres<-map_dfr(years,titulares_mujeres)\n",
    "titulares_mujeres"
   ]
  },
  {
   "cell_type": "markdown",
   "id": "4daade31ad85e1f4",
   "metadata": {},
   "source": [
    "### Cuidados"
   ]
  },
  {
   "cell_type": "code",
   "execution_count": 30,
   "id": "60663cd94ce4c40",
   "metadata": {
    "ExecuteTime": {
     "end_time": "2025-03-04T17:20:29.180532100Z",
     "start_time": "2025-02-23T21:41:10.093864Z"
    },
    "vscode": {
     "languageId": "r"
    }
   },
   "outputs": [],
   "source": [
    "url_cuenta_sat<-\"https://www.inegi.org.mx/contenidos/programas/tnrh/2018/datosabiertos/tnrh_anual_csv.zip\""
   ]
  },
  {
   "cell_type": "code",
   "execution_count": 31,
   "id": "82892809d8c27e76",
   "metadata": {
    "ExecuteTime": {
     "end_time": "2025-03-04T17:20:29.180532100Z",
     "start_time": "2025-02-23T21:41:10.978801Z"
    },
    "vscode": {
     "languageId": "r"
    }
   },
   "outputs": [],
   "source": [
    "#Directorio cuidados\n",
    "if (!dir.exists(\"datos/cuidados\")) {\n",
    "  dir.create(\"datos/cuidados\")\n",
    "}"
   ]
  },
  {
   "cell_type": "code",
   "execution_count": 32,
   "id": "b1ceccfd5325e605",
   "metadata": {
    "ExecuteTime": {
     "end_time": "2025-03-04T17:20:29.180532100Z",
     "start_time": "2025-02-23T21:41:49.196192Z"
    },
    "vscode": {
     "languageId": "r"
    }
   },
   "outputs": [],
   "source": [
    "#Descargar, descomprimir y borrar zip en la carpeta \"datos\"\n",
    "temp <- tempfile()\n",
    "download.file(url_cuenta_sat, temp, mode = \"wb\")\n",
    "unzip(temp, exdir = \"datos/cuidados\")\n",
    "unlink(temp)"
   ]
  },
  {
   "cell_type": "code",
   "execution_count": 33,
   "id": "5f33f667defff097",
   "metadata": {
    "ExecuteTime": {
     "end_time": "2025-03-04T17:20:29.180532100Z",
     "start_time": "2025-02-23T22:36:34.053483Z"
    },
    "vscode": {
     "languageId": "r"
    }
   },
   "outputs": [
    {
     "name": "stderr",
     "output_type": "stream",
     "text": [
      "\u001b[1m\u001b[22mNew names:\n",
      "\u001b[36m•\u001b[39m `` -> `...2`\n",
      "\u001b[36m•\u001b[39m `` -> `...3`\n",
      "\u001b[36m•\u001b[39m `` -> `...4`\n",
      "\u001b[36m•\u001b[39m `` -> `...5`\n",
      "\u001b[36m•\u001b[39m `` -> `...6`\n",
      "\u001b[36m•\u001b[39m `` -> `...7`\n",
      "\u001b[36m•\u001b[39m `` -> `...8`\n",
      "\u001b[36m•\u001b[39m `` -> `...9`\n",
      "\u001b[36m•\u001b[39m `` -> `...10`\n",
      "\u001b[36m•\u001b[39m `` -> `...11`\n",
      "\u001b[36m•\u001b[39m `` -> `...12`\n",
      "\u001b[36m•\u001b[39m `` -> `...13`\n",
      "\u001b[36m•\u001b[39m `` -> `...14`\n",
      "\u001b[36m•\u001b[39m `` -> `...15`\n",
      "\u001b[36m•\u001b[39m `` -> `...16`\n",
      "\u001b[36m•\u001b[39m `` -> `...17`\n",
      "\u001b[36m•\u001b[39m `` -> `...18`\n",
      "\u001b[36m•\u001b[39m `` -> `...19`\n",
      "\u001b[36m•\u001b[39m `` -> `...20`\n",
      "\u001b[36m•\u001b[39m `` -> `...21`\n",
      "\u001b[36m•\u001b[39m `` -> `...22`\n",
      "\u001b[36m•\u001b[39m `` -> `...23`\n",
      "\u001b[36m•\u001b[39m `` -> `...24`\n",
      "\u001b[36m•\u001b[39m `` -> `...25`\n",
      "\u001b[36m•\u001b[39m `` -> `...26`\n",
      "\u001b[36m•\u001b[39m `` -> `...27`\n",
      "\u001b[36m•\u001b[39m `` -> `...28`\n",
      "\u001b[36m•\u001b[39m `` -> `...29`\n",
      "\u001b[36m•\u001b[39m `` -> `...30`\n",
      "\u001b[36m•\u001b[39m `` -> `...31`\n",
      "\u001b[36m•\u001b[39m `` -> `...32`\n",
      "\u001b[36m•\u001b[39m `` -> `...33`\n",
      "\u001b[36m•\u001b[39m `` -> `...34`\n",
      "\u001b[36m•\u001b[39m `` -> `...35`\n",
      "\u001b[36m•\u001b[39m `` -> `...36`\n",
      "\u001b[36m•\u001b[39m `` -> `...37`\n",
      "\u001b[36m•\u001b[39m `` -> `...38`\n",
      "\u001b[36m•\u001b[39m `` -> `...39`\n",
      "\u001b[36m•\u001b[39m `` -> `...40`\n",
      "\u001b[36m•\u001b[39m `` -> `...41`\n",
      "\u001b[36m•\u001b[39m `` -> `...42`\n",
      "\u001b[36m•\u001b[39m `` -> `...43`\n",
      "\u001b[36m•\u001b[39m `` -> `...44`\n",
      "\u001b[36m•\u001b[39m `` -> `...45`\n",
      "\u001b[36m•\u001b[39m `` -> `...46`\n",
      "\u001b[36m•\u001b[39m `` -> `...47`\n",
      "\u001b[36m•\u001b[39m `` -> `...48`\n",
      "\u001b[36m•\u001b[39m `` -> `...49`\n",
      "\u001b[36m•\u001b[39m `` -> `...50`\n",
      "\u001b[36m•\u001b[39m `` -> `...51`\n",
      "\u001b[36m•\u001b[39m `` -> `...52`\n",
      "\u001b[36m•\u001b[39m `` -> `...53`\n",
      "\u001b[36m•\u001b[39m `` -> `...54`\n",
      "\u001b[36m•\u001b[39m `` -> `...55`\n",
      "\u001b[36m•\u001b[39m `` -> `...56`\n",
      "\u001b[36m•\u001b[39m `` -> `...57`\n",
      "\u001b[36m•\u001b[39m `` -> `...58`\n",
      "\u001b[36m•\u001b[39m `` -> `...59`\n",
      "\u001b[36m•\u001b[39m `` -> `...60`\n",
      "\u001b[36m•\u001b[39m `` -> `...61`\n",
      "\u001b[36m•\u001b[39m `` -> `...62`\n",
      "\u001b[36m•\u001b[39m `` -> `...63`\n",
      "\u001b[36m•\u001b[39m `` -> `...64`\n",
      "\u001b[36m•\u001b[39m `` -> `...65`\n",
      "\u001b[36m•\u001b[39m `` -> `...66`\n",
      "\u001b[36m•\u001b[39m `` -> `...67`\n",
      "\u001b[36m•\u001b[39m `` -> `...68`\n",
      "\u001b[36m•\u001b[39m `` -> `...69`\n",
      "\u001b[36m•\u001b[39m `` -> `...70`\n",
      "\u001b[36m•\u001b[39m `` -> `...71`\n",
      "\u001b[36m•\u001b[39m `` -> `...72`\n",
      "\u001b[36m•\u001b[39m `` -> `...73`\n",
      "\u001b[36m•\u001b[39m `` -> `...74`\n",
      "\u001b[36m•\u001b[39m `` -> `...75`\n",
      "\u001b[36m•\u001b[39m `` -> `...76`\n",
      "\u001b[36m•\u001b[39m `` -> `...77`\n",
      "\u001b[36m•\u001b[39m `` -> `...78`\n",
      "\u001b[36m•\u001b[39m `` -> `...79`\n",
      "\u001b[36m•\u001b[39m `` -> `...80`\n",
      "\u001b[36m•\u001b[39m `` -> `...81`\n",
      "\u001b[36m•\u001b[39m `` -> `...82`\n",
      "\u001b[36m•\u001b[39m `` -> `...83`\n",
      "\u001b[36m•\u001b[39m `` -> `...84`\n",
      "\u001b[36m•\u001b[39m `` -> `...85`\n",
      "\u001b[36m•\u001b[39m `` -> `...86`\n",
      "\u001b[36m•\u001b[39m `` -> `...87`\n",
      "\u001b[36m•\u001b[39m `` -> `...88`\n",
      "\u001b[36m•\u001b[39m `` -> `...89`\n",
      "\u001b[36m•\u001b[39m `` -> `...90`\n",
      "\u001b[36m•\u001b[39m `` -> `...91`\n",
      "\u001b[36m•\u001b[39m `` -> `...92`\n",
      "\u001b[36m•\u001b[39m `` -> `...93`\n",
      "\u001b[36m•\u001b[39m `` -> `...94`\n",
      "\u001b[36m•\u001b[39m `` -> `...95`\n",
      "\u001b[36m•\u001b[39m `` -> `...96`\n",
      "Warning message in col_names[is.na(col_names) | col_names == \"\"] <- paste0(\"Unnamed_\", :\n",
      "\"número de elementos para sustituir no es un múltiplo de la longitud del reemplazo\"\n"
     ]
    },
    {
     "data": {
      "text/html": [
       "<table class=\"dataframe\">\n",
       "<caption>A tibble: 5 × 5</caption>\n",
       "<thead>\n",
       "\t<tr><th scope=col>cuidados</th><th scope=col>year</th><th scope=col>Mujer</th><th scope=col>Hombre</th><th scope=col>rel_muj_hom</th></tr>\n",
       "\t<tr><th scope=col>&lt;chr&gt;</th><th scope=col>&lt;dbl&gt;</th><th scope=col>&lt;dbl&gt;</th><th scope=col>&lt;dbl&gt;</th><th scope=col>&lt;dbl&gt;</th></tr>\n",
       "</thead>\n",
       "<tbody>\n",
       "\t<tr><td>Total</td><td>2019</td><td>142688521</td><td>62813404</td><td>2.27</td></tr>\n",
       "\t<tr><td>Total</td><td>2020</td><td>145605145</td><td>65376670</td><td>2.23</td></tr>\n",
       "\t<tr><td>Total</td><td>2021</td><td>148272245</td><td>68606916</td><td>2.16</td></tr>\n",
       "\t<tr><td>Total</td><td>2022</td><td>153227469</td><td>72853711</td><td>2.10</td></tr>\n",
       "\t<tr><td>Total</td><td>2023</td><td>157280688</td><td>76898733</td><td>2.05</td></tr>\n",
       "</tbody>\n",
       "</table>\n"
      ],
      "text/latex": [
       "A tibble: 5 × 5\n",
       "\\begin{tabular}{lllll}\n",
       " cuidados & year & Mujer & Hombre & rel\\_muj\\_hom\\\\\n",
       " <chr> & <dbl> & <dbl> & <dbl> & <dbl>\\\\\n",
       "\\hline\n",
       "\t Total & 2019 & 142688521 & 62813404 & 2.27\\\\\n",
       "\t Total & 2020 & 145605145 & 65376670 & 2.23\\\\\n",
       "\t Total & 2021 & 148272245 & 68606916 & 2.16\\\\\n",
       "\t Total & 2022 & 153227469 & 72853711 & 2.10\\\\\n",
       "\t Total & 2023 & 157280688 & 76898733 & 2.05\\\\\n",
       "\\end{tabular}\n"
      ],
      "text/markdown": [
       "\n",
       "A tibble: 5 × 5\n",
       "\n",
       "| cuidados &lt;chr&gt; | year &lt;dbl&gt; | Mujer &lt;dbl&gt; | Hombre &lt;dbl&gt; | rel_muj_hom &lt;dbl&gt; |\n",
       "|---|---|---|---|---|\n",
       "| Total | 2019 | 142688521 | 62813404 | 2.27 |\n",
       "| Total | 2020 | 145605145 | 65376670 | 2.23 |\n",
       "| Total | 2021 | 148272245 | 68606916 | 2.16 |\n",
       "| Total | 2022 | 153227469 | 72853711 | 2.10 |\n",
       "| Total | 2023 | 157280688 | 76898733 | 2.05 |\n",
       "\n"
      ],
      "text/plain": [
       "  cuidados year Mujer     Hombre   rel_muj_hom\n",
       "1 Total    2019 142688521 62813404 2.27       \n",
       "2 Total    2020 145605145 65376670 2.23       \n",
       "3 Total    2021 148272245 68606916 2.16       \n",
       "4 Total    2022 153227469 72853711 2.10       \n",
       "5 Total    2023 157280688 76898733 2.05       "
      ]
     },
     "metadata": {},
     "output_type": "display_data"
    }
   ],
   "source": [
    "###Leer tabla de tiempo destinado a cuidados\n",
    "\n",
    "\n",
    "# Read the data and process it\n",
    "tiempo_dest <- rio::import(\"https://www.inegi.org.mx/contenidos/programas/tnrh/2018/tabulados/ori/CSTNRHM_67.xlsx\") %>%\n",
    "  as_tibble() %>%\n",
    "  slice(6:n()) %>%  # Skip first 4 rows\n",
    "  {\n",
    "    col_names <- as.character(.[1, ])  # Extract first row as column names\n",
    "\n",
    "    # Replace NA or empty column names with unique placeholders\n",
    "    col_names[is.na(col_names) | col_names == \"\"] <- paste0(\"Unnamed_\", seq_along(col_names))\n",
    "\n",
    "    # Ensure unique column names\n",
    "    col_names <- make.names(col_names, unique = TRUE)\n",
    "\n",
    "    colnames(.) <- col_names  # Assign new column names\n",
    "    slice(., -1)  # Remove first row after setting it as header\n",
    "  }\n",
    "\n",
    "tiempo_dest<-tiempo_dest%>%\n",
    "janitor::clean_names()%>%\n",
    "#Seleccionar primera columna y todas aquellas que contengan \"horas_semanales\"\n",
    "select(1,contains(\"horas_semanales_\"))%>%rename(cuidados=1)%>%\n",
    "#Eliminar espacios atrás en primera columna\n",
    "mutate(cuidados=str_trim(cuidados, side = \"left\"))%>%\n",
    "#Filtrar si la primera columna contiene \"Total\"\n",
    "filter(str_detect(cuidados,\"Total\"))%>%\n",
    "#Dejar fila 10\n",
    "slice(10)%>%\n",
    "#Quitar columnas que contengan \"horas_semanales_per_capita\"\n",
    "select(-contains(\"horas_semanales_per_capita\"))%>%\n",
    "#Pivot long\n",
    "pivot_longer(-c(cuidados),names_to=\"sexo\",values_to=\"horas_semanales\")%>%\n",
    "filter(as.numeric(gsub(\"horas_semanales_\", \"\", sexo)) %% 3 != 0)%>%\n",
    "select(!sexo)%>%\n",
    "#Crear variable sexo donde primero sea mujer y después hombre\n",
    "mutate(sexo=ifelse(row_number()%%2==0,\"Hombre\",\"Mujer\"))%>%\n",
    "  mutate(year = 2019 + ((row_number() - 1) %/% 2))%>%\n",
    "  mutate(horas_semanales=as.numeric(horas_semanales))\n",
    "\n",
    "tiempo_dest<-tiempo_dest%>%\n",
    "pivot_wider(names_from = sexo, values_from = horas_semanales)%>%\n",
    "#Relación con dos decimales\n",
    "mutate(rel_muj_hom=round(Mujer/Hombre,2))\n",
    "\n",
    "\n",
    "tiempo_dest\n",
    "\n"
   ]
  },
  {
   "cell_type": "markdown",
   "id": "d5554e90a07487cd",
   "metadata": {},
   "source": [
    "### Estimación de metas\n",
    "\n",
    "\n",
    "#### Promedio diario de víctimas de delitos con perspectiva de género"
   ]
  },
  {
   "cell_type": "code",
   "execution_count": 34,
   "id": "e5023c69",
   "metadata": {
    "vscode": {
     "languageId": "r"
    }
   },
   "outputs": [
    {
     "data": {
      "text/html": [
       "<table class=\"dataframe\">\n",
       "<caption>A tibble: 6 × 3</caption>\n",
       "<thead>\n",
       "\t<tr><th scope=col>year</th><th scope=col>vict</th><th scope=col>promedio_diario</th></tr>\n",
       "\t<tr><th scope=col>&lt;dbl&gt;</th><th scope=col>&lt;int&gt;</th><th scope=col>&lt;dbl&gt;</th></tr>\n",
       "</thead>\n",
       "<tbody>\n",
       "\t<tr><td>2019</td><td>28658</td><td> 78.51507</td></tr>\n",
       "\t<tr><td>2020</td><td>26082</td><td> 71.45753</td></tr>\n",
       "\t<tr><td>2021</td><td>37095</td><td>101.63014</td></tr>\n",
       "\t<tr><td>2022</td><td>40431</td><td>110.76986</td></tr>\n",
       "\t<tr><td>2023</td><td>40775</td><td>111.71233</td></tr>\n",
       "\t<tr><td>2024</td><td>29962</td><td> 82.08767</td></tr>\n",
       "</tbody>\n",
       "</table>\n"
      ],
      "text/latex": [
       "A tibble: 6 × 3\n",
       "\\begin{tabular}{lll}\n",
       " year & vict & promedio\\_diario\\\\\n",
       " <dbl> & <int> & <dbl>\\\\\n",
       "\\hline\n",
       "\t 2019 & 28658 &  78.51507\\\\\n",
       "\t 2020 & 26082 &  71.45753\\\\\n",
       "\t 2021 & 37095 & 101.63014\\\\\n",
       "\t 2022 & 40431 & 110.76986\\\\\n",
       "\t 2023 & 40775 & 111.71233\\\\\n",
       "\t 2024 & 29962 &  82.08767\\\\\n",
       "\\end{tabular}\n"
      ],
      "text/markdown": [
       "\n",
       "A tibble: 6 × 3\n",
       "\n",
       "| year &lt;dbl&gt; | vict &lt;int&gt; | promedio_diario &lt;dbl&gt; |\n",
       "|---|---|---|\n",
       "| 2019 | 28658 |  78.51507 |\n",
       "| 2020 | 26082 |  71.45753 |\n",
       "| 2021 | 37095 | 101.63014 |\n",
       "| 2022 | 40431 | 110.76986 |\n",
       "| 2023 | 40775 | 111.71233 |\n",
       "| 2024 | 29962 |  82.08767 |\n",
       "\n"
      ],
      "text/plain": [
       "  year vict  promedio_diario\n",
       "1 2019 28658  78.51507      \n",
       "2 2020 26082  71.45753      \n",
       "3 2021 37095 101.63014      \n",
       "4 2022 40431 110.76986      \n",
       "5 2023 40775 111.71233      \n",
       "6 2024 29962  82.08767      "
      ]
     },
     "metadata": {},
     "output_type": "display_data"
    }
   ],
   "source": [
    "vict_pg"
   ]
  },
  {
   "cell_type": "code",
   "execution_count": 35,
   "id": "4834accc4cf33f68",
   "metadata": {
    "vscode": {
     "languageId": "r"
    }
   },
   "outputs": [
    {
     "data": {
      "text/html": [
       "-6.87095672524811"
      ],
      "text/latex": [
       "-6.87095672524811"
      ],
      "text/markdown": [
       "-6.87095672524811"
      ],
      "text/plain": [
       "[1] -6.870957"
      ]
     },
     "metadata": {},
     "output_type": "display_data"
    }
   ],
   "source": [
    "### Calcular tasa de crecimiento promedio anual de promedio_diario\n",
    "\n",
    "valor_final<-vict_pg%>%\n",
    "  filter(year==2024)%>%\n",
    "  select(promedio_diario)%>%\n",
    "  pull()\n",
    "\n",
    " valor_inicial<-vict_pg%>%\n",
    "  filter(year==2021)%>%\n",
    "  select(promedio_diario)%>%\n",
    "  pull()\n",
    "\n",
    "\n",
    "tasa_crecimiento<-((valor_final/valor_inicial)^(1/3)-1)*100\n",
    "tasa_crecimiento"
   ]
  },
  {
   "cell_type": "code",
   "execution_count": 36,
   "id": "b05afea6",
   "metadata": {
    "vscode": {
     "languageId": "r"
    }
   },
   "outputs": [
    {
     "data": {
      "text/html": [
       "-0.0687095672524811"
      ],
      "text/latex": [
       "-0.0687095672524811"
      ],
      "text/markdown": [
       "-0.0687095672524811"
      ],
      "text/plain": [
       "[1] -0.06870957"
      ]
     },
     "metadata": {},
     "output_type": "display_data"
    }
   ],
   "source": [
    "#Estimar valores de 2023 a 2045\n",
    "tcma_vict<-((vict_pg$promedio_diario[vict_pg$year==2024]/vict_pg$promedio_diario[vict_pg$year==2021])^(1/(2024-2021))-1)\n",
    "tcma_vict"
   ]
  },
  {
   "cell_type": "code",
   "execution_count": 37,
   "id": "78379bf9",
   "metadata": {
    "vscode": {
     "languageId": "r"
    }
   },
   "outputs": [
    {
     "data": {
      "text/html": [
       "<table class=\"dataframe\">\n",
       "<caption>A data.frame: 21 × 2</caption>\n",
       "<thead>\n",
       "\t<tr><th scope=col>year</th><th scope=col>promedio_diario</th></tr>\n",
       "\t<tr><th scope=col>&lt;int&gt;</th><th scope=col>&lt;dbl&gt;</th></tr>\n",
       "</thead>\n",
       "<tbody>\n",
       "\t<tr><td>2025</td><td>76.45</td></tr>\n",
       "\t<tr><td>2026</td><td>71.19</td></tr>\n",
       "\t<tr><td>2027</td><td>66.30</td></tr>\n",
       "\t<tr><td>2028</td><td>61.75</td></tr>\n",
       "\t<tr><td>2029</td><td>57.50</td></tr>\n",
       "\t<tr><td>2030</td><td>53.55</td></tr>\n",
       "\t<tr><td>2031</td><td>49.87</td></tr>\n",
       "\t<tr><td>2032</td><td>46.45</td></tr>\n",
       "\t<tr><td>2033</td><td>43.26</td></tr>\n",
       "\t<tr><td>2034</td><td>40.28</td></tr>\n",
       "\t<tr><td>2035</td><td>37.52</td></tr>\n",
       "\t<tr><td>2036</td><td>34.94</td></tr>\n",
       "\t<tr><td>2037</td><td>32.54</td></tr>\n",
       "\t<tr><td>2038</td><td>30.30</td></tr>\n",
       "\t<tr><td>2039</td><td>28.22</td></tr>\n",
       "\t<tr><td>2040</td><td>26.28</td></tr>\n",
       "\t<tr><td>2041</td><td>24.48</td></tr>\n",
       "\t<tr><td>2042</td><td>22.79</td></tr>\n",
       "\t<tr><td>2043</td><td>21.23</td></tr>\n",
       "\t<tr><td>2044</td><td>19.77</td></tr>\n",
       "\t<tr><td>2045</td><td>18.41</td></tr>\n",
       "</tbody>\n",
       "</table>\n"
      ],
      "text/latex": [
       "A data.frame: 21 × 2\n",
       "\\begin{tabular}{ll}\n",
       " year & promedio\\_diario\\\\\n",
       " <int> & <dbl>\\\\\n",
       "\\hline\n",
       "\t 2025 & 76.45\\\\\n",
       "\t 2026 & 71.19\\\\\n",
       "\t 2027 & 66.30\\\\\n",
       "\t 2028 & 61.75\\\\\n",
       "\t 2029 & 57.50\\\\\n",
       "\t 2030 & 53.55\\\\\n",
       "\t 2031 & 49.87\\\\\n",
       "\t 2032 & 46.45\\\\\n",
       "\t 2033 & 43.26\\\\\n",
       "\t 2034 & 40.28\\\\\n",
       "\t 2035 & 37.52\\\\\n",
       "\t 2036 & 34.94\\\\\n",
       "\t 2037 & 32.54\\\\\n",
       "\t 2038 & 30.30\\\\\n",
       "\t 2039 & 28.22\\\\\n",
       "\t 2040 & 26.28\\\\\n",
       "\t 2041 & 24.48\\\\\n",
       "\t 2042 & 22.79\\\\\n",
       "\t 2043 & 21.23\\\\\n",
       "\t 2044 & 19.77\\\\\n",
       "\t 2045 & 18.41\\\\\n",
       "\\end{tabular}\n"
      ],
      "text/markdown": [
       "\n",
       "A data.frame: 21 × 2\n",
       "\n",
       "| year &lt;int&gt; | promedio_diario &lt;dbl&gt; |\n",
       "|---|---|\n",
       "| 2025 | 76.45 |\n",
       "| 2026 | 71.19 |\n",
       "| 2027 | 66.30 |\n",
       "| 2028 | 61.75 |\n",
       "| 2029 | 57.50 |\n",
       "| 2030 | 53.55 |\n",
       "| 2031 | 49.87 |\n",
       "| 2032 | 46.45 |\n",
       "| 2033 | 43.26 |\n",
       "| 2034 | 40.28 |\n",
       "| 2035 | 37.52 |\n",
       "| 2036 | 34.94 |\n",
       "| 2037 | 32.54 |\n",
       "| 2038 | 30.30 |\n",
       "| 2039 | 28.22 |\n",
       "| 2040 | 26.28 |\n",
       "| 2041 | 24.48 |\n",
       "| 2042 | 22.79 |\n",
       "| 2043 | 21.23 |\n",
       "| 2044 | 19.77 |\n",
       "| 2045 | 18.41 |\n",
       "\n"
      ],
      "text/plain": [
       "   year promedio_diario\n",
       "1  2025 76.45          \n",
       "2  2026 71.19          \n",
       "3  2027 66.30          \n",
       "4  2028 61.75          \n",
       "5  2029 57.50          \n",
       "6  2030 53.55          \n",
       "7  2031 49.87          \n",
       "8  2032 46.45          \n",
       "9  2033 43.26          \n",
       "10 2034 40.28          \n",
       "11 2035 37.52          \n",
       "12 2036 34.94          \n",
       "13 2037 32.54          \n",
       "14 2038 30.30          \n",
       "15 2039 28.22          \n",
       "16 2040 26.28          \n",
       "17 2041 24.48          \n",
       "18 2042 22.79          \n",
       "19 2043 21.23          \n",
       "20 2044 19.77          \n",
       "21 2045 18.41          "
      ]
     },
     "metadata": {},
     "output_type": "display_data"
    }
   ],
   "source": [
    "#Extender la serie de 2025 a 2045\n",
    "\n",
    "extendido_vict<-data.frame(year=2025:2045)\n",
    "\n",
    "extendido_vict$promedio_diario<-vict_pg$promedio_diario[vict_pg$year==2024]*cumprod(rep(1+tcma_vict,length(2025:2045)))\n",
    "extendido_vict%>%\n",
    "    mutate(promedio_diario=round(promedio_diario,2))"
   ]
  },
  {
   "cell_type": "markdown",
   "id": "e9c24154",
   "metadata": {},
   "source": [
    "#### Promedio diario de víctimas de feminicidio"
   ]
  },
  {
   "cell_type": "code",
   "execution_count": 38,
   "id": "18c061f4",
   "metadata": {
    "vscode": {
     "languageId": "r"
    }
   },
   "outputs": [
    {
     "data": {
      "text/html": [
       "<table class=\"dataframe\">\n",
       "<caption>A tibble: 6 × 3</caption>\n",
       "<thead>\n",
       "\t<tr><th scope=col>year</th><th scope=col>vict</th><th scope=col>promedio_diario</th></tr>\n",
       "\t<tr><th scope=col>&lt;dbl&gt;</th><th scope=col>&lt;int&gt;</th><th scope=col>&lt;dbl&gt;</th></tr>\n",
       "</thead>\n",
       "<tbody>\n",
       "\t<tr><td>2019</td><td>70</td><td>0.1917808</td></tr>\n",
       "\t<tr><td>2020</td><td>70</td><td>0.1917808</td></tr>\n",
       "\t<tr><td>2021</td><td>61</td><td>0.1671233</td></tr>\n",
       "\t<tr><td>2022</td><td>78</td><td>0.2136986</td></tr>\n",
       "\t<tr><td>2023</td><td>63</td><td>0.1726027</td></tr>\n",
       "\t<tr><td>2024</td><td>43</td><td>0.1178082</td></tr>\n",
       "</tbody>\n",
       "</table>\n"
      ],
      "text/latex": [
       "A tibble: 6 × 3\n",
       "\\begin{tabular}{lll}\n",
       " year & vict & promedio\\_diario\\\\\n",
       " <dbl> & <int> & <dbl>\\\\\n",
       "\\hline\n",
       "\t 2019 & 70 & 0.1917808\\\\\n",
       "\t 2020 & 70 & 0.1917808\\\\\n",
       "\t 2021 & 61 & 0.1671233\\\\\n",
       "\t 2022 & 78 & 0.2136986\\\\\n",
       "\t 2023 & 63 & 0.1726027\\\\\n",
       "\t 2024 & 43 & 0.1178082\\\\\n",
       "\\end{tabular}\n"
      ],
      "text/markdown": [
       "\n",
       "A tibble: 6 × 3\n",
       "\n",
       "| year &lt;dbl&gt; | vict &lt;int&gt; | promedio_diario &lt;dbl&gt; |\n",
       "|---|---|---|\n",
       "| 2019 | 70 | 0.1917808 |\n",
       "| 2020 | 70 | 0.1917808 |\n",
       "| 2021 | 61 | 0.1671233 |\n",
       "| 2022 | 78 | 0.2136986 |\n",
       "| 2023 | 63 | 0.1726027 |\n",
       "| 2024 | 43 | 0.1178082 |\n",
       "\n"
      ],
      "text/plain": [
       "  year vict promedio_diario\n",
       "1 2019 70   0.1917808      \n",
       "2 2020 70   0.1917808      \n",
       "3 2021 61   0.1671233      \n",
       "4 2022 78   0.2136986      \n",
       "5 2023 63   0.1726027      \n",
       "6 2024 43   0.1178082      "
      ]
     },
     "metadata": {},
     "output_type": "display_data"
    }
   ],
   "source": [
    "vict_fem"
   ]
  },
  {
   "cell_type": "code",
   "execution_count": 39,
   "id": "23c86021",
   "metadata": {
    "vscode": {
     "languageId": "r"
    }
   },
   "outputs": [
    {
     "data": {
      "text/html": [
       "-0.110021448656072"
      ],
      "text/latex": [
       "-0.110021448656072"
      ],
      "text/markdown": [
       "-0.110021448656072"
      ],
      "text/plain": [
       "[1] -0.1100214"
      ]
     },
     "metadata": {},
     "output_type": "display_data"
    }
   ],
   "source": [
    "tcma_vict_fem<-((vict_fem$promedio_diario[vict_fem$year==2024]/vict_fem$promedio_diario[vict_fem$year==2021])^(1/(2024-2021))-1)\n",
    "tcma_vict_fem"
   ]
  },
  {
   "cell_type": "code",
   "execution_count": 40,
   "id": "d2a7cc43",
   "metadata": {
    "vscode": {
     "languageId": "r"
    }
   },
   "outputs": [
    {
     "data": {
      "text/html": [
       "<table class=\"dataframe\">\n",
       "<caption>A data.frame: 21 × 2</caption>\n",
       "<thead>\n",
       "\t<tr><th scope=col>year</th><th scope=col>promedio_diario</th></tr>\n",
       "\t<tr><th scope=col>&lt;int&gt;</th><th scope=col>&lt;dbl&gt;</th></tr>\n",
       "</thead>\n",
       "<tbody>\n",
       "\t<tr><td>2025</td><td>0.11</td></tr>\n",
       "\t<tr><td>2026</td><td>0.10</td></tr>\n",
       "\t<tr><td>2027</td><td>0.10</td></tr>\n",
       "\t<tr><td>2028</td><td>0.09</td></tr>\n",
       "\t<tr><td>2029</td><td>0.08</td></tr>\n",
       "\t<tr><td>2030</td><td>0.08</td></tr>\n",
       "\t<tr><td>2031</td><td>0.07</td></tr>\n",
       "\t<tr><td>2032</td><td>0.07</td></tr>\n",
       "\t<tr><td>2033</td><td>0.06</td></tr>\n",
       "\t<tr><td>2034</td><td>0.06</td></tr>\n",
       "\t<tr><td>2035</td><td>0.05</td></tr>\n",
       "\t<tr><td>2036</td><td>0.05</td></tr>\n",
       "\t<tr><td>2037</td><td>0.05</td></tr>\n",
       "\t<tr><td>2038</td><td>0.04</td></tr>\n",
       "\t<tr><td>2039</td><td>0.04</td></tr>\n",
       "\t<tr><td>2040</td><td>0.04</td></tr>\n",
       "\t<tr><td>2041</td><td>0.04</td></tr>\n",
       "\t<tr><td>2042</td><td>0.03</td></tr>\n",
       "\t<tr><td>2043</td><td>0.03</td></tr>\n",
       "\t<tr><td>2044</td><td>0.03</td></tr>\n",
       "\t<tr><td>2045</td><td>0.03</td></tr>\n",
       "</tbody>\n",
       "</table>\n"
      ],
      "text/latex": [
       "A data.frame: 21 × 2\n",
       "\\begin{tabular}{ll}\n",
       " year & promedio\\_diario\\\\\n",
       " <int> & <dbl>\\\\\n",
       "\\hline\n",
       "\t 2025 & 0.11\\\\\n",
       "\t 2026 & 0.10\\\\\n",
       "\t 2027 & 0.10\\\\\n",
       "\t 2028 & 0.09\\\\\n",
       "\t 2029 & 0.08\\\\\n",
       "\t 2030 & 0.08\\\\\n",
       "\t 2031 & 0.07\\\\\n",
       "\t 2032 & 0.07\\\\\n",
       "\t 2033 & 0.06\\\\\n",
       "\t 2034 & 0.06\\\\\n",
       "\t 2035 & 0.05\\\\\n",
       "\t 2036 & 0.05\\\\\n",
       "\t 2037 & 0.05\\\\\n",
       "\t 2038 & 0.04\\\\\n",
       "\t 2039 & 0.04\\\\\n",
       "\t 2040 & 0.04\\\\\n",
       "\t 2041 & 0.04\\\\\n",
       "\t 2042 & 0.03\\\\\n",
       "\t 2043 & 0.03\\\\\n",
       "\t 2044 & 0.03\\\\\n",
       "\t 2045 & 0.03\\\\\n",
       "\\end{tabular}\n"
      ],
      "text/markdown": [
       "\n",
       "A data.frame: 21 × 2\n",
       "\n",
       "| year &lt;int&gt; | promedio_diario &lt;dbl&gt; |\n",
       "|---|---|\n",
       "| 2025 | 0.11 |\n",
       "| 2026 | 0.10 |\n",
       "| 2027 | 0.10 |\n",
       "| 2028 | 0.09 |\n",
       "| 2029 | 0.08 |\n",
       "| 2030 | 0.08 |\n",
       "| 2031 | 0.07 |\n",
       "| 2032 | 0.07 |\n",
       "| 2033 | 0.06 |\n",
       "| 2034 | 0.06 |\n",
       "| 2035 | 0.05 |\n",
       "| 2036 | 0.05 |\n",
       "| 2037 | 0.05 |\n",
       "| 2038 | 0.04 |\n",
       "| 2039 | 0.04 |\n",
       "| 2040 | 0.04 |\n",
       "| 2041 | 0.04 |\n",
       "| 2042 | 0.03 |\n",
       "| 2043 | 0.03 |\n",
       "| 2044 | 0.03 |\n",
       "| 2045 | 0.03 |\n",
       "\n"
      ],
      "text/plain": [
       "   year promedio_diario\n",
       "1  2025 0.11           \n",
       "2  2026 0.10           \n",
       "3  2027 0.10           \n",
       "4  2028 0.09           \n",
       "5  2029 0.08           \n",
       "6  2030 0.08           \n",
       "7  2031 0.07           \n",
       "8  2032 0.07           \n",
       "9  2033 0.06           \n",
       "10 2034 0.06           \n",
       "11 2035 0.05           \n",
       "12 2036 0.05           \n",
       "13 2037 0.05           \n",
       "14 2038 0.04           \n",
       "15 2039 0.04           \n",
       "16 2040 0.04           \n",
       "17 2041 0.04           \n",
       "18 2042 0.03           \n",
       "19 2043 0.03           \n",
       "20 2044 0.03           \n",
       "21 2045 0.03           "
      ]
     },
     "metadata": {},
     "output_type": "display_data"
    }
   ],
   "source": [
    "extendido_vict_fem<-data.frame(year=2025:2045)\n",
    "\n",
    "extendido_vict_fem$promedio_diario<-vict_fem$promedio_diario[vict_fem$year==2024]*cumprod(rep(1+tcma_vict,length(2025:2045)))\n",
    "extendido_vict_fem%>%\n",
    "    mutate(promedio_diario=round(promedio_diario,2))"
   ]
  },
  {
   "cell_type": "markdown",
   "id": "58a6a75a",
   "metadata": {},
   "source": [
    "#### Episodios de violencia experimentado por las mujeres"
   ]
  },
  {
   "cell_type": "code",
   "execution_count": 41,
   "id": "7e22b09c",
   "metadata": {
    "vscode": {
     "languageId": "r"
    }
   },
   "outputs": [
    {
     "data": {
      "text/html": [
       "<table class=\"dataframe\">\n",
       "<caption>A tibble: 2 × 2</caption>\n",
       "<thead>\n",
       "\t<tr><th scope=col>year</th><th scope=col>violencia</th></tr>\n",
       "\t<tr><th scope=col>&lt;dbl&gt;</th><th scope=col>&lt;dbl&gt;</th></tr>\n",
       "</thead>\n",
       "<tbody>\n",
       "\t<tr><td>2016</td><td>55.06094</td></tr>\n",
       "\t<tr><td>2021</td><td>46.13754</td></tr>\n",
       "</tbody>\n",
       "</table>\n"
      ],
      "text/latex": [
       "A tibble: 2 × 2\n",
       "\\begin{tabular}{ll}\n",
       " year & violencia\\\\\n",
       " <dbl> & <dbl>\\\\\n",
       "\\hline\n",
       "\t 2016 & 55.06094\\\\\n",
       "\t 2021 & 46.13754\\\\\n",
       "\\end{tabular}\n"
      ],
      "text/markdown": [
       "\n",
       "A tibble: 2 × 2\n",
       "\n",
       "| year &lt;dbl&gt; | violencia &lt;dbl&gt; |\n",
       "|---|---|\n",
       "| 2016 | 55.06094 |\n",
       "| 2021 | 46.13754 |\n",
       "\n"
      ],
      "text/plain": [
       "  year violencia\n",
       "1 2016 55.06094 \n",
       "2 2021 46.13754 "
      ]
     },
     "metadata": {},
     "output_type": "display_data"
    }
   ],
   "source": [
    "violencia_long<-violencia_final%>%pivot_longer(cols = c(violencia_2021, violencia_2016), \n",
    "               names_to = \"anio\", \n",
    "               values_to = \"violencia\")%>%\n",
    "                 mutate(anio = as.numeric(gsub(\"violencia_\", \"\", anio)))%>%\n",
    "                 #Ordenar por año\n",
    "                    arrange(anio)%>%\n",
    "                    #Renombrar anio como year\n",
    "                    rename(year = anio)\n",
    "violencia_long"
   ]
  },
  {
   "cell_type": "code",
   "execution_count": 42,
   "id": "1a13ccbd",
   "metadata": {
    "vscode": {
     "languageId": "r"
    }
   },
   "outputs": [
    {
     "data": {
      "text/html": [
       "-0.03474476667757"
      ],
      "text/latex": [
       "-0.03474476667757"
      ],
      "text/markdown": [
       "-0.03474476667757"
      ],
      "text/plain": [
       "[1] -0.03474477"
      ]
     },
     "metadata": {},
     "output_type": "display_data"
    }
   ],
   "source": [
    "#Hacer el extendido de 2021 a 2045 de 5 en 5 años\n",
    "\n",
    "tcma_violencia<-((violencia_long$violencia[violencia_long$year==2021]/violencia_long$violencia[violencia_long$year==2016])^(1/(2021-2016))-1)\n",
    "tcma_violencia"
   ]
  },
  {
   "cell_type": "code",
   "execution_count": 43,
   "id": "1c679d12",
   "metadata": {
    "vscode": {
     "languageId": "r"
    }
   },
   "outputs": [
    {
     "data": {
      "text/html": [
       "<table class=\"dataframe\">\n",
       "<caption>A data.frame: 24 × 2</caption>\n",
       "<thead>\n",
       "\t<tr><th scope=col>year</th><th scope=col>violencia</th></tr>\n",
       "\t<tr><th scope=col>&lt;int&gt;</th><th scope=col>&lt;dbl&gt;</th></tr>\n",
       "</thead>\n",
       "<tbody>\n",
       "\t<tr><td>2022</td><td>44.53</td></tr>\n",
       "\t<tr><td>2023</td><td>42.99</td></tr>\n",
       "\t<tr><td>2024</td><td>41.49</td></tr>\n",
       "\t<tr><td>2025</td><td>40.05</td></tr>\n",
       "\t<tr><td>2026</td><td>38.66</td></tr>\n",
       "\t<tr><td>2027</td><td>37.32</td></tr>\n",
       "\t<tr><td>2028</td><td>36.02</td></tr>\n",
       "\t<tr><td>2029</td><td>34.77</td></tr>\n",
       "\t<tr><td>2030</td><td>33.56</td></tr>\n",
       "\t<tr><td>2031</td><td>32.39</td></tr>\n",
       "\t<tr><td>2032</td><td>31.27</td></tr>\n",
       "\t<tr><td>2033</td><td>30.18</td></tr>\n",
       "\t<tr><td>2034</td><td>29.13</td></tr>\n",
       "\t<tr><td>2035</td><td>28.12</td></tr>\n",
       "\t<tr><td>2036</td><td>27.14</td></tr>\n",
       "\t<tr><td>2037</td><td>26.20</td></tr>\n",
       "\t<tr><td>2038</td><td>25.29</td></tr>\n",
       "\t<tr><td>2039</td><td>24.41</td></tr>\n",
       "\t<tr><td>2040</td><td>23.56</td></tr>\n",
       "\t<tr><td>2041</td><td>22.75</td></tr>\n",
       "\t<tr><td>2042</td><td>21.96</td></tr>\n",
       "\t<tr><td>2043</td><td>21.19</td></tr>\n",
       "\t<tr><td>2044</td><td>20.46</td></tr>\n",
       "\t<tr><td>2045</td><td>19.75</td></tr>\n",
       "</tbody>\n",
       "</table>\n"
      ],
      "text/latex": [
       "A data.frame: 24 × 2\n",
       "\\begin{tabular}{ll}\n",
       " year & violencia\\\\\n",
       " <int> & <dbl>\\\\\n",
       "\\hline\n",
       "\t 2022 & 44.53\\\\\n",
       "\t 2023 & 42.99\\\\\n",
       "\t 2024 & 41.49\\\\\n",
       "\t 2025 & 40.05\\\\\n",
       "\t 2026 & 38.66\\\\\n",
       "\t 2027 & 37.32\\\\\n",
       "\t 2028 & 36.02\\\\\n",
       "\t 2029 & 34.77\\\\\n",
       "\t 2030 & 33.56\\\\\n",
       "\t 2031 & 32.39\\\\\n",
       "\t 2032 & 31.27\\\\\n",
       "\t 2033 & 30.18\\\\\n",
       "\t 2034 & 29.13\\\\\n",
       "\t 2035 & 28.12\\\\\n",
       "\t 2036 & 27.14\\\\\n",
       "\t 2037 & 26.20\\\\\n",
       "\t 2038 & 25.29\\\\\n",
       "\t 2039 & 24.41\\\\\n",
       "\t 2040 & 23.56\\\\\n",
       "\t 2041 & 22.75\\\\\n",
       "\t 2042 & 21.96\\\\\n",
       "\t 2043 & 21.19\\\\\n",
       "\t 2044 & 20.46\\\\\n",
       "\t 2045 & 19.75\\\\\n",
       "\\end{tabular}\n"
      ],
      "text/markdown": [
       "\n",
       "A data.frame: 24 × 2\n",
       "\n",
       "| year &lt;int&gt; | violencia &lt;dbl&gt; |\n",
       "|---|---|\n",
       "| 2022 | 44.53 |\n",
       "| 2023 | 42.99 |\n",
       "| 2024 | 41.49 |\n",
       "| 2025 | 40.05 |\n",
       "| 2026 | 38.66 |\n",
       "| 2027 | 37.32 |\n",
       "| 2028 | 36.02 |\n",
       "| 2029 | 34.77 |\n",
       "| 2030 | 33.56 |\n",
       "| 2031 | 32.39 |\n",
       "| 2032 | 31.27 |\n",
       "| 2033 | 30.18 |\n",
       "| 2034 | 29.13 |\n",
       "| 2035 | 28.12 |\n",
       "| 2036 | 27.14 |\n",
       "| 2037 | 26.20 |\n",
       "| 2038 | 25.29 |\n",
       "| 2039 | 24.41 |\n",
       "| 2040 | 23.56 |\n",
       "| 2041 | 22.75 |\n",
       "| 2042 | 21.96 |\n",
       "| 2043 | 21.19 |\n",
       "| 2044 | 20.46 |\n",
       "| 2045 | 19.75 |\n",
       "\n"
      ],
      "text/plain": [
       "   year violencia\n",
       "1  2022 44.53    \n",
       "2  2023 42.99    \n",
       "3  2024 41.49    \n",
       "4  2025 40.05    \n",
       "5  2026 38.66    \n",
       "6  2027 37.32    \n",
       "7  2028 36.02    \n",
       "8  2029 34.77    \n",
       "9  2030 33.56    \n",
       "10 2031 32.39    \n",
       "11 2032 31.27    \n",
       "12 2033 30.18    \n",
       "13 2034 29.13    \n",
       "14 2035 28.12    \n",
       "15 2036 27.14    \n",
       "16 2037 26.20    \n",
       "17 2038 25.29    \n",
       "18 2039 24.41    \n",
       "19 2040 23.56    \n",
       "20 2041 22.75    \n",
       "21 2042 21.96    \n",
       "22 2043 21.19    \n",
       "23 2044 20.46    \n",
       "24 2045 19.75    "
      ]
     },
     "metadata": {},
     "output_type": "display_data"
    }
   ],
   "source": [
    "#Extendido pero años de 5 en 5\n",
    "extendido_violencia<-data.frame(year=2022:2045)\n",
    "\n",
    "extendido_violencia$violencia<-violencia_long$violencia[violencia_long$year==2021]*cumprod(rep(1+tcma_violencia,length(2022:2045)))\n",
    "extendido_violencia%>%\n",
    "mutate(violencia=round(violencia,2))"
   ]
  },
  {
   "cell_type": "markdown",
   "id": "0782b50b",
   "metadata": {},
   "source": [
    "#### Percepción de inseguridad"
   ]
  },
  {
   "cell_type": "code",
   "execution_count": 44,
   "id": "45f4d596",
   "metadata": {
    "vscode": {
     "languageId": "r"
    }
   },
   "outputs": [
    {
     "data": {
      "text/html": [
       "<table class=\"dataframe\">\n",
       "<caption>A grouped_df: 5 × 7</caption>\n",
       "<thead>\n",
       "\t<tr><th scope=col>sexo</th><th scope=col>tipo_seg</th><th scope=col>pob</th><th scope=col>pob_cv</th><th scope=col>porcentaje</th><th scope=col>porcentaje_cv</th><th scope=col>year</th></tr>\n",
       "\t<tr><th scope=col>&lt;dbl&gt;</th><th scope=col>&lt;chr&gt;</th><th scope=col>&lt;dbl&gt;</th><th scope=col>&lt;dbl&gt;</th><th scope=col>&lt;dbl&gt;</th><th scope=col>&lt;dbl&gt;</th><th scope=col>&lt;int&gt;</th></tr>\n",
       "</thead>\n",
       "<tbody>\n",
       "\t<tr><td>2</td><td>Inseguro</td><td>3041434</td><td>0.01920830</td><td>86.74312</td><td>0.008427824</td><td>2020</td></tr>\n",
       "\t<tr><td>2</td><td>Inseguro</td><td>3410235</td><td>0.01885379</td><td>86.63874</td><td>0.008147315</td><td>2021</td></tr>\n",
       "\t<tr><td>2</td><td>Inseguro</td><td>3408583</td><td>0.02010401</td><td>85.74512</td><td>0.008338216</td><td>2022</td></tr>\n",
       "\t<tr><td>2</td><td>Inseguro</td><td>3361871</td><td>0.01978396</td><td>83.76595</td><td>0.009211954</td><td>2023</td></tr>\n",
       "\t<tr><td>2</td><td>Inseguro</td><td>3243254</td><td>0.02239651</td><td>78.70570</td><td>0.011078152</td><td>2024</td></tr>\n",
       "</tbody>\n",
       "</table>\n"
      ],
      "text/latex": [
       "A grouped\\_df: 5 × 7\n",
       "\\begin{tabular}{lllllll}\n",
       " sexo & tipo\\_seg & pob & pob\\_cv & porcentaje & porcentaje\\_cv & year\\\\\n",
       " <dbl> & <chr> & <dbl> & <dbl> & <dbl> & <dbl> & <int>\\\\\n",
       "\\hline\n",
       "\t 2 & Inseguro & 3041434 & 0.01920830 & 86.74312 & 0.008427824 & 2020\\\\\n",
       "\t 2 & Inseguro & 3410235 & 0.01885379 & 86.63874 & 0.008147315 & 2021\\\\\n",
       "\t 2 & Inseguro & 3408583 & 0.02010401 & 85.74512 & 0.008338216 & 2022\\\\\n",
       "\t 2 & Inseguro & 3361871 & 0.01978396 & 83.76595 & 0.009211954 & 2023\\\\\n",
       "\t 2 & Inseguro & 3243254 & 0.02239651 & 78.70570 & 0.011078152 & 2024\\\\\n",
       "\\end{tabular}\n"
      ],
      "text/markdown": [
       "\n",
       "A grouped_df: 5 × 7\n",
       "\n",
       "| sexo &lt;dbl&gt; | tipo_seg &lt;chr&gt; | pob &lt;dbl&gt; | pob_cv &lt;dbl&gt; | porcentaje &lt;dbl&gt; | porcentaje_cv &lt;dbl&gt; | year &lt;int&gt; |\n",
       "|---|---|---|---|---|---|---|\n",
       "| 2 | Inseguro | 3041434 | 0.01920830 | 86.74312 | 0.008427824 | 2020 |\n",
       "| 2 | Inseguro | 3410235 | 0.01885379 | 86.63874 | 0.008147315 | 2021 |\n",
       "| 2 | Inseguro | 3408583 | 0.02010401 | 85.74512 | 0.008338216 | 2022 |\n",
       "| 2 | Inseguro | 3361871 | 0.01978396 | 83.76595 | 0.009211954 | 2023 |\n",
       "| 2 | Inseguro | 3243254 | 0.02239651 | 78.70570 | 0.011078152 | 2024 |\n",
       "\n"
      ],
      "text/plain": [
       "  sexo tipo_seg pob     pob_cv     porcentaje porcentaje_cv year\n",
       "1 2    Inseguro 3041434 0.01920830 86.74312   0.008427824   2020\n",
       "2 2    Inseguro 3410235 0.01885379 86.63874   0.008147315   2021\n",
       "3 2    Inseguro 3408583 0.02010401 85.74512   0.008338216   2022\n",
       "4 2    Inseguro 3361871 0.01978396 83.76595   0.009211954   2023\n",
       "5 2    Inseguro 3243254 0.02239651 78.70570   0.011078152   2024"
      ]
     },
     "metadata": {},
     "output_type": "display_data"
    }
   ],
   "source": [
    "tabla_inseg"
   ]
  },
  {
   "cell_type": "code",
   "execution_count": 45,
   "id": "5e63e8a2",
   "metadata": {
    "vscode": {
     "languageId": "r"
    }
   },
   "outputs": [
    {
     "data": {
      "text/plain": [
       "\n",
       "Call:\n",
       "lm(formula = porcentaje ~ year, data = tabla_inseg)\n",
       "\n",
       "Residuals:\n",
       "      1       2       3       4       5 \n",
       "-1.3661  0.4243  1.4254  1.3410 -1.8245 \n",
       "\n",
       "Coefficients:\n",
       "             Estimate Std. Error t value Pr(>|t|)  \n",
       "(Intercept) 3915.5299  1120.0449   3.496   0.0396 *\n",
       "year          -1.8948     0.5539  -3.421   0.0418 *\n",
       "---\n",
       "Signif. codes:  0 '***' 0.001 '**' 0.01 '*' 0.05 '.' 0.1 ' ' 1\n",
       "\n",
       "Residual standard error: 1.752 on 3 degrees of freedom\n",
       "Multiple R-squared:  0.7959,\tAdjusted R-squared:  0.7279 \n",
       "F-statistic:  11.7 on 1 and 3 DF,  p-value: 0.04182\n"
      ]
     },
     "metadata": {},
     "output_type": "display_data"
    }
   ],
   "source": [
    "#Modelo de regresión lineal\n",
    "\n",
    "modelo<-lm(porcentaje~year,data=tabla_inseg)\n",
    "summary(modelo)"
   ]
  },
  {
   "cell_type": "code",
   "execution_count": 46,
   "id": "b07493e2",
   "metadata": {
    "vscode": {
     "languageId": "r"
    }
   },
   "outputs": [
    {
     "data": {
      "text/html": [
       "<table class=\"dataframe\">\n",
       "<caption>A data.frame: 21 × 2</caption>\n",
       "<thead>\n",
       "\t<tr><th scope=col>year</th><th scope=col>porcentaje</th></tr>\n",
       "\t<tr><th scope=col>&lt;int&gt;</th><th scope=col>&lt;dbl&gt;</th></tr>\n",
       "</thead>\n",
       "<tbody>\n",
       "\t<tr><td>2025</td><td>78.64</td></tr>\n",
       "\t<tr><td>2026</td><td>76.74</td></tr>\n",
       "\t<tr><td>2027</td><td>74.85</td></tr>\n",
       "\t<tr><td>2028</td><td>72.95</td></tr>\n",
       "\t<tr><td>2029</td><td>71.06</td></tr>\n",
       "\t<tr><td>2030</td><td>69.16</td></tr>\n",
       "\t<tr><td>2031</td><td>67.27</td></tr>\n",
       "\t<tr><td>2032</td><td>65.37</td></tr>\n",
       "\t<tr><td>2033</td><td>63.48</td></tr>\n",
       "\t<tr><td>2034</td><td>61.58</td></tr>\n",
       "\t<tr><td>2035</td><td>59.69</td></tr>\n",
       "\t<tr><td>2036</td><td>57.79</td></tr>\n",
       "\t<tr><td>2037</td><td>55.90</td></tr>\n",
       "\t<tr><td>2038</td><td>54.00</td></tr>\n",
       "\t<tr><td>2039</td><td>52.11</td></tr>\n",
       "\t<tr><td>2040</td><td>50.21</td></tr>\n",
       "\t<tr><td>2041</td><td>48.32</td></tr>\n",
       "\t<tr><td>2042</td><td>46.42</td></tr>\n",
       "\t<tr><td>2043</td><td>44.53</td></tr>\n",
       "\t<tr><td>2044</td><td>42.63</td></tr>\n",
       "\t<tr><td>2045</td><td>40.74</td></tr>\n",
       "</tbody>\n",
       "</table>\n"
      ],
      "text/latex": [
       "A data.frame: 21 × 2\n",
       "\\begin{tabular}{ll}\n",
       " year & porcentaje\\\\\n",
       " <int> & <dbl>\\\\\n",
       "\\hline\n",
       "\t 2025 & 78.64\\\\\n",
       "\t 2026 & 76.74\\\\\n",
       "\t 2027 & 74.85\\\\\n",
       "\t 2028 & 72.95\\\\\n",
       "\t 2029 & 71.06\\\\\n",
       "\t 2030 & 69.16\\\\\n",
       "\t 2031 & 67.27\\\\\n",
       "\t 2032 & 65.37\\\\\n",
       "\t 2033 & 63.48\\\\\n",
       "\t 2034 & 61.58\\\\\n",
       "\t 2035 & 59.69\\\\\n",
       "\t 2036 & 57.79\\\\\n",
       "\t 2037 & 55.90\\\\\n",
       "\t 2038 & 54.00\\\\\n",
       "\t 2039 & 52.11\\\\\n",
       "\t 2040 & 50.21\\\\\n",
       "\t 2041 & 48.32\\\\\n",
       "\t 2042 & 46.42\\\\\n",
       "\t 2043 & 44.53\\\\\n",
       "\t 2044 & 42.63\\\\\n",
       "\t 2045 & 40.74\\\\\n",
       "\\end{tabular}\n"
      ],
      "text/markdown": [
       "\n",
       "A data.frame: 21 × 2\n",
       "\n",
       "| year &lt;int&gt; | porcentaje &lt;dbl&gt; |\n",
       "|---|---|\n",
       "| 2025 | 78.64 |\n",
       "| 2026 | 76.74 |\n",
       "| 2027 | 74.85 |\n",
       "| 2028 | 72.95 |\n",
       "| 2029 | 71.06 |\n",
       "| 2030 | 69.16 |\n",
       "| 2031 | 67.27 |\n",
       "| 2032 | 65.37 |\n",
       "| 2033 | 63.48 |\n",
       "| 2034 | 61.58 |\n",
       "| 2035 | 59.69 |\n",
       "| 2036 | 57.79 |\n",
       "| 2037 | 55.90 |\n",
       "| 2038 | 54.00 |\n",
       "| 2039 | 52.11 |\n",
       "| 2040 | 50.21 |\n",
       "| 2041 | 48.32 |\n",
       "| 2042 | 46.42 |\n",
       "| 2043 | 44.53 |\n",
       "| 2044 | 42.63 |\n",
       "| 2045 | 40.74 |\n",
       "\n"
      ],
      "text/plain": [
       "   year porcentaje\n",
       "1  2025 78.64     \n",
       "2  2026 76.74     \n",
       "3  2027 74.85     \n",
       "4  2028 72.95     \n",
       "5  2029 71.06     \n",
       "6  2030 69.16     \n",
       "7  2031 67.27     \n",
       "8  2032 65.37     \n",
       "9  2033 63.48     \n",
       "10 2034 61.58     \n",
       "11 2035 59.69     \n",
       "12 2036 57.79     \n",
       "13 2037 55.90     \n",
       "14 2038 54.00     \n",
       "15 2039 52.11     \n",
       "16 2040 50.21     \n",
       "17 2041 48.32     \n",
       "18 2042 46.42     \n",
       "19 2043 44.53     \n",
       "20 2044 42.63     \n",
       "21 2045 40.74     "
      ]
     },
     "metadata": {},
     "output_type": "display_data"
    }
   ],
   "source": [
    "##Hacer las predicciones de 2025 a 2045\n",
    "predicciones<-data.frame(year=2025:2045)\n",
    "predicciones$porcentaje<-predict(modelo,newdata=predicciones)\n",
    "predicciones%>%\n",
    "    mutate(porcentaje=round(porcentaje,2))"
   ]
  },
  {
   "cell_type": "markdown",
   "id": "7149f6a53046de53",
   "metadata": {},
   "source": [
    "#### Empleo cultural"
   ]
  },
  {
   "cell_type": "code",
   "execution_count": 47,
   "id": "86e18b98",
   "metadata": {
    "vscode": {
     "languageId": "r"
    }
   },
   "outputs": [
    {
     "data": {
      "text/html": [
       "<table class=\"dataframe\">\n",
       "<caption>A tibble: 12 × 5</caption>\n",
       "<thead>\n",
       "\t<tr><th scope=col>year</th><th scope=col>ocupados</th><th scope=col>ocupados_cv</th><th scope=col>porcentaje</th><th scope=col>porcentaje_cv</th></tr>\n",
       "\t<tr><th scope=col>&lt;dbl&gt;</th><th scope=col>&lt;dbl&gt;</th><th scope=col>&lt;dbl&gt;</th><th scope=col>&lt;dbl&gt;</th><th scope=col>&lt;dbl&gt;</th></tr>\n",
       "</thead>\n",
       "<tbody>\n",
       "\t<tr><td>2012</td><td>138025</td><td>0.10084548</td><td>40.37</td><td>0.07194972</td></tr>\n",
       "\t<tr><td>2013</td><td>121670</td><td>0.09421975</td><td>36.21</td><td>0.07388593</td></tr>\n",
       "\t<tr><td>2014</td><td>100637</td><td>0.11085896</td><td>36.76</td><td>0.08324116</td></tr>\n",
       "\t<tr><td>2015</td><td>102168</td><td>0.10818801</td><td>33.76</td><td>0.08506522</td></tr>\n",
       "\t<tr><td>2016</td><td>116814</td><td>0.09992646</td><td>36.25</td><td>0.07802852</td></tr>\n",
       "\t<tr><td>2017</td><td>138220</td><td>0.09385297</td><td>41.96</td><td>0.07122918</td></tr>\n",
       "\t<tr><td>2018</td><td>136739</td><td>0.10213035</td><td>39.13</td><td>0.07603847</td></tr>\n",
       "\t<tr><td>2019</td><td>135904</td><td>0.09715456</td><td>36.29</td><td>0.07528678</td></tr>\n",
       "\t<tr><td>2020</td><td>109962</td><td>0.15542353</td><td>38.25</td><td>0.11466316</td></tr>\n",
       "\t<tr><td>2021</td><td>158501</td><td>0.09955016</td><td>41.19</td><td>0.06793952</td></tr>\n",
       "\t<tr><td>2022</td><td>145358</td><td>0.10083973</td><td>36.57</td><td>0.08169807</td></tr>\n",
       "\t<tr><td>2023</td><td>137527</td><td>0.09759453</td><td>37.06</td><td>0.07794241</td></tr>\n",
       "</tbody>\n",
       "</table>\n"
      ],
      "text/latex": [
       "A tibble: 12 × 5\n",
       "\\begin{tabular}{lllll}\n",
       " year & ocupados & ocupados\\_cv & porcentaje & porcentaje\\_cv\\\\\n",
       " <dbl> & <dbl> & <dbl> & <dbl> & <dbl>\\\\\n",
       "\\hline\n",
       "\t 2012 & 138025 & 0.10084548 & 40.37 & 0.07194972\\\\\n",
       "\t 2013 & 121670 & 0.09421975 & 36.21 & 0.07388593\\\\\n",
       "\t 2014 & 100637 & 0.11085896 & 36.76 & 0.08324116\\\\\n",
       "\t 2015 & 102168 & 0.10818801 & 33.76 & 0.08506522\\\\\n",
       "\t 2016 & 116814 & 0.09992646 & 36.25 & 0.07802852\\\\\n",
       "\t 2017 & 138220 & 0.09385297 & 41.96 & 0.07122918\\\\\n",
       "\t 2018 & 136739 & 0.10213035 & 39.13 & 0.07603847\\\\\n",
       "\t 2019 & 135904 & 0.09715456 & 36.29 & 0.07528678\\\\\n",
       "\t 2020 & 109962 & 0.15542353 & 38.25 & 0.11466316\\\\\n",
       "\t 2021 & 158501 & 0.09955016 & 41.19 & 0.06793952\\\\\n",
       "\t 2022 & 145358 & 0.10083973 & 36.57 & 0.08169807\\\\\n",
       "\t 2023 & 137527 & 0.09759453 & 37.06 & 0.07794241\\\\\n",
       "\\end{tabular}\n"
      ],
      "text/markdown": [
       "\n",
       "A tibble: 12 × 5\n",
       "\n",
       "| year &lt;dbl&gt; | ocupados &lt;dbl&gt; | ocupados_cv &lt;dbl&gt; | porcentaje &lt;dbl&gt; | porcentaje_cv &lt;dbl&gt; |\n",
       "|---|---|---|---|---|\n",
       "| 2012 | 138025 | 0.10084548 | 40.37 | 0.07194972 |\n",
       "| 2013 | 121670 | 0.09421975 | 36.21 | 0.07388593 |\n",
       "| 2014 | 100637 | 0.11085896 | 36.76 | 0.08324116 |\n",
       "| 2015 | 102168 | 0.10818801 | 33.76 | 0.08506522 |\n",
       "| 2016 | 116814 | 0.09992646 | 36.25 | 0.07802852 |\n",
       "| 2017 | 138220 | 0.09385297 | 41.96 | 0.07122918 |\n",
       "| 2018 | 136739 | 0.10213035 | 39.13 | 0.07603847 |\n",
       "| 2019 | 135904 | 0.09715456 | 36.29 | 0.07528678 |\n",
       "| 2020 | 109962 | 0.15542353 | 38.25 | 0.11466316 |\n",
       "| 2021 | 158501 | 0.09955016 | 41.19 | 0.06793952 |\n",
       "| 2022 | 145358 | 0.10083973 | 36.57 | 0.08169807 |\n",
       "| 2023 | 137527 | 0.09759453 | 37.06 | 0.07794241 |\n",
       "\n"
      ],
      "text/plain": [
       "   year ocupados ocupados_cv porcentaje porcentaje_cv\n",
       "1  2012 138025   0.10084548  40.37      0.07194972   \n",
       "2  2013 121670   0.09421975  36.21      0.07388593   \n",
       "3  2014 100637   0.11085896  36.76      0.08324116   \n",
       "4  2015 102168   0.10818801  33.76      0.08506522   \n",
       "5  2016 116814   0.09992646  36.25      0.07802852   \n",
       "6  2017 138220   0.09385297  41.96      0.07122918   \n",
       "7  2018 136739   0.10213035  39.13      0.07603847   \n",
       "8  2019 135904   0.09715456  36.29      0.07528678   \n",
       "9  2020 109962   0.15542353  38.25      0.11466316   \n",
       "10 2021 158501   0.09955016  41.19      0.06793952   \n",
       "11 2022 145358   0.10083973  36.57      0.08169807   \n",
       "12 2023 137527   0.09759453  37.06      0.07794241   "
      ]
     },
     "metadata": {},
     "output_type": "display_data"
    }
   ],
   "source": [
    "empleo_cultural_cdmx"
   ]
  },
  {
   "cell_type": "code",
   "execution_count": 48,
   "id": "5d4e3382",
   "metadata": {
    "vscode": {
     "languageId": "r"
    }
   },
   "outputs": [
    {
     "data": {
      "text/html": [
       "0.00232298366331363"
      ],
      "text/latex": [
       "0.00232298366331363"
      ],
      "text/markdown": [
       "0.00232298366331363"
      ],
      "text/plain": [
       "[1] 0.002322984"
      ]
     },
     "metadata": {},
     "output_type": "display_data"
    }
   ],
   "source": [
    "tcma_empcult<-((empleo_cultural_cdmx$porcentaje[empleo_cultural_cdmx$year==2023]/empleo_cultural_cdmx$porcentaje[empleo_cultural_cdmx$year==2013])^(1/(2023-2013))-1)\n",
    "tcma_empcult"
   ]
  },
  {
   "cell_type": "code",
   "execution_count": 49,
   "id": "99c69528",
   "metadata": {
    "vscode": {
     "languageId": "r"
    }
   },
   "outputs": [
    {
     "data": {
      "text/html": [
       "<table class=\"dataframe\">\n",
       "<caption>A data.frame: 22 × 2</caption>\n",
       "<thead>\n",
       "\t<tr><th scope=col>year</th><th scope=col>porcentaje</th></tr>\n",
       "\t<tr><th scope=col>&lt;int&gt;</th><th scope=col>&lt;dbl&gt;</th></tr>\n",
       "</thead>\n",
       "<tbody>\n",
       "\t<tr><td>2024</td><td>37.15</td></tr>\n",
       "\t<tr><td>2025</td><td>37.23</td></tr>\n",
       "\t<tr><td>2026</td><td>37.32</td></tr>\n",
       "\t<tr><td>2027</td><td>37.41</td></tr>\n",
       "\t<tr><td>2028</td><td>37.49</td></tr>\n",
       "\t<tr><td>2029</td><td>37.58</td></tr>\n",
       "\t<tr><td>2030</td><td>37.67</td></tr>\n",
       "\t<tr><td>2031</td><td>37.75</td></tr>\n",
       "\t<tr><td>2032</td><td>37.84</td></tr>\n",
       "\t<tr><td>2033</td><td>37.93</td></tr>\n",
       "\t<tr><td>2034</td><td>38.02</td></tr>\n",
       "\t<tr><td>2035</td><td>38.11</td></tr>\n",
       "\t<tr><td>2036</td><td>38.19</td></tr>\n",
       "\t<tr><td>2037</td><td>38.28</td></tr>\n",
       "\t<tr><td>2038</td><td>38.37</td></tr>\n",
       "\t<tr><td>2039</td><td>38.46</td></tr>\n",
       "\t<tr><td>2040</td><td>38.55</td></tr>\n",
       "\t<tr><td>2041</td><td>38.64</td></tr>\n",
       "\t<tr><td>2042</td><td>38.73</td></tr>\n",
       "\t<tr><td>2043</td><td>38.82</td></tr>\n",
       "\t<tr><td>2044</td><td>38.91</td></tr>\n",
       "\t<tr><td>2045</td><td>39.00</td></tr>\n",
       "</tbody>\n",
       "</table>\n"
      ],
      "text/latex": [
       "A data.frame: 22 × 2\n",
       "\\begin{tabular}{ll}\n",
       " year & porcentaje\\\\\n",
       " <int> & <dbl>\\\\\n",
       "\\hline\n",
       "\t 2024 & 37.15\\\\\n",
       "\t 2025 & 37.23\\\\\n",
       "\t 2026 & 37.32\\\\\n",
       "\t 2027 & 37.41\\\\\n",
       "\t 2028 & 37.49\\\\\n",
       "\t 2029 & 37.58\\\\\n",
       "\t 2030 & 37.67\\\\\n",
       "\t 2031 & 37.75\\\\\n",
       "\t 2032 & 37.84\\\\\n",
       "\t 2033 & 37.93\\\\\n",
       "\t 2034 & 38.02\\\\\n",
       "\t 2035 & 38.11\\\\\n",
       "\t 2036 & 38.19\\\\\n",
       "\t 2037 & 38.28\\\\\n",
       "\t 2038 & 38.37\\\\\n",
       "\t 2039 & 38.46\\\\\n",
       "\t 2040 & 38.55\\\\\n",
       "\t 2041 & 38.64\\\\\n",
       "\t 2042 & 38.73\\\\\n",
       "\t 2043 & 38.82\\\\\n",
       "\t 2044 & 38.91\\\\\n",
       "\t 2045 & 39.00\\\\\n",
       "\\end{tabular}\n"
      ],
      "text/markdown": [
       "\n",
       "A data.frame: 22 × 2\n",
       "\n",
       "| year &lt;int&gt; | porcentaje &lt;dbl&gt; |\n",
       "|---|---|\n",
       "| 2024 | 37.15 |\n",
       "| 2025 | 37.23 |\n",
       "| 2026 | 37.32 |\n",
       "| 2027 | 37.41 |\n",
       "| 2028 | 37.49 |\n",
       "| 2029 | 37.58 |\n",
       "| 2030 | 37.67 |\n",
       "| 2031 | 37.75 |\n",
       "| 2032 | 37.84 |\n",
       "| 2033 | 37.93 |\n",
       "| 2034 | 38.02 |\n",
       "| 2035 | 38.11 |\n",
       "| 2036 | 38.19 |\n",
       "| 2037 | 38.28 |\n",
       "| 2038 | 38.37 |\n",
       "| 2039 | 38.46 |\n",
       "| 2040 | 38.55 |\n",
       "| 2041 | 38.64 |\n",
       "| 2042 | 38.73 |\n",
       "| 2043 | 38.82 |\n",
       "| 2044 | 38.91 |\n",
       "| 2045 | 39.00 |\n",
       "\n"
      ],
      "text/plain": [
       "   year porcentaje\n",
       "1  2024 37.15     \n",
       "2  2025 37.23     \n",
       "3  2026 37.32     \n",
       "4  2027 37.41     \n",
       "5  2028 37.49     \n",
       "6  2029 37.58     \n",
       "7  2030 37.67     \n",
       "8  2031 37.75     \n",
       "9  2032 37.84     \n",
       "10 2033 37.93     \n",
       "11 2034 38.02     \n",
       "12 2035 38.11     \n",
       "13 2036 38.19     \n",
       "14 2037 38.28     \n",
       "15 2038 38.37     \n",
       "16 2039 38.46     \n",
       "17 2040 38.55     \n",
       "18 2041 38.64     \n",
       "19 2042 38.73     \n",
       "20 2043 38.82     \n",
       "21 2044 38.91     \n",
       "22 2045 39.00     "
      ]
     },
     "metadata": {},
     "output_type": "display_data"
    }
   ],
   "source": [
    "extendido_empcult<-data.frame(year=2024:2045)\n",
    "\n",
    "extendido_empcult$porcentaje<-empleo_cultural_cdmx$porcentaje[empleo_cultural_cdmx$year==2023]*cumprod(rep(1+tcma_empcult,length(2024:2045)))\n",
    "extendido_empcult%>%\n",
    "mutate(porcentaje=round(porcentaje,2))"
   ]
  },
  {
   "cell_type": "markdown",
   "id": "6de6ceab",
   "metadata": {},
   "source": [
    "#### Titulares mujeres"
   ]
  },
  {
   "cell_type": "code",
   "execution_count": 50,
   "id": "79ee9b81",
   "metadata": {
    "vscode": {
     "languageId": "r"
    }
   },
   "outputs": [
    {
     "data": {
      "text/html": [
       "<table class=\"dataframe\">\n",
       "<caption>A tibble: 4 × 4</caption>\n",
       "<thead>\n",
       "\t<tr><th scope=col>sexo_i</th><th scope=col>personas</th><th scope=col>porcentaje</th><th scope=col>year</th></tr>\n",
       "\t<tr><th scope=col>&lt;dbl&gt;</th><th scope=col>&lt;int&gt;</th><th scope=col>&lt;dbl&gt;</th><th scope=col>&lt;int&gt;</th></tr>\n",
       "</thead>\n",
       "<tbody>\n",
       "\t<tr><td>2</td><td>36</td><td>46.15385</td><td>2021</td></tr>\n",
       "\t<tr><td>2</td><td>28</td><td>37.33333</td><td>2022</td></tr>\n",
       "\t<tr><td>2</td><td>32</td><td>42.10526</td><td>2023</td></tr>\n",
       "\t<tr><td>2</td><td>29</td><td>37.66234</td><td>2024</td></tr>\n",
       "</tbody>\n",
       "</table>\n"
      ],
      "text/latex": [
       "A tibble: 4 × 4\n",
       "\\begin{tabular}{llll}\n",
       " sexo\\_i & personas & porcentaje & year\\\\\n",
       " <dbl> & <int> & <dbl> & <int>\\\\\n",
       "\\hline\n",
       "\t 2 & 36 & 46.15385 & 2021\\\\\n",
       "\t 2 & 28 & 37.33333 & 2022\\\\\n",
       "\t 2 & 32 & 42.10526 & 2023\\\\\n",
       "\t 2 & 29 & 37.66234 & 2024\\\\\n",
       "\\end{tabular}\n"
      ],
      "text/markdown": [
       "\n",
       "A tibble: 4 × 4\n",
       "\n",
       "| sexo_i &lt;dbl&gt; | personas &lt;int&gt; | porcentaje &lt;dbl&gt; | year &lt;int&gt; |\n",
       "|---|---|---|---|\n",
       "| 2 | 36 | 46.15385 | 2021 |\n",
       "| 2 | 28 | 37.33333 | 2022 |\n",
       "| 2 | 32 | 42.10526 | 2023 |\n",
       "| 2 | 29 | 37.66234 | 2024 |\n",
       "\n"
      ],
      "text/plain": [
       "  sexo_i personas porcentaje year\n",
       "1 2      36       46.15385   2021\n",
       "2 2      28       37.33333   2022\n",
       "3 2      32       42.10526   2023\n",
       "4 2      29       37.66234   2024"
      ]
     },
     "metadata": {},
     "output_type": "display_data"
    }
   ],
   "source": [
    "titulares_mujeres"
   ]
  },
  {
   "cell_type": "code",
   "execution_count": 51,
   "id": "4ff82962",
   "metadata": {
    "vscode": {
     "languageId": "r"
    }
   },
   "outputs": [
    {
     "data": {
      "text/html": [
       "0.00439664274402718"
      ],
      "text/latex": [
       "0.00439664274402718"
      ],
      "text/markdown": [
       "0.00439664274402718"
      ],
      "text/plain": [
       "[1] 0.004396643"
      ]
     },
     "metadata": {},
     "output_type": "display_data"
    }
   ],
   "source": [
    "tcma_titulares<-((titulares_mujeres$porcentaje[titulares_mujeres$year==2024]/titulares_mujeres$porcentaje[titulares_mujeres$year==2022])^(1/(2024-2022))-1)\n",
    "tcma_titulares"
   ]
  },
  {
   "cell_type": "code",
   "execution_count": 52,
   "id": "7bf71013",
   "metadata": {
    "vscode": {
     "languageId": "r"
    }
   },
   "outputs": [
    {
     "data": {
      "text/html": [
       "<table class=\"dataframe\">\n",
       "<caption>A data.frame: 21 × 2</caption>\n",
       "<thead>\n",
       "\t<tr><th scope=col>year</th><th scope=col>porcentaje</th></tr>\n",
       "\t<tr><th scope=col>&lt;int&gt;</th><th scope=col>&lt;dbl&gt;</th></tr>\n",
       "</thead>\n",
       "<tbody>\n",
       "\t<tr><td>2025</td><td>37.83</td></tr>\n",
       "\t<tr><td>2026</td><td>37.99</td></tr>\n",
       "\t<tr><td>2027</td><td>38.16</td></tr>\n",
       "\t<tr><td>2028</td><td>38.33</td></tr>\n",
       "\t<tr><td>2029</td><td>38.50</td></tr>\n",
       "\t<tr><td>2030</td><td>38.67</td></tr>\n",
       "\t<tr><td>2031</td><td>38.84</td></tr>\n",
       "\t<tr><td>2032</td><td>39.01</td></tr>\n",
       "\t<tr><td>2033</td><td>39.18</td></tr>\n",
       "\t<tr><td>2034</td><td>39.35</td></tr>\n",
       "\t<tr><td>2035</td><td>39.52</td></tr>\n",
       "\t<tr><td>2036</td><td>39.70</td></tr>\n",
       "\t<tr><td>2037</td><td>39.87</td></tr>\n",
       "\t<tr><td>2038</td><td>40.05</td></tr>\n",
       "\t<tr><td>2039</td><td>40.22</td></tr>\n",
       "\t<tr><td>2040</td><td>40.40</td></tr>\n",
       "\t<tr><td>2041</td><td>40.58</td></tr>\n",
       "\t<tr><td>2042</td><td>40.76</td></tr>\n",
       "\t<tr><td>2043</td><td>40.94</td></tr>\n",
       "\t<tr><td>2044</td><td>41.12</td></tr>\n",
       "\t<tr><td>2045</td><td>41.30</td></tr>\n",
       "</tbody>\n",
       "</table>\n"
      ],
      "text/latex": [
       "A data.frame: 21 × 2\n",
       "\\begin{tabular}{ll}\n",
       " year & porcentaje\\\\\n",
       " <int> & <dbl>\\\\\n",
       "\\hline\n",
       "\t 2025 & 37.83\\\\\n",
       "\t 2026 & 37.99\\\\\n",
       "\t 2027 & 38.16\\\\\n",
       "\t 2028 & 38.33\\\\\n",
       "\t 2029 & 38.50\\\\\n",
       "\t 2030 & 38.67\\\\\n",
       "\t 2031 & 38.84\\\\\n",
       "\t 2032 & 39.01\\\\\n",
       "\t 2033 & 39.18\\\\\n",
       "\t 2034 & 39.35\\\\\n",
       "\t 2035 & 39.52\\\\\n",
       "\t 2036 & 39.70\\\\\n",
       "\t 2037 & 39.87\\\\\n",
       "\t 2038 & 40.05\\\\\n",
       "\t 2039 & 40.22\\\\\n",
       "\t 2040 & 40.40\\\\\n",
       "\t 2041 & 40.58\\\\\n",
       "\t 2042 & 40.76\\\\\n",
       "\t 2043 & 40.94\\\\\n",
       "\t 2044 & 41.12\\\\\n",
       "\t 2045 & 41.30\\\\\n",
       "\\end{tabular}\n"
      ],
      "text/markdown": [
       "\n",
       "A data.frame: 21 × 2\n",
       "\n",
       "| year &lt;int&gt; | porcentaje &lt;dbl&gt; |\n",
       "|---|---|\n",
       "| 2025 | 37.83 |\n",
       "| 2026 | 37.99 |\n",
       "| 2027 | 38.16 |\n",
       "| 2028 | 38.33 |\n",
       "| 2029 | 38.50 |\n",
       "| 2030 | 38.67 |\n",
       "| 2031 | 38.84 |\n",
       "| 2032 | 39.01 |\n",
       "| 2033 | 39.18 |\n",
       "| 2034 | 39.35 |\n",
       "| 2035 | 39.52 |\n",
       "| 2036 | 39.70 |\n",
       "| 2037 | 39.87 |\n",
       "| 2038 | 40.05 |\n",
       "| 2039 | 40.22 |\n",
       "| 2040 | 40.40 |\n",
       "| 2041 | 40.58 |\n",
       "| 2042 | 40.76 |\n",
       "| 2043 | 40.94 |\n",
       "| 2044 | 41.12 |\n",
       "| 2045 | 41.30 |\n",
       "\n"
      ],
      "text/plain": [
       "   year porcentaje\n",
       "1  2025 37.83     \n",
       "2  2026 37.99     \n",
       "3  2027 38.16     \n",
       "4  2028 38.33     \n",
       "5  2029 38.50     \n",
       "6  2030 38.67     \n",
       "7  2031 38.84     \n",
       "8  2032 39.01     \n",
       "9  2033 39.18     \n",
       "10 2034 39.35     \n",
       "11 2035 39.52     \n",
       "12 2036 39.70     \n",
       "13 2037 39.87     \n",
       "14 2038 40.05     \n",
       "15 2039 40.22     \n",
       "16 2040 40.40     \n",
       "17 2041 40.58     \n",
       "18 2042 40.76     \n",
       "19 2043 40.94     \n",
       "20 2044 41.12     \n",
       "21 2045 41.30     "
      ]
     },
     "metadata": {},
     "output_type": "display_data"
    }
   ],
   "source": [
    "extendido_titulares<-data.frame(year=2025:2045)\n",
    "\n",
    "extendido_titulares$porcentaje<-titulares_mujeres$porcentaje[titulares_mujeres$year==2024]*cumprod(rep(1+tcma_titulares,length(2025:2045)))\n",
    "extendido_titulares%>%\n",
    "mutate(porcentaje=round(porcentaje,2))\n"
   ]
  },
  {
   "cell_type": "markdown",
   "id": "2d92c68b",
   "metadata": {
    "vscode": {
     "languageId": "r"
    }
   },
   "source": [
    "#### Tiempo de cuidados"
   ]
  },
  {
   "cell_type": "code",
   "execution_count": 53,
   "id": "68b3cdf7",
   "metadata": {
    "vscode": {
     "languageId": "r"
    }
   },
   "outputs": [
    {
     "data": {
      "text/html": [
       "<table class=\"dataframe\">\n",
       "<caption>A tibble: 5 × 5</caption>\n",
       "<thead>\n",
       "\t<tr><th scope=col>cuidados</th><th scope=col>year</th><th scope=col>Mujer</th><th scope=col>Hombre</th><th scope=col>rel_muj_hom</th></tr>\n",
       "\t<tr><th scope=col>&lt;chr&gt;</th><th scope=col>&lt;dbl&gt;</th><th scope=col>&lt;dbl&gt;</th><th scope=col>&lt;dbl&gt;</th><th scope=col>&lt;dbl&gt;</th></tr>\n",
       "</thead>\n",
       "<tbody>\n",
       "\t<tr><td>Total</td><td>2019</td><td>142688521</td><td>62813404</td><td>2.27</td></tr>\n",
       "\t<tr><td>Total</td><td>2020</td><td>145605145</td><td>65376670</td><td>2.23</td></tr>\n",
       "\t<tr><td>Total</td><td>2021</td><td>148272245</td><td>68606916</td><td>2.16</td></tr>\n",
       "\t<tr><td>Total</td><td>2022</td><td>153227469</td><td>72853711</td><td>2.10</td></tr>\n",
       "\t<tr><td>Total</td><td>2023</td><td>157280688</td><td>76898733</td><td>2.05</td></tr>\n",
       "</tbody>\n",
       "</table>\n"
      ],
      "text/latex": [
       "A tibble: 5 × 5\n",
       "\\begin{tabular}{lllll}\n",
       " cuidados & year & Mujer & Hombre & rel\\_muj\\_hom\\\\\n",
       " <chr> & <dbl> & <dbl> & <dbl> & <dbl>\\\\\n",
       "\\hline\n",
       "\t Total & 2019 & 142688521 & 62813404 & 2.27\\\\\n",
       "\t Total & 2020 & 145605145 & 65376670 & 2.23\\\\\n",
       "\t Total & 2021 & 148272245 & 68606916 & 2.16\\\\\n",
       "\t Total & 2022 & 153227469 & 72853711 & 2.10\\\\\n",
       "\t Total & 2023 & 157280688 & 76898733 & 2.05\\\\\n",
       "\\end{tabular}\n"
      ],
      "text/markdown": [
       "\n",
       "A tibble: 5 × 5\n",
       "\n",
       "| cuidados &lt;chr&gt; | year &lt;dbl&gt; | Mujer &lt;dbl&gt; | Hombre &lt;dbl&gt; | rel_muj_hom &lt;dbl&gt; |\n",
       "|---|---|---|---|---|\n",
       "| Total | 2019 | 142688521 | 62813404 | 2.27 |\n",
       "| Total | 2020 | 145605145 | 65376670 | 2.23 |\n",
       "| Total | 2021 | 148272245 | 68606916 | 2.16 |\n",
       "| Total | 2022 | 153227469 | 72853711 | 2.10 |\n",
       "| Total | 2023 | 157280688 | 76898733 | 2.05 |\n",
       "\n"
      ],
      "text/plain": [
       "  cuidados year Mujer     Hombre   rel_muj_hom\n",
       "1 Total    2019 142688521 62813404 2.27       \n",
       "2 Total    2020 145605145 65376670 2.23       \n",
       "3 Total    2021 148272245 68606916 2.16       \n",
       "4 Total    2022 153227469 72853711 2.10       \n",
       "5 Total    2023 157280688 76898733 2.05       "
      ]
     },
     "metadata": {},
     "output_type": "display_data"
    }
   ],
   "source": [
    "tiempo_dest\n"
   ]
  },
  {
   "cell_type": "code",
   "execution_count": 54,
   "id": "3644df4b",
   "metadata": {
    "vscode": {
     "languageId": "r"
    }
   },
   "outputs": [
    {
     "data": {
      "text/plain": [
       "\n",
       "Call:\n",
       "lm(formula = rel_muj_hom ~ year, data = tiempo_dest)\n",
       "\n",
       "Residuals:\n",
       "     1      2      3      4      5 \n",
       "-0.006  0.011 -0.002 -0.005  0.002 \n",
       "\n",
       "Coefficients:\n",
       "              Estimate Std. Error t value Pr(>|t|)    \n",
       "(Intercept) 117.359000   5.086073   23.07 0.000178 ***\n",
       "year         -0.057000   0.002517  -22.65 0.000188 ***\n",
       "---\n",
       "Signif. codes:  0 '***' 0.001 '**' 0.01 '*' 0.05 '.' 0.1 ' ' 1\n",
       "\n",
       "Residual standard error: 0.007958 on 3 degrees of freedom\n",
       "Multiple R-squared:  0.9942,\tAdjusted R-squared:  0.9922 \n",
       "F-statistic:   513 on 1 and 3 DF,  p-value: 0.0001885\n"
      ]
     },
     "metadata": {},
     "output_type": "display_data"
    }
   ],
   "source": [
    "modelo_tiempo=lm(rel_muj_hom~year,data=tiempo_dest)\n",
    "summary(modelo_tiempo)"
   ]
  },
  {
   "cell_type": "code",
   "execution_count": 55,
   "id": "e991c1f1",
   "metadata": {
    "vscode": {
     "languageId": "r"
    }
   },
   "outputs": [
    {
     "data": {
      "text/html": [
       "<table class=\"dataframe\">\n",
       "<caption>A data.frame: 22 × 2</caption>\n",
       "<thead>\n",
       "\t<tr><th scope=col>year</th><th scope=col>rel_muj_hom</th></tr>\n",
       "\t<tr><th scope=col>&lt;int&gt;</th><th scope=col>&lt;dbl&gt;</th></tr>\n",
       "</thead>\n",
       "<tbody>\n",
       "\t<tr><td>2024</td><td>2.52</td></tr>\n",
       "\t<tr><td>2025</td><td>2.44</td></tr>\n",
       "\t<tr><td>2026</td><td>2.38</td></tr>\n",
       "\t<tr><td>2027</td><td>2.30</td></tr>\n",
       "\t<tr><td>2028</td><td>2.23</td></tr>\n",
       "\t<tr><td>2029</td><td>2.16</td></tr>\n",
       "\t<tr><td>2030</td><td>2.09</td></tr>\n",
       "\t<tr><td>2031</td><td>2.01</td></tr>\n",
       "\t<tr><td>2032</td><td>1.94</td></tr>\n",
       "\t<tr><td>2033</td><td>1.87</td></tr>\n",
       "\t<tr><td>2034</td><td>1.80</td></tr>\n",
       "\t<tr><td>2035</td><td>1.72</td></tr>\n",
       "\t<tr><td>2036</td><td>1.66</td></tr>\n",
       "\t<tr><td>2037</td><td>1.58</td></tr>\n",
       "\t<tr><td>2038</td><td>1.51</td></tr>\n",
       "\t<tr><td>2039</td><td>1.44</td></tr>\n",
       "\t<tr><td>2040</td><td>1.37</td></tr>\n",
       "\t<tr><td>2041</td><td>1.29</td></tr>\n",
       "\t<tr><td>2042</td><td>1.22</td></tr>\n",
       "\t<tr><td>2043</td><td>1.15</td></tr>\n",
       "\t<tr><td>2044</td><td>1.08</td></tr>\n",
       "\t<tr><td>2045</td><td>1.00</td></tr>\n",
       "</tbody>\n",
       "</table>\n"
      ],
      "text/latex": [
       "A data.frame: 22 × 2\n",
       "\\begin{tabular}{ll}\n",
       " year & rel\\_muj\\_hom\\\\\n",
       " <int> & <dbl>\\\\\n",
       "\\hline\n",
       "\t 2024 & 2.52\\\\\n",
       "\t 2025 & 2.44\\\\\n",
       "\t 2026 & 2.38\\\\\n",
       "\t 2027 & 2.30\\\\\n",
       "\t 2028 & 2.23\\\\\n",
       "\t 2029 & 2.16\\\\\n",
       "\t 2030 & 2.09\\\\\n",
       "\t 2031 & 2.01\\\\\n",
       "\t 2032 & 1.94\\\\\n",
       "\t 2033 & 1.87\\\\\n",
       "\t 2034 & 1.80\\\\\n",
       "\t 2035 & 1.72\\\\\n",
       "\t 2036 & 1.66\\\\\n",
       "\t 2037 & 1.58\\\\\n",
       "\t 2038 & 1.51\\\\\n",
       "\t 2039 & 1.44\\\\\n",
       "\t 2040 & 1.37\\\\\n",
       "\t 2041 & 1.29\\\\\n",
       "\t 2042 & 1.22\\\\\n",
       "\t 2043 & 1.15\\\\\n",
       "\t 2044 & 1.08\\\\\n",
       "\t 2045 & 1.00\\\\\n",
       "\\end{tabular}\n"
      ],
      "text/markdown": [
       "\n",
       "A data.frame: 22 × 2\n",
       "\n",
       "| year &lt;int&gt; | rel_muj_hom &lt;dbl&gt; |\n",
       "|---|---|\n",
       "| 2024 | 2.52 |\n",
       "| 2025 | 2.44 |\n",
       "| 2026 | 2.38 |\n",
       "| 2027 | 2.30 |\n",
       "| 2028 | 2.23 |\n",
       "| 2029 | 2.16 |\n",
       "| 2030 | 2.09 |\n",
       "| 2031 | 2.01 |\n",
       "| 2032 | 1.94 |\n",
       "| 2033 | 1.87 |\n",
       "| 2034 | 1.80 |\n",
       "| 2035 | 1.72 |\n",
       "| 2036 | 1.66 |\n",
       "| 2037 | 1.58 |\n",
       "| 2038 | 1.51 |\n",
       "| 2039 | 1.44 |\n",
       "| 2040 | 1.37 |\n",
       "| 2041 | 1.29 |\n",
       "| 2042 | 1.22 |\n",
       "| 2043 | 1.15 |\n",
       "| 2044 | 1.08 |\n",
       "| 2045 | 1.00 |\n",
       "\n"
      ],
      "text/plain": [
       "   year rel_muj_hom\n",
       "1  2024 2.52       \n",
       "2  2025 2.44       \n",
       "3  2026 2.38       \n",
       "4  2027 2.30       \n",
       "5  2028 2.23       \n",
       "6  2029 2.16       \n",
       "7  2030 2.09       \n",
       "8  2031 2.01       \n",
       "9  2032 1.94       \n",
       "10 2033 1.87       \n",
       "11 2034 1.80       \n",
       "12 2035 1.72       \n",
       "13 2036 1.66       \n",
       "14 2037 1.58       \n",
       "15 2038 1.51       \n",
       "16 2039 1.44       \n",
       "17 2040 1.37       \n",
       "18 2041 1.29       \n",
       "19 2042 1.22       \n",
       "20 2043 1.15       \n",
       "21 2044 1.08       \n",
       "22 2045 1.00       "
      ]
     },
     "metadata": {},
     "output_type": "display_data"
    }
   ],
   "source": [
    "##Hacer las predicciones de 2025 a 2045\n",
    "predicciones_tiempo<-data.frame(year=2024:2045)\n",
    "predicciones_tiempo$rel_muj_hom<-predict(modelo_tiempo,newdata=predicciones_tiempo)%>%\n",
    "    round(2)\n",
    "ajuste <- 1 / predicciones_tiempo$rel_muj_hom[predicciones_tiempo$year == 2045]\n",
    "\n",
    "\n",
    "predicciones_tiempo$rel_muj_hom <- predicciones_tiempo$rel_muj_hom * ajuste\n",
    "predicciones_tiempo%>%\n",
    "mutate(rel_muj_hom=round(rel_muj_hom,2))"
   ]
  },
  {
   "cell_type": "markdown",
   "id": "8496f428",
   "metadata": {},
   "source": [
    "### Escenarios"
   ]
  },
  {
   "cell_type": "code",
   "execution_count": 56,
   "id": "3504fdf2",
   "metadata": {
    "vscode": {
     "languageId": "r"
    }
   },
   "outputs": [],
   "source": [
    "generar_grafica <- function(tabla_obs, tabla_est, margen, titulo,base, linea_base,\n",
    "                            nombre_archivo, nombre_estimado_futuro,\n",
    "                            linea_vertical,despegue,\n",
    "                            ano_base= 2022,\n",
    "                            nombre_intervalo_superior, nombre_intervalo_inferior,\n",
    "                            limite_inferior_y, variable_intervals = \"porcentaje\") {\n",
    "\n",
    "  serie_completa <- dplyr::bind_rows(\n",
    "    tabla_obs %>%\n",
    "      dplyr::mutate(year = as.numeric(year)) %>%\n",
    "      intervals(variable_intervals, margen = 0, año_base = ano_base),\n",
    "\n",
    "    tabla_est %>%\n",
    "      dplyr::mutate(year = as.numeric(year)) %>%\n",
    "      intervals(variable_intervals, margen = margen, año_base = ano_base)\n",
    "  )\n",
    "\n",
    "  grafica <- grafica_bonita(\n",
    "    data = serie_completa,\n",
    "    x = \"year\",\n",
    "    y = \"estimado\",\n",
    "    titulo = titulo,\n",
    "    ano_base=base,\n",
    "     mostrar_etiqueta_ano_base = TRUE,\n",
    "     desplazamiento_ano_base = despegue,\n",
    "    linea_vertical = linea_base,\n",
    "    anios_etiquetas=c(2045),\n",
    "    mostrar_intervalo = \"ambos\",\n",
    "    nombre_observado = \"Observado\",\n",
    "    nombre_estimado_futuro = nombre_estimado_futuro,\n",
    "    nombre_intervalo_superior = nombre_intervalo_superior,\n",
    "    nombre_intervalo_inferior = nombre_intervalo_inferior,\n",
    "    mostrar_leyenda = TRUE,\n",
    "    fuente = \"pop\",\n",
    "    etiqueta_x = \"Año\",\n",
    "    etiqueta_y = \"Porcentaje\",\n",
    "    titulo_leyenda = \"Escenarios\",\n",
    "    limite_inferior_y = limite_inferior_y\n",
    "  )\n",
    "\n",
    "ggsave(paste0(\"H:/Mi unidad/pgd/graficas/\",nombre_archivo), grafica, width = 10, height = 6, dpi = 185, bg = \"white\")\n",
    "}"
   ]
  },
  {
   "cell_type": "code",
   "execution_count": 69,
   "id": "999427fe",
   "metadata": {
    "vscode": {
     "languageId": "r"
    }
   },
   "outputs": [],
   "source": [
    "configuraciones <- tibble::tibble(\n",
    "  tabla_obs = list(tiempo_dest,\n",
    "  violencia_long,\n",
    "  vict_pg,\n",
    "  vict_fem,\n",
    "tabla_inseg,\n",
    "empleo_cultural_cdmx,\n",
    "titulares_mujeres\n",
    "\n",
    "  ),\n",
    "  tabla_est = list(predicciones_tiempo,\n",
    "   extendido_violencia,\n",
    "   extendido_vict,\n",
    "   extendido_vict_fem,\n",
    "   predicciones,\n",
    "   extendido_empcult,\n",
    "   extendido_titulares\n",
    "   ),\n",
    "  margen = c(0.004,\n",
    "  0.004,\n",
    "  0.004,\n",
    "  0.004,\n",
    "  0.004,\n",
    "  0.002,\n",
    "  0.003\n",
    "  ),\n",
    "  base = c(2024,\n",
    "   2021,\n",
    "   2024,\n",
    "   2024,\n",
    "   2024,\n",
    "   2024,\n",
    "   2024),\n",
    "    despegue = list(\n",
    "    c(0.5, 0.15),  \n",
    "    c(1, 1), \n",
    "    c(1, 0) ,\n",
    "    c(1, 0) ,\n",
    "    c(1, 1) ,\n",
    "    c(1, 1) ,\n",
    "    c(0.8, 1.5)\n",
    "  ),\n",
    "   \n",
    "  nombre_archivo = c(\"tiempo_cuidados_estimadas.png\",\n",
    "  \"violencia_estimadas.png\",\n",
    "  \"promedio_diario_victimas_estimadas.png\",\n",
    "  \"promedio_diario_fem_estimadas.png\",\n",
    "  \"inseguridad_mujeres_estimadas.png\",\n",
    "  \"empleo_cultural_cdmx_estimadas.png\",\n",
    "  \"titulares_mujeres_estimadas.png\"\n",
    "  ),\n",
    "\n",
    "  linea_base = c(2024,\n",
    "  2021,\n",
    "  2024,\n",
    "  2024,\n",
    "  2024,\n",
    "  2024,\n",
    "  2024\n",
    "  ),\n",
    "  titulo = c(\"Razón de tiempo destinado a cuidados no remunerados\",\n",
    "  \"Porcentaje de mujeres que tuvieron algún evento de violencia en los últimos 12 meses\",\n",
    "  \"Promedio diario de víctimas de delitos\n",
    "con perspectiva de género\",\n",
    "\"Promedio diario de víctimas de feminicidio\",\n",
    "\"Porcentaje de mujeres que se sienten inseguras en la Ciudad de México\",\n",
    "\"Porcentaje de mujeres ocupadas \n",
    "en actividades artísticas y culturales\",\n",
    "\"Porcentaje de mujeres titulares de instituciones \n",
    "de la administración pública de la Ciudad de México\"\n",
    "\n",
    "  ),\n",
    "  nombre_estimado_futuro = c(\"Deseable\",\"Deseable\",\"Deseable\",\"Deseable\",\"Deseable\",\"Deseable\",\"Deseable\"),\n",
    "  nombre_intervalo_superior = c(\"Inercial\", \"Inercial\",\"Inercial\",\"Inercial\",\"Inercial\",\"Transformador\",\"Transformador\"),\n",
    "  nombre_intervalo_inferior = c(\"Transformador\", \"Transformador\",\"Transformador\",\"Transformador\",\"Transformador\",\"Inercial\", \"Inercial\"),\n",
    "  limite_inferior_y = c(0,10,0,0,0,25,30),\n",
    "  variable_intervals = c(\"rel_muj_hom\",\"violencia\",\"promedio_diario\",\"promedio_diario\",\"porcentaje\",\"porcentaje\",\"porcentaje\")\n",
    ")"
   ]
  },
  {
   "cell_type": "code",
   "execution_count": 70,
   "id": "1587fbfe",
   "metadata": {
    "vscode": {
     "languageId": "r"
    }
   },
   "outputs": [
    {
     "name": "stderr",
     "output_type": "stream",
     "text": [
      "\u001b[1m\u001b[22mAdding missing grouping variables: `sexo`\n"
     ]
    },
    {
     "data": {
      "text/html": [
       "<ol>\n",
       "\t<li>'H:/Mi unidad/pgd/graficas/tiempo_cuidados_estimadas.png'</li>\n",
       "\t<li>'H:/Mi unidad/pgd/graficas/violencia_estimadas.png'</li>\n",
       "\t<li>'H:/Mi unidad/pgd/graficas/promedio_diario_victimas_estimadas.png'</li>\n",
       "\t<li>'H:/Mi unidad/pgd/graficas/promedio_diario_fem_estimadas.png'</li>\n",
       "\t<li>'H:/Mi unidad/pgd/graficas/inseguridad_mujeres_estimadas.png'</li>\n",
       "\t<li>'H:/Mi unidad/pgd/graficas/empleo_cultural_cdmx_estimadas.png'</li>\n",
       "\t<li>'H:/Mi unidad/pgd/graficas/titulares_mujeres_estimadas.png'</li>\n",
       "</ol>\n"
      ],
      "text/latex": [
       "\\begin{enumerate}\n",
       "\\item 'H:/Mi unidad/pgd/graficas/tiempo\\_cuidados\\_estimadas.png'\n",
       "\\item 'H:/Mi unidad/pgd/graficas/violencia\\_estimadas.png'\n",
       "\\item 'H:/Mi unidad/pgd/graficas/promedio\\_diario\\_victimas\\_estimadas.png'\n",
       "\\item 'H:/Mi unidad/pgd/graficas/promedio\\_diario\\_fem\\_estimadas.png'\n",
       "\\item 'H:/Mi unidad/pgd/graficas/inseguridad\\_mujeres\\_estimadas.png'\n",
       "\\item 'H:/Mi unidad/pgd/graficas/empleo\\_cultural\\_cdmx\\_estimadas.png'\n",
       "\\item 'H:/Mi unidad/pgd/graficas/titulares\\_mujeres\\_estimadas.png'\n",
       "\\end{enumerate}\n"
      ],
      "text/markdown": [
       "1. 'H:/Mi unidad/pgd/graficas/tiempo_cuidados_estimadas.png'\n",
       "2. 'H:/Mi unidad/pgd/graficas/violencia_estimadas.png'\n",
       "3. 'H:/Mi unidad/pgd/graficas/promedio_diario_victimas_estimadas.png'\n",
       "4. 'H:/Mi unidad/pgd/graficas/promedio_diario_fem_estimadas.png'\n",
       "5. 'H:/Mi unidad/pgd/graficas/inseguridad_mujeres_estimadas.png'\n",
       "6. 'H:/Mi unidad/pgd/graficas/empleo_cultural_cdmx_estimadas.png'\n",
       "7. 'H:/Mi unidad/pgd/graficas/titulares_mujeres_estimadas.png'\n",
       "\n",
       "\n"
      ],
      "text/plain": [
       "[[1]]\n",
       "[1] \"H:/Mi unidad/pgd/graficas/tiempo_cuidados_estimadas.png\"\n",
       "\n",
       "[[2]]\n",
       "[1] \"H:/Mi unidad/pgd/graficas/violencia_estimadas.png\"\n",
       "\n",
       "[[3]]\n",
       "[1] \"H:/Mi unidad/pgd/graficas/promedio_diario_victimas_estimadas.png\"\n",
       "\n",
       "[[4]]\n",
       "[1] \"H:/Mi unidad/pgd/graficas/promedio_diario_fem_estimadas.png\"\n",
       "\n",
       "[[5]]\n",
       "[1] \"H:/Mi unidad/pgd/graficas/inseguridad_mujeres_estimadas.png\"\n",
       "\n",
       "[[6]]\n",
       "[1] \"H:/Mi unidad/pgd/graficas/empleo_cultural_cdmx_estimadas.png\"\n",
       "\n",
       "[[7]]\n",
       "[1] \"H:/Mi unidad/pgd/graficas/titulares_mujeres_estimadas.png\"\n"
      ]
     },
     "metadata": {},
     "output_type": "display_data"
    }
   ],
   "source": [
    "pmap(\n",
    "  configuraciones,\n",
    "  function(tabla_obs, tabla_est, margen,base,linea_base,\n",
    "  nombre_archivo,linea_vertical,ano_base,despegue,\n",
    "           titulo, nombre_estimado_futuro,\n",
    "           nombre_intervalo_superior, nombre_intervalo_inferior,\n",
    "           limite_inferior_y, variable_intervals) {\n",
    "    generar_grafica(\n",
    "      tabla_obs = tabla_obs,\n",
    "      tabla_est = tabla_est,\n",
    "      base=base,\n",
    "      linea_base=linea_base,\n",
    "      despegue=despegue,\n",
    "      margen = margen,\n",
    "      titulo = titulo,\n",
    "      nombre_archivo = nombre_archivo,\n",
    "      nombre_estimado_futuro = nombre_estimado_futuro,\n",
    "      nombre_intervalo_superior = nombre_intervalo_superior,\n",
    "      nombre_intervalo_inferior = nombre_intervalo_inferior,\n",
    "      limite_inferior_y = limite_inferior_y,\n",
    "      variable_intervals = variable_intervals\n",
    "    )\n",
    "  }\n",
    ")"
   ]
  }
 ],
 "metadata": {
  "kernelspec": {
   "display_name": "R",
   "language": "R",
   "name": "ir"
  },
  "language_info": {
   "codemirror_mode": "r",
   "file_extension": ".r",
   "mimetype": "text/x-r-source",
   "name": "R",
   "pygments_lexer": "r",
   "version": "4.4.1"
  }
 },
 "nbformat": 4,
 "nbformat_minor": 5
}
