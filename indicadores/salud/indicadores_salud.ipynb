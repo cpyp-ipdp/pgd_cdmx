{
 "cells": [
  {
   "cell_type": "markdown",
   "id": "635b9d9c",
   "metadata": {},
   "source": [
    "## Indicadores de Salud de la Ciudad de México"
   ]
  },
  {
   "cell_type": "code",
   "execution_count": 1,
   "id": "4dcf0581",
   "metadata": {
    "vscode": {
     "languageId": "r"
    }
   },
   "outputs": [
    {
     "name": "stderr",
     "output_type": "stream",
     "text": [
      "Cargando paquete requerido: pacman\n",
      "\n"
     ]
    }
   ],
   "source": [
    "if(! require('pacman')) install.packages('pacman')\n",
    "pacman::p_load(tidyverse, readxl, janitor, stringr, writexl, foreign, downloader, tools)"
   ]
  },
  {
   "cell_type": "markdown",
   "id": "7cfe436a",
   "metadata": {},
   "source": [
    "Descargar datos de Defunciones Regsitradas de INEGI, que es la que se toma de acuerdo con Secretaría de Salud"
   ]
  },
  {
   "cell_type": "code",
   "execution_count": 2,
   "id": "4a052599",
   "metadata": {
    "vscode": {
     "languageId": "r"
    }
   },
   "outputs": [
    {
     "name": "stdout",
     "output_type": "stream",
     "text": [
      "[1] TRUE\n"
     ]
    }
   ],
   "source": [
    "#Definiciones para antes de descargar los datos\n",
    "# Crear directorio principal\n",
    "dir_datos <- 'Estadísticas de Defunciones Registradas (EDR)/Microdatos_1'\n",
    "if (!dir.exists(dir_datos)) {\n",
    "  dir.create(dir_datos, recursive = TRUE)\n",
    "}\n",
    "print(file.exists(dir_datos)) #True = directorio creado"
   ]
  },
  {
   "cell_type": "code",
   "execution_count": 4,
   "id": "bd42c1f1",
   "metadata": {
    "vscode": {
     "languageId": "r"
    }
   },
   "outputs": [],
   "source": [
    "# Función para descargar y procesar los dbf de defunciones\n",
    "descargar_defunciones_dbf <- function() {\n",
    "  options(timeout = 90000)\n",
    "  lista_defun <- list()\n",
    "  \n",
    "  # Lista de URLs con sus años o periodos\n",
    "  urls <- list(\n",
    "    '2023' = 'https://www.inegi.org.mx/contenidos/programas/edr/microdatos/defunciones/2023/defunciones_base_datos_2023_dbf.zip',\n",
    "    '2022' = 'https://www.inegi.org.mx/contenidos/programas/edr/microdatos/defunciones/2022/defunciones_base_datos_2022_dbf.zip',\n",
    "    '2021' = 'https://www.inegi.org.mx/contenidos/programas/edr/microdatos/defunciones/2021/defunciones_base_datos_2021_dbf.zip',\n",
    "    '2020' = 'https://www.inegi.org.mx/contenidos/programas/edr/microdatos/defunciones/2020/defunciones_base_datos_2020_dbf.zip'\n",
    "    #'2015_2019' = 'https://www.inegi.org.mx/contenidos/programas/edr/microdatos/defunciones/datos/defunciones_generales_base_datos_2015_2019_dbf.zip'\n",
    "  )\n",
    "  \n",
    "  for (periodo in names(urls)) {\n",
    "    url <- urls[[periodo]]\n",
    "    zip_path <- file.path(dir_datos, basename(url))\n",
    "    download.file(url, zip_path, mode = \"wb\")\n",
    "    \n",
    "    # Carpeta para extraer\n",
    "    unzip_dir <- file.path(dir_datos, paste0('Defunciones_', periodo))\n",
    "    dir.create(unzip_dir, showWarnings = FALSE)\n",
    "    \n",
    "    unzip(zip_path, exdir = unzip_dir)\n",
    "    unlink(zip_path)  # borrar zip\n",
    "    \n",
    "    # Buscar archivos .dbf en el unzip_dir\n",
    "    dbf_files <- list.files(unzip_dir, pattern = '\\\\.dbf$', full.names = TRUE, ignore.case = TRUE)\n",
    "    \n",
    "    if(length(dbf_files) == 0) {\n",
    "      warning(paste0('No se encontró archivo DBF para ', periodo))\n",
    "      next\n",
    "    }\n",
    "    \n",
    "    # Leer cada DBF y guardarlo en lista\n",
    "    period_lista_defun <- list()\n",
    "    for(dbf_file in dbf_files) {\n",
    "      nombre <- file_path_sans_ext(basename(dbf_file))\n",
    "      df <- tryCatch({\n",
    "        read.dbf(dbf_file, as.is = TRUE) %>% as_tibble() %>% \n",
    "        clean_names()\n",
    "      }, error = function(e) {\n",
    "        warning(paste0('Error leyendo DBF: ', dbf_file))\n",
    "        NULL\n",
    "      })\n",
    "      \n",
    "      if(!is.null(df)) {\n",
    "        period_lista_defun[[nombre]] <- df\n",
    "      }\n",
    "    }\n",
    "    \n",
    "    lista_defun[[periodo]] <- period_lista_defun\n",
    "  }\n",
    "  \n",
    "  save(lista_defun, file = file.path(dir_datos, 'defunciones_lista_defun.RData'))\n",
    "  return(lista_defun)\n",
    "}"
   ]
  },
  {
   "cell_type": "code",
   "execution_count": 5,
   "id": "282f9d9b",
   "metadata": {
    "vscode": {
     "languageId": "r"
    }
   },
   "outputs": [],
   "source": [
    "# Ejecutar descarga\n",
    "defunciones <- descargar_defunciones_dbf()"
   ]
  },
  {
   "cell_type": "code",
   "execution_count": 6,
   "id": "1e9c7190",
   "metadata": {
    "vscode": {
     "languageId": "r"
    }
   },
   "outputs": [],
   "source": [
    "#Guardar la lista completa para no volver a descargar los datos\n",
    "saveRDS(defunciones, file = 'Estadísticas de Defunciones Registradas (EDR)/edr_data.rds')"
   ]
  },
  {
   "cell_type": "markdown",
   "id": "767956a2",
   "metadata": {},
   "source": [
    "Descargar los datos del Subsistema de Información sobre Nacimientos (SINAC) de la Secretaría de Salud Federal.\n",
    "\n",
    "*Comparando los nacimientos de la tabla de nacimientos de datos abiertos, con los de los tabulados de Secretaría de Salud, vemos que los datos ya están ajustados con CONAPO*"
   ]
  },
  {
   "cell_type": "code",
   "execution_count": 13,
   "id": "0b4c67c0",
   "metadata": {
    "vscode": {
     "languageId": "r"
    }
   },
   "outputs": [],
   "source": [
    "#Definiciones para antes de descargar los datos\n",
    "\n",
    "#Crear lista para guardar los datos de sinac\n",
    "lista_nacimientos <- list()\n",
    "\n",
    "options(timeout = 600) #Aumentar el tiempo de espera para la descarga"
   ]
  },
  {
   "cell_type": "code",
   "execution_count": 14,
   "id": "7c4a749b",
   "metadata": {
    "vscode": {
     "languageId": "r"
    }
   },
   "outputs": [
    {
     "ename": "",
     "evalue": "",
     "output_type": "error",
     "traceback": [
      "\u001b[1;31mThe Kernel crashed while executing code in the current cell or a previous cell. \n",
      "\u001b[1;31mPlease review the code in the cell(s) to identify a possible cause of the failure. \n",
      "\u001b[1;31mClick <a href='https://aka.ms/vscodeJupyterKernelCrash'>here</a> for more info. \n",
      "\u001b[1;31mView Jupyter <a href='command:jupyter.viewOutput'>log</a> for further details."
     ]
    }
   ],
   "source": [
    "#iterar por los años de descarga\n",
    "    for(year in 19:23) {\n",
    "#Crear la cadena de los años 2020 a 2023\n",
    "        \n",
    "        year_str <- paste0('20', year)\n",
    "        #Cosntruir la url de descarga\n",
    "        url <- paste0('http://www.dgis.salud.gob.mx/descargas/datosabiertos/nacimientos/sinac_', year_str, '.zip')\n",
    "        \n",
    "        #nombre y carpeta del archivo zip\n",
    "        zip_file <- paste0('SINAC/sinac_', year_str, '.zip')\n",
    "        extract_dir <- paste0('SINAC/sinac_', year_str)\n",
    "#Crear carpeta si no existe\n",
    "        if(!dir.exists('SINAC')) dir.create('SINAC')\n",
    "\n",
    "#Intentar descargar archivos con trycatch\n",
    "        tryCatch({\n",
    "            download(url, destfile = zip_file, mode = 'wb')\n",
    "            \n",
    "            #Crear carpeta de extracción si no existe\n",
    "            if(!file.exists(extract_dir)) dir.create(extract_dir)\n",
    "                          \n",
    "            #Descrompimir el archivo zip\n",
    "            unzip(zip_file, exdir = extract_dir)\n",
    "\n",
    "             #Buscar los archivos descomprimidos\n",
    "            files <- list.files(extract_dir, full.names = TRUE)\n",
    "    \n",
    "    #Leer el primer archivo CSV encontrado (ajusta si es otro formato)\n",
    "            csv_file <- files[grep(\"\\\\.csv$\", files)][1]\n",
    "    \n",
    "        if (!is.na(csv_file)) {\n",
    "        df <- read.csv(csv_file, stringsAsFactors = FALSE) %>% clean_names()\n",
    "      \n",
    "        # Guardar el dataframe en la lista\n",
    "        lista_nacimientos[[year_str]] <- df\n",
    "        \n",
    "        # Eliminar el archivo ZIP\n",
    "        file.remove(zip_file)\n",
    "        \n",
    "        message(paste('Año', year_str, 'procesado correctamente.'))\n",
    "        } else {\n",
    "        message(paste('No se encontró archivo CSV en', extract_dir))\n",
    "        }\n",
    "    }, error = function(e) {\n",
    "        message(paste('Error al procesar el año', year_str))\n",
    "    })\n",
    "    }\n"
   ]
  },
  {
   "cell_type": "code",
   "execution_count": 9,
   "id": "4abc089f",
   "metadata": {
    "vscode": {
     "languageId": "r"
    }
   },
   "outputs": [],
   "source": [
    "#Guardar la lista completa para no volver a descargar los datos\n",
    "saveRDS(lista_nacimientos, file = 'SINAC/sinac_data.rds')"
   ]
  },
  {
   "cell_type": "markdown",
   "id": "4f8df22e",
   "metadata": {},
   "source": [
    "Descargar los datos del Censo Población y Vivienda 2020"
   ]
  },
  {
   "cell_type": "code",
   "execution_count": 10,
   "id": "34b479da",
   "metadata": {
    "vscode": {
     "languageId": "r"
    }
   },
   "outputs": [],
   "source": [
    "#Carpeta donde se guardará todo\n",
    "base_dir <- 'Censo Poblacion y Vivienda 2020'\n",
    "\n",
    "#Url de descarga\n",
    "url <- url <- 'https://www.inegi.org.mx/contenidos/programas/ccpv/2020/microdatos/Censo2020_CPV_CB_Personas_ejemplo_csv.zip'\n",
    "\n",
    "#Archivo zip y carpeta de extracción\n",
    "extract_dir <- file.path(base_dir, 'INEGI. Censo 2020')\n",
    "\n",
    "zip_file <- file.path(base_dir, 'pob_20.zip')"
   ]
  },
  {
   "cell_type": "code",
   "execution_count": 11,
   "id": "b359f655",
   "metadata": {
    "vscode": {
     "languageId": "r"
    }
   },
   "outputs": [
    {
     "name": "stdout",
     "output_type": "stream",
     "text": [
      "[1] \"Archivos descomprimidos:\"\n",
      "[1] \"Censo Poblacion y Vivienda 2020/INEGI. Censo 2020/Censo2020_CPV_CB_Personas_ejemplo_csv.CSV\"\n"
     ]
    },
    {
     "name": "stderr",
     "output_type": "stream",
     "text": [
      "Censo 2020 leído correctamente desde: Censo Poblacion y Vivienda 2020/INEGI. Censo 2020/Censo2020_CPV_CB_Personas_ejemplo_csv.CSV\n",
      "\n"
     ]
    }
   ],
   "source": [
    "# Crear carpeta base si no existe\n",
    "if (!dir.exists(base_dir)) dir.create(base_dir)\n",
    "\n",
    "# Descargar ZIP (solo si no existe)\n",
    "if (!file.exists(zip_file)) {\n",
    "  download.file(url, destfile = zip_file, mode = 'wb')\n",
    "}\n",
    "\n",
    "# Descomprimir directamente en la carpeta con el nombre que deseas\n",
    "if (!dir.exists(extract_dir)) {\n",
    "  unzip(zip_file, exdir = extract_dir)\n",
    "}\n",
    "\n",
    "# Listar todos los archivos descomprimidos para verificar\n",
    "files_all <- list.files(extract_dir, full.names = TRUE, recursive = TRUE)\n",
    "print('Archivos descomprimidos:')\n",
    "print(files_all)\n",
    "\n",
    "# Buscar archivo CSV (sin importar mayúsculas/minúsculas)\n",
    "files_csv <- list.files(extract_dir, pattern = \"\\\\.[cC][sS][vV]$\", full.names = TRUE, recursive = TRUE)\n",
    "\n",
    "if (length(files_csv) > 0) {\n",
    "  csv_file <- files_csv[1]  #Tomamos el único CSV que está\n",
    "  pob_censo <- read.csv(csv_file, stringsAsFactors = FALSE) %>%\n",
    "  clean_names()\n",
    "  \n",
    "  message(paste('Censo 2020 leído correctamente desde:', csv_file))\n",
    "  \n",
    "  # Guardar el dataframe para no volver a descargarlo\n",
    "  saveRDS(pob_censo, file = 'Censo Poblacion y Vivienda 2020/censo_data.rds')\n",
    "  \n",
    "} else {\n",
    "  message('No se encontró ningún archivo CSV en la carpeta descomprimida.')\n",
    "}\n"
   ]
  },
  {
   "cell_type": "markdown",
   "id": "78c37d23",
   "metadata": {},
   "source": [
    "Datos de población de CONAPO"
   ]
  },
  {
   "cell_type": "code",
   "execution_count": 12,
   "id": "a5c4fe67",
   "metadata": {
    "vscode": {
     "languageId": "r"
    }
   },
   "outputs": [],
   "source": [
    "#Carpeta donde se guardará todo\n",
    "base_dir <- 'CONAPO'\n",
    "\n",
    "#Url de descarga\n",
    "url <- 'https://conapo.segob.gob.mx/work/models/CONAPO/pry23/DB/ConDem50a19_ProyPob20a70.zip'\n",
    "\n",
    "#Archivo zip y carpeta de extracción\n",
    "zip_file <- file.path(base_dir, 'conapo_data.zip')\n",
    "\n",
    "extract_dir <- file.path(base_dir, 'ConDem50a19_ProyPob20a70')"
   ]
  },
  {
   "cell_type": "code",
   "execution_count": null,
   "id": "c56320c2",
   "metadata": {
    "vscode": {
     "languageId": "r"
    }
   },
   "outputs": [
    {
     "name": "stderr",
     "output_type": "stream",
     "text": [
      "Archivo CONAPO leído correctamente.\n",
      "\n"
     ]
    }
   ],
   "source": [
    "# Crear carpeta base si no existe\n",
    "if (!dir.exists(base_dir)) dir.create(base_dir)\n",
    "\n",
    "# Descargar el ZIP solo si no existe\n",
    "if (!file.exists(zip_file)) {\n",
    "  download.file(url, destfile = zip_file, mode = 'wb')\n",
    "}\n",
    "\n",
    "# Descomprimir solo si no se ha hecho antes\n",
    "if (!dir.exists(extract_dir)) {\n",
    "  unzip(zip_file, exdir = base_dir)\n",
    "}\n",
    "\n",
    "# Buscar archivo Excel dentro de la carpeta descomprimida\n",
    "files <- list.files(extract_dir, pattern = \"\\\\.xlsx$\", full.names = TRUE)\n",
    "excel_file <- files[1]  # Primer archivo Excel que encuentre\n",
    "\n",
    "if (!is.na(excel_file)) {\n",
    "  # Leer el Excel y limpiar nombres\n",
    "  pob_conapo <- read_excel(excel_file) %>% clean_names()\n",
    "  \n",
    "  message('Archivo CONAPO leído correctamente.')\n",
    "\n",
    "  # Guardar para no volver a descargar\n",
    "  saveRDS(pob_conapo, file = 'CONAPO/poblacion_data.rds')\n",
    "  \n",
    "} else {\n",
    "  message('No se encontró archivo Excel dentro de la carpeta descomprimida.')\n",
    "}\n"
   ]
  },
  {
   "cell_type": "markdown",
   "id": "aa4ce44f",
   "metadata": {},
   "source": [
    "Cargar los datos descargados"
   ]
  },
  {
   "cell_type": "code",
   "execution_count": 3,
   "id": "62a352a4",
   "metadata": {
    "vscode": {
     "languageId": "r"
    }
   },
   "outputs": [],
   "source": [
    "#Función para cargar todos los datos descargados\n",
    "datos_salud <- function(){\n",
    "  list(\n",
    "    defunciones = readRDS('Estadísticas de Defunciones Registradas (EDR)/edr_data.rds'),\n",
    "    nacimientos = readRDS('SINAC/sinac_data.rds'),\n",
    "    pob_censo = readRDS('Censo Poblacion y Vivienda 2020/censo_data.rds'),\n",
    "    pob_conapo = readRDS('CONAPO/poblacion_data.rds')\n",
    "  )\n",
    "}\n",
    "\n",
    "# Cargar los datos en un objeto\n",
    "salud <- datos_salud()\n"
   ]
  },
  {
   "cell_type": "markdown",
   "id": "eaadb95c",
   "metadata": {},
   "source": [
    "Definimos los años para los cálculos"
   ]
  },
  {
   "cell_type": "code",
   "execution_count": 4,
   "id": "5e3c7311",
   "metadata": {
    "vscode": {
     "languageId": "r"
    }
   },
   "outputs": [],
   "source": [
    "anios <- 2019:2023"
   ]
  },
  {
   "cell_type": "markdown",
   "id": "9cecd3ef",
   "metadata": {},
   "source": [
    "Tasa de Mortalidad en menores de 5 años de la Ciudad de México"
   ]
  },
  {
   "cell_type": "code",
   "execution_count": 5,
   "id": "33475f43",
   "metadata": {
    "vscode": {
     "languageId": "r"
    }
   },
   "outputs": [],
   "source": [
    "#Conjunto de nombres para los dataframes de defunciones\n",
    "nombres_def <- c('2020' = 'defun20','2021' = 'defun21', '2022' = 'DEFUN22', '2023' = 'DEFUN23')"
   ]
  },
  {
   "cell_type": "code",
   "execution_count": 12,
   "id": "b64094f6",
   "metadata": {
    "vscode": {
     "languageId": "r"
    }
   },
   "outputs": [],
   "source": [
    "#Crear dataframe vacío para almacenar los resultados\n",
    "natalidad_infantil <- tibble(anio = integer(), nacimientos = integer(), defunciones = integer(), tasa = numeric())\n"
   ]
  },
  {
   "cell_type": "code",
   "execution_count": 7,
   "id": "3c6fb057",
   "metadata": {
    "vscode": {
     "languageId": "r"
    }
   },
   "outputs": [
    {
     "name": "stderr",
     "output_type": "stream",
     "text": [
      "Datos incompletos para el año 2019\n",
      "\n"
     ]
    },
    {
     "name": "stdout",
     "output_type": "stream",
     "text": [
      "\u001b[90m# A tibble: 4 × 4\u001b[39m\n",
      "   anio nacimientos defunciones  tasa\n",
      "  \u001b[3m\u001b[90m<int>\u001b[39m\u001b[23m       \u001b[3m\u001b[90m<int>\u001b[39m\u001b[23m       \u001b[3m\u001b[90m<int>\u001b[39m\u001b[23m \u001b[3m\u001b[90m<dbl>\u001b[39m\u001b[23m\n",
      "\u001b[90m1\u001b[39m  \u001b[4m2\u001b[24m020       \u001b[4m8\u001b[24m\u001b[4m7\u001b[24m005        \u001b[4m1\u001b[24m266  14.6\n",
      "\u001b[90m2\u001b[39m  \u001b[4m2\u001b[24m021       \u001b[4m7\u001b[24m\u001b[4m7\u001b[24m476        \u001b[4m1\u001b[24m062  13.7\n",
      "\u001b[90m3\u001b[39m  \u001b[4m2\u001b[24m022       \u001b[4m8\u001b[24m\u001b[4m0\u001b[24m892        \u001b[4m1\u001b[24m159  14.3\n",
      "\u001b[90m4\u001b[39m  \u001b[4m2\u001b[24m023       \u001b[4m7\u001b[24m\u001b[4m8\u001b[24m032        \u001b[4m1\u001b[24m152  14.8\n"
     ]
    }
   ],
   "source": [
    "# Iterar sobre los años y calcular tasas\n",
    "for (a in anios) {\n",
    "  anio_str <- as.character(a)\n",
    "  \n",
    "  # Validar que existan datos para el año actual\n",
    "  if (!is.null(salud$nacimientos[[anio_str]]) && !is.null(salud$defunciones[[anio_str]])) {\n",
    "    \n",
    "    # Extraer el dataframe de nacimientos\n",
    "    df_nac <- salud$nacimientos[[anio_str]]\n",
    "    \n",
    "    # Obtener el nombre correcto del dataframe de defunciones\n",
    "    nombre_df <- nombres_def[anio_str]\n",
    "    df_def <- salud$defunciones[[anio_str]][[nombre_df]]\n",
    "    \n",
    "    # Calcular nacimientos para CDMX\n",
    "    nac <- df_nac %>%\n",
    "      filter(entidadresidencia == 9) %>%\n",
    "      summarise(nacimientos = n()) %>%\n",
    "      pull(nacimientos)\n",
    "    \n",
    "    # Calcular defunciones infantiles para CDMX\n",
    "    def <- df_def %>%\n",
    "      filter(ent_resid == '09', anio_ocur == a, edad >= 1001, edad < 4005) %>%\n",
    "      summarise(defunciones = n()) %>%\n",
    "      pull(defunciones)\n",
    "    \n",
    "    # Calcular la tasa\n",
    "    tasa <- (def / nac) * 1000\n",
    "    \n",
    "    # Guardar resultados\n",
    "    mortalidad_infantil <- mortalidad_infantil %>% \n",
    "      add_row(anio = a, nacimientos = nac, defunciones = def, tasa = tasa)\n",
    "    \n",
    "  } else {\n",
    "    message(paste('Datos incompletos para el año', a))\n",
    "  }\n",
    "}\n",
    "\n",
    "# Mostrar resultados\n",
    "print(mortalidad_infantil)\n"
   ]
  },
  {
   "cell_type": "markdown",
   "id": "d3872830",
   "metadata": {},
   "source": [
    "Total de nacimientos ocurridos en niñas y adolescentes menores de 15 años 2019-2023\n",
    "\n",
    "*Secretaría de Salud utiliza la variable Entidad de federativa del parto/certificado*"
   ]
  },
  {
   "cell_type": "code",
   "execution_count": 8,
   "id": "c7006194",
   "metadata": {
    "vscode": {
     "languageId": "r"
    }
   },
   "outputs": [],
   "source": [
    "#Crear tabla para guiardar los  resultados\n",
    "madres_menores_15 <- tibble(anio = integer(), nacimientos = integer())"
   ]
  },
  {
   "cell_type": "code",
   "execution_count": 9,
   "id": "bd33031a",
   "metadata": {
    "vscode": {
     "languageId": "r"
    }
   },
   "outputs": [
    {
     "name": "stdout",
     "output_type": "stream",
     "text": [
      "\u001b[90m# A tibble: 5 × 2\u001b[39m\n",
      "   anio nacimientos\n",
      "  \u001b[3m\u001b[90m<int>\u001b[39m\u001b[23m       \u001b[3m\u001b[90m<int>\u001b[39m\u001b[23m\n",
      "\u001b[90m1\u001b[39m  \u001b[4m2\u001b[24m019         322\n",
      "\u001b[90m2\u001b[39m  \u001b[4m2\u001b[24m020         272\n",
      "\u001b[90m3\u001b[39m  \u001b[4m2\u001b[24m021         321\n",
      "\u001b[90m4\u001b[39m  \u001b[4m2\u001b[24m022         304\n",
      "\u001b[90m5\u001b[39m  \u001b[4m2\u001b[24m023         299\n"
     ]
    }
   ],
   "source": [
    "for (a in anios) {\n",
    "    anio_str <- as.character(a)\n",
    "\n",
    "    if (!is.null(salud$nacimientos[[anio_str]])) {\n",
    "        df_nac <- salud$nacimientos[[anio_str]] %>% as_tibble()\n",
    "        \n",
    "        # Definir las variables Entidad y Edad por año\n",
    "        if (a == 2019) {\n",
    "            var_entidad <- 'ent_cert'\n",
    "            var_edad <- 'edadm'\n",
    "        } else {\n",
    "            var_entidad <- 'entidadfederativacertifica'\n",
    "            var_edad <- 'edad'\n",
    "        }\n",
    "        \n",
    "        # Filtrar y calcular\n",
    "        nacimientos_15 <- df_nac %>%\n",
    "            filter(.data[[var_entidad]] == 9, .data[[var_edad]] < 15) %>%\n",
    "            summarise(nacimientos = n()) %>%\n",
    "            pull(nacimientos)\n",
    "        \n",
    "        # Guardar los resultados en la tabla creada\n",
    "        madres_menores_15 <- madres_menores_15 %>%\n",
    "            add_row(anio = a, nacimientos = nacimientos_15)\n",
    "        \n",
    "    } else {\n",
    "        message(paste('Datos incompletos para el año', a))\n",
    "    }\n",
    "}\n",
    "\n",
    "# Ver resultados\n",
    "print(madres_menores_15)"
   ]
  },
  {
   "cell_type": "markdown",
   "id": "5a1d3fc4",
   "metadata": {},
   "source": [
    "Mortalidad por enfermedades del corazón\n",
    "\n",
    "*De acuerdo con INEGI, se clasifica la mortalidad por enfermedades del corazón (con excepción del paro cardiaco) utilizando el conjunto de códigos de la Lista Mexicana de Enfermedades del 26 al 29.*"
   ]
  },
  {
   "cell_type": "code",
   "execution_count": 5,
   "id": "934b4598",
   "metadata": {
    "vscode": {
     "languageId": "r"
    }
   },
   "outputs": [],
   "source": [
    "#Claves enfermedades del corazón para filtrarlos en cada año\n",
    "enfer_cora <- c('26', '26A', '26B', '27', '27A', '27B', '27Z', '28', '28A', '28Z', '29', '29A', '29B', '29C', '29D', '29Z')"
   ]
  },
  {
   "cell_type": "code",
   "execution_count": 6,
   "id": "3120f685",
   "metadata": {
    "vscode": {
     "languageId": "r"
    }
   },
   "outputs": [],
   "source": [
    "tasa_mortalidad_corazon <- list()"
   ]
  },
  {
   "cell_type": "code",
   "execution_count": 8,
   "id": "d04d9db7",
   "metadata": {
    "vscode": {
     "languageId": "r"
    }
   },
   "outputs": [
    {
     "name": "stderr",
     "output_type": "stream",
     "text": [
      "Datos incompletos para el año 2019\n",
      "\n",
      "Año 2020 procesado correctamente. Registros filtrados: \n",
      "\n",
      "Año 2021 procesado correctamente. Registros filtrados: \n",
      "\n",
      "Año 2022 procesado correctamente. Registros filtrados: \n",
      "\n",
      "Año 2023 procesado correctamente. Registros filtrados: \n",
      "\n"
     ]
    }
   ],
   "source": [
    "for (a in anios) {\n",
    "  anio_str <- as.character(a)\n",
    "\n",
    "  if (!is.null(salud$defunciones[[anio_str]])) {\n",
    "\n",
    "    # Buscar el nombre de la tabla de defunciones de ese año\n",
    "    nombres_tablas <- names(salud$defunciones[[anio_str]])\n",
    "    tabla_defun <- nombres_tablas[str_detect(nombres_tablas, regex('defun', ignore_case = TRUE))][1]\n",
    "\n",
    "    # Cargar la tabla como tibble\n",
    "    df_def <- salud$defunciones[[anio_str]][[tabla_defun]] %>% as_tibble()\n",
    "\n",
    "    # Filtrar por los códigos de enfermedades del corazón usando directamente lista_mex\n",
    "    df_filtrado <- df_def %>%\n",
    "      filter(lista_mex %in% enfer_cora, ent_resid == '09') %>%\n",
    "      select(ent_resid, lista_mex) %>%\n",
    "      summarise(muertes = n()) %>%\n",
    "      pull(muertes)\n",
    "\n",
    "    # Guardar el resultado en la lista\n",
    "    tasa_mortalidad_corazon[[anio_str]] <- df_filtrado\n",
    "\n",
    "    message(paste('Año', a, 'procesado correctamente. Registros filtrados:', nrow(df_filtrado)))\n",
    "\n",
    "  } else {\n",
    "    message(paste('Datos incompletos para el año', a))\n",
    "  }\n",
    "}\n"
   ]
  },
  {
   "cell_type": "code",
   "execution_count": 9,
   "id": "e6fac7d9",
   "metadata": {
    "vscode": {
     "languageId": "r"
    }
   },
   "outputs": [
    {
     "name": "stdout",
     "output_type": "stream",
     "text": [
      "$`2020`\n",
      "[1] 21064\n",
      "\n",
      "$`2021`\n",
      "[1] 18610\n",
      "\n",
      "$`2022`\n",
      "[1] 16810\n",
      "\n",
      "$`2023`\n",
      "[1] 17020\n",
      "\n"
     ]
    }
   ],
   "source": [
    "print(tasa_mortalidad_corazon)"
   ]
  },
  {
   "cell_type": "code",
   "execution_count": 10,
   "id": "92973d37",
   "metadata": {
    "vscode": {
     "languageId": "r"
    }
   },
   "outputs": [],
   "source": [
    "pob_censo <- tibble(salud$pob_censo)"
   ]
  },
  {
   "cell_type": "code",
   "execution_count": null,
   "id": "89514bf0",
   "metadata": {
    "vscode": {
     "languageId": "r"
    }
   },
   "outputs": [],
   "source": [
    "#Población censo\n",
    "pob_censo <- pob_censo %>%\n",
    "filter(ent =='09') %>%\n",
    "summarise(poblacion_censo)"
   ]
  },
  {
   "cell_type": "code",
   "execution_count": null,
   "id": "4ffd3823",
   "metadata": {
    "vscode": {
     "languageId": "r"
    }
   },
   "outputs": [],
   "source": [
    "# 1. Población por año para CDMX\n",
    "# Suponiendo que pob_censo y pob_conapo tienen columnas: anio, ent, poblacion\n",
    "\n",
    "# Obtener población 2020 del censo\n",
    "pob_cdmx_2020 <- salud$pob_censo %>%\n",
    "  filter(ent == 9) %>%\n",
    "  summarise(poblacion = n()) %>%\n",
    "  pull(poblacion)\n",
    "\n",
    "\n",
    "# Crear tabla con muertes\n",
    "tasa_mortalidad_corazon_df <- tibble(\n",
    "  anio = as.integer(names(tasa_mortalidad_corazon)),\n",
    "  muertes = unlist(tasa_mortalidad_corazon)\n",
    ")\n",
    "\n",
    "# Añadir población\n",
    "tasa_mortalidad_corazon_df <- tasa_mortalidad_corazon_df %>%\n",
    "  mutate(\n",
    "    poblacion = case_when(\n",
    "      anio == 2020 ~ pob_cdmx_2020,\n",
    "      TRUE ~ pob_cdmx_conapo$poblacion[match(anio, pob_cdmx_conapo$anio)]\n",
    "    ),\n",
    "    tasa = (muertes / poblacion) * 100000\n",
    "  )\n",
    "\n",
    "# Resultado final\n",
    "print(tasa_mortalidad_corazon_df)\n"
   ]
  },
  {
   "cell_type": "code",
   "execution_count": null,
   "id": "bbfc5a7a",
   "metadata": {
    "vscode": {
     "languageId": "r"
    }
   },
   "outputs": [],
   "source": [
    "# Obtener población 2021-2023 del CONAPO\n",
    "pob_cdmx_conapo <- salud$pob_conapo %>%\n",
    "  filter(ent == 9, anio %in% c(2021, 2022, 2023)) %>%\n",
    "  group_by(anio) %>%\n",
    "  summarise(poblacion = n()) %>%\n",
    "  ungroup()\n",
    "\n"
   ]
  }
 ],
 "metadata": {
  "kernelspec": {
   "display_name": "R",
   "language": "R",
   "name": "ir"
  },
  "language_info": {
   "codemirror_mode": "r",
   "file_extension": ".r",
   "mimetype": "text/x-r-source",
   "name": "R",
   "pygments_lexer": "r",
   "version": "4.4.2"
  }
 },
 "nbformat": 4,
 "nbformat_minor": 5
}
