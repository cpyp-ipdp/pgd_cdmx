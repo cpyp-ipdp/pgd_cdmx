{
 "cells": [
  {
   "cell_type": "code",
   "execution_count": 42,
   "id": "a15d3082",
   "metadata": {
    "vscode": {
     "languageId": "r"
    }
   },
   "outputs": [
    {
     "name": "stderr",
     "output_type": "stream",
     "text": [
      "Using GitHub PAT from the git credential store.\n",
      "\n",
      "Downloading GitHub repo cpyp-ipdp/funcionespgd@HEAD\n",
      "\n"
     ]
    },
    {
     "name": "stdout",
     "output_type": "stream",
     "text": [
      "rlang  (1.1.4 -> 1.1.6) [CRAN]\n",
      "glue   (1.7.0 -> 1.8.0) [CRAN]\n",
      "cli    (3.6.3 -> 3.6.5) [CRAN]\n",
      "tibble (3.2.1 -> 3.3.0) [CRAN]\n"
     ]
    },
    {
     "name": "stderr",
     "output_type": "stream",
     "text": [
      "Installing 4 packages: rlang, glue, cli, tibble\n",
      "\n",
      "Warning message:\n",
      "\"package 'tibble' is in use and will not be installed\"\n",
      "Installing packages into 'C:/Users/claud/AppData/Local/R/win-library/4.4'\n",
      "(as 'lib' is unspecified)\n",
      "\n"
     ]
    },
    {
     "name": "stdout",
     "output_type": "stream",
     "text": [
      "package 'rlang' successfully unpacked and MD5 sums checked\n"
     ]
    },
    {
     "name": "stderr",
     "output_type": "stream",
     "text": [
      "Warning message:\n",
      "\"cannot remove prior installation of package 'rlang'\"\n",
      "Warning message in file.copy(savedcopy, lib, recursive = TRUE):\n",
      "\"problema al copiar C:\\Users\\claud\\AppData\\Local\\R\\win-library\\4.4\\00LOCK\\rlang\\libs\\x64\\rlang.dll  a C:\\Users\\claud\\AppData\\Local\\R\\win-library\\4.4\\rlang\\libs\\x64\\rlang.dll: Permission denied\"\n",
      "Warning message:\n",
      "\"restored 'rlang'\"\n"
     ]
    },
    {
     "name": "stdout",
     "output_type": "stream",
     "text": [
      "package 'glue' successfully unpacked and MD5 sums checked\n"
     ]
    },
    {
     "name": "stderr",
     "output_type": "stream",
     "text": [
      "Warning message:\n",
      "\"cannot remove prior installation of package 'glue'\"\n",
      "Warning message in file.copy(savedcopy, lib, recursive = TRUE):\n",
      "\"problema al copiar C:\\Users\\claud\\AppData\\Local\\R\\win-library\\4.4\\00LOCK\\glue\\libs\\x64\\glue.dll  a C:\\Users\\claud\\AppData\\Local\\R\\win-library\\4.4\\glue\\libs\\x64\\glue.dll: Permission denied\"\n",
      "Warning message:\n",
      "\"restored 'glue'\"\n"
     ]
    },
    {
     "name": "stdout",
     "output_type": "stream",
     "text": [
      "package 'cli' successfully unpacked and MD5 sums checked\n"
     ]
    },
    {
     "name": "stderr",
     "output_type": "stream",
     "text": [
      "Warning message:\n",
      "\"cannot remove prior installation of package 'cli'\"\n",
      "Warning message in file.copy(savedcopy, lib, recursive = TRUE):\n",
      "\"problema al copiar C:\\Users\\claud\\AppData\\Local\\R\\win-library\\4.4\\00LOCK\\cli\\libs\\x64\\cli.dll  a C:\\Users\\claud\\AppData\\Local\\R\\win-library\\4.4\\cli\\libs\\x64\\cli.dll: Permission denied\"\n",
      "Warning message:\n",
      "\"restored 'cli'\"\n"
     ]
    },
    {
     "name": "stdout",
     "output_type": "stream",
     "text": [
      "\n",
      "The downloaded binary packages are in\n",
      "\tC:\\Users\\claud\\AppData\\Local\\Temp\\RtmpiWUtRo\\downloaded_packages\n",
      "\u001b[36m──\u001b[39m \u001b[36mR CMD build\u001b[39m \u001b[36m─────────────────────────────────────────────────────────────────\u001b[39m\n",
      "* checking for file 'C:\\Users\\claud\\AppData\\Local\\Temp\\RtmpiWUtRo\\remotes7eb82ec541ce\\cpyp-ipdp-funcionespgd-8b2a39e/DESCRIPTION' ... OK\n",
      "* preparing 'funcionespgd':\n",
      "* checking DESCRIPTION meta-information ... OK\n",
      "* checking for LF line-endings in source and make files and shell scripts\n",
      "* checking for empty or unneeded directories\n",
      "Omitted 'LazyData' from DESCRIPTION\n",
      "* building 'funcionespgd_0.1.0.tar.gz'\n",
      "\n"
     ]
    },
    {
     "name": "stderr",
     "output_type": "stream",
     "text": [
      "Installing package into 'C:/Users/claud/AppData/Local/R/win-library/4.4'\n",
      "(as 'lib' is unspecified)\n",
      "\n"
     ]
    }
   ],
   "source": [
    "#rm(list=ls())\n",
    "\n",
    "# Librerías ====\n",
    "if(!require('pacman')) install.packages('pacman')\n",
    "pacman::p_load(tidyverse, showtext, foreign)\n",
    "font_add_google(\"Poppins\", \"pop\")\n",
    "showtext_auto()\n",
    "remotes::install_github(\"cpyp-ipdp/funcionespgd\", force = TRUE)\n",
    "library(funcionespgd)"
   ]
  },
  {
   "cell_type": "code",
   "execution_count": 11,
   "id": "f9e2be60",
   "metadata": {
    "vscode": {
     "languageId": "r"
    }
   },
   "outputs": [],
   "source": [
    "##Crear folders de almacenamiento\n",
    "dir.create(\"microdatos\", showWarnings = F)"
   ]
  },
  {
   "cell_type": "code",
   "execution_count": 12,
   "id": "a41a1450",
   "metadata": {
    "vscode": {
     "languageId": "r"
    }
   },
   "outputs": [],
   "source": [
    "url_base<-\"https://www.inegi.org.mx/contenidos/programas/emat/microdatos/matrimonios_base_datos_\"\n",
    "fin<-\"_dbf.zip\"\n",
    "\n",
    "years<-c(\"2010_2014\",\"2015_2019\", \"2020\", \"2021\", \"2022\", \"2023\")"
   ]
  },
  {
   "cell_type": "code",
   "execution_count": 13,
   "id": "3e8568a3",
   "metadata": {
    "vscode": {
     "languageId": "r"
    }
   },
   "outputs": [],
   "source": [
    "# Función para descargar y descomprimir un archivo con timeout\n",
    "download_and_unzip <- function(url, destination=\"microdatos\") {\n",
    "  tryCatch({\n",
    "    # Descargar el archivo con timeout\n",
    "    download.file(url, destfile = paste0(destination, \"/\", basename(url)), mode = \"wb\", timeout = 10000)\n",
    "\n",
    "    # Descomprimir el archivo\n",
    "    unzip(paste0(destination, \"/\", basename(url)), exdir = destination)\n",
    "\n",
    "    # Eliminar el archivo comprimido después de descomprimirlo\n",
    "    unlink(paste0(destination, \"/\", basename(url)))\n",
    "\n",
    "    message(paste(\"Descarga y descompresión exitosas para\", basename(url)))\n",
    "  }, error = function(e) {\n",
    "    warning(paste(\"Error al descargar o descomprimir\", basename(url), \":\", conditionMessage(e)))\n",
    "  })\n",
    "}"
   ]
  },
  {
   "cell_type": "code",
   "execution_count": 14,
   "id": "94049f65",
   "metadata": {
    "vscode": {
     "languageId": "r"
    }
   },
   "outputs": [
    {
     "name": "stderr",
     "output_type": "stream",
     "text": [
      "Descarga y descompresión exitosas para matrimonios_base_datos_2010_2014_dbf.zip\n",
      "\n",
      "Descarga y descompresión exitosas para matrimonios_base_datos_2015_2019_dbf.zip\n",
      "\n",
      "Descarga y descompresión exitosas para matrimonios_base_datos_2020_dbf.zip\n",
      "\n",
      "Descarga y descompresión exitosas para matrimonios_base_datos_2021_dbf.zip\n",
      "\n",
      "Descarga y descompresión exitosas para matrimonios_base_datos_2022_dbf.zip\n",
      "\n",
      "Descarga y descompresión exitosas para matrimonios_base_datos_2023_dbf.zip\n",
      "\n"
     ]
    }
   ],
   "source": [
    "for (year in years) {\n",
    "  url <- paste0(url_base, year, fin)\n",
    "  download_and_unzip(url)\n",
    "}"
   ]
  },
  {
   "cell_type": "code",
   "execution_count": 21,
   "id": "1d07a49b",
   "metadata": {
    "vscode": {
     "languageId": "r"
    }
   },
   "outputs": [
    {
     "name": "stderr",
     "output_type": "stream",
     "text": [
      "Leyendo: microdatos//matrimonios_base_datos_2010_dbf/MATRI10.dbf\n",
      "\n",
      "Leyendo: microdatos//matrimonios_base_datos_2011_dbf/MATRI11.dbf\n",
      "\n",
      "Leyendo: microdatos//matrimonios_base_datos_2012_dbf/MATRI12.dbf\n",
      "\n",
      "Leyendo: microdatos//matrimonios_base_datos_2013_dbf/MATRI13.dbf\n",
      "\n",
      "Leyendo: microdatos//matrimonios_base_datos_2014_dbf/MATRI14.dbf\n",
      "\n",
      "Leyendo: microdatos//matrimonios_base_datos_2015/MATRI15.dbf\n",
      "\n",
      "Leyendo: microdatos//matrimonios_base_datos_2016/MATRI16.DBF\n",
      "\n",
      "Leyendo: microdatos//matrimonios_base_datos_2017/MATRI17.DBF\n",
      "\n",
      "Leyendo: microdatos//matrimonios_base_datos_2018/MATRI18.DBF\n",
      "\n",
      "Leyendo: microdatos//matrimonios_base_datos_2019/MATRI19.DBF\n",
      "\n",
      "Leyendo: microdatos/MATRI20.DBF\n",
      "\n",
      "Leyendo: microdatos/MATRI21.DBF\n",
      "\n",
      "Leyendo: microdatos/MATRI22.dbf\n",
      "\n",
      "Leyendo: microdatos/matri23.dbf\n",
      "\n"
     ]
    }
   ],
   "source": [
    "anios <- 2010:2023\n",
    "lista_matrimonios <- list()\n",
    "ruta_base <- \"microdatos/\"\n",
    "\n",
    "for (anio in anios) {\n",
    "  sufijo <- substr(as.character(anio), 3, 4)\n",
    "  \n",
    "  # Determinar carpeta según el año\n",
    "  if (anio >= 2015 & anio <= 2019) {\n",
    "    carpeta <- file.path(ruta_base, paste0(\"matrimonios_base_datos_\", anio))\n",
    "  } else if (anio <= 2014) {\n",
    "    carpeta <- file.path(ruta_base, paste0(\"matrimonios_base_datos_\", anio, \"_dbf\"))\n",
    "  } else {\n",
    "    carpeta <- ruta_base\n",
    "  }\n",
    "  \n",
    "  # Buscar archivo DBF con sufijo de año\n",
    "  ruta_archivo <- list.files(\n",
    "    path = carpeta,\n",
    "    pattern = paste0(\"MATRI.*\", sufijo, \"\\\\.dbf$\"),\n",
    "    full.names = TRUE,\n",
    "    ignore.case = TRUE\n",
    "  )\n",
    "  \n",
    "  # Leer si existe\n",
    "  if (length(ruta_archivo) == 1) {\n",
    "    message(\"Leyendo: \", ruta_archivo)\n",
    "    df <- read.dbf(ruta_archivo, as.is = TRUE) %>%\n",
    "      janitor::clean_names() %>%\n",
    "      mutate(across(everything(), as.character))  # Homogeneizar tipos\n",
    "    lista_matrimonios[[as.character(anio)]] <- df\n",
    "  } else {\n",
    "    warning(\"Archivo DBF no encontrado para \", anio)\n",
    "  }\n",
    "}\n",
    "\n",
    "# Combinar todas las tablas\n",
    "matrimonios_completo <- bind_rows(lista_matrimonios, .id = \"anio\")"
   ]
  },
  {
   "cell_type": "code",
   "execution_count": 22,
   "id": "8c0a09b1",
   "metadata": {
    "vscode": {
     "languageId": "r"
    }
   },
   "outputs": [
    {
     "data": {
      "text/html": [
       "<table class=\"dataframe\">\n",
       "<caption>A data.frame: 6 × 36</caption>\n",
       "<thead>\n",
       "\t<tr><th></th><th scope=col>anio</th><th scope=col>ent_regis</th><th scope=col>mun_regis</th><th scope=col>loc_regis</th><th scope=col>tam_loc_re</th><th scope=col>dia_regis</th><th scope=col>mes_regis</th><th scope=col>anio_regis</th><th scope=col>regimen_ma</th><th scope=col>genero</th><th scope=col>⋯</th><th scope=col>entrh_con2</th><th scope=col>munrh_con2</th><th scope=col>locrh_con2</th><th scope=col>tlorh_con2</th><th scope=col>escol_con2</th><th scope=col>conactcon2</th><th scope=col>sitlabcon2</th><th scope=col>postracon2</th><th scope=col>tipo_con</th><th scope=col>dis_re_oax</th></tr>\n",
       "\t<tr><th></th><th scope=col>&lt;chr&gt;</th><th scope=col>&lt;chr&gt;</th><th scope=col>&lt;chr&gt;</th><th scope=col>&lt;chr&gt;</th><th scope=col>&lt;chr&gt;</th><th scope=col>&lt;chr&gt;</th><th scope=col>&lt;chr&gt;</th><th scope=col>&lt;chr&gt;</th><th scope=col>&lt;chr&gt;</th><th scope=col>&lt;chr&gt;</th><th scope=col>⋯</th><th scope=col>&lt;chr&gt;</th><th scope=col>&lt;chr&gt;</th><th scope=col>&lt;chr&gt;</th><th scope=col>&lt;chr&gt;</th><th scope=col>&lt;chr&gt;</th><th scope=col>&lt;chr&gt;</th><th scope=col>&lt;chr&gt;</th><th scope=col>&lt;chr&gt;</th><th scope=col>&lt;chr&gt;</th><th scope=col>&lt;chr&gt;</th></tr>\n",
       "</thead>\n",
       "<tbody>\n",
       "\t<tr><th scope=row>1...1</th><td>2010</td><td>01</td><td>001</td><td>0001</td><td>15</td><td>4</td><td>1</td><td>2010</td><td>1</td><td>1</td><td>⋯</td><td>01</td><td>001</td><td>0001</td><td>15</td><td>5</td><td>1</td><td>1</td><td>2</td><td>1</td><td>999</td></tr>\n",
       "\t<tr><th scope=row>2...2</th><td>2010</td><td>01</td><td>001</td><td>0001</td><td>15</td><td>6</td><td>1</td><td>2010</td><td>2</td><td>1</td><td>⋯</td><td>01</td><td>005</td><td>0001</td><td>10</td><td>5</td><td>2</td><td>3</td><td>9</td><td>1</td><td>999</td></tr>\n",
       "\t<tr><th scope=row>3...3</th><td>2010</td><td>01</td><td>001</td><td>0001</td><td>15</td><td>6</td><td>1</td><td>2010</td><td>2</td><td>1</td><td>⋯</td><td>01</td><td>001</td><td>0001</td><td>15</td><td>5</td><td>2</td><td>3</td><td>9</td><td>1</td><td>999</td></tr>\n",
       "\t<tr><th scope=row>4...4</th><td>2010</td><td>01</td><td>001</td><td>0001</td><td>15</td><td>7</td><td>1</td><td>2010</td><td>1</td><td>1</td><td>⋯</td><td>01</td><td>001</td><td>0001</td><td>15</td><td>5</td><td>1</td><td>1</td><td>2</td><td>1</td><td>999</td></tr>\n",
       "\t<tr><th scope=row>5...5</th><td>2010</td><td>01</td><td>001</td><td>0001</td><td>15</td><td>7</td><td>1</td><td>2010</td><td>2</td><td>1</td><td>⋯</td><td>01</td><td>001</td><td>0001</td><td>15</td><td>7</td><td>2</td><td>2</td><td>9</td><td>1</td><td>999</td></tr>\n",
       "\t<tr><th scope=row>6...6</th><td>2010</td><td>01</td><td>001</td><td>0001</td><td>15</td><td>8</td><td>1</td><td>2010</td><td>1</td><td>1</td><td>⋯</td><td>01</td><td>001</td><td>0001</td><td>15</td><td>6</td><td>1</td><td>1</td><td>2</td><td>1</td><td>999</td></tr>\n",
       "</tbody>\n",
       "</table>\n"
      ],
      "text/latex": [
       "A data.frame: 6 × 36\n",
       "\\begin{tabular}{r|lllllllllllllllllllll}\n",
       "  & anio & ent\\_regis & mun\\_regis & loc\\_regis & tam\\_loc\\_re & dia\\_regis & mes\\_regis & anio\\_regis & regimen\\_ma & genero & ⋯ & entrh\\_con2 & munrh\\_con2 & locrh\\_con2 & tlorh\\_con2 & escol\\_con2 & conactcon2 & sitlabcon2 & postracon2 & tipo\\_con & dis\\_re\\_oax\\\\\n",
       "  & <chr> & <chr> & <chr> & <chr> & <chr> & <chr> & <chr> & <chr> & <chr> & <chr> & ⋯ & <chr> & <chr> & <chr> & <chr> & <chr> & <chr> & <chr> & <chr> & <chr> & <chr>\\\\\n",
       "\\hline\n",
       "\t1...1 & 2010 & 01 & 001 & 0001 & 15 & 4 & 1 & 2010 & 1 & 1 & ⋯ & 01 & 001 & 0001 & 15 & 5 & 1 & 1 & 2 & 1 & 999\\\\\n",
       "\t2...2 & 2010 & 01 & 001 & 0001 & 15 & 6 & 1 & 2010 & 2 & 1 & ⋯ & 01 & 005 & 0001 & 10 & 5 & 2 & 3 & 9 & 1 & 999\\\\\n",
       "\t3...3 & 2010 & 01 & 001 & 0001 & 15 & 6 & 1 & 2010 & 2 & 1 & ⋯ & 01 & 001 & 0001 & 15 & 5 & 2 & 3 & 9 & 1 & 999\\\\\n",
       "\t4...4 & 2010 & 01 & 001 & 0001 & 15 & 7 & 1 & 2010 & 1 & 1 & ⋯ & 01 & 001 & 0001 & 15 & 5 & 1 & 1 & 2 & 1 & 999\\\\\n",
       "\t5...5 & 2010 & 01 & 001 & 0001 & 15 & 7 & 1 & 2010 & 2 & 1 & ⋯ & 01 & 001 & 0001 & 15 & 7 & 2 & 2 & 9 & 1 & 999\\\\\n",
       "\t6...6 & 2010 & 01 & 001 & 0001 & 15 & 8 & 1 & 2010 & 1 & 1 & ⋯ & 01 & 001 & 0001 & 15 & 6 & 1 & 1 & 2 & 1 & 999\\\\\n",
       "\\end{tabular}\n"
      ],
      "text/markdown": [
       "\n",
       "A data.frame: 6 × 36\n",
       "\n",
       "| <!--/--> | anio &lt;chr&gt; | ent_regis &lt;chr&gt; | mun_regis &lt;chr&gt; | loc_regis &lt;chr&gt; | tam_loc_re &lt;chr&gt; | dia_regis &lt;chr&gt; | mes_regis &lt;chr&gt; | anio_regis &lt;chr&gt; | regimen_ma &lt;chr&gt; | genero &lt;chr&gt; | ⋯ ⋯ | entrh_con2 &lt;chr&gt; | munrh_con2 &lt;chr&gt; | locrh_con2 &lt;chr&gt; | tlorh_con2 &lt;chr&gt; | escol_con2 &lt;chr&gt; | conactcon2 &lt;chr&gt; | sitlabcon2 &lt;chr&gt; | postracon2 &lt;chr&gt; | tipo_con &lt;chr&gt; | dis_re_oax &lt;chr&gt; |\n",
       "|---|---|---|---|---|---|---|---|---|---|---|---|---|---|---|---|---|---|---|---|---|---|\n",
       "| 1...1 | 2010 | 01 | 001 | 0001 | 15 | 4 | 1 | 2010 | 1 | 1 | ⋯ | 01 | 001 | 0001 | 15 | 5 | 1 | 1 | 2 | 1 | 999 |\n",
       "| 2...2 | 2010 | 01 | 001 | 0001 | 15 | 6 | 1 | 2010 | 2 | 1 | ⋯ | 01 | 005 | 0001 | 10 | 5 | 2 | 3 | 9 | 1 | 999 |\n",
       "| 3...3 | 2010 | 01 | 001 | 0001 | 15 | 6 | 1 | 2010 | 2 | 1 | ⋯ | 01 | 001 | 0001 | 15 | 5 | 2 | 3 | 9 | 1 | 999 |\n",
       "| 4...4 | 2010 | 01 | 001 | 0001 | 15 | 7 | 1 | 2010 | 1 | 1 | ⋯ | 01 | 001 | 0001 | 15 | 5 | 1 | 1 | 2 | 1 | 999 |\n",
       "| 5...5 | 2010 | 01 | 001 | 0001 | 15 | 7 | 1 | 2010 | 2 | 1 | ⋯ | 01 | 001 | 0001 | 15 | 7 | 2 | 2 | 9 | 1 | 999 |\n",
       "| 6...6 | 2010 | 01 | 001 | 0001 | 15 | 8 | 1 | 2010 | 1 | 1 | ⋯ | 01 | 001 | 0001 | 15 | 6 | 1 | 1 | 2 | 1 | 999 |\n",
       "\n"
      ],
      "text/plain": [
       "      anio ent_regis mun_regis loc_regis tam_loc_re dia_regis mes_regis\n",
       "1...1 2010 01        001       0001      15         4         1        \n",
       "2...2 2010 01        001       0001      15         6         1        \n",
       "3...3 2010 01        001       0001      15         6         1        \n",
       "4...4 2010 01        001       0001      15         7         1        \n",
       "5...5 2010 01        001       0001      15         7         1        \n",
       "6...6 2010 01        001       0001      15         8         1        \n",
       "      anio_regis regimen_ma genero ⋯ entrh_con2 munrh_con2 locrh_con2\n",
       "1...1 2010       1          1      ⋯ 01         001        0001      \n",
       "2...2 2010       2          1      ⋯ 01         005        0001      \n",
       "3...3 2010       2          1      ⋯ 01         001        0001      \n",
       "4...4 2010       1          1      ⋯ 01         001        0001      \n",
       "5...5 2010       2          1      ⋯ 01         001        0001      \n",
       "6...6 2010       1          1      ⋯ 01         001        0001      \n",
       "      tlorh_con2 escol_con2 conactcon2 sitlabcon2 postracon2 tipo_con\n",
       "1...1 15         5          1          1          2          1       \n",
       "2...2 10         5          2          3          9          1       \n",
       "3...3 15         5          2          3          9          1       \n",
       "4...4 15         5          1          1          2          1       \n",
       "5...5 15         7          2          2          9          1       \n",
       "6...6 15         6          1          1          2          1       \n",
       "      dis_re_oax\n",
       "1...1 999       \n",
       "2...2 999       \n",
       "3...3 999       \n",
       "4...4 999       \n",
       "5...5 999       \n",
       "6...6 999       "
      ]
     },
     "metadata": {},
     "output_type": "display_data"
    }
   ],
   "source": [
    "head(matrimonios_completo)"
   ]
  },
  {
   "cell_type": "code",
   "execution_count": 55,
   "id": "46fc2448",
   "metadata": {
    "vscode": {
     "languageId": "r"
    }
   },
   "outputs": [
    {
     "name": "stderr",
     "output_type": "stream",
     "text": [
      "\u001b[1m\u001b[22m`summarise()` has grouped output by 'anio_regis'. You can override using the\n",
      "`.groups` argument.\n"
     ]
    },
    {
     "data": {
      "text/html": [
       "<table class=\"dataframe\">\n",
       "<caption>A grouped_df: 14 × 5</caption>\n",
       "<thead>\n",
       "\t<tr><th scope=col>year</th><th scope=col>genero</th><th scope=col>mismo_sexo</th><th scope=col>total_matrimonios</th><th scope=col>porcentaje</th></tr>\n",
       "\t<tr><th scope=col>&lt;dbl&gt;</th><th scope=col>&lt;chr&gt;</th><th scope=col>&lt;int&gt;</th><th scope=col>&lt;int&gt;</th><th scope=col>&lt;dbl&gt;</th></tr>\n",
       "</thead>\n",
       "<tbody>\n",
       "\t<tr><td>2010</td><td>2</td><td> 689</td><td>34444</td><td>2.00</td></tr>\n",
       "\t<tr><td>2011</td><td>2</td><td> 802</td><td>35086</td><td>2.29</td></tr>\n",
       "\t<tr><td>2012</td><td>2</td><td> 936</td><td>35536</td><td>2.63</td></tr>\n",
       "\t<tr><td>2013</td><td>2</td><td>1185</td><td>37073</td><td>3.20</td></tr>\n",
       "\t<tr><td>2014</td><td>2</td><td>1612</td><td>36664</td><td>4.40</td></tr>\n",
       "\t<tr><td>2015</td><td>2</td><td>1434</td><td>33230</td><td>4.32</td></tr>\n",
       "\t<tr><td>2016</td><td>2</td><td>1481</td><td>32515</td><td>4.55</td></tr>\n",
       "\t<tr><td>2017</td><td>2</td><td>1462</td><td>30868</td><td>4.74</td></tr>\n",
       "\t<tr><td>2018</td><td>2</td><td>1457</td><td>26521</td><td>5.49</td></tr>\n",
       "\t<tr><td>2019</td><td>2</td><td>1539</td><td>27462</td><td>5.60</td></tr>\n",
       "\t<tr><td>2020</td><td>2</td><td> 832</td><td>11938</td><td>6.97</td></tr>\n",
       "\t<tr><td>2021</td><td>2</td><td>1241</td><td>20131</td><td>6.16</td></tr>\n",
       "\t<tr><td>2022</td><td>2</td><td>1601</td><td>27249</td><td>5.88</td></tr>\n",
       "\t<tr><td>2023</td><td>2</td><td>1214</td><td>25501</td><td>4.76</td></tr>\n",
       "</tbody>\n",
       "</table>\n"
      ],
      "text/latex": [
       "A grouped\\_df: 14 × 5\n",
       "\\begin{tabular}{lllll}\n",
       " year & genero & mismo\\_sexo & total\\_matrimonios & porcentaje\\\\\n",
       " <dbl> & <chr> & <int> & <int> & <dbl>\\\\\n",
       "\\hline\n",
       "\t 2010 & 2 &  689 & 34444 & 2.00\\\\\n",
       "\t 2011 & 2 &  802 & 35086 & 2.29\\\\\n",
       "\t 2012 & 2 &  936 & 35536 & 2.63\\\\\n",
       "\t 2013 & 2 & 1185 & 37073 & 3.20\\\\\n",
       "\t 2014 & 2 & 1612 & 36664 & 4.40\\\\\n",
       "\t 2015 & 2 & 1434 & 33230 & 4.32\\\\\n",
       "\t 2016 & 2 & 1481 & 32515 & 4.55\\\\\n",
       "\t 2017 & 2 & 1462 & 30868 & 4.74\\\\\n",
       "\t 2018 & 2 & 1457 & 26521 & 5.49\\\\\n",
       "\t 2019 & 2 & 1539 & 27462 & 5.60\\\\\n",
       "\t 2020 & 2 &  832 & 11938 & 6.97\\\\\n",
       "\t 2021 & 2 & 1241 & 20131 & 6.16\\\\\n",
       "\t 2022 & 2 & 1601 & 27249 & 5.88\\\\\n",
       "\t 2023 & 2 & 1214 & 25501 & 4.76\\\\\n",
       "\\end{tabular}\n"
      ],
      "text/markdown": [
       "\n",
       "A grouped_df: 14 × 5\n",
       "\n",
       "| year &lt;dbl&gt; | genero &lt;chr&gt; | mismo_sexo &lt;int&gt; | total_matrimonios &lt;int&gt; | porcentaje &lt;dbl&gt; |\n",
       "|---|---|---|---|---|\n",
       "| 2010 | 2 |  689 | 34444 | 2.00 |\n",
       "| 2011 | 2 |  802 | 35086 | 2.29 |\n",
       "| 2012 | 2 |  936 | 35536 | 2.63 |\n",
       "| 2013 | 2 | 1185 | 37073 | 3.20 |\n",
       "| 2014 | 2 | 1612 | 36664 | 4.40 |\n",
       "| 2015 | 2 | 1434 | 33230 | 4.32 |\n",
       "| 2016 | 2 | 1481 | 32515 | 4.55 |\n",
       "| 2017 | 2 | 1462 | 30868 | 4.74 |\n",
       "| 2018 | 2 | 1457 | 26521 | 5.49 |\n",
       "| 2019 | 2 | 1539 | 27462 | 5.60 |\n",
       "| 2020 | 2 |  832 | 11938 | 6.97 |\n",
       "| 2021 | 2 | 1241 | 20131 | 6.16 |\n",
       "| 2022 | 2 | 1601 | 27249 | 5.88 |\n",
       "| 2023 | 2 | 1214 | 25501 | 4.76 |\n",
       "\n"
      ],
      "text/plain": [
       "   year genero mismo_sexo total_matrimonios porcentaje\n",
       "1  2010 2       689       34444             2.00      \n",
       "2  2011 2       802       35086             2.29      \n",
       "3  2012 2       936       35536             2.63      \n",
       "4  2013 2      1185       37073             3.20      \n",
       "5  2014 2      1612       36664             4.40      \n",
       "6  2015 2      1434       33230             4.32      \n",
       "7  2016 2      1481       32515             4.55      \n",
       "8  2017 2      1462       30868             4.74      \n",
       "9  2018 2      1457       26521             5.49      \n",
       "10 2019 2      1539       27462             5.60      \n",
       "11 2020 2       832       11938             6.97      \n",
       "12 2021 2      1241       20131             6.16      \n",
       "13 2022 2      1601       27249             5.88      \n",
       "14 2023 2      1214       25501             4.76      "
      ]
     },
     "metadata": {},
     "output_type": "display_data"
    }
   ],
   "source": [
    "#Total de matrimonios por año\n",
    "matrimonios_por_anio <- matrimonios_completo %>%\n",
    "filter(ent_regis == \"09\") %>%  \n",
    "    group_by(anio_regis) %>%\n",
    "    summarise(total_matrimonios = n())\n",
    "\n",
    "ms<-matrimonios_completo%>%\n",
    "#Filtrar matrionios del mismo sexo\n",
    "filter(genero==\"2\")%>%\n",
    "filter(ent_regis == \"09\") %>%\n",
    "group_by(anio_regis,genero)%>%\n",
    "summarise(mismo_sexo=n())%>%\n",
    "#Pegar el total de matrimonios\n",
    "left_join(matrimonios_por_anio, by=c(\"anio_regis\")) %>%\n",
    "#Calcular el porcentaje de matrimonios del mismo sexo\n",
    "mutate(porcentaje= round((mismo_sexo / total_matrimonios) * 100, 2),\n",
    "anio_regis = as.numeric(anio_regis))%>%\n",
    "#Renombrar anio_regis\n",
    "rename(year=anio_regis)\n",
    "\n",
    "ms"
   ]
  },
  {
   "cell_type": "code",
   "execution_count": 56,
   "id": "83652ba6",
   "metadata": {
    "vscode": {
     "languageId": "r"
    }
   },
   "outputs": [
    {
     "name": "stderr",
     "output_type": "stream",
     "text": [
      "\u001b[1m\u001b[22m`geom_smooth()` using formula = 'y ~ x'\n"
     ]
    },
    {
     "data": {
      "image/png": "[encoded data removed]",
      "text/plain": [
       "plot without title"
      ]
     },
     "metadata": {
      "image/png": {
       "height": 420,
       "width": 420
      }
     },
     "output_type": "display_data"
    }
   ],
   "source": [
    "ms%>%\n",
    "ggplot(aes(x=year, y=porcentaje,color = '#691c32', group=1)) +\n",
    "geom_line()+\n",
    "geom_smooth(method = 'loess', se = FALSE, color = '#bc955c') +\n",
    "theme_minimal()+\n",
    "labs(title=\"Porcentaje de matrimonios del mismo sexo respecto \n",
    "del total de matrimonios en la Ciudad de México,2010-2023\",\n",
    "     x=\"Año de registro\",\n",
    "     y=\"%\",\n",
    "      caption = \"Fuente: Elaborado por IPDP CDMX con base en INEGI. Estadística de matrimonios 2010-2023.\"\n",
    "     \n",
    "     \n",
    "     )+\n",
    "\n",
    "scale_y_continuous(breaks = seq(0, 100, 10))+\n",
    "scale_x_continuous(breaks = seq(2010, 2023, 1))+\n",
    "    theme(axis.text.x = element_text(angle = 90, hjust = 1),\n",
    "          plot.title = element_text(hjust = 0, size = 25, face = \"bold\"),\n",
    "          plot.subtitle = element_text(hjust = 0, size = 20, face = \"italic\"),\n",
    "          plot.caption = element_text(hjust = 0, size = 15),\n",
    "          legend.position = \"none\",\n",
    "          text = element_text(family = \"pop\", size = 20))"
   ]
  },
  {
   "cell_type": "markdown",
   "id": "c590bddf",
   "metadata": {},
   "source": [
    "#### Proyecciones"
   ]
  },
  {
   "cell_type": "code",
   "execution_count": 180,
   "id": "8752e6a1",
   "metadata": {
    "vscode": {
     "languageId": "r"
    }
   },
   "outputs": [
    {
     "data": {
      "text/html": [
       "0.0163963568148535"
      ],
      "text/latex": [
       "0.0163963568148535"
      ],
      "text/markdown": [
       "0.0163963568148535"
      ],
      "text/plain": [
       "[1] 0.01639636"
      ]
     },
     "metadata": {},
     "output_type": "display_data"
    }
   ],
   "source": [
    "tcma_mat<-((ms$porcentaje[ms$year==2022]/ms$porcentaje[ms$year==2019])^(1/(2022-2019))-1)\n",
    "tcma_mat"
   ]
  },
  {
   "cell_type": "code",
   "execution_count": null,
   "id": "f2aee78a",
   "metadata": {
    "vscode": {
     "languageId": "r"
    }
   },
   "outputs": [
    {
     "data": {
      "text/html": [
       "0.0398154105958122"
      ],
      "text/latex": [
       "0.0398154105958122"
      ],
      "text/markdown": [
       "0.0398154105958122"
      ],
      "text/plain": [
       "[1] 0.03981541"
      ]
     },
     "metadata": {},
     "output_type": "display_data"
    },
    {
     "data": {
      "text/html": [
       "<table class=\"dataframe\">\n",
       "<caption>A data.frame: 22 × 4</caption>\n",
       "<thead>\n",
       "\t<tr><th scope=col>year</th><th scope=col>estimado</th><th scope=col>superior</th><th scope=col>inferior</th></tr>\n",
       "\t<tr><th scope=col>&lt;dbl&gt;</th><th scope=col>&lt;dbl&gt;</th><th scope=col>&lt;dbl&gt;</th><th scope=col>&lt;dbl&gt;</th></tr>\n",
       "</thead>\n",
       "<tbody>\n",
       "\t<tr><td>2024</td><td>4.838047</td><td>4.847723</td><td>4.652794</td></tr>\n",
       "\t<tr><td>2025</td><td>4.917373</td><td>4.937062</td><td>4.548002</td></tr>\n",
       "\t<tr><td>2026</td><td>4.998000</td><td>5.028048</td><td>4.445571</td></tr>\n",
       "\t<tr><td>2027</td><td>5.079949</td><td>5.120711</td><td>4.345446</td></tr>\n",
       "\t<tr><td>2028</td><td>5.163242</td><td>5.215081</td><td>4.247576</td></tr>\n",
       "\t<tr><td>2029</td><td>5.247900</td><td>5.311191</td><td>4.151911</td></tr>\n",
       "\t<tr><td>2030</td><td>5.333946</td><td>5.409071</td><td>4.058401</td></tr>\n",
       "\t<tr><td>2031</td><td>5.421404</td><td>5.508756</td><td>3.966996</td></tr>\n",
       "\t<tr><td>2032</td><td>5.510295</td><td>5.610278</td><td>3.877650</td></tr>\n",
       "\t<tr><td>2033</td><td>5.600644</td><td>5.713670</td><td>3.790316</td></tr>\n",
       "\t<tr><td>2034</td><td>5.692474</td><td>5.818968</td><td>3.704950</td></tr>\n",
       "\t<tr><td>2035</td><td>5.785810</td><td>5.926207</td><td>3.621506</td></tr>\n",
       "\t<tr><td>2036</td><td>5.880676</td><td>6.035422</td><td>3.539941</td></tr>\n",
       "\t<tr><td>2037</td><td>5.977098</td><td>6.146650</td><td>3.460213</td></tr>\n",
       "\t<tr><td>2038</td><td>6.075100</td><td>6.259927</td><td>3.382281</td></tr>\n",
       "\t<tr><td>2039</td><td>6.174710</td><td>6.375292</td><td>3.306104</td></tr>\n",
       "\t<tr><td>2040</td><td>6.275952</td><td>6.492783</td><td>3.231643</td></tr>\n",
       "\t<tr><td>2041</td><td>6.378855</td><td>6.612440</td><td>3.158859</td></tr>\n",
       "\t<tr><td>2042</td><td>6.483445</td><td>6.734301</td><td>3.087714</td></tr>\n",
       "\t<tr><td>2043</td><td>6.589750</td><td>6.858409</td><td>3.018172</td></tr>\n",
       "\t<tr><td>2044</td><td>6.697798</td><td>6.984804</td><td>2.950196</td></tr>\n",
       "\t<tr><td>2045</td><td>6.807617</td><td>7.113528</td><td>2.883750</td></tr>\n",
       "</tbody>\n",
       "</table>\n"
      ],
      "text/latex": [
       "A data.frame: 22 × 4\n",
       "\\begin{tabular}{llll}\n",
       " year & estimado & superior & inferior\\\\\n",
       " <dbl> & <dbl> & <dbl> & <dbl>\\\\\n",
       "\\hline\n",
       "\t 2024 & 4.838047 & 4.847723 & 4.652794\\\\\n",
       "\t 2025 & 4.917373 & 4.937062 & 4.548002\\\\\n",
       "\t 2026 & 4.998000 & 5.028048 & 4.445571\\\\\n",
       "\t 2027 & 5.079949 & 5.120711 & 4.345446\\\\\n",
       "\t 2028 & 5.163242 & 5.215081 & 4.247576\\\\\n",
       "\t 2029 & 5.247900 & 5.311191 & 4.151911\\\\\n",
       "\t 2030 & 5.333946 & 5.409071 & 4.058401\\\\\n",
       "\t 2031 & 5.421404 & 5.508756 & 3.966996\\\\\n",
       "\t 2032 & 5.510295 & 5.610278 & 3.877650\\\\\n",
       "\t 2033 & 5.600644 & 5.713670 & 3.790316\\\\\n",
       "\t 2034 & 5.692474 & 5.818968 & 3.704950\\\\\n",
       "\t 2035 & 5.785810 & 5.926207 & 3.621506\\\\\n",
       "\t 2036 & 5.880676 & 6.035422 & 3.539941\\\\\n",
       "\t 2037 & 5.977098 & 6.146650 & 3.460213\\\\\n",
       "\t 2038 & 6.075100 & 6.259927 & 3.382281\\\\\n",
       "\t 2039 & 6.174710 & 6.375292 & 3.306104\\\\\n",
       "\t 2040 & 6.275952 & 6.492783 & 3.231643\\\\\n",
       "\t 2041 & 6.378855 & 6.612440 & 3.158859\\\\\n",
       "\t 2042 & 6.483445 & 6.734301 & 3.087714\\\\\n",
       "\t 2043 & 6.589750 & 6.858409 & 3.018172\\\\\n",
       "\t 2044 & 6.697798 & 6.984804 & 2.950196\\\\\n",
       "\t 2045 & 6.807617 & 7.113528 & 2.883750\\\\\n",
       "\\end{tabular}\n"
      ],
      "text/markdown": [
       "\n",
       "A data.frame: 22 × 4\n",
       "\n",
       "| year &lt;dbl&gt; | estimado &lt;dbl&gt; | superior &lt;dbl&gt; | inferior &lt;dbl&gt; |\n",
       "|---|---|---|---|\n",
       "| 2024 | 4.838047 | 4.847723 | 4.652794 |\n",
       "| 2025 | 4.917373 | 4.937062 | 4.548002 |\n",
       "| 2026 | 4.998000 | 5.028048 | 4.445571 |\n",
       "| 2027 | 5.079949 | 5.120711 | 4.345446 |\n",
       "| 2028 | 5.163242 | 5.215081 | 4.247576 |\n",
       "| 2029 | 5.247900 | 5.311191 | 4.151911 |\n",
       "| 2030 | 5.333946 | 5.409071 | 4.058401 |\n",
       "| 2031 | 5.421404 | 5.508756 | 3.966996 |\n",
       "| 2032 | 5.510295 | 5.610278 | 3.877650 |\n",
       "| 2033 | 5.600644 | 5.713670 | 3.790316 |\n",
       "| 2034 | 5.692474 | 5.818968 | 3.704950 |\n",
       "| 2035 | 5.785810 | 5.926207 | 3.621506 |\n",
       "| 2036 | 5.880676 | 6.035422 | 3.539941 |\n",
       "| 2037 | 5.977098 | 6.146650 | 3.460213 |\n",
       "| 2038 | 6.075100 | 6.259927 | 3.382281 |\n",
       "| 2039 | 6.174710 | 6.375292 | 3.306104 |\n",
       "| 2040 | 6.275952 | 6.492783 | 3.231643 |\n",
       "| 2041 | 6.378855 | 6.612440 | 3.158859 |\n",
       "| 2042 | 6.483445 | 6.734301 | 3.087714 |\n",
       "| 2043 | 6.589750 | 6.858409 | 3.018172 |\n",
       "| 2044 | 6.697798 | 6.984804 | 2.950196 |\n",
       "| 2045 | 6.807617 | 7.113528 | 2.883750 |\n",
       "\n"
      ],
      "text/plain": [
       "   year estimado superior inferior\n",
       "1  2024 4.838047 4.847723 4.652794\n",
       "2  2025 4.917373 4.937062 4.548002\n",
       "3  2026 4.998000 5.028048 4.445571\n",
       "4  2027 5.079949 5.120711 4.345446\n",
       "5  2028 5.163242 5.215081 4.247576\n",
       "6  2029 5.247900 5.311191 4.151911\n",
       "7  2030 5.333946 5.409071 4.058401\n",
       "8  2031 5.421404 5.508756 3.966996\n",
       "9  2032 5.510295 5.610278 3.877650\n",
       "10 2033 5.600644 5.713670 3.790316\n",
       "11 2034 5.692474 5.818968 3.704950\n",
       "12 2035 5.785810 5.926207 3.621506\n",
       "13 2036 5.880676 6.035422 3.539941\n",
       "14 2037 5.977098 6.146650 3.460213\n",
       "15 2038 6.075100 6.259927 3.382281\n",
       "16 2039 6.174710 6.375292 3.306104\n",
       "17 2040 6.275952 6.492783 3.231643\n",
       "18 2041 6.378855 6.612440 3.158859\n",
       "19 2042 6.483445 6.734301 3.087714\n",
       "20 2043 6.589750 6.858409 3.018172\n",
       "21 2044 6.697798 6.984804 2.950196\n",
       "22 2045 6.807617 7.113528 2.883750"
      ]
     },
     "metadata": {},
     "output_type": "display_data"
    }
   ],
   "source": [
    "extendido_mat<-data.frame(year=2024:2045)\n",
    "extendido_mat$porcentaje<-ms$porcentaje[ms$year==2023]*cumprod(rep(1+tcma_mat,length(2024:2045)))\n",
    "extendido_mat<-extendido_mat%>%\n",
    "intervals(\"porcentaje\", margen = 0.002, año_base = 2023) \n",
    "\n",
    "#Recalcular margen inferior\n",
    "margen_inferior<- (((ms$porcentaje[ms$year==2023]/ms$porcentaje[ms$year==2019])^(1/(2023-2019))-1))*-1\n",
    "margen_inferior\n",
    "inferior <- extendido_mat %>%\n",
    "  select(-inferior) %>%  # eliminar inferior previo\n",
    "  intervals(\"estimado\", margen = margen_inferior, año_base = 2023)%>%\n",
    "  select(year,inferior)\n",
    "\n",
    "#Pegar el margen inferior a extendido_mat\n",
    "extendido_mat <- extendido_mat %>%\n",
    "select(-inferior)%>%\n",
    "  left_join(inferior, by = \"year\") \n",
    "extendido_mat"
   ]
  },
  {
   "cell_type": "code",
   "execution_count": 186,
   "id": "b6cb2fd4",
   "metadata": {
    "vscode": {
     "languageId": "r"
    }
   },
   "outputs": [
    {
     "data": {
      "text/html": [
       "<table class=\"dataframe\">\n",
       "<caption>A grouped_df: 36 × 4</caption>\n",
       "<thead>\n",
       "\t<tr><th scope=col>year</th><th scope=col>estimado</th><th scope=col>inferior</th><th scope=col>superior</th></tr>\n",
       "\t<tr><th scope=col>&lt;dbl&gt;</th><th scope=col>&lt;dbl&gt;</th><th scope=col>&lt;dbl&gt;</th><th scope=col>&lt;dbl&gt;</th></tr>\n",
       "</thead>\n",
       "<tbody>\n",
       "\t<tr><td>2010</td><td>2.000000</td><td>2.000000</td><td>2.000000</td></tr>\n",
       "\t<tr><td>2011</td><td>2.290000</td><td>2.290000</td><td>2.290000</td></tr>\n",
       "\t<tr><td>2012</td><td>2.630000</td><td>2.630000</td><td>2.630000</td></tr>\n",
       "\t<tr><td>2013</td><td>3.200000</td><td>3.200000</td><td>3.200000</td></tr>\n",
       "\t<tr><td>2014</td><td>4.400000</td><td>4.400000</td><td>4.400000</td></tr>\n",
       "\t<tr><td>2015</td><td>4.320000</td><td>4.320000</td><td>4.320000</td></tr>\n",
       "\t<tr><td>2016</td><td>4.550000</td><td>4.550000</td><td>4.550000</td></tr>\n",
       "\t<tr><td>2017</td><td>4.740000</td><td>4.740000</td><td>4.740000</td></tr>\n",
       "\t<tr><td>2018</td><td>5.490000</td><td>5.490000</td><td>5.490000</td></tr>\n",
       "\t<tr><td>2019</td><td>5.600000</td><td>5.600000</td><td>5.600000</td></tr>\n",
       "\t<tr><td>2020</td><td>6.970000</td><td>6.970000</td><td>6.970000</td></tr>\n",
       "\t<tr><td>2021</td><td>6.160000</td><td>6.160000</td><td>6.160000</td></tr>\n",
       "\t<tr><td>2022</td><td>5.880000</td><td>5.880000</td><td>5.880000</td></tr>\n",
       "\t<tr><td>2023</td><td>4.760000</td><td>4.760000</td><td>4.760000</td></tr>\n",
       "\t<tr><td>2024</td><td>4.838047</td><td>4.652794</td><td>4.847723</td></tr>\n",
       "\t<tr><td>2025</td><td>4.917373</td><td>4.548002</td><td>4.937062</td></tr>\n",
       "\t<tr><td>2026</td><td>4.998000</td><td>4.445571</td><td>5.028048</td></tr>\n",
       "\t<tr><td>2027</td><td>5.079949</td><td>4.345446</td><td>5.120711</td></tr>\n",
       "\t<tr><td>2028</td><td>5.163242</td><td>4.247576</td><td>5.215081</td></tr>\n",
       "\t<tr><td>2029</td><td>5.247900</td><td>4.151911</td><td>5.311191</td></tr>\n",
       "\t<tr><td>2030</td><td>5.333946</td><td>4.058401</td><td>5.409071</td></tr>\n",
       "\t<tr><td>2031</td><td>5.421404</td><td>3.966996</td><td>5.508756</td></tr>\n",
       "\t<tr><td>2032</td><td>5.510295</td><td>3.877650</td><td>5.610278</td></tr>\n",
       "\t<tr><td>2033</td><td>5.600644</td><td>3.790316</td><td>5.713670</td></tr>\n",
       "\t<tr><td>2034</td><td>5.692474</td><td>3.704950</td><td>5.818968</td></tr>\n",
       "\t<tr><td>2035</td><td>5.785810</td><td>3.621506</td><td>5.926207</td></tr>\n",
       "\t<tr><td>2036</td><td>5.880676</td><td>3.539941</td><td>6.035422</td></tr>\n",
       "\t<tr><td>2037</td><td>5.977098</td><td>3.460213</td><td>6.146650</td></tr>\n",
       "\t<tr><td>2038</td><td>6.075100</td><td>3.382281</td><td>6.259927</td></tr>\n",
       "\t<tr><td>2039</td><td>6.174710</td><td>3.306104</td><td>6.375292</td></tr>\n",
       "\t<tr><td>2040</td><td>6.275952</td><td>3.231643</td><td>6.492783</td></tr>\n",
       "\t<tr><td>2041</td><td>6.378855</td><td>3.158859</td><td>6.612440</td></tr>\n",
       "\t<tr><td>2042</td><td>6.483445</td><td>3.087714</td><td>6.734301</td></tr>\n",
       "\t<tr><td>2043</td><td>6.589750</td><td>3.018172</td><td>6.858409</td></tr>\n",
       "\t<tr><td>2044</td><td>6.697798</td><td>2.950196</td><td>6.984804</td></tr>\n",
       "\t<tr><td>2045</td><td>6.807617</td><td>2.883750</td><td>7.113528</td></tr>\n",
       "</tbody>\n",
       "</table>\n"
      ],
      "text/latex": [
       "A grouped\\_df: 36 × 4\n",
       "\\begin{tabular}{llll}\n",
       " year & estimado & inferior & superior\\\\\n",
       " <dbl> & <dbl> & <dbl> & <dbl>\\\\\n",
       "\\hline\n",
       "\t 2010 & 2.000000 & 2.000000 & 2.000000\\\\\n",
       "\t 2011 & 2.290000 & 2.290000 & 2.290000\\\\\n",
       "\t 2012 & 2.630000 & 2.630000 & 2.630000\\\\\n",
       "\t 2013 & 3.200000 & 3.200000 & 3.200000\\\\\n",
       "\t 2014 & 4.400000 & 4.400000 & 4.400000\\\\\n",
       "\t 2015 & 4.320000 & 4.320000 & 4.320000\\\\\n",
       "\t 2016 & 4.550000 & 4.550000 & 4.550000\\\\\n",
       "\t 2017 & 4.740000 & 4.740000 & 4.740000\\\\\n",
       "\t 2018 & 5.490000 & 5.490000 & 5.490000\\\\\n",
       "\t 2019 & 5.600000 & 5.600000 & 5.600000\\\\\n",
       "\t 2020 & 6.970000 & 6.970000 & 6.970000\\\\\n",
       "\t 2021 & 6.160000 & 6.160000 & 6.160000\\\\\n",
       "\t 2022 & 5.880000 & 5.880000 & 5.880000\\\\\n",
       "\t 2023 & 4.760000 & 4.760000 & 4.760000\\\\\n",
       "\t 2024 & 4.838047 & 4.652794 & 4.847723\\\\\n",
       "\t 2025 & 4.917373 & 4.548002 & 4.937062\\\\\n",
       "\t 2026 & 4.998000 & 4.445571 & 5.028048\\\\\n",
       "\t 2027 & 5.079949 & 4.345446 & 5.120711\\\\\n",
       "\t 2028 & 5.163242 & 4.247576 & 5.215081\\\\\n",
       "\t 2029 & 5.247900 & 4.151911 & 5.311191\\\\\n",
       "\t 2030 & 5.333946 & 4.058401 & 5.409071\\\\\n",
       "\t 2031 & 5.421404 & 3.966996 & 5.508756\\\\\n",
       "\t 2032 & 5.510295 & 3.877650 & 5.610278\\\\\n",
       "\t 2033 & 5.600644 & 3.790316 & 5.713670\\\\\n",
       "\t 2034 & 5.692474 & 3.704950 & 5.818968\\\\\n",
       "\t 2035 & 5.785810 & 3.621506 & 5.926207\\\\\n",
       "\t 2036 & 5.880676 & 3.539941 & 6.035422\\\\\n",
       "\t 2037 & 5.977098 & 3.460213 & 6.146650\\\\\n",
       "\t 2038 & 6.075100 & 3.382281 & 6.259927\\\\\n",
       "\t 2039 & 6.174710 & 3.306104 & 6.375292\\\\\n",
       "\t 2040 & 6.275952 & 3.231643 & 6.492783\\\\\n",
       "\t 2041 & 6.378855 & 3.158859 & 6.612440\\\\\n",
       "\t 2042 & 6.483445 & 3.087714 & 6.734301\\\\\n",
       "\t 2043 & 6.589750 & 3.018172 & 6.858409\\\\\n",
       "\t 2044 & 6.697798 & 2.950196 & 6.984804\\\\\n",
       "\t 2045 & 6.807617 & 2.883750 & 7.113528\\\\\n",
       "\\end{tabular}\n"
      ],
      "text/markdown": [
       "\n",
       "A grouped_df: 36 × 4\n",
       "\n",
       "| year &lt;dbl&gt; | estimado &lt;dbl&gt; | inferior &lt;dbl&gt; | superior &lt;dbl&gt; |\n",
       "|---|---|---|---|\n",
       "| 2010 | 2.000000 | 2.000000 | 2.000000 |\n",
       "| 2011 | 2.290000 | 2.290000 | 2.290000 |\n",
       "| 2012 | 2.630000 | 2.630000 | 2.630000 |\n",
       "| 2013 | 3.200000 | 3.200000 | 3.200000 |\n",
       "| 2014 | 4.400000 | 4.400000 | 4.400000 |\n",
       "| 2015 | 4.320000 | 4.320000 | 4.320000 |\n",
       "| 2016 | 4.550000 | 4.550000 | 4.550000 |\n",
       "| 2017 | 4.740000 | 4.740000 | 4.740000 |\n",
       "| 2018 | 5.490000 | 5.490000 | 5.490000 |\n",
       "| 2019 | 5.600000 | 5.600000 | 5.600000 |\n",
       "| 2020 | 6.970000 | 6.970000 | 6.970000 |\n",
       "| 2021 | 6.160000 | 6.160000 | 6.160000 |\n",
       "| 2022 | 5.880000 | 5.880000 | 5.880000 |\n",
       "| 2023 | 4.760000 | 4.760000 | 4.760000 |\n",
       "| 2024 | 4.838047 | 4.652794 | 4.847723 |\n",
       "| 2025 | 4.917373 | 4.548002 | 4.937062 |\n",
       "| 2026 | 4.998000 | 4.445571 | 5.028048 |\n",
       "| 2027 | 5.079949 | 4.345446 | 5.120711 |\n",
       "| 2028 | 5.163242 | 4.247576 | 5.215081 |\n",
       "| 2029 | 5.247900 | 4.151911 | 5.311191 |\n",
       "| 2030 | 5.333946 | 4.058401 | 5.409071 |\n",
       "| 2031 | 5.421404 | 3.966996 | 5.508756 |\n",
       "| 2032 | 5.510295 | 3.877650 | 5.610278 |\n",
       "| 2033 | 5.600644 | 3.790316 | 5.713670 |\n",
       "| 2034 | 5.692474 | 3.704950 | 5.818968 |\n",
       "| 2035 | 5.785810 | 3.621506 | 5.926207 |\n",
       "| 2036 | 5.880676 | 3.539941 | 6.035422 |\n",
       "| 2037 | 5.977098 | 3.460213 | 6.146650 |\n",
       "| 2038 | 6.075100 | 3.382281 | 6.259927 |\n",
       "| 2039 | 6.174710 | 3.306104 | 6.375292 |\n",
       "| 2040 | 6.275952 | 3.231643 | 6.492783 |\n",
       "| 2041 | 6.378855 | 3.158859 | 6.612440 |\n",
       "| 2042 | 6.483445 | 3.087714 | 6.734301 |\n",
       "| 2043 | 6.589750 | 3.018172 | 6.858409 |\n",
       "| 2044 | 6.697798 | 2.950196 | 6.984804 |\n",
       "| 2045 | 6.807617 | 2.883750 | 7.113528 |\n",
       "\n"
      ],
      "text/plain": [
       "   year estimado inferior superior\n",
       "1  2010 2.000000 2.000000 2.000000\n",
       "2  2011 2.290000 2.290000 2.290000\n",
       "3  2012 2.630000 2.630000 2.630000\n",
       "4  2013 3.200000 3.200000 3.200000\n",
       "5  2014 4.400000 4.400000 4.400000\n",
       "6  2015 4.320000 4.320000 4.320000\n",
       "7  2016 4.550000 4.550000 4.550000\n",
       "8  2017 4.740000 4.740000 4.740000\n",
       "9  2018 5.490000 5.490000 5.490000\n",
       "10 2019 5.600000 5.600000 5.600000\n",
       "11 2020 6.970000 6.970000 6.970000\n",
       "12 2021 6.160000 6.160000 6.160000\n",
       "13 2022 5.880000 5.880000 5.880000\n",
       "14 2023 4.760000 4.760000 4.760000\n",
       "15 2024 4.838047 4.652794 4.847723\n",
       "16 2025 4.917373 4.548002 4.937062\n",
       "17 2026 4.998000 4.445571 5.028048\n",
       "18 2027 5.079949 4.345446 5.120711\n",
       "19 2028 5.163242 4.247576 5.215081\n",
       "20 2029 5.247900 4.151911 5.311191\n",
       "21 2030 5.333946 4.058401 5.409071\n",
       "22 2031 5.421404 3.966996 5.508756\n",
       "23 2032 5.510295 3.877650 5.610278\n",
       "24 2033 5.600644 3.790316 5.713670\n",
       "25 2034 5.692474 3.704950 5.818968\n",
       "26 2035 5.785810 3.621506 5.926207\n",
       "27 2036 5.880676 3.539941 6.035422\n",
       "28 2037 5.977098 3.460213 6.146650\n",
       "29 2038 6.075100 3.382281 6.259927\n",
       "30 2039 6.174710 3.306104 6.375292\n",
       "31 2040 6.275952 3.231643 6.492783\n",
       "32 2041 6.378855 3.158859 6.612440\n",
       "33 2042 6.483445 3.087714 6.734301\n",
       "34 2043 6.589750 3.018172 6.858409\n",
       "35 2044 6.697798 2.950196 6.984804\n",
       "36 2045 6.807617 2.883750 7.113528"
      ]
     },
     "metadata": {},
     "output_type": "display_data"
    }
   ],
   "source": [
    "tablageneral<-ms%>%\n",
    "  select(year, porcentaje)%>%\n",
    "  rename(estimado=porcentaje)%>%\n",
    "  #Hacer superior e inferior con el mismo porcentaje\n",
    "    mutate(inferior = estimado,superior=estimado)%>%\n",
    "  bind_rows(extendido_mat)\n",
    "  tablageneral"
   ]
  },
  {
   "cell_type": "code",
   "execution_count": 189,
   "id": "1b2212d5",
   "metadata": {
    "vscode": {
     "languageId": "r"
    }
   },
   "outputs": [
    {
     "data": {
      "image/png": "[encoded data removed]",
      "text/plain": [
       "plot without title"
      ]
     },
     "metadata": {
      "image/png": {
       "height": 420,
       "width": 420
      }
     },
     "output_type": "display_data"
    }
   ],
   "source": [
    "grafica_bonita(\n",
    "  data = tablageneral,\n",
    "  x = \"year\",\n",
    "  y = \"estimado\",\n",
    "  titulo = \"Porcentaje de matrimonios del mismo sexo respecto \n",
    "del total de matrimonios en la Ciudad de México, 2010-2045\",\n",
    "  linea_vertical = 2023,\n",
    "  mostrar_intervalo = \"ambos\",\n",
    "  nombre_observado = \"Observado\",\n",
    "  nombre_estimado_futuro = \"Deseable\",\n",
    "  nombre_intervalo_superior = \"Transformador\",\n",
    "  nombre_intervalo_inferior = \"Inercial\",\n",
    "  mostrar_leyenda = TRUE,\n",
    "  fuente = \"pop\",\n",
    "  etiqueta_x = \"Año\",\n",
    "  etiqueta_y = \"Porcentaje\",\n",
    "  titulo_leyenda = \"Escenarios\",\n",
    "  limite_inferior_y = 0\n",
    ")\n",
    "ggsave(\"matrimonios.png\", width = 12, height = 10, dpi = 100, bg = \"white\")"
   ]
  }
 ],
 "metadata": {
  "kernelspec": {
   "display_name": "R",
   "language": "R",
   "name": "ir"
  },
  "language_info": {
   "codemirror_mode": "r",
   "file_extension": ".r",
   "mimetype": "text/x-r-source",
   "name": "R",
   "pygments_lexer": "r",
   "version": "4.4.1"
  }
 },
 "nbformat": 4,
 "nbformat_minor": 5
}
