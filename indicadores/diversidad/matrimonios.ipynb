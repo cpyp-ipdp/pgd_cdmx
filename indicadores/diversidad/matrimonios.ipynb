{
 "cells": [
  {
   "cell_type": "code",
   "execution_count": 10,
   "id": "a15d3082",
   "metadata": {
    "vscode": {
     "languageId": "r"
    }
   },
   "outputs": [],
   "source": [
    "#rm(list=ls())\n",
    "\n",
    "# Librerías ====\n",
    "if(!require('pacman')) install.packages('pacman')\n",
    "pacman::p_load(tidyverse, showtext, foreign)\n",
    "font_add_google(\"Poppins\", \"pop\")\n",
    "showtext_auto()"
   ]
  },
  {
   "cell_type": "code",
   "execution_count": 11,
   "id": "f9e2be60",
   "metadata": {
    "vscode": {
     "languageId": "r"
    }
   },
   "outputs": [],
   "source": [
    "##Crear folders de almacenamiento\n",
    "dir.create(\"microdatos\", showWarnings = F)"
   ]
  },
  {
   "cell_type": "code",
   "execution_count": 12,
   "id": "a41a1450",
   "metadata": {
    "vscode": {
     "languageId": "r"
    }
   },
   "outputs": [],
   "source": [
    "url_base<-\"https://www.inegi.org.mx/contenidos/programas/emat/microdatos/matrimonios_base_datos_\"\n",
    "fin<-\"_dbf.zip\"\n",
    "\n",
    "years<-c(\"2010_2014\",\"2015_2019\", \"2020\", \"2021\", \"2022\", \"2023\")"
   ]
  },
  {
   "cell_type": "code",
   "execution_count": 13,
   "id": "3e8568a3",
   "metadata": {
    "vscode": {
     "languageId": "r"
    }
   },
   "outputs": [],
   "source": [
    "# Función para descargar y descomprimir un archivo con timeout\n",
    "download_and_unzip <- function(url, destination=\"microdatos\") {\n",
    "  tryCatch({\n",
    "    # Descargar el archivo con timeout\n",
    "    download.file(url, destfile = paste0(destination, \"/\", basename(url)), mode = \"wb\", timeout = 10000)\n",
    "\n",
    "    # Descomprimir el archivo\n",
    "    unzip(paste0(destination, \"/\", basename(url)), exdir = destination)\n",
    "\n",
    "    # Eliminar el archivo comprimido después de descomprimirlo\n",
    "    unlink(paste0(destination, \"/\", basename(url)))\n",
    "\n",
    "    message(paste(\"Descarga y descompresión exitosas para\", basename(url)))\n",
    "  }, error = function(e) {\n",
    "    warning(paste(\"Error al descargar o descomprimir\", basename(url), \":\", conditionMessage(e)))\n",
    "  })\n",
    "}"
   ]
  },
  {
   "cell_type": "code",
   "execution_count": 14,
   "id": "94049f65",
   "metadata": {
    "vscode": {
     "languageId": "r"
    }
   },
   "outputs": [
    {
     "name": "stderr",
     "output_type": "stream",
     "text": [
      "Descarga y descompresión exitosas para matrimonios_base_datos_2010_2014_dbf.zip\n",
      "\n",
      "Descarga y descompresión exitosas para matrimonios_base_datos_2015_2019_dbf.zip\n",
      "\n",
      "Descarga y descompresión exitosas para matrimonios_base_datos_2020_dbf.zip\n",
      "\n",
      "Descarga y descompresión exitosas para matrimonios_base_datos_2021_dbf.zip\n",
      "\n",
      "Descarga y descompresión exitosas para matrimonios_base_datos_2022_dbf.zip\n",
      "\n",
      "Descarga y descompresión exitosas para matrimonios_base_datos_2023_dbf.zip\n",
      "\n"
     ]
    }
   ],
   "source": [
    "for (year in years) {\n",
    "  url <- paste0(url_base, year, fin)\n",
    "  download_and_unzip(url)\n",
    "}"
   ]
  },
  {
   "cell_type": "code",
   "execution_count": 21,
   "id": "1d07a49b",
   "metadata": {
    "vscode": {
     "languageId": "r"
    }
   },
   "outputs": [
    {
     "name": "stderr",
     "output_type": "stream",
     "text": [
      "Leyendo: microdatos//matrimonios_base_datos_2010_dbf/MATRI10.dbf\n",
      "\n",
      "Leyendo: microdatos//matrimonios_base_datos_2011_dbf/MATRI11.dbf\n",
      "\n",
      "Leyendo: microdatos//matrimonios_base_datos_2012_dbf/MATRI12.dbf\n",
      "\n",
      "Leyendo: microdatos//matrimonios_base_datos_2013_dbf/MATRI13.dbf\n",
      "\n",
      "Leyendo: microdatos//matrimonios_base_datos_2014_dbf/MATRI14.dbf\n",
      "\n",
      "Leyendo: microdatos//matrimonios_base_datos_2015/MATRI15.dbf\n",
      "\n",
      "Leyendo: microdatos//matrimonios_base_datos_2016/MATRI16.DBF\n",
      "\n",
      "Leyendo: microdatos//matrimonios_base_datos_2017/MATRI17.DBF\n",
      "\n",
      "Leyendo: microdatos//matrimonios_base_datos_2018/MATRI18.DBF\n",
      "\n",
      "Leyendo: microdatos//matrimonios_base_datos_2019/MATRI19.DBF\n",
      "\n",
      "Leyendo: microdatos/MATRI20.DBF\n",
      "\n",
      "Leyendo: microdatos/MATRI21.DBF\n",
      "\n",
      "Leyendo: microdatos/MATRI22.dbf\n",
      "\n",
      "Leyendo: microdatos/matri23.dbf\n",
      "\n"
     ]
    }
   ],
   "source": [
    "anios <- 2010:2023\n",
    "lista_matrimonios <- list()\n",
    "ruta_base <- \"microdatos/\"\n",
    "\n",
    "for (anio in anios) {\n",
    "  sufijo <- substr(as.character(anio), 3, 4)\n",
    "  \n",
    "  # Determinar carpeta según el año\n",
    "  if (anio >= 2015 & anio <= 2019) {\n",
    "    carpeta <- file.path(ruta_base, paste0(\"matrimonios_base_datos_\", anio))\n",
    "  } else if (anio <= 2014) {\n",
    "    carpeta <- file.path(ruta_base, paste0(\"matrimonios_base_datos_\", anio, \"_dbf\"))\n",
    "  } else {\n",
    "    carpeta <- ruta_base\n",
    "  }\n",
    "  \n",
    "  # Buscar archivo DBF con sufijo de año\n",
    "  ruta_archivo <- list.files(\n",
    "    path = carpeta,\n",
    "    pattern = paste0(\"MATRI.*\", sufijo, \"\\\\.dbf$\"),\n",
    "    full.names = TRUE,\n",
    "    ignore.case = TRUE\n",
    "  )\n",
    "  \n",
    "  # Leer si existe\n",
    "  if (length(ruta_archivo) == 1) {\n",
    "    message(\"Leyendo: \", ruta_archivo)\n",
    "    df <- read.dbf(ruta_archivo, as.is = TRUE) %>%\n",
    "      janitor::clean_names() %>%\n",
    "      mutate(across(everything(), as.character))  # Homogeneizar tipos\n",
    "    lista_matrimonios[[as.character(anio)]] <- df\n",
    "  } else {\n",
    "    warning(\"Archivo DBF no encontrado para \", anio)\n",
    "  }\n",
    "}\n",
    "\n",
    "# Combinar todas las tablas\n",
    "matrimonios_completo <- bind_rows(lista_matrimonios, .id = \"anio\")"
   ]
  },
  {
   "cell_type": "code",
   "execution_count": 22,
   "id": "8c0a09b1",
   "metadata": {
    "vscode": {
     "languageId": "r"
    }
   },
   "outputs": [
    {
     "data": {
      "text/html": [
       "<table class=\"dataframe\">\n",
       "<caption>A data.frame: 6 × 36</caption>\n",
       "<thead>\n",
       "\t<tr><th></th><th scope=col>anio</th><th scope=col>ent_regis</th><th scope=col>mun_regis</th><th scope=col>loc_regis</th><th scope=col>tam_loc_re</th><th scope=col>dia_regis</th><th scope=col>mes_regis</th><th scope=col>anio_regis</th><th scope=col>regimen_ma</th><th scope=col>genero</th><th scope=col>⋯</th><th scope=col>entrh_con2</th><th scope=col>munrh_con2</th><th scope=col>locrh_con2</th><th scope=col>tlorh_con2</th><th scope=col>escol_con2</th><th scope=col>conactcon2</th><th scope=col>sitlabcon2</th><th scope=col>postracon2</th><th scope=col>tipo_con</th><th scope=col>dis_re_oax</th></tr>\n",
       "\t<tr><th></th><th scope=col>&lt;chr&gt;</th><th scope=col>&lt;chr&gt;</th><th scope=col>&lt;chr&gt;</th><th scope=col>&lt;chr&gt;</th><th scope=col>&lt;chr&gt;</th><th scope=col>&lt;chr&gt;</th><th scope=col>&lt;chr&gt;</th><th scope=col>&lt;chr&gt;</th><th scope=col>&lt;chr&gt;</th><th scope=col>&lt;chr&gt;</th><th scope=col>⋯</th><th scope=col>&lt;chr&gt;</th><th scope=col>&lt;chr&gt;</th><th scope=col>&lt;chr&gt;</th><th scope=col>&lt;chr&gt;</th><th scope=col>&lt;chr&gt;</th><th scope=col>&lt;chr&gt;</th><th scope=col>&lt;chr&gt;</th><th scope=col>&lt;chr&gt;</th><th scope=col>&lt;chr&gt;</th><th scope=col>&lt;chr&gt;</th></tr>\n",
       "</thead>\n",
       "<tbody>\n",
       "\t<tr><th scope=row>1...1</th><td>2010</td><td>01</td><td>001</td><td>0001</td><td>15</td><td>4</td><td>1</td><td>2010</td><td>1</td><td>1</td><td>⋯</td><td>01</td><td>001</td><td>0001</td><td>15</td><td>5</td><td>1</td><td>1</td><td>2</td><td>1</td><td>999</td></tr>\n",
       "\t<tr><th scope=row>2...2</th><td>2010</td><td>01</td><td>001</td><td>0001</td><td>15</td><td>6</td><td>1</td><td>2010</td><td>2</td><td>1</td><td>⋯</td><td>01</td><td>005</td><td>0001</td><td>10</td><td>5</td><td>2</td><td>3</td><td>9</td><td>1</td><td>999</td></tr>\n",
       "\t<tr><th scope=row>3...3</th><td>2010</td><td>01</td><td>001</td><td>0001</td><td>15</td><td>6</td><td>1</td><td>2010</td><td>2</td><td>1</td><td>⋯</td><td>01</td><td>001</td><td>0001</td><td>15</td><td>5</td><td>2</td><td>3</td><td>9</td><td>1</td><td>999</td></tr>\n",
       "\t<tr><th scope=row>4...4</th><td>2010</td><td>01</td><td>001</td><td>0001</td><td>15</td><td>7</td><td>1</td><td>2010</td><td>1</td><td>1</td><td>⋯</td><td>01</td><td>001</td><td>0001</td><td>15</td><td>5</td><td>1</td><td>1</td><td>2</td><td>1</td><td>999</td></tr>\n",
       "\t<tr><th scope=row>5...5</th><td>2010</td><td>01</td><td>001</td><td>0001</td><td>15</td><td>7</td><td>1</td><td>2010</td><td>2</td><td>1</td><td>⋯</td><td>01</td><td>001</td><td>0001</td><td>15</td><td>7</td><td>2</td><td>2</td><td>9</td><td>1</td><td>999</td></tr>\n",
       "\t<tr><th scope=row>6...6</th><td>2010</td><td>01</td><td>001</td><td>0001</td><td>15</td><td>8</td><td>1</td><td>2010</td><td>1</td><td>1</td><td>⋯</td><td>01</td><td>001</td><td>0001</td><td>15</td><td>6</td><td>1</td><td>1</td><td>2</td><td>1</td><td>999</td></tr>\n",
       "</tbody>\n",
       "</table>\n"
      ],
      "text/latex": [
       "A data.frame: 6 × 36\n",
       "\\begin{tabular}{r|lllllllllllllllllllll}\n",
       "  & anio & ent\\_regis & mun\\_regis & loc\\_regis & tam\\_loc\\_re & dia\\_regis & mes\\_regis & anio\\_regis & regimen\\_ma & genero & ⋯ & entrh\\_con2 & munrh\\_con2 & locrh\\_con2 & tlorh\\_con2 & escol\\_con2 & conactcon2 & sitlabcon2 & postracon2 & tipo\\_con & dis\\_re\\_oax\\\\\n",
       "  & <chr> & <chr> & <chr> & <chr> & <chr> & <chr> & <chr> & <chr> & <chr> & <chr> & ⋯ & <chr> & <chr> & <chr> & <chr> & <chr> & <chr> & <chr> & <chr> & <chr> & <chr>\\\\\n",
       "\\hline\n",
       "\t1...1 & 2010 & 01 & 001 & 0001 & 15 & 4 & 1 & 2010 & 1 & 1 & ⋯ & 01 & 001 & 0001 & 15 & 5 & 1 & 1 & 2 & 1 & 999\\\\\n",
       "\t2...2 & 2010 & 01 & 001 & 0001 & 15 & 6 & 1 & 2010 & 2 & 1 & ⋯ & 01 & 005 & 0001 & 10 & 5 & 2 & 3 & 9 & 1 & 999\\\\\n",
       "\t3...3 & 2010 & 01 & 001 & 0001 & 15 & 6 & 1 & 2010 & 2 & 1 & ⋯ & 01 & 001 & 0001 & 15 & 5 & 2 & 3 & 9 & 1 & 999\\\\\n",
       "\t4...4 & 2010 & 01 & 001 & 0001 & 15 & 7 & 1 & 2010 & 1 & 1 & ⋯ & 01 & 001 & 0001 & 15 & 5 & 1 & 1 & 2 & 1 & 999\\\\\n",
       "\t5...5 & 2010 & 01 & 001 & 0001 & 15 & 7 & 1 & 2010 & 2 & 1 & ⋯ & 01 & 001 & 0001 & 15 & 7 & 2 & 2 & 9 & 1 & 999\\\\\n",
       "\t6...6 & 2010 & 01 & 001 & 0001 & 15 & 8 & 1 & 2010 & 1 & 1 & ⋯ & 01 & 001 & 0001 & 15 & 6 & 1 & 1 & 2 & 1 & 999\\\\\n",
       "\\end{tabular}\n"
      ],
      "text/markdown": [
       "\n",
       "A data.frame: 6 × 36\n",
       "\n",
       "| <!--/--> | anio &lt;chr&gt; | ent_regis &lt;chr&gt; | mun_regis &lt;chr&gt; | loc_regis &lt;chr&gt; | tam_loc_re &lt;chr&gt; | dia_regis &lt;chr&gt; | mes_regis &lt;chr&gt; | anio_regis &lt;chr&gt; | regimen_ma &lt;chr&gt; | genero &lt;chr&gt; | ⋯ ⋯ | entrh_con2 &lt;chr&gt; | munrh_con2 &lt;chr&gt; | locrh_con2 &lt;chr&gt; | tlorh_con2 &lt;chr&gt; | escol_con2 &lt;chr&gt; | conactcon2 &lt;chr&gt; | sitlabcon2 &lt;chr&gt; | postracon2 &lt;chr&gt; | tipo_con &lt;chr&gt; | dis_re_oax &lt;chr&gt; |\n",
       "|---|---|---|---|---|---|---|---|---|---|---|---|---|---|---|---|---|---|---|---|---|---|\n",
       "| 1...1 | 2010 | 01 | 001 | 0001 | 15 | 4 | 1 | 2010 | 1 | 1 | ⋯ | 01 | 001 | 0001 | 15 | 5 | 1 | 1 | 2 | 1 | 999 |\n",
       "| 2...2 | 2010 | 01 | 001 | 0001 | 15 | 6 | 1 | 2010 | 2 | 1 | ⋯ | 01 | 005 | 0001 | 10 | 5 | 2 | 3 | 9 | 1 | 999 |\n",
       "| 3...3 | 2010 | 01 | 001 | 0001 | 15 | 6 | 1 | 2010 | 2 | 1 | ⋯ | 01 | 001 | 0001 | 15 | 5 | 2 | 3 | 9 | 1 | 999 |\n",
       "| 4...4 | 2010 | 01 | 001 | 0001 | 15 | 7 | 1 | 2010 | 1 | 1 | ⋯ | 01 | 001 | 0001 | 15 | 5 | 1 | 1 | 2 | 1 | 999 |\n",
       "| 5...5 | 2010 | 01 | 001 | 0001 | 15 | 7 | 1 | 2010 | 2 | 1 | ⋯ | 01 | 001 | 0001 | 15 | 7 | 2 | 2 | 9 | 1 | 999 |\n",
       "| 6...6 | 2010 | 01 | 001 | 0001 | 15 | 8 | 1 | 2010 | 1 | 1 | ⋯ | 01 | 001 | 0001 | 15 | 6 | 1 | 1 | 2 | 1 | 999 |\n",
       "\n"
      ],
      "text/plain": [
       "      anio ent_regis mun_regis loc_regis tam_loc_re dia_regis mes_regis\n",
       "1...1 2010 01        001       0001      15         4         1        \n",
       "2...2 2010 01        001       0001      15         6         1        \n",
       "3...3 2010 01        001       0001      15         6         1        \n",
       "4...4 2010 01        001       0001      15         7         1        \n",
       "5...5 2010 01        001       0001      15         7         1        \n",
       "6...6 2010 01        001       0001      15         8         1        \n",
       "      anio_regis regimen_ma genero ⋯ entrh_con2 munrh_con2 locrh_con2\n",
       "1...1 2010       1          1      ⋯ 01         001        0001      \n",
       "2...2 2010       2          1      ⋯ 01         005        0001      \n",
       "3...3 2010       2          1      ⋯ 01         001        0001      \n",
       "4...4 2010       1          1      ⋯ 01         001        0001      \n",
       "5...5 2010       2          1      ⋯ 01         001        0001      \n",
       "6...6 2010       1          1      ⋯ 01         001        0001      \n",
       "      tlorh_con2 escol_con2 conactcon2 sitlabcon2 postracon2 tipo_con\n",
       "1...1 15         5          1          1          2          1       \n",
       "2...2 10         5          2          3          9          1       \n",
       "3...3 15         5          2          3          9          1       \n",
       "4...4 15         5          1          1          2          1       \n",
       "5...5 15         7          2          2          9          1       \n",
       "6...6 15         6          1          1          2          1       \n",
       "      dis_re_oax\n",
       "1...1 999       \n",
       "2...2 999       \n",
       "3...3 999       \n",
       "4...4 999       \n",
       "5...5 999       \n",
       "6...6 999       "
      ]
     },
     "metadata": {},
     "output_type": "display_data"
    }
   ],
   "source": [
    "head(matrimonios_completo)"
   ]
  },
  {
   "cell_type": "code",
   "execution_count": 23,
   "id": "46fc2448",
   "metadata": {
    "vscode": {
     "languageId": "r"
    }
   },
   "outputs": [
    {
     "name": "stderr",
     "output_type": "stream",
     "text": [
      "\u001b[1m\u001b[22m`summarise()` has grouped output by 'anio_regis'. You can override using the\n",
      "`.groups` argument.\n"
     ]
    },
    {
     "data": {
      "text/html": [
       "<table class=\"dataframe\">\n",
       "<caption>A grouped_df: 14 × 5</caption>\n",
       "<thead>\n",
       "\t<tr><th scope=col>anio_regis</th><th scope=col>genero</th><th scope=col>mismo_sexo</th><th scope=col>total_matrimonios</th><th scope=col>porcentaje_mismo_sexo</th></tr>\n",
       "\t<tr><th scope=col>&lt;chr&gt;</th><th scope=col>&lt;chr&gt;</th><th scope=col>&lt;int&gt;</th><th scope=col>&lt;int&gt;</th><th scope=col>&lt;dbl&gt;</th></tr>\n",
       "</thead>\n",
       "<tbody>\n",
       "\t<tr><td>2010</td><td>2</td><td> 689</td><td>34444</td><td>2.00</td></tr>\n",
       "\t<tr><td>2011</td><td>2</td><td> 802</td><td>35086</td><td>2.29</td></tr>\n",
       "\t<tr><td>2012</td><td>2</td><td> 936</td><td>35536</td><td>2.63</td></tr>\n",
       "\t<tr><td>2013</td><td>2</td><td>1185</td><td>37073</td><td>3.20</td></tr>\n",
       "\t<tr><td>2014</td><td>2</td><td>1612</td><td>36664</td><td>4.40</td></tr>\n",
       "\t<tr><td>2015</td><td>2</td><td>1434</td><td>33230</td><td>4.32</td></tr>\n",
       "\t<tr><td>2016</td><td>2</td><td>1481</td><td>32515</td><td>4.55</td></tr>\n",
       "\t<tr><td>2017</td><td>2</td><td>1462</td><td>30868</td><td>4.74</td></tr>\n",
       "\t<tr><td>2018</td><td>2</td><td>1457</td><td>26521</td><td>5.49</td></tr>\n",
       "\t<tr><td>2019</td><td>2</td><td>1539</td><td>27462</td><td>5.60</td></tr>\n",
       "\t<tr><td>2020</td><td>2</td><td> 832</td><td>11938</td><td>6.97</td></tr>\n",
       "\t<tr><td>2021</td><td>2</td><td>1241</td><td>20131</td><td>6.16</td></tr>\n",
       "\t<tr><td>2022</td><td>2</td><td>1601</td><td>27249</td><td>5.88</td></tr>\n",
       "\t<tr><td>2023</td><td>2</td><td>1214</td><td>25501</td><td>4.76</td></tr>\n",
       "</tbody>\n",
       "</table>\n"
      ],
      "text/latex": [
       "A grouped\\_df: 14 × 5\n",
       "\\begin{tabular}{lllll}\n",
       " anio\\_regis & genero & mismo\\_sexo & total\\_matrimonios & porcentaje\\_mismo\\_sexo\\\\\n",
       " <chr> & <chr> & <int> & <int> & <dbl>\\\\\n",
       "\\hline\n",
       "\t 2010 & 2 &  689 & 34444 & 2.00\\\\\n",
       "\t 2011 & 2 &  802 & 35086 & 2.29\\\\\n",
       "\t 2012 & 2 &  936 & 35536 & 2.63\\\\\n",
       "\t 2013 & 2 & 1185 & 37073 & 3.20\\\\\n",
       "\t 2014 & 2 & 1612 & 36664 & 4.40\\\\\n",
       "\t 2015 & 2 & 1434 & 33230 & 4.32\\\\\n",
       "\t 2016 & 2 & 1481 & 32515 & 4.55\\\\\n",
       "\t 2017 & 2 & 1462 & 30868 & 4.74\\\\\n",
       "\t 2018 & 2 & 1457 & 26521 & 5.49\\\\\n",
       "\t 2019 & 2 & 1539 & 27462 & 5.60\\\\\n",
       "\t 2020 & 2 &  832 & 11938 & 6.97\\\\\n",
       "\t 2021 & 2 & 1241 & 20131 & 6.16\\\\\n",
       "\t 2022 & 2 & 1601 & 27249 & 5.88\\\\\n",
       "\t 2023 & 2 & 1214 & 25501 & 4.76\\\\\n",
       "\\end{tabular}\n"
      ],
      "text/markdown": [
       "\n",
       "A grouped_df: 14 × 5\n",
       "\n",
       "| anio_regis &lt;chr&gt; | genero &lt;chr&gt; | mismo_sexo &lt;int&gt; | total_matrimonios &lt;int&gt; | porcentaje_mismo_sexo &lt;dbl&gt; |\n",
       "|---|---|---|---|---|\n",
       "| 2010 | 2 |  689 | 34444 | 2.00 |\n",
       "| 2011 | 2 |  802 | 35086 | 2.29 |\n",
       "| 2012 | 2 |  936 | 35536 | 2.63 |\n",
       "| 2013 | 2 | 1185 | 37073 | 3.20 |\n",
       "| 2014 | 2 | 1612 | 36664 | 4.40 |\n",
       "| 2015 | 2 | 1434 | 33230 | 4.32 |\n",
       "| 2016 | 2 | 1481 | 32515 | 4.55 |\n",
       "| 2017 | 2 | 1462 | 30868 | 4.74 |\n",
       "| 2018 | 2 | 1457 | 26521 | 5.49 |\n",
       "| 2019 | 2 | 1539 | 27462 | 5.60 |\n",
       "| 2020 | 2 |  832 | 11938 | 6.97 |\n",
       "| 2021 | 2 | 1241 | 20131 | 6.16 |\n",
       "| 2022 | 2 | 1601 | 27249 | 5.88 |\n",
       "| 2023 | 2 | 1214 | 25501 | 4.76 |\n",
       "\n"
      ],
      "text/plain": [
       "   anio_regis genero mismo_sexo total_matrimonios porcentaje_mismo_sexo\n",
       "1  2010       2       689       34444             2.00                 \n",
       "2  2011       2       802       35086             2.29                 \n",
       "3  2012       2       936       35536             2.63                 \n",
       "4  2013       2      1185       37073             3.20                 \n",
       "5  2014       2      1612       36664             4.40                 \n",
       "6  2015       2      1434       33230             4.32                 \n",
       "7  2016       2      1481       32515             4.55                 \n",
       "8  2017       2      1462       30868             4.74                 \n",
       "9  2018       2      1457       26521             5.49                 \n",
       "10 2019       2      1539       27462             5.60                 \n",
       "11 2020       2       832       11938             6.97                 \n",
       "12 2021       2      1241       20131             6.16                 \n",
       "13 2022       2      1601       27249             5.88                 \n",
       "14 2023       2      1214       25501             4.76                 "
      ]
     },
     "metadata": {},
     "output_type": "display_data"
    }
   ],
   "source": [
    "#Total de matrimonios por año\n",
    "matrimonios_por_anio <- matrimonios_completo %>%\n",
    "filter(ent_regis == \"09\") %>%  \n",
    "    group_by(anio_regis) %>%\n",
    "    summarise(total_matrimonios = n())\n",
    "\n",
    "ms<-matrimonios_completo%>%\n",
    "#Filtrar matrionios del mismo sexo\n",
    "filter(genero==\"2\")%>%\n",
    "filter(ent_regis == \"09\") %>%\n",
    "group_by(anio_regis,genero)%>%\n",
    "summarise(mismo_sexo=n())%>%\n",
    "#Pegar el total de matrimonios\n",
    "left_join(matrimonios_por_anio, by=c(\"anio_regis\")) %>%\n",
    "#Calcular el porcentaje de matrimonios del mismo sexo\n",
    "mutate(porcentaje_mismo_sexo = round((mismo_sexo / total_matrimonios) * 100, 2))\n",
    "\n",
    "ms"
   ]
  },
  {
   "cell_type": "code",
   "execution_count": 24,
   "id": "83652ba6",
   "metadata": {
    "vscode": {
     "languageId": "r"
    }
   },
   "outputs": [
    {
     "name": "stderr",
     "output_type": "stream",
     "text": [
      "\u001b[1m\u001b[22m`geom_smooth()` using formula = 'y ~ x'\n"
     ]
    },
    {
     "data": {
      "image/png": "[encoded data removed]",
      "text/plain": [
       "plot without title"
      ]
     },
     "metadata": {
      "image/png": {
       "height": 420,
       "width": 420
      }
     },
     "output_type": "display_data"
    }
   ],
   "source": [
    "ms%>%\n",
    "ggplot(aes(x=anio_regis, y=porcentaje_mismo_sexo,color = '#691c32', group=1)) +\n",
    "geom_line()+\n",
    "geom_smooth(method = 'loess', se = FALSE, color = '#bc955c') +\n",
    "theme_minimal()+\n",
    "labs(title=\"Porcentaje de matrimonios del mismo sexo respecto \n",
    "del total de matrimonios en la Ciudad de México,2010-2023\",\n",
    "     x=\"Año de registro\",\n",
    "     y=\"%\",\n",
    "      caption = \"Fuente: Elaborado por IPDP CDMX con base en INEGI. Estadística de matrimonios 2010-2023.\"\n",
    "     \n",
    "     \n",
    "     )+\n",
    "\n",
    "scale_y_continuous(breaks = seq(0, 100, 10))+\n",
    "    theme(axis.text.x = element_text(angle = 90, hjust = 1),\n",
    "          plot.title = element_text(hjust = 0, size = 25, face = \"bold\"),\n",
    "          plot.subtitle = element_text(hjust = 0, size = 20, face = \"italic\"),\n",
    "          plot.caption = element_text(hjust = 0, size = 15),\n",
    "          legend.position = \"none\",\n",
    "          text = element_text(family = \"pop\", size = 20))"
   ]
  }
 ],
 "metadata": {
  "kernelspec": {
   "display_name": "R",
   "language": "R",
   "name": "ir"
  },
  "language_info": {
   "codemirror_mode": "r",
   "file_extension": ".r",
   "mimetype": "text/x-r-source",
   "name": "R",
   "pygments_lexer": "r",
   "version": "4.4.1"
  }
 },
 "nbformat": 4,
 "nbformat_minor": 5
}
