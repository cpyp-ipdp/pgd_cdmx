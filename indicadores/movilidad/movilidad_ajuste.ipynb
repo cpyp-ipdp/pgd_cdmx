{
 "cells": [
  {
   "cell_type": "code",
   "execution_count": 3,
   "id": "cd89f2db",
   "metadata": {
    "vscode": {
     "languageId": "r"
    }
   },
   "outputs": [],
   "source": [
    "#Borrar entorno\n",
    "rm(list=ls())\n",
    "\n",
    "# Librerías necesarias====\n",
    "if(!require('pacman')) install.packages('pacman')\n",
    "pacman::p_load(modeest,\n",
    "  tidyverse, srvyr, showtext,survey)"
   ]
  },
  {
   "cell_type": "code",
   "execution_count": 4,
   "id": "ee0a8b8a",
   "metadata": {
    "vscode": {
     "languageId": "r"
    }
   },
   "outputs": [],
   "source": [
    "#CONSIDERACIONES\n",
    "#Tiempo de espera para la descarga\n",
    "options(timeout = 8000)\n",
    "#Fuente Roboto\n",
    "font_add_google(name = \"Roboto\", family = \"Roboto\")\n",
    "showtext_auto()\n",
    "#Ajuste para la UPM\n",
    "options(survey.lonely.psu = \"certainty\")  "
   ]
  },
  {
   "cell_type": "markdown",
   "id": "c370fef5",
   "metadata": {},
   "source": [
    "#### Funciones para descargar y leer datos tanto de la Enigh, como del Censo y la Intercensal"
   ]
  },
  {
   "cell_type": "code",
   "execution_count": 9,
   "id": "97cb1ca2",
   "metadata": {
    "vscode": {
     "languageId": "r"
    }
   },
   "outputs": [],
   "source": [
    "#Datos de la ENIGH ====\n",
    "leer_enigh <- function(anio, tipo = c(\"gastospersona\", \"concentradohogar\")) {\n",
    "  tipo <- match.arg(tipo)\n",
    "\n",
    "  # Definir las URLs según el tipo\n",
    "  urls <- list(\n",
    "    \"gastospersona\" = list(\n",
    "      \"2016\" = \"https://www.inegi.org.mx/contenidos/programas/enigh/nc/2016/microdatos/enigh2016_ns_gastospersona_csv.zip\",\n",
    "      \"2018\" = \"https://www.inegi.org.mx/contenidos/programas/enigh/nc/2018/microdatos/enigh2018_ns_gastospersona_csv.zip\",\n",
    "      \"2020\" = \"https://www.inegi.org.mx/contenidos/programas/enigh/nc/2020/microdatos/enigh2020_ns_gastospersona_csv.zip\",\n",
    "      \"2022\" = \"https://www.inegi.org.mx/contenidos/programas/enigh/nc/2022/microdatos/enigh2022_ns_gastospersona_csv.zip\",\n",
    "      \"2024\" = \"https://www.inegi.org.mx/contenidos/programas/enigh/nc/2024/microdatos/enigh2024_ns_gastospersona_csv.zip\"\n",
    "    ),\n",
    "    \"concentradohogar\" = list(\n",
    "      \"2016\" = \"https://www.inegi.org.mx/contenidos/programas/enigh/nc/2016/microdatos/enigh2016_ns_concentradohogar_csv.zip\",\n",
    "      \"2018\" = \"https://www.inegi.org.mx/contenidos/programas/enigh/nc/2018/microdatos/enigh2018_ns_concentradohogar_csv.zip\",\n",
    "      \"2020\" = \"https://www.inegi.org.mx/contenidos/programas/enigh/nc/2020/microdatos/enigh2020_ns_concentradohogar_csv.zip\",\n",
    "      \"2022\" = \"https://www.inegi.org.mx/contenidos/programas/enigh/nc/2022/microdatos/enigh2022_ns_concentradohogar_csv.zip\",\n",
    "      \"2024\" = \"https://www.inegi.org.mx/contenidos/programas/enigh/nc/2024/microdatos/enigh2024_ns_concentradohogar_csv.zip\"\n",
    "    )\n",
    "  )\n",
    "  \n",
    "  # Archivos a buscar según el tipo\n",
    "  patrones <- list(\n",
    "    \"gastospersona\" = \"gastospersona.csv\",\n",
    "    \"concentradohogar\" = \"concentradohogar.csv\"\n",
    "  )\n",
    "\n",
    "  # Crear archivos temporales\n",
    "  temp_zip <- tempfile(fileext = \".zip\")\n",
    "  temp_dir <- tempdir()\n",
    "  options(timeout = 800)\n",
    "\n",
    "  # Descargar y descomprimir\n",
    "  download.file(urls[[tipo]][[as.character(anio)]], temp_zip, mode = \"wb\")\n",
    "  unzip(temp_zip, exdir = temp_dir)\n",
    "\n",
    "  # Leer el archivo\n",
    "  archivo_datos <- list.files(temp_dir, pattern = patrones[[tipo]], \n",
    "                              full.names = TRUE, recursive = TRUE)\n",
    "\n",
    "  datos <- readr::read_csv(archivo_datos, col_types = NULL, show_col_types = FALSE)%>%\n",
    "  mutate(cve_ent = substr(folioviv, 1, 2))\n",
    "\n",
    "\n",
    "  # Limpiar archivos temporales\n",
    "  unlink(temp_zip)\n",
    "  unlink(list.files(temp_dir, full.names = TRUE), recursive = TRUE)\n",
    "\n",
    "  return(datos)\n",
    "}\n"
   ]
  },
  {
   "cell_type": "code",
   "execution_count": 10,
   "id": "51779ece",
   "metadata": {
    "vscode": {
     "languageId": "r"
    }
   },
   "outputs": [],
   "source": [
    "#Datos deL Censo ====\n",
    "leer_censo <- function(anio_ent) {  \n",
    "  url <- urls[[anio_ent]]\n",
    "  nombre_zip <- paste0(anio_ent, \".zip\")\n",
    "  temp_dir <- tempdir()\n",
    "  zip_path <- file.path(temp_dir, nombre_zip)\n",
    "  \n",
    "  options(timeout = 8000)\n",
    "  download.file(url, destfile = zip_path, mode = \"wb\")\n",
    "  \n",
    "  unzip(zip_path, exdir = temp_dir)\n",
    "  \n",
    "  datos_csv <- list.files(temp_dir, pattern = \"\\\\.CSV$\", full.names = TRUE, recursive = TRUE)\n",
    "  archivo_personas <- datos_csv[grepl(\"PER|PERS|PERSONA|TR_PERSONA\", datos_csv, ignore.case = TRUE)]\n",
    "\n",
    "  if (length(archivo_personas) == 0) {\n",
    "    warning(glue::glue(\"No se encontró archivo esperado para el año {anio_ent}. Se usará el primer CSV disponible.\"))\n",
    "    archivo_personas <- datos_csv[1]\n",
    "  } else {\n",
    "    archivo_personas <- archivo_personas[1]\n",
    "  }\n",
    "\n",
    "  \n",
    "  datos <- readr::read_csv(archivo_personas, col_types = NULL)%>%\n",
    "  janitor::clean_names() %>%\n",
    "   select(ent, mun, factor, upm, estrato, \n",
    "   asisten, conact, ent_pais_asi, mun_asi, ent_pais_trab, mun_trab, tie_traslado_escu, tie_traslado_trab)\n",
    "  \n",
    "  unlink(zip_path)\n",
    "  unlink(list.files(temp_dir, full.names = TRUE), recursive = TRUE)\n",
    "  \n",
    "  return(datos)\n",
    "}"
   ]
  },
  {
   "cell_type": "markdown",
   "id": "9a283016",
   "metadata": {},
   "source": [
    "#### Porcentaje de hogares en donde el 50% o más de sus integrantes usan el transporte público masivo"
   ]
  },
  {
   "cell_type": "code",
   "execution_count": null,
   "id": "45c010b1",
   "metadata": {
    "vscode": {
     "languageId": "r"
    }
   },
   "outputs": [
    {
     "name": "stderr",
     "output_type": "stream",
     "text": [
      "Warning message:\n",
      "\"\u001b[1m\u001b[22mOne or more parsing issues, call `problems()` on your data frame for details,\n",
      "e.g.:\n",
      "  dat <- vroom(...)\n",
      "  problems(dat)\"\n",
      "\u001b[1m\u001b[22m`summarise()` has grouped output by 'folioviv', 'foliohog'. You can override\n",
      "using the `.groups` argument.\n",
      "Warning message:\n",
      "\"\u001b[1m\u001b[22mOne or more parsing issues, call `problems()` on your data frame for details,\n",
      "e.g.:\n",
      "  dat <- vroom(...)\n",
      "  problems(dat)\"\n",
      "\u001b[1m\u001b[22m`summarise()` has grouped output by 'folioviv', 'foliohog'. You can override\n",
      "using the `.groups` argument.\n",
      "\u001b[1m\u001b[22m`summarise()` has grouped output by 'folioviv', 'foliohog'. You can override\n",
      "using the `.groups` argument.\n",
      "Warning message:\n",
      "\"\u001b[1m\u001b[22mOne or more parsing issues, call `problems()` on your data frame for details,\n",
      "e.g.:\n",
      "  dat <- vroom(...)\n",
      "  problems(dat)\"\n",
      "\u001b[1m\u001b[22m`summarise()` has grouped output by 'folioviv', 'foliohog'. You can override\n",
      "using the `.groups` argument.\n",
      "Warning message:\n",
      "\"\u001b[1m\u001b[22mOne or more parsing issues, call `problems()` on your data frame for details,\n",
      "e.g.:\n",
      "  dat <- vroom(...)\n",
      "  problems(dat)\"\n",
      "\u001b[1m\u001b[22m`summarise()` has grouped output by 'folioviv', 'foliohog'. You can override\n",
      "using the `.groups` argument.\n"
     ]
    }
   ],
   "source": [
    "years<-c(2016, 2018, 2020, 2022, 2024)\n",
    "# Leer los datos de la ENIGH para los años especificados. Incorporar el año como una columna\n",
    "#Hogares\n",
    "hogares <- bind_rows(lapply(years, function(x) {\n",
    "  leer_enigh(x,\"concentradohogar\") %>%\n",
    "    mutate(year = x)\n",
    "}))\n",
    "\n",
    "\n",
    "#Determinar personas que gastan en transporte público masivo. \n",
    "#El transporte público masivo como metro o tren ligero, autobús o trolebús o metrobús.\n",
    "\n",
    "transporte_pub<- bind_rows(lapply(years, function(x) {\n",
    "  leer_enigh(x,\"gastospersona\") %>%\n",
    "  filter(cve_ent == \"09\")%>%\n",
    "    mutate(year = x,\n",
    "    clasif_gasto = case_when(clave %in% c(\"B001\",\"B002\",\"B003\") ~ \"transporte publico masivo\",\n",
    "                                clave %in% c(\"B004\", \"B005\", \"B006\", \"B007\") ~ \"otros transportes publicos\", \n",
    "                                clave %in% c(\"M001\", \"M002\", \"M003\", \"M004\", \"M005\", \"M006\") ~ \"transporte foraneo\",\n",
    "                                clave %in% c(\"M007\", \"M008\", \"M009\", \"M010\", \"M011\") ~ \"adquisición de vehículos\", \n",
    "                                clave %in% c(\"M012\", \"M013\", \"M014\", \"M015\", \"M016\", \"M017\", \"M018\") ~ \"Refacciones para vehiculos\", \n",
    "                                clave %in% c(\"F007\", \"F008\", \"F014\") ~ \"Combustibles para vehículos\",\n",
    "                                clave %in% c(\"F001\", \"F002\", \"F003\", \"F004\", \"F005\", \"F006\",\"R005\", \"R006\", \"R007\", \"R008\", \"R010\", \"R011\") \n",
    "                                ~ \"comunicaciones\", \n",
    "                                TRUE ~ \"OTROS GASTOS\"),\n",
    "         transporte = case_when(clasif_gasto == \"transporte publico masivo\" ~ 1, \n",
    "                                clasif_gasto %in% c(\"transporte foraneo\",\"otros transportes publicos\",\"adquisición de vehículos\",\n",
    "                                                  \"Refacciones para vehiculos\",\"Combustibles para vehículos\",\n",
    "                                                  \"comunicaciones\") ~ 0))%>%\n",
    "                                                  select(folioviv, foliohog,numren,transporte,year)%>%\n",
    "                                            filter(transporte==1)%>%\n",
    "                                           distinct(folioviv, foliohog, numren,year, .keep_all = FALSE)%>%\n",
    "                                           mutate(transporte=1)%>%\n",
    "                                           group_by(folioviv,foliohog,year)%>%\n",
    "                                           summarise(transp_pub_masivo=sum(transporte))\n",
    "}))"
   ]
  },
  {
   "cell_type": "code",
   "execution_count": 17,
   "id": "3e7b4c2d",
   "metadata": {
    "vscode": {
     "languageId": "r"
    }
   },
   "outputs": [
    {
     "name": "stderr",
     "output_type": "stream",
     "text": [
      "Warning message:\n",
      "\"\u001b[1m\u001b[22mThere was 1 warning in `dplyr::summarise()`.\n",
      "\u001b[1m\u001b[22m\u001b[36mℹ\u001b[39m In argument: `porcentaje = survey_prop(vartype = \"cv\") * 100`.\n",
      "\u001b[36mℹ\u001b[39m In group 1: `mayoria = 0`.\n",
      "Caused by warning:\n",
      "\u001b[33m!\u001b[39m glm.fit: algorithm did not converge\"\n"
     ]
    },
    {
     "data": {
      "text/html": [
       "<table class=\"dataframe\">\n",
       "<caption>A tibble: 9 × 8</caption>\n",
       "<thead>\n",
       "\t<tr><th scope=col>year</th><th scope=col>mayoria</th><th scope=col>hogares</th><th scope=col>hogares_cv</th><th scope=col>porcentaje</th><th scope=col>porcentaje_cv</th><th scope=col>año</th><th scope=col>tipo</th></tr>\n",
       "\t<tr><th scope=col>&lt;chr&gt;</th><th scope=col>&lt;dbl&gt;</th><th scope=col>&lt;dbl&gt;</th><th scope=col>&lt;dbl&gt;</th><th scope=col>&lt;dbl&gt;</th><th scope=col>&lt;dbl&gt;</th><th scope=col>&lt;dbl&gt;</th><th scope=col>&lt;chr&gt;</th></tr>\n",
       "</thead>\n",
       "<tbody>\n",
       "\t<tr><td>2016</td><td>0</td><td>1962181</td><td>0.05935186</td><td> 69.45528</td><td>2.211090</td><td>2016</td><td>Observado</td></tr>\n",
       "\t<tr><td>2016</td><td>1</td><td> 862919</td><td>0.07562500</td><td> 30.54472</td><td>5.027771</td><td>2016</td><td>Observado</td></tr>\n",
       "\t<tr><td>2018</td><td>0</td><td>1821887</td><td>0.06020160</td><td> 65.56281</td><td>2.233444</td><td>2018</td><td>Observado</td></tr>\n",
       "\t<tr><td>2018</td><td>1</td><td> 956955</td><td>0.07035001</td><td> 34.43719</td><td>4.252115</td><td>2018</td><td>Observado</td></tr>\n",
       "\t<tr><td>2020</td><td>0</td><td>2234681</td><td>0.05260629</td><td> 81.80601</td><td>1.330222</td><td>2020</td><td>Observado</td></tr>\n",
       "\t<tr><td>2020</td><td>1</td><td> 497002</td><td>0.07792825</td><td> 18.19399</td><td>5.981106</td><td>2020</td><td>Observado</td></tr>\n",
       "\t<tr><td>2022</td><td>0</td><td>2174089</td><td>0.05448266</td><td> 72.71128</td><td>1.774589</td><td>2022</td><td>Observado</td></tr>\n",
       "\t<tr><td>2022</td><td>1</td><td> 815941</td><td>0.06881882</td><td> 27.28872</td><td>4.728422</td><td>2022</td><td>Observado</td></tr>\n",
       "\t<tr><td>2024</td><td>0</td><td>3082330</td><td>0.05108574</td><td>100.00000</td><td>0.000000</td><td>2024</td><td>Observado</td></tr>\n",
       "</tbody>\n",
       "</table>\n"
      ],
      "text/latex": [
       "A tibble: 9 × 8\n",
       "\\begin{tabular}{llllllll}\n",
       " year & mayoria & hogares & hogares\\_cv & porcentaje & porcentaje\\_cv & año & tipo\\\\\n",
       " <chr> & <dbl> & <dbl> & <dbl> & <dbl> & <dbl> & <dbl> & <chr>\\\\\n",
       "\\hline\n",
       "\t 2016 & 0 & 1962181 & 0.05935186 &  69.45528 & 2.211090 & 2016 & Observado\\\\\n",
       "\t 2016 & 1 &  862919 & 0.07562500 &  30.54472 & 5.027771 & 2016 & Observado\\\\\n",
       "\t 2018 & 0 & 1821887 & 0.06020160 &  65.56281 & 2.233444 & 2018 & Observado\\\\\n",
       "\t 2018 & 1 &  956955 & 0.07035001 &  34.43719 & 4.252115 & 2018 & Observado\\\\\n",
       "\t 2020 & 0 & 2234681 & 0.05260629 &  81.80601 & 1.330222 & 2020 & Observado\\\\\n",
       "\t 2020 & 1 &  497002 & 0.07792825 &  18.19399 & 5.981106 & 2020 & Observado\\\\\n",
       "\t 2022 & 0 & 2174089 & 0.05448266 &  72.71128 & 1.774589 & 2022 & Observado\\\\\n",
       "\t 2022 & 1 &  815941 & 0.06881882 &  27.28872 & 4.728422 & 2022 & Observado\\\\\n",
       "\t 2024 & 0 & 3082330 & 0.05108574 & 100.00000 & 0.000000 & 2024 & Observado\\\\\n",
       "\\end{tabular}\n"
      ],
      "text/markdown": [
       "\n",
       "A tibble: 9 × 8\n",
       "\n",
       "| year &lt;chr&gt; | mayoria &lt;dbl&gt; | hogares &lt;dbl&gt; | hogares_cv &lt;dbl&gt; | porcentaje &lt;dbl&gt; | porcentaje_cv &lt;dbl&gt; | año &lt;dbl&gt; | tipo &lt;chr&gt; |\n",
       "|---|---|---|---|---|---|---|---|\n",
       "| 2016 | 0 | 1962181 | 0.05935186 |  69.45528 | 2.211090 | 2016 | Observado |\n",
       "| 2016 | 1 |  862919 | 0.07562500 |  30.54472 | 5.027771 | 2016 | Observado |\n",
       "| 2018 | 0 | 1821887 | 0.06020160 |  65.56281 | 2.233444 | 2018 | Observado |\n",
       "| 2018 | 1 |  956955 | 0.07035001 |  34.43719 | 4.252115 | 2018 | Observado |\n",
       "| 2020 | 0 | 2234681 | 0.05260629 |  81.80601 | 1.330222 | 2020 | Observado |\n",
       "| 2020 | 1 |  497002 | 0.07792825 |  18.19399 | 5.981106 | 2020 | Observado |\n",
       "| 2022 | 0 | 2174089 | 0.05448266 |  72.71128 | 1.774589 | 2022 | Observado |\n",
       "| 2022 | 1 |  815941 | 0.06881882 |  27.28872 | 4.728422 | 2022 | Observado |\n",
       "| 2024 | 0 | 3082330 | 0.05108574 | 100.00000 | 0.000000 | 2024 | Observado |\n",
       "\n"
      ],
      "text/plain": [
       "  year mayoria hogares hogares_cv porcentaje porcentaje_cv año  tipo     \n",
       "1 2016 0       1962181 0.05935186  69.45528  2.211090      2016 Observado\n",
       "2 2016 1        862919 0.07562500  30.54472  5.027771      2016 Observado\n",
       "3 2018 0       1821887 0.06020160  65.56281  2.233444      2018 Observado\n",
       "4 2018 1        956955 0.07035001  34.43719  4.252115      2018 Observado\n",
       "5 2020 0       2234681 0.05260629  81.80601  1.330222      2020 Observado\n",
       "6 2020 1        497002 0.07792825  18.19399  5.981106      2020 Observado\n",
       "7 2022 0       2174089 0.05448266  72.71128  1.774589      2022 Observado\n",
       "8 2022 1        815941 0.06881882  27.28872  4.728422      2022 Observado\n",
       "9 2024 0       3082330 0.05108574 100.00000  0.000000      2024 Observado"
      ]
     },
     "metadata": {},
     "output_type": "display_data"
    }
   ],
   "source": [
    "hog_transporte<-list()\n",
    "\n",
    "for (anio in years) {\n",
    "datos_anio <- hogares %>% filter(year == anio)%>%\n",
    "  left_join(transporte_pub, by = c(\"folioviv\", \"foliohog\",\"year\")) %>%\n",
    "  #Calcular porcentaje de residentes que usan transporte público\n",
    "  mutate(porcentaje_transporte_pub = transp_pub_masivo / tot_integ*100,\n",
    "         mayoria=case_when(porcentaje_transporte_pub >= 50 ~ 1, \n",
    "                                            TRUE ~ 0))\n",
    "\n",
    "dm<- datos_anio %>%\n",
    "    as_survey_design(ids = upm, \n",
    "                     weights = factor, \n",
    "                     nest = TRUE)\n",
    "\n",
    "dm%>%\n",
    "filter(\n",
    "  cve_ent == \"09\") %>%\n",
    "group_by(mayoria)%>%\n",
    "summarise(hogares=survey_total(vartype=\"cv\"),\n",
    "porcentaje=survey_prop(vartype=\"cv\")*100)%>%\n",
    "mutate(año = anio) -> resultado\n",
    "# Almacenar resultados en la lista\n",
    "  hog_transporte[[as.character(anio)]] <- resultado\n",
    "\n",
    "\n",
    "\n",
    "}\n",
    "\n",
    "# Unir resultados en un solo data frame\n",
    "uso_tp <- bind_rows(hog_transporte, .id = \"year\")%>%\n",
    "mutate(tipo=\"Observado\")#%>%\n",
    "#filter(mayoria==1)\n",
    "uso_tp"
   ]
  },
  {
   "cell_type": "markdown",
   "id": "af03d525",
   "metadata": {},
   "source": [
    "#### Porcentaje de hogares que destinan más del 10% de su ingreso a transporte"
   ]
  },
  {
   "cell_type": "code",
   "execution_count": 13,
   "id": "4cea77ee",
   "metadata": {
    "vscode": {
     "languageId": "r"
    }
   },
   "outputs": [
    {
     "data": {
      "text/html": [
       "<table class=\"dataframe\">\n",
       "<caption>A tibble: 5 × 8</caption>\n",
       "<thead>\n",
       "\t<tr><th scope=col>year</th><th scope=col>prc_ing10</th><th scope=col>hogares</th><th scope=col>hogares_cv</th><th scope=col>porcentaje</th><th scope=col>porcentaje_cv</th><th scope=col>año</th><th scope=col>tipo</th></tr>\n",
       "\t<tr><th scope=col>&lt;chr&gt;</th><th scope=col>&lt;chr&gt;</th><th scope=col>&lt;dbl&gt;</th><th scope=col>&lt;dbl&gt;</th><th scope=col>&lt;dbl&gt;</th><th scope=col>&lt;dbl&gt;</th><th scope=col>&lt;dbl&gt;</th><th scope=col>&lt;chr&gt;</th></tr>\n",
       "</thead>\n",
       "<tbody>\n",
       "\t<tr><td>2016</td><td>El 10 o más</td><td>227360</td><td>0.08415908</td><td>21.51820</td><td> 7.747506</td><td>2016</td><td>Observado</td></tr>\n",
       "\t<tr><td>2018</td><td>El 10 o más</td><td>236936</td><td>0.08708021</td><td>24.90697</td><td> 7.801374</td><td>2018</td><td>Observado</td></tr>\n",
       "\t<tr><td>2020</td><td>El 10 o más</td><td>132530</td><td>0.11054625</td><td>14.28969</td><td> 9.748595</td><td>2020</td><td>Observado</td></tr>\n",
       "\t<tr><td>2022</td><td>El 10 o más</td><td>168530</td><td>0.09526253</td><td>17.02117</td><td> 8.750173</td><td>2022</td><td>Observado</td></tr>\n",
       "\t<tr><td>2024</td><td>El 10 o más</td><td>115435</td><td>0.12418239</td><td>10.72446</td><td>12.091749</td><td>2024</td><td>Observado</td></tr>\n",
       "</tbody>\n",
       "</table>\n"
      ],
      "text/latex": [
       "A tibble: 5 × 8\n",
       "\\begin{tabular}{llllllll}\n",
       " year & prc\\_ing10 & hogares & hogares\\_cv & porcentaje & porcentaje\\_cv & año & tipo\\\\\n",
       " <chr> & <chr> & <dbl> & <dbl> & <dbl> & <dbl> & <dbl> & <chr>\\\\\n",
       "\\hline\n",
       "\t 2016 & El 10 o más & 227360 & 0.08415908 & 21.51820 &  7.747506 & 2016 & Observado\\\\\n",
       "\t 2018 & El 10 o más & 236936 & 0.08708021 & 24.90697 &  7.801374 & 2018 & Observado\\\\\n",
       "\t 2020 & El 10 o más & 132530 & 0.11054625 & 14.28969 &  9.748595 & 2020 & Observado\\\\\n",
       "\t 2022 & El 10 o más & 168530 & 0.09526253 & 17.02117 &  8.750173 & 2022 & Observado\\\\\n",
       "\t 2024 & El 10 o más & 115435 & 0.12418239 & 10.72446 & 12.091749 & 2024 & Observado\\\\\n",
       "\\end{tabular}\n"
      ],
      "text/markdown": [
       "\n",
       "A tibble: 5 × 8\n",
       "\n",
       "| year &lt;chr&gt; | prc_ing10 &lt;chr&gt; | hogares &lt;dbl&gt; | hogares_cv &lt;dbl&gt; | porcentaje &lt;dbl&gt; | porcentaje_cv &lt;dbl&gt; | año &lt;dbl&gt; | tipo &lt;chr&gt; |\n",
       "|---|---|---|---|---|---|---|---|\n",
       "| 2016 | El 10 o más | 227360 | 0.08415908 | 21.51820 |  7.747506 | 2016 | Observado |\n",
       "| 2018 | El 10 o más | 236936 | 0.08708021 | 24.90697 |  7.801374 | 2018 | Observado |\n",
       "| 2020 | El 10 o más | 132530 | 0.11054625 | 14.28969 |  9.748595 | 2020 | Observado |\n",
       "| 2022 | El 10 o más | 168530 | 0.09526253 | 17.02117 |  8.750173 | 2022 | Observado |\n",
       "| 2024 | El 10 o más | 115435 | 0.12418239 | 10.72446 | 12.091749 | 2024 | Observado |\n",
       "\n"
      ],
      "text/plain": [
       "  year prc_ing10   hogares hogares_cv porcentaje porcentaje_cv año  tipo     \n",
       "1 2016 El 10 o más 227360  0.08415908 21.51820    7.747506     2016 Observado\n",
       "2 2018 El 10 o más 236936  0.08708021 24.90697    7.801374     2018 Observado\n",
       "3 2020 El 10 o más 132530  0.11054625 14.28969    9.748595     2020 Observado\n",
       "4 2022 El 10 o más 168530  0.09526253 17.02117    8.750173     2022 Observado\n",
       "5 2024 El 10 o más 115435  0.12418239 10.72446   12.091749     2024 Observado"
      ]
     },
     "metadata": {},
     "output_type": "display_data"
    }
   ],
   "source": [
    "# Crear lista para almacenar resultados\n",
    "resultados <- list()\n",
    "\n",
    "# Iterar sobre cada año\n",
    "for (anio in years) {\n",
    "  \n",
    "  # Filtrar \n",
    "  datos_anio <- hogares %>% filter(year == anio)\n",
    "  # Crear objeto de diseño muestral\n",
    "  dm<-datos_anio %>%\n",
    "    as_survey_design(ids = upm, \n",
    "                     weights = factor, \n",
    "                     nest = TRUE,\n",
    "                     strata= est_dis)\n",
    "\n",
    "  # Calcular indicador\n",
    "dm%>%\n",
    "filter(\n",
    "  cve_ent == \"09\") %>% # Filtrar por la Ciudad de México\n",
    "mutate(decil_ing=ntile(ing_cor, 10)) %>%\n",
    " filter(ing_cor > 0,\n",
    "         decil_ing <= 4)%>%\n",
    "  mutate(porc_ingresos = (publico * 100) / ing_cor,\n",
    "         prc_ing10 = case_when(porc_ingresos >= 10 ~ \"El 10 o más\", TRUE ~ \"Menos del 10\"))%>%\n",
    "         group_by(prc_ing10) %>%\n",
    "         summarise(hogares= survey_total(vartype = \"cv\"),\n",
    "                    porcentaje = survey_prop(vartype = \"cv\") * 100) %>%\n",
    "                    filter(prc_ing10 == \"El 10 o más\") %>%\n",
    "          mutate(año = anio) -> resultado\n",
    "  # Almacenar resultados en la lista\n",
    "  resultados[[as.character(anio)]] <- resultado\n",
    "}\n",
    "\n",
    "# Unir resultados en un solo data frame\n",
    "prc_gasto_tp <- bind_rows(resultados, .id = \"year\")%>%\n",
    "mutate(tipo=\"Observado\")\n",
    "prc_gasto_tp"
   ]
  },
  {
   "cell_type": "markdown",
   "id": "63608db0",
   "metadata": {},
   "source": [
    "#### Porcentaje de población cuyo tiempo de traslado al trabajo es mayor a 60 minutos"
   ]
  },
  {
   "cell_type": "code",
   "execution_count": null,
   "id": "279efd6a",
   "metadata": {
    "vscode": {
     "languageId": "r"
    }
   },
   "outputs": [],
   "source": [
    "  # Lista de URLs por clave compuesta \"anio_ent\"\n",
    "  urls <- list(\n",
    "    \"2015\" = \"https://www.inegi.org.mx/contenidos/programas/intercensal/2015/microdatos/eic2015_09_csv.zip\",\n",
    "    \"2020\" = \"https://www.inegi.org.mx/contenidos/programas/ccpv/2020/microdatos/Censo2020_CA_cdmx_csv.zip\"\n",
    "  )"
   ]
  },
  {
   "cell_type": "code",
   "execution_count": null,
   "id": "9dbdbd8e",
   "metadata": {
    "vscode": {
     "languageId": "r"
    }
   },
   "outputs": [
    {
     "name": "stderr",
     "output_type": "stream",
     "text": [
      "Warning message:\n",
      "\"\u001b[1m\u001b[22mOne or more parsing issues, call `problems()` on your data frame for details,\n",
      "e.g.:\n",
      "  dat <- vroom(...)\n",
      "  problems(dat)\"\n",
      "\u001b[1mRows: \u001b[22m\u001b[34m553032\u001b[39m \u001b[1mColumns: \u001b[22m\u001b[34m86\u001b[39m\n",
      "\u001b[36m──\u001b[39m \u001b[1mColumn specification\u001b[22m \u001b[36m────────────────────────────────────────────────────────\u001b[39m\n",
      "\u001b[1mDelimiter:\u001b[22m \",\"\n",
      "\u001b[31mchr\u001b[39m (20): ENT, NOM_ENT, MUN, NOM_MUN, LOC50K, NOM_LOC, ESTRATO, UPM, ENT_PAI...\n",
      "\u001b[32mdbl\u001b[39m (65): ID_VIV, ID_PERSONA, COBERTURA, FACTOR, NUMPER, SEXO, EDAD, PARENT,...\n",
      "\u001b[33mlgl\u001b[39m  (1): EDAD_MORIR_D\n",
      "\n",
      "\u001b[36mℹ\u001b[39m Use `spec()` to retrieve the full column specification for this data.\n",
      "\u001b[36mℹ\u001b[39m Specify the column types or set `show_col_types = FALSE` to quiet this message.\n",
      "\u001b[1mRows: \u001b[22m\u001b[34m276007\u001b[39m \u001b[1mColumns: \u001b[22m\u001b[34m91\u001b[39m\n",
      "\u001b[36m──\u001b[39m \u001b[1mColumn specification\u001b[22m \u001b[36m────────────────────────────────────────────────────────\u001b[39m\n",
      "\u001b[1mDelimiter:\u001b[22m \",\"\n",
      "\u001b[31mchr\u001b[39m (34): ENT, MUN, LOC50K, ID_VIV, ID_PERSONA, ESTRATO, UPM, CLAVIVP, NUMPE...\n",
      "\u001b[32mdbl\u001b[39m (57): COBERTURA, FACTOR, SEXO, EDAD, PARENTESCO, NACIONALIDAD, AFRODES, ...\n",
      "\n",
      "\u001b[36mℹ\u001b[39m Use `spec()` to retrieve the full column specification for this data.\n",
      "\u001b[36mℹ\u001b[39m Specify the column types or set `show_col_types = FALSE` to quiet this message.\n"
     ]
    }
   ],
   "source": [
    "#Leer datos de censo e intercensal\n",
    "\n",
    "datos <- imap_dfr(urls, ~ leer_censo(.y) %>% mutate(anio = .y))"
   ]
  },
  {
   "cell_type": "code",
   "execution_count": null,
   "id": "c6b48aba",
   "metadata": {
    "vscode": {
     "languageId": "r"
    }
   },
   "outputs": [
    {
     "data": {
      "text/html": [
       "<table class=\"dataframe\">\n",
       "<caption>A tibble: 2 × 2</caption>\n",
       "<thead>\n",
       "\t<tr><th scope=col>anio</th><th scope=col>registros</th></tr>\n",
       "\t<tr><th scope=col>&lt;chr&gt;</th><th scope=col>&lt;int&gt;</th></tr>\n",
       "</thead>\n",
       "<tbody>\n",
       "\t<tr><td>2015</td><td>553032</td></tr>\n",
       "\t<tr><td>2020</td><td>276007</td></tr>\n",
       "</tbody>\n",
       "</table>\n"
      ],
      "text/latex": [
       "A tibble: 2 × 2\n",
       "\\begin{tabular}{ll}\n",
       " anio & registros\\\\\n",
       " <chr> & <int>\\\\\n",
       "\\hline\n",
       "\t 2015 & 553032\\\\\n",
       "\t 2020 & 276007\\\\\n",
       "\\end{tabular}\n"
      ],
      "text/markdown": [
       "\n",
       "A tibble: 2 × 2\n",
       "\n",
       "| anio &lt;chr&gt; | registros &lt;int&gt; |\n",
       "|---|---|\n",
       "| 2015 | 553032 |\n",
       "| 2020 | 276007 |\n",
       "\n"
      ],
      "text/plain": [
       "  anio registros\n",
       "1 2015 553032   \n",
       "2 2020 276007   "
      ]
     },
     "metadata": {},
     "output_type": "display_data"
    }
   ],
   "source": [
    "datos%>%\n",
    "group_by(anio)%>%\n",
    "summarise(registros=n())"
   ]
  },
  {
   "cell_type": "code",
   "execution_count": null,
   "id": "12243dc8",
   "metadata": {
    "vscode": {
     "languageId": "r"
    }
   },
   "outputs": [
    {
     "data": {
      "text/html": [
       "<table class=\"dataframe\">\n",
       "<caption>A tibble: 2 × 8</caption>\n",
       "<thead>\n",
       "\t<tr><th scope=col>anio</th><th scope=col>tiempo_trabajo</th><th scope=col>personas</th><th scope=col>personas_cv</th><th scope=col>porcentaje</th><th scope=col>porcentaje_cv</th><th scope=col>año</th><th scope=col>tipo</th></tr>\n",
       "\t<tr><th scope=col>&lt;chr&gt;</th><th scope=col>&lt;chr&gt;</th><th scope=col>&lt;dbl&gt;</th><th scope=col>&lt;dbl&gt;</th><th scope=col>&lt;dbl&gt;</th><th scope=col>&lt;dbl&gt;</th><th scope=col>&lt;chr&gt;</th><th scope=col>&lt;chr&gt;</th></tr>\n",
       "</thead>\n",
       "<tbody>\n",
       "\t<tr><td>2015</td><td>Más de una hora</td><td>662806</td><td>0.01925339</td><td>17.54626</td><td>1.306145</td><td>2015</td><td>Observado</td></tr>\n",
       "\t<tr><td>2020</td><td>Más de una hora</td><td>744508</td><td>0.02986547</td><td>17.80950</td><td>2.058150</td><td>2020</td><td>Observado</td></tr>\n",
       "</tbody>\n",
       "</table>\n"
      ],
      "text/latex": [
       "A tibble: 2 × 8\n",
       "\\begin{tabular}{llllllll}\n",
       " anio & tiempo\\_trabajo & personas & personas\\_cv & porcentaje & porcentaje\\_cv & año & tipo\\\\\n",
       " <chr> & <chr> & <dbl> & <dbl> & <dbl> & <dbl> & <chr> & <chr>\\\\\n",
       "\\hline\n",
       "\t 2015 & Más de una hora & 662806 & 0.01925339 & 17.54626 & 1.306145 & 2015 & Observado\\\\\n",
       "\t 2020 & Más de una hora & 744508 & 0.02986547 & 17.80950 & 2.058150 & 2020 & Observado\\\\\n",
       "\\end{tabular}\n"
      ],
      "text/markdown": [
       "\n",
       "A tibble: 2 × 8\n",
       "\n",
       "| anio &lt;chr&gt; | tiempo_trabajo &lt;chr&gt; | personas &lt;dbl&gt; | personas_cv &lt;dbl&gt; | porcentaje &lt;dbl&gt; | porcentaje_cv &lt;dbl&gt; | año &lt;chr&gt; | tipo &lt;chr&gt; |\n",
       "|---|---|---|---|---|---|---|---|\n",
       "| 2015 | Más de una hora | 662806 | 0.01925339 | 17.54626 | 1.306145 | 2015 | Observado |\n",
       "| 2020 | Más de una hora | 744508 | 0.02986547 | 17.80950 | 2.058150 | 2020 | Observado |\n",
       "\n"
      ],
      "text/plain": [
       "  anio tiempo_trabajo  personas personas_cv porcentaje porcentaje_cv año \n",
       "1 2015 Más de una hora 662806   0.01925339  17.54626   1.306145      2015\n",
       "2 2020 Más de una hora 744508   0.02986547  17.80950   2.058150      2020\n",
       "  tipo     \n",
       "1 Observado\n",
       "2 Observado"
      ]
     },
     "metadata": {},
     "output_type": "display_data"
    }
   ],
   "source": [
    "##Calcular tiempos de trabajo al trabajo\n",
    "tiempos<-list()\n",
    "\n",
    "\n",
    "for (anio in c(\"2015\", \"2020\")) {\n",
    "  datos_anio <- datos %>% filter(anio == !!anio)\n",
    "  \n",
    "  dm <- datos_anio %>%\n",
    "    as_survey_design(ids = upm, \n",
    "                     weights = factor, \n",
    "                     nest = TRUE,\n",
    "                     strata= estrato)\n",
    "  \n",
    "  \n",
    "  dm %>%\n",
    "    filter(ent_pais_trab == \"009\") %>% # Filtrar solo los que trabajan en CDMX\n",
    "    mutate(tiempo_trabajo=\n",
    "    case_when(tie_traslado_trab %in% c(4,5) ~ \"Más de una hora\",\n",
    "    TRUE ~ \"Menos de una hora, no se traslada o no especificado\"))%>%\n",
    "    group_by(tiempo_trabajo) %>%\n",
    "    summarise(personas = survey_total(vartype = \"cv\"),\n",
    "              porcentaje = survey_prop(vartype = \"cv\") * 100) %>%\n",
    "              ungroup() %>%\n",
    "    mutate(año = anio)%>%\n",
    "    filter(tiempo_trabajo == \"Más de una hora\")-> resultado\n",
    "  \n",
    "  # Almacenar resultados en la lista\n",
    "  tiempos[[as.character(anio)]] <- resultado\n",
    "}\n",
    "\n",
    "# Unir resultados en un solo data frame\n",
    "tiempos_trabajo <- bind_rows(tiempos, .id = \"anio\") %>%\n",
    "  mutate(tipo = \"Observado\")\n",
    "tiempos_trabajo"
   ]
  },
  {
   "cell_type": "markdown",
   "id": "18d6a7e6",
   "metadata": {},
   "source": [
    "### Proyecciones"
   ]
  }
 ],
 "metadata": {
  "kernelspec": {
   "display_name": "R",
   "language": "R",
   "name": "ir"
  },
  "language_info": {
   "codemirror_mode": "r",
   "file_extension": ".r",
   "mimetype": "text/x-r-source",
   "name": "R",
   "pygments_lexer": "r",
   "version": "4.4.1"
  }
 },
 "nbformat": 4,
 "nbformat_minor": 5
}
