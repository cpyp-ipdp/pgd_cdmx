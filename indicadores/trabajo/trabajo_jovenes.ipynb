{
 "cells": [
  {
   "cell_type": "code",
   "execution_count": 52,
   "id": "2ccf7bf4",
   "metadata": {
    "vscode": {
     "languageId": "r"
    }
   },
   "outputs": [],
   "source": [
    "rm(list=ls())\n",
    "\n",
    "# Librerías ====\n",
    "if(!require('pacman')) install.packages('pacman')\n",
    "pacman::p_load(tidyverse, showtext, srvyr)"
   ]
  },
  {
   "cell_type": "code",
   "execution_count": 53,
   "id": "39d8ba02",
   "metadata": {
    "vscode": {
     "languageId": "r"
    }
   },
   "outputs": [],
   "source": [
    "##Crear folders de almacenamiento\n",
    "dir.create(\"indicadores/trabajo/microdatos\", showWarnings = F)"
   ]
  },
  {
   "cell_type": "code",
   "execution_count": 54,
   "id": "3e1d87f3",
   "metadata": {
    "vscode": {
     "languageId": "r"
    }
   },
   "outputs": [],
   "source": [
    "# Función para descargar y descomprimir un archivo con timeout\n",
    "download_and_unzip <- function(url, destination=\"indicadores/trabajo/microdatos/\") {\n",
    "  tryCatch({\n",
    "    # Descargar el archivo con timeout\n",
    "    download.file(url, destfile = paste0(destination, \"/\", basename(url)), mode = \"wb\", timeout = 10000)\n",
    "\n",
    "    # Descomprimir el archivo\n",
    "    unzip(paste0(destination, \"/\", basename(url)), exdir = destination)\n",
    "\n",
    "    # Eliminar el archivo comprimido después de descomprimirlo\n",
    "    unlink(paste0(destination, \"/\", basename(url)))\n",
    "\n",
    "    message(paste(\"Descarga y descompresión exitosas para\", basename(url)))\n",
    "  }, error = function(e) {\n",
    "    warning(paste(\"Error al descargar o descomprimir\", basename(url), \":\", conditionMessage(e)))\n",
    "  })\n",
    "}"
   ]
  },
  {
   "cell_type": "code",
   "execution_count": 55,
   "id": "3d24478e",
   "metadata": {
    "vscode": {
     "languageId": "r"
    }
   },
   "outputs": [
    {
     "name": "stderr",
     "output_type": "stream",
     "text": [
      "Descarga y descompresión exitosas para enoe_2024_trim4_csv.zip\n",
      "\n"
     ]
    }
   ],
   "source": [
    "download_and_unzip(\"https://www.inegi.org.mx/contenidos/programas/enoe/15ymas/microdatos/enoe_2024_trim4_csv.zip\")"
   ]
  },
  {
   "cell_type": "code",
   "execution_count": 56,
   "id": "19b52a3b",
   "metadata": {
    "vscode": {
     "languageId": "r"
    }
   },
   "outputs": [],
   "source": [
    "sdemt<-read_csv(\"indicadores/trabajo/microdatos/ENOE_SDEMT424.csv\", show_col_types = FALSE)%>%\n",
    "#Crear grupos de edad\n",
    "mutate(gpoedad=case_when(eda>=15 & eda<=29 ~ \"jovenes\",\n",
    "TRUE ~ \"otros\"))"
   ]
  },
  {
   "cell_type": "code",
   "execution_count": 57,
   "id": "4bc571f6",
   "metadata": {
    "vscode": {
     "languageId": "r"
    }
   },
   "outputs": [],
   "source": [
    "dm <- as_survey_design(\n",
    "    .data = sdemt,\n",
    "    ids = upm,\n",
    "    strata = est_d_tri,\n",
    "    weights = fac_tri,\n",
    "    nest = TRUE \n",
    ") "
   ]
  },
  {
   "cell_type": "code",
   "execution_count": 58,
   "id": "5df14b82",
   "metadata": {
    "vscode": {
     "languageId": "r"
    }
   },
   "outputs": [
    {
     "data": {
      "text/html": [
       "<table class=\"dataframe\">\n",
       "<caption>A tibble: 1 × 2</caption>\n",
       "<thead>\n",
       "\t<tr><th scope=col>ocupados</th><th scope=col>ocupados_cv</th></tr>\n",
       "\t<tr><th scope=col>&lt;dbl&gt;</th><th scope=col>&lt;dbl&gt;</th></tr>\n",
       "</thead>\n",
       "<tbody>\n",
       "\t<tr><td>5010045</td><td>0.01575094</td></tr>\n",
       "</tbody>\n",
       "</table>\n"
      ],
      "text/latex": [
       "A tibble: 1 × 2\n",
       "\\begin{tabular}{ll}\n",
       " ocupados & ocupados\\_cv\\\\\n",
       " <dbl> & <dbl>\\\\\n",
       "\\hline\n",
       "\t 5010045 & 0.01575094\\\\\n",
       "\\end{tabular}\n"
      ],
      "text/markdown": [
       "\n",
       "A tibble: 1 × 2\n",
       "\n",
       "| ocupados &lt;dbl&gt; | ocupados_cv &lt;dbl&gt; |\n",
       "|---|---|\n",
       "| 5010045 | 0.01575094 |\n",
       "\n"
      ],
      "text/plain": [
       "  ocupados ocupados_cv\n",
       "1 5010045  0.01575094 "
      ]
     },
     "metadata": {},
     "output_type": "display_data"
    }
   ],
   "source": [
    "dm%>%\n",
    "filter(r_def ==00, (c_res == 1 | c_res == 3),\n",
    "         eda >= 15  & eda <= 98) %>%\n",
    "filter(ent == 9, clase2 == 1) %>%\n",
    "summarize(ocupados = survey_total(vartype=\"cv\"))\n"
   ]
  },
  {
   "cell_type": "code",
   "execution_count": 59,
   "id": "45955d43",
   "metadata": {
    "vscode": {
     "languageId": "r"
    }
   },
   "outputs": [
    {
     "data": {
      "text/html": [
       "<table class=\"dataframe\">\n",
       "<caption>A tibble: 2 × 5</caption>\n",
       "<thead>\n",
       "\t<tr><th scope=col>gpoedad</th><th scope=col>ocupados</th><th scope=col>ocupados_cv</th><th scope=col>pct</th><th scope=col>pct_cv</th></tr>\n",
       "\t<tr><th scope=col>&lt;chr&gt;</th><th scope=col>&lt;dbl&gt;</th><th scope=col>&lt;dbl&gt;</th><th scope=col>&lt;dbl&gt;</th><th scope=col>&lt;dbl&gt;</th></tr>\n",
       "</thead>\n",
       "<tbody>\n",
       "\t<tr><td>jovenes</td><td>1057829</td><td>0.03751445</td><td>21.11416</td><td>0.031319503</td></tr>\n",
       "\t<tr><td>otros  </td><td>3952216</td><td>0.01645091</td><td>78.88584</td><td>0.008382811</td></tr>\n",
       "</tbody>\n",
       "</table>\n"
      ],
      "text/latex": [
       "A tibble: 2 × 5\n",
       "\\begin{tabular}{lllll}\n",
       " gpoedad & ocupados & ocupados\\_cv & pct & pct\\_cv\\\\\n",
       " <chr> & <dbl> & <dbl> & <dbl> & <dbl>\\\\\n",
       "\\hline\n",
       "\t jovenes & 1057829 & 0.03751445 & 21.11416 & 0.031319503\\\\\n",
       "\t otros   & 3952216 & 0.01645091 & 78.88584 & 0.008382811\\\\\n",
       "\\end{tabular}\n"
      ],
      "text/markdown": [
       "\n",
       "A tibble: 2 × 5\n",
       "\n",
       "| gpoedad &lt;chr&gt; | ocupados &lt;dbl&gt; | ocupados_cv &lt;dbl&gt; | pct &lt;dbl&gt; | pct_cv &lt;dbl&gt; |\n",
       "|---|---|---|---|---|\n",
       "| jovenes | 1057829 | 0.03751445 | 21.11416 | 0.031319503 |\n",
       "| otros   | 3952216 | 0.01645091 | 78.88584 | 0.008382811 |\n",
       "\n"
      ],
      "text/plain": [
       "  gpoedad ocupados ocupados_cv pct      pct_cv     \n",
       "1 jovenes 1057829  0.03751445  21.11416 0.031319503\n",
       "2 otros   3952216  0.01645091  78.88584 0.008382811"
      ]
     },
     "metadata": {},
     "output_type": "display_data"
    }
   ],
   "source": [
    "dm%>%\n",
    "filter(r_def ==00, (c_res == 1 | c_res == 3),\n",
    "         eda >= 15  & eda <= 98) %>%\n",
    "filter(ent == 9, clase2 == 1) %>%\n",
    "group_by(gpoedad) %>%\n",
    "summarize(ocupados = survey_total(vartype=\"cv\"),\n",
    "pct= survey_prop( vartype=\"cv\")) %>%\n",
    "ungroup() %>%\n",
    "mutate(pct = pct*100) \n"
   ]
  },
  {
   "cell_type": "code",
   "execution_count": 60,
   "id": "e92b27cc",
   "metadata": {
    "vscode": {
     "languageId": "r"
    }
   },
   "outputs": [
    {
     "data": {
      "text/html": [
       "<table class=\"dataframe\">\n",
       "<caption>A tabyl: 5 × 6</caption>\n",
       "<thead>\n",
       "\t<tr><th scope=col>gpoedad</th><th scope=col>condinf</th><th scope=col>ocupados</th><th scope=col>ocupados_cv</th><th scope=col>pct</th><th scope=col>pct_cv</th></tr>\n",
       "\t<tr><th scope=col>&lt;chr&gt;</th><th scope=col>&lt;chr&gt;</th><th scope=col>&lt;dbl&gt;</th><th scope=col>&lt;dbl&gt;</th><th scope=col>&lt;dbl&gt;</th><th scope=col>&lt;dbl&gt;</th></tr>\n",
       "</thead>\n",
       "<tbody>\n",
       "\t<tr><td>jovenes</td><td>condiciones de formalidad  </td><td> 519838</td><td>0.05223346</td><td> 49.14197</td><td>0.03636801</td></tr>\n",
       "\t<tr><td>jovenes</td><td>condiciones de informalidad</td><td> 537991</td><td>0.05141782</td><td> 50.85803</td><td>0.03514087</td></tr>\n",
       "\t<tr><td>otros  </td><td>condiciones de formalidad  </td><td>2211975</td><td>0.02424996</td><td> 55.96797</td><td>0.01804527</td></tr>\n",
       "\t<tr><td>otros  </td><td>condiciones de informalidad</td><td>1740241</td><td>0.02841056</td><td> 44.03203</td><td>0.02293687</td></tr>\n",
       "\t<tr><td>Total  </td><td>-                          </td><td>5010045</td><td>0.15631179</td><td>200.00000</td><td>0.11249102</td></tr>\n",
       "</tbody>\n",
       "</table>\n"
      ],
      "text/latex": [
       "A tabyl: 5 × 6\n",
       "\\begin{tabular}{llllll}\n",
       " gpoedad & condinf & ocupados & ocupados\\_cv & pct & pct\\_cv\\\\\n",
       " <chr> & <chr> & <dbl> & <dbl> & <dbl> & <dbl>\\\\\n",
       "\\hline\n",
       "\t jovenes & condiciones de formalidad   &  519838 & 0.05223346 &  49.14197 & 0.03636801\\\\\n",
       "\t jovenes & condiciones de informalidad &  537991 & 0.05141782 &  50.85803 & 0.03514087\\\\\n",
       "\t otros   & condiciones de formalidad   & 2211975 & 0.02424996 &  55.96797 & 0.01804527\\\\\n",
       "\t otros   & condiciones de informalidad & 1740241 & 0.02841056 &  44.03203 & 0.02293687\\\\\n",
       "\t Total   & -                           & 5010045 & 0.15631179 & 200.00000 & 0.11249102\\\\\n",
       "\\end{tabular}\n"
      ],
      "text/markdown": [
       "\n",
       "A tabyl: 5 × 6\n",
       "\n",
       "| gpoedad &lt;chr&gt; | condinf &lt;chr&gt; | ocupados &lt;dbl&gt; | ocupados_cv &lt;dbl&gt; | pct &lt;dbl&gt; | pct_cv &lt;dbl&gt; |\n",
       "|---|---|---|---|---|---|\n",
       "| jovenes | condiciones de formalidad   |  519838 | 0.05223346 |  49.14197 | 0.03636801 |\n",
       "| jovenes | condiciones de informalidad |  537991 | 0.05141782 |  50.85803 | 0.03514087 |\n",
       "| otros   | condiciones de formalidad   | 2211975 | 0.02424996 |  55.96797 | 0.01804527 |\n",
       "| otros   | condiciones de informalidad | 1740241 | 0.02841056 |  44.03203 | 0.02293687 |\n",
       "| Total   | -                           | 5010045 | 0.15631179 | 200.00000 | 0.11249102 |\n",
       "\n"
      ],
      "text/plain": [
       "  gpoedad condinf                     ocupados ocupados_cv pct       pct_cv    \n",
       "1 jovenes condiciones de formalidad    519838  0.05223346   49.14197 0.03636801\n",
       "2 jovenes condiciones de informalidad  537991  0.05141782   50.85803 0.03514087\n",
       "3 otros   condiciones de formalidad   2211975  0.02424996   55.96797 0.01804527\n",
       "4 otros   condiciones de informalidad 1740241  0.02841056   44.03203 0.02293687\n",
       "5 Total   -                           5010045  0.15631179  200.00000 0.11249102"
      ]
     },
     "metadata": {},
     "output_type": "display_data"
    }
   ],
   "source": [
    "#Tasa de informalidad laboral\n",
    "dm%>%\n",
    "filter(r_def ==00, (c_res == 1 | c_res == 3),\n",
    "         eda >= 15  & eda <= 98) %>%\n",
    "filter(ent == 9, clase2 == 1) %>%\n",
    "mutate(condinf=\n",
    "case_when(mh_col %in% c(1,3,5,7,9) ~ \"condiciones de informalidad\",\n",
    "TRUE ~ \"condiciones de formalidad\")) %>% \n",
    "group_by(gpoedad,condinf) %>%\n",
    "summarize(ocupados = survey_total(vartype=\"cv\"),\n",
    "pct= survey_prop( vartype=\"cv\")) %>%\n",
    "ungroup() %>%\n",
    "mutate(pct = pct*100) %>%\n",
    "janitor::adorn_totals()"
   ]
  },
  {
   "cell_type": "code",
   "execution_count": null,
   "id": "f236aaa3",
   "metadata": {
    "vscode": {
     "languageId": "r"
    }
   },
   "outputs": [
    {
     "data": {
      "text/html": [
       "<table class=\"dataframe\">\n",
       "<caption>A tabyl: 5 × 6</caption>\n",
       "<thead>\n",
       "\t<tr><th scope=col>gpoedad</th><th scope=col>concrit</th><th scope=col>ocupados</th><th scope=col>ocupados_cv</th><th scope=col>pct</th><th scope=col>pct_cv</th></tr>\n",
       "\t<tr><th scope=col>&lt;chr&gt;</th><th scope=col>&lt;chr&gt;</th><th scope=col>&lt;dbl&gt;</th><th scope=col>&lt;dbl&gt;</th><th scope=col>&lt;dbl&gt;</th><th scope=col>&lt;dbl&gt;</th></tr>\n",
       "</thead>\n",
       "<tbody>\n",
       "\t<tr><td>jovenes</td><td>Criticas</td><td> 347611</td><td>0.06655130</td><td> 32.86079</td><td>0.05347480</td></tr>\n",
       "\t<tr><td>jovenes</td><td>Normales</td><td> 710218</td><td>0.04486615</td><td> 67.13921</td><td>0.02617285</td></tr>\n",
       "\t<tr><td>otros  </td><td>Criticas</td><td>1044719</td><td>0.03849435</td><td> 26.43375</td><td>0.03425682</td></tr>\n",
       "\t<tr><td>otros  </td><td>Normales</td><td>2907497</td><td>0.02021429</td><td> 73.56625</td><td>0.01230913</td></tr>\n",
       "\t<tr><td>Total  </td><td>-       </td><td>5010045</td><td>0.17012609</td><td>200.00000</td><td>0.12621360</td></tr>\n",
       "</tbody>\n",
       "</table>\n"
      ],
      "text/latex": [
       "A tabyl: 5 × 6\n",
       "\\begin{tabular}{llllll}\n",
       " gpoedad & concrit & ocupados & ocupados\\_cv & pct & pct\\_cv\\\\\n",
       " <chr> & <chr> & <dbl> & <dbl> & <dbl> & <dbl>\\\\\n",
       "\\hline\n",
       "\t jovenes & Criticas &  347611 & 0.06655130 &  32.86079 & 0.05347480\\\\\n",
       "\t jovenes & Normales &  710218 & 0.04486615 &  67.13921 & 0.02617285\\\\\n",
       "\t otros   & Criticas & 1044719 & 0.03849435 &  26.43375 & 0.03425682\\\\\n",
       "\t otros   & Normales & 2907497 & 0.02021429 &  73.56625 & 0.01230913\\\\\n",
       "\t Total   & -        & 5010045 & 0.17012609 & 200.00000 & 0.12621360\\\\\n",
       "\\end{tabular}\n"
      ],
      "text/markdown": [
       "\n",
       "A tabyl: 5 × 6\n",
       "\n",
       "| gpoedad &lt;chr&gt; | concrit &lt;chr&gt; | ocupados &lt;dbl&gt; | ocupados_cv &lt;dbl&gt; | pct &lt;dbl&gt; | pct_cv &lt;dbl&gt; |\n",
       "|---|---|---|---|---|---|\n",
       "| jovenes | Criticas |  347611 | 0.06655130 |  32.86079 | 0.05347480 |\n",
       "| jovenes | Normales |  710218 | 0.04486615 |  67.13921 | 0.02617285 |\n",
       "| otros   | Criticas | 1044719 | 0.03849435 |  26.43375 | 0.03425682 |\n",
       "| otros   | Normales | 2907497 | 0.02021429 |  73.56625 | 0.01230913 |\n",
       "| Total   | -        | 5010045 | 0.17012609 | 200.00000 | 0.12621360 |\n",
       "\n"
      ],
      "text/plain": [
       "  gpoedad concrit  ocupados ocupados_cv pct       pct_cv    \n",
       "1 jovenes Criticas  347611  0.06655130   32.86079 0.05347480\n",
       "2 jovenes Normales  710218  0.04486615   67.13921 0.02617285\n",
       "3 otros   Criticas 1044719  0.03849435   26.43375 0.03425682\n",
       "4 otros   Normales 2907497  0.02021429   73.56625 0.01230913\n",
       "5 Total   -        5010045  0.17012609  200.00000 0.12621360"
      ]
     },
     "metadata": {},
     "output_type": "display_data"
    },
    {
     "ename": "",
     "evalue": "",
     "output_type": "error",
     "traceback": [
      "\u001b[1;31mThe Kernel crashed while executing code in the current cell or a previous cell. \n",
      "\u001b[1;31mPlease review the code in the cell(s) to identify a possible cause of the failure. \n",
      "\u001b[1;31mClick <a href='https://aka.ms/vscodeJupyterKernelCrash'>here</a> for more info. \n",
      "\u001b[1;31mView Jupyter <a href='command:jupyter.viewOutput'>log</a> for further details."
     ]
    }
   ],
   "source": [
    "#Tasa de condiciones críticas de ocupación\n",
    "dm%>%\n",
    "filter(r_def ==00, (c_res == 1 | c_res == 3),\n",
    "         eda >= 15  & eda <= 98) %>%\n",
    "filter(ent == 9, clase2 == 1) %>%\n",
    "mutate(concrit=case_when(tcco ==0 ~ \"Normales\",\n",
    "TRUE ~ \"Criticas\")) %>%\n",
    "group_by(gpoedad,concrit) %>%\n",
    "summarize(ocupados = survey_total(vartype=\"cv\"),\n",
    "pct= survey_prop( vartype=\"cv\")) %>%\n",
    "ungroup() %>%\n",
    "mutate(pct = pct*100) %>%\n",
    "janitor::adorn_totals()"
   ]
  }
 ],
 "metadata": {
  "kernelspec": {
   "display_name": "R",
   "language": "R",
   "name": "ir"
  },
  "language_info": {
   "codemirror_mode": "r",
   "file_extension": ".r",
   "mimetype": "text/x-r-source",
   "name": "R",
   "pygments_lexer": "r",
   "version": "4.4.1"
  }
 },
 "nbformat": 4,
 "nbformat_minor": 5
}
