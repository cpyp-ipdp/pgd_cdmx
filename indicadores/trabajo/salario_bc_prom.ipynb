{
 "cells": [
  {
   "cell_type": "markdown",
   "id": "ef6be259",
   "metadata": {},
   "source": [
    "#### Cálculo de salario base de cotización promedio nacional y CDMX"
   ]
  },
  {
   "cell_type": "code",
   "execution_count": 20,
   "id": "7509bf8f",
   "metadata": {
    "vscode": {
     "languageId": "r"
    }
   },
   "outputs": [],
   "source": [
    "rm(list=ls())\n",
    "\n",
    "# Librerías ====\n",
    "if(!require('pacman')) install.packages('pacman')\n",
    "pacman::p_load(tidyverse, showtext, srvyr)"
   ]
  },
  {
   "cell_type": "code",
   "execution_count": 21,
   "id": "bcece57b",
   "metadata": {
    "vscode": {
     "languageId": "r"
    }
   },
   "outputs": [
    {
     "name": "stderr",
     "output_type": "stream",
     "text": [
      "Warning message in grepl(x = string, pattern = current_unicode, fixed = TRUE):\n",
      "\"input string 8 is invalid UTF-8\"\n",
      "Warning message in grepl(x = string, pattern = current_unicode, fixed = TRUE):\n",
      "\"input string 8 is invalid UTF-8\"\n",
      "Warning message in grepl(x = string, pattern = current_unicode, fixed = TRUE):\n",
      "\"input string 8 is invalid UTF-8\"\n",
      "Warning message in grepl(x = string, pattern = current_unicode, fixed = TRUE):\n",
      "\"input string 8 is invalid UTF-8\"\n",
      "Warning message in grepl(x = string, pattern = current_unicode, fixed = TRUE):\n",
      "\"input string 8 is invalid UTF-8\"\n",
      "Warning message in grepl(x = string, pattern = current_unicode, fixed = TRUE):\n",
      "\"input string 8 is invalid UTF-8\"\n",
      "Warning message in grepl(x = string, pattern = current_unicode, fixed = TRUE):\n",
      "\"input string 8 is invalid UTF-8\"\n",
      "Warning message in grepl(x = string, pattern = current_unicode, fixed = TRUE):\n",
      "\"input string 8 is invalid UTF-8\"\n",
      "Warning message in grepl(x = string, pattern = current_unicode, fixed = TRUE):\n",
      "\"input string 8 is invalid UTF-8\"\n",
      "Warning message in grepl(x = string, pattern = current_unicode, fixed = TRUE):\n",
      "\"input string 8 is invalid UTF-8\"\n"
     ]
    }
   ],
   "source": [
    "options(timeout = 9000)\n",
    "imss<-read.csv(\"http://datos.imss.gob.mx/sites/default/files/asg-2025-07-31.csv\", sep = \"|\",check.names = FALSE)%>%\n",
    "janitor::clean_names()"
   ]
  },
  {
   "cell_type": "code",
   "execution_count": 22,
   "id": "f50ebfb4",
   "metadata": {
    "vscode": {
     "languageId": "r"
    }
   },
   "outputs": [
    {
     "name": "stdout",
     "output_type": "stream",
     "text": [
      "'data.frame':\t4648079 obs. of  29 variables:\n",
      " $ cve_delegacion    : int  1 1 1 1 1 1 1 1 1 1 ...\n",
      " $ cve_subdelegacion : int  1 1 1 1 1 1 1 1 1 1 ...\n",
      " $ cve_entidad       : int  1 1 1 1 1 1 1 1 1 1 ...\n",
      " $ cve_municipio     : chr  \"A01\" \"A01\" \"A01\" \"A01\" ...\n",
      " $ sector_economico_1: int  NA NA NA NA NA NA NA NA NA NA ...\n",
      " $ sector_economico_2: int  NA NA NA NA NA NA NA NA NA NA ...\n",
      " $ sector_economico_4: int  NA NA NA NA NA NA NA NA NA NA ...\n",
      " $ tama_o_patron     : chr  NA NA NA NA ...\n",
      " $ sexo              : int  1 1 1 1 1 1 1 1 1 1 ...\n",
      " $ rango_edad        : chr  \"E1\" \"E10\" \"E11\" \"E12\" ...\n",
      " $ rango_salarial    : chr  NA NA NA NA ...\n",
      " $ rango_uma         : chr  NA NA NA NA ...\n",
      " $ asegurados        : int  150 928 769 521 335 450 14147 8115 2024 276 ...\n",
      " $ no_trabajadores   : int  150 928 769 521 335 450 14147 8115 2024 276 ...\n",
      " $ ta                : int  0 0 0 0 0 0 0 0 0 0 ...\n",
      " $ teu               : int  0 0 0 0 0 0 0 0 0 0 ...\n",
      " $ tec               : int  0 0 0 0 0 0 0 0 0 0 ...\n",
      " $ tpu               : int  0 0 0 0 0 0 0 0 0 0 ...\n",
      " $ tpc               : int  0 0 0 0 0 0 0 0 0 0 ...\n",
      " $ ta_sal            : int  0 0 0 0 0 0 0 0 0 0 ...\n",
      " $ teu_sal           : int  0 0 0 0 0 0 0 0 0 0 ...\n",
      " $ tec_sal           : int  0 0 0 0 0 0 0 0 0 0 ...\n",
      " $ tpu_sal           : int  0 0 0 0 0 0 0 0 0 0 ...\n",
      " $ tpc_sal           : int  0 0 0 0 0 0 0 0 0 0 ...\n",
      " $ masa_sal_ta       : num  0 0 0 0 0 0 0 0 0 0 ...\n",
      " $ masa_sal_teu      : num  0 0 0 0 0 0 0 0 0 0 ...\n",
      " $ masa_sal_tec      : num  0 0 0 0 0 0 0 0 0 0 ...\n",
      " $ masa_sal_tpu      : num  0 0 0 0 0 0 0 0 0 0 ...\n",
      " $ masa_sal_tpc      : num  0 0 0 0 0 0 0 0 0 0 ...\n"
     ]
    }
   ],
   "source": [
    "str(imss)"
   ]
  },
  {
   "cell_type": "code",
   "execution_count": 23,
   "id": "dcbfa9b3",
   "metadata": {
    "vscode": {
     "languageId": "r"
    }
   },
   "outputs": [
    {
     "name": "stdout",
     "output_type": "stream",
     "text": [
      "[1] \"Trabajadores asegurados totales, masa salarial y salario base de cotización promedio nacional\"\n"
     ]
    },
    {
     "data": {
      "text/html": [
       "<table class=\"dataframe\">\n",
       "<caption>A data.frame: 1 × 3</caption>\n",
       "<thead>\n",
       "\t<tr><th scope=col>trabajadores</th><th scope=col>masa</th><th scope=col>promedio</th></tr>\n",
       "\t<tr><th scope=col>&lt;int&gt;</th><th scope=col>&lt;dbl&gt;</th><th scope=col>&lt;dbl&gt;</th></tr>\n",
       "</thead>\n",
       "<tbody>\n",
       "\t<tr><td>23525007</td><td>14450914400</td><td>614.28</td></tr>\n",
       "</tbody>\n",
       "</table>\n"
      ],
      "text/latex": [
       "A data.frame: 1 × 3\n",
       "\\begin{tabular}{lll}\n",
       " trabajadores & masa & promedio\\\\\n",
       " <int> & <dbl> & <dbl>\\\\\n",
       "\\hline\n",
       "\t 23525007 & 14450914400 & 614.28\\\\\n",
       "\\end{tabular}\n"
      ],
      "text/markdown": [
       "\n",
       "A data.frame: 1 × 3\n",
       "\n",
       "| trabajadores &lt;int&gt; | masa &lt;dbl&gt; | promedio &lt;dbl&gt; |\n",
       "|---|---|---|\n",
       "| 23525007 | 14450914400 | 614.28 |\n",
       "\n"
      ],
      "text/plain": [
       "  trabajadores masa        promedio\n",
       "1 23525007     14450914400 614.28  "
      ]
     },
     "metadata": {},
     "output_type": "display_data"
    }
   ],
   "source": [
    "print(\"Trabajadores asegurados totales, masa salarial y salario base de cotización promedio nacional\")\n",
    "imss%>%\n",
    "summarise(trabajadores=sum(ta_sal),masa=sum(masa_sal_ta))%>%\n",
    "mutate(promedio=round(masa/trabajadores,2))"
   ]
  },
  {
   "cell_type": "code",
   "execution_count": 24,
   "id": "ba9a8955",
   "metadata": {
    "vscode": {
     "languageId": "r"
    }
   },
   "outputs": [
    {
     "name": "stdout",
     "output_type": "stream",
     "text": [
      "[1] \"Trabajadores asegurados totales, masa salarial y salario base de cotización promedio CDMX\"\n"
     ]
    },
    {
     "data": {
      "text/html": [
       "<table class=\"dataframe\">\n",
       "<caption>A data.frame: 1 × 3</caption>\n",
       "<thead>\n",
       "\t<tr><th scope=col>trabajadores</th><th scope=col>masa</th><th scope=col>promedio</th></tr>\n",
       "\t<tr><th scope=col>&lt;int&gt;</th><th scope=col>&lt;dbl&gt;</th><th scope=col>&lt;dbl&gt;</th></tr>\n",
       "</thead>\n",
       "<tbody>\n",
       "\t<tr><td>4056385</td><td>2849601792</td><td>702.5</td></tr>\n",
       "</tbody>\n",
       "</table>\n"
      ],
      "text/latex": [
       "A data.frame: 1 × 3\n",
       "\\begin{tabular}{lll}\n",
       " trabajadores & masa & promedio\\\\\n",
       " <int> & <dbl> & <dbl>\\\\\n",
       "\\hline\n",
       "\t 4056385 & 2849601792 & 702.5\\\\\n",
       "\\end{tabular}\n"
      ],
      "text/markdown": [
       "\n",
       "A data.frame: 1 × 3\n",
       "\n",
       "| trabajadores &lt;int&gt; | masa &lt;dbl&gt; | promedio &lt;dbl&gt; |\n",
       "|---|---|---|\n",
       "| 4056385 | 2849601792 | 702.5 |\n",
       "\n"
      ],
      "text/plain": [
       "  trabajadores masa       promedio\n",
       "1 4056385      2849601792 702.5   "
      ]
     },
     "metadata": {},
     "output_type": "display_data"
    }
   ],
   "source": [
    "print(\"Trabajadores asegurados totales, masa salarial y salario base de cotización promedio CDMX\")\n",
    "imss%>%\n",
    "filter(cve_entidad==9)%>%\n",
    "summarise(trabajadores=sum(ta_sal),masa=sum(masa_sal_ta))%>%\n",
    "mutate(promedio=round(masa/trabajadores,2))"
   ]
  },
  {
   "cell_type": "code",
   "execution_count": null,
   "id": "5c0b8c1b",
   "metadata": {
    "vscode": {
     "languageId": "r"
    }
   },
   "outputs": [
    {
     "data": {
      "text/html": [
       "<table class=\"dataframe\">\n",
       "<caption>A tibble: 32 × 4</caption>\n",
       "<thead>\n",
       "\t<tr><th scope=col>cve_entidad</th><th scope=col>trabajadores</th><th scope=col>masa</th><th scope=col>promedio</th></tr>\n",
       "\t<tr><th scope=col>&lt;int&gt;</th><th scope=col>&lt;int&gt;</th><th scope=col>&lt;dbl&gt;</th><th scope=col>&lt;dbl&gt;</th></tr>\n",
       "</thead>\n",
       "<tbody>\n",
       "\t<tr><td> 2</td><td>1014174</td><td> 739531573</td><td>729.20</td></tr>\n",
       "\t<tr><td> 9</td><td>4056385</td><td>2849601792</td><td>702.50</td></tr>\n",
       "\t<tr><td>19</td><td>1946056</td><td>1347308059</td><td>692.33</td></tr>\n",
       "\t<tr><td>22</td><td> 712744</td><td> 491325153</td><td>689.34</td></tr>\n",
       "\t<tr><td>28</td><td> 692686</td><td> 461105930</td><td>665.68</td></tr>\n",
       "\t<tr><td> 8</td><td> 968901</td><td> 640760317</td><td>661.33</td></tr>\n",
       "\t<tr><td>24</td><td> 475578</td><td> 309191435</td><td>650.14</td></tr>\n",
       "\t<tr><td> 5</td><td> 858954</td><td> 546304769</td><td>636.01</td></tr>\n",
       "\t<tr><td> 4</td><td> 139372</td><td>  87815746</td><td>630.08</td></tr>\n",
       "\t<tr><td>14</td><td>2028554</td><td>1242084073</td><td>612.30</td></tr>\n",
       "\t<tr><td>32</td><td> 189475</td><td> 115934449</td><td>611.87</td></tr>\n",
       "\t<tr><td> 3</td><td> 226571</td><td> 136837547</td><td>603.95</td></tr>\n",
       "\t<tr><td> 1</td><td> 365709</td><td> 220527349</td><td>603.01</td></tr>\n",
       "\t<tr><td>26</td><td> 641017</td><td> 385276073</td><td>601.04</td></tr>\n",
       "\t<tr><td>30</td><td> 741506</td><td> 444512142</td><td>599.47</td></tr>\n",
       "\t<tr><td>17</td><td> 215148</td><td> 121470456</td><td>564.59</td></tr>\n",
       "\t<tr><td> 6</td><td> 153402</td><td>  86534056</td><td>564.10</td></tr>\n",
       "\t<tr><td>11</td><td>1124079</td><td> 625611968</td><td>556.56</td></tr>\n",
       "\t<tr><td>23</td><td> 527517</td><td> 293015911</td><td>555.46</td></tr>\n",
       "\t<tr><td>27</td><td> 195040</td><td> 108309808</td><td>555.32</td></tr>\n",
       "\t<tr><td>21</td><td> 658337</td><td> 364270951</td><td>553.32</td></tr>\n",
       "\t<tr><td> 7</td><td> 253701</td><td> 135281211</td><td>533.23</td></tr>\n",
       "\t<tr><td>31</td><td> 431504</td><td> 226562021</td><td>525.05</td></tr>\n",
       "\t<tr><td>16</td><td> 486373</td><td> 254350557</td><td>522.95</td></tr>\n",
       "\t<tr><td>13</td><td> 286854</td><td> 149338788</td><td>520.61</td></tr>\n",
       "\t<tr><td>29</td><td> 116615</td><td>  60566275</td><td>519.37</td></tr>\n",
       "\t<tr><td>12</td><td> 160044</td><td>  81722124</td><td>510.62</td></tr>\n",
       "\t<tr><td>20</td><td> 225013</td><td> 114790699</td><td>510.15</td></tr>\n",
       "\t<tr><td>10</td><td> 258167</td><td> 131087481</td><td>507.76</td></tr>\n",
       "\t<tr><td>18</td><td> 180768</td><td>  90777534</td><td>502.18</td></tr>\n",
       "\t<tr><td>15</td><td>2625939</td><td>1306185519</td><td>497.42</td></tr>\n",
       "\t<tr><td>25</td><td> 568824</td><td> 282922634</td><td>497.38</td></tr>\n",
       "</tbody>\n",
       "</table>\n"
      ],
      "text/latex": [
       "A tibble: 32 × 4\n",
       "\\begin{tabular}{llll}\n",
       " cve\\_entidad & trabajadores & masa & promedio\\\\\n",
       " <int> & <int> & <dbl> & <dbl>\\\\\n",
       "\\hline\n",
       "\t  2 & 1014174 &  739531573 & 729.20\\\\\n",
       "\t  9 & 4056385 & 2849601792 & 702.50\\\\\n",
       "\t 19 & 1946056 & 1347308059 & 692.33\\\\\n",
       "\t 22 &  712744 &  491325153 & 689.34\\\\\n",
       "\t 28 &  692686 &  461105930 & 665.68\\\\\n",
       "\t  8 &  968901 &  640760317 & 661.33\\\\\n",
       "\t 24 &  475578 &  309191435 & 650.14\\\\\n",
       "\t  5 &  858954 &  546304769 & 636.01\\\\\n",
       "\t  4 &  139372 &   87815746 & 630.08\\\\\n",
       "\t 14 & 2028554 & 1242084073 & 612.30\\\\\n",
       "\t 32 &  189475 &  115934449 & 611.87\\\\\n",
       "\t  3 &  226571 &  136837547 & 603.95\\\\\n",
       "\t  1 &  365709 &  220527349 & 603.01\\\\\n",
       "\t 26 &  641017 &  385276073 & 601.04\\\\\n",
       "\t 30 &  741506 &  444512142 & 599.47\\\\\n",
       "\t 17 &  215148 &  121470456 & 564.59\\\\\n",
       "\t  6 &  153402 &   86534056 & 564.10\\\\\n",
       "\t 11 & 1124079 &  625611968 & 556.56\\\\\n",
       "\t 23 &  527517 &  293015911 & 555.46\\\\\n",
       "\t 27 &  195040 &  108309808 & 555.32\\\\\n",
       "\t 21 &  658337 &  364270951 & 553.32\\\\\n",
       "\t  7 &  253701 &  135281211 & 533.23\\\\\n",
       "\t 31 &  431504 &  226562021 & 525.05\\\\\n",
       "\t 16 &  486373 &  254350557 & 522.95\\\\\n",
       "\t 13 &  286854 &  149338788 & 520.61\\\\\n",
       "\t 29 &  116615 &   60566275 & 519.37\\\\\n",
       "\t 12 &  160044 &   81722124 & 510.62\\\\\n",
       "\t 20 &  225013 &  114790699 & 510.15\\\\\n",
       "\t 10 &  258167 &  131087481 & 507.76\\\\\n",
       "\t 18 &  180768 &   90777534 & 502.18\\\\\n",
       "\t 15 & 2625939 & 1306185519 & 497.42\\\\\n",
       "\t 25 &  568824 &  282922634 & 497.38\\\\\n",
       "\\end{tabular}\n"
      ],
      "text/markdown": [
       "\n",
       "A tibble: 32 × 4\n",
       "\n",
       "| cve_entidad &lt;int&gt; | trabajadores &lt;int&gt; | masa &lt;dbl&gt; | promedio &lt;dbl&gt; |\n",
       "|---|---|---|---|\n",
       "|  2 | 1014174 |  739531573 | 729.20 |\n",
       "|  9 | 4056385 | 2849601792 | 702.50 |\n",
       "| 19 | 1946056 | 1347308059 | 692.33 |\n",
       "| 22 |  712744 |  491325153 | 689.34 |\n",
       "| 28 |  692686 |  461105930 | 665.68 |\n",
       "|  8 |  968901 |  640760317 | 661.33 |\n",
       "| 24 |  475578 |  309191435 | 650.14 |\n",
       "|  5 |  858954 |  546304769 | 636.01 |\n",
       "|  4 |  139372 |   87815746 | 630.08 |\n",
       "| 14 | 2028554 | 1242084073 | 612.30 |\n",
       "| 32 |  189475 |  115934449 | 611.87 |\n",
       "|  3 |  226571 |  136837547 | 603.95 |\n",
       "|  1 |  365709 |  220527349 | 603.01 |\n",
       "| 26 |  641017 |  385276073 | 601.04 |\n",
       "| 30 |  741506 |  444512142 | 599.47 |\n",
       "| 17 |  215148 |  121470456 | 564.59 |\n",
       "|  6 |  153402 |   86534056 | 564.10 |\n",
       "| 11 | 1124079 |  625611968 | 556.56 |\n",
       "| 23 |  527517 |  293015911 | 555.46 |\n",
       "| 27 |  195040 |  108309808 | 555.32 |\n",
       "| 21 |  658337 |  364270951 | 553.32 |\n",
       "|  7 |  253701 |  135281211 | 533.23 |\n",
       "| 31 |  431504 |  226562021 | 525.05 |\n",
       "| 16 |  486373 |  254350557 | 522.95 |\n",
       "| 13 |  286854 |  149338788 | 520.61 |\n",
       "| 29 |  116615 |   60566275 | 519.37 |\n",
       "| 12 |  160044 |   81722124 | 510.62 |\n",
       "| 20 |  225013 |  114790699 | 510.15 |\n",
       "| 10 |  258167 |  131087481 | 507.76 |\n",
       "| 18 |  180768 |   90777534 | 502.18 |\n",
       "| 15 | 2625939 | 1306185519 | 497.42 |\n",
       "| 25 |  568824 |  282922634 | 497.38 |\n",
       "\n"
      ],
      "text/plain": [
       "   cve_entidad trabajadores masa       promedio\n",
       "1   2          1014174       739531573 729.20  \n",
       "2   9          4056385      2849601792 702.50  \n",
       "3  19          1946056      1347308059 692.33  \n",
       "4  22           712744       491325153 689.34  \n",
       "5  28           692686       461105930 665.68  \n",
       "6   8           968901       640760317 661.33  \n",
       "7  24           475578       309191435 650.14  \n",
       "8   5           858954       546304769 636.01  \n",
       "9   4           139372        87815746 630.08  \n",
       "10 14          2028554      1242084073 612.30  \n",
       "11 32           189475       115934449 611.87  \n",
       "12  3           226571       136837547 603.95  \n",
       "13  1           365709       220527349 603.01  \n",
       "14 26           641017       385276073 601.04  \n",
       "15 30           741506       444512142 599.47  \n",
       "16 17           215148       121470456 564.59  \n",
       "17  6           153402        86534056 564.10  \n",
       "18 11          1124079       625611968 556.56  \n",
       "19 23           527517       293015911 555.46  \n",
       "20 27           195040       108309808 555.32  \n",
       "21 21           658337       364270951 553.32  \n",
       "22  7           253701       135281211 533.23  \n",
       "23 31           431504       226562021 525.05  \n",
       "24 16           486373       254350557 522.95  \n",
       "25 13           286854       149338788 520.61  \n",
       "26 29           116615        60566275 519.37  \n",
       "27 12           160044        81722124 510.62  \n",
       "28 20           225013       114790699 510.15  \n",
       "29 10           258167       131087481 507.76  \n",
       "30 18           180768        90777534 502.18  \n",
       "31 15          2625939      1306185519 497.42  \n",
       "32 25           568824       282922634 497.38  "
      ]
     },
     "metadata": {},
     "output_type": "display_data"
    }
   ],
   "source": [
    "print(\"Trabajadores asegurados totales, masa salarial y salario base de cotización promedio por entidad federativa\")\n",
    "imss%>%\n",
    "group_by(cve_entidad)%>%\n",
    "summarise(trabajadores=sum(ta_sal),masa=sum(masa_sal_ta))%>%\n",
    "\n",
    "mutate(promedio=round(masa/trabajadores,2))%>%\n",
    "arrange(desc(promedio))"
   ]
  }
 ],
 "metadata": {
  "kernelspec": {
   "display_name": "R",
   "language": "R",
   "name": "ir"
  },
  "language_info": {
   "codemirror_mode": "r",
   "file_extension": ".r",
   "mimetype": "text/x-r-source",
   "name": "R",
   "pygments_lexer": "r",
   "version": "4.4.1"
  }
 },
 "nbformat": 4,
 "nbformat_minor": 5
}
