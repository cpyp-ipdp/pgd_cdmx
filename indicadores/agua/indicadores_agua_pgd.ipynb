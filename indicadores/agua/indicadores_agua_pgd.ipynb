{
 "cells": [
  {
   "cell_type": "code",
   "execution_count": 1,
   "id": "initial_id",
   "metadata": {
    "ExecuteTime": {
     "end_time": "2025-03-21T19:44:26.443093Z",
     "start_time": "2025-03-21T19:44:26.429789Z"
    },
    "collapsed": true,
    "vscode": {
     "languageId": "r"
    }
   },
   "outputs": [
    {
     "name": "stderr",
     "output_type": "stream",
     "text": [
      "Cargando paquete requerido: pacman\n",
      "\n",
      "Using GitHub PAT from the git credential store.\n",
      "\n",
      "Downloading GitHub repo cpyp-ipdp/funcionespgd@HEAD\n",
      "\n"
     ]
    },
    {
     "name": "stdout",
     "output_type": "stream",
     "text": [
      "rlang  (1.1.4 -> 1.1.6) [CRAN]\n",
      "glue   (1.7.0 -> 1.8.0) [CRAN]\n",
      "cli    (3.6.3 -> 3.6.5) [CRAN]\n",
      "tibble (3.2.1 -> 3.3.0) [CRAN]\n"
     ]
    },
    {
     "name": "stderr",
     "output_type": "stream",
     "text": [
      "Installing 4 packages: rlang, glue, cli, tibble\n",
      "\n",
      "Warning message:\n",
      "\"package 'tibble' is in use and will not be installed\"\n",
      "Installing packages into 'C:/Users/claud/AppData/Local/R/win-library/4.4'\n",
      "(as 'lib' is unspecified)\n",
      "\n"
     ]
    },
    {
     "name": "stdout",
     "output_type": "stream",
     "text": [
      "package 'rlang' successfully unpacked and MD5 sums checked\n"
     ]
    },
    {
     "name": "stderr",
     "output_type": "stream",
     "text": [
      "Warning message:\n",
      "\"cannot remove prior installation of package 'rlang'\"\n",
      "Warning message in file.copy(savedcopy, lib, recursive = TRUE):\n",
      "\"problema al copiar C:\\Users\\claud\\AppData\\Local\\R\\win-library\\4.4\\00LOCK\\rlang\\libs\\x64\\rlang.dll  a C:\\Users\\claud\\AppData\\Local\\R\\win-library\\4.4\\rlang\\libs\\x64\\rlang.dll: Permission denied\"\n",
      "Warning message:\n",
      "\"restored 'rlang'\"\n"
     ]
    },
    {
     "name": "stdout",
     "output_type": "stream",
     "text": [
      "package 'glue' successfully unpacked and MD5 sums checked\n"
     ]
    },
    {
     "name": "stderr",
     "output_type": "stream",
     "text": [
      "Warning message:\n",
      "\"cannot remove prior installation of package 'glue'\"\n",
      "Warning message in file.copy(savedcopy, lib, recursive = TRUE):\n",
      "\"problema al copiar C:\\Users\\claud\\AppData\\Local\\R\\win-library\\4.4\\00LOCK\\glue\\libs\\x64\\glue.dll  a C:\\Users\\claud\\AppData\\Local\\R\\win-library\\4.4\\glue\\libs\\x64\\glue.dll: Permission denied\"\n",
      "Warning message:\n",
      "\"restored 'glue'\"\n"
     ]
    },
    {
     "name": "stdout",
     "output_type": "stream",
     "text": [
      "package 'cli' successfully unpacked and MD5 sums checked\n"
     ]
    },
    {
     "name": "stderr",
     "output_type": "stream",
     "text": [
      "Warning message:\n",
      "\"cannot remove prior installation of package 'cli'\"\n",
      "Warning message in file.copy(savedcopy, lib, recursive = TRUE):\n",
      "\"problema al copiar C:\\Users\\claud\\AppData\\Local\\R\\win-library\\4.4\\00LOCK\\cli\\libs\\x64\\cli.dll  a C:\\Users\\claud\\AppData\\Local\\R\\win-library\\4.4\\cli\\libs\\x64\\cli.dll: Permission denied\"\n",
      "Warning message:\n",
      "\"restored 'cli'\"\n"
     ]
    },
    {
     "name": "stdout",
     "output_type": "stream",
     "text": [
      "\n",
      "The downloaded binary packages are in\n",
      "\tC:\\Users\\claud\\AppData\\Local\\Temp\\Rtmp8cX61A\\downloaded_packages\n",
      "\u001b[36m──\u001b[39m \u001b[36mR CMD build\u001b[39m \u001b[36m─────────────────────────────────────────────────────────────────\u001b[39m\n",
      "* checking for file 'C:\\Users\\claud\\AppData\\Local\\Temp\\Rtmp8cX61A\\remotes7fbc625a64fd\\cpyp-ipdp-funcionespgd-3fffa52/DESCRIPTION' ... OK\n",
      "* preparing 'funcionespgd':\n",
      "* checking DESCRIPTION meta-information ... OK\n",
      "* checking for LF line-endings in source and make files and shell scripts\n",
      "* checking for empty or unneeded directories\n",
      "Omitted 'LazyData' from DESCRIPTION\n",
      "* building 'funcionespgd_0.1.0.tar.gz'\n",
      "\n"
     ]
    },
    {
     "name": "stderr",
     "output_type": "stream",
     "text": [
      "Installing package into 'C:/Users/claud/AppData/Local/R/win-library/4.4'\n",
      "(as 'lib' is unspecified)\n",
      "\n"
     ]
    }
   ],
   "source": [
    "##Estimación de indicadores de agua\n",
    "#Se borra todo lo que se encuentra en el entorno\n",
    "\n",
    "#rm(list=ls())\n",
    "\n",
    "# Librerías ====\n",
    "if(!require('pacman')) install.packages('pacman')\n",
    "pacman::p_load(\n",
    "  tidyverse, srvyr, showtext,  # CRAN\n",
    "  remotes,                     # necesario para p_load_gh\n",
    "  install = TRUE\n",
    ")\n",
    "remotes::install_github(\"cpyp-ipdp/funcionespgd\", force = TRUE)\n",
    "library(funcionespgd)"
   ]
  },
  {
   "cell_type": "code",
   "execution_count": 2,
   "id": "5abf5a0493b32e83",
   "metadata": {
    "ExecuteTime": {
     "end_time": "2025-03-21T19:44:29.780070Z",
     "start_time": "2025-03-21T19:44:26.446908Z"
    },
    "vscode": {
     "languageId": "r"
    }
   },
   "outputs": [],
   "source": [
    "#Fuente para los gráficos\n",
    "font_add_google(\"Poppins\", \"pop\")\n",
    "showtext_auto()"
   ]
  },
  {
   "cell_type": "code",
   "execution_count": 3,
   "id": "be94f7e6b62f21a0",
   "metadata": {
    "ExecuteTime": {
     "end_time": "2025-03-21T19:44:29.796247Z",
     "start_time": "2025-03-21T19:44:29.784641Z"
    },
    "vscode": {
     "languageId": "r"
    }
   },
   "outputs": [],
   "source": [
    "#Crear directorio para guardar los archivos\n",
    "dir.create(\"data\", showWarnings = FALSE)"
   ]
  },
  {
   "cell_type": "markdown",
   "id": "2b73179e2b3d6896",
   "metadata": {},
   "source": [
    "### Indicador de disponibilidad de agua diaria en la vivienda\n",
    "\n",
    "Para este, se utilizan los datos de la Encuesta Nacional de Ingresos y Gastos de los Hogares (ENIGH). Dado que esa variable se empezó a capturar en 2020, únicamente se descargan los datos de ese año y 2022."
   ]
  },
  {
   "cell_type": "code",
   "execution_count": 4,
   "id": "ed5f0229abea097b",
   "metadata": {
    "ExecuteTime": {
     "end_time": "2025-03-21T19:44:29.813465Z",
     "start_time": "2025-03-21T19:44:29.800885Z"
    },
    "vscode": {
     "languageId": "r"
    }
   },
   "outputs": [],
   "source": [
    "url_basica<-\"https://www.inegi.org.mx/contenidos/programas/enigh/nc/\"\n",
    "segunda_parte<-\"microdatos/enigh\"\n",
    "fin<-\"_ns_viviendas_csv.zip\""
   ]
  },
  {
   "cell_type": "code",
   "execution_count": 5,
   "id": "7f2b4d7ce52772e1",
   "metadata": {
    "ExecuteTime": {
     "end_time": "2025-03-21T19:44:29.829067Z",
     "start_time": "2025-03-21T19:44:29.817778Z"
    },
    "vscode": {
     "languageId": "r"
    }
   },
   "outputs": [],
   "source": [
    "years<-c(\"2016\", \"2018\", \"2020\", \"2022\")"
   ]
  },
  {
   "cell_type": "code",
   "execution_count": 6,
   "id": "fa03745ff5b53dcf",
   "metadata": {
    "ExecuteTime": {
     "end_time": "2025-03-21T19:44:56.917296Z",
     "start_time": "2025-03-21T19:44:29.833478Z"
    },
    "vscode": {
     "languageId": "r"
    }
   },
   "outputs": [],
   "source": [
    "# Descargar los archivos, descomprimirlos y renombrarlos\n",
    "for (i in 1:length(years)) {\n",
    "  url <- paste0(url_basica, years[i], \"/\", segunda_parte, years[i], fin)\n",
    "  destfile <- paste0(\"data/\", years[i], fin)\n",
    "\n",
    "  # Descargar el archivo\n",
    "  download.file(url, destfile = destfile)\n",
    "\n",
    "  # Descomprimir el archivo\n",
    "  unzip(destfile, exdir = \"data\")\n",
    "\n",
    "  # Renombrar el archivo descomprimido a \"viviendas_xxxx.csv\"\n",
    "  file.rename(\n",
    "    from = \"data/viviendas.csv\",\n",
    "    to = paste0(\"data/viviendas_\", years[i], \".csv\")\n",
    "  )\n",
    "}"
   ]
  },
  {
   "cell_type": "code",
   "execution_count": 7,
   "id": "70509efebcd9f0e5",
   "metadata": {
    "ExecuteTime": {
     "end_time": "2025-03-21T19:44:56.951227Z",
     "start_time": "2025-03-21T19:44:56.925385Z"
    },
    "vscode": {
     "languageId": "r"
    }
   },
   "outputs": [],
   "source": [
    "  #Función de estimación\n",
    "  \n",
    "  estimacion <- function(path, variable) {\n",
    "  # Cargar los datos\n",
    "  datos <- read_csv(path,show_col_types = FALSE)\n",
    "\n",
    "  datos <- datos %>%\n",
    "    mutate(\n",
    "      across(starts_with(\"mat\") & where(is.character),\n",
    "             ~ replace_na(parse_number(.x, na = c('', 'NA', '&')), 0)),\n",
    "    cve_ent = case_when(\n",
    "      nchar(folioviv) == 9  ~ paste0(\"0\", substr(folioviv, 1, 1)),\n",
    "      nchar(folioviv) == 10 ~ substr(folioviv, 1, 2)\n",
    "    )) %>%\n",
    "    # Filtrar si entidad es 9\n",
    "  filter(cve_ent == \"09\")\n",
    "  \n",
    "  \n",
    "  \n",
    "    # Crear diseño muestral\n",
    "mydesign <- datos %>%\n",
    "    as_survey_design(ids = upm,\n",
    "                     strata = est_dis,\n",
    "                     weights = factor)\n",
    "    \n",
    "    \n",
    "      # Estimar viviendas con disponibilidad de agua diaria\n",
    "  dotacagua <- mydesign %>%\n",
    "group_by(dotac_agua) %>%\n",
    "    summarise(\n",
    "      viviendas = survey_total(vartype = \"cv\"),\n",
    "      porcentaje = survey_prop(vartype = \"cv\")\n",
    "    ) %>%\n",
    "  #Filtro de viviendas con agua diaria\n",
    "    filter(dotac_agua == 1) %>%\n",
    "    mutate(porcentaje = round(porcentaje * 100, 2),\n",
    "           year = substr(path, 16, 19))\n",
    "    \n",
    " dispagua<-mydesign %>%\n",
    "      #   mutate(agua_entubada = case_when(disp_agua %in% 1:2 ~ \"Sí\",\n",
    "       #                                     TRUE ~ \"No\")) %>%\n",
    "group_by(disp_agua) %>%\n",
    "    summarise(\n",
    "      viviendas = survey_total(vartype = \"cv\"),\n",
    "      porcentaje = survey_prop(vartype = \"cv\")\n",
    "    ) %>%\n",
    "  #Filtro de viviendas con agua diaria\n",
    "    #filter(agua_entubada == \"No\") %>%\n",
    "    filter(disp_agua == 1) %>%\n",
    "         mutate(porcentaje = round(porcentaje * 100, 2),\n",
    "           year = substr(path, 16, 19))\n",
    "    \n",
    "    \n",
    "    if (variable == \"dotacagua\") {\n",
    "    return(dotacagua)\n",
    "  }\n",
    "    if (variable == \"dispagua\") {\n",
    "    return(dispagua)\n",
    "  }\n",
    "  else {\n",
    "    stop(\"Variable no reconocida\")\n",
    "    }\n",
    "  }"
   ]
  },
  {
   "cell_type": "code",
   "execution_count": 8,
   "id": "43013c9906144f6",
   "metadata": {
    "ExecuteTime": {
     "end_time": "2025-03-21T19:45:01.607285Z",
     "start_time": "2025-03-21T19:44:56.966070Z"
    },
    "vscode": {
     "languageId": "r"
    }
   },
   "outputs": [
    {
     "name": "stderr",
     "output_type": "stream",
     "text": [
      "Warning message:\n",
      "\"\u001b[1m\u001b[22mOne or more parsing issues, call `problems()` on your data frame for details,\n",
      "e.g.:\n",
      "  dat <- vroom(...)\n",
      "  problems(dat)\"\n",
      "Warning message:\n",
      "\"\u001b[1m\u001b[22mOne or more parsing issues, call `problems()` on your data frame for details,\n",
      "e.g.:\n",
      "  dat <- vroom(...)\n",
      "  problems(dat)\"\n",
      "Warning message:\n",
      "\"\u001b[1m\u001b[22mOne or more parsing issues, call `problems()` on your data frame for details,\n",
      "e.g.:\n",
      "  dat <- vroom(...)\n",
      "  problems(dat)\"\n",
      "Warning message:\n",
      "\"\u001b[1m\u001b[22mOne or more parsing issues, call `problems()` on your data frame for details,\n",
      "e.g.:\n",
      "  dat <- vroom(...)\n",
      "  problems(dat)\"\n"
     ]
    },
    {
     "name": "stdout",
     "output_type": "stream",
     "text": [
      "[1] \"Porcentaje de viviendas con disponibilidad de agua diaria\"\n"
     ]
    },
    {
     "data": {
      "text/html": [
       "<table class=\"dataframe\">\n",
       "<caption>A tibble: 4 × 6</caption>\n",
       "<thead>\n",
       "\t<tr><th scope=col>dotac_agua</th><th scope=col>viviendas</th><th scope=col>viviendas_cv</th><th scope=col>porcentaje</th><th scope=col>porcentaje_cv</th><th scope=col>year</th></tr>\n",
       "\t<tr><th scope=col>&lt;dbl&gt;</th><th scope=col>&lt;dbl&gt;</th><th scope=col>&lt;dbl&gt;</th><th scope=col>&lt;dbl&gt;</th><th scope=col>&lt;dbl&gt;</th><th scope=col>&lt;chr&gt;</th></tr>\n",
       "</thead>\n",
       "<tbody>\n",
       "\t<tr><td>1</td><td>2205682</td><td>0.02479297</td><td>79.49</td><td>0.02256234</td><td>2016</td></tr>\n",
       "\t<tr><td>1</td><td>2072378</td><td>0.02687993</td><td>76.07</td><td>0.02483286</td><td>2018</td></tr>\n",
       "\t<tr><td>1</td><td>2162481</td><td>0.02260787</td><td>79.88</td><td>0.01928231</td><td>2020</td></tr>\n",
       "\t<tr><td>1</td><td>2300881</td><td>0.02524791</td><td>78.05</td><td>0.02137932</td><td>2022</td></tr>\n",
       "</tbody>\n",
       "</table>\n"
      ],
      "text/latex": [
       "A tibble: 4 × 6\n",
       "\\begin{tabular}{llllll}\n",
       " dotac\\_agua & viviendas & viviendas\\_cv & porcentaje & porcentaje\\_cv & year\\\\\n",
       " <dbl> & <dbl> & <dbl> & <dbl> & <dbl> & <chr>\\\\\n",
       "\\hline\n",
       "\t 1 & 2205682 & 0.02479297 & 79.49 & 0.02256234 & 2016\\\\\n",
       "\t 1 & 2072378 & 0.02687993 & 76.07 & 0.02483286 & 2018\\\\\n",
       "\t 1 & 2162481 & 0.02260787 & 79.88 & 0.01928231 & 2020\\\\\n",
       "\t 1 & 2300881 & 0.02524791 & 78.05 & 0.02137932 & 2022\\\\\n",
       "\\end{tabular}\n"
      ],
      "text/markdown": [
       "\n",
       "A tibble: 4 × 6\n",
       "\n",
       "| dotac_agua &lt;dbl&gt; | viviendas &lt;dbl&gt; | viviendas_cv &lt;dbl&gt; | porcentaje &lt;dbl&gt; | porcentaje_cv &lt;dbl&gt; | year &lt;chr&gt; |\n",
       "|---|---|---|---|---|---|\n",
       "| 1 | 2205682 | 0.02479297 | 79.49 | 0.02256234 | 2016 |\n",
       "| 1 | 2072378 | 0.02687993 | 76.07 | 0.02483286 | 2018 |\n",
       "| 1 | 2162481 | 0.02260787 | 79.88 | 0.01928231 | 2020 |\n",
       "| 1 | 2300881 | 0.02524791 | 78.05 | 0.02137932 | 2022 |\n",
       "\n"
      ],
      "text/plain": [
       "  dotac_agua viviendas viviendas_cv porcentaje porcentaje_cv year\n",
       "1 1          2205682   0.02479297   79.49      0.02256234    2016\n",
       "2 1          2072378   0.02687993   76.07      0.02483286    2018\n",
       "3 1          2162481   0.02260787   79.88      0.01928231    2020\n",
       "4 1          2300881   0.02524791   78.05      0.02137932    2022"
      ]
     },
     "metadata": {},
     "output_type": "display_data"
    }
   ],
   "source": [
    "#Estimar indicador de disponibilidad diaria de agua\n",
    "tabla_dotac_agua<-map_dfr(\n",
    "  list.files(\"data\", full.names = TRUE, pattern = \"viviendas_.*.csv\"),\n",
    "  estimacion,\n",
    "  variable = \"dotacagua\"\n",
    ")\n",
    "print(\"Porcentaje de viviendas con disponibilidad de agua diaria\")\n",
    "tabla_dotac_agua"
   ]
  },
  {
   "cell_type": "markdown",
   "id": "fb19f65ccd7d788",
   "metadata": {},
   "source": [
    "### Disponibilidad de agua\n"
   ]
  },
  {
   "cell_type": "code",
   "execution_count": 9,
   "id": "171fa1cf25801120",
   "metadata": {
    "ExecuteTime": {
     "end_time": "2025-03-21T19:45:06.341355Z",
     "start_time": "2025-03-21T19:45:01.647660Z"
    },
    "vscode": {
     "languageId": "r"
    }
   },
   "outputs": [
    {
     "name": "stderr",
     "output_type": "stream",
     "text": [
      "Warning message:\n",
      "\"\u001b[1m\u001b[22mOne or more parsing issues, call `problems()` on your data frame for details,\n",
      "e.g.:\n",
      "  dat <- vroom(...)\n",
      "  problems(dat)\"\n",
      "Warning message:\n",
      "\"\u001b[1m\u001b[22mOne or more parsing issues, call `problems()` on your data frame for details,\n",
      "e.g.:\n",
      "  dat <- vroom(...)\n",
      "  problems(dat)\"\n",
      "Warning message:\n",
      "\"\u001b[1m\u001b[22mOne or more parsing issues, call `problems()` on your data frame for details,\n",
      "e.g.:\n",
      "  dat <- vroom(...)\n",
      "  problems(dat)\"\n",
      "Warning message:\n",
      "\"\u001b[1m\u001b[22mOne or more parsing issues, call `problems()` on your data frame for details,\n",
      "e.g.:\n",
      "  dat <- vroom(...)\n",
      "  problems(dat)\"\n"
     ]
    },
    {
     "name": "stdout",
     "output_type": "stream",
     "text": [
      "[1] \"Porcentaje de viviendas con disponibilidad de agua dentro de la vivienda\"\n"
     ]
    },
    {
     "data": {
      "text/html": [
       "<table class=\"dataframe\">\n",
       "<caption>A tibble: 4 × 6</caption>\n",
       "<thead>\n",
       "\t<tr><th scope=col>disp_agua</th><th scope=col>viviendas</th><th scope=col>viviendas_cv</th><th scope=col>porcentaje</th><th scope=col>porcentaje_cv</th><th scope=col>year</th></tr>\n",
       "\t<tr><th scope=col>&lt;dbl&gt;</th><th scope=col>&lt;dbl&gt;</th><th scope=col>&lt;dbl&gt;</th><th scope=col>&lt;dbl&gt;</th><th scope=col>&lt;dbl&gt;</th><th scope=col>&lt;chr&gt;</th></tr>\n",
       "</thead>\n",
       "<tbody>\n",
       "\t<tr><td>1</td><td>2463236</td><td>0.01757914</td><td>88.77</td><td>0.011752100</td><td>2016</td></tr>\n",
       "\t<tr><td>1</td><td>2451184</td><td>0.01706678</td><td>89.97</td><td>0.010743499</td><td>2018</td></tr>\n",
       "\t<tr><td>1</td><td>2472049</td><td>0.01533408</td><td>91.32</td><td>0.010428412</td><td>2020</td></tr>\n",
       "\t<tr><td>1</td><td>2722715</td><td>0.01624510</td><td>92.36</td><td>0.008661267</td><td>2022</td></tr>\n",
       "</tbody>\n",
       "</table>\n"
      ],
      "text/latex": [
       "A tibble: 4 × 6\n",
       "\\begin{tabular}{llllll}\n",
       " disp\\_agua & viviendas & viviendas\\_cv & porcentaje & porcentaje\\_cv & year\\\\\n",
       " <dbl> & <dbl> & <dbl> & <dbl> & <dbl> & <chr>\\\\\n",
       "\\hline\n",
       "\t 1 & 2463236 & 0.01757914 & 88.77 & 0.011752100 & 2016\\\\\n",
       "\t 1 & 2451184 & 0.01706678 & 89.97 & 0.010743499 & 2018\\\\\n",
       "\t 1 & 2472049 & 0.01533408 & 91.32 & 0.010428412 & 2020\\\\\n",
       "\t 1 & 2722715 & 0.01624510 & 92.36 & 0.008661267 & 2022\\\\\n",
       "\\end{tabular}\n"
      ],
      "text/markdown": [
       "\n",
       "A tibble: 4 × 6\n",
       "\n",
       "| disp_agua &lt;dbl&gt; | viviendas &lt;dbl&gt; | viviendas_cv &lt;dbl&gt; | porcentaje &lt;dbl&gt; | porcentaje_cv &lt;dbl&gt; | year &lt;chr&gt; |\n",
       "|---|---|---|---|---|---|\n",
       "| 1 | 2463236 | 0.01757914 | 88.77 | 0.011752100 | 2016 |\n",
       "| 1 | 2451184 | 0.01706678 | 89.97 | 0.010743499 | 2018 |\n",
       "| 1 | 2472049 | 0.01533408 | 91.32 | 0.010428412 | 2020 |\n",
       "| 1 | 2722715 | 0.01624510 | 92.36 | 0.008661267 | 2022 |\n",
       "\n"
      ],
      "text/plain": [
       "  disp_agua viviendas viviendas_cv porcentaje porcentaje_cv year\n",
       "1 1         2463236   0.01757914   88.77      0.011752100   2016\n",
       "2 1         2451184   0.01706678   89.97      0.010743499   2018\n",
       "3 1         2472049   0.01533408   91.32      0.010428412   2020\n",
       "4 1         2722715   0.01624510   92.36      0.008661267   2022"
      ]
     },
     "metadata": {},
     "output_type": "display_data"
    }
   ],
   "source": [
    "#Estimar indicador de disponibilidad diaria de agua\n",
    "tabla_disp_agua<-map_dfr(\n",
    "  list.files(\"data\", full.names = TRUE, pattern = \"viviendas_.*.csv\"),\n",
    "  estimacion,\n",
    "  variable = \"dispagua\"\n",
    ")\n",
    "print(\"Porcentaje de viviendas con disponibilidad de agua dentro de la vivienda\")\n",
    "tabla_disp_agua"
   ]
  },
  {
   "cell_type": "markdown",
   "id": "ca54d6b4e8b63d38",
   "metadata": {},
   "source": [
    "### Indicador de calidad de agua y fugas\n",
    "\n",
    "Para estos, se utiliza la Encuesta Nacional de Calidad e Impacto Gubernamental (ENCIG). Los indicadores generados son de percepción."
   ]
  },
  {
   "cell_type": "code",
   "execution_count": 10,
   "id": "54606ea52c8f3d39",
   "metadata": {
    "ExecuteTime": {
     "end_time": "2025-03-21T19:45:06.376853Z",
     "start_time": "2025-03-21T19:45:06.352751Z"
    },
    "vscode": {
     "languageId": "r"
    }
   },
   "outputs": [],
   "source": [
    "url_encig_basica<-\"https://www.inegi.org.mx/contenidos/programas/encig/\"\n",
    "segunda_parte<-\"microdatos/encig\""
   ]
  },
  {
   "cell_type": "code",
   "execution_count": 11,
   "id": "e7aa2fe89ea19ca4",
   "metadata": {
    "ExecuteTime": {
     "end_time": "2025-03-21T19:45:06.564511Z",
     "start_time": "2025-03-21T19:45:06.548751Z"
    },
    "vscode": {
     "languageId": "r"
    }
   },
   "outputs": [],
   "source": [
    "years_encig<-c(\"2017\",\"2019\",\"2021\", \"2023\")"
   ]
  },
  {
   "cell_type": "code",
   "execution_count": 12,
   "id": "72fdc53102871aad",
   "metadata": {
    "ExecuteTime": {
     "end_time": "2025-03-21T19:51:55.424907Z",
     "start_time": "2025-03-21T19:45:06.634054Z"
    },
    "vscode": {
     "languageId": "r"
    }
   },
   "outputs": [
    {
     "name": "stdout",
     "output_type": "stream",
     "text": [
      "[1] \"https://www.inegi.org.mx/contenidos/programas/encig/2017/microdatos/encig17_base_datos_dbf.zip\"\n",
      "[1] \"https://www.inegi.org.mx/contenidos/programas/encig/2019/microdatos/encig19_base_datos_dbf.zip\"\n",
      "[1] \"https://www.inegi.org.mx/contenidos/programas/encig/2021/microdatos/encig21_base_datos_csv.zip\"\n",
      "[1] \"https://www.inegi.org.mx/contenidos/programas/encig/2023/microdatos/encig23_base_datos_csv.zip\"\n"
     ]
    }
   ],
   "source": [
    "# Descargar los archivos, descomprimirlos y renombrarlos\n",
    "#timeout de 300\n",
    "\n",
    "options(timeout = 600)\n",
    "for (i in 1:length(years_encig)) {\n",
    "  # Ajustar el sufijo de la URL y archivo según el año\n",
    "  if (years_encig[i] %in% c(\"2017\", \"2019\")) {\n",
    "    fin <- \"_base_datos_dbf.zip\"\n",
    "  } else {\n",
    "    fin <- \"_base_datos_csv.zip\"\n",
    "  }\n",
    "\n",
    "  # Construir la URL y el nombre del archivo destino\n",
    "  url <- paste0(url_encig_basica, years_encig[i], \"/\", segunda_parte, str_sub(years_encig[i], 3, 4), fin)\n",
    "  print(url)\n",
    "  destfile <- paste0(\"data/encig\", str_sub(years_encig[i], 3, 4), fin)\n",
    "  \n",
    "  # Descargar el archivo\n",
    "  download.file(url, destfile = destfile)\n",
    "  \n",
    "  # Descomprimir el archivo\n",
    "  unzip(destfile, exdir = \"data\")\n",
    "}"
   ]
  },
  {
   "cell_type": "code",
   "execution_count": 13,
   "id": "72e908cc507514eb",
   "metadata": {
    "ExecuteTime": {
     "end_time": "2025-03-21T19:51:55.470153Z",
     "start_time": "2025-03-21T19:51:55.456238Z"
    },
    "vscode": {
     "languageId": "r"
    }
   },
   "outputs": [],
   "source": [
    "# Funcion de estimación\n",
    "process_files <- function(years, variable) {\n",
    "  # Función anidada para estimar el indicador`\n",
    "  estima_indicador <- function(path, variable) {\n",
    "    # Extraer el año del archivo\n",
    "    year <- substr(path, 11, 14)\n",
    "    \n",
    "    # Leer los datos y hacer las transformaciones necesarias de las variables \n",
    "    if (year %in% c(\"2017\", \"2019\")) {\n",
    "      datos <- foreign::read.dbf(path) %>%\n",
    "        janitor::clean_names() %>%\n",
    "mutate(p4_1_2 = as.numeric(p4_1_2),\n",
    "    p4_1_4 = as.numeric(p4_1_4),\n",
    "      fac_p18 = as.numeric(fac_p18),\n",
    "        upm = as.numeric(upm),\n",
    "        est_dis = as.numeric(est_dis)) %>%\n",
    "#Filtrar Ciudad de México\n",
    "        filter(ent == \"09\")\n",
    "    } else if (year %in% c(\"2021\", \"2023\")) {\n",
    "      datos <- read_csv(path,show_col_types=FALSE) %>%\n",
    "        janitor::clean_names() %>%\n",
    "#Filtrar Ciudad de México\n",
    "        filter(nom_ent == \"CIUDAD DE MEXICO\")\n",
    "    } else {\n",
    "      stop(\"Año no soportado.\")\n",
    "    }\n",
    "    \n",
    "    # Diseño muestral\n",
    "    dm <- datos %>%\n",
    "      as_survey_design(ids = upm, strata = est_dis, weights = fac_p18)\n",
    "    \n",
    "    # Calidad del agua\n",
    "    if (variable == \"calidad_agua\") {\n",
    "      calidad_agua <- dm %>%\n",
    "        group_by(p4_1_2) %>%\n",
    "        summarise(\n",
    "          personas = survey_total(vartype = \"cv\"),\n",
    "          porcentaje = survey_mean(vartype = \"cv\")\n",
    "        ) %>%\n",
    "#Filtrar calidad mala\n",
    "        filter(p4_1_2 == 2)%>%\n",
    "mutate(porcentaje = round(porcentaje * 100, 2),\n",
    "              year = year)\n",
    "      return(calidad_agua)\n",
    "\n",
    "\n",
    "\n",
    "##Atención de fugas de agua\n",
    "\n",
    "    } else if (variable == \"fugas_agua\") {\n",
    "        fugas_agua <- dm %>%\n",
    "            group_by(p4_1_4) %>%\n",
    "            summarise(\n",
    "            personas = survey_total(vartype = \"cv\"),\n",
    "            porcentaje = survey_mean(vartype = \"cv\")\n",
    "            ) %>%\n",
    "            filter(p4_1_4 == 1)%>%\n",
    "            mutate(porcentaje = round(porcentaje * 100, 2),\n",
    "                     year = year)\n",
    "        return(fugas_agua)\n",
    "\n",
    "\n",
    "\n",
    "\n",
    "\n",
    "\n",
    "\n",
    "\n",
    "    } else {\n",
    "      stop(\"Variable no reconocida.\")\n",
    "    }\n",
    "  }\n",
    "  \n",
    "  map_dfr(years, function(year) {\n",
    "    # File path de los archivos\n",
    "    file_path <- if (year %in% c(2017, 2019)) {\n",
    "      paste0(\"data/encig\", year, \"_01_sec1_3_4_5_8_9_10.dbf\")\n",
    "    } else if (year %in% c(2021, 2023)) {\n",
    "      paste0(\"data/encig\", year, \"_01_sec1_A_3_4_5_8_9_10.csv\")\n",
    "    } else {\n",
    "      stop(\"Año no soportado.\")\n",
    "    }\n",
    "    \n",
    "    # Print del archivo que se está procesando\n",
    "    print(paste(\"Procesando archivo:\", file_path))\n",
    "    \n",
    "    # Invocar la función de estimación \n",
    "    estima_indicador(file_path, variable)\n",
    "  })\n",
    "}"
   ]
  },
  {
   "cell_type": "code",
   "execution_count": 14,
   "id": "526997c2effc1024",
   "metadata": {
    "ExecuteTime": {
     "end_time": "2025-03-21T19:51:59.504020Z",
     "start_time": "2025-03-21T19:51:55.517512Z"
    },
    "vscode": {
     "languageId": "r"
    }
   },
   "outputs": [
    {
     "name": "stdout",
     "output_type": "stream",
     "text": [
      "[1] \"Procesando archivo: data/encig2017_01_sec1_3_4_5_8_9_10.dbf\"\n",
      "[1] \"Procesando archivo: data/encig2019_01_sec1_3_4_5_8_9_10.dbf\"\n",
      "[1] \"Procesando archivo: data/encig2021_01_sec1_A_3_4_5_8_9_10.csv\"\n"
     ]
    },
    {
     "name": "stderr",
     "output_type": "stream",
     "text": [
      "\u001b[1m\u001b[22mNew names:\n",
      "\u001b[36m•\u001b[39m `` -> `...1`\n"
     ]
    },
    {
     "name": "stdout",
     "output_type": "stream",
     "text": [
      "[1] \"Procesando archivo: data/encig2023_01_sec1_A_3_4_5_8_9_10.csv\"\n"
     ]
    },
    {
     "name": "stderr",
     "output_type": "stream",
     "text": [
      "\u001b[1m\u001b[22mNew names:\n",
      "\u001b[36m•\u001b[39m `` -> `...1`\n"
     ]
    },
    {
     "name": "stdout",
     "output_type": "stream",
     "text": [
      "[1] \"Porcentaje de personas de 18 años y más que consideran que el agua de la Ciudad de México es de mala calidad\"\n"
     ]
    },
    {
     "data": {
      "text/html": [
       "<table class=\"dataframe\">\n",
       "<caption>A tibble: 4 × 6</caption>\n",
       "<thead>\n",
       "\t<tr><th scope=col>p4_1_2</th><th scope=col>personas</th><th scope=col>personas_cv</th><th scope=col>porcentaje</th><th scope=col>porcentaje_cv</th><th scope=col>year</th></tr>\n",
       "\t<tr><th scope=col>&lt;dbl&gt;</th><th scope=col>&lt;dbl&gt;</th><th scope=col>&lt;dbl&gt;</th><th scope=col>&lt;dbl&gt;</th><th scope=col>&lt;dbl&gt;</th><th scope=col>&lt;chr&gt;</th></tr>\n",
       "</thead>\n",
       "<tbody>\n",
       "\t<tr><td>2</td><td>4402765</td><td>0.02835759</td><td>50.22</td><td>0.02361616</td><td>2017</td></tr>\n",
       "\t<tr><td>2</td><td>3330381</td><td>0.02516546</td><td>47.99</td><td>0.02197730</td><td>2019</td></tr>\n",
       "\t<tr><td>2</td><td>3325619</td><td>0.02613323</td><td>47.80</td><td>0.02211804</td><td>2021</td></tr>\n",
       "\t<tr><td>2</td><td>3540937</td><td>0.02558239</td><td>46.74</td><td>0.02245127</td><td>2023</td></tr>\n",
       "</tbody>\n",
       "</table>\n"
      ],
      "text/latex": [
       "A tibble: 4 × 6\n",
       "\\begin{tabular}{llllll}\n",
       " p4\\_1\\_2 & personas & personas\\_cv & porcentaje & porcentaje\\_cv & year\\\\\n",
       " <dbl> & <dbl> & <dbl> & <dbl> & <dbl> & <chr>\\\\\n",
       "\\hline\n",
       "\t 2 & 4402765 & 0.02835759 & 50.22 & 0.02361616 & 2017\\\\\n",
       "\t 2 & 3330381 & 0.02516546 & 47.99 & 0.02197730 & 2019\\\\\n",
       "\t 2 & 3325619 & 0.02613323 & 47.80 & 0.02211804 & 2021\\\\\n",
       "\t 2 & 3540937 & 0.02558239 & 46.74 & 0.02245127 & 2023\\\\\n",
       "\\end{tabular}\n"
      ],
      "text/markdown": [
       "\n",
       "A tibble: 4 × 6\n",
       "\n",
       "| p4_1_2 &lt;dbl&gt; | personas &lt;dbl&gt; | personas_cv &lt;dbl&gt; | porcentaje &lt;dbl&gt; | porcentaje_cv &lt;dbl&gt; | year &lt;chr&gt; |\n",
       "|---|---|---|---|---|---|\n",
       "| 2 | 4402765 | 0.02835759 | 50.22 | 0.02361616 | 2017 |\n",
       "| 2 | 3330381 | 0.02516546 | 47.99 | 0.02197730 | 2019 |\n",
       "| 2 | 3325619 | 0.02613323 | 47.80 | 0.02211804 | 2021 |\n",
       "| 2 | 3540937 | 0.02558239 | 46.74 | 0.02245127 | 2023 |\n",
       "\n"
      ],
      "text/plain": [
       "  p4_1_2 personas personas_cv porcentaje porcentaje_cv year\n",
       "1 2      4402765  0.02835759  50.22      0.02361616    2017\n",
       "2 2      3330381  0.02516546  47.99      0.02197730    2019\n",
       "3 2      3325619  0.02613323  47.80      0.02211804    2021\n",
       "4 2      3540937  0.02558239  46.74      0.02245127    2023"
      ]
     },
     "metadata": {},
     "output_type": "display_data"
    }
   ],
   "source": [
    "#Estimar indicador de calidad de agua\n",
    "tabla_calidad_agua<-process_files(c(2017,2019,2021,2023), variable = \"calidad_agua\")\n",
    "print(\"Porcentaje de personas de 18 años y más que consideran que el agua de la Ciudad de México es de mala calidad\")\n",
    "tabla_calidad_agua"
   ]
  },
  {
   "cell_type": "code",
   "execution_count": 15,
   "id": "38a0b6fef402d754",
   "metadata": {
    "ExecuteTime": {
     "end_time": "2025-03-21T19:52:04.271356Z",
     "start_time": "2025-03-21T19:51:59.565459Z"
    },
    "vscode": {
     "languageId": "r"
    }
   },
   "outputs": [
    {
     "name": "stdout",
     "output_type": "stream",
     "text": [
      "[1] \"Procesando archivo: data/encig2017_01_sec1_3_4_5_8_9_10.dbf\"\n",
      "[1] \"Procesando archivo: data/encig2019_01_sec1_3_4_5_8_9_10.dbf\"\n",
      "[1] \"Procesando archivo: data/encig2021_01_sec1_A_3_4_5_8_9_10.csv\"\n"
     ]
    },
    {
     "name": "stderr",
     "output_type": "stream",
     "text": [
      "\u001b[1m\u001b[22mNew names:\n",
      "\u001b[36m•\u001b[39m `` -> `...1`\n"
     ]
    },
    {
     "name": "stdout",
     "output_type": "stream",
     "text": [
      "[1] \"Procesando archivo: data/encig2023_01_sec1_A_3_4_5_8_9_10.csv\"\n"
     ]
    },
    {
     "name": "stderr",
     "output_type": "stream",
     "text": [
      "\u001b[1m\u001b[22mNew names:\n",
      "\u001b[36m•\u001b[39m `` -> `...1`\n"
     ]
    },
    {
     "name": "stdout",
     "output_type": "stream",
     "text": [
      "[1] \"Porcentaje de personas de 18 años y más que refirió que el agua potable en su ciudad no se desperdicia a causa de fugas\"\n"
     ]
    },
    {
     "data": {
      "text/html": [
       "<table class=\"dataframe\">\n",
       "<caption>A tibble: 4 × 6</caption>\n",
       "<thead>\n",
       "\t<tr><th scope=col>p4_1_4</th><th scope=col>personas</th><th scope=col>personas_cv</th><th scope=col>porcentaje</th><th scope=col>porcentaje_cv</th><th scope=col>year</th></tr>\n",
       "\t<tr><th scope=col>&lt;dbl&gt;</th><th scope=col>&lt;dbl&gt;</th><th scope=col>&lt;dbl&gt;</th><th scope=col>&lt;dbl&gt;</th><th scope=col>&lt;dbl&gt;</th><th scope=col>&lt;chr&gt;</th></tr>\n",
       "</thead>\n",
       "<tbody>\n",
       "\t<tr><td>1</td><td>2178683</td><td>0.03960191</td><td>24.85</td><td>0.03621243</td><td>2017</td></tr>\n",
       "\t<tr><td>1</td><td>2354994</td><td>0.02640651</td><td>33.93</td><td>0.02473607</td><td>2019</td></tr>\n",
       "\t<tr><td>1</td><td>2250081</td><td>0.02684317</td><td>32.34</td><td>0.02598258</td><td>2021</td></tr>\n",
       "\t<tr><td>1</td><td>2880457</td><td>0.02507924</td><td>38.02</td><td>0.02274877</td><td>2023</td></tr>\n",
       "</tbody>\n",
       "</table>\n"
      ],
      "text/latex": [
       "A tibble: 4 × 6\n",
       "\\begin{tabular}{llllll}\n",
       " p4\\_1\\_4 & personas & personas\\_cv & porcentaje & porcentaje\\_cv & year\\\\\n",
       " <dbl> & <dbl> & <dbl> & <dbl> & <dbl> & <chr>\\\\\n",
       "\\hline\n",
       "\t 1 & 2178683 & 0.03960191 & 24.85 & 0.03621243 & 2017\\\\\n",
       "\t 1 & 2354994 & 0.02640651 & 33.93 & 0.02473607 & 2019\\\\\n",
       "\t 1 & 2250081 & 0.02684317 & 32.34 & 0.02598258 & 2021\\\\\n",
       "\t 1 & 2880457 & 0.02507924 & 38.02 & 0.02274877 & 2023\\\\\n",
       "\\end{tabular}\n"
      ],
      "text/markdown": [
       "\n",
       "A tibble: 4 × 6\n",
       "\n",
       "| p4_1_4 &lt;dbl&gt; | personas &lt;dbl&gt; | personas_cv &lt;dbl&gt; | porcentaje &lt;dbl&gt; | porcentaje_cv &lt;dbl&gt; | year &lt;chr&gt; |\n",
       "|---|---|---|---|---|---|\n",
       "| 1 | 2178683 | 0.03960191 | 24.85 | 0.03621243 | 2017 |\n",
       "| 1 | 2354994 | 0.02640651 | 33.93 | 0.02473607 | 2019 |\n",
       "| 1 | 2250081 | 0.02684317 | 32.34 | 0.02598258 | 2021 |\n",
       "| 1 | 2880457 | 0.02507924 | 38.02 | 0.02274877 | 2023 |\n",
       "\n"
      ],
      "text/plain": [
       "  p4_1_4 personas personas_cv porcentaje porcentaje_cv year\n",
       "1 1      2178683  0.03960191  24.85      0.03621243    2017\n",
       "2 1      2354994  0.02640651  33.93      0.02473607    2019\n",
       "3 1      2250081  0.02684317  32.34      0.02598258    2021\n",
       "4 1      2880457  0.02507924  38.02      0.02274877    2023"
      ]
     },
     "metadata": {},
     "output_type": "display_data"
    }
   ],
   "source": [
    "#Estimar indicador de atención de fugas de agua\n",
    "tabla_fugas_agua<-process_files(c(2017,2019,2021,2023), variable = \"fugas_agua\")\n",
    "print(\"Porcentaje de personas de 18 años y más que refirió que el agua potable en su ciudad no se desperdicia a causa de fugas\")\n",
    "tabla_fugas_agua"
   ]
  },
  {
   "cell_type": "markdown",
   "id": "eacf049b9ebf31bf",
   "metadata": {},
   "source": [
    "### Proyecciones"
   ]
  },
  {
   "cell_type": "code",
   "execution_count": 16,
   "id": "56bae00be5f7593f",
   "metadata": {
    "ExecuteTime": {
     "end_time": "2025-03-21T19:52:04.332331Z",
     "start_time": "2025-03-21T19:52:04.319259Z"
    },
    "vscode": {
     "languageId": "r"
    }
   },
   "outputs": [],
   "source": [
    "estimacion <- function(tabla, year1, year2,diferencia,variable) {\n",
    "  # Calculate TCMA (tasa de crecimiento anual compuesta)\n",
    "  tcma <- ((tabla[[variable]][tabla$year == year2] / tabla[[variable]][tabla$year == year1])^(1/(diferencia)) - 1)\n",
    "\n",
    "  # Create a dataframe for the years from year2 + 1 to 2045\n",
    "  extendido <- data.frame(year = (year2 + 1):2045)\n",
    "\n",
    "  # Calculate the new variable for each year starting from year2 + 1\n",
    "  extendido[[variable]] <- tabla[[variable]][tabla$year == year2] * cumprod(rep(1 + tcma, length((year2 + 1):2045)))\n",
    "\n",
    "\n",
    "\n",
    "  return(extendido)\n",
    "}"
   ]
  },
  {
   "cell_type": "code",
   "execution_count": 17,
   "id": "abf6919585ba0448",
   "metadata": {
    "ExecuteTime": {
     "end_time": "2025-03-21T19:52:04.584471Z",
     "start_time": "2025-03-21T19:52:04.566090Z"
    },
    "vscode": {
     "languageId": "r"
    }
   },
   "outputs": [
    {
     "data": {
      "text/html": [
       "<table class=\"dataframe\">\n",
       "<caption>A tibble: 4 × 6</caption>\n",
       "<thead>\n",
       "\t<tr><th scope=col>dotac_agua</th><th scope=col>viviendas</th><th scope=col>viviendas_cv</th><th scope=col>porcentaje</th><th scope=col>porcentaje_cv</th><th scope=col>year</th></tr>\n",
       "\t<tr><th scope=col>&lt;dbl&gt;</th><th scope=col>&lt;dbl&gt;</th><th scope=col>&lt;dbl&gt;</th><th scope=col>&lt;dbl&gt;</th><th scope=col>&lt;dbl&gt;</th><th scope=col>&lt;chr&gt;</th></tr>\n",
       "</thead>\n",
       "<tbody>\n",
       "\t<tr><td>1</td><td>2205682</td><td>0.02479297</td><td>79.49</td><td>0.02256234</td><td>2016</td></tr>\n",
       "\t<tr><td>1</td><td>2072378</td><td>0.02687993</td><td>76.07</td><td>0.02483286</td><td>2018</td></tr>\n",
       "\t<tr><td>1</td><td>2162481</td><td>0.02260787</td><td>79.88</td><td>0.01928231</td><td>2020</td></tr>\n",
       "\t<tr><td>1</td><td>2300881</td><td>0.02524791</td><td>78.05</td><td>0.02137932</td><td>2022</td></tr>\n",
       "</tbody>\n",
       "</table>\n"
      ],
      "text/latex": [
       "A tibble: 4 × 6\n",
       "\\begin{tabular}{llllll}\n",
       " dotac\\_agua & viviendas & viviendas\\_cv & porcentaje & porcentaje\\_cv & year\\\\\n",
       " <dbl> & <dbl> & <dbl> & <dbl> & <dbl> & <chr>\\\\\n",
       "\\hline\n",
       "\t 1 & 2205682 & 0.02479297 & 79.49 & 0.02256234 & 2016\\\\\n",
       "\t 1 & 2072378 & 0.02687993 & 76.07 & 0.02483286 & 2018\\\\\n",
       "\t 1 & 2162481 & 0.02260787 & 79.88 & 0.01928231 & 2020\\\\\n",
       "\t 1 & 2300881 & 0.02524791 & 78.05 & 0.02137932 & 2022\\\\\n",
       "\\end{tabular}\n"
      ],
      "text/markdown": [
       "\n",
       "A tibble: 4 × 6\n",
       "\n",
       "| dotac_agua &lt;dbl&gt; | viviendas &lt;dbl&gt; | viviendas_cv &lt;dbl&gt; | porcentaje &lt;dbl&gt; | porcentaje_cv &lt;dbl&gt; | year &lt;chr&gt; |\n",
       "|---|---|---|---|---|---|\n",
       "| 1 | 2205682 | 0.02479297 | 79.49 | 0.02256234 | 2016 |\n",
       "| 1 | 2072378 | 0.02687993 | 76.07 | 0.02483286 | 2018 |\n",
       "| 1 | 2162481 | 0.02260787 | 79.88 | 0.01928231 | 2020 |\n",
       "| 1 | 2300881 | 0.02524791 | 78.05 | 0.02137932 | 2022 |\n",
       "\n"
      ],
      "text/plain": [
       "  dotac_agua viviendas viviendas_cv porcentaje porcentaje_cv year\n",
       "1 1          2205682   0.02479297   79.49      0.02256234    2016\n",
       "2 1          2072378   0.02687993   76.07      0.02483286    2018\n",
       "3 1          2162481   0.02260787   79.88      0.01928231    2020\n",
       "4 1          2300881   0.02524791   78.05      0.02137932    2022"
      ]
     },
     "metadata": {},
     "output_type": "display_data"
    }
   ],
   "source": [
    "tabla_dotac_agua"
   ]
  },
  {
   "cell_type": "code",
   "execution_count": 18,
   "id": "f18f323b68ca5fad",
   "metadata": {
    "ExecuteTime": {
     "end_time": "2025-03-21T19:52:04.690543Z",
     "start_time": "2025-03-21T19:52:04.665103Z"
    },
    "vscode": {
     "languageId": "r"
    }
   },
   "outputs": [
    {
     "data": {
      "text/html": [
       "<table class=\"dataframe\">\n",
       "<caption>A data.frame: 23 × 2</caption>\n",
       "<thead>\n",
       "\t<tr><th scope=col>year</th><th scope=col>porcentaje</th></tr>\n",
       "\t<tr><th scope=col>&lt;int&gt;</th><th scope=col>&lt;dbl&gt;</th></tr>\n",
       "</thead>\n",
       "<tbody>\n",
       "\t<tr><td>2023</td><td>78.45214</td></tr>\n",
       "\t<tr><td>2024</td><td>78.85636</td></tr>\n",
       "\t<tr><td>2025</td><td>79.26265</td></tr>\n",
       "\t<tr><td>2026</td><td>79.67104</td></tr>\n",
       "\t<tr><td>2027</td><td>80.08154</td></tr>\n",
       "\t<tr><td>2028</td><td>80.49415</td></tr>\n",
       "\t<tr><td>2029</td><td>80.90888</td></tr>\n",
       "\t<tr><td>2030</td><td>81.32575</td></tr>\n",
       "\t<tr><td>2031</td><td>81.74477</td></tr>\n",
       "\t<tr><td>2032</td><td>82.16595</td></tr>\n",
       "\t<tr><td>2033</td><td>82.58930</td></tr>\n",
       "\t<tr><td>2034</td><td>83.01483</td></tr>\n",
       "\t<tr><td>2035</td><td>83.44255</td></tr>\n",
       "\t<tr><td>2036</td><td>83.87248</td></tr>\n",
       "\t<tr><td>2037</td><td>84.30462</td></tr>\n",
       "\t<tr><td>2038</td><td>84.73899</td></tr>\n",
       "\t<tr><td>2039</td><td>85.17560</td></tr>\n",
       "\t<tr><td>2040</td><td>85.61445</td></tr>\n",
       "\t<tr><td>2041</td><td>86.05557</td></tr>\n",
       "\t<tr><td>2042</td><td>86.49896</td></tr>\n",
       "\t<tr><td>2043</td><td>86.94463</td></tr>\n",
       "\t<tr><td>2044</td><td>87.39260</td></tr>\n",
       "\t<tr><td>2045</td><td>87.84288</td></tr>\n",
       "</tbody>\n",
       "</table>\n"
      ],
      "text/latex": [
       "A data.frame: 23 × 2\n",
       "\\begin{tabular}{ll}\n",
       " year & porcentaje\\\\\n",
       " <int> & <dbl>\\\\\n",
       "\\hline\n",
       "\t 2023 & 78.45214\\\\\n",
       "\t 2024 & 78.85636\\\\\n",
       "\t 2025 & 79.26265\\\\\n",
       "\t 2026 & 79.67104\\\\\n",
       "\t 2027 & 80.08154\\\\\n",
       "\t 2028 & 80.49415\\\\\n",
       "\t 2029 & 80.90888\\\\\n",
       "\t 2030 & 81.32575\\\\\n",
       "\t 2031 & 81.74477\\\\\n",
       "\t 2032 & 82.16595\\\\\n",
       "\t 2033 & 82.58930\\\\\n",
       "\t 2034 & 83.01483\\\\\n",
       "\t 2035 & 83.44255\\\\\n",
       "\t 2036 & 83.87248\\\\\n",
       "\t 2037 & 84.30462\\\\\n",
       "\t 2038 & 84.73899\\\\\n",
       "\t 2039 & 85.17560\\\\\n",
       "\t 2040 & 85.61445\\\\\n",
       "\t 2041 & 86.05557\\\\\n",
       "\t 2042 & 86.49896\\\\\n",
       "\t 2043 & 86.94463\\\\\n",
       "\t 2044 & 87.39260\\\\\n",
       "\t 2045 & 87.84288\\\\\n",
       "\\end{tabular}\n"
      ],
      "text/markdown": [
       "\n",
       "A data.frame: 23 × 2\n",
       "\n",
       "| year &lt;int&gt; | porcentaje &lt;dbl&gt; |\n",
       "|---|---|\n",
       "| 2023 | 78.45214 |\n",
       "| 2024 | 78.85636 |\n",
       "| 2025 | 79.26265 |\n",
       "| 2026 | 79.67104 |\n",
       "| 2027 | 80.08154 |\n",
       "| 2028 | 80.49415 |\n",
       "| 2029 | 80.90888 |\n",
       "| 2030 | 81.32575 |\n",
       "| 2031 | 81.74477 |\n",
       "| 2032 | 82.16595 |\n",
       "| 2033 | 82.58930 |\n",
       "| 2034 | 83.01483 |\n",
       "| 2035 | 83.44255 |\n",
       "| 2036 | 83.87248 |\n",
       "| 2037 | 84.30462 |\n",
       "| 2038 | 84.73899 |\n",
       "| 2039 | 85.17560 |\n",
       "| 2040 | 85.61445 |\n",
       "| 2041 | 86.05557 |\n",
       "| 2042 | 86.49896 |\n",
       "| 2043 | 86.94463 |\n",
       "| 2044 | 87.39260 |\n",
       "| 2045 | 87.84288 |\n",
       "\n"
      ],
      "text/plain": [
       "   year porcentaje\n",
       "1  2023 78.45214  \n",
       "2  2024 78.85636  \n",
       "3  2025 79.26265  \n",
       "4  2026 79.67104  \n",
       "5  2027 80.08154  \n",
       "6  2028 80.49415  \n",
       "7  2029 80.90888  \n",
       "8  2030 81.32575  \n",
       "9  2031 81.74477  \n",
       "10 2032 82.16595  \n",
       "11 2033 82.58930  \n",
       "12 2034 83.01483  \n",
       "13 2035 83.44255  \n",
       "14 2036 83.87248  \n",
       "15 2037 84.30462  \n",
       "16 2038 84.73899  \n",
       "17 2039 85.17560  \n",
       "18 2040 85.61445  \n",
       "19 2041 86.05557  \n",
       "20 2042 86.49896  \n",
       "21 2043 86.94463  \n",
       "22 2044 87.39260  \n",
       "23 2045 87.84288  "
      ]
     },
     "metadata": {},
     "output_type": "display_data"
    }
   ],
   "source": [
    "est_dotac<-estimacion(tabla_dotac_agua,2018,2022,5,\"porcentaje\")\n",
    "est_dotac"
   ]
  },
  {
   "cell_type": "code",
   "execution_count": 19,
   "id": "857726c58ff34c9e",
   "metadata": {
    "ExecuteTime": {
     "end_time": "2025-03-21T20:09:49.130749Z",
     "start_time": "2025-03-21T20:09:48.909104Z"
    },
    "vscode": {
     "languageId": "r"
    }
   },
   "outputs": [
    {
     "name": "stderr",
     "output_type": "stream",
     "text": [
      "Warning message:\n",
      "\"\u001b[1m\u001b[22mUsing `size` aesthetic for lines was deprecated in ggplot2 3.4.0.\n",
      "\u001b[36mℹ\u001b[39m Please use `linewidth` instead.\"\n"
     ]
    },
    {
     "data": {
      "image/png": "[encoded data removed]",
      "text/plain": [
       "plot without title"
      ]
     },
     "metadata": {
      "image/png": {
       "height": 420,
       "width": 420
      }
     },
     "output_type": "display_data"
    }
   ],
   "source": [
    "tabla_dotac_agua%>%\n",
    "select(year,porcentaje)%>%\n",
    "mutate(year=as.numeric(year))%>%\n",
    "#Pegar hacia abajo\n",
    "bind_rows(est_dotac)%>%\n",
    "ggplot(aes(x=year,y=porcentaje))+\n",
    "geom_line(color=\"#235B4E\",size=2)+\n",
    "  geom_vline(xintercept = 2022, linetype = \"dashed\", color = \"red\", size = 1)+\n",
    "labs(title=\"Porcentaje de viviendas con disponibilidad de agua diaria\",\n",
    "     subtitle=\"\",\n",
    "     caption=paste0(\"Fuente: Elaborado por IPDP con información de INEGI. Encuesta Nacional de Ingresos y Gastos de los Hogares (ENIGH).\"),\n",
    "        x=\"\",\n",
    "        y=\"Porcentaje\")+\n",
    "theme_minimal()+\n",
    "theme(legend.position=\"none\",\n",
    "      text=element_text(family=\"pop\"),\n",
    "      plot.title = element_text(size=20,face=\"bold\"),\n",
    "      plot.subtitle = element_text(size=15,face=\"italic\"),\n",
    "      plot.caption = element_text(size=12,hjust=0))\n",
    "\n",
    "#ggsave(\"dotacion_agua.png\",width=12,height=10,dpi=100, bg=\"white\")\n"
   ]
  },
  {
   "cell_type": "code",
   "execution_count": 20,
   "id": "5442ac8b",
   "metadata": {
    "vscode": {
     "languageId": "r"
    }
   },
   "outputs": [
    {
     "data": {
      "text/html": [
       "<table class=\"dataframe\">\n",
       "<caption>A tibble: 27 × 4</caption>\n",
       "<thead>\n",
       "\t<tr><th scope=col>year</th><th scope=col>estimado</th><th scope=col>superior</th><th scope=col>inferior</th></tr>\n",
       "\t<tr><th scope=col>&lt;dbl&gt;</th><th scope=col>&lt;dbl&gt;</th><th scope=col>&lt;dbl&gt;</th><th scope=col>&lt;dbl&gt;</th></tr>\n",
       "</thead>\n",
       "<tbody>\n",
       "\t<tr><td>2016</td><td>79.49000</td><td>79.49000</td><td>79.49000</td></tr>\n",
       "\t<tr><td>2018</td><td>76.07000</td><td>76.07000</td><td>76.07000</td></tr>\n",
       "\t<tr><td>2020</td><td>79.88000</td><td>79.88000</td><td>79.88000</td></tr>\n",
       "\t<tr><td>2022</td><td>78.05000</td><td>78.05000</td><td>78.05000</td></tr>\n",
       "\t<tr><td>2023</td><td>78.45214</td><td>78.49137</td><td>78.41294</td></tr>\n",
       "\t<tr><td>2024</td><td>78.85636</td><td>78.93523</td><td>78.77756</td></tr>\n",
       "\t<tr><td>2025</td><td>79.26265</td><td>79.38161</td><td>79.14388</td></tr>\n",
       "\t<tr><td>2026</td><td>79.67104</td><td>79.83050</td><td>79.51190</td></tr>\n",
       "\t<tr><td>2027</td><td>80.08154</td><td>80.28194</td><td>79.88163</td></tr>\n",
       "\t<tr><td>2028</td><td>80.49415</td><td>80.73593</td><td>80.25309</td></tr>\n",
       "\t<tr><td>2029</td><td>80.90888</td><td>81.19249</td><td>80.62627</td></tr>\n",
       "\t<tr><td>2030</td><td>81.32575</td><td>81.65163</td><td>81.00118</td></tr>\n",
       "\t<tr><td>2031</td><td>81.74477</td><td>82.11336</td><td>81.37784</td></tr>\n",
       "\t<tr><td>2032</td><td>82.16595</td><td>82.57771</td><td>81.75625</td></tr>\n",
       "\t<tr><td>2033</td><td>82.58930</td><td>83.04468</td><td>82.13642</td></tr>\n",
       "\t<tr><td>2034</td><td>83.01483</td><td>83.51429</td><td>82.51836</td></tr>\n",
       "\t<tr><td>2035</td><td>83.44255</td><td>83.98656</td><td>82.90207</td></tr>\n",
       "\t<tr><td>2036</td><td>83.87248</td><td>84.46150</td><td>83.28757</td></tr>\n",
       "\t<tr><td>2037</td><td>84.30462</td><td>84.93912</td><td>83.67486</td></tr>\n",
       "\t<tr><td>2038</td><td>84.73899</td><td>85.41945</td><td>84.06395</td></tr>\n",
       "\t<tr><td>2039</td><td>85.17560</td><td>85.90249</td><td>84.45485</td></tr>\n",
       "\t<tr><td>2040</td><td>85.61445</td><td>86.38826</td><td>84.84757</td></tr>\n",
       "\t<tr><td>2041</td><td>86.05557</td><td>86.87678</td><td>85.24211</td></tr>\n",
       "\t<tr><td>2042</td><td>86.49896</td><td>87.36807</td><td>85.63849</td></tr>\n",
       "\t<tr><td>2043</td><td>86.94463</td><td>87.86213</td><td>86.03671</td></tr>\n",
       "\t<tr><td>2044</td><td>87.39260</td><td>88.35898</td><td>86.43679</td></tr>\n",
       "\t<tr><td>2045</td><td>87.84288</td><td>88.85865</td><td>86.83872</td></tr>\n",
       "</tbody>\n",
       "</table>\n"
      ],
      "text/latex": [
       "A tibble: 27 × 4\n",
       "\\begin{tabular}{llll}\n",
       " year & estimado & superior & inferior\\\\\n",
       " <dbl> & <dbl> & <dbl> & <dbl>\\\\\n",
       "\\hline\n",
       "\t 2016 & 79.49000 & 79.49000 & 79.49000\\\\\n",
       "\t 2018 & 76.07000 & 76.07000 & 76.07000\\\\\n",
       "\t 2020 & 79.88000 & 79.88000 & 79.88000\\\\\n",
       "\t 2022 & 78.05000 & 78.05000 & 78.05000\\\\\n",
       "\t 2023 & 78.45214 & 78.49137 & 78.41294\\\\\n",
       "\t 2024 & 78.85636 & 78.93523 & 78.77756\\\\\n",
       "\t 2025 & 79.26265 & 79.38161 & 79.14388\\\\\n",
       "\t 2026 & 79.67104 & 79.83050 & 79.51190\\\\\n",
       "\t 2027 & 80.08154 & 80.28194 & 79.88163\\\\\n",
       "\t 2028 & 80.49415 & 80.73593 & 80.25309\\\\\n",
       "\t 2029 & 80.90888 & 81.19249 & 80.62627\\\\\n",
       "\t 2030 & 81.32575 & 81.65163 & 81.00118\\\\\n",
       "\t 2031 & 81.74477 & 82.11336 & 81.37784\\\\\n",
       "\t 2032 & 82.16595 & 82.57771 & 81.75625\\\\\n",
       "\t 2033 & 82.58930 & 83.04468 & 82.13642\\\\\n",
       "\t 2034 & 83.01483 & 83.51429 & 82.51836\\\\\n",
       "\t 2035 & 83.44255 & 83.98656 & 82.90207\\\\\n",
       "\t 2036 & 83.87248 & 84.46150 & 83.28757\\\\\n",
       "\t 2037 & 84.30462 & 84.93912 & 83.67486\\\\\n",
       "\t 2038 & 84.73899 & 85.41945 & 84.06395\\\\\n",
       "\t 2039 & 85.17560 & 85.90249 & 84.45485\\\\\n",
       "\t 2040 & 85.61445 & 86.38826 & 84.84757\\\\\n",
       "\t 2041 & 86.05557 & 86.87678 & 85.24211\\\\\n",
       "\t 2042 & 86.49896 & 87.36807 & 85.63849\\\\\n",
       "\t 2043 & 86.94463 & 87.86213 & 86.03671\\\\\n",
       "\t 2044 & 87.39260 & 88.35898 & 86.43679\\\\\n",
       "\t 2045 & 87.84288 & 88.85865 & 86.83872\\\\\n",
       "\\end{tabular}\n"
      ],
      "text/markdown": [
       "\n",
       "A tibble: 27 × 4\n",
       "\n",
       "| year &lt;dbl&gt; | estimado &lt;dbl&gt; | superior &lt;dbl&gt; | inferior &lt;dbl&gt; |\n",
       "|---|---|---|---|\n",
       "| 2016 | 79.49000 | 79.49000 | 79.49000 |\n",
       "| 2018 | 76.07000 | 76.07000 | 76.07000 |\n",
       "| 2020 | 79.88000 | 79.88000 | 79.88000 |\n",
       "| 2022 | 78.05000 | 78.05000 | 78.05000 |\n",
       "| 2023 | 78.45214 | 78.49137 | 78.41294 |\n",
       "| 2024 | 78.85636 | 78.93523 | 78.77756 |\n",
       "| 2025 | 79.26265 | 79.38161 | 79.14388 |\n",
       "| 2026 | 79.67104 | 79.83050 | 79.51190 |\n",
       "| 2027 | 80.08154 | 80.28194 | 79.88163 |\n",
       "| 2028 | 80.49415 | 80.73593 | 80.25309 |\n",
       "| 2029 | 80.90888 | 81.19249 | 80.62627 |\n",
       "| 2030 | 81.32575 | 81.65163 | 81.00118 |\n",
       "| 2031 | 81.74477 | 82.11336 | 81.37784 |\n",
       "| 2032 | 82.16595 | 82.57771 | 81.75625 |\n",
       "| 2033 | 82.58930 | 83.04468 | 82.13642 |\n",
       "| 2034 | 83.01483 | 83.51429 | 82.51836 |\n",
       "| 2035 | 83.44255 | 83.98656 | 82.90207 |\n",
       "| 2036 | 83.87248 | 84.46150 | 83.28757 |\n",
       "| 2037 | 84.30462 | 84.93912 | 83.67486 |\n",
       "| 2038 | 84.73899 | 85.41945 | 84.06395 |\n",
       "| 2039 | 85.17560 | 85.90249 | 84.45485 |\n",
       "| 2040 | 85.61445 | 86.38826 | 84.84757 |\n",
       "| 2041 | 86.05557 | 86.87678 | 85.24211 |\n",
       "| 2042 | 86.49896 | 87.36807 | 85.63849 |\n",
       "| 2043 | 86.94463 | 87.86213 | 86.03671 |\n",
       "| 2044 | 87.39260 | 88.35898 | 86.43679 |\n",
       "| 2045 | 87.84288 | 88.85865 | 86.83872 |\n",
       "\n"
      ],
      "text/plain": [
       "   year estimado superior inferior\n",
       "1  2016 79.49000 79.49000 79.49000\n",
       "2  2018 76.07000 76.07000 76.07000\n",
       "3  2020 79.88000 79.88000 79.88000\n",
       "4  2022 78.05000 78.05000 78.05000\n",
       "5  2023 78.45214 78.49137 78.41294\n",
       "6  2024 78.85636 78.93523 78.77756\n",
       "7  2025 79.26265 79.38161 79.14388\n",
       "8  2026 79.67104 79.83050 79.51190\n",
       "9  2027 80.08154 80.28194 79.88163\n",
       "10 2028 80.49415 80.73593 80.25309\n",
       "11 2029 80.90888 81.19249 80.62627\n",
       "12 2030 81.32575 81.65163 81.00118\n",
       "13 2031 81.74477 82.11336 81.37784\n",
       "14 2032 82.16595 82.57771 81.75625\n",
       "15 2033 82.58930 83.04468 82.13642\n",
       "16 2034 83.01483 83.51429 82.51836\n",
       "17 2035 83.44255 83.98656 82.90207\n",
       "18 2036 83.87248 84.46150 83.28757\n",
       "19 2037 84.30462 84.93912 83.67486\n",
       "20 2038 84.73899 85.41945 84.06395\n",
       "21 2039 85.17560 85.90249 84.45485\n",
       "22 2040 85.61445 86.38826 84.84757\n",
       "23 2041 86.05557 86.87678 85.24211\n",
       "24 2042 86.49896 87.36807 85.63849\n",
       "25 2043 86.94463 87.86213 86.03671\n",
       "26 2044 87.39260 88.35898 86.43679\n",
       "27 2045 87.84288 88.85865 86.83872"
      ]
     },
     "metadata": {},
     "output_type": "display_data"
    }
   ],
   "source": [
    "serie_completa <- bind_rows(\n",
    "  tabla_dotac_agua %>%\n",
    "    mutate(year = as.numeric(year)) %>%\n",
    "    intervals(\"porcentaje\", margen = 0, año_base = 2022),\n",
    "  \n",
    "  est_dotac %>%\n",
    "    mutate(year = as.numeric(year)) %>%\n",
    "    intervals(\"porcentaje\", margen =  0.0005 , año_base = 2022)\n",
    ")\n",
    "serie_completa"
   ]
  },
  {
   "cell_type": "code",
   "execution_count": 21,
   "id": "f9d73aaf",
   "metadata": {
    "vscode": {
     "languageId": "r"
    }
   },
   "outputs": [
    {
     "data": {
      "image/png": "[encoded data removed]",
      "text/plain": [
       "plot without title"
      ]
     },
     "metadata": {
      "image/png": {
       "height": 420,
       "width": 420
      }
     },
     "output_type": "display_data"
    }
   ],
   "source": [
    "grafica_bonita(\n",
    "  data = serie_completa,\n",
    "  x = \"year\",\n",
    "  y = \"estimado\",\n",
    "  titulo = \"Porcentaje de viviendas con disponibilidad de agua diaria\",\n",
    "  linea_vertical = 2022,\n",
    "  ano_base=2022,\n",
    "  mostrar_intervalo = \"ambos\",\n",
    "  nombre_observado = \"Observado\",\n",
    "  nombre_estimado_futuro = \"Deseable\",\n",
    "  nombre_intervalo_superior = \"Transformador\",\n",
    "  nombre_intervalo_inferior = \"Inercial\",\n",
    "  mostrar_leyenda = TRUE,\n",
    "  fuente = \"pop\",\n",
    "  etiqueta_x = \"Año\",\n",
    "  etiqueta_y = \"Porcentaje\",\n",
    "  titulo_leyenda = \"Escenarios\",\n",
    "  limite_inferior_y = 70\n",
    ")\n",
    "\n",
    "#ggsave(\"agua_diaria_estimada.png\", width = 12, height = 10, dpi = 100, bg = \"white\")"
   ]
  },
  {
   "cell_type": "code",
   "execution_count": 22,
   "id": "5fa0e181c46f651a",
   "metadata": {
    "ExecuteTime": {
     "end_time": "2025-03-21T19:52:05.785048Z",
     "start_time": "2025-03-21T19:52:05.769725Z"
    },
    "vscode": {
     "languageId": "r"
    }
   },
   "outputs": [
    {
     "data": {
      "text/html": [
       "<table class=\"dataframe\">\n",
       "<caption>A data.frame: 23 × 2</caption>\n",
       "<thead>\n",
       "\t<tr><th scope=col>year</th><th scope=col>porcentaje</th></tr>\n",
       "\t<tr><th scope=col>&lt;int&gt;</th><th scope=col>&lt;dbl&gt;</th></tr>\n",
       "</thead>\n",
       "<tbody>\n",
       "\t<tr><td>2023</td><td>92.56942</td></tr>\n",
       "\t<tr><td>2024</td><td>92.77931</td></tr>\n",
       "\t<tr><td>2025</td><td>92.98968</td></tr>\n",
       "\t<tr><td>2026</td><td>93.20052</td></tr>\n",
       "\t<tr><td>2027</td><td>93.41184</td></tr>\n",
       "\t<tr><td>2028</td><td>93.62365</td></tr>\n",
       "\t<tr><td>2029</td><td>93.83593</td></tr>\n",
       "\t<tr><td>2030</td><td>94.04869</td></tr>\n",
       "\t<tr><td>2031</td><td>94.26194</td></tr>\n",
       "\t<tr><td>2032</td><td>94.47567</td></tr>\n",
       "\t<tr><td>2033</td><td>94.68988</td></tr>\n",
       "\t<tr><td>2034</td><td>94.90458</td></tr>\n",
       "\t<tr><td>2035</td><td>95.11977</td></tr>\n",
       "\t<tr><td>2036</td><td>95.33544</td></tr>\n",
       "\t<tr><td>2037</td><td>95.55161</td></tr>\n",
       "\t<tr><td>2038</td><td>95.76826</td></tr>\n",
       "\t<tr><td>2039</td><td>95.98540</td></tr>\n",
       "\t<tr><td>2040</td><td>96.20304</td></tr>\n",
       "\t<tr><td>2041</td><td>96.42117</td></tr>\n",
       "\t<tr><td>2042</td><td>96.63980</td></tr>\n",
       "\t<tr><td>2043</td><td>96.85892</td></tr>\n",
       "\t<tr><td>2044</td><td>97.07854</td></tr>\n",
       "\t<tr><td>2045</td><td>97.29865</td></tr>\n",
       "</tbody>\n",
       "</table>\n"
      ],
      "text/latex": [
       "A data.frame: 23 × 2\n",
       "\\begin{tabular}{ll}\n",
       " year & porcentaje\\\\\n",
       " <int> & <dbl>\\\\\n",
       "\\hline\n",
       "\t 2023 & 92.56942\\\\\n",
       "\t 2024 & 92.77931\\\\\n",
       "\t 2025 & 92.98968\\\\\n",
       "\t 2026 & 93.20052\\\\\n",
       "\t 2027 & 93.41184\\\\\n",
       "\t 2028 & 93.62365\\\\\n",
       "\t 2029 & 93.83593\\\\\n",
       "\t 2030 & 94.04869\\\\\n",
       "\t 2031 & 94.26194\\\\\n",
       "\t 2032 & 94.47567\\\\\n",
       "\t 2033 & 94.68988\\\\\n",
       "\t 2034 & 94.90458\\\\\n",
       "\t 2035 & 95.11977\\\\\n",
       "\t 2036 & 95.33544\\\\\n",
       "\t 2037 & 95.55161\\\\\n",
       "\t 2038 & 95.76826\\\\\n",
       "\t 2039 & 95.98540\\\\\n",
       "\t 2040 & 96.20304\\\\\n",
       "\t 2041 & 96.42117\\\\\n",
       "\t 2042 & 96.63980\\\\\n",
       "\t 2043 & 96.85892\\\\\n",
       "\t 2044 & 97.07854\\\\\n",
       "\t 2045 & 97.29865\\\\\n",
       "\\end{tabular}\n"
      ],
      "text/markdown": [
       "\n",
       "A data.frame: 23 × 2\n",
       "\n",
       "| year &lt;int&gt; | porcentaje &lt;dbl&gt; |\n",
       "|---|---|\n",
       "| 2023 | 92.56942 |\n",
       "| 2024 | 92.77931 |\n",
       "| 2025 | 92.98968 |\n",
       "| 2026 | 93.20052 |\n",
       "| 2027 | 93.41184 |\n",
       "| 2028 | 93.62365 |\n",
       "| 2029 | 93.83593 |\n",
       "| 2030 | 94.04869 |\n",
       "| 2031 | 94.26194 |\n",
       "| 2032 | 94.47567 |\n",
       "| 2033 | 94.68988 |\n",
       "| 2034 | 94.90458 |\n",
       "| 2035 | 95.11977 |\n",
       "| 2036 | 95.33544 |\n",
       "| 2037 | 95.55161 |\n",
       "| 2038 | 95.76826 |\n",
       "| 2039 | 95.98540 |\n",
       "| 2040 | 96.20304 |\n",
       "| 2041 | 96.42117 |\n",
       "| 2042 | 96.63980 |\n",
       "| 2043 | 96.85892 |\n",
       "| 2044 | 97.07854 |\n",
       "| 2045 | 97.29865 |\n",
       "\n"
      ],
      "text/plain": [
       "   year porcentaje\n",
       "1  2023 92.56942  \n",
       "2  2024 92.77931  \n",
       "3  2025 92.98968  \n",
       "4  2026 93.20052  \n",
       "5  2027 93.41184  \n",
       "6  2028 93.62365  \n",
       "7  2029 93.83593  \n",
       "8  2030 94.04869  \n",
       "9  2031 94.26194  \n",
       "10 2032 94.47567  \n",
       "11 2033 94.68988  \n",
       "12 2034 94.90458  \n",
       "13 2035 95.11977  \n",
       "14 2036 95.33544  \n",
       "15 2037 95.55161  \n",
       "16 2038 95.76826  \n",
       "17 2039 95.98540  \n",
       "18 2040 96.20304  \n",
       "19 2041 96.42117  \n",
       "20 2042 96.63980  \n",
       "21 2043 96.85892  \n",
       "22 2044 97.07854  \n",
       "23 2045 97.29865  "
      ]
     },
     "metadata": {},
     "output_type": "display_data"
    }
   ],
   "source": [
    "est_disp<-estimacion(tabla_disp_agua,2020,2022,5,\"porcentaje\")\n",
    "est_disp"
   ]
  },
  {
   "cell_type": "code",
   "execution_count": 23,
   "id": "e982df339d17ea4b",
   "metadata": {
    "ExecuteTime": {
     "end_time": "2025-03-21T20:15:09.234898Z",
     "start_time": "2025-03-21T20:15:08.995953Z"
    },
    "vscode": {
     "languageId": "r"
    }
   },
   "outputs": [
    {
     "data": {
      "image/png": "[encoded data removed]",
      "text/plain": [
       "plot without title"
      ]
     },
     "metadata": {
      "image/png": {
       "height": 420,
       "width": 420
      }
     },
     "output_type": "display_data"
    }
   ],
   "source": [
    "tabla_disp_agua%>%\n",
    "select(year,porcentaje)%>%\n",
    "mutate(year=as.numeric(year))%>%\n",
    "#Pegar hacia abajo\n",
    "bind_rows(est_disp)%>%\n",
    "ggplot(aes(x=year,y=porcentaje))+\n",
    "geom_line(color=\"#235B4E\",size=2)+\n",
    "  geom_vline(xintercept = 2022, linetype = \"dashed\", color = \"red\", size = 1)+\n",
    "labs(title=\"Porcentaje de viviendas con disponibilidad de agua entubada dentro de la vivienda\",\n",
    "     subtitle=\"\",\n",
    "     caption=paste0(\"Fuente: Elaborado por IPDP con información de INEGI. Encuesta Nacional de Ingresos y Gastos de los Hogares (ENIGH).\"),\n",
    "        x=\"\",\n",
    "        y=\"Porcentaje\")+\n",
    "theme_minimal()+\n",
    "theme(legend.position=\"none\",\n",
    "      text=element_text(family=\"pop\"),\n",
    "      plot.title = element_text(size=20,face=\"bold\"),\n",
    "      plot.subtitle = element_text(size=15,face=\"italic\"),\n",
    "      plot.caption = element_text(size=12,hjust=0))\n",
    "\n",
    "#ggsave(\"disp_agua.png\",width=12,height=10,dpi=100, bg=\"white\")\n"
   ]
  },
  {
   "cell_type": "code",
   "execution_count": 24,
   "id": "6cf36bc79c28e2bf",
   "metadata": {
    "ExecuteTime": {
     "end_time": "2025-03-21T19:52:06.084526Z",
     "start_time": "2025-03-21T19:52:06.069416Z"
    },
    "vscode": {
     "languageId": "r"
    }
   },
   "outputs": [
    {
     "data": {
      "text/html": [
       "<table class=\"dataframe\">\n",
       "<caption>A tibble: 4 × 6</caption>\n",
       "<thead>\n",
       "\t<tr><th scope=col>p4_1_4</th><th scope=col>personas</th><th scope=col>personas_cv</th><th scope=col>porcentaje</th><th scope=col>porcentaje_cv</th><th scope=col>year</th></tr>\n",
       "\t<tr><th scope=col>&lt;dbl&gt;</th><th scope=col>&lt;dbl&gt;</th><th scope=col>&lt;dbl&gt;</th><th scope=col>&lt;dbl&gt;</th><th scope=col>&lt;dbl&gt;</th><th scope=col>&lt;chr&gt;</th></tr>\n",
       "</thead>\n",
       "<tbody>\n",
       "\t<tr><td>1</td><td>2178683</td><td>0.03960191</td><td>24.85</td><td>0.03621243</td><td>2017</td></tr>\n",
       "\t<tr><td>1</td><td>2354994</td><td>0.02640651</td><td>33.93</td><td>0.02473607</td><td>2019</td></tr>\n",
       "\t<tr><td>1</td><td>2250081</td><td>0.02684317</td><td>32.34</td><td>0.02598258</td><td>2021</td></tr>\n",
       "\t<tr><td>1</td><td>2880457</td><td>0.02507924</td><td>38.02</td><td>0.02274877</td><td>2023</td></tr>\n",
       "</tbody>\n",
       "</table>\n"
      ],
      "text/latex": [
       "A tibble: 4 × 6\n",
       "\\begin{tabular}{llllll}\n",
       " p4\\_1\\_4 & personas & personas\\_cv & porcentaje & porcentaje\\_cv & year\\\\\n",
       " <dbl> & <dbl> & <dbl> & <dbl> & <dbl> & <chr>\\\\\n",
       "\\hline\n",
       "\t 1 & 2178683 & 0.03960191 & 24.85 & 0.03621243 & 2017\\\\\n",
       "\t 1 & 2354994 & 0.02640651 & 33.93 & 0.02473607 & 2019\\\\\n",
       "\t 1 & 2250081 & 0.02684317 & 32.34 & 0.02598258 & 2021\\\\\n",
       "\t 1 & 2880457 & 0.02507924 & 38.02 & 0.02274877 & 2023\\\\\n",
       "\\end{tabular}\n"
      ],
      "text/markdown": [
       "\n",
       "A tibble: 4 × 6\n",
       "\n",
       "| p4_1_4 &lt;dbl&gt; | personas &lt;dbl&gt; | personas_cv &lt;dbl&gt; | porcentaje &lt;dbl&gt; | porcentaje_cv &lt;dbl&gt; | year &lt;chr&gt; |\n",
       "|---|---|---|---|---|---|\n",
       "| 1 | 2178683 | 0.03960191 | 24.85 | 0.03621243 | 2017 |\n",
       "| 1 | 2354994 | 0.02640651 | 33.93 | 0.02473607 | 2019 |\n",
       "| 1 | 2250081 | 0.02684317 | 32.34 | 0.02598258 | 2021 |\n",
       "| 1 | 2880457 | 0.02507924 | 38.02 | 0.02274877 | 2023 |\n",
       "\n"
      ],
      "text/plain": [
       "  p4_1_4 personas personas_cv porcentaje porcentaje_cv year\n",
       "1 1      2178683  0.03960191  24.85      0.03621243    2017\n",
       "2 1      2354994  0.02640651  33.93      0.02473607    2019\n",
       "3 1      2250081  0.02684317  32.34      0.02598258    2021\n",
       "4 1      2880457  0.02507924  38.02      0.02274877    2023"
      ]
     },
     "metadata": {},
     "output_type": "display_data"
    }
   ],
   "source": [
    "tabla_fugas_agua"
   ]
  },
  {
   "cell_type": "code",
   "execution_count": 25,
   "id": "5afcbb7dbf4cae4e",
   "metadata": {
    "ExecuteTime": {
     "end_time": "2025-03-21T19:52:06.163642Z",
     "start_time": "2025-03-21T19:52:06.145349Z"
    },
    "vscode": {
     "languageId": "r"
    }
   },
   "outputs": [
    {
     "data": {
      "text/html": [
       "<table class=\"dataframe\">\n",
       "<caption>A data.frame: 22 × 2</caption>\n",
       "<thead>\n",
       "\t<tr><th scope=col>year</th><th scope=col>porcentaje</th></tr>\n",
       "\t<tr><th scope=col>&lt;int&gt;</th><th scope=col>&lt;dbl&gt;</th></tr>\n",
       "</thead>\n",
       "<tbody>\n",
       "\t<tr><td>2024</td><td>38.83706</td></tr>\n",
       "\t<tr><td>2025</td><td>39.67169</td></tr>\n",
       "\t<tr><td>2026</td><td>40.52425</td></tr>\n",
       "\t<tr><td>2027</td><td>41.39513</td></tr>\n",
       "\t<tr><td>2028</td><td>42.28473</td></tr>\n",
       "\t<tr><td>2029</td><td>43.19344</td></tr>\n",
       "\t<tr><td>2030</td><td>44.12169</td></tr>\n",
       "\t<tr><td>2031</td><td>45.06988</td></tr>\n",
       "\t<tr><td>2032</td><td>46.03845</td></tr>\n",
       "\t<tr><td>2033</td><td>47.02783</td></tr>\n",
       "\t<tr><td>2034</td><td>48.03848</td></tr>\n",
       "\t<tr><td>2035</td><td>49.07085</td></tr>\n",
       "\t<tr><td>2036</td><td>50.12540</td></tr>\n",
       "\t<tr><td>2037</td><td>51.20261</td></tr>\n",
       "\t<tr><td>2038</td><td>52.30298</td></tr>\n",
       "\t<tr><td>2039</td><td>53.42699</td></tr>\n",
       "\t<tr><td>2040</td><td>54.57515</td></tr>\n",
       "\t<tr><td>2041</td><td>55.74800</td></tr>\n",
       "\t<tr><td>2042</td><td>56.94604</td></tr>\n",
       "\t<tr><td>2043</td><td>58.16984</td></tr>\n",
       "\t<tr><td>2044</td><td>59.41993</td></tr>\n",
       "\t<tr><td>2045</td><td>60.69689</td></tr>\n",
       "</tbody>\n",
       "</table>\n"
      ],
      "text/latex": [
       "A data.frame: 22 × 2\n",
       "\\begin{tabular}{ll}\n",
       " year & porcentaje\\\\\n",
       " <int> & <dbl>\\\\\n",
       "\\hline\n",
       "\t 2024 & 38.83706\\\\\n",
       "\t 2025 & 39.67169\\\\\n",
       "\t 2026 & 40.52425\\\\\n",
       "\t 2027 & 41.39513\\\\\n",
       "\t 2028 & 42.28473\\\\\n",
       "\t 2029 & 43.19344\\\\\n",
       "\t 2030 & 44.12169\\\\\n",
       "\t 2031 & 45.06988\\\\\n",
       "\t 2032 & 46.03845\\\\\n",
       "\t 2033 & 47.02783\\\\\n",
       "\t 2034 & 48.03848\\\\\n",
       "\t 2035 & 49.07085\\\\\n",
       "\t 2036 & 50.12540\\\\\n",
       "\t 2037 & 51.20261\\\\\n",
       "\t 2038 & 52.30298\\\\\n",
       "\t 2039 & 53.42699\\\\\n",
       "\t 2040 & 54.57515\\\\\n",
       "\t 2041 & 55.74800\\\\\n",
       "\t 2042 & 56.94604\\\\\n",
       "\t 2043 & 58.16984\\\\\n",
       "\t 2044 & 59.41993\\\\\n",
       "\t 2045 & 60.69689\\\\\n",
       "\\end{tabular}\n"
      ],
      "text/markdown": [
       "\n",
       "A data.frame: 22 × 2\n",
       "\n",
       "| year &lt;int&gt; | porcentaje &lt;dbl&gt; |\n",
       "|---|---|\n",
       "| 2024 | 38.83706 |\n",
       "| 2025 | 39.67169 |\n",
       "| 2026 | 40.52425 |\n",
       "| 2027 | 41.39513 |\n",
       "| 2028 | 42.28473 |\n",
       "| 2029 | 43.19344 |\n",
       "| 2030 | 44.12169 |\n",
       "| 2031 | 45.06988 |\n",
       "| 2032 | 46.03845 |\n",
       "| 2033 | 47.02783 |\n",
       "| 2034 | 48.03848 |\n",
       "| 2035 | 49.07085 |\n",
       "| 2036 | 50.12540 |\n",
       "| 2037 | 51.20261 |\n",
       "| 2038 | 52.30298 |\n",
       "| 2039 | 53.42699 |\n",
       "| 2040 | 54.57515 |\n",
       "| 2041 | 55.74800 |\n",
       "| 2042 | 56.94604 |\n",
       "| 2043 | 58.16984 |\n",
       "| 2044 | 59.41993 |\n",
       "| 2045 | 60.69689 |\n",
       "\n"
      ],
      "text/plain": [
       "   year porcentaje\n",
       "1  2024 38.83706  \n",
       "2  2025 39.67169  \n",
       "3  2026 40.52425  \n",
       "4  2027 41.39513  \n",
       "5  2028 42.28473  \n",
       "6  2029 43.19344  \n",
       "7  2030 44.12169  \n",
       "8  2031 45.06988  \n",
       "9  2032 46.03845  \n",
       "10 2033 47.02783  \n",
       "11 2034 48.03848  \n",
       "12 2035 49.07085  \n",
       "13 2036 50.12540  \n",
       "14 2037 51.20261  \n",
       "15 2038 52.30298  \n",
       "16 2039 53.42699  \n",
       "17 2040 54.57515  \n",
       "18 2041 55.74800  \n",
       "19 2042 56.94604  \n",
       "20 2043 58.16984  \n",
       "21 2044 59.41993  \n",
       "22 2045 60.69689  "
      ]
     },
     "metadata": {},
     "output_type": "display_data"
    }
   ],
   "source": [
    "est_fugas<-estimacion(tabla_fugas_agua,2017,2023,20,\"porcentaje\")\n",
    "est_fugas"
   ]
  },
  {
   "cell_type": "code",
   "execution_count": 26,
   "id": "edd2c8f88ef82674",
   "metadata": {
    "ExecuteTime": {
     "end_time": "2025-03-21T20:16:13.991585Z",
     "start_time": "2025-03-21T20:16:13.579746Z"
    },
    "vscode": {
     "languageId": "r"
    }
   },
   "outputs": [
    {
     "data": {
      "image/png": "[encoded data removed]",
      "text/plain": [
       "plot without title"
      ]
     },
     "metadata": {
      "image/png": {
       "height": 420,
       "width": 420
      }
     },
     "output_type": "display_data"
    }
   ],
   "source": [
    "tabla_fugas_agua%>%\n",
    "select(year,porcentaje)%>%\n",
    "mutate(year=as.numeric(year))%>%\n",
    "#Pegar hacia abajo\n",
    "bind_rows(est_fugas)%>%\n",
    "ggplot(aes(x=year,y=porcentaje))+\n",
    "geom_line(color=\"#235B4E\",size=2)+\n",
    "  geom_vline(xintercept = 2023, linetype = \"dashed\", color = \"red\", size = 1)+\n",
    "labs(title=\"Porcentaje de personas de 18 años y más que refirió que el agua potable en la ciudad\n",
    "no se desperdicia a causa de fugas\",\n",
    "     subtitle=\"\",\n",
    "     caption=paste0(\"Fuente: Elaborado por IPDP con información de INEGI. Encuesta Nacional de Ingresos y Gastos de los Hogares (ENIGH).\"),\n",
    "        x=\"\",\n",
    "        y=\"Porcentaje\")+\n",
    "theme_minimal()+\n",
    "theme(legend.position=\"none\",\n",
    "      text=element_text(family=\"pop\"),\n",
    "      plot.title = element_text(size=20,face=\"bold\"),\n",
    "      plot.subtitle = element_text(size=15,face=\"italic\"),\n",
    "      plot.caption = element_text(size=12,hjust=0))\n",
    "\n",
    "#ggsave(\"fugas.png\",width=12,height=10,dpi=100, bg=\"white\")"
   ]
  },
  {
   "cell_type": "code",
   "execution_count": 27,
   "id": "9e72c4b8",
   "metadata": {
    "vscode": {
     "languageId": "r"
    }
   },
   "outputs": [
    {
     "data": {
      "text/html": [
       "<table class=\"dataframe\">\n",
       "<caption>A tibble: 27 × 4</caption>\n",
       "<thead>\n",
       "\t<tr><th scope=col>year</th><th scope=col>estimado</th><th scope=col>superior</th><th scope=col>inferior</th></tr>\n",
       "\t<tr><th scope=col>&lt;dbl&gt;</th><th scope=col>&lt;dbl&gt;</th><th scope=col>&lt;dbl&gt;</th><th scope=col>&lt;dbl&gt;</th></tr>\n",
       "</thead>\n",
       "<tbody>\n",
       "\t<tr><td>2016</td><td>88.77000</td><td>88.77000</td><td>88.77000</td></tr>\n",
       "\t<tr><td>2018</td><td>89.97000</td><td>89.97000</td><td>89.97000</td></tr>\n",
       "\t<tr><td>2020</td><td>91.32000</td><td>91.32000</td><td>91.32000</td></tr>\n",
       "\t<tr><td>2022</td><td>92.36000</td><td>92.36000</td><td>92.36000</td></tr>\n",
       "\t<tr><td>2023</td><td>92.56942</td><td>92.66199</td><td>92.47694</td></tr>\n",
       "\t<tr><td>2024</td><td>92.77931</td><td>92.96496</td><td>92.59403</td></tr>\n",
       "\t<tr><td>2025</td><td>92.98968</td><td>93.26892</td><td>92.71126</td></tr>\n",
       "\t<tr><td>2026</td><td>93.20052</td><td>93.57388</td><td>92.82865</td></tr>\n",
       "\t<tr><td>2027</td><td>93.41184</td><td>93.87984</td><td>92.94618</td></tr>\n",
       "\t<tr><td>2028</td><td>93.62365</td><td>94.18679</td><td>93.06386</td></tr>\n",
       "\t<tr><td>2029</td><td>93.83593</td><td>94.49475</td><td>93.18170</td></tr>\n",
       "\t<tr><td>2030</td><td>94.04869</td><td>94.80372</td><td>93.29968</td></tr>\n",
       "\t<tr><td>2031</td><td>94.26194</td><td>95.11370</td><td>93.41781</td></tr>\n",
       "\t<tr><td>2032</td><td>94.47567</td><td>95.42469</td><td>93.53609</td></tr>\n",
       "\t<tr><td>2033</td><td>94.68988</td><td>95.73669</td><td>93.65451</td></tr>\n",
       "\t<tr><td>2034</td><td>94.90458</td><td>96.04972</td><td>93.77309</td></tr>\n",
       "\t<tr><td>2035</td><td>95.11977</td><td>96.36377</td><td>93.89182</td></tr>\n",
       "\t<tr><td>2036</td><td>95.33544</td><td>96.67885</td><td>94.01070</td></tr>\n",
       "\t<tr><td>2037</td><td>95.55161</td><td>96.99496</td><td>94.12973</td></tr>\n",
       "\t<tr><td>2038</td><td>95.76826</td><td>97.31210</td><td>94.24891</td></tr>\n",
       "\t<tr><td>2039</td><td>95.98540</td><td>97.63028</td><td>94.36825</td></tr>\n",
       "\t<tr><td>2040</td><td>96.20304</td><td>97.94949</td><td>94.48773</td></tr>\n",
       "\t<tr><td>2041</td><td>96.42117</td><td>98.26976</td><td>94.60736</td></tr>\n",
       "\t<tr><td>2042</td><td>96.63980</td><td>98.59107</td><td>94.72715</td></tr>\n",
       "\t<tr><td>2043</td><td>96.85892</td><td>98.91343</td><td>94.84708</td></tr>\n",
       "\t<tr><td>2044</td><td>97.07854</td><td>99.23684</td><td>94.96717</td></tr>\n",
       "\t<tr><td>2045</td><td>97.29865</td><td>99.56131</td><td>95.08741</td></tr>\n",
       "</tbody>\n",
       "</table>\n"
      ],
      "text/latex": [
       "A tibble: 27 × 4\n",
       "\\begin{tabular}{llll}\n",
       " year & estimado & superior & inferior\\\\\n",
       " <dbl> & <dbl> & <dbl> & <dbl>\\\\\n",
       "\\hline\n",
       "\t 2016 & 88.77000 & 88.77000 & 88.77000\\\\\n",
       "\t 2018 & 89.97000 & 89.97000 & 89.97000\\\\\n",
       "\t 2020 & 91.32000 & 91.32000 & 91.32000\\\\\n",
       "\t 2022 & 92.36000 & 92.36000 & 92.36000\\\\\n",
       "\t 2023 & 92.56942 & 92.66199 & 92.47694\\\\\n",
       "\t 2024 & 92.77931 & 92.96496 & 92.59403\\\\\n",
       "\t 2025 & 92.98968 & 93.26892 & 92.71126\\\\\n",
       "\t 2026 & 93.20052 & 93.57388 & 92.82865\\\\\n",
       "\t 2027 & 93.41184 & 93.87984 & 92.94618\\\\\n",
       "\t 2028 & 93.62365 & 94.18679 & 93.06386\\\\\n",
       "\t 2029 & 93.83593 & 94.49475 & 93.18170\\\\\n",
       "\t 2030 & 94.04869 & 94.80372 & 93.29968\\\\\n",
       "\t 2031 & 94.26194 & 95.11370 & 93.41781\\\\\n",
       "\t 2032 & 94.47567 & 95.42469 & 93.53609\\\\\n",
       "\t 2033 & 94.68988 & 95.73669 & 93.65451\\\\\n",
       "\t 2034 & 94.90458 & 96.04972 & 93.77309\\\\\n",
       "\t 2035 & 95.11977 & 96.36377 & 93.89182\\\\\n",
       "\t 2036 & 95.33544 & 96.67885 & 94.01070\\\\\n",
       "\t 2037 & 95.55161 & 96.99496 & 94.12973\\\\\n",
       "\t 2038 & 95.76826 & 97.31210 & 94.24891\\\\\n",
       "\t 2039 & 95.98540 & 97.63028 & 94.36825\\\\\n",
       "\t 2040 & 96.20304 & 97.94949 & 94.48773\\\\\n",
       "\t 2041 & 96.42117 & 98.26976 & 94.60736\\\\\n",
       "\t 2042 & 96.63980 & 98.59107 & 94.72715\\\\\n",
       "\t 2043 & 96.85892 & 98.91343 & 94.84708\\\\\n",
       "\t 2044 & 97.07854 & 99.23684 & 94.96717\\\\\n",
       "\t 2045 & 97.29865 & 99.56131 & 95.08741\\\\\n",
       "\\end{tabular}\n"
      ],
      "text/markdown": [
       "\n",
       "A tibble: 27 × 4\n",
       "\n",
       "| year &lt;dbl&gt; | estimado &lt;dbl&gt; | superior &lt;dbl&gt; | inferior &lt;dbl&gt; |\n",
       "|---|---|---|---|\n",
       "| 2016 | 88.77000 | 88.77000 | 88.77000 |\n",
       "| 2018 | 89.97000 | 89.97000 | 89.97000 |\n",
       "| 2020 | 91.32000 | 91.32000 | 91.32000 |\n",
       "| 2022 | 92.36000 | 92.36000 | 92.36000 |\n",
       "| 2023 | 92.56942 | 92.66199 | 92.47694 |\n",
       "| 2024 | 92.77931 | 92.96496 | 92.59403 |\n",
       "| 2025 | 92.98968 | 93.26892 | 92.71126 |\n",
       "| 2026 | 93.20052 | 93.57388 | 92.82865 |\n",
       "| 2027 | 93.41184 | 93.87984 | 92.94618 |\n",
       "| 2028 | 93.62365 | 94.18679 | 93.06386 |\n",
       "| 2029 | 93.83593 | 94.49475 | 93.18170 |\n",
       "| 2030 | 94.04869 | 94.80372 | 93.29968 |\n",
       "| 2031 | 94.26194 | 95.11370 | 93.41781 |\n",
       "| 2032 | 94.47567 | 95.42469 | 93.53609 |\n",
       "| 2033 | 94.68988 | 95.73669 | 93.65451 |\n",
       "| 2034 | 94.90458 | 96.04972 | 93.77309 |\n",
       "| 2035 | 95.11977 | 96.36377 | 93.89182 |\n",
       "| 2036 | 95.33544 | 96.67885 | 94.01070 |\n",
       "| 2037 | 95.55161 | 96.99496 | 94.12973 |\n",
       "| 2038 | 95.76826 | 97.31210 | 94.24891 |\n",
       "| 2039 | 95.98540 | 97.63028 | 94.36825 |\n",
       "| 2040 | 96.20304 | 97.94949 | 94.48773 |\n",
       "| 2041 | 96.42117 | 98.26976 | 94.60736 |\n",
       "| 2042 | 96.63980 | 98.59107 | 94.72715 |\n",
       "| 2043 | 96.85892 | 98.91343 | 94.84708 |\n",
       "| 2044 | 97.07854 | 99.23684 | 94.96717 |\n",
       "| 2045 | 97.29865 | 99.56131 | 95.08741 |\n",
       "\n"
      ],
      "text/plain": [
       "   year estimado superior inferior\n",
       "1  2016 88.77000 88.77000 88.77000\n",
       "2  2018 89.97000 89.97000 89.97000\n",
       "3  2020 91.32000 91.32000 91.32000\n",
       "4  2022 92.36000 92.36000 92.36000\n",
       "5  2023 92.56942 92.66199 92.47694\n",
       "6  2024 92.77931 92.96496 92.59403\n",
       "7  2025 92.98968 93.26892 92.71126\n",
       "8  2026 93.20052 93.57388 92.82865\n",
       "9  2027 93.41184 93.87984 92.94618\n",
       "10 2028 93.62365 94.18679 93.06386\n",
       "11 2029 93.83593 94.49475 93.18170\n",
       "12 2030 94.04869 94.80372 93.29968\n",
       "13 2031 94.26194 95.11370 93.41781\n",
       "14 2032 94.47567 95.42469 93.53609\n",
       "15 2033 94.68988 95.73669 93.65451\n",
       "16 2034 94.90458 96.04972 93.77309\n",
       "17 2035 95.11977 96.36377 93.89182\n",
       "18 2036 95.33544 96.67885 94.01070\n",
       "19 2037 95.55161 96.99496 94.12973\n",
       "20 2038 95.76826 97.31210 94.24891\n",
       "21 2039 95.98540 97.63028 94.36825\n",
       "22 2040 96.20304 97.94949 94.48773\n",
       "23 2041 96.42117 98.26976 94.60736\n",
       "24 2042 96.63980 98.59107 94.72715\n",
       "25 2043 96.85892 98.91343 94.84708\n",
       "26 2044 97.07854 99.23684 94.96717\n",
       "27 2045 97.29865 99.56131 95.08741"
      ]
     },
     "metadata": {},
     "output_type": "display_data"
    }
   ],
   "source": [
    "serie_completa <- bind_rows(\n",
    "  tabla_disp_agua %>%\n",
    "    mutate(year = as.numeric(year)) %>%\n",
    "    intervals(\"porcentaje\", margen = 0, año_base = 2022),\n",
    "  \n",
    "  est_disp %>%\n",
    "    mutate(year = as.numeric(year)) %>%\n",
    "    intervals(\"porcentaje\", margen = 0.001 , año_base = 2022)\n",
    ")\n",
    "serie_completa"
   ]
  },
  {
   "cell_type": "code",
   "execution_count": 28,
   "id": "8c67db28",
   "metadata": {
    "vscode": {
     "languageId": "r"
    }
   },
   "outputs": [
    {
     "data": {
      "image/png": "[encoded data removed]",
      "text/plain": [
       "plot without title"
      ]
     },
     "metadata": {
      "image/png": {
       "height": 420,
       "width": 420
      }
     },
     "output_type": "display_data"
    }
   ],
   "source": [
    "grafica_bonita(\n",
    "  data = serie_completa,\n",
    "  x = \"year\",\n",
    "  y = \"estimado\",\n",
    "  titulo = \"Porcentaje de viviendas con \n",
    "disponibilidad de agua entubada dentro de la vivienda\",\n",
    "  linea_vertical = 2022,\n",
    "  ano_base=2022,\n",
    "  mostrar_intervalo = \"ambos\",\n",
    "  nombre_observado = \"Observado\",\n",
    "  nombre_estimado_futuro = \"Deseable\",\n",
    "  nombre_intervalo_superior = \"Transformador\",\n",
    "  nombre_intervalo_inferior = \"Inercial\",\n",
    "  mostrar_leyenda = TRUE,\n",
    "  fuente = \"pop\",\n",
    "  etiqueta_x = \"Año\",\n",
    "  etiqueta_y = \"Porcentaje\",\n",
    "  titulo_leyenda = \"Escenarios\",\n",
    "  limite_inferior_y = 80\n",
    ")\n",
    "\n",
    "#ggsave(\"disp_agua_estimada.png\", width = 12, height = 10, dpi = 100, bg = \"white\")"
   ]
  },
  {
   "cell_type": "code",
   "execution_count": 29,
   "id": "6d22392f",
   "metadata": {
    "vscode": {
     "languageId": "r"
    }
   },
   "outputs": [
    {
     "data": {
      "text/html": [
       "<table class=\"dataframe\">\n",
       "<caption>A tibble: 26 × 4</caption>\n",
       "<thead>\n",
       "\t<tr><th scope=col>year</th><th scope=col>estimado</th><th scope=col>superior</th><th scope=col>inferior</th></tr>\n",
       "\t<tr><th scope=col>&lt;dbl&gt;</th><th scope=col>&lt;dbl&gt;</th><th scope=col>&lt;dbl&gt;</th><th scope=col>&lt;dbl&gt;</th></tr>\n",
       "</thead>\n",
       "<tbody>\n",
       "\t<tr><td>2017</td><td>24.85000</td><td>24.85000</td><td>24.85000</td></tr>\n",
       "\t<tr><td>2019</td><td>33.93000</td><td>33.93000</td><td>33.93000</td></tr>\n",
       "\t<tr><td>2021</td><td>32.34000</td><td>32.34000</td><td>32.34000</td></tr>\n",
       "\t<tr><td>2023</td><td>38.02000</td><td>38.02000</td><td>38.02000</td></tr>\n",
       "\t<tr><td>2024</td><td>38.83706</td><td>38.91474</td><td>38.75955</td></tr>\n",
       "\t<tr><td>2025</td><td>39.67169</td><td>39.83053</td><td>39.51348</td></tr>\n",
       "\t<tr><td>2026</td><td>40.52425</td><td>40.76788</td><td>40.28207</td></tr>\n",
       "\t<tr><td>2027</td><td>41.39513</td><td>41.72729</td><td>41.06562</td></tr>\n",
       "\t<tr><td>2028</td><td>42.28473</td><td>42.70927</td><td>41.86441</td></tr>\n",
       "\t<tr><td>2029</td><td>43.19344</td><td>43.71436</td><td>42.67873</td></tr>\n",
       "\t<tr><td>2030</td><td>44.12169</td><td>44.74311</td><td>43.50890</td></tr>\n",
       "\t<tr><td>2031</td><td>45.06988</td><td>45.79607</td><td>44.35521</td></tr>\n",
       "\t<tr><td>2032</td><td>46.03845</td><td>46.87380</td><td>45.21798</td></tr>\n",
       "\t<tr><td>2033</td><td>47.02783</td><td>47.97690</td><td>46.09754</td></tr>\n",
       "\t<tr><td>2034</td><td>48.03848</td><td>49.10596</td><td>46.99421</td></tr>\n",
       "\t<tr><td>2035</td><td>49.07085</td><td>50.26159</td><td>47.90831</td></tr>\n",
       "\t<tr><td>2036</td><td>50.12540</td><td>51.44441</td><td>48.84020</td></tr>\n",
       "\t<tr><td>2037</td><td>51.20261</td><td>52.65507</td><td>49.79022</td></tr>\n",
       "\t<tr><td>2038</td><td>52.30298</td><td>53.89422</td><td>50.75871</td></tr>\n",
       "\t<tr><td>2039</td><td>53.42699</td><td>55.16254</td><td>51.74604</td></tr>\n",
       "\t<tr><td>2040</td><td>54.57515</td><td>56.46070</td><td>52.75258</td></tr>\n",
       "\t<tr><td>2041</td><td>55.74800</td><td>57.78941</td><td>53.77870</td></tr>\n",
       "\t<tr><td>2042</td><td>56.94604</td><td>59.14939</td><td>54.82477</td></tr>\n",
       "\t<tr><td>2043</td><td>58.16984</td><td>60.54137</td><td>55.89120</td></tr>\n",
       "\t<tr><td>2044</td><td>59.41993</td><td>61.96612</td><td>56.97836</td></tr>\n",
       "\t<tr><td>2045</td><td>60.69689</td><td>63.42439</td><td>58.08668</td></tr>\n",
       "</tbody>\n",
       "</table>\n"
      ],
      "text/latex": [
       "A tibble: 26 × 4\n",
       "\\begin{tabular}{llll}\n",
       " year & estimado & superior & inferior\\\\\n",
       " <dbl> & <dbl> & <dbl> & <dbl>\\\\\n",
       "\\hline\n",
       "\t 2017 & 24.85000 & 24.85000 & 24.85000\\\\\n",
       "\t 2019 & 33.93000 & 33.93000 & 33.93000\\\\\n",
       "\t 2021 & 32.34000 & 32.34000 & 32.34000\\\\\n",
       "\t 2023 & 38.02000 & 38.02000 & 38.02000\\\\\n",
       "\t 2024 & 38.83706 & 38.91474 & 38.75955\\\\\n",
       "\t 2025 & 39.67169 & 39.83053 & 39.51348\\\\\n",
       "\t 2026 & 40.52425 & 40.76788 & 40.28207\\\\\n",
       "\t 2027 & 41.39513 & 41.72729 & 41.06562\\\\\n",
       "\t 2028 & 42.28473 & 42.70927 & 41.86441\\\\\n",
       "\t 2029 & 43.19344 & 43.71436 & 42.67873\\\\\n",
       "\t 2030 & 44.12169 & 44.74311 & 43.50890\\\\\n",
       "\t 2031 & 45.06988 & 45.79607 & 44.35521\\\\\n",
       "\t 2032 & 46.03845 & 46.87380 & 45.21798\\\\\n",
       "\t 2033 & 47.02783 & 47.97690 & 46.09754\\\\\n",
       "\t 2034 & 48.03848 & 49.10596 & 46.99421\\\\\n",
       "\t 2035 & 49.07085 & 50.26159 & 47.90831\\\\\n",
       "\t 2036 & 50.12540 & 51.44441 & 48.84020\\\\\n",
       "\t 2037 & 51.20261 & 52.65507 & 49.79022\\\\\n",
       "\t 2038 & 52.30298 & 53.89422 & 50.75871\\\\\n",
       "\t 2039 & 53.42699 & 55.16254 & 51.74604\\\\\n",
       "\t 2040 & 54.57515 & 56.46070 & 52.75258\\\\\n",
       "\t 2041 & 55.74800 & 57.78941 & 53.77870\\\\\n",
       "\t 2042 & 56.94604 & 59.14939 & 54.82477\\\\\n",
       "\t 2043 & 58.16984 & 60.54137 & 55.89120\\\\\n",
       "\t 2044 & 59.41993 & 61.96612 & 56.97836\\\\\n",
       "\t 2045 & 60.69689 & 63.42439 & 58.08668\\\\\n",
       "\\end{tabular}\n"
      ],
      "text/markdown": [
       "\n",
       "A tibble: 26 × 4\n",
       "\n",
       "| year &lt;dbl&gt; | estimado &lt;dbl&gt; | superior &lt;dbl&gt; | inferior &lt;dbl&gt; |\n",
       "|---|---|---|---|\n",
       "| 2017 | 24.85000 | 24.85000 | 24.85000 |\n",
       "| 2019 | 33.93000 | 33.93000 | 33.93000 |\n",
       "| 2021 | 32.34000 | 32.34000 | 32.34000 |\n",
       "| 2023 | 38.02000 | 38.02000 | 38.02000 |\n",
       "| 2024 | 38.83706 | 38.91474 | 38.75955 |\n",
       "| 2025 | 39.67169 | 39.83053 | 39.51348 |\n",
       "| 2026 | 40.52425 | 40.76788 | 40.28207 |\n",
       "| 2027 | 41.39513 | 41.72729 | 41.06562 |\n",
       "| 2028 | 42.28473 | 42.70927 | 41.86441 |\n",
       "| 2029 | 43.19344 | 43.71436 | 42.67873 |\n",
       "| 2030 | 44.12169 | 44.74311 | 43.50890 |\n",
       "| 2031 | 45.06988 | 45.79607 | 44.35521 |\n",
       "| 2032 | 46.03845 | 46.87380 | 45.21798 |\n",
       "| 2033 | 47.02783 | 47.97690 | 46.09754 |\n",
       "| 2034 | 48.03848 | 49.10596 | 46.99421 |\n",
       "| 2035 | 49.07085 | 50.26159 | 47.90831 |\n",
       "| 2036 | 50.12540 | 51.44441 | 48.84020 |\n",
       "| 2037 | 51.20261 | 52.65507 | 49.79022 |\n",
       "| 2038 | 52.30298 | 53.89422 | 50.75871 |\n",
       "| 2039 | 53.42699 | 55.16254 | 51.74604 |\n",
       "| 2040 | 54.57515 | 56.46070 | 52.75258 |\n",
       "| 2041 | 55.74800 | 57.78941 | 53.77870 |\n",
       "| 2042 | 56.94604 | 59.14939 | 54.82477 |\n",
       "| 2043 | 58.16984 | 60.54137 | 55.89120 |\n",
       "| 2044 | 59.41993 | 61.96612 | 56.97836 |\n",
       "| 2045 | 60.69689 | 63.42439 | 58.08668 |\n",
       "\n"
      ],
      "text/plain": [
       "   year estimado superior inferior\n",
       "1  2017 24.85000 24.85000 24.85000\n",
       "2  2019 33.93000 33.93000 33.93000\n",
       "3  2021 32.34000 32.34000 32.34000\n",
       "4  2023 38.02000 38.02000 38.02000\n",
       "5  2024 38.83706 38.91474 38.75955\n",
       "6  2025 39.67169 39.83053 39.51348\n",
       "7  2026 40.52425 40.76788 40.28207\n",
       "8  2027 41.39513 41.72729 41.06562\n",
       "9  2028 42.28473 42.70927 41.86441\n",
       "10 2029 43.19344 43.71436 42.67873\n",
       "11 2030 44.12169 44.74311 43.50890\n",
       "12 2031 45.06988 45.79607 44.35521\n",
       "13 2032 46.03845 46.87380 45.21798\n",
       "14 2033 47.02783 47.97690 46.09754\n",
       "15 2034 48.03848 49.10596 46.99421\n",
       "16 2035 49.07085 50.26159 47.90831\n",
       "17 2036 50.12540 51.44441 48.84020\n",
       "18 2037 51.20261 52.65507 49.79022\n",
       "19 2038 52.30298 53.89422 50.75871\n",
       "20 2039 53.42699 55.16254 51.74604\n",
       "21 2040 54.57515 56.46070 52.75258\n",
       "22 2041 55.74800 57.78941 53.77870\n",
       "23 2042 56.94604 59.14939 54.82477\n",
       "24 2043 58.16984 60.54137 55.89120\n",
       "25 2044 59.41993 61.96612 56.97836\n",
       "26 2045 60.69689 63.42439 58.08668"
      ]
     },
     "metadata": {},
     "output_type": "display_data"
    }
   ],
   "source": [
    "serie_completa <- bind_rows(\n",
    "  tabla_fugas_agua %>%\n",
    "    mutate(year = as.numeric(year)) %>%\n",
    "    intervals(\"porcentaje\", margen = 0, año_base = 2023),\n",
    "  \n",
    "  est_fugas %>%\n",
    "    mutate(year = as.numeric(year)) %>%\n",
    "    intervals(\"porcentaje\", margen = 0.002 , año_base = 2023)\n",
    ")\n",
    "serie_completa"
   ]
  },
  {
   "cell_type": "code",
   "execution_count": 30,
   "id": "2fb57f7c",
   "metadata": {
    "vscode": {
     "languageId": "r"
    }
   },
   "outputs": [
    {
     "data": {
      "image/png": "[encoded data removed]",
      "text/plain": [
       "plot without title"
      ]
     },
     "metadata": {
      "image/png": {
       "height": 420,
       "width": 420
      }
     },
     "output_type": "display_data"
    }
   ],
   "source": [
    "grafica_bonita(\n",
    "  data = serie_completa,\n",
    "  x = \"year\",\n",
    "  y = \"estimado\",\n",
    "  titulo = \"Porcentaje de personas de 18 años y más que refirió \n",
    "que el agua potable en la ciudad no se desperdicia \n",
    "a causa de fugas\",\n",
    "  linea_vertical = 2023,\n",
    "  ano_base=2023,\n",
    "  anios_etiquetas=c(2045),\n",
    "  mostrar_intervalo = \"ambos\",\n",
    "  nombre_observado = \"Observado\",\n",
    "  nombre_estimado_futuro = \"Deseable\",\n",
    "  nombre_intervalo_superior = \"Transformador\",\n",
    "  nombre_intervalo_inferior = \"Inercial\",\n",
    "  mostrar_leyenda = TRUE,\n",
    "  fuente = \"pop\",\n",
    "  etiqueta_x = \"Año\",\n",
    "  etiqueta_y = \"Porcentaje\",\n",
    "  titulo_leyenda = \"Escenarios\",\n",
    "  limite_inferior_y = 20\n",
    ")\n",
    "\n",
    "#ggsave(\"fugas_estimada.png\", width = 12, height = 10, dpi = 100, bg = \"white\")"
   ]
  },
  {
   "cell_type": "code",
   "execution_count": 31,
   "id": "493766f7",
   "metadata": {
    "vscode": {
     "languageId": "r"
    }
   },
   "outputs": [
    {
     "data": {
      "text/html": [
       "<table class=\"dataframe\">\n",
       "<caption>A tibble: 26 × 2</caption>\n",
       "<thead>\n",
       "\t<tr><th scope=col>year</th><th scope=col>porcentaje</th></tr>\n",
       "\t<tr><th scope=col>&lt;dbl&gt;</th><th scope=col>&lt;dbl&gt;</th></tr>\n",
       "</thead>\n",
       "<tbody>\n",
       "\t<tr><td>2017</td><td>24.85000</td></tr>\n",
       "\t<tr><td>2019</td><td>33.93000</td></tr>\n",
       "\t<tr><td>2021</td><td>32.34000</td></tr>\n",
       "\t<tr><td>2023</td><td>38.02000</td></tr>\n",
       "\t<tr><td>2024</td><td>38.83706</td></tr>\n",
       "\t<tr><td>2025</td><td>39.67169</td></tr>\n",
       "\t<tr><td>2026</td><td>40.52425</td></tr>\n",
       "\t<tr><td>2027</td><td>41.39513</td></tr>\n",
       "\t<tr><td>2028</td><td>42.28473</td></tr>\n",
       "\t<tr><td>2029</td><td>43.19344</td></tr>\n",
       "\t<tr><td>2030</td><td>44.12169</td></tr>\n",
       "\t<tr><td>2031</td><td>45.06988</td></tr>\n",
       "\t<tr><td>2032</td><td>46.03845</td></tr>\n",
       "\t<tr><td>2033</td><td>47.02783</td></tr>\n",
       "\t<tr><td>2034</td><td>48.03848</td></tr>\n",
       "\t<tr><td>2035</td><td>49.07085</td></tr>\n",
       "\t<tr><td>2036</td><td>50.12540</td></tr>\n",
       "\t<tr><td>2037</td><td>51.20261</td></tr>\n",
       "\t<tr><td>2038</td><td>52.30298</td></tr>\n",
       "\t<tr><td>2039</td><td>53.42699</td></tr>\n",
       "\t<tr><td>2040</td><td>54.57515</td></tr>\n",
       "\t<tr><td>2041</td><td>55.74800</td></tr>\n",
       "\t<tr><td>2042</td><td>56.94604</td></tr>\n",
       "\t<tr><td>2043</td><td>58.16984</td></tr>\n",
       "\t<tr><td>2044</td><td>59.41993</td></tr>\n",
       "\t<tr><td>2045</td><td>60.69689</td></tr>\n",
       "</tbody>\n",
       "</table>\n"
      ],
      "text/latex": [
       "A tibble: 26 × 2\n",
       "\\begin{tabular}{ll}\n",
       " year & porcentaje\\\\\n",
       " <dbl> & <dbl>\\\\\n",
       "\\hline\n",
       "\t 2017 & 24.85000\\\\\n",
       "\t 2019 & 33.93000\\\\\n",
       "\t 2021 & 32.34000\\\\\n",
       "\t 2023 & 38.02000\\\\\n",
       "\t 2024 & 38.83706\\\\\n",
       "\t 2025 & 39.67169\\\\\n",
       "\t 2026 & 40.52425\\\\\n",
       "\t 2027 & 41.39513\\\\\n",
       "\t 2028 & 42.28473\\\\\n",
       "\t 2029 & 43.19344\\\\\n",
       "\t 2030 & 44.12169\\\\\n",
       "\t 2031 & 45.06988\\\\\n",
       "\t 2032 & 46.03845\\\\\n",
       "\t 2033 & 47.02783\\\\\n",
       "\t 2034 & 48.03848\\\\\n",
       "\t 2035 & 49.07085\\\\\n",
       "\t 2036 & 50.12540\\\\\n",
       "\t 2037 & 51.20261\\\\\n",
       "\t 2038 & 52.30298\\\\\n",
       "\t 2039 & 53.42699\\\\\n",
       "\t 2040 & 54.57515\\\\\n",
       "\t 2041 & 55.74800\\\\\n",
       "\t 2042 & 56.94604\\\\\n",
       "\t 2043 & 58.16984\\\\\n",
       "\t 2044 & 59.41993\\\\\n",
       "\t 2045 & 60.69689\\\\\n",
       "\\end{tabular}\n"
      ],
      "text/markdown": [
       "\n",
       "A tibble: 26 × 2\n",
       "\n",
       "| year &lt;dbl&gt; | porcentaje &lt;dbl&gt; |\n",
       "|---|---|\n",
       "| 2017 | 24.85000 |\n",
       "| 2019 | 33.93000 |\n",
       "| 2021 | 32.34000 |\n",
       "| 2023 | 38.02000 |\n",
       "| 2024 | 38.83706 |\n",
       "| 2025 | 39.67169 |\n",
       "| 2026 | 40.52425 |\n",
       "| 2027 | 41.39513 |\n",
       "| 2028 | 42.28473 |\n",
       "| 2029 | 43.19344 |\n",
       "| 2030 | 44.12169 |\n",
       "| 2031 | 45.06988 |\n",
       "| 2032 | 46.03845 |\n",
       "| 2033 | 47.02783 |\n",
       "| 2034 | 48.03848 |\n",
       "| 2035 | 49.07085 |\n",
       "| 2036 | 50.12540 |\n",
       "| 2037 | 51.20261 |\n",
       "| 2038 | 52.30298 |\n",
       "| 2039 | 53.42699 |\n",
       "| 2040 | 54.57515 |\n",
       "| 2041 | 55.74800 |\n",
       "| 2042 | 56.94604 |\n",
       "| 2043 | 58.16984 |\n",
       "| 2044 | 59.41993 |\n",
       "| 2045 | 60.69689 |\n",
       "\n"
      ],
      "text/plain": [
       "   year porcentaje\n",
       "1  2017 24.85000  \n",
       "2  2019 33.93000  \n",
       "3  2021 32.34000  \n",
       "4  2023 38.02000  \n",
       "5  2024 38.83706  \n",
       "6  2025 39.67169  \n",
       "7  2026 40.52425  \n",
       "8  2027 41.39513  \n",
       "9  2028 42.28473  \n",
       "10 2029 43.19344  \n",
       "11 2030 44.12169  \n",
       "12 2031 45.06988  \n",
       "13 2032 46.03845  \n",
       "14 2033 47.02783  \n",
       "15 2034 48.03848  \n",
       "16 2035 49.07085  \n",
       "17 2036 50.12540  \n",
       "18 2037 51.20261  \n",
       "19 2038 52.30298  \n",
       "20 2039 53.42699  \n",
       "21 2040 54.57515  \n",
       "22 2041 55.74800  \n",
       "23 2042 56.94604  \n",
       "24 2043 58.16984  \n",
       "25 2044 59.41993  \n",
       "26 2045 60.69689  "
      ]
     },
     "metadata": {},
     "output_type": "display_data"
    }
   ],
   "source": [
    "tabla_fugas_agua%>%\n",
    "select(year,porcentaje)%>%\n",
    "mutate(year=as.numeric(year))%>%\n",
    "#Pegar hacia abajo\n",
    "bind_rows(est_fugas)"
   ]
  },
  {
   "cell_type": "code",
   "execution_count": 32,
   "id": "10b686a3",
   "metadata": {
    "vscode": {
     "languageId": "r"
    }
   },
   "outputs": [],
   "source": [
    "generar_grafica <- function(tabla_obs, tabla_est, margen, titulo,base, linea_base,despegue,\n",
    "                            nombre_archivo, nombre_estimado_futuro,\n",
    "                            nombre_intervalo_superior, nombre_intervalo_inferior,\n",
    "                            limite_inferior_y, variable_intervals = \"porcentaje\") {\n",
    "\n",
    "  serie_completa <- dplyr::bind_rows(\n",
    "    tabla_obs %>%\n",
    "      dplyr::mutate(year = as.numeric(year)) %>%\n",
    "      intervals(variable_intervals, margen = 0, año_base = base),\n",
    "\n",
    "    tabla_est %>%\n",
    "      dplyr::mutate(year = as.numeric(year)) %>%\n",
    "      intervals(variable_intervals, margen = margen, año_base = base)\n",
    "  )\n",
    "\n",
    "  grafica <- grafica_bonita(\n",
    "    data = serie_completa,\n",
    "    x = \"year\",\n",
    "    y = \"estimado\",\n",
    "    titulo = titulo,\n",
    "    ano_base=base,\n",
    "     mostrar_etiqueta_ano_base = TRUE,\n",
    "    linea_vertical = linea_base,\n",
    "    desplazamiento_ano_base = despegue,\n",
    "    anios_etiquetas=c(2045),\n",
    "    mostrar_intervalo = \"ambos\",\n",
    "    nombre_observado = \"Observado\",\n",
    "    nombre_estimado_futuro = nombre_estimado_futuro,\n",
    "    nombre_intervalo_superior = nombre_intervalo_superior,\n",
    "    nombre_intervalo_inferior = nombre_intervalo_inferior,\n",
    "    mostrar_leyenda = TRUE,\n",
    "    fuente = \"pop\",\n",
    "    etiqueta_x = \"Año\",\n",
    "    etiqueta_y = \"Porcentaje\",\n",
    "    titulo_leyenda = \"Escenarios\",\n",
    "    limite_inferior_y = limite_inferior_y\n",
    "  )\n",
    "\n",
    "  ggplot2::ggsave(paste0(\"H:/Mi unidad/pgd/graficas/\",nombre_archivo),\n",
    "   grafica, \n",
    "  width = 10, height = 6, dpi = 185, bg = \"white\")\n",
    "}\n"
   ]
  },
  {
   "cell_type": "code",
   "execution_count": 33,
   "id": "831681f6",
   "metadata": {
    "vscode": {
     "languageId": "r"
    }
   },
   "outputs": [],
   "source": [
    "configuraciones <- tibble::tibble(\n",
    "  tabla_obs = list(tabla_fugas_agua, tabla_disp_agua, tabla_dotac_agua),\n",
    "  tabla_est = list(est_fugas, est_disp, est_dotac),\n",
    "  margen = c(0.002, 0.001, 0.0005),\n",
    "  base=c(2023,2022,2022),\n",
    "  linea_base=c(2023,2022,2022),\n",
    "    despegue = list(\n",
    "    c(1, 0),  \n",
    "    c(1, 1), \n",
    "    c(1, 0) \n",
    "  ),\n",
    "  nombre_archivo = c(\"fugas_estimada.png\",\n",
    "                     \"disp_agua_estimada.png\",\n",
    "                     \"agua_diaria_estimada.png\"),\n",
    "  titulo = c(\"Porcentaje de personas de 18 años y más que refirió que el agua potable en la ciudad\n",
    "no se desperdicia a causa de fugas\",\n",
    "             \"Porcentaje de viviendas con \n",
    "disponibilidad de agua entubada dentro de la vivienda\",\n",
    "             \"Porcentaje de viviendas con disponibilidad de agua diaria\"),\n",
    "  nombre_estimado_futuro = c(\"Deseable\", \"Deseable\", \"Deseable\"),\n",
    "  nombre_intervalo_superior = c(\"Transformador\", \"Transformador\", \"Transformador\"),\n",
    "  nombre_intervalo_inferior = c(\"Inercial\", \"Inercial\", \"Inercial\"),\n",
    "  limite_inferior_y = c(20,80,70),\n",
    "  variable_intervals = c(\"porcentaje\", \"porcentaje\", \"porcentaje\")\n",
    ")\n"
   ]
  },
  {
   "cell_type": "code",
   "execution_count": null,
   "id": "798732cd",
   "metadata": {
    "vscode": {
     "languageId": "r"
    }
   },
   "outputs": [
    {
     "data": {
      "text/html": [
       "<ol>\n",
       "\t<li>'H:/Mi unidad/pgd/graficas/fugas_estimada.png'</li>\n",
       "\t<li>'H:/Mi unidad/pgd/graficas/disp_agua_estimada.png'</li>\n",
       "\t<li>'H:/Mi unidad/pgd/graficas/agua_diaria_estimada.png'</li>\n",
       "</ol>\n"
      ],
      "text/latex": [
       "\\begin{enumerate}\n",
       "\\item 'H:/Mi unidad/pgd/graficas/fugas\\_estimada.png'\n",
       "\\item 'H:/Mi unidad/pgd/graficas/disp\\_agua\\_estimada.png'\n",
       "\\item 'H:/Mi unidad/pgd/graficas/agua\\_diaria\\_estimada.png'\n",
       "\\end{enumerate}\n"
      ],
      "text/markdown": [
       "1. 'H:/Mi unidad/pgd/graficas/fugas_estimada.png'\n",
       "2. 'H:/Mi unidad/pgd/graficas/disp_agua_estimada.png'\n",
       "3. 'H:/Mi unidad/pgd/graficas/agua_diaria_estimada.png'\n",
       "\n",
       "\n"
      ],
      "text/plain": [
       "[[1]]\n",
       "[1] \"H:/Mi unidad/pgd/graficas/fugas_estimada.png\"\n",
       "\n",
       "[[2]]\n",
       "[1] \"H:/Mi unidad/pgd/graficas/disp_agua_estimada.png\"\n",
       "\n",
       "[[3]]\n",
       "[1] \"H:/Mi unidad/pgd/graficas/agua_diaria_estimada.png\"\n"
      ]
     },
     "metadata": {},
     "output_type": "display_data"
    },
    {
     "ename": "",
     "evalue": "",
     "output_type": "error",
     "traceback": [
      "\u001b[1;31mThe Kernel crashed while executing code in the current cell or a previous cell. \n",
      "\u001b[1;31mPlease review the code in the cell(s) to identify a possible cause of the failure. \n",
      "\u001b[1;31mClick <a href='https://aka.ms/vscodeJupyterKernelCrash'>here</a> for more info. \n",
      "\u001b[1;31mView Jupyter <a href='command:jupyter.viewOutput'>log</a> for further details."
     ]
    }
   ],
   "source": [
    "pmap(\n",
    "  configuraciones,\n",
    "  function(tabla_obs, tabla_est, margen, base,linea_base,nombre_archivo,\n",
    "           titulo, nombre_estimado_futuro,despegue,\n",
    "           nombre_intervalo_superior, nombre_intervalo_inferior,\n",
    "           limite_inferior_y, variable_intervals) {\n",
    "    generar_grafica(\n",
    "      tabla_obs = tabla_obs,\n",
    "      tabla_est = tabla_est,\n",
    "      margen = margen,\n",
    "      base=base,\n",
    "      linea_base=linea_base,\n",
    "      despegue = despegue,\n",
    "      titulo = titulo,\n",
    "      nombre_archivo = nombre_archivo,\n",
    "      nombre_estimado_futuro = nombre_estimado_futuro,\n",
    "      nombre_intervalo_superior = nombre_intervalo_superior,\n",
    "      nombre_intervalo_inferior = nombre_intervalo_inferior,\n",
    "      limite_inferior_y = limite_inferior_y,\n",
    "      variable_intervals = variable_intervals\n",
    "    )\n",
    "  }\n",
    ")\n"
   ]
  }
 ],
 "metadata": {
  "kernelspec": {
   "display_name": "R",
   "language": "R",
   "name": "ir"
  },
  "language_info": {
   "codemirror_mode": "r",
   "file_extension": ".r",
   "mimetype": "text/x-r-source",
   "name": "R",
   "pygments_lexer": "r",
   "version": "4.4.1"
  }
 },
 "nbformat": 4,
 "nbformat_minor": 5
}
