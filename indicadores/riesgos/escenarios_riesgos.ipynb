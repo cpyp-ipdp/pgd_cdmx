{
 "cells": [
  {
   "cell_type": "code",
   "execution_count": 1,
   "id": "b092d79b",
   "metadata": {
    "vscode": {
     "languageId": "r"
    }
   },
   "outputs": [
    {
     "name": "stderr",
     "output_type": "stream",
     "text": [
      "Cargando paquete requerido: pacman\n",
      "\n",
      "Using GitHub PAT from the git credential store.\n",
      "\n",
      "Downloading GitHub repo cpyp-ipdp/funcionespgd@HEAD\n",
      "\n"
     ]
    },
    {
     "name": "stdout",
     "output_type": "stream",
     "text": [
      "rlang  (1.1.4 -> 1.1.6) [CRAN]\n",
      "glue   (1.7.0 -> 1.8.0) [CRAN]\n",
      "cli    (3.6.3 -> 3.6.5) [CRAN]\n",
      "tibble (3.2.1 -> 3.3.0) [CRAN]\n"
     ]
    },
    {
     "name": "stderr",
     "output_type": "stream",
     "text": [
      "Installing 4 packages: rlang, glue, cli, tibble\n",
      "\n",
      "Warning message:\n",
      "\"package 'tibble' is in use and will not be installed\"\n",
      "Installing packages into 'C:/Users/claud/AppData/Local/R/win-library/4.4'\n",
      "(as 'lib' is unspecified)\n",
      "\n"
     ]
    },
    {
     "name": "stdout",
     "output_type": "stream",
     "text": [
      "package 'rlang' successfully unpacked and MD5 sums checked\n"
     ]
    },
    {
     "name": "stderr",
     "output_type": "stream",
     "text": [
      "Warning message:\n",
      "\"cannot remove prior installation of package 'rlang'\"\n",
      "Warning message in file.copy(savedcopy, lib, recursive = TRUE):\n",
      "\"problema al copiar C:\\Users\\claud\\AppData\\Local\\R\\win-library\\4.4\\00LOCK\\rlang\\libs\\x64\\rlang.dll  a C:\\Users\\claud\\AppData\\Local\\R\\win-library\\4.4\\rlang\\libs\\x64\\rlang.dll: Permission denied\"\n",
      "Warning message:\n",
      "\"restored 'rlang'\"\n"
     ]
    },
    {
     "name": "stdout",
     "output_type": "stream",
     "text": [
      "package 'glue' successfully unpacked and MD5 sums checked\n"
     ]
    },
    {
     "name": "stderr",
     "output_type": "stream",
     "text": [
      "Warning message:\n",
      "\"cannot remove prior installation of package 'glue'\"\n",
      "Warning message in file.copy(savedcopy, lib, recursive = TRUE):\n",
      "\"problema al copiar C:\\Users\\claud\\AppData\\Local\\R\\win-library\\4.4\\00LOCK\\glue\\libs\\x64\\glue.dll  a C:\\Users\\claud\\AppData\\Local\\R\\win-library\\4.4\\glue\\libs\\x64\\glue.dll: Permission denied\"\n",
      "Warning message:\n",
      "\"restored 'glue'\"\n"
     ]
    },
    {
     "name": "stdout",
     "output_type": "stream",
     "text": [
      "package 'cli' successfully unpacked and MD5 sums checked\n"
     ]
    },
    {
     "name": "stderr",
     "output_type": "stream",
     "text": [
      "Warning message:\n",
      "\"cannot remove prior installation of package 'cli'\"\n",
      "Warning message in file.copy(savedcopy, lib, recursive = TRUE):\n",
      "\"problema al copiar C:\\Users\\claud\\AppData\\Local\\R\\win-library\\4.4\\00LOCK\\cli\\libs\\x64\\cli.dll  a C:\\Users\\claud\\AppData\\Local\\R\\win-library\\4.4\\cli\\libs\\x64\\cli.dll: Permission denied\"\n",
      "Warning message:\n",
      "\"restored 'cli'\"\n"
     ]
    },
    {
     "name": "stdout",
     "output_type": "stream",
     "text": [
      "\n",
      "The downloaded binary packages are in\n",
      "\tC:\\Users\\claud\\AppData\\Local\\Temp\\RtmpMlJE8R\\downloaded_packages\n",
      "\u001b[36m──\u001b[39m \u001b[36mR CMD build\u001b[39m \u001b[36m─────────────────────────────────────────────────────────────────\u001b[39m\n",
      "* checking for file 'C:\\Users\\claud\\AppData\\Local\\Temp\\RtmpMlJE8R\\remotes2c8c3d84798c\\cpyp-ipdp-funcionespgd-3fffa52/DESCRIPTION' ... OK\n",
      "* preparing 'funcionespgd':\n",
      "* checking DESCRIPTION meta-information ... OK\n",
      "* checking for LF line-endings in source and make files and shell scripts\n",
      "* checking for empty or unneeded directories\n",
      "Omitted 'LazyData' from DESCRIPTION\n",
      "* building 'funcionespgd_0.1.0.tar.gz'\n",
      "\n"
     ]
    },
    {
     "name": "stderr",
     "output_type": "stream",
     "text": [
      "Installing package into 'C:/Users/claud/AppData/Local/R/win-library/4.4'\n",
      "(as 'lib' is unspecified)\n",
      "\n"
     ]
    }
   ],
   "source": [
    "##Estimación de datos de finanzas públicas\n",
    "#Se borra todo lo que se encuentra en el entorno\n",
    "\n",
    "rm(list=ls())\n",
    "\n",
    "# Librerías ====\n",
    "if(!require('pacman')) install.packages('pacman')\n",
    "pacman::p_load(tidyverse,lubridate, showtext,srvyr,foreign,httr,jsonlite)\n",
    "font_add_google(\"Poppins\", \"pop\")\n",
    "showtext_auto()\n",
    "remotes::install_github(\"cpyp-ipdp/funcionespgd\", force = TRUE)\n",
    "library(funcionespgd)"
   ]
  },
  {
   "cell_type": "code",
   "execution_count": 2,
   "id": "f81fda6c",
   "metadata": {
    "vscode": {
     "languageId": "r"
    }
   },
   "outputs": [
    {
     "data": {
      "text/html": [
       "<table class=\"dataframe\">\n",
       "<caption>A data.frame: 24 × 4</caption>\n",
       "<thead>\n",
       "\t<tr><th></th><th scope=col>year</th><th scope=col>superior</th><th scope=col>estimado</th><th scope=col>inferior</th></tr>\n",
       "\t<tr><th></th><th scope=col>&lt;dbl&gt;</th><th scope=col>&lt;dbl&gt;</th><th scope=col>&lt;dbl&gt;</th><th scope=col>&lt;dbl&gt;</th></tr>\n",
       "</thead>\n",
       "<tbody>\n",
       "\t<tr><th scope=row>1</th><td>2022</td><td>1.4055591</td><td>1.4055591</td><td>1.4055591</td></tr>\n",
       "\t<tr><th scope=row>2</th><td>2023</td><td>1.0444415</td><td>1.0444415</td><td>1.0444415</td></tr>\n",
       "\t<tr><th scope=row>3</th><td>2024</td><td>1.1048146</td><td>1.1048146</td><td>1.1048146</td></tr>\n",
       "\t<tr><th scope=row>4</th><td>2025</td><td>0.9607589</td><td>0.9607589</td><td>0.9607589</td></tr>\n",
       "\t<tr><th scope=row>5</th><td>2026</td><td>0.9433248</td><td>0.9781930</td><td>0.9840044</td></tr>\n",
       "\t<tr><th scope=row>6</th><td>2027</td><td>0.9262070</td><td>0.9959435</td><td>1.0078124</td></tr>\n",
       "\t<tr><th scope=row>7</th><td>2028</td><td>0.9093998</td><td>1.0140161</td><td>1.0321963</td></tr>\n",
       "\t<tr><th scope=row>8</th><td>2029</td><td>0.8928977</td><td>1.0324167</td><td>1.0571703</td></tr>\n",
       "\t<tr><th scope=row>9</th><td>2030</td><td>0.8766949</td><td>1.0511512</td><td>1.0827485</td></tr>\n",
       "\t<tr><th scope=row>10</th><td>2031</td><td>0.8607862</td><td>1.0702256</td><td>1.1089455</td></tr>\n",
       "\t<tr><th scope=row>11</th><td>2032</td><td>0.8451662</td><td>1.0896461</td><td>1.1357764</td></tr>\n",
       "\t<tr><th scope=row>12</th><td>2033</td><td>0.8298297</td><td>1.1094191</td><td>1.1632565</td></tr>\n",
       "\t<tr><th scope=row>13</th><td>2034</td><td>0.8147714</td><td>1.1295508</td><td>1.1914014</td></tr>\n",
       "\t<tr><th scope=row>14</th><td>2035</td><td>0.7999864</td><td>1.1500479</td><td>1.2202273</td></tr>\n",
       "\t<tr><th scope=row>15</th><td>2036</td><td>0.7854697</td><td>1.1709169</td><td>1.2497507</td></tr>\n",
       "\t<tr><th scope=row>16</th><td>2037</td><td>0.7712163</td><td>1.1921646</td><td>1.2799883</td></tr>\n",
       "\t<tr><th scope=row>17</th><td>2038</td><td>0.7572217</td><td>1.2137979</td><td>1.3109576</td></tr>\n",
       "\t<tr><th scope=row>18</th><td>2039</td><td>0.7434810</td><td>1.2358238</td><td>1.3426761</td></tr>\n",
       "\t<tr><th scope=row>19</th><td>2040</td><td>0.7299896</td><td>1.2582493</td><td>1.3751621</td></tr>\n",
       "\t<tr><th scope=row>20</th><td>2041</td><td>0.7167431</td><td>1.2810818</td><td>1.4084341</td></tr>\n",
       "\t<tr><th scope=row>21</th><td>2042</td><td>0.7037369</td><td>1.3043285</td><td>1.4425111</td></tr>\n",
       "\t<tr><th scope=row>22</th><td>2043</td><td>0.6909667</td><td>1.3279972</td><td>1.4774126</td></tr>\n",
       "\t<tr><th scope=row>23</th><td>2044</td><td>0.6784283</td><td>1.3520953</td><td>1.5131585</td></tr>\n",
       "\t<tr><th scope=row>24</th><td>2045</td><td>0.6661174</td><td>1.3766307</td><td>1.5497693</td></tr>\n",
       "</tbody>\n",
       "</table>\n"
      ],
      "text/latex": [
       "A data.frame: 24 × 4\n",
       "\\begin{tabular}{r|llll}\n",
       "  & year & superior & estimado & inferior\\\\\n",
       "  & <dbl> & <dbl> & <dbl> & <dbl>\\\\\n",
       "\\hline\n",
       "\t1 & 2022 & 1.4055591 & 1.4055591 & 1.4055591\\\\\n",
       "\t2 & 2023 & 1.0444415 & 1.0444415 & 1.0444415\\\\\n",
       "\t3 & 2024 & 1.1048146 & 1.1048146 & 1.1048146\\\\\n",
       "\t4 & 2025 & 0.9607589 & 0.9607589 & 0.9607589\\\\\n",
       "\t5 & 2026 & 0.9433248 & 0.9781930 & 0.9840044\\\\\n",
       "\t6 & 2027 & 0.9262070 & 0.9959435 & 1.0078124\\\\\n",
       "\t7 & 2028 & 0.9093998 & 1.0140161 & 1.0321963\\\\\n",
       "\t8 & 2029 & 0.8928977 & 1.0324167 & 1.0571703\\\\\n",
       "\t9 & 2030 & 0.8766949 & 1.0511512 & 1.0827485\\\\\n",
       "\t10 & 2031 & 0.8607862 & 1.0702256 & 1.1089455\\\\\n",
       "\t11 & 2032 & 0.8451662 & 1.0896461 & 1.1357764\\\\\n",
       "\t12 & 2033 & 0.8298297 & 1.1094191 & 1.1632565\\\\\n",
       "\t13 & 2034 & 0.8147714 & 1.1295508 & 1.1914014\\\\\n",
       "\t14 & 2035 & 0.7999864 & 1.1500479 & 1.2202273\\\\\n",
       "\t15 & 2036 & 0.7854697 & 1.1709169 & 1.2497507\\\\\n",
       "\t16 & 2037 & 0.7712163 & 1.1921646 & 1.2799883\\\\\n",
       "\t17 & 2038 & 0.7572217 & 1.2137979 & 1.3109576\\\\\n",
       "\t18 & 2039 & 0.7434810 & 1.2358238 & 1.3426761\\\\\n",
       "\t19 & 2040 & 0.7299896 & 1.2582493 & 1.3751621\\\\\n",
       "\t20 & 2041 & 0.7167431 & 1.2810818 & 1.4084341\\\\\n",
       "\t21 & 2042 & 0.7037369 & 1.3043285 & 1.4425111\\\\\n",
       "\t22 & 2043 & 0.6909667 & 1.3279972 & 1.4774126\\\\\n",
       "\t23 & 2044 & 0.6784283 & 1.3520953 & 1.5131585\\\\\n",
       "\t24 & 2045 & 0.6661174 & 1.3766307 & 1.5497693\\\\\n",
       "\\end{tabular}\n"
      ],
      "text/markdown": [
       "\n",
       "A data.frame: 24 × 4\n",
       "\n",
       "| <!--/--> | year &lt;dbl&gt; | superior &lt;dbl&gt; | estimado &lt;dbl&gt; | inferior &lt;dbl&gt; |\n",
       "|---|---|---|---|---|\n",
       "| 1 | 2022 | 1.4055591 | 1.4055591 | 1.4055591 |\n",
       "| 2 | 2023 | 1.0444415 | 1.0444415 | 1.0444415 |\n",
       "| 3 | 2024 | 1.1048146 | 1.1048146 | 1.1048146 |\n",
       "| 4 | 2025 | 0.9607589 | 0.9607589 | 0.9607589 |\n",
       "| 5 | 2026 | 0.9433248 | 0.9781930 | 0.9840044 |\n",
       "| 6 | 2027 | 0.9262070 | 0.9959435 | 1.0078124 |\n",
       "| 7 | 2028 | 0.9093998 | 1.0140161 | 1.0321963 |\n",
       "| 8 | 2029 | 0.8928977 | 1.0324167 | 1.0571703 |\n",
       "| 9 | 2030 | 0.8766949 | 1.0511512 | 1.0827485 |\n",
       "| 10 | 2031 | 0.8607862 | 1.0702256 | 1.1089455 |\n",
       "| 11 | 2032 | 0.8451662 | 1.0896461 | 1.1357764 |\n",
       "| 12 | 2033 | 0.8298297 | 1.1094191 | 1.1632565 |\n",
       "| 13 | 2034 | 0.8147714 | 1.1295508 | 1.1914014 |\n",
       "| 14 | 2035 | 0.7999864 | 1.1500479 | 1.2202273 |\n",
       "| 15 | 2036 | 0.7854697 | 1.1709169 | 1.2497507 |\n",
       "| 16 | 2037 | 0.7712163 | 1.1921646 | 1.2799883 |\n",
       "| 17 | 2038 | 0.7572217 | 1.2137979 | 1.3109576 |\n",
       "| 18 | 2039 | 0.7434810 | 1.2358238 | 1.3426761 |\n",
       "| 19 | 2040 | 0.7299896 | 1.2582493 | 1.3751621 |\n",
       "| 20 | 2041 | 0.7167431 | 1.2810818 | 1.4084341 |\n",
       "| 21 | 2042 | 0.7037369 | 1.3043285 | 1.4425111 |\n",
       "| 22 | 2043 | 0.6909667 | 1.3279972 | 1.4774126 |\n",
       "| 23 | 2044 | 0.6784283 | 1.3520953 | 1.5131585 |\n",
       "| 24 | 2045 | 0.6661174 | 1.3766307 | 1.5497693 |\n",
       "\n"
      ],
      "text/plain": [
       "   year superior  estimado  inferior \n",
       "1  2022 1.4055591 1.4055591 1.4055591\n",
       "2  2023 1.0444415 1.0444415 1.0444415\n",
       "3  2024 1.1048146 1.1048146 1.1048146\n",
       "4  2025 0.9607589 0.9607589 0.9607589\n",
       "5  2026 0.9433248 0.9781930 0.9840044\n",
       "6  2027 0.9262070 0.9959435 1.0078124\n",
       "7  2028 0.9093998 1.0140161 1.0321963\n",
       "8  2029 0.8928977 1.0324167 1.0571703\n",
       "9  2030 0.8766949 1.0511512 1.0827485\n",
       "10 2031 0.8607862 1.0702256 1.1089455\n",
       "11 2032 0.8451662 1.0896461 1.1357764\n",
       "12 2033 0.8298297 1.1094191 1.1632565\n",
       "13 2034 0.8147714 1.1295508 1.1914014\n",
       "14 2035 0.7999864 1.1500479 1.2202273\n",
       "15 2036 0.7854697 1.1709169 1.2497507\n",
       "16 2037 0.7712163 1.1921646 1.2799883\n",
       "17 2038 0.7572217 1.2137979 1.3109576\n",
       "18 2039 0.7434810 1.2358238 1.3426761\n",
       "19 2040 0.7299896 1.2582493 1.3751621\n",
       "20 2041 0.7167431 1.2810818 1.4084341\n",
       "21 2042 0.7037369 1.3043285 1.4425111\n",
       "22 2043 0.6909667 1.3279972 1.4774126\n",
       "23 2044 0.6784283 1.3520953 1.5131585\n",
       "24 2045 0.6661174 1.3766307 1.5497693"
      ]
     },
     "metadata": {},
     "output_type": "display_data"
    }
   ],
   "source": [
    "presup<-openxlsx::read.xlsx(\"presupuestoriesgos.xlsx\")%>%\n",
    "  \n",
    "rename(\n",
    "  year = periodo,\n",
    "  estimado = tendencia_deseable,\n",
    "  superior = tendencia_inercial,\n",
    "  inferior=tendencia_disruptivo\n",
    "\n",
    ")\n",
    "presup"
   ]
  },
  {
   "cell_type": "code",
   "execution_count": 3,
   "id": "77a97d51",
   "metadata": {
    "vscode": {
     "languageId": "r"
    }
   },
   "outputs": [
    {
     "data": {
      "image/png": "[encoded data removed]",
      "text/plain": [
       "plot without title"
      ]
     },
     "metadata": {
      "image/png": {
       "height": 420,
       "width": 420
      }
     },
     "output_type": "display_data"
    }
   ],
   "source": [
    "grafica_bonita(\n",
    "  data = presup,\n",
    "  x = \"year\",\n",
    "  y = \"estimado\",\n",
    "  titulo = \"Porcentaje de recursos destinados \n",
    "al Programa Presupuestario Protección Civil\",\n",
    "      ano_base = 2025,\n",
    "  mostrar_etiqueta_ano_base = TRUE,\n",
    "  linea_vertical = 2025,\n",
    "  anios_etiquetas = c(2045),\n",
    "    desplazamiento_ano_base=c(0.5, 0.06),\n",
    "  mostrar_intervalo = \"ambos\",\n",
    "  nombre_observado = \"Observado\",\n",
    "  nombre_estimado_futuro = \"Deseable\",\n",
    "  nombre_intervalo_superior = \"Inercial\",\n",
    "  nombre_intervalo_inferior = \"Transformador\",\n",
    "  mostrar_leyenda = TRUE,\n",
    "  fuente = \"pop\",\n",
    "  etiqueta_x = \"Año\",\n",
    "  etiqueta_y = \"Porcentaje\",\n",
    "  titulo_leyenda = \"Escenarios\",\n",
    "  limite_inferior_y = 0\n",
    ")\n",
    "\n",
    "ggsave(\"H:/Mi unidad/pgd/graficas/presupuesto_riesgos_estimada.png\", \n",
    "width = 10, height = 6, dpi = 185, bg = \"white\")"
   ]
  }
 ],
 "metadata": {
  "kernelspec": {
   "display_name": "R",
   "language": "R",
   "name": "ir"
  },
  "language_info": {
   "codemirror_mode": "r",
   "file_extension": ".r",
   "mimetype": "text/x-r-source",
   "name": "R",
   "pygments_lexer": "r",
   "version": "4.4.1"
  }
 },
 "nbformat": 4,
 "nbformat_minor": 5
}
