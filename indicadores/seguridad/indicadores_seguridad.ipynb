{
 "cells": [
  {
   "cell_type": "code",
   "execution_count": 1,
   "id": "initial_id",
   "metadata": {
    "ExecuteTime": {
     "end_time": "2025-03-11T00:15:42.783122Z",
     "start_time": "2025-03-11T00:15:42.194675Z"
    },
    "collapsed": true,
    "vscode": {
     "languageId": "r"
    }
   },
   "outputs": [
    {
     "name": "stderr",
     "output_type": "stream",
     "text": [
      "Cargando paquete requerido: pacman\n",
      "\n",
      "Using GitHub PAT from the git credential store.\n",
      "\n",
      "Downloading GitHub repo cpyp-ipdp/funcionespgd@HEAD\n",
      "\n"
     ]
    },
    {
     "name": "stdout",
     "output_type": "stream",
     "text": [
      "rlang  (1.1.4 -> 1.1.6) [CRAN]\n",
      "glue   (1.7.0 -> 1.8.0) [CRAN]\n",
      "cli    (3.6.3 -> 3.6.5) [CRAN]\n",
      "tibble (3.2.1 -> 3.3.0) [CRAN]\n"
     ]
    },
    {
     "name": "stderr",
     "output_type": "stream",
     "text": [
      "Installing 4 packages: rlang, glue, cli, tibble\n",
      "\n",
      "Warning message:\n",
      "\"package 'tibble' is in use and will not be installed\"\n",
      "Installing packages into 'C:/Users/claud/AppData/Local/R/win-library/4.4'\n",
      "(as 'lib' is unspecified)\n",
      "\n"
     ]
    },
    {
     "name": "stdout",
     "output_type": "stream",
     "text": [
      "package 'rlang' successfully unpacked and MD5 sums checked\n"
     ]
    },
    {
     "name": "stderr",
     "output_type": "stream",
     "text": [
      "Warning message:\n",
      "\"cannot remove prior installation of package 'rlang'\"\n",
      "Warning message in file.copy(savedcopy, lib, recursive = TRUE):\n",
      "\"problema al copiar C:\\Users\\claud\\AppData\\Local\\R\\win-library\\4.4\\00LOCK\\rlang\\libs\\x64\\rlang.dll  a C:\\Users\\claud\\AppData\\Local\\R\\win-library\\4.4\\rlang\\libs\\x64\\rlang.dll: Permission denied\"\n",
      "Warning message:\n",
      "\"restored 'rlang'\"\n"
     ]
    },
    {
     "name": "stdout",
     "output_type": "stream",
     "text": [
      "package 'glue' successfully unpacked and MD5 sums checked\n"
     ]
    },
    {
     "name": "stderr",
     "output_type": "stream",
     "text": [
      "Warning message:\n",
      "\"cannot remove prior installation of package 'glue'\"\n",
      "Warning message in file.copy(savedcopy, lib, recursive = TRUE):\n",
      "\"problema al copiar C:\\Users\\claud\\AppData\\Local\\R\\win-library\\4.4\\00LOCK\\glue\\libs\\x64\\glue.dll  a C:\\Users\\claud\\AppData\\Local\\R\\win-library\\4.4\\glue\\libs\\x64\\glue.dll: Permission denied\"\n",
      "Warning message:\n",
      "\"restored 'glue'\"\n"
     ]
    },
    {
     "name": "stdout",
     "output_type": "stream",
     "text": [
      "package 'cli' successfully unpacked and MD5 sums checked\n"
     ]
    },
    {
     "name": "stderr",
     "output_type": "stream",
     "text": [
      "Warning message:\n",
      "\"cannot remove prior installation of package 'cli'\"\n",
      "Warning message in file.copy(savedcopy, lib, recursive = TRUE):\n",
      "\"problema al copiar C:\\Users\\claud\\AppData\\Local\\R\\win-library\\4.4\\00LOCK\\cli\\libs\\x64\\cli.dll  a C:\\Users\\claud\\AppData\\Local\\R\\win-library\\4.4\\cli\\libs\\x64\\cli.dll: Permission denied\"\n",
      "Warning message:\n",
      "\"restored 'cli'\"\n"
     ]
    },
    {
     "name": "stdout",
     "output_type": "stream",
     "text": [
      "\n",
      "The downloaded binary packages are in\n",
      "\tC:\\Users\\claud\\AppData\\Local\\Temp\\RtmpAvrnRE\\downloaded_packages\n",
      "\u001b[36m──\u001b[39m \u001b[36mR CMD build\u001b[39m \u001b[36m─────────────────────────────────────────────────────────────────\u001b[39m\n",
      "* checking for file 'C:\\Users\\claud\\AppData\\Local\\Temp\\RtmpAvrnRE\\remotes8dbc5da04a33\\cpyp-ipdp-funcionespgd-6fd64b9/DESCRIPTION' ... OK\n",
      "* preparing 'funcionespgd':\n",
      "* checking DESCRIPTION meta-information ... OK\n",
      "* checking for LF line-endings in source and make files and shell scripts\n",
      "* checking for empty or unneeded directories\n",
      "Omitted 'LazyData' from DESCRIPTION\n",
      "* building 'funcionespgd_0.1.0.tar.gz'\n",
      "\n"
     ]
    },
    {
     "name": "stderr",
     "output_type": "stream",
     "text": [
      "Installing package into 'C:/Users/claud/AppData/Local/R/win-library/4.4'\n",
      "(as 'lib' is unspecified)\n",
      "\n"
     ]
    }
   ],
   "source": [
    "##Estimación de indicadores de seguridad\n",
    "#Se borra todo lo que se encuentra en el entorno\n",
    "\n",
    "rm(list=ls())\n",
    "\n",
    "# Librerías ====\n",
    "if(!require('pacman')) install.packages('pacman')\n",
    "pacman::p_load(tidyverse,lubridate, showtext,srvyr,foreign)\n",
    "font_add_google(\"Poppins\", \"pop\")\n",
    "showtext_auto()\n",
    "remotes::install_github(\"cpyp-ipdp/funcionespgd\", force = TRUE)\n",
    "library(funcionespgd)"
   ]
  },
  {
   "cell_type": "code",
   "execution_count": 2,
   "id": "5c3b7e92",
   "metadata": {
    "vscode": {
     "languageId": "r"
    }
   },
   "outputs": [],
   "source": [
    "#Fuente para los gráficos\n",
    "font_add_google(\"Poppins\", \"pop\")\n",
    "showtext_auto()"
   ]
  },
  {
   "cell_type": "code",
   "execution_count": 3,
   "id": "7854d574d5984959",
   "metadata": {
    "ExecuteTime": {
     "end_time": "2025-03-11T00:17:53.663708Z",
     "start_time": "2025-03-11T00:15:42.798875Z"
    },
    "vscode": {
     "languageId": "r"
    }
   },
   "outputs": [
    {
     "name": "stderr",
     "output_type": "stream",
     "text": [
      "\u001b[1mRows: \u001b[22m\u001b[34m2098743\u001b[39m \u001b[1mColumns: \u001b[22m\u001b[34m21\u001b[39m\n",
      "\u001b[36m──\u001b[39m \u001b[1mColumn specification\u001b[22m \u001b[36m────────────────────────────────────────────────────────\u001b[39m\n",
      "\u001b[1mDelimiter:\u001b[22m \",\"\n",
      "\u001b[31mchr\u001b[39m  (15): mes_inicio, hora_inicio, mes_hecho, hora_hecho, delito, categoria...\n",
      "\u001b[32mdbl\u001b[39m   (4): anio_inicio, anio_hecho, latitud, longitud\n",
      "\u001b[34mdttm\u001b[39m  (2): fecha_inicio, fecha_hecho\n",
      "\n",
      "\u001b[36mℹ\u001b[39m Use `spec()` to retrieve the full column specification for this data.\n",
      "\u001b[36mℹ\u001b[39m Specify the column types or set `show_col_types = FALSE` to quiet this message.\n"
     ]
    }
   ],
   "source": [
    "#carpetas <- read_csv('https://archivo.datos.cdmx.gob.mx/FGJ/carpetas/carpetasFGJ_acumulado_2024_09.csv')%>%\n",
    " carpetas <- read_csv('https://archivo.datos.cdmx.gob.mx/FGJ/carpetas/carpetasFGJ_acumulado_2025_01.csv')%>%\n",
    "  filter(alcaldia_hecho != 'FUERA DE CDMX',\n",
    "         anio_hecho %in% c(2016:2024))%>%\n",
    "#Identificadores de categorías de delitos\n",
    "\n",
    "mutate(\n",
    "    #3 delitos de menor cifra negra: robo a casa, robo de vehículo y homicidio doloso\n",
    "    III_delitos = case_when(categoria_delito %in% c('ROBO A CASA HABITACION CON VIOLENCIA','ROBO A CASA HABITACION SIN VIOLENCIA','ROBO DE VEHICULO CON Y SIN VIOLENCIA','HOMICIDIO DOLOSO') ~ 1,\n",
    "    TRUE ~ 0),\n",
    "#5 delitos de indicador propuesto en un momento\n",
    "    V_delitos = case_when(categoria_delito %in% c('HOMICIDIO DOLOSO','ROBO A NEGOCIO CON VIOLENCIA','ROBO A PASAJERO A BORDO DE MICROBUS CON Y SIN VIOLENCIA','ROBO A PASAJERO A BORDO DEL METRO CON Y SIN VIOLENCIA','ROBO A PASAJERO A BORDO DE TAXI CON VIOLENCIA','ROBO A TRANSEUNTE EN VÍA PÚBLICA CON Y SIN VIOLENCIA','ROBO DE VEHÍCULO CON Y SIN VIOLENCIA') ~ 1,\n",
    "    TRUE ~ 0),\n",
    "#Delitos de alto impacto\n",
    "    alto_impacto = case_when(categoria_delito %in% c('ROBO A TRANSEUNTE EN VÍA PÚBLICA CON Y SIN VIOLENCIA',\n",
    "                                                     'HOMICIDIO DOLOSO',\n",
    "                                                     'ROBO DE VEHICULO CON Y SIN VIOLENCIA',\n",
    "                                                     'ROBO A NEGOCIO CON VIOLENCIA',\n",
    "                                                      'ROBO A PASAJERO A BORDO DEL METRO CON Y SIN VIOLENCIA',\n",
    "                                                     'ROBO A PASAJERO A BORDO DE MICROBUS CON Y SIN VIOLENCIA',\n",
    "                                                     'ROBO A PASAJERO A BORDO DE TAXI CON VIOLENCIA',\n",
    "                                                     'VIOLACIÓN',\n",
    "                                                     'ROBO A REPARTIDOR CON Y SIN VIOLENCIA',\n",
    "                                                     'LESIONES DOLOSAS POR DISPARO DE ARMA DE FUEGO',\n",
    "                                                     'ROBO A CASA HABITACIÓN CON VIOLENCIA',\n",
    "                                                     'ROBO A CUENTAHABIENTE SALIENDO DEL CAJERO CON VIOLENCIA',\n",
    "                                                     'ROBO A TRANSPORTISTA CON Y SIN VIOLENCIA',\n",
    "                                                        'SECUESTRO') ~ 1,\n",
    "                            TRUE ~ 0),\n",
    "##Delitos con perspectiva de género\n",
    "    perspectiva_genero = case_when(delito %in% c('ABUSO SEXUAL',\n",
    "                                                 'ACOSO SEXUAL',\n",
    "                                                 'ACOSO SEXUAL AGRAVADO EN CONTRA DE MENORES',\n",
    "                                                 'CONTRA LA INTIMIDAD SEXUAL',\n",
    "                                                 'FEMINICIDIO',\n",
    "                                                 'FEMINICIDIO POR ARMA BLANCA',\n",
    "                                                 'FEMINICIDIO POR DISPARO DE ARMA DE FUEGO',\n",
    "                                                 'FEMINICIO POR GOLPES',\n",
    "                                                 'HOMICIDIO POR ARMA BLANCA',\n",
    "                                                 'HOMICIDIO POR ARMA DE FUEGO',\n",
    "                                                 'HOMICIDIO POR GOLPES',\n",
    "                                                 'HOMICIDIOS INTENCIONALES (OTROS)',\n",
    "                                                 'LESIONES INTENCIONALES',\n",
    "                                                 'LESIONES INTENCIONALES POR ARMA BLANCA',\n",
    "                                                 'LESIONES INTENCIONALES POR ARMA DE FUEGO',\n",
    "                                                  'LESIONES INTENCIONALES POR GOLPES',\n",
    "                                                 'PLAGIO O SECUESTRO',\n",
    "                                                 'TRATA DE PERSONAS',\n",
    "                                                 'VIOLACION',\n",
    "                                                 'VIOLACION EQUIPARADA',\n",
    "                                                 'VIOLACION EQUIPARADA POR CONOCIDO',\n",
    "                                                 'VIOLACION TUMULTUARIA',\n",
    "                                                 'VIOLENCIA FAMILIAR') ~ 1,\n",
    "                            TRUE ~ 0)\n",
    ")"
   ]
  },
  {
   "cell_type": "code",
   "execution_count": 4,
   "id": "b1aa54b06e7a213",
   "metadata": {
    "ExecuteTime": {
     "end_time": "2025-03-11T00:17:53.732003Z",
     "start_time": "2025-03-11T00:17:53.699798Z"
    },
    "vscode": {
     "languageId": "r"
    }
   },
   "outputs": [
    {
     "data": {
      "text/html": [
       "<table class=\"dataframe\">\n",
       "<caption>A tibble: 6 × 25</caption>\n",
       "<thead>\n",
       "\t<tr><th scope=col>anio_inicio</th><th scope=col>mes_inicio</th><th scope=col>fecha_inicio</th><th scope=col>hora_inicio</th><th scope=col>anio_hecho</th><th scope=col>mes_hecho</th><th scope=col>fecha_hecho</th><th scope=col>hora_hecho</th><th scope=col>delito</th><th scope=col>categoria_delito</th><th scope=col>⋯</th><th scope=col>colonia_catalogo</th><th scope=col>alcaldia_hecho</th><th scope=col>alcaldia_catalogo</th><th scope=col>municipio_hecho</th><th scope=col>latitud</th><th scope=col>longitud</th><th scope=col>III_delitos</th><th scope=col>V_delitos</th><th scope=col>alto_impacto</th><th scope=col>perspectiva_genero</th></tr>\n",
       "\t<tr><th scope=col>&lt;dbl&gt;</th><th scope=col>&lt;chr&gt;</th><th scope=col>&lt;dttm&gt;</th><th scope=col>&lt;chr&gt;</th><th scope=col>&lt;dbl&gt;</th><th scope=col>&lt;chr&gt;</th><th scope=col>&lt;dttm&gt;</th><th scope=col>&lt;chr&gt;</th><th scope=col>&lt;chr&gt;</th><th scope=col>&lt;chr&gt;</th><th scope=col>⋯</th><th scope=col>&lt;chr&gt;</th><th scope=col>&lt;chr&gt;</th><th scope=col>&lt;chr&gt;</th><th scope=col>&lt;chr&gt;</th><th scope=col>&lt;dbl&gt;</th><th scope=col>&lt;dbl&gt;</th><th scope=col>&lt;dbl&gt;</th><th scope=col>&lt;dbl&gt;</th><th scope=col>&lt;dbl&gt;</th><th scope=col>&lt;dbl&gt;</th></tr>\n",
       "</thead>\n",
       "<tbody>\n",
       "\t<tr><td>2016</td><td>Enero</td><td>2016-01-01</td><td>00:00:00</td><td>2016</td><td>Enero</td><td>2016-01-01</td><td>00:20:00</td><td>ROBO A TRANSEUNTE EN VIA PUBLICA CON VIOLENCIA      </td><td>ROBO A TRANSEUNTE EN VÍA PÚBLICA CON Y SIN VIOLENCIA</td><td>⋯</td><td>Barrio San Antonio Culhuacan</td><td>IZTAPALAPA         </td><td>NA</td><td>CDMX</td><td>19.34080</td><td>-99.11431</td><td>0</td><td>1</td><td>1</td><td>0</td></tr>\n",
       "\t<tr><td>2016</td><td>Enero</td><td>2016-01-01</td><td>00:00:00</td><td>2016</td><td>Enero</td><td>2016-01-01</td><td>01:45:00</td><td>LESIONES CULPOSAS POR TRANSITO VEHICULAR EN COLISION</td><td>DELITO DE BAJO IMPACTO                              </td><td>⋯</td><td>Cerro De La Estrella        </td><td>IZTAPALAPA         </td><td>NA</td><td>CDMX</td><td>19.31861</td><td>-99.07572</td><td>0</td><td>0</td><td>0</td><td>0</td></tr>\n",
       "\t<tr><td>2016</td><td>Enero</td><td>2016-01-01</td><td>00:00:00</td><td>2016</td><td>Enero</td><td>2016-01-01</td><td>01:15:00</td><td>DAÑO EN PROPIEDAD AJENA INTENCIONAL A AUTOMOVIL     </td><td>DELITO DE BAJO IMPACTO                              </td><td>⋯</td><td>Nextitla                    </td><td>MIGUEL HIDALGO     </td><td>NA</td><td>CDMX</td><td>19.45716</td><td>-99.17253</td><td>0</td><td>0</td><td>0</td><td>0</td></tr>\n",
       "\t<tr><td>2016</td><td>Enero</td><td>2016-01-01</td><td>00:00:00</td><td>2016</td><td>Enero</td><td>2016-01-01</td><td>01:30:00</td><td>ROBO A CASA HABITACION SIN VIOLENCIA                </td><td>DELITO DE BAJO IMPACTO                              </td><td>⋯</td><td>Los Cedros                  </td><td>COYOACAN           </td><td>NA</td><td>CDMX</td><td>19.31267</td><td>-99.11181</td><td>0</td><td>0</td><td>0</td><td>0</td></tr>\n",
       "\t<tr><td>2016</td><td>Enero</td><td>2016-01-01</td><td>00:00:00</td><td>2016</td><td>Enero</td><td>2016-01-01</td><td>02:00:00</td><td>DAÑO EN PROPIEDAD AJENA INTENCIONAL A NEGOCIO       </td><td>DELITO DE BAJO IMPACTO                              </td><td>⋯</td><td>Pueblo Santa Maria Malinalco</td><td>AZCAPOTZALCO       </td><td>NA</td><td>CDMX</td><td>19.47936</td><td>-99.17994</td><td>0</td><td>0</td><td>0</td><td>0</td></tr>\n",
       "\t<tr><td>2016</td><td>Enero</td><td>2016-01-01</td><td>00:00:00</td><td>2016</td><td>Enero</td><td>2016-01-01</td><td>04:00:00</td><td>LESIONES CULPOSAS                                   </td><td>DELITO DE BAJO IMPACTO                              </td><td>⋯</td><td>NA                          </td><td>VENUSTIANO CARRANZA</td><td>NA</td><td>CDMX</td><td>      NA</td><td>       NA</td><td>0</td><td>0</td><td>0</td><td>0</td></tr>\n",
       "</tbody>\n",
       "</table>\n"
      ],
      "text/latex": [
       "A tibble: 6 × 25\n",
       "\\begin{tabular}{lllllllllllllllllllll}\n",
       " anio\\_inicio & mes\\_inicio & fecha\\_inicio & hora\\_inicio & anio\\_hecho & mes\\_hecho & fecha\\_hecho & hora\\_hecho & delito & categoria\\_delito & ⋯ & colonia\\_catalogo & alcaldia\\_hecho & alcaldia\\_catalogo & municipio\\_hecho & latitud & longitud & III\\_delitos & V\\_delitos & alto\\_impacto & perspectiva\\_genero\\\\\n",
       " <dbl> & <chr> & <dttm> & <chr> & <dbl> & <chr> & <dttm> & <chr> & <chr> & <chr> & ⋯ & <chr> & <chr> & <chr> & <chr> & <dbl> & <dbl> & <dbl> & <dbl> & <dbl> & <dbl>\\\\\n",
       "\\hline\n",
       "\t 2016 & Enero & 2016-01-01 & 00:00:00 & 2016 & Enero & 2016-01-01 & 00:20:00 & ROBO A TRANSEUNTE EN VIA PUBLICA CON VIOLENCIA       & ROBO A TRANSEUNTE EN VÍA PÚBLICA CON Y SIN VIOLENCIA & ⋯ & Barrio San Antonio Culhuacan & IZTAPALAPA          & NA & CDMX & 19.34080 & -99.11431 & 0 & 1 & 1 & 0\\\\\n",
       "\t 2016 & Enero & 2016-01-01 & 00:00:00 & 2016 & Enero & 2016-01-01 & 01:45:00 & LESIONES CULPOSAS POR TRANSITO VEHICULAR EN COLISION & DELITO DE BAJO IMPACTO                               & ⋯ & Cerro De La Estrella         & IZTAPALAPA          & NA & CDMX & 19.31861 & -99.07572 & 0 & 0 & 0 & 0\\\\\n",
       "\t 2016 & Enero & 2016-01-01 & 00:00:00 & 2016 & Enero & 2016-01-01 & 01:15:00 & DAÑO EN PROPIEDAD AJENA INTENCIONAL A AUTOMOVIL      & DELITO DE BAJO IMPACTO                               & ⋯ & Nextitla                     & MIGUEL HIDALGO      & NA & CDMX & 19.45716 & -99.17253 & 0 & 0 & 0 & 0\\\\\n",
       "\t 2016 & Enero & 2016-01-01 & 00:00:00 & 2016 & Enero & 2016-01-01 & 01:30:00 & ROBO A CASA HABITACION SIN VIOLENCIA                 & DELITO DE BAJO IMPACTO                               & ⋯ & Los Cedros                   & COYOACAN            & NA & CDMX & 19.31267 & -99.11181 & 0 & 0 & 0 & 0\\\\\n",
       "\t 2016 & Enero & 2016-01-01 & 00:00:00 & 2016 & Enero & 2016-01-01 & 02:00:00 & DAÑO EN PROPIEDAD AJENA INTENCIONAL A NEGOCIO        & DELITO DE BAJO IMPACTO                               & ⋯ & Pueblo Santa Maria Malinalco & AZCAPOTZALCO        & NA & CDMX & 19.47936 & -99.17994 & 0 & 0 & 0 & 0\\\\\n",
       "\t 2016 & Enero & 2016-01-01 & 00:00:00 & 2016 & Enero & 2016-01-01 & 04:00:00 & LESIONES CULPOSAS                                    & DELITO DE BAJO IMPACTO                               & ⋯ & NA                           & VENUSTIANO CARRANZA & NA & CDMX &       NA &        NA & 0 & 0 & 0 & 0\\\\\n",
       "\\end{tabular}\n"
      ],
      "text/markdown": [
       "\n",
       "A tibble: 6 × 25\n",
       "\n",
       "| anio_inicio &lt;dbl&gt; | mes_inicio &lt;chr&gt; | fecha_inicio &lt;dttm&gt; | hora_inicio &lt;chr&gt; | anio_hecho &lt;dbl&gt; | mes_hecho &lt;chr&gt; | fecha_hecho &lt;dttm&gt; | hora_hecho &lt;chr&gt; | delito &lt;chr&gt; | categoria_delito &lt;chr&gt; | ⋯ ⋯ | colonia_catalogo &lt;chr&gt; | alcaldia_hecho &lt;chr&gt; | alcaldia_catalogo &lt;chr&gt; | municipio_hecho &lt;chr&gt; | latitud &lt;dbl&gt; | longitud &lt;dbl&gt; | III_delitos &lt;dbl&gt; | V_delitos &lt;dbl&gt; | alto_impacto &lt;dbl&gt; | perspectiva_genero &lt;dbl&gt; |\n",
       "|---|---|---|---|---|---|---|---|---|---|---|---|---|---|---|---|---|---|---|---|---|\n",
       "| 2016 | Enero | 2016-01-01 | 00:00:00 | 2016 | Enero | 2016-01-01 | 00:20:00 | ROBO A TRANSEUNTE EN VIA PUBLICA CON VIOLENCIA       | ROBO A TRANSEUNTE EN VÍA PÚBLICA CON Y SIN VIOLENCIA | ⋯ | Barrio San Antonio Culhuacan | IZTAPALAPA          | NA | CDMX | 19.34080 | -99.11431 | 0 | 1 | 1 | 0 |\n",
       "| 2016 | Enero | 2016-01-01 | 00:00:00 | 2016 | Enero | 2016-01-01 | 01:45:00 | LESIONES CULPOSAS POR TRANSITO VEHICULAR EN COLISION | DELITO DE BAJO IMPACTO                               | ⋯ | Cerro De La Estrella         | IZTAPALAPA          | NA | CDMX | 19.31861 | -99.07572 | 0 | 0 | 0 | 0 |\n",
       "| 2016 | Enero | 2016-01-01 | 00:00:00 | 2016 | Enero | 2016-01-01 | 01:15:00 | DAÑO EN PROPIEDAD AJENA INTENCIONAL A AUTOMOVIL      | DELITO DE BAJO IMPACTO                               | ⋯ | Nextitla                     | MIGUEL HIDALGO      | NA | CDMX | 19.45716 | -99.17253 | 0 | 0 | 0 | 0 |\n",
       "| 2016 | Enero | 2016-01-01 | 00:00:00 | 2016 | Enero | 2016-01-01 | 01:30:00 | ROBO A CASA HABITACION SIN VIOLENCIA                 | DELITO DE BAJO IMPACTO                               | ⋯ | Los Cedros                   | COYOACAN            | NA | CDMX | 19.31267 | -99.11181 | 0 | 0 | 0 | 0 |\n",
       "| 2016 | Enero | 2016-01-01 | 00:00:00 | 2016 | Enero | 2016-01-01 | 02:00:00 | DAÑO EN PROPIEDAD AJENA INTENCIONAL A NEGOCIO        | DELITO DE BAJO IMPACTO                               | ⋯ | Pueblo Santa Maria Malinalco | AZCAPOTZALCO        | NA | CDMX | 19.47936 | -99.17994 | 0 | 0 | 0 | 0 |\n",
       "| 2016 | Enero | 2016-01-01 | 00:00:00 | 2016 | Enero | 2016-01-01 | 04:00:00 | LESIONES CULPOSAS                                    | DELITO DE BAJO IMPACTO                               | ⋯ | NA                           | VENUSTIANO CARRANZA | NA | CDMX |       NA |        NA | 0 | 0 | 0 | 0 |\n",
       "\n"
      ],
      "text/plain": [
       "  anio_inicio mes_inicio fecha_inicio hora_inicio anio_hecho mes_hecho\n",
       "1 2016        Enero      2016-01-01   00:00:00    2016       Enero    \n",
       "2 2016        Enero      2016-01-01   00:00:00    2016       Enero    \n",
       "3 2016        Enero      2016-01-01   00:00:00    2016       Enero    \n",
       "4 2016        Enero      2016-01-01   00:00:00    2016       Enero    \n",
       "5 2016        Enero      2016-01-01   00:00:00    2016       Enero    \n",
       "6 2016        Enero      2016-01-01   00:00:00    2016       Enero    \n",
       "  fecha_hecho hora_hecho delito                                              \n",
       "1 2016-01-01  00:20:00   ROBO A TRANSEUNTE EN VIA PUBLICA CON VIOLENCIA      \n",
       "2 2016-01-01  01:45:00   LESIONES CULPOSAS POR TRANSITO VEHICULAR EN COLISION\n",
       "3 2016-01-01  01:15:00   DAÑO EN PROPIEDAD AJENA INTENCIONAL A AUTOMOVIL     \n",
       "4 2016-01-01  01:30:00   ROBO A CASA HABITACION SIN VIOLENCIA                \n",
       "5 2016-01-01  02:00:00   DAÑO EN PROPIEDAD AJENA INTENCIONAL A NEGOCIO       \n",
       "6 2016-01-01  04:00:00   LESIONES CULPOSAS                                   \n",
       "  categoria_delito                                     ⋯\n",
       "1 ROBO A TRANSEUNTE EN VÍA PÚBLICA CON Y SIN VIOLENCIA ⋯\n",
       "2 DELITO DE BAJO IMPACTO                               ⋯\n",
       "3 DELITO DE BAJO IMPACTO                               ⋯\n",
       "4 DELITO DE BAJO IMPACTO                               ⋯\n",
       "5 DELITO DE BAJO IMPACTO                               ⋯\n",
       "6 DELITO DE BAJO IMPACTO                               ⋯\n",
       "  colonia_catalogo             alcaldia_hecho      alcaldia_catalogo\n",
       "1 Barrio San Antonio Culhuacan IZTAPALAPA          NA               \n",
       "2 Cerro De La Estrella         IZTAPALAPA          NA               \n",
       "3 Nextitla                     MIGUEL HIDALGO      NA               \n",
       "4 Los Cedros                   COYOACAN            NA               \n",
       "5 Pueblo Santa Maria Malinalco AZCAPOTZALCO        NA               \n",
       "6 NA                           VENUSTIANO CARRANZA NA               \n",
       "  municipio_hecho latitud  longitud  III_delitos V_delitos alto_impacto\n",
       "1 CDMX            19.34080 -99.11431 0           1         1           \n",
       "2 CDMX            19.31861 -99.07572 0           0         0           \n",
       "3 CDMX            19.45716 -99.17253 0           0         0           \n",
       "4 CDMX            19.31267 -99.11181 0           0         0           \n",
       "5 CDMX            19.47936 -99.17994 0           0         0           \n",
       "6 CDMX                  NA        NA 0           0         0           \n",
       "  perspectiva_genero\n",
       "1 0                 \n",
       "2 0                 \n",
       "3 0                 \n",
       "4 0                 \n",
       "5 0                 \n",
       "6 0                 "
      ]
     },
     "metadata": {},
     "output_type": "display_data"
    }
   ],
   "source": [
    "head(carpetas)"
   ]
  },
  {
   "cell_type": "code",
   "execution_count": 5,
   "id": "5f8d495830f48cbc",
   "metadata": {
    "ExecuteTime": {
     "end_time": "2025-03-11T00:17:53.864392Z",
     "start_time": "2025-03-11T00:17:53.740107Z"
    },
    "vscode": {
     "languageId": "r"
    }
   },
   "outputs": [
    {
     "name": "stdout",
     "output_type": "stream",
     "text": [
      " [1] \"IZTAPALAPA\"             \"MIGUEL HIDALGO\"         \"COYOACAN\"              \n",
      " [4] \"AZCAPOTZALCO\"           \"VENUSTIANO CARRANZA\"    \"IZTACALCO\"             \n",
      " [7] \"ALVARO OBREGON\"         \"CUAUHTEMOC\"             \"BENITO JUAREZ\"         \n",
      "[10] \"GUSTAVO A. MADERO\"      \"TLALPAN\"                \"nan\"                   \n",
      "[13] \"TLAHUAC\"                \"MILPA ALTA\"             \"CUAJIMALPA DE MORELOS\" \n",
      "[16] \"XOCHIMILCO\"             \"LA MAGDALENA CONTRERAS\" \"CDMX (indeterminada)\"  \n",
      " [1] \"ROBO A TRANSEUNTE EN VÍA PÚBLICA CON Y SIN VIOLENCIA\"   \n",
      " [2] \"DELITO DE BAJO IMPACTO\"                                 \n",
      " [3] \"ROBO A NEGOCIO CON VIOLENCIA\"                           \n",
      " [4] \"LESIONES DOLOSAS POR DISPARO DE ARMA DE FUEGO\"          \n",
      " [5] \"HECHO NO DELICTIVO\"                                     \n",
      " [6] \"HOMICIDIO DOLOSO\"                                       \n",
      " [7] \"ROBO A CASA HABITACIÓN CON VIOLENCIA\"                   \n",
      " [8] \"ROBO DE VEHÍCULO CON Y SIN VIOLENCIA\"                   \n",
      " [9] \"ROBO A REPARTIDOR CON Y SIN VIOLENCIA\"                  \n",
      "[10] \"ROBO A CUENTAHABIENTE SALIENDO DEL CAJERO CON VIOLENCIA\"\n",
      "[11] \"ROBO A PASAJERO A BORDO DE MICROBUS CON Y SIN VIOLENCIA\"\n",
      "[12] \"ROBO A PASAJERO A BORDO DEL METRO CON Y SIN VIOLENCIA\"  \n",
      "[13] \"ROBO A PASAJERO A BORDO DE TAXI CON VIOLENCIA\"          \n",
      "[14] \"ROBO A TRANSPORTISTA CON Y SIN VIOLENCIA\"               \n",
      "[15] \"PLAGIO O SECUESTRO\"                                     \n",
      "[16] \"FEMINICIDIO\"                                            \n",
      "[17] \"VIOLACIÓN\"                                              \n",
      "[18] \"SECUESTRO\"                                              \n"
     ]
    }
   ],
   "source": [
    "print(unique(carpetas$alcaldia_hecho))\n",
    "print(unique(carpetas$categoria_delito))"
   ]
  },
  {
   "cell_type": "code",
   "execution_count": 6,
   "id": "7a85e088e48ec2c1",
   "metadata": {
    "ExecuteTime": {
     "end_time": "2025-03-11T00:17:54.111745Z",
     "start_time": "2025-03-11T00:17:54.011837Z"
    },
    "vscode": {
     "languageId": "r"
    }
   },
   "outputs": [
    {
     "name": "stdout",
     "output_type": "stream",
     "text": [
      "  [1] \"ROBO A TRANSEUNTE EN VIA PUBLICA CON VIOLENCIA\"                                                                                                                                  \n",
      "  [2] \"LESIONES CULPOSAS POR TRANSITO VEHICULAR EN COLISION\"                                                                                                                            \n",
      "  [3] \"DAÑO EN PROPIEDAD AJENA INTENCIONAL A AUTOMOVIL\"                                                                                                                                 \n",
      "  [4] \"ROBO A CASA HABITACION SIN VIOLENCIA\"                                                                                                                                            \n",
      "  [5] \"DAÑO EN PROPIEDAD AJENA INTENCIONAL A NEGOCIO\"                                                                                                                                   \n",
      "  [6] \"LESIONES CULPOSAS\"                                                                                                                                                               \n",
      "  [7] \"ROBO A NEGOCIO CON VIOLENCIA\"                                                                                                                                                    \n",
      "  [8] \"LESIONES INTENCIONALES POR ARMA DE FUEGO\"                                                                                                                                        \n",
      "  [9] \"HOMICIDIO CULPOSO POR TRÁNSITO VEHICULAR (CAIDA)\"                                                                                                                                \n",
      " [10] \"PERDIDA DE LA VIDA POR QUEMADURA\"                                                                                                                                                \n",
      " [11] \"DENUNCIA DE HECHOS\"                                                                                                                                                              \n",
      " [12] \"LESIONES INTENCIONALES\"                                                                                                                                                          \n",
      " [13] \"DAÑO EN PROPIEDAD AJENA CULPOSA POR TRÁNSITO VEHICULAR A AUTOMOVIL\"                                                                                                              \n",
      " [14] \"ROBO DE OBJETOS\"                                                                                                                                                                 \n",
      " [15] \"FRAUDE\"                                                                                                                                                                          \n",
      " [16] \"DAÑO EN PROPIEDAD AJENA INTENCIONAL\"                                                                                                                                             \n",
      " [17] \"DAÑO EN PROPIEDAD AJENA CULPOSA\"                                                                                                                                                 \n",
      " [18] \"ROBO A PASAJERO / CONDUCTOR DE VEHICULO CON VIOLENCIA\"                                                                                                                           \n",
      " [19] \"LESIONES INTENCIONALES POR GOLPES\"                                                                                                                                               \n",
      " [20] \"ROBO A NEGOCIO SIN VIOLENCIA\"                                                                                                                                                    \n",
      " [21] \"ROBO DE ACCESORIOS DE AUTO\"                                                                                                                                                      \n",
      " [22] \"CONTRA FUNCIONARIOS PUBLICOS\"                                                                                                                                                    \n",
      " [23] \"PERDIDA DE LA VIDA POR SUICIDIO\"                                                                                                                                                 \n",
      " [24] \"PERDIDA DE LA VIDA POR OTRAS CAUSAS\"                                                                                                                                             \n",
      " [25] \"LESIONES INTENCIONALES POR ARMA BLANCA\"                                                                                                                                          \n",
      " [26] \"HOMICIDIO POR ARMA DE FUEGO\"                                                                                                                                                     \n",
      " [27] \"DAÑO EN PROPIEDAD AJENA INTENCIONAL A BIENES INMUEBLES\"                                                                                                                          \n",
      " [28] \"PERDIDA DE LA VIDA POR PARO CARDIACO\"                                                                                                                                            \n",
      " [29] \"NEGACION DEL SERVICIO PUBLICO\"                                                                                                                                                   \n",
      " [30] \"RESISTENCIA DE PARTICULARES (SE OPONGA O RESISTA)\"                                                                                                                               \n",
      " [31] \"AMENAZAS\"                                                                                                                                                                        \n",
      " [32] \"LA ADMINISTRACION DE JUSTICIA\"                                                                                                                                                   \n",
      " [33] \"HOMICIDIO CULPOSO POR TRÁNSITO VEHICULAR (COLISION)\"                                                                                                                             \n",
      " [34] \"ROBO A CASA HABITACION CON VIOLENCIA\"                                                                                                                                            \n",
      " [35] \"ENCUBRIMIENTO\"                                                                                                                                                                   \n",
      " [36] \"ROBO DE VEHICULO DE SERVICIO PÚBLICO SIN VIOLENCIA\"                                                                                                                              \n",
      " [37] \"ROBO A PASAJERO A BORDO DE TRANSPORTE PÚBLICO CON VIOLENCIA\"                                                                                                                     \n",
      " [38] \"ROBO DE VEHICULO DE SERVICIO PARTICULAR SIN VIOLENCIA\"                                                                                                                           \n",
      " [39] \"LESIONES CULPOSAS POR CAIDA\"                                                                                                                                                     \n",
      " [40] \"PERDIDA DE LA VIDA POR ENFERMEDAD\"                                                                                                                                               \n",
      " [41] \"ROBO A TRANSEUNTE DE CELULAR CON VIOLENCIA\"                                                                                                                                      \n",
      " [42] \"HOMICIDIO POR ARMA BLANCA\"                                                                                                                                                       \n",
      " [43] \"ROBO DE OBJETOS DEL INTERIOR DE UN VEHICULO\"                                                                                                                                     \n",
      " [44] \"HOMICIDIO POR GOLPES\"                                                                                                                                                            \n",
      " [45] \"ROBO DE VEHICULO DE SERVICIO PÚBLICO CON VIOLENCIA\"                                                                                                                              \n",
      " [46] \"ROBO DE DINERO\"                                                                                                                                                                  \n",
      " [47] \"ROBO A TRANSEUNTE DE CELULAR SIN VIOLENCIA\"                                                                                                                                      \n",
      " [48] \"ROBO DE DOCUMENTOS\"                                                                                                                                                              \n",
      " [49] \"ROBO DE MOTOCICLETA CON VIOLENCIA\"                                                                                                                                               \n",
      " [50] \"ABUSO DE AUTORIDAD\"                                                                                                                                                              \n",
      " [51] \"DAÑO EN PROPIEDAD AJENA INTENCIONAL A CASA HABITACION\"                                                                                                                           \n",
      " [52] \"ROBO A REPARTIDOR CON VIOLENCIA\"                                                                                                                                                 \n",
      " [53] \"ROBO DE MOTOCICLETA SIN VIOLENCIA\"                                                                                                                                               \n",
      " [54] \"LESIONES CULPOSAS POR TRANSITO VEHICULAR\"                                                                                                                                        \n",
      " [55] \"ATAQUE A LAS VIAS DE COMUNICACION (DAÑO A VIAS O MEDIOS DE TRANSPORTE)\"                                                                                                          \n",
      " [56] \"HOMICIDIOS INTENCIONALES (OTROS)\"                                                                                                                                                \n",
      " [57] \"ROBO A TRANSEUNTE SALIENDO DEL CAJERO CON VIOLENCIA\"                                                                                                                             \n",
      " [58] \"TENTATIVA DE ROBO DE VEHICULO\"                                                                                                                                                   \n",
      " [59] \"ROBO DE VEHICULO DE SERVICIO PARTICULAR CON VIOLENCIA\"                                                                                                                           \n",
      " [60] \"FALSIFICACION DE DOCUMENTOS\"                                                                                                                                                     \n",
      " [61] \"FALSIFICACION DE TITULOS AL PORTADOR Y DOCUMENTOS DE CREDITO PUBLICO\"                                                                                                            \n",
      " [62] \"ABORTO\"                                                                                                                                                                          \n",
      " [63] \"ROBO DE OBJETOS A ESCUELA\"                                                                                                                                                       \n",
      " [64] \"NARCOMENUDEO POSESION SIMPLE\"                                                                                                                                                    \n",
      " [65] \"ROBO A CASA HABITACION Y VEHICULO SIN VIOLENCIA\"                                                                                                                                 \n",
      " [66] \"PERDIDA DE LA VIDA POR CAIDA\"                                                                                                                                                    \n",
      " [67] \"DESPOJO\"                                                                                                                                                                         \n",
      " [68] \"ROBO DE VEHICULO DE PEDALES\"                                                                                                                                                     \n",
      " [69] \"USO DE DOCUMENTO FALSO\"                                                                                                                                                          \n",
      " [70] \"TENTATIVA DE ROBO\"                                                                                                                                                               \n",
      " [71] \"ROBO A PASAJERO A BORDO DE PESERO COLECTIVO CON VIOLENCIA\"                                                                                                                       \n",
      " [72] \"SUSTRACCION DE MENORES\"                                                                                                                                                          \n",
      " [73] \"ALLANAMIENTO DE MORADA\"                                                                                                                                                          \n",
      " [74] \"PORTACION ARMA/PROHIB.\"                                                                                                                                                          \n",
      " [75] \"ROBO DE ANIMALES\"                                                                                                                                                                \n",
      " [76] \"ROBO A PASAJERO A BORDO DE METRO SIN VIOLENCIA\"                                                                                                                                  \n",
      " [77] \"ROBO A PASAJERO / CONDUCTOR DE TAXI CON VIOLENCIA\"                                                                                                                               \n",
      " [78] \"ROBO A OFICINA PÚBLICA CON VIOLENCIA\"                                                                                                                                            \n",
      " [79] \"LESIONES CULPOSAS POR CAIDA DE VEHÍCULO EN MOVIMIENTO\"                                                                                                                           \n",
      " [80] \"RESPONSABILIDAD PROFESIONAL\"                                                                                                                                                     \n",
      " [81] \"ROBO A PASAJERO A BORDO DE METRO CON VIOLENCIA\"                                                                                                                                  \n",
      " [82] \"ROBO A TRANSEUNTE SALIENDO DEL BANCO CON VIOLENCIA\"                                                                                                                              \n",
      " [83] \"ABUSO DE CONFIANZA\"                                                                                                                                                              \n",
      " [84] \"ROBO A PASAJERO A BORDO DE METROBUS SIN VIOLENCIA\"                                                                                                                               \n",
      " [85] \"DAÑO EN PROPIEDAD AJENA CULPOSA POR TRÁNSITO VEHICULAR A BIENES INMUEBLES\"                                                                                                       \n",
      " [86] \"ROBO A TRANSEUNTE EN VIA PUBLICA SIN VIOLENCIA\"                                                                                                                                  \n",
      " [87] \"ROBO DE VEHICULO DE SERVICIO DE TRANSPORTE SIN VIOLENCIA\"                                                                                                                        \n",
      " [88] \"USURPACIÓN DE IDENTIDAD\"                                                                                                                                                         \n",
      " [89] \"NARCOMENUDEO POSESIÓN CON FINES DE VENTA, COMERCIO Y SUMINISTRO\"                                                                                                                 \n",
      " [90] \"ROBO A PASAJERO A BORDO DE TAXI CON VIOLENCIA\"                                                                                                                                   \n",
      " [91] \"ROBO A NEGOCIO Y VEHICULO CON VIOLENCIA\"                                                                                                                                         \n",
      " [92] \"ROBO A TRANSEUNTE EN PARQUES Y MERCADOS CON VIOLENCIA\"                                                                                                                           \n",
      " [93] \"PORTACION DE ARMA DE FUEGO\"                                                                                                                                                      \n",
      " [94] \"ROBO A PASAJERO EN RTP SIN VIOLENCIA\"                                                                                                                                            \n",
      " [95] \"QUEBRANTAMIENTO DE SELLOS\"                                                                                                                                                       \n",
      " [96] \"ROBO DE PLACA DE AUTOMOVIL\"                                                                                                                                                      \n",
      " [97] \"ROBO A TRANSPORTISTA Y VEHICULO PESADO CON VIOLENCIA\"                                                                                                                            \n",
      " [98] \"ROBO A REPARTIDOR SIN VIOLENCIA\"                                                                                                                                                 \n",
      " [99] \"DISPAROS DE ARMA DE FUEGO\"                                                                                                                                                       \n",
      "[100] \"HOMICIDIO CULPOSO POR TRÁNSITO VEHICULAR (ATROPELLADO)\"                                                                                                                          \n",
      "[101] \"ROBO A PASAJERO A BORDO DE TRANSPORTE PÚBLICO SIN VIOLENCIA\"                                                                                                                     \n",
      "[102] \"PERDIDA DE LA VIDA POR INTOXICACION\"                                                                                                                                             \n",
      "[103] \"LESIONES CULPOSAS ACCIDENTE LABORAL\"                                                                                                                                             \n",
      "[104] \"COHECHO\"                                                                                                                                                                         \n",
      "[105] \"ROBO DE ARMA\"                                                                                                                                                                    \n",
      "[106] \"PERDIDA DE LA VIDA POR AHOGAMIENTO\"                                                                                                                                              \n",
      "[107] \"ROBO A TRANSEUNTE EN RESTAURANT CON VIOLENCIA\"                                                                                                                                   \n",
      "[108] \"DELITOS AMBIENTALES\"                                                                                                                                                             \n",
      "[109] \"EJERCICIO INDEBIDO DEL SERVIDOR PUBLICO\"                                                                                                                                         \n",
      "[110] \"INSOLVENCIA ALIMENTARIA\"                                                                                                                                                         \n",
      "[111] \"USURPACION DE FUNCIONES\"                                                                                                                                                         \n",
      "[112] \"ABANDONO DE PERSONA\"                                                                                                                                                             \n",
      "[113] \"POSESION DE VEHICULO ROBADO\"                                                                                                                                                     \n",
      "[114] \"HOMICIDIO CULPOSO FUERA DEL D.F (COLISION)\"                                                                                                                                      \n",
      "[115] \"CORRUPCION DE MENORES\"                                                                                                                                                           \n",
      "[116] \"FEMINICIDIO\"                                                                                                                                                                     \n",
      "[117] \"ROBO A TRANSEUNTE EN NEGOCIO CON VIOLENCIA\"                                                                                                                                      \n",
      "[118] \"HOMICIDIO CULPOSO POR INSTRUMENTO PUNZO CORTANTE\"                                                                                                                                \n",
      "[119] \"HOMICIDIO CULPOSO FUERA DEL D.F (ATROPELLADO)\"                                                                                                                                   \n",
      "[120] \"LESIONES CULPOSAS POR QUEMADURAS\"                                                                                                                                                \n",
      "[121] \"ROBO A PASAJERO A BORDO DE TAXI SIN VIOLENCIA\"                                                                                                                                   \n",
      "[122] \"MALTRATO ANIMAL\"                                                                                                                                                                 \n",
      "[123] \"ROBO DE VEHICULO DE SERVICIO OFICIAL SIN VIOLENCIA\"                                                                                                                              \n",
      "[124] \"OPOSICION A LA OBRA PUBLICA\"                                                                                                                                                     \n",
      "[125] \"PORNOGRAFIA INFANTIL\"                                                                                                                                                            \n",
      "[126] \"HOMICIDIO CULPOSO POR TRÁNSITO VEHICULAR\"                                                                                                                                        \n",
      "[127] \"ROBO DE MAQUINARIA SIN VIOLENCIA\"                                                                                                                                                \n",
      "[128] \"ROBO DE FLUIDOS\"                                                                                                                                                                 \n",
      "[129] \"ROBO A PASAJERO A BORDO DE PESERO COLECTIVO SIN VIOLENCIA\"                                                                                                                       \n",
      "[130] \"REVELACION DE SECRETOS\"                                                                                                                                                          \n",
      "[131] \"ROBO A REPARTIDOR Y VEHICULO CON VIOLENCIA\"                                                                                                                                      \n",
      "[132] \"ROBO A SUCURSAL BANCARIA (ASALTO BANCARIO) CON VIOLENCIA\"                                                                                                                        \n",
      "[133] \"INHUMACIONES Y/O EXHUMACIONES\"                                                                                                                                                   \n",
      "[134] \"ROBO DE VEHICULO DE SERVICIO DE TRANSPORTE CON VIOLENCIA\"                                                                                                                        \n",
      "[135] \"FALSEDAD DE DECLARACIONES\"                                                                                                                                                       \n",
      "[136] \"ROBO A PASAJERO EN TROLEBUS SIN VIOLENCIA\"                                                                                                                                       \n",
      "[137] \"ROBO DE ALHAJAS\"                                                                                                                                                                 \n",
      "[138] \"ROBO A CASA HABITACION Y VEHICULO CON VIOLENCIA\"                                                                                                                                 \n",
      "[139] \"PERDIDA DE LA VIDA ASFIXIA POR ALIMENTOS/ LIQUIDOS\"                                                                                                                              \n",
      "[140] \"PERDIDA DE LA VIDA POR CONGESTION ALCOHOLICA\"                                                                                                                                    \n",
      "[141] \"ROBO A REPARTIDOR Y VEHICULO SIN VIOLENCIA\"                                                                                                                                      \n",
      "[142] \"OPERACIONES CON RECURSOS DE PROCEDENCIA ILICITA\"                                                                                                                                 \n",
      "[143] \"FALSIFICACION DE SELLOS, MARCAS, LLAVES Y OTROS\"                                                                                                                                 \n",
      "[144] \"SECUESTRO EXPRESS (PARA COMETER ROBO O EXTORSIÓN)\"                                                                                                                               \n",
      "[145] \"USURPACION DE PROFESION\"                                                                                                                                                         \n",
      "[146] \"ROBO A NEGOCIO Y VEHICULO SIN VIOLENCIA\"                                                                                                                                         \n",
      "[147] \"PERDIDA DE LA VIDA POR ACCIDENTE LABORAL\"                                                                                                                                        \n",
      "[148] \"TRAFICO DE INFLUENCIA\"                                                                                                                                                           \n",
      "[149] \"ROBO A PASAJERO EN RTP CON VIOLENCIA\"                                                                                                                                            \n",
      "[150] \"EXPLOTACIÓN DE MENOR O DISCAPACITADO\"                                                                                                                                            \n",
      "[151] \"EVASION DE PRESOS\"                                                                                                                                                               \n",
      "[152] \"HOMICIDIO CULPOSO POR ARMA DE FUEGO\"                                                                                                                                             \n",
      "[153] \"ROBO A OFICINA PÚBLICA SIN VIOLENCIA\"                                                                                                                                            \n",
      "[154] \"VIOLACION DE CORRESPONDENCIA\"                                                                                                                                                    \n",
      "[155] \"TENTATIVA DE FRAUDE\"                                                                                                                                                             \n",
      "[156] \"ROBO A PASAJERO A BORDO DE METROBUS CON VIOLENCIA\"                                                                                                                               \n",
      "[157] \"PERDIDA DE LA VIDA POR PRECIPITACION\"                                                                                                                                            \n",
      "[158] \"ROBO A PASAJERO EN TREN LIGERO SIN VIOLENCIA\"                                                                                                                                    \n",
      "[159] \"ROBO A TRANSPORTISTA Y VEHICULO PESADO SIN VIOLENCIA\"                                                                                                                            \n",
      "[160] \"PELIGRO DE CONTAGIO\"                                                                                                                                                             \n",
      "[161] \"HOMICIDIO POR AHORCAMIENTO\"                                                                                                                                                      \n",
      "[162] \"PECULADO\"                                                                                                                                                                        \n",
      "[163] \"MOTIN\"                                                                                                                                                                           \n",
      "[164] \"ROBO DE MAQUINARIA CON VIOLENCIA\"                                                                                                                                                \n",
      "[165] \"PERDIDA DE LA VIDA POR SUICIDIO EN EL METRO\"                                                                                                                                     \n",
      "[166] \"DELITOS DE ABOGADOS PATRONOS Y LITIGANTES\"                                                                                                                                       \n",
      "[167] \"ENRIQUECIMIENTO ILICITO\"                                                                                                                                                         \n",
      "[168] \"ROBO DE VEHICULO DE SERVICIO OFICIAL CON VIOLENCIA\"                                                                                                                              \n",
      "[169] \"ROBO A PASAJERO EN TREN LIGERO CON VIOLENCIA\"                                                                                                                                    \n",
      "[170] \"DAÑO EN PROPIEDAD AJENA CULPOSA POR TRÁNSITO VEHICULAR A VIAS DE COMUNICACION\"                                                                                                   \n",
      "[171] \"ROBO A SUCURSAL BANCARIA (SUPERMERCADO) SIN VIOLENCIA\"                                                                                                                           \n",
      "[172] \"ROBO A TRANSEUNTE EN CINE CON VIOLENCIA\"                                                                                                                                         \n",
      "[173] \"INTIMIDACION (EVITAR DENUNCIA, APORTE INFORMACIÓN O PRUEBAS)\"                                                                                                                    \n",
      "[174] \"BIGAMIA\"                                                                                                                                                                         \n",
      "[175] \"ROBO A SUCURSAL BANCARIA (SUPERMERCADO) CON VIOLENCIA\"                                                                                                                           \n",
      "[176] \"ROBO A PASAJERO EN ECOBUS SIN VIOLENCIA\"                                                                                                                                         \n",
      "[177] \"VARIACION DE NOMBRE O DOMICILIO\"                                                                                                                                                 \n",
      "[178] \"PROVOCACION O APOLOGIA DE DELITO\"                                                                                                                                                \n",
      "[179] \"COACCION DE SERVIDORES PUBLICOS\"                                                                                                                                                 \n",
      "[180] \"PERDIDA DE LA VIDA POR ASFIXIA\"                                                                                                                                                  \n",
      "[181] \"USO INDEBIDO DE ATRIBUCIONES Y FACULTADES\"                                                                                                                                       \n",
      "[182] \"DIFAMACION\"                                                                                                                                                                      \n",
      "[183] \"INTIMIDACION\"                                                                                                                                                                    \n",
      "[184] \"DESOBEDENCIA DE PARTICULARES\"                                                                                                                                                    \n",
      "[185] \"ROBO A TRANSEUNTE EN HOTEL CON VIOLENCIA\"                                                                                                                                        \n",
      "[186] \"ROBO A PASAJERO EN AUTOBÚS FORÁNEO CON VIOLENCIA\"                                                                                                                                \n",
      "[187] \"CONTRA EL ESTADO CIVIL\"                                                                                                                                                          \n",
      "[188] \"GESTIÓN AMBIENTAL\"                                                                                                                                                               \n",
      "[189] \"ACOSO SEXUAL\"                                                                                                                                                                    \n",
      "[190] \"HOMICIDIO CULPOSO\"                                                                                                                                                               \n",
      "[191] \"DAÑO EN PROPIEDAD AJENA INTENCIONAL A VIAS DE COMUNICACION\"                                                                                                                      \n",
      "[192] \"CONCUSION\"                                                                                                                                                                       \n",
      "[193] \"ROBO A PASAJERO A BORDO DE PESERO Y VEHICULO CON VIOLENCIA\"                                                                                                                      \n",
      "[194] \"DELITOS ELECTORALES\"                                                                                                                                                             \n",
      "[195] \"ASOCIACION DELICTUOSA\"                                                                                                                                                           \n",
      "[196] \"CONTAMINACIÓN O RESIDUOS\"                                                                                                                                                        \n",
      "[197] \"TALA\"                                                                                                                                                                            \n",
      "[198] \"REGULACIÓN URBANA\"                                                                                                                                                               \n",
      "[199] \"DELITOS CONTRA LA SALUD\"                                                                                                                                                         \n",
      "[200] \"PERDIDA DE LA VIDA POR DERRUMBE\"                                                                                                                                                 \n",
      "[201] \"CAMBIO DE USO DE SUELO\"                                                                                                                                                          \n",
      "[202] \"DAÑO SUELO (ACTIVIDAD, INVASIÓN O EXTRACCIÓN)\"                                                                                                                                   \n",
      "[203] \"DESACATO\"                                                                                                                                                                        \n",
      "[204] \"ULTRAJES\"                                                                                                                                                                        \n",
      "[205] \"ROBO A PASAJERO EN TROLEBUS CON VIOLENCIA\"                                                                                                                                       \n",
      "[206] \"ATAQUE A LAS VIAS GENERALES DE COMUNICACIÓN\"                                                                                                                                     \n",
      "[207] \"ROBO EN INTERIOR DE EMPRESA (NOMINA) CON VIOLENCIA\"                                                                                                                              \n",
      "[208] \"ROBO A PASAJERO EN TREN SUBURBANO SIN VIOLENCIA\"                                                                                                                                 \n",
      "[209] \"ROBO A TRANSEUNTE EN TERMINAL DE PASAJEROS CON VIOLENCIA\"                                                                                                                        \n",
      "[210] \"ROBO EN INTERIOR DE EMPRESA (NOMINA) SIN VIOLENCIA\"                                                                                                                              \n",
      "[211] \"USO INDEBIDO DE CONDECORACIONES UNIFORMES E INSIGNIAS\"                                                                                                                           \n",
      "[212] \"ROBO DURANTE TRASLADO DE VALORES (NOMINA) CON VIOLENCIA\"                                                                                                                         \n",
      "[213] \"ATAQUES A LA PAZ PUBLICA\"                                                                                                                                                        \n",
      "[214] \"ROBO A PASAJERO EN ECOBUS CON VIOLENCIA\"                                                                                                                                         \n",
      "[215] \"OTROS CULPOSOS\"                                                                                                                                                                  \n",
      "[216] \"ROBO DURANTE TRASLADO DE VALORES (NOMINA) SIN VIOLENCIA\"                                                                                                                         \n",
      "[217] \"PROCREACION ASISTIDA\"                                                                                                                                                            \n",
      "[218] \"ROBO A TRANSEUNTE EN VIA PUBLICA (NOMINA) CON VIOLENCIA\"                                                                                                                         \n",
      "[219] \"ROBO A TRANSEUNTE Y VEHICULO CON VIOLENCIA\"                                                                                                                                      \n",
      "[220] \"ROBO A PASAJERO EN AUTOBUS FORANEO SIN VIOLENCIA\"                                                                                                                                \n",
      "[221] \"LESIONES INTENCIONALES Y ROBO DE VEHICULO\"                                                                                                                                       \n",
      "[222] \"ROBO DE VEHICULO Y NOMINA CON VIOLENCIA\"                                                                                                                                         \n",
      "[223] \"HOMICIDIO INTENCIONAL Y ROBO DE VEHICULO\"                                                                                                                                        \n",
      "[224] \"SABOTAJE\"                                                                                                                                                                        \n",
      "[225] \"PERDIDA DE LA VIDA POR ENVENENAMIENTO\"                                                                                                                                           \n",
      "[226] \"ROBO A PASAJERO EN TREN SUBURBANO CON VIOLENCIA\"                                                                                                                                 \n",
      "[227] \"EJERCICIO ABUSIVO DE FUNCIONES\"                                                                                                                                                  \n",
      "[228] \"CONTRA LA LEY GENERAL DE EXPLOSIVOS\"                                                                                                                                             \n",
      "[229] \"CALUMNIAS\"                                                                                                                                                                       \n",
      "[230] \"FEMINICIDIO POR DISPARO DE ARMA DE FUEGO\"                                                                                                                                        \n",
      "[231] \"LENOCINIO\"                                                                                                                                                                       \n",
      "[232] \"COBRANZA ILEGITIMA\"                                                                                                                                                              \n",
      "[233] \"OTROS DELITOS\"                                                                                                                                                                   \n",
      "[234] \"PERSONAS EXTRAVIADAS\"                                                                                                                                                            \n",
      "[235] \"ROBO DE INFANTE\"                                                                                                                                                                 \n",
      "[236] \"DENUNCIA DE HECHOS POR ROBO DE CELULAR\"                                                                                                                                          \n",
      "[237] \"EJERCICIO ILEGAL Y ABANDONO DEL SERVICIO PUBLICO\"                                                                                                                                \n",
      "[238] \"ALLANAMIENTO DE MORADA, DESPACHO, OFICINA O ESTABLECIMIENTO MERCANTIL\"                                                                                                           \n",
      "[239] \"FALSEDAD ANTE AUTORIDADES\"                                                                                                                                                       \n",
      "[240] \"ROBO A TRANSEUNTE A BORDO DE TAXI PÚBLICO Y PRIVADO CON VIOLENCIA\"                                                                                                               \n",
      "[241] \"PRODUCCIÓN, IMPRESIÓN, ENAJENACIÓN, DISTRIBUCIÓN, ALTERACIÓN O FALSIFICACIÓN DE TÍTULOS AL PORTADOR, DOCUMENTOS DE CRÉDITO PÚBLICOS O VALES DE CANJE\"                            \n",
      "[242] \"ROBO A TRANSEUNTE A BORDO DE TAXI PUBLICO Y PRIVADO SIN VIOLENCIA\"                                                                                                               \n",
      "[243] \"PORTACIÓN, FABRICACIÓN E IMPORTACIÓN DE OBJETOS APTOS PARA AGREDIR\"                                                                                                              \n",
      "[244] \"FALSIFICACION O ALTERACION Y USO INDEBIDO DE DOCUMENTOS\"                                                                                                                         \n",
      "[245] \"ENCUBRIMIENTO POR FAVORECIMIENTO Y RECEPTACIÓN\"                                                                                                                                  \n",
      "[246] \"PERSONAS EXTRAVIADAS Y AUSENTES\"                                                                                                                                                 \n",
      "[247] \"DESOBEDIENCIA Y RESISTENCIA DE PARTICULARES\"                                                                                                                                     \n",
      "[248] \"USURPACION DE FUNCIONES PUBLICAS\"                                                                                                                                                \n",
      "[249] \"INHUMACION, EXHUMACION Y RESPETO A LOS CADAVERES O RESTOS HUMANOS\"                                                                                                               \n",
      "[250] \"RETENCIÓN O SUSTRACCIÓN DE MENORES INCAPACES\"                                                                                                                                    \n",
      "[251] \"FABRICACION, COMERCIALIZACION Y USO INDEBIDO DE INSIGNIAS Y UNIFORMES\"                                                                                                           \n",
      "[252] \"ROBO A TRANSEUNTE CONDUCTOR DE TAXI PUBLICO Y PRIVADO CON VIOLENCIA\"                                                                                                             \n",
      "[253] \"DELITOS DE ABOGADOS, PATRONOS, LITIGANTES Y ASESORES JURIDICOS\"                                                                                                                  \n",
      "[254] \"OPOSICION A QUE SE EJECUTE ALGUNA OBRA O TRABAJO PUBLICOS\"                                                                                                                       \n",
      "[255] \"RESPONSABILIDAD PROFESIONAL Y TECNICA\"                                                                                                                                           \n",
      "[256] \"ROBO A SUCURSAL BANCARIA CON VIOLENCIA\"                                                                                                                                          \n",
      "[257] \"DDH REDES\"                                                                                                                                                                       \n",
      "[258] \"ROBO A SUCURSAL BANCARIA DENTRO DE  TIENDAS DE AUTOSERVICIO CON VIOLENCIA\"                                                                                                       \n",
      "[259] \"FEMINICIDIO POR ARMA BLANCA\"                                                                                                                                                     \n",
      "[260] \"FALSIFICACIÓN DE SELLOS, MARCAS, LLAVES, CUÑOS, TROQUELES, CONTRASEÑAS Y OTROS\"                                                                                                  \n",
      "[261] \"COALICIÓN DE SERVIDORES PÚBLICOS\"                                                                                                                                                \n",
      "[262] \"FEMINICIDIO POR GOLPES\"                                                                                                                                                          \n",
      "[263] \"CONTAGIO VENERERO\"                                                                                                                                                               \n",
      "[264] \"DDH RELACIONADAS\"                                                                                                                                                                \n",
      "[265] \"DDH FDS\"                                                                                                                                                                         \n",
      "[266] \"DDH FRVT\"                                                                                                                                                                        \n",
      "[267] \"DDH OFICIO COLABORACION\"                                                                                                                                                         \n",
      "[268] \"DDH CERESO\"                                                                                                                                                                      \n",
      "[269] \"DDH ANONIMAS\"                                                                                                                                                                    \n",
      "[270] \"DDH OTRAS MATERIAS\"                                                                                                                                                              \n",
      "[271] \"DDH INCOMPETENCIA\"                                                                                                                                                               \n",
      "[272] \"DDH SIN DATOS\"                                                                                                                                                                   \n",
      "[273] \"EXHORTOS\"                                                                                                                                                                        \n",
      "[274] \"UTILIZACION INDEBIDA DE LA VIA PUBLICA\"                                                                                                                                          \n",
      "[275] \"OTROS AMBIENTALES\"                                                                                                                                                               \n",
      "[276] \"ROBO A NEGOCIO SIN VIOLENCIA POR FARDEROS (TIENDAS DE AUTOSERVICIO)\"                                                                                                             \n",
      "[277] \"ROBO A NEGOCIO SIN VIOLENCIA POR FARDEROS (TIENDAS DE CONVENIENCIA)\"                                                                                                             \n",
      "[278] \"HOMICIDIO CULPOSO CON EXCLUYENTES DE RESPONSABILIDAD\"                                                                                                                            \n",
      "[279] \"ROBO A SUCURSAL BANCARIA SIN VIOLENCIA\"                                                                                                                                          \n",
      "[280] \"OPERACIONES CON RECURSOS DE PROCEDENCIA ILEGAL\"                                                                                                                                  \n",
      "[281] \"ROBO S/V DENTRO DE NEGOCIOS, AUTOSERVICIOS, CONVENIENCIA\"                                                                                                                        \n",
      "[282] \"SECUESTRO\"                                                                                                                                                                       \n",
      "[283] \"ROBO A NEGOCIO CON VIOLENCIA POR FARDEROS (TIENDAS DE CONVENIENCIA)\"                                                                                                             \n",
      "[284] \"ROBO DE CONTENEDORES DE TRAILERS S/V\"                                                                                                                                            \n",
      "[285] \"ROBO A NEGOCIO CON VIOLENCIA POR FARDEROS (TIENDAS DE AUTOSERVICIO)\"                                                                                                             \n",
      "[286] \"ROBO A LOCALES SEMIFIJOS (PUESTOS DE ALIMENTOS,BEBIDAS, ENSERES, PERIODICOS,LOTERIA, OTROS)\"                                                                                     \n",
      "[287] \"ROBO DE VEHICULO EN PENSION, TALLER Y AGENCIAS C/V\"                                                                                                                              \n",
      "[288] \"ROBO EN EVENTOS MASIVOS (DEPORTIVOS, CULTURALES, RELIGIOSOS Y ARTISTICOS) S/V\"                                                                                                   \n",
      "[289] \"LESIONES DOLOSAS POR QUEMADURAS\"                                                                                                                                                 \n",
      "[290] \"ROBO DE VEHICULO ELECTRICO MOTOPATIN\"                                                                                                                                            \n",
      "[291] \"ROBO DE VEHICULO EN PENSION, TALLER Y AGENCIAS S/V\"                                                                                                                              \n",
      "[292] \"HOMICIDIO DOLOSO\"                                                                                                                                                                \n",
      "[293] \"ROBO DE MERCANCIA EN CONTENEDEROS EN ÁREAS FEDERALES\"                                                                                                                            \n",
      "[294] \"LESIONES CULPOSAS CON EXCLUYENTES DE RESPONSABILIDAD\"                                                                                                                            \n",
      "[295] \"ROBO A SUCURSAL BANCARIA DENTRO DE  TIENDAS DE AUTOSERVICIO S/V\"                                                                                                                 \n",
      "[296] \"ENCUBRIMIENTO POR FAVORECIMIENTO\"                                                                                                                                                \n",
      "[297] \"PROCREACION ASISTIDA, INSEMINACION ARTIFICIAL Y ESTERILIZACION FORZADA\"                                                                                                          \n",
      "[298] \"VIOLACION A LOS DERECHOS HUMANOS\"                                                                                                                                                \n",
      "[299] \"EJERCICIO INDEBIDO DEL PROPIO DER.\"                                                                                                                                              \n",
      "[300] \"ROBO DE MERCANCIA A TRANSPORTISTA C/V\"                                                                                                                                           \n",
      "[301] \"ROBO A TRANSEUNTE EN VIA PUBLICA (NOMINA) SIN VIOLENCIA\"                                                                                                                         \n",
      "[302] \"ROBO A NEGOCIO SIN VIOLENCIA POR FARDEROS\"                                                                                                                                       \n",
      "[303] \"INJURIAS\"                                                                                                                                                                        \n",
      "[304] \"CONTRA LA LEY FEDERAL DE POBLACION\"                                                                                                                                              \n",
      "[305] \"ROBO A PASAJERO A BORDO DE CABLEBUS SIN VIOLENCIA\"                                                                                                                               \n",
      "[306] \"HOMICIDIO POR INMERSION\"                                                                                                                                                         \n",
      "[307] \"ROBO A PASAJERO A BORDO DE CABLEBUS CON VIOLENCIA\"                                                                                                                               \n",
      "[308] \"VIOLENCIA FAMILIAR\"                                                                                                                                                              \n",
      "[309] \"TENTATIVA DE EXTORSION\"                                                                                                                                                          \n",
      "[310] \"ABUSO SEXUAL\"                                                                                                                                                                    \n",
      "[311] \"CORRUPCION DE MENORES E INCAPACES\"                                                                                                                                               \n",
      "[312] \"PRIVACION DE LA LIBERTAD PERSONAL\"                                                                                                                                               \n",
      "[313] \"VIOLACION\"                                                                                                                                                                       \n",
      "[314] \"TENTATIVA DE HOMICIDIO\"                                                                                                                                                          \n",
      "[315] \"DISCRIMINACION\"                                                                                                                                                                  \n",
      "[316] \"EXTORSION\"                                                                                                                                                                       \n",
      "[317] \"TORTURA\"                                                                                                                                                                         \n",
      "[318] \"ESTUPRO\"                                                                                                                                                                         \n",
      "[319] \"PLAGIO O SECUESTRO\"                                                                                                                                                              \n",
      "[320] \"TRATA DE PERSONAS\"                                                                                                                                                               \n",
      "[321] \"PRIVACION DE LA LIBERTAD PERSONAL (REALIZAR ACTO SEXUAL)\"                                                                                                                        \n",
      "[322] \"TRAFICO DE INFANTES\"                                                                                                                                                             \n",
      "[323] \"PRIV. ILEGAL DE LA LIB. Y ROBO DE VEHICULO\"                                                                                                                                      \n",
      "[324] \"VIOLACION EQUIPARADA\"                                                                                                                                                            \n",
      "[325] \"TENTATIVA DE SUICIDIO\"                                                                                                                                                           \n",
      "[326] \"DESAPARICION FORZADA DE PERSONAS\"                                                                                                                                                \n",
      "[327] \"VIOLACION TUMULTUARIA\"                                                                                                                                                           \n",
      "[328] \"TENTATIVA DE VIOLACION\"                                                                                                                                                          \n",
      "[329] \"VIOLACION Y ROBO DE VEHICULO\"                                                                                                                                                    \n",
      "[330] \"VIOLACION EQUIPARADA Y ROBO DE VEHICULO\"                                                                                                                                         \n",
      "[331] \"VIOLACION EQUIPARADA POR CONOCIDO\"                                                                                                                                               \n",
      "[332] \"EXPOSICION DE MENORES\"                                                                                                                                                           \n",
      "[333] \"VIOLACION TUMULTUARIA EQUIPARADA POR CONOCIDO\"                                                                                                                                   \n",
      "[334] \"ENTREGA ILEGITIMA DE UN MENOR\"                                                                                                                                                   \n",
      "[335] \"VIOLACION DE LA INTIMIDAD\"                                                                                                                                                       \n",
      "[336] \"OMISION DE AUXILIO O DE CUIDADO\"                                                                                                                                                 \n",
      "[337] \"ABUSO DE AUTORIDAD Y USO ILEGAL DE LA FUERZA PUBLICA\"                                                                                                                            \n",
      "[338] \"CONTRA EL CUMPLIMIENTO DE LA OBLIGACION ALIMENTARIA\"                                                                                                                             \n",
      "[339] \"CORRUPCIÓN DE PERSONAS MENORES DE EDAD O PERSONAS QUE NO TENGAN CAPACIDAD PARA COMPRENDER EL SIGNIFICADO DEL HECHO O DE PERSONAS QUE NO TENGAN CAPACIDAD DE RESISTIR LA CONDUCTA\"\n",
      "[340] \"PORNOGRAFÍA\"                                                                                                                                                                     \n",
      "[341] \"EXPLOTACIÓN LABORAL DE MENORES, PERSONAS CON DISCAPACIDAD FÍSICA O MENTAL Y ADULTOS MAYORES\"                                                                                     \n",
      "[342] \"PANDILLA, ASOCIACIÓN DELICTUOSA Y DELINCUENCIA ORGANIZADA\"                                                                                                                       \n",
      "[343] \"VIOLACION TUMULTUARIA EQUIPARADA\"                                                                                                                                                \n",
      "[344] \"LEY FEDERAL DE ARMAS DE FUEGO Y EXPLOSIVOS\"                                                                                                                                      \n",
      "[345] \"SUSTRACCIÓN DE MENORES\"                                                                                                                                                          \n",
      "[346] \"RETENCIÓN DE MENORES\"                                                                                                                                                            \n",
      "[347] \"CONTRA LA INTIMIDAD SEXUAL\"                                                                                                                                                      \n",
      "[348] \"ACOSO SEXUAL AGRAVADO EN CONTRA DE MENORES\"                                                                                                                                      \n",
      "[349] \"TENTATIVA DE FEMINICIDIO\"                                                                                                                                                        \n",
      "[350] \"INCESTO\"                                                                                                                                                                         \n",
      "[351] \"PRIVACIÓN DE LA LIBERTAD PERSONAL  ( SI LIBERA DENTRO DE 24 HORAS)\"                                                                                                              \n",
      "[352] \"ROBO A NEGOCIO (NOMINA) Y VEHICULO CON VIOLENCIA\"                                                                                                                                \n",
      "[353] \"SECUESTRO EXTORSIVO\"                                                                                                                                                             \n"
     ]
    }
   ],
   "source": [
    "print(unique(carpetas$delito))"
   ]
  },
  {
   "cell_type": "code",
   "execution_count": 7,
   "id": "b16ad50be78a8373",
   "metadata": {
    "ExecuteTime": {
     "end_time": "2025-03-11T00:18:00.444602Z",
     "start_time": "2025-03-11T00:17:54.128441Z"
    },
    "vscode": {
     "languageId": "r"
    }
   },
   "outputs": [
    {
     "name": "stderr",
     "output_type": "stream",
     "text": [
      "\u001b[1mRows: \u001b[22m\u001b[34m737660\u001b[39m \u001b[1mColumns: \u001b[22m\u001b[34m7\u001b[39m\n",
      "\u001b[36m──\u001b[39m \u001b[1mColumn specification\u001b[22m \u001b[36m────────────────────────────────────────────────────────\u001b[39m\n",
      "\u001b[1mDelimiter:\u001b[22m \",\"\n",
      "\u001b[31mchr\u001b[39m (2): ENTIDAD, SEXO\n",
      "\u001b[32mdbl\u001b[39m (5): RENGLON, AÑO, CVE_GEO, EDAD, POBLACION\n",
      "\n",
      "\u001b[36mℹ\u001b[39m Use `spec()` to retrieve the full column specification for this data.\n",
      "\u001b[36mℹ\u001b[39m Specify the column types or set `show_col_types = FALSE` to quiet this message.\n"
     ]
    }
   ],
   "source": [
    "poblacion <- read_csv('https://conapo.segob.gob.mx/work/models/CONAPO/Datos_Abiertos/pry23/00_Pob_Mitad_1950_2070.csv', quote = ';')%>%\n",
    "janitor::clean_names()"
   ]
  },
  {
   "cell_type": "code",
   "execution_count": 8,
   "id": "effcdad8e8903e0d",
   "metadata": {
    "ExecuteTime": {
     "end_time": "2025-03-11T00:18:00.537861Z",
     "start_time": "2025-03-11T00:18:00.457233Z"
    },
    "vscode": {
     "languageId": "r"
    }
   },
   "outputs": [
    {
     "data": {
      "text/html": [
       "<table class=\"dataframe\">\n",
       "<caption>A grouped_df: 9 × 3</caption>\n",
       "<thead>\n",
       "\t<tr><th scope=col>ano</th><th scope=col>poblacion_total</th><th scope=col>pob_mujer</th></tr>\n",
       "\t<tr><th scope=col>&lt;dbl&gt;</th><th scope=col>&lt;dbl&gt;</th><th scope=col>&lt;dbl&gt;</th></tr>\n",
       "</thead>\n",
       "<tbody>\n",
       "\t<tr><td>2016</td><td>6909676</td><td>3667544</td></tr>\n",
       "\t<tr><td>2017</td><td>6991272</td><td>3705850</td></tr>\n",
       "\t<tr><td>2018</td><td>7074976</td><td>3745305</td></tr>\n",
       "\t<tr><td>2019</td><td>7157355</td><td>3784450</td></tr>\n",
       "\t<tr><td>2020</td><td>7197032</td><td>3805814</td></tr>\n",
       "\t<tr><td>2021</td><td>7198885</td><td>3810026</td></tr>\n",
       "\t<tr><td>2022</td><td>7222176</td><td>3821291</td></tr>\n",
       "\t<tr><td>2023</td><td>7262596</td><td>3838867</td></tr>\n",
       "\t<tr><td>2024</td><td>7300177</td><td>3854914</td></tr>\n",
       "</tbody>\n",
       "</table>\n"
      ],
      "text/latex": [
       "A grouped\\_df: 9 × 3\n",
       "\\begin{tabular}{lll}\n",
       " ano & poblacion\\_total & pob\\_mujer\\\\\n",
       " <dbl> & <dbl> & <dbl>\\\\\n",
       "\\hline\n",
       "\t 2016 & 6909676 & 3667544\\\\\n",
       "\t 2017 & 6991272 & 3705850\\\\\n",
       "\t 2018 & 7074976 & 3745305\\\\\n",
       "\t 2019 & 7157355 & 3784450\\\\\n",
       "\t 2020 & 7197032 & 3805814\\\\\n",
       "\t 2021 & 7198885 & 3810026\\\\\n",
       "\t 2022 & 7222176 & 3821291\\\\\n",
       "\t 2023 & 7262596 & 3838867\\\\\n",
       "\t 2024 & 7300177 & 3854914\\\\\n",
       "\\end{tabular}\n"
      ],
      "text/markdown": [
       "\n",
       "A grouped_df: 9 × 3\n",
       "\n",
       "| ano &lt;dbl&gt; | poblacion_total &lt;dbl&gt; | pob_mujer &lt;dbl&gt; |\n",
       "|---|---|---|\n",
       "| 2016 | 6909676 | 3667544 |\n",
       "| 2017 | 6991272 | 3705850 |\n",
       "| 2018 | 7074976 | 3745305 |\n",
       "| 2019 | 7157355 | 3784450 |\n",
       "| 2020 | 7197032 | 3805814 |\n",
       "| 2021 | 7198885 | 3810026 |\n",
       "| 2022 | 7222176 | 3821291 |\n",
       "| 2023 | 7262596 | 3838867 |\n",
       "| 2024 | 7300177 | 3854914 |\n",
       "\n"
      ],
      "text/plain": [
       "  ano  poblacion_total pob_mujer\n",
       "1 2016 6909676         3667544  \n",
       "2 2017 6991272         3705850  \n",
       "3 2018 7074976         3745305  \n",
       "4 2019 7157355         3784450  \n",
       "5 2020 7197032         3805814  \n",
       "6 2021 7198885         3810026  \n",
       "7 2022 7222176         3821291  \n",
       "8 2023 7262596         3838867  \n",
       "9 2024 7300177         3854914  "
      ]
     },
     "metadata": {},
     "output_type": "display_data"
    }
   ],
   "source": [
    "pob_cdmx_t <- poblacion %>%\n",
    "  filter(ano %in% c(2016:2024),\n",
    "         cve_geo == 9,\n",
    "         edad >= 18) %>% \n",
    "  select(-renglon) %>%\n",
    "  group_by(ano, entidad, cve_geo) %>%\n",
    "  summarise(poblacion_total = sum(poblacion), .groups = 'drop') %>% \n",
    "  group_by(ano)\n",
    "\n",
    "\n",
    "  pob_cdmx_mujer <- poblacion %>%\n",
    "  filter(ano %in% c(2016:2024),\n",
    "         cve_geo == 9,\n",
    "         edad >= 18,\n",
    "            sexo == 'Mujeres') %>%\n",
    "  select(-renglon) %>%\n",
    "  group_by(ano, entidad, cve_geo) %>%\n",
    "  summarise(pob_mujer = sum(poblacion), .groups = 'drop') %>%\n",
    "  group_by(ano)\n",
    "  \n",
    "pob_cdmx<-pob_cdmx_t%>%\n",
    "    left_join(pob_cdmx_mujer, by = c('ano'))%>%\n",
    "    select(ano, poblacion_total, pob_mujer)\n",
    "pob_cdmx\n"
   ]
  },
  {
   "cell_type": "code",
   "execution_count": 9,
   "id": "f08d83ae53558931",
   "metadata": {
    "ExecuteTime": {
     "end_time": "2025-03-11T00:18:01.361213Z",
     "start_time": "2025-03-11T00:18:00.550898Z"
    },
    "vscode": {
     "languageId": "r"
    }
   },
   "outputs": [
    {
     "data": {
      "text/html": [
       "<table class=\"dataframe\">\n",
       "<caption>A tibble: 108 × 8</caption>\n",
       "<thead>\n",
       "\t<tr><th scope=col>ano</th><th scope=col>mes</th><th scope=col>III_delitos</th><th scope=col>V_delitos</th><th scope=col>alto_impacto</th><th scope=col>promedio_diario_III</th><th scope=col>promedio_diario_V</th><th scope=col>promedio_diario_alto_impacto</th></tr>\n",
       "\t<tr><th scope=col>&lt;dbl&gt;</th><th scope=col>&lt;dbl&gt;</th><th scope=col>&lt;dbl&gt;</th><th scope=col>&lt;dbl&gt;</th><th scope=col>&lt;dbl&gt;</th><th scope=col>&lt;dbl&gt;</th><th scope=col>&lt;dbl&gt;</th><th scope=col>&lt;dbl&gt;</th></tr>\n",
       "</thead>\n",
       "<tbody>\n",
       "\t<tr><td>2016</td><td> 1</td><td> 75</td><td>1988</td><td>1397</td><td>2.419355</td><td> 64.12903</td><td> 45.06452</td></tr>\n",
       "\t<tr><td>2016</td><td> 2</td><td> 75</td><td>1970</td><td>1418</td><td>2.586207</td><td> 67.93103</td><td> 48.89655</td></tr>\n",
       "\t<tr><td>2016</td><td> 3</td><td> 89</td><td>2121</td><td>1500</td><td>2.870968</td><td> 68.41935</td><td> 48.38710</td></tr>\n",
       "\t<tr><td>2016</td><td> 4</td><td> 76</td><td>1983</td><td>1486</td><td>2.533333</td><td> 66.10000</td><td> 49.53333</td></tr>\n",
       "\t<tr><td>2016</td><td> 5</td><td> 88</td><td>1948</td><td>1445</td><td>2.838710</td><td> 62.83871</td><td> 46.61290</td></tr>\n",
       "\t<tr><td>2016</td><td> 6</td><td> 79</td><td>1714</td><td>1269</td><td>2.633333</td><td> 57.13333</td><td> 42.30000</td></tr>\n",
       "\t<tr><td>2016</td><td> 7</td><td> 87</td><td>1766</td><td>1177</td><td>2.806452</td><td> 56.96774</td><td> 37.96774</td></tr>\n",
       "\t<tr><td>2016</td><td> 8</td><td> 80</td><td>1953</td><td>1275</td><td>2.580645</td><td> 63.00000</td><td> 41.12903</td></tr>\n",
       "\t<tr><td>2016</td><td> 9</td><td> 94</td><td>2157</td><td>1554</td><td>3.133333</td><td> 71.90000</td><td> 51.80000</td></tr>\n",
       "\t<tr><td>2016</td><td>10</td><td> 86</td><td>2334</td><td>1649</td><td>2.774194</td><td> 75.29032</td><td> 53.19355</td></tr>\n",
       "\t<tr><td>2016</td><td>11</td><td> 85</td><td>2238</td><td>1655</td><td>2.833333</td><td> 74.60000</td><td> 55.16667</td></tr>\n",
       "\t<tr><td>2016</td><td>12</td><td>112</td><td>2153</td><td>1557</td><td>3.612903</td><td> 69.45161</td><td> 50.22581</td></tr>\n",
       "\t<tr><td>2017</td><td> 1</td><td>112</td><td>2353</td><td>1731</td><td>3.612903</td><td> 75.90323</td><td> 55.83871</td></tr>\n",
       "\t<tr><td>2017</td><td> 2</td><td> 79</td><td>1897</td><td>1445</td><td>2.821429</td><td> 67.75000</td><td> 51.60714</td></tr>\n",
       "\t<tr><td>2017</td><td> 3</td><td> 83</td><td>2025</td><td>1557</td><td>2.677419</td><td> 65.32258</td><td> 50.22581</td></tr>\n",
       "\t<tr><td>2017</td><td> 4</td><td>103</td><td>1935</td><td>1428</td><td>3.433333</td><td> 64.50000</td><td> 47.60000</td></tr>\n",
       "\t<tr><td>2017</td><td> 5</td><td>122</td><td>2330</td><td>1776</td><td>3.935484</td><td> 75.16129</td><td> 57.29032</td></tr>\n",
       "\t<tr><td>2017</td><td> 6</td><td>115</td><td>2303</td><td>1721</td><td>3.833333</td><td> 76.76667</td><td> 57.36667</td></tr>\n",
       "\t<tr><td>2017</td><td> 7</td><td> 91</td><td>2284</td><td>1800</td><td>2.935484</td><td> 73.67742</td><td> 58.06452</td></tr>\n",
       "\t<tr><td>2017</td><td> 8</td><td>103</td><td>2336</td><td>1817</td><td>3.322581</td><td> 75.35484</td><td> 58.61290</td></tr>\n",
       "\t<tr><td>2017</td><td> 9</td><td>108</td><td>2282</td><td>1737</td><td>3.600000</td><td> 76.06667</td><td> 57.90000</td></tr>\n",
       "\t<tr><td>2017</td><td>10</td><td>105</td><td>2439</td><td>1892</td><td>3.387097</td><td> 78.67742</td><td> 61.03226</td></tr>\n",
       "\t<tr><td>2017</td><td>11</td><td> 90</td><td>2280</td><td>1751</td><td>3.000000</td><td> 76.00000</td><td> 58.36667</td></tr>\n",
       "\t<tr><td>2017</td><td>12</td><td>106</td><td>2592</td><td>2129</td><td>3.419355</td><td> 83.61290</td><td> 68.67742</td></tr>\n",
       "\t<tr><td>2018</td><td> 1</td><td> 94</td><td>3820</td><td>3281</td><td>3.032258</td><td>123.22581</td><td>105.83871</td></tr>\n",
       "\t<tr><td>2018</td><td> 2</td><td>126</td><td>3522</td><td>2986</td><td>4.500000</td><td>125.78571</td><td>106.64286</td></tr>\n",
       "\t<tr><td>2018</td><td> 3</td><td>139</td><td>3930</td><td>3275</td><td>4.483871</td><td>126.77419</td><td>105.64516</td></tr>\n",
       "\t<tr><td>2018</td><td> 4</td><td>148</td><td>3894</td><td>3379</td><td>4.933333</td><td>129.80000</td><td>112.63333</td></tr>\n",
       "\t<tr><td>2018</td><td> 5</td><td>132</td><td>4242</td><td>3557</td><td>4.258065</td><td>136.83871</td><td>114.74194</td></tr>\n",
       "\t<tr><td>2018</td><td> 6</td><td>132</td><td>4139</td><td>3494</td><td>4.400000</td><td>137.96667</td><td>116.46667</td></tr>\n",
       "\t<tr><td>⋮</td><td>⋮</td><td>⋮</td><td>⋮</td><td>⋮</td><td>⋮</td><td>⋮</td><td>⋮</td></tr>\n",
       "\t<tr><td>2022</td><td> 7</td><td>75</td><td>1882</td><td>1732</td><td>2.419355</td><td>60.70968</td><td>55.87097</td></tr>\n",
       "\t<tr><td>2022</td><td> 8</td><td>75</td><td>2030</td><td>1879</td><td>2.419355</td><td>65.48387</td><td>60.61290</td></tr>\n",
       "\t<tr><td>2022</td><td> 9</td><td>66</td><td>1920</td><td>1751</td><td>2.200000</td><td>64.00000</td><td>58.36667</td></tr>\n",
       "\t<tr><td>2022</td><td>10</td><td>69</td><td>2074</td><td>1938</td><td>2.225806</td><td>66.90323</td><td>62.51613</td></tr>\n",
       "\t<tr><td>2022</td><td>11</td><td>90</td><td>1879</td><td>1715</td><td>3.000000</td><td>62.63333</td><td>57.16667</td></tr>\n",
       "\t<tr><td>2022</td><td>12</td><td>71</td><td>1806</td><td>1723</td><td>2.290323</td><td>58.25806</td><td>55.58065</td></tr>\n",
       "\t<tr><td>2023</td><td> 1</td><td>76</td><td>1766</td><td>1628</td><td>2.451613</td><td>56.96774</td><td>52.51613</td></tr>\n",
       "\t<tr><td>2023</td><td> 2</td><td>63</td><td>1707</td><td>1632</td><td>2.250000</td><td>60.96429</td><td>58.28571</td></tr>\n",
       "\t<tr><td>2023</td><td> 3</td><td>92</td><td>1767</td><td>1673</td><td>2.967742</td><td>57.00000</td><td>53.96774</td></tr>\n",
       "\t<tr><td>2023</td><td> 4</td><td>66</td><td>1681</td><td>1549</td><td>2.200000</td><td>56.03333</td><td>51.63333</td></tr>\n",
       "\t<tr><td>2023</td><td> 5</td><td>69</td><td>1815</td><td>1653</td><td>2.225806</td><td>58.54839</td><td>53.32258</td></tr>\n",
       "\t<tr><td>2023</td><td> 6</td><td>81</td><td>1667</td><td>1543</td><td>2.700000</td><td>55.56667</td><td>51.43333</td></tr>\n",
       "\t<tr><td>2023</td><td> 7</td><td>67</td><td>1657</td><td>1437</td><td>2.161290</td><td>53.45161</td><td>46.35484</td></tr>\n",
       "\t<tr><td>2023</td><td> 8</td><td>66</td><td>1624</td><td>1425</td><td>2.129032</td><td>52.38710</td><td>45.96774</td></tr>\n",
       "\t<tr><td>2023</td><td> 9</td><td>71</td><td>1613</td><td>1429</td><td>2.366667</td><td>53.76667</td><td>47.63333</td></tr>\n",
       "\t<tr><td>2023</td><td>10</td><td>67</td><td>1808</td><td>1589</td><td>2.161290</td><td>58.32258</td><td>51.25806</td></tr>\n",
       "\t<tr><td>2023</td><td>11</td><td>81</td><td>1714</td><td>1503</td><td>2.700000</td><td>57.13333</td><td>50.10000</td></tr>\n",
       "\t<tr><td>2023</td><td>12</td><td>86</td><td>1699</td><td>1443</td><td>2.774194</td><td>54.80645</td><td>46.54839</td></tr>\n",
       "\t<tr><td>2024</td><td> 1</td><td>61</td><td>1541</td><td>1318</td><td>1.967742</td><td>49.70968</td><td>42.51613</td></tr>\n",
       "\t<tr><td>2024</td><td> 2</td><td>77</td><td>1498</td><td>1274</td><td>2.655172</td><td>51.65517</td><td>43.93103</td></tr>\n",
       "\t<tr><td>2024</td><td> 3</td><td>91</td><td>1536</td><td>1324</td><td>2.935484</td><td>49.54839</td><td>42.70968</td></tr>\n",
       "\t<tr><td>2024</td><td> 4</td><td>80</td><td>1504</td><td>1248</td><td>2.666667</td><td>50.13333</td><td>41.60000</td></tr>\n",
       "\t<tr><td>2024</td><td> 5</td><td>95</td><td>1652</td><td>1413</td><td>3.064516</td><td>53.29032</td><td>45.58065</td></tr>\n",
       "\t<tr><td>2024</td><td> 6</td><td>80</td><td>1625</td><td>1375</td><td>2.666667</td><td>54.16667</td><td>45.83333</td></tr>\n",
       "\t<tr><td>2024</td><td> 7</td><td>76</td><td>1718</td><td>1383</td><td>2.451613</td><td>55.41935</td><td>44.61290</td></tr>\n",
       "\t<tr><td>2024</td><td> 8</td><td>81</td><td>1922</td><td>1651</td><td>2.612903</td><td>62.00000</td><td>53.25806</td></tr>\n",
       "\t<tr><td>2024</td><td> 9</td><td>86</td><td>1829</td><td>1568</td><td>2.866667</td><td>60.96667</td><td>52.26667</td></tr>\n",
       "\t<tr><td>2024</td><td>10</td><td>85</td><td>1836</td><td>1497</td><td>2.741935</td><td>59.22581</td><td>48.29032</td></tr>\n",
       "\t<tr><td>2024</td><td>11</td><td>94</td><td>1656</td><td>1447</td><td>3.133333</td><td>55.20000</td><td>48.23333</td></tr>\n",
       "\t<tr><td>2024</td><td>12</td><td>79</td><td>1529</td><td>1286</td><td>2.548387</td><td>49.32258</td><td>41.48387</td></tr>\n",
       "</tbody>\n",
       "</table>\n"
      ],
      "text/latex": [
       "A tibble: 108 × 8\n",
       "\\begin{tabular}{llllllll}\n",
       " ano & mes & III\\_delitos & V\\_delitos & alto\\_impacto & promedio\\_diario\\_III & promedio\\_diario\\_V & promedio\\_diario\\_alto\\_impacto\\\\\n",
       " <dbl> & <dbl> & <dbl> & <dbl> & <dbl> & <dbl> & <dbl> & <dbl>\\\\\n",
       "\\hline\n",
       "\t 2016 &  1 &  75 & 1988 & 1397 & 2.419355 &  64.12903 &  45.06452\\\\\n",
       "\t 2016 &  2 &  75 & 1970 & 1418 & 2.586207 &  67.93103 &  48.89655\\\\\n",
       "\t 2016 &  3 &  89 & 2121 & 1500 & 2.870968 &  68.41935 &  48.38710\\\\\n",
       "\t 2016 &  4 &  76 & 1983 & 1486 & 2.533333 &  66.10000 &  49.53333\\\\\n",
       "\t 2016 &  5 &  88 & 1948 & 1445 & 2.838710 &  62.83871 &  46.61290\\\\\n",
       "\t 2016 &  6 &  79 & 1714 & 1269 & 2.633333 &  57.13333 &  42.30000\\\\\n",
       "\t 2016 &  7 &  87 & 1766 & 1177 & 2.806452 &  56.96774 &  37.96774\\\\\n",
       "\t 2016 &  8 &  80 & 1953 & 1275 & 2.580645 &  63.00000 &  41.12903\\\\\n",
       "\t 2016 &  9 &  94 & 2157 & 1554 & 3.133333 &  71.90000 &  51.80000\\\\\n",
       "\t 2016 & 10 &  86 & 2334 & 1649 & 2.774194 &  75.29032 &  53.19355\\\\\n",
       "\t 2016 & 11 &  85 & 2238 & 1655 & 2.833333 &  74.60000 &  55.16667\\\\\n",
       "\t 2016 & 12 & 112 & 2153 & 1557 & 3.612903 &  69.45161 &  50.22581\\\\\n",
       "\t 2017 &  1 & 112 & 2353 & 1731 & 3.612903 &  75.90323 &  55.83871\\\\\n",
       "\t 2017 &  2 &  79 & 1897 & 1445 & 2.821429 &  67.75000 &  51.60714\\\\\n",
       "\t 2017 &  3 &  83 & 2025 & 1557 & 2.677419 &  65.32258 &  50.22581\\\\\n",
       "\t 2017 &  4 & 103 & 1935 & 1428 & 3.433333 &  64.50000 &  47.60000\\\\\n",
       "\t 2017 &  5 & 122 & 2330 & 1776 & 3.935484 &  75.16129 &  57.29032\\\\\n",
       "\t 2017 &  6 & 115 & 2303 & 1721 & 3.833333 &  76.76667 &  57.36667\\\\\n",
       "\t 2017 &  7 &  91 & 2284 & 1800 & 2.935484 &  73.67742 &  58.06452\\\\\n",
       "\t 2017 &  8 & 103 & 2336 & 1817 & 3.322581 &  75.35484 &  58.61290\\\\\n",
       "\t 2017 &  9 & 108 & 2282 & 1737 & 3.600000 &  76.06667 &  57.90000\\\\\n",
       "\t 2017 & 10 & 105 & 2439 & 1892 & 3.387097 &  78.67742 &  61.03226\\\\\n",
       "\t 2017 & 11 &  90 & 2280 & 1751 & 3.000000 &  76.00000 &  58.36667\\\\\n",
       "\t 2017 & 12 & 106 & 2592 & 2129 & 3.419355 &  83.61290 &  68.67742\\\\\n",
       "\t 2018 &  1 &  94 & 3820 & 3281 & 3.032258 & 123.22581 & 105.83871\\\\\n",
       "\t 2018 &  2 & 126 & 3522 & 2986 & 4.500000 & 125.78571 & 106.64286\\\\\n",
       "\t 2018 &  3 & 139 & 3930 & 3275 & 4.483871 & 126.77419 & 105.64516\\\\\n",
       "\t 2018 &  4 & 148 & 3894 & 3379 & 4.933333 & 129.80000 & 112.63333\\\\\n",
       "\t 2018 &  5 & 132 & 4242 & 3557 & 4.258065 & 136.83871 & 114.74194\\\\\n",
       "\t 2018 &  6 & 132 & 4139 & 3494 & 4.400000 & 137.96667 & 116.46667\\\\\n",
       "\t ⋮ & ⋮ & ⋮ & ⋮ & ⋮ & ⋮ & ⋮ & ⋮\\\\\n",
       "\t 2022 &  7 & 75 & 1882 & 1732 & 2.419355 & 60.70968 & 55.87097\\\\\n",
       "\t 2022 &  8 & 75 & 2030 & 1879 & 2.419355 & 65.48387 & 60.61290\\\\\n",
       "\t 2022 &  9 & 66 & 1920 & 1751 & 2.200000 & 64.00000 & 58.36667\\\\\n",
       "\t 2022 & 10 & 69 & 2074 & 1938 & 2.225806 & 66.90323 & 62.51613\\\\\n",
       "\t 2022 & 11 & 90 & 1879 & 1715 & 3.000000 & 62.63333 & 57.16667\\\\\n",
       "\t 2022 & 12 & 71 & 1806 & 1723 & 2.290323 & 58.25806 & 55.58065\\\\\n",
       "\t 2023 &  1 & 76 & 1766 & 1628 & 2.451613 & 56.96774 & 52.51613\\\\\n",
       "\t 2023 &  2 & 63 & 1707 & 1632 & 2.250000 & 60.96429 & 58.28571\\\\\n",
       "\t 2023 &  3 & 92 & 1767 & 1673 & 2.967742 & 57.00000 & 53.96774\\\\\n",
       "\t 2023 &  4 & 66 & 1681 & 1549 & 2.200000 & 56.03333 & 51.63333\\\\\n",
       "\t 2023 &  5 & 69 & 1815 & 1653 & 2.225806 & 58.54839 & 53.32258\\\\\n",
       "\t 2023 &  6 & 81 & 1667 & 1543 & 2.700000 & 55.56667 & 51.43333\\\\\n",
       "\t 2023 &  7 & 67 & 1657 & 1437 & 2.161290 & 53.45161 & 46.35484\\\\\n",
       "\t 2023 &  8 & 66 & 1624 & 1425 & 2.129032 & 52.38710 & 45.96774\\\\\n",
       "\t 2023 &  9 & 71 & 1613 & 1429 & 2.366667 & 53.76667 & 47.63333\\\\\n",
       "\t 2023 & 10 & 67 & 1808 & 1589 & 2.161290 & 58.32258 & 51.25806\\\\\n",
       "\t 2023 & 11 & 81 & 1714 & 1503 & 2.700000 & 57.13333 & 50.10000\\\\\n",
       "\t 2023 & 12 & 86 & 1699 & 1443 & 2.774194 & 54.80645 & 46.54839\\\\\n",
       "\t 2024 &  1 & 61 & 1541 & 1318 & 1.967742 & 49.70968 & 42.51613\\\\\n",
       "\t 2024 &  2 & 77 & 1498 & 1274 & 2.655172 & 51.65517 & 43.93103\\\\\n",
       "\t 2024 &  3 & 91 & 1536 & 1324 & 2.935484 & 49.54839 & 42.70968\\\\\n",
       "\t 2024 &  4 & 80 & 1504 & 1248 & 2.666667 & 50.13333 & 41.60000\\\\\n",
       "\t 2024 &  5 & 95 & 1652 & 1413 & 3.064516 & 53.29032 & 45.58065\\\\\n",
       "\t 2024 &  6 & 80 & 1625 & 1375 & 2.666667 & 54.16667 & 45.83333\\\\\n",
       "\t 2024 &  7 & 76 & 1718 & 1383 & 2.451613 & 55.41935 & 44.61290\\\\\n",
       "\t 2024 &  8 & 81 & 1922 & 1651 & 2.612903 & 62.00000 & 53.25806\\\\\n",
       "\t 2024 &  9 & 86 & 1829 & 1568 & 2.866667 & 60.96667 & 52.26667\\\\\n",
       "\t 2024 & 10 & 85 & 1836 & 1497 & 2.741935 & 59.22581 & 48.29032\\\\\n",
       "\t 2024 & 11 & 94 & 1656 & 1447 & 3.133333 & 55.20000 & 48.23333\\\\\n",
       "\t 2024 & 12 & 79 & 1529 & 1286 & 2.548387 & 49.32258 & 41.48387\\\\\n",
       "\\end{tabular}\n"
      ],
      "text/markdown": [
       "\n",
       "A tibble: 108 × 8\n",
       "\n",
       "| ano &lt;dbl&gt; | mes &lt;dbl&gt; | III_delitos &lt;dbl&gt; | V_delitos &lt;dbl&gt; | alto_impacto &lt;dbl&gt; | promedio_diario_III &lt;dbl&gt; | promedio_diario_V &lt;dbl&gt; | promedio_diario_alto_impacto &lt;dbl&gt; |\n",
       "|---|---|---|---|---|---|---|---|\n",
       "| 2016 |  1 |  75 | 1988 | 1397 | 2.419355 |  64.12903 |  45.06452 |\n",
       "| 2016 |  2 |  75 | 1970 | 1418 | 2.586207 |  67.93103 |  48.89655 |\n",
       "| 2016 |  3 |  89 | 2121 | 1500 | 2.870968 |  68.41935 |  48.38710 |\n",
       "| 2016 |  4 |  76 | 1983 | 1486 | 2.533333 |  66.10000 |  49.53333 |\n",
       "| 2016 |  5 |  88 | 1948 | 1445 | 2.838710 |  62.83871 |  46.61290 |\n",
       "| 2016 |  6 |  79 | 1714 | 1269 | 2.633333 |  57.13333 |  42.30000 |\n",
       "| 2016 |  7 |  87 | 1766 | 1177 | 2.806452 |  56.96774 |  37.96774 |\n",
       "| 2016 |  8 |  80 | 1953 | 1275 | 2.580645 |  63.00000 |  41.12903 |\n",
       "| 2016 |  9 |  94 | 2157 | 1554 | 3.133333 |  71.90000 |  51.80000 |\n",
       "| 2016 | 10 |  86 | 2334 | 1649 | 2.774194 |  75.29032 |  53.19355 |\n",
       "| 2016 | 11 |  85 | 2238 | 1655 | 2.833333 |  74.60000 |  55.16667 |\n",
       "| 2016 | 12 | 112 | 2153 | 1557 | 3.612903 |  69.45161 |  50.22581 |\n",
       "| 2017 |  1 | 112 | 2353 | 1731 | 3.612903 |  75.90323 |  55.83871 |\n",
       "| 2017 |  2 |  79 | 1897 | 1445 | 2.821429 |  67.75000 |  51.60714 |\n",
       "| 2017 |  3 |  83 | 2025 | 1557 | 2.677419 |  65.32258 |  50.22581 |\n",
       "| 2017 |  4 | 103 | 1935 | 1428 | 3.433333 |  64.50000 |  47.60000 |\n",
       "| 2017 |  5 | 122 | 2330 | 1776 | 3.935484 |  75.16129 |  57.29032 |\n",
       "| 2017 |  6 | 115 | 2303 | 1721 | 3.833333 |  76.76667 |  57.36667 |\n",
       "| 2017 |  7 |  91 | 2284 | 1800 | 2.935484 |  73.67742 |  58.06452 |\n",
       "| 2017 |  8 | 103 | 2336 | 1817 | 3.322581 |  75.35484 |  58.61290 |\n",
       "| 2017 |  9 | 108 | 2282 | 1737 | 3.600000 |  76.06667 |  57.90000 |\n",
       "| 2017 | 10 | 105 | 2439 | 1892 | 3.387097 |  78.67742 |  61.03226 |\n",
       "| 2017 | 11 |  90 | 2280 | 1751 | 3.000000 |  76.00000 |  58.36667 |\n",
       "| 2017 | 12 | 106 | 2592 | 2129 | 3.419355 |  83.61290 |  68.67742 |\n",
       "| 2018 |  1 |  94 | 3820 | 3281 | 3.032258 | 123.22581 | 105.83871 |\n",
       "| 2018 |  2 | 126 | 3522 | 2986 | 4.500000 | 125.78571 | 106.64286 |\n",
       "| 2018 |  3 | 139 | 3930 | 3275 | 4.483871 | 126.77419 | 105.64516 |\n",
       "| 2018 |  4 | 148 | 3894 | 3379 | 4.933333 | 129.80000 | 112.63333 |\n",
       "| 2018 |  5 | 132 | 4242 | 3557 | 4.258065 | 136.83871 | 114.74194 |\n",
       "| 2018 |  6 | 132 | 4139 | 3494 | 4.400000 | 137.96667 | 116.46667 |\n",
       "| ⋮ | ⋮ | ⋮ | ⋮ | ⋮ | ⋮ | ⋮ | ⋮ |\n",
       "| 2022 |  7 | 75 | 1882 | 1732 | 2.419355 | 60.70968 | 55.87097 |\n",
       "| 2022 |  8 | 75 | 2030 | 1879 | 2.419355 | 65.48387 | 60.61290 |\n",
       "| 2022 |  9 | 66 | 1920 | 1751 | 2.200000 | 64.00000 | 58.36667 |\n",
       "| 2022 | 10 | 69 | 2074 | 1938 | 2.225806 | 66.90323 | 62.51613 |\n",
       "| 2022 | 11 | 90 | 1879 | 1715 | 3.000000 | 62.63333 | 57.16667 |\n",
       "| 2022 | 12 | 71 | 1806 | 1723 | 2.290323 | 58.25806 | 55.58065 |\n",
       "| 2023 |  1 | 76 | 1766 | 1628 | 2.451613 | 56.96774 | 52.51613 |\n",
       "| 2023 |  2 | 63 | 1707 | 1632 | 2.250000 | 60.96429 | 58.28571 |\n",
       "| 2023 |  3 | 92 | 1767 | 1673 | 2.967742 | 57.00000 | 53.96774 |\n",
       "| 2023 |  4 | 66 | 1681 | 1549 | 2.200000 | 56.03333 | 51.63333 |\n",
       "| 2023 |  5 | 69 | 1815 | 1653 | 2.225806 | 58.54839 | 53.32258 |\n",
       "| 2023 |  6 | 81 | 1667 | 1543 | 2.700000 | 55.56667 | 51.43333 |\n",
       "| 2023 |  7 | 67 | 1657 | 1437 | 2.161290 | 53.45161 | 46.35484 |\n",
       "| 2023 |  8 | 66 | 1624 | 1425 | 2.129032 | 52.38710 | 45.96774 |\n",
       "| 2023 |  9 | 71 | 1613 | 1429 | 2.366667 | 53.76667 | 47.63333 |\n",
       "| 2023 | 10 | 67 | 1808 | 1589 | 2.161290 | 58.32258 | 51.25806 |\n",
       "| 2023 | 11 | 81 | 1714 | 1503 | 2.700000 | 57.13333 | 50.10000 |\n",
       "| 2023 | 12 | 86 | 1699 | 1443 | 2.774194 | 54.80645 | 46.54839 |\n",
       "| 2024 |  1 | 61 | 1541 | 1318 | 1.967742 | 49.70968 | 42.51613 |\n",
       "| 2024 |  2 | 77 | 1498 | 1274 | 2.655172 | 51.65517 | 43.93103 |\n",
       "| 2024 |  3 | 91 | 1536 | 1324 | 2.935484 | 49.54839 | 42.70968 |\n",
       "| 2024 |  4 | 80 | 1504 | 1248 | 2.666667 | 50.13333 | 41.60000 |\n",
       "| 2024 |  5 | 95 | 1652 | 1413 | 3.064516 | 53.29032 | 45.58065 |\n",
       "| 2024 |  6 | 80 | 1625 | 1375 | 2.666667 | 54.16667 | 45.83333 |\n",
       "| 2024 |  7 | 76 | 1718 | 1383 | 2.451613 | 55.41935 | 44.61290 |\n",
       "| 2024 |  8 | 81 | 1922 | 1651 | 2.612903 | 62.00000 | 53.25806 |\n",
       "| 2024 |  9 | 86 | 1829 | 1568 | 2.866667 | 60.96667 | 52.26667 |\n",
       "| 2024 | 10 | 85 | 1836 | 1497 | 2.741935 | 59.22581 | 48.29032 |\n",
       "| 2024 | 11 | 94 | 1656 | 1447 | 3.133333 | 55.20000 | 48.23333 |\n",
       "| 2024 | 12 | 79 | 1529 | 1286 | 2.548387 | 49.32258 | 41.48387 |\n",
       "\n"
      ],
      "text/plain": [
       "    ano  mes III_delitos V_delitos alto_impacto promedio_diario_III\n",
       "1   2016  1   75         1988      1397         2.419355           \n",
       "2   2016  2   75         1970      1418         2.586207           \n",
       "3   2016  3   89         2121      1500         2.870968           \n",
       "4   2016  4   76         1983      1486         2.533333           \n",
       "5   2016  5   88         1948      1445         2.838710           \n",
       "6   2016  6   79         1714      1269         2.633333           \n",
       "7   2016  7   87         1766      1177         2.806452           \n",
       "8   2016  8   80         1953      1275         2.580645           \n",
       "9   2016  9   94         2157      1554         3.133333           \n",
       "10  2016 10   86         2334      1649         2.774194           \n",
       "11  2016 11   85         2238      1655         2.833333           \n",
       "12  2016 12  112         2153      1557         3.612903           \n",
       "13  2017  1  112         2353      1731         3.612903           \n",
       "14  2017  2   79         1897      1445         2.821429           \n",
       "15  2017  3   83         2025      1557         2.677419           \n",
       "16  2017  4  103         1935      1428         3.433333           \n",
       "17  2017  5  122         2330      1776         3.935484           \n",
       "18  2017  6  115         2303      1721         3.833333           \n",
       "19  2017  7   91         2284      1800         2.935484           \n",
       "20  2017  8  103         2336      1817         3.322581           \n",
       "21  2017  9  108         2282      1737         3.600000           \n",
       "22  2017 10  105         2439      1892         3.387097           \n",
       "23  2017 11   90         2280      1751         3.000000           \n",
       "24  2017 12  106         2592      2129         3.419355           \n",
       "25  2018  1   94         3820      3281         3.032258           \n",
       "26  2018  2  126         3522      2986         4.500000           \n",
       "27  2018  3  139         3930      3275         4.483871           \n",
       "28  2018  4  148         3894      3379         4.933333           \n",
       "29  2018  5  132         4242      3557         4.258065           \n",
       "30  2018  6  132         4139      3494         4.400000           \n",
       "⋮   ⋮    ⋮   ⋮           ⋮         ⋮            ⋮                  \n",
       "79  2022  7  75          1882      1732         2.419355           \n",
       "80  2022  8  75          2030      1879         2.419355           \n",
       "81  2022  9  66          1920      1751         2.200000           \n",
       "82  2022 10  69          2074      1938         2.225806           \n",
       "83  2022 11  90          1879      1715         3.000000           \n",
       "84  2022 12  71          1806      1723         2.290323           \n",
       "85  2023  1  76          1766      1628         2.451613           \n",
       "86  2023  2  63          1707      1632         2.250000           \n",
       "87  2023  3  92          1767      1673         2.967742           \n",
       "88  2023  4  66          1681      1549         2.200000           \n",
       "89  2023  5  69          1815      1653         2.225806           \n",
       "90  2023  6  81          1667      1543         2.700000           \n",
       "91  2023  7  67          1657      1437         2.161290           \n",
       "92  2023  8  66          1624      1425         2.129032           \n",
       "93  2023  9  71          1613      1429         2.366667           \n",
       "94  2023 10  67          1808      1589         2.161290           \n",
       "95  2023 11  81          1714      1503         2.700000           \n",
       "96  2023 12  86          1699      1443         2.774194           \n",
       "97  2024  1  61          1541      1318         1.967742           \n",
       "98  2024  2  77          1498      1274         2.655172           \n",
       "99  2024  3  91          1536      1324         2.935484           \n",
       "100 2024  4  80          1504      1248         2.666667           \n",
       "101 2024  5  95          1652      1413         3.064516           \n",
       "102 2024  6  80          1625      1375         2.666667           \n",
       "103 2024  7  76          1718      1383         2.451613           \n",
       "104 2024  8  81          1922      1651         2.612903           \n",
       "105 2024  9  86          1829      1568         2.866667           \n",
       "106 2024 10  85          1836      1497         2.741935           \n",
       "107 2024 11  94          1656      1447         3.133333           \n",
       "108 2024 12  79          1529      1286         2.548387           \n",
       "    promedio_diario_V promedio_diario_alto_impacto\n",
       "1    64.12903          45.06452                   \n",
       "2    67.93103          48.89655                   \n",
       "3    68.41935          48.38710                   \n",
       "4    66.10000          49.53333                   \n",
       "5    62.83871          46.61290                   \n",
       "6    57.13333          42.30000                   \n",
       "7    56.96774          37.96774                   \n",
       "8    63.00000          41.12903                   \n",
       "9    71.90000          51.80000                   \n",
       "10   75.29032          53.19355                   \n",
       "11   74.60000          55.16667                   \n",
       "12   69.45161          50.22581                   \n",
       "13   75.90323          55.83871                   \n",
       "14   67.75000          51.60714                   \n",
       "15   65.32258          50.22581                   \n",
       "16   64.50000          47.60000                   \n",
       "17   75.16129          57.29032                   \n",
       "18   76.76667          57.36667                   \n",
       "19   73.67742          58.06452                   \n",
       "20   75.35484          58.61290                   \n",
       "21   76.06667          57.90000                   \n",
       "22   78.67742          61.03226                   \n",
       "23   76.00000          58.36667                   \n",
       "24   83.61290          68.67742                   \n",
       "25  123.22581         105.83871                   \n",
       "26  125.78571         106.64286                   \n",
       "27  126.77419         105.64516                   \n",
       "28  129.80000         112.63333                   \n",
       "29  136.83871         114.74194                   \n",
       "30  137.96667         116.46667                   \n",
       "⋮   ⋮                 ⋮                           \n",
       "79  60.70968          55.87097                    \n",
       "80  65.48387          60.61290                    \n",
       "81  64.00000          58.36667                    \n",
       "82  66.90323          62.51613                    \n",
       "83  62.63333          57.16667                    \n",
       "84  58.25806          55.58065                    \n",
       "85  56.96774          52.51613                    \n",
       "86  60.96429          58.28571                    \n",
       "87  57.00000          53.96774                    \n",
       "88  56.03333          51.63333                    \n",
       "89  58.54839          53.32258                    \n",
       "90  55.56667          51.43333                    \n",
       "91  53.45161          46.35484                    \n",
       "92  52.38710          45.96774                    \n",
       "93  53.76667          47.63333                    \n",
       "94  58.32258          51.25806                    \n",
       "95  57.13333          50.10000                    \n",
       "96  54.80645          46.54839                    \n",
       "97  49.70968          42.51613                    \n",
       "98  51.65517          43.93103                    \n",
       "99  49.54839          42.70968                    \n",
       "100 50.13333          41.60000                    \n",
       "101 53.29032          45.58065                    \n",
       "102 54.16667          45.83333                    \n",
       "103 55.41935          44.61290                    \n",
       "104 62.00000          53.25806                    \n",
       "105 60.96667          52.26667                    \n",
       "106 59.22581          48.29032                    \n",
       "107 55.20000          48.23333                    \n",
       "108 49.32258          41.48387                    "
      ]
     },
     "metadata": {},
     "output_type": "display_data"
    }
   ],
   "source": [
    "#Calcular promedio diario de delitos mensual\n",
    "delitos_mensual <- carpetas %>%\n",
    "  mutate(fecha_hecho = as.Date(fecha_hecho),\n",
    "         ano = year(fecha_hecho),\n",
    "         mes = month(fecha_hecho)) %>%\n",
    "#Contabilizar los delitos por año y mes\n",
    "    group_by(ano, mes) %>%\n",
    "    summarise(III_delitos = sum(III_delitos),\n",
    "                V_delitos = sum(V_delitos),\n",
    "              alto_impacto = sum(alto_impacto),\n",
    "              #perspectiva_genero = sum(perspectiva_genero),\n",
    "                .groups = 'drop') %>%\n",
    "#Obtener promedio diario de delitos\n",
    "    mutate(promedio_diario_III = III_delitos / days_in_month(as.Date(paste(ano, mes, '01', sep = '-'))),\n",
    "           promedio_diario_V = V_delitos / days_in_month(as.Date(paste(ano, mes, '01', sep = '-'))),\n",
    "              promedio_diario_alto_impacto = alto_impacto / days_in_month(as.Date(paste(ano, mes, '01', sep = '-'))))\n",
    "               #promedio_diario_perspectiva_genero = perspectiva_genero / days_in_month(as.Date(paste(ano, mes, '01', sep = '-'))))\n",
    "delitos_mensual"
   ]
  },
  {
   "cell_type": "code",
   "execution_count": 10,
   "id": "c86274d3a841700b",
   "metadata": {
    "ExecuteTime": {
     "end_time": "2025-03-11T00:18:01.456644Z",
     "start_time": "2025-03-11T00:18:01.386976Z"
    },
    "vscode": {
     "languageId": "r"
    }
   },
   "outputs": [
    {
     "data": {
      "text/html": [
       "<table class=\"dataframe\">\n",
       "<caption>A tibble: 324 × 7</caption>\n",
       "<thead>\n",
       "\t<tr><th scope=col>ano</th><th scope=col>mes</th><th scope=col>III_delitos</th><th scope=col>V_delitos</th><th scope=col>alto_impacto</th><th scope=col>delito</th><th scope=col>promedio_diario</th></tr>\n",
       "\t<tr><th scope=col>&lt;dbl&gt;</th><th scope=col>&lt;dbl&gt;</th><th scope=col>&lt;dbl&gt;</th><th scope=col>&lt;dbl&gt;</th><th scope=col>&lt;dbl&gt;</th><th scope=col>&lt;chr&gt;</th><th scope=col>&lt;dbl&gt;</th></tr>\n",
       "</thead>\n",
       "<tbody>\n",
       "\t<tr><td>2016</td><td> 1</td><td>75</td><td>1988</td><td>1397</td><td>promedio_diario_III         </td><td> 2.419355</td></tr>\n",
       "\t<tr><td>2016</td><td> 1</td><td>75</td><td>1988</td><td>1397</td><td>promedio_diario_V           </td><td>64.129032</td></tr>\n",
       "\t<tr><td>2016</td><td> 1</td><td>75</td><td>1988</td><td>1397</td><td>promedio_diario_alto_impacto</td><td>45.064516</td></tr>\n",
       "\t<tr><td>2016</td><td> 2</td><td>75</td><td>1970</td><td>1418</td><td>promedio_diario_III         </td><td> 2.586207</td></tr>\n",
       "\t<tr><td>2016</td><td> 2</td><td>75</td><td>1970</td><td>1418</td><td>promedio_diario_V           </td><td>67.931034</td></tr>\n",
       "\t<tr><td>2016</td><td> 2</td><td>75</td><td>1970</td><td>1418</td><td>promedio_diario_alto_impacto</td><td>48.896552</td></tr>\n",
       "\t<tr><td>2016</td><td> 3</td><td>89</td><td>2121</td><td>1500</td><td>promedio_diario_III         </td><td> 2.870968</td></tr>\n",
       "\t<tr><td>2016</td><td> 3</td><td>89</td><td>2121</td><td>1500</td><td>promedio_diario_V           </td><td>68.419355</td></tr>\n",
       "\t<tr><td>2016</td><td> 3</td><td>89</td><td>2121</td><td>1500</td><td>promedio_diario_alto_impacto</td><td>48.387097</td></tr>\n",
       "\t<tr><td>2016</td><td> 4</td><td>76</td><td>1983</td><td>1486</td><td>promedio_diario_III         </td><td> 2.533333</td></tr>\n",
       "\t<tr><td>2016</td><td> 4</td><td>76</td><td>1983</td><td>1486</td><td>promedio_diario_V           </td><td>66.100000</td></tr>\n",
       "\t<tr><td>2016</td><td> 4</td><td>76</td><td>1983</td><td>1486</td><td>promedio_diario_alto_impacto</td><td>49.533333</td></tr>\n",
       "\t<tr><td>2016</td><td> 5</td><td>88</td><td>1948</td><td>1445</td><td>promedio_diario_III         </td><td> 2.838710</td></tr>\n",
       "\t<tr><td>2016</td><td> 5</td><td>88</td><td>1948</td><td>1445</td><td>promedio_diario_V           </td><td>62.838710</td></tr>\n",
       "\t<tr><td>2016</td><td> 5</td><td>88</td><td>1948</td><td>1445</td><td>promedio_diario_alto_impacto</td><td>46.612903</td></tr>\n",
       "\t<tr><td>2016</td><td> 6</td><td>79</td><td>1714</td><td>1269</td><td>promedio_diario_III         </td><td> 2.633333</td></tr>\n",
       "\t<tr><td>2016</td><td> 6</td><td>79</td><td>1714</td><td>1269</td><td>promedio_diario_V           </td><td>57.133333</td></tr>\n",
       "\t<tr><td>2016</td><td> 6</td><td>79</td><td>1714</td><td>1269</td><td>promedio_diario_alto_impacto</td><td>42.300000</td></tr>\n",
       "\t<tr><td>2016</td><td> 7</td><td>87</td><td>1766</td><td>1177</td><td>promedio_diario_III         </td><td> 2.806452</td></tr>\n",
       "\t<tr><td>2016</td><td> 7</td><td>87</td><td>1766</td><td>1177</td><td>promedio_diario_V           </td><td>56.967742</td></tr>\n",
       "\t<tr><td>2016</td><td> 7</td><td>87</td><td>1766</td><td>1177</td><td>promedio_diario_alto_impacto</td><td>37.967742</td></tr>\n",
       "\t<tr><td>2016</td><td> 8</td><td>80</td><td>1953</td><td>1275</td><td>promedio_diario_III         </td><td> 2.580645</td></tr>\n",
       "\t<tr><td>2016</td><td> 8</td><td>80</td><td>1953</td><td>1275</td><td>promedio_diario_V           </td><td>63.000000</td></tr>\n",
       "\t<tr><td>2016</td><td> 8</td><td>80</td><td>1953</td><td>1275</td><td>promedio_diario_alto_impacto</td><td>41.129032</td></tr>\n",
       "\t<tr><td>2016</td><td> 9</td><td>94</td><td>2157</td><td>1554</td><td>promedio_diario_III         </td><td> 3.133333</td></tr>\n",
       "\t<tr><td>2016</td><td> 9</td><td>94</td><td>2157</td><td>1554</td><td>promedio_diario_V           </td><td>71.900000</td></tr>\n",
       "\t<tr><td>2016</td><td> 9</td><td>94</td><td>2157</td><td>1554</td><td>promedio_diario_alto_impacto</td><td>51.800000</td></tr>\n",
       "\t<tr><td>2016</td><td>10</td><td>86</td><td>2334</td><td>1649</td><td>promedio_diario_III         </td><td> 2.774194</td></tr>\n",
       "\t<tr><td>2016</td><td>10</td><td>86</td><td>2334</td><td>1649</td><td>promedio_diario_V           </td><td>75.290323</td></tr>\n",
       "\t<tr><td>2016</td><td>10</td><td>86</td><td>2334</td><td>1649</td><td>promedio_diario_alto_impacto</td><td>53.193548</td></tr>\n",
       "\t<tr><td>⋮</td><td>⋮</td><td>⋮</td><td>⋮</td><td>⋮</td><td>⋮</td><td>⋮</td></tr>\n",
       "\t<tr><td>2024</td><td> 3</td><td>91</td><td>1536</td><td>1324</td><td>promedio_diario_III         </td><td> 2.935484</td></tr>\n",
       "\t<tr><td>2024</td><td> 3</td><td>91</td><td>1536</td><td>1324</td><td>promedio_diario_V           </td><td>49.548387</td></tr>\n",
       "\t<tr><td>2024</td><td> 3</td><td>91</td><td>1536</td><td>1324</td><td>promedio_diario_alto_impacto</td><td>42.709677</td></tr>\n",
       "\t<tr><td>2024</td><td> 4</td><td>80</td><td>1504</td><td>1248</td><td>promedio_diario_III         </td><td> 2.666667</td></tr>\n",
       "\t<tr><td>2024</td><td> 4</td><td>80</td><td>1504</td><td>1248</td><td>promedio_diario_V           </td><td>50.133333</td></tr>\n",
       "\t<tr><td>2024</td><td> 4</td><td>80</td><td>1504</td><td>1248</td><td>promedio_diario_alto_impacto</td><td>41.600000</td></tr>\n",
       "\t<tr><td>2024</td><td> 5</td><td>95</td><td>1652</td><td>1413</td><td>promedio_diario_III         </td><td> 3.064516</td></tr>\n",
       "\t<tr><td>2024</td><td> 5</td><td>95</td><td>1652</td><td>1413</td><td>promedio_diario_V           </td><td>53.290323</td></tr>\n",
       "\t<tr><td>2024</td><td> 5</td><td>95</td><td>1652</td><td>1413</td><td>promedio_diario_alto_impacto</td><td>45.580645</td></tr>\n",
       "\t<tr><td>2024</td><td> 6</td><td>80</td><td>1625</td><td>1375</td><td>promedio_diario_III         </td><td> 2.666667</td></tr>\n",
       "\t<tr><td>2024</td><td> 6</td><td>80</td><td>1625</td><td>1375</td><td>promedio_diario_V           </td><td>54.166667</td></tr>\n",
       "\t<tr><td>2024</td><td> 6</td><td>80</td><td>1625</td><td>1375</td><td>promedio_diario_alto_impacto</td><td>45.833333</td></tr>\n",
       "\t<tr><td>2024</td><td> 7</td><td>76</td><td>1718</td><td>1383</td><td>promedio_diario_III         </td><td> 2.451613</td></tr>\n",
       "\t<tr><td>2024</td><td> 7</td><td>76</td><td>1718</td><td>1383</td><td>promedio_diario_V           </td><td>55.419355</td></tr>\n",
       "\t<tr><td>2024</td><td> 7</td><td>76</td><td>1718</td><td>1383</td><td>promedio_diario_alto_impacto</td><td>44.612903</td></tr>\n",
       "\t<tr><td>2024</td><td> 8</td><td>81</td><td>1922</td><td>1651</td><td>promedio_diario_III         </td><td> 2.612903</td></tr>\n",
       "\t<tr><td>2024</td><td> 8</td><td>81</td><td>1922</td><td>1651</td><td>promedio_diario_V           </td><td>62.000000</td></tr>\n",
       "\t<tr><td>2024</td><td> 8</td><td>81</td><td>1922</td><td>1651</td><td>promedio_diario_alto_impacto</td><td>53.258065</td></tr>\n",
       "\t<tr><td>2024</td><td> 9</td><td>86</td><td>1829</td><td>1568</td><td>promedio_diario_III         </td><td> 2.866667</td></tr>\n",
       "\t<tr><td>2024</td><td> 9</td><td>86</td><td>1829</td><td>1568</td><td>promedio_diario_V           </td><td>60.966667</td></tr>\n",
       "\t<tr><td>2024</td><td> 9</td><td>86</td><td>1829</td><td>1568</td><td>promedio_diario_alto_impacto</td><td>52.266667</td></tr>\n",
       "\t<tr><td>2024</td><td>10</td><td>85</td><td>1836</td><td>1497</td><td>promedio_diario_III         </td><td> 2.741935</td></tr>\n",
       "\t<tr><td>2024</td><td>10</td><td>85</td><td>1836</td><td>1497</td><td>promedio_diario_V           </td><td>59.225806</td></tr>\n",
       "\t<tr><td>2024</td><td>10</td><td>85</td><td>1836</td><td>1497</td><td>promedio_diario_alto_impacto</td><td>48.290323</td></tr>\n",
       "\t<tr><td>2024</td><td>11</td><td>94</td><td>1656</td><td>1447</td><td>promedio_diario_III         </td><td> 3.133333</td></tr>\n",
       "\t<tr><td>2024</td><td>11</td><td>94</td><td>1656</td><td>1447</td><td>promedio_diario_V           </td><td>55.200000</td></tr>\n",
       "\t<tr><td>2024</td><td>11</td><td>94</td><td>1656</td><td>1447</td><td>promedio_diario_alto_impacto</td><td>48.233333</td></tr>\n",
       "\t<tr><td>2024</td><td>12</td><td>79</td><td>1529</td><td>1286</td><td>promedio_diario_III         </td><td> 2.548387</td></tr>\n",
       "\t<tr><td>2024</td><td>12</td><td>79</td><td>1529</td><td>1286</td><td>promedio_diario_V           </td><td>49.322581</td></tr>\n",
       "\t<tr><td>2024</td><td>12</td><td>79</td><td>1529</td><td>1286</td><td>promedio_diario_alto_impacto</td><td>41.483871</td></tr>\n",
       "</tbody>\n",
       "</table>\n"
      ],
      "text/latex": [
       "A tibble: 324 × 7\n",
       "\\begin{tabular}{lllllll}\n",
       " ano & mes & III\\_delitos & V\\_delitos & alto\\_impacto & delito & promedio\\_diario\\\\\n",
       " <dbl> & <dbl> & <dbl> & <dbl> & <dbl> & <chr> & <dbl>\\\\\n",
       "\\hline\n",
       "\t 2016 &  1 & 75 & 1988 & 1397 & promedio\\_diario\\_III          &  2.419355\\\\\n",
       "\t 2016 &  1 & 75 & 1988 & 1397 & promedio\\_diario\\_V            & 64.129032\\\\\n",
       "\t 2016 &  1 & 75 & 1988 & 1397 & promedio\\_diario\\_alto\\_impacto & 45.064516\\\\\n",
       "\t 2016 &  2 & 75 & 1970 & 1418 & promedio\\_diario\\_III          &  2.586207\\\\\n",
       "\t 2016 &  2 & 75 & 1970 & 1418 & promedio\\_diario\\_V            & 67.931034\\\\\n",
       "\t 2016 &  2 & 75 & 1970 & 1418 & promedio\\_diario\\_alto\\_impacto & 48.896552\\\\\n",
       "\t 2016 &  3 & 89 & 2121 & 1500 & promedio\\_diario\\_III          &  2.870968\\\\\n",
       "\t 2016 &  3 & 89 & 2121 & 1500 & promedio\\_diario\\_V            & 68.419355\\\\\n",
       "\t 2016 &  3 & 89 & 2121 & 1500 & promedio\\_diario\\_alto\\_impacto & 48.387097\\\\\n",
       "\t 2016 &  4 & 76 & 1983 & 1486 & promedio\\_diario\\_III          &  2.533333\\\\\n",
       "\t 2016 &  4 & 76 & 1983 & 1486 & promedio\\_diario\\_V            & 66.100000\\\\\n",
       "\t 2016 &  4 & 76 & 1983 & 1486 & promedio\\_diario\\_alto\\_impacto & 49.533333\\\\\n",
       "\t 2016 &  5 & 88 & 1948 & 1445 & promedio\\_diario\\_III          &  2.838710\\\\\n",
       "\t 2016 &  5 & 88 & 1948 & 1445 & promedio\\_diario\\_V            & 62.838710\\\\\n",
       "\t 2016 &  5 & 88 & 1948 & 1445 & promedio\\_diario\\_alto\\_impacto & 46.612903\\\\\n",
       "\t 2016 &  6 & 79 & 1714 & 1269 & promedio\\_diario\\_III          &  2.633333\\\\\n",
       "\t 2016 &  6 & 79 & 1714 & 1269 & promedio\\_diario\\_V            & 57.133333\\\\\n",
       "\t 2016 &  6 & 79 & 1714 & 1269 & promedio\\_diario\\_alto\\_impacto & 42.300000\\\\\n",
       "\t 2016 &  7 & 87 & 1766 & 1177 & promedio\\_diario\\_III          &  2.806452\\\\\n",
       "\t 2016 &  7 & 87 & 1766 & 1177 & promedio\\_diario\\_V            & 56.967742\\\\\n",
       "\t 2016 &  7 & 87 & 1766 & 1177 & promedio\\_diario\\_alto\\_impacto & 37.967742\\\\\n",
       "\t 2016 &  8 & 80 & 1953 & 1275 & promedio\\_diario\\_III          &  2.580645\\\\\n",
       "\t 2016 &  8 & 80 & 1953 & 1275 & promedio\\_diario\\_V            & 63.000000\\\\\n",
       "\t 2016 &  8 & 80 & 1953 & 1275 & promedio\\_diario\\_alto\\_impacto & 41.129032\\\\\n",
       "\t 2016 &  9 & 94 & 2157 & 1554 & promedio\\_diario\\_III          &  3.133333\\\\\n",
       "\t 2016 &  9 & 94 & 2157 & 1554 & promedio\\_diario\\_V            & 71.900000\\\\\n",
       "\t 2016 &  9 & 94 & 2157 & 1554 & promedio\\_diario\\_alto\\_impacto & 51.800000\\\\\n",
       "\t 2016 & 10 & 86 & 2334 & 1649 & promedio\\_diario\\_III          &  2.774194\\\\\n",
       "\t 2016 & 10 & 86 & 2334 & 1649 & promedio\\_diario\\_V            & 75.290323\\\\\n",
       "\t 2016 & 10 & 86 & 2334 & 1649 & promedio\\_diario\\_alto\\_impacto & 53.193548\\\\\n",
       "\t ⋮ & ⋮ & ⋮ & ⋮ & ⋮ & ⋮ & ⋮\\\\\n",
       "\t 2024 &  3 & 91 & 1536 & 1324 & promedio\\_diario\\_III          &  2.935484\\\\\n",
       "\t 2024 &  3 & 91 & 1536 & 1324 & promedio\\_diario\\_V            & 49.548387\\\\\n",
       "\t 2024 &  3 & 91 & 1536 & 1324 & promedio\\_diario\\_alto\\_impacto & 42.709677\\\\\n",
       "\t 2024 &  4 & 80 & 1504 & 1248 & promedio\\_diario\\_III          &  2.666667\\\\\n",
       "\t 2024 &  4 & 80 & 1504 & 1248 & promedio\\_diario\\_V            & 50.133333\\\\\n",
       "\t 2024 &  4 & 80 & 1504 & 1248 & promedio\\_diario\\_alto\\_impacto & 41.600000\\\\\n",
       "\t 2024 &  5 & 95 & 1652 & 1413 & promedio\\_diario\\_III          &  3.064516\\\\\n",
       "\t 2024 &  5 & 95 & 1652 & 1413 & promedio\\_diario\\_V            & 53.290323\\\\\n",
       "\t 2024 &  5 & 95 & 1652 & 1413 & promedio\\_diario\\_alto\\_impacto & 45.580645\\\\\n",
       "\t 2024 &  6 & 80 & 1625 & 1375 & promedio\\_diario\\_III          &  2.666667\\\\\n",
       "\t 2024 &  6 & 80 & 1625 & 1375 & promedio\\_diario\\_V            & 54.166667\\\\\n",
       "\t 2024 &  6 & 80 & 1625 & 1375 & promedio\\_diario\\_alto\\_impacto & 45.833333\\\\\n",
       "\t 2024 &  7 & 76 & 1718 & 1383 & promedio\\_diario\\_III          &  2.451613\\\\\n",
       "\t 2024 &  7 & 76 & 1718 & 1383 & promedio\\_diario\\_V            & 55.419355\\\\\n",
       "\t 2024 &  7 & 76 & 1718 & 1383 & promedio\\_diario\\_alto\\_impacto & 44.612903\\\\\n",
       "\t 2024 &  8 & 81 & 1922 & 1651 & promedio\\_diario\\_III          &  2.612903\\\\\n",
       "\t 2024 &  8 & 81 & 1922 & 1651 & promedio\\_diario\\_V            & 62.000000\\\\\n",
       "\t 2024 &  8 & 81 & 1922 & 1651 & promedio\\_diario\\_alto\\_impacto & 53.258065\\\\\n",
       "\t 2024 &  9 & 86 & 1829 & 1568 & promedio\\_diario\\_III          &  2.866667\\\\\n",
       "\t 2024 &  9 & 86 & 1829 & 1568 & promedio\\_diario\\_V            & 60.966667\\\\\n",
       "\t 2024 &  9 & 86 & 1829 & 1568 & promedio\\_diario\\_alto\\_impacto & 52.266667\\\\\n",
       "\t 2024 & 10 & 85 & 1836 & 1497 & promedio\\_diario\\_III          &  2.741935\\\\\n",
       "\t 2024 & 10 & 85 & 1836 & 1497 & promedio\\_diario\\_V            & 59.225806\\\\\n",
       "\t 2024 & 10 & 85 & 1836 & 1497 & promedio\\_diario\\_alto\\_impacto & 48.290323\\\\\n",
       "\t 2024 & 11 & 94 & 1656 & 1447 & promedio\\_diario\\_III          &  3.133333\\\\\n",
       "\t 2024 & 11 & 94 & 1656 & 1447 & promedio\\_diario\\_V            & 55.200000\\\\\n",
       "\t 2024 & 11 & 94 & 1656 & 1447 & promedio\\_diario\\_alto\\_impacto & 48.233333\\\\\n",
       "\t 2024 & 12 & 79 & 1529 & 1286 & promedio\\_diario\\_III          &  2.548387\\\\\n",
       "\t 2024 & 12 & 79 & 1529 & 1286 & promedio\\_diario\\_V            & 49.322581\\\\\n",
       "\t 2024 & 12 & 79 & 1529 & 1286 & promedio\\_diario\\_alto\\_impacto & 41.483871\\\\\n",
       "\\end{tabular}\n"
      ],
      "text/markdown": [
       "\n",
       "A tibble: 324 × 7\n",
       "\n",
       "| ano &lt;dbl&gt; | mes &lt;dbl&gt; | III_delitos &lt;dbl&gt; | V_delitos &lt;dbl&gt; | alto_impacto &lt;dbl&gt; | delito &lt;chr&gt; | promedio_diario &lt;dbl&gt; |\n",
       "|---|---|---|---|---|---|---|\n",
       "| 2016 |  1 | 75 | 1988 | 1397 | promedio_diario_III          |  2.419355 |\n",
       "| 2016 |  1 | 75 | 1988 | 1397 | promedio_diario_V            | 64.129032 |\n",
       "| 2016 |  1 | 75 | 1988 | 1397 | promedio_diario_alto_impacto | 45.064516 |\n",
       "| 2016 |  2 | 75 | 1970 | 1418 | promedio_diario_III          |  2.586207 |\n",
       "| 2016 |  2 | 75 | 1970 | 1418 | promedio_diario_V            | 67.931034 |\n",
       "| 2016 |  2 | 75 | 1970 | 1418 | promedio_diario_alto_impacto | 48.896552 |\n",
       "| 2016 |  3 | 89 | 2121 | 1500 | promedio_diario_III          |  2.870968 |\n",
       "| 2016 |  3 | 89 | 2121 | 1500 | promedio_diario_V            | 68.419355 |\n",
       "| 2016 |  3 | 89 | 2121 | 1500 | promedio_diario_alto_impacto | 48.387097 |\n",
       "| 2016 |  4 | 76 | 1983 | 1486 | promedio_diario_III          |  2.533333 |\n",
       "| 2016 |  4 | 76 | 1983 | 1486 | promedio_diario_V            | 66.100000 |\n",
       "| 2016 |  4 | 76 | 1983 | 1486 | promedio_diario_alto_impacto | 49.533333 |\n",
       "| 2016 |  5 | 88 | 1948 | 1445 | promedio_diario_III          |  2.838710 |\n",
       "| 2016 |  5 | 88 | 1948 | 1445 | promedio_diario_V            | 62.838710 |\n",
       "| 2016 |  5 | 88 | 1948 | 1445 | promedio_diario_alto_impacto | 46.612903 |\n",
       "| 2016 |  6 | 79 | 1714 | 1269 | promedio_diario_III          |  2.633333 |\n",
       "| 2016 |  6 | 79 | 1714 | 1269 | promedio_diario_V            | 57.133333 |\n",
       "| 2016 |  6 | 79 | 1714 | 1269 | promedio_diario_alto_impacto | 42.300000 |\n",
       "| 2016 |  7 | 87 | 1766 | 1177 | promedio_diario_III          |  2.806452 |\n",
       "| 2016 |  7 | 87 | 1766 | 1177 | promedio_diario_V            | 56.967742 |\n",
       "| 2016 |  7 | 87 | 1766 | 1177 | promedio_diario_alto_impacto | 37.967742 |\n",
       "| 2016 |  8 | 80 | 1953 | 1275 | promedio_diario_III          |  2.580645 |\n",
       "| 2016 |  8 | 80 | 1953 | 1275 | promedio_diario_V            | 63.000000 |\n",
       "| 2016 |  8 | 80 | 1953 | 1275 | promedio_diario_alto_impacto | 41.129032 |\n",
       "| 2016 |  9 | 94 | 2157 | 1554 | promedio_diario_III          |  3.133333 |\n",
       "| 2016 |  9 | 94 | 2157 | 1554 | promedio_diario_V            | 71.900000 |\n",
       "| 2016 |  9 | 94 | 2157 | 1554 | promedio_diario_alto_impacto | 51.800000 |\n",
       "| 2016 | 10 | 86 | 2334 | 1649 | promedio_diario_III          |  2.774194 |\n",
       "| 2016 | 10 | 86 | 2334 | 1649 | promedio_diario_V            | 75.290323 |\n",
       "| 2016 | 10 | 86 | 2334 | 1649 | promedio_diario_alto_impacto | 53.193548 |\n",
       "| ⋮ | ⋮ | ⋮ | ⋮ | ⋮ | ⋮ | ⋮ |\n",
       "| 2024 |  3 | 91 | 1536 | 1324 | promedio_diario_III          |  2.935484 |\n",
       "| 2024 |  3 | 91 | 1536 | 1324 | promedio_diario_V            | 49.548387 |\n",
       "| 2024 |  3 | 91 | 1536 | 1324 | promedio_diario_alto_impacto | 42.709677 |\n",
       "| 2024 |  4 | 80 | 1504 | 1248 | promedio_diario_III          |  2.666667 |\n",
       "| 2024 |  4 | 80 | 1504 | 1248 | promedio_diario_V            | 50.133333 |\n",
       "| 2024 |  4 | 80 | 1504 | 1248 | promedio_diario_alto_impacto | 41.600000 |\n",
       "| 2024 |  5 | 95 | 1652 | 1413 | promedio_diario_III          |  3.064516 |\n",
       "| 2024 |  5 | 95 | 1652 | 1413 | promedio_diario_V            | 53.290323 |\n",
       "| 2024 |  5 | 95 | 1652 | 1413 | promedio_diario_alto_impacto | 45.580645 |\n",
       "| 2024 |  6 | 80 | 1625 | 1375 | promedio_diario_III          |  2.666667 |\n",
       "| 2024 |  6 | 80 | 1625 | 1375 | promedio_diario_V            | 54.166667 |\n",
       "| 2024 |  6 | 80 | 1625 | 1375 | promedio_diario_alto_impacto | 45.833333 |\n",
       "| 2024 |  7 | 76 | 1718 | 1383 | promedio_diario_III          |  2.451613 |\n",
       "| 2024 |  7 | 76 | 1718 | 1383 | promedio_diario_V            | 55.419355 |\n",
       "| 2024 |  7 | 76 | 1718 | 1383 | promedio_diario_alto_impacto | 44.612903 |\n",
       "| 2024 |  8 | 81 | 1922 | 1651 | promedio_diario_III          |  2.612903 |\n",
       "| 2024 |  8 | 81 | 1922 | 1651 | promedio_diario_V            | 62.000000 |\n",
       "| 2024 |  8 | 81 | 1922 | 1651 | promedio_diario_alto_impacto | 53.258065 |\n",
       "| 2024 |  9 | 86 | 1829 | 1568 | promedio_diario_III          |  2.866667 |\n",
       "| 2024 |  9 | 86 | 1829 | 1568 | promedio_diario_V            | 60.966667 |\n",
       "| 2024 |  9 | 86 | 1829 | 1568 | promedio_diario_alto_impacto | 52.266667 |\n",
       "| 2024 | 10 | 85 | 1836 | 1497 | promedio_diario_III          |  2.741935 |\n",
       "| 2024 | 10 | 85 | 1836 | 1497 | promedio_diario_V            | 59.225806 |\n",
       "| 2024 | 10 | 85 | 1836 | 1497 | promedio_diario_alto_impacto | 48.290323 |\n",
       "| 2024 | 11 | 94 | 1656 | 1447 | promedio_diario_III          |  3.133333 |\n",
       "| 2024 | 11 | 94 | 1656 | 1447 | promedio_diario_V            | 55.200000 |\n",
       "| 2024 | 11 | 94 | 1656 | 1447 | promedio_diario_alto_impacto | 48.233333 |\n",
       "| 2024 | 12 | 79 | 1529 | 1286 | promedio_diario_III          |  2.548387 |\n",
       "| 2024 | 12 | 79 | 1529 | 1286 | promedio_diario_V            | 49.322581 |\n",
       "| 2024 | 12 | 79 | 1529 | 1286 | promedio_diario_alto_impacto | 41.483871 |\n",
       "\n"
      ],
      "text/plain": [
       "    ano  mes III_delitos V_delitos alto_impacto delito                      \n",
       "1   2016  1  75          1988      1397         promedio_diario_III         \n",
       "2   2016  1  75          1988      1397         promedio_diario_V           \n",
       "3   2016  1  75          1988      1397         promedio_diario_alto_impacto\n",
       "4   2016  2  75          1970      1418         promedio_diario_III         \n",
       "5   2016  2  75          1970      1418         promedio_diario_V           \n",
       "6   2016  2  75          1970      1418         promedio_diario_alto_impacto\n",
       "7   2016  3  89          2121      1500         promedio_diario_III         \n",
       "8   2016  3  89          2121      1500         promedio_diario_V           \n",
       "9   2016  3  89          2121      1500         promedio_diario_alto_impacto\n",
       "10  2016  4  76          1983      1486         promedio_diario_III         \n",
       "11  2016  4  76          1983      1486         promedio_diario_V           \n",
       "12  2016  4  76          1983      1486         promedio_diario_alto_impacto\n",
       "13  2016  5  88          1948      1445         promedio_diario_III         \n",
       "14  2016  5  88          1948      1445         promedio_diario_V           \n",
       "15  2016  5  88          1948      1445         promedio_diario_alto_impacto\n",
       "16  2016  6  79          1714      1269         promedio_diario_III         \n",
       "17  2016  6  79          1714      1269         promedio_diario_V           \n",
       "18  2016  6  79          1714      1269         promedio_diario_alto_impacto\n",
       "19  2016  7  87          1766      1177         promedio_diario_III         \n",
       "20  2016  7  87          1766      1177         promedio_diario_V           \n",
       "21  2016  7  87          1766      1177         promedio_diario_alto_impacto\n",
       "22  2016  8  80          1953      1275         promedio_diario_III         \n",
       "23  2016  8  80          1953      1275         promedio_diario_V           \n",
       "24  2016  8  80          1953      1275         promedio_diario_alto_impacto\n",
       "25  2016  9  94          2157      1554         promedio_diario_III         \n",
       "26  2016  9  94          2157      1554         promedio_diario_V           \n",
       "27  2016  9  94          2157      1554         promedio_diario_alto_impacto\n",
       "28  2016 10  86          2334      1649         promedio_diario_III         \n",
       "29  2016 10  86          2334      1649         promedio_diario_V           \n",
       "30  2016 10  86          2334      1649         promedio_diario_alto_impacto\n",
       "⋮   ⋮    ⋮   ⋮           ⋮         ⋮            ⋮                           \n",
       "295 2024  3  91          1536      1324         promedio_diario_III         \n",
       "296 2024  3  91          1536      1324         promedio_diario_V           \n",
       "297 2024  3  91          1536      1324         promedio_diario_alto_impacto\n",
       "298 2024  4  80          1504      1248         promedio_diario_III         \n",
       "299 2024  4  80          1504      1248         promedio_diario_V           \n",
       "300 2024  4  80          1504      1248         promedio_diario_alto_impacto\n",
       "301 2024  5  95          1652      1413         promedio_diario_III         \n",
       "302 2024  5  95          1652      1413         promedio_diario_V           \n",
       "303 2024  5  95          1652      1413         promedio_diario_alto_impacto\n",
       "304 2024  6  80          1625      1375         promedio_diario_III         \n",
       "305 2024  6  80          1625      1375         promedio_diario_V           \n",
       "306 2024  6  80          1625      1375         promedio_diario_alto_impacto\n",
       "307 2024  7  76          1718      1383         promedio_diario_III         \n",
       "308 2024  7  76          1718      1383         promedio_diario_V           \n",
       "309 2024  7  76          1718      1383         promedio_diario_alto_impacto\n",
       "310 2024  8  81          1922      1651         promedio_diario_III         \n",
       "311 2024  8  81          1922      1651         promedio_diario_V           \n",
       "312 2024  8  81          1922      1651         promedio_diario_alto_impacto\n",
       "313 2024  9  86          1829      1568         promedio_diario_III         \n",
       "314 2024  9  86          1829      1568         promedio_diario_V           \n",
       "315 2024  9  86          1829      1568         promedio_diario_alto_impacto\n",
       "316 2024 10  85          1836      1497         promedio_diario_III         \n",
       "317 2024 10  85          1836      1497         promedio_diario_V           \n",
       "318 2024 10  85          1836      1497         promedio_diario_alto_impacto\n",
       "319 2024 11  94          1656      1447         promedio_diario_III         \n",
       "320 2024 11  94          1656      1447         promedio_diario_V           \n",
       "321 2024 11  94          1656      1447         promedio_diario_alto_impacto\n",
       "322 2024 12  79          1529      1286         promedio_diario_III         \n",
       "323 2024 12  79          1529      1286         promedio_diario_V           \n",
       "324 2024 12  79          1529      1286         promedio_diario_alto_impacto\n",
       "    promedio_diario\n",
       "1    2.419355      \n",
       "2   64.129032      \n",
       "3   45.064516      \n",
       "4    2.586207      \n",
       "5   67.931034      \n",
       "6   48.896552      \n",
       "7    2.870968      \n",
       "8   68.419355      \n",
       "9   48.387097      \n",
       "10   2.533333      \n",
       "11  66.100000      \n",
       "12  49.533333      \n",
       "13   2.838710      \n",
       "14  62.838710      \n",
       "15  46.612903      \n",
       "16   2.633333      \n",
       "17  57.133333      \n",
       "18  42.300000      \n",
       "19   2.806452      \n",
       "20  56.967742      \n",
       "21  37.967742      \n",
       "22   2.580645      \n",
       "23  63.000000      \n",
       "24  41.129032      \n",
       "25   3.133333      \n",
       "26  71.900000      \n",
       "27  51.800000      \n",
       "28   2.774194      \n",
       "29  75.290323      \n",
       "30  53.193548      \n",
       "⋮   ⋮              \n",
       "295  2.935484      \n",
       "296 49.548387      \n",
       "297 42.709677      \n",
       "298  2.666667      \n",
       "299 50.133333      \n",
       "300 41.600000      \n",
       "301  3.064516      \n",
       "302 53.290323      \n",
       "303 45.580645      \n",
       "304  2.666667      \n",
       "305 54.166667      \n",
       "306 45.833333      \n",
       "307  2.451613      \n",
       "308 55.419355      \n",
       "309 44.612903      \n",
       "310  2.612903      \n",
       "311 62.000000      \n",
       "312 53.258065      \n",
       "313  2.866667      \n",
       "314 60.966667      \n",
       "315 52.266667      \n",
       "316  2.741935      \n",
       "317 59.225806      \n",
       "318 48.290323      \n",
       "319  3.133333      \n",
       "320 55.200000      \n",
       "321 48.233333      \n",
       "322  2.548387      \n",
       "323 49.322581      \n",
       "324 41.483871      "
      ]
     },
     "metadata": {},
     "output_type": "display_data"
    }
   ],
   "source": [
    "\n",
    "delitos_mensual %>%\n",
    "    pivot_longer(cols = c(promedio_diario_III, promedio_diario_V, promedio_diario_alto_impacto), #promedio_diario_perspectiva_genero),\n",
    "                 names_to = 'delito',\n",
    "                 values_to = 'promedio_diario')"
   ]
  },
  {
   "cell_type": "code",
   "execution_count": 11,
   "id": "356a0c1d598eb557",
   "metadata": {
    "ExecuteTime": {
     "end_time": "2025-03-11T00:18:02.825684Z",
     "start_time": "2025-03-11T00:18:01.541795Z"
    },
    "vscode": {
     "languageId": "r"
    }
   },
   "outputs": [
    {
     "name": "stderr",
     "output_type": "stream",
     "text": [
      "\u001b[1m\u001b[22m`geom_smooth()` using formula = 'y ~ x'\n",
      "\u001b[1m\u001b[22m`geom_smooth()` using formula = 'y ~ x'\n"
     ]
    },
    {
     "data": {
      "image/png": "[encoded data removed]",
      "text/plain": [
       "plot without title"
      ]
     },
     "metadata": {
      "image/png": {
       "height": 420,
       "width": 420
      }
     },
     "output_type": "display_data"
    }
   ],
   "source": [
    "# Gráfica de promedio diario de III y V delitos en una misma gráfica\n",
    "\n",
    "delitos_mensual %>%\n",
    "    pivot_longer(cols = c(promedio_diario_III, promedio_diario_V, promedio_diario_alto_impacto), #promedio_diario_perspectiva_genero),\n",
    "                 names_to = 'delito',\n",
    "                 values_to = 'promedio_diario') %>%\n",
    "    select(ano, mes, delito, promedio_diario) %>%\n",
    "    mutate(delito = recode(delito,\n",
    "                           promedio_diario_III = \"III delitos\",\n",
    "                           promedio_diario_V = \"V delitos\",\n",
    "                           promedio_diario_alto_impacto = \"Alto impacto\"))%>%\n",
    "                           #promedio_diario_perspectiva_genero = \"Perspectiva de género\")) %>%\n",
    "    ggplot(aes(x = as.Date(paste(ano, mes, '01', sep = '-')), y = promedio_diario, color = '#691c32')) +\n",
    "    geom_line() +\n",
    "    geom_smooth(method = 'loess', se = FALSE, color = '#bc955c') +\n",
    "    labs(title = 'Promedio diario mensual de delitos en la Ciudad de México, 2016-2024',\n",
    "         x = 'Fecha',\n",
    "         y = 'Promedio diario de delitos',\n",
    "         caption = \"Nota: Para la categoría de III delitos se consideran los delitos de robo a casa habitación con y sin violencia,\n",
    "robo de vehículo con y sin violencia y homicidio doloso.\n",
    "\n",
    "Para la categoría de V delitos se consideran los delitos de homicidio doloso, robo a negocio con violencia,\n",
    "robo a pasajero a bordo de microbús con y sin violencia, robo a pasajero a bordo del metro con y sin violencia,\n",
    "robo a pasajero a bordo de taxi con violencia, robo a transeúnte en vía pública con y sin violencia y robo de vehículo con y sin violencia.\n",
    "\n",
    "\n",
    "Para la categoría de alto impacto se consideran los delitos de robo a transeúnte en vía pública con y sin violencia,\n",
    "homicidio doloso, robo de vehículo con y sin violencia, robo a negocio con violencia, robo a pasajero a bordo del metro con y sin violencia,\n",
    "robo a pasajero a bordo de microbús con y sin violencia, robo a pasajero a bordo de taxi con violencia, violación, robo a repartidor con y sin violencia,\n",
    "lesiones dolosas por disparo de arma de fuego, robo a casa habitación con violencia, robo a cuentahabiente saliendo del cajero con violencia,\n",
    "robo a transportista con y sin violencia y secuestro.\n",
    "\n",
    "Fuente: Elaborado por IPDP CDMX con base en datos abiertos del Gobierno de la Ciudad de México\") +\n",
    "    theme_minimal() +\n",
    "    scale_x_date(date_labels = '%Y-%m', date_breaks = '12 months') +\n",
    "    scale_y_continuous(labels = scales::comma) +\n",
    "    theme(axis.text.x = element_text(angle = 90, hjust = 1),\n",
    "          plot.title = element_text(hjust = 0, size = 25, face = \"bold\"),\n",
    "          plot.subtitle = element_text(hjust = 0, size = 20, face = \"italic\"),\n",
    "          plot.caption = element_text(hjust = 0, size = 15),\n",
    "          legend.position = \"none\",\n",
    "          text = element_text(family = \"pop\", size = 20)) +\n",
    "    facet_wrap(~delito, scales = 'free_y', ncol = 3)\n",
    "\n",
    "# Salvar gráfica\n",
    "ggsave('delitos_mensual.png', width = 20, height = 10, units = 'in', dpi = 100, bg = \"white\")\n"
   ]
  },
  {
   "cell_type": "code",
   "execution_count": 12,
   "id": "7bdd0395e2c7271",
   "metadata": {
    "ExecuteTime": {
     "end_time": "2025-03-11T00:18:03.246759Z",
     "start_time": "2025-03-11T00:18:02.848531Z"
    },
    "vscode": {
     "languageId": "r"
    }
   },
   "outputs": [
    {
     "data": {
      "text/html": [
       "<table class=\"dataframe\">\n",
       "<caption>A tibble: 9 × 12</caption>\n",
       "<thead>\n",
       "\t<tr><th scope=col>ano</th><th scope=col>III_delitos</th><th scope=col>V_delitos</th><th scope=col>alto_impacto</th><th scope=col>promedio_diario_III</th><th scope=col>promedio_diario_V</th><th scope=col>promedio_diario_alto_impacto</th><th scope=col>poblacion_total</th><th scope=col>pob_mujer</th><th scope=col>tasa_III</th><th scope=col>tasa_V</th><th scope=col>tasa_alto_impacto</th></tr>\n",
       "\t<tr><th scope=col>&lt;dbl&gt;</th><th scope=col>&lt;dbl&gt;</th><th scope=col>&lt;dbl&gt;</th><th scope=col>&lt;dbl&gt;</th><th scope=col>&lt;dbl&gt;</th><th scope=col>&lt;dbl&gt;</th><th scope=col>&lt;dbl&gt;</th><th scope=col>&lt;dbl&gt;</th><th scope=col>&lt;dbl&gt;</th><th scope=col>&lt;dbl&gt;</th><th scope=col>&lt;dbl&gt;</th><th scope=col>&lt;dbl&gt;</th></tr>\n",
       "</thead>\n",
       "<tbody>\n",
       "\t<tr><td>2016</td><td>1026</td><td>24325</td><td>17382</td><td>2.810959</td><td> 66.64384</td><td> 47.62192</td><td>6909676</td><td>3667544</td><td>14.84874</td><td>352.0426</td><td>251.5603</td></tr>\n",
       "\t<tr><td>2017</td><td>1217</td><td>27056</td><td>20784</td><td>3.334247</td><td> 74.12603</td><td> 56.94247</td><td>6991272</td><td>3705850</td><td>17.40742</td><td>386.9968</td><td>297.2850</td></tr>\n",
       "\t<tr><td>2018</td><td>1541</td><td>50854</td><td>43652</td><td>4.221918</td><td>139.32603</td><td>119.59452</td><td>7074976</td><td>3745305</td><td>21.78099</td><td>718.7869</td><td>616.9915</td></tr>\n",
       "\t<tr><td>2019</td><td>1518</td><td>39535</td><td>34734</td><td>4.158904</td><td>108.31507</td><td> 95.16164</td><td>7157355</td><td>3784450</td><td>21.20895</td><td>552.3689</td><td>485.2910</td></tr>\n",
       "\t<tr><td>2020</td><td>1258</td><td>26713</td><td>22725</td><td>3.446575</td><td> 73.18630</td><td> 62.26027</td><td>7197032</td><td>3805814</td><td>17.47943</td><td>371.1669</td><td>315.7552</td></tr>\n",
       "\t<tr><td>2021</td><td>1038</td><td>23928</td><td>22278</td><td>2.843836</td><td> 65.55616</td><td> 61.03562</td><td>7198885</td><td>3810026</td><td>14.41890</td><td>332.3848</td><td>309.4646</td></tr>\n",
       "\t<tr><td>2022</td><td> 831</td><td>22751</td><td>21474</td><td>2.276712</td><td> 62.33151</td><td> 58.83288</td><td>7222176</td><td>3821291</td><td>11.50623</td><td>315.0159</td><td>297.3342</td></tr>\n",
       "\t<tr><td>2023</td><td> 885</td><td>20518</td><td>18504</td><td>2.424658</td><td> 56.21370</td><td> 50.69589</td><td>7262596</td><td>3838867</td><td>12.18573</td><td>282.5161</td><td>254.7849</td></tr>\n",
       "\t<tr><td>2024</td><td> 985</td><td>19846</td><td>16784</td><td>2.698630</td><td> 54.37260</td><td> 45.98356</td><td>7300177</td><td>3854914</td><td>13.49282</td><td>271.8564</td><td>229.9122</td></tr>\n",
       "</tbody>\n",
       "</table>\n"
      ],
      "text/latex": [
       "A tibble: 9 × 12\n",
       "\\begin{tabular}{llllllllllll}\n",
       " ano & III\\_delitos & V\\_delitos & alto\\_impacto & promedio\\_diario\\_III & promedio\\_diario\\_V & promedio\\_diario\\_alto\\_impacto & poblacion\\_total & pob\\_mujer & tasa\\_III & tasa\\_V & tasa\\_alto\\_impacto\\\\\n",
       " <dbl> & <dbl> & <dbl> & <dbl> & <dbl> & <dbl> & <dbl> & <dbl> & <dbl> & <dbl> & <dbl> & <dbl>\\\\\n",
       "\\hline\n",
       "\t 2016 & 1026 & 24325 & 17382 & 2.810959 &  66.64384 &  47.62192 & 6909676 & 3667544 & 14.84874 & 352.0426 & 251.5603\\\\\n",
       "\t 2017 & 1217 & 27056 & 20784 & 3.334247 &  74.12603 &  56.94247 & 6991272 & 3705850 & 17.40742 & 386.9968 & 297.2850\\\\\n",
       "\t 2018 & 1541 & 50854 & 43652 & 4.221918 & 139.32603 & 119.59452 & 7074976 & 3745305 & 21.78099 & 718.7869 & 616.9915\\\\\n",
       "\t 2019 & 1518 & 39535 & 34734 & 4.158904 & 108.31507 &  95.16164 & 7157355 & 3784450 & 21.20895 & 552.3689 & 485.2910\\\\\n",
       "\t 2020 & 1258 & 26713 & 22725 & 3.446575 &  73.18630 &  62.26027 & 7197032 & 3805814 & 17.47943 & 371.1669 & 315.7552\\\\\n",
       "\t 2021 & 1038 & 23928 & 22278 & 2.843836 &  65.55616 &  61.03562 & 7198885 & 3810026 & 14.41890 & 332.3848 & 309.4646\\\\\n",
       "\t 2022 &  831 & 22751 & 21474 & 2.276712 &  62.33151 &  58.83288 & 7222176 & 3821291 & 11.50623 & 315.0159 & 297.3342\\\\\n",
       "\t 2023 &  885 & 20518 & 18504 & 2.424658 &  56.21370 &  50.69589 & 7262596 & 3838867 & 12.18573 & 282.5161 & 254.7849\\\\\n",
       "\t 2024 &  985 & 19846 & 16784 & 2.698630 &  54.37260 &  45.98356 & 7300177 & 3854914 & 13.49282 & 271.8564 & 229.9122\\\\\n",
       "\\end{tabular}\n"
      ],
      "text/markdown": [
       "\n",
       "A tibble: 9 × 12\n",
       "\n",
       "| ano &lt;dbl&gt; | III_delitos &lt;dbl&gt; | V_delitos &lt;dbl&gt; | alto_impacto &lt;dbl&gt; | promedio_diario_III &lt;dbl&gt; | promedio_diario_V &lt;dbl&gt; | promedio_diario_alto_impacto &lt;dbl&gt; | poblacion_total &lt;dbl&gt; | pob_mujer &lt;dbl&gt; | tasa_III &lt;dbl&gt; | tasa_V &lt;dbl&gt; | tasa_alto_impacto &lt;dbl&gt; |\n",
       "|---|---|---|---|---|---|---|---|---|---|---|---|\n",
       "| 2016 | 1026 | 24325 | 17382 | 2.810959 |  66.64384 |  47.62192 | 6909676 | 3667544 | 14.84874 | 352.0426 | 251.5603 |\n",
       "| 2017 | 1217 | 27056 | 20784 | 3.334247 |  74.12603 |  56.94247 | 6991272 | 3705850 | 17.40742 | 386.9968 | 297.2850 |\n",
       "| 2018 | 1541 | 50854 | 43652 | 4.221918 | 139.32603 | 119.59452 | 7074976 | 3745305 | 21.78099 | 718.7869 | 616.9915 |\n",
       "| 2019 | 1518 | 39535 | 34734 | 4.158904 | 108.31507 |  95.16164 | 7157355 | 3784450 | 21.20895 | 552.3689 | 485.2910 |\n",
       "| 2020 | 1258 | 26713 | 22725 | 3.446575 |  73.18630 |  62.26027 | 7197032 | 3805814 | 17.47943 | 371.1669 | 315.7552 |\n",
       "| 2021 | 1038 | 23928 | 22278 | 2.843836 |  65.55616 |  61.03562 | 7198885 | 3810026 | 14.41890 | 332.3848 | 309.4646 |\n",
       "| 2022 |  831 | 22751 | 21474 | 2.276712 |  62.33151 |  58.83288 | 7222176 | 3821291 | 11.50623 | 315.0159 | 297.3342 |\n",
       "| 2023 |  885 | 20518 | 18504 | 2.424658 |  56.21370 |  50.69589 | 7262596 | 3838867 | 12.18573 | 282.5161 | 254.7849 |\n",
       "| 2024 |  985 | 19846 | 16784 | 2.698630 |  54.37260 |  45.98356 | 7300177 | 3854914 | 13.49282 | 271.8564 | 229.9122 |\n",
       "\n"
      ],
      "text/plain": [
       "  ano  III_delitos V_delitos alto_impacto promedio_diario_III promedio_diario_V\n",
       "1 2016 1026        24325     17382        2.810959             66.64384        \n",
       "2 2017 1217        27056     20784        3.334247             74.12603        \n",
       "3 2018 1541        50854     43652        4.221918            139.32603        \n",
       "4 2019 1518        39535     34734        4.158904            108.31507        \n",
       "5 2020 1258        26713     22725        3.446575             73.18630        \n",
       "6 2021 1038        23928     22278        2.843836             65.55616        \n",
       "7 2022  831        22751     21474        2.276712             62.33151        \n",
       "8 2023  885        20518     18504        2.424658             56.21370        \n",
       "9 2024  985        19846     16784        2.698630             54.37260        \n",
       "  promedio_diario_alto_impacto poblacion_total pob_mujer tasa_III tasa_V  \n",
       "1  47.62192                    6909676         3667544   14.84874 352.0426\n",
       "2  56.94247                    6991272         3705850   17.40742 386.9968\n",
       "3 119.59452                    7074976         3745305   21.78099 718.7869\n",
       "4  95.16164                    7157355         3784450   21.20895 552.3689\n",
       "5  62.26027                    7197032         3805814   17.47943 371.1669\n",
       "6  61.03562                    7198885         3810026   14.41890 332.3848\n",
       "7  58.83288                    7222176         3821291   11.50623 315.0159\n",
       "8  50.69589                    7262596         3838867   12.18573 282.5161\n",
       "9  45.98356                    7300177         3854914   13.49282 271.8564\n",
       "  tasa_alto_impacto\n",
       "1 251.5603         \n",
       "2 297.2850         \n",
       "3 616.9915         \n",
       "4 485.2910         \n",
       "5 315.7552         \n",
       "6 309.4646         \n",
       "7 297.3342         \n",
       "8 254.7849         \n",
       "9 229.9122         "
      ]
     },
     "metadata": {},
     "output_type": "display_data"
    }
   ],
   "source": [
    "#Calcular delitos anuales\n",
    "delitos_anuales <- carpetas %>%\n",
    "  mutate(fecha_hecho = as.Date(fecha_hecho),\n",
    "         ano = year(fecha_hecho)) %>%\n",
    "#Contabilizar los delitos de III y V delitos por año\n",
    "    group_by(ano) %>%\n",
    "    summarise(III_delitos = sum(III_delitos),\n",
    "                V_delitos = sum(V_delitos),\n",
    "                alto_impacto = sum(alto_impacto),\n",
    "                #perspectiva_genero = sum(perspectiva_genero),\n",
    "                .groups = 'drop')%>%\n",
    "#Calcular promedio diario anual\n",
    "    mutate(promedio_diario_III = III_delitos / 365,\n",
    "           promedio_diario_V = V_delitos / 365,\n",
    "                promedio_diario_alto_impacto = alto_impacto / 365)%>%\n",
    "                    #promedio_diario_perspectiva_genero = perspectiva_genero / 365)%>%\n",
    "#Pegar población\n",
    "    left_join(pob_cdmx, by = 'ano')%>%\n",
    "#Calcular tasa de delitos por cada 100,000 habitantes\n",
    "    mutate(tasa_III = (III_delitos / poblacion_total) * 100000,\n",
    "           tasa_V = (V_delitos / poblacion_total) * 100000,\n",
    "                tasa_alto_impacto = (alto_impacto / poblacion_total) * 100000)\n",
    "                   # tasa_perspectiva_genero = (perspectiva_genero / pob_mujer) * 100000)\n",
    "delitos_anuales"
   ]
  },
  {
   "cell_type": "code",
   "execution_count": 13,
   "id": "ae6fca4bca0b1ac4",
   "metadata": {
    "ExecuteTime": {
     "end_time": "2025-03-11T00:18:03.871314Z",
     "start_time": "2025-03-11T00:18:03.292256Z"
    },
    "vscode": {
     "languageId": "r"
    }
   },
   "outputs": [
    {
     "data": {
      "image/png": "[encoded data removed]",
      "text/plain": [
       "plot without title"
      ]
     },
     "metadata": {
      "image/png": {
       "height": 420,
       "width": 420
      }
     },
     "output_type": "display_data"
    }
   ],
   "source": [
    "#Gráfica de tasa de delitos por cada 100,000 habitantes\n",
    "delitos_anuales %>%\n",
    "    pivot_longer(cols = c(tasa_III, tasa_V, tasa_alto_impacto), #tasa_perspectiva_genero),\n",
    "                 names_to = 'delito',\n",
    "                 values_to = 'tasa') %>%\n",
    "select(ano, delito, tasa) %>%\n",
    "    mutate(delito = recode(delito,\n",
    "                            tasa_III = \"III delitos\",\n",
    "                            tasa_V = \"V delitos\",\n",
    "                            tasa_alto_impacto = \"Alto impacto\"))%>%\n",
    "                           # tasa_perspectiva_genero = \"Perspectiva de género\"))%>%\n",
    "        ggplot(aes(x = factor(ano), y = tasa)) +\n",
    "        geom_col(position = 'dodge',fill='#691c32') +\n",
    "          geom_text(aes(label = round(tasa, 1)),\n",
    "              position = position_dodge(width = 0.9),\n",
    "              vjust = -0.5,\n",
    "              size = 5) +\n",
    "        facet_wrap(~delito, scales = 'free_y', ncol = 3) +\n",
    "        labs(title = 'Tasa de delitos por cada 100,000 habitantes en la Ciudad de México, 2016-2024',\n",
    "             x = 'Año',\n",
    "             y = 'Tasa de delitos por cada 100,000 habitantes',\n",
    "             caption=\"Nota: Para la categoría de III delitos se consideran los delitos de robo a casa habitación con y sin violencia,\n",
    "robo de vehículo con y sin violencia y homicidio doloso.\n",
    "\n",
    "Para la categoría de V delitos se consideran los delitos de homicidio doloso, robo a negocio con violencia,\n",
    "robo a pasajero a bordo de microbús con y sin violencia, robo a pasajero a bordo del metro con y sin violencia,\n",
    "robo a pasajero a bordo de taxi con violencia, robo a transeúnte en vía pública con y sin violencia y robo de vehículo con y sin violencia.\n",
    "\n",
    "Para la categoría de alto impacto se consideran los delitos de robo a transeúnte en vía pública con y sin violencia,\n",
    "homicidio doloso, robo de vehículo con y sin violencia, robo a negocio con violencia, robo a pasajero a bordo del metro con y sin violencia,\n",
    "robo a pasajero a bordo de microbús con y sin violencia, robo a pasajero a bordo de taxi con violencia, violación, robo a repartidor con y sin violencia,\n",
    "lesiones dolosas por disparo de arma de fuego, robo a casa habitación con violencia, robo a cuentahabiente saliendo del cajero con violencia,\n",
    "robo a transportista con y sin violencia y secuestro.\n",
    "\n",
    "\n",
    "Fuente:Elaborado por IPDP CDMX con base en datos abiertos del Gobierno de la Ciudad de México y CONAPO. Proyecciones de población\"\n",
    "                ) +\n",
    "            theme_minimal() +\n",
    "            #scale_fill_manual(values = c(\"III delitos\" = \"#235b4e\", \"V delitos\" = \"#691c32\")) +\n",
    "            theme(axis.text.x = element_text(angle = 90, hjust = 1),\n",
    "                plot.title = element_text(hjust = 0, size = 25, face = \"bold\"),\n",
    "                plot.subtitle = element_text(hjust = 0, size = 20, face = \"italic\"),\n",
    "                plot.caption = element_text(hjust = 0, size = 15),\n",
    "                legend.position = \"none\",\n",
    "                text = element_text(family = \"pop\", size = 20))\n",
    "\n",
    "#Salvar gráfica\n",
    "ggsave('tasa_delitos.png', width = 20, height = 10\n",
    "       , units = 'in',,dpi=100,bg=\"white\")"
   ]
  },
  {
   "cell_type": "code",
   "execution_count": 14,
   "id": "f55946fcf4644962",
   "metadata": {
    "ExecuteTime": {
     "end_time": "2025-03-11T00:18:04.407387Z",
     "start_time": "2025-03-11T00:18:03.888097Z"
    },
    "vscode": {
     "languageId": "r"
    }
   },
   "outputs": [
    {
     "data": {
      "image/png": "[encoded data removed]",
      "text/plain": [
       "plot without title"
      ]
     },
     "metadata": {
      "image/png": {
       "height": 420,
       "width": 420
      }
     },
     "output_type": "display_data"
    }
   ],
   "source": [
    "#Gráfica de tasa de delitos por cada 100,000 habitantes\n",
    "delitos_anuales %>%\n",
    "    pivot_longer(cols = c(promedio_diario_III, promedio_diario_V, promedio_diario_alto_impacto), #promedio_diario_perspectiva_genero),\n",
    "                 names_to = 'delito',\n",
    "                 values_to = 'promedio') %>%\n",
    "select(ano, delito, promedio) %>%\n",
    "    mutate(delito = recode(delito,\n",
    "                            promedio_diario_III = \"III delitos\",\n",
    "                            promedio_diario_V = \"V delitos\",\n",
    "                            promedio_diario_alto_impacto = \"Alto impacto\"))%>%\n",
    "                            #promedio_diario_perspectiva_genero = \"Perspectiva de género\"))%>%\n",
    "        ggplot(aes(x = factor(ano), y = promedio)) +\n",
    "        geom_col(position = 'dodge',fill='#691c32') +\n",
    "          geom_text(aes(label = round(promedio, 1)),\n",
    "              position = position_dodge(width = 0.9),\n",
    "              vjust = -0.5,\n",
    "              size = 5) +\n",
    "        facet_wrap(~delito, scales = 'free_y', ncol = 3) +\n",
    "        labs(title = 'Promedio diario de delitos en la Ciudad de México por año, 2016-2024',\n",
    "             x = 'Año',\n",
    "             y = 'Promedio diario de delitos',\n",
    "             caption=\"Nota: Para la categoría de III delitos se consideran los delitos de robo a casa habitación con y sin violencia,\n",
    "robo de vehículo con y sin violencia y homicidio doloso.\n",
    "\n",
    "Para la categoría de V delitos se consideran los delitos de homicidio doloso, robo a negocio con violencia,\n",
    "robo a pasajero a bordo de microbús con y sin violencia, robo a pasajero a bordo del metro con y sin violencia,\n",
    "robo a pasajero a bordo de taxi con violencia, robo a transeúnte en vía pública con y sin violencia y robo de vehículo con y sin violencia.\n",
    "\n",
    "Para la categoría de alto impacto se consideran los delitos de robo a transeúnte en vía pública con y sin violencia,\n",
    "homicidio doloso, robo de vehículo con y sin violencia, robo a negocio con violencia, robo a pasajero a bordo del metro con y sin violencia,\n",
    "robo a pasajero a bordo de microbús con y sin violencia, robo a pasajero a bordo de taxi con violencia, violación, robo a repartidor con y sin violencia,\n",
    "lesiones dolosas por disparo de arma de fuego, robo a casa habitación con violencia, robo a cuentahabiente saliendo del cajero con violencia,\n",
    "robo a transportista con y sin violencia y secuestro.\n",
    "\n",
    "\n",
    "Fuente:Elaborado por IPDP CDMX con base en datos abiertos del Gobierno de la Ciudad de México\"\n",
    "                ) +\n",
    "            theme_minimal() +\n",
    "            #scale_fill_manual(values = c(\"III delitos\" = \"#235b4e\", \"V delitos\" = \"#691c32\")) +\n",
    "            theme(axis.text.x = element_text(angle = 90, hjust = 1),\n",
    "                plot.title = element_text(hjust = 0, size = 25, face = \"bold\"),\n",
    "                plot.subtitle = element_text(hjust = 0, size = 20, face = \"italic\"),\n",
    "                plot.caption = element_text(hjust = 0, size = 15),\n",
    "                legend.position = \"none\",\n",
    "                text = element_text(family = \"pop\", size = 20))\n",
    "\n",
    "#Salvar gráfica\n",
    "ggsave('promedio_diario_anual.png', width = 20, height = 10\n",
    "       , units = 'in',,dpi=100,bg=\"white\")"
   ]
  },
  {
   "cell_type": "code",
   "execution_count": 15,
   "id": "85d538cff34a3f6f",
   "metadata": {
    "ExecuteTime": {
     "end_time": "2025-03-11T00:19:29.885884Z",
     "start_time": "2025-03-11T00:18:04.416296Z"
    },
    "vscode": {
     "languageId": "r"
    }
   },
   "outputs": [
    {
     "name": "stderr",
     "output_type": "stream",
     "text": [
      "\u001b[1mRows: \u001b[22m\u001b[34m1415763\u001b[39m \u001b[1mColumns: \u001b[22m\u001b[34m22\u001b[39m\n",
      "\u001b[36m──\u001b[39m \u001b[1mColumn specification\u001b[22m \u001b[36m────────────────────────────────────────────────────────\u001b[39m\n",
      "\u001b[1mDelimiter:\u001b[22m \",\"\n",
      "\u001b[31mchr\u001b[39m  (13): mes_inicio, mes_hecho, delito, categoria_delito, sexo, tipo_perso...\n",
      "\u001b[32mdbl\u001b[39m   (5): anio_inicio, anio_hecho, edad, latitud, longitud\n",
      "\u001b[34mdate\u001b[39m  (2): fecha_inicio, fecha_hecho\n",
      "\u001b[34mtime\u001b[39m  (2): hora_inicio, hora_hecho\n",
      "\n",
      "\u001b[36mℹ\u001b[39m Use `spec()` to retrieve the full column specification for this data.\n",
      "\u001b[36mℹ\u001b[39m Specify the column types or set `show_col_types = FALSE` to quiet this message.\n"
     ]
    }
   ],
   "source": [
    "##Víctimas en carpetas de investigación\n",
    "victimas<-read_csv('https://archivo.datos.cdmx.gob.mx/FGJ/victimas/victimasFGJ_acumulado_2024_09.csv')%>%\n",
    "janitor::clean_names()%>%\n",
    "#Filtrar mujeres\n",
    "filter(sexo == 'Femenino',\n",
    "       tipo_persona=='FISICA',\n",
    "       alcaldia_hecho != 'FUERA DE CDMX')%>%\n",
    "#Clasificar delitos con perspectiva de género\n",
    "mutate(\n",
    "    perspectiva_genero = case_when(delito %in% c('ABUSO SEXUAL',\n",
    "                                                 'ACOSO SEXUAL',\n",
    "                                                 'ACOSO SEXUAL AGRAVADO EN CONTRA DE MENORES',\n",
    "                                                 'CONTRA LA INTIMIDAD SEXUAL',\n",
    "                                                 'FEMINICIDIO',\n",
    "                                                 'FEMINICIDIO POR ARMA BLANCA',\n",
    "                                                 'FEMINICIDIO POR DISPARO DE ARMA DE FUEGO',\n",
    "                                                 'FEMINICIDIO POR GOLPES',\n",
    "                                                 'HOMICIDIO POR ARMA BLANCA',\n",
    "                                                 'HOMICIDIO POR ARMA DE FUEGO',\n",
    "                                                 'HOMICIDIO POR GOLPES',\n",
    "                                                 'HOMICIDIOS INTENCIONALES (OTROS)',\n",
    "                                                 'LESIONES INTENCIONALES',\n",
    "                                                 'LESIONES INTENCIONALES POR ARMA BLANCA',\n",
    "                                                 'LESIONES INTENCIONALES POR ARMA DE FUEGO',\n",
    "                                                  'LESIONES INTENCIONALES POR GOLPES',\n",
    "                                                 'PLAGIO O SECUESTRO',\n",
    "                                                 'TRATA DE PERSONAS',\n",
    "                                                 'VIOLACION',\n",
    "                                                 'VIOLACION EQUIPARADA',\n",
    "                                                 'VIOLACION EQUIPARADA POR CONOCIDO',\n",
    "                                                 'VIOLACION TUMULTUARIA',\n",
    "                                                 'VIOLENCIA FAMILIAR') ~ 1,\n",
    "                            TRUE ~ 0))%>%\n",
    "#Dejar solo aquellos que han sido víctimas\n",
    "  filter(calidad_juridica %in% c(\n",
    "    'OFENDIDO',\n",
    "    'VICTIMA Y DENUNCIANTE',\n",
    "    'VICTIMA',\n",
    "    'OFENDIDO Y DENUNCIANTE',\n",
    "    'CADAVER',\n",
    "    'AGRAVIADO',\n",
    "    'LESIONADO',\n",
    "    'DENUNCIANTE Y VICTIMA'\n",
    "  ))%>%\n",
    "#Clasificar por delito general\n",
    "mutate(\n",
    "    delito_general = case_when(delito %in% c('ABUSO SEXUAL') ~ \"ABUSO SEXUAL\",\n",
    "                                delito %in% c('ACOSO SEXUAL', 'ACOSO SEXUAL AGRAVADO EN CONTRA DE MENORES') ~ \"ACOSO SEXUAL\",\n",
    "                                delito %in% c('CONTRA LA INTIMIDAD SEXUAL') ~ \"CONTRA LA INTIMIDAD SEXUAL\",\n",
    "                                delito %in% c('FEMINICIDIO', 'FEMINICIDIO POR ARMA BLANCA', 'FEMINICIDIO POR DISPARO DE ARMA DE FUEGO', 'FEMINICIDIO POR GOLPES') ~ \"FEMINICIDIO\",\n",
    "                                delito %in% c('HOMICIDIO POR ARMA BLANCA', 'HOMICIDIO POR ARMA DE FUEGO', 'HOMICIDIO POR GOLPES', 'HOMICIDIOS INTENCIONALES (OTROS)') ~ \"HOMICIDIO DOLOSO\",\n",
    "                                delito %in% c('LESIONES INTENCIONALES', 'LESIONES INTENCIONALES POR ARMA BLANCA', 'LESIONES INTENCIONALES POR ARMA DE FUEGO', 'LESIONES INTENCIONALES POR GOLPES') ~ \"LESIONES DOLOSAS\",\n",
    "                                delito %in% c('PLAGIO O SECUESTRO') ~ \"SECUESTRO\",\n",
    "                                delito %in% c('TRATA DE PERSONAS') ~ \"TRATA DE PERSONAS\",\n",
    "                                delito %in% c('VIOLACION', 'VIOLACION EQUIPARADA', 'VIOLACION EQUIPARADA POR CONOCIDO', 'VIOLACION TUMULTUARIA') ~ \"VIOLACION\",\n",
    "                                delito %in% c('VIOLENCIA FAMILIAR') ~ \"VIOLENCIA FAMILIAR\",\n",
    "                                TRUE ~ \"OTROS\"\n",
    "    ))\n",
    "\n"
   ]
  },
  {
   "cell_type": "code",
   "execution_count": 16,
   "id": "7a695c4177e096e9",
   "metadata": {
    "ExecuteTime": {
     "end_time": "2025-03-11T00:19:30.635459Z",
     "start_time": "2025-03-11T00:19:29.970046Z"
    },
    "vscode": {
     "languageId": "r"
    }
   },
   "outputs": [],
   "source": [
    "victimas_mensual <- victimas %>%\n",
    "  mutate(fecha_hecho = as.Date(fecha_hecho),\n",
    "         ano = year(fecha_hecho),\n",
    "         mes = month(fecha_hecho)) %>%\n",
    "filter(ano %in% c(2018:2024))%>%\n",
    "#Contabilizar los delitos por año y mes\n",
    "    group_by(ano, mes) %>%\n",
    "    summarise(victimas = sum(perspectiva_genero),\n",
    "                .groups = 'drop') %>%\n",
    "#Obtener promedio diario de delitos\n",
    "    mutate(promedio_diario = victimas / days_in_month(as.Date(paste(ano, mes, '01', sep = '-')))\n",
    "           )"
   ]
  },
  {
   "cell_type": "code",
   "execution_count": 17,
   "id": "1b2bc14761a1d257",
   "metadata": {
    "ExecuteTime": {
     "end_time": "2025-03-11T00:19:31.306114Z",
     "start_time": "2025-03-11T00:19:30.643837Z"
    },
    "vscode": {
     "languageId": "r"
    }
   },
   "outputs": [
    {
     "name": "stderr",
     "output_type": "stream",
     "text": [
      "\u001b[1m\u001b[22m`geom_smooth()` using formula = 'y ~ x'\n",
      "\u001b[1m\u001b[22m`geom_smooth()` using formula = 'y ~ x'\n"
     ]
    },
    {
     "data": {
      "image/png": "[encoded data removed]",
      "text/plain": [
       "plot without title"
      ]
     },
     "metadata": {
      "image/png": {
       "height": 420,
       "width": 420
      }
     },
     "output_type": "display_data"
    }
   ],
   "source": [
    "#Gráfica de promedio diario de víctimas de delitos con perspectiva de género\n",
    "victimas_mensual %>%\n",
    "    ggplot(aes(x = as.Date(paste(ano, mes, '01', sep = '-')), y = promedio_diario, color = '#691c32')) +\n",
    "    geom_line() +\n",
    "    geom_smooth(method = 'loess', se = FALSE, color = '#bc955c') +\n",
    "labs(title = 'Promedio diario mensual de víctimas de delitos con perspectiva de género en la Ciudad de México,\n",
    "2018-2024',\n",
    "         x = 'Fecha',\n",
    "         y = 'Promedio diario de delitos',\n",
    "         caption = \"Nota: Para cuantificar las víctimas de delitos con perspectiva de género se consideran los delitos de\n",
    "homicidio doloso, feminicidio, lesiones dolosas, violencia familiar, violación, abuso sexual, acoso sexual,\n",
    "    secuestro, trata de personas y contra la intimidad sexual.\n",
    "\n",
    "Fuente: Elaborado por IPDP CDMX con base en datos abiertos del Gobierno de la Ciudad de México\") +\n",
    "    theme_minimal() +\n",
    "    scale_x_date(date_labels = '%Y-%m', date_breaks = '12 months') +\n",
    "    scale_y_continuous(labels = scales::comma) +\n",
    "    theme(axis.text.x = element_text(angle = 90, hjust = 1),\n",
    "          plot.title = element_text(hjust = 0, size = 25, face = \"bold\"),\n",
    "          plot.subtitle = element_text(hjust = 0, size = 20, face = \"italic\"),\n",
    "          plot.caption = element_text(hjust = 0, size = 15),\n",
    "          legend.position = \"none\",\n",
    "          text = element_text(family = \"pop\", size = 20))\n",
    "\n",
    "# Salvar gráfica\n",
    "ggsave('victimas_mensual.png', width = 18, height = 10, units = 'in', dpi = 100, bg = \"white\")\n"
   ]
  },
  {
   "cell_type": "code",
   "execution_count": 18,
   "id": "dbc277a9abf35454",
   "metadata": {
    "ExecuteTime": {
     "end_time": "2025-03-11T00:19:31.663646Z",
     "start_time": "2025-03-11T00:19:31.336498Z"
    },
    "vscode": {
     "languageId": "r"
    }
   },
   "outputs": [],
   "source": [
    "victimas_mensual_delitos <- victimas %>%\n",
    "    mutate(fecha_hecho = as.Date(fecha_hecho),\n",
    "             ano = year(fecha_hecho),\n",
    "             mes = month(fecha_hecho)) %>%\n",
    "    filter(ano %in% c(2018:2024),\n",
    "              perspectiva_genero == 1)%>%\n",
    "    group_by(ano, mes, delito_general) %>%\n",
    "    summarise(victimas = sum(perspectiva_genero),\n",
    "                .groups = 'drop') %>%\n",
    "    mutate(promedio_diario = victimas / days_in_month(as.Date(paste(ano, mes, '01', sep = '-'))))\n"
   ]
  },
  {
   "cell_type": "code",
   "execution_count": 19,
   "id": "e4cb71cf2ea65f26",
   "metadata": {
    "ExecuteTime": {
     "end_time": "2025-03-11T00:19:34.017534Z",
     "start_time": "2025-03-11T00:19:31.682845Z"
    },
    "vscode": {
     "languageId": "r"
    }
   },
   "outputs": [
    {
     "name": "stderr",
     "output_type": "stream",
     "text": [
      "\u001b[1m\u001b[22m`geom_smooth()` using formula = 'y ~ x'\n",
      "\u001b[1m\u001b[22m`geom_smooth()` using formula = 'y ~ x'\n"
     ]
    },
    {
     "data": {
      "image/png": "[encoded data removed]",
      "text/plain": [
       "plot without title"
      ]
     },
     "metadata": {
      "image/png": {
       "height": 420,
       "width": 420
      }
     },
     "output_type": "display_data"
    }
   ],
   "source": [
    "#Gráfica de promedio diario de victimas por facet de delitos\n",
    "victimas_mensual_delitos %>%\n",
    "    ggplot(aes(x = as.Date(paste(ano, mes, '01', sep = '-')), y = promedio_diario, color = '#691c32')) +\n",
    "    geom_line() +\n",
    "    geom_smooth(method = 'loess', se = FALSE, color = '#bc955c') +\n",
    "labs(title = 'Promedio diario mensual de víctimas de delitos con perspectiva de género en la Ciudad de México,\n",
    "2018-2024',\n",
    "         x = 'Fecha',\n",
    "         y = 'Promedio diario de delitos',\n",
    "         caption = \"Nota: Para cuantificar las víctimas de delitos con perspectiva de género se consideran los delitos de\n",
    "homicidio doloso, feminicidio, lesiones dolosas, violencia familiar, violación, abuso sexual, acoso sexual,\n",
    "    secuestro, trata de personas y contra la intimidad sexual.\n",
    "\n",
    "Fuente: Elaborado por IPDP CDMX con base en datos abiertos del Gobierno de la Ciudad de México\") +\n",
    "    theme_minimal() +\n",
    "    scale_x_date(date_labels = '%Y-%m', date_breaks = '12 months') +\n",
    "    scale_y_continuous(labels = scales::comma) +\n",
    "    theme(axis.text.x = element_text(angle = 90, hjust = 1),\n",
    "          plot.title = element_text(hjust = 0, size = 25, face = \"bold\"),\n",
    "          plot.subtitle = element_text(hjust = 0, size = 20, face = \"italic\"),\n",
    "          plot.caption = element_text(hjust = 0, size = 15),\n",
    "          legend.position = \"none\",\n",
    "          text = element_text(family = \"pop\", size = 20)) +\n",
    "    facet_wrap(~delito_general, scales = 'free_y', ncol = 3)\n",
    "\n",
    "\n",
    "# Salvar gráfica\n",
    "ggsave('victimas_mensual_delitos.png', width = 18, height = 10, units = 'in', dpi = 100, bg = \"white\")\n"
   ]
  },
  {
   "cell_type": "code",
   "execution_count": 20,
   "id": "cbd882a228f6f956",
   "metadata": {
    "ExecuteTime": {
     "end_time": "2025-03-11T00:19:34.342765Z",
     "start_time": "2025-03-11T00:19:34.046905Z"
    },
    "vscode": {
     "languageId": "r"
    }
   },
   "outputs": [
    {
     "data": {
      "text/html": [
       "<table class=\"dataframe\">\n",
       "<caption>A tibble: 7 × 3</caption>\n",
       "<thead>\n",
       "\t<tr><th scope=col>ano</th><th scope=col>victimas</th><th scope=col>promedio_diario</th></tr>\n",
       "\t<tr><th scope=col>&lt;dbl&gt;</th><th scope=col>&lt;dbl&gt;</th><th scope=col>&lt;dbl&gt;</th></tr>\n",
       "</thead>\n",
       "<tbody>\n",
       "\t<tr><td>2018</td><td> 1467</td><td>  4.019178</td></tr>\n",
       "\t<tr><td>2019</td><td>28684</td><td> 78.586301</td></tr>\n",
       "\t<tr><td>2020</td><td>26861</td><td> 73.591781</td></tr>\n",
       "\t<tr><td>2021</td><td>36598</td><td>100.268493</td></tr>\n",
       "\t<tr><td>2022</td><td>39805</td><td>109.054795</td></tr>\n",
       "\t<tr><td>2023</td><td>39750</td><td>108.904110</td></tr>\n",
       "\t<tr><td>2024</td><td>27499</td><td> 75.339726</td></tr>\n",
       "</tbody>\n",
       "</table>\n"
      ],
      "text/latex": [
       "A tibble: 7 × 3\n",
       "\\begin{tabular}{lll}\n",
       " ano & victimas & promedio\\_diario\\\\\n",
       " <dbl> & <dbl> & <dbl>\\\\\n",
       "\\hline\n",
       "\t 2018 &  1467 &   4.019178\\\\\n",
       "\t 2019 & 28684 &  78.586301\\\\\n",
       "\t 2020 & 26861 &  73.591781\\\\\n",
       "\t 2021 & 36598 & 100.268493\\\\\n",
       "\t 2022 & 39805 & 109.054795\\\\\n",
       "\t 2023 & 39750 & 108.904110\\\\\n",
       "\t 2024 & 27499 &  75.339726\\\\\n",
       "\\end{tabular}\n"
      ],
      "text/markdown": [
       "\n",
       "A tibble: 7 × 3\n",
       "\n",
       "| ano &lt;dbl&gt; | victimas &lt;dbl&gt; | promedio_diario &lt;dbl&gt; |\n",
       "|---|---|---|\n",
       "| 2018 |  1467 |   4.019178 |\n",
       "| 2019 | 28684 |  78.586301 |\n",
       "| 2020 | 26861 |  73.591781 |\n",
       "| 2021 | 36598 | 100.268493 |\n",
       "| 2022 | 39805 | 109.054795 |\n",
       "| 2023 | 39750 | 108.904110 |\n",
       "| 2024 | 27499 |  75.339726 |\n",
       "\n"
      ],
      "text/plain": [
       "  ano  victimas promedio_diario\n",
       "1 2018  1467      4.019178     \n",
       "2 2019 28684     78.586301     \n",
       "3 2020 26861     73.591781     \n",
       "4 2021 36598    100.268493     \n",
       "5 2022 39805    109.054795     \n",
       "6 2023 39750    108.904110     \n",
       "7 2024 27499     75.339726     "
      ]
     },
     "metadata": {},
     "output_type": "display_data"
    }
   ],
   "source": [
    "#Calcular victimas anuales\n",
    "victimas_anuales <- victimas %>%\n",
    "  mutate(fecha_hecho = as.Date(fecha_hecho),\n",
    "         ano = year(fecha_hecho)) %>%\n",
    "filter(ano %in% c(2018:2024))%>%\n",
    "#Contabilizar los delitos de III y V delitos por año\n",
    "    group_by(ano) %>%\n",
    "    summarise(victimas = sum(perspectiva_genero),\n",
    "                .groups = 'drop')%>%\n",
    "#Calcular promedio diario anual\n",
    "    mutate(promedio_diario = victimas / 365)\n",
    "#Calcular tasa de crecimiento de 2021 a 20\n",
    "\n",
    "victimas_anuales"
   ]
  },
  {
   "cell_type": "code",
   "execution_count": 21,
   "id": "fc578e03eb633971",
   "metadata": {
    "ExecuteTime": {
     "end_time": "2025-03-11T00:19:34.638109Z",
     "start_time": "2025-03-11T00:19:34.448725Z"
    },
    "vscode": {
     "languageId": "r"
    }
   },
   "outputs": [
    {
     "data": {
      "text/html": [
       "<table class=\"dataframe\">\n",
       "<caption>A tabyl: 11 × 4</caption>\n",
       "<thead>\n",
       "\t<tr><th scope=col>ano</th><th scope=col>delito_general</th><th scope=col>victimas</th><th scope=col>porcentaje</th></tr>\n",
       "\t<tr><th scope=col>&lt;chr&gt;</th><th scope=col>&lt;chr&gt;</th><th scope=col>&lt;dbl&gt;</th><th scope=col>&lt;dbl&gt;</th></tr>\n",
       "</thead>\n",
       "<tbody>\n",
       "\t<tr><td>2023 </td><td>VIOLENCIA FAMILIAR        </td><td>29056</td><td> 73.1</td></tr>\n",
       "\t<tr><td>2023 </td><td>ABUSO SEXUAL              </td><td> 3904</td><td>  9.8</td></tr>\n",
       "\t<tr><td>2023 </td><td>VIOLACION                 </td><td> 1942</td><td>  4.9</td></tr>\n",
       "\t<tr><td>2023 </td><td>ACOSO SEXUAL              </td><td> 1608</td><td>  4.0</td></tr>\n",
       "\t<tr><td>2023 </td><td>CONTRA LA INTIMIDAD SEXUAL</td><td> 1503</td><td>  3.8</td></tr>\n",
       "\t<tr><td>2023 </td><td>LESIONES DOLOSAS          </td><td> 1495</td><td>  3.8</td></tr>\n",
       "\t<tr><td>2023 </td><td>HOMICIDIO DOLOSO          </td><td>  114</td><td>  0.3</td></tr>\n",
       "\t<tr><td>2023 </td><td>FEMINICIDIO               </td><td>   63</td><td>  0.2</td></tr>\n",
       "\t<tr><td>2023 </td><td>TRATA DE PERSONAS         </td><td>   41</td><td>  0.1</td></tr>\n",
       "\t<tr><td>2023 </td><td>SECUESTRO                 </td><td>   24</td><td>  0.1</td></tr>\n",
       "\t<tr><td>Total</td><td>-                         </td><td>39750</td><td>100.1</td></tr>\n",
       "</tbody>\n",
       "</table>\n"
      ],
      "text/latex": [
       "A tabyl: 11 × 4\n",
       "\\begin{tabular}{llll}\n",
       " ano & delito\\_general & victimas & porcentaje\\\\\n",
       " <chr> & <chr> & <dbl> & <dbl>\\\\\n",
       "\\hline\n",
       "\t 2023  & VIOLENCIA FAMILIAR         & 29056 &  73.1\\\\\n",
       "\t 2023  & ABUSO SEXUAL               &  3904 &   9.8\\\\\n",
       "\t 2023  & VIOLACION                  &  1942 &   4.9\\\\\n",
       "\t 2023  & ACOSO SEXUAL               &  1608 &   4.0\\\\\n",
       "\t 2023  & CONTRA LA INTIMIDAD SEXUAL &  1503 &   3.8\\\\\n",
       "\t 2023  & LESIONES DOLOSAS           &  1495 &   3.8\\\\\n",
       "\t 2023  & HOMICIDIO DOLOSO           &   114 &   0.3\\\\\n",
       "\t 2023  & FEMINICIDIO                &    63 &   0.2\\\\\n",
       "\t 2023  & TRATA DE PERSONAS          &    41 &   0.1\\\\\n",
       "\t 2023  & SECUESTRO                  &    24 &   0.1\\\\\n",
       "\t Total & -                          & 39750 & 100.1\\\\\n",
       "\\end{tabular}\n"
      ],
      "text/markdown": [
       "\n",
       "A tabyl: 11 × 4\n",
       "\n",
       "| ano &lt;chr&gt; | delito_general &lt;chr&gt; | victimas &lt;dbl&gt; | porcentaje &lt;dbl&gt; |\n",
       "|---|---|---|---|\n",
       "| 2023  | VIOLENCIA FAMILIAR         | 29056 |  73.1 |\n",
       "| 2023  | ABUSO SEXUAL               |  3904 |   9.8 |\n",
       "| 2023  | VIOLACION                  |  1942 |   4.9 |\n",
       "| 2023  | ACOSO SEXUAL               |  1608 |   4.0 |\n",
       "| 2023  | CONTRA LA INTIMIDAD SEXUAL |  1503 |   3.8 |\n",
       "| 2023  | LESIONES DOLOSAS           |  1495 |   3.8 |\n",
       "| 2023  | HOMICIDIO DOLOSO           |   114 |   0.3 |\n",
       "| 2023  | FEMINICIDIO                |    63 |   0.2 |\n",
       "| 2023  | TRATA DE PERSONAS          |    41 |   0.1 |\n",
       "| 2023  | SECUESTRO                  |    24 |   0.1 |\n",
       "| Total | -                          | 39750 | 100.1 |\n",
       "\n"
      ],
      "text/plain": [
       "   ano   delito_general             victimas porcentaje\n",
       "1  2023  VIOLENCIA FAMILIAR         29056     73.1     \n",
       "2  2023  ABUSO SEXUAL                3904      9.8     \n",
       "3  2023  VIOLACION                   1942      4.9     \n",
       "4  2023  ACOSO SEXUAL                1608      4.0     \n",
       "5  2023  CONTRA LA INTIMIDAD SEXUAL  1503      3.8     \n",
       "6  2023  LESIONES DOLOSAS            1495      3.8     \n",
       "7  2023  HOMICIDIO DOLOSO             114      0.3     \n",
       "8  2023  FEMINICIDIO                   63      0.2     \n",
       "9  2023  TRATA DE PERSONAS             41      0.1     \n",
       "10 2023  SECUESTRO                     24      0.1     \n",
       "11 Total -                          39750    100.1     "
      ]
     },
     "metadata": {},
     "output_type": "display_data"
    }
   ],
   "source": [
    "#Victimas 2023 por tipo de delito\n",
    "victimas_anuales_delitos <- victimas %>%\n",
    "    mutate(fecha_hecho = as.Date(fecha_hecho),\n",
    "             ano = year(fecha_hecho)) %>%\n",
    "    filter(ano %in% c(2023),\n",
    "              perspectiva_genero == 1)%>%\n",
    "    group_by(ano, delito_general) %>%\n",
    "    summarise(victimas = sum(perspectiva_genero),\n",
    "                .groups = 'drop') %>%\n",
    "    #Porcentaje del total\n",
    "    mutate(porcentaje =round((victimas/sum(victimas))*100,1))%>%\n",
    "#Ordenar\n",
    "    arrange(desc(victimas))%>%\n",
    "janitor::adorn_totals(where = c(\"row\"))\n",
    "victimas_anuales_delitos"
   ]
  },
  {
   "cell_type": "markdown",
   "id": "c8fe439e0f14e2d5",
   "metadata": {},
   "source": [
    "#### Indicadores fiscalía"
   ]
  },
  {
   "cell_type": "code",
   "execution_count": 22,
   "id": "938892ba69acd92f",
   "metadata": {
    "ExecuteTime": {
     "end_time": "2025-03-10T03:05:09.481868Z",
     "start_time": "2025-03-10T03:05:09.443037Z"
    },
    "vscode": {
     "languageId": "r"
    }
   },
   "outputs": [],
   "source": [
    "url_encig_basica<-\"https://www.inegi.org.mx/contenidos/programas/encig/\"\n",
    "segunda_parte<-\"microdatos/encig\""
   ]
  },
  {
   "cell_type": "code",
   "execution_count": 23,
   "id": "28bc25064f6f4dcc",
   "metadata": {
    "ExecuteTime": {
     "end_time": "2025-03-10T03:05:10.134918Z",
     "start_time": "2025-03-10T03:05:10.117149Z"
    },
    "vscode": {
     "languageId": "r"
    }
   },
   "outputs": [],
   "source": [
    "years_encig<-c(\"2017\",\"2019\",\"2021\", \"2023\")"
   ]
  },
  {
   "cell_type": "code",
   "execution_count": 24,
   "id": "942562b0ab4ab367",
   "metadata": {
    "ExecuteTime": {
     "end_time": "2025-03-10T03:48:48.014911Z",
     "start_time": "2025-03-10T03:46:05.632776Z"
    },
    "vscode": {
     "languageId": "r"
    }
   },
   "outputs": [
    {
     "name": "stdout",
     "output_type": "stream",
     "text": [
      "[1] \"https://www.inegi.org.mx/contenidos/programas/encig/2017/microdatos/encig17_base_datos_dbf.zip\"\n",
      "[1] \"https://www.inegi.org.mx/contenidos/programas/encig/2019/microdatos/encig19_base_datos_dbf.zip\"\n",
      "[1] \"https://www.inegi.org.mx/contenidos/programas/encig/2021/microdatos/encig21_base_datos_csv.zip\"\n",
      "[1] \"https://www.inegi.org.mx/contenidos/programas/encig/2023/microdatos/encig23_base_datos_csv.zip\"\n"
     ]
    }
   ],
   "source": [
    "options(timeout = 30000)\n",
    "\n",
    "# Descargar los archivos, descomprimirlos y renombrarlos\n",
    "for (i in 1:length(years_encig)) {\n",
    "  # Ajustar el sufijo de la URL y archivo según el año\n",
    "  if (years_encig[i] %in% c(\"2017\", \"2019\")) {\n",
    "    fin <- \"_base_datos_dbf.zip\"\n",
    "  } else {\n",
    "    fin <- \"_base_datos_csv.zip\"\n",
    "  }\n",
    "\n",
    "  # Construir la URL y el nombre del archivo destino\n",
    "  url <- paste0(url_encig_basica, years_encig[i], \"/\", segunda_parte, str_sub(years_encig[i], 3, 4), fin)\n",
    "  print(url)\n",
    "  destfile <- paste0(\"data/encig\", str_sub(years_encig[i], 3, 4), fin)\n",
    "\n",
    "  # Descargar el archivo\n",
    "  download.file(url, destfile = destfile)\n",
    "\n",
    "  # Descomprimir el archivo\n",
    "  unzip(destfile, exdir = \"data\")\n",
    "}"
   ]
  },
  {
   "cell_type": "code",
   "execution_count": 25,
   "id": "aed542a092bd3ee0",
   "metadata": {
    "ExecuteTime": {
     "end_time": "2025-03-10T03:49:25.462496Z",
     "start_time": "2025-03-10T03:49:25.435220Z"
    },
    "vscode": {
     "languageId": "r"
    }
   },
   "outputs": [],
   "source": [
    "# Funcion de estimación\n",
    "process_files <- function(years, variable) {\n",
    "  # Función anidada para estimar el indicador`\n",
    "  estima_indicador <- function(path, variable) {\n",
    "    # Extraer el año del archivo\n",
    "    year <- substr(path, 11, 14)\n",
    "\n",
    "    # Leer los datos y hacer las transformaciones necesarias de las variables\n",
    "    if (year %in% c(\"2017\", \"2019\")) {\n",
    "      datos <- foreign::read.dbf(path) %>%\n",
    "        janitor::clean_names() %>%\n",
    "mutate(p11_1_22 = as.numeric(p11_1_22),\n",
    "      fac_p18 = as.numeric(fac_p18),\n",
    "        upm = as.numeric(upm),\n",
    "        est_dis = as.numeric(est_dis)) %>%\n",
    "#Filtrar Ciudad de México\n",
    "        filter(ent == \"09\")\n",
    "    } else if (year %in% c(\"2021\", \"2023\")) {\n",
    "      datos <- read_csv(path,show_col_types=FALSE) %>%\n",
    "        janitor::clean_names() %>%\n",
    "#Filtrar Ciudad de México\n",
    "        filter(nom_ent == \"CIUDAD DE MEXICO\")\n",
    "    } else {\n",
    "      stop(\"Año no soportado.\")\n",
    "    }\n",
    "\n",
    "    # Diseño muestral\n",
    "    dm <- datos %>%\n",
    "      as_survey_design(ids = upm, strata = est_dis, weights = fac_p18)\n",
    "\n",
    "    # Calidad del agua\n",
    "    if (variable == \"confianza_fiscalia\") {\n",
    "      confianza_f <- dm %>%\n",
    "mutate(confianza=case_when((p11_1_22==1 | p11_1_22==2) ~ \"Confiable\",\n",
    "    TRUE ~ \"No confiable\"))%>%\n",
    "        group_by(confianza) %>%\n",
    "        summarise(\n",
    "          personas = survey_total(vartype = \"cv\"),\n",
    "          porcentaje = survey_prop(vartype = \"cv\")\n",
    "        ) %>%\n",
    "ungroup()%>%\n",
    "        mutate(porcentaje = round(porcentaje * 100, 2),\n",
    "              year = year)%>%\n",
    "filter(confianza==\"Confiable\")\n",
    "      return(confianza_f)\n",
    "\n",
    "\n",
    "\n",
    "##Atención de fugas de agua\n",
    "\n",
    "    }  else {\n",
    "      stop(\"Variable no reconocida.\")\n",
    "    }\n",
    "  }\n",
    "\n",
    "  map_dfr(years, function(year) {\n",
    "    # File path de los archivos\n",
    "    file_path <- if (year %in% c(2017, 2019)) {\n",
    "      paste0(\"data/encig\", year, \"_01_sec_11.dbf\")\n",
    "    } else if (year %in% c(2021, 2023)) {\n",
    "      paste0(\"data/encig\", year, \"_01_sec_11.csv\")\n",
    "    } else {\n",
    "      stop(\"Año no soportado.\")\n",
    "    }\n",
    "\n",
    "    # Print del archivo que se está procesando\n",
    "    print(paste(\"Procesando archivo:\", file_path))\n",
    "\n",
    "    # Invocar la función de estimación\n",
    "    estima_indicador(file_path, variable)\n",
    "  })\n",
    "}"
   ]
  },
  {
   "cell_type": "code",
   "execution_count": 26,
   "id": "8a060efa4903b06c",
   "metadata": {
    "ExecuteTime": {
     "end_time": "2025-03-10T03:49:35.237966Z",
     "start_time": "2025-03-10T03:49:32.650717Z"
    },
    "vscode": {
     "languageId": "r"
    }
   },
   "outputs": [
    {
     "name": "stdout",
     "output_type": "stream",
     "text": [
      "[1] \"Procesando archivo: data/encig2017_01_sec_11.dbf\"\n",
      "[1] \"Procesando archivo: data/encig2019_01_sec_11.dbf\"\n",
      "[1] \"Procesando archivo: data/encig2021_01_sec_11.csv\"\n"
     ]
    },
    {
     "name": "stderr",
     "output_type": "stream",
     "text": [
      "\u001b[1m\u001b[22mNew names:\n",
      "\u001b[36m•\u001b[39m `` -> `...1`\n"
     ]
    },
    {
     "name": "stdout",
     "output_type": "stream",
     "text": [
      "[1] \"Procesando archivo: data/encig2023_01_sec_11.csv\"\n"
     ]
    },
    {
     "name": "stderr",
     "output_type": "stream",
     "text": [
      "\u001b[1m\u001b[22mNew names:\n",
      "\u001b[36m•\u001b[39m `` -> `...1`\n"
     ]
    },
    {
     "name": "stdout",
     "output_type": "stream",
     "text": [
      "[1] \"Porcentaje de personas de 18 años y más que consideran que la fiscalía es confiable\"\n"
     ]
    },
    {
     "data": {
      "text/html": [
       "<table class=\"dataframe\">\n",
       "<caption>A tibble: 4 × 6</caption>\n",
       "<thead>\n",
       "\t<tr><th scope=col>confianza</th><th scope=col>personas</th><th scope=col>personas_cv</th><th scope=col>porcentaje</th><th scope=col>porcentaje_cv</th><th scope=col>year</th></tr>\n",
       "\t<tr><th scope=col>&lt;chr&gt;</th><th scope=col>&lt;dbl&gt;</th><th scope=col>&lt;dbl&gt;</th><th scope=col>&lt;dbl&gt;</th><th scope=col>&lt;dbl&gt;</th><th scope=col>&lt;chr&gt;</th></tr>\n",
       "</thead>\n",
       "<tbody>\n",
       "\t<tr><td>Confiable</td><td>2076561</td><td>0.03882763</td><td>23.69</td><td>0.03549689</td><td>2017</td></tr>\n",
       "\t<tr><td>Confiable</td><td>1255864</td><td>0.03775588</td><td>18.10</td><td>0.03586557</td><td>2019</td></tr>\n",
       "\t<tr><td>Confiable</td><td>1719723</td><td>0.03439213</td><td>24.72</td><td>0.03185763</td><td>2021</td></tr>\n",
       "\t<tr><td>Confiable</td><td>1992254</td><td>0.03049117</td><td>26.30</td><td>0.02866321</td><td>2023</td></tr>\n",
       "</tbody>\n",
       "</table>\n"
      ],
      "text/latex": [
       "A tibble: 4 × 6\n",
       "\\begin{tabular}{llllll}\n",
       " confianza & personas & personas\\_cv & porcentaje & porcentaje\\_cv & year\\\\\n",
       " <chr> & <dbl> & <dbl> & <dbl> & <dbl> & <chr>\\\\\n",
       "\\hline\n",
       "\t Confiable & 2076561 & 0.03882763 & 23.69 & 0.03549689 & 2017\\\\\n",
       "\t Confiable & 1255864 & 0.03775588 & 18.10 & 0.03586557 & 2019\\\\\n",
       "\t Confiable & 1719723 & 0.03439213 & 24.72 & 0.03185763 & 2021\\\\\n",
       "\t Confiable & 1992254 & 0.03049117 & 26.30 & 0.02866321 & 2023\\\\\n",
       "\\end{tabular}\n"
      ],
      "text/markdown": [
       "\n",
       "A tibble: 4 × 6\n",
       "\n",
       "| confianza &lt;chr&gt; | personas &lt;dbl&gt; | personas_cv &lt;dbl&gt; | porcentaje &lt;dbl&gt; | porcentaje_cv &lt;dbl&gt; | year &lt;chr&gt; |\n",
       "|---|---|---|---|---|---|\n",
       "| Confiable | 2076561 | 0.03882763 | 23.69 | 0.03549689 | 2017 |\n",
       "| Confiable | 1255864 | 0.03775588 | 18.10 | 0.03586557 | 2019 |\n",
       "| Confiable | 1719723 | 0.03439213 | 24.72 | 0.03185763 | 2021 |\n",
       "| Confiable | 1992254 | 0.03049117 | 26.30 | 0.02866321 | 2023 |\n",
       "\n"
      ],
      "text/plain": [
       "  confianza personas personas_cv porcentaje porcentaje_cv year\n",
       "1 Confiable 2076561  0.03882763  23.69      0.03549689    2017\n",
       "2 Confiable 1255864  0.03775588  18.10      0.03586557    2019\n",
       "3 Confiable 1719723  0.03439213  24.72      0.03185763    2021\n",
       "4 Confiable 1992254  0.03049117  26.30      0.02866321    2023"
      ]
     },
     "metadata": {},
     "output_type": "display_data"
    }
   ],
   "source": [
    "tabla_confianza<-process_files(c(2017,2019,2021,2023), variable = \"confianza_fiscalia\")\n",
    "print(\"Porcentaje de personas de 18 años y más que consideran que la fiscalía es confiable\")\n",
    "tabla_confianza"
   ]
  },
  {
   "cell_type": "code",
   "execution_count": 27,
   "id": "95ddefa993f2b1a5",
   "metadata": {
    "ExecuteTime": {
     "end_time": "2025-03-10T04:04:28.753679Z",
     "start_time": "2025-03-10T04:04:28.740256Z"
    },
    "vscode": {
     "languageId": "r"
    }
   },
   "outputs": [],
   "source": [
    "dir.create('data/envipe', showWarnings = FALSE)\n",
    "url_1 <- 'https://www.inegi.org.mx/contenidos/programas/envipe/'\n",
    "url_2 <- '/microdatos/bd_envipe_'\n",
    "years <- c(2020:2024)\n",
    "data_list <- list()"
   ]
  },
  {
   "cell_type": "code",
   "execution_count": 28,
   "id": "c51a9d94c562a225",
   "metadata": {
    "ExecuteTime": {
     "end_time": "2025-03-10T04:07:06.128010Z",
     "start_time": "2025-03-10T04:04:29.837624Z"
    },
    "vscode": {
     "languageId": "r"
    }
   },
   "outputs": [
    {
     "name": "stdout",
     "output_type": "stream",
     "text": [
      "[1] \"Archivos descomprimidos para el año 2020\"\n",
      "[1] \"Archivo eliminado: data/envipe/2020_dbf.zip\"\n",
      "[1] \"Archivos descomprimidos para el año 2021\"\n",
      "[1] \"Archivo eliminado: data/envipe/2021_dbf.zip\"\n",
      "[1] \"Archivos descomprimidos para el año 2022\"\n",
      "[1] \"Archivo eliminado: data/envipe/2022_dbf.zip\"\n",
      "[1] \"Archivos descomprimidos para el año 2023\"\n",
      "[1] \"Archivo eliminado: data/envipe/2023_dbf.zip\"\n",
      "[1] \"Archivos descomprimidos para el año 2024\"\n",
      "[1] \"Archivo eliminado: data/envipe/2024_csv.zip\"\n"
     ]
    }
   ],
   "source": [
    "# Ciclo 1: Descarga y descompresión\n",
    "for (i in 1:length(years)) {\n",
    "    if (years[i] %in% c(2024)) {\n",
    "        fin <- '_csv.zip'\n",
    "    } else {\n",
    "        fin <- '_dbf.zip'\n",
    "    }\n",
    "\n",
    "    url <- paste0(url_1, years[i], url_2, years[i], fin)\n",
    "    destfile <- paste0('data/envipe/', years[i], fin)\n",
    "    folder <- paste0('data/envipe/', years[i])\n",
    "\n",
    "    dir.create(folder, showWarnings = FALSE)\n",
    "\n",
    "    tryCatch(\n",
    "        {\n",
    "            options(timeout = 9999999)\n",
    "            download.file(url, destfile, mode = 'wb')\n",
    "        },\n",
    "        error = function(e) {\n",
    "            message('Error en la descarga: ', e)\n",
    "        }\n",
    "    )\n",
    "\n",
    "    unzip_result <- tryCatch(\n",
    "        {\n",
    "            unzip(destfile, exdir = folder)\n",
    "            TRUE\n",
    "        },\n",
    "        error = function(e) {\n",
    "            message('Error en la descompresión: ', e)\n",
    "            FALSE\n",
    "        }\n",
    "    )\n",
    "\n",
    "    if (unzip_result) {\n",
    "        print(paste('Archivos descomprimidos para el año', years[i]))\n",
    "\n",
    "        # Eliminar el archivo ZIP después de la descompresión\n",
    "        tryCatch(\n",
    "            {\n",
    "                file.remove(destfile)\n",
    "                print(paste('Archivo eliminado:', destfile))\n",
    "            },\n",
    "            error = function(e) {\n",
    "                message('Error al eliminar el archivo:', e)\n",
    "            }\n",
    "        )\n",
    "    }\n",
    "}\n"
   ]
  },
  {
   "cell_type": "code",
   "execution_count": 29,
   "id": "82a264e737b32185",
   "metadata": {
    "ExecuteTime": {
     "end_time": "2025-03-11T00:31:00.509217Z",
     "start_time": "2025-03-11T00:31:00.498434Z"
    },
    "vscode": {
     "languageId": "r"
    }
   },
   "outputs": [],
   "source": [
    "estima_inseguridad <- function(year, variable) {\n",
    "\n",
    "# Definir rutas\n",
    "if  (year %in% c(2020:2021)) {\n",
    "    ruta_base <- paste0('data/envipe/',year,'/bd_envipe_', year, '_dbf/')\n",
    "}else {\n",
    "    ruta_base <- paste0('data/envipe/', year, '/')\n",
    "}\n",
    "\n",
    "\n",
    "#Leer datos\n",
    "if (year %in% c(2020:2023)) {\n",
    "    seguridad <- read.dbf(paste0(ruta_base, 'TPer_Vic1.dbf'))\n",
    "\n",
    "} else {\n",
    "    seguridad <- read_csv(paste0(ruta_base, 'TPer_Vic1.csv'))\n",
    "}\n",
    "\n",
    "seguridad<-seguridad%>%\n",
    "    janitor::clean_names()%>%\n",
    "    mutate(fac_ele=as.numeric(fac_ele), sexo=as.numeric(sexo))\n",
    "\n",
    "#Crear diseño muestral\n",
    "dm<-seguridad%>%\n",
    "    as_survey_design(\n",
    "    weights = fac_ele,\n",
    "    ids = upm_dis,\n",
    "    strata = est_dis,\n",
    "    nest = TRUE\n",
    "    )\n",
    "\n",
    "\n",
    "  #Estimar percepción de inseguridad de mujeres en la Ciudad de México\n",
    "    confianza_fgj<-dm %>%\n",
    "    filter(cve_ent == \"09\") %>%\n",
    "filter(ap5_3_06==1)%>%\n",
    "  mutate(confianza=case_when(\n",
    "    ap5_4_06 %in% c(1,2) ~ \"Confiable\",\n",
    "    TRUE ~ \"No confiable\")) %>%\n",
    "  group_by(confianza) %>%\n",
    "  summarise(\n",
    "    pob = survey_total(vartype = \"cv\"),\n",
    "    porcentaje = survey_prop(vartype = \"cv\")\n",
    "  ) %>% mutate(porcentaje = porcentaje * 100)%>%\n",
    "  filter(confianza== \"Confiable\")%>%\n",
    "    mutate(year = year)\n",
    "\n",
    "\n",
    "  #Estimar percepción de inseguridad de mujeres en la Ciudad de México\n",
    "    confianza_policia<-dm %>%\n",
    "    filter(cve_ent == \"09\") %>%\n",
    "filter(ap5_3_03==1)%>%\n",
    "  mutate(confianza=case_when(\n",
    "    ap5_4_03 %in% c(1,2) ~ \"Confiable\",\n",
    "    TRUE ~ \"No confiable\")) %>%\n",
    "  group_by(confianza) %>%\n",
    "  summarise(\n",
    "    pob = survey_total(vartype = \"cv\"),\n",
    "    porcentaje = survey_prop(vartype = \"cv\")\n",
    "  ) %>% mutate(porcentaje = porcentaje * 100)%>%\n",
    "  filter(confianza== \"Confiable\")%>%\n",
    "    mutate(year = year)\n",
    "\n",
    "\n",
    "\n",
    "  # Devolver el resultado basado en la variable\n",
    "  if (variable == \"confianza_fgj\") {\n",
    "    return(confianza_fgj)\n",
    "\n",
    "  } else if (variable == \"confianza_policia\") {\n",
    "    return(confianza_policia)\n",
    "  }\n",
    "\n",
    "else {\n",
    "    stop(\"Variable no reconocida.\")\n",
    "  }\n",
    "\n",
    "}"
   ]
  },
  {
   "cell_type": "code",
   "execution_count": 30,
   "id": "3f6e6e7907018241",
   "metadata": {
    "ExecuteTime": {
     "end_time": "2025-03-11T00:31:19.612719Z",
     "start_time": "2025-03-11T00:31:04.481070Z"
    },
    "vscode": {
     "languageId": "r"
    }
   },
   "outputs": [
    {
     "name": "stdout",
     "output_type": "stream",
     "text": [
      "[1] \"Porcentaje de personas de 18 años y más que consideran que la fiscalía es confiable\"\n"
     ]
    },
    {
     "name": "stderr",
     "output_type": "stream",
     "text": [
      "\u001b[1m\u001b[22mNew names:\n",
      "\u001b[36m•\u001b[39m `` -> `...1`\n",
      "\u001b[1mRows: \u001b[22m\u001b[34m89630\u001b[39m \u001b[1mColumns: \u001b[22m\u001b[34m232\u001b[39m\n",
      "\u001b[36m──\u001b[39m \u001b[1mColumn specification\u001b[22m \u001b[36m────────────────────────────────────────────────────────\u001b[39m\n",
      "\u001b[1mDelimiter:\u001b[22m \",\"\n",
      "\u001b[31mchr\u001b[39m  (21): ID_VIV, ID_HOG, ID_PER, UPM, VIV_SEL, HOGAR, RESUL_H, R_SEL, AREA...\n",
      "\u001b[32mdbl\u001b[39m (211): ...1, SEXO, EDAD, AP4_1, AP4_2_01, AP4_2_02, AP4_2_03, AP4_2_04, ...\n",
      "\n",
      "\u001b[36mℹ\u001b[39m Use `spec()` to retrieve the full column specification for this data.\n",
      "\u001b[36mℹ\u001b[39m Specify the column types or set `show_col_types = FALSE` to quiet this message.\n"
     ]
    },
    {
     "data": {
      "text/html": [
       "<table class=\"dataframe\">\n",
       "<caption>A tibble: 4 × 6</caption>\n",
       "<thead>\n",
       "\t<tr><th scope=col>confianza</th><th scope=col>pob</th><th scope=col>pob_cv</th><th scope=col>porcentaje</th><th scope=col>porcentaje_cv</th><th scope=col>year</th></tr>\n",
       "\t<tr><th scope=col>&lt;chr&gt;</th><th scope=col>&lt;dbl&gt;</th><th scope=col>&lt;dbl&gt;</th><th scope=col>&lt;dbl&gt;</th><th scope=col>&lt;dbl&gt;</th><th scope=col>&lt;int&gt;</th></tr>\n",
       "</thead>\n",
       "<tbody>\n",
       "\t<tr><td>Confiable</td><td>1419285</td><td>0.03700267</td><td>38.29989</td><td>0.02906365</td><td>2021</td></tr>\n",
       "\t<tr><td>Confiable</td><td>1332158</td><td>0.03890160</td><td>34.67183</td><td>0.03262677</td><td>2022</td></tr>\n",
       "\t<tr><td>Confiable</td><td>1512065</td><td>0.03589746</td><td>38.63385</td><td>0.02850885</td><td>2023</td></tr>\n",
       "\t<tr><td>Confiable</td><td>1336158</td><td>0.03962655</td><td>38.16130</td><td>0.03159721</td><td>2024</td></tr>\n",
       "</tbody>\n",
       "</table>\n"
      ],
      "text/latex": [
       "A tibble: 4 × 6\n",
       "\\begin{tabular}{llllll}\n",
       " confianza & pob & pob\\_cv & porcentaje & porcentaje\\_cv & year\\\\\n",
       " <chr> & <dbl> & <dbl> & <dbl> & <dbl> & <int>\\\\\n",
       "\\hline\n",
       "\t Confiable & 1419285 & 0.03700267 & 38.29989 & 0.02906365 & 2021\\\\\n",
       "\t Confiable & 1332158 & 0.03890160 & 34.67183 & 0.03262677 & 2022\\\\\n",
       "\t Confiable & 1512065 & 0.03589746 & 38.63385 & 0.02850885 & 2023\\\\\n",
       "\t Confiable & 1336158 & 0.03962655 & 38.16130 & 0.03159721 & 2024\\\\\n",
       "\\end{tabular}\n"
      ],
      "text/markdown": [
       "\n",
       "A tibble: 4 × 6\n",
       "\n",
       "| confianza &lt;chr&gt; | pob &lt;dbl&gt; | pob_cv &lt;dbl&gt; | porcentaje &lt;dbl&gt; | porcentaje_cv &lt;dbl&gt; | year &lt;int&gt; |\n",
       "|---|---|---|---|---|---|\n",
       "| Confiable | 1419285 | 0.03700267 | 38.29989 | 0.02906365 | 2021 |\n",
       "| Confiable | 1332158 | 0.03890160 | 34.67183 | 0.03262677 | 2022 |\n",
       "| Confiable | 1512065 | 0.03589746 | 38.63385 | 0.02850885 | 2023 |\n",
       "| Confiable | 1336158 | 0.03962655 | 38.16130 | 0.03159721 | 2024 |\n",
       "\n"
      ],
      "text/plain": [
       "  confianza pob     pob_cv     porcentaje porcentaje_cv year\n",
       "1 Confiable 1419285 0.03700267 38.29989   0.02906365    2021\n",
       "2 Confiable 1332158 0.03890160 34.67183   0.03262677    2022\n",
       "3 Confiable 1512065 0.03589746 38.63385   0.02850885    2023\n",
       "4 Confiable 1336158 0.03962655 38.16130   0.03159721    2024"
      ]
     },
     "metadata": {},
     "output_type": "display_data"
    }
   ],
   "source": [
    "print(\"Porcentaje de personas de 18 años y más que consideran que la fiscalía es confiable\")\n",
    "tabla_confianza_fgj<-map_dfr(2021:2024, function(year) {\n",
    "    estima_inseguridad(year, variable = \"confianza_fgj\")\n",
    "    })\n",
    "tabla_confianza_fgj"
   ]
  },
  {
   "cell_type": "code",
   "execution_count": 31,
   "id": "a6fc55c38b82f9d8",
   "metadata": {
    "ExecuteTime": {
     "end_time": "2025-03-11T00:31:34.385346Z",
     "start_time": "2025-03-11T00:31:19.630263Z"
    },
    "vscode": {
     "languageId": "r"
    }
   },
   "outputs": [
    {
     "name": "stdout",
     "output_type": "stream",
     "text": [
      "[1] \"Porcentaje de personas de 18 años y más que consideran que la fiscalía es confiable\"\n"
     ]
    },
    {
     "name": "stderr",
     "output_type": "stream",
     "text": [
      "\u001b[1m\u001b[22mNew names:\n",
      "\u001b[36m•\u001b[39m `` -> `...1`\n",
      "\u001b[1mRows: \u001b[22m\u001b[34m89630\u001b[39m \u001b[1mColumns: \u001b[22m\u001b[34m232\u001b[39m\n",
      "\u001b[36m──\u001b[39m \u001b[1mColumn specification\u001b[22m \u001b[36m────────────────────────────────────────────────────────\u001b[39m\n",
      "\u001b[1mDelimiter:\u001b[22m \",\"\n",
      "\u001b[31mchr\u001b[39m  (21): ID_VIV, ID_HOG, ID_PER, UPM, VIV_SEL, HOGAR, RESUL_H, R_SEL, AREA...\n",
      "\u001b[32mdbl\u001b[39m (211): ...1, SEXO, EDAD, AP4_1, AP4_2_01, AP4_2_02, AP4_2_03, AP4_2_04, ...\n",
      "\n",
      "\u001b[36mℹ\u001b[39m Use `spec()` to retrieve the full column specification for this data.\n",
      "\u001b[36mℹ\u001b[39m Specify the column types or set `show_col_types = FALSE` to quiet this message.\n"
     ]
    },
    {
     "data": {
      "text/html": [
       "<table class=\"dataframe\">\n",
       "<caption>A tibble: 4 × 6</caption>\n",
       "<thead>\n",
       "\t<tr><th scope=col>confianza</th><th scope=col>pob</th><th scope=col>pob_cv</th><th scope=col>porcentaje</th><th scope=col>porcentaje_cv</th><th scope=col>year</th></tr>\n",
       "\t<tr><th scope=col>&lt;chr&gt;</th><th scope=col>&lt;dbl&gt;</th><th scope=col>&lt;dbl&gt;</th><th scope=col>&lt;dbl&gt;</th><th scope=col>&lt;dbl&gt;</th><th scope=col>&lt;int&gt;</th></tr>\n",
       "</thead>\n",
       "<tbody>\n",
       "\t<tr><td>Confiable</td><td>1903384</td><td>0.03049709</td><td>47.10044</td><td>0.02355755</td><td>2021</td></tr>\n",
       "\t<tr><td>Confiable</td><td>2307223</td><td>0.02754376</td><td>44.18289</td><td>0.02222151</td><td>2022</td></tr>\n",
       "\t<tr><td>Confiable</td><td>2405569</td><td>0.02715780</td><td>44.91095</td><td>0.02125973</td><td>2023</td></tr>\n",
       "\t<tr><td>Confiable</td><td>1927437</td><td>0.03205645</td><td>47.08079</td><td>0.02346463</td><td>2024</td></tr>\n",
       "</tbody>\n",
       "</table>\n"
      ],
      "text/latex": [
       "A tibble: 4 × 6\n",
       "\\begin{tabular}{llllll}\n",
       " confianza & pob & pob\\_cv & porcentaje & porcentaje\\_cv & year\\\\\n",
       " <chr> & <dbl> & <dbl> & <dbl> & <dbl> & <int>\\\\\n",
       "\\hline\n",
       "\t Confiable & 1903384 & 0.03049709 & 47.10044 & 0.02355755 & 2021\\\\\n",
       "\t Confiable & 2307223 & 0.02754376 & 44.18289 & 0.02222151 & 2022\\\\\n",
       "\t Confiable & 2405569 & 0.02715780 & 44.91095 & 0.02125973 & 2023\\\\\n",
       "\t Confiable & 1927437 & 0.03205645 & 47.08079 & 0.02346463 & 2024\\\\\n",
       "\\end{tabular}\n"
      ],
      "text/markdown": [
       "\n",
       "A tibble: 4 × 6\n",
       "\n",
       "| confianza &lt;chr&gt; | pob &lt;dbl&gt; | pob_cv &lt;dbl&gt; | porcentaje &lt;dbl&gt; | porcentaje_cv &lt;dbl&gt; | year &lt;int&gt; |\n",
       "|---|---|---|---|---|---|\n",
       "| Confiable | 1903384 | 0.03049709 | 47.10044 | 0.02355755 | 2021 |\n",
       "| Confiable | 2307223 | 0.02754376 | 44.18289 | 0.02222151 | 2022 |\n",
       "| Confiable | 2405569 | 0.02715780 | 44.91095 | 0.02125973 | 2023 |\n",
       "| Confiable | 1927437 | 0.03205645 | 47.08079 | 0.02346463 | 2024 |\n",
       "\n"
      ],
      "text/plain": [
       "  confianza pob     pob_cv     porcentaje porcentaje_cv year\n",
       "1 Confiable 1903384 0.03049709 47.10044   0.02355755    2021\n",
       "2 Confiable 2307223 0.02754376 44.18289   0.02222151    2022\n",
       "3 Confiable 2405569 0.02715780 44.91095   0.02125973    2023\n",
       "4 Confiable 1927437 0.03205645 47.08079   0.02346463    2024"
      ]
     },
     "metadata": {},
     "output_type": "display_data"
    }
   ],
   "source": [
    "print(\"Porcentaje de personas de 18 años y más que consideran que la fiscalía es confiable\")\n",
    "tabla_confianza_policia<-map_dfr(2021:2024, function(year) {\n",
    "    estima_inseguridad(year, variable = \"confianza_policia\")\n",
    "    })\n",
    "tabla_confianza_policia"
   ]
  },
  {
   "cell_type": "markdown",
   "id": "2c2578589520d355",
   "metadata": {},
   "source": [
    "#### Proyecciones"
   ]
  },
  {
   "cell_type": "code",
   "execution_count": 32,
   "id": "fc3242d980cbf2f1",
   "metadata": {
    "ExecuteTime": {
     "end_time": "2025-03-11T00:19:34.780206Z",
     "start_time": "2025-03-11T00:19:34.745763Z"
    },
    "vscode": {
     "languageId": "r"
    }
   },
   "outputs": [
    {
     "data": {
      "text/html": [
       "<table class=\"dataframe\">\n",
       "<caption>A tibble: 9 × 2</caption>\n",
       "<thead>\n",
       "\t<tr><th scope=col>year</th><th scope=col>promedio_diario_alto_impacto</th></tr>\n",
       "\t<tr><th scope=col>&lt;int&gt;</th><th scope=col>&lt;dbl&gt;</th></tr>\n",
       "</thead>\n",
       "<tbody>\n",
       "\t<tr><td>2016</td><td> 47.62192</td></tr>\n",
       "\t<tr><td>2017</td><td> 56.94247</td></tr>\n",
       "\t<tr><td>2018</td><td>119.59452</td></tr>\n",
       "\t<tr><td>2019</td><td> 95.16164</td></tr>\n",
       "\t<tr><td>2020</td><td> 62.26027</td></tr>\n",
       "\t<tr><td>2021</td><td> 61.03562</td></tr>\n",
       "\t<tr><td>2022</td><td> 58.83288</td></tr>\n",
       "\t<tr><td>2023</td><td> 50.69589</td></tr>\n",
       "\t<tr><td>2024</td><td> 45.98356</td></tr>\n",
       "</tbody>\n",
       "</table>\n"
      ],
      "text/latex": [
       "A tibble: 9 × 2\n",
       "\\begin{tabular}{ll}\n",
       " year & promedio\\_diario\\_alto\\_impacto\\\\\n",
       " <int> & <dbl>\\\\\n",
       "\\hline\n",
       "\t 2016 &  47.62192\\\\\n",
       "\t 2017 &  56.94247\\\\\n",
       "\t 2018 & 119.59452\\\\\n",
       "\t 2019 &  95.16164\\\\\n",
       "\t 2020 &  62.26027\\\\\n",
       "\t 2021 &  61.03562\\\\\n",
       "\t 2022 &  58.83288\\\\\n",
       "\t 2023 &  50.69589\\\\\n",
       "\t 2024 &  45.98356\\\\\n",
       "\\end{tabular}\n"
      ],
      "text/markdown": [
       "\n",
       "A tibble: 9 × 2\n",
       "\n",
       "| year &lt;int&gt; | promedio_diario_alto_impacto &lt;dbl&gt; |\n",
       "|---|---|\n",
       "| 2016 |  47.62192 |\n",
       "| 2017 |  56.94247 |\n",
       "| 2018 | 119.59452 |\n",
       "| 2019 |  95.16164 |\n",
       "| 2020 |  62.26027 |\n",
       "| 2021 |  61.03562 |\n",
       "| 2022 |  58.83288 |\n",
       "| 2023 |  50.69589 |\n",
       "| 2024 |  45.98356 |\n",
       "\n"
      ],
      "text/plain": [
       "  year promedio_diario_alto_impacto\n",
       "1 2016  47.62192                   \n",
       "2 2017  56.94247                   \n",
       "3 2018 119.59452                   \n",
       "4 2019  95.16164                   \n",
       "5 2020  62.26027                   \n",
       "6 2021  61.03562                   \n",
       "7 2022  58.83288                   \n",
       "8 2023  50.69589                   \n",
       "9 2024  45.98356                   "
      ]
     },
     "metadata": {},
     "output_type": "display_data"
    }
   ],
   "source": [
    "#Promedio diario de 5 delitos\n",
    "\n",
    "delitos_select <- delitos_anuales %>%\n",
    "select(ano, promedio_diario_alto_impacto)%>%\n",
    "    rename(year = ano)%>%\n",
    "    #transformar year a int\n",
    "    mutate(year = as.integer(year))\n",
    "\n",
    "delitos_select\n"
   ]
  },
  {
   "cell_type": "code",
   "execution_count": 33,
   "id": "44afe9e820719410",
   "metadata": {
    "ExecuteTime": {
     "end_time": "2025-03-11T00:19:52.068017Z",
     "start_time": "2025-03-11T00:19:52.054742Z"
    },
    "vscode": {
     "languageId": "r"
    }
   },
   "outputs": [
    {
     "data": {
      "text/html": [
       "-0.0203382025409408"
      ],
      "text/latex": [
       "-0.0203382025409408"
      ],
      "text/markdown": [
       "-0.0203382025409408"
      ],
      "text/plain": [
       "[1] -0.0203382"
      ]
     },
     "metadata": {},
     "output_type": "display_data"
    }
   ],
   "source": [
    "tcma_delitos<-((delitos_select$promedio_diario_alto_impacto[delitos_select$year==2023]/delitos_select$promedio_diario_alto_impacto[delitos_select$year==2020])^(1/(2023-2013))-1)\n",
    "tcma_delitos"
   ]
  },
  {
   "cell_type": "code",
   "execution_count": 34,
   "id": "7b49e6ff717b40ea",
   "metadata": {
    "ExecuteTime": {
     "end_time": "2025-03-11T00:19:53.427037Z",
     "start_time": "2025-03-11T00:19:53.407582Z"
    },
    "vscode": {
     "languageId": "r"
    }
   },
   "outputs": [
    {
     "data": {
      "text/html": [
       "<table class=\"dataframe\">\n",
       "<caption>A data.frame: 21 × 2</caption>\n",
       "<thead>\n",
       "\t<tr><th scope=col>year</th><th scope=col>promedio_diario_alto_impacto</th></tr>\n",
       "\t<tr><th scope=col>&lt;int&gt;</th><th scope=col>&lt;dbl&gt;</th></tr>\n",
       "</thead>\n",
       "<tbody>\n",
       "\t<tr><td>2025</td><td>45.05</td></tr>\n",
       "\t<tr><td>2026</td><td>44.13</td></tr>\n",
       "\t<tr><td>2027</td><td>43.23</td></tr>\n",
       "\t<tr><td>2028</td><td>42.36</td></tr>\n",
       "\t<tr><td>2029</td><td>41.49</td></tr>\n",
       "\t<tr><td>2030</td><td>40.65</td></tr>\n",
       "\t<tr><td>2031</td><td>39.82</td></tr>\n",
       "\t<tr><td>2032</td><td>39.01</td></tr>\n",
       "\t<tr><td>2033</td><td>38.22</td></tr>\n",
       "\t<tr><td>2034</td><td>37.44</td></tr>\n",
       "\t<tr><td>2035</td><td>36.68</td></tr>\n",
       "\t<tr><td>2036</td><td>35.93</td></tr>\n",
       "\t<tr><td>2037</td><td>35.20</td></tr>\n",
       "\t<tr><td>2038</td><td>34.49</td></tr>\n",
       "\t<tr><td>2039</td><td>33.79</td></tr>\n",
       "\t<tr><td>2040</td><td>33.10</td></tr>\n",
       "\t<tr><td>2041</td><td>32.43</td></tr>\n",
       "\t<tr><td>2042</td><td>31.77</td></tr>\n",
       "\t<tr><td>2043</td><td>31.12</td></tr>\n",
       "\t<tr><td>2044</td><td>30.49</td></tr>\n",
       "\t<tr><td>2045</td><td>29.87</td></tr>\n",
       "</tbody>\n",
       "</table>\n"
      ],
      "text/latex": [
       "A data.frame: 21 × 2\n",
       "\\begin{tabular}{ll}\n",
       " year & promedio\\_diario\\_alto\\_impacto\\\\\n",
       " <int> & <dbl>\\\\\n",
       "\\hline\n",
       "\t 2025 & 45.05\\\\\n",
       "\t 2026 & 44.13\\\\\n",
       "\t 2027 & 43.23\\\\\n",
       "\t 2028 & 42.36\\\\\n",
       "\t 2029 & 41.49\\\\\n",
       "\t 2030 & 40.65\\\\\n",
       "\t 2031 & 39.82\\\\\n",
       "\t 2032 & 39.01\\\\\n",
       "\t 2033 & 38.22\\\\\n",
       "\t 2034 & 37.44\\\\\n",
       "\t 2035 & 36.68\\\\\n",
       "\t 2036 & 35.93\\\\\n",
       "\t 2037 & 35.20\\\\\n",
       "\t 2038 & 34.49\\\\\n",
       "\t 2039 & 33.79\\\\\n",
       "\t 2040 & 33.10\\\\\n",
       "\t 2041 & 32.43\\\\\n",
       "\t 2042 & 31.77\\\\\n",
       "\t 2043 & 31.12\\\\\n",
       "\t 2044 & 30.49\\\\\n",
       "\t 2045 & 29.87\\\\\n",
       "\\end{tabular}\n"
      ],
      "text/markdown": [
       "\n",
       "A data.frame: 21 × 2\n",
       "\n",
       "| year &lt;int&gt; | promedio_diario_alto_impacto &lt;dbl&gt; |\n",
       "|---|---|\n",
       "| 2025 | 45.05 |\n",
       "| 2026 | 44.13 |\n",
       "| 2027 | 43.23 |\n",
       "| 2028 | 42.36 |\n",
       "| 2029 | 41.49 |\n",
       "| 2030 | 40.65 |\n",
       "| 2031 | 39.82 |\n",
       "| 2032 | 39.01 |\n",
       "| 2033 | 38.22 |\n",
       "| 2034 | 37.44 |\n",
       "| 2035 | 36.68 |\n",
       "| 2036 | 35.93 |\n",
       "| 2037 | 35.20 |\n",
       "| 2038 | 34.49 |\n",
       "| 2039 | 33.79 |\n",
       "| 2040 | 33.10 |\n",
       "| 2041 | 32.43 |\n",
       "| 2042 | 31.77 |\n",
       "| 2043 | 31.12 |\n",
       "| 2044 | 30.49 |\n",
       "| 2045 | 29.87 |\n",
       "\n"
      ],
      "text/plain": [
       "   year promedio_diario_alto_impacto\n",
       "1  2025 45.05                       \n",
       "2  2026 44.13                       \n",
       "3  2027 43.23                       \n",
       "4  2028 42.36                       \n",
       "5  2029 41.49                       \n",
       "6  2030 40.65                       \n",
       "7  2031 39.82                       \n",
       "8  2032 39.01                       \n",
       "9  2033 38.22                       \n",
       "10 2034 37.44                       \n",
       "11 2035 36.68                       \n",
       "12 2036 35.93                       \n",
       "13 2037 35.20                       \n",
       "14 2038 34.49                       \n",
       "15 2039 33.79                       \n",
       "16 2040 33.10                       \n",
       "17 2041 32.43                       \n",
       "18 2042 31.77                       \n",
       "19 2043 31.12                       \n",
       "20 2044 30.49                       \n",
       "21 2045 29.87                       "
      ]
     },
     "metadata": {},
     "output_type": "display_data"
    }
   ],
   "source": [
    "extendido_delitos<-data.frame(year=2025:2045)\n",
    "\n",
    "extendido_delitos$promedio_diario_alto_impacto<-delitos_select$promedio_diario_alto_impacto[delitos_select$year==2024]*cumprod(rep(1+tcma_delitos,length(2025:2045)))\n",
    "extendido_delitos%>%\n",
    "mutate(promedio_diario_alto_impacto=round(promedio_diario_alto_impacto,2))"
   ]
  },
  {
   "cell_type": "code",
   "execution_count": 35,
   "id": "1e32e9b2e4e43a2d",
   "metadata": {
    "ExecuteTime": {
     "end_time": "2025-03-10T02:29:31.303894Z",
     "start_time": "2025-03-10T02:29:31.060234Z"
    },
    "vscode": {
     "languageId": "r"
    }
   },
   "outputs": [
    {
     "data": {
      "image/png": "[encoded data removed]",
      "text/plain": [
       "plot without title"
      ]
     },
     "metadata": {
      "image/png": {
       "height": 420,
       "width": 420
      }
     },
     "output_type": "display_data"
    }
   ],
   "source": [
    "extendido_delitos%>%\n",
    "ggplot(aes(x=year,y=promedio_diario_alto_impacto))+\n",
    "geom_line(color='#691c32')+\n",
    "labs(title='Promedio diario de delitos de alto impacto en la Ciudad de México, 2025-2045',\n",
    "     x='Año',\n",
    "     y='Promedio diario de delitos',\n",
    "     caption='Fuente: Elaborado por IPDP CDMX con base en datos abiertos del Gobierno de la Ciudad de México')+theme_minimal()+\n",
    "theme(axis.text.x = element_text(angle = 90, hjust = 1),\n",
    "          plot.title = element_text(hjust = 0, size = 25, face = \"bold\"),\n",
    "          plot.subtitle = element_text(hjust = 0, size = 20, face = \"italic\"),\n",
    "          plot.caption = element_text(hjust = 0, size = 15),\n",
    "          legend.position = \"none\",\n",
    "          text = element_text(family = \"pop\", size = 20))"
   ]
  },
  {
   "cell_type": "markdown",
   "id": "76945e9572ad1b0b",
   "metadata": {},
   "source": [
    "#### Confianza en fiscalía"
   ]
  },
  {
   "cell_type": "code",
   "execution_count": 36,
   "id": "aa737fc094ca7612",
   "metadata": {
    "ExecuteTime": {
     "end_time": "2025-03-10T23:51:15.867424Z",
     "start_time": "2025-03-10T23:51:15.849016Z"
    },
    "vscode": {
     "languageId": "r"
    }
   },
   "outputs": [
    {
     "data": {
      "text/html": [
       "<table class=\"dataframe\">\n",
       "<caption>A tibble: 4 × 6</caption>\n",
       "<thead>\n",
       "\t<tr><th scope=col>confianza</th><th scope=col>pob</th><th scope=col>pob_cv</th><th scope=col>porcentaje</th><th scope=col>porcentaje_cv</th><th scope=col>year</th></tr>\n",
       "\t<tr><th scope=col>&lt;chr&gt;</th><th scope=col>&lt;dbl&gt;</th><th scope=col>&lt;dbl&gt;</th><th scope=col>&lt;dbl&gt;</th><th scope=col>&lt;dbl&gt;</th><th scope=col>&lt;int&gt;</th></tr>\n",
       "</thead>\n",
       "<tbody>\n",
       "\t<tr><td>Confiable</td><td>1419285</td><td>0.03700267</td><td>38.29989</td><td>0.02906365</td><td>2021</td></tr>\n",
       "\t<tr><td>Confiable</td><td>1332158</td><td>0.03890160</td><td>34.67183</td><td>0.03262677</td><td>2022</td></tr>\n",
       "\t<tr><td>Confiable</td><td>1512065</td><td>0.03589746</td><td>38.63385</td><td>0.02850885</td><td>2023</td></tr>\n",
       "\t<tr><td>Confiable</td><td>1336158</td><td>0.03962655</td><td>38.16130</td><td>0.03159721</td><td>2024</td></tr>\n",
       "</tbody>\n",
       "</table>\n"
      ],
      "text/latex": [
       "A tibble: 4 × 6\n",
       "\\begin{tabular}{llllll}\n",
       " confianza & pob & pob\\_cv & porcentaje & porcentaje\\_cv & year\\\\\n",
       " <chr> & <dbl> & <dbl> & <dbl> & <dbl> & <int>\\\\\n",
       "\\hline\n",
       "\t Confiable & 1419285 & 0.03700267 & 38.29989 & 0.02906365 & 2021\\\\\n",
       "\t Confiable & 1332158 & 0.03890160 & 34.67183 & 0.03262677 & 2022\\\\\n",
       "\t Confiable & 1512065 & 0.03589746 & 38.63385 & 0.02850885 & 2023\\\\\n",
       "\t Confiable & 1336158 & 0.03962655 & 38.16130 & 0.03159721 & 2024\\\\\n",
       "\\end{tabular}\n"
      ],
      "text/markdown": [
       "\n",
       "A tibble: 4 × 6\n",
       "\n",
       "| confianza &lt;chr&gt; | pob &lt;dbl&gt; | pob_cv &lt;dbl&gt; | porcentaje &lt;dbl&gt; | porcentaje_cv &lt;dbl&gt; | year &lt;int&gt; |\n",
       "|---|---|---|---|---|---|\n",
       "| Confiable | 1419285 | 0.03700267 | 38.29989 | 0.02906365 | 2021 |\n",
       "| Confiable | 1332158 | 0.03890160 | 34.67183 | 0.03262677 | 2022 |\n",
       "| Confiable | 1512065 | 0.03589746 | 38.63385 | 0.02850885 | 2023 |\n",
       "| Confiable | 1336158 | 0.03962655 | 38.16130 | 0.03159721 | 2024 |\n",
       "\n"
      ],
      "text/plain": [
       "  confianza pob     pob_cv     porcentaje porcentaje_cv year\n",
       "1 Confiable 1419285 0.03700267 38.29989   0.02906365    2021\n",
       "2 Confiable 1332158 0.03890160 34.67183   0.03262677    2022\n",
       "3 Confiable 1512065 0.03589746 38.63385   0.02850885    2023\n",
       "4 Confiable 1336158 0.03962655 38.16130   0.03159721    2024"
      ]
     },
     "metadata": {},
     "output_type": "display_data"
    }
   ],
   "source": [
    "tabla_confianza_fgj"
   ]
  },
  {
   "cell_type": "code",
   "execution_count": 37,
   "id": "3b0f87b91fe86d1b",
   "metadata": {
    "ExecuteTime": {
     "end_time": "2025-03-10T23:51:16.651441Z",
     "start_time": "2025-03-10T23:51:16.621047Z"
    },
    "vscode": {
     "languageId": "r"
    }
   },
   "outputs": [
    {
     "data": {
      "text/html": [
       "0.00435034704957449"
      ],
      "text/latex": [
       "0.00435034704957449"
      ],
      "text/markdown": [
       "0.00435034704957449"
      ],
      "text/plain": [
       "[1] 0.004350347"
      ]
     },
     "metadata": {},
     "output_type": "display_data"
    }
   ],
   "source": [
    "tcma_confianza_fgj<-((tabla_confianza_fgj$porcentaje[tabla_confianza_fgj$year==2023]/tabla_confianza_fgj$porcentaje[tabla_confianza_fgj$year==2021])^(1/(2023-2021))-1)\n",
    "tcma_confianza_fgj"
   ]
  },
  {
   "cell_type": "code",
   "execution_count": 38,
   "id": "f82bf43bdd66e3c9",
   "metadata": {
    "ExecuteTime": {
     "end_time": "2025-03-10T23:51:18.031939Z",
     "start_time": "2025-03-10T23:51:18.004666Z"
    },
    "vscode": {
     "languageId": "r"
    }
   },
   "outputs": [
    {
     "data": {
      "text/html": [
       "1.1960709212636"
      ],
      "text/latex": [
       "1.1960709212636"
      ],
      "text/markdown": [
       "1.1960709212636"
      ],
      "text/plain": [
       "[1] 1.196071"
      ]
     },
     "metadata": {},
     "output_type": "display_data"
    },
    {
     "data": {
      "text/html": [
       "<table class=\"dataframe\">\n",
       "<caption>A data.frame: 21 × 2</caption>\n",
       "<thead>\n",
       "\t<tr><th scope=col>year</th><th scope=col>porcentaje</th></tr>\n",
       "\t<tr><th scope=col>&lt;int&gt;</th><th scope=col>&lt;dbl&gt;</th></tr>\n",
       "</thead>\n",
       "<tbody>\n",
       "\t<tr><td>2025</td><td>38.33</td></tr>\n",
       "\t<tr><td>2026</td><td>38.49</td></tr>\n",
       "\t<tr><td>2027</td><td>38.66</td></tr>\n",
       "\t<tr><td>2028</td><td>38.83</td></tr>\n",
       "\t<tr><td>2029</td><td>39.00</td></tr>\n",
       "\t<tr><td>2030</td><td>39.17</td></tr>\n",
       "\t<tr><td>2031</td><td>39.34</td></tr>\n",
       "\t<tr><td>2032</td><td>39.51</td></tr>\n",
       "\t<tr><td>2033</td><td>39.68</td></tr>\n",
       "\t<tr><td>2034</td><td>39.85</td></tr>\n",
       "\t<tr><td>2035</td><td>40.03</td></tr>\n",
       "\t<tr><td>2036</td><td>40.20</td></tr>\n",
       "\t<tr><td>2037</td><td>40.38</td></tr>\n",
       "\t<tr><td>2038</td><td>40.55</td></tr>\n",
       "\t<tr><td>2039</td><td>40.73</td></tr>\n",
       "\t<tr><td>2040</td><td>40.91</td></tr>\n",
       "\t<tr><td>2041</td><td>41.08</td></tr>\n",
       "\t<tr><td>2042</td><td>41.26</td></tr>\n",
       "\t<tr><td>2043</td><td>41.44</td></tr>\n",
       "\t<tr><td>2044</td><td>49.78</td></tr>\n",
       "\t<tr><td>2045</td><td>50.00</td></tr>\n",
       "</tbody>\n",
       "</table>\n"
      ],
      "text/latex": [
       "A data.frame: 21 × 2\n",
       "\\begin{tabular}{ll}\n",
       " year & porcentaje\\\\\n",
       " <int> & <dbl>\\\\\n",
       "\\hline\n",
       "\t 2025 & 38.33\\\\\n",
       "\t 2026 & 38.49\\\\\n",
       "\t 2027 & 38.66\\\\\n",
       "\t 2028 & 38.83\\\\\n",
       "\t 2029 & 39.00\\\\\n",
       "\t 2030 & 39.17\\\\\n",
       "\t 2031 & 39.34\\\\\n",
       "\t 2032 & 39.51\\\\\n",
       "\t 2033 & 39.68\\\\\n",
       "\t 2034 & 39.85\\\\\n",
       "\t 2035 & 40.03\\\\\n",
       "\t 2036 & 40.20\\\\\n",
       "\t 2037 & 40.38\\\\\n",
       "\t 2038 & 40.55\\\\\n",
       "\t 2039 & 40.73\\\\\n",
       "\t 2040 & 40.91\\\\\n",
       "\t 2041 & 41.08\\\\\n",
       "\t 2042 & 41.26\\\\\n",
       "\t 2043 & 41.44\\\\\n",
       "\t 2044 & 49.78\\\\\n",
       "\t 2045 & 50.00\\\\\n",
       "\\end{tabular}\n"
      ],
      "text/markdown": [
       "\n",
       "A data.frame: 21 × 2\n",
       "\n",
       "| year &lt;int&gt; | porcentaje &lt;dbl&gt; |\n",
       "|---|---|\n",
       "| 2025 | 38.33 |\n",
       "| 2026 | 38.49 |\n",
       "| 2027 | 38.66 |\n",
       "| 2028 | 38.83 |\n",
       "| 2029 | 39.00 |\n",
       "| 2030 | 39.17 |\n",
       "| 2031 | 39.34 |\n",
       "| 2032 | 39.51 |\n",
       "| 2033 | 39.68 |\n",
       "| 2034 | 39.85 |\n",
       "| 2035 | 40.03 |\n",
       "| 2036 | 40.20 |\n",
       "| 2037 | 40.38 |\n",
       "| 2038 | 40.55 |\n",
       "| 2039 | 40.73 |\n",
       "| 2040 | 40.91 |\n",
       "| 2041 | 41.08 |\n",
       "| 2042 | 41.26 |\n",
       "| 2043 | 41.44 |\n",
       "| 2044 | 49.78 |\n",
       "| 2045 | 50.00 |\n",
       "\n"
      ],
      "text/plain": [
       "   year porcentaje\n",
       "1  2025 38.33     \n",
       "2  2026 38.49     \n",
       "3  2027 38.66     \n",
       "4  2028 38.83     \n",
       "5  2029 39.00     \n",
       "6  2030 39.17     \n",
       "7  2031 39.34     \n",
       "8  2032 39.51     \n",
       "9  2033 39.68     \n",
       "10 2034 39.85     \n",
       "11 2035 40.03     \n",
       "12 2036 40.20     \n",
       "13 2037 40.38     \n",
       "14 2038 40.55     \n",
       "15 2039 40.73     \n",
       "16 2040 40.91     \n",
       "17 2041 41.08     \n",
       "18 2042 41.26     \n",
       "19 2043 41.44     \n",
       "20 2044 49.78     \n",
       "21 2045 50.00     "
      ]
     },
     "metadata": {},
     "output_type": "display_data"
    }
   ],
   "source": [
    "extendido_confianza_fgj<-data.frame(year=2025:2045)\n",
    "\n",
    "extendido_confianza_fgj$porcentaje<-tabla_confianza_fgj$porcentaje[tabla_confianza_fgj$year==2024]*cumprod(rep(1+tcma_confianza_fgj,length(2025:2045)))\n",
    "# Paso 2: Calcular el porcentaje en 2045 según el modelo actual\n",
    "porcentaje_2045 <- extendido_confianza_fgj$porcentaje[extendido_confianza_fgj$year == 2045]\n",
    "\n",
    "# Paso 3: Calcular el factor de ajuste\n",
    "factor_ajuste <- 50 / porcentaje_2045\n",
    "factor_ajuste\n",
    "# Paso 4: Aplicar el factor de ajuste solo a los últimos dos años de la serie\n",
    "extendido_confianza_fgj$porcentaje[extendido_confianza_fgj$year >= 2044] <-\n",
    "    extendido_confianza_fgj$porcentaje[extendido_confianza_fgj$year >= 2044] * factor_ajuste\n",
    "\n",
    "# Redondear los resultados\n",
    "extendido_confianza_fgj %>%\n",
    "    mutate(porcentaje = round(porcentaje, 2))"
   ]
  },
  {
   "cell_type": "markdown",
   "id": "e35ea3cf1f16ccc",
   "metadata": {},
   "source": [
    "#### Confianza policía"
   ]
  },
  {
   "cell_type": "code",
   "execution_count": 39,
   "id": "ec854e6f222afa9b",
   "metadata": {
    "ExecuteTime": {
     "end_time": "2025-03-11T00:32:20.115678Z",
     "start_time": "2025-03-11T00:32:20.096930Z"
    },
    "vscode": {
     "languageId": "r"
    }
   },
   "outputs": [
    {
     "data": {
      "text/html": [
       "<table class=\"dataframe\">\n",
       "<caption>A tibble: 4 × 6</caption>\n",
       "<thead>\n",
       "\t<tr><th scope=col>confianza</th><th scope=col>pob</th><th scope=col>pob_cv</th><th scope=col>porcentaje</th><th scope=col>porcentaje_cv</th><th scope=col>year</th></tr>\n",
       "\t<tr><th scope=col>&lt;chr&gt;</th><th scope=col>&lt;dbl&gt;</th><th scope=col>&lt;dbl&gt;</th><th scope=col>&lt;dbl&gt;</th><th scope=col>&lt;dbl&gt;</th><th scope=col>&lt;int&gt;</th></tr>\n",
       "</thead>\n",
       "<tbody>\n",
       "\t<tr><td>Confiable</td><td>1903384</td><td>0.03049709</td><td>47.10044</td><td>0.02355755</td><td>2021</td></tr>\n",
       "\t<tr><td>Confiable</td><td>2307223</td><td>0.02754376</td><td>44.18289</td><td>0.02222151</td><td>2022</td></tr>\n",
       "\t<tr><td>Confiable</td><td>2405569</td><td>0.02715780</td><td>44.91095</td><td>0.02125973</td><td>2023</td></tr>\n",
       "\t<tr><td>Confiable</td><td>1927437</td><td>0.03205645</td><td>47.08079</td><td>0.02346463</td><td>2024</td></tr>\n",
       "</tbody>\n",
       "</table>\n"
      ],
      "text/latex": [
       "A tibble: 4 × 6\n",
       "\\begin{tabular}{llllll}\n",
       " confianza & pob & pob\\_cv & porcentaje & porcentaje\\_cv & year\\\\\n",
       " <chr> & <dbl> & <dbl> & <dbl> & <dbl> & <int>\\\\\n",
       "\\hline\n",
       "\t Confiable & 1903384 & 0.03049709 & 47.10044 & 0.02355755 & 2021\\\\\n",
       "\t Confiable & 2307223 & 0.02754376 & 44.18289 & 0.02222151 & 2022\\\\\n",
       "\t Confiable & 2405569 & 0.02715780 & 44.91095 & 0.02125973 & 2023\\\\\n",
       "\t Confiable & 1927437 & 0.03205645 & 47.08079 & 0.02346463 & 2024\\\\\n",
       "\\end{tabular}\n"
      ],
      "text/markdown": [
       "\n",
       "A tibble: 4 × 6\n",
       "\n",
       "| confianza &lt;chr&gt; | pob &lt;dbl&gt; | pob_cv &lt;dbl&gt; | porcentaje &lt;dbl&gt; | porcentaje_cv &lt;dbl&gt; | year &lt;int&gt; |\n",
       "|---|---|---|---|---|---|\n",
       "| Confiable | 1903384 | 0.03049709 | 47.10044 | 0.02355755 | 2021 |\n",
       "| Confiable | 2307223 | 0.02754376 | 44.18289 | 0.02222151 | 2022 |\n",
       "| Confiable | 2405569 | 0.02715780 | 44.91095 | 0.02125973 | 2023 |\n",
       "| Confiable | 1927437 | 0.03205645 | 47.08079 | 0.02346463 | 2024 |\n",
       "\n"
      ],
      "text/plain": [
       "  confianza pob     pob_cv     porcentaje porcentaje_cv year\n",
       "1 Confiable 1903384 0.03049709 47.10044   0.02355755    2021\n",
       "2 Confiable 2307223 0.02754376 44.18289   0.02222151    2022\n",
       "3 Confiable 2405569 0.02715780 44.91095   0.02125973    2023\n",
       "4 Confiable 1927437 0.03205645 47.08079   0.02346463    2024"
      ]
     },
     "metadata": {},
     "output_type": "display_data"
    }
   ],
   "source": [
    "tabla_confianza_policia"
   ]
  },
  {
   "cell_type": "code",
   "execution_count": 40,
   "id": "7189a500a49a18e8",
   "metadata": {
    "ExecuteTime": {
     "end_time": "2025-03-11T00:32:21.128701Z",
     "start_time": "2025-03-11T00:32:21.114785Z"
    },
    "vscode": {
     "languageId": "r"
    }
   },
   "outputs": [
    {
     "data": {
      "text/html": [
       "0.0160086287680041"
      ],
      "text/latex": [
       "0.0160086287680041"
      ],
      "text/markdown": [
       "0.0160086287680041"
      ],
      "text/plain": [
       "[1] 0.01600863"
      ]
     },
     "metadata": {},
     "output_type": "display_data"
    }
   ],
   "source": [
    "#Desacelerar la tcma. Se utilizan los valores de 2024 y 2022 pero el período se toma de 2020 a 2024.\n",
    "#De 2011 a 2024 la confianza en la policía aumentó 15.5 puntos porcentuales: https://www.inegi.org.mx/contenidos/programas/envipe/2024/doc/envipe2024_cdmx.pdf. Se asumen que para 2045, la confianza podría llegar entre 65 y 70%.\n",
    "tcma_confianza_policia<-((tabla_confianza_policia$porcentaje[tabla_confianza_policia$year==2024]/tabla_confianza_policia$porcentaje[tabla_confianza_policia$year==2022])^(1/(2024-2020))-1)\n",
    "tcma_confianza_policia"
   ]
  },
  {
   "cell_type": "code",
   "execution_count": 41,
   "id": "32de4142f4bb36b4",
   "metadata": {
    "ExecuteTime": {
     "end_time": "2025-03-11T00:32:23.692337Z",
     "start_time": "2025-03-11T00:32:23.670886Z"
    },
    "vscode": {
     "languageId": "r"
    }
   },
   "outputs": [
    {
     "data": {
      "text/html": [
       "<table class=\"dataframe\">\n",
       "<caption>A data.frame: 21 × 2</caption>\n",
       "<thead>\n",
       "\t<tr><th scope=col>year</th><th scope=col>porcentaje</th></tr>\n",
       "\t<tr><th scope=col>&lt;int&gt;</th><th scope=col>&lt;dbl&gt;</th></tr>\n",
       "</thead>\n",
       "<tbody>\n",
       "\t<tr><td>2025</td><td>47.83</td></tr>\n",
       "\t<tr><td>2026</td><td>48.60</td></tr>\n",
       "\t<tr><td>2027</td><td>49.38</td></tr>\n",
       "\t<tr><td>2028</td><td>50.17</td></tr>\n",
       "\t<tr><td>2029</td><td>50.97</td></tr>\n",
       "\t<tr><td>2030</td><td>51.79</td></tr>\n",
       "\t<tr><td>2031</td><td>52.62</td></tr>\n",
       "\t<tr><td>2032</td><td>53.46</td></tr>\n",
       "\t<tr><td>2033</td><td>54.32</td></tr>\n",
       "\t<tr><td>2034</td><td>55.18</td></tr>\n",
       "\t<tr><td>2035</td><td>56.07</td></tr>\n",
       "\t<tr><td>2036</td><td>56.97</td></tr>\n",
       "\t<tr><td>2037</td><td>57.88</td></tr>\n",
       "\t<tr><td>2038</td><td>58.80</td></tr>\n",
       "\t<tr><td>2039</td><td>59.75</td></tr>\n",
       "\t<tr><td>2040</td><td>60.70</td></tr>\n",
       "\t<tr><td>2041</td><td>61.67</td></tr>\n",
       "\t<tr><td>2042</td><td>62.66</td></tr>\n",
       "\t<tr><td>2043</td><td>63.66</td></tr>\n",
       "\t<tr><td>2044</td><td>64.68</td></tr>\n",
       "\t<tr><td>2045</td><td>65.72</td></tr>\n",
       "</tbody>\n",
       "</table>\n"
      ],
      "text/latex": [
       "A data.frame: 21 × 2\n",
       "\\begin{tabular}{ll}\n",
       " year & porcentaje\\\\\n",
       " <int> & <dbl>\\\\\n",
       "\\hline\n",
       "\t 2025 & 47.83\\\\\n",
       "\t 2026 & 48.60\\\\\n",
       "\t 2027 & 49.38\\\\\n",
       "\t 2028 & 50.17\\\\\n",
       "\t 2029 & 50.97\\\\\n",
       "\t 2030 & 51.79\\\\\n",
       "\t 2031 & 52.62\\\\\n",
       "\t 2032 & 53.46\\\\\n",
       "\t 2033 & 54.32\\\\\n",
       "\t 2034 & 55.18\\\\\n",
       "\t 2035 & 56.07\\\\\n",
       "\t 2036 & 56.97\\\\\n",
       "\t 2037 & 57.88\\\\\n",
       "\t 2038 & 58.80\\\\\n",
       "\t 2039 & 59.75\\\\\n",
       "\t 2040 & 60.70\\\\\n",
       "\t 2041 & 61.67\\\\\n",
       "\t 2042 & 62.66\\\\\n",
       "\t 2043 & 63.66\\\\\n",
       "\t 2044 & 64.68\\\\\n",
       "\t 2045 & 65.72\\\\\n",
       "\\end{tabular}\n"
      ],
      "text/markdown": [
       "\n",
       "A data.frame: 21 × 2\n",
       "\n",
       "| year &lt;int&gt; | porcentaje &lt;dbl&gt; |\n",
       "|---|---|\n",
       "| 2025 | 47.83 |\n",
       "| 2026 | 48.60 |\n",
       "| 2027 | 49.38 |\n",
       "| 2028 | 50.17 |\n",
       "| 2029 | 50.97 |\n",
       "| 2030 | 51.79 |\n",
       "| 2031 | 52.62 |\n",
       "| 2032 | 53.46 |\n",
       "| 2033 | 54.32 |\n",
       "| 2034 | 55.18 |\n",
       "| 2035 | 56.07 |\n",
       "| 2036 | 56.97 |\n",
       "| 2037 | 57.88 |\n",
       "| 2038 | 58.80 |\n",
       "| 2039 | 59.75 |\n",
       "| 2040 | 60.70 |\n",
       "| 2041 | 61.67 |\n",
       "| 2042 | 62.66 |\n",
       "| 2043 | 63.66 |\n",
       "| 2044 | 64.68 |\n",
       "| 2045 | 65.72 |\n",
       "\n"
      ],
      "text/plain": [
       "   year porcentaje\n",
       "1  2025 47.83     \n",
       "2  2026 48.60     \n",
       "3  2027 49.38     \n",
       "4  2028 50.17     \n",
       "5  2029 50.97     \n",
       "6  2030 51.79     \n",
       "7  2031 52.62     \n",
       "8  2032 53.46     \n",
       "9  2033 54.32     \n",
       "10 2034 55.18     \n",
       "11 2035 56.07     \n",
       "12 2036 56.97     \n",
       "13 2037 57.88     \n",
       "14 2038 58.80     \n",
       "15 2039 59.75     \n",
       "16 2040 60.70     \n",
       "17 2041 61.67     \n",
       "18 2042 62.66     \n",
       "19 2043 63.66     \n",
       "20 2044 64.68     \n",
       "21 2045 65.72     "
      ]
     },
     "metadata": {},
     "output_type": "display_data"
    }
   ],
   "source": [
    "extendido_confianza_policia<-data.frame(year=2025:2045)\n",
    "\n",
    "extendido_confianza_policia$porcentaje<-tabla_confianza_policia$porcentaje[tabla_confianza_policia$year==2024]*cumprod(rep(1+tcma_confianza_policia,length(2025:2045)))\n",
    "extendido_confianza_policia%>%\n",
    "mutate(porcentaje = round(porcentaje, 2))"
   ]
  },
  {
   "cell_type": "markdown",
   "id": "5b7df0bb",
   "metadata": {},
   "source": [
    "### Escenarios"
   ]
  },
  {
   "cell_type": "code",
   "execution_count": 45,
   "id": "258e6732",
   "metadata": {
    "vscode": {
     "languageId": "r"
    }
   },
   "outputs": [],
   "source": [
    "generar_grafica <- function(tabla_obs, tabla_est, margen, titulo,base, linea_base,\n",
    "                            nombre_archivo, nombre_estimado_futuro,despegue,\n",
    "                            nombre_intervalo_superior, nombre_intervalo_inferior,\n",
    "                            limite_inferior_y, variable_intervals,titulo_y) {\n",
    "\n",
    "  serie_completa <- dplyr::bind_rows(\n",
    "    tabla_obs %>%\n",
    "      dplyr::mutate(year = as.numeric(year)) %>%\n",
    "      intervals(variable_intervals, margen = 0, año_base = base),\n",
    "\n",
    "    tabla_est %>%\n",
    "      dplyr::mutate(year = as.numeric(year)) %>%\n",
    "      intervals(variable_intervals, margen = margen, año_base = base)\n",
    "  )\n",
    "\n",
    "  grafica <- grafica_bonita(\n",
    "    data = serie_completa,\n",
    "    x = \"year\",\n",
    "    y = \"estimado\",\n",
    "    titulo = titulo,\n",
    "       ano_base=base,\n",
    "     mostrar_etiqueta_ano_base = TRUE,\n",
    "    linea_vertical = linea_base,\n",
    "    anios_etiquetas=c(2045),\n",
    "      desplazamiento_ano_base = despegue,\n",
    "    mostrar_intervalo = \"ambos\",\n",
    "    nombre_observado = \"Observado\",\n",
    "    nombre_estimado_futuro = nombre_estimado_futuro,\n",
    "    nombre_intervalo_superior = nombre_intervalo_superior,\n",
    "    nombre_intervalo_inferior = nombre_intervalo_inferior,\n",
    "    mostrar_leyenda = TRUE,\n",
    "    fuente = \"pop\",\n",
    "    etiqueta_x = \"Año\",\n",
    "    etiqueta_y = titulo_y,\n",
    "    titulo_leyenda = \"Escenarios\",\n",
    "    limite_inferior_y = limite_inferior_y\n",
    "  )\n",
    "\n",
    "  ggplot2::ggsave(paste0(\"H:/Mi unidad/pgd/graficas/\",nombre_archivo), grafica, \n",
    "  width = 10, height = 8, dpi = 185, bg = \"white\")\n",
    "}"
   ]
  },
  {
   "cell_type": "code",
   "execution_count": 46,
   "id": "e8223cac",
   "metadata": {
    "vscode": {
     "languageId": "r"
    }
   },
   "outputs": [],
   "source": [
    "configuraciones <- tibble::tibble(\n",
    "  tabla_obs = list(delitos_select,tabla_confianza_fgj, tabla_confianza_policia),\n",
    "  tabla_est = list(extendido_delitos,extendido_confianza_fgj, extendido_confianza_policia),\n",
    "  margen = c(0.004, 0.01, 0.01),\n",
    "  base = c(2024, 2024, 2024),\n",
    "  nombre_archivo = c(\"prom_diario_estimada.png\",\n",
    "                     \"confianza_fgj_estimada.png\",\n",
    "                     \"confianza_policia_estimada.png\"),\n",
    "  linea_base = c(2024, 2024, 2024),\n",
    "        despegue = list(\n",
    "    c(1, 1),  \n",
    "    c(0.8, 1),\n",
    "    c(0.6,2.3) \n",
    "  ),\n",
    "  titulo_y=c(\"Promedio diario\",\"Porcentaje\",\"Porcentaje\"),\n",
    "  titulo = c(\"Promedio diario de delitos de alto impacto\",\n",
    "             \"Porcentaje de población de 18 años y más\n",
    "que confía en la fiscalía\",\n",
    "             \"Porcentaje de población de 18 años y más \n",
    "que confía en la policía\"),\n",
    "  nombre_estimado_futuro = c(\"Deseable\", \"Deseable\", \"Deseable\"),\n",
    "  nombre_intervalo_superior = c(\"Inercial\", \"Transformador\", \"Transformador\"),\n",
    "  nombre_intervalo_inferior = c(\"Transformador\", \"Inercial\", \"Inercial\"),\n",
    "  limite_inferior_y = c(20,30,30),\n",
    "  variable_intervals = c(\"promedio_diario_alto_impacto\", \"porcentaje\", \"porcentaje\")\n",
    ")\n"
   ]
  },
  {
   "cell_type": "code",
   "execution_count": 47,
   "id": "b6a92f90",
   "metadata": {
    "vscode": {
     "languageId": "r"
    }
   },
   "outputs": [
    {
     "data": {
      "text/html": [
       "<ol>\n",
       "\t<li>'H:/Mi unidad/pgd/graficas/prom_diario_estimada.png'</li>\n",
       "\t<li>'H:/Mi unidad/pgd/graficas/confianza_fgj_estimada.png'</li>\n",
       "\t<li>'H:/Mi unidad/pgd/graficas/confianza_policia_estimada.png'</li>\n",
       "</ol>\n"
      ],
      "text/latex": [
       "\\begin{enumerate}\n",
       "\\item 'H:/Mi unidad/pgd/graficas/prom\\_diario\\_estimada.png'\n",
       "\\item 'H:/Mi unidad/pgd/graficas/confianza\\_fgj\\_estimada.png'\n",
       "\\item 'H:/Mi unidad/pgd/graficas/confianza\\_policia\\_estimada.png'\n",
       "\\end{enumerate}\n"
      ],
      "text/markdown": [
       "1. 'H:/Mi unidad/pgd/graficas/prom_diario_estimada.png'\n",
       "2. 'H:/Mi unidad/pgd/graficas/confianza_fgj_estimada.png'\n",
       "3. 'H:/Mi unidad/pgd/graficas/confianza_policia_estimada.png'\n",
       "\n",
       "\n"
      ],
      "text/plain": [
       "[[1]]\n",
       "[1] \"H:/Mi unidad/pgd/graficas/prom_diario_estimada.png\"\n",
       "\n",
       "[[2]]\n",
       "[1] \"H:/Mi unidad/pgd/graficas/confianza_fgj_estimada.png\"\n",
       "\n",
       "[[3]]\n",
       "[1] \"H:/Mi unidad/pgd/graficas/confianza_policia_estimada.png\"\n"
      ]
     },
     "metadata": {},
     "output_type": "display_data"
    }
   ],
   "source": [
    "pmap(\n",
    "  configuraciones,\n",
    "  function(tabla_obs, tabla_est, margen, nombre_archivo,base,linea_base,\n",
    "           titulo, nombre_estimado_futuro,despegue,titulo_y,\n",
    "           nombre_intervalo_superior, nombre_intervalo_inferior,\n",
    "           limite_inferior_y, variable_intervals) {\n",
    "    generar_grafica(\n",
    "      tabla_obs = tabla_obs,\n",
    "      tabla_est = tabla_est,\n",
    "      margen = margen,\n",
    "      base=base,\n",
    "      linea_base=linea_base,\n",
    "       despegue = despegue,\n",
    "      titulo = titulo,\n",
    "      titulo_y = titulo_y,\n",
    "      nombre_archivo = nombre_archivo,\n",
    "      nombre_estimado_futuro = nombre_estimado_futuro,\n",
    "      nombre_intervalo_superior = nombre_intervalo_superior,\n",
    "      nombre_intervalo_inferior = nombre_intervalo_inferior,\n",
    "      limite_inferior_y = limite_inferior_y,\n",
    "      variable_intervals = variable_intervals\n",
    "    )\n",
    "  }\n",
    ")"
   ]
  }
 ],
 "metadata": {
  "kernelspec": {
   "display_name": "R",
   "language": "R",
   "name": "ir"
  },
  "language_info": {
   "codemirror_mode": "r",
   "file_extension": ".r",
   "mimetype": "text/x-r-source",
   "name": "R",
   "pygments_lexer": "r",
   "version": "4.4.1"
  }
 },
 "nbformat": 4,
 "nbformat_minor": 5
}
