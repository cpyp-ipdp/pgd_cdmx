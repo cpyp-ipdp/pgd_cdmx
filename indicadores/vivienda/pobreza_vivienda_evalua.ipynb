{
 "cells": [
  {
   "cell_type": "markdown",
   "id": "3181678b8d95f527",
   "metadata": {},
   "source": [
    "## Estimación de pobreza de vivienda de acuerdo con Evalúa CDMX\n",
    "\n",
    "El siguiente script descarga los microdatos de la ENIGH, procesa la información y estima la pobreza de vivienda en la Ciudad de México para los años 2018, 2020 y 2022. La estimación se realiza de acuerdo con la metodología de Evalúa CDMX. https://www.evalua.cdmx.gob.mx/medicion-de-la-pobreza-desigualdad-e-indice-de-desarrollo-social/medicion-de-la-pobreza-2018-2022"
   ]
  },
  {
   "cell_type": "code",
   "execution_count": 1,
   "id": "bb966030ceb7701d",
   "metadata": {
    "ExecuteTime": {
     "end_time": "2025-02-20T06:35:32.000540Z",
     "start_time": "2025-02-20T06:35:31.986921Z"
    },
    "vscode": {
     "languageId": "r"
    }
   },
   "outputs": [
    {
     "name": "stderr",
     "output_type": "stream",
     "text": [
      "Cargando paquete requerido: pacman\n",
      "\n",
      "Using GitHub PAT from the git credential store.\n",
      "\n",
      "Downloading GitHub repo cpyp-ipdp/funcionespgd@HEAD\n",
      "\n"
     ]
    },
    {
     "name": "stdout",
     "output_type": "stream",
     "text": [
      "rlang  (1.1.4 -> 1.1.6) [CRAN]\n",
      "glue   (1.7.0 -> 1.8.0) [CRAN]\n",
      "cli    (3.6.3 -> 3.6.5) [CRAN]\n",
      "tibble (3.2.1 -> 3.3.0) [CRAN]\n"
     ]
    },
    {
     "name": "stderr",
     "output_type": "stream",
     "text": [
      "Installing 4 packages: rlang, glue, cli, tibble\n",
      "\n",
      "Warning message:\n",
      "\"package 'tibble' is in use and will not be installed\"\n",
      "Installing packages into 'C:/Users/claud/AppData/Local/R/win-library/4.4'\n",
      "(as 'lib' is unspecified)\n",
      "\n"
     ]
    },
    {
     "name": "stdout",
     "output_type": "stream",
     "text": [
      "package 'rlang' successfully unpacked and MD5 sums checked\n"
     ]
    },
    {
     "name": "stderr",
     "output_type": "stream",
     "text": [
      "Warning message:\n",
      "\"cannot remove prior installation of package 'rlang'\"\n",
      "Warning message in file.copy(savedcopy, lib, recursive = TRUE):\n",
      "\"problema al copiar C:\\Users\\claud\\AppData\\Local\\R\\win-library\\4.4\\00LOCK\\rlang\\libs\\x64\\rlang.dll  a C:\\Users\\claud\\AppData\\Local\\R\\win-library\\4.4\\rlang\\libs\\x64\\rlang.dll: Permission denied\"\n",
      "Warning message:\n",
      "\"restored 'rlang'\"\n"
     ]
    },
    {
     "name": "stdout",
     "output_type": "stream",
     "text": [
      "package 'glue' successfully unpacked and MD5 sums checked\n"
     ]
    },
    {
     "name": "stderr",
     "output_type": "stream",
     "text": [
      "Warning message:\n",
      "\"cannot remove prior installation of package 'glue'\"\n",
      "Warning message in file.copy(savedcopy, lib, recursive = TRUE):\n",
      "\"problema al copiar C:\\Users\\claud\\AppData\\Local\\R\\win-library\\4.4\\00LOCK\\glue\\libs\\x64\\glue.dll  a C:\\Users\\claud\\AppData\\Local\\R\\win-library\\4.4\\glue\\libs\\x64\\glue.dll: Permission denied\"\n",
      "Warning message:\n",
      "\"restored 'glue'\"\n"
     ]
    },
    {
     "name": "stdout",
     "output_type": "stream",
     "text": [
      "package 'cli' successfully unpacked and MD5 sums checked\n"
     ]
    },
    {
     "name": "stderr",
     "output_type": "stream",
     "text": [
      "Warning message:\n",
      "\"cannot remove prior installation of package 'cli'\"\n",
      "Warning message in file.copy(savedcopy, lib, recursive = TRUE):\n",
      "\"problema al copiar C:\\Users\\claud\\AppData\\Local\\R\\win-library\\4.4\\00LOCK\\cli\\libs\\x64\\cli.dll  a C:\\Users\\claud\\AppData\\Local\\R\\win-library\\4.4\\cli\\libs\\x64\\cli.dll: Permission denied\"\n",
      "Warning message:\n",
      "\"restored 'cli'\"\n"
     ]
    },
    {
     "name": "stdout",
     "output_type": "stream",
     "text": [
      "\n",
      "The downloaded binary packages are in\n",
      "\tC:\\Users\\claud\\AppData\\Local\\Temp\\RtmpUhUsFM\\downloaded_packages\n",
      "\u001b[36m──\u001b[39m \u001b[36mR CMD build\u001b[39m \u001b[36m─────────────────────────────────────────────────────────────────\u001b[39m\n",
      "* checking for file 'C:\\Users\\claud\\AppData\\Local\\Temp\\RtmpUhUsFM\\remotes1878376f6a68\\cpyp-ipdp-funcionespgd-6fd64b9/DESCRIPTION' ... OK\n",
      "* preparing 'funcionespgd':\n",
      "* checking DESCRIPTION meta-information ... OK\n",
      "* checking for LF line-endings in source and make files and shell scripts\n",
      "* checking for empty or unneeded directories\n",
      "Omitted 'LazyData' from DESCRIPTION\n",
      "* building 'funcionespgd_0.1.0.tar.gz'\n",
      "\n"
     ]
    },
    {
     "name": "stderr",
     "output_type": "stream",
     "text": [
      "Installing package into 'C:/Users/claud/AppData/Local/R/win-library/4.4'\n",
      "(as 'lib' is unspecified)\n",
      "\n"
     ]
    }
   ],
   "source": [
    "##Estimación de pobreza de vivienda de acuerdo con Evalúa CDMX\n",
    "#Se borra todo lo que se encuentra en el entorno\n",
    "\n",
    "rm(list=ls())\n",
    "\n",
    "# Librerías ====\n",
    "if(!require('pacman')) install.packages('pacman')\n",
    "pacman::p_load(tidyverse, srvyr,showtext)\n",
    "remotes::install_github(\"cpyp-ipdp/funcionespgd\", force = TRUE)\n",
    "library(funcionespgd)\n",
    "\n",
    "#Fuente para los gráficos\n",
    "font_add_google(\"Poppins\", \"pop\")\n",
    "showtext_auto()"
   ]
  },
  {
   "cell_type": "markdown",
   "id": "9502814cd4c00490",
   "metadata": {},
   "source": [
    "### Descarga de microdatos de ENIGH"
   ]
  },
  {
   "cell_type": "code",
   "execution_count": 2,
   "id": "d6cc79f8422b4166",
   "metadata": {
    "ExecuteTime": {
     "end_time": "2025-02-20T06:35:33.350492Z",
     "start_time": "2025-02-20T06:35:32.010626Z"
    },
    "vscode": {
     "languageId": "r"
    }
   },
   "outputs": [
    {
     "name": "stderr",
     "output_type": "stream",
     "text": [
      "Archivo renombrado y movido: data/ns_viviendas_2018.csv\n",
      "\n",
      "Archivo renombrado y movido: data/ns_poblacion_2018.csv\n",
      "\n",
      "Archivo renombrado y movido: data/ns_viviendas_2020.csv\n",
      "\n",
      "Archivo renombrado y movido: data/ns_poblacion_2020.csv\n",
      "\n",
      "Archivo renombrado y movido: data/ns_viviendas_2022.csv\n",
      "\n",
      "Archivo renombrado y movido: data/ns_poblacion_2022.csv\n",
      "\n",
      "Archivo renombrado y movido: data/ns_viviendas_2024.csv\n",
      "\n",
      "Archivo renombrado y movido: data/ns_poblacion_2024.csv\n",
      "\n"
     ]
    }
   ],
   "source": [
    "# Definir URL base y parte intermedia\n",
    "url_basica <- \"https://www.inegi.org.mx/contenidos/programas/enigh/nc/\"\n",
    "segunda_parte <- \"microdatos/enigh\"\n",
    "\n",
    "# Definir los años y los tipos de archivos a descargar\n",
    "years <- c(\"2018\", \"2020\", \"2022\",\"2024\")\n",
    "tipos <- c(\"ns_viviendas\", \"ns_poblacion\")  # Tipos de archivos\n",
    "\n",
    "# Crear la carpeta de destino si no existe\n",
    "if (!dir.exists(\"data\")) {\n",
    "  dir.create(\"data\")\n",
    "}\n",
    "\n",
    "# Descargar, descomprimir y renombrar los archivos\n",
    "for (year in years) {\n",
    "  for (tipo in tipos) {\n",
    "    # Construir URL y nombres de archivo\n",
    "    url <- paste0(url_basica, year, \"/\", segunda_parte, year, \"_\", tipo, \"_csv.zip\")\n",
    "    zip_destfile <- paste0(\"data/\", year, \"_\", tipo, \".zip\")\n",
    "\n",
    "    # Descargar solo si el archivo no existe\n",
    "    if (!file.exists(zip_destfile)) {\n",
    "      download.file(url, destfile = zip_destfile, mode = \"wb\")\n",
    "    } else {\n",
    "      message(\"Archivo ya descargado: \", zip_destfile)\n",
    "    }\n",
    "\n",
    "    # Extraer archivos en una subcarpeta específica\n",
    "    extract_dir <- paste0(\"data/\", year, \"_\", tipo)\n",
    "    if (!dir.exists(extract_dir)) {\n",
    "      dir.create(extract_dir)\n",
    "    }\n",
    "\n",
    "    unzip(zip_destfile, exdir = extract_dir)\n",
    "\n",
    "    # Buscar el archivo CSV dentro de la carpeta extraída\n",
    "    extracted_files <- list.files(extract_dir, pattern = \"\\\\.csv$\", full.names = TRUE)\n",
    "\n",
    "    if (length(extracted_files) == 1) {\n",
    "      # Determinar el nuevo nombre con formato adecuado\n",
    "      new_name <- paste0(\"data/\", tipo, \"_\", year, \".csv\")\n",
    "\n",
    "      # Mover el archivo al directorio principal y renombrarlo\n",
    "      file.rename(extracted_files, new_name)\n",
    "\n",
    "      message(\"Archivo renombrado y movido: \", new_name)\n",
    "    } else {\n",
    "      message(\"Error: No se encontró un archivo CSV único en \", extract_dir)\n",
    "    }\n",
    "  }\n",
    "}\n"
   ]
  },
  {
   "cell_type": "markdown",
   "id": "898d978a30ca0616",
   "metadata": {},
   "source": [
    "### Función de estimación de pobreza de vivienda"
   ]
  },
  {
   "cell_type": "code",
   "execution_count": 3,
   "id": "67aa89d057797dfc",
   "metadata": {
    "ExecuteTime": {
     "end_time": "2025-02-20T06:35:33.372737Z",
     "start_time": "2025-02-20T06:35:33.359565Z"
    },
    "vscode": {
     "languageId": "r"
    }
   },
   "outputs": [],
   "source": [
    "estima_pobreza_vivi <- function(year, variable) {\n",
    "\n",
    "#Procesar vivienda\n",
    "  vivienda <- read_csv(paste0(\"data/ns_viviendas_\", year, \".csv\"), show_col_types = FALSE) %>%\n",
    "  #Paredes\n",
    "    mutate(\n",
    "      Mj = as.numeric(mat_pared),\n",
    "      AMj = case_when(\n",
    "        Mj %in% c(1, 2) ~ 0,\n",
    "        Mj > 2 & Mj < 6 ~ 0.25,\n",
    "        Mj %in% c(6, 7) ~ 0.6,\n",
    "        Mj == 8 ~ 1,\n",
    "        TRUE ~ 0\n",
    "      ),\n",
    " #Techos\n",
    "      Tj = as.numeric(mat_techos),\n",
    "      ATj = case_when(\n",
    "        Tj %in% c(1, 2) ~ 0,\n",
    "        Tj > 2 & Tj < 9 ~ 0.5,\n",
    "        Tj %in% c(9, 10) ~ 1,\n",
    "        TRUE ~ 0\n",
    "      ),\n",
    "\n",
    " #Pisos\n",
    "      Pj = as.numeric(mat_pisos),\n",
    "      APj = case_when(\n",
    "        Pj %in% c(0, 1) ~ 0,\n",
    "        Pj == 2 ~ 0.5,\n",
    "        Pj == 3 ~ 1,\n",
    "        TRUE ~ NA_real_\n",
    "      ),\n",
    "  #Índice compuesto de calidad de la vivienda\n",
    "      ACVj = (APj * 0.15) + (AMj * 0.55) + (ATj * 0.30),\n",
    "\n",
    "   #Espacio disponible en la vivienda\n",
    "      CTj = num_cuarto,\n",
    "      Dhj = cuart_dorm,\n",
    "      KEhj = case_when(\n",
    "        cocina == \"2\" ~ 0,\n",
    "        cocina == \"1\" & cocina_dor == \"1\" ~ 0.6,\n",
    "        cocina == \"1\" & cocina_dor == \"2\" ~ 1,\n",
    "        TRUE ~ 0\n",
    "      ),\n",
    "      CMj = CTj - (Dhj + KEhj),\n",
    "\n",
    "  #Norma de cuartos para viviendas unipersonales\n",
    "      CTj_N1 = ifelse(tot_resid == 1, 1, 0),\n",
    "\n",
    "    #Norma de dormitorios y adecuación\n",
    "      Dh_N = tot_resid / 2,\n",
    "      ADh = Dhj / Dh_N,\n",
    "      CMj_N = tot_resid / 4,\n",
    "      DEh_N = (0.5) + Dh_N + (CMj_N * 1.5),\n",
    "      DEh = (KEhj * 0.5) + Dhj + (CMj * 1.5),\n",
    "   #Adecuación de espacios de la vivienda\n",
    "      AEVh = ifelse(tot_resid == 1, CTj / CTj_N1, DEh / DEh_N),\n",
    "      AEVh_P = case_when(\n",
    "        AEVh > 1 ~ 1 + ((AEVh - 1) / 2),\n",
    "        TRUE ~ AEVh\n",
    "      ),\n",
    "      AEVh_P = pmin(AEVh_P, 2),\n",
    "      HMDh = 1 - AEVh_P,\n",
    "\n",
    "   #############\n",
    "    #Variable creada por IPDP para identificar únicamente el hacinamiento\n",
    "    #La norma de HMDh es 0, por lo que se considera hacinamiento si es mayor a 0\n",
    "    hacina = case_when(\n",
    "          HMDh > 0 ~ 1,\n",
    "            TRUE ~ 0\n",
    "        ),\n",
    "#########\n",
    "\n",
    "\n",
    "\n",
    "   #Consolidado de cantidad y calidad de la vivienda\n",
    "      ACEVj = ACVj * AEVh_P,\n",
    "      CCEVj = 1 - ACEVj\n",
    "    )%>%\n",
    "\n",
    "   #Seleccionar las variables requeridas\n",
    "    {\n",
    "      if(year < 2022) select(., folioviv, AMj, ATj, APj, ACVj, CTj, Dhj, KEhj, CMj, CTj_N1, Dh_N, ADh, CMj_N, DEh_N, DEh, AEVh, AEVh_P, HMDh, ACEVj, CCEVj, factor, upm, est_dis,hacina) else\n",
    "        select(., folioviv, AMj, ATj, APj, ACVj, CTj, Dhj, KEhj, CMj, CTj_N1, Dh_N, ADh, CMj_N, DEh_N, DEh, AEVh, AEVh_P, HMDh, ACEVj, CCEVj, hacina)}\n",
    "\n",
    "vivihog<-vivienda%>%\n",
    "   #Seleccionar las variables requeridas\n",
    "    {\n",
    "      if(year < 2022) select(., folioviv,  hacina) else\n",
    "        select(., folioviv, hacina)}\n",
    "\n",
    "\n",
    "  pob <- read_csv(paste0(\"data/ns_poblacion_\", year, \".csv\"), show_col_types = FALSE) %>%\n",
    "    janitor::clean_names() %>%\n",
    "\n",
    "    # Filtrar parentescos que no pertenecen al nucleo familiar\n",
    "    filter(!(parentesco >= 400 & parentesco < 500) & !(parentesco >= 700 & parentesco < 800)) %>%\n",
    "\n",
    "    #Crear clave de entidad\n",
    "    mutate(\n",
    "      cve_ent = case_when(\n",
    "        nchar(folioviv) == 9 ~ paste0(\"0\", substr(folioviv, 1, 1)),\n",
    "        nchar(folioviv) == 10 ~ substr(folioviv, 1, 2)\n",
    "      )\n",
    "    ) %>%\n",
    "    #Pegar vivienda\n",
    "    left_join(vivienda, by = \"folioviv\") %>%\n",
    "\n",
    "    #Crear estratos de calidad de espacio de la vivienda\n",
    "    mutate(\n",
    "      E_ccevj = case_when(\n",
    "        CCEVj <= -0.5 ~ 6,\n",
    "        CCEVj > -0.5 & CCEVj <= -0.1 ~ 5,\n",
    "        CCEVj > -0.1 & CCEVj <= 0 ~ 4,\n",
    "        CCEVj > 0 & CCEVj <= (1/3) ~ 3,\n",
    "        CCEVj > (1/3) & CCEVj <= 0.5 ~ 2,\n",
    "        CCEVj > 0.5 & CCEVj <= 1 ~ 1,\n",
    "        TRUE ~ NA_real_\n",
    "      ),\n",
    "      #Crear variables de pobreza de vivienda\n",
    "      pobreza_ccevj = ifelse(E_ccevj >= 4, 0, 1),\n",
    "      pobre_ext_ccevj = ifelse(E_ccevj >= 3, 0, 1),\n",
    "      year = year\n",
    "    )\n",
    "\n",
    "\n",
    "#Diseño muestral\n",
    "  diseno <- pob %>%\n",
    "    as_survey_design(\n",
    "      ids = upm,\n",
    "      strata = est_dis,\n",
    "      weights = factor,\n",
    "      nest = TRUE\n",
    "    )\n",
    "\n",
    "\n",
    "  pobrezavivi <- diseno %>%\n",
    "    filter(cve_ent == \"09\") %>%\n",
    "    group_by(pobreza_ccevj) %>%\n",
    "    summarise(\n",
    "      pob = survey_total(vartype = \"cv\"),\n",
    "      porcentaje = survey_prop(vartype = \"cv\")\n",
    "    ) %>%\n",
    "    mutate(porcentaje = porcentaje * 100, year = year)%>%\n",
    "    filter(pobreza_ccevj == 1)\n",
    "\n",
    "hacinamiento<-diseno %>%\n",
    "    filter(cve_ent == \"09\") %>%\n",
    "    group_by(hacina) %>%\n",
    "    summarise(\n",
    "      pob = survey_total(vartype = \"cv\"),\n",
    "      porcentaje=survey_prop(vartype = \"cv\")\n",
    "    ) %>%\n",
    "    mutate(porcentaje = porcentaje * 100,\n",
    "    year = year,\n",
    "    )%>%filter(hacina == 1)\n",
    "\n",
    "\n",
    "hacinamiento_hog<-diseno %>%\n",
    "    filter(cve_ent == \"09\") %>%\n",
    "    filter(parentesco==101)%>%\n",
    "    group_by(hacina) %>%\n",
    "    summarise(\n",
    "      hogares = survey_total(vartype = \"cv\"),\n",
    "      porcentaje=survey_prop(vartype = \"cv\")\n",
    "    ) %>%\n",
    "    mutate(porcentaje = porcentaje * 100,\n",
    "    year = year,\n",
    "    )%>%filter(hacina == 1)\n",
    "\n",
    "\n",
    "#Estimaciones de acuerdo a variable solicitada\n",
    "\n",
    "if (variable == \"pobreza_vivi\"){\n",
    "  return(pobrezavivi)\n",
    "} else if (variable == \"hacinamiento\"){\n",
    "  return(hacinamiento)\n",
    "}\n",
    "else if (variable == \"hacinamiento_hog\"){\n",
    "  return(hacinamiento_hog)\n",
    "}\n",
    "else {\n",
    "  return(\"Variable no reconocida\")\n",
    "}\n",
    "}"
   ]
  },
  {
   "cell_type": "markdown",
   "id": "a23bb2dedb043c40",
   "metadata": {},
   "source": [
    "### Estimar pobreza de vivienda para 2018, 2020 y 2022"
   ]
  },
  {
   "cell_type": "code",
   "execution_count": 4,
   "id": "208024aa46c016f9",
   "metadata": {
    "ExecuteTime": {
     "end_time": "2025-02-20T06:35:47.470204Z",
     "start_time": "2025-02-20T06:35:33.431767Z"
    },
    "vscode": {
     "languageId": "r"
    }
   },
   "outputs": [
    {
     "name": "stderr",
     "output_type": "stream",
     "text": [
      "Warning message:\n",
      "\"\u001b[1m\u001b[22mOne or more parsing issues, call `problems()` on your data frame for details,\n",
      "e.g.:\n",
      "  dat <- vroom(...)\n",
      "  problems(dat)\"\n",
      "Warning message:\n",
      "\"\u001b[1m\u001b[22mOne or more parsing issues, call `problems()` on your data frame for details,\n",
      "e.g.:\n",
      "  dat <- vroom(...)\n",
      "  problems(dat)\"\n",
      "Warning message:\n",
      "\"\u001b[1m\u001b[22mOne or more parsing issues, call `problems()` on your data frame for details,\n",
      "e.g.:\n",
      "  dat <- vroom(...)\n",
      "  problems(dat)\"\n",
      "Warning message:\n",
      "\"\u001b[1m\u001b[22mOne or more parsing issues, call `problems()` on your data frame for details,\n",
      "e.g.:\n",
      "  dat <- vroom(...)\n",
      "  problems(dat)\"\n",
      "Warning message:\n",
      "\"\u001b[1m\u001b[22mOne or more parsing issues, call `problems()` on your data frame for details,\n",
      "e.g.:\n",
      "  dat <- vroom(...)\n",
      "  problems(dat)\"\n",
      "Warning message:\n",
      "\"\u001b[1m\u001b[22mOne or more parsing issues, call `problems()` on your data frame for details,\n",
      "e.g.:\n",
      "  dat <- vroom(...)\n",
      "  problems(dat)\"\n",
      "Warning message:\n",
      "\"\u001b[1m\u001b[22mOne or more parsing issues, call `problems()` on your data frame for details,\n",
      "e.g.:\n",
      "  dat <- vroom(...)\n",
      "  problems(dat)\"\n",
      "Warning message:\n",
      "\"\u001b[1m\u001b[22mOne or more parsing issues, call `problems()` on your data frame for details,\n",
      "e.g.:\n",
      "  dat <- vroom(...)\n",
      "  problems(dat)\"\n"
     ]
    },
    {
     "data": {
      "text/html": [
       "<table class=\"dataframe\">\n",
       "<caption>A tibble: 4 × 6</caption>\n",
       "<thead>\n",
       "\t<tr><th scope=col>pobreza_ccevj</th><th scope=col>pob</th><th scope=col>pob_cv</th><th scope=col>porcentaje</th><th scope=col>porcentaje_cv</th><th scope=col>year</th></tr>\n",
       "\t<tr><th scope=col>&lt;dbl&gt;</th><th scope=col>&lt;dbl&gt;</th><th scope=col>&lt;dbl&gt;</th><th scope=col>&lt;dbl&gt;</th><th scope=col>&lt;dbl&gt;</th><th scope=col>&lt;chr&gt;</th></tr>\n",
       "</thead>\n",
       "<tbody>\n",
       "\t<tr><td>1</td><td>4510741</td><td>0.04025664</td><td>49.04972</td><td>0.02873110</td><td>2018</td></tr>\n",
       "\t<tr><td>1</td><td>4445936</td><td>0.03849353</td><td>48.11284</td><td>0.02889217</td><td>2020</td></tr>\n",
       "\t<tr><td>1</td><td>3968378</td><td>0.04693254</td><td>42.65005</td><td>0.03663865</td><td>2022</td></tr>\n",
       "\t<tr><td>1</td><td>4043199</td><td>0.04258380</td><td>43.26330</td><td>0.03343185</td><td>2024</td></tr>\n",
       "</tbody>\n",
       "</table>\n"
      ],
      "text/latex": [
       "A tibble: 4 × 6\n",
       "\\begin{tabular}{llllll}\n",
       " pobreza\\_ccevj & pob & pob\\_cv & porcentaje & porcentaje\\_cv & year\\\\\n",
       " <dbl> & <dbl> & <dbl> & <dbl> & <dbl> & <chr>\\\\\n",
       "\\hline\n",
       "\t 1 & 4510741 & 0.04025664 & 49.04972 & 0.02873110 & 2018\\\\\n",
       "\t 1 & 4445936 & 0.03849353 & 48.11284 & 0.02889217 & 2020\\\\\n",
       "\t 1 & 3968378 & 0.04693254 & 42.65005 & 0.03663865 & 2022\\\\\n",
       "\t 1 & 4043199 & 0.04258380 & 43.26330 & 0.03343185 & 2024\\\\\n",
       "\\end{tabular}\n"
      ],
      "text/markdown": [
       "\n",
       "A tibble: 4 × 6\n",
       "\n",
       "| pobreza_ccevj &lt;dbl&gt; | pob &lt;dbl&gt; | pob_cv &lt;dbl&gt; | porcentaje &lt;dbl&gt; | porcentaje_cv &lt;dbl&gt; | year &lt;chr&gt; |\n",
       "|---|---|---|---|---|---|\n",
       "| 1 | 4510741 | 0.04025664 | 49.04972 | 0.02873110 | 2018 |\n",
       "| 1 | 4445936 | 0.03849353 | 48.11284 | 0.02889217 | 2020 |\n",
       "| 1 | 3968378 | 0.04693254 | 42.65005 | 0.03663865 | 2022 |\n",
       "| 1 | 4043199 | 0.04258380 | 43.26330 | 0.03343185 | 2024 |\n",
       "\n"
      ],
      "text/plain": [
       "  pobreza_ccevj pob     pob_cv     porcentaje porcentaje_cv year\n",
       "1 1             4510741 0.04025664 49.04972   0.02873110    2018\n",
       "2 1             4445936 0.03849353 48.11284   0.02889217    2020\n",
       "3 1             3968378 0.04693254 42.65005   0.03663865    2022\n",
       "4 1             4043199 0.04258380 43.26330   0.03343185    2024"
      ]
     },
     "metadata": {},
     "output_type": "display_data"
    }
   ],
   "source": [
    "tabla_pobreza <- map_dfr(years, estima_pobreza_vivi, variable = \"pobreza_vivi\")\n",
    "tabla_pobreza"
   ]
  },
  {
   "cell_type": "markdown",
   "id": "3324339ac50c54e9",
   "metadata": {},
   "source": [
    "#### Población que reside en hacinamiento en CDMX"
   ]
  },
  {
   "cell_type": "code",
   "execution_count": 5,
   "id": "c2b6b8dd80263b13",
   "metadata": {
    "ExecuteTime": {
     "end_time": "2025-02-20T06:36:02.300904Z",
     "start_time": "2025-02-20T06:35:47.487235Z"
    },
    "vscode": {
     "languageId": "r"
    }
   },
   "outputs": [
    {
     "name": "stderr",
     "output_type": "stream",
     "text": [
      "Warning message:\n",
      "\"\u001b[1m\u001b[22mOne or more parsing issues, call `problems()` on your data frame for details,\n",
      "e.g.:\n",
      "  dat <- vroom(...)\n",
      "  problems(dat)\"\n",
      "Warning message:\n",
      "\"\u001b[1m\u001b[22mOne or more parsing issues, call `problems()` on your data frame for details,\n",
      "e.g.:\n",
      "  dat <- vroom(...)\n",
      "  problems(dat)\"\n",
      "Warning message:\n",
      "\"\u001b[1m\u001b[22mOne or more parsing issues, call `problems()` on your data frame for details,\n",
      "e.g.:\n",
      "  dat <- vroom(...)\n",
      "  problems(dat)\"\n",
      "Warning message:\n",
      "\"\u001b[1m\u001b[22mOne or more parsing issues, call `problems()` on your data frame for details,\n",
      "e.g.:\n",
      "  dat <- vroom(...)\n",
      "  problems(dat)\"\n",
      "Warning message:\n",
      "\"\u001b[1m\u001b[22mOne or more parsing issues, call `problems()` on your data frame for details,\n",
      "e.g.:\n",
      "  dat <- vroom(...)\n",
      "  problems(dat)\"\n",
      "Warning message:\n",
      "\"\u001b[1m\u001b[22mOne or more parsing issues, call `problems()` on your data frame for details,\n",
      "e.g.:\n",
      "  dat <- vroom(...)\n",
      "  problems(dat)\"\n",
      "Warning message:\n",
      "\"\u001b[1m\u001b[22mOne or more parsing issues, call `problems()` on your data frame for details,\n",
      "e.g.:\n",
      "  dat <- vroom(...)\n",
      "  problems(dat)\"\n",
      "Warning message:\n",
      "\"\u001b[1m\u001b[22mOne or more parsing issues, call `problems()` on your data frame for details,\n",
      "e.g.:\n",
      "  dat <- vroom(...)\n",
      "  problems(dat)\"\n"
     ]
    },
    {
     "data": {
      "text/html": [
       "<table class=\"dataframe\">\n",
       "<caption>A tibble: 4 × 6</caption>\n",
       "<thead>\n",
       "\t<tr><th scope=col>hacina</th><th scope=col>pob</th><th scope=col>pob_cv</th><th scope=col>porcentaje</th><th scope=col>porcentaje_cv</th><th scope=col>year</th></tr>\n",
       "\t<tr><th scope=col>&lt;dbl&gt;</th><th scope=col>&lt;dbl&gt;</th><th scope=col>&lt;dbl&gt;</th><th scope=col>&lt;dbl&gt;</th><th scope=col>&lt;dbl&gt;</th><th scope=col>&lt;chr&gt;</th></tr>\n",
       "</thead>\n",
       "<tbody>\n",
       "\t<tr><td>1</td><td>4012083</td><td>0.04372825</td><td>43.62732</td><td>0.03301124</td><td>2018</td></tr>\n",
       "\t<tr><td>1</td><td>4004892</td><td>0.04078043</td><td>43.33997</td><td>0.03136532</td><td>2020</td></tr>\n",
       "\t<tr><td>1</td><td>3580447</td><td>0.04929240</td><td>38.48077</td><td>0.03982345</td><td>2022</td></tr>\n",
       "\t<tr><td>1</td><td>3771529</td><td>0.04555447</td><td>40.35636</td><td>0.03605766</td><td>2024</td></tr>\n",
       "</tbody>\n",
       "</table>\n"
      ],
      "text/latex": [
       "A tibble: 4 × 6\n",
       "\\begin{tabular}{llllll}\n",
       " hacina & pob & pob\\_cv & porcentaje & porcentaje\\_cv & year\\\\\n",
       " <dbl> & <dbl> & <dbl> & <dbl> & <dbl> & <chr>\\\\\n",
       "\\hline\n",
       "\t 1 & 4012083 & 0.04372825 & 43.62732 & 0.03301124 & 2018\\\\\n",
       "\t 1 & 4004892 & 0.04078043 & 43.33997 & 0.03136532 & 2020\\\\\n",
       "\t 1 & 3580447 & 0.04929240 & 38.48077 & 0.03982345 & 2022\\\\\n",
       "\t 1 & 3771529 & 0.04555447 & 40.35636 & 0.03605766 & 2024\\\\\n",
       "\\end{tabular}\n"
      ],
      "text/markdown": [
       "\n",
       "A tibble: 4 × 6\n",
       "\n",
       "| hacina &lt;dbl&gt; | pob &lt;dbl&gt; | pob_cv &lt;dbl&gt; | porcentaje &lt;dbl&gt; | porcentaje_cv &lt;dbl&gt; | year &lt;chr&gt; |\n",
       "|---|---|---|---|---|---|\n",
       "| 1 | 4012083 | 0.04372825 | 43.62732 | 0.03301124 | 2018 |\n",
       "| 1 | 4004892 | 0.04078043 | 43.33997 | 0.03136532 | 2020 |\n",
       "| 1 | 3580447 | 0.04929240 | 38.48077 | 0.03982345 | 2022 |\n",
       "| 1 | 3771529 | 0.04555447 | 40.35636 | 0.03605766 | 2024 |\n",
       "\n"
      ],
      "text/plain": [
       "  hacina pob     pob_cv     porcentaje porcentaje_cv year\n",
       "1 1      4012083 0.04372825 43.62732   0.03301124    2018\n",
       "2 1      4004892 0.04078043 43.33997   0.03136532    2020\n",
       "3 1      3580447 0.04929240 38.48077   0.03982345    2022\n",
       "4 1      3771529 0.04555447 40.35636   0.03605766    2024"
      ]
     },
     "metadata": {},
     "output_type": "display_data"
    }
   ],
   "source": [
    "tabla_hac<- map_dfr(years, estima_pobreza_vivi, variable = \"hacinamiento\")\n",
    "tabla_hac"
   ]
  },
  {
   "cell_type": "code",
   "execution_count": 6,
   "id": "adc69bfbe5b3be5e",
   "metadata": {
    "ExecuteTime": {
     "end_time": "2025-02-20T06:36:17.570954Z",
     "start_time": "2025-02-20T06:36:02.334412Z"
    },
    "vscode": {
     "languageId": "r"
    }
   },
   "outputs": [
    {
     "name": "stderr",
     "output_type": "stream",
     "text": [
      "Warning message:\n",
      "\"\u001b[1m\u001b[22mOne or more parsing issues, call `problems()` on your data frame for details,\n",
      "e.g.:\n",
      "  dat <- vroom(...)\n",
      "  problems(dat)\"\n",
      "Warning message:\n",
      "\"\u001b[1m\u001b[22mOne or more parsing issues, call `problems()` on your data frame for details,\n",
      "e.g.:\n",
      "  dat <- vroom(...)\n",
      "  problems(dat)\"\n",
      "Warning message:\n",
      "\"\u001b[1m\u001b[22mOne or more parsing issues, call `problems()` on your data frame for details,\n",
      "e.g.:\n",
      "  dat <- vroom(...)\n",
      "  problems(dat)\"\n",
      "Warning message:\n",
      "\"\u001b[1m\u001b[22mOne or more parsing issues, call `problems()` on your data frame for details,\n",
      "e.g.:\n",
      "  dat <- vroom(...)\n",
      "  problems(dat)\"\n",
      "Warning message:\n",
      "\"\u001b[1m\u001b[22mOne or more parsing issues, call `problems()` on your data frame for details,\n",
      "e.g.:\n",
      "  dat <- vroom(...)\n",
      "  problems(dat)\"\n",
      "Warning message:\n",
      "\"\u001b[1m\u001b[22mOne or more parsing issues, call `problems()` on your data frame for details,\n",
      "e.g.:\n",
      "  dat <- vroom(...)\n",
      "  problems(dat)\"\n",
      "Warning message:\n",
      "\"\u001b[1m\u001b[22mOne or more parsing issues, call `problems()` on your data frame for details,\n",
      "e.g.:\n",
      "  dat <- vroom(...)\n",
      "  problems(dat)\"\n",
      "Warning message:\n",
      "\"\u001b[1m\u001b[22mOne or more parsing issues, call `problems()` on your data frame for details,\n",
      "e.g.:\n",
      "  dat <- vroom(...)\n",
      "  problems(dat)\"\n"
     ]
    },
    {
     "data": {
      "text/html": [
       "<table class=\"dataframe\">\n",
       "<caption>A tibble: 4 × 6</caption>\n",
       "<thead>\n",
       "\t<tr><th scope=col>hacina</th><th scope=col>hogares</th><th scope=col>hogares_cv</th><th scope=col>porcentaje</th><th scope=col>porcentaje_cv</th><th scope=col>year</th></tr>\n",
       "\t<tr><th scope=col>&lt;dbl&gt;</th><th scope=col>&lt;dbl&gt;</th><th scope=col>&lt;dbl&gt;</th><th scope=col>&lt;dbl&gt;</th><th scope=col>&lt;dbl&gt;</th><th scope=col>&lt;chr&gt;</th></tr>\n",
       "</thead>\n",
       "<tbody>\n",
       "\t<tr><td>1</td><td>904738</td><td>0.04033645</td><td>32.55809</td><td>0.03732714</td><td>2018</td></tr>\n",
       "\t<tr><td>1</td><td>885891</td><td>0.03867539</td><td>32.43023</td><td>0.03488969</td><td>2020</td></tr>\n",
       "\t<tr><td>1</td><td>821979</td><td>0.04554007</td><td>27.49066</td><td>0.04277385</td><td>2022</td></tr>\n",
       "\t<tr><td>1</td><td>871378</td><td>0.04268208</td><td>28.27011</td><td>0.04069266</td><td>2024</td></tr>\n",
       "</tbody>\n",
       "</table>\n"
      ],
      "text/latex": [
       "A tibble: 4 × 6\n",
       "\\begin{tabular}{llllll}\n",
       " hacina & hogares & hogares\\_cv & porcentaje & porcentaje\\_cv & year\\\\\n",
       " <dbl> & <dbl> & <dbl> & <dbl> & <dbl> & <chr>\\\\\n",
       "\\hline\n",
       "\t 1 & 904738 & 0.04033645 & 32.55809 & 0.03732714 & 2018\\\\\n",
       "\t 1 & 885891 & 0.03867539 & 32.43023 & 0.03488969 & 2020\\\\\n",
       "\t 1 & 821979 & 0.04554007 & 27.49066 & 0.04277385 & 2022\\\\\n",
       "\t 1 & 871378 & 0.04268208 & 28.27011 & 0.04069266 & 2024\\\\\n",
       "\\end{tabular}\n"
      ],
      "text/markdown": [
       "\n",
       "A tibble: 4 × 6\n",
       "\n",
       "| hacina &lt;dbl&gt; | hogares &lt;dbl&gt; | hogares_cv &lt;dbl&gt; | porcentaje &lt;dbl&gt; | porcentaje_cv &lt;dbl&gt; | year &lt;chr&gt; |\n",
       "|---|---|---|---|---|---|\n",
       "| 1 | 904738 | 0.04033645 | 32.55809 | 0.03732714 | 2018 |\n",
       "| 1 | 885891 | 0.03867539 | 32.43023 | 0.03488969 | 2020 |\n",
       "| 1 | 821979 | 0.04554007 | 27.49066 | 0.04277385 | 2022 |\n",
       "| 1 | 871378 | 0.04268208 | 28.27011 | 0.04069266 | 2024 |\n",
       "\n"
      ],
      "text/plain": [
       "  hacina hogares hogares_cv porcentaje porcentaje_cv year\n",
       "1 1      904738  0.04033645 32.55809   0.03732714    2018\n",
       "2 1      885891  0.03867539 32.43023   0.03488969    2020\n",
       "3 1      821979  0.04554007 27.49066   0.04277385    2022\n",
       "4 1      871378  0.04268208 28.27011   0.04069266    2024"
      ]
     },
     "metadata": {},
     "output_type": "display_data"
    }
   ],
   "source": [
    "tabla_hac_hog<- map_dfr(years, estima_pobreza_vivi, variable = \"hacinamiento_hog\")\n",
    "tabla_hac_hog"
   ]
  },
  {
   "cell_type": "markdown",
   "id": "63d2bcac",
   "metadata": {},
   "source": [
    "### Estimación a 2045"
   ]
  },
  {
   "cell_type": "code",
   "execution_count": 7,
   "id": "2543e533",
   "metadata": {
    "vscode": {
     "languageId": "r"
    }
   },
   "outputs": [
    {
     "data": {
      "text/html": [
       "-0.0414129672141621"
      ],
      "text/latex": [
       "-0.0414129672141621"
      ],
      "text/markdown": [
       "-0.0414129672141621"
      ],
      "text/plain": [
       "[1] -0.04141297"
      ]
     },
     "metadata": {},
     "output_type": "display_data"
    }
   ],
   "source": [
    "#Tasa de crecimiento media anual del porcentaje de hogares en hacinamiento\n",
    "\n",
    "tcma<-((tabla_hac_hog$porcentaje[tabla_hac_hog$year==2022]/tabla_hac_hog$porcentaje[tabla_hac_hog$year==2018])^(1/(2022-2018))-1)\n",
    "tcma"
   ]
  },
  {
   "cell_type": "code",
   "execution_count": 8,
   "id": "4ed79e00",
   "metadata": {
    "vscode": {
     "languageId": "r"
    }
   },
   "outputs": [
    {
     "data": {
      "text/html": [
       "<table class=\"dataframe\">\n",
       "<caption>A data.frame: 23 × 2</caption>\n",
       "<thead>\n",
       "\t<tr><th scope=col>year</th><th scope=col>porcentaje</th></tr>\n",
       "\t<tr><th scope=col>&lt;int&gt;</th><th scope=col>&lt;dbl&gt;</th></tr>\n",
       "</thead>\n",
       "<tbody>\n",
       "\t<tr><td>2023</td><td>26.35</td></tr>\n",
       "\t<tr><td>2024</td><td>25.26</td></tr>\n",
       "\t<tr><td>2025</td><td>24.21</td></tr>\n",
       "\t<tr><td>2026</td><td>23.21</td></tr>\n",
       "\t<tr><td>2027</td><td>22.25</td></tr>\n",
       "\t<tr><td>2028</td><td>21.33</td></tr>\n",
       "\t<tr><td>2029</td><td>20.45</td></tr>\n",
       "\t<tr><td>2030</td><td>19.60</td></tr>\n",
       "\t<tr><td>2031</td><td>18.79</td></tr>\n",
       "\t<tr><td>2032</td><td>18.01</td></tr>\n",
       "\t<tr><td>2033</td><td>17.26</td></tr>\n",
       "\t<tr><td>2034</td><td>16.55</td></tr>\n",
       "\t<tr><td>2035</td><td>15.86</td></tr>\n",
       "\t<tr><td>2036</td><td>15.21</td></tr>\n",
       "\t<tr><td>2037</td><td>14.58</td></tr>\n",
       "\t<tr><td>2038</td><td>13.97</td></tr>\n",
       "\t<tr><td>2039</td><td>13.39</td></tr>\n",
       "\t<tr><td>2040</td><td>12.84</td></tr>\n",
       "\t<tr><td>2041</td><td>12.31</td></tr>\n",
       "\t<tr><td>2042</td><td>11.80</td></tr>\n",
       "\t<tr><td>2043</td><td>11.31</td></tr>\n",
       "\t<tr><td>2044</td><td>10.84</td></tr>\n",
       "\t<tr><td>2045</td><td>10.39</td></tr>\n",
       "</tbody>\n",
       "</table>\n"
      ],
      "text/latex": [
       "A data.frame: 23 × 2\n",
       "\\begin{tabular}{ll}\n",
       " year & porcentaje\\\\\n",
       " <int> & <dbl>\\\\\n",
       "\\hline\n",
       "\t 2023 & 26.35\\\\\n",
       "\t 2024 & 25.26\\\\\n",
       "\t 2025 & 24.21\\\\\n",
       "\t 2026 & 23.21\\\\\n",
       "\t 2027 & 22.25\\\\\n",
       "\t 2028 & 21.33\\\\\n",
       "\t 2029 & 20.45\\\\\n",
       "\t 2030 & 19.60\\\\\n",
       "\t 2031 & 18.79\\\\\n",
       "\t 2032 & 18.01\\\\\n",
       "\t 2033 & 17.26\\\\\n",
       "\t 2034 & 16.55\\\\\n",
       "\t 2035 & 15.86\\\\\n",
       "\t 2036 & 15.21\\\\\n",
       "\t 2037 & 14.58\\\\\n",
       "\t 2038 & 13.97\\\\\n",
       "\t 2039 & 13.39\\\\\n",
       "\t 2040 & 12.84\\\\\n",
       "\t 2041 & 12.31\\\\\n",
       "\t 2042 & 11.80\\\\\n",
       "\t 2043 & 11.31\\\\\n",
       "\t 2044 & 10.84\\\\\n",
       "\t 2045 & 10.39\\\\\n",
       "\\end{tabular}\n"
      ],
      "text/markdown": [
       "\n",
       "A data.frame: 23 × 2\n",
       "\n",
       "| year &lt;int&gt; | porcentaje &lt;dbl&gt; |\n",
       "|---|---|\n",
       "| 2023 | 26.35 |\n",
       "| 2024 | 25.26 |\n",
       "| 2025 | 24.21 |\n",
       "| 2026 | 23.21 |\n",
       "| 2027 | 22.25 |\n",
       "| 2028 | 21.33 |\n",
       "| 2029 | 20.45 |\n",
       "| 2030 | 19.60 |\n",
       "| 2031 | 18.79 |\n",
       "| 2032 | 18.01 |\n",
       "| 2033 | 17.26 |\n",
       "| 2034 | 16.55 |\n",
       "| 2035 | 15.86 |\n",
       "| 2036 | 15.21 |\n",
       "| 2037 | 14.58 |\n",
       "| 2038 | 13.97 |\n",
       "| 2039 | 13.39 |\n",
       "| 2040 | 12.84 |\n",
       "| 2041 | 12.31 |\n",
       "| 2042 | 11.80 |\n",
       "| 2043 | 11.31 |\n",
       "| 2044 | 10.84 |\n",
       "| 2045 | 10.39 |\n",
       "\n"
      ],
      "text/plain": [
       "   year porcentaje\n",
       "1  2023 26.35     \n",
       "2  2024 25.26     \n",
       "3  2025 24.21     \n",
       "4  2026 23.21     \n",
       "5  2027 22.25     \n",
       "6  2028 21.33     \n",
       "7  2029 20.45     \n",
       "8  2030 19.60     \n",
       "9  2031 18.79     \n",
       "10 2032 18.01     \n",
       "11 2033 17.26     \n",
       "12 2034 16.55     \n",
       "13 2035 15.86     \n",
       "14 2036 15.21     \n",
       "15 2037 14.58     \n",
       "16 2038 13.97     \n",
       "17 2039 13.39     \n",
       "18 2040 12.84     \n",
       "19 2041 12.31     \n",
       "20 2042 11.80     \n",
       "21 2043 11.31     \n",
       "22 2044 10.84     \n",
       "23 2045 10.39     "
      ]
     },
     "metadata": {},
     "output_type": "display_data"
    }
   ],
   "source": [
    "extendido_hoghac<-data.frame(year=2023:2045)\n",
    "\n",
    "extendido_hoghac$porcentaje<-tabla_hac_hog$porcentaje[tabla_hac_hog$year==2022]*cumprod(rep(1+tcma,length(2023:2045)))\n",
    "extendido_hoghac%>%\n",
    "mutate(porcentaje=round(porcentaje,2))"
   ]
  },
  {
   "cell_type": "markdown",
   "id": "39990d42",
   "metadata": {},
   "source": [
    "### Escenarios"
   ]
  },
  {
   "cell_type": "code",
   "execution_count": 9,
   "id": "1457b414",
   "metadata": {
    "vscode": {
     "languageId": "r"
    }
   },
   "outputs": [
    {
     "data": {
      "text/html": [
       "<table class=\"dataframe\">\n",
       "<caption>A tibble: 27 × 4</caption>\n",
       "<thead>\n",
       "\t<tr><th scope=col>year</th><th scope=col>estimado</th><th scope=col>superior</th><th scope=col>inferior</th></tr>\n",
       "\t<tr><th scope=col>&lt;dbl&gt;</th><th scope=col>&lt;dbl&gt;</th><th scope=col>&lt;dbl&gt;</th><th scope=col>&lt;dbl&gt;</th></tr>\n",
       "</thead>\n",
       "<tbody>\n",
       "\t<tr><td>2018</td><td>32.55809</td><td>32.55809</td><td>32.558094</td></tr>\n",
       "\t<tr><td>2020</td><td>32.43023</td><td>32.43023</td><td>32.430227</td></tr>\n",
       "\t<tr><td>2022</td><td>27.49066</td><td>27.49066</td><td>27.490661</td></tr>\n",
       "\t<tr><td>2024</td><td>28.27011</td><td>28.27011</td><td>28.270107</td></tr>\n",
       "\t<tr><td>2023</td><td>26.35219</td><td>26.48395</td><td>26.221085</td></tr>\n",
       "\t<tr><td>2024</td><td>25.26087</td><td>25.51411</td><td>25.010142</td></tr>\n",
       "\t<tr><td>2025</td><td>24.21474</td><td>24.57978</td><td>23.855122</td></tr>\n",
       "\t<tr><td>2026</td><td>23.21194</td><td>23.67967</td><td>22.753443</td></tr>\n",
       "\t<tr><td>2027</td><td>22.25066</td><td>22.81252</td><td>21.702643</td></tr>\n",
       "\t<tr><td>2028</td><td>21.32920</td><td>21.97712</td><td>20.700370</td></tr>\n",
       "\t<tr><td>2029</td><td>20.44589</td><td>21.17232</td><td>19.744384</td></tr>\n",
       "\t<tr><td>2030</td><td>19.59917</td><td>20.39699</td><td>18.832548</td></tr>\n",
       "\t<tr><td>2031</td><td>18.78751</td><td>19.65005</td><td>17.962822</td></tr>\n",
       "\t<tr><td>2032</td><td>18.00946</td><td>18.93047</td><td>17.133262</td></tr>\n",
       "\t<tr><td>2033</td><td>17.26363</td><td>18.23723</td><td>16.342013</td></tr>\n",
       "\t<tr><td>2034</td><td>16.54870</td><td>17.56938</td><td>15.587305</td></tr>\n",
       "\t<tr><td>2035</td><td>15.86337</td><td>16.92599</td><td>14.867451</td></tr>\n",
       "\t<tr><td>2036</td><td>15.20642</td><td>16.30616</td><td>14.180842</td></tr>\n",
       "\t<tr><td>2037</td><td>14.57667</td><td>15.70903</td><td>13.525941</td></tr>\n",
       "\t<tr><td>2038</td><td>13.97301</td><td>15.13376</td><td>12.901285</td></tr>\n",
       "\t<tr><td>2039</td><td>13.39435</td><td>14.57957</td><td>12.305478</td></tr>\n",
       "\t<tr><td>2040</td><td>12.83965</td><td>14.04566</td><td>11.737185</td></tr>\n",
       "\t<tr><td>2041</td><td>12.30792</td><td>13.53131</td><td>11.195138</td></tr>\n",
       "\t<tr><td>2042</td><td>11.79821</td><td>13.03579</td><td>10.678123</td></tr>\n",
       "\t<tr><td>2043</td><td>11.30961</td><td>12.55842</td><td>10.184986</td></tr>\n",
       "\t<tr><td>2044</td><td>10.84125</td><td>12.09853</td><td> 9.714622</td></tr>\n",
       "\t<tr><td>2045</td><td>10.39228</td><td>11.65548</td><td> 9.265981</td></tr>\n",
       "</tbody>\n",
       "</table>\n"
      ],
      "text/latex": [
       "A tibble: 27 × 4\n",
       "\\begin{tabular}{llll}\n",
       " year & estimado & superior & inferior\\\\\n",
       " <dbl> & <dbl> & <dbl> & <dbl>\\\\\n",
       "\\hline\n",
       "\t 2018 & 32.55809 & 32.55809 & 32.558094\\\\\n",
       "\t 2020 & 32.43023 & 32.43023 & 32.430227\\\\\n",
       "\t 2022 & 27.49066 & 27.49066 & 27.490661\\\\\n",
       "\t 2024 & 28.27011 & 28.27011 & 28.270107\\\\\n",
       "\t 2023 & 26.35219 & 26.48395 & 26.221085\\\\\n",
       "\t 2024 & 25.26087 & 25.51411 & 25.010142\\\\\n",
       "\t 2025 & 24.21474 & 24.57978 & 23.855122\\\\\n",
       "\t 2026 & 23.21194 & 23.67967 & 22.753443\\\\\n",
       "\t 2027 & 22.25066 & 22.81252 & 21.702643\\\\\n",
       "\t 2028 & 21.32920 & 21.97712 & 20.700370\\\\\n",
       "\t 2029 & 20.44589 & 21.17232 & 19.744384\\\\\n",
       "\t 2030 & 19.59917 & 20.39699 & 18.832548\\\\\n",
       "\t 2031 & 18.78751 & 19.65005 & 17.962822\\\\\n",
       "\t 2032 & 18.00946 & 18.93047 & 17.133262\\\\\n",
       "\t 2033 & 17.26363 & 18.23723 & 16.342013\\\\\n",
       "\t 2034 & 16.54870 & 17.56938 & 15.587305\\\\\n",
       "\t 2035 & 15.86337 & 16.92599 & 14.867451\\\\\n",
       "\t 2036 & 15.20642 & 16.30616 & 14.180842\\\\\n",
       "\t 2037 & 14.57667 & 15.70903 & 13.525941\\\\\n",
       "\t 2038 & 13.97301 & 15.13376 & 12.901285\\\\\n",
       "\t 2039 & 13.39435 & 14.57957 & 12.305478\\\\\n",
       "\t 2040 & 12.83965 & 14.04566 & 11.737185\\\\\n",
       "\t 2041 & 12.30792 & 13.53131 & 11.195138\\\\\n",
       "\t 2042 & 11.79821 & 13.03579 & 10.678123\\\\\n",
       "\t 2043 & 11.30961 & 12.55842 & 10.184986\\\\\n",
       "\t 2044 & 10.84125 & 12.09853 &  9.714622\\\\\n",
       "\t 2045 & 10.39228 & 11.65548 &  9.265981\\\\\n",
       "\\end{tabular}\n"
      ],
      "text/markdown": [
       "\n",
       "A tibble: 27 × 4\n",
       "\n",
       "| year &lt;dbl&gt; | estimado &lt;dbl&gt; | superior &lt;dbl&gt; | inferior &lt;dbl&gt; |\n",
       "|---|---|---|---|\n",
       "| 2018 | 32.55809 | 32.55809 | 32.558094 |\n",
       "| 2020 | 32.43023 | 32.43023 | 32.430227 |\n",
       "| 2022 | 27.49066 | 27.49066 | 27.490661 |\n",
       "| 2024 | 28.27011 | 28.27011 | 28.270107 |\n",
       "| 2023 | 26.35219 | 26.48395 | 26.221085 |\n",
       "| 2024 | 25.26087 | 25.51411 | 25.010142 |\n",
       "| 2025 | 24.21474 | 24.57978 | 23.855122 |\n",
       "| 2026 | 23.21194 | 23.67967 | 22.753443 |\n",
       "| 2027 | 22.25066 | 22.81252 | 21.702643 |\n",
       "| 2028 | 21.32920 | 21.97712 | 20.700370 |\n",
       "| 2029 | 20.44589 | 21.17232 | 19.744384 |\n",
       "| 2030 | 19.59917 | 20.39699 | 18.832548 |\n",
       "| 2031 | 18.78751 | 19.65005 | 17.962822 |\n",
       "| 2032 | 18.00946 | 18.93047 | 17.133262 |\n",
       "| 2033 | 17.26363 | 18.23723 | 16.342013 |\n",
       "| 2034 | 16.54870 | 17.56938 | 15.587305 |\n",
       "| 2035 | 15.86337 | 16.92599 | 14.867451 |\n",
       "| 2036 | 15.20642 | 16.30616 | 14.180842 |\n",
       "| 2037 | 14.57667 | 15.70903 | 13.525941 |\n",
       "| 2038 | 13.97301 | 15.13376 | 12.901285 |\n",
       "| 2039 | 13.39435 | 14.57957 | 12.305478 |\n",
       "| 2040 | 12.83965 | 14.04566 | 11.737185 |\n",
       "| 2041 | 12.30792 | 13.53131 | 11.195138 |\n",
       "| 2042 | 11.79821 | 13.03579 | 10.678123 |\n",
       "| 2043 | 11.30961 | 12.55842 | 10.184986 |\n",
       "| 2044 | 10.84125 | 12.09853 |  9.714622 |\n",
       "| 2045 | 10.39228 | 11.65548 |  9.265981 |\n",
       "\n"
      ],
      "text/plain": [
       "   year estimado superior inferior \n",
       "1  2018 32.55809 32.55809 32.558094\n",
       "2  2020 32.43023 32.43023 32.430227\n",
       "3  2022 27.49066 27.49066 27.490661\n",
       "4  2024 28.27011 28.27011 28.270107\n",
       "5  2023 26.35219 26.48395 26.221085\n",
       "6  2024 25.26087 25.51411 25.010142\n",
       "7  2025 24.21474 24.57978 23.855122\n",
       "8  2026 23.21194 23.67967 22.753443\n",
       "9  2027 22.25066 22.81252 21.702643\n",
       "10 2028 21.32920 21.97712 20.700370\n",
       "11 2029 20.44589 21.17232 19.744384\n",
       "12 2030 19.59917 20.39699 18.832548\n",
       "13 2031 18.78751 19.65005 17.962822\n",
       "14 2032 18.00946 18.93047 17.133262\n",
       "15 2033 17.26363 18.23723 16.342013\n",
       "16 2034 16.54870 17.56938 15.587305\n",
       "17 2035 15.86337 16.92599 14.867451\n",
       "18 2036 15.20642 16.30616 14.180842\n",
       "19 2037 14.57667 15.70903 13.525941\n",
       "20 2038 13.97301 15.13376 12.901285\n",
       "21 2039 13.39435 14.57957 12.305478\n",
       "22 2040 12.83965 14.04566 11.737185\n",
       "23 2041 12.30792 13.53131 11.195138\n",
       "24 2042 11.79821 13.03579 10.678123\n",
       "25 2043 11.30961 12.55842 10.184986\n",
       "26 2044 10.84125 12.09853  9.714622\n",
       "27 2045 10.39228 11.65548  9.265981"
      ]
     },
     "metadata": {},
     "output_type": "display_data"
    }
   ],
   "source": [
    "serie_completa <- bind_rows(\n",
    "  tabla_hac_hog %>%\n",
    "    mutate(year = as.numeric(year)) %>%\n",
    "    intervals(\"porcentaje\", margen = 0, año_base = 2022),\n",
    "  \n",
    "  extendido_hoghac %>%\n",
    "    mutate(year = as.numeric(year)) %>%\n",
    "    intervals(\"porcentaje\", margen = 0.005 , año_base = 2022)\n",
    ")\n",
    "serie_completa"
   ]
  },
  {
   "cell_type": "code",
   "execution_count": 10,
   "id": "ce300732",
   "metadata": {
    "vscode": {
     "languageId": "r"
    }
   },
   "outputs": [
    {
     "data": {
      "image/png": "[encoded data removed]",
      "text/plain": [
       "plot without title"
      ]
     },
     "metadata": {
      "image/png": {
       "height": 420,
       "width": 420
      }
     },
     "output_type": "display_data"
    }
   ],
   "source": [
    "grafica_bonita(\n",
    "  data = serie_completa,\n",
    "  x = \"year\",\n",
    "  y = \"estimado\",\n",
    "  titulo = \"Porcentaje de hogares que habitan en hacinamiento\",\n",
    "    ano_base = 2022,\n",
    "  mostrar_etiqueta_ano_base = TRUE,\n",
    "linea_vertical = 2022,\n",
    "  anios_etiquetas = c(2045),\n",
    "  desplazamiento_ano_base=c(0.8, 0),\n",
    "  mostrar_intervalo = \"ambos\",\n",
    "  nombre_observado = \"Observado\",\n",
    "  nombre_estimado_futuro = \"Deseable\",\n",
    "  nombre_intervalo_superior = \"Inercial\",\n",
    "  nombre_intervalo_inferior = \"Transformador\",\n",
    "  mostrar_leyenda = TRUE,\n",
    "  fuente = \"pop\",\n",
    "  etiqueta_x = \"Año\",\n",
    "  etiqueta_y = \"Porcentaje\",\n",
    "  titulo_leyenda = \"Escenarios\",\n",
    "  limite_inferior_y = 0\n",
    ")\n",
    "\n",
    "ggsave(\"H:/Mi unidad/pgd/graficas/hacinamiento_estimada.png\",\n",
    " width = 10, height = 6, dpi = 185, bg = \"white\")"
   ]
  }
 ],
 "metadata": {
  "kernelspec": {
   "display_name": "R",
   "language": "R",
   "name": "ir"
  },
  "language_info": {
   "codemirror_mode": "r",
   "file_extension": ".r",
   "mimetype": "text/x-r-source",
   "name": "R",
   "pygments_lexer": "r",
   "version": "4.4.1"
  }
 },
 "nbformat": 4,
 "nbformat_minor": 5
}
