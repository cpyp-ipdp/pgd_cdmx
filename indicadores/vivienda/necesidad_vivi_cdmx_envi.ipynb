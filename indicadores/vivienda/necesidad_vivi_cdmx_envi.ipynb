{
 "cells": [
  {
   "cell_type": "code",
   "execution_count": 1,
   "id": "a82cecaf2654d4fa",
   "metadata": {
    "ExecuteTime": {
     "end_time": "2025-04-29T18:25:45.439580Z",
     "start_time": "2025-04-29T18:25:45.414318Z"
    }
   },
   "outputs": [],
   "source": [
    "## Estimación de viviendas para gobierno federal de Claudia Sheinbaum\n",
    "##Borrar datos del entorno\n",
    "rm(list=ls())\n",
    "\n",
    "#Directorio para descargar de datos\n",
    "#Esto se debe de cambiar en cada computadora\n",
    "#setwd(\"D:/datos\")\n",
    "#creamos carpeta en donde almacenaremos los archivos\n",
    "dir.create(\"envi\", showWarnings=F)"
   ]
  },
  {
   "cell_type": "code",
   "execution_count": 2,
   "id": "a238d5419a400c07",
   "metadata": {
    "ExecuteTime": {
     "end_time": "2025-04-29T18:25:51.239577Z",
     "start_time": "2025-04-29T18:25:45.444360Z"
    }
   },
   "outputs": [
    {
     "name": "stderr",
     "output_type": "stream",
     "text": [
      "Loading required package: pacman\n",
      "\n"
     ]
    }
   ],
   "source": [
    "# Librerías ====\n",
    "if(!require('pacman')) install.packages('pacman')\n",
    "pacman::p_load(tidyverse, srvyr,showtext)\n",
    "#Fuente para los gráficos\n",
    "font_add_google(\"Poppins\", \"pop\")\n",
    "showtext_auto()"
   ]
  },
  {
   "cell_type": "code",
   "execution_count": 3,
   "id": "83c6c4664556d54e",
   "metadata": {
    "ExecuteTime": {
     "end_time": "2025-04-29T18:26:04.934326Z",
     "start_time": "2025-04-29T18:25:51.245780Z"
    }
   },
   "outputs": [],
   "source": [
    "#Descarga de archivos====\n",
    "url<-\"https://www.inegi.org.mx/contenidos/programas/envi/2020/microdatos/envi_2020_base_de_datos_csv.zip\"\n",
    "\n",
    "temp <- tempfile()\n",
    "download.file(url,\n",
    "              mode = \"wb\",\n",
    "              destfile = temp)\n",
    "unzip(temp, exdir = \"envi\")\n",
    "unlink(temp)"
   ]
  },
  {
   "cell_type": "code",
   "execution_count": 4,
   "id": "3ef8036d8fadfc61",
   "metadata": {
    "ExecuteTime": {
     "end_time": "2025-04-29T18:26:10.262206Z",
     "start_time": "2025-04-29T18:26:04.939038Z"
    }
   },
   "outputs": [],
   "source": [
    "vivienda<-read.csv(\"envi/Bases de datos/TVIVIENDA.csv\")%>%\n",
    "  janitor::clean_names()%>%\n",
    "    #renombrar\n",
    "  rename(folio=1,\n",
    "    tot_resid=p1_1,\n",
    "    num_cuarto=p4_10a,\n",
    "    mat_pared=p4_4,\n",
    "    mat_pisos=p4_6,\n",
    "    mat_techos=p4_5,\n",
    "excusado=p4_11)%>%\n",
    "    mutate(\n",
    "    mat_pared = as.numeric(mat_pared),\n",
    "    mat_pisos = as.numeric(mat_pisos),\n",
    "    mat_techos = as.numeric(mat_techos),\n",
    "#Calcular rezago habitacional\n",
    "    rezago = case_when(\n",
    "      (tot_resid / num_cuarto) > 2.5 |   # Hacinamiento\n",
    "        mat_pared %in% c(1, 2, 3, 4, 5, 6) |\n",
    "        mat_pisos %in% c(1) |\n",
    "        mat_techos %in% c(1, 2, 3, 4, 6, 7, 9) |\n",
    "        excusado == 2 ~ \"En rezago\",\n",
    "      TRUE ~ \"Fuera de rezago\"\n",
    "    ))"
   ]
  },
  {
   "cell_type": "code",
   "execution_count": 33,
   "id": "3355a03c36102c65",
   "metadata": {
    "ExecuteTime": {
     "end_time": "2025-04-29T18:40:18.152385Z",
     "start_time": "2025-04-29T18:40:18.076142Z"
    }
   },
   "outputs": [],
   "source": [
    "#Leer demanda de vivienda\n",
    "demanda<-read.csv(\"envi/Bases de datos/TDEMANDA.csv\")%>%\n",
    "  janitor::clean_names()%>%\n",
    "  #renombrar\n",
    "  rename(folio=1)%>%\n",
    "#Pegar viviendas en rezago e ingresos\n",
    "#left_join(vivirezago,by=c(\"folio\",\"viv_sel\"))%>%\n",
    "#left_join(ingreso,by=c(\"folio\",\"viv_sel\",\"hogar\"))%>%\n",
    "###############################\n",
    "#Criterios de discriminación####\n",
    "###############################\n",
    "\n",
    "\n",
    "#Filtrar aquellos en rezago\n",
    "#filter(rezago==\"En rezago\")%>%\n",
    "#Filtrar aquellos que tienen intención de comprar o construir\n",
    "filter(p3a4 %in% c(2,3,4))%>%\n",
    "#Discriminar por motivos\n",
    "filter(p3a6 %in% c(5,3,6,7,8,4))%>%\n",
    "mutate(tipo_vivi=case_when(\n",
    "    p3a9 %in% c(1,2,3,4) ~ \"Interés social\",\n",
    "    TRUE ~ \"Otro tipo\",\n",
    "\n",
    "))%>%\n",
    "#Discriminar por valor de la vivienda. Dejar solo aquellas que serán de interés social Menor a 1 millón 100 mil pesos\n",
    "#filter(p3a9 %in% c(1,2,3,4))%>%\n",
    "\n",
    "#Crear nombre de entidad\n",
    "mutate(nom_ent=case_when(\n",
    "ent==1~\"Aguascalientes\",\n",
    "ent==2~\"Baja California\",\n",
    "ent==3~\"Baja California Sur\",\n",
    "ent==4~\"Campeche\",\n",
    "ent==5~\"Coahuila de Zaragoza\",\n",
    "ent==6~\"Colima\",\n",
    "ent==7~\"Chiapas\",\n",
    "ent==8~\"Chihuahua\",\n",
    "ent==9~\"Ciudad de México\",\n",
    "ent==10~\"Durango\",\n",
    "ent==11~\"Guanajuato\",\n",
    "ent==12~\"Guerrero\",\n",
    "ent==13~\"Hidalgo\",\n",
    "ent==14~\"Jalisco\",\n",
    "ent==15~\"México\",\n",
    "ent==16~\"Michoacán de Ocampo\",\n",
    "ent==17~\"Morelos\",\n",
    "ent==18~\"Nayarit\",\n",
    "ent==19~\"Nuevo León\",\n",
    "ent==20~\"Oaxaca\",\n",
    "ent==21~\"Puebla\",\n",
    "ent==22~\"Querétaro\",\n",
    "ent==23~\"Quintana Roo\",\n",
    "ent==24~\"San Luis Potosí\",\n",
    "ent==25~\"Sinaloa\",\n",
    "ent==26~\"Sonora\",\n",
    "ent==27~\"Tabasco\",\n",
    "ent==28~\"Tamaulipas\",\n",
    "ent==29~\"Tlaxcala\",\n",
    "ent==30~\"Veracruz de Ignacio de la Llave\",\n",
    "ent==31~\"Yucatán\",\n",
    "ent==32~\"Zacatecas\"))"
   ]
  },
  {
   "cell_type": "code",
   "execution_count": 34,
   "id": "347a0df78a42d244",
   "metadata": {
    "ExecuteTime": {
     "end_time": "2025-04-29T18:40:22.173152Z",
     "start_time": "2025-04-29T18:40:22.109390Z"
    }
   },
   "outputs": [],
   "source": [
    "\n",
    "options(survey.lonely.psu=\"certainty\")\n",
    "\n",
    "dism <-demanda%>%\n",
    "  as_survey_design(ids=upm_dis,\n",
    "                   strata=est_dis,\n",
    "                   weights=factor)"
   ]
  },
  {
   "cell_type": "code",
   "execution_count": 35,
   "id": "cc21d31718f82db0",
   "metadata": {
    "ExecuteTime": {
     "end_time": "2025-04-29T18:40:24.078227Z",
     "start_time": "2025-04-29T18:40:24.046819Z"
    }
   },
   "outputs": [
    {
     "data": {
      "text/html": [
       "<table class=\"dataframe\">\n",
       "<caption>A tibble: 1 × 2</caption>\n",
       "<thead>\n",
       "\t<tr><th scope=col>viviendas</th><th scope=col>viviendas_cv</th></tr>\n",
       "\t<tr><th scope=col>&lt;dbl&gt;</th><th scope=col>&lt;dbl&gt;</th></tr>\n",
       "</thead>\n",
       "<tbody>\n",
       "\t<tr><td>602647</td><td>0.04166585</td></tr>\n",
       "</tbody>\n",
       "</table>\n"
      ],
      "text/latex": [
       "A tibble: 1 × 2\n",
       "\\begin{tabular}{ll}\n",
       " viviendas & viviendas\\_cv\\\\\n",
       " <dbl> & <dbl>\\\\\n",
       "\\hline\n",
       "\t 602647 & 0.04166585\\\\\n",
       "\\end{tabular}\n"
      ],
      "text/markdown": [
       "\n",
       "A tibble: 1 × 2\n",
       "\n",
       "| viviendas &lt;dbl&gt; | viviendas_cv &lt;dbl&gt; |\n",
       "|---|---|\n",
       "| 602647 | 0.04166585 |\n",
       "\n"
      ],
      "text/plain": [
       "  viviendas viviendas_cv\n",
       "1 602647    0.04166585  "
      ]
     },
     "metadata": {},
     "output_type": "display_data"
    }
   ],
   "source": [
    "dism%>%\n",
    "filter(ent==9)%>%\n",
    "summarise(viviendas=survey_total(vartype = \"cv\"))"
   ]
  },
  {
   "cell_type": "code",
   "execution_count": 39,
   "id": "ac868a86d29e019d",
   "metadata": {
    "ExecuteTime": {
     "end_time": "2025-04-29T18:42:08.898688Z",
     "start_time": "2025-04-29T18:42:08.829988Z"
    }
   },
   "outputs": [
    {
     "data": {
      "text/html": [
       "<table class=\"dataframe\">\n",
       "<caption>A tabyl: 3 × 5</caption>\n",
       "<thead>\n",
       "\t<tr><th scope=col>tipo_vivi</th><th scope=col>viviendas</th><th scope=col>viviendas_cv</th><th scope=col>pct</th><th scope=col>pct_cv</th></tr>\n",
       "\t<tr><th scope=col>&lt;chr&gt;</th><th scope=col>&lt;dbl&gt;</th><th scope=col>&lt;dbl&gt;</th><th scope=col>&lt;dbl&gt;</th><th scope=col>&lt;dbl&gt;</th></tr>\n",
       "</thead>\n",
       "<tbody>\n",
       "\t<tr><td>Interés social</td><td>335045</td><td>0.06354218</td><td> 55.6</td><td>0.05180677</td></tr>\n",
       "\t<tr><td>Otro tipo     </td><td>267602</td><td>0.08013776</td><td> 44.4</td><td>0.06486349</td></tr>\n",
       "\t<tr><td>Total         </td><td>602647</td><td>0.14367994</td><td>100.0</td><td>0.11667026</td></tr>\n",
       "</tbody>\n",
       "</table>\n"
      ],
      "text/latex": [
       "A tabyl: 3 × 5\n",
       "\\begin{tabular}{lllll}\n",
       " tipo\\_vivi & viviendas & viviendas\\_cv & pct & pct\\_cv\\\\\n",
       " <chr> & <dbl> & <dbl> & <dbl> & <dbl>\\\\\n",
       "\\hline\n",
       "\t Interés social & 335045 & 0.06354218 &  55.6 & 0.05180677\\\\\n",
       "\t Otro tipo      & 267602 & 0.08013776 &  44.4 & 0.06486349\\\\\n",
       "\t Total          & 602647 & 0.14367994 & 100.0 & 0.11667026\\\\\n",
       "\\end{tabular}\n"
      ],
      "text/markdown": [
       "\n",
       "A tabyl: 3 × 5\n",
       "\n",
       "| tipo_vivi &lt;chr&gt; | viviendas &lt;dbl&gt; | viviendas_cv &lt;dbl&gt; | pct &lt;dbl&gt; | pct_cv &lt;dbl&gt; |\n",
       "|---|---|---|---|---|\n",
       "| Interés social | 335045 | 0.06354218 |  55.6 | 0.05180677 |\n",
       "| Otro tipo      | 267602 | 0.08013776 |  44.4 | 0.06486349 |\n",
       "| Total          | 602647 | 0.14367994 | 100.0 | 0.11667026 |\n",
       "\n"
      ],
      "text/plain": [
       "  tipo_vivi      viviendas viviendas_cv pct   pct_cv    \n",
       "1 Interés social 335045    0.06354218    55.6 0.05180677\n",
       "2 Otro tipo      267602    0.08013776    44.4 0.06486349\n",
       "3 Total          602647    0.14367994   100.0 0.11667026"
      ]
     },
     "metadata": {},
     "output_type": "display_data"
    }
   ],
   "source": [
    "dism%>%\n",
    "filter(ent==9)%>%\n",
    "group_by(tipo_vivi)%>%\n",
    "\n",
    "summarise(viviendas=survey_total(vartype = \"cv\"),\n",
    "          pct=survey_prop(vartype = \"cv\"))%>%\n",
    "mutate(pct=round(pct*100,2))%>%\n",
    "\n",
    "janitor::adorn_totals()"
   ]
  }
 ],
 "metadata": {
  "kernelspec": {
   "display_name": "R",
   "language": "R",
   "name": "ir"
  }
 },
 "nbformat": 4,
 "nbformat_minor": 5
}
