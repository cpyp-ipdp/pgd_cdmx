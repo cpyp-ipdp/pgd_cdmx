{
 "cells": [
  {
   "cell_type": "code",
   "execution_count": 20,
   "id": "99dbfb68",
   "metadata": {
    "vscode": {
     "languageId": "r"
    }
   },
   "outputs": [],
   "source": [
    "rm(list=ls())\n",
    "\n",
    "# Librerías ====\n",
    "if(!require('pacman')) install.packages('pacman')\n",
    "pacman::p_load(tidyverse, showtext, srvyr)"
   ]
  },
  {
   "cell_type": "code",
   "execution_count": 21,
   "id": "e40da87b",
   "metadata": {
    "vscode": {
     "languageId": "r"
    }
   },
   "outputs": [],
   "source": [
    "##Crear folders de almacenamiento\n",
    "dir.create(\"microdatos\", showWarnings = F)"
   ]
  },
  {
   "cell_type": "code",
   "execution_count": 22,
   "id": "4c7e0114",
   "metadata": {
    "vscode": {
     "languageId": "r"
    }
   },
   "outputs": [],
   "source": [
    "# Función para descargar y descomprimir un archivo con timeout\n",
    "download_and_unzip <- function(url, destination=\"microdatos\") {\n",
    "  tryCatch({\n",
    "    # Descargar el archivo con timeout\n",
    "    download.file(url, destfile = paste0(destination, \"/\", basename(url)), mode = \"wb\", timeout = 10000)\n",
    "\n",
    "    # Descomprimir el archivo\n",
    "    unzip(paste0(destination, \"/\", basename(url)), exdir = destination)\n",
    "\n",
    "    # Eliminar el archivo comprimido después de descomprimirlo\n",
    "    unlink(paste0(destination, \"/\", basename(url)))\n",
    "\n",
    "    message(paste(\"Descarga y descompresión exitosas para\", basename(url)))\n",
    "  }, error = function(e) {\n",
    "    warning(paste(\"Error al descargar o descomprimir\", basename(url), \":\", conditionMessage(e)))\n",
    "  })\n",
    "}"
   ]
  },
  {
   "cell_type": "code",
   "execution_count": 23,
   "id": "5b9f9671",
   "metadata": {
    "vscode": {
     "languageId": "r"
    }
   },
   "outputs": [
    {
     "name": "stderr",
     "output_type": "stream",
     "text": [
      "Descarga y descompresión exitosas para enigh2022_ns_poblacion_csv.zip\n",
      "\n",
      "Descarga y descompresión exitosas para enigh2022_ns_trabajos_csv.zip\n",
      "\n"
     ]
    }
   ],
   "source": [
    "download_and_unzip(\"https://www.inegi.org.mx/contenidos/programas/enigh/nc/2022/microdatos/enigh2022_ns_poblacion_csv.zip\")\n",
    "download_and_unzip(\"https://www.inegi.org.mx/contenidos/programas/enigh/nc/2022/microdatos/enigh2022_ns_trabajos_csv.zip\")"
   ]
  },
  {
   "cell_type": "code",
   "execution_count": 24,
   "id": "af191c20",
   "metadata": {
    "vscode": {
     "languageId": "r"
    }
   },
   "outputs": [
    {
     "name": "stderr",
     "output_type": "stream",
     "text": [
      "Warning message:\n",
      "\"\u001b[1m\u001b[22mOne or more parsing issues, call `problems()` on your data frame for details,\n",
      "e.g.:\n",
      "  dat <- vroom(...)\n",
      "  problems(dat)\"\n"
     ]
    }
   ],
   "source": [
    "#Leer población\n",
    "poblacion <- read_csv(\"microdatos/poblacion.csv\",show_col_types=FALSE)%>%\n",
    "\n",
    "mutate(cve_ent = case_when(\n",
    "      nchar(folioviv) == 9  ~ paste0(\"0\", substr(folioviv, 1, 1)),\n",
    "      nchar(folioviv) == 10 ~ substr(folioviv, 1, 2)\n",
    "    )) %>%\n",
    "    # Filtrar si entidad es 9\n",
    "  filter(cve_ent == \"09\")%>%\n",
    "  #Crear grupos de edad\n",
    "  mutate(grupo_edad = case_when(\n",
    "    edad>=0 & edad<=5 ~ \"0-5\",\n",
    "    edad>=6 & edad<=11 ~ \"6-11\",\n",
    "    edad>=12 & edad<=14 ~ \"12-14\",\n",
    "    edad>=15 & edad<=17 ~ \"15-17\",\n",
    "    edad>=18 & edad<=24 ~ \"18-24\",\n",
    "    edad>=25 & edad<=29 ~ \"25-29\",\n",
    "    edad>=30 & edad<=34 ~ \"30-34\",\n",
    "    edad>=35 & edad<=39 ~ \"35-39\",\n",
    "    edad>=40 & edad<=44 ~ \"40-44\",\n",
    "    edad>=45 & edad<=49 ~ \"45-49\",\n",
    "    edad>=50 & edad<=54 ~ \"50-54\",\n",
    "    edad>=55 & edad<=59 ~ \"55-59\",\n",
    "    edad>=60 & edad<=64 ~ \"60-64\",\n",
    "    edad>=65 & edad<=69 ~ \"65-69\",\n",
    "    edad>=70 & edad<=74 ~ \"70-74\",\n",
    "    edad>=75 & edad<=79 ~ \"75-79\",\n",
    "    edad>=80 & edad<=84 ~ \"80-84\",\n",
    "    edad>=85 ~ \"85+\",\n",
    "    TRUE ~ NA_character_\n",
    "  )) "
   ]
  },
  {
   "cell_type": "code",
   "execution_count": 25,
   "id": "a786c431",
   "metadata": {
    "vscode": {
     "languageId": "r"
    }
   },
   "outputs": [
    {
     "name": "stderr",
     "output_type": "stream",
     "text": [
      "Warning message:\n",
      "\"\u001b[1m\u001b[22mOne or more parsing issues, call `problems()` on your data frame for details,\n",
      "e.g.:\n",
      "  dat <- vroom(...)\n",
      "  problems(dat)\"\n",
      "\u001b[1m\u001b[22m`summarise()` has grouped output by 'folioviv', 'foliohog'. You can override\n",
      "using the `.groups` argument.\n"
     ]
    },
    {
     "data": {
      "text/html": [
       "<table class=\"dataframe\">\n",
       "<caption>A grouped_df: 4085 × 5</caption>\n",
       "<thead>\n",
       "\t<tr><th scope=col>folioviv</th><th scope=col>foliohog</th><th scope=col>numren</th><th scope=col>pres_5</th><th scope=col>ocupado</th></tr>\n",
       "\t<tr><th scope=col>&lt;chr&gt;</th><th scope=col>&lt;dbl&gt;</th><th scope=col>&lt;chr&gt;</th><th scope=col>&lt;dbl&gt;</th><th scope=col>&lt;dbl&gt;</th></tr>\n",
       "</thead>\n",
       "<tbody>\n",
       "\t<tr><td>0900006901</td><td>1</td><td>02</td><td>1</td><td>1</td></tr>\n",
       "\t<tr><td>0900006901</td><td>1</td><td>03</td><td>1</td><td>1</td></tr>\n",
       "\t<tr><td>0900006902</td><td>1</td><td>03</td><td>1</td><td>1</td></tr>\n",
       "\t<tr><td>0900006902</td><td>1</td><td>04</td><td>1</td><td>1</td></tr>\n",
       "\t<tr><td>0900006903</td><td>1</td><td>01</td><td>0</td><td>1</td></tr>\n",
       "\t<tr><td>0900006903</td><td>1</td><td>02</td><td>0</td><td>1</td></tr>\n",
       "\t<tr><td>0900006904</td><td>1</td><td>01</td><td>1</td><td>1</td></tr>\n",
       "\t<tr><td>0900006904</td><td>1</td><td>02</td><td>1</td><td>1</td></tr>\n",
       "\t<tr><td>0900006905</td><td>1</td><td>02</td><td>1</td><td>1</td></tr>\n",
       "\t<tr><td>0900006906</td><td>1</td><td>01</td><td>0</td><td>1</td></tr>\n",
       "\t<tr><td>0900006906</td><td>1</td><td>02</td><td>0</td><td>1</td></tr>\n",
       "\t<tr><td>0900009201</td><td>1</td><td>01</td><td>0</td><td>1</td></tr>\n",
       "\t<tr><td>0900009201</td><td>1</td><td>02</td><td>0</td><td>1</td></tr>\n",
       "\t<tr><td>0900009201</td><td>1</td><td>03</td><td>0</td><td>1</td></tr>\n",
       "\t<tr><td>0900009202</td><td>1</td><td>01</td><td>0</td><td>1</td></tr>\n",
       "\t<tr><td>0900009202</td><td>1</td><td>02</td><td>1</td><td>1</td></tr>\n",
       "\t<tr><td>0900009202</td><td>1</td><td>03</td><td>0</td><td>1</td></tr>\n",
       "\t<tr><td>0900009204</td><td>1</td><td>01</td><td>1</td><td>1</td></tr>\n",
       "\t<tr><td>0900009205</td><td>1</td><td>01</td><td>0</td><td>1</td></tr>\n",
       "\t<tr><td>0900009205</td><td>1</td><td>03</td><td>1</td><td>1</td></tr>\n",
       "\t<tr><td>0900009206</td><td>1</td><td>01</td><td>0</td><td>1</td></tr>\n",
       "\t<tr><td>0900009206</td><td>1</td><td>02</td><td>0</td><td>1</td></tr>\n",
       "\t<tr><td>0900009206</td><td>1</td><td>03</td><td>0</td><td>1</td></tr>\n",
       "\t<tr><td>0900017401</td><td>1</td><td>02</td><td>0</td><td>1</td></tr>\n",
       "\t<tr><td>0900017401</td><td>1</td><td>03</td><td>0</td><td>1</td></tr>\n",
       "\t<tr><td>0900017402</td><td>1</td><td>01</td><td>0</td><td>1</td></tr>\n",
       "\t<tr><td>0900017404</td><td>1</td><td>02</td><td>0</td><td>1</td></tr>\n",
       "\t<tr><td>0900017405</td><td>1</td><td>01</td><td>0</td><td>1</td></tr>\n",
       "\t<tr><td>0900017405</td><td>1</td><td>02</td><td>0</td><td>1</td></tr>\n",
       "\t<tr><td>0900017405</td><td>1</td><td>03</td><td>0</td><td>1</td></tr>\n",
       "\t<tr><td>⋮</td><td>⋮</td><td>⋮</td><td>⋮</td><td>⋮</td></tr>\n",
       "\t<tr><td>0960054920</td><td>1</td><td>01</td><td>1</td><td>1</td></tr>\n",
       "\t<tr><td>0960054920</td><td>1</td><td>03</td><td>0</td><td>1</td></tr>\n",
       "\t<tr><td>0960054920</td><td>1</td><td>04</td><td>1</td><td>1</td></tr>\n",
       "\t<tr><td>0960054920</td><td>1</td><td>05</td><td>1</td><td>1</td></tr>\n",
       "\t<tr><td>0960054921</td><td>1</td><td>01</td><td>0</td><td>1</td></tr>\n",
       "\t<tr><td>0960054921</td><td>1</td><td>02</td><td>0</td><td>1</td></tr>\n",
       "\t<tr><td>0960054921</td><td>1</td><td>04</td><td>1</td><td>1</td></tr>\n",
       "\t<tr><td>0960055210</td><td>1</td><td>01</td><td>0</td><td>1</td></tr>\n",
       "\t<tr><td>0960055411</td><td>1</td><td>02</td><td>0</td><td>1</td></tr>\n",
       "\t<tr><td>0960055412</td><td>1</td><td>01</td><td>0</td><td>1</td></tr>\n",
       "\t<tr><td>0960055412</td><td>1</td><td>02</td><td>0</td><td>1</td></tr>\n",
       "\t<tr><td>0960055412</td><td>1</td><td>03</td><td>0</td><td>1</td></tr>\n",
       "\t<tr><td>0960055413</td><td>1</td><td>01</td><td>0</td><td>1</td></tr>\n",
       "\t<tr><td>0960055414</td><td>1</td><td>01</td><td>0</td><td>1</td></tr>\n",
       "\t<tr><td>0960055415</td><td>1</td><td>01</td><td>0</td><td>1</td></tr>\n",
       "\t<tr><td>0960055415</td><td>1</td><td>02</td><td>0</td><td>1</td></tr>\n",
       "\t<tr><td>0960055616</td><td>1</td><td>01</td><td>0</td><td>1</td></tr>\n",
       "\t<tr><td>0960055616</td><td>1</td><td>02</td><td>0</td><td>1</td></tr>\n",
       "\t<tr><td>0960055617</td><td>1</td><td>01</td><td>0</td><td>1</td></tr>\n",
       "\t<tr><td>0960055618</td><td>1</td><td>01</td><td>0</td><td>1</td></tr>\n",
       "\t<tr><td>0960055618</td><td>1</td><td>02</td><td>0</td><td>1</td></tr>\n",
       "\t<tr><td>0960055618</td><td>1</td><td>05</td><td>0</td><td>1</td></tr>\n",
       "\t<tr><td>0960055901</td><td>1</td><td>01</td><td>0</td><td>1</td></tr>\n",
       "\t<tr><td>0960055901</td><td>1</td><td>02</td><td>0</td><td>1</td></tr>\n",
       "\t<tr><td>0960055903</td><td>1</td><td>01</td><td>0</td><td>1</td></tr>\n",
       "\t<tr><td>0960055903</td><td>1</td><td>03</td><td>0</td><td>1</td></tr>\n",
       "\t<tr><td>0960055904</td><td>1</td><td>02</td><td>0</td><td>1</td></tr>\n",
       "\t<tr><td>0960055904</td><td>1</td><td>03</td><td>0</td><td>1</td></tr>\n",
       "\t<tr><td>0960055905</td><td>1</td><td>01</td><td>0</td><td>1</td></tr>\n",
       "\t<tr><td>0960055905</td><td>1</td><td>02</td><td>0</td><td>1</td></tr>\n",
       "</tbody>\n",
       "</table>\n"
      ],
      "text/latex": [
       "A grouped\\_df: 4085 × 5\n",
       "\\begin{tabular}{lllll}\n",
       " folioviv & foliohog & numren & pres\\_5 & ocupado\\\\\n",
       " <chr> & <dbl> & <chr> & <dbl> & <dbl>\\\\\n",
       "\\hline\n",
       "\t 0900006901 & 1 & 02 & 1 & 1\\\\\n",
       "\t 0900006901 & 1 & 03 & 1 & 1\\\\\n",
       "\t 0900006902 & 1 & 03 & 1 & 1\\\\\n",
       "\t 0900006902 & 1 & 04 & 1 & 1\\\\\n",
       "\t 0900006903 & 1 & 01 & 0 & 1\\\\\n",
       "\t 0900006903 & 1 & 02 & 0 & 1\\\\\n",
       "\t 0900006904 & 1 & 01 & 1 & 1\\\\\n",
       "\t 0900006904 & 1 & 02 & 1 & 1\\\\\n",
       "\t 0900006905 & 1 & 02 & 1 & 1\\\\\n",
       "\t 0900006906 & 1 & 01 & 0 & 1\\\\\n",
       "\t 0900006906 & 1 & 02 & 0 & 1\\\\\n",
       "\t 0900009201 & 1 & 01 & 0 & 1\\\\\n",
       "\t 0900009201 & 1 & 02 & 0 & 1\\\\\n",
       "\t 0900009201 & 1 & 03 & 0 & 1\\\\\n",
       "\t 0900009202 & 1 & 01 & 0 & 1\\\\\n",
       "\t 0900009202 & 1 & 02 & 1 & 1\\\\\n",
       "\t 0900009202 & 1 & 03 & 0 & 1\\\\\n",
       "\t 0900009204 & 1 & 01 & 1 & 1\\\\\n",
       "\t 0900009205 & 1 & 01 & 0 & 1\\\\\n",
       "\t 0900009205 & 1 & 03 & 1 & 1\\\\\n",
       "\t 0900009206 & 1 & 01 & 0 & 1\\\\\n",
       "\t 0900009206 & 1 & 02 & 0 & 1\\\\\n",
       "\t 0900009206 & 1 & 03 & 0 & 1\\\\\n",
       "\t 0900017401 & 1 & 02 & 0 & 1\\\\\n",
       "\t 0900017401 & 1 & 03 & 0 & 1\\\\\n",
       "\t 0900017402 & 1 & 01 & 0 & 1\\\\\n",
       "\t 0900017404 & 1 & 02 & 0 & 1\\\\\n",
       "\t 0900017405 & 1 & 01 & 0 & 1\\\\\n",
       "\t 0900017405 & 1 & 02 & 0 & 1\\\\\n",
       "\t 0900017405 & 1 & 03 & 0 & 1\\\\\n",
       "\t ⋮ & ⋮ & ⋮ & ⋮ & ⋮\\\\\n",
       "\t 0960054920 & 1 & 01 & 1 & 1\\\\\n",
       "\t 0960054920 & 1 & 03 & 0 & 1\\\\\n",
       "\t 0960054920 & 1 & 04 & 1 & 1\\\\\n",
       "\t 0960054920 & 1 & 05 & 1 & 1\\\\\n",
       "\t 0960054921 & 1 & 01 & 0 & 1\\\\\n",
       "\t 0960054921 & 1 & 02 & 0 & 1\\\\\n",
       "\t 0960054921 & 1 & 04 & 1 & 1\\\\\n",
       "\t 0960055210 & 1 & 01 & 0 & 1\\\\\n",
       "\t 0960055411 & 1 & 02 & 0 & 1\\\\\n",
       "\t 0960055412 & 1 & 01 & 0 & 1\\\\\n",
       "\t 0960055412 & 1 & 02 & 0 & 1\\\\\n",
       "\t 0960055412 & 1 & 03 & 0 & 1\\\\\n",
       "\t 0960055413 & 1 & 01 & 0 & 1\\\\\n",
       "\t 0960055414 & 1 & 01 & 0 & 1\\\\\n",
       "\t 0960055415 & 1 & 01 & 0 & 1\\\\\n",
       "\t 0960055415 & 1 & 02 & 0 & 1\\\\\n",
       "\t 0960055616 & 1 & 01 & 0 & 1\\\\\n",
       "\t 0960055616 & 1 & 02 & 0 & 1\\\\\n",
       "\t 0960055617 & 1 & 01 & 0 & 1\\\\\n",
       "\t 0960055618 & 1 & 01 & 0 & 1\\\\\n",
       "\t 0960055618 & 1 & 02 & 0 & 1\\\\\n",
       "\t 0960055618 & 1 & 05 & 0 & 1\\\\\n",
       "\t 0960055901 & 1 & 01 & 0 & 1\\\\\n",
       "\t 0960055901 & 1 & 02 & 0 & 1\\\\\n",
       "\t 0960055903 & 1 & 01 & 0 & 1\\\\\n",
       "\t 0960055903 & 1 & 03 & 0 & 1\\\\\n",
       "\t 0960055904 & 1 & 02 & 0 & 1\\\\\n",
       "\t 0960055904 & 1 & 03 & 0 & 1\\\\\n",
       "\t 0960055905 & 1 & 01 & 0 & 1\\\\\n",
       "\t 0960055905 & 1 & 02 & 0 & 1\\\\\n",
       "\\end{tabular}\n"
      ],
      "text/markdown": [
       "\n",
       "A grouped_df: 4085 × 5\n",
       "\n",
       "| folioviv &lt;chr&gt; | foliohog &lt;dbl&gt; | numren &lt;chr&gt; | pres_5 &lt;dbl&gt; | ocupado &lt;dbl&gt; |\n",
       "|---|---|---|---|---|\n",
       "| 0900006901 | 1 | 02 | 1 | 1 |\n",
       "| 0900006901 | 1 | 03 | 1 | 1 |\n",
       "| 0900006902 | 1 | 03 | 1 | 1 |\n",
       "| 0900006902 | 1 | 04 | 1 | 1 |\n",
       "| 0900006903 | 1 | 01 | 0 | 1 |\n",
       "| 0900006903 | 1 | 02 | 0 | 1 |\n",
       "| 0900006904 | 1 | 01 | 1 | 1 |\n",
       "| 0900006904 | 1 | 02 | 1 | 1 |\n",
       "| 0900006905 | 1 | 02 | 1 | 1 |\n",
       "| 0900006906 | 1 | 01 | 0 | 1 |\n",
       "| 0900006906 | 1 | 02 | 0 | 1 |\n",
       "| 0900009201 | 1 | 01 | 0 | 1 |\n",
       "| 0900009201 | 1 | 02 | 0 | 1 |\n",
       "| 0900009201 | 1 | 03 | 0 | 1 |\n",
       "| 0900009202 | 1 | 01 | 0 | 1 |\n",
       "| 0900009202 | 1 | 02 | 1 | 1 |\n",
       "| 0900009202 | 1 | 03 | 0 | 1 |\n",
       "| 0900009204 | 1 | 01 | 1 | 1 |\n",
       "| 0900009205 | 1 | 01 | 0 | 1 |\n",
       "| 0900009205 | 1 | 03 | 1 | 1 |\n",
       "| 0900009206 | 1 | 01 | 0 | 1 |\n",
       "| 0900009206 | 1 | 02 | 0 | 1 |\n",
       "| 0900009206 | 1 | 03 | 0 | 1 |\n",
       "| 0900017401 | 1 | 02 | 0 | 1 |\n",
       "| 0900017401 | 1 | 03 | 0 | 1 |\n",
       "| 0900017402 | 1 | 01 | 0 | 1 |\n",
       "| 0900017404 | 1 | 02 | 0 | 1 |\n",
       "| 0900017405 | 1 | 01 | 0 | 1 |\n",
       "| 0900017405 | 1 | 02 | 0 | 1 |\n",
       "| 0900017405 | 1 | 03 | 0 | 1 |\n",
       "| ⋮ | ⋮ | ⋮ | ⋮ | ⋮ |\n",
       "| 0960054920 | 1 | 01 | 1 | 1 |\n",
       "| 0960054920 | 1 | 03 | 0 | 1 |\n",
       "| 0960054920 | 1 | 04 | 1 | 1 |\n",
       "| 0960054920 | 1 | 05 | 1 | 1 |\n",
       "| 0960054921 | 1 | 01 | 0 | 1 |\n",
       "| 0960054921 | 1 | 02 | 0 | 1 |\n",
       "| 0960054921 | 1 | 04 | 1 | 1 |\n",
       "| 0960055210 | 1 | 01 | 0 | 1 |\n",
       "| 0960055411 | 1 | 02 | 0 | 1 |\n",
       "| 0960055412 | 1 | 01 | 0 | 1 |\n",
       "| 0960055412 | 1 | 02 | 0 | 1 |\n",
       "| 0960055412 | 1 | 03 | 0 | 1 |\n",
       "| 0960055413 | 1 | 01 | 0 | 1 |\n",
       "| 0960055414 | 1 | 01 | 0 | 1 |\n",
       "| 0960055415 | 1 | 01 | 0 | 1 |\n",
       "| 0960055415 | 1 | 02 | 0 | 1 |\n",
       "| 0960055616 | 1 | 01 | 0 | 1 |\n",
       "| 0960055616 | 1 | 02 | 0 | 1 |\n",
       "| 0960055617 | 1 | 01 | 0 | 1 |\n",
       "| 0960055618 | 1 | 01 | 0 | 1 |\n",
       "| 0960055618 | 1 | 02 | 0 | 1 |\n",
       "| 0960055618 | 1 | 05 | 0 | 1 |\n",
       "| 0960055901 | 1 | 01 | 0 | 1 |\n",
       "| 0960055901 | 1 | 02 | 0 | 1 |\n",
       "| 0960055903 | 1 | 01 | 0 | 1 |\n",
       "| 0960055903 | 1 | 03 | 0 | 1 |\n",
       "| 0960055904 | 1 | 02 | 0 | 1 |\n",
       "| 0960055904 | 1 | 03 | 0 | 1 |\n",
       "| 0960055905 | 1 | 01 | 0 | 1 |\n",
       "| 0960055905 | 1 | 02 | 0 | 1 |\n",
       "\n"
      ],
      "text/plain": [
       "     folioviv   foliohog numren pres_5 ocupado\n",
       "1    0900006901 1        02     1      1      \n",
       "2    0900006901 1        03     1      1      \n",
       "3    0900006902 1        03     1      1      \n",
       "4    0900006902 1        04     1      1      \n",
       "5    0900006903 1        01     0      1      \n",
       "6    0900006903 1        02     0      1      \n",
       "7    0900006904 1        01     1      1      \n",
       "8    0900006904 1        02     1      1      \n",
       "9    0900006905 1        02     1      1      \n",
       "10   0900006906 1        01     0      1      \n",
       "11   0900006906 1        02     0      1      \n",
       "12   0900009201 1        01     0      1      \n",
       "13   0900009201 1        02     0      1      \n",
       "14   0900009201 1        03     0      1      \n",
       "15   0900009202 1        01     0      1      \n",
       "16   0900009202 1        02     1      1      \n",
       "17   0900009202 1        03     0      1      \n",
       "18   0900009204 1        01     1      1      \n",
       "19   0900009205 1        01     0      1      \n",
       "20   0900009205 1        03     1      1      \n",
       "21   0900009206 1        01     0      1      \n",
       "22   0900009206 1        02     0      1      \n",
       "23   0900009206 1        03     0      1      \n",
       "24   0900017401 1        02     0      1      \n",
       "25   0900017401 1        03     0      1      \n",
       "26   0900017402 1        01     0      1      \n",
       "27   0900017404 1        02     0      1      \n",
       "28   0900017405 1        01     0      1      \n",
       "29   0900017405 1        02     0      1      \n",
       "30   0900017405 1        03     0      1      \n",
       "⋮    ⋮          ⋮        ⋮      ⋮      ⋮      \n",
       "4056 0960054920 1        01     1      1      \n",
       "4057 0960054920 1        03     0      1      \n",
       "4058 0960054920 1        04     1      1      \n",
       "4059 0960054920 1        05     1      1      \n",
       "4060 0960054921 1        01     0      1      \n",
       "4061 0960054921 1        02     0      1      \n",
       "4062 0960054921 1        04     1      1      \n",
       "4063 0960055210 1        01     0      1      \n",
       "4064 0960055411 1        02     0      1      \n",
       "4065 0960055412 1        01     0      1      \n",
       "4066 0960055412 1        02     0      1      \n",
       "4067 0960055412 1        03     0      1      \n",
       "4068 0960055413 1        01     0      1      \n",
       "4069 0960055414 1        01     0      1      \n",
       "4070 0960055415 1        01     0      1      \n",
       "4071 0960055415 1        02     0      1      \n",
       "4072 0960055616 1        01     0      1      \n",
       "4073 0960055616 1        02     0      1      \n",
       "4074 0960055617 1        01     0      1      \n",
       "4075 0960055618 1        01     0      1      \n",
       "4076 0960055618 1        02     0      1      \n",
       "4077 0960055618 1        05     0      1      \n",
       "4078 0960055901 1        01     0      1      \n",
       "4079 0960055901 1        02     0      1      \n",
       "4080 0960055903 1        01     0      1      \n",
       "4081 0960055903 1        03     0      1      \n",
       "4082 0960055904 1        02     0      1      \n",
       "4083 0960055904 1        03     0      1      \n",
       "4084 0960055905 1        01     0      1      \n",
       "4085 0960055905 1        02     0      1      "
      ]
     },
     "metadata": {},
     "output_type": "display_data"
    }
   ],
   "source": [
    "trabajos<- read_csv(\"microdatos/trabajos.csv\",show_col_types=FALSE)%>%\n",
    "  mutate(cve_ent = case_when(\n",
    "      nchar(folioviv) == 9  ~ paste0(\"0\", substr(folioviv, 1, 1)),\n",
    "      nchar(folioviv) == 10 ~ substr(folioviv, 1, 2)\n",
    "    )) %>%\n",
    "    # Filtrar si entidad es 9\n",
    "  filter(cve_ent == \"09\")%>%\n",
    "  select(folioviv,foliohog,numren,pres_5)%>%\n",
    "\n",
    "    #Cambiar pres_5 a 1 si es \"05\" y 0 si es NA\n",
    "    mutate(pres_5=case_when(\n",
    "        pres_5 == \"05\" ~ 1,\n",
    "        TRUE ~ 0\n",
    "    )\n",
    "    )%>%\n",
    "    #Agrupar por folioviv, foliohog y numren y sumar pres_5\n",
    "    group_by(folioviv, foliohog, numren) %>%\n",
    "    summarise(pres_5 = sum(pres_5, na.rm = TRUE))%>%\n",
    "    #Si es 1 o más, dejarlo como 1\n",
    "    mutate(pres_5 = ifelse(pres_5 >= 1, 1, 0),\n",
    "        #Identificador persona ocupada\n",
    "    ocupado=1\n",
    "    \n",
    "    )\n",
    "trabajos\n"
   ]
  },
  {
   "cell_type": "code",
   "execution_count": 26,
   "id": "4be1c365",
   "metadata": {
    "vscode": {
     "languageId": "r"
    }
   },
   "outputs": [],
   "source": [
    "ocupados<-poblacion%>%\n",
    "left_join(trabajos, by=c(\"folioviv\",\"foliohog\",\"numren\"))%>%\n",
    "  #Dejar solo personas ocupadas\n",
    "  filter(ocupado==1)"
   ]
  },
  {
   "cell_type": "code",
   "execution_count": 27,
   "id": "ef1001e1",
   "metadata": {
    "vscode": {
     "languageId": "r"
    }
   },
   "outputs": [],
   "source": [
    "dm<-ocupados%>%\n",
    "as_survey_design(ids=upm,weights=factor,strata=est_dis)"
   ]
  },
  {
   "cell_type": "code",
   "execution_count": null,
   "id": "ea7ae753",
   "metadata": {
    "vscode": {
     "languageId": "r"
    }
   },
   "outputs": [
    {
     "name": "stdout",
     "output_type": "stream",
     "text": [
      "[1] \"Del total de jóvenes ocupados, ¿qué porcentaje recibe crédito para vivienda como prestación laboral?\"\n"
     ]
    },
    {
     "data": {
      "text/html": [
       "<table class=\"dataframe\">\n",
       "<caption>A tibble: 2 × 6</caption>\n",
       "<thead>\n",
       "\t<tr><th scope=col>ident_jovenes</th><th scope=col>pres_5</th><th scope=col>ocupados</th><th scope=col>ocupados_cv</th><th scope=col>pct</th><th scope=col>pct_cv</th></tr>\n",
       "\t<tr><th scope=col>&lt;chr&gt;</th><th scope=col>&lt;dbl&gt;</th><th scope=col>&lt;dbl&gt;</th><th scope=col>&lt;dbl&gt;</th><th scope=col>&lt;dbl&gt;</th><th scope=col>&lt;dbl&gt;</th></tr>\n",
       "</thead>\n",
       "<tbody>\n",
       "\t<tr><td>joven</td><td>0</td><td> 671326</td><td>0.05563368</td><td>72.4</td><td>0.02790521</td></tr>\n",
       "\t<tr><td>otros</td><td>0</td><td>2333491</td><td>0.02926371</td><td>64.6</td><td>0.01932521</td></tr>\n",
       "</tbody>\n",
       "</table>\n"
      ],
      "text/latex": [
       "A tibble: 2 × 6\n",
       "\\begin{tabular}{llllll}\n",
       " ident\\_jovenes & pres\\_5 & ocupados & ocupados\\_cv & pct & pct\\_cv\\\\\n",
       " <chr> & <dbl> & <dbl> & <dbl> & <dbl> & <dbl>\\\\\n",
       "\\hline\n",
       "\t joven & 0 &  671326 & 0.05563368 & 72.4 & 0.02790521\\\\\n",
       "\t otros & 0 & 2333491 & 0.02926371 & 64.6 & 0.01932521\\\\\n",
       "\\end{tabular}\n"
      ],
      "text/markdown": [
       "\n",
       "A tibble: 2 × 6\n",
       "\n",
       "| ident_jovenes &lt;chr&gt; | pres_5 &lt;dbl&gt; | ocupados &lt;dbl&gt; | ocupados_cv &lt;dbl&gt; | pct &lt;dbl&gt; | pct_cv &lt;dbl&gt; |\n",
       "|---|---|---|---|---|---|\n",
       "| joven | 0 |  671326 | 0.05563368 | 72.4 | 0.02790521 |\n",
       "| otros | 0 | 2333491 | 0.02926371 | 64.6 | 0.01932521 |\n",
       "\n"
      ],
      "text/plain": [
       "  ident_jovenes pres_5 ocupados ocupados_cv pct  pct_cv    \n",
       "1 joven         0       671326  0.05563368  72.4 0.02790521\n",
       "2 otros         0      2333491  0.02926371  64.6 0.01932521"
      ]
     },
     "metadata": {},
     "output_type": "display_data"
    }
   ],
   "source": [
    "print(\"Del total de jóvenes ocupados, ¿qué porcentaje recibe crédito para vivienda como prestación laboral?\")\n",
    "dm%>%\n",
    "mutate(ident_jovenes = case_when(\n",
    "    grupo_edad %in% c(\"12-14\", \"15-17\", \"18-24\", \"25-29\") ~ \"joven\",\n",
    "    TRUE ~ \"otros\"\n",
    "  ))%>%\n",
    "group_by(ident_jovenes,pres_5)%>%\n",
    "summarise(ocupados = survey_total(vartype=\"cv\"),\n",
    "pct=survey_prop(vartype = \"cv\"))%>%\n",
    "mutate(pct = round(pct * 100,1)) %>%\n",
    "ungroup()%>%\n",
    "#Filtrar los que no tienen pres_5\n",
    "filter(pres_5==0)"
   ]
  }
 ],
 "metadata": {
  "kernelspec": {
   "display_name": "R",
   "language": "R",
   "name": "ir"
  },
  "language_info": {
   "codemirror_mode": "r",
   "file_extension": ".r",
   "mimetype": "text/x-r-source",
   "name": "R",
   "pygments_lexer": "r",
   "version": "4.4.1"
  }
 },
 "nbformat": 4,
 "nbformat_minor": 5
}
