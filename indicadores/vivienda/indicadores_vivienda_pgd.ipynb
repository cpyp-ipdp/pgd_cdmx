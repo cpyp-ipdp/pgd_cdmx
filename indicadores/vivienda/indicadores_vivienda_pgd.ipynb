{
 "cells": [
  {
   "cell_type": "markdown",
   "id": "d87828332c77dc5a",
   "metadata": {
    "colab_type": "text",
    "id": "view-in-github"
   },
   "source": [
    "<a href=\"https://colab.research.google.com/github/cpyp-ipdp/pgd_cdmx/blob/main/indicadores/vivienda/indicadores_vivienda_pgd.ipynb\" target=\"_parent\"><img src=\"https://colab.research.google.com/assets/colab-badge.svg\" alt=\"Open In Colab\"/></a>"
   ]
  },
  {
   "cell_type": "markdown",
   "id": "e446b748f7e7c90e",
   "metadata": {
    "id": "e446b748f7e7c90e"
   },
   "source": [
    "### Estimación de indicadores de vivienda para el Plan General de Desarrollo de la Ciudad de México\n",
    "\n",
    "En este script se descargan los microdatos de la Encuesta Nacional de Ingresos y Gastos de los Hogares (ENIGH) para los años 2016, 2018, 2020 y 2022. Posteriormente, se estiman dos indicadores de vivienda para la Ciudad de México: rezago habitacional y viviendas sin escrituras. Los resultados se presentan en dos cuadros."
   ]
  },
  {
   "cell_type": "code",
   "execution_count": 1,
   "id": "initial_id",
   "metadata": {
    "ExecuteTime": {
     "end_time": "2025-03-05T19:36:10.334287Z",
     "start_time": "2025-03-05T19:36:08.940498Z"
    },
    "collapsed": true,
    "id": "initial_id",
    "outputId": "e20886c0-380a-4049-ab16-2c9bc6dfbd53",
    "vscode": {
     "languageId": "r"
    }
   },
   "outputs": [
    {
     "name": "stderr",
     "output_type": "stream",
     "text": [
      "Cargando paquete requerido: pacman\n",
      "\n",
      "Using GitHub PAT from the git credential store.\n",
      "\n",
      "Downloading GitHub repo cpyp-ipdp/funcionespgd@HEAD\n",
      "\n"
     ]
    },
    {
     "name": "stdout",
     "output_type": "stream",
     "text": [
      "rlang  (1.1.4 -> 1.1.6) [CRAN]\n",
      "glue   (1.7.0 -> 1.8.0) [CRAN]\n",
      "cli    (3.6.3 -> 3.6.5) [CRAN]\n",
      "tibble (3.2.1 -> 3.3.0) [CRAN]\n"
     ]
    },
    {
     "name": "stderr",
     "output_type": "stream",
     "text": [
      "Installing 4 packages: rlang, glue, cli, tibble\n",
      "\n",
      "Warning message:\n",
      "\"package 'tibble' is in use and will not be installed\"\n",
      "Installing packages into 'C:/Users/claud/AppData/Local/R/win-library/4.4'\n",
      "(as 'lib' is unspecified)\n",
      "\n"
     ]
    },
    {
     "name": "stdout",
     "output_type": "stream",
     "text": [
      "package 'rlang' successfully unpacked and MD5 sums checked\n"
     ]
    },
    {
     "name": "stderr",
     "output_type": "stream",
     "text": [
      "Warning message:\n",
      "\"cannot remove prior installation of package 'rlang'\"\n",
      "Warning message in file.copy(savedcopy, lib, recursive = TRUE):\n",
      "\"problema al copiar C:\\Users\\claud\\AppData\\Local\\R\\win-library\\4.4\\00LOCK\\rlang\\libs\\x64\\rlang.dll  a C:\\Users\\claud\\AppData\\Local\\R\\win-library\\4.4\\rlang\\libs\\x64\\rlang.dll: Permission denied\"\n",
      "Warning message:\n",
      "\"restored 'rlang'\"\n"
     ]
    },
    {
     "name": "stdout",
     "output_type": "stream",
     "text": [
      "package 'glue' successfully unpacked and MD5 sums checked\n"
     ]
    },
    {
     "name": "stderr",
     "output_type": "stream",
     "text": [
      "Warning message:\n",
      "\"cannot remove prior installation of package 'glue'\"\n",
      "Warning message in file.copy(savedcopy, lib, recursive = TRUE):\n",
      "\"problema al copiar C:\\Users\\claud\\AppData\\Local\\R\\win-library\\4.4\\00LOCK\\glue\\libs\\x64\\glue.dll  a C:\\Users\\claud\\AppData\\Local\\R\\win-library\\4.4\\glue\\libs\\x64\\glue.dll: Permission denied\"\n",
      "Warning message:\n",
      "\"restored 'glue'\"\n"
     ]
    },
    {
     "name": "stdout",
     "output_type": "stream",
     "text": [
      "package 'cli' successfully unpacked and MD5 sums checked\n"
     ]
    },
    {
     "name": "stderr",
     "output_type": "stream",
     "text": [
      "Warning message:\n",
      "\"cannot remove prior installation of package 'cli'\"\n",
      "Warning message in file.copy(savedcopy, lib, recursive = TRUE):\n",
      "\"problema al copiar C:\\Users\\claud\\AppData\\Local\\R\\win-library\\4.4\\00LOCK\\cli\\libs\\x64\\cli.dll  a C:\\Users\\claud\\AppData\\Local\\R\\win-library\\4.4\\cli\\libs\\x64\\cli.dll: Permission denied\"\n",
      "Warning message:\n",
      "\"restored 'cli'\"\n"
     ]
    },
    {
     "name": "stdout",
     "output_type": "stream",
     "text": [
      "\n",
      "The downloaded binary packages are in\n",
      "\tC:\\Users\\claud\\AppData\\Local\\Temp\\RtmpqWAwnM\\downloaded_packages\n",
      "\u001b[36m──\u001b[39m \u001b[36mR CMD build\u001b[39m \u001b[36m─────────────────────────────────────────────────────────────────\u001b[39m\n",
      "* checking for file 'C:\\Users\\claud\\AppData\\Local\\Temp\\RtmpqWAwnM\\remotes73f817332400\\cpyp-ipdp-funcionespgd-3fffa52/DESCRIPTION' ... OK\n",
      "* preparing 'funcionespgd':\n",
      "* checking DESCRIPTION meta-information ... OK\n",
      "* checking for LF line-endings in source and make files and shell scripts\n",
      "* checking for empty or unneeded directories\n",
      "Omitted 'LazyData' from DESCRIPTION\n",
      "* building 'funcionespgd_0.1.0.tar.gz'\n",
      "\n"
     ]
    },
    {
     "name": "stderr",
     "output_type": "stream",
     "text": [
      "Installing package into 'C:/Users/claud/AppData/Local/R/win-library/4.4'\n",
      "(as 'lib' is unspecified)\n",
      "\n"
     ]
    }
   ],
   "source": [
    "##Estimación de indicadores de vivienda\n",
    "#Se borra todo lo que se encuentra en el entorno\n",
    "\n",
    "rm(list=ls())\n",
    "\n",
    "# Librerías ====\n",
    "if(!require('pacman')) install.packages('pacman')\n",
    "pacman::p_load(tidyverse, showtext, srvyr,archive)\n",
    "remotes::install_github(\"cpyp-ipdp/funcionespgd\", force = TRUE)\n",
    "library(funcionespgd)\n",
    "font_add_google(\"Poppins\", \"pop\")\n",
    "showtext_auto()"
   ]
  },
  {
   "cell_type": "code",
   "execution_count": 2,
   "id": "9aa368e34821e8e1",
   "metadata": {
    "ExecuteTime": {
     "end_time": "2025-03-05T19:36:10.894803Z",
     "start_time": "2025-03-05T19:36:10.884191Z"
    },
    "id": "9aa368e34821e8e1",
    "vscode": {
     "languageId": "r"
    }
   },
   "outputs": [],
   "source": [
    "#Crear directorio para guardar los archivos\n",
    "dir.create(\"data\", showWarnings = FALSE)"
   ]
  },
  {
   "cell_type": "code",
   "execution_count": 3,
   "id": "f20f9e705a143bce",
   "metadata": {
    "ExecuteTime": {
     "end_time": "2025-03-05T19:36:12.335531Z",
     "start_time": "2025-03-05T19:36:12.323538Z"
    },
    "id": "f20f9e705a143bce",
    "vscode": {
     "languageId": "r"
    }
   },
   "outputs": [],
   "source": [
    "url_basica<-\"https://www.inegi.org.mx/contenidos/programas/enigh/nc/\"\n",
    "segunda_parte<-\"microdatos/enigh\"\n",
    "fin<-\"_ns_viviendas_csv.zip\""
   ]
  },
  {
   "cell_type": "code",
   "execution_count": 4,
   "id": "2a2a7cd7419394ac",
   "metadata": {
    "ExecuteTime": {
     "end_time": "2025-03-05T19:36:15.864001Z",
     "start_time": "2025-03-05T19:36:15.853092Z"
    },
    "id": "2a2a7cd7419394ac",
    "vscode": {
     "languageId": "r"
    }
   },
   "outputs": [],
   "source": [
    "years<-c(\"2016\", \"2018\", \"2020\", \"2022\",\"2024\")"
   ]
  },
  {
   "cell_type": "code",
   "execution_count": 5,
   "id": "854a59a424f73935",
   "metadata": {
    "ExecuteTime": {
     "end_time": "2025-03-05T19:36:24.214570Z",
     "start_time": "2025-03-05T19:36:24.165585Z"
    },
    "id": "854a59a424f73935",
    "vscode": {
     "languageId": "r"
    }
   },
   "outputs": [],
   "source": [
    "# Descargar los archivos, descomprimirlos y renombrarlos\n",
    "for (i in 1:length(years)) {\n",
    "  url <- paste0(url_basica, years[i], \"/\", segunda_parte, years[i], fin)\n",
    "  destfile <- paste0(\"data/\", years[i], fin)\n",
    "\n",
    "  # Descargar el archivo\n",
    "  download.file(url, destfile = destfile)\n",
    "\n",
    "  # Descomprimir el archivo\n",
    "  unzip(destfile, exdir = \"data\")\n",
    "\n",
    "  # Renombrar el archivo descomprimido a \"viviendas_xxxx.csv\"\n",
    "  file.rename(\n",
    "    from = \"data/viviendas.csv\",\n",
    "    to = paste0(\"data/viviendas_\", years[i], \".csv\")\n",
    "  )\n",
    "}"
   ]
  },
  {
   "cell_type": "code",
   "execution_count": 6,
   "id": "ba0e114e",
   "metadata": {
    "vscode": {
     "languageId": "r"
    }
   },
   "outputs": [
    {
     "data": {
      "text/html": [
       "<style>\n",
       ".list-inline {list-style: none; margin:0; padding: 0}\n",
       ".list-inline>li {display: inline-block}\n",
       ".list-inline>li:not(:last-child)::after {content: \"\\00b7\"; padding: 0 .5ex}\n",
       "</style>\n",
       "<ol class=list-inline><li>'2016_ns_viviendas_csv.zip'</li><li>'2018_ns_viviendas_csv.zip'</li><li>'2020_ns_viviendas_csv.zip'</li><li>'2022_ns_viviendas_csv.zip'</li><li>'2024_ns_viviendas_csv.zip'</li><li>'nota_bases_datos_enigh2016_ns.txt'</li><li>'nota_bases_datos_enigh2018_ns.txt'</li><li>'viviendas_2016.csv'</li><li>'viviendas_2018.csv'</li><li>'viviendas_2020.csv'</li><li>'viviendas_2022.csv'</li><li>'viviendas_2024.csv'</li></ol>\n"
      ],
      "text/latex": [
       "\\begin{enumerate*}\n",
       "\\item '2016\\_ns\\_viviendas\\_csv.zip'\n",
       "\\item '2018\\_ns\\_viviendas\\_csv.zip'\n",
       "\\item '2020\\_ns\\_viviendas\\_csv.zip'\n",
       "\\item '2022\\_ns\\_viviendas\\_csv.zip'\n",
       "\\item '2024\\_ns\\_viviendas\\_csv.zip'\n",
       "\\item 'nota\\_bases\\_datos\\_enigh2016\\_ns.txt'\n",
       "\\item 'nota\\_bases\\_datos\\_enigh2018\\_ns.txt'\n",
       "\\item 'viviendas\\_2016.csv'\n",
       "\\item 'viviendas\\_2018.csv'\n",
       "\\item 'viviendas\\_2020.csv'\n",
       "\\item 'viviendas\\_2022.csv'\n",
       "\\item 'viviendas\\_2024.csv'\n",
       "\\end{enumerate*}\n"
      ],
      "text/markdown": [
       "1. '2016_ns_viviendas_csv.zip'\n",
       "2. '2018_ns_viviendas_csv.zip'\n",
       "3. '2020_ns_viviendas_csv.zip'\n",
       "4. '2022_ns_viviendas_csv.zip'\n",
       "5. '2024_ns_viviendas_csv.zip'\n",
       "6. 'nota_bases_datos_enigh2016_ns.txt'\n",
       "7. 'nota_bases_datos_enigh2018_ns.txt'\n",
       "8. 'viviendas_2016.csv'\n",
       "9. 'viviendas_2018.csv'\n",
       "10. 'viviendas_2020.csv'\n",
       "11. 'viviendas_2022.csv'\n",
       "12. 'viviendas_2024.csv'\n",
       "\n",
       "\n"
      ],
      "text/plain": [
       " [1] \"2016_ns_viviendas_csv.zip\"         \"2018_ns_viviendas_csv.zip\"        \n",
       " [3] \"2020_ns_viviendas_csv.zip\"         \"2022_ns_viviendas_csv.zip\"        \n",
       " [5] \"2024_ns_viviendas_csv.zip\"         \"nota_bases_datos_enigh2016_ns.txt\"\n",
       " [7] \"nota_bases_datos_enigh2018_ns.txt\" \"viviendas_2016.csv\"               \n",
       " [9] \"viviendas_2018.csv\"                \"viviendas_2020.csv\"               \n",
       "[11] \"viviendas_2022.csv\"                \"viviendas_2024.csv\"               "
      ]
     },
     "metadata": {},
     "output_type": "display_data"
    }
   ],
   "source": [
    "#Enlistar archivos de la carpeta data\n",
    "list.files(\"data\")"
   ]
  },
  {
   "cell_type": "markdown",
   "id": "88d2dd45a9ce0b2c",
   "metadata": {
    "id": "88d2dd45a9ce0b2c"
   },
   "source": [
    "### Función de estimación"
   ]
  },
  {
   "cell_type": "code",
   "execution_count": 10,
   "id": "1008fc65",
   "metadata": {
    "vscode": {
     "languageId": "r"
    }
   },
   "outputs": [],
   "source": [
    "estimacion <- function(path, variable) {\n",
    "  # Cargar los datos\n",
    "  print(path)\n",
    "  datos <- read_csv(path)\n",
    "  valor_excusado <- if (length(unique(datos$excusado)) == 3) 3 else 2\n",
    "\n",
    "  datos <- datos %>%\n",
    "    mutate(\n",
    "      across(starts_with(\"mat\") & where(is.character),\n",
    "             ~ replace_na(parse_number(.x, na = c('', 'NA', '&')), 0)),\n",
    "      rezago = if_else(\n",
    "        ((tot_resid / num_cuarto) > 2.5) |\n",
    "          (mat_pared %in% 1:6) |\n",
    "          (mat_techos %in% c(1:4, 6, 7, 9)) |\n",
    "          (mat_pisos == 1) |\n",
    "          (excusado == valor_excusado),\n",
    "        \"En rezago\",\n",
    "        \"Fuera de rezago\"\n",
    "      )\n",
    "    ) %>%\n",
    "    mutate(cve_ent = case_when(\n",
    "      nchar(folioviv) == 9  ~ paste0(\"0\", substr(folioviv, 1, 1)),\n",
    "      nchar(folioviv) == 10 ~ substr(folioviv, 1, 2)\n",
    "    )) %>%\n",
    "    # Filtrar si entidad es 9\n",
    "  filter(cve_ent == \"09\")\n",
    "\n",
    "\n",
    "  # Definir diseño muestral\n",
    "  mydesign <- datos %>%\n",
    "    as_survey_design(ids = upm,\n",
    "                     strata = est_dis,\n",
    "                     weights = factor)\n",
    "\n",
    "  # Estimar rezago habitacional\n",
    "  rezago <- mydesign %>%\n",
    "    group_by(rezago) %>%\n",
    "    summarise(\n",
    "      viviendas = survey_total(vartype = \"cv\"),\n",
    "      pct = survey_prop(vartype = \"cv\")\n",
    "        #Viviendas totales\n",
    "    ) %>%\n",
    "    mutate(pct = round(pct * 100, 2)) %>%\n",
    "  # Añadir columna con el total de viviendas\n",
    "  mutate(total_viviendas = sum(viviendas)) %>%\n",
    "    filter(rezago == \"En rezago\") %>%\n",
    "    # Añadir año\n",
    "    mutate(year = substr(path, 16, 19))\n",
    "\n",
    "\n",
    "\n",
    "\n",
    "  # Estimar viviendas sin escrituras\n",
    "  escrituras <- mydesign %>%\n",
    "    filter(tenencia %in% c(3,4)) %>%\n",
    "group_by(escrituras) %>%\n",
    "    summarise(\n",
    "      viviendas = survey_total(vartype = \"cv\"),\n",
    "      pct = survey_prop(vartype = \"cv\")\n",
    "    ) %>%\n",
    " mutate(total_viviendas = sum(viviendas)) %>%\n",
    "    filter(escrituras == 3) %>%\n",
    "    mutate(pct = round(pct * 100, 2),\n",
    "           escrituras = case_when(\n",
    "        escrituras == 3 ~ \"Sin escrituras\"\n",
    "))%>%\n",
    "mutate(year = substr(path, 16, 19))\n",
    "\n",
    "\n",
    "#Hogares en la vivienda\n",
    "\n",
    "hogares<-mydesign %>%\n",
    "summarise(\n",
    "    hogares=survey_total(tot_hog, vartype = \"cv\")\n",
    "    ) %>%\n",
    "mutate(year = substr(path, 16, 19))\n",
    "\n",
    "\n",
    "##Hogares hacinamiento\n",
    "\n",
    "hogares_hac<-mydesign %>%\n",
    "#Identificar hacinamiento\n",
    "mutate(hacinamiento=ifelse((tot_resid/num_cuarto)>2.5,1,0))%>%\n",
    "#filtrar hacinamiento\n",
    "#filter(hacinamiento==1)%>%\n",
    "group_by(hacinamiento)%>%\n",
    "summarise(\n",
    "    hogares_hac=survey_total(vartype = \"cv\"),\n",
    "    pct=survey_prop(vartype = \"cv\")\n",
    "    ) %>%\n",
    "mutate(year = substr(path, 16, 19))%>%\n",
    "\n",
    "mutate(pct=round(pct*100,2))\n",
    "\n",
    "\n",
    "hogares_hac2<-mydesign %>%\n",
    "#Identificar hacinamiento\n",
    "mutate(hacinamiento=ifelse((tot_resid/num_cuarto)>2,1,0))%>%\n",
    "#filtrar hacinamiento\n",
    "#filter(hacinamiento==1)%>%\n",
    "group_by(hacinamiento)%>%\n",
    "summarise(\n",
    "    hogares_hac=survey_total(vartype = \"cv\"),\n",
    "    pct=survey_prop(vartype = \"cv\")\n",
    "    ) %>%\n",
    "mutate(year = substr(path, 16, 19))%>%\n",
    "mutate(pct=round(pct*100,2))\n",
    "\n",
    "\n",
    "#Hog hacinamiento no propietarios\n",
    "hogares_hac_no_prop<-mydesign%>%\n",
    "#Identificar hacinamiento\n",
    "mutate(hacinamiento=ifelse((tot_resid/num_cuarto)>2.5,1,0))%>%\n",
    "mutate(ten_vivi=case_when(tenencia==3 | tenencia==4 ~ \"Propietarios\",\n",
    "            TRUE ~ \"No propietarios\"))%>%\n",
    "#filtrar hacinamiento\n",
    "filter(hacinamiento==1)%>%\n",
    "group_by(ten_vivi)%>%\n",
    "#Contar hogares con hacinamiento\n",
    "summarise(\n",
    "    hogares_hac=survey_prop(vartype = \"cv\")\n",
    "    ) %>%\n",
    "ungroup()%>%\n",
    "mutate(year = as.integer(substr(path, 16, 19)))%>%\n",
    "filter(ten_vivi==\"No propietarios\")%>%\n",
    "mutate(hogares_hac=round(hogares_hac*100,2))\n",
    "\n",
    "\n",
    "\n",
    "  # Devolver el resultado basado en la variable\n",
    "  if (variable == \"rezago\") {\n",
    "    return(rezago)\n",
    "\n",
    "  } else if (variable == \"sin_escrituras\") {\n",
    "    return(escrituras)\n",
    "  }\n",
    "\n",
    "else if (variable == \"hogares\") {\n",
    "    return(hogares)\n",
    "  }\n",
    "\n",
    "  else if (variable == \"hogares_hac_no_prop\") {\n",
    "    return(hogares_hac_no_prop)\n",
    "}\n",
    "\n",
    "else if (variable == \"hogares_hac\") {\n",
    "    return(hogares_hac)\n",
    "\n",
    "  }\n",
    "    else if (variable == \"hogares_hac2\") {\n",
    "        return(hogares_hac2)\n",
    "\n",
    "    }\n",
    "\n",
    "else {\n",
    "    stop(\"Variable no reconocida. Use 'rezago' o 'sin_escrituras'.\")\n",
    "  }}\n",
    "     "
   ]
  },
  {
   "cell_type": "code",
   "execution_count": 11,
   "id": "830dd86ff956b74a",
   "metadata": {
    "ExecuteTime": {
     "end_time": "2025-02-25T20:36:20.427767Z",
     "start_time": "2025-02-25T20:36:15.592607Z"
    },
    "id": "830dd86ff956b74a",
    "outputId": "8aaa4614-67ca-43f0-ba06-a41d8b0fb624",
    "vscode": {
     "languageId": "r"
    }
   },
   "outputs": [
    {
     "name": "stdout",
     "output_type": "stream",
     "text": [
      "[1] \"data/viviendas_2016.csv\"\n"
     ]
    },
    {
     "name": "stderr",
     "output_type": "stream",
     "text": [
      "Warning message:\n",
      "\"\u001b[1m\u001b[22mOne or more parsing issues, call `problems()` on your data frame for details,\n",
      "e.g.:\n",
      "  dat <- vroom(...)\n",
      "  problems(dat)\"\n",
      "\u001b[1mRows: \u001b[22m\u001b[34m69169\u001b[39m \u001b[1mColumns: \u001b[22m\u001b[34m64\u001b[39m\n",
      "\u001b[36m──\u001b[39m \u001b[1mColumn specification\u001b[22m \u001b[36m────────────────────────────────────────────────────────\u001b[39m\n",
      "\u001b[1mDelimiter:\u001b[22m \",\"\n",
      "\u001b[31mchr\u001b[39m (10): folioviv, tipo_viv, mat_techos, tipo_finan, num_dueno1, num_dueno2...\n",
      "\u001b[32mdbl\u001b[39m (54): mat_pared, mat_pisos, antiguedad, antigua_ne, cocina, cocina_dor, ...\n",
      "\n",
      "\u001b[36mℹ\u001b[39m Use `spec()` to retrieve the full column specification for this data.\n",
      "\u001b[36mℹ\u001b[39m Specify the column types or set `show_col_types = FALSE` to quiet this message.\n"
     ]
    },
    {
     "name": "stdout",
     "output_type": "stream",
     "text": [
      "[1] \"data/viviendas_2018.csv\"\n"
     ]
    },
    {
     "name": "stderr",
     "output_type": "stream",
     "text": [
      "Warning message:\n",
      "\"\u001b[1m\u001b[22mOne or more parsing issues, call `problems()` on your data frame for details,\n",
      "e.g.:\n",
      "  dat <- vroom(...)\n",
      "  problems(dat)\"\n",
      "\u001b[1mRows: \u001b[22m\u001b[34m73405\u001b[39m \u001b[1mColumns: \u001b[22m\u001b[34m64\u001b[39m\n",
      "\u001b[36m──\u001b[39m \u001b[1mColumn specification\u001b[22m \u001b[36m────────────────────────────────────────────────────────\u001b[39m\n",
      "\u001b[1mDelimiter:\u001b[22m \",\"\n",
      "\u001b[31mchr\u001b[39m  (9): folioviv, tipo_viv, mat_techos, tipo_finan, num_dueno1, num_dueno2...\n",
      "\u001b[32mdbl\u001b[39m (55): mat_pared, mat_pisos, antiguedad, antigua_ne, cocina, cocina_dor, ...\n",
      "\n",
      "\u001b[36mℹ\u001b[39m Use `spec()` to retrieve the full column specification for this data.\n",
      "\u001b[36mℹ\u001b[39m Specify the column types or set `show_col_types = FALSE` to quiet this message.\n"
     ]
    },
    {
     "name": "stdout",
     "output_type": "stream",
     "text": [
      "[1] \"data/viviendas_2020.csv\"\n"
     ]
    },
    {
     "name": "stderr",
     "output_type": "stream",
     "text": [
      "Warning message:\n",
      "\"\u001b[1m\u001b[22mOne or more parsing issues, call `problems()` on your data frame for details,\n",
      "e.g.:\n",
      "  dat <- vroom(...)\n",
      "  problems(dat)\"\n",
      "\u001b[1mRows: \u001b[22m\u001b[34m87754\u001b[39m \u001b[1mColumns: \u001b[22m\u001b[34m64\u001b[39m\n",
      "\u001b[36m──\u001b[39m \u001b[1mColumn specification\u001b[22m \u001b[36m────────────────────────────────────────────────────────\u001b[39m\n",
      "\u001b[1mDelimiter:\u001b[22m \",\"\n",
      "\u001b[31mchr\u001b[39m  (9): folioviv, tipo_viv, mat_techos, tipo_finan, num_dueno1, num_dueno2...\n",
      "\u001b[32mdbl\u001b[39m (55): mat_pared, mat_pisos, antiguedad, antigua_ne, cocina, cocina_dor, ...\n",
      "\n",
      "\u001b[36mℹ\u001b[39m Use `spec()` to retrieve the full column specification for this data.\n",
      "\u001b[36mℹ\u001b[39m Specify the column types or set `show_col_types = FALSE` to quiet this message.\n"
     ]
    },
    {
     "name": "stdout",
     "output_type": "stream",
     "text": [
      "[1] \"data/viviendas_2022.csv\"\n"
     ]
    },
    {
     "name": "stderr",
     "output_type": "stream",
     "text": [
      "Warning message:\n",
      "\"\u001b[1m\u001b[22mOne or more parsing issues, call `problems()` on your data frame for details,\n",
      "e.g.:\n",
      "  dat <- vroom(...)\n",
      "  problems(dat)\"\n",
      "\u001b[1mRows: \u001b[22m\u001b[34m88823\u001b[39m \u001b[1mColumns: \u001b[22m\u001b[34m64\u001b[39m\n",
      "\u001b[36m──\u001b[39m \u001b[1mColumn specification\u001b[22m \u001b[36m────────────────────────────────────────────────────────\u001b[39m\n",
      "\u001b[1mDelimiter:\u001b[22m \",\"\n",
      "\u001b[31mchr\u001b[39m  (9): folioviv, tipo_viv, mat_techos, tipo_finan, num_dueno1, num_dueno2...\n",
      "\u001b[32mdbl\u001b[39m (55): mat_pared, mat_pisos, antiguedad, antigua_ne, cocina, cocina_dor, ...\n",
      "\n",
      "\u001b[36mℹ\u001b[39m Use `spec()` to retrieve the full column specification for this data.\n",
      "\u001b[36mℹ\u001b[39m Specify the column types or set `show_col_types = FALSE` to quiet this message.\n"
     ]
    },
    {
     "name": "stdout",
     "output_type": "stream",
     "text": [
      "[1] \"data/viviendas_2024.csv\"\n"
     ]
    },
    {
     "name": "stderr",
     "output_type": "stream",
     "text": [
      "Warning message:\n",
      "\"\u001b[1m\u001b[22mOne or more parsing issues, call `problems()` on your data frame for details,\n",
      "e.g.:\n",
      "  dat <- vroom(...)\n",
      "  problems(dat)\"\n",
      "\u001b[1mRows: \u001b[22m\u001b[34m90324\u001b[39m \u001b[1mColumns: \u001b[22m\u001b[34m82\u001b[39m\n",
      "\u001b[36m──\u001b[39m \u001b[1mColumn specification\u001b[22m \u001b[36m────────────────────────────────────────────────────────\u001b[39m\n",
      "\u001b[1mDelimiter:\u001b[22m \",\"\n",
      "\u001b[31mchr\u001b[39m  (8): folioviv, mat_techos, finan_8, num_dueno1, num_dueno2, ubica_geo, ...\n",
      "\u001b[32mdbl\u001b[39m (74): tipo_viv, mat_pared, mat_pisos, antiguedad, antigua_ne, cocina, co...\n",
      "\n",
      "\u001b[36mℹ\u001b[39m Use `spec()` to retrieve the full column specification for this data.\n",
      "\u001b[36mℹ\u001b[39m Specify the column types or set `show_col_types = FALSE` to quiet this message.\n"
     ]
    },
    {
     "name": "stdout",
     "output_type": "stream",
     "text": [
      "[1] \"Porcentaje de viviendas cuyos habitantes viven en rezago habitacional\"\n"
     ]
    },
    {
     "data": {
      "text/html": [
       "<table class=\"dataframe\">\n",
       "<caption>A tibble: 5 × 7</caption>\n",
       "<thead>\n",
       "\t<tr><th scope=col>rezago</th><th scope=col>viviendas</th><th scope=col>viviendas_cv</th><th scope=col>pct</th><th scope=col>pct_cv</th><th scope=col>total_viviendas</th><th scope=col>year</th></tr>\n",
       "\t<tr><th scope=col>&lt;chr&gt;</th><th scope=col>&lt;dbl&gt;</th><th scope=col>&lt;dbl&gt;</th><th scope=col>&lt;dbl&gt;</th><th scope=col>&lt;dbl&gt;</th><th scope=col>&lt;dbl&gt;</th><th scope=col>&lt;int&gt;</th></tr>\n",
       "</thead>\n",
       "<tbody>\n",
       "\t<tr><td>En rezago</td><td>272200</td><td>0.08809435</td><td>9.81</td><td>0.08684886</td><td>2774780</td><td>2016</td></tr>\n",
       "\t<tr><td>En rezago</td><td>218501</td><td>0.08906203</td><td>8.02</td><td>0.08727815</td><td>2724389</td><td>2018</td></tr>\n",
       "\t<tr><td>En rezago</td><td>198021</td><td>0.08360376</td><td>7.31</td><td>0.08292165</td><td>2707156</td><td>2020</td></tr>\n",
       "\t<tr><td>En rezago</td><td>175242</td><td>0.09933936</td><td>5.94</td><td>0.09870452</td><td>2947953</td><td>2022</td></tr>\n",
       "\t<tr><td>En rezago</td><td>182009</td><td>0.09643562</td><td>6.01</td><td>0.09677589</td><td>3029724</td><td>2024</td></tr>\n",
       "</tbody>\n",
       "</table>\n"
      ],
      "text/latex": [
       "A tibble: 5 × 7\n",
       "\\begin{tabular}{lllllll}\n",
       " rezago & viviendas & viviendas\\_cv & pct & pct\\_cv & total\\_viviendas & year\\\\\n",
       " <chr> & <dbl> & <dbl> & <dbl> & <dbl> & <dbl> & <int>\\\\\n",
       "\\hline\n",
       "\t En rezago & 272200 & 0.08809435 & 9.81 & 0.08684886 & 2774780 & 2016\\\\\n",
       "\t En rezago & 218501 & 0.08906203 & 8.02 & 0.08727815 & 2724389 & 2018\\\\\n",
       "\t En rezago & 198021 & 0.08360376 & 7.31 & 0.08292165 & 2707156 & 2020\\\\\n",
       "\t En rezago & 175242 & 0.09933936 & 5.94 & 0.09870452 & 2947953 & 2022\\\\\n",
       "\t En rezago & 182009 & 0.09643562 & 6.01 & 0.09677589 & 3029724 & 2024\\\\\n",
       "\\end{tabular}\n"
      ],
      "text/markdown": [
       "\n",
       "A tibble: 5 × 7\n",
       "\n",
       "| rezago &lt;chr&gt; | viviendas &lt;dbl&gt; | viviendas_cv &lt;dbl&gt; | pct &lt;dbl&gt; | pct_cv &lt;dbl&gt; | total_viviendas &lt;dbl&gt; | year &lt;int&gt; |\n",
       "|---|---|---|---|---|---|---|\n",
       "| En rezago | 272200 | 0.08809435 | 9.81 | 0.08684886 | 2774780 | 2016 |\n",
       "| En rezago | 218501 | 0.08906203 | 8.02 | 0.08727815 | 2724389 | 2018 |\n",
       "| En rezago | 198021 | 0.08360376 | 7.31 | 0.08292165 | 2707156 | 2020 |\n",
       "| En rezago | 175242 | 0.09933936 | 5.94 | 0.09870452 | 2947953 | 2022 |\n",
       "| En rezago | 182009 | 0.09643562 | 6.01 | 0.09677589 | 3029724 | 2024 |\n",
       "\n"
      ],
      "text/plain": [
       "  rezago    viviendas viviendas_cv pct  pct_cv     total_viviendas year\n",
       "1 En rezago 272200    0.08809435   9.81 0.08684886 2774780         2016\n",
       "2 En rezago 218501    0.08906203   8.02 0.08727815 2724389         2018\n",
       "3 En rezago 198021    0.08360376   7.31 0.08292165 2707156         2020\n",
       "4 En rezago 175242    0.09933936   5.94 0.09870452 2947953         2022\n",
       "5 En rezago 182009    0.09643562   6.01 0.09677589 3029724         2024"
      ]
     },
     "metadata": {},
     "output_type": "display_data"
    }
   ],
   "source": [
    "#Construir cuadros de rezago habitacional\n",
    "\n",
    "tabla_rezago<-map_dfr(\n",
    "  list.files(\"data\", full.names = TRUE, pattern = \"viviendas_.*.csv\"),\n",
    "  \n",
    "  estimacion,\n",
    "  variable = \"rezago\"\n",
    ")%>%\n",
    "mutate(year = as.integer(year))\n",
    "print(\"Porcentaje de viviendas cuyos habitantes viven en rezago habitacional\")\n",
    "tabla_rezago"
   ]
  },
  {
   "cell_type": "code",
   "execution_count": 9,
   "id": "f7420f59e5cbff5c",
   "metadata": {
    "ExecuteTime": {
     "end_time": "2025-02-25T20:36:29.034718Z",
     "start_time": "2025-02-25T20:36:24.916786Z"
    },
    "id": "f7420f59e5cbff5c",
    "outputId": "d1ba04e6-d4ce-4c5b-b937-2028e1e91ac6",
    "vscode": {
     "languageId": "r"
    }
   },
   "outputs": [
    {
     "name": "stdout",
     "output_type": "stream",
     "text": [
      "[1] \"data/viviendas_2016.csv\"\n"
     ]
    },
    {
     "name": "stderr",
     "output_type": "stream",
     "text": [
      "Warning message:\n",
      "\"\u001b[1m\u001b[22mOne or more parsing issues, call `problems()` on your data frame for details,\n",
      "e.g.:\n",
      "  dat <- vroom(...)\n",
      "  problems(dat)\"\n",
      "\u001b[1mRows: \u001b[22m\u001b[34m69169\u001b[39m \u001b[1mColumns: \u001b[22m\u001b[34m64\u001b[39m\n",
      "\u001b[36m──\u001b[39m \u001b[1mColumn specification\u001b[22m \u001b[36m────────────────────────────────────────────────────────\u001b[39m\n",
      "\u001b[1mDelimiter:\u001b[22m \",\"\n",
      "\u001b[31mchr\u001b[39m (10): folioviv, tipo_viv, mat_techos, tipo_finan, num_dueno1, num_dueno2...\n",
      "\u001b[32mdbl\u001b[39m (54): mat_pared, mat_pisos, antiguedad, antigua_ne, cocina, cocina_dor, ...\n",
      "\n",
      "\u001b[36mℹ\u001b[39m Use `spec()` to retrieve the full column specification for this data.\n",
      "\u001b[36mℹ\u001b[39m Specify the column types or set `show_col_types = FALSE` to quiet this message.\n"
     ]
    },
    {
     "name": "stdout",
     "output_type": "stream",
     "text": [
      "[1] \"data/viviendas_2018.csv\"\n"
     ]
    },
    {
     "name": "stderr",
     "output_type": "stream",
     "text": [
      "Warning message:\n",
      "\"\u001b[1m\u001b[22mOne or more parsing issues, call `problems()` on your data frame for details,\n",
      "e.g.:\n",
      "  dat <- vroom(...)\n",
      "  problems(dat)\"\n",
      "\u001b[1mRows: \u001b[22m\u001b[34m73405\u001b[39m \u001b[1mColumns: \u001b[22m\u001b[34m64\u001b[39m\n",
      "\u001b[36m──\u001b[39m \u001b[1mColumn specification\u001b[22m \u001b[36m────────────────────────────────────────────────────────\u001b[39m\n",
      "\u001b[1mDelimiter:\u001b[22m \",\"\n",
      "\u001b[31mchr\u001b[39m  (9): folioviv, tipo_viv, mat_techos, tipo_finan, num_dueno1, num_dueno2...\n",
      "\u001b[32mdbl\u001b[39m (55): mat_pared, mat_pisos, antiguedad, antigua_ne, cocina, cocina_dor, ...\n",
      "\n",
      "\u001b[36mℹ\u001b[39m Use `spec()` to retrieve the full column specification for this data.\n",
      "\u001b[36mℹ\u001b[39m Specify the column types or set `show_col_types = FALSE` to quiet this message.\n"
     ]
    },
    {
     "name": "stdout",
     "output_type": "stream",
     "text": [
      "[1] \"data/viviendas_2020.csv\"\n"
     ]
    },
    {
     "name": "stderr",
     "output_type": "stream",
     "text": [
      "Warning message:\n",
      "\"\u001b[1m\u001b[22mOne or more parsing issues, call `problems()` on your data frame for details,\n",
      "e.g.:\n",
      "  dat <- vroom(...)\n",
      "  problems(dat)\"\n",
      "\u001b[1mRows: \u001b[22m\u001b[34m87754\u001b[39m \u001b[1mColumns: \u001b[22m\u001b[34m64\u001b[39m\n",
      "\u001b[36m──\u001b[39m \u001b[1mColumn specification\u001b[22m \u001b[36m────────────────────────────────────────────────────────\u001b[39m\n",
      "\u001b[1mDelimiter:\u001b[22m \",\"\n",
      "\u001b[31mchr\u001b[39m  (9): folioviv, tipo_viv, mat_techos, tipo_finan, num_dueno1, num_dueno2...\n",
      "\u001b[32mdbl\u001b[39m (55): mat_pared, mat_pisos, antiguedad, antigua_ne, cocina, cocina_dor, ...\n",
      "\n",
      "\u001b[36mℹ\u001b[39m Use `spec()` to retrieve the full column specification for this data.\n",
      "\u001b[36mℹ\u001b[39m Specify the column types or set `show_col_types = FALSE` to quiet this message.\n"
     ]
    },
    {
     "name": "stdout",
     "output_type": "stream",
     "text": [
      "[1] \"data/viviendas_2022.csv\"\n"
     ]
    },
    {
     "name": "stderr",
     "output_type": "stream",
     "text": [
      "Warning message:\n",
      "\"\u001b[1m\u001b[22mOne or more parsing issues, call `problems()` on your data frame for details,\n",
      "e.g.:\n",
      "  dat <- vroom(...)\n",
      "  problems(dat)\"\n",
      "\u001b[1mRows: \u001b[22m\u001b[34m88823\u001b[39m \u001b[1mColumns: \u001b[22m\u001b[34m64\u001b[39m\n",
      "\u001b[36m──\u001b[39m \u001b[1mColumn specification\u001b[22m \u001b[36m────────────────────────────────────────────────────────\u001b[39m\n",
      "\u001b[1mDelimiter:\u001b[22m \",\"\n",
      "\u001b[31mchr\u001b[39m  (9): folioviv, tipo_viv, mat_techos, tipo_finan, num_dueno1, num_dueno2...\n",
      "\u001b[32mdbl\u001b[39m (55): mat_pared, mat_pisos, antiguedad, antigua_ne, cocina, cocina_dor, ...\n",
      "\n",
      "\u001b[36mℹ\u001b[39m Use `spec()` to retrieve the full column specification for this data.\n",
      "\u001b[36mℹ\u001b[39m Specify the column types or set `show_col_types = FALSE` to quiet this message.\n"
     ]
    },
    {
     "name": "stdout",
     "output_type": "stream",
     "text": [
      "[1] \"data/viviendas_2024.csv\"\n"
     ]
    },
    {
     "name": "stderr",
     "output_type": "stream",
     "text": [
      "Warning message:\n",
      "\"\u001b[1m\u001b[22mOne or more parsing issues, call `problems()` on your data frame for details,\n",
      "e.g.:\n",
      "  dat <- vroom(...)\n",
      "  problems(dat)\"\n",
      "\u001b[1mRows: \u001b[22m\u001b[34m90324\u001b[39m \u001b[1mColumns: \u001b[22m\u001b[34m82\u001b[39m\n",
      "\u001b[36m──\u001b[39m \u001b[1mColumn specification\u001b[22m \u001b[36m────────────────────────────────────────────────────────\u001b[39m\n",
      "\u001b[1mDelimiter:\u001b[22m \",\"\n",
      "\u001b[31mchr\u001b[39m  (8): folioviv, mat_techos, finan_8, num_dueno1, num_dueno2, ubica_geo, ...\n",
      "\u001b[32mdbl\u001b[39m (74): tipo_viv, mat_pared, mat_pisos, antiguedad, antigua_ne, cocina, co...\n",
      "\n",
      "\u001b[36mℹ\u001b[39m Use `spec()` to retrieve the full column specification for this data.\n",
      "\u001b[36mℹ\u001b[39m Specify the column types or set `show_col_types = FALSE` to quiet this message.\n"
     ]
    },
    {
     "name": "stdout",
     "output_type": "stream",
     "text": [
      "[1] \"Porcentaje de viviviendas propias o propias en proceso de pago que no cuentan con escrituras\"\n"
     ]
    },
    {
     "data": {
      "text/html": [
       "<table class=\"dataframe\">\n",
       "<caption>A tibble: 5 × 7</caption>\n",
       "<thead>\n",
       "\t<tr><th scope=col>escrituras</th><th scope=col>viviendas</th><th scope=col>viviendas_cv</th><th scope=col>pct</th><th scope=col>pct_cv</th><th scope=col>total_viviendas</th><th scope=col>year</th></tr>\n",
       "\t<tr><th scope=col>&lt;chr&gt;</th><th scope=col>&lt;dbl&gt;</th><th scope=col>&lt;dbl&gt;</th><th scope=col>&lt;dbl&gt;</th><th scope=col>&lt;dbl&gt;</th><th scope=col>&lt;dbl&gt;</th><th scope=col>&lt;int&gt;</th></tr>\n",
       "</thead>\n",
       "<tbody>\n",
       "\t<tr><td>Sin escrituras</td><td>266547</td><td>0.08646642</td><td>17.71</td><td>0.08298775</td><td>1505322</td><td>2016</td></tr>\n",
       "\t<tr><td>Sin escrituras</td><td>246283</td><td>0.09985847</td><td>17.22</td><td>0.09461881</td><td>1429942</td><td>2018</td></tr>\n",
       "\t<tr><td>Sin escrituras</td><td>259056</td><td>0.09464920</td><td>16.23</td><td>0.08765464</td><td>1595765</td><td>2020</td></tr>\n",
       "\t<tr><td>Sin escrituras</td><td>310191</td><td>0.08428046</td><td>17.63</td><td>0.07835935</td><td>1759030</td><td>2022</td></tr>\n",
       "\t<tr><td>Sin escrituras</td><td>294660</td><td>0.09017554</td><td>16.48</td><td>0.08552691</td><td>1787817</td><td>2024</td></tr>\n",
       "</tbody>\n",
       "</table>\n"
      ],
      "text/latex": [
       "A tibble: 5 × 7\n",
       "\\begin{tabular}{lllllll}\n",
       " escrituras & viviendas & viviendas\\_cv & pct & pct\\_cv & total\\_viviendas & year\\\\\n",
       " <chr> & <dbl> & <dbl> & <dbl> & <dbl> & <dbl> & <int>\\\\\n",
       "\\hline\n",
       "\t Sin escrituras & 266547 & 0.08646642 & 17.71 & 0.08298775 & 1505322 & 2016\\\\\n",
       "\t Sin escrituras & 246283 & 0.09985847 & 17.22 & 0.09461881 & 1429942 & 2018\\\\\n",
       "\t Sin escrituras & 259056 & 0.09464920 & 16.23 & 0.08765464 & 1595765 & 2020\\\\\n",
       "\t Sin escrituras & 310191 & 0.08428046 & 17.63 & 0.07835935 & 1759030 & 2022\\\\\n",
       "\t Sin escrituras & 294660 & 0.09017554 & 16.48 & 0.08552691 & 1787817 & 2024\\\\\n",
       "\\end{tabular}\n"
      ],
      "text/markdown": [
       "\n",
       "A tibble: 5 × 7\n",
       "\n",
       "| escrituras &lt;chr&gt; | viviendas &lt;dbl&gt; | viviendas_cv &lt;dbl&gt; | pct &lt;dbl&gt; | pct_cv &lt;dbl&gt; | total_viviendas &lt;dbl&gt; | year &lt;int&gt; |\n",
       "|---|---|---|---|---|---|---|\n",
       "| Sin escrituras | 266547 | 0.08646642 | 17.71 | 0.08298775 | 1505322 | 2016 |\n",
       "| Sin escrituras | 246283 | 0.09985847 | 17.22 | 0.09461881 | 1429942 | 2018 |\n",
       "| Sin escrituras | 259056 | 0.09464920 | 16.23 | 0.08765464 | 1595765 | 2020 |\n",
       "| Sin escrituras | 310191 | 0.08428046 | 17.63 | 0.07835935 | 1759030 | 2022 |\n",
       "| Sin escrituras | 294660 | 0.09017554 | 16.48 | 0.08552691 | 1787817 | 2024 |\n",
       "\n"
      ],
      "text/plain": [
       "  escrituras     viviendas viviendas_cv pct   pct_cv     total_viviendas year\n",
       "1 Sin escrituras 266547    0.08646642   17.71 0.08298775 1505322         2016\n",
       "2 Sin escrituras 246283    0.09985847   17.22 0.09461881 1429942         2018\n",
       "3 Sin escrituras 259056    0.09464920   16.23 0.08765464 1595765         2020\n",
       "4 Sin escrituras 310191    0.08428046   17.63 0.07835935 1759030         2022\n",
       "5 Sin escrituras 294660    0.09017554   16.48 0.08552691 1787817         2024"
      ]
     },
     "metadata": {},
     "output_type": "display_data"
    }
   ],
   "source": [
    "#Construir cuadros de viviendas sin escrituras\n",
    "#Viviendas sin escrituras corresponden a viviendas propias y propias que se están pagando y no cuentan con escrituras\n",
    "\n",
    "tabla_escrituras<-map_dfr(\n",
    "    list.files(\"data\", full.names = TRUE, pattern = \"viviendas_.*.csv\"),\n",
    "    estimacion,\n",
    "    variable = \"sin_escrituras\"\n",
    "    )%>%\n",
    "    mutate(\n",
    "  year = as.integer(year)\n",
    ")\n",
    "print(\"Porcentaje de viviviendas propias o propias en proceso de pago que no cuentan con escrituras\")\n",
    "tabla_escrituras"
   ]
  },
  {
   "cell_type": "code",
   "execution_count": 10,
   "id": "73e9a224b0bbe1a",
   "metadata": {
    "ExecuteTime": {
     "end_time": "2025-02-25T20:36:33.778919Z",
     "start_time": "2025-02-25T20:36:29.719583Z"
    },
    "id": "73e9a224b0bbe1a",
    "outputId": "7868b299-2a15-4325-c5d8-12c35032dc51",
    "vscode": {
     "languageId": "r"
    }
   },
   "outputs": [
    {
     "name": "stdout",
     "output_type": "stream",
     "text": [
      "[1] \"data/viviendas_2016.csv\"\n"
     ]
    },
    {
     "name": "stderr",
     "output_type": "stream",
     "text": [
      "Warning message:\n",
      "\"\u001b[1m\u001b[22mOne or more parsing issues, call `problems()` on your data frame for details,\n",
      "e.g.:\n",
      "  dat <- vroom(...)\n",
      "  problems(dat)\"\n",
      "\u001b[1mRows: \u001b[22m\u001b[34m69169\u001b[39m \u001b[1mColumns: \u001b[22m\u001b[34m64\u001b[39m\n",
      "\u001b[36m──\u001b[39m \u001b[1mColumn specification\u001b[22m \u001b[36m────────────────────────────────────────────────────────\u001b[39m\n",
      "\u001b[1mDelimiter:\u001b[22m \",\"\n",
      "\u001b[31mchr\u001b[39m (10): folioviv, tipo_viv, mat_techos, tipo_finan, num_dueno1, num_dueno2...\n",
      "\u001b[32mdbl\u001b[39m (54): mat_pared, mat_pisos, antiguedad, antigua_ne, cocina, cocina_dor, ...\n",
      "\n",
      "\u001b[36mℹ\u001b[39m Use `spec()` to retrieve the full column specification for this data.\n",
      "\u001b[36mℹ\u001b[39m Specify the column types or set `show_col_types = FALSE` to quiet this message.\n"
     ]
    },
    {
     "name": "stdout",
     "output_type": "stream",
     "text": [
      "[1] \"data/viviendas_2018.csv\"\n"
     ]
    },
    {
     "name": "stderr",
     "output_type": "stream",
     "text": [
      "Warning message:\n",
      "\"\u001b[1m\u001b[22mOne or more parsing issues, call `problems()` on your data frame for details,\n",
      "e.g.:\n",
      "  dat <- vroom(...)\n",
      "  problems(dat)\"\n",
      "\u001b[1mRows: \u001b[22m\u001b[34m73405\u001b[39m \u001b[1mColumns: \u001b[22m\u001b[34m64\u001b[39m\n",
      "\u001b[36m──\u001b[39m \u001b[1mColumn specification\u001b[22m \u001b[36m────────────────────────────────────────────────────────\u001b[39m\n",
      "\u001b[1mDelimiter:\u001b[22m \",\"\n",
      "\u001b[31mchr\u001b[39m  (9): folioviv, tipo_viv, mat_techos, tipo_finan, num_dueno1, num_dueno2...\n",
      "\u001b[32mdbl\u001b[39m (55): mat_pared, mat_pisos, antiguedad, antigua_ne, cocina, cocina_dor, ...\n",
      "\n",
      "\u001b[36mℹ\u001b[39m Use `spec()` to retrieve the full column specification for this data.\n",
      "\u001b[36mℹ\u001b[39m Specify the column types or set `show_col_types = FALSE` to quiet this message.\n"
     ]
    },
    {
     "name": "stdout",
     "output_type": "stream",
     "text": [
      "[1] \"data/viviendas_2020.csv\"\n"
     ]
    },
    {
     "name": "stderr",
     "output_type": "stream",
     "text": [
      "Warning message:\n",
      "\"\u001b[1m\u001b[22mOne or more parsing issues, call `problems()` on your data frame for details,\n",
      "e.g.:\n",
      "  dat <- vroom(...)\n",
      "  problems(dat)\"\n",
      "\u001b[1mRows: \u001b[22m\u001b[34m87754\u001b[39m \u001b[1mColumns: \u001b[22m\u001b[34m64\u001b[39m\n",
      "\u001b[36m──\u001b[39m \u001b[1mColumn specification\u001b[22m \u001b[36m────────────────────────────────────────────────────────\u001b[39m\n",
      "\u001b[1mDelimiter:\u001b[22m \",\"\n",
      "\u001b[31mchr\u001b[39m  (9): folioviv, tipo_viv, mat_techos, tipo_finan, num_dueno1, num_dueno2...\n",
      "\u001b[32mdbl\u001b[39m (55): mat_pared, mat_pisos, antiguedad, antigua_ne, cocina, cocina_dor, ...\n",
      "\n",
      "\u001b[36mℹ\u001b[39m Use `spec()` to retrieve the full column specification for this data.\n",
      "\u001b[36mℹ\u001b[39m Specify the column types or set `show_col_types = FALSE` to quiet this message.\n"
     ]
    },
    {
     "name": "stdout",
     "output_type": "stream",
     "text": [
      "[1] \"data/viviendas_2022.csv\"\n"
     ]
    },
    {
     "name": "stderr",
     "output_type": "stream",
     "text": [
      "Warning message:\n",
      "\"\u001b[1m\u001b[22mOne or more parsing issues, call `problems()` on your data frame for details,\n",
      "e.g.:\n",
      "  dat <- vroom(...)\n",
      "  problems(dat)\"\n",
      "\u001b[1mRows: \u001b[22m\u001b[34m88823\u001b[39m \u001b[1mColumns: \u001b[22m\u001b[34m64\u001b[39m\n",
      "\u001b[36m──\u001b[39m \u001b[1mColumn specification\u001b[22m \u001b[36m────────────────────────────────────────────────────────\u001b[39m\n",
      "\u001b[1mDelimiter:\u001b[22m \",\"\n",
      "\u001b[31mchr\u001b[39m  (9): folioviv, tipo_viv, mat_techos, tipo_finan, num_dueno1, num_dueno2...\n",
      "\u001b[32mdbl\u001b[39m (55): mat_pared, mat_pisos, antiguedad, antigua_ne, cocina, cocina_dor, ...\n",
      "\n",
      "\u001b[36mℹ\u001b[39m Use `spec()` to retrieve the full column specification for this data.\n",
      "\u001b[36mℹ\u001b[39m Specify the column types or set `show_col_types = FALSE` to quiet this message.\n"
     ]
    },
    {
     "data": {
      "text/html": [
       "<table class=\"dataframe\">\n",
       "<caption>A tibble: 4 × 4</caption>\n",
       "<thead>\n",
       "\t<tr><th scope=col>hogares</th><th scope=col>hogares_cv</th><th scope=col>year</th><th scope=col>tasa_crec</th></tr>\n",
       "\t<tr><th scope=col>&lt;dbl&gt;</th><th scope=col>&lt;dbl&gt;</th><th scope=col>&lt;int&gt;</th><th scope=col>&lt;dbl&gt;</th></tr>\n",
       "</thead>\n",
       "<tbody>\n",
       "\t<tr><td>2825100</td><td>0.01357273</td><td>2016</td><td>       NA</td></tr>\n",
       "\t<tr><td>2778842</td><td>0.01510168</td><td>2018</td><td>-1.637393</td></tr>\n",
       "\t<tr><td>2731683</td><td>0.01285271</td><td>2020</td><td>-1.697074</td></tr>\n",
       "\t<tr><td>2990030</td><td>0.01388237</td><td>2022</td><td> 9.457430</td></tr>\n",
       "</tbody>\n",
       "</table>\n"
      ],
      "text/latex": [
       "A tibble: 4 × 4\n",
       "\\begin{tabular}{llll}\n",
       " hogares & hogares\\_cv & year & tasa\\_crec\\\\\n",
       " <dbl> & <dbl> & <int> & <dbl>\\\\\n",
       "\\hline\n",
       "\t 2825100 & 0.01357273 & 2016 &        NA\\\\\n",
       "\t 2778842 & 0.01510168 & 2018 & -1.637393\\\\\n",
       "\t 2731683 & 0.01285271 & 2020 & -1.697074\\\\\n",
       "\t 2990030 & 0.01388237 & 2022 &  9.457430\\\\\n",
       "\\end{tabular}\n"
      ],
      "text/markdown": [
       "\n",
       "A tibble: 4 × 4\n",
       "\n",
       "| hogares &lt;dbl&gt; | hogares_cv &lt;dbl&gt; | year &lt;int&gt; | tasa_crec &lt;dbl&gt; |\n",
       "|---|---|---|---|\n",
       "| 2825100 | 0.01357273 | 2016 |        NA |\n",
       "| 2778842 | 0.01510168 | 2018 | -1.637393 |\n",
       "| 2731683 | 0.01285271 | 2020 | -1.697074 |\n",
       "| 2990030 | 0.01388237 | 2022 |  9.457430 |\n",
       "\n"
      ],
      "text/plain": [
       "  hogares hogares_cv year tasa_crec\n",
       "1 2825100 0.01357273 2016        NA\n",
       "2 2778842 0.01510168 2018 -1.637393\n",
       "3 2731683 0.01285271 2020 -1.697074\n",
       "4 2990030 0.01388237 2022  9.457430"
      ]
     },
     "metadata": {},
     "output_type": "display_data"
    }
   ],
   "source": [
    "tabla_hogares<-map_dfr(\n",
    "    list.files(\"data\", full.names = TRUE, pattern = \"viviendas_.*.csv\"),\n",
    "    estimacion,\n",
    "    variable = \"hogares\"\n",
    "    )%>%\n",
    "mutate(\n",
    "  year = as.integer(year),\n",
    "tasa_crec=(hogares/lag(hogares)-1)*100)\n",
    "tabla_hogares"
   ]
  },
  {
   "cell_type": "code",
   "execution_count": 11,
   "id": "510d50c3c9a98117",
   "metadata": {
    "ExecuteTime": {
     "end_time": "2025-02-25T20:36:39.692643Z",
     "start_time": "2025-02-25T20:36:35.761055Z"
    },
    "id": "510d50c3c9a98117",
    "outputId": "9b38a69a-2f87-45ef-c551-e1320a93a839",
    "vscode": {
     "languageId": "r"
    }
   },
   "outputs": [
    {
     "name": "stdout",
     "output_type": "stream",
     "text": [
      "[1] \"data/viviendas_2016.csv\"\n"
     ]
    },
    {
     "name": "stderr",
     "output_type": "stream",
     "text": [
      "Warning message:\n",
      "\"\u001b[1m\u001b[22mOne or more parsing issues, call `problems()` on your data frame for details,\n",
      "e.g.:\n",
      "  dat <- vroom(...)\n",
      "  problems(dat)\"\n",
      "\u001b[1mRows: \u001b[22m\u001b[34m69169\u001b[39m \u001b[1mColumns: \u001b[22m\u001b[34m64\u001b[39m\n",
      "\u001b[36m──\u001b[39m \u001b[1mColumn specification\u001b[22m \u001b[36m────────────────────────────────────────────────────────\u001b[39m\n",
      "\u001b[1mDelimiter:\u001b[22m \",\"\n",
      "\u001b[31mchr\u001b[39m (10): folioviv, tipo_viv, mat_techos, tipo_finan, num_dueno1, num_dueno2...\n",
      "\u001b[32mdbl\u001b[39m (54): mat_pared, mat_pisos, antiguedad, antigua_ne, cocina, cocina_dor, ...\n",
      "\n",
      "\u001b[36mℹ\u001b[39m Use `spec()` to retrieve the full column specification for this data.\n",
      "\u001b[36mℹ\u001b[39m Specify the column types or set `show_col_types = FALSE` to quiet this message.\n"
     ]
    },
    {
     "name": "stdout",
     "output_type": "stream",
     "text": [
      "[1] \"data/viviendas_2018.csv\"\n"
     ]
    },
    {
     "name": "stderr",
     "output_type": "stream",
     "text": [
      "Warning message:\n",
      "\"\u001b[1m\u001b[22mOne or more parsing issues, call `problems()` on your data frame for details,\n",
      "e.g.:\n",
      "  dat <- vroom(...)\n",
      "  problems(dat)\"\n",
      "\u001b[1mRows: \u001b[22m\u001b[34m73405\u001b[39m \u001b[1mColumns: \u001b[22m\u001b[34m64\u001b[39m\n",
      "\u001b[36m──\u001b[39m \u001b[1mColumn specification\u001b[22m \u001b[36m────────────────────────────────────────────────────────\u001b[39m\n",
      "\u001b[1mDelimiter:\u001b[22m \",\"\n",
      "\u001b[31mchr\u001b[39m  (9): folioviv, tipo_viv, mat_techos, tipo_finan, num_dueno1, num_dueno2...\n",
      "\u001b[32mdbl\u001b[39m (55): mat_pared, mat_pisos, antiguedad, antigua_ne, cocina, cocina_dor, ...\n",
      "\n",
      "\u001b[36mℹ\u001b[39m Use `spec()` to retrieve the full column specification for this data.\n",
      "\u001b[36mℹ\u001b[39m Specify the column types or set `show_col_types = FALSE` to quiet this message.\n"
     ]
    },
    {
     "name": "stdout",
     "output_type": "stream",
     "text": [
      "[1] \"data/viviendas_2020.csv\"\n"
     ]
    },
    {
     "name": "stderr",
     "output_type": "stream",
     "text": [
      "Warning message:\n",
      "\"\u001b[1m\u001b[22mOne or more parsing issues, call `problems()` on your data frame for details,\n",
      "e.g.:\n",
      "  dat <- vroom(...)\n",
      "  problems(dat)\"\n",
      "\u001b[1mRows: \u001b[22m\u001b[34m87754\u001b[39m \u001b[1mColumns: \u001b[22m\u001b[34m64\u001b[39m\n",
      "\u001b[36m──\u001b[39m \u001b[1mColumn specification\u001b[22m \u001b[36m────────────────────────────────────────────────────────\u001b[39m\n",
      "\u001b[1mDelimiter:\u001b[22m \",\"\n",
      "\u001b[31mchr\u001b[39m  (9): folioviv, tipo_viv, mat_techos, tipo_finan, num_dueno1, num_dueno2...\n",
      "\u001b[32mdbl\u001b[39m (55): mat_pared, mat_pisos, antiguedad, antigua_ne, cocina, cocina_dor, ...\n",
      "\n",
      "\u001b[36mℹ\u001b[39m Use `spec()` to retrieve the full column specification for this data.\n",
      "\u001b[36mℹ\u001b[39m Specify the column types or set `show_col_types = FALSE` to quiet this message.\n"
     ]
    },
    {
     "name": "stdout",
     "output_type": "stream",
     "text": [
      "[1] \"data/viviendas_2022.csv\"\n"
     ]
    },
    {
     "name": "stderr",
     "output_type": "stream",
     "text": [
      "Warning message:\n",
      "\"\u001b[1m\u001b[22mOne or more parsing issues, call `problems()` on your data frame for details,\n",
      "e.g.:\n",
      "  dat <- vroom(...)\n",
      "  problems(dat)\"\n",
      "\u001b[1mRows: \u001b[22m\u001b[34m88823\u001b[39m \u001b[1mColumns: \u001b[22m\u001b[34m64\u001b[39m\n",
      "\u001b[36m──\u001b[39m \u001b[1mColumn specification\u001b[22m \u001b[36m────────────────────────────────────────────────────────\u001b[39m\n",
      "\u001b[1mDelimiter:\u001b[22m \",\"\n",
      "\u001b[31mchr\u001b[39m  (9): folioviv, tipo_viv, mat_techos, tipo_finan, num_dueno1, num_dueno2...\n",
      "\u001b[32mdbl\u001b[39m (55): mat_pared, mat_pisos, antiguedad, antigua_ne, cocina, cocina_dor, ...\n",
      "\n",
      "\u001b[36mℹ\u001b[39m Use `spec()` to retrieve the full column specification for this data.\n",
      "\u001b[36mℹ\u001b[39m Specify the column types or set `show_col_types = FALSE` to quiet this message.\n"
     ]
    },
    {
     "name": "stdout",
     "output_type": "stream",
     "text": [
      "[1] \"Porcentaje de hogares en hacinamiento\"\n"
     ]
    },
    {
     "data": {
      "text/html": [
       "<table class=\"dataframe\">\n",
       "<caption>A tibble: 4 × 6</caption>\n",
       "<thead>\n",
       "\t<tr><th scope=col>total_hog</th><th scope=col>total_hog_cv</th><th scope=col>total_hog_hac</th><th scope=col>total_hog_hac_cv</th><th scope=col>pct</th><th scope=col>year</th></tr>\n",
       "\t<tr><th scope=col>&lt;dbl&gt;</th><th scope=col>&lt;dbl&gt;</th><th scope=col>&lt;dbl&gt;</th><th scope=col>&lt;dbl&gt;</th><th scope=col>&lt;dbl&gt;</th><th scope=col>&lt;int&gt;</th></tr>\n",
       "</thead>\n",
       "<tbody>\n",
       "\t<tr><td>2825100</td><td>0.01357273</td><td>95973</td><td>0.1506770</td><td>3.40</td><td>2016</td></tr>\n",
       "\t<tr><td>2778842</td><td>0.01510168</td><td>75510</td><td>0.1692432</td><td>2.72</td><td>2018</td></tr>\n",
       "\t<tr><td>2731683</td><td>0.01285271</td><td>79858</td><td>0.1226073</td><td>2.92</td><td>2020</td></tr>\n",
       "\t<tr><td>2990030</td><td>0.01388237</td><td>53316</td><td>0.1646205</td><td>1.78</td><td>2022</td></tr>\n",
       "</tbody>\n",
       "</table>\n"
      ],
      "text/latex": [
       "A tibble: 4 × 6\n",
       "\\begin{tabular}{llllll}\n",
       " total\\_hog & total\\_hog\\_cv & total\\_hog\\_hac & total\\_hog\\_hac\\_cv & pct & year\\\\\n",
       " <dbl> & <dbl> & <dbl> & <dbl> & <dbl> & <int>\\\\\n",
       "\\hline\n",
       "\t 2825100 & 0.01357273 & 95973 & 0.1506770 & 3.40 & 2016\\\\\n",
       "\t 2778842 & 0.01510168 & 75510 & 0.1692432 & 2.72 & 2018\\\\\n",
       "\t 2731683 & 0.01285271 & 79858 & 0.1226073 & 2.92 & 2020\\\\\n",
       "\t 2990030 & 0.01388237 & 53316 & 0.1646205 & 1.78 & 2022\\\\\n",
       "\\end{tabular}\n"
      ],
      "text/markdown": [
       "\n",
       "A tibble: 4 × 6\n",
       "\n",
       "| total_hog &lt;dbl&gt; | total_hog_cv &lt;dbl&gt; | total_hog_hac &lt;dbl&gt; | total_hog_hac_cv &lt;dbl&gt; | pct &lt;dbl&gt; | year &lt;int&gt; |\n",
       "|---|---|---|---|---|---|\n",
       "| 2825100 | 0.01357273 | 95973 | 0.1506770 | 3.40 | 2016 |\n",
       "| 2778842 | 0.01510168 | 75510 | 0.1692432 | 2.72 | 2018 |\n",
       "| 2731683 | 0.01285271 | 79858 | 0.1226073 | 2.92 | 2020 |\n",
       "| 2990030 | 0.01388237 | 53316 | 0.1646205 | 1.78 | 2022 |\n",
       "\n"
      ],
      "text/plain": [
       "  total_hog total_hog_cv total_hog_hac total_hog_hac_cv pct  year\n",
       "1 2825100   0.01357273   95973         0.1506770        3.40 2016\n",
       "2 2778842   0.01510168   75510         0.1692432        2.72 2018\n",
       "3 2731683   0.01285271   79858         0.1226073        2.92 2020\n",
       "4 2990030   0.01388237   53316         0.1646205        1.78 2022"
      ]
     },
     "metadata": {},
     "output_type": "display_data"
    }
   ],
   "source": [
    "tabla_hogares_hac<-map_dfr(\n",
    "    list.files(\"data\", full.names = TRUE, pattern = \"viviendas_.*.csv\"),\n",
    "    estimacion,\n",
    "    variable=\"hogares_hac\"\n",
    "    )%>%\n",
    "mutate(\n",
    "  year = as.integer(year),\n",
    "  #asa_crec = (hogares_hac / lag(hogares_hac) - 1) * 100\n",
    ")\n",
    "#filter(hacinamiento==1)\n",
    "print(\"Porcentaje de hogares en hacinamiento\")\n",
    "tabla_hogares_hac"
   ]
  },
  {
   "cell_type": "code",
   "execution_count": 12,
   "id": "edce7b699433a19e",
   "metadata": {
    "ExecuteTime": {
     "end_time": "2025-02-25T20:36:50.509618Z",
     "start_time": "2025-02-25T20:36:46.407875Z"
    },
    "vscode": {
     "languageId": "r"
    }
   },
   "outputs": [
    {
     "name": "stdout",
     "output_type": "stream",
     "text": [
      "[1] \"data/viviendas_2016.csv\"\n"
     ]
    },
    {
     "name": "stderr",
     "output_type": "stream",
     "text": [
      "Warning message:\n",
      "\"\u001b[1m\u001b[22mOne or more parsing issues, call `problems()` on your data frame for details,\n",
      "e.g.:\n",
      "  dat <- vroom(...)\n",
      "  problems(dat)\"\n",
      "\u001b[1mRows: \u001b[22m\u001b[34m69169\u001b[39m \u001b[1mColumns: \u001b[22m\u001b[34m64\u001b[39m\n",
      "\u001b[36m──\u001b[39m \u001b[1mColumn specification\u001b[22m \u001b[36m────────────────────────────────────────────────────────\u001b[39m\n",
      "\u001b[1mDelimiter:\u001b[22m \",\"\n",
      "\u001b[31mchr\u001b[39m (10): folioviv, tipo_viv, mat_techos, tipo_finan, num_dueno1, num_dueno2...\n",
      "\u001b[32mdbl\u001b[39m (54): mat_pared, mat_pisos, antiguedad, antigua_ne, cocina, cocina_dor, ...\n",
      "\n",
      "\u001b[36mℹ\u001b[39m Use `spec()` to retrieve the full column specification for this data.\n",
      "\u001b[36mℹ\u001b[39m Specify the column types or set `show_col_types = FALSE` to quiet this message.\n"
     ]
    },
    {
     "name": "stdout",
     "output_type": "stream",
     "text": [
      "[1] \"data/viviendas_2018.csv\"\n"
     ]
    },
    {
     "name": "stderr",
     "output_type": "stream",
     "text": [
      "Warning message:\n",
      "\"\u001b[1m\u001b[22mOne or more parsing issues, call `problems()` on your data frame for details,\n",
      "e.g.:\n",
      "  dat <- vroom(...)\n",
      "  problems(dat)\"\n",
      "\u001b[1mRows: \u001b[22m\u001b[34m73405\u001b[39m \u001b[1mColumns: \u001b[22m\u001b[34m64\u001b[39m\n",
      "\u001b[36m──\u001b[39m \u001b[1mColumn specification\u001b[22m \u001b[36m────────────────────────────────────────────────────────\u001b[39m\n",
      "\u001b[1mDelimiter:\u001b[22m \",\"\n",
      "\u001b[31mchr\u001b[39m  (9): folioviv, tipo_viv, mat_techos, tipo_finan, num_dueno1, num_dueno2...\n",
      "\u001b[32mdbl\u001b[39m (55): mat_pared, mat_pisos, antiguedad, antigua_ne, cocina, cocina_dor, ...\n",
      "\n",
      "\u001b[36mℹ\u001b[39m Use `spec()` to retrieve the full column specification for this data.\n",
      "\u001b[36mℹ\u001b[39m Specify the column types or set `show_col_types = FALSE` to quiet this message.\n"
     ]
    },
    {
     "name": "stdout",
     "output_type": "stream",
     "text": [
      "[1] \"data/viviendas_2020.csv\"\n"
     ]
    },
    {
     "name": "stderr",
     "output_type": "stream",
     "text": [
      "Warning message:\n",
      "\"\u001b[1m\u001b[22mOne or more parsing issues, call `problems()` on your data frame for details,\n",
      "e.g.:\n",
      "  dat <- vroom(...)\n",
      "  problems(dat)\"\n",
      "\u001b[1mRows: \u001b[22m\u001b[34m87754\u001b[39m \u001b[1mColumns: \u001b[22m\u001b[34m64\u001b[39m\n",
      "\u001b[36m──\u001b[39m \u001b[1mColumn specification\u001b[22m \u001b[36m────────────────────────────────────────────────────────\u001b[39m\n",
      "\u001b[1mDelimiter:\u001b[22m \",\"\n",
      "\u001b[31mchr\u001b[39m  (9): folioviv, tipo_viv, mat_techos, tipo_finan, num_dueno1, num_dueno2...\n",
      "\u001b[32mdbl\u001b[39m (55): mat_pared, mat_pisos, antiguedad, antigua_ne, cocina, cocina_dor, ...\n",
      "\n",
      "\u001b[36mℹ\u001b[39m Use `spec()` to retrieve the full column specification for this data.\n",
      "\u001b[36mℹ\u001b[39m Specify the column types or set `show_col_types = FALSE` to quiet this message.\n"
     ]
    },
    {
     "name": "stdout",
     "output_type": "stream",
     "text": [
      "[1] \"data/viviendas_2022.csv\"\n"
     ]
    },
    {
     "name": "stderr",
     "output_type": "stream",
     "text": [
      "Warning message:\n",
      "\"\u001b[1m\u001b[22mOne or more parsing issues, call `problems()` on your data frame for details,\n",
      "e.g.:\n",
      "  dat <- vroom(...)\n",
      "  problems(dat)\"\n",
      "\u001b[1mRows: \u001b[22m\u001b[34m88823\u001b[39m \u001b[1mColumns: \u001b[22m\u001b[34m64\u001b[39m\n",
      "\u001b[36m──\u001b[39m \u001b[1mColumn specification\u001b[22m \u001b[36m────────────────────────────────────────────────────────\u001b[39m\n",
      "\u001b[1mDelimiter:\u001b[22m \",\"\n",
      "\u001b[31mchr\u001b[39m  (9): folioviv, tipo_viv, mat_techos, tipo_finan, num_dueno1, num_dueno2...\n",
      "\u001b[32mdbl\u001b[39m (55): mat_pared, mat_pisos, antiguedad, antigua_ne, cocina, cocina_dor, ...\n",
      "\n",
      "\u001b[36mℹ\u001b[39m Use `spec()` to retrieve the full column specification for this data.\n",
      "\u001b[36mℹ\u001b[39m Specify the column types or set `show_col_types = FALSE` to quiet this message.\n"
     ]
    },
    {
     "name": "stdout",
     "output_type": "stream",
     "text": [
      "[1] \"Porcentaje de hogares en hacinamiento considerando relación de 2 o más personas por cuarto\"\n"
     ]
    },
    {
     "data": {
      "text/html": [
       "<table class=\"dataframe\">\n",
       "<caption>A tibble: 4 × 6</caption>\n",
       "<thead>\n",
       "\t<tr><th scope=col>total_hog</th><th scope=col>total_hog_cv</th><th scope=col>total_hog_hac</th><th scope=col>total_hog_hac_cv</th><th scope=col>pct</th><th scope=col>year</th></tr>\n",
       "\t<tr><th scope=col>&lt;dbl&gt;</th><th scope=col>&lt;dbl&gt;</th><th scope=col>&lt;dbl&gt;</th><th scope=col>&lt;dbl&gt;</th><th scope=col>&lt;dbl&gt;</th><th scope=col>&lt;int&gt;</th></tr>\n",
       "</thead>\n",
       "<tbody>\n",
       "\t<tr><td>2825100</td><td>0.01357273</td><td>144568</td><td>0.12732604</td><td>5.12</td><td>2016</td></tr>\n",
       "\t<tr><td>2778842</td><td>0.01510168</td><td>125382</td><td>0.12978313</td><td>4.51</td><td>2018</td></tr>\n",
       "\t<tr><td>2731683</td><td>0.01285271</td><td>125386</td><td>0.09587328</td><td>4.59</td><td>2020</td></tr>\n",
       "\t<tr><td>2990030</td><td>0.01388237</td><td> 89081</td><td>0.12896436</td><td>2.98</td><td>2022</td></tr>\n",
       "</tbody>\n",
       "</table>\n"
      ],
      "text/latex": [
       "A tibble: 4 × 6\n",
       "\\begin{tabular}{llllll}\n",
       " total\\_hog & total\\_hog\\_cv & total\\_hog\\_hac & total\\_hog\\_hac\\_cv & pct & year\\\\\n",
       " <dbl> & <dbl> & <dbl> & <dbl> & <dbl> & <int>\\\\\n",
       "\\hline\n",
       "\t 2825100 & 0.01357273 & 144568 & 0.12732604 & 5.12 & 2016\\\\\n",
       "\t 2778842 & 0.01510168 & 125382 & 0.12978313 & 4.51 & 2018\\\\\n",
       "\t 2731683 & 0.01285271 & 125386 & 0.09587328 & 4.59 & 2020\\\\\n",
       "\t 2990030 & 0.01388237 &  89081 & 0.12896436 & 2.98 & 2022\\\\\n",
       "\\end{tabular}\n"
      ],
      "text/markdown": [
       "\n",
       "A tibble: 4 × 6\n",
       "\n",
       "| total_hog &lt;dbl&gt; | total_hog_cv &lt;dbl&gt; | total_hog_hac &lt;dbl&gt; | total_hog_hac_cv &lt;dbl&gt; | pct &lt;dbl&gt; | year &lt;int&gt; |\n",
       "|---|---|---|---|---|---|\n",
       "| 2825100 | 0.01357273 | 144568 | 0.12732604 | 5.12 | 2016 |\n",
       "| 2778842 | 0.01510168 | 125382 | 0.12978313 | 4.51 | 2018 |\n",
       "| 2731683 | 0.01285271 | 125386 | 0.09587328 | 4.59 | 2020 |\n",
       "| 2990030 | 0.01388237 |  89081 | 0.12896436 | 2.98 | 2022 |\n",
       "\n"
      ],
      "text/plain": [
       "  total_hog total_hog_cv total_hog_hac total_hog_hac_cv pct  year\n",
       "1 2825100   0.01357273   144568        0.12732604       5.12 2016\n",
       "2 2778842   0.01510168   125382        0.12978313       4.51 2018\n",
       "3 2731683   0.01285271   125386        0.09587328       4.59 2020\n",
       "4 2990030   0.01388237    89081        0.12896436       2.98 2022"
      ]
     },
     "metadata": {},
     "output_type": "display_data"
    }
   ],
   "source": [
    "tabla_hogares_hac2<-map_dfr(\n",
    "    list.files(\"data\", full.names = TRUE, pattern = \"viviendas_.*.csv\"),\n",
    "    estimacion,\n",
    "    variable=\"hogares_hac2\"\n",
    "    )%>%\n",
    "mutate(\n",
    "  year = as.integer(year),\n",
    "  #asa_crec = (hogares_hac / lag(hogares_hac) - 1) * 100\n",
    ")\n",
    "print(\"Porcentaje de hogares en hacinamiento considerando relación de 2 o más personas por cuarto\")\n",
    "tabla_hogares_hac2"
   ]
  },
  {
   "cell_type": "code",
   "execution_count": 13,
   "id": "5d41fbe7446835d4",
   "metadata": {
    "id": "5d41fbe7446835d4",
    "outputId": "ead395b3-d9f2-4062-c9fc-7077e1cbc9fe",
    "vscode": {
     "languageId": "r"
    }
   },
   "outputs": [],
   "source": [
    "# tabla_hogares_hac_no_prop<-map_dfr(\n",
    "#     list.files(\"data\", full.names = TRUE, pattern = \"viviendas_.*.csv\"),\n",
    "#     estimacion,\n",
    "#     variable=\"hogares_hac_no_prop\"\n",
    "#     )\n",
    "# print(\"Porcentaje de hogares en hacinamiento que no son propietarios de la vivienda\")\n",
    "# tabla_hogares_hac_no_prop"
   ]
  },
  {
   "cell_type": "markdown",
   "id": "d3a29c348a926e0a",
   "metadata": {
    "id": "d3a29c348a926e0a"
   },
   "source": [
    "### Indicador de migración por causas relacionadas con ubicación o vivienda\n",
    "\n",
    "\n",
    "Para este indicador se utilizan los datos de migración del Censo. Concretamente, se consideran aquellos que cambiaron de residencia en los últimos cinco años y que se mudaron por causas relacionadas con ubicación o vivienda."
   ]
  },
  {
   "cell_type": "code",
   "execution_count": 14,
   "id": "da6bf07254bf187f",
   "metadata": {
    "id": "da6bf07254bf187f",
    "vscode": {
     "languageId": "r"
    }
   },
   "outputs": [],
   "source": [
    "#Descarga de población de Censo 2020\n",
    "\n",
    "# url_censo<-\"https://www.inegi.org.mx/contenidos/programas/ccpv/2020/microdatos/Censo2020_CA_eum_csv.zip\""
   ]
  },
  {
   "cell_type": "code",
   "execution_count": 15,
   "id": "603397e0d734068e",
   "metadata": {
    "id": "603397e0d734068e",
    "outputId": "fd22eae5-b069-428d-e2d0-ef38b19679c7",
    "vscode": {
     "languageId": "r"
    }
   },
   "outputs": [],
   "source": [
    "# # Verificar si existe el archivo Personas00.CSV\n",
    "# if (!file.exists(\"data/Personas00.CSV\")) {\n",
    "#   # Descarga en carpeta data\n",
    "#   destfile_censo <- \"data/Censo2020_CA_eum_csv.zip\"\n",
    "\n",
    "#   # Configuración de tiempo de espera para la descarga\n",
    "#   options(timeout = 900)\n",
    "#   download.file(url_censo, destfile = destfile_censo, quiet = FALSE, mode = \"wb\")\n",
    "\n",
    "#   # Ruta a WinRAR (asegúrate de que sea la correcta)\n",
    "#   winrar <- shQuote(\"C:/Program Files/WinRAR/WinRAR\")\n",
    "#   destino <- paste0(getwd(), \"/data/\")\n",
    "\n",
    "#   # Ejecutar extracción\n",
    "#   cmd <- paste(winrar, 'e', shQuote(destfile_censo), '-r', shQuote(destino), sep = ' ')\n",
    "#   system(cmd)\n",
    "# } else {\n",
    "#   message(\"El archivo Personas00.CSV ya existe en la carpeta data. Proceso omitido.\")\n",
    "# }"
   ]
  },
  {
   "cell_type": "code",
   "execution_count": 16,
   "id": "9e859a13ebd2323b",
   "metadata": {
    "id": "9e859a13ebd2323b",
    "outputId": "2182b6bc-34c1-4abc-c6b8-28dde299c5c4",
    "vscode": {
     "languageId": "r"
    }
   },
   "outputs": [],
   "source": [
    "# pob<-read_csv(\"data/Personas00.CSV\")%>%\n",
    "# janitor::clean_names()%>%\n",
    "# filter(ent_pais_res_5a <= \"032\") %>%\n",
    "# #Sustraer 2 dígitos de la clave de la entidad\n",
    "# mutate(ent_pais_res_5a = substr(ent_pais_res_5a, 2, 3))%>%\n",
    "#    mutate(ent_pais_res_5a = case_when(\n",
    "#      nchar(as.character(ent_pais_res_5a)) == 1 ~ paste0(\"0\", ent_pais_res_5a),\n",
    "#      TRUE ~ as.character(ent_pais_res_5a)\n",
    "#    )) %>%\n",
    "\n",
    "#   mutate(ent = case_when(\n",
    "#   nchar(as.character(ent)) == 1 ~ paste0(\"0\", ent),TRUE ~ as.character(ent)))%>%\n",
    "#  # No contabilizar la misma entidad\n",
    "#     filter(ent_pais_res_5a==\"09\")%>%\n",
    "# filter(ent!=\"09\")%>%\n",
    "#   filter(edad>=5)%>%\n",
    "\n",
    "# ##Se identifican las causas de migración relacionadas con la vivienda y ubicación\n",
    "# #El catálogo de causas se puede descargar de https://www.inegi.org.mx/contenidos/productos/prod_serv/contenidos/espanol/bvinegi/productos/nueva_estruc/702825198701.pdf\n",
    "\n",
    "# mutate(causa_vivi=\n",
    "# case_when(causa_mig_v %in% c(\"0104\",\"0201\",\"0503\",\"0901\",\"0902\", \"0903\",\"0905\",\"0909\") ~ \"Causas relacionadas con ubicación o vivienda\",\n",
    "# TRUE ~ \"Otra causa\"))"
   ]
  },
  {
   "cell_type": "code",
   "execution_count": 17,
   "id": "990193ecf18c2256",
   "metadata": {
    "id": "990193ecf18c2256",
    "vscode": {
     "languageId": "r"
    }
   },
   "outputs": [],
   "source": [
    "# #Opción para ajustar si se tiene una sola upm\n",
    "# options(survey.lonely.psu=\"certainty\")\n",
    "# #Definir diseño muestral\n",
    "\n",
    "# dm<-pob%>%\n",
    "#   #Diseño muestral\n",
    "#   as_survey_design(weights=factor, strata=estrato, ids=upm, nest=TRUE)"
   ]
  },
  {
   "cell_type": "code",
   "execution_count": 18,
   "id": "fca6509b654cb552",
   "metadata": {
    "id": "fca6509b654cb552",
    "outputId": "2de1f0a2-f636-4055-bc43-9a166e296ae8",
    "vscode": {
     "languageId": "r"
    }
   },
   "outputs": [],
   "source": [
    "# print(\"Personas que salieron de CDMX de 2015 a 2020 por causas relacionadas con la ubicación o vivienda\")\n",
    "# dm%>%\n",
    "# group_by(causa_vivi)%>%\n",
    "#     summarise(personas=survey_total(vartype=\"cv\"),\n",
    "#               porcentaje=survey_prop(vartype=\"cv\"))%>%\n",
    "#     mutate(porcentaje=round(porcentaje*100,2))"
   ]
  },
  {
   "cell_type": "markdown",
   "id": "uDsIgJ9SpcNS",
   "metadata": {
    "id": "uDsIgJ9SpcNS"
   },
   "source": [
    "#### Indicador de pobreza por calidad y espacios de la vivienda de Evalúa CDMX"
   ]
  },
  {
   "cell_type": "code",
   "execution_count": 19,
   "id": "FcRMpTR2pi8-",
   "metadata": {
    "colab": {
     "base_uri": "https://localhost:8080/"
    },
    "id": "FcRMpTR2pi8-",
    "outputId": "92e0e798-1d06-4980-b375-d49b01d6cba8",
    "vscode": {
     "languageId": "r"
    }
   },
   "outputs": [],
   "source": [
    "\n",
    "# Librerías ====\n",
    "# if(!require('pacman')) install.packages('pacman')\n",
    "# pacman::p_load(tidyverse, srvyr, haven, googledrive)"
   ]
  },
  {
   "cell_type": "code",
   "execution_count": 20,
   "id": "d3EF8vhnpukD",
   "metadata": {
    "id": "d3EF8vhnpukD",
    "vscode": {
     "languageId": "r"
    }
   },
   "outputs": [],
   "source": [
    "#Crear directorio para guardar los archivos\n",
    "# dir.create(\"data\", showWarnings = FALSE)"
   ]
  },
  {
   "cell_type": "code",
   "execution_count": 21,
   "id": "KfwiPkdYpxpb",
   "metadata": {
    "colab": {
     "base_uri": "https://localhost:8080/"
    },
    "id": "KfwiPkdYpxpb",
    "outputId": "1ce3c198-682f-40dc-fb98-a97446eba1d2",
    "vscode": {
     "languageId": "r"
    }
   },
   "outputs": [],
   "source": [
    "  #Conectar a google drive\n",
    "# drive_auth(email = \"claudiodanielpc@gmail.com\",cache = FALSE)"
   ]
  },
  {
   "cell_type": "code",
   "execution_count": 22,
   "id": "w5RAWqTKpy6j",
   "metadata": {
    "colab": {
     "base_uri": "https://localhost:8080/"
    },
    "id": "w5RAWqTKpy6j",
    "outputId": "65f1e718-e480-458a-d620-3f0209426354",
    "vscode": {
     "languageId": "r"
    }
   },
   "outputs": [],
   "source": [
    "# carpeta<-as_id(drive_get(\"https://drive.google.com/drive/folders/1TBfoik4w4DWhwFqWeZFgkZvrBdDbqzku\"))\n",
    "\n",
    "\n",
    "# archivos<-drive_ls(carpeta)\n",
    "# print(archivos)"
   ]
  },
  {
   "cell_type": "code",
   "execution_count": 23,
   "id": "U1PXZVNbpzpJ",
   "metadata": {
    "id": "U1PXZVNbpzpJ",
    "vscode": {
     "languageId": "r"
    }
   },
   "outputs": [],
   "source": [
    "# estimacion_pobreza <- function(file_id, file_name) {\n",
    "#   # Descarga de datos\n",
    "#   local_path <- file.path(\"data\", file_name)\n",
    "#   drive_download(as_id(file_id), path = local_path, overwrite = TRUE)\n",
    "\n",
    "#   # Leer datos\n",
    "#   datos <- read_dta(local_path)\n",
    "\n",
    "#   # Añadir año\n",
    "#   year <- str_extract(file_name, \"\\\\d{4}\")\n",
    "\n",
    "\n",
    "#   # Diseño muestral\n",
    "#   mydesign <- datos %>%\n",
    "#     as_survey_design(ids = upm,\n",
    "#                      strata = est_dis,\n",
    "#                      weights = factor)\n",
    "\n",
    "#   # Estima pobreza\n",
    "#   pobreza <- mydesign %>%\n",
    "#     #Filtrar datos para CDMX\n",
    "#   filter(entidad==9)%>%\n",
    "#     #Filtar grupo de población en pobreza\n",
    "#    group_by(pobreza_ccevj)%>%\n",
    "#     summarise(\n",
    "#       poblacion = survey_total(vartype = \"cv\"),\n",
    "#       porcentaje = survey_prop(vartype = \"cv\")\n",
    "#     ) %>%\n",
    "#     mutate(porcentaje = round(porcentaje * 100, 2),\n",
    "#            year = as.numeric(year))%>%\n",
    "#             filter(pobreza_ccevj == 1)\n",
    "\n",
    "#   return(pobreza)\n",
    "# }"
   ]
  },
  {
   "cell_type": "code",
   "execution_count": 24,
   "id": "LRIELTyhp1BY",
   "metadata": {
    "colab": {
     "base_uri": "https://localhost:8080/",
     "height": 654
    },
    "id": "LRIELTyhp1BY",
    "outputId": "ec648c2c-6951-4614-e1d5-de2530caf964",
    "vscode": {
     "languageId": "r"
    }
   },
   "outputs": [],
   "source": [
    "#tabla_pobreza <- map_dfr(\n",
    "#  seq_len(nrow(archivos)),\n",
    "#  ~ estimacion_pobreza(archivos$id[.x], archivos$name[.x])\n",
    "#)%>%\n",
    "#  arrange(year)\n",
    "\n",
    "#print(\"Estimación de población en situación de pobreza por calidad y espacios de la vivienda en la CDMX\")\n",
    "#tabla_pobreza"
   ]
  },
  {
   "cell_type": "markdown",
   "id": "ee3d5ee8",
   "metadata": {},
   "source": [
    "#### Proyecciones a 2045\n",
    "\n",
    "Se seleccionan dos indicadores: porcentaje de rezago habitacional y tenencia de escrituras"
   ]
  },
  {
   "cell_type": "code",
   "execution_count": 25,
   "id": "75cfa5c0",
   "metadata": {
    "vscode": {
     "languageId": "r"
    }
   },
   "outputs": [
    {
     "data": {
      "text/html": [
       "<table class=\"dataframe\">\n",
       "<caption>A tibble: 4 × 7</caption>\n",
       "<thead>\n",
       "\t<tr><th scope=col>rezago</th><th scope=col>viviendas</th><th scope=col>viviendas_cv</th><th scope=col>pct</th><th scope=col>pct_cv</th><th scope=col>total_viviendas</th><th scope=col>year</th></tr>\n",
       "\t<tr><th scope=col>&lt;chr&gt;</th><th scope=col>&lt;dbl&gt;</th><th scope=col>&lt;dbl&gt;</th><th scope=col>&lt;dbl&gt;</th><th scope=col>&lt;dbl&gt;</th><th scope=col>&lt;dbl&gt;</th><th scope=col>&lt;int&gt;</th></tr>\n",
       "</thead>\n",
       "<tbody>\n",
       "\t<tr><td>En rezago</td><td>272200</td><td>0.08809435</td><td>9.81</td><td>0.08684886</td><td>2774780</td><td>2016</td></tr>\n",
       "\t<tr><td>En rezago</td><td>218501</td><td>0.08906203</td><td>8.02</td><td>0.08727815</td><td>2724389</td><td>2018</td></tr>\n",
       "\t<tr><td>En rezago</td><td>198021</td><td>0.08360376</td><td>7.31</td><td>0.08292165</td><td>2707156</td><td>2020</td></tr>\n",
       "\t<tr><td>En rezago</td><td>175242</td><td>0.09933936</td><td>5.94</td><td>0.09870452</td><td>2947953</td><td>2022</td></tr>\n",
       "</tbody>\n",
       "</table>\n"
      ],
      "text/latex": [
       "A tibble: 4 × 7\n",
       "\\begin{tabular}{lllllll}\n",
       " rezago & viviendas & viviendas\\_cv & pct & pct\\_cv & total\\_viviendas & year\\\\\n",
       " <chr> & <dbl> & <dbl> & <dbl> & <dbl> & <dbl> & <int>\\\\\n",
       "\\hline\n",
       "\t En rezago & 272200 & 0.08809435 & 9.81 & 0.08684886 & 2774780 & 2016\\\\\n",
       "\t En rezago & 218501 & 0.08906203 & 8.02 & 0.08727815 & 2724389 & 2018\\\\\n",
       "\t En rezago & 198021 & 0.08360376 & 7.31 & 0.08292165 & 2707156 & 2020\\\\\n",
       "\t En rezago & 175242 & 0.09933936 & 5.94 & 0.09870452 & 2947953 & 2022\\\\\n",
       "\\end{tabular}\n"
      ],
      "text/markdown": [
       "\n",
       "A tibble: 4 × 7\n",
       "\n",
       "| rezago &lt;chr&gt; | viviendas &lt;dbl&gt; | viviendas_cv &lt;dbl&gt; | pct &lt;dbl&gt; | pct_cv &lt;dbl&gt; | total_viviendas &lt;dbl&gt; | year &lt;int&gt; |\n",
       "|---|---|---|---|---|---|---|\n",
       "| En rezago | 272200 | 0.08809435 | 9.81 | 0.08684886 | 2774780 | 2016 |\n",
       "| En rezago | 218501 | 0.08906203 | 8.02 | 0.08727815 | 2724389 | 2018 |\n",
       "| En rezago | 198021 | 0.08360376 | 7.31 | 0.08292165 | 2707156 | 2020 |\n",
       "| En rezago | 175242 | 0.09933936 | 5.94 | 0.09870452 | 2947953 | 2022 |\n",
       "\n"
      ],
      "text/plain": [
       "  rezago    viviendas viviendas_cv pct  pct_cv     total_viviendas year\n",
       "1 En rezago 272200    0.08809435   9.81 0.08684886 2774780         2016\n",
       "2 En rezago 218501    0.08906203   8.02 0.08727815 2724389         2018\n",
       "3 En rezago 198021    0.08360376   7.31 0.08292165 2707156         2020\n",
       "4 En rezago 175242    0.09933936   5.94 0.09870452 2947953         2022"
      ]
     },
     "metadata": {},
     "output_type": "display_data"
    }
   ],
   "source": [
    "tabla_rezago"
   ]
  },
  {
   "cell_type": "code",
   "execution_count": 26,
   "id": "0d52581a",
   "metadata": {
    "vscode": {
     "languageId": "r"
    }
   },
   "outputs": [
    {
     "data": {
      "text/html": [
       "-0.080215176106444"
      ],
      "text/latex": [
       "-0.080215176106444"
      ],
      "text/markdown": [
       "-0.080215176106444"
      ],
      "text/plain": [
       "[1] -0.08021518"
      ]
     },
     "metadata": {},
     "output_type": "display_data"
    }
   ],
   "source": [
    "tcma_rezago<-((tabla_rezago$pct[tabla_rezago$year==2022]/tabla_rezago$pct[tabla_rezago$year==2016])^(1/(2022-2016))-1)\n",
    "\n",
    "tcma_rezago"
   ]
  },
  {
   "cell_type": "code",
   "execution_count": 27,
   "id": "af44a5cc",
   "metadata": {
    "vscode": {
     "languageId": "r"
    }
   },
   "outputs": [
    {
     "data": {
      "text/html": [
       "<table class=\"dataframe\">\n",
       "<caption>A data.frame: 23 × 2</caption>\n",
       "<thead>\n",
       "\t<tr><th scope=col>year</th><th scope=col>pct</th></tr>\n",
       "\t<tr><th scope=col>&lt;int&gt;</th><th scope=col>&lt;dbl&gt;</th></tr>\n",
       "</thead>\n",
       "<tbody>\n",
       "\t<tr><td>2023</td><td>5.46</td></tr>\n",
       "\t<tr><td>2024</td><td>5.03</td></tr>\n",
       "\t<tr><td>2025</td><td>4.62</td></tr>\n",
       "\t<tr><td>2026</td><td>4.25</td></tr>\n",
       "\t<tr><td>2027</td><td>3.91</td></tr>\n",
       "\t<tr><td>2028</td><td>3.60</td></tr>\n",
       "\t<tr><td>2029</td><td>3.31</td></tr>\n",
       "\t<tr><td>2030</td><td>3.04</td></tr>\n",
       "\t<tr><td>2031</td><td>2.80</td></tr>\n",
       "\t<tr><td>2032</td><td>2.57</td></tr>\n",
       "\t<tr><td>2033</td><td>2.37</td></tr>\n",
       "\t<tr><td>2034</td><td>2.18</td></tr>\n",
       "\t<tr><td>2035</td><td>2.00</td></tr>\n",
       "\t<tr><td>2036</td><td>1.84</td></tr>\n",
       "\t<tr><td>2037</td><td>1.69</td></tr>\n",
       "\t<tr><td>2038</td><td>1.56</td></tr>\n",
       "\t<tr><td>2039</td><td>1.43</td></tr>\n",
       "\t<tr><td>2040</td><td>1.32</td></tr>\n",
       "\t<tr><td>2041</td><td>1.21</td></tr>\n",
       "\t<tr><td>2042</td><td>1.12</td></tr>\n",
       "\t<tr><td>2043</td><td>1.03</td></tr>\n",
       "\t<tr><td>2044</td><td>0.94</td></tr>\n",
       "\t<tr><td>2045</td><td>0.87</td></tr>\n",
       "</tbody>\n",
       "</table>\n"
      ],
      "text/latex": [
       "A data.frame: 23 × 2\n",
       "\\begin{tabular}{ll}\n",
       " year & pct\\\\\n",
       " <int> & <dbl>\\\\\n",
       "\\hline\n",
       "\t 2023 & 5.46\\\\\n",
       "\t 2024 & 5.03\\\\\n",
       "\t 2025 & 4.62\\\\\n",
       "\t 2026 & 4.25\\\\\n",
       "\t 2027 & 3.91\\\\\n",
       "\t 2028 & 3.60\\\\\n",
       "\t 2029 & 3.31\\\\\n",
       "\t 2030 & 3.04\\\\\n",
       "\t 2031 & 2.80\\\\\n",
       "\t 2032 & 2.57\\\\\n",
       "\t 2033 & 2.37\\\\\n",
       "\t 2034 & 2.18\\\\\n",
       "\t 2035 & 2.00\\\\\n",
       "\t 2036 & 1.84\\\\\n",
       "\t 2037 & 1.69\\\\\n",
       "\t 2038 & 1.56\\\\\n",
       "\t 2039 & 1.43\\\\\n",
       "\t 2040 & 1.32\\\\\n",
       "\t 2041 & 1.21\\\\\n",
       "\t 2042 & 1.12\\\\\n",
       "\t 2043 & 1.03\\\\\n",
       "\t 2044 & 0.94\\\\\n",
       "\t 2045 & 0.87\\\\\n",
       "\\end{tabular}\n"
      ],
      "text/markdown": [
       "\n",
       "A data.frame: 23 × 2\n",
       "\n",
       "| year &lt;int&gt; | pct &lt;dbl&gt; |\n",
       "|---|---|\n",
       "| 2023 | 5.46 |\n",
       "| 2024 | 5.03 |\n",
       "| 2025 | 4.62 |\n",
       "| 2026 | 4.25 |\n",
       "| 2027 | 3.91 |\n",
       "| 2028 | 3.60 |\n",
       "| 2029 | 3.31 |\n",
       "| 2030 | 3.04 |\n",
       "| 2031 | 2.80 |\n",
       "| 2032 | 2.57 |\n",
       "| 2033 | 2.37 |\n",
       "| 2034 | 2.18 |\n",
       "| 2035 | 2.00 |\n",
       "| 2036 | 1.84 |\n",
       "| 2037 | 1.69 |\n",
       "| 2038 | 1.56 |\n",
       "| 2039 | 1.43 |\n",
       "| 2040 | 1.32 |\n",
       "| 2041 | 1.21 |\n",
       "| 2042 | 1.12 |\n",
       "| 2043 | 1.03 |\n",
       "| 2044 | 0.94 |\n",
       "| 2045 | 0.87 |\n",
       "\n"
      ],
      "text/plain": [
       "   year pct \n",
       "1  2023 5.46\n",
       "2  2024 5.03\n",
       "3  2025 4.62\n",
       "4  2026 4.25\n",
       "5  2027 3.91\n",
       "6  2028 3.60\n",
       "7  2029 3.31\n",
       "8  2030 3.04\n",
       "9  2031 2.80\n",
       "10 2032 2.57\n",
       "11 2033 2.37\n",
       "12 2034 2.18\n",
       "13 2035 2.00\n",
       "14 2036 1.84\n",
       "15 2037 1.69\n",
       "16 2038 1.56\n",
       "17 2039 1.43\n",
       "18 2040 1.32\n",
       "19 2041 1.21\n",
       "20 2042 1.12\n",
       "21 2043 1.03\n",
       "22 2044 0.94\n",
       "23 2045 0.87"
      ]
     },
     "metadata": {},
     "output_type": "display_data"
    }
   ],
   "source": [
    "extendido_rezago<-data.frame(year=2023:2045)\n",
    "extendido_rezago$pct<-tabla_rezago$pct[tabla_rezago$year==2022]*cumprod(rep(1+tcma_rezago,length(2023:2045)))\n",
    "extendido_rezago%>%\n",
    "mutate(pct=round(pct,2))"
   ]
  },
  {
   "cell_type": "code",
   "execution_count": 28,
   "id": "cb12ce2b",
   "metadata": {
    "vscode": {
     "languageId": "r"
    }
   },
   "outputs": [
    {
     "data": {
      "text/html": [
       "<table class=\"dataframe\">\n",
       "<caption>A tibble: 4 × 7</caption>\n",
       "<thead>\n",
       "\t<tr><th scope=col>escrituras</th><th scope=col>viviendas</th><th scope=col>viviendas_cv</th><th scope=col>pct</th><th scope=col>pct_cv</th><th scope=col>total_viviendas</th><th scope=col>year</th></tr>\n",
       "\t<tr><th scope=col>&lt;chr&gt;</th><th scope=col>&lt;dbl&gt;</th><th scope=col>&lt;dbl&gt;</th><th scope=col>&lt;dbl&gt;</th><th scope=col>&lt;dbl&gt;</th><th scope=col>&lt;dbl&gt;</th><th scope=col>&lt;int&gt;</th></tr>\n",
       "</thead>\n",
       "<tbody>\n",
       "\t<tr><td>Sin escrituras</td><td>266547</td><td>0.08646642</td><td>17.71</td><td>0.08298775</td><td>1505322</td><td>2016</td></tr>\n",
       "\t<tr><td>Sin escrituras</td><td>246283</td><td>0.09985847</td><td>17.22</td><td>0.09461881</td><td>1429942</td><td>2018</td></tr>\n",
       "\t<tr><td>Sin escrituras</td><td>259056</td><td>0.09464920</td><td>16.23</td><td>0.08765464</td><td>1595765</td><td>2020</td></tr>\n",
       "\t<tr><td>Sin escrituras</td><td>310191</td><td>0.08428046</td><td>17.63</td><td>0.07835935</td><td>1759030</td><td>2022</td></tr>\n",
       "</tbody>\n",
       "</table>\n"
      ],
      "text/latex": [
       "A tibble: 4 × 7\n",
       "\\begin{tabular}{lllllll}\n",
       " escrituras & viviendas & viviendas\\_cv & pct & pct\\_cv & total\\_viviendas & year\\\\\n",
       " <chr> & <dbl> & <dbl> & <dbl> & <dbl> & <dbl> & <int>\\\\\n",
       "\\hline\n",
       "\t Sin escrituras & 266547 & 0.08646642 & 17.71 & 0.08298775 & 1505322 & 2016\\\\\n",
       "\t Sin escrituras & 246283 & 0.09985847 & 17.22 & 0.09461881 & 1429942 & 2018\\\\\n",
       "\t Sin escrituras & 259056 & 0.09464920 & 16.23 & 0.08765464 & 1595765 & 2020\\\\\n",
       "\t Sin escrituras & 310191 & 0.08428046 & 17.63 & 0.07835935 & 1759030 & 2022\\\\\n",
       "\\end{tabular}\n"
      ],
      "text/markdown": [
       "\n",
       "A tibble: 4 × 7\n",
       "\n",
       "| escrituras &lt;chr&gt; | viviendas &lt;dbl&gt; | viviendas_cv &lt;dbl&gt; | pct &lt;dbl&gt; | pct_cv &lt;dbl&gt; | total_viviendas &lt;dbl&gt; | year &lt;int&gt; |\n",
       "|---|---|---|---|---|---|---|\n",
       "| Sin escrituras | 266547 | 0.08646642 | 17.71 | 0.08298775 | 1505322 | 2016 |\n",
       "| Sin escrituras | 246283 | 0.09985847 | 17.22 | 0.09461881 | 1429942 | 2018 |\n",
       "| Sin escrituras | 259056 | 0.09464920 | 16.23 | 0.08765464 | 1595765 | 2020 |\n",
       "| Sin escrituras | 310191 | 0.08428046 | 17.63 | 0.07835935 | 1759030 | 2022 |\n",
       "\n"
      ],
      "text/plain": [
       "  escrituras     viviendas viviendas_cv pct   pct_cv     total_viviendas year\n",
       "1 Sin escrituras 266547    0.08646642   17.71 0.08298775 1505322         2016\n",
       "2 Sin escrituras 246283    0.09985847   17.22 0.09461881 1429942         2018\n",
       "3 Sin escrituras 259056    0.09464920   16.23 0.08765464 1595765         2020\n",
       "4 Sin escrituras 310191    0.08428046   17.63 0.07835935 1759030         2022"
      ]
     },
     "metadata": {},
     "output_type": "display_data"
    }
   ],
   "source": [
    "tabla_escrituras"
   ]
  },
  {
   "cell_type": "code",
   "execution_count": 29,
   "id": "6b84137d",
   "metadata": {
    "vscode": {
     "languageId": "r"
    }
   },
   "outputs": [
    {
     "data": {
      "text/html": [
       "-0.0144394154996753"
      ],
      "text/latex": [
       "-0.0144394154996753"
      ],
      "text/markdown": [
       "-0.0144394154996753"
      ],
      "text/plain": [
       "[1] -0.01443942"
      ]
     },
     "metadata": {},
     "output_type": "display_data"
    }
   ],
   "source": [
    "tcma_esc<-((tabla_escrituras$pct[tabla_escrituras$year==2020]/tabla_escrituras$pct[tabla_escrituras$year==2016])^(1/(2022-2016))-1)\n",
    "\n",
    "tcma_esc"
   ]
  },
  {
   "cell_type": "code",
   "execution_count": 30,
   "id": "ba928f48",
   "metadata": {
    "vscode": {
     "languageId": "r"
    }
   },
   "outputs": [
    {
     "data": {
      "text/html": [
       "<table class=\"dataframe\">\n",
       "<caption>A data.frame: 23 × 2</caption>\n",
       "<thead>\n",
       "\t<tr><th scope=col>year</th><th scope=col>pct</th></tr>\n",
       "\t<tr><th scope=col>&lt;int&gt;</th><th scope=col>&lt;dbl&gt;</th></tr>\n",
       "</thead>\n",
       "<tbody>\n",
       "\t<tr><td>2023</td><td>17.38</td></tr>\n",
       "\t<tr><td>2024</td><td>17.12</td></tr>\n",
       "\t<tr><td>2025</td><td>16.88</td></tr>\n",
       "\t<tr><td>2026</td><td>16.63</td></tr>\n",
       "\t<tr><td>2027</td><td>16.39</td></tr>\n",
       "\t<tr><td>2028</td><td>16.16</td></tr>\n",
       "\t<tr><td>2029</td><td>15.92</td></tr>\n",
       "\t<tr><td>2030</td><td>15.69</td></tr>\n",
       "\t<tr><td>2031</td><td>15.47</td></tr>\n",
       "\t<tr><td>2032</td><td>15.24</td></tr>\n",
       "\t<tr><td>2033</td><td>15.02</td></tr>\n",
       "\t<tr><td>2034</td><td>14.81</td></tr>\n",
       "\t<tr><td>2035</td><td>14.59</td></tr>\n",
       "\t<tr><td>2036</td><td>14.38</td></tr>\n",
       "\t<tr><td>2037</td><td>14.17</td></tr>\n",
       "\t<tr><td>2038</td><td>13.97</td></tr>\n",
       "\t<tr><td>2039</td><td>13.77</td></tr>\n",
       "\t<tr><td>2040</td><td>13.57</td></tr>\n",
       "\t<tr><td>2041</td><td>13.37</td></tr>\n",
       "\t<tr><td>2042</td><td>13.18</td></tr>\n",
       "\t<tr><td>2043</td><td>12.99</td></tr>\n",
       "\t<tr><td>2044</td><td>12.80</td></tr>\n",
       "\t<tr><td>2045</td><td>12.62</td></tr>\n",
       "</tbody>\n",
       "</table>\n"
      ],
      "text/latex": [
       "A data.frame: 23 × 2\n",
       "\\begin{tabular}{ll}\n",
       " year & pct\\\\\n",
       " <int> & <dbl>\\\\\n",
       "\\hline\n",
       "\t 2023 & 17.38\\\\\n",
       "\t 2024 & 17.12\\\\\n",
       "\t 2025 & 16.88\\\\\n",
       "\t 2026 & 16.63\\\\\n",
       "\t 2027 & 16.39\\\\\n",
       "\t 2028 & 16.16\\\\\n",
       "\t 2029 & 15.92\\\\\n",
       "\t 2030 & 15.69\\\\\n",
       "\t 2031 & 15.47\\\\\n",
       "\t 2032 & 15.24\\\\\n",
       "\t 2033 & 15.02\\\\\n",
       "\t 2034 & 14.81\\\\\n",
       "\t 2035 & 14.59\\\\\n",
       "\t 2036 & 14.38\\\\\n",
       "\t 2037 & 14.17\\\\\n",
       "\t 2038 & 13.97\\\\\n",
       "\t 2039 & 13.77\\\\\n",
       "\t 2040 & 13.57\\\\\n",
       "\t 2041 & 13.37\\\\\n",
       "\t 2042 & 13.18\\\\\n",
       "\t 2043 & 12.99\\\\\n",
       "\t 2044 & 12.80\\\\\n",
       "\t 2045 & 12.62\\\\\n",
       "\\end{tabular}\n"
      ],
      "text/markdown": [
       "\n",
       "A data.frame: 23 × 2\n",
       "\n",
       "| year &lt;int&gt; | pct &lt;dbl&gt; |\n",
       "|---|---|\n",
       "| 2023 | 17.38 |\n",
       "| 2024 | 17.12 |\n",
       "| 2025 | 16.88 |\n",
       "| 2026 | 16.63 |\n",
       "| 2027 | 16.39 |\n",
       "| 2028 | 16.16 |\n",
       "| 2029 | 15.92 |\n",
       "| 2030 | 15.69 |\n",
       "| 2031 | 15.47 |\n",
       "| 2032 | 15.24 |\n",
       "| 2033 | 15.02 |\n",
       "| 2034 | 14.81 |\n",
       "| 2035 | 14.59 |\n",
       "| 2036 | 14.38 |\n",
       "| 2037 | 14.17 |\n",
       "| 2038 | 13.97 |\n",
       "| 2039 | 13.77 |\n",
       "| 2040 | 13.57 |\n",
       "| 2041 | 13.37 |\n",
       "| 2042 | 13.18 |\n",
       "| 2043 | 12.99 |\n",
       "| 2044 | 12.80 |\n",
       "| 2045 | 12.62 |\n",
       "\n"
      ],
      "text/plain": [
       "   year pct  \n",
       "1  2023 17.38\n",
       "2  2024 17.12\n",
       "3  2025 16.88\n",
       "4  2026 16.63\n",
       "5  2027 16.39\n",
       "6  2028 16.16\n",
       "7  2029 15.92\n",
       "8  2030 15.69\n",
       "9  2031 15.47\n",
       "10 2032 15.24\n",
       "11 2033 15.02\n",
       "12 2034 14.81\n",
       "13 2035 14.59\n",
       "14 2036 14.38\n",
       "15 2037 14.17\n",
       "16 2038 13.97\n",
       "17 2039 13.77\n",
       "18 2040 13.57\n",
       "19 2041 13.37\n",
       "20 2042 13.18\n",
       "21 2043 12.99\n",
       "22 2044 12.80\n",
       "23 2045 12.62"
      ]
     },
     "metadata": {},
     "output_type": "display_data"
    }
   ],
   "source": [
    "extendido_escrituras<-data.frame(year=2023:2045)\n",
    "extendido_escrituras$pct<-tabla_escrituras$pct[tabla_escrituras$year==2022]*cumprod(rep(1+tcma_esc,length(2023:2045)))\n",
    "extendido_escrituras%>%\n",
    "mutate(pct=round(pct,2))"
   ]
  },
  {
   "cell_type": "code",
   "execution_count": 31,
   "id": "4a1c4b14",
   "metadata": {
    "vscode": {
     "languageId": "r"
    }
   },
   "outputs": [
    {
     "data": {
      "text/html": [
       "-0.102247036232452"
      ],
      "text/latex": [
       "-0.102247036232452"
      ],
      "text/markdown": [
       "-0.102247036232452"
      ],
      "text/plain": [
       "[1] -0.102247"
      ]
     },
     "metadata": {},
     "output_type": "display_data"
    }
   ],
   "source": [
    "tcma_hoghac<-((tabla_hogares_hac$pct[tabla_hogares_hac$year==2022]/tabla_hogares_hac$pct[tabla_hogares_hac$year==2016])^(1/(2022-2016))-1)\n",
    "\n",
    "tcma_hoghac"
   ]
  },
  {
   "cell_type": "code",
   "execution_count": 32,
   "id": "848e729b",
   "metadata": {
    "vscode": {
     "languageId": "r"
    }
   },
   "outputs": [
    {
     "data": {
      "text/html": [
       "<table class=\"dataframe\">\n",
       "<caption>A data.frame: 23 × 2</caption>\n",
       "<thead>\n",
       "\t<tr><th scope=col>year</th><th scope=col>pct</th></tr>\n",
       "\t<tr><th scope=col>&lt;int&gt;</th><th scope=col>&lt;dbl&gt;</th></tr>\n",
       "</thead>\n",
       "<tbody>\n",
       "\t<tr><td>2023</td><td>1.60</td></tr>\n",
       "\t<tr><td>2024</td><td>1.43</td></tr>\n",
       "\t<tr><td>2025</td><td>1.29</td></tr>\n",
       "\t<tr><td>2026</td><td>1.16</td></tr>\n",
       "\t<tr><td>2027</td><td>1.04</td></tr>\n",
       "\t<tr><td>2028</td><td>0.93</td></tr>\n",
       "\t<tr><td>2029</td><td>0.84</td></tr>\n",
       "\t<tr><td>2030</td><td>0.75</td></tr>\n",
       "\t<tr><td>2031</td><td>0.67</td></tr>\n",
       "\t<tr><td>2032</td><td>0.61</td></tr>\n",
       "\t<tr><td>2033</td><td>0.54</td></tr>\n",
       "\t<tr><td>2034</td><td>0.49</td></tr>\n",
       "\t<tr><td>2035</td><td>0.44</td></tr>\n",
       "\t<tr><td>2036</td><td>0.39</td></tr>\n",
       "\t<tr><td>2037</td><td>0.35</td></tr>\n",
       "\t<tr><td>2038</td><td>0.32</td></tr>\n",
       "\t<tr><td>2039</td><td>0.28</td></tr>\n",
       "\t<tr><td>2040</td><td>0.26</td></tr>\n",
       "\t<tr><td>2041</td><td>0.23</td></tr>\n",
       "\t<tr><td>2042</td><td>0.21</td></tr>\n",
       "\t<tr><td>2043</td><td>0.18</td></tr>\n",
       "\t<tr><td>2044</td><td>0.17</td></tr>\n",
       "\t<tr><td>2045</td><td>0.15</td></tr>\n",
       "</tbody>\n",
       "</table>\n"
      ],
      "text/latex": [
       "A data.frame: 23 × 2\n",
       "\\begin{tabular}{ll}\n",
       " year & pct\\\\\n",
       " <int> & <dbl>\\\\\n",
       "\\hline\n",
       "\t 2023 & 1.60\\\\\n",
       "\t 2024 & 1.43\\\\\n",
       "\t 2025 & 1.29\\\\\n",
       "\t 2026 & 1.16\\\\\n",
       "\t 2027 & 1.04\\\\\n",
       "\t 2028 & 0.93\\\\\n",
       "\t 2029 & 0.84\\\\\n",
       "\t 2030 & 0.75\\\\\n",
       "\t 2031 & 0.67\\\\\n",
       "\t 2032 & 0.61\\\\\n",
       "\t 2033 & 0.54\\\\\n",
       "\t 2034 & 0.49\\\\\n",
       "\t 2035 & 0.44\\\\\n",
       "\t 2036 & 0.39\\\\\n",
       "\t 2037 & 0.35\\\\\n",
       "\t 2038 & 0.32\\\\\n",
       "\t 2039 & 0.28\\\\\n",
       "\t 2040 & 0.26\\\\\n",
       "\t 2041 & 0.23\\\\\n",
       "\t 2042 & 0.21\\\\\n",
       "\t 2043 & 0.18\\\\\n",
       "\t 2044 & 0.17\\\\\n",
       "\t 2045 & 0.15\\\\\n",
       "\\end{tabular}\n"
      ],
      "text/markdown": [
       "\n",
       "A data.frame: 23 × 2\n",
       "\n",
       "| year &lt;int&gt; | pct &lt;dbl&gt; |\n",
       "|---|---|\n",
       "| 2023 | 1.60 |\n",
       "| 2024 | 1.43 |\n",
       "| 2025 | 1.29 |\n",
       "| 2026 | 1.16 |\n",
       "| 2027 | 1.04 |\n",
       "| 2028 | 0.93 |\n",
       "| 2029 | 0.84 |\n",
       "| 2030 | 0.75 |\n",
       "| 2031 | 0.67 |\n",
       "| 2032 | 0.61 |\n",
       "| 2033 | 0.54 |\n",
       "| 2034 | 0.49 |\n",
       "| 2035 | 0.44 |\n",
       "| 2036 | 0.39 |\n",
       "| 2037 | 0.35 |\n",
       "| 2038 | 0.32 |\n",
       "| 2039 | 0.28 |\n",
       "| 2040 | 0.26 |\n",
       "| 2041 | 0.23 |\n",
       "| 2042 | 0.21 |\n",
       "| 2043 | 0.18 |\n",
       "| 2044 | 0.17 |\n",
       "| 2045 | 0.15 |\n",
       "\n"
      ],
      "text/plain": [
       "   year pct \n",
       "1  2023 1.60\n",
       "2  2024 1.43\n",
       "3  2025 1.29\n",
       "4  2026 1.16\n",
       "5  2027 1.04\n",
       "6  2028 0.93\n",
       "7  2029 0.84\n",
       "8  2030 0.75\n",
       "9  2031 0.67\n",
       "10 2032 0.61\n",
       "11 2033 0.54\n",
       "12 2034 0.49\n",
       "13 2035 0.44\n",
       "14 2036 0.39\n",
       "15 2037 0.35\n",
       "16 2038 0.32\n",
       "17 2039 0.28\n",
       "18 2040 0.26\n",
       "19 2041 0.23\n",
       "20 2042 0.21\n",
       "21 2043 0.18\n",
       "22 2044 0.17\n",
       "23 2045 0.15"
      ]
     },
     "metadata": {},
     "output_type": "display_data"
    }
   ],
   "source": [
    "extendido_hoghac<-data.frame(year=2023:2045)\n",
    "extendido_hoghac$pct<-tabla_hogares_hac$pct[tabla_hogares_hac$year==2022]*cumprod(rep(1+tcma_hoghac,length(2023:2045)))\n",
    "extendido_hoghac%>%\n",
    "mutate(pct=round(pct,2))"
   ]
  },
  {
   "cell_type": "markdown",
   "id": "bb250342",
   "metadata": {},
   "source": [
    "### Escenarios"
   ]
  },
  {
   "cell_type": "code",
   "execution_count": null,
   "id": "cf37af35",
   "metadata": {
    "vscode": {
     "languageId": "r"
    }
   },
   "outputs": [],
   "source": [
    "configuraciones <- tibble::tibble(\n",
    "  tabla_obs = list(tabla_rezago, tabla_escrituras),\n",
    "  tabla_est = list(extendido_rezago, extendido_escrituras),\n",
    "  margen = c(0.015, 0.015),\n",
    "    base=c(2022,2022),\n",
    "  linea_base=c(2022,2022),\n",
    "      despegue = list(\n",
    "    c(1, 0),  \n",
    "    c(0.8, 0.3) \n",
    "  ),\n",
    "  nombre_archivo = c(\"rezago_estimada.png\",\n",
    "                     \"escrituras_estimada.png\"),\n",
    "  titulo = c(\"Porcentaje de viviendas en rezago habitacional\",\n",
    "             \"Porcentaje de viviendas propias \n",
    "o propias en proceso de pago que no cuentan con escrituras\"),\n",
    "  nombre_estimado_futuro = c(\"Deseable\", \"Deseable\"),\n",
    "  nombre_intervalo_superior = c(\"Inercial\", \"Inercial\"),\n",
    "  nombre_intervalo_inferior = c(\"Transformador\", \"Transformador\"),\n",
    "  limite_inferior_y = c(0,8),\n",
    "  variable_intervals = c(\"pct\", \"pct\")\n",
    ")"
   ]
  },
  {
   "cell_type": "code",
   "execution_count": 53,
   "id": "7918302b",
   "metadata": {
    "vscode": {
     "languageId": "r"
    }
   },
   "outputs": [],
   "source": [
    "generar_grafica <- function(tabla_obs, tabla_est, margen, titulo,base, linea_base,\n",
    "                            nombre_archivo, nombre_estimado_futuro,despegue,\n",
    "                            nombre_intervalo_superior, nombre_intervalo_inferior,\n",
    "                            limite_inferior_y, variable_intervals = \"porcentaje\") {\n",
    "\n",
    "  serie_completa <- dplyr::bind_rows(\n",
    "    tabla_obs %>%\n",
    "      dplyr::mutate(year = as.numeric(year)) %>%\n",
    "      intervals(variable_intervals, margen = 0, año_base = base),\n",
    "\n",
    "    tabla_est %>%\n",
    "      dplyr::mutate(year = as.numeric(year)) %>%\n",
    "      intervals(variable_intervals, margen = margen, año_base = base)\n",
    "  )\n",
    "\n",
    "  grafica <- grafica_bonita(\n",
    "    data = serie_completa,\n",
    "    x = \"year\",\n",
    "    y = \"estimado\",\n",
    "    titulo = titulo,\n",
    "        ano_base=base,\n",
    "     mostrar_etiqueta_ano_base = TRUE,\n",
    "    linea_vertical = linea_base,\n",
    "    anios_etiquetas=c(2045),\n",
    "      desplazamiento_ano_base = despegue,\n",
    "    mostrar_intervalo = \"ambos\",\n",
    "    nombre_observado = \"Observado\",\n",
    "    nombre_estimado_futuro = nombre_estimado_futuro,\n",
    "    nombre_intervalo_superior = nombre_intervalo_superior,\n",
    "    nombre_intervalo_inferior = nombre_intervalo_inferior,\n",
    "    mostrar_leyenda = TRUE,\n",
    "    fuente = \"pop\",\n",
    "    etiqueta_x = \"Año\",\n",
    "    etiqueta_y = \"Porcentaje\",\n",
    "    titulo_leyenda = \"Escenarios\",\n",
    "    limite_inferior_y = limite_inferior_y\n",
    "  )\n",
    "\n",
    "  ggplot2::ggsave(paste0(\"H:/Mi unidad/pgd/graficas/\",nombre_archivo), grafica, \n",
    "  width = 10, height = 6, dpi = 185, bg = \"white\")\n",
    "}\n"
   ]
  },
  {
   "cell_type": "code",
   "execution_count": 54,
   "id": "98a2ebf1",
   "metadata": {
    "vscode": {
     "languageId": "r"
    }
   },
   "outputs": [
    {
     "data": {
      "text/html": [
       "<ol>\n",
       "\t<li>'H:/Mi unidad/pgd/graficas/rezago_estimada.png'</li>\n",
       "\t<li>'H:/Mi unidad/pgd/graficas/escrituras_estimada.png'</li>\n",
       "</ol>\n"
      ],
      "text/latex": [
       "\\begin{enumerate}\n",
       "\\item 'H:/Mi unidad/pgd/graficas/rezago\\_estimada.png'\n",
       "\\item 'H:/Mi unidad/pgd/graficas/escrituras\\_estimada.png'\n",
       "\\end{enumerate}\n"
      ],
      "text/markdown": [
       "1. 'H:/Mi unidad/pgd/graficas/rezago_estimada.png'\n",
       "2. 'H:/Mi unidad/pgd/graficas/escrituras_estimada.png'\n",
       "\n",
       "\n"
      ],
      "text/plain": [
       "[[1]]\n",
       "[1] \"H:/Mi unidad/pgd/graficas/rezago_estimada.png\"\n",
       "\n",
       "[[2]]\n",
       "[1] \"H:/Mi unidad/pgd/graficas/escrituras_estimada.png\"\n"
      ]
     },
     "metadata": {},
     "output_type": "display_data"
    }
   ],
   "source": [
    "pmap(\n",
    "  configuraciones,\n",
    "  function(tabla_obs, tabla_est, margen, nombre_archivo,base,linea_base,\n",
    "           titulo, nombre_estimado_futuro,despegue,\n",
    "           nombre_intervalo_superior, nombre_intervalo_inferior,\n",
    "           limite_inferior_y, variable_intervals) {\n",
    "    generar_grafica(\n",
    "      tabla_obs = tabla_obs,\n",
    "      tabla_est = tabla_est,\n",
    "      margen = margen,\n",
    "      base=base,\n",
    "      linea_base=linea_base,\n",
    "       despegue = despegue,\n",
    "      titulo = titulo,\n",
    "      nombre_archivo = nombre_archivo,\n",
    "      nombre_estimado_futuro = nombre_estimado_futuro,\n",
    "      nombre_intervalo_superior = nombre_intervalo_superior,\n",
    "      nombre_intervalo_inferior = nombre_intervalo_inferior,\n",
    "      limite_inferior_y = limite_inferior_y,\n",
    "      variable_intervals = variable_intervals\n",
    "    )\n",
    "  }\n",
    ")"
   ]
  }
 ],
 "metadata": {
  "colab": {
   "include_colab_link": true,
   "provenance": []
  },
  "kernelspec": {
   "display_name": "R",
   "language": "R",
   "name": "ir"
  },
  "language_info": {
   "codemirror_mode": "r",
   "file_extension": ".r",
   "mimetype": "text/x-r-source",
   "name": "R",
   "pygments_lexer": "r",
   "version": "4.4.1"
  }
 },
 "nbformat": 4,
 "nbformat_minor": 5
}
