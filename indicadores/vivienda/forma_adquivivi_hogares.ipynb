{
 "cells": [
  {
   "cell_type": "code",
   "execution_count": 1,
   "id": "1c5d6807",
   "metadata": {
    "vscode": {
     "languageId": "r"
    }
   },
   "outputs": [
    {
     "name": "stderr",
     "output_type": "stream",
     "text": [
      "Cargando paquete requerido: pacman\n",
      "\n"
     ]
    }
   ],
   "source": [
    "rm(list=ls())\n",
    "\n",
    "# Librerías ====\n",
    "if(!require('pacman')) install.packages('pacman')\n",
    "pacman::p_load(tidyverse, showtext, srvyr)"
   ]
  },
  {
   "cell_type": "code",
   "execution_count": 8,
   "id": "bb640ee4",
   "metadata": {
    "vscode": {
     "languageId": "r"
    }
   },
   "outputs": [],
   "source": [
    "##Crear folders de almacenamiento\n",
    "dir.create(\"vivienda/microdatos\", showWarnings = F)"
   ]
  },
  {
   "cell_type": "code",
   "execution_count": 10,
   "id": "d75456d8",
   "metadata": {
    "vscode": {
     "languageId": "r"
    }
   },
   "outputs": [],
   "source": [
    "# Función para descargar y descomprimir un archivo con timeout\n",
    "download_and_unzip <- function(url, destination=\"vivienda/microdatos\") {\n",
    "  tryCatch({\n",
    "    # Descargar el archivo con timeout\n",
    "    download.file(url, destfile = paste0(destination, \"/\", basename(url)), mode = \"wb\", timeout = 10000)\n",
    "\n",
    "    # Descomprimir el archivo\n",
    "    unzip(paste0(destination, \"/\", basename(url)), exdir = destination)\n",
    "\n",
    "    # Eliminar el archivo comprimido después de descomprimirlo\n",
    "    unlink(paste0(destination, \"/\", basename(url)))\n",
    "\n",
    "    message(paste(\"Descarga y descompresión exitosas para\", basename(url)))\n",
    "  }, error = function(e) {\n",
    "    warning(paste(\"Error al descargar o descomprimir\", basename(url), \":\", conditionMessage(e)))\n",
    "  })\n",
    "}"
   ]
  },
  {
   "cell_type": "code",
   "execution_count": 11,
   "id": "bbb184df",
   "metadata": {
    "vscode": {
     "languageId": "r"
    }
   },
   "outputs": [
    {
     "name": "stderr",
     "output_type": "stream",
     "text": [
      "Descarga y descompresión exitosas para enigh2022_ns_concentradohogar_csv.zip\n",
      "\n",
      "Descarga y descompresión exitosas para enigh2022_ns_viviendas_csv.zip\n",
      "\n"
     ]
    }
   ],
   "source": [
    "download_and_unzip(\"https://www.inegi.org.mx/contenidos/programas/enigh/nc/2022/microdatos/enigh2022_ns_concentradohogar_csv.zip\")\n",
    "download_and_unzip(\"https://www.inegi.org.mx/contenidos/programas/enigh/nc/2022/microdatos/enigh2022_ns_viviendas_csv.zip\")"
   ]
  },
  {
   "cell_type": "code",
   "execution_count": 50,
   "id": "d5de0f90",
   "metadata": {
    "vscode": {
     "languageId": "r"
    }
   },
   "outputs": [
    {
     "name": "stderr",
     "output_type": "stream",
     "text": [
      "Warning message:\n",
      "\"\u001b[1m\u001b[22mOne or more parsing issues, call `problems()` on your data frame for details,\n",
      "e.g.:\n",
      "  dat <- vroom(...)\n",
      "  problems(dat)\"\n"
     ]
    },
    {
     "data": {
      "text/html": [
       "<table class=\"dataframe\">\n",
       "<caption>A tibble: 10 × 5</caption>\n",
       "<thead>\n",
       "\t<tr><th scope=col>folioviv</th><th scope=col>tenencia</th><th scope=col>tipo_adqui</th><th scope=col>tenenciac</th><th scope=col>forma_adq</th></tr>\n",
       "\t<tr><th scope=col>&lt;chr&gt;</th><th scope=col>&lt;dbl&gt;</th><th scope=col>&lt;dbl&gt;</th><th scope=col>&lt;chr&gt;</th><th scope=col>&lt;chr&gt;</th></tr>\n",
       "</thead>\n",
       "<tbody>\n",
       "\t<tr><td>0900006902</td><td>4</td><td>1</td><td>Propia</td><td>Compra         </td></tr>\n",
       "\t<tr><td>0900006903</td><td>4</td><td>4</td><td>Propia</td><td>Otra           </td></tr>\n",
       "\t<tr><td>0900006905</td><td>4</td><td>1</td><td>Propia</td><td>Compra         </td></tr>\n",
       "\t<tr><td>0900009205</td><td>4</td><td>1</td><td>Propia</td><td>Compra         </td></tr>\n",
       "\t<tr><td>0900017403</td><td>4</td><td>1</td><td>Propia</td><td>Compra         </td></tr>\n",
       "\t<tr><td>0900017404</td><td>4</td><td>1</td><td>Propia</td><td>Compra         </td></tr>\n",
       "\t<tr><td>0900126602</td><td>4</td><td>3</td><td>Propia</td><td>Autoconstruye  </td></tr>\n",
       "\t<tr><td>0900126604</td><td>4</td><td>2</td><td>Propia</td><td>Manda construir</td></tr>\n",
       "\t<tr><td>0900165802</td><td>4</td><td>1</td><td>Propia</td><td>Compra         </td></tr>\n",
       "\t<tr><td>0900165806</td><td>4</td><td>1</td><td>Propia</td><td>Compra         </td></tr>\n",
       "</tbody>\n",
       "</table>\n"
      ],
      "text/latex": [
       "A tibble: 10 × 5\n",
       "\\begin{tabular}{lllll}\n",
       " folioviv & tenencia & tipo\\_adqui & tenenciac & forma\\_adq\\\\\n",
       " <chr> & <dbl> & <dbl> & <chr> & <chr>\\\\\n",
       "\\hline\n",
       "\t 0900006902 & 4 & 1 & Propia & Compra         \\\\\n",
       "\t 0900006903 & 4 & 4 & Propia & Otra           \\\\\n",
       "\t 0900006905 & 4 & 1 & Propia & Compra         \\\\\n",
       "\t 0900009205 & 4 & 1 & Propia & Compra         \\\\\n",
       "\t 0900017403 & 4 & 1 & Propia & Compra         \\\\\n",
       "\t 0900017404 & 4 & 1 & Propia & Compra         \\\\\n",
       "\t 0900126602 & 4 & 3 & Propia & Autoconstruye  \\\\\n",
       "\t 0900126604 & 4 & 2 & Propia & Manda construir\\\\\n",
       "\t 0900165802 & 4 & 1 & Propia & Compra         \\\\\n",
       "\t 0900165806 & 4 & 1 & Propia & Compra         \\\\\n",
       "\\end{tabular}\n"
      ],
      "text/markdown": [
       "\n",
       "A tibble: 10 × 5\n",
       "\n",
       "| folioviv &lt;chr&gt; | tenencia &lt;dbl&gt; | tipo_adqui &lt;dbl&gt; | tenenciac &lt;chr&gt; | forma_adq &lt;chr&gt; |\n",
       "|---|---|---|---|---|\n",
       "| 0900006902 | 4 | 1 | Propia | Compra          |\n",
       "| 0900006903 | 4 | 4 | Propia | Otra            |\n",
       "| 0900006905 | 4 | 1 | Propia | Compra          |\n",
       "| 0900009205 | 4 | 1 | Propia | Compra          |\n",
       "| 0900017403 | 4 | 1 | Propia | Compra          |\n",
       "| 0900017404 | 4 | 1 | Propia | Compra          |\n",
       "| 0900126602 | 4 | 3 | Propia | Autoconstruye   |\n",
       "| 0900126604 | 4 | 2 | Propia | Manda construir |\n",
       "| 0900165802 | 4 | 1 | Propia | Compra          |\n",
       "| 0900165806 | 4 | 1 | Propia | Compra          |\n",
       "\n"
      ],
      "text/plain": [
       "   folioviv   tenencia tipo_adqui tenenciac forma_adq      \n",
       "1  0900006902 4        1          Propia    Compra         \n",
       "2  0900006903 4        4          Propia    Otra           \n",
       "3  0900006905 4        1          Propia    Compra         \n",
       "4  0900009205 4        1          Propia    Compra         \n",
       "5  0900017403 4        1          Propia    Compra         \n",
       "6  0900017404 4        1          Propia    Compra         \n",
       "7  0900126602 4        3          Propia    Autoconstruye  \n",
       "8  0900126604 4        2          Propia    Manda construir\n",
       "9  0900165802 4        1          Propia    Compra         \n",
       "10 0900165806 4        1          Propia    Compra         "
      ]
     },
     "metadata": {},
     "output_type": "display_data"
    }
   ],
   "source": [
    "viviendas <- read_csv(\"vivienda/microdatos/viviendas.csv\",show_col_types=FALSE)%>%\n",
    "\n",
    "mutate(cve_ent = case_when(\n",
    "      nchar(folioviv) == 9  ~ paste0(\"0\", substr(folioviv, 1, 1)),\n",
    "      nchar(folioviv) == 10 ~ substr(folioviv, 1, 2)\n",
    "    )) %>%\n",
    "    # Filtrar si entidad es 9\n",
    "  filter(cve_ent == \"09\")%>%\n",
    "  filter(tenencia %in% c(3,4))%>%\n",
    "  mutate(tenenciac= case_when(\n",
    "    tenencia %in% c (3,4) ~ \"Propia\",\n",
    "    TRUE ~ \"Otra\"),\n",
    "    forma_adq=case_when(tipo_adqui %in% c(1) ~ \"Compra\",\n",
    "                        tipo_adqui %in% c(2) ~ \"Manda construir\",\n",
    "                        tipo_adqui %in% c(3) ~ \"Autoconstruye\",\n",
    "                        tipo_adqui %in% c(4) ~ \"Otra\"))%>%\n",
    "  select(folioviv,tenencia,tipo_adqui,tenenciac,forma_adq)\n",
    "\n",
    "head(viviendas,10)"
   ]
  },
  {
   "cell_type": "code",
   "execution_count": 70,
   "id": "ab6257cc",
   "metadata": {
    "vscode": {
     "languageId": "r"
    }
   },
   "outputs": [],
   "source": [
    "hogares<- read_csv(\"vivienda/microdatos/concentradohogar.csv\",show_col_types=FALSE)%>%\n",
    "  mutate(cve_ent = case_when(\n",
    "      nchar(folioviv) == 9  ~ paste0(\"0\", substr(folioviv, 1, 1)),\n",
    "      nchar(folioviv) == 10 ~ substr(folioviv, 1, 2)\n",
    "    )) %>%\n",
    "    # Filtrar si entidad es 9\n",
    "  filter(cve_ent == \"09\")%>%\n",
    "  #Crear deciles\n",
    "  mutate(decil = ntile(ing_cor, 10))%>%\n",
    "  #Pegar con viviendas\n",
    "  left_join(viviendas, by = \"folioviv\")%>%\n",
    "    filter(tenenciac == \"Propia\")"
   ]
  },
  {
   "cell_type": "code",
   "execution_count": 71,
   "id": "13fe6149",
   "metadata": {
    "vscode": {
     "languageId": "r"
    }
   },
   "outputs": [],
   "source": [
    "dm<-hogares%>%\n",
    "as_survey_design(ids = upm, weights = factor,strata=est_dis,\n",
    " nest = TRUE)"
   ]
  },
  {
   "cell_type": "code",
   "execution_count": 74,
   "id": "2857fb9a",
   "metadata": {
    "vscode": {
     "languageId": "r"
    }
   },
   "outputs": [
    {
     "data": {
      "text/html": [
       "<table class=\"dataframe\">\n",
       "<caption>A tibble: 4 × 5</caption>\n",
       "<thead>\n",
       "\t<tr><th scope=col>forma_adq</th><th scope=col>hogares</th><th scope=col>hogares_cv</th><th scope=col>pct</th><th scope=col>pct_cv</th></tr>\n",
       "\t<tr><th scope=col>&lt;chr&gt;</th><th scope=col>&lt;dbl&gt;</th><th scope=col>&lt;dbl&gt;</th><th scope=col>&lt;dbl&gt;</th><th scope=col>&lt;dbl&gt;</th></tr>\n",
       "</thead>\n",
       "<tbody>\n",
       "\t<tr><td>Manda construir</td><td>30900</td><td>0.2596985</td><td>37.1</td><td>0.1995930</td></tr>\n",
       "\t<tr><td>Autoconstruye  </td><td>28092</td><td>0.2322150</td><td>33.7</td><td>0.2005451</td></tr>\n",
       "\t<tr><td>Compra         </td><td>16293</td><td>0.2988470</td><td>19.6</td><td>0.2781492</td></tr>\n",
       "\t<tr><td>Otra           </td><td> 8041</td><td>0.4523610</td><td> 9.7</td><td>0.4348759</td></tr>\n",
       "</tbody>\n",
       "</table>\n"
      ],
      "text/latex": [
       "A tibble: 4 × 5\n",
       "\\begin{tabular}{lllll}\n",
       " forma\\_adq & hogares & hogares\\_cv & pct & pct\\_cv\\\\\n",
       " <chr> & <dbl> & <dbl> & <dbl> & <dbl>\\\\\n",
       "\\hline\n",
       "\t Manda construir & 30900 & 0.2596985 & 37.1 & 0.1995930\\\\\n",
       "\t Autoconstruye   & 28092 & 0.2322150 & 33.7 & 0.2005451\\\\\n",
       "\t Compra          & 16293 & 0.2988470 & 19.6 & 0.2781492\\\\\n",
       "\t Otra            &  8041 & 0.4523610 &  9.7 & 0.4348759\\\\\n",
       "\\end{tabular}\n"
      ],
      "text/markdown": [
       "\n",
       "A tibble: 4 × 5\n",
       "\n",
       "| forma_adq &lt;chr&gt; | hogares &lt;dbl&gt; | hogares_cv &lt;dbl&gt; | pct &lt;dbl&gt; | pct_cv &lt;dbl&gt; |\n",
       "|---|---|---|---|---|\n",
       "| Manda construir | 30900 | 0.2596985 | 37.1 | 0.1995930 |\n",
       "| Autoconstruye   | 28092 | 0.2322150 | 33.7 | 0.2005451 |\n",
       "| Compra          | 16293 | 0.2988470 | 19.6 | 0.2781492 |\n",
       "| Otra            |  8041 | 0.4523610 |  9.7 | 0.4348759 |\n",
       "\n"
      ],
      "text/plain": [
       "  forma_adq       hogares hogares_cv pct  pct_cv   \n",
       "1 Manda construir 30900   0.2596985  37.1 0.1995930\n",
       "2 Autoconstruye   28092   0.2322150  33.7 0.2005451\n",
       "3 Compra          16293   0.2988470  19.6 0.2781492\n",
       "4 Otra             8041   0.4523610   9.7 0.4348759"
      ]
     },
     "metadata": {},
     "output_type": "display_data"
    }
   ],
   "source": [
    "dm%>%\n",
    "filter(decil %in%  c(1))%>%\n",
    "group_by(forma_adq)%>%\n",
    "summarise(\n",
    "  hogares=survey_total(vartype=\"cv\"),\n",
    "  pct=survey_prop( vartype=\"cv\"),\n",
    "  )%>%\n",
    "  mutate(pct=round(pct*100,1))%>%\n",
    "  #Ordenar por pct\n",
    "  arrange(desc(pct))"
   ]
  }
 ],
 "metadata": {
  "kernelspec": {
   "display_name": "R",
   "language": "R",
   "name": "ir"
  },
  "language_info": {
   "codemirror_mode": "r",
   "file_extension": ".r",
   "mimetype": "text/x-r-source",
   "name": "R",
   "pygments_lexer": "r",
   "version": "4.4.1"
  }
 },
 "nbformat": 4,
 "nbformat_minor": 5
}
