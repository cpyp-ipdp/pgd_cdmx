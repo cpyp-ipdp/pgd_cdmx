{
 "cells": [
  {
   "cell_type": "code",
   "execution_count": 34,
   "id": "1c5d6807",
   "metadata": {
    "vscode": {
     "languageId": "r"
    }
   },
   "outputs": [],
   "source": [
    "rm(list=ls())\n",
    "\n",
    "# Librerías ====\n",
    "if(!require('pacman')) install.packages('pacman')\n",
    "pacman::p_load(tidyverse, showtext, srvyr)"
   ]
  },
  {
   "cell_type": "code",
   "execution_count": 35,
   "id": "bb640ee4",
   "metadata": {
    "vscode": {
     "languageId": "r"
    }
   },
   "outputs": [],
   "source": [
    "##Crear folders de almacenamiento\n",
    "dir.create(\"vivienda/microdatos\", showWarnings = F)"
   ]
  },
  {
   "cell_type": "code",
   "execution_count": 36,
   "id": "d75456d8",
   "metadata": {
    "vscode": {
     "languageId": "r"
    }
   },
   "outputs": [],
   "source": [
    "# Función para descargar y descomprimir un archivo con timeout\n",
    "download_and_unzip <- function(url, destination=\"vivienda/microdatos\") {\n",
    "  tryCatch({\n",
    "    # Descargar el archivo con timeout\n",
    "    download.file(url, destfile = paste0(destination, \"/\", basename(url)), mode = \"wb\", timeout = 10000)\n",
    "\n",
    "    # Descomprimir el archivo\n",
    "    unzip(paste0(destination, \"/\", basename(url)), exdir = destination)\n",
    "\n",
    "    # Eliminar el archivo comprimido después de descomprimirlo\n",
    "    unlink(paste0(destination, \"/\", basename(url)))\n",
    "\n",
    "    message(paste(\"Descarga y descompresión exitosas para\", basename(url)))\n",
    "  }, error = function(e) {\n",
    "    warning(paste(\"Error al descargar o descomprimir\", basename(url), \":\", conditionMessage(e)))\n",
    "  })\n",
    "}"
   ]
  },
  {
   "cell_type": "code",
   "execution_count": 42,
   "id": "bbb184df",
   "metadata": {
    "vscode": {
     "languageId": "r"
    }
   },
   "outputs": [
    {
     "name": "stderr",
     "output_type": "stream",
     "text": [
      "Descarga y descompresión exitosas para enigh2024_ns_concentradohogar_csv.zip\n",
      "\n",
      "Descarga y descompresión exitosas para enigh2024_ns_viviendas_csv.zip\n",
      "\n"
     ]
    }
   ],
   "source": [
    "download_and_unzip(\"https://www.inegi.org.mx/contenidos/programas/enigh/nc/2024/microdatos/enigh2024_ns_concentradohogar_csv.zip\")\n",
    "download_and_unzip(\"https://www.inegi.org.mx/contenidos/programas/enigh/nc/2024/microdatos/enigh2024_ns_viviendas_csv.zip\")"
   ]
  },
  {
   "cell_type": "code",
   "execution_count": 43,
   "id": "d5de0f90",
   "metadata": {
    "vscode": {
     "languageId": "r"
    }
   },
   "outputs": [
    {
     "name": "stderr",
     "output_type": "stream",
     "text": [
      "Warning message:\n",
      "\"\u001b[1m\u001b[22mOne or more parsing issues, call `problems()` on your data frame for details,\n",
      "e.g.:\n",
      "  dat <- vroom(...)\n",
      "  problems(dat)\"\n"
     ]
    },
    {
     "data": {
      "text/html": [
       "<table class=\"dataframe\">\n",
       "<caption>A tibble: 10 × 5</caption>\n",
       "<thead>\n",
       "\t<tr><th scope=col>folioviv</th><th scope=col>tenencia</th><th scope=col>tipo_adqui</th><th scope=col>tenenciac</th><th scope=col>forma_adq</th></tr>\n",
       "\t<tr><th scope=col>&lt;chr&gt;</th><th scope=col>&lt;dbl&gt;</th><th scope=col>&lt;dbl&gt;</th><th scope=col>&lt;chr&gt;</th><th scope=col>&lt;chr&gt;</th></tr>\n",
       "</thead>\n",
       "<tbody>\n",
       "\t<tr><td>0903222401</td><td>4</td><td>1</td><td>Propia</td><td>Compra         </td></tr>\n",
       "\t<tr><td>0903222402</td><td>4</td><td>1</td><td>Propia</td><td>Compra         </td></tr>\n",
       "\t<tr><td>0903222405</td><td>4</td><td>1</td><td>Propia</td><td>Compra         </td></tr>\n",
       "\t<tr><td>0903222406</td><td>3</td><td>1</td><td>Propia</td><td>Compra         </td></tr>\n",
       "\t<tr><td>0903223604</td><td>4</td><td>1</td><td>Propia</td><td>Compra         </td></tr>\n",
       "\t<tr><td>0903223605</td><td>4</td><td>1</td><td>Propia</td><td>Compra         </td></tr>\n",
       "\t<tr><td>0903224801</td><td>4</td><td>2</td><td>Propia</td><td>Manda construir</td></tr>\n",
       "\t<tr><td>0903224802</td><td>4</td><td>1</td><td>Propia</td><td>Compra         </td></tr>\n",
       "\t<tr><td>0903224803</td><td>4</td><td>2</td><td>Propia</td><td>Manda construir</td></tr>\n",
       "\t<tr><td>0903224804</td><td>4</td><td>2</td><td>Propia</td><td>Manda construir</td></tr>\n",
       "</tbody>\n",
       "</table>\n"
      ],
      "text/latex": [
       "A tibble: 10 × 5\n",
       "\\begin{tabular}{lllll}\n",
       " folioviv & tenencia & tipo\\_adqui & tenenciac & forma\\_adq\\\\\n",
       " <chr> & <dbl> & <dbl> & <chr> & <chr>\\\\\n",
       "\\hline\n",
       "\t 0903222401 & 4 & 1 & Propia & Compra         \\\\\n",
       "\t 0903222402 & 4 & 1 & Propia & Compra         \\\\\n",
       "\t 0903222405 & 4 & 1 & Propia & Compra         \\\\\n",
       "\t 0903222406 & 3 & 1 & Propia & Compra         \\\\\n",
       "\t 0903223604 & 4 & 1 & Propia & Compra         \\\\\n",
       "\t 0903223605 & 4 & 1 & Propia & Compra         \\\\\n",
       "\t 0903224801 & 4 & 2 & Propia & Manda construir\\\\\n",
       "\t 0903224802 & 4 & 1 & Propia & Compra         \\\\\n",
       "\t 0903224803 & 4 & 2 & Propia & Manda construir\\\\\n",
       "\t 0903224804 & 4 & 2 & Propia & Manda construir\\\\\n",
       "\\end{tabular}\n"
      ],
      "text/markdown": [
       "\n",
       "A tibble: 10 × 5\n",
       "\n",
       "| folioviv &lt;chr&gt; | tenencia &lt;dbl&gt; | tipo_adqui &lt;dbl&gt; | tenenciac &lt;chr&gt; | forma_adq &lt;chr&gt; |\n",
       "|---|---|---|---|---|\n",
       "| 0903222401 | 4 | 1 | Propia | Compra          |\n",
       "| 0903222402 | 4 | 1 | Propia | Compra          |\n",
       "| 0903222405 | 4 | 1 | Propia | Compra          |\n",
       "| 0903222406 | 3 | 1 | Propia | Compra          |\n",
       "| 0903223604 | 4 | 1 | Propia | Compra          |\n",
       "| 0903223605 | 4 | 1 | Propia | Compra          |\n",
       "| 0903224801 | 4 | 2 | Propia | Manda construir |\n",
       "| 0903224802 | 4 | 1 | Propia | Compra          |\n",
       "| 0903224803 | 4 | 2 | Propia | Manda construir |\n",
       "| 0903224804 | 4 | 2 | Propia | Manda construir |\n",
       "\n"
      ],
      "text/plain": [
       "   folioviv   tenencia tipo_adqui tenenciac forma_adq      \n",
       "1  0903222401 4        1          Propia    Compra         \n",
       "2  0903222402 4        1          Propia    Compra         \n",
       "3  0903222405 4        1          Propia    Compra         \n",
       "4  0903222406 3        1          Propia    Compra         \n",
       "5  0903223604 4        1          Propia    Compra         \n",
       "6  0903223605 4        1          Propia    Compra         \n",
       "7  0903224801 4        2          Propia    Manda construir\n",
       "8  0903224802 4        1          Propia    Compra         \n",
       "9  0903224803 4        2          Propia    Manda construir\n",
       "10 0903224804 4        2          Propia    Manda construir"
      ]
     },
     "metadata": {},
     "output_type": "display_data"
    },
    {
     "name": "stdout",
     "output_type": "stream",
     "text": [
      "[1] 1 2 4 5 3 6\n"
     ]
    }
   ],
   "source": [
    "viviendas <- read_csv(\"vivienda/microdatos/viviendas.csv\",show_col_types=FALSE)%>%\n",
    "\n",
    "mutate(cve_ent = case_when(\n",
    "      nchar(folioviv) == 9  ~ paste0(\"0\", substr(folioviv, 1, 1)),\n",
    "      nchar(folioviv) == 10 ~ substr(folioviv, 1, 2)\n",
    "    )) %>%\n",
    "    # Filtrar si entidad es 9\n",
    "  filter(cve_ent == \"09\")%>%\n",
    "  filter(tenencia %in% c(3,4))%>%\n",
    "  mutate(tenenciac= case_when(\n",
    "    tenencia %in% c (3,4) ~ \"Propia\",\n",
    "    TRUE ~ \"Otra\"),\n",
    "    forma_adq=case_when(tipo_adqui %in% c(1) ~ \"Compra\",\n",
    "                        tipo_adqui %in% c(2) ~ \"Manda construir\",\n",
    "                        tipo_adqui %in% c(3) ~ \"Autoconstruye\",\n",
    "                        tipo_adqui>=4 ~ \"Otra\"))%>%\n",
    "  select(folioviv,tenencia,tipo_adqui,tenenciac,forma_adq)\n",
    "\n",
    "head(viviendas,10)\n",
    "print(unique(viviendas$tipo_adqui))"
   ]
  },
  {
   "cell_type": "code",
   "execution_count": 44,
   "id": "ab6257cc",
   "metadata": {
    "vscode": {
     "languageId": "r"
    }
   },
   "outputs": [],
   "source": [
    "hogares<- read_csv(\"vivienda/microdatos/concentradohogar.csv\",show_col_types=FALSE)%>%\n",
    "  mutate(cve_ent = case_when(\n",
    "      nchar(folioviv) == 9  ~ paste0(\"0\", substr(folioviv, 1, 1)),\n",
    "      nchar(folioviv) == 10 ~ substr(folioviv, 1, 2)\n",
    "    )) %>%\n",
    "    # Filtrar si entidad es 9\n",
    "  filter(cve_ent == \"09\")%>%\n",
    "  #Crear deciles\n",
    "  mutate(decil = ntile(ing_cor, 10))%>%\n",
    "  #Pegar con viviendas\n",
    "  left_join(viviendas, by = \"folioviv\")%>%\n",
    "    filter(tenenciac == \"Propia\")"
   ]
  },
  {
   "cell_type": "code",
   "execution_count": 45,
   "id": "13fe6149",
   "metadata": {
    "vscode": {
     "languageId": "r"
    }
   },
   "outputs": [],
   "source": [
    "dm<-hogares%>%\n",
    "as_survey_design(ids = upm, weights = factor,strata=est_dis,\n",
    " nest = TRUE)"
   ]
  },
  {
   "cell_type": "code",
   "execution_count": 46,
   "id": "2857fb9a",
   "metadata": {
    "vscode": {
     "languageId": "r"
    }
   },
   "outputs": [
    {
     "data": {
      "text/html": [
       "<table class=\"dataframe\">\n",
       "<caption>A tibble: 4 × 5</caption>\n",
       "<thead>\n",
       "\t<tr><th scope=col>forma_adq</th><th scope=col>hogares</th><th scope=col>hogares_cv</th><th scope=col>pct</th><th scope=col>pct_cv</th></tr>\n",
       "\t<tr><th scope=col>&lt;chr&gt;</th><th scope=col>&lt;dbl&gt;</th><th scope=col>&lt;dbl&gt;</th><th scope=col>&lt;dbl&gt;</th><th scope=col>&lt;dbl&gt;</th></tr>\n",
       "</thead>\n",
       "<tbody>\n",
       "\t<tr><td>Manda construir</td><td>33334</td><td>0.2545763</td><td>39.2</td><td>0.1914660</td></tr>\n",
       "\t<tr><td>Autoconstruye  </td><td>19211</td><td>0.4342627</td><td>22.6</td><td>0.3930324</td></tr>\n",
       "\t<tr><td>Otra           </td><td>19097</td><td>0.3013859</td><td>22.5</td><td>0.3017634</td></tr>\n",
       "\t<tr><td>Compra         </td><td>13353</td><td>0.4571526</td><td>15.7</td><td>0.4160678</td></tr>\n",
       "</tbody>\n",
       "</table>\n"
      ],
      "text/latex": [
       "A tibble: 4 × 5\n",
       "\\begin{tabular}{lllll}\n",
       " forma\\_adq & hogares & hogares\\_cv & pct & pct\\_cv\\\\\n",
       " <chr> & <dbl> & <dbl> & <dbl> & <dbl>\\\\\n",
       "\\hline\n",
       "\t Manda construir & 33334 & 0.2545763 & 39.2 & 0.1914660\\\\\n",
       "\t Autoconstruye   & 19211 & 0.4342627 & 22.6 & 0.3930324\\\\\n",
       "\t Otra            & 19097 & 0.3013859 & 22.5 & 0.3017634\\\\\n",
       "\t Compra          & 13353 & 0.4571526 & 15.7 & 0.4160678\\\\\n",
       "\\end{tabular}\n"
      ],
      "text/markdown": [
       "\n",
       "A tibble: 4 × 5\n",
       "\n",
       "| forma_adq &lt;chr&gt; | hogares &lt;dbl&gt; | hogares_cv &lt;dbl&gt; | pct &lt;dbl&gt; | pct_cv &lt;dbl&gt; |\n",
       "|---|---|---|---|---|\n",
       "| Manda construir | 33334 | 0.2545763 | 39.2 | 0.1914660 |\n",
       "| Autoconstruye   | 19211 | 0.4342627 | 22.6 | 0.3930324 |\n",
       "| Otra            | 19097 | 0.3013859 | 22.5 | 0.3017634 |\n",
       "| Compra          | 13353 | 0.4571526 | 15.7 | 0.4160678 |\n",
       "\n"
      ],
      "text/plain": [
       "  forma_adq       hogares hogares_cv pct  pct_cv   \n",
       "1 Manda construir 33334   0.2545763  39.2 0.1914660\n",
       "2 Autoconstruye   19211   0.4342627  22.6 0.3930324\n",
       "3 Otra            19097   0.3013859  22.5 0.3017634\n",
       "4 Compra          13353   0.4571526  15.7 0.4160678"
      ]
     },
     "metadata": {},
     "output_type": "display_data"
    }
   ],
   "source": [
    "dm%>%\n",
    "filter(decil %in%  c(1))%>%\n",
    "group_by(forma_adq)%>%\n",
    "summarise(\n",
    "  hogares=survey_total(vartype=\"cv\"),\n",
    "  pct=survey_prop( vartype=\"cv\"),\n",
    "  )%>%\n",
    "  mutate(pct=round(pct*100,1))%>%\n",
    "  #Ordenar por pct\n",
    "  arrange(desc(pct))"
   ]
  },
  {
   "cell_type": "code",
   "execution_count": null,
   "id": "d27deb49",
   "metadata": {
    "vscode": {
     "languageId": "r"
    }
   },
   "outputs": [
    {
     "data": {
      "text/html": [
       "61.8"
      ],
      "text/latex": [
       "61.8"
      ],
      "text/markdown": [
       "61.8"
      ],
      "text/plain": [
       "[1] 61.8"
      ]
     },
     "metadata": {},
     "output_type": "display_data"
    }
   ],
   "source": [
    "39.2+22.6"
   ]
  }
 ],
 "metadata": {
  "kernelspec": {
   "display_name": "R",
   "language": "R",
   "name": "ir"
  },
  "language_info": {
   "codemirror_mode": "r",
   "file_extension": ".r",
   "mimetype": "text/x-r-source",
   "name": "R",
   "pygments_lexer": "r",
   "version": "4.4.1"
  }
 },
 "nbformat": 4,
 "nbformat_minor": 5
}
