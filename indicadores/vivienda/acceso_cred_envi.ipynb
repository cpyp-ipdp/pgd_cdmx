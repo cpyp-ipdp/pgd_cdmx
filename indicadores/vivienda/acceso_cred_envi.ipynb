{
 "cells": [
  {
   "cell_type": "code",
   "execution_count": 1,
   "id": "4c0ae053",
   "metadata": {
    "vscode": {
     "languageId": "r"
    }
   },
   "outputs": [],
   "source": [
    "## Estimación de viviendas para gobierno federal de Claudia Sheinbaum\n",
    "##Borrar datos del entorno\n",
    "rm(list=ls())\n",
    "\n",
    "#Directorio para descargar de datos\n",
    "#Esto se debe de cambiar en cada computadora\n",
    "#setwd(\"D:/datos\")\n",
    "#creamos carpeta en donde almacenaremos los archivos\n",
    "dir.create(\"envi\", showWarnings=F)"
   ]
  },
  {
   "cell_type": "code",
   "execution_count": 2,
   "id": "ca15c7cf",
   "metadata": {
    "vscode": {
     "languageId": "r"
    }
   },
   "outputs": [
    {
     "name": "stderr",
     "output_type": "stream",
     "text": [
      "Cargando paquete requerido: pacman\n",
      "\n"
     ]
    }
   ],
   "source": [
    "# Librerías ====\n",
    "if(!require('pacman')) install.packages('pacman')\n",
    "pacman::p_load(tidyverse, srvyr,showtext)\n",
    "#Fuente para los gráficos\n",
    "font_add_google(\"Poppins\", \"pop\")\n",
    "showtext_auto()"
   ]
  },
  {
   "cell_type": "code",
   "execution_count": 3,
   "id": "a27d1821",
   "metadata": {
    "vscode": {
     "languageId": "r"
    }
   },
   "outputs": [],
   "source": [
    "#Descarga de archivos====\n",
    "url<-\"https://www.inegi.org.mx/contenidos/programas/envi/2020/microdatos/envi_2020_base_de_datos_csv.zip\"\n",
    "\n",
    "temp <- tempfile()\n",
    "download.file(url,\n",
    "              mode = \"wb\",\n",
    "              destfile = temp)\n",
    "unzip(temp, exdir = \"envi\")\n",
    "unlink(temp)"
   ]
  },
  {
   "cell_type": "code",
   "execution_count": 20,
   "id": "13a3dd40",
   "metadata": {
    "vscode": {
     "languageId": "r"
    }
   },
   "outputs": [
    {
     "data": {
      "text/html": [
       "<table class=\"dataframe\">\n",
       "<caption>A data.frame: 6 × 24</caption>\n",
       "<thead>\n",
       "\t<tr><th></th><th scope=col>folio</th><th scope=col>viv_sel</th><th scope=col>hogar</th><th scope=col>n_ren</th><th scope=col>paren</th><th scope=col>sexo</th><th scope=col>edad</th><th scope=col>p2_5</th><th scope=col>p2_6</th><th scope=col>niv</th><th scope=col>⋯</th><th scope=col>p3_3</th><th scope=col>p3_4</th><th scope=col>p3_4a</th><th scope=col>p3_5</th><th scope=col>ent</th><th scope=col>tloc</th><th scope=col>est_dis</th><th scope=col>upm_dis</th><th scope=col>factor</th><th scope=col>po</th></tr>\n",
       "\t<tr><th></th><th scope=col>&lt;int&gt;</th><th scope=col>&lt;int&gt;</th><th scope=col>&lt;int&gt;</th><th scope=col>&lt;int&gt;</th><th scope=col>&lt;int&gt;</th><th scope=col>&lt;int&gt;</th><th scope=col>&lt;int&gt;</th><th scope=col>&lt;int&gt;</th><th scope=col>&lt;int&gt;</th><th scope=col>&lt;int&gt;</th><th scope=col>⋯</th><th scope=col>&lt;int&gt;</th><th scope=col>&lt;int&gt;</th><th scope=col>&lt;int&gt;</th><th scope=col>&lt;int&gt;</th><th scope=col>&lt;int&gt;</th><th scope=col>&lt;int&gt;</th><th scope=col>&lt;int&gt;</th><th scope=col>&lt;int&gt;</th><th scope=col>&lt;int&gt;</th><th scope=col>&lt;chr&gt;</th></tr>\n",
       "</thead>\n",
       "<tbody>\n",
       "\t<tr><th scope=row>1</th><td>1</td><td>1</td><td>1</td><td>1</td><td>1</td><td>1</td><td>61</td><td>2</td><td>1</td><td>3</td><td>⋯</td><td> 4</td><td>99888</td><td>NA</td><td> 4</td><td>1</td><td>1</td><td>2</td><td>1</td><td>206</td><td>ocupada</td></tr>\n",
       "\t<tr><th scope=row>2</th><td>1</td><td>1</td><td>1</td><td>4</td><td>7</td><td>2</td><td>64</td><td>2</td><td>2</td><td>3</td><td>⋯</td><td>NA</td><td>   NA</td><td>NA</td><td>NA</td><td>1</td><td>1</td><td>2</td><td>1</td><td>206</td><td>otros  </td></tr>\n",
       "\t<tr><th scope=row>3</th><td>1</td><td>1</td><td>1</td><td>2</td><td>7</td><td>2</td><td>67</td><td>2</td><td>1</td><td>2</td><td>⋯</td><td> 4</td><td> 3500</td><td> 3</td><td> 4</td><td>1</td><td>1</td><td>2</td><td>1</td><td>206</td><td>ocupada</td></tr>\n",
       "\t<tr><th scope=row>4</th><td>1</td><td>2</td><td>1</td><td>1</td><td>1</td><td>1</td><td>74</td><td>2</td><td>2</td><td>2</td><td>⋯</td><td> 4</td><td> 3000</td><td> 1</td><td> 4</td><td>1</td><td>1</td><td>2</td><td>1</td><td>206</td><td>ocupada</td></tr>\n",
       "\t<tr><th scope=row>5</th><td>1</td><td>2</td><td>1</td><td>2</td><td>2</td><td>2</td><td>72</td><td>2</td><td>2</td><td>2</td><td>⋯</td><td>NA</td><td>   NA</td><td>NA</td><td>NA</td><td>1</td><td>1</td><td>2</td><td>1</td><td>206</td><td>otros  </td></tr>\n",
       "\t<tr><th scope=row>6</th><td>1</td><td>2</td><td>1</td><td>3</td><td>3</td><td>1</td><td>32</td><td>2</td><td>2</td><td>8</td><td>⋯</td><td> 2</td><td> 1500</td><td> 1</td><td> 1</td><td>1</td><td>1</td><td>2</td><td>1</td><td>206</td><td>ocupada</td></tr>\n",
       "</tbody>\n",
       "</table>\n"
      ],
      "text/latex": [
       "A data.frame: 6 × 24\n",
       "\\begin{tabular}{r|lllllllllllllllllllll}\n",
       "  & folio & viv\\_sel & hogar & n\\_ren & paren & sexo & edad & p2\\_5 & p2\\_6 & niv & ⋯ & p3\\_3 & p3\\_4 & p3\\_4a & p3\\_5 & ent & tloc & est\\_dis & upm\\_dis & factor & po\\\\\n",
       "  & <int> & <int> & <int> & <int> & <int> & <int> & <int> & <int> & <int> & <int> & ⋯ & <int> & <int> & <int> & <int> & <int> & <int> & <int> & <int> & <int> & <chr>\\\\\n",
       "\\hline\n",
       "\t1 & 1 & 1 & 1 & 1 & 1 & 1 & 61 & 2 & 1 & 3 & ⋯ &  4 & 99888 & NA &  4 & 1 & 1 & 2 & 1 & 206 & ocupada\\\\\n",
       "\t2 & 1 & 1 & 1 & 4 & 7 & 2 & 64 & 2 & 2 & 3 & ⋯ & NA &    NA & NA & NA & 1 & 1 & 2 & 1 & 206 & otros  \\\\\n",
       "\t3 & 1 & 1 & 1 & 2 & 7 & 2 & 67 & 2 & 1 & 2 & ⋯ &  4 &  3500 &  3 &  4 & 1 & 1 & 2 & 1 & 206 & ocupada\\\\\n",
       "\t4 & 1 & 2 & 1 & 1 & 1 & 1 & 74 & 2 & 2 & 2 & ⋯ &  4 &  3000 &  1 &  4 & 1 & 1 & 2 & 1 & 206 & ocupada\\\\\n",
       "\t5 & 1 & 2 & 1 & 2 & 2 & 2 & 72 & 2 & 2 & 2 & ⋯ & NA &    NA & NA & NA & 1 & 1 & 2 & 1 & 206 & otros  \\\\\n",
       "\t6 & 1 & 2 & 1 & 3 & 3 & 1 & 32 & 2 & 2 & 8 & ⋯ &  2 &  1500 &  1 &  1 & 1 & 1 & 2 & 1 & 206 & ocupada\\\\\n",
       "\\end{tabular}\n"
      ],
      "text/markdown": [
       "\n",
       "A data.frame: 6 × 24\n",
       "\n",
       "| <!--/--> | folio &lt;int&gt; | viv_sel &lt;int&gt; | hogar &lt;int&gt; | n_ren &lt;int&gt; | paren &lt;int&gt; | sexo &lt;int&gt; | edad &lt;int&gt; | p2_5 &lt;int&gt; | p2_6 &lt;int&gt; | niv &lt;int&gt; | ⋯ ⋯ | p3_3 &lt;int&gt; | p3_4 &lt;int&gt; | p3_4a &lt;int&gt; | p3_5 &lt;int&gt; | ent &lt;int&gt; | tloc &lt;int&gt; | est_dis &lt;int&gt; | upm_dis &lt;int&gt; | factor &lt;int&gt; | po &lt;chr&gt; |\n",
       "|---|---|---|---|---|---|---|---|---|---|---|---|---|---|---|---|---|---|---|---|---|---|\n",
       "| 1 | 1 | 1 | 1 | 1 | 1 | 1 | 61 | 2 | 1 | 3 | ⋯ |  4 | 99888 | NA |  4 | 1 | 1 | 2 | 1 | 206 | ocupada |\n",
       "| 2 | 1 | 1 | 1 | 4 | 7 | 2 | 64 | 2 | 2 | 3 | ⋯ | NA |    NA | NA | NA | 1 | 1 | 2 | 1 | 206 | otros   |\n",
       "| 3 | 1 | 1 | 1 | 2 | 7 | 2 | 67 | 2 | 1 | 2 | ⋯ |  4 |  3500 |  3 |  4 | 1 | 1 | 2 | 1 | 206 | ocupada |\n",
       "| 4 | 1 | 2 | 1 | 1 | 1 | 1 | 74 | 2 | 2 | 2 | ⋯ |  4 |  3000 |  1 |  4 | 1 | 1 | 2 | 1 | 206 | ocupada |\n",
       "| 5 | 1 | 2 | 1 | 2 | 2 | 2 | 72 | 2 | 2 | 2 | ⋯ | NA |    NA | NA | NA | 1 | 1 | 2 | 1 | 206 | otros   |\n",
       "| 6 | 1 | 2 | 1 | 3 | 3 | 1 | 32 | 2 | 2 | 8 | ⋯ |  2 |  1500 |  1 |  1 | 1 | 1 | 2 | 1 | 206 | ocupada |\n",
       "\n"
      ],
      "text/plain": [
       "  folio viv_sel hogar n_ren paren sexo edad p2_5 p2_6 niv ⋯ p3_3 p3_4  p3_4a\n",
       "1 1     1       1     1     1     1    61   2    1    3   ⋯  4   99888 NA   \n",
       "2 1     1       1     4     7     2    64   2    2    3   ⋯ NA      NA NA   \n",
       "3 1     1       1     2     7     2    67   2    1    2   ⋯  4    3500  3   \n",
       "4 1     2       1     1     1     1    74   2    2    2   ⋯  4    3000  1   \n",
       "5 1     2       1     2     2     2    72   2    2    2   ⋯ NA      NA NA   \n",
       "6 1     2       1     3     3     1    32   2    2    8   ⋯  2    1500  1   \n",
       "  p3_5 ent tloc est_dis upm_dis factor po     \n",
       "1  4   1   1    2       1       206    ocupada\n",
       "2 NA   1   1    2       1       206    otros  \n",
       "3  4   1   1    2       1       206    ocupada\n",
       "4  4   1   1    2       1       206    ocupada\n",
       "5 NA   1   1    2       1       206    otros  \n",
       "6  1   1   1    2       1       206    ocupada"
      ]
     },
     "metadata": {},
     "output_type": "display_data"
    }
   ],
   "source": [
    "demog <- read.csv(\"envi/Bases de datos/TSDEM.csv\") %>%\n",
    "  janitor::clean_names() %>%\n",
    "  # Clasificar población ocupada\n",
    "  mutate(po = case_when(\n",
    "    p3_1 %in% c(1, 2) ~ \"ocupada\",\n",
    "    !(p3_1 %in% c(1, 2)) & p3_2 %in% c(1, 2, 3) ~ \"ocupada\",\n",
    "    TRUE ~ \"otros\"\n",
    "  ))\n",
    "\n",
    "head(demog)"
   ]
  },
  {
   "cell_type": "code",
   "execution_count": 21,
   "id": "3a3353d0",
   "metadata": {
    "vscode": {
     "languageId": "r"
    }
   },
   "outputs": [
    {
     "name": "stdout",
     "output_type": "stream",
     "text": [
      "'data.frame':\t202595 obs. of  24 variables:\n",
      " $ folio  : int  1 1 1 1 1 1 1 1 1 1 ...\n",
      " $ viv_sel: int  1 1 1 2 2 2 3 4 4 4 ...\n",
      " $ hogar  : int  1 1 1 1 1 1 1 1 1 1 ...\n",
      " $ n_ren  : int  1 4 2 1 2 3 1 1 2 3 ...\n",
      " $ paren  : int  1 7 7 1 2 3 1 1 2 3 ...\n",
      " $ sexo   : int  1 2 2 1 2 1 2 2 1 2 ...\n",
      " $ edad   : int  61 64 67 74 72 32 57 55 74 23 ...\n",
      " $ p2_5   : int  2 2 2 2 2 2 2 2 2 2 ...\n",
      " $ p2_6   : int  1 2 1 2 2 2 1 2 2 2 ...\n",
      " $ niv    : int  3 3 2 2 2 8 8 4 3 8 ...\n",
      " $ gra    : int  3 3 6 6 6 2 5 3 3 2 ...\n",
      " $ p2_8   : int  6 5 6 5 5 6 3 5 5 6 ...\n",
      " $ p3_1   : int  2 4 2 1 6 1 1 6 4 5 ...\n",
      " $ p3_2   : int  NA 4 NA NA 4 NA NA 4 4 4 ...\n",
      " $ p3_3   : int  4 NA 4 4 NA 2 4 NA NA NA ...\n",
      " $ p3_4   : int  99888 NA 3500 3000 NA 1500 99888 NA NA NA ...\n",
      " $ p3_4a  : int  NA NA 3 1 NA 1 NA NA NA NA ...\n",
      " $ p3_5   : int  4 NA 4 4 NA 1 4 NA NA NA ...\n",
      " $ ent    : int  1 1 1 1 1 1 1 1 1 1 ...\n",
      " $ tloc   : int  1 1 1 1 1 1 1 1 1 1 ...\n",
      " $ est_dis: int  2 2 2 2 2 2 2 2 2 2 ...\n",
      " $ upm_dis: int  1 1 1 1 1 1 1 1 1 1 ...\n",
      " $ factor : int  206 206 206 206 206 206 206 206 206 206 ...\n",
      " $ po     : chr  \"ocupada\" \"otros\" \"ocupada\" \"ocupada\" ...\n"
     ]
    }
   ],
   "source": [
    "str(demog)"
   ]
  },
  {
   "cell_type": "code",
   "execution_count": 22,
   "id": "44e073e2",
   "metadata": {
    "vscode": {
     "languageId": "r"
    }
   },
   "outputs": [],
   "source": [
    "options(survey.lonely.psu=\"certainty\")\n",
    "\n",
    "dm<-demog%>%\n",
    "as_survey_design(\n",
    "id=upm_dis,\n",
    "strata=est_dis,\n",
    "weights=factor)"
   ]
  },
  {
   "cell_type": "code",
   "execution_count": null,
   "id": "89fa0866",
   "metadata": {
    "vscode": {
     "languageId": "r"
    }
   },
   "outputs": [
    {
     "name": "stdout",
     "output_type": "stream",
     "text": [
      "[1] \"Población ocupada total en CDMX\"\n"
     ]
    },
    {
     "data": {
      "text/html": [
       "<table class=\"dataframe\">\n",
       "<caption>A tibble: 1 × 2</caption>\n",
       "<thead>\n",
       "\t<tr><th scope=col>pob</th><th scope=col>pob_cv</th></tr>\n",
       "\t<tr><th scope=col>&lt;dbl&gt;</th><th scope=col>&lt;dbl&gt;</th></tr>\n",
       "</thead>\n",
       "<tbody>\n",
       "\t<tr><td>4493232</td><td>0.02524955</td></tr>\n",
       "</tbody>\n",
       "</table>\n"
      ],
      "text/latex": [
       "A tibble: 1 × 2\n",
       "\\begin{tabular}{ll}\n",
       " pob & pob\\_cv\\\\\n",
       " <dbl> & <dbl>\\\\\n",
       "\\hline\n",
       "\t 4493232 & 0.02524955\\\\\n",
       "\\end{tabular}\n"
      ],
      "text/markdown": [
       "\n",
       "A tibble: 1 × 2\n",
       "\n",
       "| pob &lt;dbl&gt; | pob_cv &lt;dbl&gt; |\n",
       "|---|---|\n",
       "| 4493232 | 0.02524955 |\n",
       "\n"
      ],
      "text/plain": [
       "  pob     pob_cv    \n",
       "1 4493232 0.02524955"
      ]
     },
     "metadata": {},
     "output_type": "display_data"
    }
   ],
   "source": [
    "#Población ocupada total\n",
    "print(\"Población ocupada total en CDMX\")\n",
    "dm%>%\n",
    "filter(ent==9)%>%\n",
    "#Filtro de edad\n",
    "filter(edad >= 15 & edad <= 98)%>%\n",
    "#Filtrar ocupadas\n",
    "filter(po==\"ocupada\")%>%\n",
    "summarise(pob=survey_total(vartype=\"cv\"))"
   ]
  },
  {
   "cell_type": "code",
   "execution_count": 38,
   "id": "3ddda9be",
   "metadata": {
    "vscode": {
     "languageId": "r"
    }
   },
   "outputs": [
    {
     "name": "stdout",
     "output_type": "stream",
     "text": [
      "[1] \"Población ocupada por acceso a financiamiento en CDMX\"\n"
     ]
    },
    {
     "data": {
      "text/html": [
       "<table class=\"dataframe\">\n",
       "<caption>A tibble: 6 × 5</caption>\n",
       "<thead>\n",
       "\t<tr><th scope=col>p3_5</th><th scope=col>pob</th><th scope=col>pob_cv</th><th scope=col>pct</th><th scope=col>pct_cv</th></tr>\n",
       "\t<tr><th scope=col>&lt;int&gt;</th><th scope=col>&lt;dbl&gt;</th><th scope=col>&lt;dbl&gt;</th><th scope=col>&lt;dbl&gt;</th><th scope=col>&lt;dbl&gt;</th></tr>\n",
       "</thead>\n",
       "<tbody>\n",
       "\t<tr><td> 1</td><td>1310763</td><td>0.04609662</td><td>29.2</td><td>0.03839378</td></tr>\n",
       "\t<tr><td> 2</td><td> 372112</td><td>0.07796306</td><td> 8.3</td><td>0.07618376</td></tr>\n",
       "\t<tr><td> 3</td><td>  27671</td><td>0.28183921</td><td> 0.6</td><td>0.27904723</td></tr>\n",
       "\t<tr><td> 4</td><td>2599716</td><td>0.03285925</td><td>57.9</td><td>0.02111515</td></tr>\n",
       "\t<tr><td> 9</td><td> 112071</td><td>0.15804322</td><td> 2.5</td><td>0.15454070</td></tr>\n",
       "\t<tr><td>NA</td><td>  70899</td><td>0.17879863</td><td> 1.6</td><td>0.17498943</td></tr>\n",
       "</tbody>\n",
       "</table>\n"
      ],
      "text/latex": [
       "A tibble: 6 × 5\n",
       "\\begin{tabular}{lllll}\n",
       " p3\\_5 & pob & pob\\_cv & pct & pct\\_cv\\\\\n",
       " <int> & <dbl> & <dbl> & <dbl> & <dbl>\\\\\n",
       "\\hline\n",
       "\t  1 & 1310763 & 0.04609662 & 29.2 & 0.03839378\\\\\n",
       "\t  2 &  372112 & 0.07796306 &  8.3 & 0.07618376\\\\\n",
       "\t  3 &   27671 & 0.28183921 &  0.6 & 0.27904723\\\\\n",
       "\t  4 & 2599716 & 0.03285925 & 57.9 & 0.02111515\\\\\n",
       "\t  9 &  112071 & 0.15804322 &  2.5 & 0.15454070\\\\\n",
       "\t NA &   70899 & 0.17879863 &  1.6 & 0.17498943\\\\\n",
       "\\end{tabular}\n"
      ],
      "text/markdown": [
       "\n",
       "A tibble: 6 × 5\n",
       "\n",
       "| p3_5 &lt;int&gt; | pob &lt;dbl&gt; | pob_cv &lt;dbl&gt; | pct &lt;dbl&gt; | pct_cv &lt;dbl&gt; |\n",
       "|---|---|---|---|---|\n",
       "|  1 | 1310763 | 0.04609662 | 29.2 | 0.03839378 |\n",
       "|  2 |  372112 | 0.07796306 |  8.3 | 0.07618376 |\n",
       "|  3 |   27671 | 0.28183921 |  0.6 | 0.27904723 |\n",
       "|  4 | 2599716 | 0.03285925 | 57.9 | 0.02111515 |\n",
       "|  9 |  112071 | 0.15804322 |  2.5 | 0.15454070 |\n",
       "| NA |   70899 | 0.17879863 |  1.6 | 0.17498943 |\n",
       "\n"
      ],
      "text/plain": [
       "  p3_5 pob     pob_cv     pct  pct_cv    \n",
       "1  1   1310763 0.04609662 29.2 0.03839378\n",
       "2  2    372112 0.07796306  8.3 0.07618376\n",
       "3  3     27671 0.28183921  0.6 0.27904723\n",
       "4  4   2599716 0.03285925 57.9 0.02111515\n",
       "5  9    112071 0.15804322  2.5 0.15454070\n",
       "6 NA     70899 0.17879863  1.6 0.17498943"
      ]
     },
     "metadata": {},
     "output_type": "display_data"
    }
   ],
   "source": [
    "#Población ocupada por acceso a financiamiento\n",
    "print(\"Población ocupada por acceso a financiamiento en CDMX\")\n",
    "dm%>%\n",
    "filter(ent==9)%>%\n",
    "#Filtro de edad\n",
    "filter(edad >= 15 & edad <= 98)%>%\n",
    "filter(po==\"ocupada\")%>%\n",
    "#Agrupar por acceso a financiamiento\n",
    "group_by(p3_5)%>%\n",
    "\n",
    "summarise(pob=survey_total(vartype=\"cv\"),\n",
    "pct=survey_prop(vartype = \"cv\"))%>%\n",
    "mutate(pct = round(pct * 100,1))"
   ]
  }
 ],
 "metadata": {
  "kernelspec": {
   "display_name": "R",
   "language": "R",
   "name": "ir"
  },
  "language_info": {
   "codemirror_mode": "r",
   "file_extension": ".r",
   "mimetype": "text/x-r-source",
   "name": "R",
   "pygments_lexer": "r",
   "version": "4.4.1"
  }
 },
 "nbformat": 4,
 "nbformat_minor": 5
}
