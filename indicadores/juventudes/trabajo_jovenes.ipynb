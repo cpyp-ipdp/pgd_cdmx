{
 "cells": [
  {
   "cell_type": "code",
   "execution_count": 2,
   "id": "2ccf7bf4",
   "metadata": {
    "vscode": {
     "languageId": "r"
    }
   },
   "outputs": [
    {
     "name": "stderr",
     "output_type": "stream",
     "text": [
      "Using GitHub PAT from the git credential store.\n",
      "\n",
      "Downloading GitHub repo cpyp-ipdp/funcionespgd@HEAD\n",
      "\n"
     ]
    },
    {
     "name": "stdout",
     "output_type": "stream",
     "text": [
      "rlang  (1.1.4 -> 1.1.6) [CRAN]\n",
      "glue   (1.7.0 -> 1.8.0) [CRAN]\n",
      "cli    (3.6.3 -> 3.6.5) [CRAN]\n",
      "tibble (3.2.1 -> 3.3.0) [CRAN]\n"
     ]
    },
    {
     "name": "stderr",
     "output_type": "stream",
     "text": [
      "Installing 4 packages: rlang, glue, cli, tibble\n",
      "\n",
      "Warning message:\n",
      "\"package 'tibble' is in use and will not be installed\"\n",
      "Installing packages into 'C:/Users/claud/AppData/Local/R/win-library/4.4'\n",
      "(as 'lib' is unspecified)\n",
      "\n"
     ]
    },
    {
     "name": "stdout",
     "output_type": "stream",
     "text": [
      "package 'rlang' successfully unpacked and MD5 sums checked\n"
     ]
    },
    {
     "name": "stderr",
     "output_type": "stream",
     "text": [
      "Warning message:\n",
      "\"cannot remove prior installation of package 'rlang'\"\n",
      "Warning message in file.copy(savedcopy, lib, recursive = TRUE):\n",
      "\"problema al copiar C:\\Users\\claud\\AppData\\Local\\R\\win-library\\4.4\\00LOCK\\rlang\\libs\\x64\\rlang.dll  a C:\\Users\\claud\\AppData\\Local\\R\\win-library\\4.4\\rlang\\libs\\x64\\rlang.dll: Permission denied\"\n",
      "Warning message:\n",
      "\"restored 'rlang'\"\n"
     ]
    },
    {
     "name": "stdout",
     "output_type": "stream",
     "text": [
      "package 'glue' successfully unpacked and MD5 sums checked\n"
     ]
    },
    {
     "name": "stderr",
     "output_type": "stream",
     "text": [
      "Warning message:\n",
      "\"cannot remove prior installation of package 'glue'\"\n",
      "Warning message in file.copy(savedcopy, lib, recursive = TRUE):\n",
      "\"problema al copiar C:\\Users\\claud\\AppData\\Local\\R\\win-library\\4.4\\00LOCK\\glue\\libs\\x64\\glue.dll  a C:\\Users\\claud\\AppData\\Local\\R\\win-library\\4.4\\glue\\libs\\x64\\glue.dll: Permission denied\"\n",
      "Warning message:\n",
      "\"restored 'glue'\"\n"
     ]
    },
    {
     "name": "stdout",
     "output_type": "stream",
     "text": [
      "package 'cli' successfully unpacked and MD5 sums checked\n"
     ]
    },
    {
     "name": "stderr",
     "output_type": "stream",
     "text": [
      "Warning message:\n",
      "\"cannot remove prior installation of package 'cli'\"\n",
      "Warning message in file.copy(savedcopy, lib, recursive = TRUE):\n",
      "\"problema al copiar C:\\Users\\claud\\AppData\\Local\\R\\win-library\\4.4\\00LOCK\\cli\\libs\\x64\\cli.dll  a C:\\Users\\claud\\AppData\\Local\\R\\win-library\\4.4\\cli\\libs\\x64\\cli.dll: Permission denied\"\n",
      "Warning message:\n",
      "\"restored 'cli'\"\n"
     ]
    },
    {
     "name": "stdout",
     "output_type": "stream",
     "text": [
      "\n",
      "The downloaded binary packages are in\n",
      "\tC:\\Users\\claud\\AppData\\Local\\Temp\\Rtmpi2Q5Un\\downloaded_packages\n",
      "\u001b[36m──\u001b[39m \u001b[36mR CMD build\u001b[39m \u001b[36m─────────────────────────────────────────────────────────────────\u001b[39m\n",
      "* checking for file 'C:\\Users\\claud\\AppData\\Local\\Temp\\Rtmpi2Q5Un\\remotes96fc1a4c1dfd\\cpyp-ipdp-funcionespgd-6fd64b9/DESCRIPTION' ... OK\n",
      "* preparing 'funcionespgd':\n",
      "* checking DESCRIPTION meta-information ... OK\n",
      "* checking for LF line-endings in source and make files and shell scripts\n",
      "* checking for empty or unneeded directories\n",
      "Omitted 'LazyData' from DESCRIPTION\n",
      "* building 'funcionespgd_0.1.0.tar.gz'\n",
      "\n"
     ]
    },
    {
     "name": "stderr",
     "output_type": "stream",
     "text": [
      "Installing package into 'C:/Users/claud/AppData/Local/R/win-library/4.4'\n",
      "(as 'lib' is unspecified)\n",
      "\n"
     ]
    }
   ],
   "source": [
    "rm(list=ls())\n",
    "\n",
    "# Librerías ====\n",
    "if(!require('pacman')) install.packages('pacman')\n",
    "pacman::p_load(tidyverse, showtext, srvyr,httr,utils)\n",
    "remotes::install_github(\"cpyp-ipdp/funcionespgd\", force = TRUE)\n",
    "library(funcionespgd)\n",
    "font_add_google(\"Poppins\", \"pop\")\n",
    "showtext_auto()"
   ]
  },
  {
   "cell_type": "code",
   "execution_count": 3,
   "id": "54d88e66",
   "metadata": {
    "vscode": {
     "languageId": "r"
    }
   },
   "outputs": [
    {
     "data": {
      "text/html": [
       "'c:/Users/claud/Documents/GitHub/pgd_cdmx/indicadores/juventudes'"
      ],
      "text/latex": [
       "'c:/Users/claud/Documents/GitHub/pgd\\_cdmx/indicadores/juventudes'"
      ],
      "text/markdown": [
       "'c:/Users/claud/Documents/GitHub/pgd_cdmx/indicadores/juventudes'"
      ],
      "text/plain": [
       "[1] \"c:/Users/claud/Documents/GitHub/pgd_cdmx/indicadores/juventudes\""
      ]
     },
     "metadata": {},
     "output_type": "display_data"
    }
   ],
   "source": [
    "getwd()"
   ]
  },
  {
   "cell_type": "code",
   "execution_count": 4,
   "id": "cdba1618",
   "metadata": {
    "vscode": {
     "languageId": "r"
    }
   },
   "outputs": [],
   "source": [
    "# Función para descargar los datos de la ENOE en formato CSV\n",
    "descargar_enoe_csv <- function() {\n",
    "  # Crear directorio de trabajo si no existe\n",
    "  if (!dir.exists(\"datos\")) {\n",
    "    dir.create(\"datos\")\n",
    "  }\n",
    "  if (!dir.exists(\"datos/enoe\")) {\n",
    "    dir.create(\"datos/enoe\")\n",
    "  }\n",
    "\n",
    "  # Cambiar al directorio de trabajo\n",
    "  setwd(\"datos/enoe\")\n",
    "\n",
    "  # Función para descargar y extraer archivos\n",
    "  descargar_extraer <- function(url) {\n",
    "    temp <- tempfile()\n",
    "    download.file(url, temp, mode = \"wb\")\n",
    "    unzip(temp)\n",
    "    unlink(temp)\n",
    "  }\n",
    "\n",
    "  # Descargar datos de 2005 a 2009\n",
    "  for (i in 7:9) {\n",
    "    url <- paste0(\"https://www.inegi.org.mx/contenidos/programas/enoe/15ymas/microdatos/200\", i, \"trim4_csv.zip\")\n",
    "    descargar_extraer(url)\n",
    "  }\n",
    "\n",
    "  # Descargar datos de 2010 a 2019\n",
    "  for (i in 10:19) {\n",
    "    url <- paste0(\"https://www.inegi.org.mx/contenidos/programas/enoe/15ymas/microdatos/20\", i, \"trim4_csv.zip\")\n",
    "    print(url)\n",
    "    descargar_extraer(url)\n",
    "  }\n",
    "\n",
    "  # Descargar datos de 2020\n",
    "  for (i in 20:20) {\n",
    "    url <- paste0(\"https://www.inegi.org.mx/contenidos/programas/enoe/15ymas/microdatos/enoe_n_20\", i, \"_trim4_csv.zip\")\n",
    "    descargar_extraer(url)\n",
    "  }\n",
    "\n",
    "  # Descargar datos de 2021 a 2022\n",
    "  for (i in 21:22) {\n",
    "    url <- paste0(\"https://www.inegi.org.mx/contenidos/programas/enoe/15ymas/microdatos/enoe_n_20\", i, \"_trim4_csv.zip\")\n",
    "    descargar_extraer(url)\n",
    "  }\n",
    "\n",
    "  # Descargar datos de 2023\n",
    "  for (i in 23:24) {\n",
    "    url <- paste0(\"https://www.inegi.org.mx/contenidos/programas/enoe/15ymas/microdatos/enoe_20\", i, \"_trim4_csv.zip\")\n",
    "    descargar_extraer(url)\n",
    "  }\n",
    "\n",
    "  # Eliminar archivos innecesarios (conservar solo SDEMT y COE1T)\n",
    "  # Listar archivos con extensión .csv, sin importar mayúsculas/minúsculas\n",
    "  archivos <- list.files(pattern = \"\\\\.csv$\", ignore.case = TRUE)\n",
    "\n",
    "  # Lista de archivos a eliminar (que NO contienen \"SDEMT\" o \"COE1T\", sin importar mayúsculas/minúsculas)\n",
    "  archivos_a_eliminar <- archivos[!grepl(\"sdemt|coe1t\", archivos, ignore.case = TRUE)]\n",
    "  file.remove(archivos_a_eliminar)\n",
    "\n",
    "  # Eliminar archivo zip (si existe)\n",
    "  if (file.exists(\"archivos.zip\")) {\n",
    "    file.remove(\"archivos.zip\")\n",
    "  }\n",
    "\n",
    "  # Regresar al directorio original\n",
    "  setwd(\"../..\")\n",
    "}"
   ]
  },
  {
   "cell_type": "code",
   "execution_count": 5,
   "id": "ffcee617",
   "metadata": {
    "vscode": {
     "languageId": "r"
    }
   },
   "outputs": [],
   "source": [
    "# Función para extraer el año desde el nombre del archivo\n",
    "extraer_anio <- function(path) {\n",
    "  anio_str <- str_extract(path, \"\\\\d{2}(?=\\\\D*$)\") # Extrae los últimos dos dígitos del año\n",
    "  anio <- as.numeric(paste0(\"20\", anio_str)) # Convierte a formato 20XX\n",
    "  return(anio)\n",
    "}"
   ]
  },
  {
   "cell_type": "code",
   "execution_count": 6,
   "id": "f8e16390",
   "metadata": {
    "vscode": {
     "languageId": "r"
    }
   },
   "outputs": [
    {
     "name": "stdout",
     "output_type": "stream",
     "text": [
      "[1] \"https://www.inegi.org.mx/contenidos/programas/enoe/15ymas/microdatos/2010trim4_csv.zip\"\n",
      "[1] \"https://www.inegi.org.mx/contenidos/programas/enoe/15ymas/microdatos/2011trim4_csv.zip\"\n",
      "[1] \"https://www.inegi.org.mx/contenidos/programas/enoe/15ymas/microdatos/2012trim4_csv.zip\"\n",
      "[1] \"https://www.inegi.org.mx/contenidos/programas/enoe/15ymas/microdatos/2013trim4_csv.zip\"\n",
      "[1] \"https://www.inegi.org.mx/contenidos/programas/enoe/15ymas/microdatos/2014trim4_csv.zip\"\n",
      "[1] \"https://www.inegi.org.mx/contenidos/programas/enoe/15ymas/microdatos/2015trim4_csv.zip\"\n",
      "[1] \"https://www.inegi.org.mx/contenidos/programas/enoe/15ymas/microdatos/2016trim4_csv.zip\"\n",
      "[1] \"https://www.inegi.org.mx/contenidos/programas/enoe/15ymas/microdatos/2017trim4_csv.zip\"\n",
      "[1] \"https://www.inegi.org.mx/contenidos/programas/enoe/15ymas/microdatos/2018trim4_csv.zip\"\n",
      "[1] \"https://www.inegi.org.mx/contenidos/programas/enoe/15ymas/microdatos/2019trim4_csv.zip\"\n"
     ]
    }
   ],
   "source": [
    "options(timeout = 300)\n",
    "descargar_enoe_csv()"
   ]
  },
  {
   "cell_type": "code",
   "execution_count": 7,
   "id": "e3c23912",
   "metadata": {
    "vscode": {
     "languageId": "r"
    }
   },
   "outputs": [],
   "source": [
    "indicadores_jovenes<-function(archivo, variable){\n",
    "  year <- extraer_anio(archivo)\n",
    "  data <- read_csv(archivo, show_col_types = FALSE) %>%\n",
    "    janitor::clean_names()%>%\n",
    "     #Crear grupos de edad\n",
    "mutate(gpoedad=case_when(eda>=15 & eda<=29 ~ \"jovenes\",\n",
    "TRUE ~ \"otros\"), \n",
    "#Añadir el año\n",
    "year = year) \n",
    "\n",
    "#Crea diseño muestral\n",
    "\n",
    "  # Crear diseño de encuesta\n",
    "  options(survey.lonely.psu = \"certainty\")\n",
    "  if (year <= 2019) {\n",
    "    dm <- data %>%\n",
    "      as_survey_design(\n",
    "        ids = upm,\n",
    "        strata = est_d,\n",
    "        weights = fac,\n",
    "        nest = TRUE\n",
    "      )\n",
    "  } else {\n",
    "    dm <- data %>%\n",
    "      as_survey_design(\n",
    "        ids = upm,\n",
    "        strata = est_d_tri,\n",
    "        weights = fac_tri,\n",
    "        nest = TRUE\n",
    "      )\n",
    "  }\n",
    "\n",
    "\n",
    "\n",
    "  ##Obtener resultados\n",
    "\n",
    "  resultado<-if (variable==\"ocupados\") {\n",
    "   dm%>%\n",
    "filter(r_def ==00, (c_res == 1 | c_res == 3),\n",
    "         eda >= 15  & eda <= 98) %>%\n",
    "filter(ent == 9, clase2 == 1) %>%\n",
    "group_by(gpoedad) %>%\n",
    "summarize(ocupados = survey_total(vartype=\"cv\"),\n",
    "pct= survey_prop( vartype=\"cv\")) %>%\n",
    "ungroup() %>%\n",
    "mutate(pct = pct*100)%>%\n",
    "filter(gpoedad == \"jovenes\")%>%\n",
    "mutate(year = year)\n",
    "  } \n",
    "\n",
    "else if (variable == \"desocupados\") {\n",
    "  dm%>%\n",
    "filter(r_def ==00, (c_res == 1 | c_res == 3),\n",
    "         eda >= 15  & eda <= 98) %>%\n",
    "filter(ent == 9) %>%\n",
    "group_by(gpoedad,clase2) %>%\n",
    "summarize(desocupados = survey_total(vartype=\"cv\"),\n",
    "          pct = survey_prop(vartype=\"cv\")) %>%\n",
    "ungroup() %>%\n",
    "mutate(pct = pct*100)%>%\n",
    "#Filtrar desocupados\n",
    "filter(clase2 == 2) %>%\n",
    "filter(gpoedad == \"jovenes\") %>%\n",
    "mutate(year = year)\n",
    "}\n",
    "\n",
    "\n",
    "else if (variable==\"informal\"){\n",
    "\n",
    "dm%>%\n",
    "filter(r_def ==00, (c_res == 1 | c_res == 3),\n",
    "         eda >= 15  & eda <= 98) %>%\n",
    "filter(ent == 9, clase2 == 1) %>%\n",
    "mutate(condinf=\n",
    "case_when(mh_col %in% c(1,3,5,7,9) ~ \"condiciones de informalidad\",\n",
    "TRUE ~ \"condiciones de formalidad\")) %>% \n",
    "group_by(gpoedad,condinf) %>%\n",
    "summarize(ocupados = survey_total(vartype=\"cv\"),\n",
    "pct= survey_prop( vartype=\"cv\")) %>%\n",
    "ungroup() %>%\n",
    "mutate(pct = pct*100) %>%\n",
    "filter(gpoedad == \"jovenes\")%>%\n",
    "filter(condinf==\"condiciones de informalidad\") %>%\n",
    "mutate(year=year)\n",
    "\n",
    "  \n",
    "}\n",
    "\n",
    "\n",
    "\n",
    "else if (variable==\"criticas\"){\n",
    "\n",
    "dm%>%\n",
    "filter(r_def ==00, (c_res == 1 | c_res == 3),\n",
    "         eda >= 15  & eda <= 98) %>%\n",
    "filter(ent == 9, clase2 == 1) %>%\n",
    "mutate(concrit=case_when(tcco ==0 ~ \"Normales\",\n",
    "TRUE ~ \"Criticas\")) %>%\n",
    "group_by(gpoedad,concrit) %>%\n",
    "summarize(ocupados = survey_total(vartype=\"cv\"),\n",
    "pct= survey_prop( vartype=\"cv\")) %>%\n",
    "ungroup() %>%\n",
    "mutate(pct = pct*100) %>%\n",
    "filter(gpoedad == \"jovenes\")%>%\n",
    "filter(concrit==\"Criticas\") %>%\n",
    "mutate(year=year)\n",
    "\n",
    "}\n",
    "\n",
    "\n",
    "\n",
    "else {\n",
    "    stop(\"El parámetro 'variable' debe ser 'ocupado', 'desocupado', 'informal' o 'criticas'\")\n",
    "  }\n",
    "\n",
    "  return(resultado)\n",
    "}"
   ]
  },
  {
   "cell_type": "code",
   "execution_count": 8,
   "id": "b175cae4",
   "metadata": {
    "vscode": {
     "languageId": "r"
    }
   },
   "outputs": [],
   "source": [
    "lista_archivos <- list.files(path = \"datos/enoe\", full.names = TRUE)\n",
    "archivos_sdemt <- lista_archivos[str_detect(lista_archivos, regex(\"sdemt\", ignore_case = TRUE))]"
   ]
  },
  {
   "cell_type": "code",
   "execution_count": 9,
   "id": "5f93fd86",
   "metadata": {
    "vscode": {
     "languageId": "r"
    }
   },
   "outputs": [
    {
     "data": {
      "text/html": [
       "<table class=\"dataframe\">\n",
       "<caption>A tibble: 18 × 2</caption>\n",
       "<thead>\n",
       "\t<tr><th scope=col>sdemt</th><th scope=col>year</th></tr>\n",
       "\t<tr><th scope=col>&lt;chr&gt;</th><th scope=col>&lt;int&gt;</th></tr>\n",
       "</thead>\n",
       "<tbody>\n",
       "\t<tr><td>datos/enoe/SDEMT407.csv      </td><td>2007</td></tr>\n",
       "\t<tr><td>datos/enoe/SDEMT408.csv      </td><td>2008</td></tr>\n",
       "\t<tr><td>datos/enoe/SDEMT409.csv      </td><td>2009</td></tr>\n",
       "\t<tr><td>datos/enoe/SDEMT410.csv      </td><td>2010</td></tr>\n",
       "\t<tr><td>datos/enoe/SDEMT411.csv      </td><td>2011</td></tr>\n",
       "\t<tr><td>datos/enoe/sdemt412.csv      </td><td>2012</td></tr>\n",
       "\t<tr><td>datos/enoe/sdemt413.csv      </td><td>2013</td></tr>\n",
       "\t<tr><td>datos/enoe/SDEMT414.csv      </td><td>2014</td></tr>\n",
       "\t<tr><td>datos/enoe/SDEMT415.csv      </td><td>2015</td></tr>\n",
       "\t<tr><td>datos/enoe/SDEMT416.csv      </td><td>2016</td></tr>\n",
       "\t<tr><td>datos/enoe/SDEMT417.csv      </td><td>2017</td></tr>\n",
       "\t<tr><td>datos/enoe/SDEMT418.csv      </td><td>2018</td></tr>\n",
       "\t<tr><td>datos/enoe/sdemt419.csv      </td><td>2019</td></tr>\n",
       "\t<tr><td>datos/enoe/ENOEN_SDEMT420.csv</td><td>2020</td></tr>\n",
       "\t<tr><td>datos/enoe/ENOEN_SDEMT421.csv</td><td>2021</td></tr>\n",
       "\t<tr><td>datos/enoe/ENOEN_SDEMT422.csv</td><td>2022</td></tr>\n",
       "\t<tr><td>datos/enoe/ENOE_SDEMT423.csv </td><td>2023</td></tr>\n",
       "\t<tr><td>datos/enoe/ENOE_SDEMT424.csv </td><td>2024</td></tr>\n",
       "</tbody>\n",
       "</table>\n"
      ],
      "text/latex": [
       "A tibble: 18 × 2\n",
       "\\begin{tabular}{ll}\n",
       " sdemt & year\\\\\n",
       " <chr> & <int>\\\\\n",
       "\\hline\n",
       "\t datos/enoe/SDEMT407.csv       & 2007\\\\\n",
       "\t datos/enoe/SDEMT408.csv       & 2008\\\\\n",
       "\t datos/enoe/SDEMT409.csv       & 2009\\\\\n",
       "\t datos/enoe/SDEMT410.csv       & 2010\\\\\n",
       "\t datos/enoe/SDEMT411.csv       & 2011\\\\\n",
       "\t datos/enoe/sdemt412.csv       & 2012\\\\\n",
       "\t datos/enoe/sdemt413.csv       & 2013\\\\\n",
       "\t datos/enoe/SDEMT414.csv       & 2014\\\\\n",
       "\t datos/enoe/SDEMT415.csv       & 2015\\\\\n",
       "\t datos/enoe/SDEMT416.csv       & 2016\\\\\n",
       "\t datos/enoe/SDEMT417.csv       & 2017\\\\\n",
       "\t datos/enoe/SDEMT418.csv       & 2018\\\\\n",
       "\t datos/enoe/sdemt419.csv       & 2019\\\\\n",
       "\t datos/enoe/ENOEN\\_SDEMT420.csv & 2020\\\\\n",
       "\t datos/enoe/ENOEN\\_SDEMT421.csv & 2021\\\\\n",
       "\t datos/enoe/ENOEN\\_SDEMT422.csv & 2022\\\\\n",
       "\t datos/enoe/ENOE\\_SDEMT423.csv  & 2023\\\\\n",
       "\t datos/enoe/ENOE\\_SDEMT424.csv  & 2024\\\\\n",
       "\\end{tabular}\n"
      ],
      "text/markdown": [
       "\n",
       "A tibble: 18 × 2\n",
       "\n",
       "| sdemt &lt;chr&gt; | year &lt;int&gt; |\n",
       "|---|---|\n",
       "| datos/enoe/SDEMT407.csv       | 2007 |\n",
       "| datos/enoe/SDEMT408.csv       | 2008 |\n",
       "| datos/enoe/SDEMT409.csv       | 2009 |\n",
       "| datos/enoe/SDEMT410.csv       | 2010 |\n",
       "| datos/enoe/SDEMT411.csv       | 2011 |\n",
       "| datos/enoe/sdemt412.csv       | 2012 |\n",
       "| datos/enoe/sdemt413.csv       | 2013 |\n",
       "| datos/enoe/SDEMT414.csv       | 2014 |\n",
       "| datos/enoe/SDEMT415.csv       | 2015 |\n",
       "| datos/enoe/SDEMT416.csv       | 2016 |\n",
       "| datos/enoe/SDEMT417.csv       | 2017 |\n",
       "| datos/enoe/SDEMT418.csv       | 2018 |\n",
       "| datos/enoe/sdemt419.csv       | 2019 |\n",
       "| datos/enoe/ENOEN_SDEMT420.csv | 2020 |\n",
       "| datos/enoe/ENOEN_SDEMT421.csv | 2021 |\n",
       "| datos/enoe/ENOEN_SDEMT422.csv | 2022 |\n",
       "| datos/enoe/ENOE_SDEMT423.csv  | 2023 |\n",
       "| datos/enoe/ENOE_SDEMT424.csv  | 2024 |\n",
       "\n"
      ],
      "text/plain": [
       "   sdemt                         year\n",
       "1  datos/enoe/SDEMT407.csv       2007\n",
       "2  datos/enoe/SDEMT408.csv       2008\n",
       "3  datos/enoe/SDEMT409.csv       2009\n",
       "4  datos/enoe/SDEMT410.csv       2010\n",
       "5  datos/enoe/SDEMT411.csv       2011\n",
       "6  datos/enoe/sdemt412.csv       2012\n",
       "7  datos/enoe/sdemt413.csv       2013\n",
       "8  datos/enoe/SDEMT414.csv       2014\n",
       "9  datos/enoe/SDEMT415.csv       2015\n",
       "10 datos/enoe/SDEMT416.csv       2016\n",
       "11 datos/enoe/SDEMT417.csv       2017\n",
       "12 datos/enoe/SDEMT418.csv       2018\n",
       "13 datos/enoe/sdemt419.csv       2019\n",
       "14 datos/enoe/ENOEN_SDEMT420.csv 2020\n",
       "15 datos/enoe/ENOEN_SDEMT421.csv 2021\n",
       "16 datos/enoe/ENOEN_SDEMT422.csv 2022\n",
       "17 datos/enoe/ENOE_SDEMT423.csv  2023\n",
       "18 datos/enoe/ENOE_SDEMT424.csv  2024"
      ]
     },
     "metadata": {},
     "output_type": "display_data"
    }
   ],
   "source": [
    "# Crear un data frame con los nombres de archivos y sus años\n",
    "df_archivos <- tibble(\n",
    "  sdemt = archivos_sdemt,\n",
    "  year = map_int(archivos_sdemt, extraer_anio)\n",
    ") %>%\n",
    "  \n",
    "  filter(!is.na(sdemt))%>%\n",
    "        arrange(year)\n",
    "df_archivos"
   ]
  },
  {
   "cell_type": "code",
   "execution_count": 10,
   "id": "d5f3549d",
   "metadata": {
    "vscode": {
     "languageId": "r"
    }
   },
   "outputs": [
    {
     "name": "stdout",
     "output_type": "stream",
     "text": [
      "[1] \"Población ocupada joven en la Ciudad de México\"\n"
     ]
    },
    {
     "name": "stderr",
     "output_type": "stream",
     "text": [
      "Warning message:\n",
      "\"\u001b[1m\u001b[22mThere were 6 warnings in `mutate()`.\n",
      "The first warning was:\n",
      "\u001b[1m\u001b[22m\u001b[36mℹ\u001b[39m In argument: `data = map(sdemt, ~indicadores_jovenes(.x, \"ocupados\"))`.\n",
      "Caused by warning:\n",
      "\u001b[33m!\u001b[39m \u001b[1m\u001b[22mOne or more parsing issues, call `problems()` on your data frame for details,\n",
      "e.g.:\n",
      "  dat <- vroom(...)\n",
      "  problems(dat)\n",
      "\u001b[1m\u001b[22m\u001b[36mℹ\u001b[39m Run `dplyr::last_dplyr_warnings()` to see the 5 remaining warnings.\"\n"
     ]
    },
    {
     "data": {
      "text/html": [
       "<table class=\"dataframe\">\n",
       "<caption>A tibble: 18 × 5</caption>\n",
       "<thead>\n",
       "\t<tr><th scope=col>year</th><th scope=col>ocupados</th><th scope=col>ocupados_cv</th><th scope=col>pct</th><th scope=col>pct_cv</th></tr>\n",
       "\t<tr><th scope=col>&lt;dbl&gt;</th><th scope=col>&lt;dbl&gt;</th><th scope=col>&lt;dbl&gt;</th><th scope=col>&lt;dbl&gt;</th><th scope=col>&lt;dbl&gt;</th></tr>\n",
       "</thead>\n",
       "<tbody>\n",
       "\t<tr><td>2007</td><td>1007209</td><td>0.03636647</td><td>25.40</td><td>0.02819938</td></tr>\n",
       "\t<tr><td>2008</td><td> 973784</td><td>0.03582696</td><td>25.33</td><td>0.02923560</td></tr>\n",
       "\t<tr><td>2009</td><td> 975498</td><td>0.03796285</td><td>24.94</td><td>0.03051726</td></tr>\n",
       "\t<tr><td>2010</td><td> 980232</td><td>0.03772471</td><td>25.14</td><td>0.02909084</td></tr>\n",
       "\t<tr><td>2011</td><td>1074304</td><td>0.03482920</td><td>26.06</td><td>0.02741822</td></tr>\n",
       "\t<tr><td>2012</td><td>1067165</td><td>0.03533738</td><td>25.28</td><td>0.02840302</td></tr>\n",
       "\t<tr><td>2013</td><td>1047736</td><td>0.03591792</td><td>24.70</td><td>0.02928420</td></tr>\n",
       "\t<tr><td>2014</td><td> 982598</td><td>0.03797204</td><td>23.75</td><td>0.03078410</td></tr>\n",
       "\t<tr><td>2015</td><td>1029392</td><td>0.03679888</td><td>24.03</td><td>0.03025514</td></tr>\n",
       "\t<tr><td>2016</td><td>1034584</td><td>0.03646065</td><td>24.04</td><td>0.02939048</td></tr>\n",
       "\t<tr><td>2017</td><td>1002186</td><td>0.03888217</td><td>23.27</td><td>0.03405317</td></tr>\n",
       "\t<tr><td>2018</td><td>1036408</td><td>0.03720589</td><td>23.49</td><td>0.03155381</td></tr>\n",
       "\t<tr><td>2019</td><td> 994782</td><td>0.03830386</td><td>22.07</td><td>0.03124782</td></tr>\n",
       "\t<tr><td>2020</td><td> 806837</td><td>0.05763139</td><td>20.74</td><td>0.04631734</td></tr>\n",
       "\t<tr><td>2021</td><td> 992758</td><td>0.04129485</td><td>22.23</td><td>0.03230708</td></tr>\n",
       "\t<tr><td>2022</td><td>1107880</td><td>0.04718925</td><td>23.58</td><td>0.03725024</td></tr>\n",
       "\t<tr><td>2023</td><td> 957468</td><td>0.04374341</td><td>20.56</td><td>0.03606892</td></tr>\n",
       "\t<tr><td>2024</td><td>1057829</td><td>0.03751445</td><td>21.11</td><td>0.03131950</td></tr>\n",
       "</tbody>\n",
       "</table>\n"
      ],
      "text/latex": [
       "A tibble: 18 × 5\n",
       "\\begin{tabular}{lllll}\n",
       " year & ocupados & ocupados\\_cv & pct & pct\\_cv\\\\\n",
       " <dbl> & <dbl> & <dbl> & <dbl> & <dbl>\\\\\n",
       "\\hline\n",
       "\t 2007 & 1007209 & 0.03636647 & 25.40 & 0.02819938\\\\\n",
       "\t 2008 &  973784 & 0.03582696 & 25.33 & 0.02923560\\\\\n",
       "\t 2009 &  975498 & 0.03796285 & 24.94 & 0.03051726\\\\\n",
       "\t 2010 &  980232 & 0.03772471 & 25.14 & 0.02909084\\\\\n",
       "\t 2011 & 1074304 & 0.03482920 & 26.06 & 0.02741822\\\\\n",
       "\t 2012 & 1067165 & 0.03533738 & 25.28 & 0.02840302\\\\\n",
       "\t 2013 & 1047736 & 0.03591792 & 24.70 & 0.02928420\\\\\n",
       "\t 2014 &  982598 & 0.03797204 & 23.75 & 0.03078410\\\\\n",
       "\t 2015 & 1029392 & 0.03679888 & 24.03 & 0.03025514\\\\\n",
       "\t 2016 & 1034584 & 0.03646065 & 24.04 & 0.02939048\\\\\n",
       "\t 2017 & 1002186 & 0.03888217 & 23.27 & 0.03405317\\\\\n",
       "\t 2018 & 1036408 & 0.03720589 & 23.49 & 0.03155381\\\\\n",
       "\t 2019 &  994782 & 0.03830386 & 22.07 & 0.03124782\\\\\n",
       "\t 2020 &  806837 & 0.05763139 & 20.74 & 0.04631734\\\\\n",
       "\t 2021 &  992758 & 0.04129485 & 22.23 & 0.03230708\\\\\n",
       "\t 2022 & 1107880 & 0.04718925 & 23.58 & 0.03725024\\\\\n",
       "\t 2023 &  957468 & 0.04374341 & 20.56 & 0.03606892\\\\\n",
       "\t 2024 & 1057829 & 0.03751445 & 21.11 & 0.03131950\\\\\n",
       "\\end{tabular}\n"
      ],
      "text/markdown": [
       "\n",
       "A tibble: 18 × 5\n",
       "\n",
       "| year &lt;dbl&gt; | ocupados &lt;dbl&gt; | ocupados_cv &lt;dbl&gt; | pct &lt;dbl&gt; | pct_cv &lt;dbl&gt; |\n",
       "|---|---|---|---|---|\n",
       "| 2007 | 1007209 | 0.03636647 | 25.40 | 0.02819938 |\n",
       "| 2008 |  973784 | 0.03582696 | 25.33 | 0.02923560 |\n",
       "| 2009 |  975498 | 0.03796285 | 24.94 | 0.03051726 |\n",
       "| 2010 |  980232 | 0.03772471 | 25.14 | 0.02909084 |\n",
       "| 2011 | 1074304 | 0.03482920 | 26.06 | 0.02741822 |\n",
       "| 2012 | 1067165 | 0.03533738 | 25.28 | 0.02840302 |\n",
       "| 2013 | 1047736 | 0.03591792 | 24.70 | 0.02928420 |\n",
       "| 2014 |  982598 | 0.03797204 | 23.75 | 0.03078410 |\n",
       "| 2015 | 1029392 | 0.03679888 | 24.03 | 0.03025514 |\n",
       "| 2016 | 1034584 | 0.03646065 | 24.04 | 0.02939048 |\n",
       "| 2017 | 1002186 | 0.03888217 | 23.27 | 0.03405317 |\n",
       "| 2018 | 1036408 | 0.03720589 | 23.49 | 0.03155381 |\n",
       "| 2019 |  994782 | 0.03830386 | 22.07 | 0.03124782 |\n",
       "| 2020 |  806837 | 0.05763139 | 20.74 | 0.04631734 |\n",
       "| 2021 |  992758 | 0.04129485 | 22.23 | 0.03230708 |\n",
       "| 2022 | 1107880 | 0.04718925 | 23.58 | 0.03725024 |\n",
       "| 2023 |  957468 | 0.04374341 | 20.56 | 0.03606892 |\n",
       "| 2024 | 1057829 | 0.03751445 | 21.11 | 0.03131950 |\n",
       "\n"
      ],
      "text/plain": [
       "   year ocupados ocupados_cv pct   pct_cv    \n",
       "1  2007 1007209  0.03636647  25.40 0.02819938\n",
       "2  2008  973784  0.03582696  25.33 0.02923560\n",
       "3  2009  975498  0.03796285  24.94 0.03051726\n",
       "4  2010  980232  0.03772471  25.14 0.02909084\n",
       "5  2011 1074304  0.03482920  26.06 0.02741822\n",
       "6  2012 1067165  0.03533738  25.28 0.02840302\n",
       "7  2013 1047736  0.03591792  24.70 0.02928420\n",
       "8  2014  982598  0.03797204  23.75 0.03078410\n",
       "9  2015 1029392  0.03679888  24.03 0.03025514\n",
       "10 2016 1034584  0.03646065  24.04 0.02939048\n",
       "11 2017 1002186  0.03888217  23.27 0.03405317\n",
       "12 2018 1036408  0.03720589  23.49 0.03155381\n",
       "13 2019  994782  0.03830386  22.07 0.03124782\n",
       "14 2020  806837  0.05763139  20.74 0.04631734\n",
       "15 2021  992758  0.04129485  22.23 0.03230708\n",
       "16 2022 1107880  0.04718925  23.58 0.03725024\n",
       "17 2023  957468  0.04374341  20.56 0.03606892\n",
       "18 2024 1057829  0.03751445  21.11 0.03131950"
      ]
     },
     "metadata": {},
     "output_type": "display_data"
    }
   ],
   "source": [
    "print(\"Población ocupada joven en la Ciudad de México\")\n",
    "empleo_joven <- df_archivos %>%\n",
    "  select(-year) %>%\n",
    "  mutate(data = map(sdemt, ~indicadores_jovenes(.x, \"ocupados\"))) %>%  \n",
    "  unnest(data) %>%\n",
    "  select(year, ocupados, ocupados_cv, pct, pct_cv) %>%\n",
    "  mutate(pct = round(pct, 2))\n",
    "empleo_joven"
   ]
  },
  {
   "cell_type": "code",
   "execution_count": 11,
   "id": "0bafb319",
   "metadata": {
    "vscode": {
     "languageId": "r"
    }
   },
   "outputs": [
    {
     "name": "stdout",
     "output_type": "stream",
     "text": [
      "[1] \"Población desocupada joven en la Ciudad de México\"\n"
     ]
    },
    {
     "name": "stderr",
     "output_type": "stream",
     "text": [
      "Warning message:\n",
      "\"\u001b[1m\u001b[22mThere were 6 warnings in `mutate()`.\n",
      "The first warning was:\n",
      "\u001b[1m\u001b[22m\u001b[36mℹ\u001b[39m In argument: `data = map(sdemt, ~indicadores_jovenes(.x, \"desocupados\"))`.\n",
      "Caused by warning:\n",
      "\u001b[33m!\u001b[39m \u001b[1m\u001b[22mOne or more parsing issues, call `problems()` on your data frame for details,\n",
      "e.g.:\n",
      "  dat <- vroom(...)\n",
      "  problems(dat)\n",
      "\u001b[1m\u001b[22m\u001b[36mℹ\u001b[39m Run `dplyr::last_dplyr_warnings()` to see the 5 remaining warnings.\"\n"
     ]
    },
    {
     "data": {
      "text/html": [
       "<table class=\"dataframe\">\n",
       "<caption>A tibble: 18 × 5</caption>\n",
       "<thead>\n",
       "\t<tr><th scope=col>year</th><th scope=col>desocupados</th><th scope=col>desocupados_cv</th><th scope=col>pct</th><th scope=col>pct_cv</th></tr>\n",
       "\t<tr><th scope=col>&lt;dbl&gt;</th><th scope=col>&lt;dbl&gt;</th><th scope=col>&lt;dbl&gt;</th><th scope=col>&lt;dbl&gt;</th><th scope=col>&lt;dbl&gt;</th></tr>\n",
       "</thead>\n",
       "<tbody>\n",
       "\t<tr><td>2007</td><td>131034</td><td>0.08837578</td><td>6.13</td><td>0.08606912</td></tr>\n",
       "\t<tr><td>2008</td><td>113597</td><td>0.10316362</td><td>5.29</td><td>0.09984667</td></tr>\n",
       "\t<tr><td>2009</td><td>144318</td><td>0.08798432</td><td>6.54</td><td>0.08446248</td></tr>\n",
       "\t<tr><td>2010</td><td>127066</td><td>0.09741072</td><td>5.84</td><td>0.09597333</td></tr>\n",
       "\t<tr><td>2011</td><td>128773</td><td>0.08901289</td><td>5.86</td><td>0.08590894</td></tr>\n",
       "\t<tr><td>2012</td><td>134657</td><td>0.08929776</td><td>6.20</td><td>0.08692967</td></tr>\n",
       "\t<tr><td>2013</td><td>123283</td><td>0.09581271</td><td>5.75</td><td>0.09321894</td></tr>\n",
       "\t<tr><td>2014</td><td>122960</td><td>0.09642501</td><td>5.74</td><td>0.09355510</td></tr>\n",
       "\t<tr><td>2015</td><td>124436</td><td>0.10273239</td><td>5.80</td><td>0.09956879</td></tr>\n",
       "\t<tr><td>2016</td><td> 88118</td><td>0.11053235</td><td>4.00</td><td>0.10681718</td></tr>\n",
       "\t<tr><td>2017</td><td>100771</td><td>0.10872851</td><td>4.60</td><td>0.10687825</td></tr>\n",
       "\t<tr><td>2018</td><td>107706</td><td>0.10668248</td><td>4.98</td><td>0.10340309</td></tr>\n",
       "\t<tr><td>2019</td><td>120297</td><td>0.10445928</td><td>5.62</td><td>0.10093282</td></tr>\n",
       "\t<tr><td>2020</td><td>107789</td><td>0.13960296</td><td>5.23</td><td>0.13256023</td></tr>\n",
       "\t<tr><td>2021</td><td>108895</td><td>0.11108742</td><td>5.22</td><td>0.10884523</td></tr>\n",
       "\t<tr><td>2022</td><td> 90461</td><td>0.12853753</td><td>4.12</td><td>0.12328184</td></tr>\n",
       "\t<tr><td>2023</td><td> 78711</td><td>0.11751862</td><td>3.90</td><td>0.11546502</td></tr>\n",
       "\t<tr><td>2024</td><td>101704</td><td>0.10810375</td><td>4.94</td><td>0.10474381</td></tr>\n",
       "</tbody>\n",
       "</table>\n"
      ],
      "text/latex": [
       "A tibble: 18 × 5\n",
       "\\begin{tabular}{lllll}\n",
       " year & desocupados & desocupados\\_cv & pct & pct\\_cv\\\\\n",
       " <dbl> & <dbl> & <dbl> & <dbl> & <dbl>\\\\\n",
       "\\hline\n",
       "\t 2007 & 131034 & 0.08837578 & 6.13 & 0.08606912\\\\\n",
       "\t 2008 & 113597 & 0.10316362 & 5.29 & 0.09984667\\\\\n",
       "\t 2009 & 144318 & 0.08798432 & 6.54 & 0.08446248\\\\\n",
       "\t 2010 & 127066 & 0.09741072 & 5.84 & 0.09597333\\\\\n",
       "\t 2011 & 128773 & 0.08901289 & 5.86 & 0.08590894\\\\\n",
       "\t 2012 & 134657 & 0.08929776 & 6.20 & 0.08692967\\\\\n",
       "\t 2013 & 123283 & 0.09581271 & 5.75 & 0.09321894\\\\\n",
       "\t 2014 & 122960 & 0.09642501 & 5.74 & 0.09355510\\\\\n",
       "\t 2015 & 124436 & 0.10273239 & 5.80 & 0.09956879\\\\\n",
       "\t 2016 &  88118 & 0.11053235 & 4.00 & 0.10681718\\\\\n",
       "\t 2017 & 100771 & 0.10872851 & 4.60 & 0.10687825\\\\\n",
       "\t 2018 & 107706 & 0.10668248 & 4.98 & 0.10340309\\\\\n",
       "\t 2019 & 120297 & 0.10445928 & 5.62 & 0.10093282\\\\\n",
       "\t 2020 & 107789 & 0.13960296 & 5.23 & 0.13256023\\\\\n",
       "\t 2021 & 108895 & 0.11108742 & 5.22 & 0.10884523\\\\\n",
       "\t 2022 &  90461 & 0.12853753 & 4.12 & 0.12328184\\\\\n",
       "\t 2023 &  78711 & 0.11751862 & 3.90 & 0.11546502\\\\\n",
       "\t 2024 & 101704 & 0.10810375 & 4.94 & 0.10474381\\\\\n",
       "\\end{tabular}\n"
      ],
      "text/markdown": [
       "\n",
       "A tibble: 18 × 5\n",
       "\n",
       "| year &lt;dbl&gt; | desocupados &lt;dbl&gt; | desocupados_cv &lt;dbl&gt; | pct &lt;dbl&gt; | pct_cv &lt;dbl&gt; |\n",
       "|---|---|---|---|---|\n",
       "| 2007 | 131034 | 0.08837578 | 6.13 | 0.08606912 |\n",
       "| 2008 | 113597 | 0.10316362 | 5.29 | 0.09984667 |\n",
       "| 2009 | 144318 | 0.08798432 | 6.54 | 0.08446248 |\n",
       "| 2010 | 127066 | 0.09741072 | 5.84 | 0.09597333 |\n",
       "| 2011 | 128773 | 0.08901289 | 5.86 | 0.08590894 |\n",
       "| 2012 | 134657 | 0.08929776 | 6.20 | 0.08692967 |\n",
       "| 2013 | 123283 | 0.09581271 | 5.75 | 0.09321894 |\n",
       "| 2014 | 122960 | 0.09642501 | 5.74 | 0.09355510 |\n",
       "| 2015 | 124436 | 0.10273239 | 5.80 | 0.09956879 |\n",
       "| 2016 |  88118 | 0.11053235 | 4.00 | 0.10681718 |\n",
       "| 2017 | 100771 | 0.10872851 | 4.60 | 0.10687825 |\n",
       "| 2018 | 107706 | 0.10668248 | 4.98 | 0.10340309 |\n",
       "| 2019 | 120297 | 0.10445928 | 5.62 | 0.10093282 |\n",
       "| 2020 | 107789 | 0.13960296 | 5.23 | 0.13256023 |\n",
       "| 2021 | 108895 | 0.11108742 | 5.22 | 0.10884523 |\n",
       "| 2022 |  90461 | 0.12853753 | 4.12 | 0.12328184 |\n",
       "| 2023 |  78711 | 0.11751862 | 3.90 | 0.11546502 |\n",
       "| 2024 | 101704 | 0.10810375 | 4.94 | 0.10474381 |\n",
       "\n"
      ],
      "text/plain": [
       "   year desocupados desocupados_cv pct  pct_cv    \n",
       "1  2007 131034      0.08837578     6.13 0.08606912\n",
       "2  2008 113597      0.10316362     5.29 0.09984667\n",
       "3  2009 144318      0.08798432     6.54 0.08446248\n",
       "4  2010 127066      0.09741072     5.84 0.09597333\n",
       "5  2011 128773      0.08901289     5.86 0.08590894\n",
       "6  2012 134657      0.08929776     6.20 0.08692967\n",
       "7  2013 123283      0.09581271     5.75 0.09321894\n",
       "8  2014 122960      0.09642501     5.74 0.09355510\n",
       "9  2015 124436      0.10273239     5.80 0.09956879\n",
       "10 2016  88118      0.11053235     4.00 0.10681718\n",
       "11 2017 100771      0.10872851     4.60 0.10687825\n",
       "12 2018 107706      0.10668248     4.98 0.10340309\n",
       "13 2019 120297      0.10445928     5.62 0.10093282\n",
       "14 2020 107789      0.13960296     5.23 0.13256023\n",
       "15 2021 108895      0.11108742     5.22 0.10884523\n",
       "16 2022  90461      0.12853753     4.12 0.12328184\n",
       "17 2023  78711      0.11751862     3.90 0.11546502\n",
       "18 2024 101704      0.10810375     4.94 0.10474381"
      ]
     },
     "metadata": {},
     "output_type": "display_data"
    }
   ],
   "source": [
    "print(\"Población desocupada joven en la Ciudad de México\")\n",
    "desempleo_joven <- df_archivos %>%\n",
    "  select(-year) %>%\n",
    "  mutate(data = map(sdemt, ~indicadores_jovenes(.x, \"desocupados\"))) %>%  \n",
    "  unnest(data) %>%\n",
    "  select(year, desocupados, desocupados_cv, pct, pct_cv) %>%\n",
    "  mutate(pct = round(pct, 2))\n",
    "desempleo_joven"
   ]
  },
  {
   "cell_type": "code",
   "execution_count": 12,
   "id": "f66175ab",
   "metadata": {
    "vscode": {
     "languageId": "r"
    }
   },
   "outputs": [
    {
     "name": "stdout",
     "output_type": "stream",
     "text": [
      "[1] \"Población desocupada joven en condiciones de informalidad en la Ciudad de México\"\n"
     ]
    },
    {
     "name": "stderr",
     "output_type": "stream",
     "text": [
      "Warning message:\n",
      "\"\u001b[1m\u001b[22mThere were 6 warnings in `mutate()`.\n",
      "The first warning was:\n",
      "\u001b[1m\u001b[22m\u001b[36mℹ\u001b[39m In argument: `data = map(sdemt, ~indicadores_jovenes(.x, \"informal\"))`.\n",
      "Caused by warning:\n",
      "\u001b[33m!\u001b[39m \u001b[1m\u001b[22mOne or more parsing issues, call `problems()` on your data frame for details,\n",
      "e.g.:\n",
      "  dat <- vroom(...)\n",
      "  problems(dat)\n",
      "\u001b[1m\u001b[22m\u001b[36mℹ\u001b[39m Run `dplyr::last_dplyr_warnings()` to see the 5 remaining warnings.\"\n"
     ]
    },
    {
     "data": {
      "text/html": [
       "<table class=\"dataframe\">\n",
       "<caption>A tibble: 18 × 5</caption>\n",
       "<thead>\n",
       "\t<tr><th scope=col>year</th><th scope=col>ocupados</th><th scope=col>ocupados_cv</th><th scope=col>pct</th><th scope=col>pct_cv</th></tr>\n",
       "\t<tr><th scope=col>&lt;dbl&gt;</th><th scope=col>&lt;dbl&gt;</th><th scope=col>&lt;dbl&gt;</th><th scope=col>&lt;dbl&gt;</th><th scope=col>&lt;dbl&gt;</th></tr>\n",
       "</thead>\n",
       "<tbody>\n",
       "\t<tr><td>2007</td><td>553962</td><td>0.04975052</td><td>55.00</td><td>0.03287761</td></tr>\n",
       "\t<tr><td>2008</td><td>528051</td><td>0.04737932</td><td>54.23</td><td>0.03184539</td></tr>\n",
       "\t<tr><td>2009</td><td>537509</td><td>0.05243701</td><td>55.10</td><td>0.03266176</td></tr>\n",
       "\t<tr><td>2010</td><td>536470</td><td>0.05042333</td><td>54.73</td><td>0.03345002</td></tr>\n",
       "\t<tr><td>2011</td><td>573415</td><td>0.04930119</td><td>53.38</td><td>0.03345973</td></tr>\n",
       "\t<tr><td>2012</td><td>606550</td><td>0.04488639</td><td>56.84</td><td>0.02914780</td></tr>\n",
       "\t<tr><td>2013</td><td>611514</td><td>0.04691056</td><td>58.37</td><td>0.02943362</td></tr>\n",
       "\t<tr><td>2014</td><td>538642</td><td>0.05034032</td><td>54.82</td><td>0.03378124</td></tr>\n",
       "\t<tr><td>2015</td><td>578129</td><td>0.04682687</td><td>56.16</td><td>0.03177903</td></tr>\n",
       "\t<tr><td>2016</td><td>549340</td><td>0.05025193</td><td>53.10</td><td>0.03447684</td></tr>\n",
       "\t<tr><td>2017</td><td>509288</td><td>0.05373713</td><td>50.82</td><td>0.04015828</td></tr>\n",
       "\t<tr><td>2018</td><td>561452</td><td>0.04997302</td><td>54.17</td><td>0.03168671</td></tr>\n",
       "\t<tr><td>2019</td><td>511826</td><td>0.05399881</td><td>51.45</td><td>0.03671068</td></tr>\n",
       "\t<tr><td>2020</td><td>411272</td><td>0.07534519</td><td>50.97</td><td>0.05145818</td></tr>\n",
       "\t<tr><td>2021</td><td>531218</td><td>0.05471817</td><td>53.51</td><td>0.03676648</td></tr>\n",
       "\t<tr><td>2022</td><td>560184</td><td>0.05535487</td><td>50.56</td><td>0.04142458</td></tr>\n",
       "\t<tr><td>2023</td><td>502781</td><td>0.05459465</td><td>52.51</td><td>0.04167339</td></tr>\n",
       "\t<tr><td>2024</td><td>537991</td><td>0.05141782</td><td>50.86</td><td>0.03514087</td></tr>\n",
       "</tbody>\n",
       "</table>\n"
      ],
      "text/latex": [
       "A tibble: 18 × 5\n",
       "\\begin{tabular}{lllll}\n",
       " year & ocupados & ocupados\\_cv & pct & pct\\_cv\\\\\n",
       " <dbl> & <dbl> & <dbl> & <dbl> & <dbl>\\\\\n",
       "\\hline\n",
       "\t 2007 & 553962 & 0.04975052 & 55.00 & 0.03287761\\\\\n",
       "\t 2008 & 528051 & 0.04737932 & 54.23 & 0.03184539\\\\\n",
       "\t 2009 & 537509 & 0.05243701 & 55.10 & 0.03266176\\\\\n",
       "\t 2010 & 536470 & 0.05042333 & 54.73 & 0.03345002\\\\\n",
       "\t 2011 & 573415 & 0.04930119 & 53.38 & 0.03345973\\\\\n",
       "\t 2012 & 606550 & 0.04488639 & 56.84 & 0.02914780\\\\\n",
       "\t 2013 & 611514 & 0.04691056 & 58.37 & 0.02943362\\\\\n",
       "\t 2014 & 538642 & 0.05034032 & 54.82 & 0.03378124\\\\\n",
       "\t 2015 & 578129 & 0.04682687 & 56.16 & 0.03177903\\\\\n",
       "\t 2016 & 549340 & 0.05025193 & 53.10 & 0.03447684\\\\\n",
       "\t 2017 & 509288 & 0.05373713 & 50.82 & 0.04015828\\\\\n",
       "\t 2018 & 561452 & 0.04997302 & 54.17 & 0.03168671\\\\\n",
       "\t 2019 & 511826 & 0.05399881 & 51.45 & 0.03671068\\\\\n",
       "\t 2020 & 411272 & 0.07534519 & 50.97 & 0.05145818\\\\\n",
       "\t 2021 & 531218 & 0.05471817 & 53.51 & 0.03676648\\\\\n",
       "\t 2022 & 560184 & 0.05535487 & 50.56 & 0.04142458\\\\\n",
       "\t 2023 & 502781 & 0.05459465 & 52.51 & 0.04167339\\\\\n",
       "\t 2024 & 537991 & 0.05141782 & 50.86 & 0.03514087\\\\\n",
       "\\end{tabular}\n"
      ],
      "text/markdown": [
       "\n",
       "A tibble: 18 × 5\n",
       "\n",
       "| year &lt;dbl&gt; | ocupados &lt;dbl&gt; | ocupados_cv &lt;dbl&gt; | pct &lt;dbl&gt; | pct_cv &lt;dbl&gt; |\n",
       "|---|---|---|---|---|\n",
       "| 2007 | 553962 | 0.04975052 | 55.00 | 0.03287761 |\n",
       "| 2008 | 528051 | 0.04737932 | 54.23 | 0.03184539 |\n",
       "| 2009 | 537509 | 0.05243701 | 55.10 | 0.03266176 |\n",
       "| 2010 | 536470 | 0.05042333 | 54.73 | 0.03345002 |\n",
       "| 2011 | 573415 | 0.04930119 | 53.38 | 0.03345973 |\n",
       "| 2012 | 606550 | 0.04488639 | 56.84 | 0.02914780 |\n",
       "| 2013 | 611514 | 0.04691056 | 58.37 | 0.02943362 |\n",
       "| 2014 | 538642 | 0.05034032 | 54.82 | 0.03378124 |\n",
       "| 2015 | 578129 | 0.04682687 | 56.16 | 0.03177903 |\n",
       "| 2016 | 549340 | 0.05025193 | 53.10 | 0.03447684 |\n",
       "| 2017 | 509288 | 0.05373713 | 50.82 | 0.04015828 |\n",
       "| 2018 | 561452 | 0.04997302 | 54.17 | 0.03168671 |\n",
       "| 2019 | 511826 | 0.05399881 | 51.45 | 0.03671068 |\n",
       "| 2020 | 411272 | 0.07534519 | 50.97 | 0.05145818 |\n",
       "| 2021 | 531218 | 0.05471817 | 53.51 | 0.03676648 |\n",
       "| 2022 | 560184 | 0.05535487 | 50.56 | 0.04142458 |\n",
       "| 2023 | 502781 | 0.05459465 | 52.51 | 0.04167339 |\n",
       "| 2024 | 537991 | 0.05141782 | 50.86 | 0.03514087 |\n",
       "\n"
      ],
      "text/plain": [
       "   year ocupados ocupados_cv pct   pct_cv    \n",
       "1  2007 553962   0.04975052  55.00 0.03287761\n",
       "2  2008 528051   0.04737932  54.23 0.03184539\n",
       "3  2009 537509   0.05243701  55.10 0.03266176\n",
       "4  2010 536470   0.05042333  54.73 0.03345002\n",
       "5  2011 573415   0.04930119  53.38 0.03345973\n",
       "6  2012 606550   0.04488639  56.84 0.02914780\n",
       "7  2013 611514   0.04691056  58.37 0.02943362\n",
       "8  2014 538642   0.05034032  54.82 0.03378124\n",
       "9  2015 578129   0.04682687  56.16 0.03177903\n",
       "10 2016 549340   0.05025193  53.10 0.03447684\n",
       "11 2017 509288   0.05373713  50.82 0.04015828\n",
       "12 2018 561452   0.04997302  54.17 0.03168671\n",
       "13 2019 511826   0.05399881  51.45 0.03671068\n",
       "14 2020 411272   0.07534519  50.97 0.05145818\n",
       "15 2021 531218   0.05471817  53.51 0.03676648\n",
       "16 2022 560184   0.05535487  50.56 0.04142458\n",
       "17 2023 502781   0.05459465  52.51 0.04167339\n",
       "18 2024 537991   0.05141782  50.86 0.03514087"
      ]
     },
     "metadata": {},
     "output_type": "display_data"
    }
   ],
   "source": [
    "print(\"Población desocupada joven en condiciones de informalidad en la Ciudad de México\")\n",
    "tabla_informalidad<-df_archivos %>%\n",
    "  select(-year) %>%\n",
    "  mutate(data = map(sdemt, ~indicadores_jovenes(.x, \"informal\"))) %>%  \n",
    "  unnest(data) %>%\n",
    "  select(year, ocupados, ocupados_cv, pct, pct_cv) %>%\n",
    "  mutate(pct = round(pct, 2))\n",
    "tabla_informalidad"
   ]
  },
  {
   "cell_type": "code",
   "execution_count": 13,
   "id": "3f65faf8",
   "metadata": {
    "vscode": {
     "languageId": "r"
    }
   },
   "outputs": [
    {
     "name": "stdout",
     "output_type": "stream",
     "text": [
      "[1] \"Población ocupada joven en condiciones críticas de ocupación en la Ciudad de México\"\n"
     ]
    },
    {
     "name": "stderr",
     "output_type": "stream",
     "text": [
      "Warning message:\n",
      "\"\u001b[1m\u001b[22mThere were 6 warnings in `mutate()`.\n",
      "The first warning was:\n",
      "\u001b[1m\u001b[22m\u001b[36mℹ\u001b[39m In argument: `data = map(sdemt, ~indicadores_jovenes(.x, \"criticas\"))`.\n",
      "Caused by warning:\n",
      "\u001b[33m!\u001b[39m \u001b[1m\u001b[22mOne or more parsing issues, call `problems()` on your data frame for details,\n",
      "e.g.:\n",
      "  dat <- vroom(...)\n",
      "  problems(dat)\n",
      "\u001b[1m\u001b[22m\u001b[36mℹ\u001b[39m Run `dplyr::last_dplyr_warnings()` to see the 5 remaining warnings.\"\n"
     ]
    },
    {
     "data": {
      "text/html": [
       "<table class=\"dataframe\">\n",
       "<caption>A tibble: 18 × 5</caption>\n",
       "<thead>\n",
       "\t<tr><th scope=col>year</th><th scope=col>ocupados</th><th scope=col>ocupados_cv</th><th scope=col>pct</th><th scope=col>pct_cv</th></tr>\n",
       "\t<tr><th scope=col>&lt;dbl&gt;</th><th scope=col>&lt;dbl&gt;</th><th scope=col>&lt;dbl&gt;</th><th scope=col>&lt;dbl&gt;</th><th scope=col>&lt;dbl&gt;</th></tr>\n",
       "</thead>\n",
       "<tbody>\n",
       "\t<tr><td>2007</td><td> 92021</td><td>0.10531927</td><td> 9.14</td><td>0.09929173</td></tr>\n",
       "\t<tr><td>2008</td><td> 97747</td><td>0.10885973</td><td>10.04</td><td>0.10383074</td></tr>\n",
       "\t<tr><td>2009</td><td> 75195</td><td>0.12119076</td><td> 7.71</td><td>0.11858910</td></tr>\n",
       "\t<tr><td>2010</td><td>135643</td><td>0.10424774</td><td>13.84</td><td>0.09479283</td></tr>\n",
       "\t<tr><td>2011</td><td> 99062</td><td>0.10911707</td><td> 9.22</td><td>0.10423864</td></tr>\n",
       "\t<tr><td>2012</td><td>115297</td><td>0.09660090</td><td>10.80</td><td>0.09279553</td></tr>\n",
       "\t<tr><td>2013</td><td>118168</td><td>0.10719374</td><td>11.28</td><td>0.10280466</td></tr>\n",
       "\t<tr><td>2014</td><td>130966</td><td>0.09362019</td><td>13.33</td><td>0.08853527</td></tr>\n",
       "\t<tr><td>2015</td><td>144272</td><td>0.09237130</td><td>14.02</td><td>0.08725504</td></tr>\n",
       "\t<tr><td>2016</td><td>124954</td><td>0.09773110</td><td>12.08</td><td>0.09140902</td></tr>\n",
       "\t<tr><td>2017</td><td>139348</td><td>0.10785642</td><td>13.90</td><td>0.09878143</td></tr>\n",
       "\t<tr><td>2018</td><td>186811</td><td>0.08660564</td><td>18.02</td><td>0.07950996</td></tr>\n",
       "\t<tr><td>2019</td><td>212976</td><td>0.08176891</td><td>21.41</td><td>0.07168691</td></tr>\n",
       "\t<tr><td>2020</td><td>247479</td><td>0.08710185</td><td>30.67</td><td>0.06878801</td></tr>\n",
       "\t<tr><td>2021</td><td>307079</td><td>0.07031223</td><td>30.93</td><td>0.05800820</td></tr>\n",
       "\t<tr><td>2022</td><td>351424</td><td>0.06265907</td><td>31.72</td><td>0.05623582</td></tr>\n",
       "\t<tr><td>2023</td><td>363536</td><td>0.06658777</td><td>37.97</td><td>0.05344058</td></tr>\n",
       "\t<tr><td>2024</td><td>347611</td><td>0.06655130</td><td>32.86</td><td>0.05347480</td></tr>\n",
       "</tbody>\n",
       "</table>\n"
      ],
      "text/latex": [
       "A tibble: 18 × 5\n",
       "\\begin{tabular}{lllll}\n",
       " year & ocupados & ocupados\\_cv & pct & pct\\_cv\\\\\n",
       " <dbl> & <dbl> & <dbl> & <dbl> & <dbl>\\\\\n",
       "\\hline\n",
       "\t 2007 &  92021 & 0.10531927 &  9.14 & 0.09929173\\\\\n",
       "\t 2008 &  97747 & 0.10885973 & 10.04 & 0.10383074\\\\\n",
       "\t 2009 &  75195 & 0.12119076 &  7.71 & 0.11858910\\\\\n",
       "\t 2010 & 135643 & 0.10424774 & 13.84 & 0.09479283\\\\\n",
       "\t 2011 &  99062 & 0.10911707 &  9.22 & 0.10423864\\\\\n",
       "\t 2012 & 115297 & 0.09660090 & 10.80 & 0.09279553\\\\\n",
       "\t 2013 & 118168 & 0.10719374 & 11.28 & 0.10280466\\\\\n",
       "\t 2014 & 130966 & 0.09362019 & 13.33 & 0.08853527\\\\\n",
       "\t 2015 & 144272 & 0.09237130 & 14.02 & 0.08725504\\\\\n",
       "\t 2016 & 124954 & 0.09773110 & 12.08 & 0.09140902\\\\\n",
       "\t 2017 & 139348 & 0.10785642 & 13.90 & 0.09878143\\\\\n",
       "\t 2018 & 186811 & 0.08660564 & 18.02 & 0.07950996\\\\\n",
       "\t 2019 & 212976 & 0.08176891 & 21.41 & 0.07168691\\\\\n",
       "\t 2020 & 247479 & 0.08710185 & 30.67 & 0.06878801\\\\\n",
       "\t 2021 & 307079 & 0.07031223 & 30.93 & 0.05800820\\\\\n",
       "\t 2022 & 351424 & 0.06265907 & 31.72 & 0.05623582\\\\\n",
       "\t 2023 & 363536 & 0.06658777 & 37.97 & 0.05344058\\\\\n",
       "\t 2024 & 347611 & 0.06655130 & 32.86 & 0.05347480\\\\\n",
       "\\end{tabular}\n"
      ],
      "text/markdown": [
       "\n",
       "A tibble: 18 × 5\n",
       "\n",
       "| year &lt;dbl&gt; | ocupados &lt;dbl&gt; | ocupados_cv &lt;dbl&gt; | pct &lt;dbl&gt; | pct_cv &lt;dbl&gt; |\n",
       "|---|---|---|---|---|\n",
       "| 2007 |  92021 | 0.10531927 |  9.14 | 0.09929173 |\n",
       "| 2008 |  97747 | 0.10885973 | 10.04 | 0.10383074 |\n",
       "| 2009 |  75195 | 0.12119076 |  7.71 | 0.11858910 |\n",
       "| 2010 | 135643 | 0.10424774 | 13.84 | 0.09479283 |\n",
       "| 2011 |  99062 | 0.10911707 |  9.22 | 0.10423864 |\n",
       "| 2012 | 115297 | 0.09660090 | 10.80 | 0.09279553 |\n",
       "| 2013 | 118168 | 0.10719374 | 11.28 | 0.10280466 |\n",
       "| 2014 | 130966 | 0.09362019 | 13.33 | 0.08853527 |\n",
       "| 2015 | 144272 | 0.09237130 | 14.02 | 0.08725504 |\n",
       "| 2016 | 124954 | 0.09773110 | 12.08 | 0.09140902 |\n",
       "| 2017 | 139348 | 0.10785642 | 13.90 | 0.09878143 |\n",
       "| 2018 | 186811 | 0.08660564 | 18.02 | 0.07950996 |\n",
       "| 2019 | 212976 | 0.08176891 | 21.41 | 0.07168691 |\n",
       "| 2020 | 247479 | 0.08710185 | 30.67 | 0.06878801 |\n",
       "| 2021 | 307079 | 0.07031223 | 30.93 | 0.05800820 |\n",
       "| 2022 | 351424 | 0.06265907 | 31.72 | 0.05623582 |\n",
       "| 2023 | 363536 | 0.06658777 | 37.97 | 0.05344058 |\n",
       "| 2024 | 347611 | 0.06655130 | 32.86 | 0.05347480 |\n",
       "\n"
      ],
      "text/plain": [
       "   year ocupados ocupados_cv pct   pct_cv    \n",
       "1  2007  92021   0.10531927   9.14 0.09929173\n",
       "2  2008  97747   0.10885973  10.04 0.10383074\n",
       "3  2009  75195   0.12119076   7.71 0.11858910\n",
       "4  2010 135643   0.10424774  13.84 0.09479283\n",
       "5  2011  99062   0.10911707   9.22 0.10423864\n",
       "6  2012 115297   0.09660090  10.80 0.09279553\n",
       "7  2013 118168   0.10719374  11.28 0.10280466\n",
       "8  2014 130966   0.09362019  13.33 0.08853527\n",
       "9  2015 144272   0.09237130  14.02 0.08725504\n",
       "10 2016 124954   0.09773110  12.08 0.09140902\n",
       "11 2017 139348   0.10785642  13.90 0.09878143\n",
       "12 2018 186811   0.08660564  18.02 0.07950996\n",
       "13 2019 212976   0.08176891  21.41 0.07168691\n",
       "14 2020 247479   0.08710185  30.67 0.06878801\n",
       "15 2021 307079   0.07031223  30.93 0.05800820\n",
       "16 2022 351424   0.06265907  31.72 0.05623582\n",
       "17 2023 363536   0.06658777  37.97 0.05344058\n",
       "18 2024 347611   0.06655130  32.86 0.05347480"
      ]
     },
     "metadata": {},
     "output_type": "display_data"
    }
   ],
   "source": [
    "print(\"Población ocupada joven en condiciones críticas de ocupación en la Ciudad de México\")\n",
    "tabla_criticas<-df_archivos %>%\n",
    "  select(-year) %>%\n",
    "  mutate(data = map(sdemt, ~indicadores_jovenes(.x, \"criticas\"))) %>%  \n",
    "  unnest(data) %>%\n",
    "  select(year, ocupados, ocupados_cv, pct, pct_cv) %>%\n",
    "  mutate(pct = round(pct, 2))\n",
    "tabla_criticas"
   ]
  },
  {
   "cell_type": "markdown",
   "id": "c73d6ca4",
   "metadata": {},
   "source": [
    "### Proyecciones"
   ]
  },
  {
   "cell_type": "code",
   "execution_count": 14,
   "id": "e3652c82",
   "metadata": {
    "vscode": {
     "languageId": "r"
    }
   },
   "outputs": [
    {
     "data": {
      "text/html": [
       "0.00443045031742884"
      ],
      "text/latex": [
       "0.00443045031742884"
      ],
      "text/markdown": [
       "0.00443045031742884"
      ],
      "text/plain": [
       "[1] 0.00443045"
      ]
     },
     "metadata": {},
     "output_type": "display_data"
    }
   ],
   "source": [
    "tcma_empleo<-((empleo_joven$pct[empleo_joven$year==2024]/empleo_joven$pct[empleo_joven$year==2020])^(1/(2024-2020))-1)\n",
    "\n",
    "tcma_empleo"
   ]
  },
  {
   "cell_type": "code",
   "execution_count": 15,
   "id": "fe5830ac",
   "metadata": {
    "vscode": {
     "languageId": "r"
    }
   },
   "outputs": [
    {
     "data": {
      "text/html": [
       "<table class=\"dataframe\">\n",
       "<caption>A data.frame: 21 × 2</caption>\n",
       "<thead>\n",
       "\t<tr><th scope=col>year</th><th scope=col>pct</th></tr>\n",
       "\t<tr><th scope=col>&lt;int&gt;</th><th scope=col>&lt;dbl&gt;</th></tr>\n",
       "</thead>\n",
       "<tbody>\n",
       "\t<tr><td>2025</td><td>21.20</td></tr>\n",
       "\t<tr><td>2026</td><td>21.30</td></tr>\n",
       "\t<tr><td>2027</td><td>21.39</td></tr>\n",
       "\t<tr><td>2028</td><td>21.49</td></tr>\n",
       "\t<tr><td>2029</td><td>21.58</td></tr>\n",
       "\t<tr><td>2030</td><td>21.68</td></tr>\n",
       "\t<tr><td>2031</td><td>21.77</td></tr>\n",
       "\t<tr><td>2032</td><td>21.87</td></tr>\n",
       "\t<tr><td>2033</td><td>21.97</td></tr>\n",
       "\t<tr><td>2034</td><td>22.06</td></tr>\n",
       "\t<tr><td>2035</td><td>22.16</td></tr>\n",
       "\t<tr><td>2036</td><td>22.26</td></tr>\n",
       "\t<tr><td>2037</td><td>22.36</td></tr>\n",
       "\t<tr><td>2038</td><td>22.46</td></tr>\n",
       "\t<tr><td>2039</td><td>22.56</td></tr>\n",
       "\t<tr><td>2040</td><td>22.66</td></tr>\n",
       "\t<tr><td>2041</td><td>22.76</td></tr>\n",
       "\t<tr><td>2042</td><td>22.86</td></tr>\n",
       "\t<tr><td>2043</td><td>22.96</td></tr>\n",
       "\t<tr><td>2044</td><td>23.06</td></tr>\n",
       "\t<tr><td>2045</td><td>23.16</td></tr>\n",
       "</tbody>\n",
       "</table>\n"
      ],
      "text/latex": [
       "A data.frame: 21 × 2\n",
       "\\begin{tabular}{ll}\n",
       " year & pct\\\\\n",
       " <int> & <dbl>\\\\\n",
       "\\hline\n",
       "\t 2025 & 21.20\\\\\n",
       "\t 2026 & 21.30\\\\\n",
       "\t 2027 & 21.39\\\\\n",
       "\t 2028 & 21.49\\\\\n",
       "\t 2029 & 21.58\\\\\n",
       "\t 2030 & 21.68\\\\\n",
       "\t 2031 & 21.77\\\\\n",
       "\t 2032 & 21.87\\\\\n",
       "\t 2033 & 21.97\\\\\n",
       "\t 2034 & 22.06\\\\\n",
       "\t 2035 & 22.16\\\\\n",
       "\t 2036 & 22.26\\\\\n",
       "\t 2037 & 22.36\\\\\n",
       "\t 2038 & 22.46\\\\\n",
       "\t 2039 & 22.56\\\\\n",
       "\t 2040 & 22.66\\\\\n",
       "\t 2041 & 22.76\\\\\n",
       "\t 2042 & 22.86\\\\\n",
       "\t 2043 & 22.96\\\\\n",
       "\t 2044 & 23.06\\\\\n",
       "\t 2045 & 23.16\\\\\n",
       "\\end{tabular}\n"
      ],
      "text/markdown": [
       "\n",
       "A data.frame: 21 × 2\n",
       "\n",
       "| year &lt;int&gt; | pct &lt;dbl&gt; |\n",
       "|---|---|\n",
       "| 2025 | 21.20 |\n",
       "| 2026 | 21.30 |\n",
       "| 2027 | 21.39 |\n",
       "| 2028 | 21.49 |\n",
       "| 2029 | 21.58 |\n",
       "| 2030 | 21.68 |\n",
       "| 2031 | 21.77 |\n",
       "| 2032 | 21.87 |\n",
       "| 2033 | 21.97 |\n",
       "| 2034 | 22.06 |\n",
       "| 2035 | 22.16 |\n",
       "| 2036 | 22.26 |\n",
       "| 2037 | 22.36 |\n",
       "| 2038 | 22.46 |\n",
       "| 2039 | 22.56 |\n",
       "| 2040 | 22.66 |\n",
       "| 2041 | 22.76 |\n",
       "| 2042 | 22.86 |\n",
       "| 2043 | 22.96 |\n",
       "| 2044 | 23.06 |\n",
       "| 2045 | 23.16 |\n",
       "\n"
      ],
      "text/plain": [
       "   year pct  \n",
       "1  2025 21.20\n",
       "2  2026 21.30\n",
       "3  2027 21.39\n",
       "4  2028 21.49\n",
       "5  2029 21.58\n",
       "6  2030 21.68\n",
       "7  2031 21.77\n",
       "8  2032 21.87\n",
       "9  2033 21.97\n",
       "10 2034 22.06\n",
       "11 2035 22.16\n",
       "12 2036 22.26\n",
       "13 2037 22.36\n",
       "14 2038 22.46\n",
       "15 2039 22.56\n",
       "16 2040 22.66\n",
       "17 2041 22.76\n",
       "18 2042 22.86\n",
       "19 2043 22.96\n",
       "20 2044 23.06\n",
       "21 2045 23.16"
      ]
     },
     "metadata": {},
     "output_type": "display_data"
    }
   ],
   "source": [
    "extendido_emp<-data.frame(year=2025:2045)\n",
    "extendido_emp$pct<-empleo_joven$pct[empleo_joven$year==2024]*cumprod(rep(1+tcma_empleo,length(2025:2045)))\n",
    "extendido_emp%>%\n",
    "mutate(pct=round(pct,2))"
   ]
  },
  {
   "cell_type": "code",
   "execution_count": 16,
   "id": "c972327b",
   "metadata": {
    "vscode": {
     "languageId": "r"
    }
   },
   "outputs": [
    {
     "data": {
      "text/html": [
       "<table class=\"dataframe\">\n",
       "<caption>A tibble: 39 × 4</caption>\n",
       "<thead>\n",
       "\t<tr><th scope=col>year</th><th scope=col>estimado</th><th scope=col>superior</th><th scope=col>inferior</th></tr>\n",
       "\t<tr><th scope=col>&lt;dbl&gt;</th><th scope=col>&lt;dbl&gt;</th><th scope=col>&lt;dbl&gt;</th><th scope=col>&lt;dbl&gt;</th></tr>\n",
       "</thead>\n",
       "<tbody>\n",
       "\t<tr><td>2007</td><td>25.40000</td><td>25.40000</td><td>25.40000</td></tr>\n",
       "\t<tr><td>2008</td><td>25.33000</td><td>25.33000</td><td>25.33000</td></tr>\n",
       "\t<tr><td>2009</td><td>24.94000</td><td>24.94000</td><td>24.94000</td></tr>\n",
       "\t<tr><td>2010</td><td>25.14000</td><td>25.14000</td><td>25.14000</td></tr>\n",
       "\t<tr><td>2011</td><td>26.06000</td><td>26.06000</td><td>26.06000</td></tr>\n",
       "\t<tr><td>2012</td><td>25.28000</td><td>25.28000</td><td>25.28000</td></tr>\n",
       "\t<tr><td>2013</td><td>24.70000</td><td>24.70000</td><td>24.70000</td></tr>\n",
       "\t<tr><td>2014</td><td>23.75000</td><td>23.75000</td><td>23.75000</td></tr>\n",
       "\t<tr><td>2015</td><td>24.03000</td><td>24.03000</td><td>24.03000</td></tr>\n",
       "\t<tr><td>2016</td><td>24.04000</td><td>24.04000</td><td>24.04000</td></tr>\n",
       "\t<tr><td>2017</td><td>23.27000</td><td>23.27000</td><td>23.27000</td></tr>\n",
       "\t<tr><td>2018</td><td>23.49000</td><td>23.49000</td><td>23.49000</td></tr>\n",
       "\t<tr><td>2019</td><td>22.07000</td><td>22.07000</td><td>22.07000</td></tr>\n",
       "\t<tr><td>2020</td><td>20.74000</td><td>20.74000</td><td>20.74000</td></tr>\n",
       "\t<tr><td>2021</td><td>22.23000</td><td>22.23000</td><td>22.23000</td></tr>\n",
       "\t<tr><td>2022</td><td>23.58000</td><td>23.58000</td><td>23.58000</td></tr>\n",
       "\t<tr><td>2023</td><td>20.56000</td><td>20.56000</td><td>20.56000</td></tr>\n",
       "\t<tr><td>2024</td><td>21.11000</td><td>21.11000</td><td>21.11000</td></tr>\n",
       "\t<tr><td>2025</td><td>21.20353</td><td>21.24593</td><td>21.16120</td></tr>\n",
       "\t<tr><td>2026</td><td>21.29747</td><td>21.38274</td><td>21.21253</td></tr>\n",
       "\t<tr><td>2027</td><td>21.39183</td><td>21.52043</td><td>21.26399</td></tr>\n",
       "\t<tr><td>2028</td><td>21.48660</td><td>21.65901</td><td>21.31556</td></tr>\n",
       "\t<tr><td>2029</td><td>21.58180</td><td>21.79848</td><td>21.36727</td></tr>\n",
       "\t<tr><td>2030</td><td>21.67741</td><td>21.93885</td><td>21.41910</td></tr>\n",
       "\t<tr><td>2031</td><td>21.77345</td><td>22.08012</td><td>21.47105</td></tr>\n",
       "\t<tr><td>2032</td><td>21.86992</td><td>22.22230</td><td>21.52313</td></tr>\n",
       "\t<tr><td>2033</td><td>21.96681</td><td>22.36539</td><td>21.57534</td></tr>\n",
       "\t<tr><td>2034</td><td>22.06414</td><td>22.50941</td><td>21.62767</td></tr>\n",
       "\t<tr><td>2035</td><td>22.16189</td><td>22.65436</td><td>21.68013</td></tr>\n",
       "\t<tr><td>2036</td><td>22.26008</td><td>22.80024</td><td>21.73272</td></tr>\n",
       "\t<tr><td>2037</td><td>22.35870</td><td>22.94705</td><td>21.78543</td></tr>\n",
       "\t<tr><td>2038</td><td>22.45776</td><td>23.09482</td><td>21.83827</td></tr>\n",
       "\t<tr><td>2039</td><td>22.55726</td><td>23.24353</td><td>21.89125</td></tr>\n",
       "\t<tr><td>2040</td><td>22.65720</td><td>23.39320</td><td>21.94434</td></tr>\n",
       "\t<tr><td>2041</td><td>22.75758</td><td>23.54384</td><td>21.99757</td></tr>\n",
       "\t<tr><td>2042</td><td>22.85840</td><td>23.69545</td><td>22.05093</td></tr>\n",
       "\t<tr><td>2043</td><td>22.95968</td><td>23.84803</td><td>22.10442</td></tr>\n",
       "\t<tr><td>2044</td><td>23.06140</td><td>24.00159</td><td>22.15803</td></tr>\n",
       "\t<tr><td>2045</td><td>23.16357</td><td>24.15615</td><td>22.21178</td></tr>\n",
       "</tbody>\n",
       "</table>\n"
      ],
      "text/latex": [
       "A tibble: 39 × 4\n",
       "\\begin{tabular}{llll}\n",
       " year & estimado & superior & inferior\\\\\n",
       " <dbl> & <dbl> & <dbl> & <dbl>\\\\\n",
       "\\hline\n",
       "\t 2007 & 25.40000 & 25.40000 & 25.40000\\\\\n",
       "\t 2008 & 25.33000 & 25.33000 & 25.33000\\\\\n",
       "\t 2009 & 24.94000 & 24.94000 & 24.94000\\\\\n",
       "\t 2010 & 25.14000 & 25.14000 & 25.14000\\\\\n",
       "\t 2011 & 26.06000 & 26.06000 & 26.06000\\\\\n",
       "\t 2012 & 25.28000 & 25.28000 & 25.28000\\\\\n",
       "\t 2013 & 24.70000 & 24.70000 & 24.70000\\\\\n",
       "\t 2014 & 23.75000 & 23.75000 & 23.75000\\\\\n",
       "\t 2015 & 24.03000 & 24.03000 & 24.03000\\\\\n",
       "\t 2016 & 24.04000 & 24.04000 & 24.04000\\\\\n",
       "\t 2017 & 23.27000 & 23.27000 & 23.27000\\\\\n",
       "\t 2018 & 23.49000 & 23.49000 & 23.49000\\\\\n",
       "\t 2019 & 22.07000 & 22.07000 & 22.07000\\\\\n",
       "\t 2020 & 20.74000 & 20.74000 & 20.74000\\\\\n",
       "\t 2021 & 22.23000 & 22.23000 & 22.23000\\\\\n",
       "\t 2022 & 23.58000 & 23.58000 & 23.58000\\\\\n",
       "\t 2023 & 20.56000 & 20.56000 & 20.56000\\\\\n",
       "\t 2024 & 21.11000 & 21.11000 & 21.11000\\\\\n",
       "\t 2025 & 21.20353 & 21.24593 & 21.16120\\\\\n",
       "\t 2026 & 21.29747 & 21.38274 & 21.21253\\\\\n",
       "\t 2027 & 21.39183 & 21.52043 & 21.26399\\\\\n",
       "\t 2028 & 21.48660 & 21.65901 & 21.31556\\\\\n",
       "\t 2029 & 21.58180 & 21.79848 & 21.36727\\\\\n",
       "\t 2030 & 21.67741 & 21.93885 & 21.41910\\\\\n",
       "\t 2031 & 21.77345 & 22.08012 & 21.47105\\\\\n",
       "\t 2032 & 21.86992 & 22.22230 & 21.52313\\\\\n",
       "\t 2033 & 21.96681 & 22.36539 & 21.57534\\\\\n",
       "\t 2034 & 22.06414 & 22.50941 & 21.62767\\\\\n",
       "\t 2035 & 22.16189 & 22.65436 & 21.68013\\\\\n",
       "\t 2036 & 22.26008 & 22.80024 & 21.73272\\\\\n",
       "\t 2037 & 22.35870 & 22.94705 & 21.78543\\\\\n",
       "\t 2038 & 22.45776 & 23.09482 & 21.83827\\\\\n",
       "\t 2039 & 22.55726 & 23.24353 & 21.89125\\\\\n",
       "\t 2040 & 22.65720 & 23.39320 & 21.94434\\\\\n",
       "\t 2041 & 22.75758 & 23.54384 & 21.99757\\\\\n",
       "\t 2042 & 22.85840 & 23.69545 & 22.05093\\\\\n",
       "\t 2043 & 22.95968 & 23.84803 & 22.10442\\\\\n",
       "\t 2044 & 23.06140 & 24.00159 & 22.15803\\\\\n",
       "\t 2045 & 23.16357 & 24.15615 & 22.21178\\\\\n",
       "\\end{tabular}\n"
      ],
      "text/markdown": [
       "\n",
       "A tibble: 39 × 4\n",
       "\n",
       "| year &lt;dbl&gt; | estimado &lt;dbl&gt; | superior &lt;dbl&gt; | inferior &lt;dbl&gt; |\n",
       "|---|---|---|---|\n",
       "| 2007 | 25.40000 | 25.40000 | 25.40000 |\n",
       "| 2008 | 25.33000 | 25.33000 | 25.33000 |\n",
       "| 2009 | 24.94000 | 24.94000 | 24.94000 |\n",
       "| 2010 | 25.14000 | 25.14000 | 25.14000 |\n",
       "| 2011 | 26.06000 | 26.06000 | 26.06000 |\n",
       "| 2012 | 25.28000 | 25.28000 | 25.28000 |\n",
       "| 2013 | 24.70000 | 24.70000 | 24.70000 |\n",
       "| 2014 | 23.75000 | 23.75000 | 23.75000 |\n",
       "| 2015 | 24.03000 | 24.03000 | 24.03000 |\n",
       "| 2016 | 24.04000 | 24.04000 | 24.04000 |\n",
       "| 2017 | 23.27000 | 23.27000 | 23.27000 |\n",
       "| 2018 | 23.49000 | 23.49000 | 23.49000 |\n",
       "| 2019 | 22.07000 | 22.07000 | 22.07000 |\n",
       "| 2020 | 20.74000 | 20.74000 | 20.74000 |\n",
       "| 2021 | 22.23000 | 22.23000 | 22.23000 |\n",
       "| 2022 | 23.58000 | 23.58000 | 23.58000 |\n",
       "| 2023 | 20.56000 | 20.56000 | 20.56000 |\n",
       "| 2024 | 21.11000 | 21.11000 | 21.11000 |\n",
       "| 2025 | 21.20353 | 21.24593 | 21.16120 |\n",
       "| 2026 | 21.29747 | 21.38274 | 21.21253 |\n",
       "| 2027 | 21.39183 | 21.52043 | 21.26399 |\n",
       "| 2028 | 21.48660 | 21.65901 | 21.31556 |\n",
       "| 2029 | 21.58180 | 21.79848 | 21.36727 |\n",
       "| 2030 | 21.67741 | 21.93885 | 21.41910 |\n",
       "| 2031 | 21.77345 | 22.08012 | 21.47105 |\n",
       "| 2032 | 21.86992 | 22.22230 | 21.52313 |\n",
       "| 2033 | 21.96681 | 22.36539 | 21.57534 |\n",
       "| 2034 | 22.06414 | 22.50941 | 21.62767 |\n",
       "| 2035 | 22.16189 | 22.65436 | 21.68013 |\n",
       "| 2036 | 22.26008 | 22.80024 | 21.73272 |\n",
       "| 2037 | 22.35870 | 22.94705 | 21.78543 |\n",
       "| 2038 | 22.45776 | 23.09482 | 21.83827 |\n",
       "| 2039 | 22.55726 | 23.24353 | 21.89125 |\n",
       "| 2040 | 22.65720 | 23.39320 | 21.94434 |\n",
       "| 2041 | 22.75758 | 23.54384 | 21.99757 |\n",
       "| 2042 | 22.85840 | 23.69545 | 22.05093 |\n",
       "| 2043 | 22.95968 | 23.84803 | 22.10442 |\n",
       "| 2044 | 23.06140 | 24.00159 | 22.15803 |\n",
       "| 2045 | 23.16357 | 24.15615 | 22.21178 |\n",
       "\n"
      ],
      "text/plain": [
       "   year estimado superior inferior\n",
       "1  2007 25.40000 25.40000 25.40000\n",
       "2  2008 25.33000 25.33000 25.33000\n",
       "3  2009 24.94000 24.94000 24.94000\n",
       "4  2010 25.14000 25.14000 25.14000\n",
       "5  2011 26.06000 26.06000 26.06000\n",
       "6  2012 25.28000 25.28000 25.28000\n",
       "7  2013 24.70000 24.70000 24.70000\n",
       "8  2014 23.75000 23.75000 23.75000\n",
       "9  2015 24.03000 24.03000 24.03000\n",
       "10 2016 24.04000 24.04000 24.04000\n",
       "11 2017 23.27000 23.27000 23.27000\n",
       "12 2018 23.49000 23.49000 23.49000\n",
       "13 2019 22.07000 22.07000 22.07000\n",
       "14 2020 20.74000 20.74000 20.74000\n",
       "15 2021 22.23000 22.23000 22.23000\n",
       "16 2022 23.58000 23.58000 23.58000\n",
       "17 2023 20.56000 20.56000 20.56000\n",
       "18 2024 21.11000 21.11000 21.11000\n",
       "19 2025 21.20353 21.24593 21.16120\n",
       "20 2026 21.29747 21.38274 21.21253\n",
       "21 2027 21.39183 21.52043 21.26399\n",
       "22 2028 21.48660 21.65901 21.31556\n",
       "23 2029 21.58180 21.79848 21.36727\n",
       "24 2030 21.67741 21.93885 21.41910\n",
       "25 2031 21.77345 22.08012 21.47105\n",
       "26 2032 21.86992 22.22230 21.52313\n",
       "27 2033 21.96681 22.36539 21.57534\n",
       "28 2034 22.06414 22.50941 21.62767\n",
       "29 2035 22.16189 22.65436 21.68013\n",
       "30 2036 22.26008 22.80024 21.73272\n",
       "31 2037 22.35870 22.94705 21.78543\n",
       "32 2038 22.45776 23.09482 21.83827\n",
       "33 2039 22.55726 23.24353 21.89125\n",
       "34 2040 22.65720 23.39320 21.94434\n",
       "35 2041 22.75758 23.54384 21.99757\n",
       "36 2042 22.85840 23.69545 22.05093\n",
       "37 2043 22.95968 23.84803 22.10442\n",
       "38 2044 23.06140 24.00159 22.15803\n",
       "39 2045 23.16357 24.15615 22.21178"
      ]
     },
     "metadata": {},
     "output_type": "display_data"
    }
   ],
   "source": [
    "  serie_completa_empleo <- dplyr::bind_rows(\n",
    "    empleo_joven %>%\n",
    "      dplyr::mutate(year = as.numeric(year)) %>%\n",
    "      intervals(margen = 0, año_base = 2024,var = \"pct\"),\n",
    "\n",
    "    extendido_emp %>%\n",
    "      dplyr::mutate(year = as.numeric(year)) %>%\n",
    "      intervals(margen = 0.002, año_base = 2024,var=\"pct\"))\n",
    "serie_completa_empleo"
   ]
  },
  {
   "cell_type": "code",
   "execution_count": 26,
   "id": "9e793b4d",
   "metadata": {
    "vscode": {
     "languageId": "r"
    }
   },
   "outputs": [
    {
     "data": {
      "image/png": "[encoded data removed]",
      "text/plain": [
       "plot without title"
      ]
     },
     "metadata": {
      "image/png": {
       "height": 420,
       "width": 420
      }
     },
     "output_type": "display_data"
    }
   ],
   "source": [
    "grafica_bonita(\n",
    "  data = serie_completa_empleo,\n",
    "  x = \"year\",\n",
    "  y = \"estimado\",\n",
    "  titulo = \"Porcentaje de población joven ocupada en la CDMX\",\n",
    "  ano_base = 2024,\n",
    "  mostrar_etiqueta_ano_base = TRUE,\n",
    "  linea_vertical = 2024,\n",
    "  anios_etiquetas = c(2045),\n",
    "    desplazamiento_ano_base=c(1, 1),\n",
    "  mostrar_intervalo = \"ambos\",\n",
    "  nombre_observado = \"Observado\",\n",
    "  nombre_estimado_futuro = \"Deseable\",\n",
    "  nombre_intervalo_superior = \"Transformador\",\n",
    "  nombre_intervalo_inferior = \"Inercial\",\n",
    "  mostrar_leyenda = TRUE,\n",
    "  fuente = \"pop\",\n",
    "  etiqueta_x = \"Año\",\n",
    "  etiqueta_y = \"Porcentaje\",\n",
    "  titulo_leyenda = \"Escenarios\",\n",
    "  limite_inferior_y = 15\n",
    ")\n",
    "\n",
    "ggsave(\"H:/Mi unidad/pgd/graficas/empleo_joven.png\",\n",
    " width = 10, height = 6, dpi = 200, bg = \"white\")"
   ]
  },
  {
   "cell_type": "code",
   "execution_count": 18,
   "id": "d1c9713b",
   "metadata": {
    "vscode": {
     "languageId": "r"
    }
   },
   "outputs": [
    {
     "data": {
      "text/html": [
       "-0.0141602734394264"
      ],
      "text/latex": [
       "-0.0141602734394264"
      ],
      "text/markdown": [
       "-0.0141602734394264"
      ],
      "text/plain": [
       "[1] -0.01416027"
      ]
     },
     "metadata": {},
     "output_type": "display_data"
    }
   ],
   "source": [
    "tcma_desempleo<-((desempleo_joven$pct[desempleo_joven$year==2024]/desempleo_joven$pct[desempleo_joven$year==2020])^(1/(2024-2020))-1)\n",
    "tcma_desempleo"
   ]
  },
  {
   "cell_type": "code",
   "execution_count": 19,
   "id": "57d473b2",
   "metadata": {
    "vscode": {
     "languageId": "r"
    }
   },
   "outputs": [
    {
     "data": {
      "text/html": [
       "<table class=\"dataframe\">\n",
       "<caption>A data.frame: 21 × 2</caption>\n",
       "<thead>\n",
       "\t<tr><th scope=col>year</th><th scope=col>pct</th></tr>\n",
       "\t<tr><th scope=col>&lt;int&gt;</th><th scope=col>&lt;dbl&gt;</th></tr>\n",
       "</thead>\n",
       "<tbody>\n",
       "\t<tr><td>2025</td><td>4.87</td></tr>\n",
       "\t<tr><td>2026</td><td>4.80</td></tr>\n",
       "\t<tr><td>2027</td><td>4.73</td></tr>\n",
       "\t<tr><td>2028</td><td>4.67</td></tr>\n",
       "\t<tr><td>2029</td><td>4.60</td></tr>\n",
       "\t<tr><td>2030</td><td>4.53</td></tr>\n",
       "\t<tr><td>2031</td><td>4.47</td></tr>\n",
       "\t<tr><td>2032</td><td>4.41</td></tr>\n",
       "\t<tr><td>2033</td><td>4.34</td></tr>\n",
       "\t<tr><td>2034</td><td>4.28</td></tr>\n",
       "\t<tr><td>2035</td><td>4.22</td></tr>\n",
       "\t<tr><td>2036</td><td>4.16</td></tr>\n",
       "\t<tr><td>2037</td><td>4.10</td></tr>\n",
       "\t<tr><td>2038</td><td>4.05</td></tr>\n",
       "\t<tr><td>2039</td><td>3.99</td></tr>\n",
       "\t<tr><td>2040</td><td>3.93</td></tr>\n",
       "\t<tr><td>2041</td><td>3.88</td></tr>\n",
       "\t<tr><td>2042</td><td>3.82</td></tr>\n",
       "\t<tr><td>2043</td><td>3.77</td></tr>\n",
       "\t<tr><td>2044</td><td>3.71</td></tr>\n",
       "\t<tr><td>2045</td><td>3.66</td></tr>\n",
       "</tbody>\n",
       "</table>\n"
      ],
      "text/latex": [
       "A data.frame: 21 × 2\n",
       "\\begin{tabular}{ll}\n",
       " year & pct\\\\\n",
       " <int> & <dbl>\\\\\n",
       "\\hline\n",
       "\t 2025 & 4.87\\\\\n",
       "\t 2026 & 4.80\\\\\n",
       "\t 2027 & 4.73\\\\\n",
       "\t 2028 & 4.67\\\\\n",
       "\t 2029 & 4.60\\\\\n",
       "\t 2030 & 4.53\\\\\n",
       "\t 2031 & 4.47\\\\\n",
       "\t 2032 & 4.41\\\\\n",
       "\t 2033 & 4.34\\\\\n",
       "\t 2034 & 4.28\\\\\n",
       "\t 2035 & 4.22\\\\\n",
       "\t 2036 & 4.16\\\\\n",
       "\t 2037 & 4.10\\\\\n",
       "\t 2038 & 4.05\\\\\n",
       "\t 2039 & 3.99\\\\\n",
       "\t 2040 & 3.93\\\\\n",
       "\t 2041 & 3.88\\\\\n",
       "\t 2042 & 3.82\\\\\n",
       "\t 2043 & 3.77\\\\\n",
       "\t 2044 & 3.71\\\\\n",
       "\t 2045 & 3.66\\\\\n",
       "\\end{tabular}\n"
      ],
      "text/markdown": [
       "\n",
       "A data.frame: 21 × 2\n",
       "\n",
       "| year &lt;int&gt; | pct &lt;dbl&gt; |\n",
       "|---|---|\n",
       "| 2025 | 4.87 |\n",
       "| 2026 | 4.80 |\n",
       "| 2027 | 4.73 |\n",
       "| 2028 | 4.67 |\n",
       "| 2029 | 4.60 |\n",
       "| 2030 | 4.53 |\n",
       "| 2031 | 4.47 |\n",
       "| 2032 | 4.41 |\n",
       "| 2033 | 4.34 |\n",
       "| 2034 | 4.28 |\n",
       "| 2035 | 4.22 |\n",
       "| 2036 | 4.16 |\n",
       "| 2037 | 4.10 |\n",
       "| 2038 | 4.05 |\n",
       "| 2039 | 3.99 |\n",
       "| 2040 | 3.93 |\n",
       "| 2041 | 3.88 |\n",
       "| 2042 | 3.82 |\n",
       "| 2043 | 3.77 |\n",
       "| 2044 | 3.71 |\n",
       "| 2045 | 3.66 |\n",
       "\n"
      ],
      "text/plain": [
       "   year pct \n",
       "1  2025 4.87\n",
       "2  2026 4.80\n",
       "3  2027 4.73\n",
       "4  2028 4.67\n",
       "5  2029 4.60\n",
       "6  2030 4.53\n",
       "7  2031 4.47\n",
       "8  2032 4.41\n",
       "9  2033 4.34\n",
       "10 2034 4.28\n",
       "11 2035 4.22\n",
       "12 2036 4.16\n",
       "13 2037 4.10\n",
       "14 2038 4.05\n",
       "15 2039 3.99\n",
       "16 2040 3.93\n",
       "17 2041 3.88\n",
       "18 2042 3.82\n",
       "19 2043 3.77\n",
       "20 2044 3.71\n",
       "21 2045 3.66"
      ]
     },
     "metadata": {},
     "output_type": "display_data"
    }
   ],
   "source": [
    "extendido_desemp <- data.frame(year=2025:2045)\n",
    "extendido_desemp$pct <- desempleo_joven$pct[desempleo_joven$year==2024]*cumprod(rep(1+tcma_desempleo,length(2025:2045)))\n",
    "extendido_desemp %>%\n",
    "  mutate(pct=round(pct,2))"
   ]
  },
  {
   "cell_type": "code",
   "execution_count": 20,
   "id": "aa71aa43",
   "metadata": {
    "vscode": {
     "languageId": "r"
    }
   },
   "outputs": [
    {
     "data": {
      "text/html": [
       "<table class=\"dataframe\">\n",
       "<caption>A tibble: 39 × 4</caption>\n",
       "<thead>\n",
       "\t<tr><th scope=col>year</th><th scope=col>estimado</th><th scope=col>superior</th><th scope=col>inferior</th></tr>\n",
       "\t<tr><th scope=col>&lt;dbl&gt;</th><th scope=col>&lt;dbl&gt;</th><th scope=col>&lt;dbl&gt;</th><th scope=col>&lt;dbl&gt;</th></tr>\n",
       "</thead>\n",
       "<tbody>\n",
       "\t<tr><td>2007</td><td>6.130000</td><td>6.130000</td><td>6.130000</td></tr>\n",
       "\t<tr><td>2008</td><td>5.290000</td><td>5.290000</td><td>5.290000</td></tr>\n",
       "\t<tr><td>2009</td><td>6.540000</td><td>6.540000</td><td>6.540000</td></tr>\n",
       "\t<tr><td>2010</td><td>5.840000</td><td>5.840000</td><td>5.840000</td></tr>\n",
       "\t<tr><td>2011</td><td>5.860000</td><td>5.860000</td><td>5.860000</td></tr>\n",
       "\t<tr><td>2012</td><td>6.200000</td><td>6.200000</td><td>6.200000</td></tr>\n",
       "\t<tr><td>2013</td><td>5.750000</td><td>5.750000</td><td>5.750000</td></tr>\n",
       "\t<tr><td>2014</td><td>5.740000</td><td>5.740000</td><td>5.740000</td></tr>\n",
       "\t<tr><td>2015</td><td>5.800000</td><td>5.800000</td><td>5.800000</td></tr>\n",
       "\t<tr><td>2016</td><td>4.000000</td><td>4.000000</td><td>4.000000</td></tr>\n",
       "\t<tr><td>2017</td><td>4.600000</td><td>4.600000</td><td>4.600000</td></tr>\n",
       "\t<tr><td>2018</td><td>4.980000</td><td>4.980000</td><td>4.980000</td></tr>\n",
       "\t<tr><td>2019</td><td>5.620000</td><td>5.620000</td><td>5.620000</td></tr>\n",
       "\t<tr><td>2020</td><td>5.230000</td><td>5.230000</td><td>5.230000</td></tr>\n",
       "\t<tr><td>2021</td><td>5.220000</td><td>5.220000</td><td>5.220000</td></tr>\n",
       "\t<tr><td>2022</td><td>4.120000</td><td>4.120000</td><td>4.120000</td></tr>\n",
       "\t<tr><td>2023</td><td>3.900000</td><td>3.900000</td><td>3.900000</td></tr>\n",
       "\t<tr><td>2024</td><td>4.940000</td><td>4.940000</td><td>4.940000</td></tr>\n",
       "\t<tr><td>2025</td><td>4.870048</td><td>4.889528</td><td>4.850646</td></tr>\n",
       "\t<tr><td>2026</td><td>4.801087</td><td>4.839573</td><td>4.762908</td></tr>\n",
       "\t<tr><td>2027</td><td>4.733102</td><td>4.790127</td><td>4.676756</td></tr>\n",
       "\t<tr><td>2028</td><td>4.666080</td><td>4.741187</td><td>4.592164</td></tr>\n",
       "\t<tr><td>2029</td><td>4.600007</td><td>4.692746</td><td>4.509101</td></tr>\n",
       "\t<tr><td>2030</td><td>4.534870</td><td>4.644801</td><td>4.427541</td></tr>\n",
       "\t<tr><td>2031</td><td>4.470655</td><td>4.597346</td><td>4.347456</td></tr>\n",
       "\t<tr><td>2032</td><td>4.407349</td><td>4.550375</td><td>4.268819</td></tr>\n",
       "\t<tr><td>2033</td><td>4.344940</td><td>4.503884</td><td>4.191605</td></tr>\n",
       "\t<tr><td>2034</td><td>4.283414</td><td>4.457868</td><td>4.115788</td></tr>\n",
       "\t<tr><td>2035</td><td>4.222760</td><td>4.412323</td><td>4.041342</td></tr>\n",
       "\t<tr><td>2036</td><td>4.162965</td><td>4.367242</td><td>3.968242</td></tr>\n",
       "\t<tr><td>2037</td><td>4.104016</td><td>4.322623</td><td>3.896465</td></tr>\n",
       "\t<tr><td>2038</td><td>4.045902</td><td>4.278459</td><td>3.825986</td></tr>\n",
       "\t<tr><td>2039</td><td>3.988611</td><td>4.234746</td><td>3.756782</td></tr>\n",
       "\t<tr><td>2040</td><td>3.932131</td><td>4.191480</td><td>3.688830</td></tr>\n",
       "\t<tr><td>2041</td><td>3.876451</td><td>4.148656</td><td>3.622106</td></tr>\n",
       "\t<tr><td>2042</td><td>3.821559</td><td>4.106270</td><td>3.556590</td></tr>\n",
       "\t<tr><td>2043</td><td>3.767445</td><td>4.064316</td><td>3.492259</td></tr>\n",
       "\t<tr><td>2044</td><td>3.714097</td><td>4.022791</td><td>3.429091</td></tr>\n",
       "\t<tr><td>2045</td><td>3.661504</td><td>3.981691</td><td>3.367066</td></tr>\n",
       "</tbody>\n",
       "</table>\n"
      ],
      "text/latex": [
       "A tibble: 39 × 4\n",
       "\\begin{tabular}{llll}\n",
       " year & estimado & superior & inferior\\\\\n",
       " <dbl> & <dbl> & <dbl> & <dbl>\\\\\n",
       "\\hline\n",
       "\t 2007 & 6.130000 & 6.130000 & 6.130000\\\\\n",
       "\t 2008 & 5.290000 & 5.290000 & 5.290000\\\\\n",
       "\t 2009 & 6.540000 & 6.540000 & 6.540000\\\\\n",
       "\t 2010 & 5.840000 & 5.840000 & 5.840000\\\\\n",
       "\t 2011 & 5.860000 & 5.860000 & 5.860000\\\\\n",
       "\t 2012 & 6.200000 & 6.200000 & 6.200000\\\\\n",
       "\t 2013 & 5.750000 & 5.750000 & 5.750000\\\\\n",
       "\t 2014 & 5.740000 & 5.740000 & 5.740000\\\\\n",
       "\t 2015 & 5.800000 & 5.800000 & 5.800000\\\\\n",
       "\t 2016 & 4.000000 & 4.000000 & 4.000000\\\\\n",
       "\t 2017 & 4.600000 & 4.600000 & 4.600000\\\\\n",
       "\t 2018 & 4.980000 & 4.980000 & 4.980000\\\\\n",
       "\t 2019 & 5.620000 & 5.620000 & 5.620000\\\\\n",
       "\t 2020 & 5.230000 & 5.230000 & 5.230000\\\\\n",
       "\t 2021 & 5.220000 & 5.220000 & 5.220000\\\\\n",
       "\t 2022 & 4.120000 & 4.120000 & 4.120000\\\\\n",
       "\t 2023 & 3.900000 & 3.900000 & 3.900000\\\\\n",
       "\t 2024 & 4.940000 & 4.940000 & 4.940000\\\\\n",
       "\t 2025 & 4.870048 & 4.889528 & 4.850646\\\\\n",
       "\t 2026 & 4.801087 & 4.839573 & 4.762908\\\\\n",
       "\t 2027 & 4.733102 & 4.790127 & 4.676756\\\\\n",
       "\t 2028 & 4.666080 & 4.741187 & 4.592164\\\\\n",
       "\t 2029 & 4.600007 & 4.692746 & 4.509101\\\\\n",
       "\t 2030 & 4.534870 & 4.644801 & 4.427541\\\\\n",
       "\t 2031 & 4.470655 & 4.597346 & 4.347456\\\\\n",
       "\t 2032 & 4.407349 & 4.550375 & 4.268819\\\\\n",
       "\t 2033 & 4.344940 & 4.503884 & 4.191605\\\\\n",
       "\t 2034 & 4.283414 & 4.457868 & 4.115788\\\\\n",
       "\t 2035 & 4.222760 & 4.412323 & 4.041342\\\\\n",
       "\t 2036 & 4.162965 & 4.367242 & 3.968242\\\\\n",
       "\t 2037 & 4.104016 & 4.322623 & 3.896465\\\\\n",
       "\t 2038 & 4.045902 & 4.278459 & 3.825986\\\\\n",
       "\t 2039 & 3.988611 & 4.234746 & 3.756782\\\\\n",
       "\t 2040 & 3.932131 & 4.191480 & 3.688830\\\\\n",
       "\t 2041 & 3.876451 & 4.148656 & 3.622106\\\\\n",
       "\t 2042 & 3.821559 & 4.106270 & 3.556590\\\\\n",
       "\t 2043 & 3.767445 & 4.064316 & 3.492259\\\\\n",
       "\t 2044 & 3.714097 & 4.022791 & 3.429091\\\\\n",
       "\t 2045 & 3.661504 & 3.981691 & 3.367066\\\\\n",
       "\\end{tabular}\n"
      ],
      "text/markdown": [
       "\n",
       "A tibble: 39 × 4\n",
       "\n",
       "| year &lt;dbl&gt; | estimado &lt;dbl&gt; | superior &lt;dbl&gt; | inferior &lt;dbl&gt; |\n",
       "|---|---|---|---|\n",
       "| 2007 | 6.130000 | 6.130000 | 6.130000 |\n",
       "| 2008 | 5.290000 | 5.290000 | 5.290000 |\n",
       "| 2009 | 6.540000 | 6.540000 | 6.540000 |\n",
       "| 2010 | 5.840000 | 5.840000 | 5.840000 |\n",
       "| 2011 | 5.860000 | 5.860000 | 5.860000 |\n",
       "| 2012 | 6.200000 | 6.200000 | 6.200000 |\n",
       "| 2013 | 5.750000 | 5.750000 | 5.750000 |\n",
       "| 2014 | 5.740000 | 5.740000 | 5.740000 |\n",
       "| 2015 | 5.800000 | 5.800000 | 5.800000 |\n",
       "| 2016 | 4.000000 | 4.000000 | 4.000000 |\n",
       "| 2017 | 4.600000 | 4.600000 | 4.600000 |\n",
       "| 2018 | 4.980000 | 4.980000 | 4.980000 |\n",
       "| 2019 | 5.620000 | 5.620000 | 5.620000 |\n",
       "| 2020 | 5.230000 | 5.230000 | 5.230000 |\n",
       "| 2021 | 5.220000 | 5.220000 | 5.220000 |\n",
       "| 2022 | 4.120000 | 4.120000 | 4.120000 |\n",
       "| 2023 | 3.900000 | 3.900000 | 3.900000 |\n",
       "| 2024 | 4.940000 | 4.940000 | 4.940000 |\n",
       "| 2025 | 4.870048 | 4.889528 | 4.850646 |\n",
       "| 2026 | 4.801087 | 4.839573 | 4.762908 |\n",
       "| 2027 | 4.733102 | 4.790127 | 4.676756 |\n",
       "| 2028 | 4.666080 | 4.741187 | 4.592164 |\n",
       "| 2029 | 4.600007 | 4.692746 | 4.509101 |\n",
       "| 2030 | 4.534870 | 4.644801 | 4.427541 |\n",
       "| 2031 | 4.470655 | 4.597346 | 4.347456 |\n",
       "| 2032 | 4.407349 | 4.550375 | 4.268819 |\n",
       "| 2033 | 4.344940 | 4.503884 | 4.191605 |\n",
       "| 2034 | 4.283414 | 4.457868 | 4.115788 |\n",
       "| 2035 | 4.222760 | 4.412323 | 4.041342 |\n",
       "| 2036 | 4.162965 | 4.367242 | 3.968242 |\n",
       "| 2037 | 4.104016 | 4.322623 | 3.896465 |\n",
       "| 2038 | 4.045902 | 4.278459 | 3.825986 |\n",
       "| 2039 | 3.988611 | 4.234746 | 3.756782 |\n",
       "| 2040 | 3.932131 | 4.191480 | 3.688830 |\n",
       "| 2041 | 3.876451 | 4.148656 | 3.622106 |\n",
       "| 2042 | 3.821559 | 4.106270 | 3.556590 |\n",
       "| 2043 | 3.767445 | 4.064316 | 3.492259 |\n",
       "| 2044 | 3.714097 | 4.022791 | 3.429091 |\n",
       "| 2045 | 3.661504 | 3.981691 | 3.367066 |\n",
       "\n"
      ],
      "text/plain": [
       "   year estimado superior inferior\n",
       "1  2007 6.130000 6.130000 6.130000\n",
       "2  2008 5.290000 5.290000 5.290000\n",
       "3  2009 6.540000 6.540000 6.540000\n",
       "4  2010 5.840000 5.840000 5.840000\n",
       "5  2011 5.860000 5.860000 5.860000\n",
       "6  2012 6.200000 6.200000 6.200000\n",
       "7  2013 5.750000 5.750000 5.750000\n",
       "8  2014 5.740000 5.740000 5.740000\n",
       "9  2015 5.800000 5.800000 5.800000\n",
       "10 2016 4.000000 4.000000 4.000000\n",
       "11 2017 4.600000 4.600000 4.600000\n",
       "12 2018 4.980000 4.980000 4.980000\n",
       "13 2019 5.620000 5.620000 5.620000\n",
       "14 2020 5.230000 5.230000 5.230000\n",
       "15 2021 5.220000 5.220000 5.220000\n",
       "16 2022 4.120000 4.120000 4.120000\n",
       "17 2023 3.900000 3.900000 3.900000\n",
       "18 2024 4.940000 4.940000 4.940000\n",
       "19 2025 4.870048 4.889528 4.850646\n",
       "20 2026 4.801087 4.839573 4.762908\n",
       "21 2027 4.733102 4.790127 4.676756\n",
       "22 2028 4.666080 4.741187 4.592164\n",
       "23 2029 4.600007 4.692746 4.509101\n",
       "24 2030 4.534870 4.644801 4.427541\n",
       "25 2031 4.470655 4.597346 4.347456\n",
       "26 2032 4.407349 4.550375 4.268819\n",
       "27 2033 4.344940 4.503884 4.191605\n",
       "28 2034 4.283414 4.457868 4.115788\n",
       "29 2035 4.222760 4.412323 4.041342\n",
       "30 2036 4.162965 4.367242 3.968242\n",
       "31 2037 4.104016 4.322623 3.896465\n",
       "32 2038 4.045902 4.278459 3.825986\n",
       "33 2039 3.988611 4.234746 3.756782\n",
       "34 2040 3.932131 4.191480 3.688830\n",
       "35 2041 3.876451 4.148656 3.622106\n",
       "36 2042 3.821559 4.106270 3.556590\n",
       "37 2043 3.767445 4.064316 3.492259\n",
       "38 2044 3.714097 4.022791 3.429091\n",
       "39 2045 3.661504 3.981691 3.367066"
      ]
     },
     "metadata": {},
     "output_type": "display_data"
    }
   ],
   "source": [
    " serie_completa_desempleo <- dplyr::bind_rows(\n",
    "    desempleo_joven %>%\n",
    "      dplyr::mutate(year = as.numeric(year)) %>%\n",
    "      intervals(margen = 0, año_base = 2024,var = \"pct\"),\n",
    "\n",
    "    extendido_desemp %>%\n",
    "      dplyr::mutate(year = as.numeric(year)) %>%\n",
    "      intervals(margen = 0.004, año_base = 2024,var=\"pct\"))\n",
    "serie_completa_desempleo"
   ]
  },
  {
   "cell_type": "code",
   "execution_count": 27,
   "id": "8bad9ab8",
   "metadata": {
    "vscode": {
     "languageId": "r"
    }
   },
   "outputs": [
    {
     "data": {
      "image/png": "[encoded data removed]",
      "text/plain": [
       "plot without title"
      ]
     },
     "metadata": {
      "image/png": {
       "height": 420,
       "width": 420
      }
     },
     "output_type": "display_data"
    }
   ],
   "source": [
    "grafica_bonita(\n",
    "  data = serie_completa_desempleo,\n",
    "  x = \"year\",\n",
    "  y = \"estimado\",\n",
    "  titulo = \"Porcentaje de población joven desocupada en la CDMX\",\n",
    "  ano_base = 2024,\n",
    "  mostrar_etiqueta_ano_base = TRUE,\n",
    "  linea_vertical = 2024,\n",
    "  anios_etiquetas = c(2045),\n",
    "    desplazamiento_ano_base=c(1, 0.1),\n",
    "  mostrar_intervalo = \"ambos\",\n",
    "  nombre_observado = \"Observado\",\n",
    "  nombre_estimado_futuro = \"Deseable\",\n",
    "  nombre_intervalo_superior = \"Inercial\",\n",
    "  nombre_intervalo_inferior = \"Transformador\",\n",
    "  mostrar_leyenda = TRUE,\n",
    "  fuente = \"pop\",\n",
    "  etiqueta_x = \"Año\",\n",
    "  etiqueta_y = \"Porcentaje\",\n",
    "  titulo_leyenda = \"Escenarios\",\n",
    "  limite_inferior_y = 2\n",
    ")\n",
    "\n",
    "ggsave(\"H:/Mi unidad/pgd/graficas/desempleo_joven.png\",\n",
    " width = 10, height = 6, dpi = 200, bg = \"white\")"
   ]
  },
  {
   "cell_type": "code",
   "execution_count": 22,
   "id": "f541f83a",
   "metadata": {
    "vscode": {
     "languageId": "r"
    }
   },
   "outputs": [
    {
     "data": {
      "text/html": [
       "-0.00230408197598353"
      ],
      "text/latex": [
       "-0.00230408197598353"
      ],
      "text/markdown": [
       "-0.00230408197598353"
      ],
      "text/plain": [
       "[1] -0.002304082"
      ]
     },
     "metadata": {},
     "output_type": "display_data"
    }
   ],
   "source": [
    "tcma_informal <- ((tabla_informalidad$pct[tabla_informalidad$year==2024]/tabla_informalidad$pct[tabla_informalidad$year==2019])^(1/(2024-2019))-1)\n",
    "tcma_informal"
   ]
  },
  {
   "cell_type": "code",
   "execution_count": 23,
   "id": "08e88027",
   "metadata": {
    "vscode": {
     "languageId": "r"
    }
   },
   "outputs": [
    {
     "data": {
      "text/html": [
       "<table class=\"dataframe\">\n",
       "<caption>A data.frame: 21 × 2</caption>\n",
       "<thead>\n",
       "\t<tr><th scope=col>year</th><th scope=col>pct</th></tr>\n",
       "\t<tr><th scope=col>&lt;int&gt;</th><th scope=col>&lt;dbl&gt;</th></tr>\n",
       "</thead>\n",
       "<tbody>\n",
       "\t<tr><td>2025</td><td>50.74</td></tr>\n",
       "\t<tr><td>2026</td><td>50.63</td></tr>\n",
       "\t<tr><td>2027</td><td>50.51</td></tr>\n",
       "\t<tr><td>2028</td><td>50.39</td></tr>\n",
       "\t<tr><td>2029</td><td>50.28</td></tr>\n",
       "\t<tr><td>2030</td><td>50.16</td></tr>\n",
       "\t<tr><td>2031</td><td>50.05</td></tr>\n",
       "\t<tr><td>2032</td><td>49.93</td></tr>\n",
       "\t<tr><td>2033</td><td>49.81</td></tr>\n",
       "\t<tr><td>2034</td><td>49.70</td></tr>\n",
       "\t<tr><td>2035</td><td>49.59</td></tr>\n",
       "\t<tr><td>2036</td><td>49.47</td></tr>\n",
       "\t<tr><td>2037</td><td>49.36</td></tr>\n",
       "\t<tr><td>2038</td><td>49.24</td></tr>\n",
       "\t<tr><td>2039</td><td>49.13</td></tr>\n",
       "\t<tr><td>2040</td><td>49.02</td></tr>\n",
       "\t<tr><td>2041</td><td>48.90</td></tr>\n",
       "\t<tr><td>2042</td><td>48.79</td></tr>\n",
       "\t<tr><td>2043</td><td>48.68</td></tr>\n",
       "\t<tr><td>2044</td><td>48.57</td></tr>\n",
       "\t<tr><td>2045</td><td>48.45</td></tr>\n",
       "</tbody>\n",
       "</table>\n"
      ],
      "text/latex": [
       "A data.frame: 21 × 2\n",
       "\\begin{tabular}{ll}\n",
       " year & pct\\\\\n",
       " <int> & <dbl>\\\\\n",
       "\\hline\n",
       "\t 2025 & 50.74\\\\\n",
       "\t 2026 & 50.63\\\\\n",
       "\t 2027 & 50.51\\\\\n",
       "\t 2028 & 50.39\\\\\n",
       "\t 2029 & 50.28\\\\\n",
       "\t 2030 & 50.16\\\\\n",
       "\t 2031 & 50.05\\\\\n",
       "\t 2032 & 49.93\\\\\n",
       "\t 2033 & 49.81\\\\\n",
       "\t 2034 & 49.70\\\\\n",
       "\t 2035 & 49.59\\\\\n",
       "\t 2036 & 49.47\\\\\n",
       "\t 2037 & 49.36\\\\\n",
       "\t 2038 & 49.24\\\\\n",
       "\t 2039 & 49.13\\\\\n",
       "\t 2040 & 49.02\\\\\n",
       "\t 2041 & 48.90\\\\\n",
       "\t 2042 & 48.79\\\\\n",
       "\t 2043 & 48.68\\\\\n",
       "\t 2044 & 48.57\\\\\n",
       "\t 2045 & 48.45\\\\\n",
       "\\end{tabular}\n"
      ],
      "text/markdown": [
       "\n",
       "A data.frame: 21 × 2\n",
       "\n",
       "| year &lt;int&gt; | pct &lt;dbl&gt; |\n",
       "|---|---|\n",
       "| 2025 | 50.74 |\n",
       "| 2026 | 50.63 |\n",
       "| 2027 | 50.51 |\n",
       "| 2028 | 50.39 |\n",
       "| 2029 | 50.28 |\n",
       "| 2030 | 50.16 |\n",
       "| 2031 | 50.05 |\n",
       "| 2032 | 49.93 |\n",
       "| 2033 | 49.81 |\n",
       "| 2034 | 49.70 |\n",
       "| 2035 | 49.59 |\n",
       "| 2036 | 49.47 |\n",
       "| 2037 | 49.36 |\n",
       "| 2038 | 49.24 |\n",
       "| 2039 | 49.13 |\n",
       "| 2040 | 49.02 |\n",
       "| 2041 | 48.90 |\n",
       "| 2042 | 48.79 |\n",
       "| 2043 | 48.68 |\n",
       "| 2044 | 48.57 |\n",
       "| 2045 | 48.45 |\n",
       "\n"
      ],
      "text/plain": [
       "   year pct  \n",
       "1  2025 50.74\n",
       "2  2026 50.63\n",
       "3  2027 50.51\n",
       "4  2028 50.39\n",
       "5  2029 50.28\n",
       "6  2030 50.16\n",
       "7  2031 50.05\n",
       "8  2032 49.93\n",
       "9  2033 49.81\n",
       "10 2034 49.70\n",
       "11 2035 49.59\n",
       "12 2036 49.47\n",
       "13 2037 49.36\n",
       "14 2038 49.24\n",
       "15 2039 49.13\n",
       "16 2040 49.02\n",
       "17 2041 48.90\n",
       "18 2042 48.79\n",
       "19 2043 48.68\n",
       "20 2044 48.57\n",
       "21 2045 48.45"
      ]
     },
     "metadata": {},
     "output_type": "display_data"
    }
   ],
   "source": [
    "extendido_informal <- data.frame(year=2025:2045)\n",
    "extendido_informal$pct <- tabla_informalidad$pct[tabla_informalidad$year==2024]*cumprod(rep(1+tcma_informal,length(2025:2045)))\n",
    "extendido_informal %>%\n",
    "  mutate(pct=round(pct,2))"
   ]
  },
  {
   "cell_type": "code",
   "execution_count": 24,
   "id": "262de012",
   "metadata": {
    "vscode": {
     "languageId": "r"
    }
   },
   "outputs": [
    {
     "data": {
      "text/html": [
       "<table class=\"dataframe\">\n",
       "<caption>A tibble: 39 × 4</caption>\n",
       "<thead>\n",
       "\t<tr><th scope=col>year</th><th scope=col>estimado</th><th scope=col>superior</th><th scope=col>inferior</th></tr>\n",
       "\t<tr><th scope=col>&lt;dbl&gt;</th><th scope=col>&lt;dbl&gt;</th><th scope=col>&lt;dbl&gt;</th><th scope=col>&lt;dbl&gt;</th></tr>\n",
       "</thead>\n",
       "<tbody>\n",
       "\t<tr><td>2007</td><td>55.00000</td><td>55.00000</td><td>55.00000</td></tr>\n",
       "\t<tr><td>2008</td><td>54.23000</td><td>54.23000</td><td>54.23000</td></tr>\n",
       "\t<tr><td>2009</td><td>55.10000</td><td>55.10000</td><td>55.10000</td></tr>\n",
       "\t<tr><td>2010</td><td>54.73000</td><td>54.73000</td><td>54.73000</td></tr>\n",
       "\t<tr><td>2011</td><td>53.38000</td><td>53.38000</td><td>53.38000</td></tr>\n",
       "\t<tr><td>2012</td><td>56.84000</td><td>56.84000</td><td>56.84000</td></tr>\n",
       "\t<tr><td>2013</td><td>58.37000</td><td>58.37000</td><td>58.37000</td></tr>\n",
       "\t<tr><td>2014</td><td>54.82000</td><td>54.82000</td><td>54.82000</td></tr>\n",
       "\t<tr><td>2015</td><td>56.16000</td><td>56.16000</td><td>56.16000</td></tr>\n",
       "\t<tr><td>2016</td><td>53.10000</td><td>53.10000</td><td>53.10000</td></tr>\n",
       "\t<tr><td>2017</td><td>50.82000</td><td>50.82000</td><td>50.82000</td></tr>\n",
       "\t<tr><td>2018</td><td>54.17000</td><td>54.17000</td><td>54.17000</td></tr>\n",
       "\t<tr><td>2019</td><td>51.45000</td><td>51.45000</td><td>51.45000</td></tr>\n",
       "\t<tr><td>2020</td><td>50.97000</td><td>50.97000</td><td>50.97000</td></tr>\n",
       "\t<tr><td>2021</td><td>53.51000</td><td>53.51000</td><td>53.51000</td></tr>\n",
       "\t<tr><td>2022</td><td>50.56000</td><td>50.56000</td><td>50.56000</td></tr>\n",
       "\t<tr><td>2023</td><td>52.51000</td><td>52.51000</td><td>52.51000</td></tr>\n",
       "\t<tr><td>2024</td><td>50.86000</td><td>50.86000</td><td>50.86000</td></tr>\n",
       "\t<tr><td>2025</td><td>50.74281</td><td>50.94579</td><td>50.54065</td></tr>\n",
       "\t<tr><td>2026</td><td>50.62590</td><td>51.03172</td><td>50.22331</td></tr>\n",
       "\t<tr><td>2027</td><td>50.50925</td><td>51.11779</td><td>49.90796</td></tr>\n",
       "\t<tr><td>2028</td><td>50.39288</td><td>51.20401</td><td>49.59459</td></tr>\n",
       "\t<tr><td>2029</td><td>50.27677</td><td>51.29038</td><td>49.28319</td></tr>\n",
       "\t<tr><td>2030</td><td>50.16092</td><td>51.37689</td><td>48.97374</td></tr>\n",
       "\t<tr><td>2031</td><td>50.04535</td><td>51.46355</td><td>48.66623</td></tr>\n",
       "\t<tr><td>2032</td><td>49.93004</td><td>51.55035</td><td>48.36066</td></tr>\n",
       "\t<tr><td>2033</td><td>49.81500</td><td>51.63730</td><td>48.05700</td></tr>\n",
       "\t<tr><td>2034</td><td>49.70022</td><td>51.72440</td><td>47.75526</td></tr>\n",
       "\t<tr><td>2035</td><td>49.58571</td><td>51.81164</td><td>47.45540</td></tr>\n",
       "\t<tr><td>2036</td><td>49.47146</td><td>51.89903</td><td>47.15743</td></tr>\n",
       "\t<tr><td>2037</td><td>49.35747</td><td>51.98657</td><td>46.86133</td></tr>\n",
       "\t<tr><td>2038</td><td>49.24375</td><td>52.07426</td><td>46.56709</td></tr>\n",
       "\t<tr><td>2039</td><td>49.13029</td><td>52.16209</td><td>46.27470</td></tr>\n",
       "\t<tr><td>2040</td><td>49.01709</td><td>52.25007</td><td>45.98414</td></tr>\n",
       "\t<tr><td>2041</td><td>48.90415</td><td>52.33820</td><td>45.69541</td></tr>\n",
       "\t<tr><td>2042</td><td>48.79147</td><td>52.42648</td><td>45.40849</td></tr>\n",
       "\t<tr><td>2043</td><td>48.67905</td><td>52.51491</td><td>45.12337</td></tr>\n",
       "\t<tr><td>2044</td><td>48.56689</td><td>52.60349</td><td>44.84004</td></tr>\n",
       "\t<tr><td>2045</td><td>48.45498</td><td>52.69221</td><td>44.55849</td></tr>\n",
       "</tbody>\n",
       "</table>\n"
      ],
      "text/latex": [
       "A tibble: 39 × 4\n",
       "\\begin{tabular}{llll}\n",
       " year & estimado & superior & inferior\\\\\n",
       " <dbl> & <dbl> & <dbl> & <dbl>\\\\\n",
       "\\hline\n",
       "\t 2007 & 55.00000 & 55.00000 & 55.00000\\\\\n",
       "\t 2008 & 54.23000 & 54.23000 & 54.23000\\\\\n",
       "\t 2009 & 55.10000 & 55.10000 & 55.10000\\\\\n",
       "\t 2010 & 54.73000 & 54.73000 & 54.73000\\\\\n",
       "\t 2011 & 53.38000 & 53.38000 & 53.38000\\\\\n",
       "\t 2012 & 56.84000 & 56.84000 & 56.84000\\\\\n",
       "\t 2013 & 58.37000 & 58.37000 & 58.37000\\\\\n",
       "\t 2014 & 54.82000 & 54.82000 & 54.82000\\\\\n",
       "\t 2015 & 56.16000 & 56.16000 & 56.16000\\\\\n",
       "\t 2016 & 53.10000 & 53.10000 & 53.10000\\\\\n",
       "\t 2017 & 50.82000 & 50.82000 & 50.82000\\\\\n",
       "\t 2018 & 54.17000 & 54.17000 & 54.17000\\\\\n",
       "\t 2019 & 51.45000 & 51.45000 & 51.45000\\\\\n",
       "\t 2020 & 50.97000 & 50.97000 & 50.97000\\\\\n",
       "\t 2021 & 53.51000 & 53.51000 & 53.51000\\\\\n",
       "\t 2022 & 50.56000 & 50.56000 & 50.56000\\\\\n",
       "\t 2023 & 52.51000 & 52.51000 & 52.51000\\\\\n",
       "\t 2024 & 50.86000 & 50.86000 & 50.86000\\\\\n",
       "\t 2025 & 50.74281 & 50.94579 & 50.54065\\\\\n",
       "\t 2026 & 50.62590 & 51.03172 & 50.22331\\\\\n",
       "\t 2027 & 50.50925 & 51.11779 & 49.90796\\\\\n",
       "\t 2028 & 50.39288 & 51.20401 & 49.59459\\\\\n",
       "\t 2029 & 50.27677 & 51.29038 & 49.28319\\\\\n",
       "\t 2030 & 50.16092 & 51.37689 & 48.97374\\\\\n",
       "\t 2031 & 50.04535 & 51.46355 & 48.66623\\\\\n",
       "\t 2032 & 49.93004 & 51.55035 & 48.36066\\\\\n",
       "\t 2033 & 49.81500 & 51.63730 & 48.05700\\\\\n",
       "\t 2034 & 49.70022 & 51.72440 & 47.75526\\\\\n",
       "\t 2035 & 49.58571 & 51.81164 & 47.45540\\\\\n",
       "\t 2036 & 49.47146 & 51.89903 & 47.15743\\\\\n",
       "\t 2037 & 49.35747 & 51.98657 & 46.86133\\\\\n",
       "\t 2038 & 49.24375 & 52.07426 & 46.56709\\\\\n",
       "\t 2039 & 49.13029 & 52.16209 & 46.27470\\\\\n",
       "\t 2040 & 49.01709 & 52.25007 & 45.98414\\\\\n",
       "\t 2041 & 48.90415 & 52.33820 & 45.69541\\\\\n",
       "\t 2042 & 48.79147 & 52.42648 & 45.40849\\\\\n",
       "\t 2043 & 48.67905 & 52.51491 & 45.12337\\\\\n",
       "\t 2044 & 48.56689 & 52.60349 & 44.84004\\\\\n",
       "\t 2045 & 48.45498 & 52.69221 & 44.55849\\\\\n",
       "\\end{tabular}\n"
      ],
      "text/markdown": [
       "\n",
       "A tibble: 39 × 4\n",
       "\n",
       "| year &lt;dbl&gt; | estimado &lt;dbl&gt; | superior &lt;dbl&gt; | inferior &lt;dbl&gt; |\n",
       "|---|---|---|---|\n",
       "| 2007 | 55.00000 | 55.00000 | 55.00000 |\n",
       "| 2008 | 54.23000 | 54.23000 | 54.23000 |\n",
       "| 2009 | 55.10000 | 55.10000 | 55.10000 |\n",
       "| 2010 | 54.73000 | 54.73000 | 54.73000 |\n",
       "| 2011 | 53.38000 | 53.38000 | 53.38000 |\n",
       "| 2012 | 56.84000 | 56.84000 | 56.84000 |\n",
       "| 2013 | 58.37000 | 58.37000 | 58.37000 |\n",
       "| 2014 | 54.82000 | 54.82000 | 54.82000 |\n",
       "| 2015 | 56.16000 | 56.16000 | 56.16000 |\n",
       "| 2016 | 53.10000 | 53.10000 | 53.10000 |\n",
       "| 2017 | 50.82000 | 50.82000 | 50.82000 |\n",
       "| 2018 | 54.17000 | 54.17000 | 54.17000 |\n",
       "| 2019 | 51.45000 | 51.45000 | 51.45000 |\n",
       "| 2020 | 50.97000 | 50.97000 | 50.97000 |\n",
       "| 2021 | 53.51000 | 53.51000 | 53.51000 |\n",
       "| 2022 | 50.56000 | 50.56000 | 50.56000 |\n",
       "| 2023 | 52.51000 | 52.51000 | 52.51000 |\n",
       "| 2024 | 50.86000 | 50.86000 | 50.86000 |\n",
       "| 2025 | 50.74281 | 50.94579 | 50.54065 |\n",
       "| 2026 | 50.62590 | 51.03172 | 50.22331 |\n",
       "| 2027 | 50.50925 | 51.11779 | 49.90796 |\n",
       "| 2028 | 50.39288 | 51.20401 | 49.59459 |\n",
       "| 2029 | 50.27677 | 51.29038 | 49.28319 |\n",
       "| 2030 | 50.16092 | 51.37689 | 48.97374 |\n",
       "| 2031 | 50.04535 | 51.46355 | 48.66623 |\n",
       "| 2032 | 49.93004 | 51.55035 | 48.36066 |\n",
       "| 2033 | 49.81500 | 51.63730 | 48.05700 |\n",
       "| 2034 | 49.70022 | 51.72440 | 47.75526 |\n",
       "| 2035 | 49.58571 | 51.81164 | 47.45540 |\n",
       "| 2036 | 49.47146 | 51.89903 | 47.15743 |\n",
       "| 2037 | 49.35747 | 51.98657 | 46.86133 |\n",
       "| 2038 | 49.24375 | 52.07426 | 46.56709 |\n",
       "| 2039 | 49.13029 | 52.16209 | 46.27470 |\n",
       "| 2040 | 49.01709 | 52.25007 | 45.98414 |\n",
       "| 2041 | 48.90415 | 52.33820 | 45.69541 |\n",
       "| 2042 | 48.79147 | 52.42648 | 45.40849 |\n",
       "| 2043 | 48.67905 | 52.51491 | 45.12337 |\n",
       "| 2044 | 48.56689 | 52.60349 | 44.84004 |\n",
       "| 2045 | 48.45498 | 52.69221 | 44.55849 |\n",
       "\n"
      ],
      "text/plain": [
       "   year estimado superior inferior\n",
       "1  2007 55.00000 55.00000 55.00000\n",
       "2  2008 54.23000 54.23000 54.23000\n",
       "3  2009 55.10000 55.10000 55.10000\n",
       "4  2010 54.73000 54.73000 54.73000\n",
       "5  2011 53.38000 53.38000 53.38000\n",
       "6  2012 56.84000 56.84000 56.84000\n",
       "7  2013 58.37000 58.37000 58.37000\n",
       "8  2014 54.82000 54.82000 54.82000\n",
       "9  2015 56.16000 56.16000 56.16000\n",
       "10 2016 53.10000 53.10000 53.10000\n",
       "11 2017 50.82000 50.82000 50.82000\n",
       "12 2018 54.17000 54.17000 54.17000\n",
       "13 2019 51.45000 51.45000 51.45000\n",
       "14 2020 50.97000 50.97000 50.97000\n",
       "15 2021 53.51000 53.51000 53.51000\n",
       "16 2022 50.56000 50.56000 50.56000\n",
       "17 2023 52.51000 52.51000 52.51000\n",
       "18 2024 50.86000 50.86000 50.86000\n",
       "19 2025 50.74281 50.94579 50.54065\n",
       "20 2026 50.62590 51.03172 50.22331\n",
       "21 2027 50.50925 51.11779 49.90796\n",
       "22 2028 50.39288 51.20401 49.59459\n",
       "23 2029 50.27677 51.29038 49.28319\n",
       "24 2030 50.16092 51.37689 48.97374\n",
       "25 2031 50.04535 51.46355 48.66623\n",
       "26 2032 49.93004 51.55035 48.36066\n",
       "27 2033 49.81500 51.63730 48.05700\n",
       "28 2034 49.70022 51.72440 47.75526\n",
       "29 2035 49.58571 51.81164 47.45540\n",
       "30 2036 49.47146 51.89903 47.15743\n",
       "31 2037 49.35747 51.98657 46.86133\n",
       "32 2038 49.24375 52.07426 46.56709\n",
       "33 2039 49.13029 52.16209 46.27470\n",
       "34 2040 49.01709 52.25007 45.98414\n",
       "35 2041 48.90415 52.33820 45.69541\n",
       "36 2042 48.79147 52.42648 45.40849\n",
       "37 2043 48.67905 52.51491 45.12337\n",
       "38 2044 48.56689 52.60349 44.84004\n",
       "39 2045 48.45498 52.69221 44.55849"
      ]
     },
     "metadata": {},
     "output_type": "display_data"
    }
   ],
   "source": [
    " serie_completa_informal <- dplyr::bind_rows(\n",
    "    tabla_informalidad %>%\n",
    "      dplyr::mutate(year = as.numeric(year)) %>%\n",
    "      intervals(margen = 0, año_base = 2024,var = \"pct\"),\n",
    "\n",
    "    extendido_informal %>%\n",
    "      dplyr::mutate(year = as.numeric(year)) %>%\n",
    "      intervals(margen = 0.004, año_base = 2024,var=\"pct\"))\n",
    "serie_completa_informal"
   ]
  },
  {
   "cell_type": "code",
   "execution_count": 28,
   "id": "10a6d227",
   "metadata": {
    "vscode": {
     "languageId": "r"
    }
   },
   "outputs": [
    {
     "data": {
      "image/png": "[encoded data removed]",
      "text/plain": [
       "plot without title"
      ]
     },
     "metadata": {
      "image/png": {
       "height": 420,
       "width": 420
      }
     },
     "output_type": "display_data"
    }
   ],
   "source": [
    "grafica_bonita(\n",
    "  data = serie_completa_informal,\n",
    "  x = \"year\",\n",
    "  y = \"estimado\",\n",
    "  titulo = \"Porcentaje de población joven en la informalidad en la CDMX\",\n",
    "  ano_base = 2024,\n",
    "  mostrar_etiqueta_ano_base = TRUE,\n",
    "  linea_vertical = 2024,\n",
    "  anios_etiquetas = c(2045),\n",
    "    desplazamiento_ano_base=c(1, 1),\n",
    "  mostrar_intervalo = \"ambos\",\n",
    "  nombre_observado = \"Observado\",\n",
    "  nombre_estimado_futuro = \"Deseable\",\n",
    "  nombre_intervalo_superior = \"Inercial\",\n",
    "  nombre_intervalo_inferior = \"Transformador\",\n",
    "  mostrar_leyenda = TRUE,\n",
    "  fuente = \"pop\",\n",
    "  etiqueta_x = \"Año\",\n",
    "  etiqueta_y = \"Porcentaje\",\n",
    "  titulo_leyenda = \"Escenarios\",\n",
    "  limite_inferior_y = 40\n",
    ")\n",
    "\n",
    "ggsave(\"H:/Mi unidad/pgd/graficas/informalidad_joven.png\",\n",
    " width = 10, height = 6, dpi = 200, bg = \"white\")"
   ]
  }
 ],
 "metadata": {
  "kernelspec": {
   "display_name": "R",
   "language": "R",
   "name": "ir"
  },
  "language_info": {
   "codemirror_mode": "r",
   "file_extension": ".r",
   "mimetype": "text/x-r-source",
   "name": "R",
   "pygments_lexer": "r",
   "version": "4.4.1"
  }
 },
 "nbformat": 4,
 "nbformat_minor": 5
}
