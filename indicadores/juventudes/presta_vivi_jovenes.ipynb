{
 "cells": [
  {
   "cell_type": "code",
   "execution_count": 1,
   "id": "99dbfb68",
   "metadata": {
    "vscode": {
     "languageId": "r"
    }
   },
   "outputs": [
    {
     "name": "stderr",
     "output_type": "stream",
     "text": [
      "Cargando paquete requerido: pacman\n",
      "\n",
      "Using GitHub PAT from the git credential store.\n",
      "\n",
      "Downloading GitHub repo cpyp-ipdp/funcionespgd@HEAD\n",
      "\n"
     ]
    },
    {
     "name": "stdout",
     "output_type": "stream",
     "text": [
      "rlang  (1.1.4 -> 1.1.6) [CRAN]\n",
      "glue   (1.7.0 -> 1.8.0) [CRAN]\n",
      "cli    (3.6.3 -> 3.6.5) [CRAN]\n",
      "tibble (3.2.1 -> 3.3.0) [CRAN]\n"
     ]
    },
    {
     "name": "stderr",
     "output_type": "stream",
     "text": [
      "Installing 4 packages: rlang, glue, cli, tibble\n",
      "\n",
      "Warning message:\n",
      "\"package 'tibble' is in use and will not be installed\"\n",
      "Installing packages into 'C:/Users/claud/AppData/Local/R/win-library/4.4'\n",
      "(as 'lib' is unspecified)\n",
      "\n"
     ]
    },
    {
     "name": "stdout",
     "output_type": "stream",
     "text": [
      "package 'rlang' successfully unpacked and MD5 sums checked\n"
     ]
    },
    {
     "name": "stderr",
     "output_type": "stream",
     "text": [
      "Warning message:\n",
      "\"cannot remove prior installation of package 'rlang'\"\n",
      "Warning message in file.copy(savedcopy, lib, recursive = TRUE):\n",
      "\"problema al copiar C:\\Users\\claud\\AppData\\Local\\R\\win-library\\4.4\\00LOCK\\rlang\\libs\\x64\\rlang.dll  a C:\\Users\\claud\\AppData\\Local\\R\\win-library\\4.4\\rlang\\libs\\x64\\rlang.dll: Permission denied\"\n",
      "Warning message:\n",
      "\"restored 'rlang'\"\n"
     ]
    },
    {
     "name": "stdout",
     "output_type": "stream",
     "text": [
      "package 'glue' successfully unpacked and MD5 sums checked\n"
     ]
    },
    {
     "name": "stderr",
     "output_type": "stream",
     "text": [
      "Warning message:\n",
      "\"cannot remove prior installation of package 'glue'\"\n",
      "Warning message in file.copy(savedcopy, lib, recursive = TRUE):\n",
      "\"problema al copiar C:\\Users\\claud\\AppData\\Local\\R\\win-library\\4.4\\00LOCK\\glue\\libs\\x64\\glue.dll  a C:\\Users\\claud\\AppData\\Local\\R\\win-library\\4.4\\glue\\libs\\x64\\glue.dll: Permission denied\"\n",
      "Warning message:\n",
      "\"restored 'glue'\"\n"
     ]
    },
    {
     "name": "stdout",
     "output_type": "stream",
     "text": [
      "package 'cli' successfully unpacked and MD5 sums checked\n"
     ]
    },
    {
     "name": "stderr",
     "output_type": "stream",
     "text": [
      "Warning message:\n",
      "\"cannot remove prior installation of package 'cli'\"\n",
      "Warning message in file.copy(savedcopy, lib, recursive = TRUE):\n",
      "\"problema al copiar C:\\Users\\claud\\AppData\\Local\\R\\win-library\\4.4\\00LOCK\\cli\\libs\\x64\\cli.dll  a C:\\Users\\claud\\AppData\\Local\\R\\win-library\\4.4\\cli\\libs\\x64\\cli.dll: Permission denied\"\n",
      "Warning message:\n",
      "\"restored 'cli'\"\n"
     ]
    },
    {
     "name": "stdout",
     "output_type": "stream",
     "text": [
      "\n",
      "The downloaded binary packages are in\n",
      "\tC:\\Users\\claud\\AppData\\Local\\Temp\\RtmpOsGWcn\\downloaded_packages\n",
      "\u001b[36m──\u001b[39m \u001b[36mR CMD build\u001b[39m \u001b[36m─────────────────────────────────────────────────────────────────\u001b[39m\n",
      "* checking for file 'C:\\Users\\claud\\AppData\\Local\\Temp\\RtmpOsGWcn\\remotes7a4473683da8\\cpyp-ipdp-funcionespgd-6fd64b9/DESCRIPTION' ... OK\n",
      "* preparing 'funcionespgd':\n",
      "* checking DESCRIPTION meta-information ... OK\n",
      "* checking for LF line-endings in source and make files and shell scripts\n",
      "* checking for empty or unneeded directories\n",
      "Omitted 'LazyData' from DESCRIPTION\n",
      "* building 'funcionespgd_0.1.0.tar.gz'\n",
      "\n"
     ]
    },
    {
     "name": "stderr",
     "output_type": "stream",
     "text": [
      "Installing package into 'C:/Users/claud/AppData/Local/R/win-library/4.4'\n",
      "(as 'lib' is unspecified)\n",
      "\n"
     ]
    }
   ],
   "source": [
    "rm(list=ls())\n",
    "\n",
    "# Librerías ====\n",
    "if(!require('pacman')) install.packages('pacman')\n",
    "pacman::p_load(tidyverse, showtext, srvyr)\n",
    "remotes::install_github(\"cpyp-ipdp/funcionespgd\", force = TRUE)\n",
    "library(funcionespgd)\n",
    "font_add_google(\"Poppins\", \"pop\")\n",
    "showtext_auto()"
   ]
  },
  {
   "cell_type": "code",
   "execution_count": 2,
   "id": "3eedbac4",
   "metadata": {
    "vscode": {
     "languageId": "r"
    }
   },
   "outputs": [],
   "source": [
    "years<-c(\"2016\", \"2018\", \"2020\", \"2022\")"
   ]
  },
  {
   "cell_type": "code",
   "execution_count": 3,
   "id": "343346ec",
   "metadata": {
    "vscode": {
     "languageId": "r"
    }
   },
   "outputs": [
    {
     "name": "stderr",
     "output_type": "stream",
     "text": [
      "Archivo ya descargado: data/2018_ns_poblacion.zip\n",
      "\n",
      "Archivo renombrado y movido: data/ns_poblacion_2018.csv\n",
      "\n",
      "Archivo ya descargado: data/2018_ns_trabajos.zip\n",
      "\n",
      "Archivo renombrado y movido: data/ns_trabajos_2018.csv\n",
      "\n",
      "Archivo ya descargado: data/2018_ns_viviendas.zip\n",
      "\n",
      "Archivo renombrado y movido: data/ns_viviendas_2018.csv\n",
      "\n",
      "Archivo ya descargado: data/2020_ns_poblacion.zip\n",
      "\n",
      "Archivo renombrado y movido: data/ns_poblacion_2020.csv\n",
      "\n",
      "Archivo ya descargado: data/2020_ns_trabajos.zip\n",
      "\n",
      "Archivo renombrado y movido: data/ns_trabajos_2020.csv\n",
      "\n",
      "Archivo ya descargado: data/2020_ns_viviendas.zip\n",
      "\n",
      "Archivo renombrado y movido: data/ns_viviendas_2020.csv\n",
      "\n",
      "Archivo ya descargado: data/2022_ns_poblacion.zip\n",
      "\n",
      "Archivo renombrado y movido: data/ns_poblacion_2022.csv\n",
      "\n",
      "Archivo ya descargado: data/2022_ns_trabajos.zip\n",
      "\n",
      "Archivo renombrado y movido: data/ns_trabajos_2022.csv\n",
      "\n",
      "Archivo ya descargado: data/2022_ns_viviendas.zip\n",
      "\n",
      "Archivo renombrado y movido: data/ns_viviendas_2022.csv\n",
      "\n",
      "Archivo ya descargado: data/2024_ns_poblacion.zip\n",
      "\n",
      "Archivo renombrado y movido: data/ns_poblacion_2024.csv\n",
      "\n",
      "Archivo ya descargado: data/2024_ns_trabajos.zip\n",
      "\n",
      "Archivo renombrado y movido: data/ns_trabajos_2024.csv\n",
      "\n",
      "Archivo ya descargado: data/2024_ns_viviendas.zip\n",
      "\n",
      "Archivo renombrado y movido: data/ns_viviendas_2024.csv\n",
      "\n"
     ]
    }
   ],
   "source": [
    "# Definir URL base y parte intermedia\n",
    "url_basica <- \"https://www.inegi.org.mx/contenidos/programas/enigh/nc/\"\n",
    "segunda_parte <- \"microdatos/enigh\"\n",
    "options(timeout = 600)\n",
    "# Definir los años y los tipos de archivos a descargar\n",
    "years <- c(\"2018\", \"2020\", \"2022\",\"2024\")\n",
    "tipos <- c(\"ns_poblacion\", \"ns_trabajos\",\"ns_viviendas\")  # Tipos de archivos\n",
    "\n",
    "# Crear la carpeta de destino si no existe\n",
    "if (!dir.exists(\"data\")) {\n",
    "  dir.create(\"data\")\n",
    "}\n",
    "\n",
    "# Descargar, descomprimir y renombrar los archivos\n",
    "for (year in years) {\n",
    "  for (tipo in tipos) {\n",
    "    # Construir URL y nombres de archivo\n",
    "    url <- paste0(url_basica, year, \"/\", segunda_parte, year, \"_\", tipo, \"_csv.zip\")\n",
    "    zip_destfile <- paste0(\"data/\", year, \"_\", tipo, \".zip\")\n",
    "\n",
    "    # Descargar solo si el archivo no existe\n",
    "    if (!file.exists(zip_destfile)) {\n",
    "      download.file(url, destfile = zip_destfile, mode = \"wb\")\n",
    "    } else {\n",
    "      message(\"Archivo ya descargado: \", zip_destfile)\n",
    "    }\n",
    "\n",
    "    # Extraer archivos en una subcarpeta específica\n",
    "    extract_dir <- paste0(\"data/\", year, \"_\", tipo)\n",
    "    if (!dir.exists(extract_dir)) {\n",
    "      dir.create(extract_dir)\n",
    "    }\n",
    "\n",
    "    unzip(zip_destfile, exdir = extract_dir)\n",
    "\n",
    "    # Buscar el archivo CSV dentro de la carpeta extraída\n",
    "    extracted_files <- list.files(extract_dir, pattern = \"\\\\.csv$\", full.names = TRUE)\n",
    "\n",
    "    if (length(extracted_files) == 1) {\n",
    "      # Determinar el nuevo nombre con formato adecuado\n",
    "      new_name <- paste0(\"data/\", tipo, \"_\", year, \".csv\")\n",
    "\n",
    "      # Mover el archivo al directorio principal y renombrarlo\n",
    "      file.rename(extracted_files, new_name)\n",
    "\n",
    "      message(\"Archivo renombrado y movido: \", new_name)\n",
    "    } else {\n",
    "      message(\"Error: No se encontró un archivo CSV único en \", extract_dir)\n",
    "    }\n",
    "  }\n",
    "}\n"
   ]
  },
  {
   "cell_type": "code",
   "execution_count": 4,
   "id": "283421ba",
   "metadata": {
    "vscode": {
     "languageId": "r"
    }
   },
   "outputs": [],
   "source": [
    "estima_prestacion <- function(year, variable = \"prestacion\") {\n",
    "\n",
    "  # 1) Leer población\n",
    "  poblacion <- read_csv(paste0(\"data/ns_poblacion_\", year, \".csv\"),\n",
    "                        show_col_types = FALSE)\n",
    "\n",
    "  # 2) Para 2016, 2018 y 2020: unir pesos/estratos desde viviendas\n",
    "  if (year %in% c(2016, 2018, 2020)) {\n",
    "    vivienda <- read_csv(paste0(\"data/ns_viviendas_\", year, \".csv\"),\n",
    "                         show_col_types = FALSE) |>\n",
    "      select(folioviv, factor, upm, est_dis)\n",
    "\n",
    "    poblacion <- poblacion |>\n",
    "      left_join(vivienda, by = \"folioviv\")\n",
    "  }\n",
    "\n",
    "  # 3) Identificador de entidad y grupos de edad\n",
    "  poblacion <- poblacion |>\n",
    "    mutate(\n",
    "      cve_ent = case_when(\n",
    "        nchar(folioviv) == 9  ~ paste0(\"0\", substr(folioviv, 1, 1)),\n",
    "        nchar(folioviv) == 10 ~ substr(folioviv, 1, 2),\n",
    "        TRUE ~ NA_character_\n",
    "      )\n",
    "    ) |>\n",
    "    filter(cve_ent == \"09\") |>\n",
    "    mutate(\n",
    "      grupo_edad = case_when(\n",
    "        edad >= 0  & edad <= 5   ~ \"0-5\",\n",
    "        edad >= 6  & edad <= 11  ~ \"6-11\",\n",
    "        edad >= 12 & edad <= 14  ~ \"12-14\",\n",
    "        edad >= 15 & edad <= 17  ~ \"15-17\",\n",
    "        edad >= 18 & edad <= 24  ~ \"18-24\",\n",
    "        edad >= 25 & edad <= 29  ~ \"25-29\",\n",
    "        edad >= 30 & edad <= 34  ~ \"30-34\",\n",
    "        edad >= 35 & edad <= 39  ~ \"35-39\",\n",
    "        edad >= 40 & edad <= 44  ~ \"40-44\",\n",
    "        edad >= 45 & edad <= 49  ~ \"45-49\",\n",
    "        edad >= 50 & edad <= 54  ~ \"50-54\",\n",
    "        edad >= 55 & edad <= 59  ~ \"55-59\",\n",
    "        edad >= 60 & edad <= 64  ~ \"60-64\",\n",
    "        edad >= 65 & edad <= 69  ~ \"65-69\",\n",
    "        edad >= 70 & edad <= 74  ~ \"70-74\",\n",
    "        edad >= 75 & edad <= 79  ~ \"75-79\",\n",
    "        edad >= 80 & edad <= 84  ~ \"80-84\",\n",
    "        edad >= 85              ~ \"85+\",\n",
    "        TRUE ~ NA_character_\n",
    "      )\n",
    "    )\n",
    "\n",
    "  # 4) Leer trabajos y construir indicador pres_5 a nivel persona\n",
    "  trabajos <- read_csv(paste0(\"data/ns_trabajos_\", year, \".csv\"),\n",
    "                       show_col_types = FALSE) |>\n",
    "    mutate(\n",
    "      cve_ent = case_when(\n",
    "        nchar(folioviv) == 9  ~ paste0(\"0\", substr(folioviv, 1, 1)),\n",
    "        nchar(folioviv) == 10 ~ substr(folioviv, 1, 2),\n",
    "        TRUE ~ NA_character_\n",
    "      )\n",
    "    ) |>\n",
    "    filter(cve_ent == \"09\") |>\n",
    "    # pres_5: 1 si reporta la prestación (códigos \"05\"/\"5\"/5), 0 en otro caso/NA\n",
    "    mutate(pres_5 = case_when(\n",
    "      pres_5 %in% c(\"05\", \"5\", 5) ~ 1L,\n",
    "      TRUE ~ 0L\n",
    "    )) |>\n",
    "    group_by(folioviv, foliohog, numren) |>\n",
    "    summarise(pres_5 = as.integer(sum(pres_5, na.rm = TRUE) >= 1),\n",
    "              .groups = \"drop\") |>\n",
    "    mutate(ocupado = 1L)\n",
    "\n",
    "  # 5) Quedarse solo con personas ocupadas (las que aparecen en trabajos)\n",
    "  ocupados <- poblacion |>\n",
    "    left_join(trabajos, by = c(\"folioviv\", \"foliohog\", \"numren\")) |>\n",
    "    filter(ocupado == 1L)\n",
    "\n",
    "  # Chequeo mínimo para el diseño muestral\n",
    "  if (!all(c(\"upm\", \"est_dis\", \"factor\") %in% names(ocupados))) {\n",
    "    stop(\"Faltan columnas del diseño muestral (upm, est_dis, factor). Revisa las uniones/archivos.\")\n",
    "  }\n",
    "\n",
    "  # 6) Diseño muestral\n",
    "  dm <- ocupados |>\n",
    "    as_survey_design(ids = upm, weights = factor, strata = est_dis)\n",
    "\n",
    "  # 7) Estimación\n",
    "  prestacion <- dm |>\n",
    "    mutate(\n",
    "      ident_jovenes = if_else(\n",
    "        grupo_edad %in% c(\"12-14\", \"15-17\", \"18-24\", \"25-29\"),\n",
    "        \"joven\", \"otros\"\n",
    "      )\n",
    "    ) |>\n",
    "    group_by(ident_jovenes, pres_5) |>\n",
    "    summarise(\n",
    "      ocupados = survey_total(vartype = \"cv\"),\n",
    "      pct      = survey_prop(vartype = \"cv\")\n",
    "    ) |>\n",
    "    ungroup() |>\n",
    "    mutate(pct = round(pct * 100, 1)) |>\n",
    "    # Nota: aquí estás filtrando quienes **no** tienen la prestación (0).\n",
    "    # Si quisieras los que sí tienen la prestación, cambia a `filter(pres_5 == 1)`.\n",
    "    filter(pres_5 == 0)|>\n",
    "    mutate(year=year)|>\n",
    "    filter(ident_jovenes == \"joven\")\n",
    "\n",
    "  if (identical(variable, \"prestacion\")) {\n",
    "    return(prestacion)\n",
    "  } else {\n",
    "    return(\"Variable no reconocida. Debe ser 'prestacion'.\")\n",
    "  }\n",
    "}\n"
   ]
  },
  {
   "cell_type": "code",
   "execution_count": 5,
   "id": "7ae05acf",
   "metadata": {
    "vscode": {
     "languageId": "r"
    }
   },
   "outputs": [
    {
     "name": "stdout",
     "output_type": "stream",
     "text": [
      "[1] \"Del total de jóvenes ocupados, ¿qué porcentaje recibe crédito para vivienda como prestación laboral?\"\n"
     ]
    },
    {
     "name": "stderr",
     "output_type": "stream",
     "text": [
      "Warning message:\n",
      "\"\u001b[1m\u001b[22mOne or more parsing issues, call `problems()` on your data frame for details,\n",
      "e.g.:\n",
      "  dat <- vroom(...)\n",
      "  problems(dat)\"\n",
      "Warning message:\n",
      "\"\u001b[1m\u001b[22mOne or more parsing issues, call `problems()` on your data frame for details,\n",
      "e.g.:\n",
      "  dat <- vroom(...)\n",
      "  problems(dat)\"\n",
      "Warning message:\n",
      "\"\u001b[1m\u001b[22mOne or more parsing issues, call `problems()` on your data frame for details,\n",
      "e.g.:\n",
      "  dat <- vroom(...)\n",
      "  problems(dat)\"\n",
      "Warning message:\n",
      "\"\u001b[1m\u001b[22mOne or more parsing issues, call `problems()` on your data frame for details,\n",
      "e.g.:\n",
      "  dat <- vroom(...)\n",
      "  problems(dat)\"\n",
      "Warning message:\n",
      "\"\u001b[1m\u001b[22mOne or more parsing issues, call `problems()` on your data frame for details,\n",
      "e.g.:\n",
      "  dat <- vroom(...)\n",
      "  problems(dat)\"\n",
      "Warning message:\n",
      "\"\u001b[1m\u001b[22mOne or more parsing issues, call `problems()` on your data frame for details,\n",
      "e.g.:\n",
      "  dat <- vroom(...)\n",
      "  problems(dat)\"\n",
      "Warning message:\n",
      "\"\u001b[1m\u001b[22mOne or more parsing issues, call `problems()` on your data frame for details,\n",
      "e.g.:\n",
      "  dat <- vroom(...)\n",
      "  problems(dat)\"\n",
      "Warning message:\n",
      "\"\u001b[1m\u001b[22mOne or more parsing issues, call `problems()` on your data frame for details,\n",
      "e.g.:\n",
      "  dat <- vroom(...)\n",
      "  problems(dat)\"\n",
      "Warning message:\n",
      "\"\u001b[1m\u001b[22mOne or more parsing issues, call `problems()` on your data frame for details,\n",
      "e.g.:\n",
      "  dat <- vroom(...)\n",
      "  problems(dat)\"\n",
      "Warning message:\n",
      "\"\u001b[1m\u001b[22mOne or more parsing issues, call `problems()` on your data frame for details,\n",
      "e.g.:\n",
      "  dat <- vroom(...)\n",
      "  problems(dat)\"\n"
     ]
    },
    {
     "data": {
      "text/html": [
       "<table class=\"dataframe\">\n",
       "<caption>A tibble: 4 × 7</caption>\n",
       "<thead>\n",
       "\t<tr><th scope=col>ident_jovenes</th><th scope=col>pres_5</th><th scope=col>ocupados</th><th scope=col>ocupados_cv</th><th scope=col>pct</th><th scope=col>pct_cv</th><th scope=col>year</th></tr>\n",
       "\t<tr><th scope=col>&lt;chr&gt;</th><th scope=col>&lt;int&gt;</th><th scope=col>&lt;dbl&gt;</th><th scope=col>&lt;dbl&gt;</th><th scope=col>&lt;dbl&gt;</th><th scope=col>&lt;dbl&gt;</th><th scope=col>&lt;chr&gt;</th></tr>\n",
       "</thead>\n",
       "<tbody>\n",
       "\t<tr><td>joven</td><td>0</td><td>707508</td><td>0.05903325</td><td>70.5</td><td>0.02998694</td><td>2018</td></tr>\n",
       "\t<tr><td>joven</td><td>0</td><td>607783</td><td>0.06102765</td><td>69.2</td><td>0.03197294</td><td>2020</td></tr>\n",
       "\t<tr><td>joven</td><td>0</td><td>671326</td><td>0.05563368</td><td>72.4</td><td>0.02790521</td><td>2022</td></tr>\n",
       "\t<tr><td>joven</td><td>0</td><td>626825</td><td>0.06027938</td><td>69.0</td><td>0.03404968</td><td>2024</td></tr>\n",
       "</tbody>\n",
       "</table>\n"
      ],
      "text/latex": [
       "A tibble: 4 × 7\n",
       "\\begin{tabular}{lllllll}\n",
       " ident\\_jovenes & pres\\_5 & ocupados & ocupados\\_cv & pct & pct\\_cv & year\\\\\n",
       " <chr> & <int> & <dbl> & <dbl> & <dbl> & <dbl> & <chr>\\\\\n",
       "\\hline\n",
       "\t joven & 0 & 707508 & 0.05903325 & 70.5 & 0.02998694 & 2018\\\\\n",
       "\t joven & 0 & 607783 & 0.06102765 & 69.2 & 0.03197294 & 2020\\\\\n",
       "\t joven & 0 & 671326 & 0.05563368 & 72.4 & 0.02790521 & 2022\\\\\n",
       "\t joven & 0 & 626825 & 0.06027938 & 69.0 & 0.03404968 & 2024\\\\\n",
       "\\end{tabular}\n"
      ],
      "text/markdown": [
       "\n",
       "A tibble: 4 × 7\n",
       "\n",
       "| ident_jovenes &lt;chr&gt; | pres_5 &lt;int&gt; | ocupados &lt;dbl&gt; | ocupados_cv &lt;dbl&gt; | pct &lt;dbl&gt; | pct_cv &lt;dbl&gt; | year &lt;chr&gt; |\n",
       "|---|---|---|---|---|---|---|\n",
       "| joven | 0 | 707508 | 0.05903325 | 70.5 | 0.02998694 | 2018 |\n",
       "| joven | 0 | 607783 | 0.06102765 | 69.2 | 0.03197294 | 2020 |\n",
       "| joven | 0 | 671326 | 0.05563368 | 72.4 | 0.02790521 | 2022 |\n",
       "| joven | 0 | 626825 | 0.06027938 | 69.0 | 0.03404968 | 2024 |\n",
       "\n"
      ],
      "text/plain": [
       "  ident_jovenes pres_5 ocupados ocupados_cv pct  pct_cv     year\n",
       "1 joven         0      707508   0.05903325  70.5 0.02998694 2018\n",
       "2 joven         0      607783   0.06102765  69.2 0.03197294 2020\n",
       "3 joven         0      671326   0.05563368  72.4 0.02790521 2022\n",
       "4 joven         0      626825   0.06027938  69.0 0.03404968 2024"
      ]
     },
     "metadata": {},
     "output_type": "display_data"
    }
   ],
   "source": [
    "print(\"Del total de jóvenes ocupados, ¿qué porcentaje recibe crédito para vivienda como prestación laboral?\")\n",
    "tabla_prestacion <- map_dfr(years, estima_prestacion, variable = \"prestacion\")\n",
    "tabla_prestacion"
   ]
  },
  {
   "cell_type": "code",
   "execution_count": 6,
   "id": "e5255ac8",
   "metadata": {
    "vscode": {
     "languageId": "r"
    }
   },
   "outputs": [
    {
     "data": {
      "text/html": [
       "0.00667054704667014"
      ],
      "text/latex": [
       "0.00667054704667014"
      ],
      "text/markdown": [
       "0.00667054704667014"
      ],
      "text/plain": [
       "[1] 0.006670547"
      ]
     },
     "metadata": {},
     "output_type": "display_data"
    }
   ],
   "source": [
    "tcma<-((tabla_prestacion$pct[tabla_prestacion$year==2022]/tabla_prestacion$pct[tabla_prestacion$year==2018])^(1/(2022-2018))-1)\n",
    "\n",
    "tcma"
   ]
  },
  {
   "cell_type": "code",
   "execution_count": 7,
   "id": "0a03e1c1",
   "metadata": {
    "vscode": {
     "languageId": "r"
    }
   },
   "outputs": [
    {
     "data": {
      "text/html": [
       "<table class=\"dataframe\">\n",
       "<caption>A data.frame: 21 × 2</caption>\n",
       "<thead>\n",
       "\t<tr><th scope=col>year</th><th scope=col>pct</th></tr>\n",
       "\t<tr><th scope=col>&lt;int&gt;</th><th scope=col>&lt;dbl&gt;</th></tr>\n",
       "</thead>\n",
       "<tbody>\n",
       "\t<tr><td>2025</td><td>69.46</td></tr>\n",
       "\t<tr><td>2026</td><td>69.92</td></tr>\n",
       "\t<tr><td>2027</td><td>70.39</td></tr>\n",
       "\t<tr><td>2028</td><td>70.86</td></tr>\n",
       "\t<tr><td>2029</td><td>71.33</td></tr>\n",
       "\t<tr><td>2030</td><td>71.81</td></tr>\n",
       "\t<tr><td>2031</td><td>72.29</td></tr>\n",
       "\t<tr><td>2032</td><td>72.77</td></tr>\n",
       "\t<tr><td>2033</td><td>73.25</td></tr>\n",
       "\t<tr><td>2034</td><td>73.74</td></tr>\n",
       "\t<tr><td>2035</td><td>74.24</td></tr>\n",
       "\t<tr><td>2036</td><td>74.73</td></tr>\n",
       "\t<tr><td>2037</td><td>75.23</td></tr>\n",
       "\t<tr><td>2038</td><td>75.73</td></tr>\n",
       "\t<tr><td>2039</td><td>76.24</td></tr>\n",
       "\t<tr><td>2040</td><td>76.74</td></tr>\n",
       "\t<tr><td>2041</td><td>77.26</td></tr>\n",
       "\t<tr><td>2042</td><td>77.77</td></tr>\n",
       "\t<tr><td>2043</td><td>78.29</td></tr>\n",
       "\t<tr><td>2044</td><td>78.81</td></tr>\n",
       "\t<tr><td>2045</td><td>79.34</td></tr>\n",
       "</tbody>\n",
       "</table>\n"
      ],
      "text/latex": [
       "A data.frame: 21 × 2\n",
       "\\begin{tabular}{ll}\n",
       " year & pct\\\\\n",
       " <int> & <dbl>\\\\\n",
       "\\hline\n",
       "\t 2025 & 69.46\\\\\n",
       "\t 2026 & 69.92\\\\\n",
       "\t 2027 & 70.39\\\\\n",
       "\t 2028 & 70.86\\\\\n",
       "\t 2029 & 71.33\\\\\n",
       "\t 2030 & 71.81\\\\\n",
       "\t 2031 & 72.29\\\\\n",
       "\t 2032 & 72.77\\\\\n",
       "\t 2033 & 73.25\\\\\n",
       "\t 2034 & 73.74\\\\\n",
       "\t 2035 & 74.24\\\\\n",
       "\t 2036 & 74.73\\\\\n",
       "\t 2037 & 75.23\\\\\n",
       "\t 2038 & 75.73\\\\\n",
       "\t 2039 & 76.24\\\\\n",
       "\t 2040 & 76.74\\\\\n",
       "\t 2041 & 77.26\\\\\n",
       "\t 2042 & 77.77\\\\\n",
       "\t 2043 & 78.29\\\\\n",
       "\t 2044 & 78.81\\\\\n",
       "\t 2045 & 79.34\\\\\n",
       "\\end{tabular}\n"
      ],
      "text/markdown": [
       "\n",
       "A data.frame: 21 × 2\n",
       "\n",
       "| year &lt;int&gt; | pct &lt;dbl&gt; |\n",
       "|---|---|\n",
       "| 2025 | 69.46 |\n",
       "| 2026 | 69.92 |\n",
       "| 2027 | 70.39 |\n",
       "| 2028 | 70.86 |\n",
       "| 2029 | 71.33 |\n",
       "| 2030 | 71.81 |\n",
       "| 2031 | 72.29 |\n",
       "| 2032 | 72.77 |\n",
       "| 2033 | 73.25 |\n",
       "| 2034 | 73.74 |\n",
       "| 2035 | 74.24 |\n",
       "| 2036 | 74.73 |\n",
       "| 2037 | 75.23 |\n",
       "| 2038 | 75.73 |\n",
       "| 2039 | 76.24 |\n",
       "| 2040 | 76.74 |\n",
       "| 2041 | 77.26 |\n",
       "| 2042 | 77.77 |\n",
       "| 2043 | 78.29 |\n",
       "| 2044 | 78.81 |\n",
       "| 2045 | 79.34 |\n",
       "\n"
      ],
      "text/plain": [
       "   year pct  \n",
       "1  2025 69.46\n",
       "2  2026 69.92\n",
       "3  2027 70.39\n",
       "4  2028 70.86\n",
       "5  2029 71.33\n",
       "6  2030 71.81\n",
       "7  2031 72.29\n",
       "8  2032 72.77\n",
       "9  2033 73.25\n",
       "10 2034 73.74\n",
       "11 2035 74.24\n",
       "12 2036 74.73\n",
       "13 2037 75.23\n",
       "14 2038 75.73\n",
       "15 2039 76.24\n",
       "16 2040 76.74\n",
       "17 2041 77.26\n",
       "18 2042 77.77\n",
       "19 2043 78.29\n",
       "20 2044 78.81\n",
       "21 2045 79.34"
      ]
     },
     "metadata": {},
     "output_type": "display_data"
    }
   ],
   "source": [
    "extendido<-data.frame(year=2025:2045)\n",
    "extendido$pct<-tabla_prestacion$pct[tabla_prestacion$year==2024]*cumprod(rep(1+tcma,length(2025:2045)))\n",
    "extendido%>%\n",
    "mutate(pct=round(pct,2))"
   ]
  },
  {
   "cell_type": "code",
   "execution_count": 8,
   "id": "6ea8467c",
   "metadata": {
    "vscode": {
     "languageId": "r"
    }
   },
   "outputs": [
    {
     "data": {
      "text/html": [
       "<table class=\"dataframe\">\n",
       "<caption>A tibble: 25 × 4</caption>\n",
       "<thead>\n",
       "\t<tr><th scope=col>year</th><th scope=col>estimado</th><th scope=col>superior</th><th scope=col>inferior</th></tr>\n",
       "\t<tr><th scope=col>&lt;dbl&gt;</th><th scope=col>&lt;dbl&gt;</th><th scope=col>&lt;dbl&gt;</th><th scope=col>&lt;dbl&gt;</th></tr>\n",
       "</thead>\n",
       "<tbody>\n",
       "\t<tr><td>2018</td><td>70.50000</td><td>70.50000</td><td>70.50000</td></tr>\n",
       "\t<tr><td>2020</td><td>69.20000</td><td>69.20000</td><td>69.20000</td></tr>\n",
       "\t<tr><td>2022</td><td>72.40000</td><td>72.40000</td><td>72.40000</td></tr>\n",
       "\t<tr><td>2024</td><td>69.00000</td><td>69.00000</td><td>69.00000</td></tr>\n",
       "\t<tr><td>2025</td><td>69.46027</td><td>69.73811</td><td>69.18353</td></tr>\n",
       "\t<tr><td>2026</td><td>69.92361</td><td>70.48411</td><td>69.36756</td></tr>\n",
       "\t<tr><td>2027</td><td>70.39003</td><td>71.23810</td><td>69.55207</td></tr>\n",
       "\t<tr><td>2028</td><td>70.85957</td><td>72.00015</td><td>69.73707</td></tr>\n",
       "\t<tr><td>2029</td><td>71.33225</td><td>72.77035</td><td>69.92256</td></tr>\n",
       "\t<tr><td>2030</td><td>71.80807</td><td>73.54879</td><td>70.10855</td></tr>\n",
       "\t<tr><td>2031</td><td>72.28707</td><td>74.33556</td><td>70.29503</td></tr>\n",
       "\t<tr><td>2032</td><td>72.76927</td><td>75.13074</td><td>70.48201</td></tr>\n",
       "\t<tr><td>2033</td><td>73.25468</td><td>75.93444</td><td>70.66949</td></tr>\n",
       "\t<tr><td>2034</td><td>73.74332</td><td>76.74672</td><td>70.85746</td></tr>\n",
       "\t<tr><td>2035</td><td>74.23523</td><td>77.56770</td><td>71.04594</td></tr>\n",
       "\t<tr><td>2036</td><td>74.73042</td><td>78.39746</td><td>71.23491</td></tr>\n",
       "\t<tr><td>2037</td><td>75.22892</td><td>79.23610</td><td>71.42439</td></tr>\n",
       "\t<tr><td>2038</td><td>75.73073</td><td>80.08370</td><td>71.61437</td></tr>\n",
       "\t<tr><td>2039</td><td>76.23590</td><td>80.94038</td><td>71.80486</td></tr>\n",
       "\t<tr><td>2040</td><td>76.74443</td><td>81.80621</td><td>71.99585</td></tr>\n",
       "\t<tr><td>2041</td><td>77.25636</td><td>82.68131</td><td>72.18736</td></tr>\n",
       "\t<tr><td>2042</td><td>77.77170</td><td>83.56577</td><td>72.37937</td></tr>\n",
       "\t<tr><td>2043</td><td>78.29048</td><td>84.45970</td><td>72.57189</td></tr>\n",
       "\t<tr><td>2044</td><td>78.81272</td><td>85.36318</td><td>72.76492</td></tr>\n",
       "\t<tr><td>2045</td><td>79.33845</td><td>86.27633</td><td>72.95847</td></tr>\n",
       "</tbody>\n",
       "</table>\n"
      ],
      "text/latex": [
       "A tibble: 25 × 4\n",
       "\\begin{tabular}{llll}\n",
       " year & estimado & superior & inferior\\\\\n",
       " <dbl> & <dbl> & <dbl> & <dbl>\\\\\n",
       "\\hline\n",
       "\t 2018 & 70.50000 & 70.50000 & 70.50000\\\\\n",
       "\t 2020 & 69.20000 & 69.20000 & 69.20000\\\\\n",
       "\t 2022 & 72.40000 & 72.40000 & 72.40000\\\\\n",
       "\t 2024 & 69.00000 & 69.00000 & 69.00000\\\\\n",
       "\t 2025 & 69.46027 & 69.73811 & 69.18353\\\\\n",
       "\t 2026 & 69.92361 & 70.48411 & 69.36756\\\\\n",
       "\t 2027 & 70.39003 & 71.23810 & 69.55207\\\\\n",
       "\t 2028 & 70.85957 & 72.00015 & 69.73707\\\\\n",
       "\t 2029 & 71.33225 & 72.77035 & 69.92256\\\\\n",
       "\t 2030 & 71.80807 & 73.54879 & 70.10855\\\\\n",
       "\t 2031 & 72.28707 & 74.33556 & 70.29503\\\\\n",
       "\t 2032 & 72.76927 & 75.13074 & 70.48201\\\\\n",
       "\t 2033 & 73.25468 & 75.93444 & 70.66949\\\\\n",
       "\t 2034 & 73.74332 & 76.74672 & 70.85746\\\\\n",
       "\t 2035 & 74.23523 & 77.56770 & 71.04594\\\\\n",
       "\t 2036 & 74.73042 & 78.39746 & 71.23491\\\\\n",
       "\t 2037 & 75.22892 & 79.23610 & 71.42439\\\\\n",
       "\t 2038 & 75.73073 & 80.08370 & 71.61437\\\\\n",
       "\t 2039 & 76.23590 & 80.94038 & 71.80486\\\\\n",
       "\t 2040 & 76.74443 & 81.80621 & 71.99585\\\\\n",
       "\t 2041 & 77.25636 & 82.68131 & 72.18736\\\\\n",
       "\t 2042 & 77.77170 & 83.56577 & 72.37937\\\\\n",
       "\t 2043 & 78.29048 & 84.45970 & 72.57189\\\\\n",
       "\t 2044 & 78.81272 & 85.36318 & 72.76492\\\\\n",
       "\t 2045 & 79.33845 & 86.27633 & 72.95847\\\\\n",
       "\\end{tabular}\n"
      ],
      "text/markdown": [
       "\n",
       "A tibble: 25 × 4\n",
       "\n",
       "| year &lt;dbl&gt; | estimado &lt;dbl&gt; | superior &lt;dbl&gt; | inferior &lt;dbl&gt; |\n",
       "|---|---|---|---|\n",
       "| 2018 | 70.50000 | 70.50000 | 70.50000 |\n",
       "| 2020 | 69.20000 | 69.20000 | 69.20000 |\n",
       "| 2022 | 72.40000 | 72.40000 | 72.40000 |\n",
       "| 2024 | 69.00000 | 69.00000 | 69.00000 |\n",
       "| 2025 | 69.46027 | 69.73811 | 69.18353 |\n",
       "| 2026 | 69.92361 | 70.48411 | 69.36756 |\n",
       "| 2027 | 70.39003 | 71.23810 | 69.55207 |\n",
       "| 2028 | 70.85957 | 72.00015 | 69.73707 |\n",
       "| 2029 | 71.33225 | 72.77035 | 69.92256 |\n",
       "| 2030 | 71.80807 | 73.54879 | 70.10855 |\n",
       "| 2031 | 72.28707 | 74.33556 | 70.29503 |\n",
       "| 2032 | 72.76927 | 75.13074 | 70.48201 |\n",
       "| 2033 | 73.25468 | 75.93444 | 70.66949 |\n",
       "| 2034 | 73.74332 | 76.74672 | 70.85746 |\n",
       "| 2035 | 74.23523 | 77.56770 | 71.04594 |\n",
       "| 2036 | 74.73042 | 78.39746 | 71.23491 |\n",
       "| 2037 | 75.22892 | 79.23610 | 71.42439 |\n",
       "| 2038 | 75.73073 | 80.08370 | 71.61437 |\n",
       "| 2039 | 76.23590 | 80.94038 | 71.80486 |\n",
       "| 2040 | 76.74443 | 81.80621 | 71.99585 |\n",
       "| 2041 | 77.25636 | 82.68131 | 72.18736 |\n",
       "| 2042 | 77.77170 | 83.56577 | 72.37937 |\n",
       "| 2043 | 78.29048 | 84.45970 | 72.57189 |\n",
       "| 2044 | 78.81272 | 85.36318 | 72.76492 |\n",
       "| 2045 | 79.33845 | 86.27633 | 72.95847 |\n",
       "\n"
      ],
      "text/plain": [
       "   year estimado superior inferior\n",
       "1  2018 70.50000 70.50000 70.50000\n",
       "2  2020 69.20000 69.20000 69.20000\n",
       "3  2022 72.40000 72.40000 72.40000\n",
       "4  2024 69.00000 69.00000 69.00000\n",
       "5  2025 69.46027 69.73811 69.18353\n",
       "6  2026 69.92361 70.48411 69.36756\n",
       "7  2027 70.39003 71.23810 69.55207\n",
       "8  2028 70.85957 72.00015 69.73707\n",
       "9  2029 71.33225 72.77035 69.92256\n",
       "10 2030 71.80807 73.54879 70.10855\n",
       "11 2031 72.28707 74.33556 70.29503\n",
       "12 2032 72.76927 75.13074 70.48201\n",
       "13 2033 73.25468 75.93444 70.66949\n",
       "14 2034 73.74332 76.74672 70.85746\n",
       "15 2035 74.23523 77.56770 71.04594\n",
       "16 2036 74.73042 78.39746 71.23491\n",
       "17 2037 75.22892 79.23610 71.42439\n",
       "18 2038 75.73073 80.08370 71.61437\n",
       "19 2039 76.23590 80.94038 71.80486\n",
       "20 2040 76.74443 81.80621 71.99585\n",
       "21 2041 77.25636 82.68131 72.18736\n",
       "22 2042 77.77170 83.56577 72.37937\n",
       "23 2043 78.29048 84.45970 72.57189\n",
       "24 2044 78.81272 85.36318 72.76492\n",
       "25 2045 79.33845 86.27633 72.95847"
      ]
     },
     "metadata": {},
     "output_type": "display_data"
    }
   ],
   "source": [
    "  serie_completa <- dplyr::bind_rows(\n",
    "    tabla_prestacion %>%\n",
    "      dplyr::mutate(year = as.numeric(year)) %>%\n",
    "      intervals(margen = 0, año_base = 2024,var = \"pct\"),\n",
    "\n",
    "    extendido %>%\n",
    "      dplyr::mutate(year = as.numeric(year)) %>%\n",
    "      intervals(margen = 0.004, año_base = 2024,var=\"pct\"))\n",
    "serie_completa"
   ]
  },
  {
   "cell_type": "code",
   "execution_count": 15,
   "id": "c4c37edc",
   "metadata": {
    "vscode": {
     "languageId": "r"
    }
   },
   "outputs": [
    {
     "data": {
      "image/png": "[encoded data removed]",
      "text/plain": [
       "plot without title"
      ]
     },
     "metadata": {
      "image/png": {
       "height": 420,
       "width": 420
      }
     },
     "output_type": "display_data"
    }
   ],
   "source": [
    "grafica_bonita(\n",
    "  data = serie_completa,\n",
    "  x = \"year\",\n",
    "  y = \"estimado\",\n",
    "  titulo = \"Porcentaje de población joven ocupada \n",
    "que recibe crédito para vivienda como prestación laboral en Ciudad de México\n",
    "\",\n",
    "    ano_base = 2024,\n",
    "  mostrar_etiqueta_ano_base = TRUE,\n",
    "  linea_vertical = 2024,\n",
    "  anios_etiquetas = c(2045),\n",
    "    desplazamiento_ano_base=c(0.8, 2.5),\n",
    "  mostrar_intervalo = \"ambos\",\n",
    "  nombre_observado = \"Observado\",\n",
    "  nombre_estimado_futuro = \"Deseable\",\n",
    "  nombre_intervalo_superior = \"Transformador\",\n",
    "  nombre_intervalo_inferior = \"Inercial\",\n",
    "  mostrar_leyenda = TRUE,\n",
    "  fuente = \"pop\",\n",
    "  etiqueta_x = \"Año\",\n",
    "  etiqueta_y = \"Porcentaje\",\n",
    "  titulo_leyenda = \"Escenarios\",\n",
    "  limite_inferior_y = 60\n",
    ")\n",
    "\n",
    "ggsave(\"H:/Mi unidad/pgd/graficas/jov_ocup_credvivi.png\",\n",
    " width = 10, height = 8.5, dpi = 185, bg = \"white\")"
   ]
  }
 ],
 "metadata": {
  "kernelspec": {
   "display_name": "R",
   "language": "R",
   "name": "ir"
  },
  "language_info": {
   "codemirror_mode": "r",
   "file_extension": ".r",
   "mimetype": "text/x-r-source",
   "name": "R",
   "pygments_lexer": "r",
   "version": "4.4.1"
  }
 },
 "nbformat": 4,
 "nbformat_minor": 5
}
