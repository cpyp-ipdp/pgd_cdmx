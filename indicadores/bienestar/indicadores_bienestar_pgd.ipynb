{
  "cells": [
    {
      "cell_type": "code",
      "execution_count": 1,
      "id": "da71e110128a7004",
      "metadata": {
        "colab": {
          "base_uri": "https://localhost:8080/"
        },
        "id": "da71e110128a7004",
        "outputId": "f83eebd1-55e2-4530-9160-47ddbe5b687d",
        "vscode": {
          "languageId": "r"
        }
      },
      "outputs": [
        {
          "name": "stderr",
          "output_type": "stream",
          "text": [
            "Loading required package: pacman\n",
            "\n",
            "Warning message in library(package, lib.loc = lib.loc, character.only = TRUE, logical.return = TRUE, :\n",
            "“there is no package called ‘pacman’”\n",
            "Installing package into ‘/usr/local/lib/R/site-library’\n",
            "(as ‘lib’ is unspecified)\n",
            "\n",
            "Installing package into ‘/usr/local/lib/R/site-library’\n",
            "(as ‘lib’ is unspecified)\n",
            "\n",
            "also installing the dependencies ‘sysfonts’, ‘showtextdb’\n",
            "\n",
            "\n",
            "\n",
            "showtext installed\n",
            "\n",
            "Installing package into ‘/usr/local/lib/R/site-library’\n",
            "(as ‘lib’ is unspecified)\n",
            "\n",
            "also installing the dependencies ‘minqa’, ‘numDeriv’, ‘mitools’, ‘RcppArmadillo’, ‘survey’\n",
            "\n",
            "\n",
            "\n",
            "srvyr installed\n",
            "\n"
          ]
        }
      ],
      "source": [
        "rm(list=ls())\n",
        "\n",
        "# Librerías ====\n",
        "if(!require('pacman')) install.packages('pacman')\n",
        "pacman::p_load(tidyverse, showtext, srvyr, haven, googledrive)"
      ]
    },
    {
      "cell_type": "code",
      "execution_count": 2,
      "id": "f6fe60c6cbfba9b3",
      "metadata": {
        "id": "f6fe60c6cbfba9b3",
        "vscode": {
          "languageId": "r"
        }
      },
      "outputs": [],
      "source": [
        "#Crear directorio para guardar los archivos\n",
        "dir.create(\"data\", showWarnings = FALSE)"
      ]
    },
    {
      "cell_type": "code",
      "execution_count": 3,
      "id": "c4a4989c7e1c68ca",
      "metadata": {
        "colab": {
          "base_uri": "https://localhost:8080/"
        },
        "id": "c4a4989c7e1c68ca",
        "outputId": "bf73037e-ad38-4652-be01-afe06daa798d",
        "vscode": {
          "languageId": "r"
        }
      },
      "outputs": [
        {
          "name": "stderr",
          "output_type": "stream",
          "text": [
            "Please point your browser to the following url: \n",
            "\n",
            "https://accounts.google.com/o/oauth2/v2/auth?client_id=603366585132-frjlouoa3s2ono25d2l9ukvhlsrlnr7k.apps.googleusercontent.com&scope=https%3A%2F%2Fwww.googleapis.com%2Fauth%2Fdrive%20https%3A%2F%2Fwww.googleapis.com%2Fauth%2Fuserinfo.email&redirect_uri=https%3A%2F%2Fwww.tidyverse.org%2Fgoogle-callback%2F&response_type=code&state=5b9ae25c5030d5741b6938e209aed5e4&login_hint=claudiodanielpc%40gmail.com&access_type=offline&prompt=consent\n",
            "\n"
          ]
        },
        {
          "name": "stdout",
          "output_type": "stream",
          "text": [
            "Enter authorization code: eyJjb2RlIjoiNC8wQVNWZ2kzTHlkbWcwZHNQcjB4ZkZWc0ZIM0dGQ2pXbU41bEVWOVIybUY4VmozOW40MjI3dWRCTVg0UEJXM2hjd280Y2c2ZyIsInN0YXRlIjoiNWI5YWUyNWM1MDMwZDU3NDFiNjkzOGUyMDlhZWQ1ZTQifQ==\n"
          ]
        }
      ],
      "source": [
        "  #Conectar a google drive\n",
        "drive_auth(email = \"claudiodanielpc@gmail.com\",cache = FALSE)"
      ]
    },
    {
      "cell_type": "code",
      "execution_count": 4,
      "id": "b497aa216cd5c342",
      "metadata": {
        "colab": {
          "base_uri": "https://localhost:8080/"
        },
        "id": "b497aa216cd5c342",
        "outputId": "8e8bbe00-e338-4086-95b0-bcdf42199780",
        "vscode": {
          "languageId": "r"
        }
      },
      "outputs": [
        {
          "name": "stdout",
          "output_type": "stream",
          "text": [
            "\u001b[90m# A dribble: 3 × 3\u001b[39m\n",
            "  name             id                                drive_resource   \n",
            "  \u001b[3m\u001b[90m<chr>\u001b[39m\u001b[23m            \u001b[3m\u001b[90m<drv_id>\u001b[39m\u001b[23m                          \u001b[3m\u001b[90m<list>\u001b[39m\u001b[23m           \n",
            "\u001b[90m1\u001b[39m pobreza_2022.dta 1T_WfYanYMOoWWbhj_CeiqxYRNrpXmDan \u001b[90m<named list [42]>\u001b[39m\n",
            "\u001b[90m2\u001b[39m pobreza_2020.dta 1TXJLNA_itWfjsGIdoj1bJQ4erNjc1wIx \u001b[90m<named list [42]>\u001b[39m\n",
            "\u001b[90m3\u001b[39m pobreza_2018.dta 1TTRfiRDGWgQwHylvduHx1IRdm5vQ3VeL \u001b[90m<named list [42]>\u001b[39m\n"
          ]
        }
      ],
      "source": [
        "carpeta<-as_id(drive_get(\"https://drive.google.com/drive/folders/1TBfoik4w4DWhwFqWeZFgkZvrBdDbqzku\"))\n",
        "\n",
        "\n",
        "archivos<-drive_ls(carpeta)\n",
        "print(archivos)"
      ]
    },
    {
      "cell_type": "code",
      "execution_count": 5,
      "id": "91c4e57152e0424b",
      "metadata": {
        "colab": {
          "base_uri": "https://localhost:8080/",
          "height": 192
        },
        "id": "91c4e57152e0424b",
        "outputId": "5e91f000-9ec8-4a8e-f144-d4fd1f3c687c",
        "vscode": {
          "languageId": "r"
        }
      },
      "outputs": [
        {
          "data": {
            "text/html": [
              "<table class=\"dataframe\">\n",
              "<caption>A tibble: 3 × 1</caption>\n",
              "<thead>\n",
              "\t<tr><th scope=col>name</th></tr>\n",
              "\t<tr><th scope=col>&lt;chr&gt;</th></tr>\n",
              "</thead>\n",
              "<tbody>\n",
              "\t<tr><td>pobreza_2022.dta</td></tr>\n",
              "\t<tr><td>pobreza_2020.dta</td></tr>\n",
              "\t<tr><td>pobreza_2018.dta</td></tr>\n",
              "</tbody>\n",
              "</table>\n"
            ],
            "text/latex": [
              "A tibble: 3 × 1\n",
              "\\begin{tabular}{l}\n",
              " name\\\\\n",
              " <chr>\\\\\n",
              "\\hline\n",
              "\t pobreza\\_2022.dta\\\\\n",
              "\t pobreza\\_2020.dta\\\\\n",
              "\t pobreza\\_2018.dta\\\\\n",
              "\\end{tabular}\n"
            ],
            "text/markdown": [
              "\n",
              "A tibble: 3 × 1\n",
              "\n",
              "| name &lt;chr&gt; |\n",
              "|---|\n",
              "| pobreza_2022.dta |\n",
              "| pobreza_2020.dta |\n",
              "| pobreza_2018.dta |\n",
              "\n"
            ],
            "text/plain": [
              "  name            \n",
              "1 pobreza_2022.dta\n",
              "2 pobreza_2020.dta\n",
              "3 pobreza_2018.dta"
            ]
          },
          "metadata": {},
          "output_type": "display_data"
        }
      ],
      "source": [
        "archivos[1]"
      ]
    },
    {
      "cell_type": "code",
      "execution_count": 12,
      "id": "15fddc2e26f63c41",
      "metadata": {
        "id": "15fddc2e26f63c41",
        "vscode": {
          "languageId": "r"
        }
      },
      "outputs": [],
      "source": [
        "estimacion_pobreza <- function(file_id, file_name, variable) {\n",
        "  # Descarga de datos\n",
        "  local_path <- file.path(\"data\", file_name)\n",
        "  drive_download(as_id(file_id), path = local_path, overwrite = TRUE)\n",
        "\n",
        "  # Leer datos\n",
        "  datos <- read_dta(local_path)\n",
        "\n",
        "  # Añadir año\n",
        "  year <- str_extract(file_name, \"\\\\d{4}\")\n",
        "\n",
        "\n",
        "  # Diseño muestral\n",
        "  mydesign <- datos %>%\n",
        "    as_survey_design(ids = upm,\n",
        "                     strata = est_dis,\n",
        "                     weights = factor)\n",
        "\n",
        "  # Estima pobreza\n",
        "  pobreza <- mydesign %>%\n",
        "    #Filtrar datos para CDMX\n",
        "  filter(entidad==9)%>%\n",
        "    #Filtar grupo de población en pobreza\n",
        "    group_by(pobreza_mmip)%>%\n",
        "    summarise(\n",
        "      poblacion = survey_total(vartype = \"cv\"),\n",
        "      porcentaje = survey_prop(vartype = \"cv\")\n",
        "    ) %>%\n",
        "    mutate(porcentaje = round(porcentaje * 100, 2),\n",
        "           year = as.numeric(year))%>%\n",
        "  filter(pobreza_mmip == 1)\n",
        "\n",
        "\n",
        "##Pobreza extrema\n",
        "pobreza_extrema <- mydesign %>%\n",
        "    #Filtrar datos para CDMX\n",
        "  filter(entidad==9)%>%\n",
        "    #Filtar grupo de población en pobreza\n",
        "    group_by(pobre_ext_mmip)%>%\n",
        "    summarise(\n",
        "      poblacion = survey_total(vartype = \"cv\"),\n",
        "      porcentaje = survey_prop(vartype = \"cv\")\n",
        "    ) %>%\n",
        "    mutate(porcentaje = round(porcentaje * 100, 2),\n",
        "           year = as.numeric(year))%>%\n",
        "  filter(pobre_ext_mmip == 1)\n",
        "\n",
        "\n",
        "\n",
        "#Condición\n",
        "\n",
        "if (variable==\"pobreza\") {\n",
        "    return(pobreza)}\n",
        "\n",
        "else if (variable==\"pobreza_extrema\") {\n",
        "\n",
        "         return(pobreza_extrema)\n",
        "\n",
        "}\n",
        "\n",
        "else {\n",
        "    stop(\"Variable no reconocida..\")\n",
        "\n",
        "}}"
      ]
    },
    {
      "cell_type": "code",
      "execution_count": 14,
      "id": "50a1e8791de93a34",
      "metadata": {
        "colab": {
          "base_uri": "https://localhost:8080/",
          "height": 654
        },
        "id": "50a1e8791de93a34",
        "outputId": "d7196f0c-8208-4489-b508-94a6fab8bacd",
        "vscode": {
          "languageId": "r"
        }
      },
      "outputs": [
        {
          "name": "stderr",
          "output_type": "stream",
          "text": [
            "File downloaded:\n",
            "\n",
            "• \u001b[36mpobreza_2022.dta\u001b[39m \u001b[90m<id: 1T_WfYanYMOoWWbhj_CeiqxYRNrpXmDan>\u001b[39m\n",
            "\n",
            "Saved locally as:\n",
            "\n",
            "• \u001b[34mdata/pobreza_2022.dta\u001b[39m\n",
            "\n",
            "File downloaded:\n",
            "\n",
            "• \u001b[36mpobreza_2020.dta\u001b[39m \u001b[90m<id: 1TXJLNA_itWfjsGIdoj1bJQ4erNjc1wIx>\u001b[39m\n",
            "\n",
            "Saved locally as:\n",
            "\n",
            "• \u001b[34mdata/pobreza_2020.dta\u001b[39m\n",
            "\n",
            "File downloaded:\n",
            "\n",
            "• \u001b[36mpobreza_2018.dta\u001b[39m \u001b[90m<id: 1TTRfiRDGWgQwHylvduHx1IRdm5vQ3VeL>\u001b[39m\n",
            "\n",
            "Saved locally as:\n",
            "\n",
            "• \u001b[34mdata/pobreza_2018.dta\u001b[39m\n",
            "\n"
          ]
        },
        {
          "name": "stdout",
          "output_type": "stream",
          "text": [
            "[1] \"Estimación de población en situación de pobreza en la CDMX\"\n"
          ]
        },
        {
          "data": {
            "text/html": [
              "<table class=\"dataframe\">\n",
              "<caption>A tibble: 3 × 6</caption>\n",
              "<thead>\n",
              "\t<tr><th scope=col>pobreza_mmip</th><th scope=col>poblacion</th><th scope=col>poblacion_cv</th><th scope=col>porcentaje</th><th scope=col>porcentaje_cv</th><th scope=col>year</th></tr>\n",
              "\t<tr><th scope=col>&lt;dbl&gt;</th><th scope=col>&lt;dbl&gt;</th><th scope=col>&lt;dbl&gt;</th><th scope=col>&lt;dbl&gt;</th><th scope=col>&lt;dbl&gt;</th><th scope=col>&lt;dbl&gt;</th></tr>\n",
              "</thead>\n",
              "<tbody>\n",
              "\t<tr><td>1</td><td>5957774</td><td>0.03162363</td><td>64.78</td><td>0.01996497</td><td>2018</td></tr>\n",
              "\t<tr><td>1</td><td>5805913</td><td>0.02787769</td><td>62.83</td><td>0.01862333</td><td>2020</td></tr>\n",
              "\t<tr><td>1</td><td>5842356</td><td>0.02846174</td><td>62.79</td><td>0.01698602</td><td>2022</td></tr>\n",
              "</tbody>\n",
              "</table>\n"
            ],
            "text/latex": [
              "A tibble: 3 × 6\n",
              "\\begin{tabular}{llllll}\n",
              " pobreza\\_mmip & poblacion & poblacion\\_cv & porcentaje & porcentaje\\_cv & year\\\\\n",
              " <dbl> & <dbl> & <dbl> & <dbl> & <dbl> & <dbl>\\\\\n",
              "\\hline\n",
              "\t 1 & 5957774 & 0.03162363 & 64.78 & 0.01996497 & 2018\\\\\n",
              "\t 1 & 5805913 & 0.02787769 & 62.83 & 0.01862333 & 2020\\\\\n",
              "\t 1 & 5842356 & 0.02846174 & 62.79 & 0.01698602 & 2022\\\\\n",
              "\\end{tabular}\n"
            ],
            "text/markdown": [
              "\n",
              "A tibble: 3 × 6\n",
              "\n",
              "| pobreza_mmip &lt;dbl&gt; | poblacion &lt;dbl&gt; | poblacion_cv &lt;dbl&gt; | porcentaje &lt;dbl&gt; | porcentaje_cv &lt;dbl&gt; | year &lt;dbl&gt; |\n",
              "|---|---|---|---|---|---|\n",
              "| 1 | 5957774 | 0.03162363 | 64.78 | 0.01996497 | 2018 |\n",
              "| 1 | 5805913 | 0.02787769 | 62.83 | 0.01862333 | 2020 |\n",
              "| 1 | 5842356 | 0.02846174 | 62.79 | 0.01698602 | 2022 |\n",
              "\n"
            ],
            "text/plain": [
              "  pobreza_mmip poblacion poblacion_cv porcentaje porcentaje_cv year\n",
              "1 1            5957774   0.03162363   64.78      0.01996497    2018\n",
              "2 1            5805913   0.02787769   62.83      0.01862333    2020\n",
              "3 1            5842356   0.02846174   62.79      0.01698602    2022"
            ]
          },
          "metadata": {},
          "output_type": "display_data"
        }
      ],
      "source": [
        "tabla_pobreza <- map_dfr(\n",
        "  seq_len(nrow(archivos)),\n",
        "  ~ estimacion_pobreza(archivos$id[.x], archivos$name[.x],variable=\"pobreza\")\n",
        ")%>%\n",
        "  arrange(year)\n",
        "\n",
        "print(\"Estimación de población en situación de pobreza en la CDMX\")\n",
        "tabla_pobreza"
      ]
    },
    {
      "cell_type": "code",
      "execution_count": 15,
      "id": "8UvP3vOXfmNW",
      "metadata": {
        "colab": {
          "base_uri": "https://localhost:8080/",
          "height": 654
        },
        "id": "8UvP3vOXfmNW",
        "outputId": "bbade265-2854-4ddf-eb39-dfe5dbf9f074",
        "vscode": {
          "languageId": "r"
        }
      },
      "outputs": [
        {
          "name": "stderr",
          "output_type": "stream",
          "text": [
            "File downloaded:\n",
            "\n",
            "• \u001b[36mpobreza_2022.dta\u001b[39m \u001b[90m<id: 1T_WfYanYMOoWWbhj_CeiqxYRNrpXmDan>\u001b[39m\n",
            "\n",
            "Saved locally as:\n",
            "\n",
            "• \u001b[34mdata/pobreza_2022.dta\u001b[39m\n",
            "\n",
            "File downloaded:\n",
            "\n",
            "• \u001b[36mpobreza_2020.dta\u001b[39m \u001b[90m<id: 1TXJLNA_itWfjsGIdoj1bJQ4erNjc1wIx>\u001b[39m\n",
            "\n",
            "Saved locally as:\n",
            "\n",
            "• \u001b[34mdata/pobreza_2020.dta\u001b[39m\n",
            "\n",
            "File downloaded:\n",
            "\n",
            "• \u001b[36mpobreza_2018.dta\u001b[39m \u001b[90m<id: 1TTRfiRDGWgQwHylvduHx1IRdm5vQ3VeL>\u001b[39m\n",
            "\n",
            "Saved locally as:\n",
            "\n",
            "• \u001b[34mdata/pobreza_2018.dta\u001b[39m\n",
            "\n"
          ]
        },
        {
          "name": "stdout",
          "output_type": "stream",
          "text": [
            "[1] \"Estimación de población en situación de pobreza extrema en la CDMX\"\n"
          ]
        },
        {
          "data": {
            "text/html": [
              "<table class=\"dataframe\">\n",
              "<caption>A tibble: 3 × 6</caption>\n",
              "<thead>\n",
              "\t<tr><th scope=col>pobre_ext_mmip</th><th scope=col>poblacion</th><th scope=col>poblacion_cv</th><th scope=col>porcentaje</th><th scope=col>porcentaje_cv</th><th scope=col>year</th></tr>\n",
              "\t<tr><th scope=col>&lt;dbl&gt;</th><th scope=col>&lt;dbl&gt;</th><th scope=col>&lt;dbl&gt;</th><th scope=col>&lt;dbl&gt;</th><th scope=col>&lt;dbl&gt;</th><th scope=col>&lt;dbl&gt;</th></tr>\n",
              "</thead>\n",
              "<tbody>\n",
              "\t<tr><td>1</td><td>1719778</td><td>0.06560991</td><td>18.70</td><td>0.05824661</td><td>2018</td></tr>\n",
              "\t<tr><td>1</td><td>1571571</td><td>0.05676477</td><td>17.01</td><td>0.05227363</td><td>2020</td></tr>\n",
              "\t<tr><td>1</td><td>1333103</td><td>0.06789734</td><td>14.33</td><td>0.06458095</td><td>2022</td></tr>\n",
              "</tbody>\n",
              "</table>\n"
            ],
            "text/latex": [
              "A tibble: 3 × 6\n",
              "\\begin{tabular}{llllll}\n",
              " pobre\\_ext\\_mmip & poblacion & poblacion\\_cv & porcentaje & porcentaje\\_cv & year\\\\\n",
              " <dbl> & <dbl> & <dbl> & <dbl> & <dbl> & <dbl>\\\\\n",
              "\\hline\n",
              "\t 1 & 1719778 & 0.06560991 & 18.70 & 0.05824661 & 2018\\\\\n",
              "\t 1 & 1571571 & 0.05676477 & 17.01 & 0.05227363 & 2020\\\\\n",
              "\t 1 & 1333103 & 0.06789734 & 14.33 & 0.06458095 & 2022\\\\\n",
              "\\end{tabular}\n"
            ],
            "text/markdown": [
              "\n",
              "A tibble: 3 × 6\n",
              "\n",
              "| pobre_ext_mmip &lt;dbl&gt; | poblacion &lt;dbl&gt; | poblacion_cv &lt;dbl&gt; | porcentaje &lt;dbl&gt; | porcentaje_cv &lt;dbl&gt; | year &lt;dbl&gt; |\n",
              "|---|---|---|---|---|---|\n",
              "| 1 | 1719778 | 0.06560991 | 18.70 | 0.05824661 | 2018 |\n",
              "| 1 | 1571571 | 0.05676477 | 17.01 | 0.05227363 | 2020 |\n",
              "| 1 | 1333103 | 0.06789734 | 14.33 | 0.06458095 | 2022 |\n",
              "\n"
            ],
            "text/plain": [
              "  pobre_ext_mmip poblacion poblacion_cv porcentaje porcentaje_cv year\n",
              "1 1              1719778   0.06560991   18.70      0.05824661    2018\n",
              "2 1              1571571   0.05676477   17.01      0.05227363    2020\n",
              "3 1              1333103   0.06789734   14.33      0.06458095    2022"
            ]
          },
          "metadata": {},
          "output_type": "display_data"
        }
      ],
      "source": [
        "tabla_pobreza_ext <- map_dfr(\n",
        "  seq_len(nrow(archivos)),\n",
        "  ~ estimacion_pobreza(archivos$id[.x], archivos$name[.x],variable=\"pobreza_extrema\")\n",
        ")%>%\n",
        "  arrange(year)\n",
        "\n",
        "print(\"Estimación de población en situación de pobreza extrema en la CDMX\")\n",
        "tabla_pobreza_ext"
      ]
    },
    {
      "cell_type": "code",
      "execution_count": null,
      "id": "7f311f8e",
      "metadata": {
        "vscode": {
          "languageId": "r"
        }
      },
      "outputs": [],
      "source": [
        "#Crear tabla de datos\n",
        "tabla_pobreza <- tabla_pobreza %>%\n",
        "  select(year, porcentaje) %>%\n",
        "  mutate(variable = \"porcentaje_pob\")\n",
        "tabla_pobreza_ext <- tabla_pobreza_ext %>%\n",
        "  select(year, porcentaje) %>%  \n",
        "    mutate(variable = \"porcentaje_pobext\") \n",
        "\n",
        "tabla_final <- tabla_pobreza%>%\n",
        "left_join(tabla_pobreza_ext, by = \"year\")\n",
        "\n",
        "#Salvar tabla\n",
        "openxlsx::write.xlsx(tabla_final, \"datos_indicadores.xlsx\")"
      ]
    }
  ],
  "metadata": {
    "colab": {
      "provenance": []
    },
    "kernelspec": {
      "display_name": "R",
      "name": "ir"
    },
    "language_info": {
      "name": "R"
    }
  },
  "nbformat": 4,
  "nbformat_minor": 5
}
