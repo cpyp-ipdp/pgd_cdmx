{
 "cells": [
  {
   "cell_type": "code",
   "execution_count": 1,
   "id": "8bf65aff",
   "metadata": {
    "vscode": {
     "languageId": "r"
    }
   },
   "outputs": [
    {
     "name": "stderr",
     "output_type": "stream",
     "text": [
      "Cargando paquete requerido: pacman\n",
      "\n",
      "Using GitHub PAT from the git credential store.\n",
      "\n",
      "Downloading GitHub repo cpyp-ipdp/funcionespgd@HEAD\n",
      "\n"
     ]
    },
    {
     "name": "stdout",
     "output_type": "stream",
     "text": [
      "rlang  (1.1.4 -> 1.1.6) [CRAN]\n",
      "glue   (1.7.0 -> 1.8.0) [CRAN]\n",
      "cli    (3.6.3 -> 3.6.5) [CRAN]\n",
      "tibble (3.2.1 -> 3.3.0) [CRAN]\n"
     ]
    },
    {
     "name": "stderr",
     "output_type": "stream",
     "text": [
      "Installing 4 packages: rlang, glue, cli, tibble\n",
      "\n",
      "Warning message:\n",
      "\"package 'tibble' is in use and will not be installed\"\n",
      "Installing packages into 'C:/Users/claud/AppData/Local/R/win-library/4.4'\n",
      "(as 'lib' is unspecified)\n",
      "\n"
     ]
    },
    {
     "name": "stdout",
     "output_type": "stream",
     "text": [
      "package 'rlang' successfully unpacked and MD5 sums checked\n"
     ]
    },
    {
     "name": "stderr",
     "output_type": "stream",
     "text": [
      "Warning message:\n",
      "\"cannot remove prior installation of package 'rlang'\"\n",
      "Warning message in file.copy(savedcopy, lib, recursive = TRUE):\n",
      "\"problema al copiar C:\\Users\\claud\\AppData\\Local\\R\\win-library\\4.4\\00LOCK\\rlang\\libs\\x64\\rlang.dll  a C:\\Users\\claud\\AppData\\Local\\R\\win-library\\4.4\\rlang\\libs\\x64\\rlang.dll: Permission denied\"\n",
      "Warning message:\n",
      "\"restored 'rlang'\"\n"
     ]
    },
    {
     "name": "stdout",
     "output_type": "stream",
     "text": [
      "package 'glue' successfully unpacked and MD5 sums checked\n"
     ]
    },
    {
     "name": "stderr",
     "output_type": "stream",
     "text": [
      "Warning message:\n",
      "\"cannot remove prior installation of package 'glue'\"\n",
      "Warning message in file.copy(savedcopy, lib, recursive = TRUE):\n",
      "\"problema al copiar C:\\Users\\claud\\AppData\\Local\\R\\win-library\\4.4\\00LOCK\\glue\\libs\\x64\\glue.dll  a C:\\Users\\claud\\AppData\\Local\\R\\win-library\\4.4\\glue\\libs\\x64\\glue.dll: Permission denied\"\n",
      "Warning message:\n",
      "\"restored 'glue'\"\n"
     ]
    },
    {
     "name": "stdout",
     "output_type": "stream",
     "text": [
      "package 'cli' successfully unpacked and MD5 sums checked\n"
     ]
    },
    {
     "name": "stderr",
     "output_type": "stream",
     "text": [
      "Warning message:\n",
      "\"cannot remove prior installation of package 'cli'\"\n",
      "Warning message in file.copy(savedcopy, lib, recursive = TRUE):\n",
      "\"problema al copiar C:\\Users\\claud\\AppData\\Local\\R\\win-library\\4.4\\00LOCK\\cli\\libs\\x64\\cli.dll  a C:\\Users\\claud\\AppData\\Local\\R\\win-library\\4.4\\cli\\libs\\x64\\cli.dll: Permission denied\"\n",
      "Warning message:\n",
      "\"restored 'cli'\"\n"
     ]
    },
    {
     "name": "stdout",
     "output_type": "stream",
     "text": [
      "\n",
      "The downloaded binary packages are in\n",
      "\tC:\\Users\\claud\\AppData\\Local\\Temp\\RtmpIp8Caq\\downloaded_packages\n",
      "\u001b[36m──\u001b[39m \u001b[36mR CMD build\u001b[39m \u001b[36m─────────────────────────────────────────────────────────────────\u001b[39m\n",
      "* checking for file 'C:\\Users\\claud\\AppData\\Local\\Temp\\RtmpIp8Caq\\remotes3ed43f78b42\\cpyp-ipdp-funcionespgd-3fffa52/DESCRIPTION' ... OK\n",
      "* preparing 'funcionespgd':\n",
      "* checking DESCRIPTION meta-information ... OK\n",
      "* checking for LF line-endings in source and make files and shell scripts\n",
      "* checking for empty or unneeded directories\n",
      "Omitted 'LazyData' from DESCRIPTION\n",
      "* building 'funcionespgd_0.1.0.tar.gz'\n",
      "\n"
     ]
    },
    {
     "name": "stderr",
     "output_type": "stream",
     "text": [
      "Installing package into 'C:/Users/claud/AppData/Local/R/win-library/4.4'\n",
      "(as 'lib' is unspecified)\n",
      "\n"
     ]
    }
   ],
   "source": [
    "##Estimación de indicadores de seguridad\n",
    "#Se borra todo lo que se encuentra en el entorno\n",
    "\n",
    "rm(list=ls())\n",
    "\n",
    "# Librerías ====\n",
    "if(!require('pacman')) install.packages('pacman')\n",
    "pacman::p_load(tidyverse,lubridate, showtext,srvyr,foreign)\n",
    "font_add_google(\"Poppins\", \"pop\")\n",
    "showtext_auto()\n",
    "remotes::install_github(\"cpyp-ipdp/funcionespgd\", force = TRUE)\n",
    "library(funcionespgd)"
   ]
  },
  {
   "cell_type": "code",
   "execution_count": 2,
   "id": "dbb28a9e",
   "metadata": {
    "vscode": {
     "languageId": "r"
    }
   },
   "outputs": [
    {
     "data": {
      "text/html": [
       "'c:/Users/claud/Documents/GitHub/pgd_cdmx/indicadores/bienestar'"
      ],
      "text/latex": [
       "'c:/Users/claud/Documents/GitHub/pgd\\_cdmx/indicadores/bienestar'"
      ],
      "text/markdown": [
       "'c:/Users/claud/Documents/GitHub/pgd_cdmx/indicadores/bienestar'"
      ],
      "text/plain": [
       "[1] \"c:/Users/claud/Documents/GitHub/pgd_cdmx/indicadores/bienestar\""
      ]
     },
     "metadata": {},
     "output_type": "display_data"
    }
   ],
   "source": [
    "getwd()"
   ]
  },
  {
   "cell_type": "code",
   "execution_count": 3,
   "id": "b5a68d23",
   "metadata": {
    "vscode": {
     "languageId": "r"
    }
   },
   "outputs": [
    {
     "data": {
      "text/html": [
       "<table class=\"dataframe\">\n",
       "<caption>A data.frame: 26 × 3</caption>\n",
       "<thead>\n",
       "\t<tr><th></th><th scope=col>year</th><th scope=col>porcentaje_pob</th><th scope=col>porcentaje_pobext</th></tr>\n",
       "\t<tr><th></th><th scope=col>&lt;dbl&gt;</th><th scope=col>&lt;dbl&gt;</th><th scope=col>&lt;dbl&gt;</th></tr>\n",
       "</thead>\n",
       "<tbody>\n",
       "\t<tr><th scope=row>1</th><td>2018</td><td>64.78474</td><td>18.700837</td></tr>\n",
       "\t<tr><th scope=row>2</th><td>2020</td><td>62.83018</td><td>17.007159</td></tr>\n",
       "\t<tr><th scope=row>3</th><td>2022</td><td>62.79059</td><td>14.327494</td></tr>\n",
       "\t<tr><th scope=row>4</th><td>2023</td><td>61.75940</td><td>13.781536</td></tr>\n",
       "\t<tr><th scope=row>5</th><td>2024</td><td>60.74515</td><td>13.256382</td></tr>\n",
       "\t<tr><th scope=row>6</th><td>2025</td><td>59.74755</td><td>12.751239</td></tr>\n",
       "\t<tr><th scope=row>7</th><td>2026</td><td>58.76634</td><td>12.265345</td></tr>\n",
       "\t<tr><th scope=row>8</th><td>2027</td><td>57.80124</td><td>11.797966</td></tr>\n",
       "\t<tr><th scope=row>9</th><td>2028</td><td>56.85199</td><td>11.348397</td></tr>\n",
       "\t<tr><th scope=row>10</th><td>2029</td><td>55.91833</td><td>10.915960</td></tr>\n",
       "\t<tr><th scope=row>11</th><td>2030</td><td>55.00000</td><td>10.500000</td></tr>\n",
       "\t<tr><th scope=row>12</th><td>2031</td><td>53.96152</td><td> 9.816659</td></tr>\n",
       "\t<tr><th scope=row>13</th><td>2032</td><td>52.94264</td><td> 9.177789</td></tr>\n",
       "\t<tr><th scope=row>14</th><td>2033</td><td>51.94301</td><td> 8.580498</td></tr>\n",
       "\t<tr><th scope=row>15</th><td>2034</td><td>50.96224</td><td> 8.022078</td></tr>\n",
       "\t<tr><th scope=row>16</th><td>2035</td><td>50.00000</td><td> 7.500000</td></tr>\n",
       "\t<tr><th scope=row>17</th><td>2036</td><td>48.89664</td><td> 6.750000</td></tr>\n",
       "\t<tr><th scope=row>18</th><td>2037</td><td>47.81762</td><td> 6.000000</td></tr>\n",
       "\t<tr><th scope=row>19</th><td>2038</td><td>46.76242</td><td> 5.250000</td></tr>\n",
       "\t<tr><th scope=row>20</th><td>2039</td><td>45.73051</td><td> 4.500000</td></tr>\n",
       "\t<tr><th scope=row>21</th><td>2040</td><td>44.72136</td><td> 3.750000</td></tr>\n",
       "\t<tr><th scope=row>22</th><td>2041</td><td>43.73448</td><td> 3.000000</td></tr>\n",
       "\t<tr><th scope=row>23</th><td>2042</td><td>42.76938</td><td> 2.250000</td></tr>\n",
       "\t<tr><th scope=row>24</th><td>2043</td><td>41.82558</td><td> 1.500000</td></tr>\n",
       "\t<tr><th scope=row>25</th><td>2044</td><td>40.90261</td><td> 0.750000</td></tr>\n",
       "\t<tr><th scope=row>26</th><td>2045</td><td>40.00000</td><td> 0.000000</td></tr>\n",
       "</tbody>\n",
       "</table>\n"
      ],
      "text/latex": [
       "A data.frame: 26 × 3\n",
       "\\begin{tabular}{r|lll}\n",
       "  & year & porcentaje\\_pob & porcentaje\\_pobext\\\\\n",
       "  & <dbl> & <dbl> & <dbl>\\\\\n",
       "\\hline\n",
       "\t1 & 2018 & 64.78474 & 18.700837\\\\\n",
       "\t2 & 2020 & 62.83018 & 17.007159\\\\\n",
       "\t3 & 2022 & 62.79059 & 14.327494\\\\\n",
       "\t4 & 2023 & 61.75940 & 13.781536\\\\\n",
       "\t5 & 2024 & 60.74515 & 13.256382\\\\\n",
       "\t6 & 2025 & 59.74755 & 12.751239\\\\\n",
       "\t7 & 2026 & 58.76634 & 12.265345\\\\\n",
       "\t8 & 2027 & 57.80124 & 11.797966\\\\\n",
       "\t9 & 2028 & 56.85199 & 11.348397\\\\\n",
       "\t10 & 2029 & 55.91833 & 10.915960\\\\\n",
       "\t11 & 2030 & 55.00000 & 10.500000\\\\\n",
       "\t12 & 2031 & 53.96152 &  9.816659\\\\\n",
       "\t13 & 2032 & 52.94264 &  9.177789\\\\\n",
       "\t14 & 2033 & 51.94301 &  8.580498\\\\\n",
       "\t15 & 2034 & 50.96224 &  8.022078\\\\\n",
       "\t16 & 2035 & 50.00000 &  7.500000\\\\\n",
       "\t17 & 2036 & 48.89664 &  6.750000\\\\\n",
       "\t18 & 2037 & 47.81762 &  6.000000\\\\\n",
       "\t19 & 2038 & 46.76242 &  5.250000\\\\\n",
       "\t20 & 2039 & 45.73051 &  4.500000\\\\\n",
       "\t21 & 2040 & 44.72136 &  3.750000\\\\\n",
       "\t22 & 2041 & 43.73448 &  3.000000\\\\\n",
       "\t23 & 2042 & 42.76938 &  2.250000\\\\\n",
       "\t24 & 2043 & 41.82558 &  1.500000\\\\\n",
       "\t25 & 2044 & 40.90261 &  0.750000\\\\\n",
       "\t26 & 2045 & 40.00000 &  0.000000\\\\\n",
       "\\end{tabular}\n"
      ],
      "text/markdown": [
       "\n",
       "A data.frame: 26 × 3\n",
       "\n",
       "| <!--/--> | year &lt;dbl&gt; | porcentaje_pob &lt;dbl&gt; | porcentaje_pobext &lt;dbl&gt; |\n",
       "|---|---|---|---|\n",
       "| 1 | 2018 | 64.78474 | 18.700837 |\n",
       "| 2 | 2020 | 62.83018 | 17.007159 |\n",
       "| 3 | 2022 | 62.79059 | 14.327494 |\n",
       "| 4 | 2023 | 61.75940 | 13.781536 |\n",
       "| 5 | 2024 | 60.74515 | 13.256382 |\n",
       "| 6 | 2025 | 59.74755 | 12.751239 |\n",
       "| 7 | 2026 | 58.76634 | 12.265345 |\n",
       "| 8 | 2027 | 57.80124 | 11.797966 |\n",
       "| 9 | 2028 | 56.85199 | 11.348397 |\n",
       "| 10 | 2029 | 55.91833 | 10.915960 |\n",
       "| 11 | 2030 | 55.00000 | 10.500000 |\n",
       "| 12 | 2031 | 53.96152 |  9.816659 |\n",
       "| 13 | 2032 | 52.94264 |  9.177789 |\n",
       "| 14 | 2033 | 51.94301 |  8.580498 |\n",
       "| 15 | 2034 | 50.96224 |  8.022078 |\n",
       "| 16 | 2035 | 50.00000 |  7.500000 |\n",
       "| 17 | 2036 | 48.89664 |  6.750000 |\n",
       "| 18 | 2037 | 47.81762 |  6.000000 |\n",
       "| 19 | 2038 | 46.76242 |  5.250000 |\n",
       "| 20 | 2039 | 45.73051 |  4.500000 |\n",
       "| 21 | 2040 | 44.72136 |  3.750000 |\n",
       "| 22 | 2041 | 43.73448 |  3.000000 |\n",
       "| 23 | 2042 | 42.76938 |  2.250000 |\n",
       "| 24 | 2043 | 41.82558 |  1.500000 |\n",
       "| 25 | 2044 | 40.90261 |  0.750000 |\n",
       "| 26 | 2045 | 40.00000 |  0.000000 |\n",
       "\n"
      ],
      "text/plain": [
       "   year porcentaje_pob porcentaje_pobext\n",
       "1  2018 64.78474       18.700837        \n",
       "2  2020 62.83018       17.007159        \n",
       "3  2022 62.79059       14.327494        \n",
       "4  2023 61.75940       13.781536        \n",
       "5  2024 60.74515       13.256382        \n",
       "6  2025 59.74755       12.751239        \n",
       "7  2026 58.76634       12.265345        \n",
       "8  2027 57.80124       11.797966        \n",
       "9  2028 56.85199       11.348397        \n",
       "10 2029 55.91833       10.915960        \n",
       "11 2030 55.00000       10.500000        \n",
       "12 2031 53.96152        9.816659        \n",
       "13 2032 52.94264        9.177789        \n",
       "14 2033 51.94301        8.580498        \n",
       "15 2034 50.96224        8.022078        \n",
       "16 2035 50.00000        7.500000        \n",
       "17 2036 48.89664        6.750000        \n",
       "18 2037 47.81762        6.000000        \n",
       "19 2038 46.76242        5.250000        \n",
       "20 2039 45.73051        4.500000        \n",
       "21 2040 44.72136        3.750000        \n",
       "22 2041 43.73448        3.000000        \n",
       "23 2042 42.76938        2.250000        \n",
       "24 2043 41.82558        1.500000        \n",
       "25 2044 40.90261        0.750000        \n",
       "26 2045 40.00000        0.000000        "
      ]
     },
     "metadata": {},
     "output_type": "display_data"
    }
   ],
   "source": [
    "## leer excel\n",
    "datos <- openxlsx::read.xlsx(\"datos_indicadores.xlsx\")\n",
    "datos"
   ]
  },
  {
   "cell_type": "code",
   "execution_count": 4,
   "id": "07246d5e",
   "metadata": {
    "vscode": {
     "languageId": "r"
    }
   },
   "outputs": [
    {
     "data": {
      "text/html": [
       "<table class=\"dataframe\">\n",
       "<caption>A data.frame: 26 × 4</caption>\n",
       "<thead>\n",
       "\t<tr><th></th><th scope=col>year</th><th scope=col>estimado</th><th scope=col>superior</th><th scope=col>inferior</th></tr>\n",
       "\t<tr><th></th><th scope=col>&lt;dbl&gt;</th><th scope=col>&lt;dbl&gt;</th><th scope=col>&lt;dbl&gt;</th><th scope=col>&lt;dbl&gt;</th></tr>\n",
       "</thead>\n",
       "<tbody>\n",
       "\t<tr><th scope=row>1</th><td>2018</td><td>64.78474</td><td>64.78474</td><td>64.78474</td></tr>\n",
       "\t<tr><th scope=row>2</th><td>2020</td><td>62.83018</td><td>62.83018</td><td>62.83018</td></tr>\n",
       "\t<tr><th scope=row>3</th><td>2022</td><td>62.79059</td><td>62.79059</td><td>62.79059</td></tr>\n",
       "\t<tr><th scope=row>4</th><td>2023</td><td>61.75940</td><td>62.00644</td><td>61.51335</td></tr>\n",
       "\t<tr><th scope=row>5</th><td>2024</td><td>60.74515</td><td>61.23208</td><td>60.26209</td></tr>\n",
       "\t<tr><th scope=row>6</th><td>2025</td><td>59.74755</td><td>60.46739</td><td>59.03628</td></tr>\n",
       "\t<tr><th scope=row>7</th><td>2026</td><td>58.76634</td><td>59.71226</td><td>57.83541</td></tr>\n",
       "\t<tr><th scope=row>8</th><td>2027</td><td>57.80124</td><td>58.96655</td><td>56.65896</td></tr>\n",
       "\t<tr><th scope=row>9</th><td>2028</td><td>56.85199</td><td>58.23016</td><td>55.50644</td></tr>\n",
       "\t<tr><th scope=row>10</th><td>2029</td><td>55.91833</td><td>57.50296</td><td>54.37737</td></tr>\n",
       "\t<tr><th scope=row>11</th><td>2030</td><td>55.00000</td><td>56.78484</td><td>53.27126</td></tr>\n",
       "\t<tr><th scope=row>12</th><td>2031</td><td>53.96152</td><td>55.93551</td><td>52.05719</td></tr>\n",
       "\t<tr><th scope=row>13</th><td>2032</td><td>52.94264</td><td>55.09887</td><td>50.87079</td></tr>\n",
       "\t<tr><th scope=row>14</th><td>2033</td><td>51.94301</td><td>54.27477</td><td>49.71143</td></tr>\n",
       "\t<tr><th scope=row>15</th><td>2034</td><td>50.96224</td><td>53.46297</td><td>48.57848</td></tr>\n",
       "\t<tr><th scope=row>16</th><td>2035</td><td>50.00000</td><td>52.66332</td><td>47.47137</td></tr>\n",
       "\t<tr><th scope=row>17</th><td>2036</td><td>48.89664</td><td>51.70720</td><td>46.23885</td></tr>\n",
       "\t<tr><th scope=row>18</th><td>2037</td><td>47.81762</td><td>50.76842</td><td>45.03833</td></tr>\n",
       "\t<tr><th scope=row>19</th><td>2038</td><td>46.76242</td><td>49.84670</td><td>43.86898</td></tr>\n",
       "\t<tr><th scope=row>20</th><td>2039</td><td>45.73051</td><td>48.94171</td><td>42.73000</td></tr>\n",
       "\t<tr><th scope=row>21</th><td>2040</td><td>44.72136</td><td>48.05315</td><td>41.62058</td></tr>\n",
       "\t<tr><th scope=row>22</th><td>2041</td><td>43.73448</td><td>47.18071</td><td>40.53997</td></tr>\n",
       "\t<tr><th scope=row>23</th><td>2042</td><td>42.76938</td><td>46.32412</td><td>39.48741</td></tr>\n",
       "\t<tr><th scope=row>24</th><td>2043</td><td>41.82558</td><td>45.48309</td><td>38.46219</td></tr>\n",
       "\t<tr><th scope=row>25</th><td>2044</td><td>40.90261</td><td>44.65732</td><td>37.46359</td></tr>\n",
       "\t<tr><th scope=row>26</th><td>2045</td><td>40.00000</td><td>43.84655</td><td>36.49090</td></tr>\n",
       "</tbody>\n",
       "</table>\n"
      ],
      "text/latex": [
       "A data.frame: 26 × 4\n",
       "\\begin{tabular}{r|llll}\n",
       "  & year & estimado & superior & inferior\\\\\n",
       "  & <dbl> & <dbl> & <dbl> & <dbl>\\\\\n",
       "\\hline\n",
       "\t1 & 2018 & 64.78474 & 64.78474 & 64.78474\\\\\n",
       "\t2 & 2020 & 62.83018 & 62.83018 & 62.83018\\\\\n",
       "\t3 & 2022 & 62.79059 & 62.79059 & 62.79059\\\\\n",
       "\t4 & 2023 & 61.75940 & 62.00644 & 61.51335\\\\\n",
       "\t5 & 2024 & 60.74515 & 61.23208 & 60.26209\\\\\n",
       "\t6 & 2025 & 59.74755 & 60.46739 & 59.03628\\\\\n",
       "\t7 & 2026 & 58.76634 & 59.71226 & 57.83541\\\\\n",
       "\t8 & 2027 & 57.80124 & 58.96655 & 56.65896\\\\\n",
       "\t9 & 2028 & 56.85199 & 58.23016 & 55.50644\\\\\n",
       "\t10 & 2029 & 55.91833 & 57.50296 & 54.37737\\\\\n",
       "\t11 & 2030 & 55.00000 & 56.78484 & 53.27126\\\\\n",
       "\t12 & 2031 & 53.96152 & 55.93551 & 52.05719\\\\\n",
       "\t13 & 2032 & 52.94264 & 55.09887 & 50.87079\\\\\n",
       "\t14 & 2033 & 51.94301 & 54.27477 & 49.71143\\\\\n",
       "\t15 & 2034 & 50.96224 & 53.46297 & 48.57848\\\\\n",
       "\t16 & 2035 & 50.00000 & 52.66332 & 47.47137\\\\\n",
       "\t17 & 2036 & 48.89664 & 51.70720 & 46.23885\\\\\n",
       "\t18 & 2037 & 47.81762 & 50.76842 & 45.03833\\\\\n",
       "\t19 & 2038 & 46.76242 & 49.84670 & 43.86898\\\\\n",
       "\t20 & 2039 & 45.73051 & 48.94171 & 42.73000\\\\\n",
       "\t21 & 2040 & 44.72136 & 48.05315 & 41.62058\\\\\n",
       "\t22 & 2041 & 43.73448 & 47.18071 & 40.53997\\\\\n",
       "\t23 & 2042 & 42.76938 & 46.32412 & 39.48741\\\\\n",
       "\t24 & 2043 & 41.82558 & 45.48309 & 38.46219\\\\\n",
       "\t25 & 2044 & 40.90261 & 44.65732 & 37.46359\\\\\n",
       "\t26 & 2045 & 40.00000 & 43.84655 & 36.49090\\\\\n",
       "\\end{tabular}\n"
      ],
      "text/markdown": [
       "\n",
       "A data.frame: 26 × 4\n",
       "\n",
       "| <!--/--> | year &lt;dbl&gt; | estimado &lt;dbl&gt; | superior &lt;dbl&gt; | inferior &lt;dbl&gt; |\n",
       "|---|---|---|---|---|\n",
       "| 1 | 2018 | 64.78474 | 64.78474 | 64.78474 |\n",
       "| 2 | 2020 | 62.83018 | 62.83018 | 62.83018 |\n",
       "| 3 | 2022 | 62.79059 | 62.79059 | 62.79059 |\n",
       "| 4 | 2023 | 61.75940 | 62.00644 | 61.51335 |\n",
       "| 5 | 2024 | 60.74515 | 61.23208 | 60.26209 |\n",
       "| 6 | 2025 | 59.74755 | 60.46739 | 59.03628 |\n",
       "| 7 | 2026 | 58.76634 | 59.71226 | 57.83541 |\n",
       "| 8 | 2027 | 57.80124 | 58.96655 | 56.65896 |\n",
       "| 9 | 2028 | 56.85199 | 58.23016 | 55.50644 |\n",
       "| 10 | 2029 | 55.91833 | 57.50296 | 54.37737 |\n",
       "| 11 | 2030 | 55.00000 | 56.78484 | 53.27126 |\n",
       "| 12 | 2031 | 53.96152 | 55.93551 | 52.05719 |\n",
       "| 13 | 2032 | 52.94264 | 55.09887 | 50.87079 |\n",
       "| 14 | 2033 | 51.94301 | 54.27477 | 49.71143 |\n",
       "| 15 | 2034 | 50.96224 | 53.46297 | 48.57848 |\n",
       "| 16 | 2035 | 50.00000 | 52.66332 | 47.47137 |\n",
       "| 17 | 2036 | 48.89664 | 51.70720 | 46.23885 |\n",
       "| 18 | 2037 | 47.81762 | 50.76842 | 45.03833 |\n",
       "| 19 | 2038 | 46.76242 | 49.84670 | 43.86898 |\n",
       "| 20 | 2039 | 45.73051 | 48.94171 | 42.73000 |\n",
       "| 21 | 2040 | 44.72136 | 48.05315 | 41.62058 |\n",
       "| 22 | 2041 | 43.73448 | 47.18071 | 40.53997 |\n",
       "| 23 | 2042 | 42.76938 | 46.32412 | 39.48741 |\n",
       "| 24 | 2043 | 41.82558 | 45.48309 | 38.46219 |\n",
       "| 25 | 2044 | 40.90261 | 44.65732 | 37.46359 |\n",
       "| 26 | 2045 | 40.00000 | 43.84655 | 36.49090 |\n",
       "\n"
      ],
      "text/plain": [
       "   year estimado superior inferior\n",
       "1  2018 64.78474 64.78474 64.78474\n",
       "2  2020 62.83018 62.83018 62.83018\n",
       "3  2022 62.79059 62.79059 62.79059\n",
       "4  2023 61.75940 62.00644 61.51335\n",
       "5  2024 60.74515 61.23208 60.26209\n",
       "6  2025 59.74755 60.46739 59.03628\n",
       "7  2026 58.76634 59.71226 57.83541\n",
       "8  2027 57.80124 58.96655 56.65896\n",
       "9  2028 56.85199 58.23016 55.50644\n",
       "10 2029 55.91833 57.50296 54.37737\n",
       "11 2030 55.00000 56.78484 53.27126\n",
       "12 2031 53.96152 55.93551 52.05719\n",
       "13 2032 52.94264 55.09887 50.87079\n",
       "14 2033 51.94301 54.27477 49.71143\n",
       "15 2034 50.96224 53.46297 48.57848\n",
       "16 2035 50.00000 52.66332 47.47137\n",
       "17 2036 48.89664 51.70720 46.23885\n",
       "18 2037 47.81762 50.76842 45.03833\n",
       "19 2038 46.76242 49.84670 43.86898\n",
       "20 2039 45.73051 48.94171 42.73000\n",
       "21 2040 44.72136 48.05315 41.62058\n",
       "22 2041 43.73448 47.18071 40.53997\n",
       "23 2042 42.76938 46.32412 39.48741\n",
       "24 2043 41.82558 45.48309 38.46219\n",
       "25 2044 40.90261 44.65732 37.46359\n",
       "26 2045 40.00000 43.84655 36.49090"
      ]
     },
     "metadata": {},
     "output_type": "display_data"
    }
   ],
   "source": [
    "pobreza<-datos%>%\n",
    "select(year,porcentaje_pob)%>%\n",
    "intervals(\"porcentaje_pob\", margen = 0.004, año_base = 2022)\n",
    "pobreza"
   ]
  },
  {
   "cell_type": "code",
   "execution_count": 5,
   "id": "55ca2ee5",
   "metadata": {
    "vscode": {
     "languageId": "r"
    }
   },
   "outputs": [
    {
     "data": {
      "text/html": [
       "<table class=\"dataframe\">\n",
       "<caption>A data.frame: 26 × 4</caption>\n",
       "<thead>\n",
       "\t<tr><th></th><th scope=col>year</th><th scope=col>estimado</th><th scope=col>superior</th><th scope=col>inferior</th></tr>\n",
       "\t<tr><th></th><th scope=col>&lt;dbl&gt;</th><th scope=col>&lt;dbl&gt;</th><th scope=col>&lt;dbl&gt;</th><th scope=col>&lt;dbl&gt;</th></tr>\n",
       "</thead>\n",
       "<tbody>\n",
       "\t<tr><th scope=row>1</th><td>2018</td><td>18.700837</td><td>18.7008370</td><td>18.7008370</td></tr>\n",
       "\t<tr><th scope=row>2</th><td>2020</td><td>17.007159</td><td>17.0071590</td><td>17.0071590</td></tr>\n",
       "\t<tr><th scope=row>3</th><td>2022</td><td>14.327494</td><td>14.3274940</td><td>14.3274940</td></tr>\n",
       "\t<tr><th scope=row>4</th><td>2023</td><td>13.781536</td><td>13.8780068</td><td>13.6857358</td></tr>\n",
       "\t<tr><th scope=row>5</th><td>2024</td><td>13.256382</td><td>13.4426209</td><td>13.0727233</td></tr>\n",
       "\t<tr><th scope=row>6</th><td>2025</td><td>12.751239</td><td>13.0208938</td><td>12.4871686</td></tr>\n",
       "\t<tr><th scope=row>7</th><td>2026</td><td>12.265345</td><td>12.6123975</td><td>11.9278422</td></tr>\n",
       "\t<tr><th scope=row>8</th><td>2027</td><td>11.797966</td><td>12.2167164</td><td>11.3935690</td></tr>\n",
       "\t<tr><th scope=row>9</th><td>2028</td><td>11.348397</td><td>11.8334490</td><td>10.8832272</td></tr>\n",
       "\t<tr><th scope=row>10</th><td>2029</td><td>10.915960</td><td>11.4622065</td><td>10.3957456</td></tr>\n",
       "\t<tr><th scope=row>11</th><td>2030</td><td>10.500000</td><td>11.1026095</td><td> 9.9300980</td></tr>\n",
       "\t<tr><th scope=row>12</th><td>2031</td><td> 9.816659</td><td>10.4527109</td><td> 9.2193111</td></tr>\n",
       "\t<tr><th scope=row>13</th><td>2032</td><td> 9.177789</td><td> 9.8408537</td><td> 8.5594008</td></tr>\n",
       "\t<tr><th scope=row>14</th><td>2033</td><td> 8.580498</td><td> 9.2648133</td><td> 7.9467275</td></tr>\n",
       "\t<tr><th scope=row>15</th><td>2034</td><td> 8.022078</td><td> 8.7224909</td><td> 7.3779080</td></tr>\n",
       "\t<tr><th scope=row>16</th><td>2035</td><td> 7.500000</td><td> 8.2119138</td><td> 6.8498040</td></tr>\n",
       "\t<tr><th scope=row>17</th><td>2036</td><td> 6.750000</td><td> 7.4424575</td><td> 6.1219698</td></tr>\n",
       "\t<tr><th scope=row>18</th><td>2037</td><td> 6.000000</td><td> 6.6618264</td><td> 5.4039235</td></tr>\n",
       "\t<tr><th scope=row>19</th><td>2038</td><td> 5.250000</td><td> 5.8699018</td><td> 4.6955641</td></tr>\n",
       "\t<tr><th scope=row>20</th><td>2039</td><td> 4.500000</td><td> 5.0665638</td><td> 3.9967917</td></tr>\n",
       "\t<tr><th scope=row>21</th><td>2040</td><td> 3.750000</td><td> 4.2516914</td><td> 3.3075072</td></tr>\n",
       "\t<tr><th scope=row>22</th><td>2041</td><td> 3.000000</td><td> 3.4251626</td><td> 2.6276125</td></tr>\n",
       "\t<tr><th scope=row>23</th><td>2042</td><td> 2.250000</td><td> 2.5868541</td><td> 1.9570103</td></tr>\n",
       "\t<tr><th scope=row>24</th><td>2043</td><td> 1.500000</td><td> 1.7366414</td><td> 1.2956043</td></tr>\n",
       "\t<tr><th scope=row>25</th><td>2044</td><td> 0.750000</td><td> 0.8743989</td><td> 0.6432991</td></tr>\n",
       "\t<tr><th scope=row>26</th><td>2045</td><td> 0.000000</td><td> 0.0000000</td><td> 0.0000000</td></tr>\n",
       "</tbody>\n",
       "</table>\n"
      ],
      "text/latex": [
       "A data.frame: 26 × 4\n",
       "\\begin{tabular}{r|llll}\n",
       "  & year & estimado & superior & inferior\\\\\n",
       "  & <dbl> & <dbl> & <dbl> & <dbl>\\\\\n",
       "\\hline\n",
       "\t1 & 2018 & 18.700837 & 18.7008370 & 18.7008370\\\\\n",
       "\t2 & 2020 & 17.007159 & 17.0071590 & 17.0071590\\\\\n",
       "\t3 & 2022 & 14.327494 & 14.3274940 & 14.3274940\\\\\n",
       "\t4 & 2023 & 13.781536 & 13.8780068 & 13.6857358\\\\\n",
       "\t5 & 2024 & 13.256382 & 13.4426209 & 13.0727233\\\\\n",
       "\t6 & 2025 & 12.751239 & 13.0208938 & 12.4871686\\\\\n",
       "\t7 & 2026 & 12.265345 & 12.6123975 & 11.9278422\\\\\n",
       "\t8 & 2027 & 11.797966 & 12.2167164 & 11.3935690\\\\\n",
       "\t9 & 2028 & 11.348397 & 11.8334490 & 10.8832272\\\\\n",
       "\t10 & 2029 & 10.915960 & 11.4622065 & 10.3957456\\\\\n",
       "\t11 & 2030 & 10.500000 & 11.1026095 &  9.9300980\\\\\n",
       "\t12 & 2031 &  9.816659 & 10.4527109 &  9.2193111\\\\\n",
       "\t13 & 2032 &  9.177789 &  9.8408537 &  8.5594008\\\\\n",
       "\t14 & 2033 &  8.580498 &  9.2648133 &  7.9467275\\\\\n",
       "\t15 & 2034 &  8.022078 &  8.7224909 &  7.3779080\\\\\n",
       "\t16 & 2035 &  7.500000 &  8.2119138 &  6.8498040\\\\\n",
       "\t17 & 2036 &  6.750000 &  7.4424575 &  6.1219698\\\\\n",
       "\t18 & 2037 &  6.000000 &  6.6618264 &  5.4039235\\\\\n",
       "\t19 & 2038 &  5.250000 &  5.8699018 &  4.6955641\\\\\n",
       "\t20 & 2039 &  4.500000 &  5.0665638 &  3.9967917\\\\\n",
       "\t21 & 2040 &  3.750000 &  4.2516914 &  3.3075072\\\\\n",
       "\t22 & 2041 &  3.000000 &  3.4251626 &  2.6276125\\\\\n",
       "\t23 & 2042 &  2.250000 &  2.5868541 &  1.9570103\\\\\n",
       "\t24 & 2043 &  1.500000 &  1.7366414 &  1.2956043\\\\\n",
       "\t25 & 2044 &  0.750000 &  0.8743989 &  0.6432991\\\\\n",
       "\t26 & 2045 &  0.000000 &  0.0000000 &  0.0000000\\\\\n",
       "\\end{tabular}\n"
      ],
      "text/markdown": [
       "\n",
       "A data.frame: 26 × 4\n",
       "\n",
       "| <!--/--> | year &lt;dbl&gt; | estimado &lt;dbl&gt; | superior &lt;dbl&gt; | inferior &lt;dbl&gt; |\n",
       "|---|---|---|---|---|\n",
       "| 1 | 2018 | 18.700837 | 18.7008370 | 18.7008370 |\n",
       "| 2 | 2020 | 17.007159 | 17.0071590 | 17.0071590 |\n",
       "| 3 | 2022 | 14.327494 | 14.3274940 | 14.3274940 |\n",
       "| 4 | 2023 | 13.781536 | 13.8780068 | 13.6857358 |\n",
       "| 5 | 2024 | 13.256382 | 13.4426209 | 13.0727233 |\n",
       "| 6 | 2025 | 12.751239 | 13.0208938 | 12.4871686 |\n",
       "| 7 | 2026 | 12.265345 | 12.6123975 | 11.9278422 |\n",
       "| 8 | 2027 | 11.797966 | 12.2167164 | 11.3935690 |\n",
       "| 9 | 2028 | 11.348397 | 11.8334490 | 10.8832272 |\n",
       "| 10 | 2029 | 10.915960 | 11.4622065 | 10.3957456 |\n",
       "| 11 | 2030 | 10.500000 | 11.1026095 |  9.9300980 |\n",
       "| 12 | 2031 |  9.816659 | 10.4527109 |  9.2193111 |\n",
       "| 13 | 2032 |  9.177789 |  9.8408537 |  8.5594008 |\n",
       "| 14 | 2033 |  8.580498 |  9.2648133 |  7.9467275 |\n",
       "| 15 | 2034 |  8.022078 |  8.7224909 |  7.3779080 |\n",
       "| 16 | 2035 |  7.500000 |  8.2119138 |  6.8498040 |\n",
       "| 17 | 2036 |  6.750000 |  7.4424575 |  6.1219698 |\n",
       "| 18 | 2037 |  6.000000 |  6.6618264 |  5.4039235 |\n",
       "| 19 | 2038 |  5.250000 |  5.8699018 |  4.6955641 |\n",
       "| 20 | 2039 |  4.500000 |  5.0665638 |  3.9967917 |\n",
       "| 21 | 2040 |  3.750000 |  4.2516914 |  3.3075072 |\n",
       "| 22 | 2041 |  3.000000 |  3.4251626 |  2.6276125 |\n",
       "| 23 | 2042 |  2.250000 |  2.5868541 |  1.9570103 |\n",
       "| 24 | 2043 |  1.500000 |  1.7366414 |  1.2956043 |\n",
       "| 25 | 2044 |  0.750000 |  0.8743989 |  0.6432991 |\n",
       "| 26 | 2045 |  0.000000 |  0.0000000 |  0.0000000 |\n",
       "\n"
      ],
      "text/plain": [
       "   year estimado  superior   inferior  \n",
       "1  2018 18.700837 18.7008370 18.7008370\n",
       "2  2020 17.007159 17.0071590 17.0071590\n",
       "3  2022 14.327494 14.3274940 14.3274940\n",
       "4  2023 13.781536 13.8780068 13.6857358\n",
       "5  2024 13.256382 13.4426209 13.0727233\n",
       "6  2025 12.751239 13.0208938 12.4871686\n",
       "7  2026 12.265345 12.6123975 11.9278422\n",
       "8  2027 11.797966 12.2167164 11.3935690\n",
       "9  2028 11.348397 11.8334490 10.8832272\n",
       "10 2029 10.915960 11.4622065 10.3957456\n",
       "11 2030 10.500000 11.1026095  9.9300980\n",
       "12 2031  9.816659 10.4527109  9.2193111\n",
       "13 2032  9.177789  9.8408537  8.5594008\n",
       "14 2033  8.580498  9.2648133  7.9467275\n",
       "15 2034  8.022078  8.7224909  7.3779080\n",
       "16 2035  7.500000  8.2119138  6.8498040\n",
       "17 2036  6.750000  7.4424575  6.1219698\n",
       "18 2037  6.000000  6.6618264  5.4039235\n",
       "19 2038  5.250000  5.8699018  4.6955641\n",
       "20 2039  4.500000  5.0665638  3.9967917\n",
       "21 2040  3.750000  4.2516914  3.3075072\n",
       "22 2041  3.000000  3.4251626  2.6276125\n",
       "23 2042  2.250000  2.5868541  1.9570103\n",
       "24 2043  1.500000  1.7366414  1.2956043\n",
       "25 2044  0.750000  0.8743989  0.6432991\n",
       "26 2045  0.000000  0.0000000  0.0000000"
      ]
     },
     "metadata": {},
     "output_type": "display_data"
    }
   ],
   "source": [
    "pobrezaext<-datos%>%\n",
    "select(year,porcentaje_pobext)%>%\n",
    "intervals(\"porcentaje_pobext\", margen = 0.007, año_base = 2022)\n",
    "pobrezaext"
   ]
  },
  {
   "cell_type": "code",
   "execution_count": 13,
   "id": "7709a89d",
   "metadata": {
    "vscode": {
     "languageId": "r"
    }
   },
   "outputs": [
    {
     "data": {
      "image/png": "[encoded data removed]",
      "text/plain": [
       "plot without title"
      ]
     },
     "metadata": {
      "image/png": {
       "height": 420,
       "width": 420
      }
     },
     "output_type": "display_data"
    }
   ],
   "source": [
    "grafica_bonita(\n",
    "  data = pobreza,\n",
    "  x = \"year\",\n",
    "  y = \"estimado\",\n",
    "  titulo = \"Población en situación de \n",
    "  pobreza total multidimensional\",\n",
    "   ano_base = 2022,\n",
    "  mostrar_etiqueta_ano_base = TRUE,\n",
    "  linea_vertical = 2022,\n",
    "  anios_etiquetas = c(2045),\n",
    "    desplazamiento_ano_base=c(1,0.4),\n",
    "  mostrar_intervalo = \"ambos\",\n",
    "  nombre_observado = \"Observado\",\n",
    "  nombre_estimado_futuro = \"Deseable\",\n",
    "  nombre_intervalo_superior = \"Inercial\",\n",
    "  nombre_intervalo_inferior = \"Transformador\",\n",
    "  mostrar_leyenda = TRUE,\n",
    "  fuente = \"pop\",\n",
    "  etiqueta_x = \"Año\",\n",
    "  etiqueta_y = \"Porcentaje\",\n",
    "  titulo_leyenda = \"Escenarios\",\n",
    "  limite_inferior_y = 0\n",
    ")\n",
    "\n",
    "ggsave(\"H:/Mi unidad/pgd/graficas//pobreza_estimada.png\",\n",
    " width = 10, height = 6, dpi = 185, bg = \"white\")"
   ]
  },
  {
   "cell_type": "code",
   "execution_count": 9,
   "id": "cc86fe58",
   "metadata": {
    "vscode": {
     "languageId": "r"
    }
   },
   "outputs": [
    {
     "data": {
      "image/png": "[encoded data removed]",
      "text/plain": [
       "plot without title"
      ]
     },
     "metadata": {
      "image/png": {
       "height": 420,
       "width": 420
      }
     },
     "output_type": "display_data"
    }
   ],
   "source": [
    "grafica_bonita(\n",
    "  data = pobrezaext,\n",
    "  x = \"year\",\n",
    "  y = \"estimado\",\n",
    "  titulo = \"Población en situación de \n",
    "  pobreza extrema multidimensional\",\n",
    "  ano_base = 2022,\n",
    "  mostrar_etiqueta_ano_base = TRUE,\n",
    "  linea_vertical = 2022,\n",
    "  desplazamiento_ano_base=c(1,0.2),\n",
    "  anios_etiquetas = c(2045),\n",
    "  mostrar_intervalo = \"ambos\",\n",
    "  nombre_observado = \"Observado\",\n",
    "  nombre_estimado_futuro = \"Deseable\",\n",
    "  nombre_intervalo_superior = \"Inercial\",\n",
    "  nombre_intervalo_inferior = \"Transformador\",\n",
    "  mostrar_leyenda = TRUE,\n",
    "  fuente = \"pop\",\n",
    "  etiqueta_x = \"Año\",\n",
    "  etiqueta_y = \"Porcentaje\",\n",
    "  titulo_leyenda = \"Escenarios\",\n",
    "  limite_inferior_y = 0\n",
    ")\n",
    "\n",
    "ggsave(\"H:/Mi unidad/pgd/graficas/pobrezaext_estimada.png\",\n",
    " width = 10, height = 6, dpi = 185, bg = \"white\")"
   ]
  }
 ],
 "metadata": {
  "kernelspec": {
   "display_name": "R",
   "language": "R",
   "name": "ir"
  },
  "language_info": {
   "codemirror_mode": "r",
   "file_extension": ".r",
   "mimetype": "text/x-r-source",
   "name": "R",
   "pygments_lexer": "r",
   "version": "4.4.1"
  }
 },
 "nbformat": 4,
 "nbformat_minor": 5
}
