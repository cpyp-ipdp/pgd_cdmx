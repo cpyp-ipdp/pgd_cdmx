{
 "cells": [
  {
   "cell_type": "markdown",
   "id": "d87828332c77dc5a",
   "metadata": {
    "colab_type": "text",
    "id": "view-in-github"
   },
   "source": [
    "<a href=\"https://colab.research.google.com/github/cpyp-ipdp/pgd_cdmx/blob/main/indicadores/vivienda/indicadores_vivienda_pgd.ipynb\" target=\"_parent\"><img src=\"https://colab.research.google.com/assets/colab-badge.svg\" alt=\"Open In Colab\"/></a>"
   ]
  },
  {
   "cell_type": "markdown",
   "id": "e446b748f7e7c90e",
   "metadata": {
    "id": "e446b748f7e7c90e"
   },
   "source": [
    "### Estimación de indicadores de vivienda para el Plan General de Desarrollo de la Ciudad de México\n",
    "\n",
    "En este script se descargan los microdatos de la Encuesta Nacional de Ingresos y Gastos de los Hogares (ENIGH) para los años 2016, 2018, 2020 y 2022. Posteriormente, se estiman dos indicadores de vivienda para la Ciudad de México: rezago habitacional y viviendas sin escrituras. Los resultados se presentan en dos cuadros."
   ]
  },
  {
   "cell_type": "code",
   "execution_count": 1,
   "id": "initial_id",
   "metadata": {
    "ExecuteTime": {
     "end_time": "2025-03-05T19:36:10.334287Z",
     "start_time": "2025-03-05T19:36:08.940498Z"
    },
    "collapsed": true,
    "id": "initial_id",
    "outputId": "e20886c0-380a-4049-ab16-2c9bc6dfbd53",
    "vscode": {
     "languageId": "r"
    }
   },
   "outputs": [
    {
     "name": "stderr",
     "output_type": "stream",
     "text": [
      "Cargando paquete requerido: pacman\n",
      "\n",
      "Using GitHub PAT from the git credential store.\n",
      "\n",
      "Downloading GitHub repo cpyp-ipdp/funcionespgd@HEAD\n",
      "\n"
     ]
    },
    {
     "name": "stdout",
     "output_type": "stream",
     "text": [
      "rlang  (1.1.4 -> 1.1.6) [CRAN]\n",
      "glue   (1.7.0 -> 1.8.0) [CRAN]\n",
      "cli    (3.6.3 -> 3.6.5) [CRAN]\n",
      "tibble (3.2.1 -> 3.3.0) [CRAN]\n"
     ]
    },
    {
     "name": "stderr",
     "output_type": "stream",
     "text": [
      "Installing 4 packages: rlang, glue, cli, tibble\n",
      "\n",
      "Warning message:\n",
      "\"package 'tibble' is in use and will not be installed\"\n",
      "Installing packages into 'C:/Users/claud/AppData/Local/R/win-library/4.4'\n",
      "(as 'lib' is unspecified)\n",
      "\n"
     ]
    },
    {
     "name": "stdout",
     "output_type": "stream",
     "text": [
      "package 'rlang' successfully unpacked and MD5 sums checked\n"
     ]
    },
    {
     "name": "stderr",
     "output_type": "stream",
     "text": [
      "Warning message:\n",
      "\"cannot remove prior installation of package 'rlang'\"\n",
      "Warning message in file.copy(savedcopy, lib, recursive = TRUE):\n",
      "\"problema al copiar C:\\Users\\claud\\AppData\\Local\\R\\win-library\\4.4\\00LOCK\\rlang\\libs\\x64\\rlang.dll  a C:\\Users\\claud\\AppData\\Local\\R\\win-library\\4.4\\rlang\\libs\\x64\\rlang.dll: Permission denied\"\n",
      "Warning message:\n",
      "\"restored 'rlang'\"\n"
     ]
    },
    {
     "name": "stdout",
     "output_type": "stream",
     "text": [
      "package 'glue' successfully unpacked and MD5 sums checked\n"
     ]
    },
    {
     "name": "stderr",
     "output_type": "stream",
     "text": [
      "Warning message:\n",
      "\"cannot remove prior installation of package 'glue'\"\n",
      "Warning message in file.copy(savedcopy, lib, recursive = TRUE):\n",
      "\"problema al copiar C:\\Users\\claud\\AppData\\Local\\R\\win-library\\4.4\\00LOCK\\glue\\libs\\x64\\glue.dll  a C:\\Users\\claud\\AppData\\Local\\R\\win-library\\4.4\\glue\\libs\\x64\\glue.dll: Permission denied\"\n",
      "Warning message:\n",
      "\"restored 'glue'\"\n"
     ]
    },
    {
     "name": "stdout",
     "output_type": "stream",
     "text": [
      "package 'cli' successfully unpacked and MD5 sums checked\n"
     ]
    },
    {
     "name": "stderr",
     "output_type": "stream",
     "text": [
      "Warning message:\n",
      "\"cannot remove prior installation of package 'cli'\"\n",
      "Warning message in file.copy(savedcopy, lib, recursive = TRUE):\n",
      "\"problema al copiar C:\\Users\\claud\\AppData\\Local\\R\\win-library\\4.4\\00LOCK\\cli\\libs\\x64\\cli.dll  a C:\\Users\\claud\\AppData\\Local\\R\\win-library\\4.4\\cli\\libs\\x64\\cli.dll: Permission denied\"\n",
      "Warning message:\n",
      "\"restored 'cli'\"\n"
     ]
    },
    {
     "name": "stdout",
     "output_type": "stream",
     "text": [
      "\n",
      "The downloaded binary packages are in\n",
      "\tC:\\Users\\claud\\AppData\\Local\\Temp\\Rtmp8klsc1\\downloaded_packages\n",
      "\u001b[36m──\u001b[39m \u001b[36mR CMD build\u001b[39m \u001b[36m─────────────────────────────────────────────────────────────────\u001b[39m\n",
      "* checking for file 'C:\\Users\\claud\\AppData\\Local\\Temp\\Rtmp8klsc1\\remotes1a043a7476b9\\cpyp-ipdp-funcionespgd-594f916/DESCRIPTION' ... OK\n",
      "* preparing 'funcionespgd':\n",
      "* checking DESCRIPTION meta-information ... OK\n",
      "* checking for LF line-endings in source and make files and shell scripts\n",
      "* checking for empty or unneeded directories\n",
      "Omitted 'LazyData' from DESCRIPTION\n",
      "* building 'funcionespgd_0.1.0.tar.gz'\n",
      "\n"
     ]
    },
    {
     "name": "stderr",
     "output_type": "stream",
     "text": [
      "Installing package into 'C:/Users/claud/AppData/Local/R/win-library/4.4'\n",
      "(as 'lib' is unspecified)\n",
      "\n"
     ]
    }
   ],
   "source": [
    "##Estimación de indicadores de vivienda\n",
    "#Se borra todo lo que se encuentra en el entorno\n",
    "\n",
    "#rm(list=ls())\n",
    "\n",
    "# Librerías ====\n",
    "if(!require('pacman')) install.packages('pacman')\n",
    "pacman::p_load(tidyverse, showtext, srvyr,archive, showtext,foreign)\n",
    "#Cargar fuente\n",
    "font_add_google(\"Noto sans\", \"noto\")\n",
    "showtext_auto()\n",
    "\n",
    "remotes::install_github(\"cpyp-ipdp/funcionespgd\", force = TRUE)\n",
    "library(funcionespgd)"
   ]
  },
  {
   "cell_type": "code",
   "execution_count": 2,
   "id": "9aa368e34821e8e1",
   "metadata": {
    "ExecuteTime": {
     "end_time": "2025-03-05T19:36:10.894803Z",
     "start_time": "2025-03-05T19:36:10.884191Z"
    },
    "id": "9aa368e34821e8e1",
    "vscode": {
     "languageId": "r"
    }
   },
   "outputs": [],
   "source": [
    "#Crear directorio para guardar los archivos\n",
    "dir.create(\"data\", showWarnings = FALSE)"
   ]
  },
  {
   "cell_type": "code",
   "execution_count": 3,
   "id": "f20f9e705a143bce",
   "metadata": {
    "ExecuteTime": {
     "end_time": "2025-03-05T19:36:12.335531Z",
     "start_time": "2025-03-05T19:36:12.323538Z"
    },
    "id": "f20f9e705a143bce",
    "vscode": {
     "languageId": "r"
    }
   },
   "outputs": [],
   "source": [
    "url_basica<-\"https://www.inegi.org.mx/contenidos/programas/enigh/nc/\"\n",
    "segunda_parte<-\"microdatos/enigh\"\n",
    "fin<-\"_ns_viviendas_csv.zip\""
   ]
  },
  {
   "cell_type": "code",
   "execution_count": 4,
   "id": "2a2a7cd7419394ac",
   "metadata": {
    "ExecuteTime": {
     "end_time": "2025-03-05T19:36:15.864001Z",
     "start_time": "2025-03-05T19:36:15.853092Z"
    },
    "id": "2a2a7cd7419394ac",
    "vscode": {
     "languageId": "r"
    }
   },
   "outputs": [],
   "source": [
    "years<-c(\"2016\", \"2018\", \"2020\", \"2022\")"
   ]
  },
  {
   "cell_type": "code",
   "execution_count": 5,
   "id": "854a59a424f73935",
   "metadata": {
    "ExecuteTime": {
     "end_time": "2025-03-05T19:36:24.214570Z",
     "start_time": "2025-03-05T19:36:24.165585Z"
    },
    "id": "854a59a424f73935",
    "vscode": {
     "languageId": "r"
    }
   },
   "outputs": [],
   "source": [
    "# Descargar los archivos, descomprimirlos y renombrarlos\n",
    "for (i in 1:length(years)) {\n",
    "  url <- paste0(url_basica, years[i], \"/\", segunda_parte, years[i], fin)\n",
    "  destfile <- paste0(\"data/\", years[i], fin)\n",
    "\n",
    "  # Descargar el archivo\n",
    "  download.file(url, destfile = destfile)\n",
    "\n",
    "  # Descomprimir el archivo\n",
    "  unzip(destfile, exdir = \"data\")\n",
    "\n",
    "  # Renombrar el archivo descomprimido a \"viviendas_xxxx.csv\"\n",
    "  file.rename(\n",
    "    from = \"data/viviendas.csv\",\n",
    "    to = paste0(\"data/viviendas_\", years[i], \".csv\")\n",
    "  )\n",
    "}"
   ]
  },
  {
   "cell_type": "code",
   "execution_count": 6,
   "id": "ba0e114e",
   "metadata": {
    "vscode": {
     "languageId": "r"
    }
   },
   "outputs": [
    {
     "data": {
      "text/html": [
       "<style>\n",
       ".list-inline {list-style: none; margin:0; padding: 0}\n",
       ".list-inline>li {display: inline-block}\n",
       ".list-inline>li:not(:last-child)::after {content: \"\\00b7\"; padding: 0 .5ex}\n",
       "</style>\n",
       "<ol class=list-inline><li>'2016_ns_viviendas_csv.zip'</li><li>'2018_ns_viviendas_csv.zip'</li><li>'2020_ns_viviendas_csv.zip'</li><li>'2022_ns_viviendas_csv.zip'</li><li>'nota_bases_datos_enigh2016_ns.txt'</li><li>'nota_bases_datos_enigh2018_ns.txt'</li><li>'viviendas_2016.csv'</li><li>'viviendas_2018.csv'</li><li>'viviendas_2020.csv'</li><li>'viviendas_2022.csv'</li></ol>\n"
      ],
      "text/latex": [
       "\\begin{enumerate*}\n",
       "\\item '2016\\_ns\\_viviendas\\_csv.zip'\n",
       "\\item '2018\\_ns\\_viviendas\\_csv.zip'\n",
       "\\item '2020\\_ns\\_viviendas\\_csv.zip'\n",
       "\\item '2022\\_ns\\_viviendas\\_csv.zip'\n",
       "\\item 'nota\\_bases\\_datos\\_enigh2016\\_ns.txt'\n",
       "\\item 'nota\\_bases\\_datos\\_enigh2018\\_ns.txt'\n",
       "\\item 'viviendas\\_2016.csv'\n",
       "\\item 'viviendas\\_2018.csv'\n",
       "\\item 'viviendas\\_2020.csv'\n",
       "\\item 'viviendas\\_2022.csv'\n",
       "\\end{enumerate*}\n"
      ],
      "text/markdown": [
       "1. '2016_ns_viviendas_csv.zip'\n",
       "2. '2018_ns_viviendas_csv.zip'\n",
       "3. '2020_ns_viviendas_csv.zip'\n",
       "4. '2022_ns_viviendas_csv.zip'\n",
       "5. 'nota_bases_datos_enigh2016_ns.txt'\n",
       "6. 'nota_bases_datos_enigh2018_ns.txt'\n",
       "7. 'viviendas_2016.csv'\n",
       "8. 'viviendas_2018.csv'\n",
       "9. 'viviendas_2020.csv'\n",
       "10. 'viviendas_2022.csv'\n",
       "\n",
       "\n"
      ],
      "text/plain": [
       " [1] \"2016_ns_viviendas_csv.zip\"         \"2018_ns_viviendas_csv.zip\"        \n",
       " [3] \"2020_ns_viviendas_csv.zip\"         \"2022_ns_viviendas_csv.zip\"        \n",
       " [5] \"nota_bases_datos_enigh2016_ns.txt\" \"nota_bases_datos_enigh2018_ns.txt\"\n",
       " [7] \"viviendas_2016.csv\"                \"viviendas_2018.csv\"               \n",
       " [9] \"viviendas_2020.csv\"                \"viviendas_2022.csv\"               "
      ]
     },
     "metadata": {},
     "output_type": "display_data"
    }
   ],
   "source": [
    "#Enlistar archivos de la carpeta data\n",
    "list.files(\"data\")"
   ]
  },
  {
   "cell_type": "markdown",
   "id": "88d2dd45a9ce0b2c",
   "metadata": {
    "id": "88d2dd45a9ce0b2c"
   },
   "source": [
    "### Función de estimación"
   ]
  },
  {
   "cell_type": "code",
   "execution_count": 7,
   "id": "f5e298e3e532ea04",
   "metadata": {
    "ExecuteTime": {
     "end_time": "2025-02-25T20:36:08.685622Z",
     "start_time": "2025-02-25T20:36:08.660361Z"
    },
    "id": "f5e298e3e532ea04",
    "vscode": {
     "languageId": "r"
    }
   },
   "outputs": [],
   "source": [
    "estimacion <- function(path, variable) {\n",
    "  # Cargar los datos\n",
    "  print(path)\n",
    "  datos <- read_csv(path)\n",
    "\n",
    "  datos <- datos %>%\n",
    "    mutate(\n",
    "      across(starts_with(\"mat\") & where(is.character),\n",
    "             ~ replace_na(parse_number(.x, na = c('', 'NA', '&')), 0)),\n",
    "      rezago = if_else(\n",
    "        ((tot_resid / num_cuarto) > 2.5) |\n",
    "          (mat_pared %in% 1:6) |\n",
    "          (mat_techos %in% c(1:4, 6, 7, 9)) |\n",
    "          (mat_pisos == 1) |\n",
    "          (excusado == 2),\n",
    "        \"En rezago\",\n",
    "        \"Fuera de rezago\"\n",
    "      )\n",
    "    ) %>%\n",
    "    mutate(cve_ent = case_when(\n",
    "      nchar(folioviv) == 9  ~ paste0(\"0\", substr(folioviv, 1, 1)),\n",
    "      nchar(folioviv) == 10 ~ substr(folioviv, 1, 2)\n",
    "    )) %>%\n",
    "    # Filtrar si entidad es 9\n",
    "  filter(cve_ent == \"09\")\n",
    "\n",
    "\n",
    "  # Definir diseño muestral\n",
    "  mydesign <- datos %>%\n",
    "    as_survey_design(ids = upm,\n",
    "                     strata = est_dis,\n",
    "                     weights = factor)\n",
    "\n",
    "  # Estimar rezago habitacional\n",
    "  rezago <- mydesign %>%\n",
    "    group_by(rezago) %>%\n",
    "    summarise(\n",
    "      viviendas = survey_total(vartype = \"cv\"),\n",
    "      pct = survey_prop(vartype = \"cv\")\n",
    "        #Viviendas totales\n",
    "    ) %>%\n",
    "    mutate(pct = round(pct * 100, 2)) %>%\n",
    "  # Añadir columna con el total de viviendas\n",
    "  mutate(total_viviendas = sum(viviendas)) %>%\n",
    "    filter(rezago == \"En rezago\") %>%\n",
    "    # Añadir año\n",
    "    mutate(year = substr(path, 16, 19))\n",
    "\n",
    "\n",
    "\n",
    "\n",
    "  # Estimar viviendas sin escrituras\n",
    "  escrituras <- mydesign %>%\n",
    "    filter(tenencia %in% c(3,4)) %>%\n",
    "group_by(escrituras) %>%\n",
    "    summarise(\n",
    "      viviendas = survey_total(vartype = \"cv\"),\n",
    "      pct = survey_prop(vartype = \"cv\")\n",
    "    ) %>%\n",
    " mutate(total_viviendas = sum(viviendas)) %>%\n",
    "    filter(escrituras == 3) %>%\n",
    "    mutate(pct = round(pct * 100, 2),\n",
    "           escrituras = case_when(\n",
    "        escrituras == 3 ~ \"Sin escrituras\"\n",
    "))%>%\n",
    "mutate(year = substr(path, 16, 19))\n",
    "\n",
    "\n",
    "#Hogares en la vivienda\n",
    "\n",
    "hogares<-mydesign %>%\n",
    "summarise(\n",
    "    hogares=survey_total(tot_hog, vartype = \"cv\")\n",
    "    ) %>%\n",
    "mutate(year = substr(path, 16, 19))\n",
    "\n",
    "\n",
    "##Hogares hacinamiento\n",
    "\n",
    "hogares_hac<-mydesign %>%\n",
    "#Identificar hacinamiento\n",
    "mutate(hacinamiento=ifelse((tot_resid/num_cuarto)>2.5,1,0))%>%\n",
    "#filtrar hacinamiento\n",
    "#filter(hacinamiento==1)%>%\n",
    "group_by(hacinamiento)%>%\n",
    "summarise(\n",
    "    hogares_hac=survey_total(vartype = \"cv\"),\n",
    "    pct=survey_prop(vartype = \"cv\")\n",
    "    ) %>%\n",
    "mutate(year = substr(path, 16, 19))%>%\n",
    "\n",
    "mutate(pct=round(pct*100,2))\n",
    "\n",
    "\n",
    "hogares_hac2<-mydesign %>%\n",
    "#Identificar hacinamiento\n",
    "mutate(hacinamiento=ifelse((tot_resid/num_cuarto)>2,1,0))%>%\n",
    "#filtrar hacinamiento\n",
    "#filter(hacinamiento==1)%>%\n",
    "group_by(hacinamiento)%>%\n",
    "summarise(\n",
    "    hogares_hac=survey_total(vartype = \"cv\"),\n",
    "    pct=survey_prop(vartype = \"cv\")\n",
    "    ) %>%\n",
    "mutate(year = substr(path, 16, 19))%>%\n",
    "mutate(pct=round(pct*100,2))\n",
    "\n",
    "\n",
    "#Hog hacinamiento no propietarios\n",
    "hogares_hac_no_prop<-mydesign%>%\n",
    "#Identificar hacinamiento\n",
    "mutate(hacinamiento=ifelse((tot_resid/num_cuarto)>2.5,1,0))%>%\n",
    "mutate(ten_vivi=case_when(tenencia==3 | tenencia==4 ~ \"Propietarios\",\n",
    "            TRUE ~ \"No propietarios\"))%>%\n",
    "#filtrar hacinamiento\n",
    "filter(hacinamiento==1)%>%\n",
    "group_by(ten_vivi)%>%\n",
    "#Contar hogares con hacinamiento\n",
    "summarise(\n",
    "    hogares_hac=survey_prop(vartype = \"cv\")\n",
    "    ) %>%\n",
    "ungroup()%>%\n",
    "mutate(year = as.integer(substr(path, 16, 19)))%>%\n",
    "filter(ten_vivi==\"No propietarios\")%>%\n",
    "mutate(hogares_hac=round(hogares_hac*100,2))\n",
    "\n",
    "\n",
    "\n",
    "  # Devolver el resultado basado en la variable\n",
    "  if (variable == \"rezago\") {\n",
    "    return(rezago)\n",
    "\n",
    "  } else if (variable == \"sin_escrituras\") {\n",
    "    return(escrituras)\n",
    "  }\n",
    "\n",
    "else if (variable == \"hogares\") {\n",
    "    return(hogares)\n",
    "  }\n",
    "\n",
    "  else if (variable == \"hogares_hac_no_prop\") {\n",
    "    return(hogares_hac_no_prop)\n",
    "}\n",
    "\n",
    "else if (variable == \"hogares_hac\") {\n",
    "    return(hogares_hac)\n",
    "\n",
    "  }\n",
    "    else if (variable == \"hogares_hac2\") {\n",
    "        return(hogares_hac2)\n",
    "\n",
    "    }\n",
    "\n",
    "else {\n",
    "    stop(\"Variable no reconocida. Use 'rezago' o 'sin_escrituras'.\")\n",
    "  }}"
   ]
  },
  {
   "cell_type": "code",
   "execution_count": 8,
   "id": "830dd86ff956b74a",
   "metadata": {
    "ExecuteTime": {
     "end_time": "2025-02-25T20:36:20.427767Z",
     "start_time": "2025-02-25T20:36:15.592607Z"
    },
    "id": "830dd86ff956b74a",
    "outputId": "8aaa4614-67ca-43f0-ba06-a41d8b0fb624",
    "vscode": {
     "languageId": "r"
    }
   },
   "outputs": [
    {
     "name": "stdout",
     "output_type": "stream",
     "text": [
      "[1] \"data/viviendas_2016.csv\"\n"
     ]
    },
    {
     "name": "stderr",
     "output_type": "stream",
     "text": [
      "Warning message:\n",
      "\"\u001b[1m\u001b[22mOne or more parsing issues, call `problems()` on your data frame for details,\n",
      "e.g.:\n",
      "  dat <- vroom(...)\n",
      "  problems(dat)\"\n",
      "\u001b[1mRows: \u001b[22m\u001b[34m69169\u001b[39m \u001b[1mColumns: \u001b[22m\u001b[34m64\u001b[39m\n",
      "\u001b[36m──\u001b[39m \u001b[1mColumn specification\u001b[22m \u001b[36m────────────────────────────────────────────────────────\u001b[39m\n",
      "\u001b[1mDelimiter:\u001b[22m \",\"\n",
      "\u001b[31mchr\u001b[39m (10): folioviv, tipo_viv, mat_techos, tipo_finan, num_dueno1, num_dueno2...\n",
      "\u001b[32mdbl\u001b[39m (54): mat_pared, mat_pisos, antiguedad, antigua_ne, cocina, cocina_dor, ...\n",
      "\n",
      "\u001b[36mℹ\u001b[39m Use `spec()` to retrieve the full column specification for this data.\n",
      "\u001b[36mℹ\u001b[39m Specify the column types or set `show_col_types = FALSE` to quiet this message.\n"
     ]
    },
    {
     "name": "stdout",
     "output_type": "stream",
     "text": [
      "[1] \"data/viviendas_2018.csv\"\n"
     ]
    },
    {
     "name": "stderr",
     "output_type": "stream",
     "text": [
      "Warning message:\n",
      "\"\u001b[1m\u001b[22mOne or more parsing issues, call `problems()` on your data frame for details,\n",
      "e.g.:\n",
      "  dat <- vroom(...)\n",
      "  problems(dat)\"\n",
      "\u001b[1mRows: \u001b[22m\u001b[34m73405\u001b[39m \u001b[1mColumns: \u001b[22m\u001b[34m64\u001b[39m\n",
      "\u001b[36m──\u001b[39m \u001b[1mColumn specification\u001b[22m \u001b[36m────────────────────────────────────────────────────────\u001b[39m\n",
      "\u001b[1mDelimiter:\u001b[22m \",\"\n",
      "\u001b[31mchr\u001b[39m  (9): folioviv, tipo_viv, mat_techos, tipo_finan, num_dueno1, num_dueno2...\n",
      "\u001b[32mdbl\u001b[39m (55): mat_pared, mat_pisos, antiguedad, antigua_ne, cocina, cocina_dor, ...\n",
      "\n",
      "\u001b[36mℹ\u001b[39m Use `spec()` to retrieve the full column specification for this data.\n",
      "\u001b[36mℹ\u001b[39m Specify the column types or set `show_col_types = FALSE` to quiet this message.\n"
     ]
    },
    {
     "name": "stdout",
     "output_type": "stream",
     "text": [
      "[1] \"data/viviendas_2020.csv\"\n"
     ]
    },
    {
     "name": "stderr",
     "output_type": "stream",
     "text": [
      "Warning message:\n",
      "\"\u001b[1m\u001b[22mOne or more parsing issues, call `problems()` on your data frame for details,\n",
      "e.g.:\n",
      "  dat <- vroom(...)\n",
      "  problems(dat)\"\n",
      "\u001b[1mRows: \u001b[22m\u001b[34m87754\u001b[39m \u001b[1mColumns: \u001b[22m\u001b[34m64\u001b[39m\n",
      "\u001b[36m──\u001b[39m \u001b[1mColumn specification\u001b[22m \u001b[36m────────────────────────────────────────────────────────\u001b[39m\n",
      "\u001b[1mDelimiter:\u001b[22m \",\"\n",
      "\u001b[31mchr\u001b[39m  (9): folioviv, tipo_viv, mat_techos, tipo_finan, num_dueno1, num_dueno2...\n",
      "\u001b[32mdbl\u001b[39m (55): mat_pared, mat_pisos, antiguedad, antigua_ne, cocina, cocina_dor, ...\n",
      "\n",
      "\u001b[36mℹ\u001b[39m Use `spec()` to retrieve the full column specification for this data.\n",
      "\u001b[36mℹ\u001b[39m Specify the column types or set `show_col_types = FALSE` to quiet this message.\n"
     ]
    },
    {
     "name": "stdout",
     "output_type": "stream",
     "text": [
      "[1] \"data/viviendas_2022.csv\"\n"
     ]
    },
    {
     "name": "stderr",
     "output_type": "stream",
     "text": [
      "Warning message:\n",
      "\"\u001b[1m\u001b[22mOne or more parsing issues, call `problems()` on your data frame for details,\n",
      "e.g.:\n",
      "  dat <- vroom(...)\n",
      "  problems(dat)\"\n",
      "\u001b[1mRows: \u001b[22m\u001b[34m88823\u001b[39m \u001b[1mColumns: \u001b[22m\u001b[34m64\u001b[39m\n",
      "\u001b[36m──\u001b[39m \u001b[1mColumn specification\u001b[22m \u001b[36m────────────────────────────────────────────────────────\u001b[39m\n",
      "\u001b[1mDelimiter:\u001b[22m \",\"\n",
      "\u001b[31mchr\u001b[39m  (9): folioviv, tipo_viv, mat_techos, tipo_finan, num_dueno1, num_dueno2...\n",
      "\u001b[32mdbl\u001b[39m (55): mat_pared, mat_pisos, antiguedad, antigua_ne, cocina, cocina_dor, ...\n",
      "\n",
      "\u001b[36mℹ\u001b[39m Use `spec()` to retrieve the full column specification for this data.\n",
      "\u001b[36mℹ\u001b[39m Specify the column types or set `show_col_types = FALSE` to quiet this message.\n"
     ]
    },
    {
     "name": "stdout",
     "output_type": "stream",
     "text": [
      "[1] \"Porcentaje de viviendas cuyos habitantes viven en rezago habitacional\"\n"
     ]
    },
    {
     "data": {
      "text/html": [
       "<table class=\"dataframe\">\n",
       "<caption>A tibble: 4 × 7</caption>\n",
       "<thead>\n",
       "\t<tr><th scope=col>rezago</th><th scope=col>viviendas</th><th scope=col>viviendas_cv</th><th scope=col>pct</th><th scope=col>pct_cv</th><th scope=col>total_viviendas</th><th scope=col>year</th></tr>\n",
       "\t<tr><th scope=col>&lt;chr&gt;</th><th scope=col>&lt;dbl&gt;</th><th scope=col>&lt;dbl&gt;</th><th scope=col>&lt;dbl&gt;</th><th scope=col>&lt;dbl&gt;</th><th scope=col>&lt;dbl&gt;</th><th scope=col>&lt;int&gt;</th></tr>\n",
       "</thead>\n",
       "<tbody>\n",
       "\t<tr><td>En rezago</td><td>272200</td><td>0.08809435</td><td>9.81</td><td>0.08684886</td><td>2774780</td><td>2016</td></tr>\n",
       "\t<tr><td>En rezago</td><td>218501</td><td>0.08906203</td><td>8.02</td><td>0.08727815</td><td>2724389</td><td>2018</td></tr>\n",
       "\t<tr><td>En rezago</td><td>198021</td><td>0.08360376</td><td>7.31</td><td>0.08292165</td><td>2707156</td><td>2020</td></tr>\n",
       "\t<tr><td>En rezago</td><td>175242</td><td>0.09933936</td><td>5.94</td><td>0.09870452</td><td>2947953</td><td>2022</td></tr>\n",
       "</tbody>\n",
       "</table>\n"
      ],
      "text/latex": [
       "A tibble: 4 × 7\n",
       "\\begin{tabular}{lllllll}\n",
       " rezago & viviendas & viviendas\\_cv & pct & pct\\_cv & total\\_viviendas & year\\\\\n",
       " <chr> & <dbl> & <dbl> & <dbl> & <dbl> & <dbl> & <int>\\\\\n",
       "\\hline\n",
       "\t En rezago & 272200 & 0.08809435 & 9.81 & 0.08684886 & 2774780 & 2016\\\\\n",
       "\t En rezago & 218501 & 0.08906203 & 8.02 & 0.08727815 & 2724389 & 2018\\\\\n",
       "\t En rezago & 198021 & 0.08360376 & 7.31 & 0.08292165 & 2707156 & 2020\\\\\n",
       "\t En rezago & 175242 & 0.09933936 & 5.94 & 0.09870452 & 2947953 & 2022\\\\\n",
       "\\end{tabular}\n"
      ],
      "text/markdown": [
       "\n",
       "A tibble: 4 × 7\n",
       "\n",
       "| rezago &lt;chr&gt; | viviendas &lt;dbl&gt; | viviendas_cv &lt;dbl&gt; | pct &lt;dbl&gt; | pct_cv &lt;dbl&gt; | total_viviendas &lt;dbl&gt; | year &lt;int&gt; |\n",
       "|---|---|---|---|---|---|---|\n",
       "| En rezago | 272200 | 0.08809435 | 9.81 | 0.08684886 | 2774780 | 2016 |\n",
       "| En rezago | 218501 | 0.08906203 | 8.02 | 0.08727815 | 2724389 | 2018 |\n",
       "| En rezago | 198021 | 0.08360376 | 7.31 | 0.08292165 | 2707156 | 2020 |\n",
       "| En rezago | 175242 | 0.09933936 | 5.94 | 0.09870452 | 2947953 | 2022 |\n",
       "\n"
      ],
      "text/plain": [
       "  rezago    viviendas viviendas_cv pct  pct_cv     total_viviendas year\n",
       "1 En rezago 272200    0.08809435   9.81 0.08684886 2774780         2016\n",
       "2 En rezago 218501    0.08906203   8.02 0.08727815 2724389         2018\n",
       "3 En rezago 198021    0.08360376   7.31 0.08292165 2707156         2020\n",
       "4 En rezago 175242    0.09933936   5.94 0.09870452 2947953         2022"
      ]
     },
     "metadata": {},
     "output_type": "display_data"
    }
   ],
   "source": [
    "#Construir cuadros de rezago habitacional\n",
    "\n",
    "tabla_rezago<-map_dfr(\n",
    "  list.files(\"data\", full.names = TRUE, pattern = \"viviendas_.*.csv\"),\n",
    "  \n",
    "  estimacion,\n",
    "  variable = \"rezago\"\n",
    ")%>%\n",
    "mutate(year = as.integer(year))\n",
    "print(\"Porcentaje de viviendas cuyos habitantes viven en rezago habitacional\")\n",
    "tabla_rezago\n"
   ]
  },
  {
   "cell_type": "code",
   "execution_count": 9,
   "id": "f7420f59e5cbff5c",
   "metadata": {
    "ExecuteTime": {
     "end_time": "2025-02-25T20:36:29.034718Z",
     "start_time": "2025-02-25T20:36:24.916786Z"
    },
    "id": "f7420f59e5cbff5c",
    "outputId": "d1ba04e6-d4ce-4c5b-b937-2028e1e91ac6",
    "vscode": {
     "languageId": "r"
    }
   },
   "outputs": [
    {
     "name": "stdout",
     "output_type": "stream",
     "text": [
      "[1] \"data/viviendas_2016.csv\"\n"
     ]
    },
    {
     "name": "stderr",
     "output_type": "stream",
     "text": [
      "Warning message:\n",
      "\"\u001b[1m\u001b[22mOne or more parsing issues, call `problems()` on your data frame for details,\n",
      "e.g.:\n",
      "  dat <- vroom(...)\n",
      "  problems(dat)\"\n",
      "\u001b[1mRows: \u001b[22m\u001b[34m69169\u001b[39m \u001b[1mColumns: \u001b[22m\u001b[34m64\u001b[39m\n",
      "\u001b[36m──\u001b[39m \u001b[1mColumn specification\u001b[22m \u001b[36m────────────────────────────────────────────────────────\u001b[39m\n",
      "\u001b[1mDelimiter:\u001b[22m \",\"\n",
      "\u001b[31mchr\u001b[39m (10): folioviv, tipo_viv, mat_techos, tipo_finan, num_dueno1, num_dueno2...\n",
      "\u001b[32mdbl\u001b[39m (54): mat_pared, mat_pisos, antiguedad, antigua_ne, cocina, cocina_dor, ...\n",
      "\n",
      "\u001b[36mℹ\u001b[39m Use `spec()` to retrieve the full column specification for this data.\n",
      "\u001b[36mℹ\u001b[39m Specify the column types or set `show_col_types = FALSE` to quiet this message.\n"
     ]
    },
    {
     "name": "stdout",
     "output_type": "stream",
     "text": [
      "[1] \"data/viviendas_2018.csv\"\n"
     ]
    },
    {
     "name": "stderr",
     "output_type": "stream",
     "text": [
      "Warning message:\n",
      "\"\u001b[1m\u001b[22mOne or more parsing issues, call `problems()` on your data frame for details,\n",
      "e.g.:\n",
      "  dat <- vroom(...)\n",
      "  problems(dat)\"\n",
      "\u001b[1mRows: \u001b[22m\u001b[34m73405\u001b[39m \u001b[1mColumns: \u001b[22m\u001b[34m64\u001b[39m\n",
      "\u001b[36m──\u001b[39m \u001b[1mColumn specification\u001b[22m \u001b[36m────────────────────────────────────────────────────────\u001b[39m\n",
      "\u001b[1mDelimiter:\u001b[22m \",\"\n",
      "\u001b[31mchr\u001b[39m  (9): folioviv, tipo_viv, mat_techos, tipo_finan, num_dueno1, num_dueno2...\n",
      "\u001b[32mdbl\u001b[39m (55): mat_pared, mat_pisos, antiguedad, antigua_ne, cocina, cocina_dor, ...\n",
      "\n",
      "\u001b[36mℹ\u001b[39m Use `spec()` to retrieve the full column specification for this data.\n",
      "\u001b[36mℹ\u001b[39m Specify the column types or set `show_col_types = FALSE` to quiet this message.\n"
     ]
    },
    {
     "name": "stdout",
     "output_type": "stream",
     "text": [
      "[1] \"data/viviendas_2020.csv\"\n"
     ]
    },
    {
     "name": "stderr",
     "output_type": "stream",
     "text": [
      "Warning message:\n",
      "\"\u001b[1m\u001b[22mOne or more parsing issues, call `problems()` on your data frame for details,\n",
      "e.g.:\n",
      "  dat <- vroom(...)\n",
      "  problems(dat)\"\n",
      "\u001b[1mRows: \u001b[22m\u001b[34m87754\u001b[39m \u001b[1mColumns: \u001b[22m\u001b[34m64\u001b[39m\n",
      "\u001b[36m──\u001b[39m \u001b[1mColumn specification\u001b[22m \u001b[36m────────────────────────────────────────────────────────\u001b[39m\n",
      "\u001b[1mDelimiter:\u001b[22m \",\"\n",
      "\u001b[31mchr\u001b[39m  (9): folioviv, tipo_viv, mat_techos, tipo_finan, num_dueno1, num_dueno2...\n",
      "\u001b[32mdbl\u001b[39m (55): mat_pared, mat_pisos, antiguedad, antigua_ne, cocina, cocina_dor, ...\n",
      "\n",
      "\u001b[36mℹ\u001b[39m Use `spec()` to retrieve the full column specification for this data.\n",
      "\u001b[36mℹ\u001b[39m Specify the column types or set `show_col_types = FALSE` to quiet this message.\n"
     ]
    },
    {
     "name": "stdout",
     "output_type": "stream",
     "text": [
      "[1] \"data/viviendas_2022.csv\"\n"
     ]
    },
    {
     "name": "stderr",
     "output_type": "stream",
     "text": [
      "Warning message:\n",
      "\"\u001b[1m\u001b[22mOne or more parsing issues, call `problems()` on your data frame for details,\n",
      "e.g.:\n",
      "  dat <- vroom(...)\n",
      "  problems(dat)\"\n",
      "\u001b[1mRows: \u001b[22m\u001b[34m88823\u001b[39m \u001b[1mColumns: \u001b[22m\u001b[34m64\u001b[39m\n",
      "\u001b[36m──\u001b[39m \u001b[1mColumn specification\u001b[22m \u001b[36m────────────────────────────────────────────────────────\u001b[39m\n",
      "\u001b[1mDelimiter:\u001b[22m \",\"\n",
      "\u001b[31mchr\u001b[39m  (9): folioviv, tipo_viv, mat_techos, tipo_finan, num_dueno1, num_dueno2...\n",
      "\u001b[32mdbl\u001b[39m (55): mat_pared, mat_pisos, antiguedad, antigua_ne, cocina, cocina_dor, ...\n",
      "\n",
      "\u001b[36mℹ\u001b[39m Use `spec()` to retrieve the full column specification for this data.\n",
      "\u001b[36mℹ\u001b[39m Specify the column types or set `show_col_types = FALSE` to quiet this message.\n"
     ]
    },
    {
     "name": "stdout",
     "output_type": "stream",
     "text": [
      "[1] \"Porcentaje de viviviendas propias o propias en proceso de pago que no cuentan con escrituras\"\n"
     ]
    },
    {
     "data": {
      "text/html": [
       "<table class=\"dataframe\">\n",
       "<caption>A tibble: 4 × 7</caption>\n",
       "<thead>\n",
       "\t<tr><th scope=col>escrituras</th><th scope=col>viviendas</th><th scope=col>viviendas_cv</th><th scope=col>pct</th><th scope=col>pct_cv</th><th scope=col>total_viviendas</th><th scope=col>year</th></tr>\n",
       "\t<tr><th scope=col>&lt;chr&gt;</th><th scope=col>&lt;dbl&gt;</th><th scope=col>&lt;dbl&gt;</th><th scope=col>&lt;dbl&gt;</th><th scope=col>&lt;dbl&gt;</th><th scope=col>&lt;dbl&gt;</th><th scope=col>&lt;int&gt;</th></tr>\n",
       "</thead>\n",
       "<tbody>\n",
       "\t<tr><td>Sin escrituras</td><td>266547</td><td>0.08646642</td><td>17.71</td><td>0.08298775</td><td>1505322</td><td>2016</td></tr>\n",
       "\t<tr><td>Sin escrituras</td><td>246283</td><td>0.09985847</td><td>17.22</td><td>0.09461881</td><td>1429942</td><td>2018</td></tr>\n",
       "\t<tr><td>Sin escrituras</td><td>259056</td><td>0.09464920</td><td>16.23</td><td>0.08765464</td><td>1595765</td><td>2020</td></tr>\n",
       "\t<tr><td>Sin escrituras</td><td>310191</td><td>0.08428046</td><td>17.63</td><td>0.07835935</td><td>1759030</td><td>2022</td></tr>\n",
       "</tbody>\n",
       "</table>\n"
      ],
      "text/latex": [
       "A tibble: 4 × 7\n",
       "\\begin{tabular}{lllllll}\n",
       " escrituras & viviendas & viviendas\\_cv & pct & pct\\_cv & total\\_viviendas & year\\\\\n",
       " <chr> & <dbl> & <dbl> & <dbl> & <dbl> & <dbl> & <int>\\\\\n",
       "\\hline\n",
       "\t Sin escrituras & 266547 & 0.08646642 & 17.71 & 0.08298775 & 1505322 & 2016\\\\\n",
       "\t Sin escrituras & 246283 & 0.09985847 & 17.22 & 0.09461881 & 1429942 & 2018\\\\\n",
       "\t Sin escrituras & 259056 & 0.09464920 & 16.23 & 0.08765464 & 1595765 & 2020\\\\\n",
       "\t Sin escrituras & 310191 & 0.08428046 & 17.63 & 0.07835935 & 1759030 & 2022\\\\\n",
       "\\end{tabular}\n"
      ],
      "text/markdown": [
       "\n",
       "A tibble: 4 × 7\n",
       "\n",
       "| escrituras &lt;chr&gt; | viviendas &lt;dbl&gt; | viviendas_cv &lt;dbl&gt; | pct &lt;dbl&gt; | pct_cv &lt;dbl&gt; | total_viviendas &lt;dbl&gt; | year &lt;int&gt; |\n",
       "|---|---|---|---|---|---|---|\n",
       "| Sin escrituras | 266547 | 0.08646642 | 17.71 | 0.08298775 | 1505322 | 2016 |\n",
       "| Sin escrituras | 246283 | 0.09985847 | 17.22 | 0.09461881 | 1429942 | 2018 |\n",
       "| Sin escrituras | 259056 | 0.09464920 | 16.23 | 0.08765464 | 1595765 | 2020 |\n",
       "| Sin escrituras | 310191 | 0.08428046 | 17.63 | 0.07835935 | 1759030 | 2022 |\n",
       "\n"
      ],
      "text/plain": [
       "  escrituras     viviendas viviendas_cv pct   pct_cv     total_viviendas year\n",
       "1 Sin escrituras 266547    0.08646642   17.71 0.08298775 1505322         2016\n",
       "2 Sin escrituras 246283    0.09985847   17.22 0.09461881 1429942         2018\n",
       "3 Sin escrituras 259056    0.09464920   16.23 0.08765464 1595765         2020\n",
       "4 Sin escrituras 310191    0.08428046   17.63 0.07835935 1759030         2022"
      ]
     },
     "metadata": {},
     "output_type": "display_data"
    }
   ],
   "source": [
    "#Construir cuadros de viviendas sin escrituras\n",
    "#Viviendas sin escrituras corresponden a viviendas propias y propias que se están pagando y no cuentan con escrituras\n",
    "\n",
    "tabla_escrituras<-map_dfr(\n",
    "    list.files(\"data\", full.names = TRUE, pattern = \"viviendas_.*.csv\"),\n",
    "    estimacion,\n",
    "    variable = \"sin_escrituras\"\n",
    "    )%>%\n",
    "    mutate(\n",
    "  year = as.integer(year)\n",
    ")\n",
    "print(\"Porcentaje de viviviendas propias o propias en proceso de pago que no cuentan con escrituras\")\n",
    "tabla_escrituras"
   ]
  },
  {
   "cell_type": "code",
   "execution_count": 10,
   "id": "73e9a224b0bbe1a",
   "metadata": {
    "ExecuteTime": {
     "end_time": "2025-02-25T20:36:33.778919Z",
     "start_time": "2025-02-25T20:36:29.719583Z"
    },
    "id": "73e9a224b0bbe1a",
    "outputId": "7868b299-2a15-4325-c5d8-12c35032dc51",
    "vscode": {
     "languageId": "r"
    }
   },
   "outputs": [
    {
     "name": "stdout",
     "output_type": "stream",
     "text": [
      "[1] \"data/viviendas_2016.csv\"\n"
     ]
    },
    {
     "name": "stderr",
     "output_type": "stream",
     "text": [
      "Warning message:\n",
      "\"\u001b[1m\u001b[22mOne or more parsing issues, call `problems()` on your data frame for details,\n",
      "e.g.:\n",
      "  dat <- vroom(...)\n",
      "  problems(dat)\"\n",
      "\u001b[1mRows: \u001b[22m\u001b[34m69169\u001b[39m \u001b[1mColumns: \u001b[22m\u001b[34m64\u001b[39m\n",
      "\u001b[36m──\u001b[39m \u001b[1mColumn specification\u001b[22m \u001b[36m────────────────────────────────────────────────────────\u001b[39m\n",
      "\u001b[1mDelimiter:\u001b[22m \",\"\n",
      "\u001b[31mchr\u001b[39m (10): folioviv, tipo_viv, mat_techos, tipo_finan, num_dueno1, num_dueno2...\n",
      "\u001b[32mdbl\u001b[39m (54): mat_pared, mat_pisos, antiguedad, antigua_ne, cocina, cocina_dor, ...\n",
      "\n",
      "\u001b[36mℹ\u001b[39m Use `spec()` to retrieve the full column specification for this data.\n",
      "\u001b[36mℹ\u001b[39m Specify the column types or set `show_col_types = FALSE` to quiet this message.\n"
     ]
    },
    {
     "name": "stdout",
     "output_type": "stream",
     "text": [
      "[1] \"data/viviendas_2018.csv\"\n"
     ]
    },
    {
     "name": "stderr",
     "output_type": "stream",
     "text": [
      "Warning message:\n",
      "\"\u001b[1m\u001b[22mOne or more parsing issues, call `problems()` on your data frame for details,\n",
      "e.g.:\n",
      "  dat <- vroom(...)\n",
      "  problems(dat)\"\n",
      "\u001b[1mRows: \u001b[22m\u001b[34m73405\u001b[39m \u001b[1mColumns: \u001b[22m\u001b[34m64\u001b[39m\n",
      "\u001b[36m──\u001b[39m \u001b[1mColumn specification\u001b[22m \u001b[36m────────────────────────────────────────────────────────\u001b[39m\n",
      "\u001b[1mDelimiter:\u001b[22m \",\"\n",
      "\u001b[31mchr\u001b[39m  (9): folioviv, tipo_viv, mat_techos, tipo_finan, num_dueno1, num_dueno2...\n",
      "\u001b[32mdbl\u001b[39m (55): mat_pared, mat_pisos, antiguedad, antigua_ne, cocina, cocina_dor, ...\n",
      "\n",
      "\u001b[36mℹ\u001b[39m Use `spec()` to retrieve the full column specification for this data.\n",
      "\u001b[36mℹ\u001b[39m Specify the column types or set `show_col_types = FALSE` to quiet this message.\n"
     ]
    },
    {
     "name": "stdout",
     "output_type": "stream",
     "text": [
      "[1] \"data/viviendas_2020.csv\"\n"
     ]
    },
    {
     "name": "stderr",
     "output_type": "stream",
     "text": [
      "Warning message:\n",
      "\"\u001b[1m\u001b[22mOne or more parsing issues, call `problems()` on your data frame for details,\n",
      "e.g.:\n",
      "  dat <- vroom(...)\n",
      "  problems(dat)\"\n",
      "\u001b[1mRows: \u001b[22m\u001b[34m87754\u001b[39m \u001b[1mColumns: \u001b[22m\u001b[34m64\u001b[39m\n",
      "\u001b[36m──\u001b[39m \u001b[1mColumn specification\u001b[22m \u001b[36m────────────────────────────────────────────────────────\u001b[39m\n",
      "\u001b[1mDelimiter:\u001b[22m \",\"\n",
      "\u001b[31mchr\u001b[39m  (9): folioviv, tipo_viv, mat_techos, tipo_finan, num_dueno1, num_dueno2...\n",
      "\u001b[32mdbl\u001b[39m (55): mat_pared, mat_pisos, antiguedad, antigua_ne, cocina, cocina_dor, ...\n",
      "\n",
      "\u001b[36mℹ\u001b[39m Use `spec()` to retrieve the full column specification for this data.\n",
      "\u001b[36mℹ\u001b[39m Specify the column types or set `show_col_types = FALSE` to quiet this message.\n"
     ]
    },
    {
     "name": "stdout",
     "output_type": "stream",
     "text": [
      "[1] \"data/viviendas_2022.csv\"\n"
     ]
    },
    {
     "name": "stderr",
     "output_type": "stream",
     "text": [
      "Warning message:\n",
      "\"\u001b[1m\u001b[22mOne or more parsing issues, call `problems()` on your data frame for details,\n",
      "e.g.:\n",
      "  dat <- vroom(...)\n",
      "  problems(dat)\"\n",
      "\u001b[1mRows: \u001b[22m\u001b[34m88823\u001b[39m \u001b[1mColumns: \u001b[22m\u001b[34m64\u001b[39m\n",
      "\u001b[36m──\u001b[39m \u001b[1mColumn specification\u001b[22m \u001b[36m────────────────────────────────────────────────────────\u001b[39m\n",
      "\u001b[1mDelimiter:\u001b[22m \",\"\n",
      "\u001b[31mchr\u001b[39m  (9): folioviv, tipo_viv, mat_techos, tipo_finan, num_dueno1, num_dueno2...\n",
      "\u001b[32mdbl\u001b[39m (55): mat_pared, mat_pisos, antiguedad, antigua_ne, cocina, cocina_dor, ...\n",
      "\n",
      "\u001b[36mℹ\u001b[39m Use `spec()` to retrieve the full column specification for this data.\n",
      "\u001b[36mℹ\u001b[39m Specify the column types or set `show_col_types = FALSE` to quiet this message.\n"
     ]
    },
    {
     "data": {
      "text/html": [
       "<table class=\"dataframe\">\n",
       "<caption>A tibble: 4 × 4</caption>\n",
       "<thead>\n",
       "\t<tr><th scope=col>hogares</th><th scope=col>hogares_cv</th><th scope=col>year</th><th scope=col>tasa_crec</th></tr>\n",
       "\t<tr><th scope=col>&lt;dbl&gt;</th><th scope=col>&lt;dbl&gt;</th><th scope=col>&lt;int&gt;</th><th scope=col>&lt;dbl&gt;</th></tr>\n",
       "</thead>\n",
       "<tbody>\n",
       "\t<tr><td>2825100</td><td>0.01357273</td><td>2016</td><td>       NA</td></tr>\n",
       "\t<tr><td>2778842</td><td>0.01510168</td><td>2018</td><td>-1.637393</td></tr>\n",
       "\t<tr><td>2731683</td><td>0.01285271</td><td>2020</td><td>-1.697074</td></tr>\n",
       "\t<tr><td>2990030</td><td>0.01388237</td><td>2022</td><td> 9.457430</td></tr>\n",
       "</tbody>\n",
       "</table>\n"
      ],
      "text/latex": [
       "A tibble: 4 × 4\n",
       "\\begin{tabular}{llll}\n",
       " hogares & hogares\\_cv & year & tasa\\_crec\\\\\n",
       " <dbl> & <dbl> & <int> & <dbl>\\\\\n",
       "\\hline\n",
       "\t 2825100 & 0.01357273 & 2016 &        NA\\\\\n",
       "\t 2778842 & 0.01510168 & 2018 & -1.637393\\\\\n",
       "\t 2731683 & 0.01285271 & 2020 & -1.697074\\\\\n",
       "\t 2990030 & 0.01388237 & 2022 &  9.457430\\\\\n",
       "\\end{tabular}\n"
      ],
      "text/markdown": [
       "\n",
       "A tibble: 4 × 4\n",
       "\n",
       "| hogares &lt;dbl&gt; | hogares_cv &lt;dbl&gt; | year &lt;int&gt; | tasa_crec &lt;dbl&gt; |\n",
       "|---|---|---|---|\n",
       "| 2825100 | 0.01357273 | 2016 |        NA |\n",
       "| 2778842 | 0.01510168 | 2018 | -1.637393 |\n",
       "| 2731683 | 0.01285271 | 2020 | -1.697074 |\n",
       "| 2990030 | 0.01388237 | 2022 |  9.457430 |\n",
       "\n"
      ],
      "text/plain": [
       "  hogares hogares_cv year tasa_crec\n",
       "1 2825100 0.01357273 2016        NA\n",
       "2 2778842 0.01510168 2018 -1.637393\n",
       "3 2731683 0.01285271 2020 -1.697074\n",
       "4 2990030 0.01388237 2022  9.457430"
      ]
     },
     "metadata": {},
     "output_type": "display_data"
    }
   ],
   "source": [
    "tabla_hogares<-map_dfr(\n",
    "    list.files(\"data\", full.names = TRUE, pattern = \"viviendas_.*.csv\"),\n",
    "    estimacion,\n",
    "    variable = \"hogares\"\n",
    "    )%>%\n",
    "mutate(\n",
    "  year = as.integer(year),\n",
    "tasa_crec=(hogares/lag(hogares)-1)*100)\n",
    "tabla_hogares"
   ]
  },
  {
   "cell_type": "code",
   "execution_count": 11,
   "id": "510d50c3c9a98117",
   "metadata": {
    "ExecuteTime": {
     "end_time": "2025-02-25T20:36:39.692643Z",
     "start_time": "2025-02-25T20:36:35.761055Z"
    },
    "id": "510d50c3c9a98117",
    "outputId": "9b38a69a-2f87-45ef-c551-e1320a93a839",
    "vscode": {
     "languageId": "r"
    }
   },
   "outputs": [
    {
     "name": "stdout",
     "output_type": "stream",
     "text": [
      "[1] \"data/viviendas_2016.csv\"\n"
     ]
    },
    {
     "name": "stderr",
     "output_type": "stream",
     "text": [
      "Warning message:\n",
      "\"\u001b[1m\u001b[22mOne or more parsing issues, call `problems()` on your data frame for details,\n",
      "e.g.:\n",
      "  dat <- vroom(...)\n",
      "  problems(dat)\"\n",
      "\u001b[1mRows: \u001b[22m\u001b[34m69169\u001b[39m \u001b[1mColumns: \u001b[22m\u001b[34m64\u001b[39m\n",
      "\u001b[36m──\u001b[39m \u001b[1mColumn specification\u001b[22m \u001b[36m────────────────────────────────────────────────────────\u001b[39m\n",
      "\u001b[1mDelimiter:\u001b[22m \",\"\n",
      "\u001b[31mchr\u001b[39m (10): folioviv, tipo_viv, mat_techos, tipo_finan, num_dueno1, num_dueno2...\n",
      "\u001b[32mdbl\u001b[39m (54): mat_pared, mat_pisos, antiguedad, antigua_ne, cocina, cocina_dor, ...\n",
      "\n",
      "\u001b[36mℹ\u001b[39m Use `spec()` to retrieve the full column specification for this data.\n",
      "\u001b[36mℹ\u001b[39m Specify the column types or set `show_col_types = FALSE` to quiet this message.\n"
     ]
    },
    {
     "name": "stdout",
     "output_type": "stream",
     "text": [
      "[1] \"data/viviendas_2018.csv\"\n"
     ]
    },
    {
     "name": "stderr",
     "output_type": "stream",
     "text": [
      "Warning message:\n",
      "\"\u001b[1m\u001b[22mOne or more parsing issues, call `problems()` on your data frame for details,\n",
      "e.g.:\n",
      "  dat <- vroom(...)\n",
      "  problems(dat)\"\n",
      "\u001b[1mRows: \u001b[22m\u001b[34m73405\u001b[39m \u001b[1mColumns: \u001b[22m\u001b[34m64\u001b[39m\n",
      "\u001b[36m──\u001b[39m \u001b[1mColumn specification\u001b[22m \u001b[36m────────────────────────────────────────────────────────\u001b[39m\n",
      "\u001b[1mDelimiter:\u001b[22m \",\"\n",
      "\u001b[31mchr\u001b[39m  (9): folioviv, tipo_viv, mat_techos, tipo_finan, num_dueno1, num_dueno2...\n",
      "\u001b[32mdbl\u001b[39m (55): mat_pared, mat_pisos, antiguedad, antigua_ne, cocina, cocina_dor, ...\n",
      "\n",
      "\u001b[36mℹ\u001b[39m Use `spec()` to retrieve the full column specification for this data.\n",
      "\u001b[36mℹ\u001b[39m Specify the column types or set `show_col_types = FALSE` to quiet this message.\n"
     ]
    },
    {
     "name": "stdout",
     "output_type": "stream",
     "text": [
      "[1] \"data/viviendas_2020.csv\"\n"
     ]
    },
    {
     "name": "stderr",
     "output_type": "stream",
     "text": [
      "Warning message:\n",
      "\"\u001b[1m\u001b[22mOne or more parsing issues, call `problems()` on your data frame for details,\n",
      "e.g.:\n",
      "  dat <- vroom(...)\n",
      "  problems(dat)\"\n",
      "\u001b[1mRows: \u001b[22m\u001b[34m87754\u001b[39m \u001b[1mColumns: \u001b[22m\u001b[34m64\u001b[39m\n",
      "\u001b[36m──\u001b[39m \u001b[1mColumn specification\u001b[22m \u001b[36m────────────────────────────────────────────────────────\u001b[39m\n",
      "\u001b[1mDelimiter:\u001b[22m \",\"\n",
      "\u001b[31mchr\u001b[39m  (9): folioviv, tipo_viv, mat_techos, tipo_finan, num_dueno1, num_dueno2...\n",
      "\u001b[32mdbl\u001b[39m (55): mat_pared, mat_pisos, antiguedad, antigua_ne, cocina, cocina_dor, ...\n",
      "\n",
      "\u001b[36mℹ\u001b[39m Use `spec()` to retrieve the full column specification for this data.\n",
      "\u001b[36mℹ\u001b[39m Specify the column types or set `show_col_types = FALSE` to quiet this message.\n"
     ]
    },
    {
     "name": "stdout",
     "output_type": "stream",
     "text": [
      "[1] \"data/viviendas_2022.csv\"\n"
     ]
    },
    {
     "name": "stderr",
     "output_type": "stream",
     "text": [
      "Warning message:\n",
      "\"\u001b[1m\u001b[22mOne or more parsing issues, call `problems()` on your data frame for details,\n",
      "e.g.:\n",
      "  dat <- vroom(...)\n",
      "  problems(dat)\"\n",
      "\u001b[1mRows: \u001b[22m\u001b[34m88823\u001b[39m \u001b[1mColumns: \u001b[22m\u001b[34m64\u001b[39m\n",
      "\u001b[36m──\u001b[39m \u001b[1mColumn specification\u001b[22m \u001b[36m────────────────────────────────────────────────────────\u001b[39m\n",
      "\u001b[1mDelimiter:\u001b[22m \",\"\n",
      "\u001b[31mchr\u001b[39m  (9): folioviv, tipo_viv, mat_techos, tipo_finan, num_dueno1, num_dueno2...\n",
      "\u001b[32mdbl\u001b[39m (55): mat_pared, mat_pisos, antiguedad, antigua_ne, cocina, cocina_dor, ...\n",
      "\n",
      "\u001b[36mℹ\u001b[39m Use `spec()` to retrieve the full column specification for this data.\n",
      "\u001b[36mℹ\u001b[39m Specify the column types or set `show_col_types = FALSE` to quiet this message.\n"
     ]
    },
    {
     "name": "stdout",
     "output_type": "stream",
     "text": [
      "[1] \"Porcentaje de hogares en hacinamiento\"\n"
     ]
    },
    {
     "data": {
      "text/html": [
       "<table class=\"dataframe\">\n",
       "<caption>A tibble: 4 × 6</caption>\n",
       "<thead>\n",
       "\t<tr><th scope=col>hacinamiento</th><th scope=col>hogares_hac</th><th scope=col>hogares_hac_cv</th><th scope=col>pct</th><th scope=col>pct_cv</th><th scope=col>year</th></tr>\n",
       "\t<tr><th scope=col>&lt;dbl&gt;</th><th scope=col>&lt;dbl&gt;</th><th scope=col>&lt;dbl&gt;</th><th scope=col>&lt;dbl&gt;</th><th scope=col>&lt;dbl&gt;</th><th scope=col>&lt;int&gt;</th></tr>\n",
       "</thead>\n",
       "<tbody>\n",
       "\t<tr><td>1</td><td>94467</td><td>0.1494674</td><td>3.40</td><td>0.1489454</td><td>2016</td></tr>\n",
       "\t<tr><td>1</td><td>69444</td><td>0.1668508</td><td>2.55</td><td>0.1655767</td><td>2018</td></tr>\n",
       "\t<tr><td>1</td><td>79858</td><td>0.1226073</td><td>2.95</td><td>0.1215774</td><td>2020</td></tr>\n",
       "\t<tr><td>1</td><td>50615</td><td>0.1625358</td><td>1.72</td><td>0.1624582</td><td>2022</td></tr>\n",
       "</tbody>\n",
       "</table>\n"
      ],
      "text/latex": [
       "A tibble: 4 × 6\n",
       "\\begin{tabular}{llllll}\n",
       " hacinamiento & hogares\\_hac & hogares\\_hac\\_cv & pct & pct\\_cv & year\\\\\n",
       " <dbl> & <dbl> & <dbl> & <dbl> & <dbl> & <int>\\\\\n",
       "\\hline\n",
       "\t 1 & 94467 & 0.1494674 & 3.40 & 0.1489454 & 2016\\\\\n",
       "\t 1 & 69444 & 0.1668508 & 2.55 & 0.1655767 & 2018\\\\\n",
       "\t 1 & 79858 & 0.1226073 & 2.95 & 0.1215774 & 2020\\\\\n",
       "\t 1 & 50615 & 0.1625358 & 1.72 & 0.1624582 & 2022\\\\\n",
       "\\end{tabular}\n"
      ],
      "text/markdown": [
       "\n",
       "A tibble: 4 × 6\n",
       "\n",
       "| hacinamiento &lt;dbl&gt; | hogares_hac &lt;dbl&gt; | hogares_hac_cv &lt;dbl&gt; | pct &lt;dbl&gt; | pct_cv &lt;dbl&gt; | year &lt;int&gt; |\n",
       "|---|---|---|---|---|---|\n",
       "| 1 | 94467 | 0.1494674 | 3.40 | 0.1489454 | 2016 |\n",
       "| 1 | 69444 | 0.1668508 | 2.55 | 0.1655767 | 2018 |\n",
       "| 1 | 79858 | 0.1226073 | 2.95 | 0.1215774 | 2020 |\n",
       "| 1 | 50615 | 0.1625358 | 1.72 | 0.1624582 | 2022 |\n",
       "\n"
      ],
      "text/plain": [
       "  hacinamiento hogares_hac hogares_hac_cv pct  pct_cv    year\n",
       "1 1            94467       0.1494674      3.40 0.1489454 2016\n",
       "2 1            69444       0.1668508      2.55 0.1655767 2018\n",
       "3 1            79858       0.1226073      2.95 0.1215774 2020\n",
       "4 1            50615       0.1625358      1.72 0.1624582 2022"
      ]
     },
     "metadata": {},
     "output_type": "display_data"
    }
   ],
   "source": [
    "tabla_hogares_hac<-map_dfr(\n",
    "    list.files(\"data\", full.names = TRUE, pattern = \"viviendas_.*.csv\"),\n",
    "    estimacion,\n",
    "    variable=\"hogares_hac\"\n",
    "    )%>%\n",
    "mutate(\n",
    "  year = as.integer(year),\n",
    "  #asa_crec = (hogares_hac / lag(hogares_hac) - 1) * 100\n",
    ")%>%\n",
    "filter(hacinamiento==1)\n",
    "print(\"Porcentaje de hogares en hacinamiento\")\n",
    "tabla_hogares_hac"
   ]
  },
  {
   "cell_type": "code",
   "execution_count": 12,
   "id": "edce7b699433a19e",
   "metadata": {
    "ExecuteTime": {
     "end_time": "2025-02-25T20:36:50.509618Z",
     "start_time": "2025-02-25T20:36:46.407875Z"
    },
    "vscode": {
     "languageId": "r"
    }
   },
   "outputs": [
    {
     "name": "stdout",
     "output_type": "stream",
     "text": [
      "[1] \"data/viviendas_2016.csv\"\n"
     ]
    },
    {
     "name": "stderr",
     "output_type": "stream",
     "text": [
      "Warning message:\n",
      "\"\u001b[1m\u001b[22mOne or more parsing issues, call `problems()` on your data frame for details,\n",
      "e.g.:\n",
      "  dat <- vroom(...)\n",
      "  problems(dat)\"\n",
      "\u001b[1mRows: \u001b[22m\u001b[34m69169\u001b[39m \u001b[1mColumns: \u001b[22m\u001b[34m64\u001b[39m\n",
      "\u001b[36m──\u001b[39m \u001b[1mColumn specification\u001b[22m \u001b[36m────────────────────────────────────────────────────────\u001b[39m\n",
      "\u001b[1mDelimiter:\u001b[22m \",\"\n",
      "\u001b[31mchr\u001b[39m (10): folioviv, tipo_viv, mat_techos, tipo_finan, num_dueno1, num_dueno2...\n",
      "\u001b[32mdbl\u001b[39m (54): mat_pared, mat_pisos, antiguedad, antigua_ne, cocina, cocina_dor, ...\n",
      "\n",
      "\u001b[36mℹ\u001b[39m Use `spec()` to retrieve the full column specification for this data.\n",
      "\u001b[36mℹ\u001b[39m Specify the column types or set `show_col_types = FALSE` to quiet this message.\n"
     ]
    },
    {
     "name": "stdout",
     "output_type": "stream",
     "text": [
      "[1] \"data/viviendas_2018.csv\"\n"
     ]
    },
    {
     "name": "stderr",
     "output_type": "stream",
     "text": [
      "Warning message:\n",
      "\"\u001b[1m\u001b[22mOne or more parsing issues, call `problems()` on your data frame for details,\n",
      "e.g.:\n",
      "  dat <- vroom(...)\n",
      "  problems(dat)\"\n",
      "\u001b[1mRows: \u001b[22m\u001b[34m73405\u001b[39m \u001b[1mColumns: \u001b[22m\u001b[34m64\u001b[39m\n",
      "\u001b[36m──\u001b[39m \u001b[1mColumn specification\u001b[22m \u001b[36m────────────────────────────────────────────────────────\u001b[39m\n",
      "\u001b[1mDelimiter:\u001b[22m \",\"\n",
      "\u001b[31mchr\u001b[39m  (9): folioviv, tipo_viv, mat_techos, tipo_finan, num_dueno1, num_dueno2...\n",
      "\u001b[32mdbl\u001b[39m (55): mat_pared, mat_pisos, antiguedad, antigua_ne, cocina, cocina_dor, ...\n",
      "\n",
      "\u001b[36mℹ\u001b[39m Use `spec()` to retrieve the full column specification for this data.\n",
      "\u001b[36mℹ\u001b[39m Specify the column types or set `show_col_types = FALSE` to quiet this message.\n"
     ]
    },
    {
     "name": "stdout",
     "output_type": "stream",
     "text": [
      "[1] \"data/viviendas_2020.csv\"\n"
     ]
    },
    {
     "name": "stderr",
     "output_type": "stream",
     "text": [
      "Warning message:\n",
      "\"\u001b[1m\u001b[22mOne or more parsing issues, call `problems()` on your data frame for details,\n",
      "e.g.:\n",
      "  dat <- vroom(...)\n",
      "  problems(dat)\"\n",
      "\u001b[1mRows: \u001b[22m\u001b[34m87754\u001b[39m \u001b[1mColumns: \u001b[22m\u001b[34m64\u001b[39m\n",
      "\u001b[36m──\u001b[39m \u001b[1mColumn specification\u001b[22m \u001b[36m────────────────────────────────────────────────────────\u001b[39m\n",
      "\u001b[1mDelimiter:\u001b[22m \",\"\n",
      "\u001b[31mchr\u001b[39m  (9): folioviv, tipo_viv, mat_techos, tipo_finan, num_dueno1, num_dueno2...\n",
      "\u001b[32mdbl\u001b[39m (55): mat_pared, mat_pisos, antiguedad, antigua_ne, cocina, cocina_dor, ...\n",
      "\n",
      "\u001b[36mℹ\u001b[39m Use `spec()` to retrieve the full column specification for this data.\n",
      "\u001b[36mℹ\u001b[39m Specify the column types or set `show_col_types = FALSE` to quiet this message.\n"
     ]
    },
    {
     "name": "stdout",
     "output_type": "stream",
     "text": [
      "[1] \"data/viviendas_2022.csv\"\n"
     ]
    },
    {
     "name": "stderr",
     "output_type": "stream",
     "text": [
      "Warning message:\n",
      "\"\u001b[1m\u001b[22mOne or more parsing issues, call `problems()` on your data frame for details,\n",
      "e.g.:\n",
      "  dat <- vroom(...)\n",
      "  problems(dat)\"\n",
      "\u001b[1mRows: \u001b[22m\u001b[34m88823\u001b[39m \u001b[1mColumns: \u001b[22m\u001b[34m64\u001b[39m\n",
      "\u001b[36m──\u001b[39m \u001b[1mColumn specification\u001b[22m \u001b[36m────────────────────────────────────────────────────────\u001b[39m\n",
      "\u001b[1mDelimiter:\u001b[22m \",\"\n",
      "\u001b[31mchr\u001b[39m  (9): folioviv, tipo_viv, mat_techos, tipo_finan, num_dueno1, num_dueno2...\n",
      "\u001b[32mdbl\u001b[39m (55): mat_pared, mat_pisos, antiguedad, antigua_ne, cocina, cocina_dor, ...\n",
      "\n",
      "\u001b[36mℹ\u001b[39m Use `spec()` to retrieve the full column specification for this data.\n",
      "\u001b[36mℹ\u001b[39m Specify the column types or set `show_col_types = FALSE` to quiet this message.\n"
     ]
    },
    {
     "name": "stdout",
     "output_type": "stream",
     "text": [
      "[1] \"Porcentaje de hogares en hacinamiento considerando relación de 2 o más personas por cuarto\"\n"
     ]
    },
    {
     "data": {
      "text/html": [
       "<table class=\"dataframe\">\n",
       "<caption>A tibble: 4 × 6</caption>\n",
       "<thead>\n",
       "\t<tr><th scope=col>hacinamiento</th><th scope=col>hogares_hac</th><th scope=col>hogares_hac_cv</th><th scope=col>pct</th><th scope=col>pct_cv</th><th scope=col>year</th></tr>\n",
       "\t<tr><th scope=col>&lt;dbl&gt;</th><th scope=col>&lt;dbl&gt;</th><th scope=col>&lt;dbl&gt;</th><th scope=col>&lt;dbl&gt;</th><th scope=col>&lt;dbl&gt;</th><th scope=col>&lt;int&gt;</th></tr>\n",
       "</thead>\n",
       "<tbody>\n",
       "\t<tr><td>1</td><td>138376</td><td>0.12600871</td><td>4.99</td><td>0.12602813</td><td>2016</td></tr>\n",
       "\t<tr><td>1</td><td>113820</td><td>0.12485900</td><td>4.18</td><td>0.12388585</td><td>2018</td></tr>\n",
       "\t<tr><td>1</td><td>123329</td><td>0.09333855</td><td>4.56</td><td>0.09224503</td><td>2020</td></tr>\n",
       "\t<tr><td>1</td><td> 82588</td><td>0.12711455</td><td>2.80</td><td>0.12692183</td><td>2022</td></tr>\n",
       "</tbody>\n",
       "</table>\n"
      ],
      "text/latex": [
       "A tibble: 4 × 6\n",
       "\\begin{tabular}{llllll}\n",
       " hacinamiento & hogares\\_hac & hogares\\_hac\\_cv & pct & pct\\_cv & year\\\\\n",
       " <dbl> & <dbl> & <dbl> & <dbl> & <dbl> & <int>\\\\\n",
       "\\hline\n",
       "\t 1 & 138376 & 0.12600871 & 4.99 & 0.12602813 & 2016\\\\\n",
       "\t 1 & 113820 & 0.12485900 & 4.18 & 0.12388585 & 2018\\\\\n",
       "\t 1 & 123329 & 0.09333855 & 4.56 & 0.09224503 & 2020\\\\\n",
       "\t 1 &  82588 & 0.12711455 & 2.80 & 0.12692183 & 2022\\\\\n",
       "\\end{tabular}\n"
      ],
      "text/markdown": [
       "\n",
       "A tibble: 4 × 6\n",
       "\n",
       "| hacinamiento &lt;dbl&gt; | hogares_hac &lt;dbl&gt; | hogares_hac_cv &lt;dbl&gt; | pct &lt;dbl&gt; | pct_cv &lt;dbl&gt; | year &lt;int&gt; |\n",
       "|---|---|---|---|---|---|\n",
       "| 1 | 138376 | 0.12600871 | 4.99 | 0.12602813 | 2016 |\n",
       "| 1 | 113820 | 0.12485900 | 4.18 | 0.12388585 | 2018 |\n",
       "| 1 | 123329 | 0.09333855 | 4.56 | 0.09224503 | 2020 |\n",
       "| 1 |  82588 | 0.12711455 | 2.80 | 0.12692183 | 2022 |\n",
       "\n"
      ],
      "text/plain": [
       "  hacinamiento hogares_hac hogares_hac_cv pct  pct_cv     year\n",
       "1 1            138376      0.12600871     4.99 0.12602813 2016\n",
       "2 1            113820      0.12485900     4.18 0.12388585 2018\n",
       "3 1            123329      0.09333855     4.56 0.09224503 2020\n",
       "4 1             82588      0.12711455     2.80 0.12692183 2022"
      ]
     },
     "metadata": {},
     "output_type": "display_data"
    }
   ],
   "source": [
    "tabla_hogares_hac2<-map_dfr(\n",
    "    list.files(\"data\", full.names = TRUE, pattern = \"viviendas_.*.csv\"),\n",
    "    estimacion,\n",
    "    variable=\"hogares_hac2\"\n",
    "    )%>%\n",
    "mutate(\n",
    "  year = as.integer(year),\n",
    "  #asa_crec = (hogares_hac / lag(hogares_hac) - 1) * 100\n",
    ")%>%\n",
    "filter(hacinamiento==1)\n",
    "print(\"Porcentaje de hogares en hacinamiento considerando relación de 2 o más personas por cuarto\")\n",
    "tabla_hogares_hac2"
   ]
  },
  {
   "cell_type": "code",
   "execution_count": 13,
   "id": "5d41fbe7446835d4",
   "metadata": {
    "id": "5d41fbe7446835d4",
    "outputId": "ead395b3-d9f2-4062-c9fc-7077e1cbc9fe",
    "vscode": {
     "languageId": "r"
    }
   },
   "outputs": [
    {
     "name": "stdout",
     "output_type": "stream",
     "text": [
      "[1] \"data/viviendas_2016.csv\"\n"
     ]
    },
    {
     "name": "stderr",
     "output_type": "stream",
     "text": [
      "Warning message:\n",
      "\"\u001b[1m\u001b[22mOne or more parsing issues, call `problems()` on your data frame for details,\n",
      "e.g.:\n",
      "  dat <- vroom(...)\n",
      "  problems(dat)\"\n",
      "\u001b[1mRows: \u001b[22m\u001b[34m69169\u001b[39m \u001b[1mColumns: \u001b[22m\u001b[34m64\u001b[39m\n",
      "\u001b[36m──\u001b[39m \u001b[1mColumn specification\u001b[22m \u001b[36m────────────────────────────────────────────────────────\u001b[39m\n",
      "\u001b[1mDelimiter:\u001b[22m \",\"\n",
      "\u001b[31mchr\u001b[39m (10): folioviv, tipo_viv, mat_techos, tipo_finan, num_dueno1, num_dueno2...\n",
      "\u001b[32mdbl\u001b[39m (54): mat_pared, mat_pisos, antiguedad, antigua_ne, cocina, cocina_dor, ...\n",
      "\n",
      "\u001b[36mℹ\u001b[39m Use `spec()` to retrieve the full column specification for this data.\n",
      "\u001b[36mℹ\u001b[39m Specify the column types or set `show_col_types = FALSE` to quiet this message.\n"
     ]
    },
    {
     "name": "stdout",
     "output_type": "stream",
     "text": [
      "[1] \"data/viviendas_2018.csv\"\n"
     ]
    },
    {
     "name": "stderr",
     "output_type": "stream",
     "text": [
      "Warning message:\n",
      "\"\u001b[1m\u001b[22mOne or more parsing issues, call `problems()` on your data frame for details,\n",
      "e.g.:\n",
      "  dat <- vroom(...)\n",
      "  problems(dat)\"\n",
      "\u001b[1mRows: \u001b[22m\u001b[34m73405\u001b[39m \u001b[1mColumns: \u001b[22m\u001b[34m64\u001b[39m\n",
      "\u001b[36m──\u001b[39m \u001b[1mColumn specification\u001b[22m \u001b[36m────────────────────────────────────────────────────────\u001b[39m\n",
      "\u001b[1mDelimiter:\u001b[22m \",\"\n",
      "\u001b[31mchr\u001b[39m  (9): folioviv, tipo_viv, mat_techos, tipo_finan, num_dueno1, num_dueno2...\n",
      "\u001b[32mdbl\u001b[39m (55): mat_pared, mat_pisos, antiguedad, antigua_ne, cocina, cocina_dor, ...\n",
      "\n",
      "\u001b[36mℹ\u001b[39m Use `spec()` to retrieve the full column specification for this data.\n",
      "\u001b[36mℹ\u001b[39m Specify the column types or set `show_col_types = FALSE` to quiet this message.\n"
     ]
    },
    {
     "name": "stdout",
     "output_type": "stream",
     "text": [
      "[1] \"data/viviendas_2020.csv\"\n"
     ]
    },
    {
     "name": "stderr",
     "output_type": "stream",
     "text": [
      "Warning message:\n",
      "\"\u001b[1m\u001b[22mOne or more parsing issues, call `problems()` on your data frame for details,\n",
      "e.g.:\n",
      "  dat <- vroom(...)\n",
      "  problems(dat)\"\n",
      "\u001b[1mRows: \u001b[22m\u001b[34m87754\u001b[39m \u001b[1mColumns: \u001b[22m\u001b[34m64\u001b[39m\n",
      "\u001b[36m──\u001b[39m \u001b[1mColumn specification\u001b[22m \u001b[36m────────────────────────────────────────────────────────\u001b[39m\n",
      "\u001b[1mDelimiter:\u001b[22m \",\"\n",
      "\u001b[31mchr\u001b[39m  (9): folioviv, tipo_viv, mat_techos, tipo_finan, num_dueno1, num_dueno2...\n",
      "\u001b[32mdbl\u001b[39m (55): mat_pared, mat_pisos, antiguedad, antigua_ne, cocina, cocina_dor, ...\n",
      "\n",
      "\u001b[36mℹ\u001b[39m Use `spec()` to retrieve the full column specification for this data.\n",
      "\u001b[36mℹ\u001b[39m Specify the column types or set `show_col_types = FALSE` to quiet this message.\n"
     ]
    },
    {
     "name": "stdout",
     "output_type": "stream",
     "text": [
      "[1] \"data/viviendas_2022.csv\"\n"
     ]
    },
    {
     "name": "stderr",
     "output_type": "stream",
     "text": [
      "Warning message:\n",
      "\"\u001b[1m\u001b[22mOne or more parsing issues, call `problems()` on your data frame for details,\n",
      "e.g.:\n",
      "  dat <- vroom(...)\n",
      "  problems(dat)\"\n",
      "\u001b[1mRows: \u001b[22m\u001b[34m88823\u001b[39m \u001b[1mColumns: \u001b[22m\u001b[34m64\u001b[39m\n",
      "\u001b[36m──\u001b[39m \u001b[1mColumn specification\u001b[22m \u001b[36m────────────────────────────────────────────────────────\u001b[39m\n",
      "\u001b[1mDelimiter:\u001b[22m \",\"\n",
      "\u001b[31mchr\u001b[39m  (9): folioviv, tipo_viv, mat_techos, tipo_finan, num_dueno1, num_dueno2...\n",
      "\u001b[32mdbl\u001b[39m (55): mat_pared, mat_pisos, antiguedad, antigua_ne, cocina, cocina_dor, ...\n",
      "\n",
      "\u001b[36mℹ\u001b[39m Use `spec()` to retrieve the full column specification for this data.\n",
      "\u001b[36mℹ\u001b[39m Specify the column types or set `show_col_types = FALSE` to quiet this message.\n"
     ]
    },
    {
     "name": "stdout",
     "output_type": "stream",
     "text": [
      "[1] \"Porcentaje de hogares en hacinamiento que no son propietarios de la vivienda\"\n"
     ]
    },
    {
     "data": {
      "text/html": [
       "<table class=\"dataframe\">\n",
       "<caption>A tibble: 4 × 4</caption>\n",
       "<thead>\n",
       "\t<tr><th scope=col>ten_vivi</th><th scope=col>hogares_hac</th><th scope=col>hogares_hac_cv</th><th scope=col>year</th></tr>\n",
       "\t<tr><th scope=col>&lt;chr&gt;</th><th scope=col>&lt;dbl&gt;</th><th scope=col>&lt;dbl&gt;</th><th scope=col>&lt;int&gt;</th></tr>\n",
       "</thead>\n",
       "<tbody>\n",
       "\t<tr><td>No propietarios</td><td>81.57</td><td>0.07178577</td><td>2016</td></tr>\n",
       "\t<tr><td>No propietarios</td><td>83.33</td><td>0.06234368</td><td>2018</td></tr>\n",
       "\t<tr><td>No propietarios</td><td>78.57</td><td>0.06250299</td><td>2020</td></tr>\n",
       "\t<tr><td>No propietarios</td><td>72.08</td><td>0.10327248</td><td>2022</td></tr>\n",
       "</tbody>\n",
       "</table>\n"
      ],
      "text/latex": [
       "A tibble: 4 × 4\n",
       "\\begin{tabular}{llll}\n",
       " ten\\_vivi & hogares\\_hac & hogares\\_hac\\_cv & year\\\\\n",
       " <chr> & <dbl> & <dbl> & <int>\\\\\n",
       "\\hline\n",
       "\t No propietarios & 81.57 & 0.07178577 & 2016\\\\\n",
       "\t No propietarios & 83.33 & 0.06234368 & 2018\\\\\n",
       "\t No propietarios & 78.57 & 0.06250299 & 2020\\\\\n",
       "\t No propietarios & 72.08 & 0.10327248 & 2022\\\\\n",
       "\\end{tabular}\n"
      ],
      "text/markdown": [
       "\n",
       "A tibble: 4 × 4\n",
       "\n",
       "| ten_vivi &lt;chr&gt; | hogares_hac &lt;dbl&gt; | hogares_hac_cv &lt;dbl&gt; | year &lt;int&gt; |\n",
       "|---|---|---|---|\n",
       "| No propietarios | 81.57 | 0.07178577 | 2016 |\n",
       "| No propietarios | 83.33 | 0.06234368 | 2018 |\n",
       "| No propietarios | 78.57 | 0.06250299 | 2020 |\n",
       "| No propietarios | 72.08 | 0.10327248 | 2022 |\n",
       "\n"
      ],
      "text/plain": [
       "  ten_vivi        hogares_hac hogares_hac_cv year\n",
       "1 No propietarios 81.57       0.07178577     2016\n",
       "2 No propietarios 83.33       0.06234368     2018\n",
       "3 No propietarios 78.57       0.06250299     2020\n",
       "4 No propietarios 72.08       0.10327248     2022"
      ]
     },
     "metadata": {},
     "output_type": "display_data"
    }
   ],
   "source": [
    "tabla_hogares_hac_no_prop<-map_dfr(\n",
    "    list.files(\"data\", full.names = TRUE, pattern = \"viviendas_.*.csv\"),\n",
    "    estimacion,\n",
    "    variable=\"hogares_hac_no_prop\"\n",
    "    )\n",
    "print(\"Porcentaje de hogares en hacinamiento que no son propietarios de la vivienda\")\n",
    "tabla_hogares_hac_no_prop"
   ]
  },
  {
   "cell_type": "markdown",
   "id": "ee3d5ee8",
   "metadata": {},
   "source": [
    "#### Proyecciones a 2045\n",
    "\n",
    "Se seleccionan dos indicadores: porcentaje de rezago habitacional y tenencia de escrituras"
   ]
  },
  {
   "cell_type": "code",
   "execution_count": 14,
   "id": "75cfa5c0",
   "metadata": {
    "vscode": {
     "languageId": "r"
    }
   },
   "outputs": [
    {
     "data": {
      "text/html": [
       "<table class=\"dataframe\">\n",
       "<caption>A tibble: 4 × 7</caption>\n",
       "<thead>\n",
       "\t<tr><th scope=col>rezago</th><th scope=col>viviendas</th><th scope=col>viviendas_cv</th><th scope=col>pct</th><th scope=col>pct_cv</th><th scope=col>total_viviendas</th><th scope=col>year</th></tr>\n",
       "\t<tr><th scope=col>&lt;chr&gt;</th><th scope=col>&lt;dbl&gt;</th><th scope=col>&lt;dbl&gt;</th><th scope=col>&lt;dbl&gt;</th><th scope=col>&lt;dbl&gt;</th><th scope=col>&lt;dbl&gt;</th><th scope=col>&lt;int&gt;</th></tr>\n",
       "</thead>\n",
       "<tbody>\n",
       "\t<tr><td>En rezago</td><td>272200</td><td>0.08809435</td><td>9.81</td><td>0.08684886</td><td>2774780</td><td>2016</td></tr>\n",
       "\t<tr><td>En rezago</td><td>218501</td><td>0.08906203</td><td>8.02</td><td>0.08727815</td><td>2724389</td><td>2018</td></tr>\n",
       "\t<tr><td>En rezago</td><td>198021</td><td>0.08360376</td><td>7.31</td><td>0.08292165</td><td>2707156</td><td>2020</td></tr>\n",
       "\t<tr><td>En rezago</td><td>175242</td><td>0.09933936</td><td>5.94</td><td>0.09870452</td><td>2947953</td><td>2022</td></tr>\n",
       "</tbody>\n",
       "</table>\n"
      ],
      "text/latex": [
       "A tibble: 4 × 7\n",
       "\\begin{tabular}{lllllll}\n",
       " rezago & viviendas & viviendas\\_cv & pct & pct\\_cv & total\\_viviendas & year\\\\\n",
       " <chr> & <dbl> & <dbl> & <dbl> & <dbl> & <dbl> & <int>\\\\\n",
       "\\hline\n",
       "\t En rezago & 272200 & 0.08809435 & 9.81 & 0.08684886 & 2774780 & 2016\\\\\n",
       "\t En rezago & 218501 & 0.08906203 & 8.02 & 0.08727815 & 2724389 & 2018\\\\\n",
       "\t En rezago & 198021 & 0.08360376 & 7.31 & 0.08292165 & 2707156 & 2020\\\\\n",
       "\t En rezago & 175242 & 0.09933936 & 5.94 & 0.09870452 & 2947953 & 2022\\\\\n",
       "\\end{tabular}\n"
      ],
      "text/markdown": [
       "\n",
       "A tibble: 4 × 7\n",
       "\n",
       "| rezago &lt;chr&gt; | viviendas &lt;dbl&gt; | viviendas_cv &lt;dbl&gt; | pct &lt;dbl&gt; | pct_cv &lt;dbl&gt; | total_viviendas &lt;dbl&gt; | year &lt;int&gt; |\n",
       "|---|---|---|---|---|---|---|\n",
       "| En rezago | 272200 | 0.08809435 | 9.81 | 0.08684886 | 2774780 | 2016 |\n",
       "| En rezago | 218501 | 0.08906203 | 8.02 | 0.08727815 | 2724389 | 2018 |\n",
       "| En rezago | 198021 | 0.08360376 | 7.31 | 0.08292165 | 2707156 | 2020 |\n",
       "| En rezago | 175242 | 0.09933936 | 5.94 | 0.09870452 | 2947953 | 2022 |\n",
       "\n"
      ],
      "text/plain": [
       "  rezago    viviendas viviendas_cv pct  pct_cv     total_viviendas year\n",
       "1 En rezago 272200    0.08809435   9.81 0.08684886 2774780         2016\n",
       "2 En rezago 218501    0.08906203   8.02 0.08727815 2724389         2018\n",
       "3 En rezago 198021    0.08360376   7.31 0.08292165 2707156         2020\n",
       "4 En rezago 175242    0.09933936   5.94 0.09870452 2947953         2022"
      ]
     },
     "metadata": {},
     "output_type": "display_data"
    }
   ],
   "source": [
    "tabla_rezago"
   ]
  },
  {
   "cell_type": "code",
   "execution_count": 15,
   "id": "0d52581a",
   "metadata": {
    "vscode": {
     "languageId": "r"
    }
   },
   "outputs": [
    {
     "data": {
      "text/html": [
       "-0.080215176106444"
      ],
      "text/latex": [
       "-0.080215176106444"
      ],
      "text/markdown": [
       "-0.080215176106444"
      ],
      "text/plain": [
       "[1] -0.08021518"
      ]
     },
     "metadata": {},
     "output_type": "display_data"
    }
   ],
   "source": [
    "tcma_rezago<-((tabla_rezago$pct[tabla_rezago$year==2022]/tabla_rezago$pct[tabla_rezago$year==2016])^(1/(2022-2016))-1)\n",
    "\n",
    "tcma_rezago"
   ]
  },
  {
   "cell_type": "code",
   "execution_count": 16,
   "id": "af44a5cc",
   "metadata": {
    "vscode": {
     "languageId": "r"
    }
   },
   "outputs": [
    {
     "data": {
      "text/html": [
       "<table class=\"dataframe\">\n",
       "<caption>A data.frame: 23 × 2</caption>\n",
       "<thead>\n",
       "\t<tr><th scope=col>year</th><th scope=col>pct</th></tr>\n",
       "\t<tr><th scope=col>&lt;int&gt;</th><th scope=col>&lt;dbl&gt;</th></tr>\n",
       "</thead>\n",
       "<tbody>\n",
       "\t<tr><td>2023</td><td>5.46</td></tr>\n",
       "\t<tr><td>2024</td><td>5.03</td></tr>\n",
       "\t<tr><td>2025</td><td>4.62</td></tr>\n",
       "\t<tr><td>2026</td><td>4.25</td></tr>\n",
       "\t<tr><td>2027</td><td>3.91</td></tr>\n",
       "\t<tr><td>2028</td><td>3.60</td></tr>\n",
       "\t<tr><td>2029</td><td>3.31</td></tr>\n",
       "\t<tr><td>2030</td><td>3.04</td></tr>\n",
       "\t<tr><td>2031</td><td>2.80</td></tr>\n",
       "\t<tr><td>2032</td><td>2.57</td></tr>\n",
       "\t<tr><td>2033</td><td>2.37</td></tr>\n",
       "\t<tr><td>2034</td><td>2.18</td></tr>\n",
       "\t<tr><td>2035</td><td>2.00</td></tr>\n",
       "\t<tr><td>2036</td><td>1.84</td></tr>\n",
       "\t<tr><td>2037</td><td>1.69</td></tr>\n",
       "\t<tr><td>2038</td><td>1.56</td></tr>\n",
       "\t<tr><td>2039</td><td>1.43</td></tr>\n",
       "\t<tr><td>2040</td><td>1.32</td></tr>\n",
       "\t<tr><td>2041</td><td>1.21</td></tr>\n",
       "\t<tr><td>2042</td><td>1.12</td></tr>\n",
       "\t<tr><td>2043</td><td>1.03</td></tr>\n",
       "\t<tr><td>2044</td><td>0.94</td></tr>\n",
       "\t<tr><td>2045</td><td>0.87</td></tr>\n",
       "</tbody>\n",
       "</table>\n"
      ],
      "text/latex": [
       "A data.frame: 23 × 2\n",
       "\\begin{tabular}{ll}\n",
       " year & pct\\\\\n",
       " <int> & <dbl>\\\\\n",
       "\\hline\n",
       "\t 2023 & 5.46\\\\\n",
       "\t 2024 & 5.03\\\\\n",
       "\t 2025 & 4.62\\\\\n",
       "\t 2026 & 4.25\\\\\n",
       "\t 2027 & 3.91\\\\\n",
       "\t 2028 & 3.60\\\\\n",
       "\t 2029 & 3.31\\\\\n",
       "\t 2030 & 3.04\\\\\n",
       "\t 2031 & 2.80\\\\\n",
       "\t 2032 & 2.57\\\\\n",
       "\t 2033 & 2.37\\\\\n",
       "\t 2034 & 2.18\\\\\n",
       "\t 2035 & 2.00\\\\\n",
       "\t 2036 & 1.84\\\\\n",
       "\t 2037 & 1.69\\\\\n",
       "\t 2038 & 1.56\\\\\n",
       "\t 2039 & 1.43\\\\\n",
       "\t 2040 & 1.32\\\\\n",
       "\t 2041 & 1.21\\\\\n",
       "\t 2042 & 1.12\\\\\n",
       "\t 2043 & 1.03\\\\\n",
       "\t 2044 & 0.94\\\\\n",
       "\t 2045 & 0.87\\\\\n",
       "\\end{tabular}\n"
      ],
      "text/markdown": [
       "\n",
       "A data.frame: 23 × 2\n",
       "\n",
       "| year &lt;int&gt; | pct &lt;dbl&gt; |\n",
       "|---|---|\n",
       "| 2023 | 5.46 |\n",
       "| 2024 | 5.03 |\n",
       "| 2025 | 4.62 |\n",
       "| 2026 | 4.25 |\n",
       "| 2027 | 3.91 |\n",
       "| 2028 | 3.60 |\n",
       "| 2029 | 3.31 |\n",
       "| 2030 | 3.04 |\n",
       "| 2031 | 2.80 |\n",
       "| 2032 | 2.57 |\n",
       "| 2033 | 2.37 |\n",
       "| 2034 | 2.18 |\n",
       "| 2035 | 2.00 |\n",
       "| 2036 | 1.84 |\n",
       "| 2037 | 1.69 |\n",
       "| 2038 | 1.56 |\n",
       "| 2039 | 1.43 |\n",
       "| 2040 | 1.32 |\n",
       "| 2041 | 1.21 |\n",
       "| 2042 | 1.12 |\n",
       "| 2043 | 1.03 |\n",
       "| 2044 | 0.94 |\n",
       "| 2045 | 0.87 |\n",
       "\n"
      ],
      "text/plain": [
       "   year pct \n",
       "1  2023 5.46\n",
       "2  2024 5.03\n",
       "3  2025 4.62\n",
       "4  2026 4.25\n",
       "5  2027 3.91\n",
       "6  2028 3.60\n",
       "7  2029 3.31\n",
       "8  2030 3.04\n",
       "9  2031 2.80\n",
       "10 2032 2.57\n",
       "11 2033 2.37\n",
       "12 2034 2.18\n",
       "13 2035 2.00\n",
       "14 2036 1.84\n",
       "15 2037 1.69\n",
       "16 2038 1.56\n",
       "17 2039 1.43\n",
       "18 2040 1.32\n",
       "19 2041 1.21\n",
       "20 2042 1.12\n",
       "21 2043 1.03\n",
       "22 2044 0.94\n",
       "23 2045 0.87"
      ]
     },
     "metadata": {},
     "output_type": "display_data"
    }
   ],
   "source": [
    "extendido_rezago<-data.frame(year=2023:2045)\n",
    "extendido_rezago$pct<-tabla_rezago$pct[tabla_rezago$year==2022]*cumprod(rep(1+tcma_rezago,length(2023:2045)))\n",
    "extendido_rezago%>%\n",
    "mutate(pct=round(pct,2))"
   ]
  },
  {
   "cell_type": "code",
   "execution_count": 17,
   "id": "cb12ce2b",
   "metadata": {
    "vscode": {
     "languageId": "r"
    }
   },
   "outputs": [
    {
     "data": {
      "text/html": [
       "<table class=\"dataframe\">\n",
       "<caption>A tibble: 4 × 7</caption>\n",
       "<thead>\n",
       "\t<tr><th scope=col>escrituras</th><th scope=col>viviendas</th><th scope=col>viviendas_cv</th><th scope=col>pct</th><th scope=col>pct_cv</th><th scope=col>total_viviendas</th><th scope=col>year</th></tr>\n",
       "\t<tr><th scope=col>&lt;chr&gt;</th><th scope=col>&lt;dbl&gt;</th><th scope=col>&lt;dbl&gt;</th><th scope=col>&lt;dbl&gt;</th><th scope=col>&lt;dbl&gt;</th><th scope=col>&lt;dbl&gt;</th><th scope=col>&lt;int&gt;</th></tr>\n",
       "</thead>\n",
       "<tbody>\n",
       "\t<tr><td>Sin escrituras</td><td>266547</td><td>0.08646642</td><td>17.71</td><td>0.08298775</td><td>1505322</td><td>2016</td></tr>\n",
       "\t<tr><td>Sin escrituras</td><td>246283</td><td>0.09985847</td><td>17.22</td><td>0.09461881</td><td>1429942</td><td>2018</td></tr>\n",
       "\t<tr><td>Sin escrituras</td><td>259056</td><td>0.09464920</td><td>16.23</td><td>0.08765464</td><td>1595765</td><td>2020</td></tr>\n",
       "\t<tr><td>Sin escrituras</td><td>310191</td><td>0.08428046</td><td>17.63</td><td>0.07835935</td><td>1759030</td><td>2022</td></tr>\n",
       "</tbody>\n",
       "</table>\n"
      ],
      "text/latex": [
       "A tibble: 4 × 7\n",
       "\\begin{tabular}{lllllll}\n",
       " escrituras & viviendas & viviendas\\_cv & pct & pct\\_cv & total\\_viviendas & year\\\\\n",
       " <chr> & <dbl> & <dbl> & <dbl> & <dbl> & <dbl> & <int>\\\\\n",
       "\\hline\n",
       "\t Sin escrituras & 266547 & 0.08646642 & 17.71 & 0.08298775 & 1505322 & 2016\\\\\n",
       "\t Sin escrituras & 246283 & 0.09985847 & 17.22 & 0.09461881 & 1429942 & 2018\\\\\n",
       "\t Sin escrituras & 259056 & 0.09464920 & 16.23 & 0.08765464 & 1595765 & 2020\\\\\n",
       "\t Sin escrituras & 310191 & 0.08428046 & 17.63 & 0.07835935 & 1759030 & 2022\\\\\n",
       "\\end{tabular}\n"
      ],
      "text/markdown": [
       "\n",
       "A tibble: 4 × 7\n",
       "\n",
       "| escrituras &lt;chr&gt; | viviendas &lt;dbl&gt; | viviendas_cv &lt;dbl&gt; | pct &lt;dbl&gt; | pct_cv &lt;dbl&gt; | total_viviendas &lt;dbl&gt; | year &lt;int&gt; |\n",
       "|---|---|---|---|---|---|---|\n",
       "| Sin escrituras | 266547 | 0.08646642 | 17.71 | 0.08298775 | 1505322 | 2016 |\n",
       "| Sin escrituras | 246283 | 0.09985847 | 17.22 | 0.09461881 | 1429942 | 2018 |\n",
       "| Sin escrituras | 259056 | 0.09464920 | 16.23 | 0.08765464 | 1595765 | 2020 |\n",
       "| Sin escrituras | 310191 | 0.08428046 | 17.63 | 0.07835935 | 1759030 | 2022 |\n",
       "\n"
      ],
      "text/plain": [
       "  escrituras     viviendas viviendas_cv pct   pct_cv     total_viviendas year\n",
       "1 Sin escrituras 266547    0.08646642   17.71 0.08298775 1505322         2016\n",
       "2 Sin escrituras 246283    0.09985847   17.22 0.09461881 1429942         2018\n",
       "3 Sin escrituras 259056    0.09464920   16.23 0.08765464 1595765         2020\n",
       "4 Sin escrituras 310191    0.08428046   17.63 0.07835935 1759030         2022"
      ]
     },
     "metadata": {},
     "output_type": "display_data"
    }
   ],
   "source": [
    "tabla_escrituras"
   ]
  },
  {
   "cell_type": "code",
   "execution_count": 18,
   "id": "6b84137d",
   "metadata": {
    "vscode": {
     "languageId": "r"
    }
   },
   "outputs": [
    {
     "data": {
      "text/html": [
       "-0.0144394154996753"
      ],
      "text/latex": [
       "-0.0144394154996753"
      ],
      "text/markdown": [
       "-0.0144394154996753"
      ],
      "text/plain": [
       "[1] -0.01443942"
      ]
     },
     "metadata": {},
     "output_type": "display_data"
    }
   ],
   "source": [
    "tcma_esc<-((tabla_escrituras$pct[tabla_escrituras$year==2020]/tabla_escrituras$pct[tabla_escrituras$year==2016])^(1/(2022-2016))-1)\n",
    "\n",
    "tcma_esc"
   ]
  },
  {
   "cell_type": "code",
   "execution_count": 19,
   "id": "ba928f48",
   "metadata": {
    "vscode": {
     "languageId": "r"
    }
   },
   "outputs": [
    {
     "data": {
      "text/html": [
       "<table class=\"dataframe\">\n",
       "<caption>A data.frame: 23 × 2</caption>\n",
       "<thead>\n",
       "\t<tr><th scope=col>year</th><th scope=col>pct</th></tr>\n",
       "\t<tr><th scope=col>&lt;int&gt;</th><th scope=col>&lt;dbl&gt;</th></tr>\n",
       "</thead>\n",
       "<tbody>\n",
       "\t<tr><td>2023</td><td>17.38</td></tr>\n",
       "\t<tr><td>2024</td><td>17.12</td></tr>\n",
       "\t<tr><td>2025</td><td>16.88</td></tr>\n",
       "\t<tr><td>2026</td><td>16.63</td></tr>\n",
       "\t<tr><td>2027</td><td>16.39</td></tr>\n",
       "\t<tr><td>2028</td><td>16.16</td></tr>\n",
       "\t<tr><td>2029</td><td>15.92</td></tr>\n",
       "\t<tr><td>2030</td><td>15.69</td></tr>\n",
       "\t<tr><td>2031</td><td>15.47</td></tr>\n",
       "\t<tr><td>2032</td><td>15.24</td></tr>\n",
       "\t<tr><td>2033</td><td>15.02</td></tr>\n",
       "\t<tr><td>2034</td><td>14.81</td></tr>\n",
       "\t<tr><td>2035</td><td>14.59</td></tr>\n",
       "\t<tr><td>2036</td><td>14.38</td></tr>\n",
       "\t<tr><td>2037</td><td>14.17</td></tr>\n",
       "\t<tr><td>2038</td><td>13.97</td></tr>\n",
       "\t<tr><td>2039</td><td>13.77</td></tr>\n",
       "\t<tr><td>2040</td><td>13.57</td></tr>\n",
       "\t<tr><td>2041</td><td>13.37</td></tr>\n",
       "\t<tr><td>2042</td><td>13.18</td></tr>\n",
       "\t<tr><td>2043</td><td>12.99</td></tr>\n",
       "\t<tr><td>2044</td><td>12.80</td></tr>\n",
       "\t<tr><td>2045</td><td>12.62</td></tr>\n",
       "</tbody>\n",
       "</table>\n"
      ],
      "text/latex": [
       "A data.frame: 23 × 2\n",
       "\\begin{tabular}{ll}\n",
       " year & pct\\\\\n",
       " <int> & <dbl>\\\\\n",
       "\\hline\n",
       "\t 2023 & 17.38\\\\\n",
       "\t 2024 & 17.12\\\\\n",
       "\t 2025 & 16.88\\\\\n",
       "\t 2026 & 16.63\\\\\n",
       "\t 2027 & 16.39\\\\\n",
       "\t 2028 & 16.16\\\\\n",
       "\t 2029 & 15.92\\\\\n",
       "\t 2030 & 15.69\\\\\n",
       "\t 2031 & 15.47\\\\\n",
       "\t 2032 & 15.24\\\\\n",
       "\t 2033 & 15.02\\\\\n",
       "\t 2034 & 14.81\\\\\n",
       "\t 2035 & 14.59\\\\\n",
       "\t 2036 & 14.38\\\\\n",
       "\t 2037 & 14.17\\\\\n",
       "\t 2038 & 13.97\\\\\n",
       "\t 2039 & 13.77\\\\\n",
       "\t 2040 & 13.57\\\\\n",
       "\t 2041 & 13.37\\\\\n",
       "\t 2042 & 13.18\\\\\n",
       "\t 2043 & 12.99\\\\\n",
       "\t 2044 & 12.80\\\\\n",
       "\t 2045 & 12.62\\\\\n",
       "\\end{tabular}\n"
      ],
      "text/markdown": [
       "\n",
       "A data.frame: 23 × 2\n",
       "\n",
       "| year &lt;int&gt; | pct &lt;dbl&gt; |\n",
       "|---|---|\n",
       "| 2023 | 17.38 |\n",
       "| 2024 | 17.12 |\n",
       "| 2025 | 16.88 |\n",
       "| 2026 | 16.63 |\n",
       "| 2027 | 16.39 |\n",
       "| 2028 | 16.16 |\n",
       "| 2029 | 15.92 |\n",
       "| 2030 | 15.69 |\n",
       "| 2031 | 15.47 |\n",
       "| 2032 | 15.24 |\n",
       "| 2033 | 15.02 |\n",
       "| 2034 | 14.81 |\n",
       "| 2035 | 14.59 |\n",
       "| 2036 | 14.38 |\n",
       "| 2037 | 14.17 |\n",
       "| 2038 | 13.97 |\n",
       "| 2039 | 13.77 |\n",
       "| 2040 | 13.57 |\n",
       "| 2041 | 13.37 |\n",
       "| 2042 | 13.18 |\n",
       "| 2043 | 12.99 |\n",
       "| 2044 | 12.80 |\n",
       "| 2045 | 12.62 |\n",
       "\n"
      ],
      "text/plain": [
       "   year pct  \n",
       "1  2023 17.38\n",
       "2  2024 17.12\n",
       "3  2025 16.88\n",
       "4  2026 16.63\n",
       "5  2027 16.39\n",
       "6  2028 16.16\n",
       "7  2029 15.92\n",
       "8  2030 15.69\n",
       "9  2031 15.47\n",
       "10 2032 15.24\n",
       "11 2033 15.02\n",
       "12 2034 14.81\n",
       "13 2035 14.59\n",
       "14 2036 14.38\n",
       "15 2037 14.17\n",
       "16 2038 13.97\n",
       "17 2039 13.77\n",
       "18 2040 13.57\n",
       "19 2041 13.37\n",
       "20 2042 13.18\n",
       "21 2043 12.99\n",
       "22 2044 12.80\n",
       "23 2045 12.62"
      ]
     },
     "metadata": {},
     "output_type": "display_data"
    }
   ],
   "source": [
    "extendido_escrituras<-data.frame(year=2023:2045)\n",
    "extendido_escrituras$pct<-tabla_escrituras$pct[tabla_escrituras$year==2022]*cumprod(rep(1+tcma_esc,length(2023:2045)))\n",
    "extendido_escrituras%>%\n",
    "mutate(pct=round(pct,2))"
   ]
  },
  {
   "cell_type": "markdown",
   "id": "bb250342",
   "metadata": {},
   "source": [
    "### Escenarios"
   ]
  },
  {
   "cell_type": "code",
   "execution_count": 20,
   "id": "5c8d38d8",
   "metadata": {
    "vscode": {
     "languageId": "r"
    }
   },
   "outputs": [
    {
     "data": {
      "text/html": [
       "<table class=\"dataframe\">\n",
       "<caption>A tibble: 27 × 4</caption>\n",
       "<thead>\n",
       "\t<tr><th scope=col>year</th><th scope=col>estimado</th><th scope=col>superior</th><th scope=col>inferior</th></tr>\n",
       "\t<tr><th scope=col>&lt;dbl&gt;</th><th scope=col>&lt;dbl&gt;</th><th scope=col>&lt;dbl&gt;</th><th scope=col>&lt;dbl&gt;</th></tr>\n",
       "</thead>\n",
       "<tbody>\n",
       "\t<tr><td>2016</td><td>9.8100000</td><td>9.810000</td><td>9.8100000</td></tr>\n",
       "\t<tr><td>2018</td><td>8.0200000</td><td>8.020000</td><td>8.0200000</td></tr>\n",
       "\t<tr><td>2020</td><td>7.3100000</td><td>7.310000</td><td>7.3100000</td></tr>\n",
       "\t<tr><td>2022</td><td>5.9400000</td><td>5.940000</td><td>5.9400000</td></tr>\n",
       "\t<tr><td>2023</td><td>5.4635219</td><td>5.545475</td><td>5.3827802</td></tr>\n",
       "\t<tr><td>2024</td><td>5.0252645</td><td>5.177153</td><td>4.8778320</td></tr>\n",
       "\t<tr><td>2025</td><td>4.6221620</td><td>4.833295</td><td>4.4202521</td></tr>\n",
       "\t<tr><td>2026</td><td>4.2513945</td><td>4.512275</td><td>4.0055968</td></tr>\n",
       "\t<tr><td>2027</td><td>3.9103681</td><td>4.212577</td><td>3.6298396</td></tr>\n",
       "\t<tr><td>2028</td><td>3.5966972</td><td>3.932784</td><td>3.2893314</td></tr>\n",
       "\t<tr><td>2029</td><td>3.3081875</td><td>3.671575</td><td>2.9807656</td></tr>\n",
       "\t<tr><td>2030</td><td>3.0428207</td><td>3.427715</td><td>2.7011458</td></tr>\n",
       "\t<tr><td>2031</td><td>2.7987403</td><td>3.200052</td><td>2.4477565</td></tr>\n",
       "\t<tr><td>2032</td><td>2.5742389</td><td>2.987509</td><td>2.2181373</td></tr>\n",
       "\t<tr><td>2033</td><td>2.3677458</td><td>2.789084</td><td>2.0100581</td></tr>\n",
       "\t<tr><td>2034</td><td>2.1778167</td><td>2.603837</td><td>1.8214985</td></tr>\n",
       "\t<tr><td>2035</td><td>2.0031227</td><td>2.430894</td><td>1.6506272</td></tr>\n",
       "\t<tr><td>2036</td><td>1.8424419</td><td>2.269438</td><td>1.4957851</td></tr>\n",
       "\t<tr><td>2037</td><td>1.6946501</td><td>2.118706</td><td>1.3554684</td></tr>\n",
       "\t<tr><td>2038</td><td>1.5587134</td><td>1.977985</td><td>1.2283146</td></tr>\n",
       "\t<tr><td>2039</td><td>1.4336810</td><td>1.846610</td><td>1.1130888</td></tr>\n",
       "\t<tr><td>2040</td><td>1.3186780</td><td>1.723961</td><td>1.0086721</td></tr>\n",
       "\t<tr><td>2041</td><td>1.2129000</td><td>1.609459</td><td>0.9140505</td></tr>\n",
       "\t<tr><td>2042</td><td>1.1156070</td><td>1.502561</td><td>0.8283052</td></tr>\n",
       "\t<tr><td>2043</td><td>1.0261184</td><td>1.402763</td><td>0.7506035</td></tr>\n",
       "\t<tr><td>2044</td><td>0.9438081</td><td>1.309594</td><td>0.6801909</td></tr>\n",
       "\t<tr><td>2045</td><td>0.8681004</td><td>1.222613</td><td>0.6163835</td></tr>\n",
       "</tbody>\n",
       "</table>\n"
      ],
      "text/latex": [
       "A tibble: 27 × 4\n",
       "\\begin{tabular}{llll}\n",
       " year & estimado & superior & inferior\\\\\n",
       " <dbl> & <dbl> & <dbl> & <dbl>\\\\\n",
       "\\hline\n",
       "\t 2016 & 9.8100000 & 9.810000 & 9.8100000\\\\\n",
       "\t 2018 & 8.0200000 & 8.020000 & 8.0200000\\\\\n",
       "\t 2020 & 7.3100000 & 7.310000 & 7.3100000\\\\\n",
       "\t 2022 & 5.9400000 & 5.940000 & 5.9400000\\\\\n",
       "\t 2023 & 5.4635219 & 5.545475 & 5.3827802\\\\\n",
       "\t 2024 & 5.0252645 & 5.177153 & 4.8778320\\\\\n",
       "\t 2025 & 4.6221620 & 4.833295 & 4.4202521\\\\\n",
       "\t 2026 & 4.2513945 & 4.512275 & 4.0055968\\\\\n",
       "\t 2027 & 3.9103681 & 4.212577 & 3.6298396\\\\\n",
       "\t 2028 & 3.5966972 & 3.932784 & 3.2893314\\\\\n",
       "\t 2029 & 3.3081875 & 3.671575 & 2.9807656\\\\\n",
       "\t 2030 & 3.0428207 & 3.427715 & 2.7011458\\\\\n",
       "\t 2031 & 2.7987403 & 3.200052 & 2.4477565\\\\\n",
       "\t 2032 & 2.5742389 & 2.987509 & 2.2181373\\\\\n",
       "\t 2033 & 2.3677458 & 2.789084 & 2.0100581\\\\\n",
       "\t 2034 & 2.1778167 & 2.603837 & 1.8214985\\\\\n",
       "\t 2035 & 2.0031227 & 2.430894 & 1.6506272\\\\\n",
       "\t 2036 & 1.8424419 & 2.269438 & 1.4957851\\\\\n",
       "\t 2037 & 1.6946501 & 2.118706 & 1.3554684\\\\\n",
       "\t 2038 & 1.5587134 & 1.977985 & 1.2283146\\\\\n",
       "\t 2039 & 1.4336810 & 1.846610 & 1.1130888\\\\\n",
       "\t 2040 & 1.3186780 & 1.723961 & 1.0086721\\\\\n",
       "\t 2041 & 1.2129000 & 1.609459 & 0.9140505\\\\\n",
       "\t 2042 & 1.1156070 & 1.502561 & 0.8283052\\\\\n",
       "\t 2043 & 1.0261184 & 1.402763 & 0.7506035\\\\\n",
       "\t 2044 & 0.9438081 & 1.309594 & 0.6801909\\\\\n",
       "\t 2045 & 0.8681004 & 1.222613 & 0.6163835\\\\\n",
       "\\end{tabular}\n"
      ],
      "text/markdown": [
       "\n",
       "A tibble: 27 × 4\n",
       "\n",
       "| year &lt;dbl&gt; | estimado &lt;dbl&gt; | superior &lt;dbl&gt; | inferior &lt;dbl&gt; |\n",
       "|---|---|---|---|\n",
       "| 2016 | 9.8100000 | 9.810000 | 9.8100000 |\n",
       "| 2018 | 8.0200000 | 8.020000 | 8.0200000 |\n",
       "| 2020 | 7.3100000 | 7.310000 | 7.3100000 |\n",
       "| 2022 | 5.9400000 | 5.940000 | 5.9400000 |\n",
       "| 2023 | 5.4635219 | 5.545475 | 5.3827802 |\n",
       "| 2024 | 5.0252645 | 5.177153 | 4.8778320 |\n",
       "| 2025 | 4.6221620 | 4.833295 | 4.4202521 |\n",
       "| 2026 | 4.2513945 | 4.512275 | 4.0055968 |\n",
       "| 2027 | 3.9103681 | 4.212577 | 3.6298396 |\n",
       "| 2028 | 3.5966972 | 3.932784 | 3.2893314 |\n",
       "| 2029 | 3.3081875 | 3.671575 | 2.9807656 |\n",
       "| 2030 | 3.0428207 | 3.427715 | 2.7011458 |\n",
       "| 2031 | 2.7987403 | 3.200052 | 2.4477565 |\n",
       "| 2032 | 2.5742389 | 2.987509 | 2.2181373 |\n",
       "| 2033 | 2.3677458 | 2.789084 | 2.0100581 |\n",
       "| 2034 | 2.1778167 | 2.603837 | 1.8214985 |\n",
       "| 2035 | 2.0031227 | 2.430894 | 1.6506272 |\n",
       "| 2036 | 1.8424419 | 2.269438 | 1.4957851 |\n",
       "| 2037 | 1.6946501 | 2.118706 | 1.3554684 |\n",
       "| 2038 | 1.5587134 | 1.977985 | 1.2283146 |\n",
       "| 2039 | 1.4336810 | 1.846610 | 1.1130888 |\n",
       "| 2040 | 1.3186780 | 1.723961 | 1.0086721 |\n",
       "| 2041 | 1.2129000 | 1.609459 | 0.9140505 |\n",
       "| 2042 | 1.1156070 | 1.502561 | 0.8283052 |\n",
       "| 2043 | 1.0261184 | 1.402763 | 0.7506035 |\n",
       "| 2044 | 0.9438081 | 1.309594 | 0.6801909 |\n",
       "| 2045 | 0.8681004 | 1.222613 | 0.6163835 |\n",
       "\n"
      ],
      "text/plain": [
       "   year estimado  superior inferior \n",
       "1  2016 9.8100000 9.810000 9.8100000\n",
       "2  2018 8.0200000 8.020000 8.0200000\n",
       "3  2020 7.3100000 7.310000 7.3100000\n",
       "4  2022 5.9400000 5.940000 5.9400000\n",
       "5  2023 5.4635219 5.545475 5.3827802\n",
       "6  2024 5.0252645 5.177153 4.8778320\n",
       "7  2025 4.6221620 4.833295 4.4202521\n",
       "8  2026 4.2513945 4.512275 4.0055968\n",
       "9  2027 3.9103681 4.212577 3.6298396\n",
       "10 2028 3.5966972 3.932784 3.2893314\n",
       "11 2029 3.3081875 3.671575 2.9807656\n",
       "12 2030 3.0428207 3.427715 2.7011458\n",
       "13 2031 2.7987403 3.200052 2.4477565\n",
       "14 2032 2.5742389 2.987509 2.2181373\n",
       "15 2033 2.3677458 2.789084 2.0100581\n",
       "16 2034 2.1778167 2.603837 1.8214985\n",
       "17 2035 2.0031227 2.430894 1.6506272\n",
       "18 2036 1.8424419 2.269438 1.4957851\n",
       "19 2037 1.6946501 2.118706 1.3554684\n",
       "20 2038 1.5587134 1.977985 1.2283146\n",
       "21 2039 1.4336810 1.846610 1.1130888\n",
       "22 2040 1.3186780 1.723961 1.0086721\n",
       "23 2041 1.2129000 1.609459 0.9140505\n",
       "24 2042 1.1156070 1.502561 0.8283052\n",
       "25 2043 1.0261184 1.402763 0.7506035\n",
       "26 2044 0.9438081 1.309594 0.6801909\n",
       "27 2045 0.8681004 1.222613 0.6163835"
      ]
     },
     "metadata": {},
     "output_type": "display_data"
    }
   ],
   "source": [
    "\n",
    "prueba_desc<-tabla_rezago%>%\n",
    "select(year, pct)%>%\n",
    "intervals(\"pct\", margen = 0, año_base = 2022)\n",
    "\n",
    "\n",
    "extendido_rezago_int<-extendido_rezago%>%\n",
    "intervals(\"pct\", margen = 0.015, año_base = 2022)\n",
    "\n",
    "\n",
    "\n",
    "prueba_desc<-prueba_desc%>%\n",
    "bind_rows(extendido_rezago_int)\n",
    "prueba_desc\n"
   ]
  },
  {
   "cell_type": "code",
   "execution_count": 21,
   "id": "56cd24ad",
   "metadata": {
    "vscode": {
     "languageId": "r"
    }
   },
   "outputs": [],
   "source": [
    "grafica_cool <- function(data, x, y,\n",
    "                         titulo = \"Mi gráfico de línea bonito\",\n",
    "                         linea_vertical = NULL,\n",
    "                         mostrar_intervalo = c(\"ninguno\", \"ambos\", \"superior\", \"inferior\"),\n",
    "                         fuente = NULL,\n",
    "                         etiqueta_x = NULL,\n",
    "                         etiqueta_y = NULL,\n",
    "                         mostrar_leyenda = FALSE,\n",
    "                         ano_base = NULL,\n",
    "                         mostrar_etiqueta_ano_base = TRUE,\n",
    "                         anios_etiquetas = c(2030, 2035, 2045),\n",
    "                         nombre_observado = \"Observado\",\n",
    "                         nombre_estimado_futuro = \"Deseable\",\n",
    "                         nombre_intervalo_superior = \"Escenario alto\",\n",
    "                         nombre_intervalo_inferior = \"Escenario bajo\",\n",
    "                         titulo_leyenda = \"Escenarios\",\n",
    "                         limite_inferior_y = 0) {\n",
    "  \n",
    "  mostrar_intervalo <- match.arg(mostrar_intervalo)\n",
    "  \n",
    "  if (is.null(etiqueta_x)) etiqueta_x <- x\n",
    "  if (is.null(etiqueta_y)) etiqueta_y <- y\n",
    "  \n",
    "  data[[x]] <- as.numeric(data[[x]])\n",
    "  \n",
    "  data_plot <- dplyr::mutate(data, tipo_linea = nombre_observado)\n",
    "  \n",
    "  if (!is.null(linea_vertical)) {\n",
    "    data_plot <- dplyr::mutate(\n",
    "      data_plot,\n",
    "      tipo_linea = dplyr::case_when(\n",
    "        .data[[x]] < linea_vertical ~ nombre_observado,\n",
    "        .data[[x]] == linea_vertical ~ paste0(nombre_observado, \"+\"),\n",
    "        .data[[x]] > linea_vertical ~ nombre_estimado_futuro\n",
    "      )\n",
    "    )\n",
    "  }\n",
    "  \n",
    "  p <- ggplot2::ggplot()\n",
    "  \n",
    "  # Observado\n",
    "  p <- p + ggplot2::geom_line(\n",
    "    data = data_plot[data_plot$tipo_linea %in% c(nombre_observado, paste0(nombre_observado, \"+\")), ],\n",
    "    ggplot2::aes_string(x = x, y = y, color = sprintf('\"%s\"', nombre_observado)),\n",
    "    size = 1.5\n",
    "  )\n",
    "  \n",
    "  # Estimado futuro\n",
    "  p <- p + ggplot2::geom_line(\n",
    "    data = data_plot[data_plot$tipo_linea == nombre_estimado_futuro & data_plot[[x]] >= linea_vertical - 1, ],\n",
    "    ggplot2::aes_string(x = x, y = y, color = sprintf('\"%s\"', nombre_estimado_futuro)),\n",
    "    size = 1.5\n",
    "  )\n",
    "  \n",
    "  # Intervalos\n",
    "  if (mostrar_intervalo %in% c(\"ambos\", \"superior\") && \"superior\" %in% names(data)) {\n",
    "    p <- p + ggplot2::geom_line(\n",
    "      data = data[data[[x]] >= linea_vertical - 1, ],\n",
    "      ggplot2::aes_string(x = x, y = \"superior\", color = sprintf('\"%s\"', nombre_intervalo_superior)),\n",
    "      size = 1.5, linetype = \"dotted\"\n",
    "    )\n",
    "  }\n",
    "  \n",
    "  if (mostrar_intervalo %in% c(\"ambos\", \"inferior\") && \"inferior\" %in% names(data)) {\n",
    "    p <- p + ggplot2::geom_line(\n",
    "      data = data[data[[x]] >= linea_vertical - 1, ],\n",
    "      ggplot2::aes_string(x = x, y = \"inferior\", color = sprintf('\"%s\"', nombre_intervalo_inferior)),\n",
    "      size = 1.5, linetype = \"dotted\"\n",
    "    )\n",
    "  }\n",
    "  \n",
    "  if (!is.null(linea_vertical)) {\n",
    "    p <- p + ggplot2::geom_vline(xintercept = linea_vertical,\n",
    "                                 linetype = \"dashed\",\n",
    "                                 color = \"red\",\n",
    "                                 linewidth = 1)\n",
    "  }\n",
    "  \n",
    "  valores_color <- setNames(\n",
    "    c(\"#9F2241\", \"#027a35\", \"#BC955C\", \"#969696\"),\n",
    "    c(nombre_observado, nombre_estimado_futuro, nombre_intervalo_superior, nombre_intervalo_inferior)\n",
    "  )\n",
    "  \n",
    "  p <- p + ggplot2::labs(\n",
    "    title = titulo,\n",
    "    x = etiqueta_x,\n",
    "    y = etiqueta_y,\n",
    "    color = titulo_leyenda\n",
    "  ) +\n",
    "    ggplot2::scale_x_continuous(breaks = sort(unique(c(seq(min(data[[x]]), max(data[[x]]), 2), 2022)))) +\n",
    "    ggplot2::scale_y_continuous(limits = c(limite_inferior_y, NA)) +\n",
    "    ggplot2::scale_color_manual(values = valores_color) +\n",
    "    ggplot2::theme_minimal() +\n",
    "    ggplot2::theme(\n",
    "      plot.title = ggplot2::element_text(size = 28, face = \"bold\", hjust = 0),\n",
    "      text = ggplot2::element_text(size = 16, family = fuente),\n",
    "      axis.text.x = ggplot2::element_text(size = 12, angle = 90),\n",
    "      legend.position = if (mostrar_leyenda) \"right\" else \"none\"\n",
    "    )\n",
    "  \n",
    "  # Etiquetas en puntos clave del estimado futuro\n",
    "  data_etiquetas <- data_plot[data_plot[[x]] %in% anios_etiquetas &\n",
    "                                data_plot$tipo_linea == nombre_estimado_futuro, ]\n",
    "  \n",
    "  p <- p + ggplot2::geom_text(\n",
    "    data = data_etiquetas,\n",
    "    ggplot2::aes_string(x = x, y = y, label = sprintf(\"round(%s, 2)\", y)),\n",
    "    vjust = -1,\n",
    "    size = 4,\n",
    "    color = \"#027a35\"\n",
    "  )\n",
    "  \n",
    "  # Etiquetas en puntos clave del escenario inferior\n",
    "  if (mostrar_intervalo %in% c(\"ambos\", \"inferior\") && \"inferior\" %in% names(data)) {\n",
    "    data_etiquetas_inf <- data[data[[x]] %in% anios_etiquetas, ]\n",
    "    p <- p + ggplot2::geom_text(\n",
    "      data = data_etiquetas_inf,\n",
    "      ggplot2::aes_string(x = x, y = \"inferior\", label = \"round(inferior, 2)\"),\n",
    "      vjust = 1.8,\n",
    "      size = 4,\n",
    "      color = \"#969696\"\n",
    "    )\n",
    "  }\n",
    "  \n",
    "  # Etiquetas en puntos clave del escenario superior\n",
    "  if (mostrar_intervalo %in% c(\"ambos\", \"superior\") && \"superior\" %in% names(data)) {\n",
    "    data_etiquetas_sup <- data[data[[x]] %in% anios_etiquetas, ]\n",
    "    p <- p + ggplot2::geom_text(\n",
    "      data = data_etiquetas_sup,\n",
    "      ggplot2::aes_string(x = x, y = \"superior\", label = \"round(superior, 2)\"),\n",
    "      vjust = -1.8,\n",
    "      size = 4,\n",
    "      color = \"#BC955C\"\n",
    "    )\n",
    "  }\n",
    "\n",
    "# Etiqueta del año base en rojo, desplazada dos años después\n",
    "if (mostrar_etiqueta_ano_base) {\n",
    "  data_etiqueta_base <- data_plot[data_plot[[x]] == ano_base &\n",
    "                                    data_plot$tipo_linea %in% c(nombre_observado, paste0(nombre_observado, \"+\")), ]\n",
    "  \n",
    "  if (nrow(data_etiqueta_base) > 0) {\n",
    "    data_etiqueta_base_desplazada <- data_etiqueta_base\n",
    "    data_etiqueta_base_desplazada[[x]] <- ano_base + 1\n",
    "    \n",
    "    p <- p + ggplot2::geom_text(\n",
    "      data = data_etiqueta_base_desplazada,\n",
    "      ggplot2::aes_string(x = x, y = y, label = sprintf(\"round(%s, 2)\", y)),\n",
    "      vjust = -1,\n",
    "      size = 4,\n",
    "      color = \"#9F2241\"\n",
    "    )\n",
    "  }\n",
    "  \n",
    "}\n",
    "return(p)\n",
    "}"
   ]
  },
  {
   "cell_type": "code",
   "execution_count": null,
   "id": "bcb8fd1e",
   "metadata": {
    "vscode": {
     "languageId": "r"
    }
   },
   "outputs": [],
   "source": [
    "grafica_bonita <- function(data, x, y,\n",
    "                           titulo = \"Mi gráfico de línea bonito\",\n",
    "                           linea_vertical = NULL,\n",
    "                           mostrar_intervalo = c(\"ninguno\", \"ambos\", \"superior\", \"inferior\"),\n",
    "                           fuente = NULL,\n",
    "                           etiqueta_x = NULL,\n",
    "                           etiqueta_y = NULL,\n",
    "                           mostrar_leyenda = FALSE,\n",
    "                           ano_base = NULL,\n",
    "                           mostrar_etiqueta_ano_base = TRUE,\n",
    "                           desplazamiento_ano_base = c(0, 0),  # ← nuevo parámetro\n",
    "                           anios_etiquetas = c(2030, 2035, 2045),\n",
    "                           nombre_observado = \"Observado\",\n",
    "                           nombre_estimado_futuro = \"Deseable\",\n",
    "                           nombre_intervalo_superior = \"Escenario alto\",\n",
    "                           nombre_intervalo_inferior = \"Escenario bajo\",\n",
    "                           titulo_leyenda = \"Escenarios\",\n",
    "                           limite_inferior_y = 0) {\n",
    "  \n",
    "  mostrar_intervalo <- match.arg(mostrar_intervalo)\n",
    "  \n",
    "  if (is.null(etiqueta_x)) etiqueta_x <- x\n",
    "  if (is.null(etiqueta_y)) etiqueta_y <- y\n",
    "  \n",
    "  data[[x]] <- as.numeric(data[[x]])\n",
    "  \n",
    "  data_plot <- dplyr::mutate(data, tipo_linea = nombre_observado)\n",
    "  \n",
    "  if (!is.null(linea_vertical)) {\n",
    "    data_plot <- dplyr::mutate(\n",
    "      data_plot,\n",
    "      tipo_linea = dplyr::case_when(\n",
    "        .data[[x]] < linea_vertical ~ nombre_observado,\n",
    "        .data[[x]] == linea_vertical ~ paste0(nombre_observado, \"+\"),\n",
    "        .data[[x]] > linea_vertical ~ nombre_estimado_futuro\n",
    "      )\n",
    "    )\n",
    "  }\n",
    "  \n",
    "  p <- ggplot2::ggplot()\n",
    "  \n",
    "  # Línea observada\n",
    "  p <- p + ggplot2::geom_line(\n",
    "    data = data_plot[data_plot$tipo_linea %in% c(nombre_observado, paste0(nombre_observado, \"+\")), ],\n",
    "    ggplot2::aes_string(x = x, y = y, color = sprintf('\"%s\"', nombre_observado)),\n",
    "    size = 1.5\n",
    "  )\n",
    "  \n",
    "  # Línea futura estimada\n",
    "  p <- p + ggplot2::geom_line(\n",
    "    data = data_plot[data_plot$tipo_linea == nombre_estimado_futuro & data_plot[[x]] >= linea_vertical - 1, ],\n",
    "    ggplot2::aes_string(x = x, y = y, color = sprintf('\"%s\"', nombre_estimado_futuro)),\n",
    "    size = 1.5\n",
    "  )\n",
    "  \n",
    "  # Intervalo superior\n",
    "  if (mostrar_intervalo %in% c(\"ambos\", \"superior\") && \"superior\" %in% names(data)) {\n",
    "    p <- p + ggplot2::geom_line(\n",
    "      data = data[data[[x]] >= linea_vertical - 1, ],\n",
    "      ggplot2::aes_string(x = x, y = \"superior\", color = sprintf('\"%s\"', nombre_intervalo_superior)),\n",
    "      size = 1.5, linetype = \"dotted\"\n",
    "    )\n",
    "  }\n",
    "  \n",
    "  # Intervalo inferior\n",
    "  if (mostrar_intervalo %in% c(\"ambos\", \"inferior\") && \"inferior\" %in% names(data)) {\n",
    "    p <- p + ggplot2::geom_line(\n",
    "      data = data[data[[x]] >= linea_vertical - 1, ],\n",
    "      ggplot2::aes_string(x = x, y = \"inferior\", color = sprintf('\"%s\"', nombre_intervalo_inferior)),\n",
    "      size = 1.5, linetype = \"dotted\"\n",
    "    )\n",
    "  }\n",
    "  \n",
    "  # Línea vertical\n",
    "  if (!is.null(linea_vertical)) {\n",
    "    p <- p + ggplot2::geom_vline(xintercept = linea_vertical,\n",
    "                                 linetype = \"dashed\",\n",
    "                                 color = \"red\",\n",
    "                                 linewidth = 1)\n",
    "  }\n",
    "  \n",
    "  # Asignación de colores\n",
    "  valores_color <- setNames(\n",
    "    c(\n",
    "      \"#9F2241\",  # Observado\n",
    "      \"#027a35\",  # Deseable\n",
    "      ifelse(nombre_intervalo_superior == \"Transformador\", \"#BC955C\", \"#969696\"),  # Superior\n",
    "      ifelse(nombre_intervalo_inferior == \"Transformador\", \"#BC955C\", \"#969696\")   # Inferior\n",
    "    ),\n",
    "    c(nombre_observado, nombre_estimado_futuro, nombre_intervalo_superior, nombre_intervalo_inferior)\n",
    "  )\n",
    "  \n",
    "  p <- p + ggplot2::labs(\n",
    "    title = titulo,\n",
    "    x = etiqueta_x,\n",
    "    y = etiqueta_y,\n",
    "    color = titulo_leyenda\n",
    "  ) +\n",
    "    ggplot2::scale_x_continuous(breaks = sort(unique(c(seq(min(data[[x]]), max(data[[x]]), 2), 2022)))) +\n",
    "    ggplot2::scale_y_continuous(limits = c(limite_inferior_y, NA)) +\n",
    "    ggplot2::scale_color_manual(values = valores_color) +\n",
    "    ggplot2::theme_minimal() +\n",
    "    ggplot2::theme(\n",
    "      plot.title = ggplot2::element_text(size = 28, face = \"bold\", hjust = 0),\n",
    "      text = ggplot2::element_text(size = 16, family = fuente),\n",
    "      axis.text.x = ggplot2::element_text(size = 12, angle = 90),\n",
    "      legend.position = if (mostrar_leyenda) \"right\" else \"none\"\n",
    "    )\n",
    "  \n",
    "  # Etiquetas: deseable\n",
    "  data_etiquetas <- data_plot[data_plot[[x]] %in% anios_etiquetas & data_plot$tipo_linea == nombre_estimado_futuro, ]\n",
    "  p <- p + ggplot2::geom_text(\n",
    "    data = data_etiquetas,\n",
    "    ggplot2::aes_string(x = x, y = y, label = sprintf(\"round(%s, 2)\", y)),\n",
    "    vjust = -1,\n",
    "    size = 5.5,\n",
    "    color = \"#027a35\"\n",
    "  )\n",
    "  \n",
    "  # Etiquetas: inferior\n",
    "  if (mostrar_intervalo %in% c(\"ambos\", \"inferior\") && \"inferior\" %in% names(data)) {\n",
    "    data_etiquetas_inf <- data[data[[x]] %in% anios_etiquetas, ]\n",
    "    p <- p + ggplot2::geom_text(\n",
    "      data = data_etiquetas_inf,\n",
    "      ggplot2::aes_string(x = x, y = \"inferior\", label = \"round(inferior, 2)\"),\n",
    "      vjust = 1.8,\n",
    "      size = 5.5,\n",
    "      color = ifelse(nombre_intervalo_inferior == \"Transformador\", \"#BC955C\", \"#969696\")\n",
    "    )\n",
    "  }\n",
    "  \n",
    "  # Etiquetas: superior\n",
    "  if (mostrar_intervalo %in% c(\"ambos\", \"superior\") && \"superior\" %in% names(data)) {\n",
    "    data_etiquetas_sup <- data[data[[x]] %in% anios_etiquetas, ]\n",
    "    p <- p + ggplot2::geom_text(\n",
    "      data = data_etiquetas_sup,\n",
    "      ggplot2::aes_string(x = x, y = \"superior\", label = \"round(superior, 2)\"),\n",
    "      vjust = -1.8,\n",
    "      size = 5.5,\n",
    "      color = ifelse(nombre_intervalo_superior == \"Transformador\", \"#BC955C\", \"#969696\")\n",
    "    )\n",
    "  }\n",
    "  \n",
    "  # Etiqueta del año base con desplazamiento\n",
    "  if (mostrar_etiqueta_ano_base) {\n",
    "    data_etiqueta_base <- data_plot[data_plot[[x]] == ano_base & data_plot$tipo_linea %in% c(nombre_observado, paste0(nombre_observado, \"+\")), ]\n",
    "    \n",
    "    if (nrow(data_etiqueta_base) > 0) {\n",
    "      data_etiqueta_base_desplazada <- data_etiqueta_base\n",
    "      data_etiqueta_base_desplazada[[x]] <- ano_base + desplazamiento_ano_base[1]\n",
    "      data_etiqueta_base_desplazada[[y]] <- data_etiqueta_base_desplazada[[y]] + desplazamiento_ano_base[2]\n",
    "      \n",
    "      p <- p + ggplot2::geom_text(\n",
    "        data = data_etiqueta_base_desplazada,\n",
    "        ggplot2::aes_string(x = x, y = y, label = sprintf(\"round(%s, 2)\", y)),\n",
    "        size = 5.5,\n",
    "        color = \"#9F2241\"\n",
    "      )\n",
    "    }\n",
    "  }\n",
    "  \n",
    "  return(p)\n",
    "}\n"
   ]
  },
  {
   "cell_type": "markdown",
   "id": "1fcac6e4",
   "metadata": {},
   "source": [
    "### Muestra\n",
    "#### Descendente"
   ]
  },
  {
   "cell_type": "code",
   "execution_count": null,
   "id": "9ffec70d",
   "metadata": {
    "vscode": {
     "languageId": "r"
    }
   },
   "outputs": [
    {
     "name": "stderr",
     "output_type": "stream",
     "text": [
      "Warning message:\n",
      "\"\u001b[1m\u001b[22m`aes_string()` was deprecated in ggplot2 3.0.0.\n",
      "\u001b[36mℹ\u001b[39m Please use tidy evaluation idioms with `aes()`.\n",
      "\u001b[36mℹ\u001b[39m See also `vignette(\"ggplot2-in-packages\")` for more information.\"\n",
      "Warning message:\n",
      "\"\u001b[1m\u001b[22mUsing `size` aesthetic for lines was deprecated in ggplot2 3.4.0.\n",
      "\u001b[36mℹ\u001b[39m Please use `linewidth` instead.\"\n"
     ]
    },
    {
     "data": {
      "image/png": "[encoded data removed]",
      "text/plain": [
       "plot without title"
      ]
     },
     "metadata": {
      "image/png": {
       "height": 420,
       "width": 420
      }
     },
     "output_type": "display_data"
    }
   ],
   "source": [
    "grafica_bonita(\n",
    "  data = prueba_desc,\n",
    "  x = \"year\",\n",
    "  y = \"estimado\",\n",
    "  titulo = \"Porcentaje de viviendas en rezago habitacional\",\n",
    "  ano_base = 2022,\n",
    "  mostrar_etiqueta_ano_base = TRUE,\n",
    "  linea_vertical = 2022,\n",
    "  anios_etiquetas = c(2030, 2035, 2045),\n",
    "  mostrar_intervalo = \"ambos\",\n",
    "  fuente = \"noto\",\n",
    "  etiqueta_x = \"Año\",\n",
    "  etiqueta_y = \"Porcentaje\",\n",
    "  mostrar_leyenda = TRUE,\n",
    "  nombre_observado = \"Observado\",\n",
    "  nombre_estimado_futuro = \"Deseable\",\n",
    "  nombre_intervalo_superior = \"Inercial\",\n",
    "  nombre_intervalo_inferior = \"Transformador\",\n",
    "  titulo_leyenda = \"Escenarios\",\n",
    "  limite_inferior_y = 0\n",
    ")\n",
    "\n",
    "#Salvar grafica\n",
    "ggsave(\n",
    "  filename = \"rezago_p1.png\",\n",
    "  plot = last_plot(),\n",
    "  width = 10,\n",
    "  height = 6,\n",
    "  dpi = 150,\n",
    "  bg= \"white\"\n",
    ")"
   ]
  },
  {
   "cell_type": "code",
   "execution_count": 24,
   "id": "2fbbcc03",
   "metadata": {
    "vscode": {
     "languageId": "r"
    }
   },
   "outputs": [
    {
     "data": {
      "image/png": "[encoded data removed]",
      "text/plain": [
       "plot without title"
      ]
     },
     "metadata": {
      "image/png": {
       "height": 420,
       "width": 420
      }
     },
     "output_type": "display_data"
    }
   ],
   "source": [
    "grafica_cool(\n",
    "  data = prueba_desc,\n",
    "  x = \"year\",\n",
    "  y = \"estimado\",\n",
    "  titulo = \"Porcentaje de viviendas en rezago habitacional\",\n",
    "  ano_base = 2022,\n",
    "  mostrar_etiqueta_ano_base = TRUE,\n",
    "  linea_vertical = 2022,\n",
    "  anios_etiquetas = c(2045),\n",
    "  mostrar_intervalo = \"ambos\",\n",
    "  fuente = \"noto\",\n",
    "  etiqueta_x = \"Año\",\n",
    "  etiqueta_y = \"Porcentaje\",\n",
    "  mostrar_leyenda = TRUE,\n",
    "  nombre_observado = \"Observado\",\n",
    "  nombre_estimado_futuro = \"Deseable\",\n",
    "  nombre_intervalo_superior = \"Inercial\",\n",
    "  nombre_intervalo_inferior = \"Transformador\",\n",
    "  titulo_leyenda = \"Escenarios\",\n",
    "  limite_inferior_y = 0\n",
    ")\n",
    "\n",
    "#Salvar grafica\n",
    "ggsave(\n",
    "  filename = \"rezago_p2.png\",\n",
    "  plot = last_plot(),\n",
    "  width = 10,\n",
    "  height = 6,\n",
    "  dpi = 150, bg=\"white\"\n",
    ")"
   ]
  },
  {
   "cell_type": "code",
   "execution_count": 25,
   "id": "b54a57ac",
   "metadata": {
    "vscode": {
     "languageId": "r"
    }
   },
   "outputs": [
    {
     "data": {
      "image/png": "[encoded data removed]",
      "text/plain": [
       "plot without title"
      ]
     },
     "metadata": {
      "image/png": {
       "height": 420,
       "width": 420
      }
     },
     "output_type": "display_data"
    }
   ],
   "source": [
    "grafica_cool(\n",
    "  data = prueba_desc,\n",
    "  x = \"year\",\n",
    "  y = \"estimado\",\n",
    "  titulo = \"Porcentaje de viviendas en rezago habitacional\",\n",
    "  ano_base = 2022,\n",
    "  mostrar_etiqueta_ano_base = FALSE,\n",
    "  linea_vertical = 2022,\n",
    "  anios_etiquetas = c(),\n",
    "  mostrar_intervalo = \"ambos\",\n",
    "  fuente = \"noto\",\n",
    "  etiqueta_x = \"Año\",\n",
    "  etiqueta_y = \"Porcentaje\",\n",
    "  mostrar_leyenda = TRUE,\n",
    "  nombre_observado = \"Observado\",\n",
    "  nombre_estimado_futuro = \"Deseable\",\n",
    "  nombre_intervalo_superior = \"Inercial\",\n",
    "  nombre_intervalo_inferior = \"Transformador\",\n",
    "  titulo_leyenda = \"Escenarios\",\n",
    "  limite_inferior_y = 0\n",
    ")\n",
    "\n",
    "#Salvar grafica\n",
    "ggsave(\n",
    "  filename = \"rezago_p3.png\",\n",
    "  plot = last_plot(),\n",
    "  width = 10,\n",
    "  height = 6,\n",
    "  dpi = 150, bg=\"white\"\n",
    ")"
   ]
  },
  {
   "cell_type": "markdown",
   "id": "8b4d8035",
   "metadata": {},
   "source": [
    "#### Ascendente"
   ]
  },
  {
   "cell_type": "code",
   "execution_count": 26,
   "id": "42a44570",
   "metadata": {
    "vscode": {
     "languageId": "r"
    }
   },
   "outputs": [],
   "source": [
    "dir.create('data/envipe', showWarnings = FALSE)\n",
    "url_1 <- 'https://www.inegi.org.mx/contenidos/programas/envipe/'\n",
    "url_2 <- '/microdatos/bd_envipe_'\n",
    "years <- c(2020:2024)\n",
    "data_list <- list()"
   ]
  },
  {
   "cell_type": "code",
   "execution_count": 27,
   "id": "8493a118",
   "metadata": {
    "vscode": {
     "languageId": "r"
    }
   },
   "outputs": [
    {
     "name": "stdout",
     "output_type": "stream",
     "text": [
      "[1] \"Archivos descomprimidos para el año 2020\"\n",
      "[1] \"Archivo eliminado: data/envipe/2020_dbf.zip\"\n",
      "[1] \"Archivos descomprimidos para el año 2021\"\n",
      "[1] \"Archivo eliminado: data/envipe/2021_dbf.zip\"\n",
      "[1] \"Archivos descomprimidos para el año 2022\"\n",
      "[1] \"Archivo eliminado: data/envipe/2022_dbf.zip\"\n",
      "[1] \"Archivos descomprimidos para el año 2023\"\n",
      "[1] \"Archivo eliminado: data/envipe/2023_dbf.zip\"\n",
      "[1] \"Archivos descomprimidos para el año 2024\"\n",
      "[1] \"Archivo eliminado: data/envipe/2024_csv.zip\"\n"
     ]
    }
   ],
   "source": [
    "# Ciclo 1: Descarga y descompresión\n",
    "for (i in 1:length(years)) {\n",
    "    if (years[i] %in% c(2024)) {\n",
    "        fin <- '_csv.zip'\n",
    "    } else {\n",
    "        fin <- '_dbf.zip'\n",
    "    }\n",
    "\n",
    "    url <- paste0(url_1, years[i], url_2, years[i], fin)\n",
    "    destfile <- paste0('data/envipe/', years[i], fin)\n",
    "    folder <- paste0('data/envipe/', years[i])\n",
    "\n",
    "    dir.create(folder, showWarnings = FALSE)\n",
    "\n",
    "    tryCatch(\n",
    "        {\n",
    "            options(timeout = 9999999)\n",
    "            download.file(url, destfile, mode = 'wb')\n",
    "        },\n",
    "        error = function(e) {\n",
    "            message('Error en la descarga: ', e)\n",
    "        }\n",
    "    )\n",
    "\n",
    "    unzip_result <- tryCatch(\n",
    "        {\n",
    "            unzip(destfile, exdir = folder)\n",
    "            TRUE\n",
    "        },\n",
    "        error = function(e) {\n",
    "            message('Error en la descompresión: ', e)\n",
    "            FALSE\n",
    "        }\n",
    "    )\n",
    "\n",
    "    if (unzip_result) {\n",
    "        print(paste('Archivos descomprimidos para el año', years[i]))\n",
    "\n",
    "        # Eliminar el archivo ZIP después de la descompresión\n",
    "        tryCatch(\n",
    "            {\n",
    "                file.remove(destfile)\n",
    "                print(paste('Archivo eliminado:', destfile))\n",
    "            },\n",
    "            error = function(e) {\n",
    "                message('Error al eliminar el archivo:', e)\n",
    "            }\n",
    "        )\n",
    "    }\n",
    "}\n"
   ]
  },
  {
   "cell_type": "code",
   "execution_count": 28,
   "id": "d3156ce6",
   "metadata": {
    "vscode": {
     "languageId": "r"
    }
   },
   "outputs": [],
   "source": [
    "estima_inseguridad <- function(year, variable) {\n",
    "\n",
    "# Definir rutas\n",
    "if  (year %in% c(2020:2021)) {\n",
    "    ruta_base <- paste0('data/envipe/',year,'/bd_envipe_', year, '_dbf/')\n",
    "}else {\n",
    "    ruta_base <- paste0('data/envipe/', year, '/')\n",
    "}\n",
    "\n",
    "\n",
    "#Leer datos\n",
    "if (year %in% c(2020:2023)) {\n",
    "    seguridad <- read.dbf(paste0(ruta_base, 'TPer_Vic1.dbf'))\n",
    "\n",
    "} else {\n",
    "    seguridad <- read_csv(paste0(ruta_base, 'TPer_Vic1.csv'))\n",
    "}\n",
    "\n",
    "seguridad<-seguridad%>%\n",
    "    janitor::clean_names()%>%\n",
    "    mutate(fac_ele=as.numeric(fac_ele), sexo=as.numeric(sexo))\n",
    "\n",
    "#Crear diseño muestral\n",
    "dm<-seguridad%>%\n",
    "    as_survey_design(\n",
    "    weights = fac_ele,\n",
    "    ids = upm_dis,\n",
    "    strata = est_dis,\n",
    "    nest = TRUE\n",
    "    )\n",
    "\n",
    "\n",
    "  #Estimar percepción de inseguridad de mujeres en la Ciudad de México\n",
    "    confianza_fgj<-dm %>%\n",
    "    filter(cve_ent == \"09\") %>%\n",
    "filter(ap5_3_06==1)%>%\n",
    "  mutate(confianza=case_when(\n",
    "    ap5_4_06 %in% c(1,2) ~ \"Confiable\",\n",
    "    TRUE ~ \"No confiable\")) %>%\n",
    "  group_by(confianza) %>%\n",
    "  summarise(\n",
    "    pob = survey_total(vartype = \"cv\"),\n",
    "    porcentaje = survey_prop(vartype = \"cv\")\n",
    "  ) %>% mutate(porcentaje = porcentaje * 100)%>%\n",
    "  filter(confianza== \"Confiable\")%>%\n",
    "    mutate(year = year)\n",
    "\n",
    "\n",
    "  #Estimar percepción de inseguridad de mujeres en la Ciudad de México\n",
    "    confianza_policia<-dm %>%\n",
    "    filter(cve_ent == \"09\") %>%\n",
    "filter(ap5_3_03==1)%>%\n",
    "  mutate(confianza=case_when(\n",
    "    ap5_4_03 %in% c(1,2) ~ \"Confiable\",\n",
    "    TRUE ~ \"No confiable\")) %>%\n",
    "  group_by(confianza) %>%\n",
    "  summarise(\n",
    "    pob = survey_total(vartype = \"cv\"),\n",
    "    porcentaje = survey_prop(vartype = \"cv\")\n",
    "  ) %>% mutate(porcentaje = porcentaje * 100)%>%\n",
    "  filter(confianza== \"Confiable\")%>%\n",
    "    mutate(year = year)\n",
    "\n",
    "\n",
    "\n",
    "  # Devolver el resultado basado en la variable\n",
    "  if (variable == \"confianza_fgj\") {\n",
    "    return(confianza_fgj)\n",
    "\n",
    "  } else if (variable == \"confianza_policia\") {\n",
    "    return(confianza_policia)\n",
    "  }\n",
    "\n",
    "else {\n",
    "    stop(\"Variable no reconocida.\")\n",
    "  }\n",
    "\n",
    "}"
   ]
  },
  {
   "cell_type": "code",
   "execution_count": 29,
   "id": "22d9bb5d",
   "metadata": {
    "vscode": {
     "languageId": "r"
    }
   },
   "outputs": [
    {
     "name": "stdout",
     "output_type": "stream",
     "text": [
      "[1] \"Porcentaje de personas de 18 años y más que consideran que la fiscalía es confiable\"\n"
     ]
    },
    {
     "name": "stderr",
     "output_type": "stream",
     "text": [
      "\u001b[1m\u001b[22mNew names:\n",
      "\u001b[36m•\u001b[39m `` -> `...1`\n",
      "\u001b[1mRows: \u001b[22m\u001b[34m89630\u001b[39m \u001b[1mColumns: \u001b[22m\u001b[34m232\u001b[39m\n",
      "\u001b[36m──\u001b[39m \u001b[1mColumn specification\u001b[22m \u001b[36m────────────────────────────────────────────────────────\u001b[39m\n",
      "\u001b[1mDelimiter:\u001b[22m \",\"\n",
      "\u001b[31mchr\u001b[39m  (21): ID_VIV, ID_HOG, ID_PER, UPM, VIV_SEL, HOGAR, RESUL_H, R_SEL, AREA...\n",
      "\u001b[32mdbl\u001b[39m (211): ...1, SEXO, EDAD, AP4_1, AP4_2_01, AP4_2_02, AP4_2_03, AP4_2_04, ...\n",
      "\n",
      "\u001b[36mℹ\u001b[39m Use `spec()` to retrieve the full column specification for this data.\n",
      "\u001b[36mℹ\u001b[39m Specify the column types or set `show_col_types = FALSE` to quiet this message.\n"
     ]
    },
    {
     "data": {
      "text/html": [
       "<table class=\"dataframe\">\n",
       "<caption>A tibble: 4 × 6</caption>\n",
       "<thead>\n",
       "\t<tr><th scope=col>confianza</th><th scope=col>pob</th><th scope=col>pob_cv</th><th scope=col>porcentaje</th><th scope=col>porcentaje_cv</th><th scope=col>year</th></tr>\n",
       "\t<tr><th scope=col>&lt;chr&gt;</th><th scope=col>&lt;dbl&gt;</th><th scope=col>&lt;dbl&gt;</th><th scope=col>&lt;dbl&gt;</th><th scope=col>&lt;dbl&gt;</th><th scope=col>&lt;int&gt;</th></tr>\n",
       "</thead>\n",
       "<tbody>\n",
       "\t<tr><td>Confiable</td><td>1419285</td><td>0.03700267</td><td>38.29989</td><td>0.02906365</td><td>2021</td></tr>\n",
       "\t<tr><td>Confiable</td><td>1332158</td><td>0.03890160</td><td>34.67183</td><td>0.03262677</td><td>2022</td></tr>\n",
       "\t<tr><td>Confiable</td><td>1512065</td><td>0.03589746</td><td>38.63385</td><td>0.02850885</td><td>2023</td></tr>\n",
       "\t<tr><td>Confiable</td><td>1336158</td><td>0.03962655</td><td>38.16130</td><td>0.03159721</td><td>2024</td></tr>\n",
       "</tbody>\n",
       "</table>\n"
      ],
      "text/latex": [
       "A tibble: 4 × 6\n",
       "\\begin{tabular}{llllll}\n",
       " confianza & pob & pob\\_cv & porcentaje & porcentaje\\_cv & year\\\\\n",
       " <chr> & <dbl> & <dbl> & <dbl> & <dbl> & <int>\\\\\n",
       "\\hline\n",
       "\t Confiable & 1419285 & 0.03700267 & 38.29989 & 0.02906365 & 2021\\\\\n",
       "\t Confiable & 1332158 & 0.03890160 & 34.67183 & 0.03262677 & 2022\\\\\n",
       "\t Confiable & 1512065 & 0.03589746 & 38.63385 & 0.02850885 & 2023\\\\\n",
       "\t Confiable & 1336158 & 0.03962655 & 38.16130 & 0.03159721 & 2024\\\\\n",
       "\\end{tabular}\n"
      ],
      "text/markdown": [
       "\n",
       "A tibble: 4 × 6\n",
       "\n",
       "| confianza &lt;chr&gt; | pob &lt;dbl&gt; | pob_cv &lt;dbl&gt; | porcentaje &lt;dbl&gt; | porcentaje_cv &lt;dbl&gt; | year &lt;int&gt; |\n",
       "|---|---|---|---|---|---|\n",
       "| Confiable | 1419285 | 0.03700267 | 38.29989 | 0.02906365 | 2021 |\n",
       "| Confiable | 1332158 | 0.03890160 | 34.67183 | 0.03262677 | 2022 |\n",
       "| Confiable | 1512065 | 0.03589746 | 38.63385 | 0.02850885 | 2023 |\n",
       "| Confiable | 1336158 | 0.03962655 | 38.16130 | 0.03159721 | 2024 |\n",
       "\n"
      ],
      "text/plain": [
       "  confianza pob     pob_cv     porcentaje porcentaje_cv year\n",
       "1 Confiable 1419285 0.03700267 38.29989   0.02906365    2021\n",
       "2 Confiable 1332158 0.03890160 34.67183   0.03262677    2022\n",
       "3 Confiable 1512065 0.03589746 38.63385   0.02850885    2023\n",
       "4 Confiable 1336158 0.03962655 38.16130   0.03159721    2024"
      ]
     },
     "metadata": {},
     "output_type": "display_data"
    }
   ],
   "source": [
    "print(\"Porcentaje de personas de 18 años y más que consideran que la fiscalía es confiable\")\n",
    "tabla_confianza_fgj<-map_dfr(2021:2024, function(year) {\n",
    "    estima_inseguridad(year, variable = \"confianza_fgj\")\n",
    "    })\n",
    "tabla_confianza_fgj"
   ]
  },
  {
   "cell_type": "code",
   "execution_count": 30,
   "id": "a99c4041",
   "metadata": {
    "vscode": {
     "languageId": "r"
    }
   },
   "outputs": [
    {
     "data": {
      "text/html": [
       "0.00435034704957449"
      ],
      "text/latex": [
       "0.00435034704957449"
      ],
      "text/markdown": [
       "0.00435034704957449"
      ],
      "text/plain": [
       "[1] 0.004350347"
      ]
     },
     "metadata": {},
     "output_type": "display_data"
    }
   ],
   "source": [
    "tcma_confianza_fgj<-((tabla_confianza_fgj$porcentaje[tabla_confianza_fgj$year==2023]/tabla_confianza_fgj$porcentaje[tabla_confianza_fgj$year==2021])^(1/(2023-2021))-1)\n",
    "tcma_confianza_fgj"
   ]
  },
  {
   "cell_type": "code",
   "execution_count": 31,
   "id": "fc335f0d",
   "metadata": {
    "vscode": {
     "languageId": "r"
    }
   },
   "outputs": [
    {
     "data": {
      "text/html": [
       "1.1960709212636"
      ],
      "text/latex": [
       "1.1960709212636"
      ],
      "text/markdown": [
       "1.1960709212636"
      ],
      "text/plain": [
       "[1] 1.196071"
      ]
     },
     "metadata": {},
     "output_type": "display_data"
    },
    {
     "data": {
      "text/html": [
       "<table class=\"dataframe\">\n",
       "<caption>A data.frame: 21 × 2</caption>\n",
       "<thead>\n",
       "\t<tr><th scope=col>year</th><th scope=col>porcentaje</th></tr>\n",
       "\t<tr><th scope=col>&lt;int&gt;</th><th scope=col>&lt;dbl&gt;</th></tr>\n",
       "</thead>\n",
       "<tbody>\n",
       "\t<tr><td>2025</td><td>38.33</td></tr>\n",
       "\t<tr><td>2026</td><td>38.49</td></tr>\n",
       "\t<tr><td>2027</td><td>38.66</td></tr>\n",
       "\t<tr><td>2028</td><td>38.83</td></tr>\n",
       "\t<tr><td>2029</td><td>39.00</td></tr>\n",
       "\t<tr><td>2030</td><td>39.17</td></tr>\n",
       "\t<tr><td>2031</td><td>39.34</td></tr>\n",
       "\t<tr><td>2032</td><td>39.51</td></tr>\n",
       "\t<tr><td>2033</td><td>39.68</td></tr>\n",
       "\t<tr><td>2034</td><td>39.85</td></tr>\n",
       "\t<tr><td>2035</td><td>40.03</td></tr>\n",
       "\t<tr><td>2036</td><td>40.20</td></tr>\n",
       "\t<tr><td>2037</td><td>40.38</td></tr>\n",
       "\t<tr><td>2038</td><td>40.55</td></tr>\n",
       "\t<tr><td>2039</td><td>40.73</td></tr>\n",
       "\t<tr><td>2040</td><td>40.91</td></tr>\n",
       "\t<tr><td>2041</td><td>41.08</td></tr>\n",
       "\t<tr><td>2042</td><td>41.26</td></tr>\n",
       "\t<tr><td>2043</td><td>41.44</td></tr>\n",
       "\t<tr><td>2044</td><td>49.78</td></tr>\n",
       "\t<tr><td>2045</td><td>50.00</td></tr>\n",
       "</tbody>\n",
       "</table>\n"
      ],
      "text/latex": [
       "A data.frame: 21 × 2\n",
       "\\begin{tabular}{ll}\n",
       " year & porcentaje\\\\\n",
       " <int> & <dbl>\\\\\n",
       "\\hline\n",
       "\t 2025 & 38.33\\\\\n",
       "\t 2026 & 38.49\\\\\n",
       "\t 2027 & 38.66\\\\\n",
       "\t 2028 & 38.83\\\\\n",
       "\t 2029 & 39.00\\\\\n",
       "\t 2030 & 39.17\\\\\n",
       "\t 2031 & 39.34\\\\\n",
       "\t 2032 & 39.51\\\\\n",
       "\t 2033 & 39.68\\\\\n",
       "\t 2034 & 39.85\\\\\n",
       "\t 2035 & 40.03\\\\\n",
       "\t 2036 & 40.20\\\\\n",
       "\t 2037 & 40.38\\\\\n",
       "\t 2038 & 40.55\\\\\n",
       "\t 2039 & 40.73\\\\\n",
       "\t 2040 & 40.91\\\\\n",
       "\t 2041 & 41.08\\\\\n",
       "\t 2042 & 41.26\\\\\n",
       "\t 2043 & 41.44\\\\\n",
       "\t 2044 & 49.78\\\\\n",
       "\t 2045 & 50.00\\\\\n",
       "\\end{tabular}\n"
      ],
      "text/markdown": [
       "\n",
       "A data.frame: 21 × 2\n",
       "\n",
       "| year &lt;int&gt; | porcentaje &lt;dbl&gt; |\n",
       "|---|---|\n",
       "| 2025 | 38.33 |\n",
       "| 2026 | 38.49 |\n",
       "| 2027 | 38.66 |\n",
       "| 2028 | 38.83 |\n",
       "| 2029 | 39.00 |\n",
       "| 2030 | 39.17 |\n",
       "| 2031 | 39.34 |\n",
       "| 2032 | 39.51 |\n",
       "| 2033 | 39.68 |\n",
       "| 2034 | 39.85 |\n",
       "| 2035 | 40.03 |\n",
       "| 2036 | 40.20 |\n",
       "| 2037 | 40.38 |\n",
       "| 2038 | 40.55 |\n",
       "| 2039 | 40.73 |\n",
       "| 2040 | 40.91 |\n",
       "| 2041 | 41.08 |\n",
       "| 2042 | 41.26 |\n",
       "| 2043 | 41.44 |\n",
       "| 2044 | 49.78 |\n",
       "| 2045 | 50.00 |\n",
       "\n"
      ],
      "text/plain": [
       "   year porcentaje\n",
       "1  2025 38.33     \n",
       "2  2026 38.49     \n",
       "3  2027 38.66     \n",
       "4  2028 38.83     \n",
       "5  2029 39.00     \n",
       "6  2030 39.17     \n",
       "7  2031 39.34     \n",
       "8  2032 39.51     \n",
       "9  2033 39.68     \n",
       "10 2034 39.85     \n",
       "11 2035 40.03     \n",
       "12 2036 40.20     \n",
       "13 2037 40.38     \n",
       "14 2038 40.55     \n",
       "15 2039 40.73     \n",
       "16 2040 40.91     \n",
       "17 2041 41.08     \n",
       "18 2042 41.26     \n",
       "19 2043 41.44     \n",
       "20 2044 49.78     \n",
       "21 2045 50.00     "
      ]
     },
     "metadata": {},
     "output_type": "display_data"
    }
   ],
   "source": [
    "extendido_confianza_fgj<-data.frame(year=2025:2045)\n",
    "\n",
    "extendido_confianza_fgj$porcentaje<-tabla_confianza_fgj$porcentaje[tabla_confianza_fgj$year==2024]*cumprod(rep(1+tcma_confianza_fgj,length(2025:2045)))\n",
    "# Paso 2: Calcular el porcentaje en 2045 según el modelo actual\n",
    "porcentaje_2045 <- extendido_confianza_fgj$porcentaje[extendido_confianza_fgj$year == 2045]\n",
    "\n",
    "# Paso 3: Calcular el factor de ajuste\n",
    "factor_ajuste <- 50 / porcentaje_2045\n",
    "factor_ajuste\n",
    "# Paso 4: Aplicar el factor de ajuste solo a los últimos dos años de la serie\n",
    "extendido_confianza_fgj$porcentaje[extendido_confianza_fgj$year >= 2044] <-\n",
    "    extendido_confianza_fgj$porcentaje[extendido_confianza_fgj$year >= 2044] * factor_ajuste\n",
    "\n",
    "# Redondear los resultados\n",
    "extendido_confianza_fgj %>%\n",
    "    mutate(porcentaje = round(porcentaje, 2))"
   ]
  },
  {
   "cell_type": "code",
   "execution_count": 32,
   "id": "015e418b",
   "metadata": {
    "vscode": {
     "languageId": "r"
    }
   },
   "outputs": [
    {
     "data": {
      "text/html": [
       "<table class=\"dataframe\">\n",
       "<caption>A tibble: 25 × 4</caption>\n",
       "<thead>\n",
       "\t<tr><th scope=col>year</th><th scope=col>estimado</th><th scope=col>superior</th><th scope=col>inferior</th></tr>\n",
       "\t<tr><th scope=col>&lt;dbl&gt;</th><th scope=col>&lt;dbl&gt;</th><th scope=col>&lt;dbl&gt;</th><th scope=col>&lt;dbl&gt;</th></tr>\n",
       "</thead>\n",
       "<tbody>\n",
       "\t<tr><td>2021</td><td>38.29989</td><td>38.29989</td><td>38.29989</td></tr>\n",
       "\t<tr><td>2022</td><td>34.67183</td><td>34.67183</td><td>34.67183</td></tr>\n",
       "\t<tr><td>2023</td><td>38.63385</td><td>38.63385</td><td>38.63385</td></tr>\n",
       "\t<tr><td>2024</td><td>38.16130</td><td>38.16130</td><td>38.16130</td></tr>\n",
       "\t<tr><td>2025</td><td>38.32731</td><td>38.71059</td><td>37.94784</td></tr>\n",
       "\t<tr><td>2026</td><td>38.49405</td><td>39.26778</td><td>37.73557</td></tr>\n",
       "\t<tr><td>2027</td><td>38.66151</td><td>39.83300</td><td>37.52448</td></tr>\n",
       "\t<tr><td>2028</td><td>38.82971</td><td>40.40635</td><td>37.31458</td></tr>\n",
       "\t<tr><td>2029</td><td>38.99863</td><td>40.98795</td><td>37.10586</td></tr>\n",
       "\t<tr><td>2030</td><td>39.16829</td><td>41.57792</td><td>36.89830</td></tr>\n",
       "\t<tr><td>2031</td><td>39.33868</td><td>42.17639</td><td>36.69190</td></tr>\n",
       "\t<tr><td>2032</td><td>39.50982</td><td>42.78347</td><td>36.48665</td></tr>\n",
       "\t<tr><td>2033</td><td>39.68170</td><td>43.39929</td><td>36.28256</td></tr>\n",
       "\t<tr><td>2034</td><td>39.85433</td><td>44.02397</td><td>36.07960</td></tr>\n",
       "\t<tr><td>2035</td><td>40.02771</td><td>44.65765</td><td>35.87778</td></tr>\n",
       "\t<tr><td>2036</td><td>40.20184</td><td>45.30044</td><td>35.67709</td></tr>\n",
       "\t<tr><td>2037</td><td>40.37674</td><td>45.95249</td><td>35.47753</td></tr>\n",
       "\t<tr><td>2038</td><td>40.55239</td><td>46.61392</td><td>35.27908</td></tr>\n",
       "\t<tr><td>2039</td><td>40.72881</td><td>47.28488</td><td>35.08173</td></tr>\n",
       "\t<tr><td>2040</td><td>40.90599</td><td>47.96549</td><td>34.88550</td></tr>\n",
       "\t<tr><td>2041</td><td>41.08394</td><td>48.65590</td><td>34.69036</td></tr>\n",
       "\t<tr><td>2042</td><td>41.26267</td><td>49.35624</td><td>34.49631</td></tr>\n",
       "\t<tr><td>2043</td><td>41.44218</td><td>50.06667</td><td>34.30335</td></tr>\n",
       "\t<tr><td>2044</td><td>49.78342</td><td>60.74524</td><td>40.79973</td></tr>\n",
       "\t<tr><td>2045</td><td>50.00000</td><td>61.61960</td><td>40.57151</td></tr>\n",
       "</tbody>\n",
       "</table>\n"
      ],
      "text/latex": [
       "A tibble: 25 × 4\n",
       "\\begin{tabular}{llll}\n",
       " year & estimado & superior & inferior\\\\\n",
       " <dbl> & <dbl> & <dbl> & <dbl>\\\\\n",
       "\\hline\n",
       "\t 2021 & 38.29989 & 38.29989 & 38.29989\\\\\n",
       "\t 2022 & 34.67183 & 34.67183 & 34.67183\\\\\n",
       "\t 2023 & 38.63385 & 38.63385 & 38.63385\\\\\n",
       "\t 2024 & 38.16130 & 38.16130 & 38.16130\\\\\n",
       "\t 2025 & 38.32731 & 38.71059 & 37.94784\\\\\n",
       "\t 2026 & 38.49405 & 39.26778 & 37.73557\\\\\n",
       "\t 2027 & 38.66151 & 39.83300 & 37.52448\\\\\n",
       "\t 2028 & 38.82971 & 40.40635 & 37.31458\\\\\n",
       "\t 2029 & 38.99863 & 40.98795 & 37.10586\\\\\n",
       "\t 2030 & 39.16829 & 41.57792 & 36.89830\\\\\n",
       "\t 2031 & 39.33868 & 42.17639 & 36.69190\\\\\n",
       "\t 2032 & 39.50982 & 42.78347 & 36.48665\\\\\n",
       "\t 2033 & 39.68170 & 43.39929 & 36.28256\\\\\n",
       "\t 2034 & 39.85433 & 44.02397 & 36.07960\\\\\n",
       "\t 2035 & 40.02771 & 44.65765 & 35.87778\\\\\n",
       "\t 2036 & 40.20184 & 45.30044 & 35.67709\\\\\n",
       "\t 2037 & 40.37674 & 45.95249 & 35.47753\\\\\n",
       "\t 2038 & 40.55239 & 46.61392 & 35.27908\\\\\n",
       "\t 2039 & 40.72881 & 47.28488 & 35.08173\\\\\n",
       "\t 2040 & 40.90599 & 47.96549 & 34.88550\\\\\n",
       "\t 2041 & 41.08394 & 48.65590 & 34.69036\\\\\n",
       "\t 2042 & 41.26267 & 49.35624 & 34.49631\\\\\n",
       "\t 2043 & 41.44218 & 50.06667 & 34.30335\\\\\n",
       "\t 2044 & 49.78342 & 60.74524 & 40.79973\\\\\n",
       "\t 2045 & 50.00000 & 61.61960 & 40.57151\\\\\n",
       "\\end{tabular}\n"
      ],
      "text/markdown": [
       "\n",
       "A tibble: 25 × 4\n",
       "\n",
       "| year &lt;dbl&gt; | estimado &lt;dbl&gt; | superior &lt;dbl&gt; | inferior &lt;dbl&gt; |\n",
       "|---|---|---|---|\n",
       "| 2021 | 38.29989 | 38.29989 | 38.29989 |\n",
       "| 2022 | 34.67183 | 34.67183 | 34.67183 |\n",
       "| 2023 | 38.63385 | 38.63385 | 38.63385 |\n",
       "| 2024 | 38.16130 | 38.16130 | 38.16130 |\n",
       "| 2025 | 38.32731 | 38.71059 | 37.94784 |\n",
       "| 2026 | 38.49405 | 39.26778 | 37.73557 |\n",
       "| 2027 | 38.66151 | 39.83300 | 37.52448 |\n",
       "| 2028 | 38.82971 | 40.40635 | 37.31458 |\n",
       "| 2029 | 38.99863 | 40.98795 | 37.10586 |\n",
       "| 2030 | 39.16829 | 41.57792 | 36.89830 |\n",
       "| 2031 | 39.33868 | 42.17639 | 36.69190 |\n",
       "| 2032 | 39.50982 | 42.78347 | 36.48665 |\n",
       "| 2033 | 39.68170 | 43.39929 | 36.28256 |\n",
       "| 2034 | 39.85433 | 44.02397 | 36.07960 |\n",
       "| 2035 | 40.02771 | 44.65765 | 35.87778 |\n",
       "| 2036 | 40.20184 | 45.30044 | 35.67709 |\n",
       "| 2037 | 40.37674 | 45.95249 | 35.47753 |\n",
       "| 2038 | 40.55239 | 46.61392 | 35.27908 |\n",
       "| 2039 | 40.72881 | 47.28488 | 35.08173 |\n",
       "| 2040 | 40.90599 | 47.96549 | 34.88550 |\n",
       "| 2041 | 41.08394 | 48.65590 | 34.69036 |\n",
       "| 2042 | 41.26267 | 49.35624 | 34.49631 |\n",
       "| 2043 | 41.44218 | 50.06667 | 34.30335 |\n",
       "| 2044 | 49.78342 | 60.74524 | 40.79973 |\n",
       "| 2045 | 50.00000 | 61.61960 | 40.57151 |\n",
       "\n"
      ],
      "text/plain": [
       "   year estimado superior inferior\n",
       "1  2021 38.29989 38.29989 38.29989\n",
       "2  2022 34.67183 34.67183 34.67183\n",
       "3  2023 38.63385 38.63385 38.63385\n",
       "4  2024 38.16130 38.16130 38.16130\n",
       "5  2025 38.32731 38.71059 37.94784\n",
       "6  2026 38.49405 39.26778 37.73557\n",
       "7  2027 38.66151 39.83300 37.52448\n",
       "8  2028 38.82971 40.40635 37.31458\n",
       "9  2029 38.99863 40.98795 37.10586\n",
       "10 2030 39.16829 41.57792 36.89830\n",
       "11 2031 39.33868 42.17639 36.69190\n",
       "12 2032 39.50982 42.78347 36.48665\n",
       "13 2033 39.68170 43.39929 36.28256\n",
       "14 2034 39.85433 44.02397 36.07960\n",
       "15 2035 40.02771 44.65765 35.87778\n",
       "16 2036 40.20184 45.30044 35.67709\n",
       "17 2037 40.37674 45.95249 35.47753\n",
       "18 2038 40.55239 46.61392 35.27908\n",
       "19 2039 40.72881 47.28488 35.08173\n",
       "20 2040 40.90599 47.96549 34.88550\n",
       "21 2041 41.08394 48.65590 34.69036\n",
       "22 2042 41.26267 49.35624 34.49631\n",
       "23 2043 41.44218 50.06667 34.30335\n",
       "24 2044 49.78342 60.74524 40.79973\n",
       "25 2045 50.00000 61.61960 40.57151"
      ]
     },
     "metadata": {},
     "output_type": "display_data"
    }
   ],
   "source": [
    "prueba_asc<-tabla_confianza_fgj%>%\n",
    "select(year, porcentaje)%>%\n",
    "intervals(\"porcentaje\", margen = 0, año_base = 2024)\n",
    "\n",
    "extendido_confianza_fgj_int<-extendido_confianza_fgj%>%\n",
    "intervals(\"porcentaje\", margen = 0.01, año_base = 2024)\n",
    "\n",
    "prueba_asc<-prueba_asc%>%\n",
    "bind_rows(extendido_confianza_fgj_int)\n",
    "prueba_asc"
   ]
  },
  {
   "cell_type": "code",
   "execution_count": 33,
   "id": "532948fa",
   "metadata": {
    "vscode": {
     "languageId": "r"
    }
   },
   "outputs": [
    {
     "data": {
      "image/png": "[encoded data removed]",
      "text/plain": [
       "plot without title"
      ]
     },
     "metadata": {
      "image/png": {
       "height": 420,
       "width": 420
      }
     },
     "output_type": "display_data"
    }
   ],
   "source": [
    "grafica_cool(\n",
    "  data = prueba_asc,\n",
    "  x = \"year\",\n",
    "  y = \"estimado\",\n",
    "  titulo = \"Porcentaje de población de 18 años y más\n",
    "que confía en la fiscalía\",\n",
    "  ano_base = 2024,\n",
    "  mostrar_etiqueta_ano_base = TRUE,\n",
    "  linea_vertical = 2024,\n",
    "  anios_etiquetas = c(2030, 2035, 2045),\n",
    "  mostrar_intervalo = \"ambos\",\n",
    "  fuente = \"noto\",\n",
    "  etiqueta_x = \"Año\",\n",
    "  etiqueta_y = \"Porcentaje\",\n",
    "  mostrar_leyenda = TRUE,\n",
    "  nombre_observado = \"Observado\",\n",
    "  nombre_estimado_futuro = \"Deseable\",\n",
    "  nombre_intervalo_superior = \"Transformador\",\n",
    "  nombre_intervalo_inferior = \"Inercial\",\n",
    "  titulo_leyenda = \"Escenarios\",\n",
    "  limite_inferior_y = 0\n",
    ")\n",
    "\n",
    "#Salvar grafica\n",
    "ggsave(\n",
    "  filename = \"confianza_fgj_p1.png\",\n",
    "  plot = last_plot(),\n",
    "  width = 10,\n",
    "  height = 6,\n",
    "  dpi = 185, bg=\"white\"\n",
    ")"
   ]
  },
  {
   "cell_type": "code",
   "execution_count": 34,
   "id": "d2dee4bb",
   "metadata": {
    "vscode": {
     "languageId": "r"
    }
   },
   "outputs": [
    {
     "data": {
      "image/png": "[encoded data removed]",
      "text/plain": [
       "plot without title"
      ]
     },
     "metadata": {
      "image/png": {
       "height": 420,
       "width": 420
      }
     },
     "output_type": "display_data"
    }
   ],
   "source": [
    "grafica_cool(\n",
    "  data = prueba_asc,\n",
    "  x = \"year\",\n",
    "  y = \"estimado\",\n",
    "  titulo = \"Porcentaje de población de 18 años y más\n",
    "que confía en la fiscalía\",\n",
    "  ano_base = 2024,\n",
    "  mostrar_etiqueta_ano_base = TRUE,\n",
    "  linea_vertical = 2024,\n",
    "  anios_etiquetas = c(2045),\n",
    "  mostrar_intervalo = \"ambos\",\n",
    "  fuente = \"noto\",\n",
    "  etiqueta_x = \"Año\",\n",
    "  etiqueta_y = \"Porcentaje\",\n",
    "  mostrar_leyenda = TRUE,\n",
    "  nombre_observado = \"Observado\",\n",
    "  nombre_estimado_futuro = \"Deseable\",\n",
    "  nombre_intervalo_superior = \"Transformador\",\n",
    "  nombre_intervalo_inferior = \"Inercial\",\n",
    "  titulo_leyenda = \"Escenarios\",\n",
    "  limite_inferior_y = 0\n",
    ")\n",
    "\n",
    "#Salvar grafica\n",
    "ggsave(\n",
    "  filename = \"confianza_fgj_p2.png\",\n",
    "  plot = last_plot(),\n",
    "  width = 10,\n",
    "  height = 6,\n",
    "  dpi = 185, bg=\"white\"\n",
    ")"
   ]
  },
  {
   "cell_type": "code",
   "execution_count": 35,
   "id": "1b036294",
   "metadata": {
    "vscode": {
     "languageId": "r"
    }
   },
   "outputs": [
    {
     "data": {
      "image/png": "[encoded data removed]",
      "text/plain": [
       "plot without title"
      ]
     },
     "metadata": {
      "image/png": {
       "height": 420,
       "width": 420
      }
     },
     "output_type": "display_data"
    }
   ],
   "source": [
    "grafica_cool(\n",
    "  data = prueba_asc,\n",
    "  x = \"year\",\n",
    "  y = \"estimado\",\n",
    "  titulo = \"Porcentaje de población de 18 años y más\n",
    "que confía en la fiscalía\",\n",
    "  ano_base = 2024,\n",
    "  mostrar_etiqueta_ano_base = FALSE,\n",
    "  linea_vertical = 2024,\n",
    "  anios_etiquetas = c(),\n",
    "  mostrar_intervalo = \"ambos\",\n",
    "  fuente = \"noto\",\n",
    "  etiqueta_x = \"Año\",\n",
    "  etiqueta_y = \"Porcentaje\",\n",
    "  mostrar_leyenda = TRUE,\n",
    "  nombre_observado = \"Observado\",\n",
    "  nombre_estimado_futuro = \"Deseable\",\n",
    "  nombre_intervalo_superior = \"Transformador\",\n",
    "  nombre_intervalo_inferior = \"Inercial\",\n",
    "  titulo_leyenda = \"Escenarios\",\n",
    "  limite_inferior_y = 0\n",
    ")\n",
    "\n",
    "#Salvar grafica\n",
    "ggsave(\n",
    "  filename = \"confianza_fgj_p3.png\",\n",
    "  plot = last_plot(),\n",
    "  width = 10,\n",
    "  height = 6,\n",
    "  dpi = 185, bg=\"white\"\n",
    ")"
   ]
  }
 ],
 "metadata": {
  "colab": {
   "include_colab_link": true,
   "provenance": []
  },
  "kernelspec": {
   "display_name": "R",
   "language": "R",
   "name": "ir"
  },
  "language_info": {
   "codemirror_mode": "r",
   "file_extension": ".r",
   "mimetype": "text/x-r-source",
   "name": "R",
   "pygments_lexer": "r",
   "version": "4.4.1"
  }
 },
 "nbformat": 4,
 "nbformat_minor": 5
}
