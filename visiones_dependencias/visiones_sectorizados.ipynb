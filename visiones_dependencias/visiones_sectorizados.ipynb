{
 "cells": [
  {
   "cell_type": "code",
   "execution_count": 1,
   "id": "b3967171",
   "metadata": {},
   "outputs": [],
   "source": [
    "import pandas as pd\n",
    "import os\n",
    "from google import genai\n",
    "from docx import Document\n",
    "import re"
   ]
  },
  {
   "cell_type": "code",
   "execution_count": 2,
   "id": "abf460be",
   "metadata": {},
   "outputs": [],
   "source": [
    "with open('C:/cred_google_gemini.txt', 'r') as file:\n",
    "    llave = file.read()"
   ]
  },
  {
   "cell_type": "code",
   "execution_count": 3,
   "id": "2b13eb75",
   "metadata": {},
   "outputs": [],
   "source": [
    "def limpiar_texto(x):\n",
    "    if isinstance(x, str):\n",
    "        x = re.sub(r\"A\\\\n\", \"\", x)     # eliminar \"A\\n\"\n",
    "        x = re.sub(r\"\\\\n\", \" \", x)     # reemplazar \"\\n\" por espacio\n",
    "        x = re.sub(r\"\\\\t\", \" \", x)     # reemplazar \"\\t\" por espacio\n",
    "        x = re.sub(r\"•\", \"\", x)        # eliminar viñetas\n",
    "        x = re.sub(r\"\\s+\", \" \", x)  \n",
    "        #Eliminar \"-\"\n",
    "        x= re.sub(r\"-\", \"\", x)\n",
    "        x= re.sub(r\"●\", \"\", x)\n",
    "        return x.strip()\n",
    "    return x"
   ]
  },
  {
   "cell_type": "code",
   "execution_count": 5,
   "id": "e17f4def",
   "metadata": {},
   "outputs": [
    {
     "data": {
      "text/html": [
       "<div>\n",
       "<style scoped>\n",
       "    .dataframe tbody tr th:only-of-type {\n",
       "        vertical-align: middle;\n",
       "    }\n",
       "\n",
       "    .dataframe tbody tr th {\n",
       "        vertical-align: top;\n",
       "    }\n",
       "\n",
       "    .dataframe thead th {\n",
       "        text-align: right;\n",
       "    }\n",
       "</style>\n",
       "<table border=\"1\" class=\"dataframe\">\n",
       "  <thead>\n",
       "    <tr style=\"text-align: right;\">\n",
       "      <th></th>\n",
       "      <th>dependencia</th>\n",
       "      <th>corto_plazo_1</th>\n",
       "      <th>corto_plazo_2</th>\n",
       "      <th>mediano_plazo</th>\n",
       "      <th>largo_plazo</th>\n",
       "      <th>fuente</th>\n",
       "    </tr>\n",
       "  </thead>\n",
       "  <tbody>\n",
       "    <tr>\n",
       "      <th>0</th>\n",
       "      <td>Sectorizados Educación, Ciencia, Tecnología E ...</td>\n",
       "      <td>Establecer las bases de una política pública d...</td>\n",
       "      <td>Establecer a la Ciudad de México como un model...</td>\n",
       "      <td>Construir un sistema deportivo sólido, incluye...</td>\n",
       "      <td>Asegurarcondicionesestructurales,normativasyde...</td>\n",
       "      <td>NaN</td>\n",
       "    </tr>\n",
       "    <tr>\n",
       "      <th>1</th>\n",
       "      <td>Sectorizados Educación, Ciencia, Tecnología E ...</td>\n",
       "      <td>OBJETIVO GENERAL Contribuir en educación de ca...</td>\n",
       "      <td>OBJETIVO GENERAL Contribuir en educación de ca...</td>\n",
       "      <td>OBJETIVO GENERAL Contribuir en educación de ca...</td>\n",
       "      <td>OBJETIVO GENERAL Contribuir en educación de ca...</td>\n",
       "      <td>NaN</td>\n",
       "    </tr>\n",
       "    <tr>\n",
       "      <th>2</th>\n",
       "      <td>Sectorizados Educación, Ciencia, Tecnología E ...</td>\n",
       "      <td>Objetivo general: Garantizar condiciones mínim...</td>\n",
       "      <td>Objetivo general: Construir una base sólida qu...</td>\n",
       "      <td>Objetivo general: Consolidar al IEMS como el m...</td>\n",
       "      <td>Objetivo general: Consolidar un modelo educati...</td>\n",
       "      <td>NaN</td>\n",
       "    </tr>\n",
       "    <tr>\n",
       "      <th>3</th>\n",
       "      <td>Sectorizados Educación, Ciencia, Tecnología E ...</td>\n",
       "      <td>Objetivo general Consolidar las bases académic...</td>\n",
       "      <td>Objetivo general Consolidar un modelo educativ...</td>\n",
       "      <td>Objetivo general Transformar estructuralmente ...</td>\n",
       "      <td>Objetivo general Consolidar un ecosistema educ...</td>\n",
       "      <td>NaN</td>\n",
       "    </tr>\n",
       "    <tr>\n",
       "      <th>4</th>\n",
       "      <td>Sectorizados Educación, Ciencia, Tecnología E ...</td>\n",
       "      <td>Objetivo General: Profesionalizar al servicio ...</td>\n",
       "      <td>Objetivo general Consolidar la profesionalizac...</td>\n",
       "      <td>Objetivo General Transformar estructuralmente ...</td>\n",
       "      <td>Objetivo General Establecer a la Ciudad de Méx...</td>\n",
       "      <td>NaN</td>\n",
       "    </tr>\n",
       "    <tr>\n",
       "      <th>5</th>\n",
       "      <td>Sectorizados Educación, Ciencia, Tecnología E ...</td>\n",
       "      <td>Objetivo general. Para 2027, consolidar plenam...</td>\n",
       "      <td>Objetivo general. Para 2030, garantizar que to...</td>\n",
       "      <td>Objetivo general. Para el año 2040, consolidar...</td>\n",
       "      <td>Objetivo general. Para el año 2050, el Subsist...</td>\n",
       "      <td>NaN</td>\n",
       "    </tr>\n",
       "  </tbody>\n",
       "</table>\n",
       "</div>"
      ],
      "text/plain": [
       "                                         dependencia  \\\n",
       "0  Sectorizados Educación, Ciencia, Tecnología E ...   \n",
       "1  Sectorizados Educación, Ciencia, Tecnología E ...   \n",
       "2  Sectorizados Educación, Ciencia, Tecnología E ...   \n",
       "3  Sectorizados Educación, Ciencia, Tecnología E ...   \n",
       "4  Sectorizados Educación, Ciencia, Tecnología E ...   \n",
       "5  Sectorizados Educación, Ciencia, Tecnología E ...   \n",
       "\n",
       "                                       corto_plazo_1  \\\n",
       "0  Establecer las bases de una política pública d...   \n",
       "1  OBJETIVO GENERAL Contribuir en educación de ca...   \n",
       "2  Objetivo general: Garantizar condiciones mínim...   \n",
       "3  Objetivo general Consolidar las bases académic...   \n",
       "4  Objetivo General: Profesionalizar al servicio ...   \n",
       "5  Objetivo general. Para 2027, consolidar plenam...   \n",
       "\n",
       "                                       corto_plazo_2  \\\n",
       "0  Establecer a la Ciudad de México como un model...   \n",
       "1  OBJETIVO GENERAL Contribuir en educación de ca...   \n",
       "2  Objetivo general: Construir una base sólida qu...   \n",
       "3  Objetivo general Consolidar un modelo educativ...   \n",
       "4  Objetivo general Consolidar la profesionalizac...   \n",
       "5  Objetivo general. Para 2030, garantizar que to...   \n",
       "\n",
       "                                       mediano_plazo  \\\n",
       "0  Construir un sistema deportivo sólido, incluye...   \n",
       "1  OBJETIVO GENERAL Contribuir en educación de ca...   \n",
       "2  Objetivo general: Consolidar al IEMS como el m...   \n",
       "3  Objetivo general Transformar estructuralmente ...   \n",
       "4  Objetivo General Transformar estructuralmente ...   \n",
       "5  Objetivo general. Para el año 2040, consolidar...   \n",
       "\n",
       "                                         largo_plazo  fuente  \n",
       "0  Asegurarcondicionesestructurales,normativasyde...     NaN  \n",
       "1  OBJETIVO GENERAL Contribuir en educación de ca...     NaN  \n",
       "2  Objetivo general: Consolidar un modelo educati...     NaN  \n",
       "3  Objetivo general Consolidar un ecosistema educ...     NaN  \n",
       "4  Objetivo General Establecer a la Ciudad de Méx...     NaN  \n",
       "5  Objetivo general. Para el año 2050, el Subsist...     NaN  "
      ]
     },
     "execution_count": 5,
     "metadata": {},
     "output_type": "execute_result"
    }
   ],
   "source": [
    "##Leer matriz de consolidación\n",
    "matriz=pd.read_excel(\"H:/Mi unidad/cuestionarios/visiones_sectorizados_pgd.xlsx\")\n",
    "matriz.columns=matriz.columns.str.lower()  \n",
    "#Renombrar segunda columna como \"otro\"\n",
    "matriz.rename(columns={matriz.columns[1]: 'otro',\n",
    "                           matriz.columns[2]: 'corto_plazo_1',\n",
    "    matriz.columns[3]: 'corto_plazo_2',\n",
    "    matriz.columns[4]: 'mediano_plazo',\n",
    "    matriz.columns[5]: 'largo_plazo'\n",
    "    \n",
    "    }, inplace=True)\n",
    "matriz['dependencia'] = matriz.apply(\n",
    "    lambda row: row[\"otro\"]\n",
    "    if row['dependencia'] == 'Otro' and pd.notna(row[\"otro\"])\n",
    "    else row['dependencia'],\n",
    "    axis=1\n",
    ")\n",
    "matriz[\"dependencia\"] = matriz[\"dependencia\"].str.title()\n",
    "\n",
    "\n",
    "#Eliminar columna otro\n",
    "del matriz['otro']\n",
    "\n",
    "#Eliminar espacios en blanco en todas las columnas\n",
    "matriz = matriz.map(limpiar_texto)\n",
    "\n",
    "\n",
    "matriz"
   ]
  },
  {
   "cell_type": "code",
   "execution_count": 6,
   "id": "2093716c",
   "metadata": {},
   "outputs": [
    {
     "data": {
      "text/plain": [
       "array(['Sectorizados Educación, Ciencia, Tecnología E Innovación'],\n",
       "      dtype=object)"
      ]
     },
     "execution_count": 6,
     "metadata": {},
     "output_type": "execute_result"
    }
   ],
   "source": [
    "matriz[\"dependencia\"].unique()"
   ]
  },
  {
   "cell_type": "code",
   "execution_count": 7,
   "id": "d4d07857",
   "metadata": {},
   "outputs": [
    {
     "data": {
      "text/html": [
       "<div>\n",
       "<style scoped>\n",
       "    .dataframe tbody tr th:only-of-type {\n",
       "        vertical-align: middle;\n",
       "    }\n",
       "\n",
       "    .dataframe tbody tr th {\n",
       "        vertical-align: top;\n",
       "    }\n",
       "\n",
       "    .dataframe thead th {\n",
       "        text-align: right;\n",
       "    }\n",
       "</style>\n",
       "<table border=\"1\" class=\"dataframe\">\n",
       "  <thead>\n",
       "    <tr style=\"text-align: right;\">\n",
       "      <th></th>\n",
       "      <th>dependencia</th>\n",
       "      <th>plazo</th>\n",
       "      <th>vision</th>\n",
       "    </tr>\n",
       "  </thead>\n",
       "  <tbody>\n",
       "    <tr>\n",
       "      <th>0</th>\n",
       "      <td>Sectorizados Educación, Ciencia, Tecnología E ...</td>\n",
       "      <td>corto_plazo</td>\n",
       "      <td>Establecer las bases de una política pública d...</td>\n",
       "    </tr>\n",
       "    <tr>\n",
       "      <th>1</th>\n",
       "      <td>Sectorizados Educación, Ciencia, Tecnología E ...</td>\n",
       "      <td>largo_plazo</td>\n",
       "      <td>Asegurarcondicionesestructurales,normativasyde...</td>\n",
       "    </tr>\n",
       "    <tr>\n",
       "      <th>2</th>\n",
       "      <td>Sectorizados Educación, Ciencia, Tecnología E ...</td>\n",
       "      <td>mediano_plazo</td>\n",
       "      <td>Construir un sistema deportivo sólido, incluye...</td>\n",
       "    </tr>\n",
       "  </tbody>\n",
       "</table>\n",
       "</div>"
      ],
      "text/plain": [
       "                                         dependencia          plazo  \\\n",
       "0  Sectorizados Educación, Ciencia, Tecnología E ...    corto_plazo   \n",
       "1  Sectorizados Educación, Ciencia, Tecnología E ...    largo_plazo   \n",
       "2  Sectorizados Educación, Ciencia, Tecnología E ...  mediano_plazo   \n",
       "\n",
       "                                              vision  \n",
       "0  Establecer las bases de una política pública d...  \n",
       "1  Asegurarcondicionesestructurales,normativasyde...  \n",
       "2  Construir un sistema deportivo sólido, incluye...  "
      ]
     },
     "execution_count": 7,
     "metadata": {},
     "output_type": "execute_result"
    }
   ],
   "source": [
    "#Pasar a long\n",
    "matriz_long = pd.melt(matriz, id_vars=['dependencia'], \n",
    "                      value_vars=['corto_plazo_1', 'corto_plazo_2', 'mediano_plazo', 'largo_plazo'],\n",
    "                      var_name='plazo', value_name='vision')\n",
    "#Renombrar corto_plazo_1 y corto_plazo_2 como corto_plazo\n",
    "matriz_long['plazo'] = matriz_long['plazo'].replace({'corto_plazo_1': 'corto_plazo',\n",
    "                                                    'corto_plazo_2': 'corto_plazo'})\n",
    "matriz_long = matriz_long.groupby(['dependencia', 'plazo'], as_index=False).agg({\n",
    "    'vision': lambda x: '. '.join(x).strip()\n",
    "})\n",
    "matriz_long"
   ]
  },
  {
   "cell_type": "code",
   "execution_count": 8,
   "id": "3cbc4f3f",
   "metadata": {},
   "outputs": [],
   "source": [
    "# 2) Función que arma el “documento” por grupo\n",
    "def documento_por_grupo(g, salto=\"\\n\\n\"):\n",
    "    corto = salto.join(\n",
    "        f\"Corto plazo: {t.strip()}\"\n",
    "        for t in g.loc[g.plazo.str.contains(\"largo_plazo\", na=False), \"vision\"]\n",
    "    )\n",
    "    mediano  = salto.join(\n",
    "        f\"Objetivo: {t.strip()}\"\n",
    "        for t in g.loc[g.plazo.str.contains(\"largo_plazo\", na=False), \"vision\"]\n",
    "    )\n",
    "    largo  = salto.join(\n",
    "        f\"Estrategia: {t.strip()}\"\n",
    "        for t in g.loc[g.plazo.str.contains(\"largo_plazo\", na=False), \"vision\"]\n",
    "    )\n",
    "    return corto, mediano, largo"
   ]
  },
  {
   "cell_type": "code",
   "execution_count": 15,
   "id": "394ef4d3",
   "metadata": {},
   "outputs": [],
   "source": [
    "# 4. Crear carpeta de salida si no existe\n",
    "if not os.path.exists(\"visiones_dependencias\"):\n",
    "    os.makedirs(\"visiones_dependencias\")"
   ]
  },
  {
   "cell_type": "code",
   "execution_count": 16,
   "id": "2407cad9",
   "metadata": {},
   "outputs": [
    {
     "name": "stdout",
     "output_type": "stream",
     "text": [
      "Se generarán 1 documentos Word\n"
     ]
    },
    {
     "name": "stderr",
     "output_type": "stream",
     "text": [
      "C:\\Users\\claud\\AppData\\Local\\Temp\\ipykernel_26328\\416768345.py:3: DeprecationWarning: DataFrameGroupBy.apply operated on the grouping columns. This behavior is deprecated, and in a future version of pandas the grouping columns will be excluded from the operation. Either pass `include_groups=False` to exclude the groupings or explicitly select the grouping columns after groupby to silence this warning.\n",
      "  .apply(documento_por_grupo)\n"
     ]
    },
    {
     "data": {
      "text/plain": [
       "dependencia\n",
       "Sectorizados Educación, Ciencia, Tecnología E Innovación    (Corto plazo: Asegurarcondicionesestructurales...\n",
       "dtype: object"
      ]
     },
     "execution_count": 16,
     "metadata": {},
     "output_type": "execute_result"
    }
   ],
   "source": [
    "grupos = (\n",
    "    matriz_long.groupby([\"dependencia\"], dropna=False)\n",
    "          .apply(documento_por_grupo)\n",
    ")\n",
    "\n",
    "print(f\"Se generarán {len(grupos)} documentos Word\")\n",
    "grupos"
   ]
  },
  {
   "cell_type": "code",
   "execution_count": 17,
   "id": "11fc3760",
   "metadata": {},
   "outputs": [],
   "source": [
    "client=genai.Client(api_key=llave)"
   ]
  },
  {
   "cell_type": "code",
   "execution_count": 19,
   "id": "01879323",
   "metadata": {},
   "outputs": [
    {
     "name": "stdout",
     "output_type": "stream",
     "text": [
      "✓ Guardado: visiones_dependencias\\Sectorizados_Educación,_Cienci.docx\n"
     ]
    }
   ],
   "source": [
    "for clave, (corto, mediano, largo) in grupos.items():\n",
    "    dependencia = clave\n",
    "\n",
    "    # --- Prompt con prefijos ya incluidos -----------------------------------\n",
    "    prompt = (\n",
    "        \"Redacta un documento sintético de corrido que genere la visión general a futuro utilizando la siguiente información:\\n\\n\"\n",
    "        f\"{corto}\\n\\n{mediano}\\n\\n{largo}\"\n",
    "        \"Dale coherencia. No repitas la información, no uses viñetas ni listas y no inventes información.\\n\"\n",
    "        \"El documento debe señalar a corto plazo (2030), mediano plazo (2040) y largo plazo (2050).\\n\"\n",
    "        \"El documento debe ser de no más de dos cuartillas.\\n\"\n",
    "        \"El documento considera visiones desde el punto de vista del deporte, educación en materia de salud, de educación media superior, educación de funcionarios en la administración pública y de becas para estudiantes. Considera todas\\n\"\n",
    "        \"El documento debe ir de corrido, sin viñetas ni listas, y debe tener coherencia y cohesión.\\n\"\n",
    "    )\n",
    "\n",
    "    resp = client.models.generate_content(\n",
    "        model=\"gemini-2.0-flash\",\n",
    "        contents=[prompt]\n",
    "    )\n",
    "    resumen = resp.candidates[0].content.parts[0].text.strip()\n",
    "\n",
    "\n",
    "    # --- Crear DOCX ----------------------------------------------------------\n",
    "    doc = Document()\n",
    "    doc.add_heading(f\"{dependencia}\", level=1)\n",
    "    #doc.add_paragraph(f\"Eje: {eje}\")\n",
    "    #doc.add_paragraph(f\"Documento fuente: {documento}\")\n",
    "    doc.add_heading(\"Documento\", level=2)\n",
    "    doc.add_paragraph(resumen)\n",
    "\n",
    "    # Guardar\n",
    "    nombre = f\"{dependencia[:30]}.docx\".replace(\" \", \"_\")\n",
    "    #nombre = f\"{linea[:30]}_{tema[:20]}.docx\".replace(\" \", \"_\")\n",
    "    ruta = os.path.join(\"visiones_dependencias\", nombre)\n",
    "    doc.save(ruta)\n",
    "    print(\"✓ Guardado:\", ruta)"
   ]
  }
 ],
 "metadata": {
  "kernelspec": {
   "display_name": "base",
   "language": "python",
   "name": "python3"
  },
  "language_info": {
   "codemirror_mode": {
    "name": "ipython",
    "version": 3
   },
   "file_extension": ".py",
   "mimetype": "text/x-python",
   "name": "python",
   "nbconvert_exporter": "python",
   "pygments_lexer": "ipython3",
   "version": "3.13.2"
  }
 },
 "nbformat": 4,
 "nbformat_minor": 5
}
